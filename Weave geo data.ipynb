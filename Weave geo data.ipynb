{
 "cells": [
  {
   "cell_type": "code",
   "execution_count": 1,
   "id": "8d5be6da",
   "metadata": {},
   "outputs": [],
   "source": [
    "import weave\n",
    "import pandas as pd\n",
    "from weave.ecosystem import wandb\n",
    "weave.use_frontend_devmode()"
   ]
  },
  {
   "cell_type": "code",
   "execution_count": 2,
   "id": "90518a5e",
   "metadata": {
    "scrolled": true
   },
   "outputs": [
    {
     "data": {
      "text/html": [
       "\n",
       "        <iframe\n",
       "            width=\"100%\"\n",
       "            height=\"400px\"\n",
       "            src=\"http://localhost:3000/__frontend/weave_jupyter?fullScreen&expNode=%7B%22nodeType%22%3A%20%22output%22%2C%20%22type%22%3A%20%7B%22type%22%3A%20%22list%22%2C%20%22objectType%22%3A%20%7B%22type%22%3A%20%22typedDict%22%2C%20%22propertyTypes%22%3A%20%7B%22Date%22%3A%20%22string%22%2C%20%22Time%22%3A%20%22string%22%2C%20%22Latitude%22%3A%20%22float%22%2C%20%22Longitude%22%3A%20%22float%22%2C%20%22Type%22%3A%20%22string%22%2C%20%22Depth%22%3A%20%22float%22%2C%20%22Depth%20Error%22%3A%20%22float%22%2C%20%22Depth%20Seismic%20Stations%22%3A%20%22float%22%2C%20%22Magnitude%22%3A%20%22float%22%2C%20%22Magnitude%20Type%22%3A%20%22string%22%2C%20%22Magnitude%20Error%22%3A%20%22float%22%2C%20%22Magnitude%20Seismic%20Stations%22%3A%20%22float%22%2C%20%22Azimuthal%20Gap%22%3A%20%22float%22%2C%20%22Horizontal%20Distance%22%3A%20%22float%22%2C%20%22Horizontal%20Error%22%3A%20%22float%22%2C%20%22Root%20Mean%20Square%22%3A%20%22float%22%2C%20%22ID%22%3A%20%22string%22%2C%20%22Source%22%3A%20%22string%22%2C%20%22Location%20Source%22%3A%20%22string%22%2C%20%22Magnitude%20Source%22%3A%20%22string%22%2C%20%22Status%22%3A%20%22string%22%7D%7D%7D%2C%20%22fromOp%22%3A%20%7B%22name%22%3A%20%22get%22%2C%20%22inputs%22%3A%20%7B%22uri%22%3A%20%7B%22nodeType%22%3A%20%22const%22%2C%20%22type%22%3A%20%22string%22%2C%20%22val%22%3A%20%22local-artifact%3A///tmp/local-artifacts/data/b0a08452cb8ff43ab1102a1db348b603%22%7D%7D%7D%7D\"\n",
       "            frameborder=\"0\"\n",
       "            allowfullscreen\n",
       "            \n",
       "        ></iframe>\n",
       "        "
      ],
      "text/plain": [
       "<IPython.lib.display.IFrame at 0x14735f730>"
      ]
     },
     "metadata": {},
     "output_type": "display_data"
    }
   ],
   "source": [
    "data = pd.read_csv(\"/Users/shawn/code2/weave-internal/database.csv\").to_dict(orient='records')\n",
    "data = data[:1000]\n",
    "weave.show(data)"
   ]
  },
  {
   "cell_type": "code",
   "execution_count": 3,
   "id": "f643bb3f",
   "metadata": {},
   "outputs": [],
   "source": [
    "#wandb.Scatter(data, x_fn=lambda item: item[\"Longitude\"], y_fn=lambda item: item[\"Latitude\"])"
   ]
  },
  {
   "cell_type": "code",
   "execution_count": 4,
   "id": "b94b992b",
   "metadata": {},
   "outputs": [],
   "source": [
    "# wandb.plotly_geo([\n",
    "#     {'lat': 35, 'long': 39, 'color': 0.1},\n",
    "#     {'lat': 19, 'long': 24, 'color': 100}])"
   ]
  },
  {
   "cell_type": "code",
   "execution_count": 5,
   "id": "6b31859b",
   "metadata": {},
   "outputs": [],
   "source": [
    "#wandb.Geo(data)"
   ]
  },
  {
   "cell_type": "code",
   "execution_count": 14,
   "id": "872cb8d0",
   "metadata": {},
   "outputs": [
    {
     "data": {
      "text/html": [
       "\n",
       "        <iframe\n",
       "            width=\"100%\"\n",
       "            height=\"400px\"\n",
       "            src=\"http://localhost:3000/__frontend/weave_jupyter?fullScreen&expNode=%7B%22nodeType%22%3A%20%22output%22%2C%20%22type%22%3A%20%22unknown%22%2C%20%22fromOp%22%3A%20%7B%22name%22%3A%20%22get%22%2C%20%22inputs%22%3A%20%7B%22uri%22%3A%20%7B%22nodeType%22%3A%20%22const%22%2C%20%22type%22%3A%20%22string%22%2C%20%22val%22%3A%20%22local-artifact%3A///tmp/local-artifacts/Group2/3fe2a7b46d3a34bbce81628657859a7c%22%7D%7D%7D%7D\"\n",
       "            frameborder=\"0\"\n",
       "            allowfullscreen\n",
       "            \n",
       "        ></iframe>\n",
       "        "
      ],
      "text/plain": [
       "<IPython.lib.display.IFrame at 0x1476ef160>"
      ]
     },
     "metadata": {},
     "output_type": "display_data"
    }
   ],
   "source": [
    "weave.panels.Group2(\n",
    "    items={\n",
    "        'geo': wandb.Geo(data,\n",
    "          x_fn=lambda item: item['Longitude'],\n",
    "          y_fn=lambda item: item[\"Latitude\"],\n",
    "          color_fn=lambda item: item[\"Magnitude\"]),\n",
    "        'table': lambda geo: weave.panels.LabeledItem(\n",
    "            label='Selected items',\n",
    "            item=weave.panels.Group2(\n",
    "                style=\"height: 400px;\",\n",
    "                preferHorizontal=True,\n",
    "                items={\n",
    "                    'table': geo.selected()\n",
    "                }))\n",
    "    })\n"
   ]
  }
 ],
 "metadata": {
  "kernelspec": {
   "display_name": "Python 3 (ipykernel)",
   "language": "python",
   "name": "python3"
  },
  "language_info": {
   "codemirror_mode": {
    "name": "ipython",
    "version": 3
   },
   "file_extension": ".py",
   "mimetype": "text/x-python",
   "name": "python",
   "nbconvert_exporter": "python",
   "pygments_lexer": "ipython3",
   "version": "3.9.7"
  }
 },
 "nbformat": 4,
 "nbformat_minor": 5
}
