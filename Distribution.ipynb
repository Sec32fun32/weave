{
 "cells": [
  {
   "cell_type": "code",
   "execution_count": 1,
   "id": "726127b0",
   "metadata": {
    "scrolled": true
   },
   "outputs": [],
   "source": [
    "import random\n",
    "import weave\n",
    "weave.use_frontend_devmode()\n",
    "from weave.ecosystem import wandb"
   ]
  },
  {
   "cell_type": "code",
   "execution_count": 2,
   "id": "a9875d92",
   "metadata": {},
   "outputs": [],
   "source": [
    "items = weave.save([\n",
    "    {'name': 'x',\n",
    "     'loss1': [random.gauss(5, 2) for i in range(500)],\n",
    "     'loss2': [random.gauss(5, 2) for i in range(500)],\n",
    "     'str_val': [random.choice(['a', 'b', 'c']) for i in range(500)]},\n",
    "    {'name': 'y',\n",
    "     'loss1': [random.gauss(9, 4) for i in range(500)],\n",
    "     'loss2': [random.gauss(-1, 2) for i in range(500)],\n",
    "     'str_val': [random.choice(['a', 'b', 'c']) for i in range(500)]},\n",
    "    ])"
   ]
  },
  {
   "cell_type": "code",
   "execution_count": 3,
   "id": "85bb55ab",
   "metadata": {},
   "outputs": [
    {
     "data": {
      "text/html": [
       "\n",
       "        <iframe\n",
       "            width=\"100%\"\n",
       "            height=\"400px\"\n",
       "            src=\"http://localhost:3000/__frontend/weave_jupyter?fullScreen&expNode=%7B%22nodeType%22%3A%20%22output%22%2C%20%22type%22%3A%20%22unknown%22%2C%20%22fromOp%22%3A%20%7B%22name%22%3A%20%22get%22%2C%20%22inputs%22%3A%20%7B%22uri%22%3A%20%7B%22nodeType%22%3A%20%22const%22%2C%20%22type%22%3A%20%22string%22%2C%20%22val%22%3A%20%22local-artifact%3A///tmp/local-artifacts/MultiDistribution/9a425df408f05470ae5cc91d856b1f5d%22%7D%7D%7D%7D\"\n",
       "            frameborder=\"0\"\n",
       "            allowfullscreen\n",
       "            \n",
       "        ></iframe>\n",
       "        "
      ],
      "text/plain": [
       "<IPython.lib.display.IFrame at 0x16d2b8c40>"
      ]
     },
     "metadata": {},
     "output_type": "display_data"
    }
   ],
   "source": [
    "wandb.MultiDistribution(items)"
   ]
  },
  {
   "cell_type": "code",
   "execution_count": null,
   "id": "a92bcc0e",
   "metadata": {},
   "outputs": [],
   "source": [
    "# Numeric distribution\n",
    "wandb.MultiDistribution(\n",
    "    items,\n",
    "    value_fn=lambda x: x['loss1'],\n",
    "    bin_size=0.2\n",
    ")"
   ]
  },
  {
   "cell_type": "code",
   "execution_count": null,
   "id": "fb380da9",
   "metadata": {},
   "outputs": [],
   "source": [
    "# String distribution\n",
    "wandb.MultiDistribution(\n",
    "    items,\n",
    "    value_fn=lambda x: x['str_val'],\n",
    ")"
   ]
  },
  {
   "cell_type": "code",
   "execution_count": null,
   "id": "6db75ca1",
   "metadata": {},
   "outputs": [],
   "source": [
    "# Colored numeric distribution\n",
    "wandb.MultiDistribution(\n",
    "    items,\n",
    "    value_fn=lambda x: x['loss1'],\n",
    "    label_fn=lambda x: x['name'],\n",
    "    bin_size=0.2\n",
    ")"
   ]
  },
  {
   "cell_type": "code",
   "execution_count": null,
   "id": "4eee28b9",
   "metadata": {},
   "outputs": [],
   "source": [
    "# Colored string distribution\n",
    "wandb.MultiDistribution(\n",
    "    items,\n",
    "    value_fn=lambda x: x['str_val'],\n",
    "    label_fn=lambda x: x['name'],\n",
    "    bin_size=0.2\n",
    ")"
   ]
  },
  {
   "cell_type": "code",
   "execution_count": null,
   "id": "30ab60fb",
   "metadata": {},
   "outputs": [],
   "source": [
    "# Labeled numeric distribution by nested value\n",
    "wandb.MultiDistribution(\n",
    "    items,\n",
    "    value_fn=lambda x: x['loss1'],\n",
    "    label_fn=lambda x: x['str_val'],\n",
    "    bin_size=0.2\n",
    ")"
   ]
  }
 ],
 "metadata": {
  "kernelspec": {
   "display_name": "Python 3 (ipykernel)",
   "language": "python",
   "name": "python3"
  },
  "language_info": {
   "codemirror_mode": {
    "name": "ipython",
    "version": 3
   },
   "file_extension": ".py",
   "mimetype": "text/x-python",
   "name": "python",
   "nbconvert_exporter": "python",
   "pygments_lexer": "ipython3",
   "version": "3.9.7"
  }
 },
 "nbformat": 4,
 "nbformat_minor": 5
}
