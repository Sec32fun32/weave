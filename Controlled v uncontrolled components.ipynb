{
 "cells": [
  {
   "cell_type": "code",
   "execution_count": null,
   "id": "83fee798",
   "metadata": {},
   "outputs": [],
   "source": [
    "import weave\n",
    "weave.use_frontend_devmode()"
   ]
  },
  {
   "cell_type": "code",
   "execution_count": null,
   "id": "6c85e3b7",
   "metadata": {
    "scrolled": false
   },
   "outputs": [],
   "source": [
    "# Uncontrolled: panel creates its own state slot\n",
    "panel = weave.panels.Group2(\n",
    "    items={\n",
    "        \"my_slider\": weave.panels.Slider2(),\n",
    "        \"val\": lambda my_slider: weave.ops.execute(my_slider.config.value)\n",
    "    })\n",
    "panel"
   ]
  },
  {
   "cell_type": "code",
   "execution_count": null,
   "id": "0dd8dd51",
   "metadata": {
    "scrolled": false
   },
   "outputs": [],
   "source": [
    "# Controlled: state is external to panel\n",
    "\n",
    "# panel = weave.panels.Group2(\n",
    "#     vars={'slider_val': 9},\n",
    "#     items={\n",
    "#         'state_value': lambda slider_val: slider_val,\n",
    "#         'slider': lambda slider_val: weave.panels.Group2(\n",
    "#             items={\n",
    "#                 \"my_slider\": weave.panels.Slider2(config=weave.panels.Slider2Config(slider_val)),\n",
    "#                 \"val\": lambda my_slider: weave.ops.execute(my_slider.config.value),\n",
    "#                 \"my_slider2\": weave.panels.Slider2(config=weave.panels.Slider2Config(slider_val))\n",
    "#             })\n",
    "#     })\n",
    "#panel"
   ]
  }
 ],
 "metadata": {
  "kernelspec": {
   "display_name": "Python 3 (ipykernel)",
   "language": "python",
   "name": "python3"
  },
  "language_info": {
   "codemirror_mode": {
    "name": "ipython",
    "version": 3
   },
   "file_extension": ".py",
   "mimetype": "text/x-python",
   "name": "python",
   "nbconvert_exporter": "python",
   "pygments_lexer": "ipython3",
   "version": "3.9.7"
  }
 },
 "nbformat": 4,
 "nbformat_minor": 5
}
