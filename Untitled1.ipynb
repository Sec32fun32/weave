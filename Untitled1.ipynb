{
 "cells": [
  {
   "cell_type": "code",
   "execution_count": null,
   "id": "d02333ce",
   "metadata": {},
   "outputs": [],
   "source": [
    "import weave"
   ]
  },
  {
   "cell_type": "code",
   "execution_count": null,
   "id": "49b47aae",
   "metadata": {},
   "outputs": [],
   "source": [
    "dataset = weave.save([{'id': '0', 'img': 'x', 'label': 'y'}, {'id': '1', 'img': 'xx', 'label': 'yy'}])"
   ]
  },
  {
   "cell_type": "code",
   "execution_count": null,
   "id": "3265376c",
   "metadata": {},
   "outputs": [],
   "source": [
    "@weave.op()\n",
    "def evaluate(dataset: Dataset, model: Model) -> Evaluation:\n",
    "    for row in dataset.iterrows:\n",
    "        result = pred(row['x'])\n",
    "        preds.append({'dataset_id': row['id'], 'dataset_label': row['label'], 'pred': result})\n",
    "        \n",
    "        \n",
    "# Please find related rows on row 0 of dataset."
   ]
  }
 ],
 "metadata": {
  "kernelspec": {
   "display_name": "Python 3 (ipykernel)",
   "language": "python",
   "name": "python3"
  }
 },
 "nbformat": 4,
 "nbformat_minor": 5
}
