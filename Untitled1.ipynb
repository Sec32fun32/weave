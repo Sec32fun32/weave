{
 "cells": [
  {
   "cell_type": "code",
   "execution_count": null,
   "id": "2512241b",
   "metadata": {},
   "outputs": [],
   "source": [
    "import weave\n",
    "\n",
    "blank = weave.save(\n",
    "    weave.panels.Board(\n",
    "        {}, []\n",
    "    )\n",
    ")\n",
    "blank"
   ]
  }
 ],
 "metadata": {
  "kernelspec": {
   "display_name": "Python 3 (ipykernel)",
   "language": "python",
   "name": "python3"
  }
 },
 "nbformat": 4,
 "nbformat_minor": 5
}
