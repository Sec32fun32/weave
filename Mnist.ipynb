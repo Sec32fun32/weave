{
 "cells": [
  {
   "cell_type": "code",
   "execution_count": 1,
   "id": "37f6d676",
   "metadata": {},
   "outputs": [],
   "source": [
    "import weave\n",
    "from weave import storage\n",
    "#weave.use_frontend_devmode()\n",
    "from weave.ecosystem import mnist, torch_mnist_model_example"
   ]
  },
  {
   "cell_type": "code",
   "execution_count": 2,
   "id": "b450f4df",
   "metadata": {
    "scrolled": false
   },
   "outputs": [
    {
     "data": {
      "text/html": [
       "\n",
       "        <iframe\n",
       "            width=\"100%\"\n",
       "            height=\"400px\"\n",
       "            src=\"http://127.0.0.1:52619/__frontend/weave_jupyter/__frontend/weave_jupyter?fullScreen&expNode=%7B%22nodeType%22%3A%20%22output%22%2C%20%22type%22%3A%20%7B%22type%22%3A%20%22typedDict%22%2C%20%22propertyTypes%22%3A%20%7B%22name%22%3A%20%22string%22%2C%20%22description%22%3A%20%22string%22%2C%20%22data%22%3A%20%7B%22type%22%3A%20%22typedDict%22%2C%20%22propertyTypes%22%3A%20%7B%22train%22%3A%20%7B%22type%22%3A%20%22list%22%2C%20%22objectType%22%3A%20%7B%22type%22%3A%20%22typedDict%22%2C%20%22propertyTypes%22%3A%20%7B%22image%22%3A%20%7B%22type%22%3A%20%22pil-image%22%2C%20%22width%22%3A%205%2C%20%22height%22%3A%205%2C%20%22mode%22%3A%20%22L%22%7D%2C%20%22label%22%3A%20%22int%22%7D%7D%7D%2C%20%22test%22%3A%20%7B%22type%22%3A%20%22list%22%2C%20%22objectType%22%3A%20%7B%22type%22%3A%20%22typedDict%22%2C%20%22propertyTypes%22%3A%20%7B%22image%22%3A%20%7B%22type%22%3A%20%22pil-image%22%2C%20%22width%22%3A%205%2C%20%22height%22%3A%205%2C%20%22mode%22%3A%20%22L%22%7D%2C%20%22label%22%3A%20%22int%22%7D%7D%7D%7D%7D%7D%7D%2C%20%22fromOp%22%3A%20%7B%22name%22%3A%20%22op-mnist%22%2C%20%22inputs%22%3A%20%7B%22limit%22%3A%20%7B%22nodeType%22%3A%20%22const%22%2C%20%22type%22%3A%20%7B%22type%22%3A%20%22const%22%2C%20%22valType%22%3A%20%22int%22%2C%20%22val%22%3A%20100%7D%2C%20%22val%22%3A%20100%7D%7D%7D%7D\"\n",
       "            frameborder=\"0\"\n",
       "            allowfullscreen\n",
       "            \n",
       "        ></iframe>\n",
       "        "
      ],
      "text/plain": [
       "<IPython.lib.display.IFrame at 0x16e621a00>"
      ]
     },
     "metadata": {},
     "output_type": "display_data"
    }
   ],
   "source": [
    "# TODO: Fix WeaveJS to automatically pick the more specific dataset_card Panel\n",
    "mnist_dataset = mnist.mnist(100)  # Or try mnist.food101(100), currently broken\n",
    "mnist_dataset"
   ]
  },
  {
   "cell_type": "code",
   "execution_count": 4,
   "id": "94496406",
   "metadata": {},
   "outputs": [],
   "source": [
    "hyperparams = {\n",
    "    'fc_layer_size': 256,\n",
    "    'dropout': 0.5,\n",
    "    'epochs': 2,\n",
    "    'learning_rate': 0.005,\n",
    "    'batch_size': 128,\n",
    "    'optimizer': 'adam'\n",
    "}\n",
    "train_split = mnist_dataset['data']['train']\n",
    "model = torch_mnist_model_example.train(\n",
    "    train_split.pick('image'), train_split.pick('label'), hyperparams)"
   ]
  },
  {
   "cell_type": "code",
   "execution_count": 5,
   "id": "6bf72608",
   "metadata": {},
   "outputs": [
    {
     "name": "stdout",
     "output_type": "stream",
     "text": [
      "Epoch: 0\n",
      "Epoch: 1\n",
      "Predictions:  tensor([9, 2])\n"
     ]
    }
   ],
   "source": [
    "test_split = mnist_dataset['data']['test']\n",
    "test_img0 = weave.use(test_split[0]['image'])\n",
    "test_img1 = weave.use(test_split[1]['image'])\n",
    "preds = weave.use(model.predict([test_img0, test_img1]))\n",
    "print('Predictions: ', preds)"
   ]
  }
 ],
 "metadata": {
  "kernelspec": {
   "display_name": "Python 3 (ipykernel)",
   "language": "python",
   "name": "python3"
  },
  "language_info": {
   "codemirror_mode": {
    "name": "ipython",
    "version": 3
   },
   "file_extension": ".py",
   "mimetype": "text/x-python",
   "name": "python",
   "nbconvert_exporter": "python",
   "pygments_lexer": "ipython3",
   "version": "3.9.7"
  }
 },
 "nbformat": 4,
 "nbformat_minor": 5
}
