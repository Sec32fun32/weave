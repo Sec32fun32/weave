{
 "cells": [
  {
   "cell_type": "code",
   "execution_count": 1,
   "id": "37f6d676",
   "metadata": {},
   "outputs": [],
   "source": [
    "import weave\n",
    "from weave import storage\n",
    "weave.use_frontend_devmode()\n",
    "from weave.ecosystem import mnist, torch_mnist_model_example"
   ]
  },
  {
   "cell_type": "code",
   "execution_count": 15,
   "id": "b450f4df",
   "metadata": {
    "scrolled": false
   },
   "outputs": [
    {
     "data": {
      "text/html": [
       "\n",
       "        <iframe\n",
       "            width=\"100%\"\n",
       "            height=\"400px\"\n",
       "            src=\"http://localhost:3000/__frontend/weave_jupyter?fullScreen&expNode=%7B%22nodeType%22%3A%20%22output%22%2C%20%22type%22%3A%20%7B%22type%22%3A%20%22typedDict%22%2C%20%22propertyTypes%22%3A%20%7B%22data%22%3A%20%7B%22type%22%3A%20%22typedDict%22%2C%20%22propertyTypes%22%3A%20%7B%22train%22%3A%20%7B%22type%22%3A%20%22list%22%2C%20%22objectType%22%3A%20%7B%22type%22%3A%20%22typedDict%22%2C%20%22propertyTypes%22%3A%20%7B%22image%22%3A%20%7B%22type%22%3A%20%22pil-image%22%2C%20%22width%22%3A%205%2C%20%22height%22%3A%205%2C%20%22mode%22%3A%20%22L%22%7D%2C%20%22label%22%3A%20%22int%22%7D%7D%7D%2C%20%22test%22%3A%20%7B%22type%22%3A%20%22list%22%2C%20%22objectType%22%3A%20%7B%22type%22%3A%20%22typedDict%22%2C%20%22propertyTypes%22%3A%20%7B%22image%22%3A%20%7B%22type%22%3A%20%22pil-image%22%2C%20%22width%22%3A%205%2C%20%22height%22%3A%205%2C%20%22mode%22%3A%20%22L%22%7D%2C%20%22label%22%3A%20%22int%22%7D%7D%7D%7D%7D%2C%20%22description%22%3A%20%22string%22%2C%20%22name%22%3A%20%22string%22%7D%7D%2C%20%22fromOp%22%3A%20%7B%22name%22%3A%20%22op-mnist%22%2C%20%22inputs%22%3A%20%7B%22limit%22%3A%20%7B%22nodeType%22%3A%20%22const%22%2C%20%22type%22%3A%20%7B%22type%22%3A%20%22const%22%2C%20%22valType%22%3A%20%22int%22%2C%20%22val%22%3A%20100%7D%2C%20%22val%22%3A%20100%7D%7D%7D%7D\"\n",
       "            frameborder=\"0\"\n",
       "            allowfullscreen\n",
       "            \n",
       "        ></iframe>\n",
       "        "
      ],
      "text/plain": [
       "<IPython.lib.display.IFrame at 0x14f68afa0>"
      ]
     },
     "metadata": {},
     "output_type": "display_data"
    }
   ],
   "source": [
    "# TODO:\n",
    "#   - should just be able to do mnist.mnist() here. UI should choose\n",
    "#     the mnist_dataset_card panel to render automatically\n",
    "#   - Can't chain mnist_dataset_card, have to call as function\n",
    "mnist_dataset = mnist.mnist(100)\n",
    "#ref = storage.save(mnist_dataset, 'mnist-dataset')\n",
    "#mnist.TorchVisionDatasetCard(mnist_dataset)\n",
    "mnist_dataset"
   ]
  },
  {
   "cell_type": "code",
   "execution_count": 13,
   "id": "27054449",
   "metadata": {},
   "outputs": [
    {
     "data": {
      "text/html": [
       "\n",
       "        <iframe\n",
       "            width=\"100%\"\n",
       "            height=\"400px\"\n",
       "            src=\"http://localhost:3000/__frontend/weave_jupyter?fullScreen&expNode=%7B%22nodeType%22%3A%20%22output%22%2C%20%22type%22%3A%20%7B%22type%22%3A%20%22typedDict%22%2C%20%22propertyTypes%22%3A%20%7B%22data%22%3A%20%7B%22type%22%3A%20%22typedDict%22%2C%20%22propertyTypes%22%3A%20%7B%22train%22%3A%20%7B%22type%22%3A%20%22list%22%2C%20%22objectType%22%3A%20%7B%22type%22%3A%20%22typedDict%22%2C%20%22propertyTypes%22%3A%20%7B%22image%22%3A%20%7B%22type%22%3A%20%22pil-image%22%2C%20%22width%22%3A%205%2C%20%22height%22%3A%205%2C%20%22mode%22%3A%20%22L%22%7D%2C%20%22label%22%3A%20%22int%22%7D%7D%7D%2C%20%22test%22%3A%20%7B%22type%22%3A%20%22list%22%2C%20%22objectType%22%3A%20%7B%22type%22%3A%20%22typedDict%22%2C%20%22propertyTypes%22%3A%20%7B%22image%22%3A%20%7B%22type%22%3A%20%22pil-image%22%2C%20%22width%22%3A%205%2C%20%22height%22%3A%205%2C%20%22mode%22%3A%20%22L%22%7D%2C%20%22label%22%3A%20%22int%22%7D%7D%7D%7D%7D%2C%20%22description%22%3A%20%22string%22%2C%20%22name%22%3A%20%22string%22%7D%7D%2C%20%22fromOp%22%3A%20%7B%22name%22%3A%20%22op-food101%22%2C%20%22inputs%22%3A%20%7B%22limit%22%3A%20%7B%22nodeType%22%3A%20%22const%22%2C%20%22type%22%3A%20%7B%22type%22%3A%20%22const%22%2C%20%22valType%22%3A%20%22int%22%2C%20%22val%22%3A%20100%7D%2C%20%22val%22%3A%20100%7D%7D%7D%7D\"\n",
       "            frameborder=\"0\"\n",
       "            allowfullscreen\n",
       "            \n",
       "        ></iframe>\n",
       "        "
      ],
      "text/plain": [
       "<IPython.lib.display.IFrame at 0x14f69be20>"
      ]
     },
     "metadata": {},
     "output_type": "display_data"
    }
   ],
   "source": [
    "food101_dataset = mnist.food101(100)\n",
    "food101_dataset"
   ]
  },
  {
   "cell_type": "code",
   "execution_count": null,
   "id": "74913724",
   "metadata": {},
   "outputs": [],
   "source": [
    "print(weave.use(mnist_dataset))"
   ]
  },
  {
   "cell_type": "code",
   "execution_count": null,
   "id": "89a30ba3",
   "metadata": {},
   "outputs": [],
   "source": [
    "model = torch_mnist_model_example.train(mnist_dataset, {\n",
    "    'fc_layer_size': 256,\n",
    "    'dropout': 0.5,\n",
    "    'epochs': 2,\n",
    "    'learning_rate': 0.005,\n",
    "    'batch_size': 128,\n",
    "    'optimizer': 'adam'\n",
    "})"
   ]
  },
  {
   "cell_type": "code",
   "execution_count": null,
   "id": "239aa5c5",
   "metadata": {},
   "outputs": [],
   "source": [
    "print(weave.use(model))"
   ]
  },
  {
   "cell_type": "code",
   "execution_count": null,
   "id": "fd556f23",
   "metadata": {},
   "outputs": [],
   "source": [
    "import numpy as np\n",
    "test_img0 = weave.use(mnist_dataset.get_data().get_test()[0])\n",
    "test_img1 = weave.use(mnist_dataset.get_data().get_test()[1])\n",
    "\n",
    "#im = weave.use(test_img0)\n",
    "#print(test_img0)\n",
    "preds = weave.use(model.predict([test_img0, test_img1]))"
   ]
  },
  {
   "cell_type": "code",
   "execution_count": null,
   "id": "05345fa7",
   "metadata": {},
   "outputs": [],
   "source": [
    "print('PREDS', preds)"
   ]
  },
  {
   "cell_type": "code",
   "execution_count": null,
   "id": "acd41d47",
   "metadata": {},
   "outputs": [],
   "source": [
    "from torchvision import datasets\n",
    "ds = datasets.Food101(\".\", split='test', download=True)"
   ]
  },
  {
   "cell_type": "code",
   "execution_count": null,
   "id": "65e53dd8",
   "metadata": {},
   "outputs": [],
   "source": [
    "# This has to automatically construct some variables...\n",
    "\n",
    "@weave.panel()              \n",
    "def dataset_card(dataset: PytorchMnistDataset):\n",
    "    split_names = dataset['data'].keys()  # A node\n",
    "    split_selector = Dropdown(split_names)\n",
    "    return Card(\n",
    "        input_node=dataset,\n",
    "        title=lambda dataset: dataset['name']\n",
    "        content=[\n",
    "            CardTab(\n",
    "                name='data',\n",
    "                content=Container(\n",
    "                    items=[\n",
    "                        LabeledItem(split_selector, label='split'),\n",
    "                        dataset['data'][split_selector.value]\n",
    "                    ]\n",
    "                )\n",
    "            )\n",
    "        ]\n",
    "    )"
   ]
  }
 ],
 "metadata": {
  "kernelspec": {
   "display_name": "Python 3 (ipykernel)",
   "language": "python",
   "name": "python3"
  },
  "language_info": {
   "codemirror_mode": {
    "name": "ipython",
    "version": 3
   },
   "file_extension": ".py",
   "mimetype": "text/x-python",
   "name": "python",
   "nbconvert_exporter": "python",
   "pygments_lexer": "ipython3",
   "version": "3.9.7"
  }
 },
 "nbformat": 4,
 "nbformat_minor": 5
}
