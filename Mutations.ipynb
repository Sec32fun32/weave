{
 "cells": [
  {
   "cell_type": "code",
   "execution_count": null,
   "id": "9e00938f",
   "metadata": {},
   "outputs": [],
   "source": [
    "import weave"
   ]
  },
  {
   "cell_type": "code",
   "execution_count": null,
   "id": "7db19a70",
   "metadata": {},
   "outputs": [],
   "source": [
    "dataset = weave.save([{'a': 5, 'b': 'x'}, {'a': 7, 'b': 'y'}, {'a': 5, 'b': 'x'}, {'a': 7, 'b': 'y'}], name='dataset:main')\n",
    "dataset\n",
    "# get(\"local-artifact:///dataset:main/obj\")"
   ]
  },
  {
   "cell_type": "code",
   "execution_count": null,
   "id": "b35e98d1",
   "metadata": {},
   "outputs": [],
   "source": [
    "dataset"
   ]
  },
  {
   "cell_type": "code",
   "execution_count": null,
   "id": "05961850",
   "metadata": {},
   "outputs": [],
   "source": [
    "weave.use(weave.ops.ref('local-artifact:///dataset:main/obj').branch_point())"
   ]
  },
  {
   "cell_type": "code",
   "execution_count": null,
   "id": "fae0dd9d",
   "metadata": {},
   "outputs": [],
   "source": [
    "dataset = weave.save([{'x': 0, 'y': 'zzz'}, {'x': 1, 'y': 'aaa'}, {'x': 0, 'y': 'bbb'}, {'x': 4, 'y': 'ccc'}], name='other_dataset:main')\n"
   ]
  },
  {
   "cell_type": "code",
   "execution_count": null,
   "id": "4b6ad477",
   "metadata": {},
   "outputs": [],
   "source": [
    "dataset"
   ]
  },
  {
   "cell_type": "code",
   "execution_count": null,
   "id": "54f17adb",
   "metadata": {},
   "outputs": [],
   "source": [
    "get(\"local-artifact:///dataset:main/obj\")\n",
    "\n",
    "get(\"local-artifact:///other_dataset:main/obj\")\n"
   ]
  }
 ],
 "metadata": {
  "kernelspec": {
   "display_name": "Python 3 (ipykernel)",
   "language": "python",
   "name": "python3"
  }
 },
 "nbformat": 4,
 "nbformat_minor": 5
}
