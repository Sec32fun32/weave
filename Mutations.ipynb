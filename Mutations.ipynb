{
 "cells": [
  {
   "cell_type": "code",
   "execution_count": null,
   "id": "9e00938f",
   "metadata": {},
   "outputs": [],
   "source": [
    "import weave"
   ]
  },
  {
   "cell_type": "code",
   "execution_count": null,
   "id": "7db19a70",
   "metadata": {},
   "outputs": [],
   "source": [
    "#dataset = weave.get('local-artifact:///dataset:main/obj')\n",
    "dataset = weave.save([\n",
    "    {'a': 5, 'b': 'x'},\n",
    "    {'a': 7, 'b': 'y'},\n",
    "    {'a': 5, 'b': 'x'},\n",
    "    {'a': 7, 'b': 'y'}], name='dataset:main')"
   ]
  },
  {
   "cell_type": "code",
   "execution_count": null,
   "id": "4e490e18",
   "metadata": {},
   "outputs": [],
   "source": [
    "lut = weave.save(\n",
    "    {'x': 19, 'y': 20}, name='lut:main')"
   ]
  },
  {
   "cell_type": "code",
   "execution_count": null,
   "id": "9d2e77bd",
   "metadata": {},
   "outputs": [],
   "source": [
    "dataset"
   ]
  },
  {
   "cell_type": "code",
   "execution_count": null,
   "id": "575a3a99",
   "metadata": {},
   "outputs": [],
   "source": [
    "import random\n",
    "vals = []\n",
    "for n in range(1, 100):\n",
    "    for i in range(m):\n",
    "    vals.append(dict(\n",
    "        scenario_id=n,\n",
    "        metric1=random.expovariate(n / 33),\n",
    "        metric2=random.gauss(42, n / 100),\n",
    "        metric3=random.triangular(n, 11),\n",
    "        metric4=random.random() * random.random() * n,\n",
    "        metric5=random.random(),\n",
    "        metric6=random.betavariate(0.01, n / 2)))\n",
    "data = weave.save(vals, name='list2:main')\n",
    "print(data)\n",
    "# get(\"local-artifact:///list2:main/obj\")\n",
    "dat"
   ]
  },
  {
   "cell_type": "code",
   "execution_count": null,
   "id": "65afc4eb",
   "metadata": {},
   "outputs": [],
   "source": [
    "import weave\n",
    "from weave.syndata import random_metrics\n",
    "x = random_metrics(10000000, 10)\n",
    "#x._arrow_data\n",
    "\n",
    "dataset = weave.save(x, 'dataset4:main')\n",
    "# get(\"local-artifact:///dataset4:main/obj\")\n",
    "#dataset"
   ]
  },
  {
   "cell_type": "code",
   "execution_count": null,
   "id": "b35e98d1",
   "metadata": {},
   "outputs": [],
   "source": [
    "dataset"
   ]
  },
  {
   "cell_type": "code",
   "execution_count": null,
   "id": "05961850",
   "metadata": {},
   "outputs": [],
   "source": [
    "weave.use(weave.ops.ref('local-artifact:///dataset:main/obj').branch_point())"
   ]
  },
  {
   "cell_type": "code",
   "execution_count": null,
   "id": "fae0dd9d",
   "metadata": {},
   "outputs": [],
   "source": [
    "dataset = weave.save([{'x': 0, 'y': 'zzz'}, {'x': 1, 'y': 'aaa'}, {'x': 0, 'y': 'bbb'}, {'x': 4, 'y': 'ccc'}], name='other_dataset:main')\n"
   ]
  },
  {
   "cell_type": "code",
   "execution_count": null,
   "id": "4b6ad477",
   "metadata": {},
   "outputs": [],
   "source": [
    "dataset"
   ]
  },
  {
   "cell_type": "code",
   "execution_count": null,
   "id": "54f17adb",
   "metadata": {},
   "outputs": [],
   "source": [
    "get(\"local-artifact:///dataset:main/obj\")\n",
    "\n",
    "get(\"local-artifact:///other_dataset:main/obj\")\n"
   ]
  }
 ],
 "metadata": {
  "kernelspec": {
   "display_name": "Python 3 (ipykernel)",
   "language": "python",
   "name": "python3"
  }
 },
 "nbformat": 4,
 "nbformat_minor": 5
}
