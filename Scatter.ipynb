{
 "cells": [
  {
   "cell_type": "code",
   "execution_count": 1,
   "id": "81e1af41",
   "metadata": {},
   "outputs": [],
   "source": [
    "import random\n",
    "import weave\n",
    "from weave.ecosystem import wandb\n",
    "weave.use_frontend_devmode()"
   ]
  },
  {
   "cell_type": "code",
   "execution_count": 2,
   "id": "b6687922",
   "metadata": {},
   "outputs": [],
   "source": [
    "data = weave.save([{\n",
    "    'a': random.gauss(5, 2),\n",
    "    'b': random.gauss(0, 9),\n",
    "    'c': random.gauss(15, 0.9),\n",
    "    'd': random.random(),\n",
    "    'e': random.choice(['a', 'b'])} for i in range(500)])"
   ]
  },
  {
   "cell_type": "code",
   "execution_count": 4,
   "id": "726b9294",
   "metadata": {
    "scrolled": false
   },
   "outputs": [
    {
     "data": {
      "text/html": [
       "\n",
       "        <iframe\n",
       "            width=\"100%\"\n",
       "            height=\"1000px\"\n",
       "            src=\"http://localhost:3000/__frontend/weave_jupyter?fullScreen&expNode=%7B%22nodeType%22%3A%20%22output%22%2C%20%22type%22%3A%20%22unknown%22%2C%20%22fromOp%22%3A%20%7B%22name%22%3A%20%22get%22%2C%20%22inputs%22%3A%20%7B%22uri%22%3A%20%7B%22nodeType%22%3A%20%22const%22%2C%20%22type%22%3A%20%22string%22%2C%20%22val%22%3A%20%22local-artifact%3A///tmp/local-artifacts/Group2/d64301b98471c7201b76f08aed28b33a%22%7D%7D%7D%7D\"\n",
       "            frameborder=\"0\"\n",
       "            allowfullscreen\n",
       "            \n",
       "        ></iframe>\n",
       "        "
      ],
      "text/plain": [
       "<IPython.lib.display.IFrame at 0x15ec6a9d0>"
      ]
     },
     "metadata": {},
     "output_type": "display_data"
    }
   ],
   "source": [
    "panel = weave.panels.Group2(\n",
    "    items={\n",
    "        'scatter': wandb.Scatter(data,\n",
    "                                 x_fn=lambda item: item['a'],\n",
    "                                 y_fn=lambda item: item['b']),\n",
    "        'detail': lambda scatter: weave.panels.Group2(\n",
    "            style=\"height: 400px;\",\n",
    "            preferHorizontal=True,\n",
    "            items={\n",
    "                'a_dist': weave.panels.LabeledItem(\n",
    "                    label='Distribution for metric a in selection',\n",
    "                    item=wandb.MultiDistribution(scatter.selected(),\n",
    "                                                 value_fn=lambda item: item['a'],\n",
    "                                                 label_fn=lambda item: item['e'],\n",
    "                                                 bin_size=0.1)),\n",
    "                'b_dist': weave.panels.LabeledItem(\n",
    "                    label='Distribution for metric b in selection',\n",
    "                    item=wandb.MultiDistribution(scatter.selected(),\n",
    "                                                 value_fn=lambda item: item['b'],\n",
    "                                                 label_fn=lambda item: item['e'],\n",
    "                                                 bin_size=0.1))\n",
    "            }),\n",
    "        'table': lambda scatter: weave.panels.LabeledItem(\n",
    "            label='Selected items',\n",
    "            item=weave.panels.Group2(\n",
    "                style=\"height: 400px;\",\n",
    "                preferHorizontal=True,\n",
    "                items={\n",
    "                    'table': scatter.selected()\n",
    "                }))\n",
    "    }\n",
    ")\n",
    "weave.show(panel, height=1000)"
   ]
  }
 ],
 "metadata": {
  "kernelspec": {
   "display_name": "Python 3 (ipykernel)",
   "language": "python",
   "name": "python3"
  },
  "language_info": {
   "codemirror_mode": {
    "name": "ipython",
    "version": 3
   },
   "file_extension": ".py",
   "mimetype": "text/x-python",
   "name": "python",
   "nbconvert_exporter": "python",
   "pygments_lexer": "ipython3",
   "version": "3.9.7"
  }
 },
 "nbformat": 4,
 "nbformat_minor": 5
}
