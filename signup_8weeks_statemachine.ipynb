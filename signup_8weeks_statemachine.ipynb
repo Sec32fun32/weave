{
 "cells": [
  {
   "cell_type": "code",
   "execution_count": null,
   "id": "14badd6b-955a-457f-9c8d-82bfc00de542",
   "metadata": {},
   "outputs": [],
   "source": [
    "import pandas as pd\n",
    "import numpy as np\n",
    "import re\n",
    "from google.cloud.bigquery import magics\n",
    "from google.cloud import bigquery\n",
    "from urllib.parse import urlparse\n",
    "\n",
    "pd.set_option('display.max_columns', 50)\n",
    "pd.set_option('display.max_rows', 200)\n",
    "\n",
    "magics.context.project = 'wandb-production'\n",
    "magics.context.progress_bar_type = 'None'\n",
    "%load_ext google.cloud.bigquery\n",
    "\n",
    "bqclient = bigquery.Client()\n",
    "\n",
    "import plotly.express as px\n",
    "\n",
    "import plotly.graph_objects as go # or plotly.express as px\n",
    "import dash\n",
    "from dash import dcc\n",
    "from dash import html\n",
    "from dash.dependencies import Input, Output\n",
    "import json\n",
    "\n",
    "import wandb"
   ]
  },
  {
   "cell_type": "code",
   "execution_count": null,
   "id": "8ce064f5-48f7-44ae-853d-ad71b8ad2151",
   "metadata": {},
   "outputs": [],
   "source": [
    "# run = wandb.init(project = 'state-machine', entity = 'mercedes-wu')"
   ]
  },
  {
   "cell_type": "markdown",
   "id": "fe011162-64c4-4479-b820-3f63875c6c58",
   "metadata": {},
   "source": [
    "___\n",
    "Queries to get relevant data regarding paid and not paid users\n",
    "___"
   ]
  },
  {
   "cell_type": "code",
   "execution_count": null,
   "id": "c487f2bb-b4ed-45a6-8440-6c99d87f09d2",
   "metadata": {},
   "outputs": [],
   "source": [
    "sankey_q = \"\"\"\n",
    "-- not all users have a first_telemetry at, better to not use it?\n",
    "-- daily user agg can have activity before the first_run_at time?\n",
    "with user_attributes as (\n",
    "    select\n",
    "        universal_user_id,\n",
    "        first_run_at,\n",
    "        hosting_type,\n",
    "        is_paid\n",
    "    from\n",
    "        analytics.dim_users\n",
    "    where 1=1\n",
    "        and is_dev is not true\n",
    "        and is_paid is not null --removing legacy local users from analysis\n",
    "),\n",
    "generated_date_table as (\n",
    "    SELECT\n",
    "        extract(year from date_gen_table) as year,\n",
    "        extract(month from date_gen_table) as month,\n",
    "        extract(isoweek from date_gen_table) as workweek_min_activity\n",
    "    FROM\n",
    "        UNNEST(GENERATE_DATE_ARRAY('2022-01-01', CURRENT_DATE(), INTERVAL 1 DAY)) AS date_gen_table\n",
    "    where 1=1\n",
    "        and extract(isoweek from date_gen_table) != 52 -- exclude days in january that dont belong to the first work week in a year\n",
    "        and extract(isoweek from date_gen_table) + 8 <= extract(isoweek from CURRENT_DATE())\n",
    "    group by\n",
    "        extract(year from date_gen_table),\n",
    "        extract(month from date_gen_table),\n",
    "        extract(isoweek from date_gen_table)\n",
    "),\n",
    "first_agg_daily_appearance as (\n",
    "    select\n",
    "        universal_user_id,\n",
    "        min(activity_day) as min_activity_day,\n",
    "        extract(isoweek from min(activity_day)) as workweek_min_activity,\n",
    "        extract(isoweek from min(activity_day)) + 8 as workweek_max_activity\n",
    "    from\n",
    "        analytics.agg_daily_user_activity\n",
    "    group by\n",
    "        universal_user_id\n",
    "),\n",
    "user_min_max_activity as (\n",
    "    select\n",
    "        first_agg_daily_appearance.*\n",
    "    from\n",
    "        first_agg_daily_appearance\n",
    "    join\n",
    "        generated_date_table using (workweek_min_activity)\n",
    "),\n",
    "week_product_created_agg as (\n",
    "    select\n",
    "        agg_daily.universal_user_id,\n",
    "        user_attributes.hosting_type,\n",
    "        user_attributes.is_paid,\n",
    "        user_min_max_activity.workweek_min_activity,\n",
    "        user_min_max_activity.workweek_max_activity,\n",
    "        extract(isoweek from agg_daily.activity_day) as activity_workweek,\n",
    "        extract(isoweek from agg_daily.activity_day) - user_min_max_activity.workweek_min_activity as weeks_away_from_signup,\n",
    "        max(case when COALESCE(agg_daily.run_created, 0) > 0 then 1 else 0 end) run_created,\n",
    "        max(case when COALESCE(agg_daily.artifact_created, 0) > 0 then 1 else 0 end) artifact_created,\n",
    "        max(case when COALESCE(agg_daily.report_created, 0) > 0 then 1 else 0 end) report_created,\n",
    "        max(case when COALESCE(agg_daily.weave_table_created, 0) > 0 then 1 else 0 end) weave_table_created,\n",
    "        max(case when COALESCE(agg_daily.sweep_created, 0) > 0 then 1 else 0 end) sweep_created,\n",
    "        max(case when COALESCE(agg_daily.custom_chart_created, 0) > 0 then 1 else 0 end) custom_chart_created,\n",
    "        max(case when COALESCE(agg_daily.comment_created, 0) > 0 then 1 else 0 end) comment_created,\n",
    "        (\n",
    "            max(case when COALESCE(agg_daily.run_created, 0) > 0 then 1 else 0 end) +\n",
    "            max(case when COALESCE(agg_daily.artifact_created, 0) > 0 then 1 else 0 end) +\n",
    "            max(case when COALESCE(agg_daily.report_created, 0) > 0 then 1 else 0 end) +\n",
    "            max(case when COALESCE(agg_daily.weave_table_created, 0) > 0 then 1 else 0 end) +\n",
    "            max(case when COALESCE(agg_daily.sweep_created, 0) > 0 then 1 else 0 end) +\n",
    "            max(case when COALESCE(agg_daily.custom_chart_created, 0) > 0 then 1 else 0 end) +\n",
    "            max(case when COALESCE(agg_daily.comment_created, 0) > 0 then 1 else 0 end)\n",
    "            ) as count_products_created,\n",
    "    from\n",
    "        analytics.agg_daily_user_activity as agg_daily\n",
    "    join\n",
    "        user_attributes using (universal_user_id)\n",
    "    join\n",
    "        user_min_max_activity using (universal_user_id)\n",
    "    where 1=1\n",
    "        and extract(isoweek from agg_daily.activity_day) <= workweek_max_activity\n",
    "        and extract(isoweek from agg_daily.activity_day) >= workweek_min_activity\n",
    "    group by\n",
    "        agg_daily.universal_user_id,\n",
    "        user_attributes.hosting_type,\n",
    "        user_attributes.is_paid,\n",
    "        user_min_max_activity.workweek_min_activity,\n",
    "        user_min_max_activity.workweek_max_activity,\n",
    "        extract(isoweek from agg_daily.activity_day),\n",
    "        extract(isoweek from agg_daily.activity_day) - user_min_max_activity.workweek_min_activity\n",
    "),\n",
    "\n",
    "sankey_agg as (\n",
    "    select\n",
    "        week_product_created_agg.*,\n",
    "        case\n",
    "            when count_products_created = 0 then 'zero products'\n",
    "            when count_products_created = 1 then (\n",
    "                case\n",
    "                    when run_created = 1 then 'run'\n",
    "                    when sweep_created = 1 then 'sweep'\n",
    "                    when weave_table_created = 1 then 'table'\n",
    "                    when artifact_created = 1 then 'artifact'\n",
    "                    when report_created = 1 then 'report'\n",
    "                    when custom_chart_created = 1 then 'chart'\n",
    "                    when comment_created = 1 then 'comment'\n",
    "                    else 'DATA CHECK NEEDED: one product created that was not a run'\n",
    "                end\n",
    "                )\n",
    "            when count_products_created = 2 then (\n",
    "                case\n",
    "                    when run_created = 1 and sweep_created = 1 then 'run+sweep'\n",
    "                    when run_created = 1 and weave_table_created = 1 then 'run+table'\n",
    "                    when run_created = 1 and artifact_created = 1 then 'run+artifact'\n",
    "                    when run_created = 1 and report_created = 1 then 'run+report'\n",
    "                    else '2 products misc'\n",
    "                end\n",
    "                )\n",
    "            when count_products_created = 3 then '3 products'\n",
    "            when count_products_created >= 4 then '4+ products'\n",
    "            else 'DATA CHECK NEEDED: case statement condition not fufilled'\n",
    "        end as sankey_buckets\n",
    "    from\n",
    "        week_product_created_agg\n",
    "    where 1=1\n",
    "    order by\n",
    "        universal_user_id,\n",
    "        weeks_away_from_signup\n",
    ")\n",
    "select\n",
    "    *\n",
    "from\n",
    "    sankey_agg\n",
    "where 1=1\n",
    "\"\"\"\n",
    "\n",
    "job_config = bigquery.QueryJobConfig(\n",
    "    query_parameters = [\n",
    "    ]\n",
    ")\n",
    "\n",
    "sankey_df = (\n",
    "    bqclient.query(sankey_q, job_config = job_config)\n",
    "    .result()\n",
    "    .to_dataframe()\n",
    ")"
   ]
  },
  {
   "cell_type": "code",
   "execution_count": null,
   "id": "761f3317-1a97-4396-815a-367e6a2b5b92",
   "metadata": {},
   "outputs": [],
   "source": [
    "sankey_df['hosting_type'].value_counts()"
   ]
  },
  {
   "cell_type": "code",
   "execution_count": null,
   "id": "2c2f769a-5547-431b-a2fc-45039ec5bf03",
   "metadata": {},
   "outputs": [],
   "source": [
    "sankey_df['is_paid'].unique()"
   ]
  },
  {
   "cell_type": "code",
   "execution_count": null,
   "id": "fdfde8f5-b382-49cc-8b17-b227109de51f",
   "metadata": {},
   "outputs": [],
   "source": [
    "wandb.Table.MAX_ROWS = 500000\n",
    "sankey_table = wandb.Table(dataframe = sankey_df)\n",
    "sankey_artifact = wandb.Artifact('sankey_table', type = 'dataset')\n",
    "sankey_artifact.add(sankey_table, \"sankey_table\")\n",
    "log_artifact = run.log_artifact(sankey_artifact)"
   ]
  },
  {
   "cell_type": "code",
   "execution_count": null,
   "id": "c1fe950c-1a18-44bc-9400-f1240dd44109",
   "metadata": {},
   "outputs": [],
   "source": [
    "# run.finish()"
   ]
  },
  {
   "cell_type": "markdown",
   "id": "e8e4e03a-ce61-4166-9a0f-94e6bacbf2e2",
   "metadata": {},
   "source": [
    "___\n",
    "helper functions to generate sankey plots from query data\n",
    "___"
   ]
  },
  {
   "cell_type": "code",
   "execution_count": null,
   "id": "1218f45e-62f6-4d9d-89fb-19420f4c898c",
   "metadata": {},
   "outputs": [],
   "source": [
    "def sankey_preprocessing(sankey_piv, sub_sankey_piv, column_progression):\n",
    "    df = sankey_piv.copy()\n",
    "\n",
    "    for c in column_progression:\n",
    "        df[c] = df[c] + f' ({int(c)})'\n",
    "\n",
    "    order_x_nodes = column_progression.copy()\n",
    "\n",
    "    order_x_dict = {order_x_nodes[i]: (i + 1) * 1/(len(order_x_nodes)) for i in range(len(order_x_nodes))}\n",
    "    \n",
    "    order_y_nodes = [\n",
    "        '4+ products',\n",
    "        '3 products',\n",
    "        '2 products misc', 'run+report', 'run+artifact', 'run+table', 'run+sweep',\n",
    "        'comment', 'chart', 'report', 'artifact', 'table', 'sweep', 'run', \n",
    "        'zero products'\n",
    "    ]\n",
    "\n",
    "    y_pos_manual = [\n",
    "        0.01,\n",
    "        0.05,\n",
    "        0.1,\n",
    "        0.125,\n",
    "        0.2,\n",
    "        0.25,\n",
    "        0.3,\n",
    "        0.325,\n",
    "        0.35,\n",
    "        0.365,\n",
    "        0.375,\n",
    "        0.415,\n",
    "        0.40,\n",
    "        0.55,\n",
    "        0.99\n",
    "    ]\n",
    "\n",
    "    order_y_dict = dict(zip(order_y_nodes, y_pos_manual))\n",
    "\n",
    "    labels = []\n",
    "    sources = []\n",
    "    targets = []\n",
    "    values = []\n",
    "    \n",
    "    # TODO: Refactor\n",
    "    if not sub_sankey_piv.empty:\n",
    "        filt_df = sub_sankey_piv \n",
    "        \n",
    "    for i in range(len(column_progression) - 1):\n",
    "\n",
    "        source_col, target_col = column_progression[i], column_progression[i + 1]\n",
    "        temp_gb = df.groupby([source_col, target_col]).count()[['universal_user_id']].reset_index()\n",
    "        \n",
    "        # creating list of unique labels to use for indexing sources and targets\n",
    "        if i == 0:\n",
    "            labels += list(temp_gb[source_col].unique())\n",
    "        labels += list(temp_gb[target_col].unique())\n",
    "\n",
    "        # adding sources, targets, and values for sankey link data\n",
    "        sources += list(temp_gb[source_col])\n",
    "        targets += list(temp_gb[target_col])\n",
    "        values += list(temp_gb['universal_user_id'])\n",
    "        \n",
    "\n",
    "    labels_dict = dict(zip(labels, range(len(labels))))\n",
    "    sources_mapped = [labels_dict[val] for val in sources]\n",
    "    targets_mapped = [labels_dict[val] for val in targets]\n",
    "    link_labels = [s + ' --> ' + t for s, t in zip(sources, targets)]\n",
    "\n",
    "    node_color_dict = {\n",
    "        '4+ products'        : 'rgba(255,165,0,0.8)',\n",
    "        '3 products'         : 'rgba(255,215,0,0.8)',\n",
    "        '2 products misc'    : 'rgba(128,128,0,0.8)',\n",
    "        'run+report'         : 'rgba(154,205,50,0.8)',\n",
    "        'run+artifact'       : 'rgba(102,205,170,0.8)',\n",
    "        'run+table'          : 'rgba(60,179,113,0.8)',\n",
    "        'run+sweep'          : 'rgba(0,206,209,0.8)',\n",
    "        'comment'            : 'rgba(176,224,230,0.8)',\n",
    "        'chart'              : 'rgba(173,216,230,0.8)',\n",
    "        'report'             : 'rgba(95,158,160,0.8)',\n",
    "        'artifact'           : 'rgba(65,105,225,0.8)',\n",
    "        'table'              : 'rgba(139,0,139,0.8)',\n",
    "        'sweep'              : 'rgba(148,0,211,0.8)',\n",
    "        'run'                : 'rgba(25,25,112,0.8)',\n",
    "        'zero products'      : 'rgba(105,105,105,0.8)'\n",
    "    }\n",
    "\n",
    "    link_color_dict = {\n",
    "        '4+ products'        : 'rgba(255,165,0,0.3)',\n",
    "        '3 products'         : 'rgba(255,215,0,0.3)',\n",
    "        '2 products misc'    : 'rgba(128,128,0,0.3)',\n",
    "        'run+report'         : 'rgba(154,205,50,0.3)',\n",
    "        'run+artifact'       : 'rgba(102,205,170,0.3)',\n",
    "        'run+table'          : 'rgba(60,179,113,0.3)',\n",
    "        'run+sweep'          : 'rgba(0,206,209,0.3)',\n",
    "        'comment'            : 'rgba(176,224,230,0.3)',\n",
    "        'chart'              : 'rgba(173,216,230,0.3)',\n",
    "        'report'             : 'rgba(95,158,160,0.3)',\n",
    "        'artifact'           : 'rgba(65,105,225,0.3)',\n",
    "        'table'              : 'rgba(139,0,139,0.3)',\n",
    "        'sweep'              : 'rgba(148,0,211,0.3)',\n",
    "        'run'                : 'rgba(25,25,112,0.3)',\n",
    "        'zero products'      : 'rgba(105,105,105,0.3)'\n",
    "    }\n",
    "\n",
    "    node_xpos = []\n",
    "    node_ypos = []\n",
    "    node_colors = []\n",
    "    for k in labels_dict.keys():\n",
    "        k_y, k_x = re.split('[()]', k)[0].rstrip(), int(re.split('[()]', k)[1])\n",
    "        node_ypos.append(order_y_dict[k_y])\n",
    "        node_xpos.append(order_x_dict[k_x])\n",
    "        node_colors.append(node_color_dict[k_y])\n",
    "\n",
    "    link_colors = []\n",
    "    for source_link in sources:\n",
    "        source_link_stripped = re.split('[()]', source_link)[0].rstrip()\n",
    "        link_colors.append(link_color_dict[source_link_stripped])\n",
    "        \n",
    "    return labels, node_colors, node_xpos, node_ypos, sources_mapped, targets_mapped, link_labels, values, link_colors"
   ]
  },
  {
   "cell_type": "code",
   "execution_count": null,
   "id": "3651f0c9-7b08-4878-8858-dc0fa5a929aa",
   "metadata": {},
   "outputs": [],
   "source": [
    "def sankey_fig_helper(labels, node_colors, node_xpos, node_ypos, sources_mapped, targets_mapped, link_labels, values, link_colors):\n",
    "    sankey_fig = go.Figure(\n",
    "        data=[\n",
    "            go.Sankey(\n",
    "                arrangement = 'fixed',\n",
    "                node = dict(\n",
    "                    pad = 10,\n",
    "                    thickness = 10,\n",
    "                    line = dict(color = \"black\", width = 0.5),\n",
    "                    label = labels,\n",
    "                    color = node_colors,\n",
    "                    x = node_xpos,\n",
    "                    y = node_ypos,\n",
    "                    hovertemplate = labels\n",
    "                ),\n",
    "                link = dict(\n",
    "                    source = sources_mapped,\n",
    "                    target = targets_mapped,\n",
    "                    value = values,\n",
    "                    color = link_colors,\n",
    "                    label = link_labels,\n",
    "                    hovertemplate = link_labels\n",
    "                )\n",
    "            )\n",
    "        ]\n",
    "    )\n",
    "    sankey_fig.update_traces(orientation = 'h')\n",
    "\n",
    "    sankey_fig.update_layout(\n",
    "        font_size = 9,\n",
    "        autosize = False,\n",
    "        height = 850,\n",
    "        width = 1400,\n",
    "    )\n",
    "\n",
    "    return sankey_fig"
   ]
  },
  {
   "cell_type": "markdown",
   "id": "897391a4-185c-49f9-b484-7d1b82889c54",
   "metadata": {},
   "source": [
    "___\n",
    "test plotting\n",
    "___"
   ]
  },
  {
   "cell_type": "code",
   "execution_count": null,
   "id": "7328000f-5f9c-4e84-9841-f0146be77282",
   "metadata": {},
   "outputs": [],
   "source": [
    "column_progression = sankey_df['weeks_away_from_signup'].unique()\n",
    "sankey_piv = sankey_df.pivot(index=['universal_user_id', 'hosting_type', 'is_paid', 'workweek_min_activity'], columns='weeks_away_from_signup', values='sankey_buckets').reset_index()\n",
    "labels, node_colors, node_xpos, node_ypos, sources_mapped, targets_mapped, link_labels, values, link_colors = sankey_preprocessing(sankey_piv, pd.DataFrame(), column_progression)"
   ]
  },
  {
   "cell_type": "code",
   "execution_count": null,
   "id": "fbbc21a5-7b17-47c8-a2e8-92adfc3d512b",
   "metadata": {},
   "outputs": [],
   "source": [
    "run.finish()"
   ]
  },
  {
   "cell_type": "code",
   "execution_count": null,
   "id": "4d7e480b-fcff-41a5-a8f8-6f111c358c0b",
   "metadata": {},
   "outputs": [],
   "source": [
    "run = wandb.init(project = 'state-machine', entity = 'mercedes-wu')"
   ]
  },
  {
   "cell_type": "code",
   "execution_count": null,
   "id": "9bd72fd1-4b7b-4562-93e7-b9c392c4aaf9",
   "metadata": {},
   "outputs": [],
   "source": [
    "sankey_piv = sankey_piv.reset_index().rename_axis(None, axis=1)"
   ]
  },
  {
   "cell_type": "code",
   "execution_count": null,
   "id": "7d71773b-0d08-4cda-91ed-47b92f3afe4a",
   "metadata": {},
   "outputs": [],
   "source": [
    "sankey_piv = sankey_piv.rename(columns = {\n",
    "    0: 'week_0',\n",
    "    1: 'week_1',\n",
    "    2: 'week_2',\n",
    "    3: 'week_3',\n",
    "    4: 'week_4',\n",
    "    5: 'week_5',\n",
    "    6: 'week_6',\n",
    "    7: 'week_7',\n",
    "    8: 'week_8',\n",
    "})"
   ]
  },
  {
   "cell_type": "code",
   "execution_count": null,
   "id": "c487ea97-88e8-4afe-857a-3a1062227c7c",
   "metadata": {},
   "outputs": [],
   "source": [
    "sankey_piv = sankey_piv.drop(columns = ['index'])"
   ]
  },
  {
   "cell_type": "code",
   "execution_count": null,
   "id": "fceef613-17fb-48fc-9f91-27fd338d335a",
   "metadata": {},
   "outputs": [],
   "source": [
    "sankey_table = wandb.Table(dataframe = sankey_piv)\n",
    "sankey_artifact = wandb.Artifact('sankey_pivot_table', type = 'dataset')\n",
    "sankey_artifact.add(sankey_table, \"sankey_pivot_table\")\n",
    "log_artifact = run.log_artifact(sankey_artifact)"
   ]
  },
  {
   "cell_type": "code",
   "execution_count": null,
   "id": "afee4c1e-a0d2-4a56-a03d-0b6f97fd7dff",
   "metadata": {},
   "outputs": [],
   "source": [
    "sankey_piv"
   ]
  },
  {
   "cell_type": "code",
   "execution_count": null,
   "id": "00bd5efa-6b6e-4a48-8071-ab479adfd2fe",
   "metadata": {},
   "outputs": [],
   "source": [
    "run.finish()\n",
    "\n",
    "run = wandb.init(project = 'state-machine', entity = 'mercedes-wu')"
   ]
  },
  {
   "cell_type": "code",
   "execution_count": null,
   "id": "21e8c12a-7120-400b-b685-1144aaf387a4",
   "metadata": {},
   "outputs": [],
   "source": [
    "sankey_fig = sankey_fig_helper(labels, node_colors, node_xpos, node_ypos, sources_mapped, targets_mapped, link_labels, values, link_colors)\n",
    "sankey_fig.show()"
   ]
  },
  {
   "cell_type": "code",
   "execution_count": null,
   "id": "a3e6ade1-0b66-4324-92c9-a45447e3ccf8",
   "metadata": {},
   "outputs": [],
   "source": [
    "wandb.log({'state_sankey_aggregated': sankey_fig})"
   ]
  },
  {
   "cell_type": "code",
   "execution_count": null,
   "id": "9db0144e-8d19-452a-9561-669f6b534751",
   "metadata": {},
   "outputs": [],
   "source": [
    "merge_to_df = pd.DataFrame([{\n",
    "    '4+ products'        : 'rgba(255,165,0,0.8)',\n",
    "    '3 products'         : 'rgba(255,215,0,0.8)',\n",
    "    '2 products misc'    : 'rgba(128,128,0,0.8)',\n",
    "    'run+report'         : 'rgba(154,205,50,0.8)',\n",
    "    'run+artifact'       : 'rgba(102,205,170,0.8)',\n",
    "    'run+table'          : 'rgba(60,179,113,0.8)',\n",
    "    'run+sweep'          : 'rgba(0,206,209,0.8)',\n",
    "    'comment'            : 'rgba(176,224,230,0.8)',\n",
    "    'chart'              : 'rgba(173,216,230,0.8)',\n",
    "    'report'             : 'rgba(95,158,160,0.8)',\n",
    "    'artifact'           : 'rgba(65,105,225,0.8)',\n",
    "    'table'              : 'rgba(139,0,139,0.8)',\n",
    "    'sweep'              : 'rgba(148,0,211,0.8)',\n",
    "    'run'                : 'rgba(25,25,112,0.8)',\n",
    "    'zero products'      : 'rgba(105,105,105,0.8)'\n",
    "}]).T.reset_index().rename(columns = {'index': 'state', 0: 'color'})"
   ]
  },
  {
   "cell_type": "code",
   "execution_count": null,
   "id": "46183f52-6239-42be-90c1-6923eea61d45",
   "metadata": {},
   "outputs": [],
   "source": [
    "states = [\n",
    "    '4+ products'    \n",
    "    ,'3 products'     \n",
    "    ,'2 products misc'\n",
    "    ,'run+report'     \n",
    "    ,'run+artifact'   \n",
    "    ,'run+table'      \n",
    "    ,'run+sweep'      \n",
    "    ,'comment'        \n",
    "    ,'chart'          \n",
    "    ,'report'         \n",
    "    ,'artifact'       \n",
    "    ,'table'          \n",
    "    ,'sweep'          \n",
    "    ,'run'            \n",
    "    ,'zero products'  \n",
    "]\n",
    "states.reverse()"
   ]
  },
  {
   "cell_type": "code",
   "execution_count": null,
   "id": "728c5abb-8223-49d4-ae85-3e62bdcb7f43",
   "metadata": {},
   "outputs": [],
   "source": [
    "merge_to_df.loc[:, 'order'] = merge_to_df.index"
   ]
  },
  {
   "cell_type": "code",
   "execution_count": null,
   "id": "0bb0c91d-b928-41bb-a962-cf55ac66a22b",
   "metadata": {},
   "outputs": [],
   "source": [
    "bar_chart_x_axis = ['week_0', 'week_1', 'week_2', 'week_3', 'week_4', 'week_5', 'week_6', 'week_7', 'week_8']"
   ]
  },
  {
   "cell_type": "code",
   "execution_count": null,
   "id": "2821479f-9879-41b6-8289-21d47228708d",
   "metadata": {},
   "outputs": [],
   "source": [
    "dfs = []\n",
    "for c in bar_chart_x_axis:\n",
    "    temp_df = sankey_piv.copy()[['universal_user_id', c]].groupby(c).count().reset_index().rename(columns = {c: 'state', 'universal_user_id': 'count_users'})\n",
    "    temp_merge_df = merge_to_df.copy().merge(temp_df, on = 'state', how = 'left').replace(np.NaN, 0)\n",
    "    temp_merge_df.loc[:, 'week'] = c\n",
    "    dfs.append(temp_merge_df)\n"
   ]
  },
  {
   "cell_type": "code",
   "execution_count": null,
   "id": "1b154e49-7c32-470e-b048-817fb35a898f",
   "metadata": {},
   "outputs": [],
   "source": [
    "stacked_bar_chart_df = pd.concat(dfs, axis=0)"
   ]
  },
  {
   "cell_type": "code",
   "execution_count": null,
   "id": "ada47087-a09b-4871-b922-6304a976b66a",
   "metadata": {},
   "outputs": [],
   "source": [
    "\n",
    "fig = go.Figure(data=[\n",
    "    go.Bar(\n",
    "        x = [week.replace('_', ' ') for week in bar_chart_x_axis], \n",
    "        y = stacked_bar_chart_df[stacked_bar_chart_df['state']==s]['count_users'],\n",
    "        name = s, \n",
    "        marker_color = stacked_bar_chart_df[stacked_bar_chart_df['state']==s]['color'],\n",
    "    ) for s in states  \n",
    "])\n",
    "# Change the bar mode\n",
    "fig.update_layout(barmode='stack')\n",
    "fig.update_layout(\n",
    "    font_size = 9,\n",
    "    autosize = False,\n",
    "    height = 850,\n",
    "    width = 1400,\n",
    "    template = 'plotly_white',\n",
    ")\n",
    "fig.show()"
   ]
  },
  {
   "cell_type": "code",
   "execution_count": null,
   "id": "fe0b9d84-b44a-4d2a-ac99-d4f05a4b4da8",
   "metadata": {},
   "outputs": [],
   "source": [
    "wandb.log({'state_stacked_bar_chart': fig})"
   ]
  },
  {
   "cell_type": "code",
   "execution_count": null,
   "id": "9e9e8f8c-cc93-43b0-93fa-b3a935e4d7e4",
   "metadata": {},
   "outputs": [],
   "source": [
    "week0_count_users_df = stacked_bar_chart_df.query('week == \"week_0\"')[['state', 'count_users']].rename(columns = {'count_users': 'count_users_week0'})"
   ]
  },
  {
   "cell_type": "code",
   "execution_count": null,
   "id": "90341a55-1a29-41ef-bdcf-4efce46f1f6d",
   "metadata": {},
   "outputs": [],
   "source": [
    "perc_line_chart_df = stacked_bar_chart_df.copy().merge(week0_count_users_df, on = 'state', how = 'left')"
   ]
  },
  {
   "cell_type": "code",
   "execution_count": null,
   "id": "2eaa15ae-a18c-4489-b2b0-cb09b728b419",
   "metadata": {},
   "outputs": [],
   "source": [
    "perc_line_chart_df.loc[:, 'user_perc_of_week0'] = np.round(perc_line_chart_df['count_users'] / perc_line_chart_df['count_users_week0'], 2)"
   ]
  },
  {
   "cell_type": "code",
   "execution_count": null,
   "id": "336826f0-0778-4bab-a27c-0518c0e3eb72",
   "metadata": {},
   "outputs": [],
   "source": [
    "\n",
    "fig = go.Figure(data=[\n",
    "    go.Scatter(\n",
    "        x = [week.replace('_', ' ') for week in bar_chart_x_axis], \n",
    "        y = perc_line_chart_df[perc_line_chart_df['state']==s]['user_perc_of_week0'],\n",
    "        name = s, \n",
    "        mode = 'lines',\n",
    "        line = dict(color = perc_line_chart_df[perc_line_chart_df['state']==s]['color'].iloc[0]),\n",
    "    ) for s in states  \n",
    "])\n",
    "# Change the bar mode\n",
    "fig.update_layout(\n",
    "    font_size = 9,\n",
    "    autosize = False,\n",
    "    height = 850,\n",
    "    width = 1400,\n",
    "    template = 'plotly_white',\n",
    "    hovermode = 'x'\n",
    ")\n",
    "\n",
    "fig.update_yaxes(\n",
    "    range = [0,3],\n",
    "    tickformat = ',.0%'\n",
    ")\n",
    "fig.show()"
   ]
  },
  {
   "cell_type": "code",
   "execution_count": null,
   "id": "1c5ebd01-c0a5-4406-bcd9-10a02ec47ccd",
   "metadata": {},
   "outputs": [],
   "source": [
    "run.finish()\n",
    "\n",
    "run = wandb.init(project = 'state-machine', entity = 'mercedes-wu')"
   ]
  },
  {
   "cell_type": "code",
   "execution_count": null,
   "id": "e2df01f3-0edb-4b64-8541-dcc77c3cc634",
   "metadata": {},
   "outputs": [],
   "source": [
    "wandb.log({'perc_week0_activity': fig})"
   ]
  },
  {
   "cell_type": "markdown",
   "id": "4a4d804f-7c94-40e0-afb7-cfb11d130326",
   "metadata": {},
   "source": [
    "TODO:\n",
    "    - exclude controller runs"
   ]
  },
  {
   "cell_type": "code",
   "execution_count": null,
   "id": "d4ae1dbe-ef40-419e-93f4-835894a8195a",
   "metadata": {},
   "outputs": [],
   "source": [
    "sankey_piv[sankey_piv[8] == '4+ products']"
   ]
  },
  {
   "cell_type": "markdown",
   "id": "db7b5af0-5dc7-4aa5-bb9d-64dcacc90279",
   "metadata": {},
   "source": [
    "___\n",
    "volatility analysis?\n",
    "___"
   ]
  },
  {
   "cell_type": "markdown",
   "id": "ef2227b5-e1db-4b85-9eac-b3dbd3a57792",
   "metadata": {},
   "source": [
    "___\n",
    "modeling (where sequence does not matter)\n",
    "- testing naive-bayes\n",
    "___"
   ]
  },
  {
   "cell_type": "code",
   "execution_count": null,
   "id": "2fd8a12c-8ca5-4d29-9bdb-5fb77d6957a4",
   "metadata": {},
   "outputs": [],
   "source": [
    "import numpy as np\n",
    "rng = np.random.RandomState(1)\n",
    "X = rng.randint(5, size=(6, 100))\n",
    "y = np.array([1, 2, 3, 4, 5, 6])\n",
    "from sklearn.naive_bayes import CategoricalNB\n",
    "clf = CategoricalNB()\n",
    "clf.fit(X, y)\n",
    "print(clf.predict(X[2:3]))"
   ]
  },
  {
   "cell_type": "code",
   "execution_count": null,
   "id": "9fb5c2b6-6ba4-4226-830b-67b1c107e507",
   "metadata": {},
   "outputs": [],
   "source": [
    "pred_df = sankey_piv.copy()"
   ]
  },
  {
   "cell_type": "code",
   "execution_count": null,
   "id": "36bfa7be-d102-4e06-a7de-66916f8032f7",
   "metadata": {},
   "outputs": [],
   "source": [
    "import matplotlib.pyplot as plt\n",
    "pred_df.hist()"
   ]
  },
  {
   "cell_type": "markdown",
   "id": "e2015576-dbbc-4b89-af55-bc7ee61943fa",
   "metadata": {},
   "source": [
    "___\n",
    "testing cpt\n",
    "___"
   ]
  },
  {
   "cell_type": "code",
   "execution_count": null,
   "id": "6a1a2cb0-8dd0-40e8-a25e-dc3dde594f5c",
   "metadata": {},
   "outputs": [],
   "source": []
  },
  {
   "cell_type": "code",
   "execution_count": null,
   "id": "9cad008b-d05d-474f-b618-d3c275aaef35",
   "metadata": {},
   "outputs": [],
   "source": []
  },
  {
   "cell_type": "code",
   "execution_count": null,
   "id": "e0c675e2-03df-4577-a0ad-066008fb7e02",
   "metadata": {},
   "outputs": [],
   "source": [
    "# import plotly.graph_objects as go\n",
    "\n",
    "# fig = go.Figure(data=[go.Sankey(\n",
    "#     node = dict(\n",
    "#       pad = 15,\n",
    "#       thickness = 20,\n",
    "#       line = dict(color = \"black\", width = 0.5),\n",
    "#       label = [\"A1\", \"A2\", \"B1\", \"B2\", \"C1\", \"C2\"],\n",
    "#       color = \"blue\",\n",
    "#         hoverinfo='skip'\n",
    "#     ),\n",
    "#     link = dict(\n",
    "#       source = [0, 0, 1, 0,], # indices correspond to labels, eg A1, A2, A1, B1, ...\n",
    "#       target = [0, 2, 3, 3,],\n",
    "#       value = [1000, 8, 4, 2,],\n",
    "#       color = ['rgba(255,165,0,0)', 'rgba(255,165,0,0.3)', 'rgba(255,165,0,0.3)', 'rgba(255,165,0,0.3)'],\n",
    "#         hoverinfo='skip'\n",
    "#   ))])\n",
    "\n",
    "# fig.update_layout(title_text=\"Basic Sankey Diagram\", font_size=10, hovermode=False)\n",
    "# fig.show()"
   ]
  },
  {
   "cell_type": "markdown",
   "id": "ba7728ca-f146-4979-913e-3ffd22f87fe3",
   "metadata": {},
   "source": [
    "___\n",
    "breakdown by paid type and user type\n",
    "___"
   ]
  },
  {
   "cell_type": "code",
   "execution_count": null,
   "id": "c4b7761d-1022-41e6-9141-8ab00fcbcb3e",
   "metadata": {},
   "outputs": [],
   "source": [
    "def create_sankey(sankey_df):\n",
    "    column_progression = sankey_df['weeks_away_from_signup'].unique()\n",
    "    sankey_piv = sankey_df.pivot(index=['universal_user_id', 'hosting_type', 'is_paid', 'workweek_min_activity'], columns='weeks_away_from_signup', values='sankey_buckets').reset_index()\n",
    "    labels, node_colors, node_xpos, node_ypos, sources_mapped, targets_mapped, link_labels, values, link_colors = sankey_preprocessing(sankey_piv, pd.DataFrame(), column_progression)\n",
    "    sankey_fig = sankey_fig_helper(labels, node_colors, node_xpos, node_ypos, sources_mapped, targets_mapped, link_labels, values, link_colors)\n",
    "    sankey_fig.show()\n",
    "    \n",
    "    return sankey_fig"
   ]
  },
  {
   "cell_type": "code",
   "execution_count": null,
   "id": "c1700c64-2f32-485a-a94e-47c5b3dfff11",
   "metadata": {},
   "outputs": [],
   "source": [
    "sankey_df['is_paid'].unique()"
   ]
  },
  {
   "cell_type": "code",
   "execution_count": null,
   "id": "53aa0f88-2470-41a4-8a6f-bb991065fa02",
   "metadata": {},
   "outputs": [],
   "source": [
    "create_sankey(sankey_df.query('is_paid == True'))"
   ]
  },
  {
   "cell_type": "code",
   "execution_count": null,
   "id": "f5365e37-80c9-4c7f-961a-e4a4e021d9b0",
   "metadata": {},
   "outputs": [],
   "source": [
    "create_sankey(sankey_df.query('hosting_type == \"local\"'))"
   ]
  },
  {
   "cell_type": "code",
   "execution_count": null,
   "id": "08e7e197-079d-4db3-ab5c-8c5ec3d29679",
   "metadata": {},
   "outputs": [],
   "source": [
    "create_sankey(sankey_df.query('is_paid == False'))"
   ]
  },
  {
   "cell_type": "markdown",
   "id": "b0af81fc-6fa6-4941-90b2-36abaefa1ced",
   "metadata": {},
   "source": [
    "___\n",
    "test click events\n",
    "___\n"
   ]
  },
  {
   "cell_type": "markdown",
   "id": "ea73be29-1d10-4670-8aec-de54755e7c05",
   "metadata": {},
   "source": [
    "> test subsankey"
   ]
  },
  {
   "cell_type": "code",
   "execution_count": null,
   "id": "104b7634-2491-4655-8109-478090a0597d",
   "metadata": {},
   "outputs": [],
   "source": [
    "# if click is on node\n",
    "click_label = \"4+ products (8)\""
   ]
  },
  {
   "cell_type": "code",
   "execution_count": null,
   "id": "2f474318-a711-4bb1-90e8-378644ae59c3",
   "metadata": {},
   "outputs": [],
   "source": [
    "' --> ' in click_label"
   ]
  },
  {
   "cell_type": "code",
   "execution_count": null,
   "id": "18901568-677b-47a2-82c6-5780097f7c0f",
   "metadata": {},
   "outputs": [],
   "source": [
    "click_label.split(' --> ')"
   ]
  },
  {
   "cell_type": "code",
   "execution_count": null,
   "id": "248e48ef-45c2-42a0-8f6d-e618b39704a0",
   "metadata": {},
   "outputs": [],
   "source": [
    "sankey_piv = sankey_df.pivot(index='universal_user_id', columns='weeks_away_from_signup', values='sankey_buckets').reset_index()"
   ]
  },
  {
   "cell_type": "code",
   "execution_count": null,
   "id": "896d7fa6-e0b4-4f8c-b336-0dfeb3b0863a",
   "metadata": {},
   "outputs": [],
   "source": [
    "product_key, column_key = re.split('[()]', click_label)[0].rstrip(), int(re.split('[()]', click_label)[1])"
   ]
  },
  {
   "cell_type": "code",
   "execution_count": null,
   "id": "8c2ad081-db3d-4622-ad44-aba276fb8335",
   "metadata": {},
   "outputs": [],
   "source": [
    "filt_sankey_piv = sankey_piv[sankey_piv[column_key] == product_key] #TODO: refactor using query"
   ]
  },
  {
   "cell_type": "code",
   "execution_count": null,
   "id": "382b4836-d79e-4eac-a437-a04a3f073478",
   "metadata": {},
   "outputs": [],
   "source": [
    "labels, node_colors, node_xpos, node_ypos, sources_mapped, targets_mapped, link_labels, values, link_colors = sankey_preprocessing(filt_sankey_piv, filt_sankey_piv, column_progression)\n",
    "filt_sankey_fig = sankey_fig_helper(labels, node_colors, node_xpos, node_ypos, sources_mapped, targets_mapped, link_labels, values, link_colors)\n",
    "filt_sankey_fig.show()"
   ]
  },
  {
   "cell_type": "markdown",
   "id": "e9e60176-afee-46b8-818b-8a3e75797b4f",
   "metadata": {},
   "source": [
    "> test tooltip"
   ]
  },
  {
   "cell_type": "code",
   "execution_count": null,
   "id": "33136369-397e-45a6-9208-e0f94b594cdf",
   "metadata": {},
   "outputs": [],
   "source": [
    "click_label = \"zero products (-3)\"\n",
    "if ' --> ' in click_label:\n",
    "    source_label, target_label = click_label.split(' --> ')\n",
    "    source_product_key, source_column_key = re.split('[()]', source_label)[0].rstrip(), int(re.split('[()]', source_label)[1])\n",
    "    target_product_key, target_column_key = re.split('[()]', target_label)[0].rstrip(), int(re.split('[()]', target_label)[1])\n",
    "    filt_sankey_piv = sankey_piv[\n",
    "        (sankey_piv[source_column_key] == source_product_key) & \n",
    "        (sankey_piv[target_column_key] == target_product_key) #TODO: refactor using query#TODO: refactor using query\n",
    "    ]\n",
    "\n",
    "    fig = go.Figure(\n",
    "        [\n",
    "            go.Bar(\n",
    "                x=[click_label], \n",
    "                y=[len(filt_sankey_piv)],\n",
    "                text=[len(filt_sankey_piv)]\n",
    "            )\n",
    "        ]\n",
    "    ) \n",
    "else:\n",
    "    product_key, column_key = re.split('[()]', click_label)[0].rstrip(), int(re.split('[()]', click_label)[1])\n",
    "    filt_sankey_piv = sankey_piv[sankey_piv[column_key] == product_key] #TODO: refactor using query\n",
    "    if column_key == min(column_progression):\n",
    "        columns_to_keep = [column_key, column_key + 1]\n",
    "    elif column_key == max(column_progression):\n",
    "        columns_to_keep = [column_key - 1, column_key]\n",
    "    else:\n",
    "        columns_to_keep = [column_key - 1, column_key, column_key + 1]\n",
    "    path_sankey_node = filt_sankey_piv[['universal_user_id'] + columns_to_keep].rename_axis(None, axis=1)\n",
    "    path_sankey_node.loc[:, 'path'] = path_sankey_node[columns_to_keep].apply(lambda x: ' --> '.join(x), axis=1)\n",
    "    path_gb = path_sankey_node[['universal_user_id', 'path']].groupby('path').count().reset_index().sort_values('path')\n",
    "    path_gb.loc[:, 'click_label'] = click_label\n",
    "    fig = px.bar(\n",
    "        path_gb, \n",
    "        x='click_label', \n",
    "        y='universal_user_id',\n",
    "        color='path',\n",
    "        text_auto=True\n",
    "    )\n"
   ]
  },
  {
   "cell_type": "code",
   "execution_count": null,
   "id": "3ea0ac97-b8b7-4be2-8190-85ff9793338d",
   "metadata": {},
   "outputs": [],
   "source": [
    "path_gb"
   ]
  },
  {
   "cell_type": "code",
   "execution_count": null,
   "id": "bcb9a4f2-9117-4214-ba9b-4b3c332653c8",
   "metadata": {},
   "outputs": [],
   "source": [
    "path_sankey_node.name = None"
   ]
  },
  {
   "cell_type": "code",
   "execution_count": null,
   "id": "4aa1f68e-6ef2-424d-8962-232c2ac280c2",
   "metadata": {},
   "outputs": [],
   "source": [
    "path_sankey_node.rename_axis(None, axis=1)"
   ]
  },
  {
   "cell_type": "markdown",
   "id": "09e5a956-4c09-4502-8cee-819894648394",
   "metadata": {},
   "source": [
    "___\n",
    "dash app testing\n",
    "___"
   ]
  },
  {
   "cell_type": "code",
   "execution_count": null,
   "id": "cea340cf-f92f-402a-8f3b-979cabc1cc33",
   "metadata": {},
   "outputs": [],
   "source": [
    "external_stylesheets = ['https://codepen.io/chriddyp/pen/bWLwgP.css']\n",
    "\n",
    "app = dash.Dash(external_stylesheets=external_stylesheets)\n",
    "\n",
    "styles = {\n",
    "    'pre': {\n",
    "        'border': 'thin lightgrey solid',\n",
    "        'overflowX': 'scroll'\n",
    "    }\n",
    "}\n",
    "\n",
    "column_progression = sankey_df['weeks_away_from_paid'].unique()\n",
    "sankey_piv = sankey_df.pivot(index='universal_user_id', columns='weeks_away_from_paid', values='sankey_buckets').reset_index()\n",
    "labels, node_colors, node_xpos, node_ypos, sources_mapped, targets_mapped, link_labels, values, link_colors = sankey_preprocessing(sankey_piv, sankey_piv, column_progression)\n",
    "sankey_fig = sankey_fig_helper(labels, node_colors, node_xpos, node_ypos, sources_mapped, targets_mapped, link_labels, values, link_colors)\n",
    "\n",
    "app.layout = html.Div(\n",
    "    [\n",
    "        html.Div(\n",
    "            className='row',\n",
    "            children=[\n",
    "                dcc.Graph(\n",
    "                    id='global-sankey',\n",
    "                    figure=sankey_fig,\n",
    "                    style={'width': '80%', 'display': 'inline-block'},\n",
    "                ),\n",
    "                dcc.Graph(\n",
    "                    id='global-path',\n",
    "                    style={'width': '20%', 'display': 'inline-block'},\n",
    "                )\n",
    "            ],\n",
    "            \n",
    "        ),\n",
    "        \n",
    "        html.Div(\n",
    "            className='row', \n",
    "            children=[\n",
    "                html.Div(\n",
    "                    [\n",
    "                        dcc.Markdown(\n",
    "                            \"\"\"\n",
    "                            **Click Data**\n",
    "                            Click on points in the graph.\n",
    "                            \"\"\"\n",
    "                        ),\n",
    "                        html.Pre(\n",
    "                            id='click-data', \n",
    "                            style=styles['pre']\n",
    "                        ),\n",
    "                    ], \n",
    "                    className='three columns'\n",
    "                ),\n",
    "            ]\n",
    "        ),\n",
    "        html.Div(\n",
    "            dcc.Graph(id = 'filter-sankey')\n",
    "        )\n",
    "    ]\n",
    ")\n",
    "\n",
    "@app.callback(\n",
    "    Output('click-data', 'children'),\n",
    "    [Input('global-sankey', 'clickData')])\n",
    "def display_click_data(clickData):\n",
    "    label = clickData['points'][0]['label']\n",
    "    return label\n",
    "\n",
    "@app.callback(\n",
    "    Output('global-path', 'figure'),\n",
    "    [Input('global-sankey', 'clickData')])\n",
    "def create_global_flow(clickData):\n",
    "    click_label = clickData['points'][0]['label']\n",
    "    if ' --> ' in click_label:\n",
    "        source_label, target_label = click_label.split(' --> ')\n",
    "        source_product_key, source_column_key = re.split('[()]', source_label)[0].rstrip(), int(re.split('[()]', source_label)[1])\n",
    "        target_product_key, target_column_key = re.split('[()]', target_label)[0].rstrip(), int(re.split('[()]', target_label)[1])\n",
    "        filt_sankey_piv = sankey_piv[\n",
    "            (sankey_piv[source_column_key] == source_product_key) & \n",
    "            (sankey_piv[target_column_key] == target_product_key) #TODO: refactor using query#TODO: refactor using query\n",
    "        ]\n",
    "\n",
    "        bar_fig = go.Figure(\n",
    "            [\n",
    "                go.Bar(\n",
    "                    x=[click_label], \n",
    "                    y=[len(filt_sankey_piv)],\n",
    "                    text=[len(filt_sankey_piv)]\n",
    "                )\n",
    "            ]\n",
    "        ) \n",
    "    else:\n",
    "        product_key, column_key = re.split('[()]', click_label)[0].rstrip(), int(re.split('[()]', click_label)[1])\n",
    "        filt_sankey_piv = sankey_piv[sankey_piv[column_key] == product_key] #TODO: refactor using query\n",
    "        if column_key == min(column_progression):\n",
    "            columns_to_keep = [column_key, column_key + 1]\n",
    "        elif column_key == max(column_progression):\n",
    "            columns_to_keep = [column_key - 1, column_key]\n",
    "        else:\n",
    "            columns_to_keep = [column_key - 1, column_key, column_key + 1]\n",
    "        path_sankey_node = filt_sankey_piv[['universal_user_id'] + columns_to_keep].rename_axis(None, axis=1)\n",
    "        path_sankey_node.loc[:, 'path'] = path_sankey_node[columns_to_keep].apply(lambda x: ' --> '.join(x), axis=1)\n",
    "        path_gb = path_sankey_node[['universal_user_id', 'path']].groupby('path').count().reset_index().sort_values('path')\n",
    "        path_gb.loc[:, 'click_label'] = click_label\n",
    "        bar_fig = px.bar(\n",
    "            path_gb, \n",
    "            x='click_label', \n",
    "            y='universal_user_id',\n",
    "            color='path',\n",
    "            text_auto=True\n",
    "        )\n",
    "    bar_fig.update_layout(\n",
    "        font_size = 9,\n",
    "        autosize = False,\n",
    "        height = 850,\n",
    "        width = 300,\n",
    "        showlegend = False,\n",
    "        template = 'plotly_white',\n",
    "        yaxis={'visible': False, 'showticklabels': False},\n",
    "        xaxis={'visible': False, 'showticklabels': False}\n",
    "    )\n",
    "    return bar_fig\n",
    "\n",
    "@app.callback(\n",
    "    Output('filter-sankey', 'figure'),\n",
    "    [Input('global-sankey', 'clickData')])\n",
    "def create_subsankey(clickData):\n",
    "    click_label = clickData['points'][0]['label']\n",
    "    if ' --> ' in click_label:\n",
    "        source_label, target_label = click_label.split(' --> ')\n",
    "        source_product_key, source_column_key = re.split('[()]', source_label)[0].rstrip(), int(re.split('[()]', source_label)[1])\n",
    "        target_product_key, target_column_key = re.split('[()]', target_label)[0].rstrip(), int(re.split('[()]', target_label)[1])\n",
    "        filt_sankey_piv = sankey_piv[\n",
    "            (sankey_piv[source_column_key] == source_product_key) & \n",
    "            (sankey_piv[target_column_key] == target_product_key) #TODO: refactor using query#TODO: refactor using query\n",
    "        ]\n",
    "    else:\n",
    "        product_key, column_key = re.split('[()]', click_label)[0].rstrip(), int(re.split('[()]', click_label)[1])\n",
    "        filt_sankey_piv = sankey_piv[sankey_piv[column_key] == product_key] #TODO: refactor using query\n",
    "    labels, node_colors, node_xpos, node_ypos, sources_mapped, targets_mapped, link_labels, values, link_colors = sankey_preprocessing(filt_sankey_piv, filt_sankey_piv, column_progression)\n",
    "    filt_sankey_fig = sankey_fig_helper(labels, node_colors, node_xpos, node_ypos, sources_mapped, targets_mapped, link_labels, values, link_colors)\n",
    "    return filt_sankey_fig\n",
    "\n",
    "\n",
    "app.run_server(debug=False, use_reloader=False) # Turn off reloader if inside Jupyter"
   ]
  },
  {
   "cell_type": "markdown",
   "id": "6eb21be5-6646-4667-96ab-0db5ab8a6656",
   "metadata": {},
   "source": [
    "TODO:\n"
   ]
  },
  {
   "cell_type": "code",
   "execution_count": null,
   "id": "728dde17-79cb-4cfe-9b88-20e2cac9906a",
   "metadata": {},
   "outputs": [],
   "source": [
    "sankey_fig"
   ]
  },
  {
   "cell_type": "code",
   "execution_count": null,
   "id": "807729e8-9a94-45ae-8567-6a6b833c1ad8",
   "metadata": {},
   "outputs": [],
   "source": []
  }
 ],
 "metadata": {
  "kernelspec": {
   "display_name": "Python 3 (ipykernel)",
   "language": "python",
   "name": "python3"
  }
 },
 "nbformat": 4,
 "nbformat_minor": 5
}
