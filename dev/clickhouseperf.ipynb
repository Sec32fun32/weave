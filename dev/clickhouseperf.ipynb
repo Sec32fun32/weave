{
 "cells": [
  {
   "cell_type": "code",
   "execution_count": 2,
   "id": "e107d155-2a58-4765-8cb6-8c9ef84d7bde",
   "metadata": {},
   "outputs": [],
   "source": [
    "import json\n",
    "from clickhouse_connect import get_client\n",
    "from time import time"
   ]
  },
  {
   "cell_type": "code",
   "execution_count": 13,
   "id": "422a2dc4-4626-438c-802b-8e1c9811c138",
   "metadata": {},
   "outputs": [
    {
     "name": "stdout",
     "output_type": "stream",
     "text": [
      "Batch insertion completed. 23.106159687042236\n"
     ]
    }
   ],
   "source": [
    "# Connect to ClickHouse\n",
    "client = get_client(host='localhost')\n",
    "\n",
    "# Create a table if it doesn't exist\n",
    "client.command('DROP TABLE test_json')\n",
    "client.command('CREATE TABLE IF NOT EXISTS test_json (id UInt64, data String) ENGINE = MergeTree() ORDER BY id')\n",
    "\n",
    "# Generate 1 million JSON records\n",
    "records_to_insert = 10000000\n",
    "batch_size = 100000  # Number of records to insert per batch\n",
    "json_data_template = {\"name\": \"Name\", \"age\": 30, \"interests\": [\"hobby1\", \"hobby2\"]}\n",
    "\n",
    "start_time = time()\n",
    "\n",
    "# Generate and insert data in batches\n",
    "for i in range(0, records_to_insert, batch_size):\n",
    "    batch_data = [(j, json.dumps({**json_data_template, \"name\": f\"Name_{j}\"})) for j in range(i, min(i + batch_size, records_to_insert))]\n",
    "    client.insert('test_json', batch_data)\n",
    "\n",
    "print(\"Batch insertion completed.\", time() - start_time)\n"
   ]
  },
  {
   "cell_type": "code",
   "execution_count": 14,
   "id": "2dd636f9-3469-4937-bff2-66f39de9222b",
   "metadata": {},
   "outputs": [
    {
     "name": "stdout",
     "output_type": "stream",
     "text": [
      "(500000, '{\"name\": \"Name_500000\", \"age\": 30, \"interests\": [\"hobby1\", \"hobby2\"]}')\n",
      "(5000000, '{\"name\": \"Name_5000000\", \"age\": 30, \"interests\": [\"hobby1\", \"hobby2\"]}')\n",
      "(5000001, '{\"name\": \"Name_5000001\", \"age\": 30, \"interests\": [\"hobby1\", \"hobby2\"]}')\n",
      "(5000002, '{\"name\": \"Name_5000002\", \"age\": 30, \"interests\": [\"hobby1\", \"hobby2\"]}')\n",
      "(5000003, '{\"name\": \"Name_5000003\", \"age\": 30, \"interests\": [\"hobby1\", \"hobby2\"]}')\n",
      "(5000004, '{\"name\": \"Name_5000004\", \"age\": 30, \"interests\": [\"hobby1\", \"hobby2\"]}')\n",
      "(5000005, '{\"name\": \"Name_5000005\", \"age\": 30, \"interests\": [\"hobby1\", \"hobby2\"]}')\n",
      "(5000006, '{\"name\": \"Name_5000006\", \"age\": 30, \"interests\": [\"hobby1\", \"hobby2\"]}')\n",
      "(5000007, '{\"name\": \"Name_5000007\", \"age\": 30, \"interests\": [\"hobby1\", \"hobby2\"]}')\n",
      "(5000008, '{\"name\": \"Name_5000008\", \"age\": 30, \"interests\": [\"hobby1\", \"hobby2\"]}')\n",
      "(5000009, '{\"name\": \"Name_5000009\", \"age\": 30, \"interests\": [\"hobby1\", \"hobby2\"]}')\n",
      "Query time: 0.07045984268188477 seconds.\n"
     ]
    }
   ],
   "source": [
    "from clickhouse_connect import get_client\n",
    "from time import time\n",
    "\n",
    "# Connect to ClickHouse\n",
    "client = get_client(host='localhost')\n",
    "\n",
    "# Query for a specific record\n",
    "query_name = \"Name_500000\"\n",
    "start_time = time()\n",
    "result = client.query(f\"SELECT * FROM test_json WHERE data LIKE '%{query_name}%'\")\n",
    "end_time = time()\n",
    "\n",
    "# Access and print the actual query results\n",
    "if result.result_rows:  # Check if there are any rows in the result\n",
    "    for row in result.result_rows:\n",
    "        print(row)\n",
    "else:\n",
    "    print(\"No results found.\")\n",
    "\n",
    "print(f\"Query time: {end_time - start_time} seconds.\")"
   ]
  },
  {
   "cell_type": "code",
   "execution_count": null,
   "id": "016aa4b1-cd32-421e-ba7a-6db4be9f522b",
   "metadata": {},
   "outputs": [],
   "source": []
  }
 ],
 "metadata": {
  "kernelspec": {
   "display_name": "Python 3 (ipykernel)",
   "language": "python",
   "name": "python3"
  },
  "language_info": {
   "codemirror_mode": {
    "name": "ipython",
    "version": 3
   },
   "file_extension": ".py",
   "mimetype": "text/x-python",
   "name": "python",
   "nbconvert_exporter": "python",
   "pygments_lexer": "ipython3",
   "version": "3.10.13"
  }
 },
 "nbformat": 4,
 "nbformat_minor": 5
}
