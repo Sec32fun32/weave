{
 "cells": [
  {
   "cell_type": "code",
   "execution_count": 1,
   "id": "5a2e68b0-328f-4efa-ac62-d2ac21fcbb2e",
   "metadata": {},
   "outputs": [],
   "source": [
    "import json\n",
    "from clickhouse_connect import get_client\n",
    "from time import time"
   ]
  },
  {
   "cell_type": "code",
   "execution_count": 2,
   "id": "d5630387-e642-463f-b546-7301ade39d58",
   "metadata": {},
   "outputs": [
    {
     "data": {
      "text/plain": [
       "<clickhouse_connect.driver.summary.QuerySummary at 0x128013e20>"
      ]
     },
     "execution_count": 2,
     "metadata": {},
     "output_type": "execute_result"
    }
   ],
   "source": [
    "client = get_client(host='localhost')\n",
    "client.command('DROP TABLE IF EXISTS objects')\n",
    "client.command(\"\"\"\n",
    "CREATE TABLE objects (\n",
    "    id String,\n",
    "    type String,\n",
    "    val String,\n",
    "    files Map(String, String),\n",
    "    art_meta String)\n",
    "ENGINE = MergeTree()\n",
    "ORDER BY id\n",
    "PRIMARY KEY (id)\n",
    "\"\"\")"
   ]
  }
 ],
 "metadata": {
  "kernelspec": {
   "display_name": "Python 3 (ipykernel)",
   "language": "python",
   "name": "python3"
  },
  "language_info": {
   "codemirror_mode": {
    "name": "ipython",
    "version": 3
   },
   "file_extension": ".py",
   "mimetype": "text/x-python",
   "name": "python",
   "nbconvert_exporter": "python",
   "pygments_lexer": "ipython3",
   "version": "3.10.13"
  }
 },
 "nbformat": 4,
 "nbformat_minor": 5
}
