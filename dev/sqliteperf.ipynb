{
 "cells": [
  {
   "cell_type": "code",
   "execution_count": 9,
   "id": "1e9f3ad0-c8af-47c2-990e-d05bfe62275c",
   "metadata": {},
   "outputs": [],
   "source": [
    "import sqlite3\n",
    "import json\n",
    "import time"
   ]
  },
  {
   "cell_type": "code",
   "execution_count": 15,
   "id": "0e8e60df-98e2-463d-b5ad-41b12e548589",
   "metadata": {},
   "outputs": [],
   "source": [
    "conn = sqlite3.connect('test_db.sqlite')\n",
    "cursor = conn.cursor()"
   ]
  },
  {
   "cell_type": "code",
   "execution_count": 16,
   "id": "e3835f40-5398-4cec-93aa-4f37567408a5",
   "metadata": {},
   "outputs": [
    {
     "name": "stdout",
     "output_type": "stream",
     "text": [
      "Inserted 10000000 records in 28.104839086532593 seconds.\n"
     ]
    }
   ],
   "source": [
    "cursor.execute(\"CREATE TABLE IF NOT EXISTS test_json (id INTEGER PRIMARY KEY AUTOINCREMENT, data TEXT)\")\n",
    "records_to_insert = 10000000\n",
    "json_data_template = {\"name\": \"Name\", \"age\": 30, \"interests\": [\"hobby1\", \"hobby2\"]}\n",
    "start_time = time.time()\n",
    "for i in range(records_to_insert):\n",
    "    json_data = json_data_template.copy()\n",
    "    json_data['name'] = f\"Name_{i}\"\n",
    "    cursor.execute(\"INSERT INTO test_json (data) VALUES (?)\", (json.dumps(json_data),))\n",
    "conn.commit()\n",
    "end_time = time.time()\n",
    "\n",
    "print(f\"Inserted {records_to_insert} records in {end_time - start_time} seconds.\")"
   ]
  },
  {
   "cell_type": "code",
   "execution_count": 18,
   "id": "28e4e35f-abbc-4415-ad1e-befecf551c28",
   "metadata": {},
   "outputs": [
    {
     "name": "stdout",
     "output_type": "stream",
     "text": [
      "Query time: 1.368523120880127 seconds. Result: [(500001, '{\"name\": \"Name_500000\", \"age\": 30, \"interests\": [\"hobby1\", \"hobby2\"]}'), (1500001, '{\"name\": \"Name_500000\", \"age\": 30, \"interests\": [\"hobby1\", \"hobby2\"]}'), (6000001, '{\"name\": \"Name_5000000\", \"age\": 30, \"interests\": [\"hobby1\", \"hobby2\"]}'), (6000002, '{\"name\": \"Name_5000001\", \"age\": 30, \"interests\": [\"hobby1\", \"hobby2\"]}'), (6000003, '{\"name\": \"Name_5000002\", \"age\": 30, \"interests\": [\"hobby1\", \"hobby2\"]}'), (6000004, '{\"name\": \"Name_5000003\", \"age\": 30, \"interests\": [\"hobby1\", \"hobby2\"]}'), (6000005, '{\"name\": \"Name_5000004\", \"age\": 30, \"interests\": [\"hobby1\", \"hobby2\"]}'), (6000006, '{\"name\": \"Name_5000005\", \"age\": 30, \"interests\": [\"hobby1\", \"hobby2\"]}'), (6000007, '{\"name\": \"Name_5000006\", \"age\": 30, \"interests\": [\"hobby1\", \"hobby2\"]}'), (6000008, '{\"name\": \"Name_5000007\", \"age\": 30, \"interests\": [\"hobby1\", \"hobby2\"]}'), (6000009, '{\"name\": \"Name_5000008\", \"age\": 30, \"interests\": [\"hobby1\", \"hobby2\"]}'), (6000010, '{\"name\": \"Name_5000009\", \"age\": 30, \"interests\": [\"hobby1\", \"hobby2\"]}')]\n"
     ]
    }
   ],
   "source": [
    "conn = sqlite3.connect('test_db.sqlite')\n",
    "cursor = conn.cursor()\n",
    "\n",
    "# Query for a specific record\n",
    "query_name = \"Name_500000\"\n",
    "start_time = time.time()\n",
    "cursor.execute(\"SELECT * FROM test_json WHERE data LIKE ?\", (f'%{query_name}%',))\n",
    "result = cursor.fetchall()\n",
    "end_time = time.time()\n",
    "\n",
    "print(f\"Query time: {end_time - start_time} seconds. Result: {result}\")\n",
    "\n",
    "# Close the connection\n",
    "conn.close()"
   ]
  }
 ],
 "metadata": {
  "kernelspec": {
   "display_name": "Python 3 (ipykernel)",
   "language": "python",
   "name": "python3"
  },
  "language_info": {
   "codemirror_mode": {
    "name": "ipython",
    "version": 3
   },
   "file_extension": ".py",
   "mimetype": "text/x-python",
   "name": "python",
   "nbconvert_exporter": "python",
   "pygments_lexer": "ipython3",
   "version": "3.10.13"
  }
 },
 "nbformat": 4,
 "nbformat_minor": 5
}
