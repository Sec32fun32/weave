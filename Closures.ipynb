{
 "cells": [
  {
   "cell_type": "code",
   "execution_count": 1,
   "id": "3b92666d",
   "metadata": {},
   "outputs": [],
   "source": [
    "import weave"
   ]
  },
  {
   "cell_type": "code",
   "execution_count": 7,
   "id": "50b5a756",
   "metadata": {},
   "outputs": [],
   "source": [
    "x = 7\n",
    "\n",
    "@weave.op()\n",
    "def add_to_closed_var(n: int) -> int:\n",
    "    return x + n"
   ]
  },
  {
   "cell_type": "code",
   "execution_count": 9,
   "id": "22a013e5",
   "metadata": {},
   "outputs": [
    {
     "name": "stdout",
     "output_type": "stream",
     "text": [
      "None\n"
     ]
    }
   ],
   "source": [
    "print(add_to_closed_var.resolve_fn.__closure__)"
   ]
  },
  {
   "cell_type": "code",
   "execution_count": 28,
   "id": "89dd09af",
   "metadata": {},
   "outputs": [
    {
     "name": "stdout",
     "output_type": "stream",
     "text": [
      "EXECUTION SUMMARY\n",
      "{'op-add_to_closed_var:a150be889d1521b8d8b3ce67ccff6704': {'avg_time': 0.0027189254760742188,\n",
      "                                                           'count': 1,\n",
      "                                                           'total_time': 0.0027189254760742188}}\n",
      "14\n"
     ]
    }
   ],
   "source": [
    "print(weave.use(add_to_closed_var(9)))"
   ]
  },
  {
   "cell_type": "code",
   "execution_count": 20,
   "id": "43311fde",
   "metadata": {},
   "outputs": [
    {
     "data": {
      "text/plain": [
       "(<cell at 0x13920be20: int object at 0x10f70a950>,)"
      ]
     },
     "execution_count": 20,
     "metadata": {},
     "output_type": "execute_result"
    }
   ],
   "source": [
    "outer_var = 1\n",
    "\n",
    "def make_fn():\n",
    "    maker_var = 2\n",
    "    def fn(arg_var):\n",
    "        return outer_var + maker_var + arg_var\n",
    "    return fn\n",
    "\n",
    "fn = make_fn()\n",
    "fn.__closure__"
   ]
  },
  {
   "cell_type": "code",
   "execution_count": 39,
   "id": "18a3063c",
   "metadata": {},
   "outputs": [
    {
     "name": "stdout",
     "output_type": "stream",
     "text": [
      "None\n",
      "None\n",
      "None\n"
     ]
    },
    {
     "data": {
      "text/plain": [
       "<function __main__.simple_fn(simple_arg)>"
      ]
     },
     "metadata": {},
     "output_type": "display_data"
    },
    {
     "data": {
      "text/plain": [
       "['In',\n",
       " 'Out',\n",
       " '_',\n",
       " '_13',\n",
       " '_17',\n",
       " '_18',\n",
       " '_20',\n",
       " '_34',\n",
       " '__',\n",
       " '___',\n",
       " '__builtin__',\n",
       " '__builtins__',\n",
       " '__doc__',\n",
       " '__loader__',\n",
       " '__name__',\n",
       " '__package__',\n",
       " '__spec__',\n",
       " '_dh',\n",
       " '_i',\n",
       " '_i1',\n",
       " '_i10',\n",
       " '_i11',\n",
       " '_i12',\n",
       " '_i13',\n",
       " '_i14',\n",
       " '_i15',\n",
       " '_i16',\n",
       " '_i17',\n",
       " '_i18',\n",
       " '_i19',\n",
       " '_i2',\n",
       " '_i20',\n",
       " '_i21',\n",
       " '_i22',\n",
       " '_i23',\n",
       " '_i24',\n",
       " '_i25',\n",
       " '_i26',\n",
       " '_i27',\n",
       " '_i28',\n",
       " '_i29',\n",
       " '_i3',\n",
       " '_i30',\n",
       " '_i31',\n",
       " '_i32',\n",
       " '_i33',\n",
       " '_i34',\n",
       " '_i35',\n",
       " '_i36',\n",
       " '_i37',\n",
       " '_i38',\n",
       " '_i39',\n",
       " '_i4',\n",
       " '_i5',\n",
       " '_i6',\n",
       " '_i7',\n",
       " '_i8',\n",
       " '_i9',\n",
       " '_ih',\n",
       " '_ii',\n",
       " '_iii',\n",
       " '_oh',\n",
       " 'add_to_closed_var',\n",
       " 'bla',\n",
       " 'exit',\n",
       " 'fn',\n",
       " 'get_ipython',\n",
       " 'make_bla',\n",
       " 'make_fn',\n",
       " 'outer_var',\n",
       " 'quit',\n",
       " 'receiver',\n",
       " 'returner',\n",
       " 'simple_fn',\n",
       " 'weave',\n",
       " 'x']"
      ]
     },
     "execution_count": 39,
     "metadata": {},
     "output_type": "execute_result"
    }
   ],
   "source": [
    "outer_var = 1\n",
    "def simple_fn(simple_arg):\n",
    "    return outer_var + simple_arg\n",
    "# no closure here\n",
    "print(simple_fn.__closure__)\n",
    "\n",
    "def receiver(fn):\n",
    "    print(fn.__closure__)\n",
    "# no closure when you received the function as input\n",
    "receiver(simple_fn)\n",
    "def returner(fn):\n",
    "    return fn\n",
    "\n",
    "# no closure when fn is returned from another function\n",
    "print(returner(simple_fn).__closure__)\n",
    "\n",
    "# This doesn't think it needs to close, because all versions have the value available in globals (I think)\n",
    "\n",
    "# *Causes AttributeError\n",
    "# print(simple_fn.__globals__.outer_var)\n",
    "\n",
    "# not present in globals()\n",
    "# *Causes AttributeError\n",
    "# globals().outer_var\n",
    "\n",
    "# not present in locals()\n",
    "# *Causes AttributeError\n",
    "# locals().outer_var\n",
    "\n",
    "display(simple_fn)\n",
    "\n",
    "# it is here in dir:\n",
    "dir()\n",
    "\n",
    "# Here's a really good article to read: https://www.wrighters.io/how-to-view-all-your-variables-in-a-jupyter-notebook/\n"
   ]
  }
 ],
 "metadata": {
  "kernelspec": {
   "display_name": "Python 3 (ipykernel)",
   "language": "python",
   "name": "python3"
  },
  "language_info": {
   "codemirror_mode": {
    "name": "ipython",
    "version": 3
   },
   "file_extension": ".py",
   "mimetype": "text/x-python",
   "name": "python",
   "nbconvert_exporter": "python",
   "pygments_lexer": "ipython3",
   "version": "3.9.7"
  }
 },
 "nbformat": 4,
 "nbformat_minor": 5
}
