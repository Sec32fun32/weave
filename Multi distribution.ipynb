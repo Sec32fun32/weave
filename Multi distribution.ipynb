{
 "cells": [
  {
   "cell_type": "code",
   "execution_count": null,
   "id": "726127b0",
   "metadata": {},
   "outputs": [],
   "source": [
    "import random\n",
    "import weave\n",
    "weave.use_frontend_devmode()\n",
    "from weave.ecosystem.shawn import scratch\n",
    "from weave import weave_internal"
   ]
  },
  {
   "cell_type": "code",
   "execution_count": null,
   "id": "a5c2e1d2",
   "metadata": {
    "scrolled": false
   },
   "outputs": [],
   "source": [
    "items = weave.save([\n",
    "    {'label': 'x', 'values': [random.gauss(5, 2) for i in range(500)]},\n",
    "    {'label': 'y', 'values': [random.gauss(9, 4) for i in range(500)]}])\n",
    "\n",
    "scratch.MultiDistribution(\n",
    "    items,\n",
    "    value_fn=lambda x: x['values'],\n",
    "    label_fn=lambda x: x['label']\n",
    ")"
   ]
  }
 ],
 "metadata": {
  "kernelspec": {
   "display_name": "Python 3 (ipykernel)",
   "language": "python",
   "name": "python3"
  },
  "language_info": {
   "codemirror_mode": {
    "name": "ipython",
    "version": 3
   },
   "file_extension": ".py",
   "mimetype": "text/x-python",
   "name": "python",
   "nbconvert_exporter": "python",
   "pygments_lexer": "ipython3",
   "version": "3.9.7"
  }
 },
 "nbformat": 4,
 "nbformat_minor": 5
}
