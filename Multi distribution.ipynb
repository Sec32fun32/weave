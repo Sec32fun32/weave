{
 "cells": [
  {
   "cell_type": "code",
   "execution_count": null,
   "id": "726127b0",
   "metadata": {
    "scrolled": false
   },
   "outputs": [],
   "source": [
    "import random\n",
    "import weave\n",
    "weave.use_frontend_devmode()\n",
    "from weave.ecosystem import wandb\n",
    "from weave import weave_internal"
   ]
  },
  {
   "cell_type": "code",
   "execution_count": null,
   "id": "a5c2e1d2",
   "metadata": {
    "scrolled": false
   },
   "outputs": [],
   "source": [
    "items = weave.save([\n",
    "    {'label': 'x', 'values': [random.gauss(5, 2) for i in range(500)]},\n",
    "    {'label': 'y', 'values': [random.gauss(9, 4) for i in range(500)]}])\n",
    "\n",
    "panel = wandb.MultiDistribution(\n",
    "    items,\n",
    "    value_fn=lambda x: x['values'],\n",
    "    label_fn=lambda x: x['label']\n",
    ")\n",
    "items"
   ]
  },
  {
   "cell_type": "code",
   "execution_count": null,
   "id": "5e109272",
   "metadata": {},
   "outputs": [],
   "source": [
    "# weave.panels.Group2(\n",
    "#     items={\n",
    "#         'bin_size': weave.panels.Slider2(\n",
    "#             weave.panels.Slider2Config(value=weave_internal.make_const_node(weave.types.Float(), 10))),\n",
    "#         'distribution': lambda bin_size: weave.panels.LabeledItem(\n",
    "#             label='plot',\n",
    "#             item=wandb.MultiDistribution(\n",
    "#                 items,\n",
    "#                 value_fn=lambda x: x['values'],\n",
    "#                 label_fn=lambda x: x['label'],\n",
    "#                 bin_size=bin_size.config.value\n",
    "#             )\n",
    "#         )\n",
    "#     }\n",
    "# )\n",
    "# pass"
   ]
  }
 ],
 "metadata": {
  "kernelspec": {
   "display_name": "Python 3 (ipykernel)",
   "language": "python",
   "name": "python3"
  },
  "language_info": {
   "codemirror_mode": {
    "name": "ipython",
    "version": 3
   },
   "file_extension": ".py",
   "mimetype": "text/x-python",
   "name": "python",
   "nbconvert_exporter": "python",
   "pygments_lexer": "ipython3",
   "version": "3.9.7"
  }
 },
 "nbformat": 4,
 "nbformat_minor": 5
}
