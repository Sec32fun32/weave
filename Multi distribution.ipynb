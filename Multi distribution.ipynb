{
 "cells": [
  {
   "cell_type": "code",
   "execution_count": 1,
   "id": "726127b0",
   "metadata": {
    "scrolled": false
   },
   "outputs": [],
   "source": [
    "import random\n",
    "import weave\n",
    "weave.use_frontend_devmode()\n",
    "from weave.ecosystem import wandb\n",
    "from weave import weave_internal"
   ]
  },
  {
   "cell_type": "code",
   "execution_count": 2,
   "id": "a5c2e1d2",
   "metadata": {
    "scrolled": false
   },
   "outputs": [
    {
     "data": {
      "text/html": [
       "\n",
       "        <iframe\n",
       "            width=\"100%\"\n",
       "            height=\"400px\"\n",
       "            src=\"http://localhost:3000/__frontend/weave_jupyter?fullScreen&expNode=%7B%22nodeType%22%3A%20%22output%22%2C%20%22type%22%3A%20%7B%22type%22%3A%20%22list%22%2C%20%22objectType%22%3A%20%7B%22type%22%3A%20%22typedDict%22%2C%20%22propertyTypes%22%3A%20%7B%22label%22%3A%20%22string%22%2C%20%22values%22%3A%20%7B%22type%22%3A%20%22list%22%2C%20%22objectType%22%3A%20%22float%22%7D%7D%7D%7D%2C%20%22fromOp%22%3A%20%7B%22name%22%3A%20%22get%22%2C%20%22inputs%22%3A%20%7B%22uri%22%3A%20%7B%22nodeType%22%3A%20%22const%22%2C%20%22type%22%3A%20%22string%22%2C%20%22val%22%3A%20%22local-artifact%3A///tmp/local-artifacts/list/c25b8abdf6a292085a01cfb5d3aea265%22%7D%7D%7D%7D&panelId=op-multi_distribution&panelConfig=%7B%22value%22%3A%20%7B%22nodeType%22%3A%20%22const%22%2C%20%22type%22%3A%20%7B%22type%22%3A%20%22function%22%2C%20%22inputTypes%22%3A%20%7B%22x%22%3A%20%7B%22type%22%3A%20%22typedDict%22%2C%20%22propertyTypes%22%3A%20%7B%22label%22%3A%20%22string%22%2C%20%22values%22%3A%20%22float%22%7D%7D%7D%2C%20%22outputType%22%3A%20%22float%22%7D%2C%20%22val%22%3A%20%7B%22nodeType%22%3A%20%22output%22%2C%20%22type%22%3A%20%22float%22%2C%20%22fromOp%22%3A%20%7B%22name%22%3A%20%22pick%22%2C%20%22inputs%22%3A%20%7B%22obj%22%3A%20%7B%22nodeType%22%3A%20%22var%22%2C%20%22type%22%3A%20%7B%22type%22%3A%20%22typedDict%22%2C%20%22propertyTypes%22%3A%20%7B%22label%22%3A%20%22string%22%2C%20%22values%22%3A%20%22float%22%7D%7D%2C%20%22varName%22%3A%20%22x%22%7D%2C%20%22key%22%3A%20%7B%22nodeType%22%3A%20%22const%22%2C%20%22type%22%3A%20%22string%22%2C%20%22val%22%3A%20%22values%22%7D%7D%7D%7D%7D%2C%20%22label%22%3A%20%7B%22nodeType%22%3A%20%22const%22%2C%20%22type%22%3A%20%7B%22type%22%3A%20%22function%22%2C%20%22inputTypes%22%3A%20%7B%22x%22%3A%20%7B%22type%22%3A%20%22typedDict%22%2C%20%22propertyTypes%22%3A%20%7B%22label%22%3A%20%22string%22%2C%20%22values%22%3A%20%22float%22%7D%7D%7D%2C%20%22outputType%22%3A%20%22string%22%7D%2C%20%22val%22%3A%20%7B%22nodeType%22%3A%20%22output%22%2C%20%22type%22%3A%20%22string%22%2C%20%22fromOp%22%3A%20%7B%22name%22%3A%20%22pick%22%2C%20%22inputs%22%3A%20%7B%22obj%22%3A%20%7B%22nodeType%22%3A%20%22var%22%2C%20%22type%22%3A%20%7B%22type%22%3A%20%22typedDict%22%2C%20%22propertyTypes%22%3A%20%7B%22label%22%3A%20%22string%22%2C%20%22values%22%3A%20%22float%22%7D%7D%2C%20%22varName%22%3A%20%22x%22%7D%2C%20%22key%22%3A%20%7B%22nodeType%22%3A%20%22const%22%2C%20%22type%22%3A%20%22string%22%2C%20%22val%22%3A%20%22label%22%7D%7D%7D%7D%7D%2C%20%22bin_size%22%3A%20%7B%22nodeType%22%3A%20%22const%22%2C%20%22type%22%3A%20%22float%22%2C%20%22val%22%3A%2010%7D%2C%20%22_union_id%22%3A%200%7D\"\n",
       "            frameborder=\"0\"\n",
       "            allowfullscreen\n",
       "            \n",
       "        ></iframe>\n",
       "        "
      ],
      "text/plain": [
       "<IPython.lib.display.IFrame at 0x107f73ca0>"
      ]
     },
     "metadata": {},
     "output_type": "display_data"
    }
   ],
   "source": [
    "items = weave.save([\n",
    "    {'label': 'x', 'values': [random.gauss(5, 2) for i in range(500)]},\n",
    "    {'label': 'y', 'values': [random.gauss(9, 4) for i in range(500)]}])\n",
    "\n",
    "panel = wandb.MultiDistribution(\n",
    "    items,\n",
    "    value_fn=lambda x: x['values'],\n",
    "    label_fn=lambda x: x['label']\n",
    ")\n",
    "panel"
   ]
  },
  {
   "cell_type": "code",
   "execution_count": 3,
   "id": "5e109272",
   "metadata": {},
   "outputs": [],
   "source": [
    "weave.panels.Group2(\n",
    "    items={\n",
    "        'bin_size': weave.panels.Slider2(\n",
    "            weave.panels.Slider2Config(value=weave_internal.make_const_node(weave.types.Float(), 10))),\n",
    "        'distribution': lambda bin_size: weave.panels.LabeledItem(\n",
    "            label='plot',\n",
    "            item=wandb.MultiDistribution(\n",
    "                items,\n",
    "                value_fn=lambda x: x['values'],\n",
    "                label_fn=lambda x: x['label'],\n",
    "                bin_size=bin_size.config.value\n",
    "            )\n",
    "        )\n",
    "    }\n",
    ")\n",
    "pass"
   ]
  }
 ],
 "metadata": {
  "kernelspec": {
   "display_name": "Python 3 (ipykernel)",
   "language": "python",
   "name": "python3"
  },
  "language_info": {
   "codemirror_mode": {
    "name": "ipython",
    "version": 3
   },
   "file_extension": ".py",
   "mimetype": "text/x-python",
   "name": "python",
   "nbconvert_exporter": "python",
   "pygments_lexer": "ipython3",
   "version": "3.9.7"
  }
 },
 "nbformat": 4,
 "nbformat_minor": 5
}
