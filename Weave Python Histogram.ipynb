{
 "cells": [
  {
   "cell_type": "code",
   "execution_count": 1,
   "id": "972d092f",
   "metadata": {},
   "outputs": [],
   "source": [
    "import weave\n",
    "import typing"
   ]
  },
  {
   "cell_type": "code",
   "execution_count": null,
   "id": "0ec7464e",
   "metadata": {},
   "outputs": [],
   "source": [
    "ItemType = typing.TypeVar('ItemType')\n",
    "\n",
    "@weave.type()\n",
    "class Distribution(weave.panels.Panel):\n",
    "    input_node: weave.Node[list[typing.Any]]\n",
    "    series_fn: typing.Callable[[ItemType], list[float]] = lambda x: x\n",
    "    series_label: typing.Callable[[ItemType], str] = None\n",
    "    n_bins: int = 10 # TODO: generalize to other binning methods\n",
    "        \n",
    "    # Configuration\n",
    "    #   series expression: expression from incoming Item to a series\n",
    "    #   series label: expression from incoming item to a label    \n",
    "    \n",
    "    def render_config():\n",
    "        # TODO: how\n",
    "        pass\n",
    "    \n",
    "    def render():\n",
    "        bin_fn = weave.ops.equal_bins(.1)\n",
    "        return weave.panels.Plot(\n",
    "            self.input_node,\n",
    "            \n",
    "            label=self.series_label,\n",
    "            group_by_label=True,\n",
    "            \n",
    "            x=lambda row, domain: self.series_expression(row).bin(\n",
    "                weave.ops.equal_bins(domain.min(), domain.max(), self.n_bins)\n",
    "            ),\n",
    "            group_by_x=True,\n",
    "            \n",
    "            y=lambda bin_values: bin_values.count()\n",
    "        )"
   ]
  },
  {
   "cell_type": "code",
   "execution_count": null,
   "id": "91561338",
   "metadata": {},
   "outputs": [],
   "source": [
    "# Simple histogram over input series\n",
    "Distribution([random.random() for i in range(1000)])"
   ]
  },
  {
   "cell_type": "code",
   "execution_count": null,
   "id": "b8d87e61",
   "metadata": {},
   "outputs": [],
   "source": [
    "runs = [\n",
    "    Run(name='a', history=[{'a': random.random() for i in range(1000)}]),\n",
    "    Run(name='b', history=[{'a': random.random() for i in range(1000)}])\n",
    "]\n",
    "\n",
    "# Label automatically inferred because item is Run\n",
    "Distribution(runs, series_fn=lambda run: run.history['a'])"
   ]
  },
  {
   "cell_type": "code",
   "execution_count": null,
   "id": "24669386",
   "metadata": {},
   "outputs": [],
   "source": [
    "# Add KL divergence\n",
    "weave.panels.Group(\n",
    "    items={\n",
    "        'distribution_plot': Distribution(runs, series_fn=lambda run: run.history['a']),\n",
    "        'summary': lambda distribution_plot:\n",
    "                weave.ops.kldivergence(\n",
    "                    distribution_plot.series[0],\n",
    "                    distribution_plot.series[1])\n",
    "    }\n",
    ")"
   ]
  },
  {
   "cell_type": "code",
   "execution_count": 2,
   "id": "04a328ef",
   "metadata": {},
   "outputs": [
    {
     "ename": "SyntaxError",
     "evalue": "invalid syntax (2839749518.py, line 38)",
     "output_type": "error",
     "traceback": [
      "\u001b[0;36m  Input \u001b[0;32mIn [2]\u001b[0;36m\u001b[0m\n\u001b[0;31m    y=lambda v: row['value'][1]\u001b[0m\n\u001b[0m    ^\u001b[0m\n\u001b[0;31mSyntaxError\u001b[0m\u001b[0;31m:\u001b[0m invalid syntax\n"
     ]
    }
   ],
   "source": [
    "# 2nd implementation\n",
    "ItemType = typing.TypeVar('ItemType')\n",
    "\n",
    "@weave.type()\n",
    "class Distribution(weave.panels.Panel):\n",
    "    input_node: weave.Node[list[typing.Any]]\n",
    "    series_fn: typing.Callable[[ItemType], list[float]] = lambda x: x\n",
    "    series_label: typing.Callable[[ItemType], str] = None\n",
    "    n_bins: int = 10 # TODO: generalize to other binning methods\n",
    "        \n",
    "    @weave.op()\n",
    "    def series():\n",
    "        return self.input_node.map(\n",
    "            lambda r: {'label': self.series_label(r), 'values': self.series_fn(r)}\n",
    "        )\n",
    "    \n",
    "    @weave.op()\n",
    "    def bin_fn():\n",
    "        all_values = self.series().unnest()['values']\n",
    "        return weave.ops.equal_bins(all_values.min(), all_values.max(), self.n_bins)\n",
    "    \n",
    "    @weave.op()\n",
    "    def distributions():\n",
    "        return self.series.map(\n",
    "            lambda series: {\n",
    "                'label': series['label'],\n",
    "                'value_counts': series['values']\n",
    "                    .group_by(lambda v: v.bin(self.bin_fn()))\n",
    "                    .count()\n",
    "            }\n",
    "        )\n",
    "    \n",
    "    def render():\n",
    "        return weave.panels.Plot(\n",
    "            self.distributions().unnest(),\n",
    "            label=lambda v: v['label'],\n",
    "            x=lambda v: row['value'][0]\n",
    "            y=lambda v: row['value'][1]\n",
    "        )"
   ]
  },
  {
   "cell_type": "raw",
   "id": "34fbd94b",
   "metadata": {},
   "source": [
    "# Add KL divergence\n",
    "weave.panels.Group(\n",
    "    items={\n",
    "        'distribution_plot': Distribution(runs, series_fn=lambda run: run.history['a']),\n",
    "        'summary': lambda distribution_plot:\n",
    "                weave.ops.kldivergence(\n",
    "                    distribution_plot.distributions()[0]['values'],\n",
    "                    distribution_plot.distributions()[1]['values'])\n",
    "    }\n",
    ")"
   ]
  },
  {
   "cell_type": "code",
   "execution_count": null,
   "id": "08fddb25",
   "metadata": {
    "scrolled": false
   },
   "outputs": [],
   "source": [
    "import weave\n",
    "weave.use_frontend_devmode()\n",
    "import random\n",
    "data = weave.save([random.random() for i in range(100)])\n",
    "data"
   ]
  }
 ],
 "metadata": {
  "kernelspec": {
   "display_name": "Python 3 (ipykernel)",
   "language": "python",
   "name": "python3"
  },
  "language_info": {
   "codemirror_mode": {
    "name": "ipython",
    "version": 3
   },
   "file_extension": ".py",
   "mimetype": "text/x-python",
   "name": "python",
   "nbconvert_exporter": "python",
   "pygments_lexer": "ipython3",
   "version": "3.9.7"
  }
 },
 "nbformat": 4,
 "nbformat_minor": 5
}
