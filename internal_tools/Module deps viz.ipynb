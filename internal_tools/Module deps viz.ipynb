{
 "cells": [
  {
   "cell_type": "markdown",
   "id": "06f670a9",
   "metadata": {},
   "source": [
    "## Weave module deps visualization\n",
    "\n",
    "Visualize dependencies within the Weave core modules, so we can untangle circular imports and get organized."
   ]
  },
  {
   "cell_type": "code",
   "execution_count": 1,
   "id": "d461eb27",
   "metadata": {},
   "outputs": [],
   "source": [
    "#!pip install dagre_py"
   ]
  },
  {
   "cell_type": "code",
   "execution_count": 2,
   "id": "b94ef44e",
   "metadata": {},
   "outputs": [],
   "source": [
    "import pathlib\n",
    "from dagre_py.core import plot"
   ]
  },
  {
   "cell_type": "code",
   "execution_count": 3,
   "id": "5413ade3",
   "metadata": {},
   "outputs": [
    {
     "data": {
      "text/plain": [
       "63"
      ]
     },
     "execution_count": 3,
     "metadata": {},
     "output_type": "execute_result"
    }
   ],
   "source": [
    "# Load non-test python files from 'weave/'\n",
    "\n",
    "files = [p for p in pathlib.Path('weave').iterdir() if p.name.endswith('.py')]\n",
    "files = [p for p in files if not p.name.startswith('test_')]\n",
    "files = [p for p in files if not p.name == 'conftest.py']\n",
    "len(files)"
   ]
  },
  {
   "cell_type": "code",
   "execution_count": 4,
   "id": "25e2bc67",
   "metadata": {},
   "outputs": [],
   "source": [
    "def get_module_name(file):\n",
    "    return file.name.split('.py')[0]\n",
    "# convert files to modules\n",
    "modules = [get_module_name(f) for f in files]\n",
    "\n",
    "# add directory modules\n",
    "modules += ['panels', 'ecosystem', 'ops_primitives', 'ops_domain']\n",
    "#modules"
   ]
  },
  {
   "cell_type": "code",
   "execution_count": 5,
   "id": "36a9e677",
   "metadata": {},
   "outputs": [],
   "source": [
    "def get_import_component(imp: str):\n",
    "    imp = imp.strip().strip('#').strip()\n",
    "    # 'from .X'\n",
    "    if imp[6] != ' ':\n",
    "        return imp.split()[1][1:].split('.')[0]\n",
    "    imp = imp.split('import ')[1]\n",
    "    return imp.split(' ')[0]\n",
    "\n",
    "def get_imports(path: pathlib.Path):\n",
    "    top_level_imports = []\n",
    "    inline_imports = []\n",
    "    for line in open(path).read().split('\\n'):\n",
    "        if line.startswith('from .'):\n",
    "            top_level_imports.append(get_import_component(line))\n",
    "        elif 'from .' in line:\n",
    "            inline_imports.append(get_import_component(line))\n",
    "    return top_level_imports, inline_imports"
   ]
  },
  {
   "cell_type": "code",
   "execution_count": 6,
   "id": "636c320f",
   "metadata": {},
   "outputs": [],
   "source": [
    "nodes = [{\"label\": m} for m in modules]\n",
    "#nodes"
   ]
  },
  {
   "cell_type": "code",
   "execution_count": 7,
   "id": "1f59cb41",
   "metadata": {},
   "outputs": [],
   "source": [
    "edges = []\n",
    "edge_num = 0\n",
    "for p, m in zip(files, modules):\n",
    "    top_level_imports, inline_imports = get_imports(p)\n",
    "    for imp in top_level_imports:\n",
    "        edges.append({'source': m, 'target': imp})\n",
    "    for imp in inline_imports:\n",
    "        edges.append({'source': m, 'target': imp, 'attributes': {'disabled': True}})\n",
    "#edges"
   ]
  },
  {
   "cell_type": "code",
   "execution_count": 8,
   "id": "7a57c488",
   "metadata": {},
   "outputs": [],
   "source": [
    "# Check to make sure edges are consistent with nodes\n",
    "\n",
    "module_set = set(modules)\n",
    "for e in edges:\n",
    "    if e['source'] not in module_set:\n",
    "        print('MISSING source', e)\n",
    "    if e['target'] not in module_set:\n",
    "        print('MISSING target', e)"
   ]
  },
  {
   "cell_type": "code",
   "execution_count": 9,
   "id": "bc7d586d",
   "metadata": {},
   "outputs": [],
   "source": [
    "spec = {'nodes': nodes, 'edges': edges}\n",
    "#spec"
   ]
  },
  {
   "cell_type": "code",
   "execution_count": 10,
   "id": "132ac2a1",
   "metadata": {},
   "outputs": [],
   "source": [
    "for node in spec['nodes']:\n",
    "    inputs = [e['source'] for e in edges if e['target'] == node['label']]\n",
    "    outputs = [e['target'] for e in edges if e['source'] == node['label']]\n",
    "    inputs_s = '\\n'.join('  ' + i for i in inputs)\n",
    "    outputs_s = '\\n'.join('  ' + o for o in outputs)\n",
    "    node['description'] = 'inputs:\\n%s\\n\\noutputs:\\n%s' % (inputs_s, outputs_s)"
   ]
  },
  {
   "cell_type": "code",
   "execution_count": 11,
   "id": "2105e05f",
   "metadata": {},
   "outputs": [],
   "source": [
    "def remove_nodes(spec, remove):\n",
    "    remove = set(remove)\n",
    "    nodes = [n for n in spec['nodes'] if n['label'] not in remove]\n",
    "    edges = [e for e in spec['edges'] if e['source'] not in remove and e['target'] not in remove]\n",
    "    return {'nodes': nodes, 'edges': edges}"
   ]
  },
  {
   "cell_type": "code",
   "execution_count": 12,
   "id": "2961db15",
   "metadata": {},
   "outputs": [],
   "source": [
    "# These are base modules that don't or shouldn't have dependencies\n",
    "#to_remove = ['weave_types', 'op_args', 'errors', 'uris', 'box']\n",
    "\n",
    "final_spec = remove_nodes(spec, ['errors'])\n",
    "#final_spec\n",
    "plot(final_spec)"
   ]
  }
 ],
 "metadata": {
  "kernelspec": {
   "display_name": "Python 3 (ipykernel)",
   "language": "python",
   "name": "python3"
  },
  "language_info": {
   "codemirror_mode": {
    "name": "ipython",
    "version": 3
   },
   "file_extension": ".py",
   "mimetype": "text/x-python",
   "name": "python",
   "nbconvert_exporter": "python",
   "pygments_lexer": "ipython3",
   "version": "3.9.7"
  }
 },
 "nbformat": 4,
 "nbformat_minor": 5
}
