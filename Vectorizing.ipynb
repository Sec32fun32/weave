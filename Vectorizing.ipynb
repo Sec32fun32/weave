{
 "cells": [
  {
   "cell_type": "code",
   "execution_count": 1,
   "id": "5f10d941",
   "metadata": {
    "scrolled": true
   },
   "outputs": [],
   "source": [
    "import weave\n",
    "import time\n",
    "from weave import storage\n",
    "from weave import geom"
   ]
  },
  {
   "cell_type": "code",
   "execution_count": 6,
   "id": "9f3026bd",
   "metadata": {
    "scrolled": true
   },
   "outputs": [
    {
     "name": "stdout",
     "output_type": "stream",
     "text": [
      "PYARROW_TYPE extension<weave_object<ArrowWeaveType>> <class 'weave.mappers_arrow.ArrowWeaveType'>\n"
     ]
    }
   ],
   "source": [
    "segs = []\n",
    "for i in range(1000000):\n",
    "    segs.append(geom.LineSegment(i*0.1, i+0.2, i+0.3, i*0.5))\n",
    "l = weave.save(segs)\n",
    "arr = weave.ops.ArrowArrayList(storage.to_arrow(segs))"
   ]
  },
  {
   "cell_type": "code",
   "execution_count": 7,
   "id": "7544d866",
   "metadata": {
    "scrolled": true
   },
   "outputs": [
    {
     "name": "stdout",
     "output_type": "stream",
     "text": [
      "TIME:  0.5831022262573242\n"
     ]
    }
   ],
   "source": [
    "# pure python\n",
    "start_time = time.time()\n",
    "sum(seg.length.resolve_fn(seg) for seg in segs)\n",
    "print('TIME: ', time.time() - start_time)"
   ]
  },
  {
   "cell_type": "code",
   "execution_count": 8,
   "id": "11c2a9b6",
   "metadata": {
    "scrolled": false
   },
   "outputs": [
    {
     "name": "stdout",
     "output_type": "stream",
     "text": [
      "SELF MAP_FN <weave.arrow_util.ArrowArrayList object at 0x13cafd700> length(row)\n",
      "EXECUTION SUMMARY\n",
      "{'LineSegment-length:556444b5fbac63b8e3a1737f46e7352a': {'avg_time': 4.5959632396698e-06,\n",
      "                                                         'count': 1000000,\n",
      "                                                         'total_time': 4.5959632396698}}\n",
      "EXECUTION SUMMARY\n",
      "{'get:3fd577656d99e1810f9dbf2cb2f7b6c7': {'avg_time': 0.08229708671569824,\n",
      "                                          'count': 1,\n",
      "                                          'total_time': 0.08229708671569824},\n",
      " 'list-map:4cad6cf1a26afbce9bda0684c42c66bd': {'avg_time': 34.415913820266724,\n",
      "                                               'count': 1,\n",
      "                                               'total_time': 34.415913820266724},\n",
      " 'list-sum:55f51b4d381063c48ff834e5441d229b': {'avg_time': 0.02419900894165039,\n",
      "                                               'count': 1,\n",
      "                                               'total_time': 0.02419900894165039}}\n",
      "TIME:  34.57802605628967\n"
     ]
    }
   ],
   "source": [
    "# weave list\n",
    "start_time = time.time()\n",
    "weave.use(l.map(lambda seg: seg.length()).sum())\n",
    "print('TIME: ', time.time() - start_time)"
   ]
  },
  {
   "cell_type": "code",
   "execution_count": 9,
   "id": "71816731",
   "metadata": {
    "scrolled": true
   },
   "outputs": [
    {
     "name": "stdout",
     "output_type": "stream",
     "text": [
      "EXECUTION SUMMARY\n",
      "{'ArrowArrayList-map:4ad3b98462249bc0654e86c9e47d4b2a': {'avg_time': 0.06693720817565918,\n",
      "                                                         'count': 1,\n",
      "                                                         'total_time': 0.06693720817565918},\n",
      " 'ArrowArrayList-sum:cb86adef9c8d18d208f4158e723c01aa': {'avg_time': 0.0007829666137695312,\n",
      "                                                         'count': 1,\n",
      "                                                         'total_time': 0.0007829666137695312}}\n",
      "TIME:  0.08604264259338379\n"
     ]
    }
   ],
   "source": [
    "# weave vectorized arrow\n",
    "start_time = time.time()\n",
    "weave.use(arr.map(lambda seg: seg.length()).sum())\n",
    "print('TIME: ', time.time() - start_time)"
   ]
  }
 ],
 "metadata": {
  "kernelspec": {
   "display_name": "Python 3 (ipykernel)",
   "language": "python",
   "name": "python3"
  },
  "language_info": {
   "codemirror_mode": {
    "name": "ipython",
    "version": 3
   },
   "file_extension": ".py",
   "mimetype": "text/x-python",
   "name": "python",
   "nbconvert_exporter": "python",
   "pygments_lexer": "ipython3",
   "version": "3.9.7"
  }
 },
 "nbformat": 4,
 "nbformat_minor": 5
}
