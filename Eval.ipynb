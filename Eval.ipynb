{
 "cells": [
  {
   "cell_type": "code",
   "execution_count": 1,
   "id": "e65bf2af",
   "metadata": {
    "scrolled": true
   },
   "outputs": [],
   "source": [
    "import datetime\n",
    "import weave\n",
    "weave.use_frontend_devmode()\n",
    "import time\n",
    "from weave.ecosystem import shawn"
   ]
  },
  {
   "cell_type": "code",
   "execution_count": 2,
   "id": "4315173f",
   "metadata": {
    "scrolled": false
   },
   "outputs": [],
   "source": [
    "model = shawn.eval.Model(\"a\")\n",
    "weave.save(model, 'model-a')\n",
    "proc = shawn.eval.PredictionProcess(\"000\", model, [])\n",
    "proc.predictions.append(shawn.eval.Prediction(datetime.datetime(2022, 10, 8, 10, 26), 0, 3))\n",
    "proc.predictions.append(shawn.eval.Prediction(datetime.datetime(2022, 10, 8, 10, 31), 1, 4))\n",
    "proc.predictions.append(shawn.eval.Prediction(datetime.datetime(2022, 10, 8, 10, 35), 2, 5))\n",
    "proc.predictions.append(shawn.eval.Prediction(datetime.datetime(2022, 10, 8, 10, 40), 3, 5))\n",
    "proc.predictions.append(shawn.eval.Prediction(datetime.datetime(2022, 10, 8, 10, 42), 2, 4))\n",
    "proc.predictions.append(shawn.eval.Prediction(datetime.datetime(2022, 10, 8, 10, 44), 2, 5))\n",
    "weave.save(proc, name=\"proc-a-1\")\n",
    "\n",
    "model = shawn.eval.Model(\"b\")\n",
    "weave.save(model, 'model-b')\n",
    "proc = shawn.eval.PredictionProcess(\"000\", model, [])\n",
    "proc.predictions.append(shawn.eval.Prediction(datetime.datetime(2022, 10, 8, 10, 26), 3, 4))\n",
    "proc.predictions.append(shawn.eval.Prediction(datetime.datetime(2022, 10, 8, 10, 31), 2, 2))\n",
    "proc.predictions.append(shawn.eval.Prediction(datetime.datetime(2022, 10, 8, 10, 35), 0, 6))\n",
    "proc.predictions.append(shawn.eval.Prediction(datetime.datetime(2022, 10, 8, 10, 40), 4, 4))\n",
    "proc.predictions.append(shawn.eval.Prediction(datetime.datetime(2022, 10, 8, 10, 42), 0, 2))\n",
    "proc.predictions.append(shawn.eval.Prediction(datetime.datetime(2022, 10, 8, 10, 44), 9, 2))\n",
    "weave.save(proc, name=\"proc-b-1\")\n",
    "pass"
   ]
  },
  {
   "cell_type": "code",
   "execution_count": 3,
   "id": "615063dc",
   "metadata": {
    "scrolled": true
   },
   "outputs": [
    {
     "data": {
      "text/plain": [
       "[<LocalArtifactRef(5262427232) artifact=<LocalArtifact(5262426752) model-b db6d55f9737c8e7dd0f1fee43f28ab13> path=_obj type=ModelType() obj=False extra=None,\n",
       " <LocalArtifactRef(5262428144) artifact=<LocalArtifact(5262426800) model-a e05cd43f15469cb9fe2ae3b228890947> path=_obj type=ModelType() obj=False extra=None]"
      ]
     },
     "execution_count": 3,
     "metadata": {},
     "output_type": "execute_result"
    }
   ],
   "source": [
    "models = weave.ops.objects(shawn.eval.Model.WeaveType(), 'latest', int(time.time()))\n",
    "weave.use(models)"
   ]
  },
  {
   "cell_type": "code",
   "execution_count": 4,
   "id": "816af6de",
   "metadata": {
    "scrolled": false
   },
   "outputs": [
    {
     "data": {
      "text/html": [
       "\n",
       "        <iframe\n",
       "            width=\"100%\"\n",
       "            height=\"400px\"\n",
       "            src=\"http://localhost:3000/__frontend/weave_jupyter?fullScreen&expNode=%7B%22nodeType%22%3A%20%22output%22%2C%20%22type%22%3A%20%22unknown%22%2C%20%22fromOp%22%3A%20%7B%22name%22%3A%20%22get%22%2C%20%22inputs%22%3A%20%7B%22uri%22%3A%20%7B%22nodeType%22%3A%20%22const%22%2C%20%22type%22%3A%20%22string%22%2C%20%22val%22%3A%20%22local-artifact%3A///tmp/local-artifacts/my-new-panel/8d579b852270452ac6177f948cc450b9%22%7D%7D%7D%7D\"\n",
       "            frameborder=\"0\"\n",
       "            allowfullscreen\n",
       "            \n",
       "        ></iframe>\n",
       "        "
      ],
      "text/plain": [
       "<IPython.lib.display.IFrame at 0x139b6bc70>"
      ]
     },
     "metadata": {},
     "output_type": "display_data"
    }
   ],
   "source": [
    "panel = weave.panels.Group2(\n",
    "    preferHorizontal=True,\n",
    "    items={\n",
    "        \"sidebar\": weave.panels.Group2(\n",
    "            style=\"width: 200px; padding: 16px;\",\n",
    "            items={\n",
    "                \"model\": weave.panels.ObjectPicker(models, label='model')\n",
    "            }\n",
    "        ),\n",
    "        \"main\": lambda sidebar: weave.panels.Group2(\n",
    "            items={\n",
    "                \"plots\": weave.panels.Group2(\n",
    "                    style=\"height: 300px;\",\n",
    "                    preferHorizontal=True,\n",
    "                    equalSize=True,\n",
    "                    items={\n",
    "                        \"input_plot\": weave.panels.LabeledItem(\n",
    "                            label=\"Input\",\n",
    "                            item=weave.panels.Plot(\n",
    "                                sidebar.config.items['model'].config.choice.get().all_predictions(\n",
    "                                    datetime.datetime(2022, 1, 1), datetime.datetime(2023, 1, 1)\n",
    "                                ),\n",
    "                                x=lambda pred: pred.timestamp,\n",
    "                                y=lambda pred: pred.input,\n",
    "                                mark='line'\n",
    "                            )\n",
    "                        ),\n",
    "                        \"output_plot\": weave.panels.LabeledItem(\n",
    "                            label=\"Output\",\n",
    "                            item=weave.panels.Plot(\n",
    "                                sidebar.config.items['model'].config.choice.get().all_predictions(\n",
    "                                    datetime.datetime(2022, 1, 1), datetime.datetime(2023, 1, 1)\n",
    "                                ),\n",
    "                                x=lambda pred: pred.timestamp,\n",
    "                                y=lambda pred: pred.output,\n",
    "                                mark='line'\n",
    "                            )\n",
    "                        )\n",
    "                    }\n",
    "                ),\n",
    "                \"tables\": weave.panels.Group2(\n",
    "                    style=\"height: 300px;\",\n",
    "                    preferHorizontal=True,\n",
    "                    equalSize=True,\n",
    "                    items={\n",
    "                        \"predictions_table\": weave.panels.LabeledItem(\n",
    "                            label=\"Predictions Table\",\n",
    "                            item=weave.panels.Table(\n",
    "                                sidebar.config.items['model'].config.choice.get().all_predictions(\n",
    "                                    datetime.datetime(2022, 1, 1), datetime.datetime(2023, 1, 1)\n",
    "                                ),\n",
    "                                columns=[\n",
    "                                    lambda pred: pred.timestamp,\n",
    "                                    lambda pred: pred.input,\n",
    "                                    lambda pred: pred.output\n",
    "                                ])\n",
    "                        )\n",
    "                    }),\n",
    "            }\n",
    "        )\n",
    "    })\n",
    "from weave import storage\n",
    "from rich import print\n",
    "#print(storage.to_python(panel)['_val'])\n",
    "ref = weave.save(panel, name='my-new-panel')\n",
    "ref"
   ]
  }
 ],
 "metadata": {
  "kernelspec": {
   "display_name": "Python 3 (ipykernel)",
   "language": "python",
   "name": "python3"
  },
  "language_info": {
   "codemirror_mode": {
    "name": "ipython",
    "version": 3
   },
   "file_extension": ".py",
   "mimetype": "text/x-python",
   "name": "python",
   "nbconvert_exporter": "python",
   "pygments_lexer": "ipython3",
   "version": "3.9.7"
  }
 },
 "nbformat": 4,
 "nbformat_minor": 5
}
