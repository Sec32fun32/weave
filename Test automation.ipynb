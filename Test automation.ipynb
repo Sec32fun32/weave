{
 "cells": [
  {
   "cell_type": "code",
   "execution_count": null,
   "id": "a77ade12",
   "metadata": {
    "scrolled": false
   },
   "outputs": [],
   "source": [
    "import weave\n",
    "import random\n",
    "import time\n",
    "\n",
    "weave.use_frontend_devmode()\n",
    "# panel = weave.show(enable_automation=True)\n",
    "# time.sleep(3)\n",
    "# panel.add_raw_command(\"const button = document.querySelector('.button[data-test=panel-config]'); button.click();\")\n",
    "# print(panel)"
   ]
  },
  {
   "cell_type": "code",
   "execution_count": null,
   "id": "f322df86",
   "metadata": {},
   "outputs": [],
   "source": [
    "# from weave import automation\n",
    "# handle = automation.AutomationHandle(5)\n",
    "# handle.add_raw_command('x')"
   ]
  },
  {
   "cell_type": "code",
   "execution_count": null,
   "id": "b74f68f1",
   "metadata": {
    "scrolled": false
   },
   "outputs": [],
   "source": [
    "items = weave.save([\n",
    "    {'name': 'x',\n",
    "     'loss1': [random.gauss(5, 2) for i in range(500)],\n",
    "     'loss2': [random.gauss(5, 2) for i in range(500)],\n",
    "     'str_val': [random.choice(['a', 'b', 'c']) for i in range(500)]},\n",
    "    {'name': 'y',\n",
    "     'loss1': [random.gauss(9, 4) for i in range(500)],\n",
    "     'loss2': [random.gauss(-1, 2) for i in range(500)],\n",
    "     'str_val': [random.choice(['a', 'b', 'c']) for i in range(500)]},\n",
    "    ])\n",
    "from weave.ecosystem import wandb\n",
    "\n",
    "panel = weave.show(wandb.MultiDistribution(items), enable_automation=True)\n",
    "#panel = weave.show(wandb.MultiDistribution(items))\n",
    "#panel.send_raw_command('throw new Error(\"hello\")')\n",
    "panel.open_config()\n",
    "panel.focus_config_ee(0)\n",
    "panel.add_ee_text(0, '[\"loss1\"]')\n",
    "panel.submit_ee(0)\n",
    "panel.focus_config_ee(1)\n",
    "panel.add_ee_text(1, '[\"name\"]')\n",
    "panel.submit_ee(1)\n",
    "panel.set_slider(0.2)\n",
    "panel.submit_config()\n",
    "panel.assert_ok()"
   ]
  }
 ],
 "metadata": {
  "kernelspec": {
   "display_name": "Python 3 (ipykernel)",
   "language": "python",
   "name": "python3"
  },
  "language_info": {
   "codemirror_mode": {
    "name": "ipython",
    "version": 3
   },
   "file_extension": ".py",
   "mimetype": "text/x-python",
   "name": "python",
   "nbconvert_exporter": "python",
   "pygments_lexer": "ipython3",
   "version": "3.9.7"
  }
 },
 "nbformat": 4,
 "nbformat_minor": 5
}
