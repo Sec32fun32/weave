{
 "cells": [
  {
   "cell_type": "code",
   "execution_count": 1,
   "id": "a77ade12",
   "metadata": {
    "scrolled": false
   },
   "outputs": [],
   "source": [
    "import weave\n",
    "import random\n",
    "import time\n",
    "weave.use_frontend_devmode()"
   ]
  },
  {
   "cell_type": "code",
   "execution_count": 2,
   "id": "b74f68f1",
   "metadata": {
    "scrolled": false
   },
   "outputs": [
    {
     "data": {
      "text/html": [
       "\n",
       "        <iframe\n",
       "            width=\"100%\"\n",
       "            height=\"400px\"\n",
       "            src=\"http://localhost:3000/__frontend/weave_jupyter?fullScreen&expNode=%7B%22nodeType%22%3A%20%22output%22%2C%20%22type%22%3A%20%22unknown%22%2C%20%22fromOp%22%3A%20%7B%22name%22%3A%20%22get%22%2C%20%22inputs%22%3A%20%7B%22uri%22%3A%20%7B%22nodeType%22%3A%20%22const%22%2C%20%22type%22%3A%20%22string%22%2C%20%22val%22%3A%20%22local-artifact%3A///tmp/local-artifacts/MultiDistribution/acc48d553269410a07154ba2d21c5147%22%7D%7D%7D%7D&automationId=CUERPPI2JTLT0U\"\n",
       "            frameborder=\"0\"\n",
       "            allowfullscreen\n",
       "            \n",
       "        ></iframe>\n",
       "        "
      ],
      "text/plain": [
       "<IPython.lib.display.IFrame at 0x1579e7be0>"
      ]
     },
     "metadata": {},
     "output_type": "display_data"
    }
   ],
   "source": [
    "items = weave.save([\n",
    "    {'name': 'x',\n",
    "     'loss1': [random.gauss(5, 2) for i in range(500)],\n",
    "     'loss2': [random.gauss(5, 2) for i in range(500)],\n",
    "     'str_val': [random.choice(['a', 'b', 'c']) for i in range(500)]},\n",
    "    {'name': 'y',\n",
    "     'loss1': [random.gauss(9, 4) for i in range(500)],\n",
    "     'loss2': [random.gauss(-1, 2) for i in range(500)],\n",
    "     'str_val': [random.choice(['a', 'b', 'c']) for i in range(500)]},\n",
    "    ])\n",
    "from weave.ecosystem import wandb\n",
    "\n",
    "handle = weave.show(wandb.MultiDistribution(items), enable_automation=True)\n",
    "handle.open_config()\n",
    "handle.add_ee_text(0, '[\"loss1\"]')\n",
    "handle.add_ee_text(1, '[\"name\"]')\n",
    "handle.set_slider(0.2)\n",
    "handle.submit_config()\n",
    "handle.assert_ok()\n",
    "\n",
    "# Still to do:\n",
    "#   - set up in CI. which means I need to get the notebook server started, frontend devmode etc\n",
    "#     (which means I need a branch the other way? :(\n",
    "#   - improve this interface"
   ]
  }
 ],
 "metadata": {
  "kernelspec": {
   "display_name": "Python 3 (ipykernel)",
   "language": "python",
   "name": "python3"
  },
  "language_info": {
   "codemirror_mode": {
    "name": "ipython",
    "version": 3
   },
   "file_extension": ".py",
   "mimetype": "text/x-python",
   "name": "python",
   "nbconvert_exporter": "python",
   "pygments_lexer": "ipython3",
   "version": "3.9.7"
  }
 },
 "nbformat": 4,
 "nbformat_minor": 5
}
