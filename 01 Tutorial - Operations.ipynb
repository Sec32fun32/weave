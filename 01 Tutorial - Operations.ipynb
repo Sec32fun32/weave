{
 "cells": [
  {
   "cell_type": "code",
   "execution_count": 1,
   "id": "4b7c5f3c",
   "metadata": {},
   "outputs": [],
   "source": [
    "import weave"
   ]
  },
  {
   "cell_type": "code",
   "execution_count": 2,
   "id": "244893e4",
   "metadata": {},
   "outputs": [
    {
     "name": "stdout",
     "output_type": "stream",
     "text": [
      "get(\"local-artifact:///tmp/local-artifacts/my-input/2e0eb7b25ec0101960b31752fe67a461\")\n"
     ]
    }
   ],
   "source": [
    "# Create a weave object and give it a name\n",
    "\n",
    "x = weave.save(21, name='my-input')\n",
    "print(x)"
   ]
  },
  {
   "cell_type": "code",
   "execution_count": 3,
   "id": "1b77a7ef",
   "metadata": {},
   "outputs": [
    {
     "name": "stdout",
     "output_type": "stream",
     "text": [
      "get(\"local-artifact:///tmp/local-artifacts/my-input/2e0eb7b25ec0101960b31752fe67a461\").mult(20).add(40)\n"
     ]
    }
   ],
   "source": [
    "# You can do expressions on Weave objects, using operations.\n",
    "r = x * 20 + 40\n",
    "\n",
    "# Weave keeps track of values were computed, and is lazy by default.\n",
    "print(r)"
   ]
  },
  {
   "cell_type": "code",
   "execution_count": 4,
   "id": "622b2cc2",
   "metadata": {},
   "outputs": [
    {
     "data": {
      "text/html": [
       "\n",
       "        <iframe\n",
       "            width=\"100%\"\n",
       "            height=\"400px\"\n",
       "            src=\"http://127.0.0.1:50724/__frontend/weave_jupyter/__frontend/weave_jupyter?fullScreen&expNode=%7B%22nodeType%22%3A%20%22output%22%2C%20%22type%22%3A%20%22number%22%2C%20%22fromOp%22%3A%20%7B%22name%22%3A%20%22number-add%22%2C%20%22inputs%22%3A%20%7B%22lhs%22%3A%20%7B%22nodeType%22%3A%20%22output%22%2C%20%22type%22%3A%20%22number%22%2C%20%22fromOp%22%3A%20%7B%22name%22%3A%20%22number-mult%22%2C%20%22inputs%22%3A%20%7B%22lhs%22%3A%20%7B%22nodeType%22%3A%20%22output%22%2C%20%22type%22%3A%20%22int%22%2C%20%22fromOp%22%3A%20%7B%22name%22%3A%20%22get%22%2C%20%22inputs%22%3A%20%7B%22uri%22%3A%20%7B%22nodeType%22%3A%20%22const%22%2C%20%22type%22%3A%20%7B%22type%22%3A%20%22const%22%2C%20%22valType%22%3A%20%22string%22%2C%20%22val%22%3A%20%22local-artifact%3A///tmp/local-artifacts/my-input/2e0eb7b25ec0101960b31752fe67a461%22%7D%2C%20%22val%22%3A%20%22local-artifact%3A///tmp/local-artifacts/my-input/2e0eb7b25ec0101960b31752fe67a461%22%7D%7D%7D%7D%2C%20%22rhs%22%3A%20%7B%22nodeType%22%3A%20%22const%22%2C%20%22type%22%3A%20%7B%22type%22%3A%20%22const%22%2C%20%22valType%22%3A%20%22int%22%2C%20%22val%22%3A%2020%7D%2C%20%22val%22%3A%2020%7D%7D%7D%7D%2C%20%22rhs%22%3A%20%7B%22nodeType%22%3A%20%22const%22%2C%20%22type%22%3A%20%7B%22type%22%3A%20%22const%22%2C%20%22valType%22%3A%20%22int%22%2C%20%22val%22%3A%2040%7D%2C%20%22val%22%3A%2040%7D%7D%7D%7D\"\n",
       "            frameborder=\"0\"\n",
       "            allowfullscreen\n",
       "            \n",
       "        ></iframe>\n",
       "        "
      ],
      "text/plain": [
       "<IPython.lib.display.IFrame at 0x11dfc83a0>"
      ]
     },
     "metadata": {},
     "output_type": "display_data"
    }
   ],
   "source": [
    "# To get a value, call weave.use(), or display it like this\n",
    "r"
   ]
  },
  {
   "cell_type": "code",
   "execution_count": 5,
   "id": "b5093f50",
   "metadata": {},
   "outputs": [
    {
     "name": "stdout",
     "output_type": "stream",
     "text": [
      "get(\"local-artifact:///tmp/local-artifacts/my-input/2e0eb7b25ec0101960b31752fe67a461\").mult(20).add(40).save(\"result\")\n"
     ]
    }
   ],
   "source": [
    "# We can give a value a name by saving it.\n",
    "# Here you can call weave.use() or display saved_r if you want. It will show the same output as the cell above.\n",
    "saved_r = weave.save(r, name='result')\n",
    "print(saved_r)"
   ]
  },
  {
   "cell_type": "code",
   "execution_count": 6,
   "id": "17684663",
   "metadata": {},
   "outputs": [
    {
     "name": "stdout",
     "output_type": "stream",
     "text": [
      "get(\"local-artifact:///tmp/local-artifacts/my-input/2e0eb7b25ec0101960b31752fe67a461\").mult(20).add(40).save(\"result\")\n"
     ]
    }
   ],
   "source": [
    "# We can see the history of how a given value was computed by inspecting its versions.\n",
    "for version in weave.versions(saved_r):\n",
    "    print(weave.expr(version))"
   ]
  },
  {
   "cell_type": "code",
   "execution_count": null,
   "id": "7b92abbf",
   "metadata": {},
   "outputs": [],
   "source": []
  }
 ],
 "metadata": {
  "kernelspec": {
   "display_name": "Python 3 (ipykernel)",
   "language": "python",
   "name": "python3"
  },
  "language_info": {
   "codemirror_mode": {
    "name": "ipython",
    "version": 3
   },
   "file_extension": ".py",
   "mimetype": "text/x-python",
   "name": "python",
   "nbconvert_exporter": "python",
   "pygments_lexer": "ipython3",
   "version": "3.9.7"
  }
 },
 "nbformat": 4,
 "nbformat_minor": 5
}
