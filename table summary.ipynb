{
 "cells": [
  {
   "cell_type": "code",
   "execution_count": null,
   "id": "2cd1a5a5",
   "metadata": {},
   "outputs": [],
   "source": [
    "import numpy as np\n",
    "import pandas as pd\n",
    "import wandb\n",
    "import weave"
   ]
  },
  {
   "cell_type": "code",
   "execution_count": null,
   "id": "518db8e8",
   "metadata": {},
   "outputs": [],
   "source": [
    "wandb.login()"
   ]
  },
  {
   "cell_type": "code",
   "execution_count": null,
   "id": "e5de0deb",
   "metadata": {},
   "outputs": [],
   "source": [
    "ENTITY = 'dpaiton'\n",
    "PROJECT = 'exploring-tabular-data'\n",
    "with wandb.init(entity=ENTITY, project=PROJECT, job_type='load-data') as run:\n",
    "    split_artifact = run.use_artifact(f'{ENTITY}/splitting-tabular-data/data-library:latest')\n",
    "    data_table = split_artifact.get('data-table')"
   ]
  },
  {
   "cell_type": "code",
   "execution_count": null,
   "id": "dfb70184",
   "metadata": {
    "scrolled": true
   },
   "outputs": [],
   "source": [
    "data_df = pd.DataFrame(columns=data_table.columns, data=data_table.data)\n",
    "\n",
    "data_df.describe()"
   ]
  },
  {
   "cell_type": "code",
   "execution_count": null,
   "id": "b7c19d7b",
   "metadata": {},
   "outputs": [],
   "source": [
    "def dropna(col: list) -> np.ndarray:\n",
    "    col_arry = np.array(col, dtype=float)\n",
    "    return col_arry[np.isfinite(col_arry)]\n",
    "\n",
    "@weave.op()\n",
    "def col_count(col: list) -> int:\n",
    "    return dropna(col).size\n",
    "\n",
    "@weave.op()\n",
    "def mean(col: list) -> float:\n",
    "    return float(np.mean(dropna(col)))\n",
    "\n",
    "@weave.op()\n",
    "def std(col: list) -> float:\n",
    "    return float(np.std(dropna(col)))\n",
    "\n",
    "@weave.op()\n",
    "def col_min(col: list) -> float:\n",
    "    return float(np.min(dropna(col)))\n",
    "\n",
    "@weave.op()\n",
    "def first_quantile(col: list) -> float:\n",
    "    return float(np.quantile(dropna(col), 0.25))\n",
    "\n",
    "@weave.op()\n",
    "def second_quantile(col: list) -> float:\n",
    "    return float(np.quantile(dropna(col), 0.5))\n",
    "\n",
    "@weave.op()\n",
    "def third_quantile(col: list) -> float:\n",
    "    return float(np.quantile(dropna(col), 0.75))\n",
    "\n",
    "@weave.op()\n",
    "def col_max(col: list) -> float:\n",
    "    return float(np.max(dropna(col)))\n",
    "\n",
    "@weave.op()\n",
    "def describe(col: list) -> list:\n",
    "    col_desc = [\n",
    "        weave.use(col_count(col)),\n",
    "        weave.use(mean(col)),\n",
    "        weave.use(std(col)),\n",
    "        weave.use(col_min(col)),\n",
    "        weave.use(first_quantile(col)),\n",
    "        weave.use(second_quantile(col)),\n",
    "        weave.use(third_quantile(col)),\n",
    "        weave.use(col_max(col))\n",
    "    ]\n",
    "    return col_desc"
   ]
  },
  {
   "cell_type": "code",
   "execution_count": null,
   "id": "2c8d7e3e",
   "metadata": {},
   "outputs": [],
   "source": [
    "col = data_table.get_column('AGE')\n",
    "list(weave.use(describe(col)))"
   ]
  },
  {
   "cell_type": "code",
   "execution_count": null,
   "id": "3c107457",
   "metadata": {},
   "outputs": [],
   "source": [
    "def describe_table(in_table):\n",
    "    out_table = wandb.Table(columns=[])\n",
    "    for column in in_table.columns:\n",
    "        col = in_table.get_column(column)\n",
    "        print(column)\n",
    "        try:\n",
    "            summary = list(weave.use(describe(col)))\n",
    "        except:\n",
    "            print(col)\n",
    "        out_table.add_column(\n",
    "            name=column,\n",
    "            data=summary\n",
    "        )\n",
    "    return out_table"
   ]
  },
  {
   "cell_type": "code",
   "execution_count": null,
   "id": "11bb26fd",
   "metadata": {},
   "outputs": [],
   "source": [
    "out_table = describe_table(data_table)"
   ]
  },
  {
   "cell_type": "code",
   "execution_count": null,
   "id": "5d5abd29",
   "metadata": {},
   "outputs": [],
   "source": [
    "with wandb.init(entity=ENTITY, project=PROJECT, job_type='log-data') as run:\n",
    "    run.log({\"dataset_summary\":out_table})"
   ]
  }
 ],
 "metadata": {
  "kernelspec": {
   "display_name": "Python 3 (ipykernel)",
   "language": "python",
   "name": "python3"
  },
  "language_info": {
   "codemirror_mode": {
    "name": "ipython",
    "version": 3
   },
   "file_extension": ".py",
   "mimetype": "text/x-python",
   "name": "python",
   "nbconvert_exporter": "python",
   "pygments_lexer": "ipython3",
   "version": "3.9.10"
  }
 },
 "nbformat": 4,
 "nbformat_minor": 5
}
