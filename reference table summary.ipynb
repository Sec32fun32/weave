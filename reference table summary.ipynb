{
 "cells": [
  {
   "cell_type": "code",
   "execution_count": null,
   "id": "2cd1a5a5",
   "metadata": {},
   "outputs": [],
   "source": [
    "import numpy as np\n",
    "import pandas as pd\n",
    "import wandb\n",
    "import weave"
   ]
  },
  {
   "cell_type": "code",
   "execution_count": null,
   "id": "518db8e8",
   "metadata": {},
   "outputs": [],
   "source": [
    "wandb.login()"
   ]
  },
  {
   "cell_type": "code",
   "execution_count": null,
   "id": "e5de0deb",
   "metadata": {},
   "outputs": [],
   "source": [
    "PROJECT_NAME = 'exploring-tabular-data'\n",
    "with wandb.init(project=PROJECT_NAME, job_type='load-data') as run:\n",
    "    split_artifact = run.use_artifact('splitting-tabular-data/data-splits:latest')\n",
    "    data_table = split_artifact.get('train-data')"
   ]
  },
  {
   "cell_type": "code",
   "execution_count": null,
   "id": "a94bb38e",
   "metadata": {},
   "outputs": [],
   "source": [
    "linked_table = np.all([\n",
    "    type(value) is wandb.data_types._ForeignIndexType\n",
    "    for value in data_table._column_types.params['type_map'].values()\n",
    "])\n",
    "linked_table"
   ]
  },
  {
   "cell_type": "code",
   "execution_count": null,
   "id": "5b03003d",
   "metadata": {},
   "outputs": [],
   "source": [
    "columns = data_table.get_column(data_table.columns[0])\n",
    "ndx = 0\n",
    "ref_table = data_table.get_column(data_table.columns[0])\n",
    "ref_row = list(ref_table[ndx].get_row().values())\n",
    "ref_table[ndx].get_row().keys()"
   ]
  },
  {
   "cell_type": "code",
   "execution_count": null,
   "id": "aa1f995c",
   "metadata": {},
   "outputs": [],
   "source": [
    "len(data_table.get_column(data_table.columns[0])[0].get_row().values())"
   ]
  },
  {
   "cell_type": "code",
   "execution_count": null,
   "id": "ecc7aa96",
   "metadata": {},
   "outputs": [],
   "source": [
    "def check_linked_table(table):\n",
    "    # Check if the table's contents are pointers to another table or not\n",
    "    linked_table = np.all([\n",
    "        type(value) is wandb.data_types._ForeignIndexType\n",
    "        for value in table._column_types.params['type_map'].values()\n",
    "    ])\n",
    "    return linked_table\n",
    "\n",
    "\n",
    "def dereference_linked_table(table):\n",
    "    # Dereference the table assuming that there is only one reference column\n",
    "    return table.get_column(table.columns[0])\n",
    "\n",
    "\n",
    "def get_table_columns(table):\n",
    "    if check_linked_table(table):\n",
    "        ref_table = dereference_linked_table(table)\n",
    "        columns = ref_table[0].get_row().keys()\n",
    "    else:\n",
    "        columns = table.columns\n",
    "    return columns\n",
    "\n",
    "    \n",
    "def get_table_row(table, ndx):\n",
    "    \"\"\"\n",
    "    Given a table and index, return the corresponding row\n",
    "    Arguments:\n",
    "        table (wandb.Table) can be a standard table of data or a pointer to a reference table\n",
    "        ndx (int) row index to slice\n",
    "    Returns:\n",
    "        ref_row (list) of data entries for the row referenced by ndx\n",
    "    \"\"\"\n",
    "    if check_linked_table(table): # The table entries reference another table\n",
    "        ref_table = dereference_linked_table(table)\n",
    "        # The pointers are dereferenced using the get_row() function\n",
    "        if type(ndx) is list:\n",
    "            ref_row = [list(ref_table[i].get_row().values()) for i in ndx]\n",
    "        elif type(ndx) is int:\n",
    "            ref_row = list(ref_table[ndx].get_row().values())\n",
    "        else:\n",
    "            raise ValueError(\n",
    "                f'Input argument ndx must be of type int or list, not {type(ndx)}'\n",
    "            )\n",
    "        return ref_row\n",
    "    else: # Standard w&b Table containing the data\n",
    "        return table.data[ndx]\n",
    "\n",
    "def wandb_table_to_df(table):\n",
    "    data_df = pd.DataFrame(columns=get_table_columns(table))#, data=data_table.data[0])\n",
    "    for ndx in range(len(table.data)):\n",
    "        data_df.loc[ndx] = get_table_row(table, ndx)\n",
    "    return data_df"
   ]
  },
  {
   "cell_type": "code",
   "execution_count": null,
   "id": "dfb70184",
   "metadata": {
    "scrolled": true
   },
   "outputs": [],
   "source": [
    "data_df = wandb_table_to_df(data_table)\n",
    "\n",
    "data_df.describe()"
   ]
  },
  {
   "cell_type": "code",
   "execution_count": null,
   "id": "b7c19d7b",
   "metadata": {},
   "outputs": [],
   "source": [
    "def dropna(col: list) -> np.ndarray:\n",
    "    return np.array(col)[np.isfinite(col)]\n",
    "    \n",
    "@weave.op()\n",
    "def mean(col: list) -> float:\n",
    "    return float(np.mean(dropna(col)))\n",
    "\n",
    "@weave.op()\n",
    "def std(col: list) -> float:\n",
    "    return float(np.std(dropna(col)))\n",
    "\n",
    "@weave.op()\n",
    "def col_min(col: list) -> float:\n",
    "    return float(np.min(dropna(col)))\n",
    "\n",
    "@weave.op()\n",
    "def first_quantile(col: list) -> float:\n",
    "    return float(np.quantile(dropna(col), 0.25))\n",
    "\n",
    "@weave.op()\n",
    "def second_quantile(col: list) -> float:\n",
    "    return float(np.quantile(dropna(col), 0.5))\n",
    "\n",
    "@weave.op()\n",
    "def third_quantile(col: list) -> float:\n",
    "    return float(np.quantile(dropna(col), 0.75))\n",
    "\n",
    "@weave.op()\n",
    "def col_max(col: list) -> float:\n",
    "    return float(np.max(dropna(col)))\n",
    "\n",
    "@weave.op()\n",
    "def describe(col: list) -> list:\n",
    "    col_desc = [\n",
    "        weave.use(mean(col)),\n",
    "        weave.use(std(col)),\n",
    "        weave.use(col_min(col)),\n",
    "        weave.use(first_quantile(col)),\n",
    "        weave.use(second_quantile(col)),\n",
    "        weave.use(third_quantile(col)),\n",
    "        weave.use(col_max(col))\n",
    "    ]\n",
    "    return col_desc"
   ]
  },
  {
   "cell_type": "code",
   "execution_count": null,
   "id": "42eacc9f",
   "metadata": {},
   "outputs": [],
   "source": [
    "data_df.columns"
   ]
  },
  {
   "cell_type": "code",
   "execution_count": null,
   "id": "6bf93748",
   "metadata": {},
   "outputs": [],
   "source": [
    "col = list(data_df['AGE'])"
   ]
  },
  {
   "cell_type": "code",
   "execution_count": null,
   "id": "2c8d7e3e",
   "metadata": {},
   "outputs": [],
   "source": [
    "desc = weave.use(describe(col))"
   ]
  },
  {
   "cell_type": "code",
   "execution_count": null,
   "id": "6b8403ba",
   "metadata": {},
   "outputs": [],
   "source": [
    "data_table.columns"
   ]
  },
  {
   "cell_type": "code",
   "execution_count": null,
   "id": "3c107457",
   "metadata": {},
   "outputs": [],
   "source": [
    "def describe_table(input_table):\n",
    "    table_columns = get_table_columns(input_table)\n",
    "    summary = []\n",
    "    df = wandb_table_to_df(input_table)\n",
    "    for column in table_columns:\n",
    "        col_data = input_table.\n",
    "        summary.append(weave.use(describe(list(df[column]))))\n",
    "    out_table = wandb.Table(dataframe=pd.DataFrame(columns=table_columns, data=summary))\n",
    "    return out_table"
   ]
  },
  {
   "cell_type": "code",
   "execution_count": null,
   "id": "11bb26fd",
   "metadata": {},
   "outputs": [],
   "source": [
    "out_table = describe_table(data_table)"
   ]
  },
  {
   "cell_type": "code",
   "execution_count": null,
   "id": "5d5abd29",
   "metadata": {},
   "outputs": [],
   "source": []
  }
 ],
 "metadata": {
  "kernelspec": {
   "display_name": "Python 3 (ipykernel)",
   "language": "python",
   "name": "python3"
  },
  "language_info": {
   "codemirror_mode": {
    "name": "ipython",
    "version": 3
   },
   "file_extension": ".py",
   "mimetype": "text/x-python",
   "name": "python",
   "nbconvert_exporter": "python",
   "pygments_lexer": "ipython3",
   "version": "3.9.10"
  }
 },
 "nbformat": 4,
 "nbformat_minor": 5
}
