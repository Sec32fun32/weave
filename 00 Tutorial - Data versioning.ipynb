{
 "cells": [
  {
   "cell_type": "code",
   "execution_count": 1,
   "id": "2ead38fc",
   "metadata": {},
   "outputs": [],
   "source": [
    "import weave"
   ]
  },
  {
   "cell_type": "code",
   "execution_count": 2,
   "id": "93580e7b",
   "metadata": {
    "scrolled": true
   },
   "outputs": [
    {
     "name": "stdout",
     "output_type": "stream",
     "text": [
      "get(\"local-artifact:///tmp/local-artifacts/data/d2ab94fcfe2b4bfb37a0bf5f6a1dfd78\")\n"
     ]
    }
   ],
   "source": [
    "# Weave saves and versions your data.\n",
    "\n",
    "data = [\n",
    "    {'val': 1941, 'label': 'cat'},\n",
    "    {'val': 2120, 'label': 'dog'}\n",
    "]\n",
    "\n",
    "# Give an object a name by calling weave.save()\n",
    "data = weave.save(data, name='data')\n",
    "print(data)"
   ]
  },
  {
   "cell_type": "code",
   "execution_count": 3,
   "id": "2e8b46ee",
   "metadata": {},
   "outputs": [
    {
     "data": {
      "text/html": [
       "\n",
       "        <iframe\n",
       "            width=\"100%\"\n",
       "            height=\"400px\"\n",
       "            src=\"http://127.0.0.1:49890/__frontend/weave_jupyter/__frontend/weave_jupyter?fullScreen&expNode=%7B%22nodeType%22%3A%20%22output%22%2C%20%22type%22%3A%20%7B%22type%22%3A%20%22list%22%2C%20%22objectType%22%3A%20%7B%22type%22%3A%20%22typedDict%22%2C%20%22propertyTypes%22%3A%20%7B%22val%22%3A%20%22int%22%2C%20%22label%22%3A%20%22string%22%7D%7D%7D%2C%20%22fromOp%22%3A%20%7B%22name%22%3A%20%22get%22%2C%20%22inputs%22%3A%20%7B%22uri%22%3A%20%7B%22nodeType%22%3A%20%22const%22%2C%20%22type%22%3A%20%7B%22type%22%3A%20%22const%22%2C%20%22valType%22%3A%20%22string%22%2C%20%22val%22%3A%20%22local-artifact%3A///tmp/local-artifacts/data/d2ab94fcfe2b4bfb37a0bf5f6a1dfd78%22%7D%2C%20%22val%22%3A%20%22local-artifact%3A///tmp/local-artifacts/data/d2ab94fcfe2b4bfb37a0bf5f6a1dfd78%22%7D%7D%7D%7D\"\n",
       "            frameborder=\"0\"\n",
       "            allowfullscreen\n",
       "            \n",
       "        ></iframe>\n",
       "        "
      ],
      "text/plain": [
       "<IPython.lib.display.IFrame at 0x123321430>"
      ]
     },
     "metadata": {},
     "output_type": "display_data"
    },
    {
     "name": "stderr",
     "output_type": "stream",
     "text": [
      "[2022-06-06 16:09:00,474] ERROR in execute (Thread Name: Thread-6): Exception during execution of: get(\"local-artifact:///tmp/local-artifacts/data/d2ab94fcfe2b4bfb37a0bf5f6a1dfd78\").indexCheckpoint().index(2).pick(\"label\")\n",
      "[2022-06-06 16:09:00,475] ERROR in app (Thread Name: Thread-6): Exception on /__weave/execute [POST]\n",
      "Traceback (most recent call last):\n",
      "  File \"/Users/bryanbischof/.pyenv/versions/3.9.7/envs/weave/lib/python3.9/site-packages/flask/app.py\", line 2077, in wsgi_app\n",
      "    response = self.full_dispatch_request()\n",
      "  File \"/Users/bryanbischof/.pyenv/versions/3.9.7/envs/weave/lib/python3.9/site-packages/flask/app.py\", line 1525, in full_dispatch_request\n",
      "    rv = self.handle_user_exception(e)\n",
      "  File \"/Users/bryanbischof/.pyenv/versions/3.9.7/envs/weave/lib/python3.9/site-packages/flask_cors/extension.py\", line 165, in wrapped_function\n",
      "    return cors_after_request(app.make_response(f(*args, **kwargs)))\n",
      "  File \"/Users/bryanbischof/.pyenv/versions/3.9.7/envs/weave/lib/python3.9/site-packages/flask/app.py\", line 1523, in full_dispatch_request\n",
      "    rv = self.dispatch_request()\n",
      "  File \"/Users/bryanbischof/.pyenv/versions/3.9.7/envs/weave/lib/python3.9/site-packages/flask/app.py\", line 1509, in dispatch_request\n",
      "    return self.ensure_sync(self.view_functions[rule.endpoint])(**req.view_args)\n",
      "  File \"/Users/bryanbischof/wb-dev/weave-internal/weave/weave_server.py\", line 142, in execute\n",
      "    response = server.handle_request(request.json, deref=True)\n",
      "  File \"/Users/bryanbischof/wb-dev/weave-internal/weave/server.py\", line 49, in handle_request\n",
      "    result = execute.execute_nodes(nodes)\n",
      "  File \"/Users/bryanbischof/wb-dev/weave-internal/weave/execute.py\", line 54, in execute_nodes\n",
      "    stats = execute_forward(fg, no_cache=no_cache)\n",
      "  File \"/Users/bryanbischof/wb-dev/weave-internal/weave/execute.py\", line 77, in execute_forward\n",
      "    execute_forward_node(fg, forward_node, no_cache=no_cache)\n",
      "  File \"/Users/bryanbischof/wb-dev/weave-internal/weave/execute.py\", line 205, in execute_forward_node\n",
      "    result = execute_sync_op(op_def, inputs)\n",
      "  File \"/Users/bryanbischof/wb-dev/weave-internal/weave/execute.py\", line 134, in execute_sync_op\n",
      "    return op_def.resolve_fn(**inputs)\n",
      "  File \"/Users/bryanbischof/wb-dev/weave-internal/weave/ops_primitives/list_.py\", line 386, in pick\n",
      "    return type_class.NodeMethodsClass.pick.resolve_fn(obj, key)\n",
      "AttributeError: type object 'NoneType' has no attribute 'NodeMethodsClass'\n"
     ]
    }
   ],
   "source": [
    "# Weave objects can be displayed using Weave Panels\n",
    "\n",
    "# You can use weave.show(version), or simply:\n",
    "data"
   ]
  },
  {
   "cell_type": "code",
   "execution_count": null,
   "id": "c366b0f5",
   "metadata": {},
   "outputs": [],
   "source": [
    "# You can see which versions exist for an object with weave.versions()\n",
    "for version in weave.versions(data):\n",
    "    print(version)"
   ]
  },
  {
   "cell_type": "code",
   "execution_count": null,
   "id": "8e969fa8",
   "metadata": {},
   "outputs": [],
   "source": [
    "# You can get a specific version back with weave.get\n",
    "\n",
    "data2 = weave.get('local-artifact:///tmp/local-artifacts/data/latest')\n",
    "data2"
   ]
  }
 ],
 "metadata": {
  "kernelspec": {
   "display_name": "Python 3 (ipykernel)",
   "language": "python",
   "name": "python3"
  },
  "language_info": {
   "codemirror_mode": {
    "name": "ipython",
    "version": 3
   },
   "file_extension": ".py",
   "mimetype": "text/x-python",
   "name": "python",
   "nbconvert_exporter": "python",
   "pygments_lexer": "ipython3",
   "version": "3.9.7"
  }
 },
 "nbformat": 4,
 "nbformat_minor": 5
}
