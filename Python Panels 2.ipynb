{
 "cells": [
  {
   "cell_type": "code",
   "execution_count": null,
   "id": "a0e7b7e1",
   "metadata": {},
   "outputs": [],
   "source": [
    "import weave\n",
    "weave.use_frontend_devmode()"
   ]
  },
  {
   "cell_type": "code",
   "execution_count": null,
   "id": "90da1b5d",
   "metadata": {},
   "outputs": [],
   "source": [
    "slider = weave.panels.Slider2()\n",
    "slider_type = weave.type_of(slider)\n",
    "slider_type.to_dict()\n",
    "weave.show(slider)"
   ]
  },
  {
   "cell_type": "code",
   "execution_count": null,
   "id": "e7bc8ba8",
   "metadata": {},
   "outputs": [],
   "source": [
    "\n",
    "panel = weave.panels.Group2(\n",
    "    items={\n",
    "        \"my_slider\": weave.panels.Slider2(),\n",
    "        \"val\": lambda my_slider: my_slider.config.value\n",
    "    })\n",
    "panel"
   ]
  },
  {
   "cell_type": "code",
   "execution_count": null,
   "id": "bce76f83",
   "metadata": {
    "scrolled": false
   },
   "outputs": [],
   "source": [
    "my_range = weave.save(list(range(1000)), 'my_range')\n",
    "panel = weave.panels.Group2(\n",
    "    items={\n",
    "        \"my_slider\": weave.panels.Slider2(),\n",
    "        \"val\": lambda my_slider: weave.panels.Plot(\n",
    "            my_range,\n",
    "            x=lambda row: (row * my_slider.config.value).cos() * row,\n",
    "            y=lambda row: (row * my_slider.config.value).sin() * row\n",
    "        )\n",
    "    })\n",
    "#from rich import print\n",
    "panel"
   ]
  },
  {
   "cell_type": "code",
   "execution_count": null,
   "id": "614d4ac4",
   "metadata": {},
   "outputs": [],
   "source": [
    "import weave\n",
    "import random\n",
    "weave.use_frontend_devmode()"
   ]
  },
  {
   "cell_type": "code",
   "execution_count": null,
   "id": "f5489621",
   "metadata": {
    "scrolled": false
   },
   "outputs": [],
   "source": [
    "data = weave.save([random.random() for i in range(1000)])\n",
    "\n",
    "# OK this would be better if we used panel plot grouping\n",
    "# And panel plot exposed its inner table as a variable. That way\n",
    "# we can make sibling panels that depend on the inner table information.\n",
    "panel = weave.panels.Group2(\n",
    "    items={\n",
    "        \"slider\": weave.panels.Slider2(),\n",
    "        \"distribution\": lambda slider: weave.panels.Plot(\n",
    "            vars={\n",
    "                'binned':  data.groupby(lambda v: round(v * slider.config.value) / slider.config.value).map(\n",
    "                    lambda group: weave.ops.dict_(value=group.key(), count=group.count())\n",
    "                )\n",
    "            },\n",
    "            input_node=lambda binned: binned,\n",
    "            x=lambda row: row['value'],\n",
    "            y=lambda row: row['count'],\n",
    "            mark='bar'\n",
    "        ),\n",
    "        'sum': weave.ops.numbers_sum(data),\n",
    "        'binned_sum': lambda distribution: weave.ops.numbers_sum(\n",
    "                distribution.vars['binned'].map(lambda row: row['value'] * row['count']))\n",
    "    })\n",
    "\n",
    "weave.show(panel, height=500)"
   ]
  },
  {
   "cell_type": "code",
   "execution_count": null,
   "id": "7fb99fd5",
   "metadata": {},
   "outputs": [],
   "source": [
    "my_range = weave.save(weave.ops.to_arrow(list(range(100))), 'my_range')\n",
    "\n",
    "plot = weave.panels.Plot(\n",
    "            my_range,\n",
    "            x=lambda row: row,\n",
    "            y=lambda row: row\n",
    "        )\n",
    "weave.show(plot)"
   ]
  },
  {
   "cell_type": "code",
   "execution_count": null,
   "id": "1b74bad5",
   "metadata": {
    "scrolled": false
   },
   "outputs": [],
   "source": [
    "# panel = weave.panels.Group2(\n",
    "#     items={\n",
    "#         \"a\": weave.panels.Group2(items={\"a1\": 5, \"a2\": lambda a1: a1 + 5}),\n",
    "#         \"b\": weave.panels.Group2(\n",
    "#             items={\"b1\": lambda a: a.items[\"a1\"], \"b2\": lambda a: a.items[\"a2\"]}\n",
    "#         ),\n",
    "#     }\n",
    "# )\n",
    "# panel.normalize()\n",
    "# print(panel.config())"
   ]
  }
 ],
 "metadata": {
  "kernelspec": {
   "display_name": "Python 3 (ipykernel)",
   "language": "python",
   "name": "python3"
  },
  "language_info": {
   "codemirror_mode": {
    "name": "ipython",
    "version": 3
   },
   "file_extension": ".py",
   "mimetype": "text/x-python",
   "name": "python",
   "nbconvert_exporter": "python",
   "pygments_lexer": "ipython3",
   "version": "3.9.7"
  },
  "vscode": {
   "interpreter": {
    "hash": "5fa15552822288bf21380dd18e7dffc1d82fdedfe42de359063acfa93ba99490"
   }
  }
 },
 "nbformat": 4,
 "nbformat_minor": 5
}
