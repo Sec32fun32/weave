{
 "cells": [
  {
   "cell_type": "code",
   "execution_count": 1,
   "id": "a0e7b7e1",
   "metadata": {},
   "outputs": [],
   "source": [
    "import weave\n",
    "weave.use_frontend_devmode()"
   ]
  },
  {
   "cell_type": "code",
   "execution_count": 2,
   "id": "90da1b5d",
   "metadata": {},
   "outputs": [
    {
     "data": {
      "text/html": [
       "\n",
       "        <iframe\n",
       "            width=\"100%\"\n",
       "            height=\"400px\"\n",
       "            src=\"http://localhost:3000/__frontend/weave_jupyter?fullScreen&expNode=%7B%22nodeType%22%3A%20%22void%22%2C%20%22type%22%3A%20%22invalid%22%7D&panelId=Slider2&panelConfig=%7B%22value%22%3A%201%7D\"\n",
       "            frameborder=\"0\"\n",
       "            allowfullscreen\n",
       "            \n",
       "        ></iframe>\n",
       "        "
      ],
      "text/plain": [
       "<IPython.lib.display.IFrame at 0x10492b0d0>"
      ]
     },
     "metadata": {},
     "output_type": "display_data"
    }
   ],
   "source": [
    "slider = weave.panels.Slider2()\n",
    "slider_type = weave.type_of(slider)\n",
    "slider_type.to_dict()\n",
    "weave.show(slider)"
   ]
  },
  {
   "cell_type": "code",
   "execution_count": 4,
   "id": "e7bc8ba8",
   "metadata": {},
   "outputs": [
    {
     "name": "stdout",
     "output_type": "stream",
     "text": [
      "INJECTED Slider2(id='Slider2', input_node=<VoidNode(6115334032): <invalid> <void>>, vars={}, config=PanelSlider2Config(value=1))\n",
      "SELF CONFIG PanelGroup2Config(items={'my_slider': Slider2(id='Slider2', input_node=<VoidNode(6115334032): <invalid> <void>>, vars={}, config=PanelSlider2Config(value=1)), 'val': <function <lambda> at 0x16cac4c10>})\n",
      "FRAME {'my_slider': <OutputNode(6119782480): Slider2Type(vars=TypedDict(property_types={})) self.items[\"my_slider\"]>}\n",
      "\n",
      "INJECTED my_slider.config.value\n",
      "SELF CONFIG PanelGroup2Config(items={'my_slider': Slider2(id='Slider2', input_node=<VoidNode(6115334032): <invalid> <void>>, vars={}, config=PanelSlider2Config(value=1)), 'val': <OutputNode(6119782864): <float> my_slider.config.value>})\n",
      "FRAME {'my_slider': <OutputNode(6119782480): Slider2Type(vars=TypedDict(property_types={})) self.items[\"my_slider\"]>, 'val': <OutputNodeFloat(6119842672): Function(input_types={}, output_type=<float>) self.items[\"val\"]>}\n",
      "\n"
     ]
    },
    {
     "data": {
      "text/html": [
       "\n",
       "        <iframe\n",
       "            width=\"100%\"\n",
       "            height=\"400px\"\n",
       "            src=\"http://localhost:3000/__frontend/weave_jupyter?fullScreen&expNode=%7B%22nodeType%22%3A%20%22void%22%2C%20%22type%22%3A%20%22invalid%22%7D&panelId=group2&panelConfig=%7B%22items%22%3A%20%7B%22my_slider%22%3A%20%7B%22vars%22%3A%20%7B%7D%2C%20%22id%22%3A%20%22Slider2%22%2C%20%22input_node%22%3A%20%7B%22nodeType%22%3A%20%22void%22%2C%20%22type%22%3A%20%22invalid%22%7D%2C%20%22config%22%3A%20%7B%22value%22%3A%201%7D%7D%2C%20%22val%22%3A%20%7B%22nodeType%22%3A%20%22output%22%2C%20%22type%22%3A%20%22float%22%2C%20%22fromOp%22%3A%20%7B%22name%22%3A%20%22Object-__getattr__%22%2C%20%22inputs%22%3A%20%7B%22self%22%3A%20%7B%22nodeType%22%3A%20%22output%22%2C%20%22type%22%3A%20%7B%22type%22%3A%20%22PanelSlider2Config%22%2C%20%22_property_types%22%3A%20%7B%22value%22%3A%20%22float%22%7D%7D%2C%20%22fromOp%22%3A%20%7B%22name%22%3A%20%22Object-__getattr__%22%2C%20%22inputs%22%3A%20%7B%22self%22%3A%20%7B%22nodeType%22%3A%20%22var%22%2C%20%22type%22%3A%20%7B%22type%22%3A%20%22Slider2%22%2C%20%22vars%22%3A%20%7B%22type%22%3A%20%22typedDict%22%2C%20%22propertyTypes%22%3A%20%7B%7D%7D%2C%20%22_property_types%22%3A%20%7B%22vars%22%3A%20%7B%22type%22%3A%20%22typedDict%22%2C%20%22propertyTypes%22%3A%20%7B%7D%7D%2C%20%22id%22%3A%20%22string%22%2C%20%22input_node%22%3A%20%7B%22type%22%3A%20%22function%22%2C%20%22inputTypes%22%3A%20%7B%7D%2C%20%22outputType%22%3A%20%22unknown%22%7D%2C%20%22config%22%3A%20%7B%22type%22%3A%20%22PanelSlider2Config%22%2C%20%22_property_types%22%3A%20%7B%22value%22%3A%20%22float%22%7D%7D%7D%2C%20%22_base_type%22%3A%20%7B%22type%22%3A%20%22Panel%22%2C%20%22vars%22%3A%20%22any%22%2C%20%22_property_types%22%3A%20%7B%22vars%22%3A%20%22any%22%2C%20%22id%22%3A%20%22string%22%2C%20%22input_node%22%3A%20%7B%22type%22%3A%20%22function%22%2C%20%22inputTypes%22%3A%20%7B%7D%2C%20%22outputType%22%3A%20%22unknown%22%7D%7D%7D%7D%2C%20%22varName%22%3A%20%22my_slider%22%7D%2C%20%22name%22%3A%20%7B%22nodeType%22%3A%20%22const%22%2C%20%22type%22%3A%20%22string%22%2C%20%22val%22%3A%20%22config%22%7D%7D%7D%7D%2C%20%22name%22%3A%20%7B%22nodeType%22%3A%20%22const%22%2C%20%22type%22%3A%20%22string%22%2C%20%22val%22%3A%20%22value%22%7D%7D%7D%7D%7D%7D\"\n",
       "            frameborder=\"0\"\n",
       "            allowfullscreen\n",
       "            \n",
       "        ></iframe>\n",
       "        "
      ],
      "text/plain": [
       "<IPython.lib.display.IFrame at 0x16c8096d0>"
      ]
     },
     "metadata": {},
     "output_type": "display_data"
    }
   ],
   "source": [
    "\n",
    "panel = weave.panels.Group2(\n",
    "    items={\n",
    "        \"my_slider\": weave.panels.Slider2(),\n",
    "        \"val\": lambda my_slider: my_slider.config.value\n",
    "    })\n",
    "panel"
   ]
  },
  {
   "cell_type": "code",
   "execution_count": null,
   "id": "bce76f83",
   "metadata": {
    "scrolled": false
   },
   "outputs": [],
   "source": [
    "my_range = weave.save(list(range(1000)), 'my_range')\n",
    "panel = weave.panels.Group2(\n",
    "    items={\n",
    "        \"my_slider\": weave.panels.Slider2(),\n",
    "        \"val\": lambda my_slider: weave.panels.Plot(\n",
    "            my_range,\n",
    "            x=lambda row: (row * my_slider.config.value).cos() * row,\n",
    "            y=lambda row: (row * my_slider.config.value).sin() * row\n",
    "        )\n",
    "    })\n",
    "#from rich import print\n",
    "panel\n",
    "\n",
    "panel = weave.let({\"my_slider\": weave.panels.Slider2()},\n",
    "                  lambda my_slider: weave.panels.Group2(\n",
    "                      items=[\n",
    "                          my_slider,\n",
    "                          weave.panels.Plot(\n",
    "                              my_range,\n",
    "                              x=lambda row: (row * my_slider.config.value).cos() * row,\n",
    "                              y=lambda row: (row * my_slider.config.value).sin() * row\n",
    "                          )\n",
    "                      ]))\n",
    "\n",
    "weave.panels.Group2(\n",
    "    items={\n",
    "        \"my_slider\": weave.panels.Slider2(),\n",
    "        \"val\": lambda my_slider: weave.panels.Plot(\n",
    "            my_range,\n",
    "            x=lambda row: (row * my_slider.config.value).cos() * row,\n",
    "            y=lambda row: (row * my_slider.config.value).sin() * row\n",
    "        )\n",
    "    })"
   ]
  },
  {
   "cell_type": "code",
   "execution_count": null,
   "id": "614d4ac4",
   "metadata": {},
   "outputs": [],
   "source": [
    "import weave\n",
    "import random\n",
    "weave.use_frontend_devmode()"
   ]
  },
  {
   "cell_type": "code",
   "execution_count": null,
   "id": "f5489621",
   "metadata": {
    "scrolled": false
   },
   "outputs": [],
   "source": [
    "data = weave.save([random.random() for i in range(1000)])\n",
    "\n",
    "# OK this would be better if we used panel plot grouping\n",
    "# And panel plot exposed its inner table as a variable. That way\n",
    "# we can make sibling panels that depend on the inner table information.\n",
    "panel = weave.panels.Group2(\n",
    "    items={\n",
    "        \"slider\": weave.panels.Slider2(),\n",
    "        \"distribution\": lambda slider: weave.panels.Plot(\n",
    "            vars={\n",
    "                'binned':  data.groupby(lambda v: round(v * slider.config.value) / slider.config.value).map(\n",
    "                    lambda group: weave.ops.dict_(value=group.key(), count=group.count())\n",
    "                )\n",
    "            },\n",
    "            input_node=lambda binned: binned,\n",
    "            x=lambda row: row['value'],\n",
    "            y=lambda row: row['count'],\n",
    "            mark='bar'\n",
    "        ),\n",
    "        'sum': weave.ops.numbers_sum(data),\n",
    "        'binned_sum': lambda distribution: weave.ops.numbers_sum(\n",
    "                distribution.vars['binned'].map(lambda row: row['value'] * row['count']))\n",
    "    })\n",
    "\n",
    "weave.show(panel, height=500)"
   ]
  },
  {
   "cell_type": "code",
   "execution_count": null,
   "id": "7fb99fd5",
   "metadata": {},
   "outputs": [],
   "source": [
    "my_range = weave.save(weave.ops.to_arrow(list(range(100))), 'my_range')\n",
    "\n",
    "plot = weave.panels.Plot(\n",
    "            my_range,\n",
    "            x=lambda row: row,\n",
    "            y=lambda row: row\n",
    "        )\n",
    "weave.show(plot)"
   ]
  },
  {
   "cell_type": "code",
   "execution_count": null,
   "id": "1b74bad5",
   "metadata": {
    "scrolled": false
   },
   "outputs": [],
   "source": [
    "# panel = weave.panels.Group2(\n",
    "#     items={\n",
    "#         \"a\": weave.panels.Group2(items={\"a1\": 5, \"a2\": lambda a1: a1 + 5}),\n",
    "#         \"b\": weave.panels.Group2(\n",
    "#             items={\"b1\": lambda a: a.items[\"a1\"], \"b2\": lambda a: a.items[\"a2\"]}\n",
    "#         ),\n",
    "#     }\n",
    "# )\n",
    "# panel.normalize()\n",
    "# print(panel.config())"
   ]
  }
 ],
 "metadata": {
  "kernelspec": {
   "display_name": "Python 3 (ipykernel)",
   "language": "python",
   "name": "python3"
  },
  "language_info": {
   "codemirror_mode": {
    "name": "ipython",
    "version": 3
   },
   "file_extension": ".py",
   "mimetype": "text/x-python",
   "name": "python",
   "nbconvert_exporter": "python",
   "pygments_lexer": "ipython3",
   "version": "3.9.7"
  },
  "vscode": {
   "interpreter": {
    "hash": "5fa15552822288bf21380dd18e7dffc1d82fdedfe42de359063acfa93ba99490"
   }
  }
 },
 "nbformat": 4,
 "nbformat_minor": 5
}
