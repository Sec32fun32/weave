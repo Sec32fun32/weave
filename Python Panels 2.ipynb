{
 "cells": [
  {
   "cell_type": "code",
   "execution_count": null,
   "id": "a0e7b7e1",
   "metadata": {},
   "outputs": [],
   "source": [
    "import weave\n",
    "weave.use_frontend_devmode()"
   ]
  },
  {
   "cell_type": "code",
   "execution_count": null,
   "id": "e7bc8ba8",
   "metadata": {},
   "outputs": [],
   "source": [
    "panel = weave.panels.Group2(\n",
    "    items={\n",
    "        \"my_slider\": weave.panels.Slider2(),\n",
    "        \"val\": lambda my_slider: my_slider.value\n",
    "    })\n",
    "weave.show(panel)"
   ]
  },
  {
   "cell_type": "code",
   "execution_count": null,
   "id": "bce76f83",
   "metadata": {},
   "outputs": [],
   "source": [
    "my_range = weave.save(list(range(100)), 'my_range')\n",
    "panel = weave.panels.Group2(\n",
    "    items={\n",
    "        \"my_slider\": weave.panels.Slider2(),\n",
    "        \"val\": lambda my_slider: weave.panels.Plot(\n",
    "            my_range,\n",
    "            x=lambda row: row,\n",
    "            y=lambda row: row * row * my_slider.value\n",
    "        )\n",
    "    })\n",
    "weave.show(panel)"
   ]
  },
  {
   "cell_type": "code",
   "execution_count": null,
   "id": "7fb99fd5",
   "metadata": {},
   "outputs": [],
   "source": [
    "my_range = weave.save(list(range(100)), 'my_range')\n",
    "\n",
    "plot = weave.panels.Plot(\n",
    "            my_range,\n",
    "            x=lambda row: row,\n",
    "            y=lambda row: row\n",
    "        )\n",
    "weave.show(plot)"
   ]
  },
  {
   "cell_type": "code",
   "execution_count": null,
   "id": "1b74bad5",
   "metadata": {
    "scrolled": false
   },
   "outputs": [],
   "source": [
    "# panel = weave.panels.Group2(\n",
    "#     items={\n",
    "#         \"a\": weave.panels.Group2(items={\"a1\": 5, \"a2\": lambda a1: a1 + 5}),\n",
    "#         \"b\": weave.panels.Group2(\n",
    "#             items={\"b1\": lambda a: a.items[\"a1\"], \"b2\": lambda a: a.items[\"a2\"]}\n",
    "#         ),\n",
    "#     }\n",
    "# )\n",
    "# panel.normalize()\n",
    "# print(panel.config())"
   ]
  }
 ],
 "metadata": {
  "kernelspec": {
   "display_name": "Python 3 (ipykernel)",
   "language": "python",
   "name": "python3"
  },
  "language_info": {
   "codemirror_mode": {
    "name": "ipython",
    "version": 3
   },
   "file_extension": ".py",
   "mimetype": "text/x-python",
   "name": "python",
   "nbconvert_exporter": "python",
   "pygments_lexer": "ipython3",
   "version": "3.9.7"
  }
 },
 "nbformat": 4,
 "nbformat_minor": 5
}
