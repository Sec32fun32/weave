{
 "cells": [
  {
   "cell_type": "code",
   "execution_count": 1,
   "id": "a0e7b7e1",
   "metadata": {},
   "outputs": [],
   "source": [
    "import weave\n",
    "weave.use_frontend_devmode()"
   ]
  },
  {
   "cell_type": "code",
   "execution_count": null,
   "id": "90da1b5d",
   "metadata": {},
   "outputs": [],
   "source": [
    "slider = weave.panels.Slider2()\n",
    "slider_type = weave.type_of(slider)\n",
    "slider_type.to_dict()"
   ]
  },
  {
   "cell_type": "code",
   "execution_count": null,
   "id": "e7bc8ba8",
   "metadata": {},
   "outputs": [],
   "source": [
    "panel = weave.panels.Group2(\n",
    "    items={\n",
    "        \"my_slider\": weave.panels.Slider2(),\n",
    "        \"val\": lambda my_slider: my_slider.value\n",
    "    })\n",
    "weave.show(panel)"
   ]
  },
  {
   "cell_type": "code",
   "execution_count": null,
   "id": "bce76f83",
   "metadata": {
    "scrolled": false
   },
   "outputs": [],
   "source": [
    "my_range = weave.save(list(range(1000)), 'my_range')\n",
    "panel = weave.panels.Group2(\n",
    "    items={\n",
    "        \"my_slider\": weave.panels.Slider2(),\n",
    "        \"val\": lambda my_slider: weave.panels.Plot(\n",
    "            my_range,\n",
    "            x=lambda row: (row * my_slider.value).cos() * row,\n",
    "            y=lambda row: (row * my_slider.value).sin() * row\n",
    "        )\n",
    "    })\n",
    "weave.show(panel)"
   ]
  },
  {
   "cell_type": "code",
   "execution_count": 2,
   "id": "b3bbe353",
   "metadata": {
    "scrolled": false
   },
   "outputs": [
    {
     "data": {
      "text/html": [
       "\n",
       "        <iframe\n",
       "            width=\"100%\"\n",
       "            height=\"400px\"\n",
       "            src=\"http://localhost:3000/__frontend/weave_jupyter?fullScreen&expNode=%7B%22nodeType%22%3A%20%22void%22%2C%20%22type%22%3A%20%22invalid%22%7D&panelId=group2&panelConfig=%7B%22items%22%3A%20%7B%22my_slider%22%3A%20%7B%22vars%22%3A%20%7B%7D%2C%20%22input_node%22%3A%20%7B%22nodeType%22%3A%20%22void%22%2C%20%22type%22%3A%20%22invalid%22%7D%2C%20%22id%22%3A%20%22Slider2%22%2C%20%22config%22%3A%20%7B%22value%22%3A%201%7D%7D%2C%20%22val%22%3A%20%7B%22vars%22%3A%20%7B%22binned%22%3A%20%7B%22nodeType%22%3A%20%22output%22%2C%20%22type%22%3A%20%7B%22type%22%3A%20%22list%22%2C%20%22objectType%22%3A%20%7B%22type%22%3A%20%22typedDict%22%2C%20%22propertyTypes%22%3A%20%7B%22value%22%3A%20%22number%22%2C%20%22count%22%3A%20%22int%22%7D%7D%7D%2C%20%22fromOp%22%3A%20%7B%22name%22%3A%20%22map%22%2C%20%22inputs%22%3A%20%7B%22arr%22%3A%20%7B%22nodeType%22%3A%20%22output%22%2C%20%22type%22%3A%20%7B%22type%22%3A%20%22list%22%2C%20%22objectType%22%3A%20%7B%22type%22%3A%20%22groupresult%22%2C%20%22objectType%22%3A%20%22float%22%2C%20%22key%22%3A%20%22number%22%2C%20%22_property_types%22%3A%20%7B%22list%22%3A%20%7B%22type%22%3A%20%22list%22%2C%20%22objectType%22%3A%20%22float%22%7D%2C%20%22key%22%3A%20%22number%22%7D%7D%7D%2C%20%22fromOp%22%3A%20%7B%22name%22%3A%20%22groupby%22%2C%20%22inputs%22%3A%20%7B%22arr%22%3A%20%7B%22nodeType%22%3A%20%22output%22%2C%20%22type%22%3A%20%7B%22type%22%3A%20%22list%22%2C%20%22objectType%22%3A%20%22float%22%7D%2C%20%22fromOp%22%3A%20%7B%22name%22%3A%20%22get%22%2C%20%22inputs%22%3A%20%7B%22uri%22%3A%20%7B%22nodeType%22%3A%20%22const%22%2C%20%22type%22%3A%20%22string%22%2C%20%22val%22%3A%20%22local-artifact%3A///tmp/local-artifacts/list/95023ec9e49a6d3325ea8b880f9491ba%22%7D%7D%7D%7D%2C%20%22groupByFn%22%3A%20%7B%22nodeType%22%3A%20%22const%22%2C%20%22type%22%3A%20%7B%22type%22%3A%20%22function%22%2C%20%22inputTypes%22%3A%20%7B%22row%22%3A%20%22float%22%7D%2C%20%22outputType%22%3A%20%22number%22%7D%2C%20%22val%22%3A%20%7B%22nodeType%22%3A%20%22output%22%2C%20%22type%22%3A%20%22number%22%2C%20%22fromOp%22%3A%20%7B%22name%22%3A%20%22number-div%22%2C%20%22inputs%22%3A%20%7B%22lhs%22%3A%20%7B%22nodeType%22%3A%20%22output%22%2C%20%22type%22%3A%20%22number%22%2C%20%22fromOp%22%3A%20%7B%22name%22%3A%20%22number-round%22%2C%20%22inputs%22%3A%20%7B%22val%22%3A%20%7B%22nodeType%22%3A%20%22output%22%2C%20%22type%22%3A%20%22number%22%2C%20%22fromOp%22%3A%20%7B%22name%22%3A%20%22number-mult%22%2C%20%22inputs%22%3A%20%7B%22lhs%22%3A%20%7B%22nodeType%22%3A%20%22var%22%2C%20%22type%22%3A%20%22float%22%2C%20%22varName%22%3A%20%22row%22%7D%2C%20%22rhs%22%3A%20%7B%22nodeType%22%3A%20%22output%22%2C%20%22type%22%3A%20%22float%22%2C%20%22fromOp%22%3A%20%7B%22name%22%3A%20%22Object-__getattr__%22%2C%20%22inputs%22%3A%20%7B%22self%22%3A%20%7B%22nodeType%22%3A%20%22var%22%2C%20%22type%22%3A%20%7B%22type%22%3A%20%22Slider2%22%2C%20%22_property_types%22%3A%20%7B%22input_node%22%3A%20%7B%22type%22%3A%20%22function%22%2C%20%22inputTypes%22%3A%20%7B%7D%2C%20%22outputType%22%3A%20%22unknown%22%7D%2C%20%22vars%22%3A%20%7B%22type%22%3A%20%22dict%22%2C%20%22key_type%22%3A%20%22string%22%2C%20%22objectType%22%3A%20%7B%22type%22%3A%20%22function%22%2C%20%22inputTypes%22%3A%20%7B%7D%2C%20%22outputType%22%3A%20%22unknown%22%7D%7D%2C%20%22value%22%3A%20%22float%22%7D%7D%2C%20%22varName%22%3A%20%22my_slider%22%7D%2C%20%22name%22%3A%20%7B%22nodeType%22%3A%20%22const%22%2C%20%22type%22%3A%20%22string%22%2C%20%22val%22%3A%20%22value%22%7D%7D%7D%7D%7D%7D%7D%7D%7D%7D%2C%20%22rhs%22%3A%20%7B%22nodeType%22%3A%20%22output%22%2C%20%22type%22%3A%20%22float%22%2C%20%22fromOp%22%3A%20%7B%22name%22%3A%20%22Object-__getattr__%22%2C%20%22inputs%22%3A%20%7B%22self%22%3A%20%7B%22nodeType%22%3A%20%22var%22%2C%20%22type%22%3A%20%7B%22type%22%3A%20%22Slider2%22%2C%20%22_property_types%22%3A%20%7B%22input_node%22%3A%20%7B%22type%22%3A%20%22function%22%2C%20%22inputTypes%22%3A%20%7B%7D%2C%20%22outputType%22%3A%20%22unknown%22%7D%2C%20%22vars%22%3A%20%7B%22type%22%3A%20%22dict%22%2C%20%22key_type%22%3A%20%22string%22%2C%20%22objectType%22%3A%20%7B%22type%22%3A%20%22function%22%2C%20%22inputTypes%22%3A%20%7B%7D%2C%20%22outputType%22%3A%20%22unknown%22%7D%7D%2C%20%22value%22%3A%20%22float%22%7D%7D%2C%20%22varName%22%3A%20%22my_slider%22%7D%2C%20%22name%22%3A%20%7B%22nodeType%22%3A%20%22const%22%2C%20%22type%22%3A%20%22string%22%2C%20%22val%22%3A%20%22value%22%7D%7D%7D%7D%7D%7D%7D%7D%7D%7D%7D%2C%20%22mapFn%22%3A%20%7B%22nodeType%22%3A%20%22const%22%2C%20%22type%22%3A%20%7B%22type%22%3A%20%22function%22%2C%20%22inputTypes%22%3A%20%7B%22row%22%3A%20%7B%22type%22%3A%20%22groupresult%22%2C%20%22objectType%22%3A%20%22float%22%2C%20%22key%22%3A%20%22number%22%2C%20%22_property_types%22%3A%20%7B%22list%22%3A%20%7B%22type%22%3A%20%22list%22%2C%20%22objectType%22%3A%20%22float%22%7D%2C%20%22key%22%3A%20%22number%22%7D%7D%7D%2C%20%22outputType%22%3A%20%7B%22type%22%3A%20%22typedDict%22%2C%20%22propertyTypes%22%3A%20%7B%22value%22%3A%20%22number%22%2C%20%22count%22%3A%20%22int%22%7D%7D%7D%2C%20%22val%22%3A%20%7B%22nodeType%22%3A%20%22output%22%2C%20%22type%22%3A%20%7B%22type%22%3A%20%22typedDict%22%2C%20%22propertyTypes%22%3A%20%7B%22value%22%3A%20%22number%22%2C%20%22count%22%3A%20%22int%22%7D%7D%2C%20%22fromOp%22%3A%20%7B%22name%22%3A%20%22dict%22%2C%20%22inputs%22%3A%20%7B%22value%22%3A%20%7B%22nodeType%22%3A%20%22output%22%2C%20%22type%22%3A%20%22number%22%2C%20%22fromOp%22%3A%20%7B%22name%22%3A%20%22group-groupkey%22%2C%20%22inputs%22%3A%20%7B%22obj%22%3A%20%7B%22nodeType%22%3A%20%22var%22%2C%20%22type%22%3A%20%7B%22type%22%3A%20%22groupresult%22%2C%20%22objectType%22%3A%20%22float%22%2C%20%22key%22%3A%20%22number%22%2C%20%22_property_types%22%3A%20%7B%22list%22%3A%20%7B%22type%22%3A%20%22list%22%2C%20%22objectType%22%3A%20%22float%22%7D%2C%20%22key%22%3A%20%22number%22%7D%7D%2C%20%22varName%22%3A%20%22row%22%7D%7D%7D%7D%2C%20%22count%22%3A%20%7B%22nodeType%22%3A%20%22output%22%2C%20%22type%22%3A%20%22int%22%2C%20%22fromOp%22%3A%20%7B%22name%22%3A%20%22count%22%2C%20%22inputs%22%3A%20%7B%22arr%22%3A%20%7B%22nodeType%22%3A%20%22var%22%2C%20%22type%22%3A%20%7B%22type%22%3A%20%22groupresult%22%2C%20%22objectType%22%3A%20%22float%22%2C%20%22key%22%3A%20%22number%22%2C%20%22_property_types%22%3A%20%7B%22list%22%3A%20%7B%22type%22%3A%20%22list%22%2C%20%22objectType%22%3A%20%22float%22%7D%2C%20%22key%22%3A%20%22number%22%7D%7D%2C%20%22varName%22%3A%20%22row%22%7D%7D%7D%7D%7D%7D%7D%7D%7D%7D%7D%7D%2C%20%22input_node%22%3A%20%7B%22nodeType%22%3A%20%22var%22%2C%20%22type%22%3A%20%7B%22type%22%3A%20%22list%22%2C%20%22objectType%22%3A%20%7B%22type%22%3A%20%22typedDict%22%2C%20%22propertyTypes%22%3A%20%7B%22value%22%3A%20%22number%22%2C%20%22count%22%3A%20%22int%22%7D%7D%7D%2C%20%22varName%22%3A%20%22binned%22%7D%2C%20%22id%22%3A%20%22plot%22%2C%20%22config%22%3A%20%7B%22table%22%3A%20%7B%22autoColumns%22%3A%20false%2C%20%22columns%22%3A%20%7B%22C8CV2PCJ7JC5G6%22%3A%20%7B%22panelId%22%3A%20%22%22%2C%20%22panelConfig%22%3A%20null%7D%2C%20%22SEUBCLEI6ALBF4%22%3A%20%7B%22panelId%22%3A%20%22%22%2C%20%22panelConfig%22%3A%20null%7D%2C%20%22FWSCAI2DO04J42%22%3A%20%7B%22panelId%22%3A%20%22%22%2C%20%22panelConfig%22%3A%20null%7D%2C%20%22JSMP2JY4FDECNS%22%3A%20%7B%22panelId%22%3A%20%22%22%2C%20%22panelConfig%22%3A%20null%7D%2C%20%228YJ5IV1WJF72JB%22%3A%20%7B%22panelId%22%3A%20%22%22%2C%20%22panelConfig%22%3A%20null%7D%7D%2C%20%22preFilterFunction%22%3A%20%7B%22nodeType%22%3A%20%22void%22%2C%20%22type%22%3A%20%22invalid%22%7D%2C%20%22columnNames%22%3A%20%7B%22C8CV2PCJ7JC5G6%22%3A%20%22%22%2C%20%22SEUBCLEI6ALBF4%22%3A%20%22%22%2C%20%22FWSCAI2DO04J42%22%3A%20%22%22%2C%20%22JSMP2JY4FDECNS%22%3A%20%22%22%2C%20%228YJ5IV1WJF72JB%22%3A%20%22%22%7D%2C%20%22columnSelectFunctions%22%3A%20%7B%22C8CV2PCJ7JC5G6%22%3A%20%7B%22nodeType%22%3A%20%22output%22%2C%20%22type%22%3A%20%22number%22%2C%20%22fromOp%22%3A%20%7B%22name%22%3A%20%22pick%22%2C%20%22inputs%22%3A%20%7B%22obj%22%3A%20%7B%22nodeType%22%3A%20%22var%22%2C%20%22type%22%3A%20%7B%22type%22%3A%20%22typedDict%22%2C%20%22propertyTypes%22%3A%20%7B%22value%22%3A%20%22number%22%2C%20%22count%22%3A%20%22int%22%7D%7D%2C%20%22varName%22%3A%20%22row%22%7D%2C%20%22key%22%3A%20%7B%22nodeType%22%3A%20%22const%22%2C%20%22type%22%3A%20%22string%22%2C%20%22val%22%3A%20%22value%22%7D%7D%7D%7D%2C%20%22SEUBCLEI6ALBF4%22%3A%20%7B%22nodeType%22%3A%20%22output%22%2C%20%22type%22%3A%20%22int%22%2C%20%22fromOp%22%3A%20%7B%22name%22%3A%20%22pick%22%2C%20%22inputs%22%3A%20%7B%22obj%22%3A%20%7B%22nodeType%22%3A%20%22var%22%2C%20%22type%22%3A%20%7B%22type%22%3A%20%22typedDict%22%2C%20%22propertyTypes%22%3A%20%7B%22value%22%3A%20%22number%22%2C%20%22count%22%3A%20%22int%22%7D%7D%2C%20%22varName%22%3A%20%22row%22%7D%2C%20%22key%22%3A%20%7B%22nodeType%22%3A%20%22const%22%2C%20%22type%22%3A%20%22string%22%2C%20%22val%22%3A%20%22count%22%7D%7D%7D%7D%2C%20%22FWSCAI2DO04J42%22%3A%20%7B%22nodeType%22%3A%20%22void%22%2C%20%22type%22%3A%20%22invalid%22%7D%2C%20%22JSMP2JY4FDECNS%22%3A%20%7B%22nodeType%22%3A%20%22void%22%2C%20%22type%22%3A%20%22invalid%22%7D%2C%20%228YJ5IV1WJF72JB%22%3A%20%7B%22nodeType%22%3A%20%22void%22%2C%20%22type%22%3A%20%22invalid%22%7D%7D%2C%20%22order%22%3A%20%5B%22C8CV2PCJ7JC5G6%22%2C%20%22SEUBCLEI6ALBF4%22%2C%20%22FWSCAI2DO04J42%22%2C%20%22JSMP2JY4FDECNS%22%2C%20%228YJ5IV1WJF72JB%22%5D%2C%20%22groupBy%22%3A%20%5B%5D%2C%20%22sort%22%3A%20%5B%5D%2C%20%22pageSize%22%3A%2010%2C%20%22page%22%3A%200%7D%2C%20%22dims%22%3A%20%7B%22x%22%3A%20%22C8CV2PCJ7JC5G6%22%2C%20%22y%22%3A%20%22SEUBCLEI6ALBF4%22%2C%20%22color%22%3A%20%22FWSCAI2DO04J42%22%2C%20%22label%22%3A%20%22JSMP2JY4FDECNS%22%2C%20%22tooltip%22%3A%20%228YJ5IV1WJF72JB%22%7D%2C%20%22mark%22%3A%20%22bar%22%2C%20%22axisSettings%22%3A%20%7B%22x%22%3A%20%7B%7D%2C%20%22y%22%3A%20%7B%7D%7D%2C%20%22legendSettings%22%3A%20%7B%7D%7D%7D%7D%7D\"\n",
       "            frameborder=\"0\"\n",
       "            allowfullscreen\n",
       "            \n",
       "        ></iframe>\n",
       "        "
      ],
      "text/plain": [
       "<IPython.lib.display.IFrame at 0x1301344c0>"
      ]
     },
     "metadata": {},
     "output_type": "display_data"
    }
   ],
   "source": [
    "import weave\n",
    "weave.use_frontend_devmode()\n",
    "import random\n",
    "data = weave.save([random.random() for i in range(1000)])\n",
    "\n",
    "panel = weave.panels.Group2(\n",
    "    items={\n",
    "        \"my_slider\": weave.panels.Slider2(),\n",
    "        \"val\": lambda my_slider: weave.panels.Plot(\n",
    "            vars={\n",
    "                'binned':  data.groupby(lambda v: round(v * my_slider.value) / my_slider.value).map(\n",
    "                    lambda group: weave.ops.dict_(value=group.key(), count=group.count())\n",
    "                )\n",
    "            },\n",
    "            input_node=lambda binned: binned,\n",
    "            x=lambda row: row['value'],\n",
    "            y=lambda row: row['count'],\n",
    "            mark='bar'\n",
    "        )\n",
    "    })\n",
    "\n",
    "weave.show(panel)"
   ]
  },
  {
   "cell_type": "code",
   "execution_count": null,
   "id": "7fb99fd5",
   "metadata": {},
   "outputs": [],
   "source": [
    "my_range = weave.save(weave.ops.to_arrow(list(range(100))), 'my_range')\n",
    "\n",
    "plot = weave.panels.Plot(\n",
    "            my_range,\n",
    "            x=lambda row: row,\n",
    "            y=lambda row: row\n",
    "        )\n",
    "weave.show(plot)"
   ]
  },
  {
   "cell_type": "code",
   "execution_count": null,
   "id": "1b74bad5",
   "metadata": {
    "scrolled": false
   },
   "outputs": [],
   "source": [
    "# panel = weave.panels.Group2(\n",
    "#     items={\n",
    "#         \"a\": weave.panels.Group2(items={\"a1\": 5, \"a2\": lambda a1: a1 + 5}),\n",
    "#         \"b\": weave.panels.Group2(\n",
    "#             items={\"b1\": lambda a: a.items[\"a1\"], \"b2\": lambda a: a.items[\"a2\"]}\n",
    "#         ),\n",
    "#     }\n",
    "# )\n",
    "# panel.normalize()\n",
    "# print(panel.config())"
   ]
  }
 ],
 "metadata": {
  "kernelspec": {
   "display_name": "Python 3 (ipykernel)",
   "language": "python",
   "name": "python3"
  },
  "language_info": {
   "codemirror_mode": {
    "name": "ipython",
    "version": 3
   },
   "file_extension": ".py",
   "mimetype": "text/x-python",
   "name": "python",
   "nbconvert_exporter": "python",
   "pygments_lexer": "ipython3",
   "version": "3.9.7"
  },
  "vscode": {
   "interpreter": {
    "hash": "5fa15552822288bf21380dd18e7dffc1d82fdedfe42de359063acfa93ba99490"
   }
  }
 },
 "nbformat": 4,
 "nbformat_minor": 5
}
