{
 "cells": [
  {
   "cell_type": "code",
   "execution_count": 2,
   "id": "51500f80",
   "metadata": {},
   "outputs": [],
   "source": [
    "import random\n",
    "import typing\n",
    "import itertools\n",
    "from PIL import Image\n",
    "import weave\n",
    "from weave import storage\n",
    "from weave import weave_internal\n",
    "#weave.use_frontend_devmode()"
   ]
  },
  {
   "cell_type": "code",
   "execution_count": 3,
   "id": "b6e5e1c9",
   "metadata": {},
   "outputs": [],
   "source": [
    "# Not really model predictions but it'll work for now\n",
    "import string\n",
    "import hashlib\n",
    "\n",
    "def simple_hash(n, b):\n",
    "    return int.from_bytes(hashlib.sha256(str(n).encode()).digest(), \"little\") % b\n",
    "\n",
    "def create_data(n_rows, n_extra_cols, images=False):\n",
    "    inner_count = int(n_rows / 25)\n",
    "    base_im = Image.linear_gradient('L').resize((32, 32))\n",
    "    x_choices = string.ascii_lowercase\n",
    "    extra_cols = [chr(ord('a') + i) for i in range(n_extra_cols)]\n",
    "    ims = []\n",
    "    for i, (rotate, shear, _) in enumerate(\n",
    "        itertools.product(range(5), range(5), range(inner_count))\n",
    "    ):\n",
    "        im ={\n",
    "            'rotate': rotate,\n",
    "            'shear': shear,\n",
    "            'y': x_choices[simple_hash(i**13, 5)],\n",
    "            'x': x_choices[simple_hash(i**13, 11)]\n",
    "        }\n",
    "        if images:\n",
    "            im['image'] = (base_im\n",
    "                .rotate(rotate * 4)\n",
    "                .transform((32, 32), Image.AFFINE, (1, shear / 10, 0, 0, 1, 0), Image.BICUBIC))\n",
    "        for j, col in enumerate(extra_cols):\n",
    "            im[col] = x_choices[simple_hash(i*13**j, 11)]\n",
    "        ims.append(im)\n",
    "    return ims\n",
    "\n",
    "ims = create_data(100, 1, True)\n",
    "#ims = storage.to_arrow(ims)\n",
    "#ims = weave.save(ims)"
   ]
  },
  {
   "cell_type": "code",
   "execution_count": 4,
   "id": "2da45914",
   "metadata": {},
   "outputs": [
    {
     "data": {
      "text/html": [
       "\n",
       "        <iframe\n",
       "            width=\"100%\"\n",
       "            height=\"400px\"\n",
       "            src=\"http://127.0.0.1:57113/__frontend/weave_jupyter/__frontend/weave_jupyter?fullScreen&expNode=%7B%22nodeType%22%3A%20%22output%22%2C%20%22type%22%3A%20%7B%22type%22%3A%20%22list%22%2C%20%22objectType%22%3A%20%7B%22type%22%3A%20%22typedDict%22%2C%20%22propertyTypes%22%3A%20%7B%22rotate%22%3A%20%22int%22%2C%20%22shear%22%3A%20%22int%22%2C%20%22y%22%3A%20%22string%22%2C%20%22x%22%3A%20%22string%22%2C%20%22image%22%3A%20%7B%22type%22%3A%20%22pil-image%22%2C%20%22width%22%3A%2032%2C%20%22height%22%3A%2032%2C%20%22mode%22%3A%20%22L%22%7D%2C%20%22a%22%3A%20%22string%22%7D%7D%7D%2C%20%22fromOp%22%3A%20%7B%22name%22%3A%20%22get%22%2C%20%22inputs%22%3A%20%7B%22uri%22%3A%20%7B%22nodeType%22%3A%20%22const%22%2C%20%22type%22%3A%20%7B%22type%22%3A%20%22const%22%2C%20%22valType%22%3A%20%22string%22%2C%20%22val%22%3A%20%22local-artifact%3A///tmp/local-artifacts/ims/a8a62626cac30b111eaaf5ba9c9163ba%22%7D%2C%20%22val%22%3A%20%22local-artifact%3A///tmp/local-artifacts/ims/a8a62626cac30b111eaaf5ba9c9163ba%22%7D%7D%7D%7D\"\n",
       "            frameborder=\"0\"\n",
       "            allowfullscreen\n",
       "            \n",
       "        ></iframe>\n",
       "        "
      ],
      "text/plain": [
       "<IPython.lib.display.IFrame at 0x162411280>"
      ]
     },
     "metadata": {},
     "output_type": "display_data"
    }
   ],
   "source": [
    "weave.show(ims)"
   ]
  },
  {
   "cell_type": "code",
   "execution_count": 5,
   "id": "49501ff4",
   "metadata": {},
   "outputs": [
    {
     "data": {
      "text/html": [
       "\n",
       "        <iframe\n",
       "            width=\"100%\"\n",
       "            height=\"400px\"\n",
       "            src=\"http://127.0.0.1:57113/__frontend/weave_jupyter/__frontend/weave_jupyter?fullScreen&expNode=%7B%22nodeType%22%3A%20%22output%22%2C%20%22type%22%3A%20%7B%22type%22%3A%20%22list%22%2C%20%22objectType%22%3A%20%7B%22type%22%3A%20%22typedDict%22%2C%20%22propertyTypes%22%3A%20%7B%22rotate%22%3A%20%22int%22%2C%20%22shear%22%3A%20%22int%22%2C%20%22y%22%3A%20%22string%22%2C%20%22x%22%3A%20%22string%22%2C%20%22image%22%3A%20%7B%22type%22%3A%20%22pil-image%22%2C%20%22width%22%3A%2032%2C%20%22height%22%3A%2032%2C%20%22mode%22%3A%20%22L%22%7D%2C%20%22a%22%3A%20%22string%22%7D%7D%7D%2C%20%22fromOp%22%3A%20%7B%22name%22%3A%20%22get%22%2C%20%22inputs%22%3A%20%7B%22uri%22%3A%20%7B%22nodeType%22%3A%20%22const%22%2C%20%22type%22%3A%20%7B%22type%22%3A%20%22const%22%2C%20%22valType%22%3A%20%22string%22%2C%20%22val%22%3A%20%22local-artifact%3A///tmp/local-artifacts/list/879fc4eef9f51ccc3eb9f8631377f55e%22%7D%2C%20%22val%22%3A%20%22local-artifact%3A///tmp/local-artifacts/list/879fc4eef9f51ccc3eb9f8631377f55e%22%7D%7D%7D%7D&panelId=plot&panelConfig=%7B%22table%22%3A%20%7B%22autoColumns%22%3A%20false%2C%20%22columns%22%3A%20%7B%22SXUXMH7DUDYOJD%22%3A%20%7B%22panelId%22%3A%20%22%22%2C%20%22panelConfig%22%3A%20null%7D%2C%20%2269S5V498ZA7IRP%22%3A%20%7B%22panelId%22%3A%20%22%22%2C%20%22panelConfig%22%3A%20null%7D%2C%20%22Z910BIYLJVKL3I%22%3A%20%7B%22panelId%22%3A%20%22%22%2C%20%22panelConfig%22%3A%20null%7D%2C%20%22D63889PIBX42TP%22%3A%20%7B%22panelId%22%3A%20%22%22%2C%20%22panelConfig%22%3A%20null%7D%2C%20%22ZEJLOCHF8Y2NJC%22%3A%20%7B%22panelId%22%3A%20%22%22%2C%20%22panelConfig%22%3A%20null%7D%7D%2C%20%22preFilterFunction%22%3A%20%7B%22nodeType%22%3A%20%22void%22%2C%20%22type%22%3A%20%22invalid%22%7D%2C%20%22columnNames%22%3A%20%7B%22SXUXMH7DUDYOJD%22%3A%20%22%22%2C%20%2269S5V498ZA7IRP%22%3A%20%22%22%2C%20%22Z910BIYLJVKL3I%22%3A%20%22%22%2C%20%22D63889PIBX42TP%22%3A%20%22%22%2C%20%22ZEJLOCHF8Y2NJC%22%3A%20%22%22%7D%2C%20%22columnSelectFunctions%22%3A%20%7B%22SXUXMH7DUDYOJD%22%3A%20%7B%22nodeType%22%3A%20%22output%22%2C%20%22type%22%3A%20%22int%22%2C%20%22fromOp%22%3A%20%7B%22name%22%3A%20%22pick%22%2C%20%22inputs%22%3A%20%7B%22obj%22%3A%20%7B%22nodeType%22%3A%20%22var%22%2C%20%22type%22%3A%20%7B%22type%22%3A%20%22typedDict%22%2C%20%22propertyTypes%22%3A%20%7B%22rotate%22%3A%20%22int%22%2C%20%22shear%22%3A%20%22int%22%2C%20%22y%22%3A%20%22string%22%2C%20%22x%22%3A%20%22string%22%2C%20%22image%22%3A%20%7B%22type%22%3A%20%22pil-image%22%2C%20%22width%22%3A%2032%2C%20%22height%22%3A%2032%2C%20%22mode%22%3A%20%22L%22%7D%2C%20%22a%22%3A%20%22string%22%7D%7D%2C%20%22varName%22%3A%20%22row%22%7D%2C%20%22key%22%3A%20%7B%22nodeType%22%3A%20%22const%22%2C%20%22type%22%3A%20%7B%22type%22%3A%20%22const%22%2C%20%22valType%22%3A%20%22string%22%2C%20%22val%22%3A%20%22rotate%22%7D%2C%20%22val%22%3A%20%22rotate%22%7D%7D%7D%7D%2C%20%2269S5V498ZA7IRP%22%3A%20%7B%22nodeType%22%3A%20%22output%22%2C%20%22type%22%3A%20%22string%22%2C%20%22fromOp%22%3A%20%7B%22name%22%3A%20%22pick%22%2C%20%22inputs%22%3A%20%7B%22obj%22%3A%20%7B%22nodeType%22%3A%20%22var%22%2C%20%22type%22%3A%20%7B%22type%22%3A%20%22typedDict%22%2C%20%22propertyTypes%22%3A%20%7B%22rotate%22%3A%20%22int%22%2C%20%22shear%22%3A%20%22int%22%2C%20%22y%22%3A%20%22string%22%2C%20%22x%22%3A%20%22string%22%2C%20%22image%22%3A%20%7B%22type%22%3A%20%22pil-image%22%2C%20%22width%22%3A%2032%2C%20%22height%22%3A%2032%2C%20%22mode%22%3A%20%22L%22%7D%2C%20%22a%22%3A%20%22string%22%7D%7D%2C%20%22varName%22%3A%20%22row%22%7D%2C%20%22key%22%3A%20%7B%22nodeType%22%3A%20%22const%22%2C%20%22type%22%3A%20%7B%22type%22%3A%20%22const%22%2C%20%22valType%22%3A%20%22string%22%2C%20%22val%22%3A%20%22x%22%7D%2C%20%22val%22%3A%20%22x%22%7D%7D%7D%7D%2C%20%22Z910BIYLJVKL3I%22%3A%20%7B%22nodeType%22%3A%20%22void%22%2C%20%22type%22%3A%20%22invalid%22%7D%2C%20%22D63889PIBX42TP%22%3A%20%7B%22nodeType%22%3A%20%22void%22%2C%20%22type%22%3A%20%22invalid%22%7D%2C%20%22ZEJLOCHF8Y2NJC%22%3A%20%7B%22nodeType%22%3A%20%22output%22%2C%20%22type%22%3A%20%7B%22type%22%3A%20%22pil-image%22%2C%20%22width%22%3A%2032%2C%20%22height%22%3A%2032%2C%20%22mode%22%3A%20%22L%22%7D%2C%20%22fromOp%22%3A%20%7B%22name%22%3A%20%22pick%22%2C%20%22inputs%22%3A%20%7B%22obj%22%3A%20%7B%22nodeType%22%3A%20%22var%22%2C%20%22type%22%3A%20%7B%22type%22%3A%20%22typedDict%22%2C%20%22propertyTypes%22%3A%20%7B%22rotate%22%3A%20%22int%22%2C%20%22shear%22%3A%20%22int%22%2C%20%22y%22%3A%20%22string%22%2C%20%22x%22%3A%20%22string%22%2C%20%22image%22%3A%20%7B%22type%22%3A%20%22pil-image%22%2C%20%22width%22%3A%2032%2C%20%22height%22%3A%2032%2C%20%22mode%22%3A%20%22L%22%7D%2C%20%22a%22%3A%20%22string%22%7D%7D%2C%20%22varName%22%3A%20%22row%22%7D%2C%20%22key%22%3A%20%7B%22nodeType%22%3A%20%22const%22%2C%20%22type%22%3A%20%7B%22type%22%3A%20%22const%22%2C%20%22valType%22%3A%20%22string%22%2C%20%22val%22%3A%20%22image%22%7D%2C%20%22val%22%3A%20%22image%22%7D%7D%7D%7D%7D%2C%20%22order%22%3A%20%5B%22SXUXMH7DUDYOJD%22%2C%20%2269S5V498ZA7IRP%22%2C%20%22Z910BIYLJVKL3I%22%2C%20%22D63889PIBX42TP%22%2C%20%22ZEJLOCHF8Y2NJC%22%5D%2C%20%22groupBy%22%3A%20%5B%5D%2C%20%22sort%22%3A%20%5B%5D%2C%20%22pageSize%22%3A%2010%2C%20%22page%22%3A%200%7D%2C%20%22dims%22%3A%20%7B%22x%22%3A%20%22SXUXMH7DUDYOJD%22%2C%20%22y%22%3A%20%2269S5V498ZA7IRP%22%2C%20%22color%22%3A%20%22Z910BIYLJVKL3I%22%2C%20%22label%22%3A%20%22D63889PIBX42TP%22%2C%20%22tooltip%22%3A%20%22ZEJLOCHF8Y2NJC%22%7D%2C%20%22mark%22%3A%20null%2C%20%22axisSettings%22%3A%20%7B%22x%22%3A%20%7B%7D%2C%20%22y%22%3A%20%7B%7D%7D%2C%20%22legendSettings%22%3A%20%7B%7D%7D\"\n",
       "            frameborder=\"0\"\n",
       "            allowfullscreen\n",
       "            \n",
       "        ></iframe>\n",
       "        "
      ],
      "text/plain": [
       "<IPython.lib.display.IFrame at 0x19da447f0>"
      ]
     },
     "metadata": {},
     "output_type": "display_data"
    }
   ],
   "source": [
    "plot = weave.panels.Plot(ims)\n",
    "plot.set_x(lambda row: row['rotate'])\n",
    "plot.set_y(lambda row: row['x'])\n",
    "plot.set_tooltip(lambda row: row['image'])\n",
    "weave.show(plot)"
   ]
  },
  {
   "cell_type": "markdown",
   "id": "6583e01c",
   "metadata": {},
   "source": [
    "## Facet is fun!"
   ]
  },
  {
   "cell_type": "code",
   "execution_count": 6,
   "id": "090d8ab8",
   "metadata": {},
   "outputs": [
    {
     "data": {
      "text/html": [
       "\n",
       "        <iframe\n",
       "            width=\"100%\"\n",
       "            height=\"400px\"\n",
       "            src=\"http://127.0.0.1:57113/__frontend/weave_jupyter/__frontend/weave_jupyter?fullScreen&expNode=%7B%22nodeType%22%3A%20%22output%22%2C%20%22type%22%3A%20%7B%22type%22%3A%20%22list%22%2C%20%22objectType%22%3A%20%7B%22type%22%3A%20%22typedDict%22%2C%20%22propertyTypes%22%3A%20%7B%22rotate%22%3A%20%22int%22%2C%20%22shear%22%3A%20%22int%22%2C%20%22y%22%3A%20%22string%22%2C%20%22x%22%3A%20%22string%22%2C%20%22image%22%3A%20%7B%22type%22%3A%20%22pil-image%22%2C%20%22width%22%3A%2032%2C%20%22height%22%3A%2032%2C%20%22mode%22%3A%20%22L%22%7D%2C%20%22a%22%3A%20%22string%22%7D%7D%7D%2C%20%22fromOp%22%3A%20%7B%22name%22%3A%20%22get%22%2C%20%22inputs%22%3A%20%7B%22uri%22%3A%20%7B%22nodeType%22%3A%20%22const%22%2C%20%22type%22%3A%20%7B%22type%22%3A%20%22const%22%2C%20%22valType%22%3A%20%22string%22%2C%20%22val%22%3A%20%22local-artifact%3A///tmp/local-artifacts/list/879fc4eef9f51ccc3eb9f8631377f55e%22%7D%2C%20%22val%22%3A%20%22local-artifact%3A///tmp/local-artifacts/list/879fc4eef9f51ccc3eb9f8631377f55e%22%7D%7D%7D%7D&panelId=facet&panelConfig=%7B%22table%22%3A%20%7B%22autoColumns%22%3A%20false%2C%20%22columns%22%3A%20%7B%22E3BKDW058SUQXR%22%3A%20%7B%22panelId%22%3A%20%22%22%2C%20%22panelConfig%22%3A%20null%7D%2C%20%22JQFVN8X7E9QSM5%22%3A%20%7B%22panelId%22%3A%20%22%22%2C%20%22panelConfig%22%3A%20null%7D%2C%20%22Y6B2PJSM0HAQT4%22%3A%20%7B%22panelId%22%3A%20%22plot%22%2C%20%22panelConfig%22%3A%20%7B%22table%22%3A%20%7B%22autoColumns%22%3A%20false%2C%20%22columns%22%3A%20%7B%223H2WRAUOQEAWXR%22%3A%20%7B%22panelId%22%3A%20%22%22%2C%20%22panelConfig%22%3A%20null%7D%2C%20%22ZWC4QDWQMA07KK%22%3A%20%7B%22panelId%22%3A%20%22%22%2C%20%22panelConfig%22%3A%20null%7D%2C%20%2257KG27X3M99FSL%22%3A%20%7B%22panelId%22%3A%20%22%22%2C%20%22panelConfig%22%3A%20null%7D%2C%20%22MMACI42NAN3KWV%22%3A%20%7B%22panelId%22%3A%20%22%22%2C%20%22panelConfig%22%3A%20null%7D%2C%20%22JCINA7IFELM4OL%22%3A%20%7B%22panelId%22%3A%20%22%22%2C%20%22panelConfig%22%3A%20null%7D%7D%2C%20%22preFilterFunction%22%3A%20%7B%22nodeType%22%3A%20%22void%22%2C%20%22type%22%3A%20%22invalid%22%7D%2C%20%22columnNames%22%3A%20%7B%223H2WRAUOQEAWXR%22%3A%20%22%22%2C%20%22ZWC4QDWQMA07KK%22%3A%20%22%22%2C%20%2257KG27X3M99FSL%22%3A%20%22%22%2C%20%22MMACI42NAN3KWV%22%3A%20%22%22%2C%20%22JCINA7IFELM4OL%22%3A%20%22%22%7D%2C%20%22columnSelectFunctions%22%3A%20%7B%223H2WRAUOQEAWXR%22%3A%20%7B%22nodeType%22%3A%20%22output%22%2C%20%22type%22%3A%20%22int%22%2C%20%22fromOp%22%3A%20%7B%22name%22%3A%20%22count%22%2C%20%22inputs%22%3A%20%7B%22arr%22%3A%20%7B%22nodeType%22%3A%20%22var%22%2C%20%22type%22%3A%20%7B%22type%22%3A%20%22groupresult%22%2C%20%22objectType%22%3A%20%7B%22type%22%3A%20%22typedDict%22%2C%20%22propertyTypes%22%3A%20%7B%22rotate%22%3A%20%22int%22%2C%20%22shear%22%3A%20%22int%22%2C%20%22y%22%3A%20%22string%22%2C%20%22x%22%3A%20%22string%22%2C%20%22image%22%3A%20%7B%22type%22%3A%20%22pil-image%22%2C%20%22width%22%3A%2032%2C%20%22height%22%3A%2032%2C%20%22mode%22%3A%20%22L%22%7D%2C%20%22a%22%3A%20%22string%22%7D%7D%2C%20%22key%22%3A%20%22any%22%7D%2C%20%22varName%22%3A%20%22row%22%7D%7D%7D%7D%2C%20%22ZWC4QDWQMA07KK%22%3A%20%7B%22nodeType%22%3A%20%22output%22%2C%20%22type%22%3A%20%22any%22%2C%20%22fromOp%22%3A%20%7B%22name%22%3A%20%22group-groupkey%22%2C%20%22inputs%22%3A%20%7B%22obj%22%3A%20%7B%22nodeType%22%3A%20%22var%22%2C%20%22type%22%3A%20%7B%22type%22%3A%20%22groupresult%22%2C%20%22objectType%22%3A%20%7B%22type%22%3A%20%22typedDict%22%2C%20%22propertyTypes%22%3A%20%7B%22rotate%22%3A%20%22int%22%2C%20%22shear%22%3A%20%22int%22%2C%20%22y%22%3A%20%22string%22%2C%20%22x%22%3A%20%22string%22%2C%20%22image%22%3A%20%7B%22type%22%3A%20%22pil-image%22%2C%20%22width%22%3A%2032%2C%20%22height%22%3A%2032%2C%20%22mode%22%3A%20%22L%22%7D%2C%20%22a%22%3A%20%22string%22%7D%7D%2C%20%22key%22%3A%20%22any%22%7D%2C%20%22varName%22%3A%20%22row%22%7D%7D%7D%7D%2C%20%2257KG27X3M99FSL%22%3A%20%7B%22nodeType%22%3A%20%22void%22%2C%20%22type%22%3A%20%22invalid%22%7D%2C%20%22MMACI42NAN3KWV%22%3A%20%7B%22nodeType%22%3A%20%22output%22%2C%20%22type%22%3A%20%22any%22%2C%20%22fromOp%22%3A%20%7B%22name%22%3A%20%22group-groupkey%22%2C%20%22inputs%22%3A%20%7B%22obj%22%3A%20%7B%22nodeType%22%3A%20%22var%22%2C%20%22type%22%3A%20%7B%22type%22%3A%20%22groupresult%22%2C%20%22objectType%22%3A%20%7B%22type%22%3A%20%22typedDict%22%2C%20%22propertyTypes%22%3A%20%7B%22rotate%22%3A%20%22int%22%2C%20%22shear%22%3A%20%22int%22%2C%20%22y%22%3A%20%22string%22%2C%20%22x%22%3A%20%22string%22%2C%20%22image%22%3A%20%7B%22type%22%3A%20%22pil-image%22%2C%20%22width%22%3A%2032%2C%20%22height%22%3A%2032%2C%20%22mode%22%3A%20%22L%22%7D%2C%20%22a%22%3A%20%22string%22%7D%7D%2C%20%22key%22%3A%20%22any%22%7D%2C%20%22varName%22%3A%20%22row%22%7D%7D%7D%7D%2C%20%22JCINA7IFELM4OL%22%3A%20%7B%22nodeType%22%3A%20%22output%22%2C%20%22type%22%3A%20%7B%22type%22%3A%20%22list%22%2C%20%22objectType%22%3A%20%7B%22type%22%3A%20%22pil-image%22%2C%20%22width%22%3A%2032%2C%20%22height%22%3A%2032%2C%20%22mode%22%3A%20%22L%22%7D%7D%2C%20%22fromOp%22%3A%20%7B%22name%22%3A%20%22map%22%2C%20%22inputs%22%3A%20%7B%22arr%22%3A%20%7B%22nodeType%22%3A%20%22var%22%2C%20%22type%22%3A%20%7B%22type%22%3A%20%22groupresult%22%2C%20%22objectType%22%3A%20%7B%22type%22%3A%20%22typedDict%22%2C%20%22propertyTypes%22%3A%20%7B%22rotate%22%3A%20%22int%22%2C%20%22shear%22%3A%20%22int%22%2C%20%22y%22%3A%20%22string%22%2C%20%22x%22%3A%20%22string%22%2C%20%22image%22%3A%20%7B%22type%22%3A%20%22pil-image%22%2C%20%22width%22%3A%2032%2C%20%22height%22%3A%2032%2C%20%22mode%22%3A%20%22L%22%7D%2C%20%22a%22%3A%20%22string%22%7D%7D%2C%20%22key%22%3A%20%22any%22%7D%2C%20%22varName%22%3A%20%22row%22%7D%2C%20%22mapFn%22%3A%20%7B%22nodeType%22%3A%20%22const%22%2C%20%22type%22%3A%20%7B%22type%22%3A%20%22function%22%2C%20%22inputTypes%22%3A%20%7B%22row%22%3A%20%7B%22type%22%3A%20%22typedDict%22%2C%20%22propertyTypes%22%3A%20%7B%22rotate%22%3A%20%22int%22%2C%20%22shear%22%3A%20%22int%22%2C%20%22y%22%3A%20%22string%22%2C%20%22x%22%3A%20%22string%22%2C%20%22image%22%3A%20%7B%22type%22%3A%20%22pil-image%22%2C%20%22width%22%3A%2032%2C%20%22height%22%3A%2032%2C%20%22mode%22%3A%20%22L%22%7D%2C%20%22a%22%3A%20%22string%22%7D%7D%7D%2C%20%22outputType%22%3A%20%7B%22type%22%3A%20%22pil-image%22%2C%20%22width%22%3A%2032%2C%20%22height%22%3A%2032%2C%20%22mode%22%3A%20%22L%22%7D%7D%2C%20%22val%22%3A%20%7B%22nodeType%22%3A%20%22output%22%2C%20%22type%22%3A%20%7B%22type%22%3A%20%22pil-image%22%2C%20%22width%22%3A%2032%2C%20%22height%22%3A%2032%2C%20%22mode%22%3A%20%22L%22%7D%2C%20%22fromOp%22%3A%20%7B%22name%22%3A%20%22pick%22%2C%20%22inputs%22%3A%20%7B%22obj%22%3A%20%7B%22nodeType%22%3A%20%22var%22%2C%20%22type%22%3A%20%7B%22type%22%3A%20%22typedDict%22%2C%20%22propertyTypes%22%3A%20%7B%22rotate%22%3A%20%22int%22%2C%20%22shear%22%3A%20%22int%22%2C%20%22y%22%3A%20%22string%22%2C%20%22x%22%3A%20%22string%22%2C%20%22image%22%3A%20%7B%22type%22%3A%20%22pil-image%22%2C%20%22width%22%3A%2032%2C%20%22height%22%3A%2032%2C%20%22mode%22%3A%20%22L%22%7D%2C%20%22a%22%3A%20%22string%22%7D%7D%2C%20%22varName%22%3A%20%22row%22%7D%2C%20%22key%22%3A%20%7B%22nodeType%22%3A%20%22const%22%2C%20%22type%22%3A%20%7B%22type%22%3A%20%22const%22%2C%20%22valType%22%3A%20%22string%22%2C%20%22val%22%3A%20%22image%22%7D%2C%20%22val%22%3A%20%22image%22%7D%7D%7D%7D%7D%7D%7D%7D%7D%2C%20%22order%22%3A%20%5B%223H2WRAUOQEAWXR%22%2C%20%22ZWC4QDWQMA07KK%22%2C%20%2257KG27X3M99FSL%22%2C%20%22MMACI42NAN3KWV%22%2C%20%22JCINA7IFELM4OL%22%5D%2C%20%22groupBy%22%3A%20%5B%5D%2C%20%22sort%22%3A%20%5B%5D%2C%20%22pageSize%22%3A%2010%2C%20%22page%22%3A%200%7D%2C%20%22dims%22%3A%20%7B%22x%22%3A%20%223H2WRAUOQEAWXR%22%2C%20%22y%22%3A%20%22ZWC4QDWQMA07KK%22%2C%20%22color%22%3A%20%2257KG27X3M99FSL%22%2C%20%22label%22%3A%20%22MMACI42NAN3KWV%22%2C%20%22tooltip%22%3A%20%22JCINA7IFELM4OL%22%7D%2C%20%22mark%22%3A%20%22bar%22%2C%20%22axisSettings%22%3A%20%7B%22x%22%3A%20%7B%22noLabels%22%3A%20true%2C%20%22noTitle%22%3A%20true%2C%20%22noTicks%22%3A%20true%7D%2C%20%22y%22%3A%20%7B%22noLabels%22%3A%20true%2C%20%22noTitle%22%3A%20true%2C%20%22noTicks%22%3A%20true%7D%7D%2C%20%22legendSettings%22%3A%20%7B%22color%22%3A%20%7B%22noLegend%22%3A%20true%7D%7D%7D%7D%2C%20%22MXENO7MOWQVC2M%22%3A%20%7B%22panelId%22%3A%20%22%22%2C%20%22panelConfig%22%3A%20null%7D%7D%2C%20%22preFilterFunction%22%3A%20%7B%22nodeType%22%3A%20%22void%22%2C%20%22type%22%3A%20%22invalid%22%7D%2C%20%22columnNames%22%3A%20%7B%22E3BKDW058SUQXR%22%3A%20%22%22%2C%20%22JQFVN8X7E9QSM5%22%3A%20%22%22%2C%20%22Y6B2PJSM0HAQT4%22%3A%20%22%22%2C%20%22MXENO7MOWQVC2M%22%3A%20%22%22%7D%2C%20%22columnSelectFunctions%22%3A%20%7B%22E3BKDW058SUQXR%22%3A%20%7B%22nodeType%22%3A%20%22output%22%2C%20%22type%22%3A%20%22int%22%2C%20%22fromOp%22%3A%20%7B%22name%22%3A%20%22pick%22%2C%20%22inputs%22%3A%20%7B%22obj%22%3A%20%7B%22nodeType%22%3A%20%22var%22%2C%20%22type%22%3A%20%7B%22type%22%3A%20%22typedDict%22%2C%20%22propertyTypes%22%3A%20%7B%22rotate%22%3A%20%22int%22%2C%20%22shear%22%3A%20%22int%22%2C%20%22y%22%3A%20%22string%22%2C%20%22x%22%3A%20%22string%22%2C%20%22image%22%3A%20%7B%22type%22%3A%20%22pil-image%22%2C%20%22width%22%3A%2032%2C%20%22height%22%3A%2032%2C%20%22mode%22%3A%20%22L%22%7D%2C%20%22a%22%3A%20%22string%22%7D%7D%2C%20%22varName%22%3A%20%22row%22%7D%2C%20%22key%22%3A%20%7B%22nodeType%22%3A%20%22const%22%2C%20%22type%22%3A%20%7B%22type%22%3A%20%22const%22%2C%20%22valType%22%3A%20%22string%22%2C%20%22val%22%3A%20%22rotate%22%7D%2C%20%22val%22%3A%20%22rotate%22%7D%7D%7D%7D%2C%20%22JQFVN8X7E9QSM5%22%3A%20%7B%22nodeType%22%3A%20%22output%22%2C%20%22type%22%3A%20%22int%22%2C%20%22fromOp%22%3A%20%7B%22name%22%3A%20%22pick%22%2C%20%22inputs%22%3A%20%7B%22obj%22%3A%20%7B%22nodeType%22%3A%20%22var%22%2C%20%22type%22%3A%20%7B%22type%22%3A%20%22typedDict%22%2C%20%22propertyTypes%22%3A%20%7B%22rotate%22%3A%20%22int%22%2C%20%22shear%22%3A%20%22int%22%2C%20%22y%22%3A%20%22string%22%2C%20%22x%22%3A%20%22string%22%2C%20%22image%22%3A%20%7B%22type%22%3A%20%22pil-image%22%2C%20%22width%22%3A%2032%2C%20%22height%22%3A%2032%2C%20%22mode%22%3A%20%22L%22%7D%2C%20%22a%22%3A%20%22string%22%7D%7D%2C%20%22varName%22%3A%20%22row%22%7D%2C%20%22key%22%3A%20%7B%22nodeType%22%3A%20%22const%22%2C%20%22type%22%3A%20%7B%22type%22%3A%20%22const%22%2C%20%22valType%22%3A%20%22string%22%2C%20%22val%22%3A%20%22shear%22%7D%2C%20%22val%22%3A%20%22shear%22%7D%7D%7D%7D%2C%20%22Y6B2PJSM0HAQT4%22%3A%20%7B%22nodeType%22%3A%20%22output%22%2C%20%22type%22%3A%20%7B%22type%22%3A%20%22list%22%2C%20%22objectType%22%3A%20%7B%22type%22%3A%20%22groupresult%22%2C%20%22objectType%22%3A%20%7B%22type%22%3A%20%22typedDict%22%2C%20%22propertyTypes%22%3A%20%7B%22rotate%22%3A%20%22int%22%2C%20%22shear%22%3A%20%22int%22%2C%20%22y%22%3A%20%22string%22%2C%20%22x%22%3A%20%22string%22%2C%20%22image%22%3A%20%7B%22type%22%3A%20%22pil-image%22%2C%20%22width%22%3A%2032%2C%20%22height%22%3A%2032%2C%20%22mode%22%3A%20%22L%22%7D%2C%20%22a%22%3A%20%22string%22%7D%7D%2C%20%22key%22%3A%20%22any%22%7D%7D%2C%20%22fromOp%22%3A%20%7B%22name%22%3A%20%22groupby%22%2C%20%22inputs%22%3A%20%7B%22arr%22%3A%20%7B%22nodeType%22%3A%20%22var%22%2C%20%22type%22%3A%20%7B%22type%22%3A%20%22groupresult%22%2C%20%22objectType%22%3A%20%7B%22type%22%3A%20%22typedDict%22%2C%20%22propertyTypes%22%3A%20%7B%22rotate%22%3A%20%22int%22%2C%20%22shear%22%3A%20%22int%22%2C%20%22y%22%3A%20%22string%22%2C%20%22x%22%3A%20%22string%22%2C%20%22image%22%3A%20%7B%22type%22%3A%20%22pil-image%22%2C%20%22width%22%3A%2032%2C%20%22height%22%3A%2032%2C%20%22mode%22%3A%20%22L%22%7D%2C%20%22a%22%3A%20%22string%22%7D%7D%2C%20%22key%22%3A%20%22any%22%7D%2C%20%22varName%22%3A%20%22row%22%7D%2C%20%22groupByFn%22%3A%20%7B%22nodeType%22%3A%20%22const%22%2C%20%22type%22%3A%20%7B%22type%22%3A%20%22function%22%2C%20%22inputTypes%22%3A%20%7B%22row%22%3A%20%7B%22type%22%3A%20%22typedDict%22%2C%20%22propertyTypes%22%3A%20%7B%22rotate%22%3A%20%22int%22%2C%20%22shear%22%3A%20%22int%22%2C%20%22y%22%3A%20%22string%22%2C%20%22x%22%3A%20%22string%22%2C%20%22image%22%3A%20%7B%22type%22%3A%20%22pil-image%22%2C%20%22width%22%3A%2032%2C%20%22height%22%3A%2032%2C%20%22mode%22%3A%20%22L%22%7D%2C%20%22a%22%3A%20%22string%22%7D%7D%7D%2C%20%22outputType%22%3A%20%22string%22%7D%2C%20%22val%22%3A%20%7B%22nodeType%22%3A%20%22output%22%2C%20%22type%22%3A%20%22string%22%2C%20%22fromOp%22%3A%20%7B%22name%22%3A%20%22pick%22%2C%20%22inputs%22%3A%20%7B%22obj%22%3A%20%7B%22nodeType%22%3A%20%22var%22%2C%20%22type%22%3A%20%7B%22type%22%3A%20%22typedDict%22%2C%20%22propertyTypes%22%3A%20%7B%22rotate%22%3A%20%22int%22%2C%20%22shear%22%3A%20%22int%22%2C%20%22y%22%3A%20%22string%22%2C%20%22x%22%3A%20%22string%22%2C%20%22image%22%3A%20%7B%22type%22%3A%20%22pil-image%22%2C%20%22width%22%3A%2032%2C%20%22height%22%3A%2032%2C%20%22mode%22%3A%20%22L%22%7D%2C%20%22a%22%3A%20%22string%22%7D%7D%2C%20%22varName%22%3A%20%22row%22%7D%2C%20%22key%22%3A%20%7B%22nodeType%22%3A%20%22const%22%2C%20%22type%22%3A%20%7B%22type%22%3A%20%22const%22%2C%20%22valType%22%3A%20%22string%22%2C%20%22val%22%3A%20%22y%22%7D%2C%20%22val%22%3A%20%22y%22%7D%7D%7D%7D%7D%7D%7D%7D%2C%20%22MXENO7MOWQVC2M%22%3A%20%7B%22nodeType%22%3A%20%22void%22%2C%20%22type%22%3A%20%22invalid%22%7D%7D%2C%20%22order%22%3A%20%5B%22E3BKDW058SUQXR%22%2C%20%22JQFVN8X7E9QSM5%22%2C%20%22Y6B2PJSM0HAQT4%22%2C%20%22MXENO7MOWQVC2M%22%5D%2C%20%22groupBy%22%3A%20%5B%22E3BKDW058SUQXR%22%2C%20%22JQFVN8X7E9QSM5%22%5D%2C%20%22sort%22%3A%20%5B%5D%2C%20%22pageSize%22%3A%2010%2C%20%22page%22%3A%200%7D%2C%20%22dims%22%3A%20%7B%22x%22%3A%20%22E3BKDW058SUQXR%22%2C%20%22y%22%3A%20%22JQFVN8X7E9QSM5%22%2C%20%22select%22%3A%20%22Y6B2PJSM0HAQT4%22%2C%20%22detail%22%3A%20%22MXENO7MOWQVC2M%22%7D%2C%20%22cellSize%22%3A%20%7B%22w%22%3A%2050%2C%20%22h%22%3A%2050%7D%2C%20%22padding%22%3A%200%7D\"\n",
       "            frameborder=\"0\"\n",
       "            allowfullscreen\n",
       "            \n",
       "        ></iframe>\n",
       "        "
      ],
      "text/plain": [
       "<IPython.lib.display.IFrame at 0x19dbefa60>"
      ]
     },
     "metadata": {},
     "output_type": "display_data"
    }
   ],
   "source": [
    "# This is one way to build a multi-confusion matrix.\n",
    "\n",
    "facet = weave.panels.Facet(\n",
    "    input_node=ims,\n",
    "    x=lambda im: im['rotate'],\n",
    "    y=lambda im: im['shear'],\n",
    "    select=lambda cell: weave.panels.Plot(\n",
    "        input_node=cell.groupby(lambda row: row['y']),\n",
    "        x=lambda group: group.count(),\n",
    "        y=lambda group: group.key(),\n",
    "        label=lambda group: group.key(),\n",
    "        tooltip=lambda group: group.map(lambda r: r['image']),\n",
    "        mark='bar',\n",
    "        no_axes=True,\n",
    "        no_legend=True\n",
    "    )\n",
    ")\n",
    "\n",
    "weave.show(facet)"
   ]
  },
  {
   "cell_type": "code",
   "execution_count": null,
   "id": "e987f626",
   "metadata": {},
   "outputs": [],
   "source": [
    "# @weave.op()\n",
    "# def confusion_matrix(inp: typing.Any, guess_col: str, truth_col: str, compare_col: str) -> weave.panels.Facet:\n",
    "#     return weave.panels.Facet(\n",
    "#         input_node=inp,\n",
    "#         x=lambda i: i[guess_col],\n",
    "#         y=lambda i: i[truth_col],\n",
    "#         select=lambda cell: weave.panels.Plot(\n",
    "#             input_node=cell.groupby(\n",
    "#                 weave.define_fn({'row': cell.type.object_type}, lambda row: row[compare_col])),\n",
    "#             x=lambda group: group.count(),\n",
    "#             y=lambda group: group.key(),\n",
    "#             label=lambda group: group.key(),\n",
    "#             mark='bar',\n",
    "#             no_axes=True,\n",
    "#             no_legend=True\n",
    "#         )\n",
    "#     )\n",
    "\n",
    "# An example of a Panel returning op. This (sort of) works but there are lots of \n",
    "\n",
    "@weave.op()\n",
    "def confusion_matrix(inp: typing.Any, guess_col: str, truth_col: str, compare_col: str) -> weave.panels.Facet:\n",
    "    return weave.panels.Facet(\n",
    "        input_node=inp,\n",
    "        x=lambda i: i[guess_col],\n",
    "        y=lambda i: i[truth_col],\n",
    "        select=lambda cell: cell.count()\n",
    "    )"
   ]
  },
  {
   "cell_type": "code",
   "execution_count": null,
   "id": "9c800bac",
   "metadata": {},
   "outputs": [],
   "source": [
    "demos.confusion_matrix(ims, 'rotate', 'x', 'y')"
   ]
  },
  {
   "cell_type": "code",
   "execution_count": null,
   "id": "7eff6907",
   "metadata": {},
   "outputs": [],
   "source": [
    "# Other explorations\n",
    "\n",
    "\n",
    "# weave.show(facet)\n",
    "\n",
    "# # Not working yet, but playing with removing lambdas\n",
    "# facet = weave.panels.Facet(\n",
    "#     input_node=ims,\n",
    "#     x=ims['rotate'],\n",
    "#     y=ims['shear'],\n",
    "#     select=lambda cell: weave.panels.Plot(\n",
    "#         input_node=cell.groupby(cell.row['y']),\n",
    "#         x=lambda group: group.count(),\n",
    "#         y=lambda group: group.key(),\n",
    "#         label=lambda group: group.key(),\n",
    "#         mark='bar',\n",
    "#         no_axes=True,\n",
    "#         no_legend=True\n",
    "#     )\n",
    "# )\n",
    "\n",
    "# # Maybe another cool thing\n",
    "# facet = weave.panels.Facet(\n",
    "#     input_node=ims,\n",
    "#     x=lambda im: im['rotate'],\n",
    "#     y=lambda im: im['shear'],\n",
    "#     select=lambda cell_ims: cell_ims.groupby(cell.row['y'])\n",
    "#         .Plot(\n",
    "#             x=lambda group: group.count(),\n",
    "#             y=lambda group: group.key(),\n",
    "#             label=lambda group: group.key(),\n",
    "#             mark='bar',\n",
    "#             no_axes=True,\n",
    "#             no_legend=True\n",
    "#     )\n",
    "# )\n",
    "\n",
    "# # OK actually its more like we just always want to drop the first argument\n",
    "# # This is finally minimal, but we can't get autocomplete help.\n",
    "# facet = ims.Facet(\n",
    "#     x=select('rotate'),\n",
    "#     y=select('shear'),\n",
    "#     select=groupby('y')\n",
    "#         .Plot(\n",
    "#             x=count(),\n",
    "#             y=group_key(),\n",
    "#             label=group_key(),\n",
    "#             mark=select('bar'),\n",
    "#             no_axes=True,\n",
    "#             no_legend=True\n",
    "#     )\n",
    "# )\n",
    "\n",
    "# # Hmm.\n",
    "# facet = ims\n",
    "#     .groupby(\n",
    "#         facet_x=select('rotate'),\n",
    "#         facet_y=select('shear'),\n",
    "#         y=select('run'))\n",
    "#     .count()\n",
    "#     .Plot()\n",
    "\n",
    "# facet = Plot(\n",
    "#     ims,\n",
    "#     facet_x=select('rotate'),\n",
    "#     facet_y=select('shear'),\n",
    "#     y=select('run')\n",
    "#     x=count()\n",
    ")\n",
    "\n",
    "# TODO:\n",
    "#   - get rid of lambdas (ims.row could be a variable?)\n",
    "#     ... or we could just treat ims as the row variable when its assigned to a plot?\n",
    "#   - This is why react is a little nicer, component control flow isn't usually hidden\n",
    "#     away inside other components (framework style). Instead, you decide how you want to lay stuff\n",
    "#     out...\n",
    "#   - But we can achieve that here... We just need to make some lower level components.\n",
    "#     (Try IT!) Instead of PanelFacet, use PanelLayout or PanelGrid or something\n",
    "#   - see if we can get rid of groupby requirement in PanelPlot. You don't need it in Vega\n",
    "#       - also maybe look at Altair API?\n",
    "#\n",
    "# In react you'd do:\n",
    "# const ConfusionMatrix = (ims) => (\n",
    "#   <Facet ...>\n",
    "#     <Facet.Cell ...>\n",
    "#   </Facet>\n",
    "# )"
   ]
  }
 ],
 "metadata": {
  "kernelspec": {
   "display_name": "Python 3 (ipykernel)",
   "language": "python",
   "name": "python3"
  },
  "language_info": {
   "codemirror_mode": {
    "name": "ipython",
    "version": 3
   },
   "file_extension": ".py",
   "mimetype": "text/x-python",
   "name": "python",
   "nbconvert_exporter": "python",
   "pygments_lexer": "ipython3",
   "version": "3.9.7"
  }
 },
 "nbformat": 4,
 "nbformat_minor": 5
}
