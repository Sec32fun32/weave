{
 "cells": [
  {
   "cell_type": "code",
   "execution_count": 2,
   "id": "3200fe1a",
   "metadata": {},
   "outputs": [],
   "source": [
    "import langchain\n",
    "from langchain.chat_models import ChatOpenAI\n",
    "from langchain.agents import load_tools, initialize_agent, AgentType"
   ]
  },
  {
   "cell_type": "code",
   "execution_count": 3,
   "id": "ea7cf0e3",
   "metadata": {},
   "outputs": [],
   "source": [
    "llm = ChatOpenAI(temperature=0)\n",
    "tools = load_tools([\"llm-math\"], llm=llm)\n",
    "math_agent = initialize_agent(tools,\n",
    "                              llm,\n",
    "                              agent=AgentType.ZERO_SHOT_REACT_DESCRIPTION)"
   ]
  },
  {
   "cell_type": "code",
   "execution_count": 4,
   "id": "046523f5",
   "metadata": {},
   "outputs": [
    {
     "data": {
      "text/plain": [
       "'The square root of 5.4 is approximately 2.32379000772445.'"
      ]
     },
     "execution_count": 4,
     "metadata": {},
     "output_type": "execute_result"
    }
   ],
   "source": [
    "# some sample maths questions\n",
    "# questions = [\n",
    "#   \"Find the square root of 5.4.\",\n",
    "#   \"What is 3 divided by 7.34 raised to the power of pi?\",\n",
    "#   \"What is the sin of 0.47 radians, divided by the cube root of 27?\"\n",
    "# ]\n",
    "\n",
    "answer = math_agent.run(\"Find the square root of 5.4.\")\n",
    "answer"
   ]
  },
  {
   "cell_type": "code",
   "execution_count": 66,
   "id": "7e1c9b45",
   "metadata": {},
   "outputs": [],
   "source": [
    "def run_to_span(run, trace_id):\n",
    "    return {\n",
    "        'trace_id': trace_id,\n",
    "        'span_id': str(run.id),\n",
    "        'parent_id': str(run.parent_run_id) if run.parent_run_id else '',\n",
    "        'name': str(run.name),\n",
    "        \"start_time_ms\": int(run.start_time.timestamp() * 1000),\n",
    "        \"end_time_ms\": int(run.end_time.timestamp() * 1000) if run.end_time else None,\n",
    "        'error': str(run.error) if run.error else None,\n",
    "        'inputs': run.inputs,\n",
    "        'outputs': run.outputs,\n",
    "        \"attributes\": None\n",
    "    }\n",
    "\n",
    "def run_to_spans(run, trace_id=None):\n",
    "    spans = []\n",
    "    if trace_id is None:\n",
    "        trace_id = str(run.id)\n",
    "    if run.child_runs:\n",
    "        for child in run.child_runs:\n",
    "            child_spans = run_to_spans(child, trace_id)\n",
    "            spans += child_spans\n",
    "    \n",
    "    return spans + [run_to_span(run, trace_id)]\n",
    "\n",
    "def run_to_trace(run):\n",
    "    spans = run_to_spans(run)\n",
    "    return {\n",
    "        **spans[-1],\n",
    "        \"trace_spans\": spans\n",
    "    }\n",
    "\n",
    "class CustomTracer(langchain.callbacks.tracers.base.BaseTracer):\n",
    "    def __init__(self, stream) -> None:\n",
    "        super().__init__()\n",
    "        self._stream = stream\n",
    "        \n",
    "    def _persist_run(self, run) -> None:\n",
    "        res=  run_to_trace(run)\n",
    "        self._stream.log(res)"
   ]
  },
  {
   "cell_type": "code",
   "execution_count": 69,
   "id": "659643e2",
   "metadata": {},
   "outputs": [
    {
     "data": {
      "text/html": [
       " View data at <a href='https://weave.wandb.ai/?exp=get%28%0A++++%22wandb-artifact%3A%2F%2F%2Ftimssweeney%2Fexperiments%2Flc_test_1689820762%3Alatest%2Fobj%22%29%0A++.rows' target=\"_blank\">https://weave.wandb.ai/?exp=get%28%0A++++%22wandb-artifact%3A%2F%2F%2Ftimssweeney%2Fexperiments%2Flc_test_1689820762%3Alatest%2Fobj%22%29%0A++.rows</a>"
      ],
      "text/plain": [
       "<IPython.core.display.HTML object>"
      ]
     },
     "metadata": {},
     "output_type": "display_data"
    },
    {
     "data": {
      "text/html": [
       "\n",
       "        <iframe\n",
       "            width=\"100%\"\n",
       "            height=\"400px\"\n",
       "            src=\"http://localhost:3000/__frontend/weave_jupyter?fullScreen&expNode=%7B%22nodeType%22%3A%20%22output%22%2C%20%22type%22%3A%20%22any%22%2C%20%22fromOp%22%3A%20%7B%22name%22%3A%20%22get%22%2C%20%22inputs%22%3A%20%7B%22uri%22%3A%20%7B%22nodeType%22%3A%20%22const%22%2C%20%22type%22%3A%20%22string%22%2C%20%22val%22%3A%20%22local-artifact%3A///dashboard-tagged%3Alatest/obj%22%7D%7D%7D%7D\"\n",
       "            frameborder=\"0\"\n",
       "            allowfullscreen\n",
       "            allow=\"clipboard-write\"\n",
       "        ></iframe>\n",
       "        "
      ],
      "text/plain": [
       "<IPython.lib.display.IFrame at 0x29f75f820>"
      ]
     },
     "metadata": {},
     "output_type": "display_data"
    }
   ],
   "source": [
    "from weave.monitoring import StreamTable\n",
    "import datetime\n",
    "stream = StreamTable(\"timssweeney/experiments/lc_test_\" + str(int(datetime.datetime.now().timestamp())))\n",
    "tracer = CustomTracer(stream)\n",
    "for i in range(10):\n",
    "    answer = math_agent.run(\"Find the square root of 5.4.\", callbacks=[tracer])\n",
    "stream"
   ]
  },
  {
   "cell_type": "code",
   "execution_count": null,
   "id": "e312f718",
   "metadata": {},
   "outputs": [],
   "source": [
    "panel0.active_data[\"trace_spans\"]"
   ]
  }
 ],
 "metadata": {
  "kernelspec": {
   "display_name": "Python 3 (ipykernel)",
   "language": "python",
   "name": "python3"
  },
  "language_info": {
   "codemirror_mode": {
    "name": "ipython",
    "version": 3
   },
   "file_extension": ".py",
   "mimetype": "text/x-python",
   "name": "python",
   "nbconvert_exporter": "python",
   "pygments_lexer": "ipython3",
   "version": "3.10.8"
  }
 },
 "nbformat": 4,
 "nbformat_minor": 5
}
