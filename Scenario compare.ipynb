{
 "cells": [
  {
   "cell_type": "code",
   "execution_count": null,
   "id": "67551526",
   "metadata": {},
   "outputs": [],
   "source": [
    "import random\n",
    "import weave\n",
    "weave.use_frontend_devmode()\n",
    "from rich import print\n",
    "from weave.ecosystem import scenario\n",
    "weave.panels.Each.WeaveType().to_dict()\n",
    "\n",
    "scenario.metrics_bank.to_dict()"
   ]
  },
  {
   "cell_type": "code",
   "execution_count": null,
   "id": "4882d74b",
   "metadata": {},
   "outputs": [],
   "source": [
    "def make_run(n_scenarios) -> list[scenario.ScenarioResult]:\n",
    "    return [\n",
    "        scenario.ScenarioResult(\n",
    "            scenario_id=str(i),\n",
    "            metric1=random.random(),\n",
    "            metric2=random.random(),\n",
    "            metric3=random.random())\n",
    "        for i in range(n_scenarios)\n",
    "    ]"
   ]
  },
  {
   "cell_type": "code",
   "execution_count": null,
   "id": "218e28e2",
   "metadata": {},
   "outputs": [],
   "source": [
    "panel_input = weave.save({'baseline': make_run(10), 'candidate': make_run(10)}, name='panel_input')"
   ]
  },
  {
   "cell_type": "code",
   "execution_count": null,
   "id": "984bcb3c",
   "metadata": {},
   "outputs": [],
   "source": [
    "panel_input"
   ]
  }
 ],
 "metadata": {
  "kernelspec": {
   "display_name": "Python 3 (ipykernel)",
   "language": "python",
   "name": "python3"
  },
  "language_info": {
   "codemirror_mode": {
    "name": "ipython",
    "version": 3
   },
   "file_extension": ".py",
   "mimetype": "text/x-python",
   "name": "python",
   "nbconvert_exporter": "python",
   "pygments_lexer": "ipython3",
   "version": "3.9.7"
  }
 },
 "nbformat": 4,
 "nbformat_minor": 5
}
