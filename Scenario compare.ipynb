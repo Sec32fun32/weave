{
 "cells": [
  {
   "cell_type": "code",
   "execution_count": 1,
   "id": "67551526",
   "metadata": {},
   "outputs": [],
   "source": [
    "import random\n",
    "import weave\n",
    "weave.use_frontend_devmode()\n",
    "from rich import print\n",
    "from weave.ecosystem import scenario\n",
    "\n",
    "#weave.panels.Each.WeaveType().to_dict()\n",
    "#scenario.metrics_bank.to_dict()"
   ]
  },
  {
   "cell_type": "code",
   "execution_count": 2,
   "id": "6e12d2d0",
   "metadata": {},
   "outputs": [
    {
     "data": {
      "text/plain": [
       "Function(input_types={}, output_type=<number>)"
      ]
     },
     "execution_count": 2,
     "metadata": {},
     "output_type": "execute_result"
    }
   ],
   "source": [
    "a = weave.save(5)\n",
    "b = a + 2\n",
    "weave.type_of(b)"
   ]
  },
  {
   "cell_type": "code",
   "execution_count": 3,
   "id": "4882d74b",
   "metadata": {},
   "outputs": [],
   "source": [
    "def make_run(n_scenarios) -> list[scenario.ScenarioResult]:\n",
    "    return [\n",
    "        scenario.ScenarioResult(\n",
    "            scenario_id=str(i),\n",
    "            metric1=random.random(),\n",
    "            metric2=random.random(),\n",
    "            metric3=random.random())\n",
    "        for i in range(n_scenarios)\n",
    "    ]"
   ]
  },
  {
   "cell_type": "code",
   "execution_count": 4,
   "id": "218e28e2",
   "metadata": {},
   "outputs": [],
   "source": [
    "panel_input = weave.save({'baseline': make_run(10), 'candidate': make_run(10)}, name='panel_input')"
   ]
  },
  {
   "cell_type": "code",
   "execution_count": 5,
   "id": "984bcb3c",
   "metadata": {},
   "outputs": [
    {
     "data": {
      "text/html": [
       "\n",
       "        <iframe\n",
       "            width=\"100%\"\n",
       "            height=\"400px\"\n",
       "            src=\"http://localhost:3000/__frontend/weave_jupyter?fullScreen&expNode=%7B%22nodeType%22%3A%20%22output%22%2C%20%22type%22%3A%20%7B%22type%22%3A%20%22typedDict%22%2C%20%22propertyTypes%22%3A%20%7B%22baseline%22%3A%20%7B%22type%22%3A%20%22list%22%2C%20%22objectType%22%3A%20%7B%22type%22%3A%20%22typedDict%22%2C%20%22propertyTypes%22%3A%20%7B%22scenario_id%22%3A%20%22string%22%2C%20%22metric1%22%3A%20%22float%22%2C%20%22metric2%22%3A%20%22float%22%2C%20%22metric3%22%3A%20%22float%22%7D%7D%7D%2C%20%22candidate%22%3A%20%7B%22type%22%3A%20%22list%22%2C%20%22objectType%22%3A%20%7B%22type%22%3A%20%22typedDict%22%2C%20%22propertyTypes%22%3A%20%7B%22scenario_id%22%3A%20%22string%22%2C%20%22metric1%22%3A%20%22float%22%2C%20%22metric2%22%3A%20%22float%22%2C%20%22metric3%22%3A%20%22float%22%7D%7D%7D%7D%7D%2C%20%22fromOp%22%3A%20%7B%22name%22%3A%20%22get%22%2C%20%22inputs%22%3A%20%7B%22uri%22%3A%20%7B%22nodeType%22%3A%20%22const%22%2C%20%22type%22%3A%20%22string%22%2C%20%22val%22%3A%20%22local-artifact%3A///tmp/local-artifacts/panel_input/b8659fdf032dc398803e340d6eea6505%22%7D%7D%7D%7D\"\n",
       "            frameborder=\"0\"\n",
       "            allowfullscreen\n",
       "            \n",
       "        ></iframe>\n",
       "        "
      ],
      "text/plain": [
       "<IPython.lib.display.IFrame at 0x14e204460>"
      ]
     },
     "metadata": {},
     "output_type": "display_data"
    }
   ],
   "source": [
    "panel_input"
   ]
  },
  {
   "cell_type": "code",
   "execution_count": 8,
   "id": "40a63ea5",
   "metadata": {},
   "outputs": [
    {
     "name": "stdout",
     "output_type": "stream",
     "text": [
      "INJECTED ObjectPicker(id='ObjectPicker', input_node=<OutputNode(4412495376): List(object_type=TypedDict(property_types={'scenario_id': <string>, 'metric2': <float>, 'metric1': <float>, 'metric3': <float>})) objects(TypedDict(property_types={'scenario_id': <string>, 'metric2': <float>, 'metric1': <float>, 'metric3': <float>}), \"latest\")>, vars={}, config=PanelObjectPickerConfig(choice=<VoidNode(5606182432): <invalid> <void>>))\n",
      "CHILD ObjectPicker(id='ObjectPicker', input_node=<OutputNode(4412495376): List(object_type=TypedDict(property_types={'scenario_id': <string>, 'metric2': <float>, 'metric1': <float>, 'metric3': <float>})) objects(TypedDict(property_types={'scenario_id': <string>, 'metric2': <float>, 'metric1': <float>, 'metric3': <float>}), \"latest\")>, vars={}, config=PanelObjectPickerConfig(choice=<VoidNode(5606182432): <invalid> <void>>))\n",
      "INJECTED ObjectPicker(id='ObjectPicker', input_node=<OutputNode(4412495376): List(object_type=TypedDict(property_types={'scenario_id': <string>, 'metric2': <float>, 'metric1': <float>, 'metric3': <float>})) objects(TypedDict(property_types={'scenario_id': <string>, 'metric2': <float>, 'metric1': <float>, 'metric3': <float>}), \"latest\")>, vars={}, config=PanelObjectPickerConfig(choice=<VoidNode(5606182672): <invalid> <void>>))\n",
      "CHILD ObjectPicker(id='ObjectPicker', input_node=<OutputNode(4412495376): List(object_type=TypedDict(property_types={'scenario_id': <string>, 'metric2': <float>, 'metric1': <float>, 'metric3': <float>})) objects(TypedDict(property_types={'scenario_id': <string>, 'metric2': <float>, 'metric1': <float>, 'metric3': <float>}), \"latest\")>, vars={}, config=PanelObjectPickerConfig(choice=<VoidNode(5606182672): <invalid> <void>>))\n",
      "INJECTED {baseline: baseline.choice, candidate: candidate.choice}.metrics_bank()\n",
      "CHILD {baseline: baseline.choice, candidate: candidate.choice}.metrics_bank()\n"
     ]
    },
    {
     "data": {
      "text/html": [
       "\n",
       "        <iframe\n",
       "            width=\"100%\"\n",
       "            height=\"400px\"\n",
       "            src=\"http://localhost:3000/__frontend/weave_jupyter?fullScreen&expNode=%7B%22nodeType%22%3A%20%22void%22%2C%20%22type%22%3A%20%22invalid%22%7D&panelId=group2&panelConfig=%7B%22items%22%3A%20%7B%22baseline%22%3A%20%7B%22vars%22%3A%20%7B%7D%2C%20%22id%22%3A%20%22ObjectPicker%22%2C%20%22input_node%22%3A%20%7B%22nodeType%22%3A%20%22output%22%2C%20%22type%22%3A%20%7B%22type%22%3A%20%22list%22%2C%20%22objectType%22%3A%20%7B%22type%22%3A%20%22typedDict%22%2C%20%22propertyTypes%22%3A%20%7B%22scenario_id%22%3A%20%22string%22%2C%20%22metric2%22%3A%20%22float%22%2C%20%22metric1%22%3A%20%22float%22%2C%20%22metric3%22%3A%20%22float%22%7D%7D%7D%2C%20%22fromOp%22%3A%20%7B%22name%22%3A%20%22op-objects%22%2C%20%22inputs%22%3A%20%7B%22of_type%22%3A%20%7B%22nodeType%22%3A%20%22output%22%2C%20%22type%22%3A%20%22type%22%2C%20%22fromOp%22%3A%20%7B%22name%22%3A%20%22get%22%2C%20%22inputs%22%3A%20%7B%22uri%22%3A%20%7B%22nodeType%22%3A%20%22const%22%2C%20%22type%22%3A%20%22string%22%2C%20%22val%22%3A%20%22local-artifact%3A///tmp/local-artifacts/type/60fa45ff07bc8769c7750946a5545501%22%7D%7D%7D%7D%2C%20%22alias%22%3A%20%7B%22nodeType%22%3A%20%22const%22%2C%20%22type%22%3A%20%22string%22%2C%20%22val%22%3A%20%22latest%22%7D%7D%7D%7D%2C%20%22config%22%3A%20%7B%22choice%22%3A%20%7B%22nodeType%22%3A%20%22void%22%2C%20%22type%22%3A%20%22invalid%22%7D%7D%7D%2C%20%22candidate%22%3A%20%7B%22vars%22%3A%20%7B%7D%2C%20%22id%22%3A%20%22ObjectPicker%22%2C%20%22input_node%22%3A%20%7B%22nodeType%22%3A%20%22output%22%2C%20%22type%22%3A%20%7B%22type%22%3A%20%22list%22%2C%20%22objectType%22%3A%20%7B%22type%22%3A%20%22typedDict%22%2C%20%22propertyTypes%22%3A%20%7B%22scenario_id%22%3A%20%22string%22%2C%20%22metric2%22%3A%20%22float%22%2C%20%22metric1%22%3A%20%22float%22%2C%20%22metric3%22%3A%20%22float%22%7D%7D%7D%2C%20%22fromOp%22%3A%20%7B%22name%22%3A%20%22op-objects%22%2C%20%22inputs%22%3A%20%7B%22of_type%22%3A%20%7B%22nodeType%22%3A%20%22output%22%2C%20%22type%22%3A%20%22type%22%2C%20%22fromOp%22%3A%20%7B%22name%22%3A%20%22get%22%2C%20%22inputs%22%3A%20%7B%22uri%22%3A%20%7B%22nodeType%22%3A%20%22const%22%2C%20%22type%22%3A%20%22string%22%2C%20%22val%22%3A%20%22local-artifact%3A///tmp/local-artifacts/type/60fa45ff07bc8769c7750946a5545501%22%7D%7D%7D%7D%2C%20%22alias%22%3A%20%7B%22nodeType%22%3A%20%22const%22%2C%20%22type%22%3A%20%22string%22%2C%20%22val%22%3A%20%22latest%22%7D%7D%7D%7D%2C%20%22config%22%3A%20%7B%22choice%22%3A%20%7B%22nodeType%22%3A%20%22void%22%2C%20%22type%22%3A%20%22invalid%22%7D%7D%7D%2C%20%22panel%22%3A%20%7B%22nodeType%22%3A%20%22output%22%2C%20%22type%22%3A%20%7B%22type%22%3A%20%22Each%22%2C%20%22vars%22%3A%20%22any%22%2C%20%22config%22%3A%20%7B%22type%22%3A%20%22PanelEachConfig%22%2C%20%22render%22%3A%20%22any%22%2C%20%22_property_types%22%3A%20%7B%22render%22%3A%20%22any%22%7D%7D%2C%20%22_property_types%22%3A%20%7B%22vars%22%3A%20%22any%22%2C%20%22config%22%3A%20%7B%22type%22%3A%20%22PanelEachConfig%22%2C%20%22render%22%3A%20%22any%22%2C%20%22_property_types%22%3A%20%7B%22render%22%3A%20%22any%22%7D%7D%2C%20%22id%22%3A%20%22string%22%2C%20%22input_node%22%3A%20%7B%22type%22%3A%20%22function%22%2C%20%22inputTypes%22%3A%20%7B%7D%2C%20%22outputType%22%3A%20%22unknown%22%7D%7D%2C%20%22_base_type%22%3A%20%7B%22type%22%3A%20%22Panel%22%2C%20%22vars%22%3A%20%22any%22%2C%20%22_property_types%22%3A%20%7B%22vars%22%3A%20%22any%22%2C%20%22id%22%3A%20%22string%22%2C%20%22input_node%22%3A%20%7B%22type%22%3A%20%22function%22%2C%20%22inputTypes%22%3A%20%7B%7D%2C%20%22outputType%22%3A%20%22unknown%22%7D%7D%7D%7D%2C%20%22fromOp%22%3A%20%7B%22name%22%3A%20%22op-metrics_bank%22%2C%20%22inputs%22%3A%20%7B%22input_node%22%3A%20%7B%22nodeType%22%3A%20%22output%22%2C%20%22type%22%3A%20%7B%22type%22%3A%20%22typedDict%22%2C%20%22propertyTypes%22%3A%20%7B%22baseline%22%3A%20%22invalid%22%2C%20%22candidate%22%3A%20%22invalid%22%7D%7D%2C%20%22fromOp%22%3A%20%7B%22name%22%3A%20%22dict%22%2C%20%22inputs%22%3A%20%7B%22baseline%22%3A%20%7B%22nodeType%22%3A%20%22output%22%2C%20%22type%22%3A%20%22invalid%22%2C%20%22fromOp%22%3A%20%7B%22name%22%3A%20%22Object-__getattr__%22%2C%20%22inputs%22%3A%20%7B%22self%22%3A%20%7B%22nodeType%22%3A%20%22var%22%2C%20%22type%22%3A%20%7B%22type%22%3A%20%22ObjectPicker%22%2C%20%22vars%22%3A%20%7B%22type%22%3A%20%22typedDict%22%2C%20%22propertyTypes%22%3A%20%7B%7D%7D%2C%20%22_property_types%22%3A%20%7B%22vars%22%3A%20%7B%22type%22%3A%20%22typedDict%22%2C%20%22propertyTypes%22%3A%20%7B%7D%7D%2C%20%22id%22%3A%20%22string%22%2C%20%22input_node%22%3A%20%7B%22type%22%3A%20%22function%22%2C%20%22inputTypes%22%3A%20%7B%7D%2C%20%22outputType%22%3A%20%22unknown%22%7D%2C%20%22config%22%3A%20%7B%22type%22%3A%20%22PanelObjectPickerConfig%22%2C%20%22_property_types%22%3A%20%7B%22choice%22%3A%20%7B%22type%22%3A%20%22function%22%2C%20%22inputTypes%22%3A%20%7B%7D%2C%20%22outputType%22%3A%20%22unknown%22%7D%7D%7D%7D%2C%20%22_base_type%22%3A%20%7B%22type%22%3A%20%22Panel%22%2C%20%22vars%22%3A%20%22any%22%2C%20%22_property_types%22%3A%20%7B%22vars%22%3A%20%22any%22%2C%20%22id%22%3A%20%22string%22%2C%20%22input_node%22%3A%20%7B%22type%22%3A%20%22function%22%2C%20%22inputTypes%22%3A%20%7B%7D%2C%20%22outputType%22%3A%20%22unknown%22%7D%7D%7D%7D%2C%20%22varName%22%3A%20%22baseline%22%7D%2C%20%22name%22%3A%20%7B%22nodeType%22%3A%20%22const%22%2C%20%22type%22%3A%20%22string%22%2C%20%22val%22%3A%20%22choice%22%7D%7D%7D%7D%2C%20%22candidate%22%3A%20%7B%22nodeType%22%3A%20%22output%22%2C%20%22type%22%3A%20%22invalid%22%2C%20%22fromOp%22%3A%20%7B%22name%22%3A%20%22Object-__getattr__%22%2C%20%22inputs%22%3A%20%7B%22self%22%3A%20%7B%22nodeType%22%3A%20%22var%22%2C%20%22type%22%3A%20%7B%22type%22%3A%20%22ObjectPicker%22%2C%20%22vars%22%3A%20%7B%22type%22%3A%20%22typedDict%22%2C%20%22propertyTypes%22%3A%20%7B%7D%7D%2C%20%22_property_types%22%3A%20%7B%22vars%22%3A%20%7B%22type%22%3A%20%22typedDict%22%2C%20%22propertyTypes%22%3A%20%7B%7D%7D%2C%20%22id%22%3A%20%22string%22%2C%20%22input_node%22%3A%20%7B%22type%22%3A%20%22function%22%2C%20%22inputTypes%22%3A%20%7B%7D%2C%20%22outputType%22%3A%20%22unknown%22%7D%2C%20%22config%22%3A%20%7B%22type%22%3A%20%22PanelObjectPickerConfig%22%2C%20%22_property_types%22%3A%20%7B%22choice%22%3A%20%7B%22type%22%3A%20%22function%22%2C%20%22inputTypes%22%3A%20%7B%7D%2C%20%22outputType%22%3A%20%22unknown%22%7D%7D%7D%7D%2C%20%22_base_type%22%3A%20%7B%22type%22%3A%20%22Panel%22%2C%20%22vars%22%3A%20%22any%22%2C%20%22_property_types%22%3A%20%7B%22vars%22%3A%20%22any%22%2C%20%22id%22%3A%20%22string%22%2C%20%22input_node%22%3A%20%7B%22type%22%3A%20%22function%22%2C%20%22inputTypes%22%3A%20%7B%7D%2C%20%22outputType%22%3A%20%22unknown%22%7D%7D%7D%7D%2C%20%22varName%22%3A%20%22candidate%22%7D%2C%20%22name%22%3A%20%7B%22nodeType%22%3A%20%22const%22%2C%20%22type%22%3A%20%22string%22%2C%20%22val%22%3A%20%22choice%22%7D%7D%7D%7D%7D%7D%7D%7D%7D%7D%7D%7D\"\n",
       "            frameborder=\"0\"\n",
       "            allowfullscreen\n",
       "            \n",
       "        ></iframe>\n",
       "        "
      ],
      "text/plain": [
       "<IPython.lib.display.IFrame at 0x14e200f40>"
      ]
     },
     "metadata": {},
     "output_type": "display_data"
    }
   ],
   "source": [
    "import weave\n",
    "weave.use_frontend_devmode()\n",
    "from weave.ecosystem import scenario\n",
    "\n",
    "# TODO\n",
    "from weave import infer_types\n",
    "scenario_weave_type = infer_types.python_type_to_type(scenario.ScenarioResult)\n",
    "\n",
    "scenarios = weave.ops.objects(scenario_weave_type, 'latest')\n",
    "panel = weave.panels.Group2(\n",
    "    items={\n",
    "        \"baseline\": weave.panels.ObjectPicker(scenarios),\n",
    "        \"candidate\": weave.panels.ObjectPicker(scenarios),\n",
    "        \"panel\": lambda baseline, candidate: scenario.metrics_bank(\n",
    "            weave.ops.dict_(\n",
    "                baseline=baseline.choice,\n",
    "                candidate=candidate.choice))\n",
    "    })\n",
    "panel"
   ]
  },
  {
   "cell_type": "code",
   "execution_count": 7,
   "id": "3471acf2",
   "metadata": {},
   "outputs": [
    {
     "data": {
      "text/html": [
       "\n",
       "        <iframe\n",
       "            width=\"100%\"\n",
       "            height=\"400px\"\n",
       "            src=\"http://localhost:3000/__frontend/weave_jupyter?fullScreen&expNode=%7B%22nodeType%22%3A%20%22void%22%2C%20%22type%22%3A%20%22invalid%22%7D&panelId=ObjectPicker&panelConfig=%7B%22choice%22%3A%20%7B%22nodeType%22%3A%20%22void%22%2C%20%22type%22%3A%20%22invalid%22%7D%7D\"\n",
       "            frameborder=\"0\"\n",
       "            allowfullscreen\n",
       "            \n",
       "        ></iframe>\n",
       "        "
      ],
      "text/plain": [
       "<IPython.lib.display.IFrame at 0x107015610>"
      ]
     },
     "metadata": {},
     "output_type": "display_data"
    }
   ],
   "source": [
    "# What if I want to make this as a Python panel? I'd rather just make it in the UI.\n",
    "weave.panels.ObjectPicker()"
   ]
  }
 ],
 "metadata": {
  "kernelspec": {
   "display_name": "Python 3 (ipykernel)",
   "language": "python",
   "name": "python3"
  },
  "language_info": {
   "codemirror_mode": {
    "name": "ipython",
    "version": 3
   },
   "file_extension": ".py",
   "mimetype": "text/x-python",
   "name": "python",
   "nbconvert_exporter": "python",
   "pygments_lexer": "ipython3",
   "version": "3.9.7"
  }
 },
 "nbformat": 4,
 "nbformat_minor": 5
}
