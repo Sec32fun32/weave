{
 "cells": [
  {
   "cell_type": "code",
   "execution_count": 1,
   "id": "67551526",
   "metadata": {},
   "outputs": [],
   "source": [
    "import random\n",
    "import weave\n",
    "weave.use_frontend_devmode()\n",
    "from rich import print\n",
    "from weave.ecosystem import scenario\n",
    "\n",
    "#weave.panels.Each.WeaveType().to_dict()\n",
    "#scenario.metrics_bank.to_dict()"
   ]
  },
  {
   "cell_type": "code",
   "execution_count": 2,
   "id": "6e12d2d0",
   "metadata": {},
   "outputs": [],
   "source": [
    "# a = weave.save(5)\n",
    "# b = a + 2\n",
    "# weave.type_of(b)"
   ]
  },
  {
   "cell_type": "code",
   "execution_count": 3,
   "id": "4882d74b",
   "metadata": {},
   "outputs": [],
   "source": [
    "import math\n",
    "def make_run(n_scenarios, n) -> list[scenario.ScenarioResult]:\n",
    "    return [\n",
    "        scenario.ScenarioResult(\n",
    "            scenario_id=str(i),\n",
    "            metric1=random.expovariate(n / 33),\n",
    "            metric2=random.gauss(42, n / 100),\n",
    "            metric3=random.triangular(n, 11),\n",
    "            metric4=random.random() * random.random() * n,\n",
    "            metric5=random.random(),\n",
    "            metric6=random.betavariate(0.01, n / 2),\n",
    "        )\n",
    "        for i in range(n_scenarios)\n",
    "    ]"
   ]
  },
  {
   "cell_type": "code",
   "execution_count": 4,
   "id": "218e28e2",
   "metadata": {},
   "outputs": [],
   "source": [
    "#panel_input = weave.save({'baseline': make_run(10), 'candidate': make_run(10)}, name='panel_input')"
   ]
  },
  {
   "cell_type": "code",
   "execution_count": 5,
   "id": "984bcb3c",
   "metadata": {},
   "outputs": [],
   "source": [
    "#panel_input"
   ]
  },
  {
   "cell_type": "code",
   "execution_count": 6,
   "id": "7e1890ca",
   "metadata": {},
   "outputs": [],
   "source": [
    "# make some runs\n",
    "\n",
    "weave.save(make_run(100, 1), name='run1')\n",
    "weave.save(make_run(100, 2), name='run2')\n",
    "weave.save(make_run(100, 3), name='run3')\n",
    "weave.save(make_run(100, 4), name='run4')\n",
    "weave.save(make_run(100, 5), name='run5')\n",
    "pass"
   ]
  },
  {
   "cell_type": "code",
   "execution_count": 7,
   "id": "9f2b3a72",
   "metadata": {
    "scrolled": false
   },
   "outputs": [],
   "source": [
    "# Ugly. We need to compute the Weave type right now.\n",
    "# TODO: Fix\n",
    "from weave import infer_types\n",
    "run_type = weave.types.List(infer_types.python_type_to_type(scenario.ScenarioResult))\n",
    "\n",
    "import time\n",
    "runs = weave.ops.objects(run_type, 'latest', int(time.time()))"
   ]
  },
  {
   "cell_type": "code",
   "execution_count": 9,
   "id": "89e4b718",
   "metadata": {
    "scrolled": false
   },
   "outputs": [
    {
     "data": {
      "text/html": [
       "\n",
       "        <iframe\n",
       "            width=\"100%\"\n",
       "            height=\"400px\"\n",
       "            src=\"http://localhost:3000/__frontend/weave_jupyter?fullScreen&expNode=%7B%22nodeType%22%3A%20%22output%22%2C%20%22type%22%3A%20%22unknown%22%2C%20%22fromOp%22%3A%20%7B%22name%22%3A%20%22get%22%2C%20%22inputs%22%3A%20%7B%22uri%22%3A%20%7B%22nodeType%22%3A%20%22const%22%2C%20%22type%22%3A%20%22string%22%2C%20%22val%22%3A%20%22local-artifact%3A///tmp/local-artifacts/my-new-panel/f62fddd162a7ff28830a10ad75795082%22%7D%7D%7D%7D\"\n",
       "            frameborder=\"0\"\n",
       "            allowfullscreen\n",
       "            \n",
       "        ></iframe>\n",
       "        "
      ],
      "text/plain": [
       "<IPython.lib.display.IFrame at 0x13b66b2b0>"
      ]
     },
     "metadata": {},
     "output_type": "display_data"
    }
   ],
   "source": [
    "panel = weave.panels.Group2(\n",
    "    preferHorizontal=True,\n",
    "    items={\n",
    "        \"sidebar\": weave.panels.Group2(\n",
    "            style=\"width: 200px; padding: 16px;\",\n",
    "            items={\n",
    "                \"baseline\": weave.panels.ObjectPicker(runs, label='baseline'),\n",
    "                \"candidate\": weave.panels.ObjectPicker(runs, label='candidate')\n",
    "            }\n",
    "        ),\n",
    "        \"main\": lambda sidebar: weave.panels.Group2(\n",
    "            items={\n",
    "                \"tables\": weave.panels.Group2(\n",
    "                    style=\"height: 300px;\",\n",
    "                    preferHorizontal=True,\n",
    "                    equalSize=True,\n",
    "                    items={\n",
    "                        \"baseline_table\": weave.panels.LabeledItem(\n",
    "                            label=\"Baseline Table\",\n",
    "                            item=sidebar.config.items['baseline'].config.choice.get()\n",
    "                        ),\n",
    "                        \"candidate_table\": weave.panels.LabeledItem(\n",
    "                            label=\"Candidate Table\",\n",
    "                            item=sidebar.config.items['candidate'].config.choice.get()\n",
    "                        )\n",
    "                    }),\n",
    "                \"plots\": \n",
    "                    weave.panels.LabeledItem(\n",
    "                        label='Scenario plots',\n",
    "                        item=scenario.metrics_bank(\n",
    "                            weave.ops.dict_(\n",
    "                                baseline=sidebar.config.items['baseline'].config.choice.get(),\n",
    "                                candidate=sidebar.config.items['candidate'].config.choice.get()\n",
    "                            ))\n",
    "                    )\n",
    "\n",
    "            }\n",
    "        )\n",
    "    })\n",
    "ref = weave.save(panel, name='my-new-panel')\n",
    "ref"
   ]
  }
 ],
 "metadata": {
  "kernelspec": {
   "display_name": "Python 3 (ipykernel)",
   "language": "python",
   "name": "python3"
  },
  "language_info": {
   "codemirror_mode": {
    "name": "ipython",
    "version": 3
   },
   "file_extension": ".py",
   "mimetype": "text/x-python",
   "name": "python",
   "nbconvert_exporter": "python",
   "pygments_lexer": "ipython3",
   "version": "3.9.7"
  }
 },
 "nbformat": 4,
 "nbformat_minor": 5
}
