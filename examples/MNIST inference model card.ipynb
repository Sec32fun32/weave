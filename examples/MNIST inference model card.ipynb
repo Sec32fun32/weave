{
 "cells": [
  {
   "cell_type": "markdown",
   "id": "03f0b54c",
   "metadata": {},
   "source": [
    "# MNIST inference in model cards"
   ]
  },
  {
   "cell_type": "code",
   "execution_count": null,
   "id": "c6b2e19b",
   "metadata": {},
   "outputs": [],
   "source": [
    "import typing\n",
    "from datetime import datetime\n",
    "import PIL\n",
    "import os\n",
    "\n",
    "import weave\n",
    "from weave import panels\n",
    "\n",
    "import wandb\n",
    "import wandb.apis.reports as wb\n",
    "wandb.login()"
   ]
  },
  {
   "cell_type": "code",
   "execution_count": null,
   "id": "4d06ede9",
   "metadata": {
    "scrolled": false
   },
   "outputs": [],
   "source": [
    "import pprint\n",
    "\n",
    "import torch\n",
    "import torch.optim as optim\n",
    "import torch.nn.functional as F\n",
    "import torch.nn as nn\n",
    "from torchvision import datasets, transforms\n",
    "\n",
    "DEVICE = torch.device(\"cuda\" if torch.cuda.is_available() else \"cpu\")"
   ]
  },
  {
   "cell_type": "code",
   "execution_count": null,
   "id": "529eefc6",
   "metadata": {},
   "outputs": [],
   "source": [
    "def get_transform():\n",
    "    transform = transforms.Compose(\n",
    "        [transforms.ToTensor(),\n",
    "         transforms.Normalize((0.1307,), (0.3081,))])\n",
    "    return transform\n",
    "\n",
    "\n",
    "def build_dataset(batch_size=100, train=True):\n",
    "    dataset = datasets.MNIST(\".\", train=train, download=False,\n",
    "        transform=get_transform())\n",
    "    if batch_size is None:\n",
    "        batch_size = dataset.data.shape[0]\n",
    "    loader = torch.utils.data.DataLoader(dataset, batch_size=batch_size)\n",
    "    return loader\n",
    "\n",
    "\n",
    "def build_network(fc_layer_size, dropout):\n",
    "    network = nn.Sequential(  # fully-connected, single hidden layer\n",
    "        nn.Flatten(),\n",
    "        nn.Linear(784, fc_layer_size), nn.ReLU(),\n",
    "        nn.Dropout(dropout),\n",
    "        nn.Linear(fc_layer_size, 10),\n",
    "        nn.LogSoftmax(dim=1))\n",
    "    return network.to(DEVICE)\n",
    "        \n",
    "\n",
    "def build_optimizer(network, optimizer, learning_rate):\n",
    "    optimizer = optim.Adam(network.parameters(),\n",
    "        lr=learning_rate)\n",
    "    return optimizer\n",
    "\n",
    "\n",
    "def train_epoch(network, loader, optimizer):\n",
    "    cumu_loss = 0\n",
    "    for _, (data, target) in enumerate(loader):\n",
    "        data, target = data.to(DEVICE), target.to(DEVICE)\n",
    "        optimizer.zero_grad()\n",
    "        loss = F.nll_loss(network(data), target)\n",
    "        cumu_loss += loss.item()\n",
    "        loss.backward()\n",
    "        optimizer.step()\n",
    "        wandb.log({\"batch loss\": loss.item()})\n",
    "    return cumu_loss / len(loader)\n",
    "\n",
    "\n",
    "def train(config=None):\n",
    "    with wandb.init(config=config):\n",
    "        config = wandb.config\n",
    "        loader = build_dataset(config.batch_size)\n",
    "        network = build_network(config.fc_layer_size, config.dropout)\n",
    "        optimizer = build_optimizer(network, config.optimizer, config.learning_rate)\n",
    "        for epoch in range(config.epochs):\n",
    "            avg_loss = train_epoch(network, loader, optimizer)\n",
    "            wandb.log({\"loss\": avg_loss, \"epoch\": epoch})\n",
    "    return network"
   ]
  },
  {
   "cell_type": "code",
   "execution_count": null,
   "id": "ad0531a4",
   "metadata": {
    "scrolled": true
   },
   "outputs": [],
   "source": [
    "# workaround to fetch MNIST data\n",
    "if not os.path.exists('./MNIST'):\n",
    "    !wget www.di.ens.fr/~lelarge/MNIST.tar.gz\n",
    "    !tar -zxvf MNIST.tar.gz"
   ]
  },
  {
   "cell_type": "code",
   "execution_count": null,
   "id": "cfdc7cb4",
   "metadata": {},
   "outputs": [],
   "source": [
    "config = {\n",
    "    'fc_layer_size': 256,\n",
    "    'dropout': 0.5,\n",
    "    'epochs': 50,\n",
    "    'learning_rate': 0.005,\n",
    "    'batch_size': 128,\n",
    "    'optimizer': 'adam'\n",
    "}"
   ]
  },
  {
   "cell_type": "code",
   "execution_count": null,
   "id": "26f9049b",
   "metadata": {
    "scrolled": false
   },
   "outputs": [],
   "source": [
    "network = train(config)"
   ]
  },
  {
   "cell_type": "code",
   "execution_count": null,
   "id": "85171062",
   "metadata": {},
   "outputs": [],
   "source": [
    "test_loader = build_dataset(batch_size=None, train=False)\n",
    "test_images, test_labels = next(iter(test_loader))\n",
    "inferred_labels = network(test_images)\n",
    "\n",
    "_, predicted = torch.max(inferred_labels.data, 1)\n",
    "correct = (predicted == test_labels).sum().item()\n",
    "accuracy = correct / test_labels.size(0)\n",
    "\n",
    "print(f'Network accuracy is {100 * accuracy}%')"
   ]
  },
  {
   "cell_type": "code",
   "execution_count": null,
   "id": "2e6616a4",
   "metadata": {},
   "outputs": [],
   "source": [
    "path = \"./fashion_mnist_results.png\"\n",
    "image = PIL.Image.open(path)\n",
    "\n",
    "def get_model_card_args(entity, project, run_id, artifact_index):\n",
    "    api = wandb.Api()\n",
    "    run = api.run(f'{entity}/{project}/{run_id}')\n",
    "    collection_name = 'fashion_style'\n",
    "    run_name = run.name\n",
    "    artifact = run.logged_artifacts()[0]\n",
    "    updated = artifact.updated_at.strip()\n",
    "    updated_dt = datetime.strptime(updated, '%Y-%m-%dT%H:%M:%S')\n",
    "    path = \"./fashion_mnist_results.png\"\n",
    "    image = PIL.Image.open(path)\n",
    "    card_args = {\n",
    "        'model_name': artifact.name,\n",
    "        'created_by': User(name=run.entity),\n",
    "        'updated_at': f'{updated_dt:%d/%m/%Y at %H:%M:%S}',\n",
    "        'model_type': 'CNN',\n",
    "        'application': 'Classifying clothing images by type',\n",
    "        'primary_metric': TargetMetric(name='acc', direction='up'),\n",
    "        'example': weave.save(image),\n",
    "        'limitations': 'Not useful for realistic examples.'\n",
    "    }\n",
    "    full_args = {\n",
    "        'entity': entity,\n",
    "        'project': project,\n",
    "        'run_id': run_id,\n",
    "        'artifact_index': artifact_index,\n",
    "        'entity_name': run.entity,\n",
    "        'pil_image': image\n",
    "    }\n",
    "    full_args.update(card_args)\n",
    "    return card_args, full_args"
   ]
  },
  {
   "cell_type": "code",
   "execution_count": null,
   "id": "37ad8498",
   "metadata": {},
   "outputs": [],
   "source": [
    "# This Type should be built-in to Weave, declared in weave.types\n",
    "@weave.type()\n",
    "class User:\n",
    "    name: str\n",
    "\n",
    "# This Type will be a built-in to Weave, declared in weave.types\n",
    "@weave.type()\n",
    "class TargetMetric:\n",
    "    name: str\n",
    "    direction: str # typing.Union['up','down']  # (TODO: enum)\n",
    "\n",
    "class MarkdownString(weave.types.Type):\n",
    "    pass\n",
    "\n",
    "@weave.type()\n",
    "class ExampleImage():\n",
    "    instance_class = PIL.PngImagePlugin.PngImageFile\n",
    "    instance_classes = PIL.PngImagePlugin.PngImageFile\n",
    "    pass\n",
    "        \n",
    "@weave.type()\n",
    "class ModelCard:\n",
    "    model_name: str\n",
    "    created_by: User\n",
    "    updated_at: str  # TODO: timestamp\n",
    "    model_type: str  # TODO: enum\n",
    "    primary_metric: TargetMetric\n",
    "    application: str\n",
    "    \n",
    "    # TODO: This is not general enough. It should depend on the type of the model\n",
    "    example: ExampleImage\n",
    "    limitations: str\n",
    "        \n",
    "# This should be an op, so we can call it from the UI, but I need to fix something\n",
    "# to make that work\n",
    "#@weave.op()\n",
    "def model_card_panel(model_card: ModelCard) -> panels.Card:\n",
    "    return panels.Card(\n",
    "        title=model_card.model_name,\n",
    "        subtitle=model_card.created_by.name,\n",
    "        content=[\n",
    "            panels.CardTab(\n",
    "                name='Overview',\n",
    "                content=panels.Group(\n",
    "                    items=[\n",
    "                        panels.Group(\n",
    "                            prefer_horizontal=True,\n",
    "                            items=[\n",
    "                                panels.LabeledItem(item=model_card.updated_at, label='Last updated'),\n",
    "                                panels.LabeledItem(item=model_card.model_type, label='Model type'),\n",
    "                                panels.LabeledItem(item=model_card.primary_metric.name, label='Metric'),\n",
    "                            ]\n",
    "                        ),\n",
    "                        panels.LabeledItem(item=model_card.application, label='Application'),\n",
    "                        panels.LabeledItem(item=model_card.example, label='Example'),\n",
    "                    ]\n",
    "                )\n",
    "            ),\n",
    "            panels.CardTab(\n",
    "                name='Limitations & Use',\n",
    "                content=panels.LabeledItem(item=model_card.limitations, label='Limitations')\n",
    "            ),\n",
    "\n",
    "        ]\n",
    "    )"
   ]
  },
  {
   "cell_type": "code",
   "execution_count": null,
   "id": "5b88e505",
   "metadata": {},
   "outputs": [],
   "source": [
    "# Programatically generate a model card (will additionally set defaults for user to replace)\n",
    "entity = 'stacey'\n",
    "project = 'digio'\n",
    "run_id = '2pw9wdv6'\n",
    "artifact_index = 0\n",
    "card_args, full_args = get_model_card_args(entity, project, run_id, artifact_index)\n",
    "card_args"
   ]
  },
  {
   "cell_type": "code",
   "execution_count": null,
   "id": "4b51e4d5",
   "metadata": {
    "scrolled": false
   },
   "outputs": [],
   "source": [
    "# Define the model card\n",
    "model_card = ModelCard(**card_args)\n",
    "\n",
    "# Render it using the model_card_panel!\n",
    "model_card_panel(model_card)"
   ]
  }
 ],
 "metadata": {
  "kernelspec": {
   "display_name": "Python 3 (ipykernel)",
   "language": "python",
   "name": "python3"
  },
  "language_info": {
   "codemirror_mode": {
    "name": "ipython",
    "version": 3
   },
   "file_extension": ".py",
   "mimetype": "text/x-python",
   "name": "python",
   "nbconvert_exporter": "python",
   "pygments_lexer": "ipython3",
   "version": "3.9.13"
  }
 },
 "nbformat": 4,
 "nbformat_minor": 5
}
