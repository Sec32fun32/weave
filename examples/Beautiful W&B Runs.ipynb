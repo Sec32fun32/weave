{
 "cells": [
  {
   "cell_type": "code",
   "execution_count": 1,
   "id": "481a43b0",
   "metadata": {},
   "outputs": [],
   "source": [
    "import weave\n",
    "weave.use_frontend_devmode()"
   ]
  },
  {
   "cell_type": "code",
   "execution_count": 2,
   "id": "10f5a6a8",
   "metadata": {},
   "outputs": [],
   "source": [
    "initial_entity_name = 'shawn'\n",
    "initial_project_name = 'run_chain_20_200_10000'\n",
    "initial_run_id = 'r49iiea8'\n",
    "initial_metrics = ['metric0', 'metric1']"
   ]
  },
  {
   "cell_type": "code",
   "execution_count": 3,
   "id": "0cc3bd77",
   "metadata": {
    "scrolled": false
   },
   "outputs": [],
   "source": [
    "from weave.panels import panel_board\n",
    "\n",
    "def plot_for_metric(metric_name, run_history, zoom_domain_x, bin_domain_x):\n",
    "    return weave.panels.Plot(\n",
    "                        run_history,\n",
    "                        series=[\n",
    "                            # Use two plot series, one for the avg line, and one for\n",
    "                            # min/max area. We could reduce duplication here a bit more\n",
    "                            # by updating the Plot API to allow common features of series\n",
    "                            # to be factored out.\n",
    "                            weave.panels.Series(\n",
    "                                    run_history,\n",
    "                                select_functions={\n",
    "                                    'x': lambda row: row[\"_step\"].bin(\n",
    "                                        weave.ops.numbers_bins_equal(bin_domain_x, 250))[\"start\"],\n",
    "                                    'label': lambda row: row.run().name(),\n",
    "                                    'y': lambda row: row[metric_name].avg()\n",
    "                                },\n",
    "                                groupby_dims=['x', 'label'],\n",
    "                                constants=weave.panels.PlotConstants(\n",
    "                                    mark='line'\n",
    "                                )\n",
    "                            ),\n",
    "                            weave.panels.Series(\n",
    "                                run_history,\n",
    "                                select_functions={\n",
    "                                    'x': lambda row: row[\"_step\"].bin(\n",
    "                                        weave.ops.numbers_bins_equal(bin_domain_x, 250))[\"start\"],\n",
    "                                    'label': lambda row: row.run().name(),\n",
    "                                    'y': lambda row: row[metric_name].min(),\n",
    "                                    'y2': lambda row: row[metric_name].max(),\n",
    "                                },\n",
    "                                groupby_dims=['x', 'label'],\n",
    "                                constants=weave.panels.PlotConstants(\n",
    "                                    mark='area'\n",
    "                                )\n",
    "                            )\n",
    "                        ],\n",
    "                        domain_x=zoom_domain_x,\n",
    "                    )\n",
    "\n",
    "varbar = panel_board.varbar()\n",
    "\n",
    "entity_name_val = varbar.add('entity_name_val', initial_entity_name, hidden=True)\n",
    "entity = weave.ops.entity(entity_name_val)\n",
    "entity_name = varbar.add('entity_name',\n",
    "                        weave.panels.Dropdown(entity_name_val,\n",
    "                                            choices=weave.ops.viewer().entities().name()))\n",
    "\n",
    "project_name_val = varbar.add('project_name_val', initial_project_name, hidden=True)\n",
    "project = weave.ops.project(entity_name_val, project_name_val)\n",
    "project_name = varbar.add(\n",
    "    \"project_name\",\n",
    "    weave.panels.Dropdown(project_name_val, choices=entity.projects().name()),\n",
    ")\n",
    "\n",
    "run_ids_val = varbar.add('run_ids_val', [initial_run_id])\n",
    "runs = weave.ops.project(entity_name_val, project_name_val).runs().filter(lambda r: r.id().is_in(run_ids_val))\n",
    "run_ids = varbar.add('run_ids',\n",
    "                    weave.panels.Dropdown(run_ids_val,\n",
    "                                          choices=project.runs().id()))\n",
    "\n",
    "# Get the run history (wandb.log table)\n",
    "run_history = varbar.add('run_history', runs.history3().concat())\n",
    "\n",
    "# This holds the zoom boundaries, and is two-way synchronized with the plot zooms\n",
    "zoom_domain_x = varbar.add('zoom_domain_x', None, hidden=True)\n",
    "\n",
    "# This is the extent of the step field in our data (the minimum and maxium values)\n",
    "step_domain = varbar.add('step_domain', weave.ops.make_list(\n",
    "    a=weave.ops.numbers_min(run_history['_step']),\n",
    "    b=weave.ops.numbers_max(run_history['_step'])), hidden=True)\n",
    "\n",
    "# The \"domain\" used for binning, which is the zoom range if its non-null, otherwise\n",
    "# the step_extent\n",
    "bin_domain_x = varbar.add('bin_domain_x', zoom_domain_x.coalesce(step_domain), hidden=True)\n",
    "\n",
    "main = panel_board.main()\n",
    "                                                \n",
    "for metric_name in initial_metrics:\n",
    "    main.add(metric_name, plot_for_metric(metric_name, run_history, zoom_domain_x, bin_domain_x))                \n",
    "\n",
    "board = weave.panels.Board(vars=varbar, panels=main)"
   ]
  },
  {
   "cell_type": "code",
   "execution_count": 4,
   "id": "a0355e63",
   "metadata": {},
   "outputs": [
    {
     "data": {
      "text/html": [
       "\n",
       "        <iframe\n",
       "            width=\"100%\"\n",
       "            height=\"400px\"\n",
       "            src=\"http://localhost:3000/__frontend/weave_jupyter?fullScreen&expNode=%7B%22nodeType%22%3A%20%22output%22%2C%20%22type%22%3A%20%22any%22%2C%20%22fromOp%22%3A%20%7B%22name%22%3A%20%22get%22%2C%20%22inputs%22%3A%20%7B%22uri%22%3A%20%7B%22nodeType%22%3A%20%22const%22%2C%20%22type%22%3A%20%22string%22%2C%20%22val%22%3A%20%22local-artifact%3A///dashboard-Group0%3Alatest/obj%22%7D%7D%7D%7D\"\n",
       "            frameborder=\"0\"\n",
       "            allowfullscreen\n",
       "            allow=\"clipboard-write\"\n",
       "        ></iframe>\n",
       "        "
      ],
      "text/plain": [
       "<IPython.lib.display.IFrame at 0x28a2d6eb0>"
      ]
     },
     "metadata": {},
     "output_type": "display_data"
    }
   ],
   "source": [
    "board"
   ]
  }
 ],
 "metadata": {
  "kernelspec": {
   "display_name": "Python 3 (ipykernel)",
   "language": "python",
   "name": "python3"
  },
  "language_info": {
   "codemirror_mode": {
    "name": "ipython",
    "version": 3
   },
   "file_extension": ".py",
   "mimetype": "text/x-python",
   "name": "python",
   "nbconvert_exporter": "python",
   "pygments_lexer": "ipython3",
   "version": "3.9.7"
  }
 },
 "nbformat": 4,
 "nbformat_minor": 5
}
