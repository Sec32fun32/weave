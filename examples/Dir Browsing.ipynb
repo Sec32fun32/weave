{
 "cells": [
  {
   "cell_type": "code",
   "execution_count": null,
   "id": "79d64dea",
   "metadata": {},
   "outputs": [],
   "source": [
    "import os\n",
    "import weave\n",
    "weave.use_frontend_devmode()\n",
    "\n",
    "weave.ops.local_path(os.path.abspath('../weave/testdata'))"
   ]
  }
 ],
 "metadata": {
  "kernelspec": {
   "display_name": "Python 3 (ipykernel)",
   "language": "python",
   "name": "python3"
  },
  "language_info": {
   "codemirror_mode": {
    "name": "ipython",
    "version": 3
   },
   "file_extension": ".py",
   "mimetype": "text/x-python",
   "name": "python",
   "nbconvert_exporter": "python",
   "pygments_lexer": "ipython3",
   "version": "3.9.7"
  }
 },
 "nbformat": 4,
 "nbformat_minor": 5
}
