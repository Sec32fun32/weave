{
 "cells": [
  {
   "cell_type": "code",
   "execution_count": null,
   "id": "22034460",
   "metadata": {},
   "outputs": [],
   "source": [
    "import weave"
   ]
  },
  {
   "cell_type": "code",
   "execution_count": null,
   "id": "d03dc328",
   "metadata": {},
   "outputs": [],
   "source": [
    "import numpy as np\n",
    "import matplotlib.pyplot as plt\n",
    "import random\n",
    "\n",
    "@weave.op(\n",
    "    name=\"sin_image\",\n",
    "    render_info={\"type\": \"function\"},\n",
    "    input_type={\"f\": weave.types.Int()},\n",
    "    output_type=weave.types.FileType(weave.types.ConstString(\"png\")),\n",
    ")\n",
    "def sin_image(f):    \n",
    "    x = np.arange(0, f * np.pi, 0.1)\n",
    "    y = np.sin(x)\n",
    "    path = \"/tmp/my-%s.png\" % random.randrange(0, 1000000)\n",
    "    plt.rcParams[\"figure.figsize\"] = (22, 7)\n",
    "    plt.plot(x, y)\n",
    "    plt.savefig(path)\n",
    "    plt.close()\n",
    "    return weave.ops.LocalFile(path)"
   ]
  },
  {
   "cell_type": "code",
   "execution_count": null,
   "id": "217d0cd2",
   "metadata": {},
   "outputs": [],
   "source": [
    "x = weave.save(5, name='my-number')\n",
    "im = sin_image(x + 2)\n",
    "im"
   ]
  }
 ],
 "metadata": {
  "kernelspec": {
   "display_name": "Python 3 (ipykernel)",
   "language": "python",
   "name": "python3"
  },
  "language_info": {
   "codemirror_mode": {
    "name": "ipython",
    "version": 3
   },
   "file_extension": ".py",
   "mimetype": "text/x-python",
   "name": "python",
   "nbconvert_exporter": "python",
   "pygments_lexer": "ipython3",
   "version": "3.9.7"
  }
 },
 "nbformat": 4,
 "nbformat_minor": 5
}
