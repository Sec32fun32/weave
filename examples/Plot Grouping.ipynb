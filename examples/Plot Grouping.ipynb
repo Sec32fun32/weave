{
 "cells": [
  {
   "cell_type": "markdown",
   "id": "a77c32be",
   "metadata": {},
   "source": [
    "## Exploration of PanelPlot grouping features"
   ]
  },
  {
   "cell_type": "code",
   "execution_count": 1,
   "id": "733f355e",
   "metadata": {},
   "outputs": [],
   "source": [
    "import weave\n",
    "import random\n",
    "weave.use_frontend_devmode()"
   ]
  },
  {
   "cell_type": "code",
   "execution_count": 13,
   "id": "10acc81d",
   "metadata": {},
   "outputs": [
    {
     "data": {
      "text/html": [
       "\n",
       "        <iframe\n",
       "            width=\"100%\"\n",
       "            height=\"400px\"\n",
       "            src=\"http://localhost:3000/index.html?fullScreen&expNode=%7B%22nodeType%22%3A%20%22output%22%2C%20%22type%22%3A%20%7B%22type%22%3A%20%22list%22%2C%20%22objectType%22%3A%20%7B%22type%22%3A%20%22typedDict%22%2C%20%22propertyTypes%22%3A%20%7B%22group%22%3A%20%22string%22%2C%20%22run%22%3A%20%22string%22%2C%20%22step%22%3A%20%22int%22%2C%20%22acc%22%3A%20%22float%22%7D%7D%7D%2C%20%22fromOp%22%3A%20%7B%22name%22%3A%20%22get%22%2C%20%22inputs%22%3A%20%7B%22uri%22%3A%20%7B%22nodeType%22%3A%20%22const%22%2C%20%22type%22%3A%20%7B%22type%22%3A%20%22const%22%2C%20%22valType%22%3A%20%22string%22%2C%20%22val%22%3A%20%22data/08557eedb80a081d7facb765c9b1bd18%22%7D%2C%20%22val%22%3A%20%22data/08557eedb80a081d7facb765c9b1bd18%22%7D%7D%7D%7D\"\n",
       "            frameborder=\"0\"\n",
       "            allowfullscreen\n",
       "            \n",
       "        ></iframe>\n",
       "        "
      ],
      "text/plain": [
       "<IPython.lib.display.IFrame at 0x131298b80>"
      ]
     },
     "metadata": {},
     "output_type": "display_data"
    }
   ],
   "source": [
    "# Concatenated run-like data\n",
    "data = []\n",
    "for run in ['a1', 'a2', 'b1', 'b2', 'b3', 'c1']:\n",
    "    for x in range(100):\n",
    "        data.append({\n",
    "            'group': run[0],\n",
    "            'run': run,\n",
    "            'step': x,\n",
    "            'acc': random.random(),\n",
    "        })\n",
    "weave.show(data)"
   ]
  },
  {
   "cell_type": "code",
   "execution_count": 14,
   "id": "017459af",
   "metadata": {},
   "outputs": [
    {
     "data": {
      "text/html": [
       "\n",
       "        <iframe\n",
       "            width=\"100%\"\n",
       "            height=\"400px\"\n",
       "            src=\"http://localhost:3000/index.html?fullScreen&expNode=%7B%22nodeType%22%3A%20%22output%22%2C%20%22type%22%3A%20%7B%22type%22%3A%20%22list%22%2C%20%22objectType%22%3A%20%7B%22type%22%3A%20%22typedDict%22%2C%20%22propertyTypes%22%3A%20%7B%22group%22%3A%20%22string%22%2C%20%22run%22%3A%20%22string%22%2C%20%22step%22%3A%20%22int%22%2C%20%22acc%22%3A%20%22float%22%7D%7D%7D%2C%20%22fromOp%22%3A%20%7B%22name%22%3A%20%22get%22%2C%20%22inputs%22%3A%20%7B%22uri%22%3A%20%7B%22nodeType%22%3A%20%22const%22%2C%20%22type%22%3A%20%7B%22type%22%3A%20%22const%22%2C%20%22valType%22%3A%20%22string%22%2C%20%22val%22%3A%20%22list-obj/08557eedb80a081d7facb765c9b1bd18%22%7D%2C%20%22val%22%3A%20%22list-obj/08557eedb80a081d7facb765c9b1bd18%22%7D%7D%7D%7D&panelId=plot&panelConfig=%7B%22table%22%3A%20%7B%22autoColumns%22%3A%20false%2C%20%22columns%22%3A%20%7B%22EKFK74ME5HGWN0%22%3A%20%7B%22panelId%22%3A%20%22%22%2C%20%22panelConfig%22%3A%20null%7D%2C%20%2218UE0T4TMDLAMC%22%3A%20%7B%22panelId%22%3A%20%22%22%2C%20%22panelConfig%22%3A%20null%7D%2C%20%227L1MQHO14WW4HL%22%3A%20%7B%22panelId%22%3A%20%22%22%2C%20%22panelConfig%22%3A%20null%7D%2C%20%22BUEWXGDZMQGVSF%22%3A%20%7B%22panelId%22%3A%20%22%22%2C%20%22panelConfig%22%3A%20null%7D%2C%20%22EG5USENU9VJEVL%22%3A%20%7B%22panelId%22%3A%20%22%22%2C%20%22panelConfig%22%3A%20null%7D%7D%2C%20%22preFilterFunction%22%3A%20%7B%22nodeType%22%3A%20%22void%22%2C%20%22type%22%3A%20%22invalid%22%7D%2C%20%22columnNames%22%3A%20%7B%22EKFK74ME5HGWN0%22%3A%20%22%22%2C%20%2218UE0T4TMDLAMC%22%3A%20%22%22%2C%20%227L1MQHO14WW4HL%22%3A%20%22%22%2C%20%22BUEWXGDZMQGVSF%22%3A%20%22%22%2C%20%22EG5USENU9VJEVL%22%3A%20%22%22%7D%2C%20%22columnSelectFunctions%22%3A%20%7B%22EKFK74ME5HGWN0%22%3A%20%7B%22nodeType%22%3A%20%22output%22%2C%20%22type%22%3A%20%22int%22%2C%20%22fromOp%22%3A%20%7B%22name%22%3A%20%22pick%22%2C%20%22inputs%22%3A%20%7B%22obj%22%3A%20%7B%22nodeType%22%3A%20%22var%22%2C%20%22type%22%3A%20%7B%22type%22%3A%20%22typedDict%22%2C%20%22propertyTypes%22%3A%20%7B%22group%22%3A%20%22string%22%2C%20%22run%22%3A%20%22string%22%2C%20%22step%22%3A%20%22int%22%2C%20%22acc%22%3A%20%22float%22%7D%7D%2C%20%22varName%22%3A%20%22row%22%7D%2C%20%22key%22%3A%20%7B%22nodeType%22%3A%20%22const%22%2C%20%22type%22%3A%20%7B%22type%22%3A%20%22const%22%2C%20%22valType%22%3A%20%22string%22%2C%20%22val%22%3A%20%22step%22%7D%2C%20%22val%22%3A%20%22step%22%7D%7D%7D%7D%2C%20%2218UE0T4TMDLAMC%22%3A%20%7B%22nodeType%22%3A%20%22output%22%2C%20%22type%22%3A%20%7B%22type%22%3A%20%22list%22%2C%20%22objectType%22%3A%20%22float%22%7D%2C%20%22fromOp%22%3A%20%7B%22name%22%3A%20%22list%22%2C%20%22inputs%22%3A%20%7B%22i0%22%3A%20%7B%22nodeType%22%3A%20%22output%22%2C%20%22type%22%3A%20%22float%22%2C%20%22fromOp%22%3A%20%7B%22name%22%3A%20%22pick%22%2C%20%22inputs%22%3A%20%7B%22obj%22%3A%20%7B%22nodeType%22%3A%20%22var%22%2C%20%22type%22%3A%20%7B%22type%22%3A%20%22typedDict%22%2C%20%22propertyTypes%22%3A%20%7B%22group%22%3A%20%22string%22%2C%20%22run%22%3A%20%22string%22%2C%20%22step%22%3A%20%22int%22%2C%20%22acc%22%3A%20%22float%22%7D%7D%2C%20%22varName%22%3A%20%22row%22%7D%2C%20%22key%22%3A%20%7B%22nodeType%22%3A%20%22const%22%2C%20%22type%22%3A%20%7B%22type%22%3A%20%22const%22%2C%20%22valType%22%3A%20%22string%22%2C%20%22val%22%3A%20%22acc%22%7D%2C%20%22val%22%3A%20%22acc%22%7D%7D%7D%7D%2C%20%22i1%22%3A%20%7B%22nodeType%22%3A%20%22output%22%2C%20%22type%22%3A%20%22float%22%2C%20%22fromOp%22%3A%20%7B%22name%22%3A%20%22pick%22%2C%20%22inputs%22%3A%20%7B%22obj%22%3A%20%7B%22nodeType%22%3A%20%22var%22%2C%20%22type%22%3A%20%7B%22type%22%3A%20%22typedDict%22%2C%20%22propertyTypes%22%3A%20%7B%22group%22%3A%20%22string%22%2C%20%22run%22%3A%20%22string%22%2C%20%22step%22%3A%20%22int%22%2C%20%22acc%22%3A%20%22float%22%7D%7D%2C%20%22varName%22%3A%20%22row%22%7D%2C%20%22key%22%3A%20%7B%22nodeType%22%3A%20%22const%22%2C%20%22type%22%3A%20%7B%22type%22%3A%20%22const%22%2C%20%22valType%22%3A%20%22string%22%2C%20%22val%22%3A%20%22acc%22%7D%2C%20%22val%22%3A%20%22acc%22%7D%7D%7D%7D%7D%7D%7D%2C%20%227L1MQHO14WW4HL%22%3A%20%7B%22nodeType%22%3A%20%22void%22%2C%20%22type%22%3A%20%22invalid%22%7D%2C%20%22BUEWXGDZMQGVSF%22%3A%20%7B%22nodeType%22%3A%20%22output%22%2C%20%22type%22%3A%20%22string%22%2C%20%22fromOp%22%3A%20%7B%22name%22%3A%20%22pick%22%2C%20%22inputs%22%3A%20%7B%22obj%22%3A%20%7B%22nodeType%22%3A%20%22var%22%2C%20%22type%22%3A%20%7B%22type%22%3A%20%22typedDict%22%2C%20%22propertyTypes%22%3A%20%7B%22group%22%3A%20%22string%22%2C%20%22run%22%3A%20%22string%22%2C%20%22step%22%3A%20%22int%22%2C%20%22acc%22%3A%20%22float%22%7D%7D%2C%20%22varName%22%3A%20%22row%22%7D%2C%20%22key%22%3A%20%7B%22nodeType%22%3A%20%22const%22%2C%20%22type%22%3A%20%7B%22type%22%3A%20%22const%22%2C%20%22valType%22%3A%20%22string%22%2C%20%22val%22%3A%20%22group%22%7D%2C%20%22val%22%3A%20%22group%22%7D%7D%7D%7D%2C%20%22EG5USENU9VJEVL%22%3A%20%7B%22nodeType%22%3A%20%22void%22%2C%20%22type%22%3A%20%22invalid%22%7D%7D%2C%20%22order%22%3A%20%5B%22EKFK74ME5HGWN0%22%2C%20%2218UE0T4TMDLAMC%22%2C%20%227L1MQHO14WW4HL%22%2C%20%22BUEWXGDZMQGVSF%22%2C%20%22EG5USENU9VJEVL%22%5D%2C%20%22groupBy%22%3A%20%5B%5D%2C%20%22sort%22%3A%20%5B%5D%2C%20%22pageSize%22%3A%2010%2C%20%22page%22%3A%200%7D%2C%20%22dims%22%3A%20%7B%22x%22%3A%20%22EKFK74ME5HGWN0%22%2C%20%22y%22%3A%20%2218UE0T4TMDLAMC%22%2C%20%22color%22%3A%20%227L1MQHO14WW4HL%22%2C%20%22label%22%3A%20%22BUEWXGDZMQGVSF%22%2C%20%22tooltip%22%3A%20%22EG5USENU9VJEVL%22%7D%2C%20%22mark%22%3A%20%22line%22%2C%20%22axisSettings%22%3A%20%7B%22x%22%3A%20%7B%7D%2C%20%22y%22%3A%20%7B%7D%7D%2C%20%22legendSettings%22%3A%20%7B%7D%7D\"\n",
       "            frameborder=\"0\"\n",
       "            allowfullscreen\n",
       "            \n",
       "        ></iframe>\n",
       "        "
      ],
      "text/plain": [
       "<IPython.lib.display.IFrame at 0x10bec7d30>"
      ]
     },
     "metadata": {},
     "output_type": "display_data"
    }
   ],
   "source": [
    "plot = weave.panels.Plot(data)\n",
    "plot.set_x(lambda row: row['step'])\n",
    "plot.set_y(lambda row: [row['acc'], row['acc']])\n",
    "plot.set_label(lambda row: row['group'])\n",
    "plot.set_mark('line')\n",
    "weave.show(plot)"
   ]
  },
  {
   "cell_type": "code",
   "execution_count": null,
   "id": "c4e24c0c",
   "metadata": {},
   "outputs": [],
   "source": [
    "# Run-like data. Can't group over this right now.\n",
    "data = []\n",
    "xs = list(range(100))\n",
    "for run in ['a1', 'a2', 'b1', 'b2', 'b3', 'c1']:\n",
    "    data.append({\n",
    "        'group': run[0],\n",
    "        'run': run,\n",
    "        'step': xs,\n",
    "        'acc': [random.random() for x in xs],\n",
    "    })\n",
    "        \n",
    "plot = weave.panels.Plot(data)\n",
    "plot.set_x(lambda row: row['step'])\n",
    "plot.set_y(lambda row: row['acc'])\n",
    "plot.set_label(lambda row: row['run'])\n",
    "plot.set_mark('line')\n",
    "weave.show(plot)"
   ]
  }
 ],
 "metadata": {
  "kernelspec": {
   "display_name": "Python 3 (ipykernel)",
   "language": "python",
   "name": "python3"
  },
  "language_info": {
   "codemirror_mode": {
    "name": "ipython",
    "version": 3
   },
   "file_extension": ".py",
   "mimetype": "text/x-python",
   "name": "python",
   "nbconvert_exporter": "python",
   "pygments_lexer": "ipython3",
   "version": "3.9.7"
  }
 },
 "nbformat": 4,
 "nbformat_minor": 5
}
