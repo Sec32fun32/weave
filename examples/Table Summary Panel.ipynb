{
 "cells": [
  {
   "cell_type": "code",
   "execution_count": 1,
   "id": "e9f32c0f",
   "metadata": {},
   "outputs": [],
   "source": [
    "import weave\n",
    "import xgboost\n",
    "from weave.ecosystem import shap"
   ]
  },
  {
   "cell_type": "code",
   "execution_count": 2,
   "id": "50ff1335",
   "metadata": {},
   "outputs": [],
   "source": [
    "dataset = weave.use(shap.ca_housing_dataset(1))\n",
    "dataset_arrow = weave.ops.dataframe_to_arrow(dataset)"
   ]
  },
  {
   "cell_type": "code",
   "execution_count": 3,
   "id": "1f9dcd73",
   "metadata": {},
   "outputs": [],
   "source": [
    "import typing\n",
    "\n",
    "@weave.op()\n",
    "def table_summary(table: typing.Any) -> list[weave.panels.Panel]:\n",
    "    if not table:\n",
    "        # TODO: type\n",
    "        return\n",
    "    col_names = list(table[0].keys())\n",
    "    with weave.lazy_execution():\n",
    "        cols = {col_name: table.pick(col_name) for col_name in col_names}\n",
    "    panels = []\n",
    "    for col_name, col_values in cols.items():\n",
    "        panels.append(weave.panels.LabeledItem(item=col_values, label=col_name))\n",
    "    return panels"
   ]
  },
  {
   "cell_type": "code",
   "execution_count": 4,
   "id": "5d464ef4",
   "metadata": {},
   "outputs": [
    {
     "data": {
      "text/html": [
       "\n",
       "        <iframe\n",
       "            width=\"100%\"\n",
       "            height=\"400px\"\n",
       "            src=\"http://127.0.0.1:62716/__frontend/weave_jupyter/__frontend/weave_jupyter?fullScreen&expNode=%7B%22nodeType%22%3A%20%22output%22%2C%20%22type%22%3A%20%7B%22type%22%3A%20%22list%22%2C%20%22objectType%22%3A%20%7B%22type%22%3A%20%22panel%22%7D%7D%2C%20%22fromOp%22%3A%20%7B%22name%22%3A%20%22op-table_summary%22%2C%20%22inputs%22%3A%20%7B%22table%22%3A%20%7B%22nodeType%22%3A%20%22output%22%2C%20%22type%22%3A%20%7B%22type%22%3A%20%22ArrowWeaveList%22%2C%20%22objectType%22%3A%20%7B%22type%22%3A%20%22typedDict%22%2C%20%22propertyTypes%22%3A%20%7B%22MedInc%22%3A%20%22float%22%2C%20%22HouseAge%22%3A%20%22float%22%2C%20%22AveRooms%22%3A%20%22float%22%2C%20%22AveBedrms%22%3A%20%22float%22%2C%20%22Population%22%3A%20%22float%22%2C%20%22AveOccup%22%3A%20%22float%22%2C%20%22Latitude%22%3A%20%22float%22%2C%20%22Longitude%22%3A%20%22float%22%2C%20%22MedHouseVal%22%3A%20%22float%22%7D%7D%7D%2C%20%22fromOp%22%3A%20%7B%22name%22%3A%20%22get%22%2C%20%22inputs%22%3A%20%7B%22uri%22%3A%20%7B%22nodeType%22%3A%20%22const%22%2C%20%22type%22%3A%20%7B%22type%22%3A%20%22const%22%2C%20%22valType%22%3A%20%22string%22%2C%20%22val%22%3A%20%22local-artifact%3A///tmp/local-artifacts/my-data/80c24edbe8d637d9a044a4d70489b38a%22%7D%2C%20%22val%22%3A%20%22local-artifact%3A///tmp/local-artifacts/my-data/80c24edbe8d637d9a044a4d70489b38a%22%7D%7D%7D%7D%7D%7D%7D\"\n",
       "            frameborder=\"0\"\n",
       "            allowfullscreen\n",
       "            \n",
       "        ></iframe>\n",
       "        "
      ],
      "text/plain": [
       "<IPython.lib.display.IFrame at 0x14fb8b760>"
      ]
     },
     "metadata": {},
     "output_type": "display_data"
    }
   ],
   "source": [
    "from weave.ecosystem import models\n",
    "data = weave.save(dataset_arrow, 'my-data')\n",
    "table_summary(dataset_arrow)"
   ]
  },
  {
   "cell_type": "code",
   "execution_count": 6,
   "id": "47c4cdd9",
   "metadata": {},
   "outputs": [],
   "source": [
    "# Currently broken\n",
    "#weave.publish(table_summary)"
   ]
  }
 ],
 "metadata": {
  "kernelspec": {
   "display_name": "Python 3 (ipykernel)",
   "language": "python",
   "name": "python3"
  },
  "language_info": {
   "codemirror_mode": {
    "name": "ipython",
    "version": 3
   },
   "file_extension": ".py",
   "mimetype": "text/x-python",
   "name": "python",
   "nbconvert_exporter": "python",
   "pygments_lexer": "ipython3",
   "version": "3.9.7"
  }
 },
 "nbformat": 4,
 "nbformat_minor": 5
}
