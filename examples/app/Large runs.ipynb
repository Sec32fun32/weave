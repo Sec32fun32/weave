{
 "cells": [
  {
   "cell_type": "code",
   "execution_count": null,
   "id": "bcdfb864",
   "metadata": {},
   "outputs": [],
   "source": [
    "import weave\n",
    "weave.use_frontend_devmode()"
   ]
  },
  {
   "cell_type": "code",
   "execution_count": null,
   "id": "46335111",
   "metadata": {},
   "outputs": [],
   "source": [
    "# a run with 50k columns, 100 steps\n",
    "run_50000_100 = weave.ops.project(\"shawn\", \"scaletest0\").run(\"3875rzx4\")\n",
    "# a run with 5000 columns, 100 steps\n",
    "run_5000_100 = weave.ops.project(\"shawn\", \"scaletest0\").run(\"3xhsjvb9\")"
   ]
  },
  {
   "cell_type": "code",
   "execution_count": null,
   "id": "cdfc61db",
   "metadata": {},
   "outputs": [],
   "source": [
    "history = run_5000_100.history2()\n",
    "history_keys = history.type.value.object_type.property_types.keys()\n",
    "\n",
    "#print(list(history_keys))\n",
    "metric_names = weave.save(list(history_keys), 'metric_names')"
   ]
  },
  {
   "cell_type": "code",
   "execution_count": null,
   "id": "aa5e91e0",
   "metadata": {},
   "outputs": [],
   "source": [
    "# The idea here is you can set \"show_metrics\" to the metrics you want to see.\n",
    "\n",
    "from weave.panels import bank\n",
    "\n",
    "board = weave.panels.Board(\n",
    "    vars={\n",
    "        'project': weave.ops.project(\"shawn\", \"scaletest0\"),\n",
    "        'run': lambda project: project.run(\"3xhsjvb9\"),\n",
    "        'metric_names': metric_names,\n",
    "        'show_metrics': [\"metric0\", \"metric3\", \"metric49\", \"metric902\", \"metric1024\", \"metric1258\",\n",
    "                        \"metric2501\", \"metric2899\", \"metric3000\", \"metric3005\", \"metric3020\", \"metric3090\"],\n",
    "    },\n",
    "    panels=[\n",
    "        weave.panels.BoardPanel(\n",
    "            lambda show_metrics, run: weave.panels.Each(\n",
    "                show_metrics,\n",
    "                layout=bank.flow_nxn(2, 3),\n",
    "                panel=lambda item: weave.panels.Plot(\n",
    "                    run.history2(),\n",
    "                    x=lambda row: row['_step'],\n",
    "                    y=lambda row: row[item]\n",
    "                )\n",
    "            ),\n",
    "            layout=weave.panels.BoardPanelLayout(x=0, y=0, w=24, h=12)\n",
    "        )\n",
    "    ]\n",
    ")\n",
    "board"
   ]
  }
 ],
 "metadata": {
  "kernelspec": {
   "display_name": "Python 3 (ipykernel)",
   "language": "python",
   "name": "python3"
  },
  "language_info": {
   "codemirror_mode": {
    "name": "ipython",
    "version": 3
   },
   "file_extension": ".py",
   "mimetype": "text/x-python",
   "name": "python",
   "nbconvert_exporter": "python",
   "pygments_lexer": "ipython3",
   "version": "3.9.7"
  }
 },
 "nbformat": 4,
 "nbformat_minor": 5
}
