{
 "cells": [
  {
   "cell_type": "code",
   "execution_count": 1,
   "id": "8817764c",
   "metadata": {},
   "outputs": [],
   "source": [
    "import weave\n",
    "from weave.ecosystem import slurm"
   ]
  },
  {
   "cell_type": "code",
   "execution_count": 2,
   "id": "cda9e9a3",
   "metadata": {},
   "outputs": [],
   "source": [
    "#slurm.slurm('http://localhost:8899').jobs()"
   ]
  },
  {
   "cell_type": "code",
   "execution_count": 3,
   "id": "9bee4444",
   "metadata": {},
   "outputs": [],
   "source": [
    "#slurm.slurm('http://localhost:8899').nodes()"
   ]
  },
  {
   "cell_type": "code",
   "execution_count": 4,
   "id": "e69a2f48",
   "metadata": {},
   "outputs": [
    {
     "data": {
      "text/html": [
       "\n",
       "        <iframe\n",
       "            width=\"100%\"\n",
       "            height=\"400px\"\n",
       "            src=\"http://127.0.0.1:53201/__frontend/weave_jupyter/__frontend/weave_jupyter?fullScreen&expNode=%7B%22nodeType%22%3A%20%22output%22%2C%20%22type%22%3A%20%7B%22type%22%3A%20%22Slurm%22%2C%20%22_property_types%22%3A%20%7B%22restapi_url%22%3A%20%22string%22%7D%7D%2C%20%22fromOp%22%3A%20%7B%22name%22%3A%20%22op-slurm%22%2C%20%22inputs%22%3A%20%7B%22restapi_url%22%3A%20%7B%22nodeType%22%3A%20%22const%22%2C%20%22type%22%3A%20%22string%22%2C%20%22val%22%3A%20%22http%3A//localhost%3A8899%22%7D%7D%7D%7D\"\n",
       "            frameborder=\"0\"\n",
       "            allowfullscreen\n",
       "            \n",
       "        ></iframe>\n",
       "        "
      ],
      "text/plain": [
       "<IPython.lib.display.IFrame at 0x157b978b0>"
      ]
     },
     "metadata": {},
     "output_type": "display_data"
    }
   ],
   "source": [
    "slurm.slurm('http://localhost:8899')"
   ]
  }
 ],
 "metadata": {
  "kernelspec": {
   "display_name": "Python 3 (ipykernel)",
   "language": "python",
   "name": "python3"
  },
  "language_info": {
   "codemirror_mode": {
    "name": "ipython",
    "version": 3
   },
   "file_extension": ".py",
   "mimetype": "text/x-python",
   "name": "python",
   "nbconvert_exporter": "python",
   "pygments_lexer": "ipython3",
   "version": "3.9.7"
  }
 },
 "nbformat": 4,
 "nbformat_minor": 5
}
