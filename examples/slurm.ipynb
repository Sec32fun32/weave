{
 "cells": [
  {
   "cell_type": "code",
   "execution_count": 1,
   "id": "8817764c",
   "metadata": {},
   "outputs": [
    {
     "name": "stderr",
     "output_type": "stream",
     "text": [
      "2022-09-27 22:47:35.257126: I tensorflow/core/platform/cpu_feature_guard.cc:193] This TensorFlow binary is optimized with oneAPI Deep Neural Network Library (oneDNN) to use the following CPU instructions in performance-critical operations:  AVX2 FMA\n",
      "To enable them in other operations, rebuild TensorFlow with the appropriate compiler flags.\n",
      "2022-09-27 22:47:35.613061: W tensorflow/stream_executor/platform/default/dso_loader.cc:64] Could not load dynamic library 'libcudart.so.11.0'; dlerror: libcudart.so.11.0: cannot open shared object file: No such file or directory\n",
      "2022-09-27 22:47:35.613101: I tensorflow/stream_executor/cuda/cudart_stub.cc:29] Ignore above cudart dlerror if you do not have a GPU set up on your machine.\n",
      "2022-09-27 22:47:35.664996: E tensorflow/stream_executor/cuda/cuda_blas.cc:2981] Unable to register cuBLAS factory: Attempting to register factory for plugin cuBLAS when one has already been registered\n",
      "2022-09-27 22:47:36.737122: W tensorflow/stream_executor/platform/default/dso_loader.cc:64] Could not load dynamic library 'libnvinfer.so.7'; dlerror: libnvinfer.so.7: cannot open shared object file: No such file or directory\n",
      "2022-09-27 22:47:36.737252: W tensorflow/stream_executor/platform/default/dso_loader.cc:64] Could not load dynamic library 'libnvinfer_plugin.so.7'; dlerror: libnvinfer_plugin.so.7: cannot open shared object file: No such file or directory\n",
      "2022-09-27 22:47:36.737264: W tensorflow/compiler/tf2tensorrt/utils/py_utils.cc:38] TF-TRT Warning: Cannot dlopen some TensorRT libraries. If you would like to use Nvidia GPU with TensorRT, please make sure the missing libraries mentioned above are installed properly.\n",
      "2022-09-27 22:47:38.736697: W tensorflow/stream_executor/platform/default/dso_loader.cc:64] Could not load dynamic library 'libcuda.so.1'; dlerror: libcuda.so.1: cannot open shared object file: No such file or directory\n",
      "2022-09-27 22:47:38.736736: W tensorflow/stream_executor/cuda/cuda_driver.cc:263] failed call to cuInit: UNKNOWN ERROR (303)\n",
      "2022-09-27 22:47:38.736763: I tensorflow/stream_executor/cuda/cuda_diagnostics.cc:156] kernel driver does not appear to be running on this host (psohnh50f): /proc/driver/nvidia/version does not exist\n"
     ]
    }
   ],
   "source": [
    "%%capture nothing --no-stderr --no-stdout --no-display\n",
    "import weave\n",
    "from weave.ecosystem import slurm\n",
    "import time\n",
    "\n",
    "weave.use_fixed_server_port()"
   ]
  },
  {
   "cell_type": "code",
   "execution_count": 2,
   "id": "e78c5bf6",
   "metadata": {},
   "outputs": [],
   "source": [
    "s = slurm.slurm('http://localhost:8899')\n",
    "# for x in range(10):\n",
    "#     time.sleep(0.2)\n",
    "#     s.job_stats()\n",
    "# s.job_stats()"
   ]
  },
  {
   "cell_type": "code",
   "execution_count": 3,
   "id": "a10ddfdd",
   "metadata": {},
   "outputs": [],
   "source": [
    "# %%capture\n",
    "# !docker exec slurm-head bash helpers/lotta_jobs.sh 5"
   ]
  },
  {
   "cell_type": "code",
   "execution_count": 4,
   "id": "0d203b38",
   "metadata": {},
   "outputs": [
    {
     "data": {
      "text/html": [
       "\n",
       "        <iframe\n",
       "            width=\"100%\"\n",
       "            height=\"400px\"\n",
       "            src=\"http://localhost:9994/__frontend/weave_jupyter/__frontend/weave_jupyter?fullScreen&expNode=%7B%22nodeType%22%3A%20%22output%22%2C%20%22type%22%3A%20%7B%22type%22%3A%20%22list%22%2C%20%22objectType%22%3A%20%7B%22type%22%3A%20%22SlurmJob%22%2C%20%22_property_types%22%3A%20%7B%22job_id%22%3A%20%22string%22%2C%20%22comment%22%3A%20%22string%22%2C%20%22job_state%22%3A%20%22string%22%2C%20%22cluster%22%3A%20%22string%22%2C%20%22job_name%22%3A%20%22string%22%2C%20%22account%22%3A%20%22string%22%2C%20%22cost%22%3A%20%22int%22%2C%20%22cost_cpus%22%3A%20%22int%22%2C%20%22submit_time%22%3A%20%22int%22%2C%20%22start_time%22%3A%20%22int%22%2C%20%22end_time%22%3A%20%22int%22%7D%7D%7D%2C%20%22fromOp%22%3A%20%7B%22name%22%3A%20%22Slurm-jobs%22%2C%20%22inputs%22%3A%20%7B%22self%22%3A%20%7B%22nodeType%22%3A%20%22output%22%2C%20%22type%22%3A%20%7B%22type%22%3A%20%22Slurm%22%2C%20%22_property_types%22%3A%20%7B%22restapi_url%22%3A%20%22string%22%7D%7D%2C%20%22fromOp%22%3A%20%7B%22name%22%3A%20%22op-slurm%22%2C%20%22inputs%22%3A%20%7B%22restapi_url%22%3A%20%7B%22nodeType%22%3A%20%22const%22%2C%20%22type%22%3A%20%22string%22%2C%20%22val%22%3A%20%22http%3A//localhost%3A8899%22%7D%7D%7D%7D%7D%7D%7D\"\n",
       "            frameborder=\"0\"\n",
       "            allowfullscreen\n",
       "            \n",
       "        ></iframe>\n",
       "        "
      ],
      "text/plain": [
       "<IPython.lib.display.IFrame at 0x7f4dab05a760>"
      ]
     },
     "metadata": {},
     "output_type": "display_data"
    }
   ],
   "source": [
    "s.jobs()"
   ]
  },
  {
   "cell_type": "code",
   "execution_count": null,
   "id": "1b0a1bd0",
   "metadata": {},
   "outputs": [],
   "source": []
  },
  {
   "cell_type": "code",
   "execution_count": null,
   "id": "4ab54cfd",
   "metadata": {},
   "outputs": [],
   "source": []
  }
 ],
 "metadata": {
  "kernelspec": {
   "display_name": "Python 3.9.7 ('weave2')",
   "language": "python",
   "name": "python3"
  },
  "language_info": {
   "codemirror_mode": {
    "name": "ipython",
    "version": 3
   },
   "file_extension": ".py",
   "mimetype": "text/x-python",
   "name": "python",
   "nbconvert_exporter": "python",
   "pygments_lexer": "ipython3",
   "version": "3.9.7"
  },
  "vscode": {
   "interpreter": {
    "hash": "f104c84d5f8a7143f8245844d113fc6a93dec481a7ffce6fbec4390ee3c65322"
   }
  }
 },
 "nbformat": 4,
 "nbformat_minor": 5
}
