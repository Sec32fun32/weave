{
 "cells": [
  {
   "cell_type": "markdown",
   "id": "03f0b54c",
   "metadata": {},
   "source": [
    "# Generating _views_ on model cards"
   ]
  },
  {
   "cell_type": "code",
   "execution_count": null,
   "id": "c6b2e19b",
   "metadata": {},
   "outputs": [],
   "source": [
    "import typing\n",
    "from datetime import datetime\n",
    "import PIL\n",
    "import numpy as np\n",
    "\n",
    "import weave\n",
    "from weave import panels"
   ]
  },
  {
   "cell_type": "code",
   "execution_count": null,
   "id": "4d06ede9",
   "metadata": {},
   "outputs": [],
   "source": [
    "import wandb\n",
    "import wandb.apis.reports as wb\n",
    "wandb.login()"
   ]
  },
  {
   "cell_type": "markdown",
   "id": "823d60b0",
   "metadata": {},
   "source": [
    "# Inferring defaults\n",
    " * We can infer some information to fill in default values on model cards while other fields are left blank.\n",
    " \n",
    "### Next steps:\n",
    " * Users can edit all fields from the app.\n",
    " * All edits are versioned for accountability."
   ]
  },
  {
   "cell_type": "code",
   "execution_count": null,
   "id": "2e6616a4",
   "metadata": {},
   "outputs": [],
   "source": [
    "def get_model_card_args(entity, project, run_id, artifact_index):\n",
    "    # Pull run & artifact info from API\n",
    "    api = wandb.Api()\n",
    "    run = api.run(f'{entity}/{project}/{run_id}')\n",
    "    collection_name = 'fashion_style'\n",
    "    run_name = run.name\n",
    "    artifact = run.logged_artifacts()[0]\n",
    "    updated = artifact.updated_at.strip()\n",
    "    updated_dt = datetime.strptime(updated, '%Y-%m-%dT%H:%M:%S')\n",
    "    \n",
    "    # Get an example image\n",
    "    path = \"./fashion_mnist_results.png\"\n",
    "    im = PIL.Image.open(path).convert(mode='RGB')\n",
    "    table = weave.ops.project(entity, project).artifact_type('run_table').artifacts()[0].versions()[0].path('evaluation.table.json')\n",
    "\n",
    "    # Collect card data into a dictionary\n",
    "    card_args = {\n",
    "        'model_name': artifact.name,\n",
    "        'created_by': User(name=run.entity),\n",
    "        'updated_at': f'{updated_dt:%d/%m/%Y at %H:%M:%S}',\n",
    "        'model_type': 'CNN',\n",
    "        'application': 'Classifying clothing images by type',\n",
    "        'primary_metric': TargetMetric(name='acc', direction='up'),\n",
    "        #'example': weave.save(image),\n",
    "        'example': table,#[im],\n",
    "        'limitations': 'Not useful for realistic examples.'\n",
    "    }\n",
    "    full_args = {\n",
    "        'entity': entity,\n",
    "        'project': project,\n",
    "        'run_id': run_id,\n",
    "        'artifact_index': artifact_index,\n",
    "        'entity_name': run.entity,\n",
    "    }\n",
    "    full_args.update(card_args)\n",
    "    return card_args, full_args"
   ]
  },
  {
   "cell_type": "markdown",
   "id": "a1a54685",
   "metadata": {},
   "source": [
    "# Weave provides a flexible framework\n",
    "\n",
    "#### Model cards have a lot of important information! But the amount of importance per field depends on who is reading it.\n",
    "\n",
    "#### We want to preserve the integrety of the card, but also prioritize information based on the use case. This is accomplished by having alternative ways to *view* the card.\n",
    "\n",
    "#### First we define the card itself, which is a weave op!"
   ]
  },
  {
   "cell_type": "code",
   "execution_count": null,
   "id": "37ad8498",
   "metadata": {},
   "outputs": [],
   "source": [
    "# This Type should be built-in to Weave, declared in weave.types\n",
    "@weave.type()\n",
    "class User:\n",
    "    name: str\n",
    "\n",
    "# This Type will be a built-in to Weave, declared in weave.types\n",
    "@weave.type()\n",
    "class TargetMetric:\n",
    "    name: str\n",
    "    direction: str # typing.Union['up','down']  # (TODO: enum)\n",
    "\n",
    "class MarkdownString(weave.types.Type):\n",
    "    pass\n",
    "\n",
    "#class List(weave.types.Type):\n",
    "#    pass\n",
    "        \n",
    "@weave.type()\n",
    "class ModelCard:\n",
    "    model_name: str\n",
    "    created_by: User\n",
    "    updated_at: str  # TODO: timestamp\n",
    "    model_type: str  # TODO: enum\n",
    "    primary_metric: TargetMetric\n",
    "    application: str\n",
    "    \n",
    "    # TODO: This is not general enough. It should depend on the type of the model\n",
    "    #example: ExampleImage\n",
    "    example: weave.types.Type\n",
    "\n",
    "    limitations: str\n",
    "        \n",
    "#@weave.op()\n",
    "def model_card_panel(model_card: ModelCard) -> panels.Card:\n",
    "    return panels.Card(\n",
    "        title=model_card.model_name,\n",
    "        subtitle=model_card.created_by.name,\n",
    "        content=[\n",
    "            panels.CardTab(\n",
    "                name='Overview',\n",
    "                content=panels.Group(\n",
    "                    items=[\n",
    "                        panels.Group(\n",
    "                            prefer_horizontal=True,\n",
    "                            items=[\n",
    "                                panels.LabeledItem(item=model_card.updated_at, label='Last updated'),\n",
    "                                panels.LabeledItem(item=model_card.model_type, label='Model type'),\n",
    "                                panels.LabeledItem(item=model_card.primary_metric.name, label='Metric'),\n",
    "                            ]\n",
    "                        ),\n",
    "                        panels.LabeledItem(item=model_card.application, label='Application'),\n",
    "                    ]\n",
    "                )\n",
    "            ),\n",
    "            \n",
    "            panels.CardTab(\n",
    "                name='Examples',\n",
    "                content=panels.LabeledItem(\n",
    "                    item=model_card.example,\n",
    "                    label='Model inputs & outputs'\n",
    "                ),\n",
    "            ),\n",
    "            \n",
    "            panels.CardTab(\n",
    "                name='Limitations & Use',\n",
    "                content=panels.LabeledItem(item=model_card.limitations, label='Limitations')\n",
    "            ),\n",
    "\n",
    "        ]\n",
    "    )"
   ]
  },
  {
   "cell_type": "markdown",
   "id": "ea0ef185",
   "metadata": {},
   "source": [
    "# Customers can modify the card specification from our published op!\n",
    "\n",
    "### Once they've defined their card they can call a function to render it as a weave panel"
   ]
  },
  {
   "cell_type": "code",
   "execution_count": null,
   "id": "4b51e4d5",
   "metadata": {
    "scrolled": false
   },
   "outputs": [],
   "source": [
    "# Programatically generate a model card (will additionally set defaults for user to replace)\n",
    "entity = 'stacey'\n",
    "project = 'digio'\n",
    "run_id = '2pw9wdv6'\n",
    "artifact_index = 0\n",
    "card_args, full_args = get_model_card_args(entity, project, run_id, artifact_index)\n",
    "\n",
    "# Define the model card\n",
    "model_card = ModelCard(**card_args)\n",
    "\n",
    "# Render it using the model_card_panel!\n",
    "model_card_panel(model_card)"
   ]
  },
  {
   "cell_type": "markdown",
   "id": "244deb26",
   "metadata": {},
   "source": [
    "# Long-form view\n",
    "\n",
    "### The model card specification has all of the information needed for each user type. You can find all of the information by looking at the programatically generated report!"
   ]
  },
  {
   "cell_type": "code",
   "execution_count": null,
   "id": "8b0ea5f4",
   "metadata": {
    "scrolled": true
   },
   "outputs": [],
   "source": [
    "api = wandb.Api()\n",
    "wandb.require('report-editing:v0')"
   ]
  },
  {
   "cell_type": "code",
   "execution_count": null,
   "id": "04d13313",
   "metadata": {},
   "outputs": [],
   "source": [
    "def generate_report(kwargs):\n",
    "    report = api.create_report(project='model_cards')\n",
    "    report.title = kwargs['model_name']\n",
    "    report.description = kwargs['application']\n",
    "\n",
    "    section1 = [\n",
    "        wb.TableOfContents(),\n",
    "        wb.H1('Model owner'),\n",
    "        wb.P(kwargs['entity']),\n",
    "        wb.H1('Overview'),\n",
    "        wb.H2('Last Update'),\n",
    "        wb.P(kwargs['updated_at']),\n",
    "        wb.H2('Application'),\n",
    "        wb.P(kwargs['application']),\n",
    "        wb.H2('Example'),\n",
    "        wb.Image(url='https://i.ibb.co/YWk9Ccj/fashion-mnist-results.png', caption='fashion-mnist-results'),\n",
    "    ]\n",
    "\n",
    "    report.blocks = section1\n",
    "    report.save()\n",
    "    return report\n",
    "\n",
    "report = generate_report(full_args)"
   ]
  },
  {
   "cell_type": "code",
   "execution_count": null,
   "id": "61b76344",
   "metadata": {
    "scrolled": true
   },
   "outputs": [],
   "source": [
    "report.url"
   ]
  },
  {
   "cell_type": "code",
   "execution_count": null,
   "id": "bcaab6cb",
   "metadata": {},
   "outputs": [],
   "source": [
    "# Produce a \"comparison card\" that only shows the difference between two model cards\n",
    "#TODO: card_c = difference(card_object_a, card_object_b)"
   ]
  },
  {
   "cell_type": "code",
   "execution_count": null,
   "id": "acd42cb4",
   "metadata": {},
   "outputs": [],
   "source": [
    "import json\n",
    "import pandas as pd"
   ]
  },
  {
   "cell_type": "code",
   "execution_count": null,
   "id": "871f3c0a",
   "metadata": {},
   "outputs": [],
   "source": [
    "entity = 'stacey'\n",
    "project = 'digio'\n",
    "run_id = '2pw9wdv6'\n",
    "artifact_index = 0\n",
    "\n",
    "api = wandb.Api()\n",
    "run = api.run(f'{entity}/{project}/{run_id}')\n",
    "collection_name = 'fashion_style'\n",
    "run_name = run.name\n",
    "artifact = run.logged_artifacts()[0]\n",
    "updated = artifact.updated_at.strip()\n",
    "updated_dt = datetime.strptime(updated, '%Y-%m-%dT%H:%M:%S')\n",
    "\n",
    "#with wandb.init(project='model_cards') as run:\n",
    "#    tb = run.use_artifact(f'{entity}/{project}/run-1vja49xu-evaluation:v0', type='run_table')\n",
    "#    artifact_dir = artifact.download()\n",
    "\n",
    "artifact = api.artifact(f'{entity}/{project}/run-1vja49xu-evaluation:v0')"
   ]
  },
  {
   "cell_type": "code",
   "execution_count": null,
   "id": "58f00b86",
   "metadata": {
    "scrolled": true
   },
   "outputs": [],
   "source": [
    "save_dir = artifact.checkout(root='./artifacts')"
   ]
  },
  {
   "cell_type": "code",
   "execution_count": null,
   "id": "92ac41c8",
   "metadata": {},
   "outputs": [],
   "source": [
    "tab = weave.panels.Table('./artifacts/evaluation.table.json')"
   ]
  },
  {
   "cell_type": "code",
   "execution_count": null,
   "id": "29ab735e",
   "metadata": {},
   "outputs": [],
   "source": [
    "table = weave.ops.project(entity, project).artifact_type('run_table').artifacts()[0].versions()[0].path('evaluation.table.json')\n"
   ]
  },
  {
   "cell_type": "code",
   "execution_count": null,
   "id": "22a522e9",
   "metadata": {},
   "outputs": [],
   "source": [
    "table"
   ]
  }
 ],
 "metadata": {
  "kernelspec": {
   "display_name": "Python 3 (ipykernel)",
   "language": "python",
   "name": "python3"
  },
  "language_info": {
   "codemirror_mode": {
    "name": "ipython",
    "version": 3
   },
   "file_extension": ".py",
   "mimetype": "text/x-python",
   "name": "python",
   "nbconvert_exporter": "python",
   "pygments_lexer": "ipython3",
   "version": "3.9.13"
  }
 },
 "nbformat": 4,
 "nbformat_minor": 5
}
