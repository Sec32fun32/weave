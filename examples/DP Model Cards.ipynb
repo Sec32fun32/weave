{
 "cells": [
  {
   "cell_type": "markdown",
   "id": "03f0b54c",
   "metadata": {},
   "source": [
    "# Generating _views_ on model cards"
   ]
  },
  {
   "cell_type": "code",
   "execution_count": null,
   "id": "68587cb3",
   "metadata": {},
   "outputs": [],
   "source": []
  },
  {
   "cell_type": "code",
   "execution_count": 1,
   "id": "c6b2e19b",
   "metadata": {},
   "outputs": [],
   "source": [
    "import typing\n",
    "from datetime import datetime\n",
    "import PIL\n",
    "\n",
    "import weave\n",
    "from weave import panels"
   ]
  },
  {
   "cell_type": "code",
   "execution_count": 2,
   "id": "4d06ede9",
   "metadata": {},
   "outputs": [
    {
     "name": "stderr",
     "output_type": "stream",
     "text": [
      "\u001b[34m\u001b[1mwandb\u001b[0m: Currently logged in as: \u001b[33mdpaiton\u001b[0m. Use \u001b[1m`wandb login --relogin`\u001b[0m to force relogin\n"
     ]
    },
    {
     "data": {
      "text/plain": [
       "True"
      ]
     },
     "execution_count": 2,
     "metadata": {},
     "output_type": "execute_result"
    }
   ],
   "source": [
    "import wandb\n",
    "import wandb.apis.reports as wb\n",
    "wandb.login()"
   ]
  },
  {
   "cell_type": "markdown",
   "id": "823d60b0",
   "metadata": {},
   "source": [
    "# Inferring defaults\n",
    " * We can infer some information to fill in default values on model cards, other fields are left blank.\n",
    " * Users can edit all fields as they please.\n",
    " * All edits are versioned for accountability."
   ]
  },
  {
   "cell_type": "code",
   "execution_count": 3,
   "id": "2e6616a4",
   "metadata": {},
   "outputs": [],
   "source": [
    "path = \"./fashion_mnist_results.png\"\n",
    "image = PIL.Image.open(path)\n",
    "\n",
    "def get_model_card_args(entity, project, run_id, artifact_index):\n",
    "    api = wandb.Api()\n",
    "    run = api.run(f'{entity}/{project}/{run_id}')\n",
    "    collection_name = 'fashion_style'\n",
    "    run_name = run.name\n",
    "    artifact = run.logged_artifacts()[0]\n",
    "    updated = artifact.updated_at.strip()\n",
    "    updated_dt = datetime.strptime(updated, '%Y-%m-%dT%H:%M:%S')\n",
    "    path = \"./fashion_mnist_results.png\"\n",
    "    image = PIL.Image.open(path)\n",
    "    card_args = {\n",
    "        'model_name': artifact.name,\n",
    "        'created_by': User(name=run.entity),\n",
    "        'updated_at': f'{updated_dt:%d/%m/%Y at %H:%M:%S}',\n",
    "        'model_type': 'CNN',\n",
    "        'application': 'Classifying clothing images by type',\n",
    "        'primary_metric': TargetMetric(name='acc', direction='up'),\n",
    "        'example': weave.save(image),\n",
    "        'limitations': 'Not useful for realistic examples.'\n",
    "    }\n",
    "    full_args = {\n",
    "        'entity': entity,\n",
    "        'project': project,\n",
    "        'run_id': run_id,\n",
    "        'artifact_index': artifact_index,\n",
    "        'entity_name': run.entity,\n",
    "        'pil_image': image\n",
    "    }\n",
    "    full_args.update(card_args)\n",
    "    return card_args, full_args"
   ]
  },
  {
   "cell_type": "markdown",
   "id": "a1a54685",
   "metadata": {},
   "source": [
    "# Weave provides a flexible framework\n",
    "\n",
    "#### Model cards have a lot of important information! But the amount of importance per field depends on who is reading it.\n",
    "\n",
    "#### We want to preserve the integrety of the card, but also prioritize information based on the use case. This is accomplished by having alternative ways to *view* the card.\n",
    "\n",
    "#### First we define the card itself, which is a weave op!"
   ]
  },
  {
   "cell_type": "code",
   "execution_count": 4,
   "id": "37ad8498",
   "metadata": {},
   "outputs": [],
   "source": [
    "# This Type should be built-in to Weave, declared in weave.types\n",
    "@weave.type()\n",
    "class User:\n",
    "    name: str\n",
    "\n",
    "# This Type will be a built-in to Weave, declared in weave.types\n",
    "@weave.type()\n",
    "class TargetMetric:\n",
    "    name: str\n",
    "    direction: str # typing.Union['up','down']  # (TODO: enum)\n",
    "\n",
    "class MarkdownString(weave.types.Type):\n",
    "    pass\n",
    "\n",
    "@weave.type()\n",
    "class ExampleImage():\n",
    "    instance_class = PIL.PngImagePlugin.PngImageFile\n",
    "    instance_classes = PIL.PngImagePlugin.PngImageFile\n",
    "    pass\n",
    "        \n",
    "@weave.type()\n",
    "class ModelCard:\n",
    "    model_name: str\n",
    "    created_by: User\n",
    "    updated_at: str  # TODO: timestamp\n",
    "    model_type: str  # TODO: enum\n",
    "    primary_metric: TargetMetric\n",
    "    application: str\n",
    "    \n",
    "    # TODO: This is not general enough. It should depend on the type of the model\n",
    "    example: ExampleImage\n",
    "    limitations: str\n",
    "        \n",
    "# This should be an op, so we can call it from the UI, but I need to fix something\n",
    "# to make that work\n",
    "#@weave.op()\n",
    "def model_card_panel(model_card: ModelCard) -> panels.Card:\n",
    "    return panels.Card(\n",
    "        title=model_card.model_name,\n",
    "        subtitle=model_card.created_by.name,\n",
    "        content=[\n",
    "            panels.CardTab(\n",
    "                name='Overview',\n",
    "                content=panels.Group(\n",
    "                    items=[\n",
    "                        panels.Group(\n",
    "                            prefer_horizontal=True,\n",
    "                            items=[\n",
    "                                panels.LabeledItem(item=model_card.updated_at, label='Last updated'),\n",
    "                                panels.LabeledItem(item=model_card.model_type, label='Model type'),\n",
    "                                panels.LabeledItem(item=model_card.primary_metric.name, label='Metric'),\n",
    "                            ]\n",
    "                        ),\n",
    "                        panels.LabeledItem(item=model_card.application, label='Application'),\n",
    "                        panels.LabeledItem(item=model_card.example, label='Example'),\n",
    "                    ]\n",
    "                )\n",
    "            ),\n",
    "            panels.CardTab(\n",
    "                name='Limitations & Use',\n",
    "                content=panels.LabeledItem(item=model_card.limitations, label='Limitations')\n",
    "            ),\n",
    "\n",
    "        ]\n",
    "    )\n",
    "\n",
    "#def generate_model_card_report(card_args)\n",
    "#report = api.create_report(project='report-editing')\n",
    "#report.title = 'A fabulous title'\n",
    "#report.description = 'A descriptive description'"
   ]
  },
  {
   "cell_type": "markdown",
   "id": "ea0ef185",
   "metadata": {},
   "source": [
    "# Customers can modify the card specification from our published op!\n",
    "\n",
    "### Once they've defined their card they can call a function to render it as a weave panel"
   ]
  },
  {
   "cell_type": "code",
   "execution_count": 5,
   "id": "5b88e505",
   "metadata": {},
   "outputs": [
    {
     "data": {
      "text/plain": [
       "{'model_name': 'baseline:v3',\n",
       " 'created_by': User(name='stacey'),\n",
       " 'updated_at': '08/06/2022 at 22:34:33',\n",
       " 'model_type': 'CNN',\n",
       " 'application': 'Classifying clothing images by type',\n",
       " 'primary_metric': TargetMetric(name='acc', direction='up'),\n",
       " 'example': <weave.weave_internal.ConstNodePILImageType at 0x126c5d4f0>,\n",
       " 'limitations': 'Not useful for realistic examples.'}"
      ]
     },
     "execution_count": 5,
     "metadata": {},
     "output_type": "execute_result"
    }
   ],
   "source": [
    "# Programatically generate a model card (will additionally set defaults for user to replace)\n",
    "entity = 'stacey'\n",
    "project = 'digio'\n",
    "run_id = '2pw9wdv6'\n",
    "artifact_index = 0\n",
    "card_args, full_args = get_model_card_args(entity, project, run_id, artifact_index)\n",
    "card_args"
   ]
  },
  {
   "cell_type": "code",
   "execution_count": 6,
   "id": "4b51e4d5",
   "metadata": {
    "scrolled": false
   },
   "outputs": [
    {
     "data": {
      "text/html": [
       "\n",
       "        <iframe\n",
       "            width=\"100%\"\n",
       "            height=\"400px\"\n",
       "            src=\"http://127.0.0.1:53762/__frontend/weave_jupyter/__frontend/weave_jupyter?fullScreen&expNode=%7B%22nodeType%22%3A%20%22void%22%2C%20%22type%22%3A%20%22invalid%22%7D&panelId=card&panelConfig=%7B%22title%22%3A%20%22baseline%3Av3%22%2C%20%22subtitle%22%3A%20%22stacey%22%2C%20%22content%22%3A%20%5B%7B%22name%22%3A%20%22Overview%22%2C%20%22content%22%3A%20%7B%22panelInputExpr%22%3A%20%7B%22nodeType%22%3A%20%22void%22%2C%20%22type%22%3A%20%22invalid%22%7D%2C%20%22panelId%22%3A%20%22group%22%2C%20%22panelConfig%22%3A%20%7B%22items%22%3A%20%5B%7B%22panelInputExpr%22%3A%20%7B%22nodeType%22%3A%20%22void%22%2C%20%22type%22%3A%20%22invalid%22%7D%2C%20%22panelId%22%3A%20%22group%22%2C%20%22panelConfig%22%3A%20%7B%22items%22%3A%20%5B%7B%22panelInputExpr%22%3A%20%7B%22nodeType%22%3A%20%22void%22%2C%20%22type%22%3A%20%22invalid%22%7D%2C%20%22panelId%22%3A%20%22labeled-item%22%2C%20%22panelConfig%22%3A%20%7B%22label%22%3A%20%22Last%20updated%22%2C%20%22item%22%3A%20%7B%22nodeType%22%3A%20%22const%22%2C%20%22type%22%3A%20%22string%22%2C%20%22val%22%3A%20%2208/06/2022%20at%2022%3A34%3A33%22%7D%7D%7D%2C%20%7B%22panelInputExpr%22%3A%20%7B%22nodeType%22%3A%20%22void%22%2C%20%22type%22%3A%20%22invalid%22%7D%2C%20%22panelId%22%3A%20%22labeled-item%22%2C%20%22panelConfig%22%3A%20%7B%22label%22%3A%20%22Model%20type%22%2C%20%22item%22%3A%20%7B%22nodeType%22%3A%20%22const%22%2C%20%22type%22%3A%20%22string%22%2C%20%22val%22%3A%20%22CNN%22%7D%7D%7D%2C%20%7B%22panelInputExpr%22%3A%20%7B%22nodeType%22%3A%20%22void%22%2C%20%22type%22%3A%20%22invalid%22%7D%2C%20%22panelId%22%3A%20%22labeled-item%22%2C%20%22panelConfig%22%3A%20%7B%22label%22%3A%20%22Metric%22%2C%20%22item%22%3A%20%7B%22nodeType%22%3A%20%22const%22%2C%20%22type%22%3A%20%22string%22%2C%20%22val%22%3A%20%22acc%22%7D%7D%7D%5D%2C%20%22preferHorizontal%22%3A%20true%7D%7D%2C%20%7B%22panelInputExpr%22%3A%20%7B%22nodeType%22%3A%20%22void%22%2C%20%22type%22%3A%20%22invalid%22%7D%2C%20%22panelId%22%3A%20%22labeled-item%22%2C%20%22panelConfig%22%3A%20%7B%22label%22%3A%20%22Application%22%2C%20%22item%22%3A%20%7B%22nodeType%22%3A%20%22const%22%2C%20%22type%22%3A%20%22string%22%2C%20%22val%22%3A%20%22Classifying%20clothing%20images%20by%20type%22%7D%7D%7D%2C%20%7B%22panelInputExpr%22%3A%20%7B%22nodeType%22%3A%20%22void%22%2C%20%22type%22%3A%20%22invalid%22%7D%2C%20%22panelId%22%3A%20%22labeled-item%22%2C%20%22panelConfig%22%3A%20%7B%22label%22%3A%20%22Example%22%2C%20%22item%22%3A%20%7B%22nodeType%22%3A%20%22output%22%2C%20%22type%22%3A%20%7B%22type%22%3A%20%22pil-image%22%2C%20%22width%22%3A%202784%2C%20%22height%22%3A%201380%2C%20%22mode%22%3A%20%22RGBA%22%7D%2C%20%22fromOp%22%3A%20%7B%22name%22%3A%20%22get%22%2C%20%22inputs%22%3A%20%7B%22uri%22%3A%20%7B%22nodeType%22%3A%20%22const%22%2C%20%22type%22%3A%20%7B%22type%22%3A%20%22const%22%2C%20%22valType%22%3A%20%22string%22%2C%20%22val%22%3A%20%22local-artifact%3A///tmp/local-artifacts/pil-image/366b00b0f1d8146662b07d572070a1ab%22%7D%2C%20%22val%22%3A%20%22local-artifact%3A///tmp/local-artifacts/pil-image/366b00b0f1d8146662b07d572070a1ab%22%7D%7D%7D%7D%7D%7D%5D%2C%20%22preferHorizontal%22%3A%20null%7D%7D%7D%2C%20%7B%22name%22%3A%20%22Limitations%20%26%20Use%22%2C%20%22content%22%3A%20%7B%22panelInputExpr%22%3A%20%7B%22nodeType%22%3A%20%22void%22%2C%20%22type%22%3A%20%22invalid%22%7D%2C%20%22panelId%22%3A%20%22labeled-item%22%2C%20%22panelConfig%22%3A%20%7B%22label%22%3A%20%22Limitations%22%2C%20%22item%22%3A%20%7B%22nodeType%22%3A%20%22const%22%2C%20%22type%22%3A%20%22string%22%2C%20%22val%22%3A%20%22Not%20useful%20for%20realistic%20examples.%22%7D%7D%7D%7D%5D%7D\"\n",
       "            frameborder=\"0\"\n",
       "            allowfullscreen\n",
       "            \n",
       "        ></iframe>\n",
       "        "
      ],
      "text/plain": [
       "<IPython.lib.display.IFrame at 0x16dffe3d0>"
      ]
     },
     "metadata": {},
     "output_type": "display_data"
    }
   ],
   "source": [
    "# Define the model card\n",
    "model_card = ModelCard(**card_args)\n",
    "\n",
    "# Render it using the model_card_panel!\n",
    "model_card_panel(model_card)"
   ]
  },
  {
   "cell_type": "markdown",
   "id": "244deb26",
   "metadata": {},
   "source": [
    "# Long-form view\n",
    "\n",
    "### The model card specification has all of the information needed for each user type. You can find all of the information by looking at the programatically generated report!"
   ]
  },
  {
   "cell_type": "code",
   "execution_count": 7,
   "id": "8b0ea5f4",
   "metadata": {},
   "outputs": [
    {
     "name": "stderr",
     "output_type": "stream",
     "text": [
      "\u001b[34m\u001b[1mwandb\u001b[0m: \u001b[33mWARNING\u001b[0m This is an experimental feature -- use with caution!\n"
     ]
    }
   ],
   "source": [
    "api = wandb.Api()\n",
    "wandb.require('report-editing:v0')"
   ]
  },
  {
   "cell_type": "code",
   "execution_count": 8,
   "id": "04d13313",
   "metadata": {},
   "outputs": [],
   "source": [
    "def generate_report(kwargs):\n",
    "    report = api.create_report(project='model_cards')\n",
    "    report.title = kwargs['model_name']\n",
    "    report.description = kwargs['application']\n",
    "\n",
    "    section1 = [\n",
    "        wb.TableOfContents(),\n",
    "        wb.H1('Model owner'),\n",
    "        wb.P(kwargs['entity']),\n",
    "        wb.H1('Overview'),\n",
    "        wb.H2('Last Update'),\n",
    "        wb.P(kwargs['updated_at']),\n",
    "        wb.H2('Application'),\n",
    "        wb.P(kwargs['application']),\n",
    "        wb.H2('Example'),\n",
    "        wb.Image(url='https://i.ibb.co/YWk9Ccj/fashion-mnist-results.png', caption='fashion-mnist-results'),\n",
    "    ]\n",
    "\n",
    "    report.blocks = section1\n",
    "    report.save()\n",
    "    return report\n",
    "\n",
    "report = generate_report(full_args)"
   ]
  },
  {
   "cell_type": "code",
   "execution_count": 9,
   "id": "d4666f30",
   "metadata": {
    "scrolled": true
   },
   "outputs": [
    {
     "data": {
      "text/plain": [
       "'https://wandb.ai/dpaiton/model_cards/reports/baseline%3Av3--VmlldzoyMTQ1MDI3'"
      ]
     },
     "execution_count": 9,
     "metadata": {},
     "output_type": "execute_result"
    }
   ],
   "source": [
    "report.url"
   ]
  },
  {
   "cell_type": "code",
   "execution_count": 10,
   "id": "bcaab6cb",
   "metadata": {},
   "outputs": [],
   "source": [
    "# Produce a \"comparison card\" that only shows the difference between two model cards\n",
    "#TODO: card_c = difference(card_object_a, card_object_b)"
   ]
  }
 ],
 "metadata": {
  "kernelspec": {
   "display_name": "Python 3 (ipykernel)",
   "language": "python",
   "name": "python3"
  },
  "language_info": {
   "codemirror_mode": {
    "name": "ipython",
    "version": 3
   },
   "file_extension": ".py",
   "mimetype": "text/x-python",
   "name": "python",
   "nbconvert_exporter": "python",
   "pygments_lexer": "ipython3",
   "version": "3.9.13"
  }
 },
 "nbformat": 4,
 "nbformat_minor": 5
}
