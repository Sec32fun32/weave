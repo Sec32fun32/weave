{
 "cells": [
  {
   "cell_type": "markdown",
   "id": "cb7eca83",
   "metadata": {},
   "source": [
    "# GANimals"
   ]
  },
  {
   "cell_type": "markdown",
   "id": "3b0ee343",
   "metadata": {},
   "source": [
    "### Install dependencies"
   ]
  },
  {
   "cell_type": "code",
   "execution_count": 1,
   "id": "22b091c4",
   "metadata": {},
   "outputs": [],
   "source": [
    "import typing\n",
    "import weave\n",
    "from weave import panels"
   ]
  },
  {
   "cell_type": "code",
   "execution_count": 15,
   "id": "bf0c9374",
   "metadata": {},
   "outputs": [
    {
     "name": "stdout",
     "output_type": "stream",
     "text": [
      "Requirement already satisfied: ffmpeg-python in /Users/stacey/.pyenv/versions/3.9.7/envs/wint/lib/python3.9/site-packages (0.2.0)\n",
      "Requirement already satisfied: future in /Users/stacey/.pyenv/versions/3.9.7/envs/wint/lib/python3.9/site-packages (from ffmpeg-python) (0.18.2)\n",
      "\u001b[33mWARNING: You are using pip version 21.2.3; however, version 22.1.2 is available.\n",
      "You should consider upgrading via the '/Users/stacey/.pyenv/versions/3.9.7/envs/wint/bin/python3.9 -m pip install --upgrade pip' command.\u001b[0m\n",
      "Requirement already satisfied: scikit-image in /Users/stacey/.pyenv/versions/3.9.7/envs/wint/lib/python3.9/site-packages (0.19.2)\n",
      "Requirement already satisfied: tifffile>=2019.7.26 in /Users/stacey/.pyenv/versions/3.9.7/envs/wint/lib/python3.9/site-packages (from scikit-image) (2022.5.4)\n",
      "Requirement already satisfied: scipy>=1.4.1 in /Users/stacey/.pyenv/versions/3.9.7/envs/wint/lib/python3.9/site-packages (from scikit-image) (1.8.1)\n",
      "Requirement already satisfied: numpy>=1.17.0 in /Users/stacey/.pyenv/versions/3.9.7/envs/wint/lib/python3.9/site-packages (from scikit-image) (1.22.4)\n",
      "Requirement already satisfied: networkx>=2.2 in /Users/stacey/.pyenv/versions/3.9.7/envs/wint/lib/python3.9/site-packages (from scikit-image) (2.8.3)\n",
      "Requirement already satisfied: pillow!=7.1.0,!=7.1.1,!=8.3.0,>=6.1.0 in /Users/stacey/.pyenv/versions/3.9.7/envs/wint/lib/python3.9/site-packages (from scikit-image) (9.1.1)\n",
      "Requirement already satisfied: imageio>=2.4.1 in /Users/stacey/.pyenv/versions/3.9.7/envs/wint/lib/python3.9/site-packages (from scikit-image) (2.19.3)\n",
      "Requirement already satisfied: packaging>=20.0 in /Users/stacey/.pyenv/versions/3.9.7/envs/wint/lib/python3.9/site-packages (from scikit-image) (21.3)\n",
      "Requirement already satisfied: PyWavelets>=1.1.1 in /Users/stacey/.pyenv/versions/3.9.7/envs/wint/lib/python3.9/site-packages (from scikit-image) (1.3.0)\n",
      "Requirement already satisfied: pyparsing!=3.0.5,>=2.0.2 in /Users/stacey/.pyenv/versions/3.9.7/envs/wint/lib/python3.9/site-packages (from packaging>=20.0->scikit-image) (3.0.9)\n",
      "\u001b[33mWARNING: You are using pip version 21.2.3; however, version 22.1.2 is available.\n",
      "You should consider upgrading via the '/Users/stacey/.pyenv/versions/3.9.7/envs/wint/bin/python3.9 -m pip install --upgrade pip' command.\u001b[0m\n",
      "Requirement already satisfied: pillow in /Users/stacey/.pyenv/versions/3.9.7/envs/wint/lib/python3.9/site-packages (9.1.1)\n",
      "\u001b[33mWARNING: You are using pip version 21.2.3; however, version 22.1.2 is available.\n",
      "You should consider upgrading via the '/Users/stacey/.pyenv/versions/3.9.7/envs/wint/bin/python3.9 -m pip install --upgrade pip' command.\u001b[0m\n",
      "Requirement already satisfied: tqdm==4.43.0 in /Users/stacey/.pyenv/versions/3.9.7/envs/wint/lib/python3.9/site-packages (4.43.0)\n",
      "\u001b[33mWARNING: You are using pip version 21.2.3; however, version 22.1.2 is available.\n",
      "You should consider upgrading via the '/Users/stacey/.pyenv/versions/3.9.7/envs/wint/bin/python3.9 -m pip install --upgrade pip' command.\u001b[0m\n",
      "Requirement already satisfied: scipy in /Users/stacey/.pyenv/versions/3.9.7/envs/wint/lib/python3.9/site-packages (1.8.1)\n",
      "Requirement already satisfied: numpy<1.25.0,>=1.17.3 in /Users/stacey/.pyenv/versions/3.9.7/envs/wint/lib/python3.9/site-packages (from scipy) (1.22.4)\n",
      "\u001b[33mWARNING: You are using pip version 21.2.3; however, version 22.1.2 is available.\n",
      "You should consider upgrading via the '/Users/stacey/.pyenv/versions/3.9.7/envs/wint/bin/python3.9 -m pip install --upgrade pip' command.\u001b[0m\n",
      "Requirement already satisfied: torch in /Users/stacey/.pyenv/versions/3.9.7/envs/wint/lib/python3.9/site-packages (1.11.0)\n",
      "Requirement already satisfied: typing-extensions in /Users/stacey/.pyenv/versions/3.9.7/envs/wint/lib/python3.9/site-packages (from torch) (4.2.0)\n",
      "\u001b[33mWARNING: You are using pip version 21.2.3; however, version 22.1.2 is available.\n",
      "You should consider upgrading via the '/Users/stacey/.pyenv/versions/3.9.7/envs/wint/bin/python3.9 -m pip install --upgrade pip' command.\u001b[0m\n",
      "Requirement already satisfied: torchvision in /Users/stacey/.pyenv/versions/3.9.7/envs/wint/lib/python3.9/site-packages (0.12.0)\n",
      "Requirement already satisfied: requests in /Users/stacey/.pyenv/versions/3.9.7/envs/wint/lib/python3.9/site-packages (from torchvision) (2.28.0)\n",
      "Requirement already satisfied: pillow!=8.3.*,>=5.3.0 in /Users/stacey/.pyenv/versions/3.9.7/envs/wint/lib/python3.9/site-packages (from torchvision) (9.1.1)\n",
      "Requirement already satisfied: typing-extensions in /Users/stacey/.pyenv/versions/3.9.7/envs/wint/lib/python3.9/site-packages (from torchvision) (4.2.0)\n",
      "Requirement already satisfied: numpy in /Users/stacey/.pyenv/versions/3.9.7/envs/wint/lib/python3.9/site-packages (from torchvision) (1.22.4)\n",
      "Requirement already satisfied: torch==1.11.0 in /Users/stacey/.pyenv/versions/3.9.7/envs/wint/lib/python3.9/site-packages (from torchvision) (1.11.0)\n",
      "Requirement already satisfied: urllib3<1.27,>=1.21.1 in /Users/stacey/.pyenv/versions/3.9.7/envs/wint/lib/python3.9/site-packages (from requests->torchvision) (1.26.9)\n",
      "Requirement already satisfied: charset-normalizer~=2.0.0 in /Users/stacey/.pyenv/versions/3.9.7/envs/wint/lib/python3.9/site-packages (from requests->torchvision) (2.0.12)\n",
      "Requirement already satisfied: idna<4,>=2.5 in /Users/stacey/.pyenv/versions/3.9.7/envs/wint/lib/python3.9/site-packages (from requests->torchvision) (3.3)\n",
      "Requirement already satisfied: certifi>=2017.4.17 in /Users/stacey/.pyenv/versions/3.9.7/envs/wint/lib/python3.9/site-packages (from requests->torchvision) (2022.5.18.1)\n",
      "\u001b[33mWARNING: You are using pip version 21.2.3; however, version 22.1.2 is available.\n",
      "You should consider upgrading via the '/Users/stacey/.pyenv/versions/3.9.7/envs/wint/bin/python3.9 -m pip install --upgrade pip' command.\u001b[0m\n",
      "Requirement already satisfied: munch in /Users/stacey/.pyenv/versions/3.9.7/envs/wint/lib/python3.9/site-packages (2.5.0)\n",
      "Requirement already satisfied: six in /Users/stacey/.pyenv/versions/3.9.7/envs/wint/lib/python3.9/site-packages (from munch) (1.16.0)\n",
      "\u001b[33mWARNING: You are using pip version 21.2.3; however, version 22.1.2 is available.\n",
      "You should consider upgrading via the '/Users/stacey/.pyenv/versions/3.9.7/envs/wint/bin/python3.9 -m pip install --upgrade pip' command.\u001b[0m\n",
      "Requirement already satisfied: opencv-python in /Users/stacey/.pyenv/versions/3.9.7/envs/wint/lib/python3.9/site-packages (4.6.0.66)\n",
      "Requirement already satisfied: numpy>=1.17.3 in /Users/stacey/.pyenv/versions/3.9.7/envs/wint/lib/python3.9/site-packages (from opencv-python) (1.22.4)\n",
      "\u001b[33mWARNING: You are using pip version 21.2.3; however, version 22.1.2 is available.\n",
      "You should consider upgrading via the '/Users/stacey/.pyenv/versions/3.9.7/envs/wint/bin/python3.9 -m pip install --upgrade pip' command.\u001b[0m\n",
      "Requirement already satisfied: dominate in /Users/stacey/.pyenv/versions/3.9.7/envs/wint/lib/python3.9/site-packages (2.6.0)\n",
      "\u001b[33mWARNING: You are using pip version 21.2.3; however, version 22.1.2 is available.\n",
      "You should consider upgrading via the '/Users/stacey/.pyenv/versions/3.9.7/envs/wint/bin/python3.9 -m pip install --upgrade pip' command.\u001b[0m\n"
     ]
    }
   ],
   "source": [
    "!pip install ffmpeg-python\n",
    "!pip install scikit-image\n",
    "!pip install pillow\n",
    "!pip install tqdm==4.43.0\n",
    "!pip install scipy\n",
    "!pip install torch\n",
    "!pip install torchvision\n",
    "!pip install munch\n",
    "!pip install opencv-python\n",
    "!pip install dominate"
   ]
  },
  {
   "cell_type": "markdown",
   "id": "72fca4d2",
   "metadata": {},
   "source": [
    "## Stargan Example"
   ]
  },
  {
   "cell_type": "code",
   "execution_count": 17,
   "id": "4305fcb2",
   "metadata": {},
   "outputs": [],
   "source": [
    "os.chdir(\"..\")"
   ]
  },
  {
   "cell_type": "code",
   "execution_count": 18,
   "id": "2033f1dc",
   "metadata": {},
   "outputs": [
    {
     "name": "stdout",
     "output_type": "stream",
     "text": [
      "JELLO\n",
      "Namespace(img_size=256, num_domains=3, latent_dim=16, hidden_dim=512, style_dim=64, lambda_reg=1, lambda_cyc=1, lambda_sty=1, lambda_ds=1, ds_iter=100000, w_hpf=0, randcrop_prob=0.5, total_iters=100000, resume_iter=100000, batch_size=4, val_batch_size=32, lr=0.0001, f_lr=1e-06, beta1=0.0, beta2=0.99, weight_decay=0.0001, num_outs_per_domain=10, mode='custom', num_workers=4, seed=777, train_img_dir='data/celeba_hq/train', val_img_dir='data/celeba_hq/val', sample_dir='expr/samples', checkpoint_dir='stargan-v2/expr/checkpoints/afhq', eval_dir='expr/eval', result_dir='expr/results', src_dir='assets/representative/celeba_hq/src', ref_dir='assets/representative/celeba_hq/ref', inp_dir='assets/representative/custom/female', out_dir='assets/representative/celeba_hq/src/female', wing_path='stargan-v2/expr/checkpoints/wing.ckpt', lm_path='expr/checkpoints/celeba_lm_mean.npz', print_every=10, sample_every=2000, save_every=5000, eval_every=10000, model_name='', custom_src='sample_images/dog/ss_dog.jpg', custom_ref='sample_images/cat/ll2_cat.png', custom_out_img='starganv2_cross.jpg', extend_domain=1)\n",
      "Number of parameters of generator: 33892995\n",
      "Number of parameters of mapping_network: 3259072\n",
      "Number of parameters of style_encoder: 20949760\n",
      "Number of parameters of discriminator: 20852803\n",
      "Initializing generator...\n",
      "Initializing mapping_network...\n",
      "Initializing style_encoder...\n",
      "Initializing discriminator...\n",
      "\u001b[34m\u001b[1mwandb\u001b[0m: Currently logged in as: \u001b[33mstacey\u001b[0m. Use \u001b[1m`wandb login --relogin`\u001b[0m to force relogin\n",
      "\u001b[34m\u001b[1mwandb\u001b[0m: Tracking run with wandb version 0.12.19.dev1\n",
      "\u001b[34m\u001b[1mwandb\u001b[0m: Run data is saved locally in \u001b[35m\u001b[1m/Users/stacey/Code/weave/weave-internal/examples/wandb/run-20220610_142533-88cbo91u\u001b[0m\n",
      "\u001b[34m\u001b[1mwandb\u001b[0m: Run \u001b[1m`wandb offline`\u001b[0m to turn off syncing.\n",
      "\u001b[34m\u001b[1mwandb\u001b[0m: Syncing run \u001b[33mbreezy-cloud-102\u001b[0m\n",
      "\u001b[34m\u001b[1mwandb\u001b[0m: ⭐️ View project at \u001b[34m\u001b[4mhttps://wandb.ai/stacey/stargan\u001b[0m\n",
      "\u001b[34m\u001b[1mwandb\u001b[0m: 🚀 View run at \u001b[34m\u001b[4mhttps://wandb.ai/stacey/stargan/runs/88cbo91u\u001b[0m\n",
      "Preparing DataLoader for the generation phase...\n",
      "Preparing DataLoader for the generation phase...\n",
      "Loading checkpoint from stargan-v2/expr/checkpoints/afhq/100000_nets_ema.ckpt...\n",
      "Working on starganv2_cross.jpg...\n",
      "\u001b[34m\u001b[1mwandb\u001b[0m: Waiting for W&B process to finish... \u001b[32m(success).\u001b[0m\n",
      "\u001b[34m\u001b[1mwandb\u001b[0m:                                                                                \n",
      "\u001b[34m\u001b[1mwandb\u001b[0m: Synced \u001b[33mbreezy-cloud-102\u001b[0m: \u001b[34m\u001b[4mhttps://wandb.ai/stacey/stargan/runs/88cbo91u\u001b[0m\n",
      "\u001b[34m\u001b[1mwandb\u001b[0m: Synced 6 W&B file(s), 1 media file(s), 0 artifact file(s) and 2 other file(s)\n",
      "\u001b[34m\u001b[1mwandb\u001b[0m: Find logs at: \u001b[35m\u001b[1m./wandb/run-20220610_142533-88cbo91u/logs\u001b[0m\n"
     ]
    }
   ],
   "source": [
    "# 1. SOURCE IMAGE PATH\n",
    "source_image = \"dog/ss_dog.jpg\"\n",
    "# 2. REFRENCE IMAGE PATH\n",
    "reference_image = \"cat/ll2_cat.png\"\n",
    "# 3. Optional: output image file name\n",
    "output_image_file = \"starganv2_cross.jpg\"\n",
    "\n",
    "# a bit of argument manipulation\n",
    "# if source_image and/or reference_image is empty (set to \"\") above, \n",
    "# use default range of example images from StarGAN-v2 repository\n",
    "EXAMPLES_DIR = \"sample_images/\"\n",
    "DEFAULT_SRC = \"stargan-v2/assets/representative/afhq/src\"\n",
    "DEFAULT_REF = \"stargan-v2/assets/representative/afhq/ref\"\n",
    "src = EXAMPLES_DIR + source_image if source_image else DEFAULT_SRC\n",
    "ref = EXAMPLES_DIR + reference_image if reference_image else DEFAULT_REF\n",
    "\n",
    "!python stargan-v2/main.py --mode custom \\\n",
    "                           -o $output_image_file \\\n",
    "                           -s $src \\\n",
    "                           -r $ref"
   ]
  },
  {
   "cell_type": "code",
   "execution_count": 25,
   "id": "d3b1cae1",
   "metadata": {},
   "outputs": [
    {
     "name": "stdout",
     "output_type": "stream",
     "text": [
      "Namespace(img_size=256, num_domains=3, latent_dim=16, hidden_dim=512, style_dim=64, lambda_reg=1, lambda_cyc=1, lambda_sty=1, lambda_ds=1, ds_iter=100000, w_hpf=0, randcrop_prob=0.5, total_iters=100000, resume_iter=100000, batch_size=4, val_batch_size=32, lr=0.0001, f_lr=1e-06, beta1=0.0, beta2=0.99, weight_decay=0.0001, num_outs_per_domain=10, mode='save_model', num_workers=4, seed=777, train_img_dir='data/celeba_hq/train', val_img_dir='data/celeba_hq/val', sample_dir='expr/samples', checkpoint_dir='stargan-v2/expr/checkpoints/afhq', eval_dir='expr/eval', result_dir='expr/results', src_dir='assets/representative/celeba_hq/src', ref_dir='assets/representative/celeba_hq/ref', inp_dir='assets/representative/custom/female', out_dir='assets/representative/celeba_hq/src/female', wing_path='stargan-v2/expr/checkpoints/wing.ckpt', lm_path='expr/checkpoints/celeba_lm_mean.npz', print_every=10, sample_every=2000, save_every=5000, eval_every=10000, model_name='', custom_src='baseline_starganv2.ckpt', custom_ref='stargan-v2/assets/representative/afhq/ref', custom_out_img='starganv2_cross.jpg', extend_domain=1)\n",
      "Number of parameters of generator: 33892995\n",
      "Number of parameters of mapping_network: 3259072\n",
      "Number of parameters of style_encoder: 20949760\n",
      "Number of parameters of discriminator: 20852803\n",
      "Initializing generator...\n",
      "Initializing mapping_network...\n",
      "Initializing style_encoder...\n",
      "Initializing discriminator...\n",
      "\u001b[34m\u001b[1mwandb\u001b[0m: Currently logged in as: \u001b[33mstacey\u001b[0m. Use \u001b[1m`wandb login --relogin`\u001b[0m to force relogin\n",
      "\u001b[34m\u001b[1mwandb\u001b[0m: Tracking run with wandb version 0.12.19.dev1\n",
      "\u001b[34m\u001b[1mwandb\u001b[0m: Run data is saved locally in \u001b[35m\u001b[1m/Users/stacey/Code/weave/weave-internal/examples/wandb/run-20220609_195559-1q3q2e33\u001b[0m\n",
      "\u001b[34m\u001b[1mwandb\u001b[0m: Run \u001b[1m`wandb offline`\u001b[0m to turn off syncing.\n",
      "\u001b[34m\u001b[1mwandb\u001b[0m: Syncing run \u001b[33mworldly-moon-1\u001b[0m\n",
      "\u001b[34m\u001b[1mwandb\u001b[0m: ⭐️ View project at \u001b[34m\u001b[4mhttps://wandb.ai/stacey/ganimals\u001b[0m\n",
      "\u001b[34m\u001b[1mwandb\u001b[0m: 🚀 View run at \u001b[34m\u001b[4mhttps://wandb.ai/stacey/ganimals/runs/1q3q2e33\u001b[0m\n",
      "saving!!\n",
      "Loading checkpoint from stargan-v2/expr/checkpoints/afhq/100000_nets_ema.ckpt...\n",
      "saving! \n",
      "Saving checkpoint into baseline_starganv2.ckpt...\n",
      "\u001b[34m\u001b[1mwandb\u001b[0m: Waiting for W&B process to finish... \u001b[32m(success).\u001b[0m\n",
      "\u001b[34m\u001b[1mwandb\u001b[0m:                                                                                \n",
      "\u001b[34m\u001b[1mwandb\u001b[0m: Synced \u001b[33mworldly-moon-1\u001b[0m: \u001b[34m\u001b[4mhttps://wandb.ai/stacey/ganimals/runs/1q3q2e33\u001b[0m\n",
      "\u001b[34m\u001b[1mwandb\u001b[0m: Synced 6 W&B file(s), 0 media file(s), 1 artifact file(s) and 1 other file(s)\n",
      "\u001b[34m\u001b[1mwandb\u001b[0m: Find logs at: \u001b[35m\u001b[1m./wandb/run-20220609_195559-1q3q2e33/logs\u001b[0m\n"
     ]
    }
   ],
   "source": [
    "# Save Stargan model\n",
    "!python stargan-v2/main.py --mode save_model \\\n",
    "                           -s \"baseline_starganv2.ckpt\""
   ]
  },
  {
   "cell_type": "code",
   "execution_count": 144,
   "id": "2f202a96",
   "metadata": {},
   "outputs": [
    {
     "data": {
      "text/html": [
       "Tracking run with wandb version 0.12.19.dev1"
      ],
      "text/plain": [
       "<IPython.core.display.HTML object>"
      ]
     },
     "metadata": {},
     "output_type": "display_data"
    },
    {
     "data": {
      "text/html": [
       "Run data is saved locally in <code>/Users/stacey/Code/weave/weave-internal/examples/wandb/run-20220610_011346-9nc7iysx</code>"
      ],
      "text/plain": [
       "<IPython.core.display.HTML object>"
      ]
     },
     "metadata": {},
     "output_type": "display_data"
    },
    {
     "data": {
      "text/html": [
       "Syncing run <strong><a href=\"https://wandb.ai/stacey/ganimals/runs/9nc7iysx\" target=\"_blank\">driven-snowflake-18</a></strong> to <a href=\"https://wandb.ai/stacey/ganimals\" target=\"_blank\">Weights & Biases</a> (<a href=\"https://wandb.me/run\" target=\"_blank\">docs</a>)<br/>"
      ],
      "text/plain": [
       "<IPython.core.display.HTML object>"
      ]
     },
     "metadata": {},
     "output_type": "display_data"
    },
    {
     "data": {
      "text/html": [
       "Waiting for W&B process to finish... <strong style=\"color:green\">(success).</strong>"
      ],
      "text/plain": [
       "<IPython.core.display.HTML object>"
      ]
     },
     "metadata": {},
     "output_type": "display_data"
    },
    {
     "data": {
      "text/html": [
       "Synced <strong style=\"color:#cdcd00\">driven-snowflake-18</strong>: <a href=\"https://wandb.ai/stacey/ganimals/runs/9nc7iysx\" target=\"_blank\">https://wandb.ai/stacey/ganimals/runs/9nc7iysx</a><br/>Synced 5 W&B file(s), 0 media file(s), 0 artifact file(s) and 1 other file(s)"
      ],
      "text/plain": [
       "<IPython.core.display.HTML object>"
      ]
     },
     "metadata": {},
     "output_type": "display_data"
    },
    {
     "data": {
      "text/html": [
       "Find logs at: <code>./wandb/run-20220610_011346-9nc7iysx/logs</code>"
      ],
      "text/plain": [
       "<IPython.core.display.HTML object>"
      ]
     },
     "metadata": {},
     "output_type": "display_data"
    },
    {
     "name": "stdout",
     "output_type": "stream",
     "text": [
      "[<wandb.sdk.data_types.image.Image object at 0x149453790>, <wandb.sdk.data_types.image.Image object at 0x148fead90>]\n",
      "[<wandb.sdk.data_types.image.Image object at 0x149476220>, <wandb.sdk.data_types.image.Image object at 0x149476d90>]\n",
      "[<wandb.sdk.data_types.image.Image object at 0x1493851f0>, <wandb.sdk.data_types.image.Image object at 0x148d9e070>]\n",
      "[<wandb.sdk.data_types.image.Image object at 0x148d9e790>, <wandb.sdk.data_types.image.Image object at 0x148d9e5b0>]\n",
      "[<wandb.sdk.data_types.image.Image object at 0x148d9e340>, <wandb.sdk.data_types.image.Image object at 0x148d9e130>]\n",
      "[<wandb.sdk.data_types.image.Image object at 0x148d9e640>, <wandb.sdk.data_types.image.Image object at 0x1489971c0>]\n",
      "[<wandb.sdk.data_types.image.Image object at 0x1489971f0>, <wandb.sdk.data_types.image.Image object at 0x148997190>]\n",
      "[<wandb.sdk.data_types.image.Image object at 0x148997280>, <wandb.sdk.data_types.image.Image object at 0x148997460>]\n",
      "[<wandb.sdk.data_types.image.Image object at 0x148997550>, <wandb.sdk.data_types.image.Image object at 0x148997430>]\n",
      "[<wandb.sdk.data_types.image.Image object at 0x148997520>, <wandb.sdk.data_types.image.Image object at 0x148997700>]\n",
      "[<wandb.sdk.data_types.image.Image object at 0x1489977f0>, <wandb.sdk.data_types.image.Image object at 0x1489976d0>]\n",
      "[<wandb.sdk.data_types.image.Image object at 0x1489977c0>, <wandb.sdk.data_types.image.Image object at 0x1489979a0>]\n",
      "[<wandb.sdk.data_types.image.Image object at 0x148997a90>, <wandb.sdk.data_types.image.Image object at 0x148997970>]\n",
      "[<wandb.sdk.data_types.image.Image object at 0x148997a60>, <wandb.sdk.data_types.image.Image object at 0x148997c40>]\n",
      "[<wandb.sdk.data_types.image.Image object at 0x148997d30>, <wandb.sdk.data_types.image.Image object at 0x148997c10>]\n",
      "[<wandb.sdk.data_types.image.Image object at 0x148997d00>, <wandb.sdk.data_types.image.Image object at 0x148997f10>]\n"
     ]
    }
   ],
   "source": [
    "# Get Ganilla style + content images\n",
    "import wandb\n",
    "run = wandb.init(project=\"ganimals\")\n",
    "tb = run.use_artifact('stacey/ganimals/run-3r46hvkr-samples:v0').get(\"samples\")\n",
    "#artifact_dir = artifact.download()\n",
    "#print(artifact_dir)\n",
    "wandb.run.finish()\n",
    "\n",
    "gl_src = []\n",
    "gl_dst = []\n",
    "for row in tb.data:\n",
    "    s_i = row[0].image\n",
    "    t_i = row[1].image\n",
    "    gl_src.append(s_i)\n",
    "    gl_dst.append(t_i)"
   ]
  },
  {
   "cell_type": "code",
   "execution_count": 245,
   "id": "93bb8fee",
   "metadata": {},
   "outputs": [],
   "source": [
    "m = Image.open(\"sample_images/dog/ss_dog.jpg\")\n",
    "m.show()"
   ]
  },
  {
   "cell_type": "markdown",
   "id": "7e0a7a1e",
   "metadata": {},
   "source": [
    "## Main Model Card definition"
   ]
  },
  {
   "cell_type": "code",
   "execution_count": 239,
   "id": "0e40cf16",
   "metadata": {},
   "outputs": [],
   "source": [
    "# This Type should be built-in to Weave, declared in weave.types\n",
    "@weave.type()\n",
    "class User:\n",
    "    name: str\n",
    "\n",
    "# This Type will be a built-in to Weave, declared in weave.types\n",
    "@weave.type()\n",
    "class TargetMetric:\n",
    "    name: str\n",
    "    direction: str # typing.Union['up','down']  # (TODO: enum)\n",
    "\n",
    "class MarkdownString(weave.types.Type):\n",
    "    pass\n",
    "\n",
    "# this is hacky\n",
    "class List(weave.types.Type):\n",
    "    pass\n",
    "\n",
    "#@weave.type()\n",
    "#class ExampleTable():\n",
    "    \n",
    "        \n",
    "@weave.type()\n",
    "class ModelCard:\n",
    "    model_name: str\n",
    "    created_by: User\n",
    "    updated_at: str  # TODO: timestamp\n",
    "    model_type: str  # TODO: enum\n",
    "    primary_metric: TargetMetric\n",
    "    application: str\n",
    "    sample_report: str\n",
    "    github_url: str\n",
    "    arxiv_url: str\n",
    "    img_list: List\n",
    "    content_images: List\n",
    "    style_images : List\n",
    "    result_images: List\n",
    "    limitations: str\n",
    "    use: str\n",
    "    \n",
    "    # TODO: This is not general enough. It should depend on the type of the model\n",
    "    example: MarkdownString\n",
    "        \n",
    "# This should be an op, so we can call it from the UI, but I need to fix something\n",
    "# to make that work\n",
    "#@weave.op()\n",
    "def model_card_panel(model_card: ModelCard) -> panels.Card:\n",
    "    # maybe I can make a little table here?\n",
    "    #temp_table = weave.panels.Table(data)\n",
    "    #temp_table = weave.save(data, name=\"dogs\")\n",
    "    table = weave.panels.Table(data)\n",
    "    table.table_query.add_column(lambda row: row)\n",
    "    #table.table_query.add_column(lambda row: add_hello(row))\n",
    "    return panels.Card(\n",
    "        title=model_card.model_name,\n",
    "        subtitle=model_card.created_by.name,\n",
    "        content=[\n",
    "            panels.CardTab(\n",
    "                name='Overview',\n",
    "                content=panels.Group(\n",
    "                    items=[\n",
    "                        panels.Group(\n",
    "                            prefer_horizontal=True,\n",
    "                            items=[\n",
    "                                panels.LabeledItem(item=model_card.updated_at, label='Last updated'),\n",
    "                                panels.LabeledItem(item=model_card.model_type, label='Model type'),\n",
    "                                panels.LabeledItem(item=model_card.primary_metric.name, label='Metric'),\n",
    "                            ]\n",
    "                        ),\n",
    "                        panels.LabeledItem(item=model_card.application, label='Application')\n",
    "                        # TODO can't nest an image\n",
    "                        #panels.LabeledItem(item=model_card.example, label='Example'),\n",
    "                    ]\n",
    "                )\n",
    "            ),\n",
    "            panels.CardTab(\n",
    "                name='Limitations & Use',\n",
    "                content=panels.Group(\n",
    "                    items=[\n",
    "                        panels.LabeledItem(item=model_card.limitations, label='Limitations'),\n",
    "                        panels.LabeledItem(item=model_card.use, label='Use')\n",
    "                    ])\n",
    "            ),\n",
    "            panels.CardTab(\n",
    "                # TODO: can this be a more complicated Table?\n",
    "                name=\"Content Images\",\n",
    "                content=panels.Table(model_card.content_images)\n",
    "            ),\n",
    "            panels.CardTab(\n",
    "                name=\"Style Image(s)\",\n",
    "                content=panels.Table(model_card.style_images)\n",
    "            ),\n",
    "            panels.CardTab(\n",
    "                name=\"Sample Result\",\n",
    "                content=panels.Table(model_card.result_images)\n",
    "            ),\n",
    "            panels.CardTab(\n",
    "                name='Reference',\n",
    "                content=panels.Group(\n",
    "                    items=[\n",
    "                        panels.LabeledItem(item=model_card.github_url, label=\"Github Repository\"),\n",
    "                        panels.LabeledItem(item=model_card.arxiv_url, label=\"Arxiv Link\"),\n",
    "                        panels.LabeledItem(item=model_card.sample_report, label=\"Sample W&B Report\")\n",
    "                    ]\n",
    "                )\n",
    "            ),\n",
    "             panels.CardTab(\n",
    "                # TODO: can we nest multiple tables here?\n",
    "                name='Full Example',\n",
    "                content=panels.Group(\n",
    "                    items=[\n",
    "                        panels.Group(\n",
    "                            #prefer_horizontal=True,\n",
    "                            items=[\n",
    "                                panels.Table(dog_images), # label=\"Content Images\"),\n",
    "                                panels.Table([Image.open(\"sample_images/cat/ll2_cat.png\")])\n",
    "                                                  # label=\"Style Image\")\n",
    "                            ]\n",
    "                        ),\n",
    "                        panels.LabeledItem(item=model_card.application, label='Application'),\n",
    "                       # panels.LabeledItem(item=model_card.example, label='Example')\n",
    "                    ]\n",
    "                )\n",
    "            ),\n",
    "\n",
    "        ]\n",
    "    )"
   ]
  },
  {
   "cell_type": "markdown",
   "id": "db65153d",
   "metadata": {},
   "source": [
    "## StarGAN-v2 Model Card"
   ]
  },
  {
   "cell_type": "code",
   "execution_count": 243,
   "id": "c6f65d11",
   "metadata": {},
   "outputs": [
    {
     "data": {
      "text/html": [
       "\n",
       "        <iframe\n",
       "            width=\"100%\"\n",
       "            height=\"400px\"\n",
       "            src=\"http://127.0.0.1:50287/__frontend/weave_jupyter/__frontend/weave_jupyter?fullScreen&expNode=%7B%22nodeType%22%3A%20%22void%22%2C%20%22type%22%3A%20%22invalid%22%7D&panelId=card&panelConfig=%7B%22title%22%3A%20%22StarGAN-V2%22%2C%20%22subtitle%22%3A%20%22clovaai%22%2C%20%22content%22%3A%20%5B%7B%22name%22%3A%20%22Overview%22%2C%20%22content%22%3A%20%7B%22panelInputExpr%22%3A%20%7B%22nodeType%22%3A%20%22void%22%2C%20%22type%22%3A%20%22invalid%22%7D%2C%20%22panelId%22%3A%20%22group%22%2C%20%22panelConfig%22%3A%20%7B%22items%22%3A%20%5B%7B%22panelInputExpr%22%3A%20%7B%22nodeType%22%3A%20%22void%22%2C%20%22type%22%3A%20%22invalid%22%7D%2C%20%22panelId%22%3A%20%22group%22%2C%20%22panelConfig%22%3A%20%7B%22items%22%3A%20%5B%7B%22panelInputExpr%22%3A%20%7B%22nodeType%22%3A%20%22void%22%2C%20%22type%22%3A%20%22invalid%22%7D%2C%20%22panelId%22%3A%20%22labeled-item%22%2C%20%22panelConfig%22%3A%20%7B%22label%22%3A%20%22Last%20updated%22%2C%20%22item%22%3A%20%7B%22nodeType%22%3A%20%22const%22%2C%20%22type%22%3A%20%22string%22%2C%20%22val%22%3A%20%22July%2020%2C%202020%22%7D%7D%7D%2C%20%7B%22panelInputExpr%22%3A%20%7B%22nodeType%22%3A%20%22void%22%2C%20%22type%22%3A%20%22invalid%22%7D%2C%20%22panelId%22%3A%20%22labeled-item%22%2C%20%22panelConfig%22%3A%20%7B%22label%22%3A%20%22Model%20type%22%2C%20%22item%22%3A%20%7B%22nodeType%22%3A%20%22const%22%2C%20%22type%22%3A%20%22string%22%2C%20%22val%22%3A%20%22StarGAN%22%7D%7D%7D%2C%20%7B%22panelInputExpr%22%3A%20%7B%22nodeType%22%3A%20%22void%22%2C%20%22type%22%3A%20%22invalid%22%7D%2C%20%22panelId%22%3A%20%22labeled-item%22%2C%20%22panelConfig%22%3A%20%7B%22label%22%3A%20%22Metric%22%2C%20%22item%22%3A%20%7B%22nodeType%22%3A%20%22const%22%2C%20%22type%22%3A%20%22string%22%2C%20%22val%22%3A%20%22FID%22%7D%7D%7D%5D%2C%20%22preferHorizontal%22%3A%20true%7D%7D%2C%20%7B%22panelInputExpr%22%3A%20%7B%22nodeType%22%3A%20%22void%22%2C%20%22type%22%3A%20%22invalid%22%7D%2C%20%22panelId%22%3A%20%22labeled-item%22%2C%20%22panelConfig%22%3A%20%7B%22label%22%3A%20%22Application%22%2C%20%22item%22%3A%20%7B%22nodeType%22%3A%20%22const%22%2C%20%22type%22%3A%20%22string%22%2C%20%22val%22%3A%20%22StarGAN-v2%20combines%20content%20and%20style%20reference%20images%20to%20generate%20diverse%20and%20high-quality%20images%20with%20more%20flexibility%20across%20datasets%20and%20latent%20domains.%22%7D%7D%7D%5D%2C%20%22preferHorizontal%22%3A%20null%7D%7D%7D%2C%20%7B%22name%22%3A%20%22Limitations%20%26%20Use%22%2C%20%22content%22%3A%20%7B%22panelInputExpr%22%3A%20%7B%22nodeType%22%3A%20%22void%22%2C%20%22type%22%3A%20%22invalid%22%7D%2C%20%22panelId%22%3A%20%22group%22%2C%20%22panelConfig%22%3A%20%7B%22items%22%3A%20%5B%7B%22panelInputExpr%22%3A%20%7B%22nodeType%22%3A%20%22void%22%2C%20%22type%22%3A%20%22invalid%22%7D%2C%20%22panelId%22%3A%20%22labeled-item%22%2C%20%22panelConfig%22%3A%20%7B%22label%22%3A%20%22Limitations%22%2C%20%22item%22%3A%20%7B%22nodeType%22%3A%20%22const%22%2C%20%22type%22%3A%20%22string%22%2C%20%22val%22%3A%20%22Requires%20a%20pretrained%20model%20on%20a%20fixed%20number%20of%20N%20domains%5Cu2014these%20can%20be%20implicit%20and%20results%20may%20vary%20based%20on%20the%20size%20of%20N%2C%20the%20number%20of%20reference%20images%20in%20each%20input%20domain%2C%20and%20their%20diversity.%22%7D%7D%7D%2C%20%7B%22panelInputExpr%22%3A%20%7B%22nodeType%22%3A%20%22void%22%2C%20%22type%22%3A%20%22invalid%22%7D%2C%20%22panelId%22%3A%20%22labeled-item%22%2C%20%22panelConfig%22%3A%20%7B%22label%22%3A%20%22Use%22%2C%20%22item%22%3A%20%7B%22nodeType%22%3A%20%22const%22%2C%20%22type%22%3A%20%22string%22%2C%20%22val%22%3A%20%22python%20stargan-v2/main.py%20--mode%20custom%20-s%20%5Bcontent%20image%20filename%5D%20-r%20%5Breference%20or%20style%20image%20filename%5D%20-o%20%5Boutput%20file%20name%5D%22%7D%7D%7D%5D%2C%20%22preferHorizontal%22%3A%20null%7D%7D%7D%2C%20%7B%22name%22%3A%20%22Content%20Images%22%2C%20%22content%22%3A%20%7B%22panelInputExpr%22%3A%20%7B%22nodeType%22%3A%20%22output%22%2C%20%22type%22%3A%20%7B%22type%22%3A%20%22list%22%2C%20%22objectType%22%3A%20%7B%22type%22%3A%20%22pil-image%22%2C%20%22width%22%3A%20512%2C%20%22height%22%3A%20512%2C%20%22mode%22%3A%20%22RGB%22%7D%7D%2C%20%22fromOp%22%3A%20%7B%22name%22%3A%20%22get%22%2C%20%22inputs%22%3A%20%7B%22uri%22%3A%20%7B%22nodeType%22%3A%20%22const%22%2C%20%22type%22%3A%20%7B%22type%22%3A%20%22const%22%2C%20%22valType%22%3A%20%22string%22%2C%20%22val%22%3A%20%22local-artifact%3A///tmp/local-artifacts/list/259b4c4eda052543f9ca07dbf83f60de%22%7D%2C%20%22val%22%3A%20%22local-artifact%3A///tmp/local-artifacts/list/259b4c4eda052543f9ca07dbf83f60de%22%7D%7D%7D%7D%2C%20%22panelId%22%3A%20%22table%22%2C%20%22panelConfig%22%3A%20%7B%22tableState%22%3A%20%7B%22autoColumns%22%3A%20false%2C%20%22columns%22%3A%20%7B%7D%2C%20%22preFilterFunction%22%3A%20%7B%22nodeType%22%3A%20%22void%22%2C%20%22type%22%3A%20%22invalid%22%7D%2C%20%22columnNames%22%3A%20%7B%7D%2C%20%22columnSelectFunctions%22%3A%20%7B%7D%2C%20%22order%22%3A%20%5B%5D%2C%20%22groupBy%22%3A%20%5B%5D%2C%20%22sort%22%3A%20%5B%5D%2C%20%22pageSize%22%3A%2010%2C%20%22page%22%3A%200%7D%7D%7D%7D%2C%20%7B%22name%22%3A%20%22Style%20Image%28s%29%22%2C%20%22content%22%3A%20%7B%22panelInputExpr%22%3A%20%7B%22nodeType%22%3A%20%22output%22%2C%20%22type%22%3A%20%7B%22type%22%3A%20%22list%22%2C%20%22objectType%22%3A%20%7B%22type%22%3A%20%22pil-image%22%2C%20%22width%22%3A%201700%2C%20%22height%22%3A%201700%2C%20%22mode%22%3A%20%22RGB%22%7D%7D%2C%20%22fromOp%22%3A%20%7B%22name%22%3A%20%22get%22%2C%20%22inputs%22%3A%20%7B%22uri%22%3A%20%7B%22nodeType%22%3A%20%22const%22%2C%20%22type%22%3A%20%7B%22type%22%3A%20%22const%22%2C%20%22valType%22%3A%20%22string%22%2C%20%22val%22%3A%20%22local-artifact%3A///tmp/local-artifacts/list/648efba25b5254f133b1ee62d24bcb80%22%7D%2C%20%22val%22%3A%20%22local-artifact%3A///tmp/local-artifacts/list/648efba25b5254f133b1ee62d24bcb80%22%7D%7D%7D%7D%2C%20%22panelId%22%3A%20%22table%22%2C%20%22panelConfig%22%3A%20%7B%22tableState%22%3A%20%7B%22autoColumns%22%3A%20false%2C%20%22columns%22%3A%20%7B%7D%2C%20%22preFilterFunction%22%3A%20%7B%22nodeType%22%3A%20%22void%22%2C%20%22type%22%3A%20%22invalid%22%7D%2C%20%22columnNames%22%3A%20%7B%7D%2C%20%22columnSelectFunctions%22%3A%20%7B%7D%2C%20%22order%22%3A%20%5B%5D%2C%20%22groupBy%22%3A%20%5B%5D%2C%20%22sort%22%3A%20%5B%5D%2C%20%22pageSize%22%3A%2010%2C%20%22page%22%3A%200%7D%7D%7D%7D%2C%20%7B%22name%22%3A%20%22Sample%20Result%22%2C%20%22content%22%3A%20%7B%22panelInputExpr%22%3A%20%7B%22nodeType%22%3A%20%22output%22%2C%20%22type%22%3A%20%7B%22type%22%3A%20%22list%22%2C%20%22objectType%22%3A%20%7B%22type%22%3A%20%22pil-image%22%2C%20%22width%22%3A%20512%2C%20%22height%22%3A%201024%2C%20%22mode%22%3A%20%22RGB%22%7D%7D%2C%20%22fromOp%22%3A%20%7B%22name%22%3A%20%22get%22%2C%20%22inputs%22%3A%20%7B%22uri%22%3A%20%7B%22nodeType%22%3A%20%22const%22%2C%20%22type%22%3A%20%7B%22type%22%3A%20%22const%22%2C%20%22valType%22%3A%20%22string%22%2C%20%22val%22%3A%20%22local-artifact%3A///tmp/local-artifacts/list/8c6ae84fa214fc6cc9651915f749f73f%22%7D%2C%20%22val%22%3A%20%22local-artifact%3A///tmp/local-artifacts/list/8c6ae84fa214fc6cc9651915f749f73f%22%7D%7D%7D%7D%2C%20%22panelId%22%3A%20%22table%22%2C%20%22panelConfig%22%3A%20%7B%22tableState%22%3A%20%7B%22autoColumns%22%3A%20false%2C%20%22columns%22%3A%20%7B%7D%2C%20%22preFilterFunction%22%3A%20%7B%22nodeType%22%3A%20%22void%22%2C%20%22type%22%3A%20%22invalid%22%7D%2C%20%22columnNames%22%3A%20%7B%7D%2C%20%22columnSelectFunctions%22%3A%20%7B%7D%2C%20%22order%22%3A%20%5B%5D%2C%20%22groupBy%22%3A%20%5B%5D%2C%20%22sort%22%3A%20%5B%5D%2C%20%22pageSize%22%3A%2010%2C%20%22page%22%3A%200%7D%7D%7D%7D%2C%20%7B%22name%22%3A%20%22Reference%22%2C%20%22content%22%3A%20%7B%22panelInputExpr%22%3A%20%7B%22nodeType%22%3A%20%22void%22%2C%20%22type%22%3A%20%22invalid%22%7D%2C%20%22panelId%22%3A%20%22group%22%2C%20%22panelConfig%22%3A%20%7B%22items%22%3A%20%5B%7B%22panelInputExpr%22%3A%20%7B%22nodeType%22%3A%20%22void%22%2C%20%22type%22%3A%20%22invalid%22%7D%2C%20%22panelId%22%3A%20%22labeled-item%22%2C%20%22panelConfig%22%3A%20%7B%22label%22%3A%20%22Github%20Repository%22%2C%20%22item%22%3A%20%7B%22nodeType%22%3A%20%22const%22%2C%20%22type%22%3A%20%22string%22%2C%20%22val%22%3A%20%22https%3A//github.com/clovaai/stargan-v2%22%7D%7D%7D%2C%20%7B%22panelInputExpr%22%3A%20%7B%22nodeType%22%3A%20%22void%22%2C%20%22type%22%3A%20%22invalid%22%7D%2C%20%22panelId%22%3A%20%22labeled-item%22%2C%20%22panelConfig%22%3A%20%7B%22label%22%3A%20%22Arxiv%20Link%22%2C%20%22item%22%3A%20%7B%22nodeType%22%3A%20%22const%22%2C%20%22type%22%3A%20%22string%22%2C%20%22val%22%3A%20%22https%3A//arxiv.org/abs/1912.01865%22%7D%7D%7D%2C%20%7B%22panelInputExpr%22%3A%20%7B%22nodeType%22%3A%20%22void%22%2C%20%22type%22%3A%20%22invalid%22%7D%2C%20%22panelId%22%3A%20%22labeled-item%22%2C%20%22panelConfig%22%3A%20%7B%22label%22%3A%20%22Sample%20W%26B%20Report%22%2C%20%22item%22%3A%20%7B%22nodeType%22%3A%20%22const%22%2C%20%22type%22%3A%20%22string%22%2C%20%22val%22%3A%20%22https%3A//wandb.ai/stacey/stargan/reports/Cute-Animals-and-Post-Modern-Style-Transfer-StarGAN-v2-for-Multi-Domain-Image-Synthesis---VmlldzoxNzcwODQ%3FgalleryTag%3Dintermediate%22%7D%7D%7D%5D%2C%20%22preferHorizontal%22%3A%20null%7D%7D%7D%2C%20%7B%22name%22%3A%20%22Full%20Example%22%2C%20%22content%22%3A%20%7B%22panelInputExpr%22%3A%20%7B%22nodeType%22%3A%20%22void%22%2C%20%22type%22%3A%20%22invalid%22%7D%2C%20%22panelId%22%3A%20%22group%22%2C%20%22panelConfig%22%3A%20%7B%22items%22%3A%20%5B%7B%22panelInputExpr%22%3A%20%7B%22nodeType%22%3A%20%22void%22%2C%20%22type%22%3A%20%22invalid%22%7D%2C%20%22panelId%22%3A%20%22group%22%2C%20%22panelConfig%22%3A%20%7B%22items%22%3A%20%5B%7B%22panelInputExpr%22%3A%20%7B%22nodeType%22%3A%20%22output%22%2C%20%22type%22%3A%20%7B%22type%22%3A%20%22list%22%2C%20%22objectType%22%3A%20%7B%22type%22%3A%20%22pil-image%22%2C%20%22width%22%3A%20512%2C%20%22height%22%3A%20512%2C%20%22mode%22%3A%20%22RGB%22%7D%7D%2C%20%22fromOp%22%3A%20%7B%22name%22%3A%20%22get%22%2C%20%22inputs%22%3A%20%7B%22uri%22%3A%20%7B%22nodeType%22%3A%20%22const%22%2C%20%22type%22%3A%20%7B%22type%22%3A%20%22const%22%2C%20%22valType%22%3A%20%22string%22%2C%20%22val%22%3A%20%22local-artifact%3A///tmp/local-artifacts/list/259b4c4eda052543f9ca07dbf83f60de%22%7D%2C%20%22val%22%3A%20%22local-artifact%3A///tmp/local-artifacts/list/259b4c4eda052543f9ca07dbf83f60de%22%7D%7D%7D%7D%2C%20%22panelId%22%3A%20%22table%22%2C%20%22panelConfig%22%3A%20%7B%22tableState%22%3A%20%7B%22autoColumns%22%3A%20false%2C%20%22columns%22%3A%20%7B%7D%2C%20%22preFilterFunction%22%3A%20%7B%22nodeType%22%3A%20%22void%22%2C%20%22type%22%3A%20%22invalid%22%7D%2C%20%22columnNames%22%3A%20%7B%7D%2C%20%22columnSelectFunctions%22%3A%20%7B%7D%2C%20%22order%22%3A%20%5B%5D%2C%20%22groupBy%22%3A%20%5B%5D%2C%20%22sort%22%3A%20%5B%5D%2C%20%22pageSize%22%3A%2010%2C%20%22page%22%3A%200%7D%7D%7D%2C%20%7B%22panelInputExpr%22%3A%20%7B%22nodeType%22%3A%20%22output%22%2C%20%22type%22%3A%20%7B%22type%22%3A%20%22list%22%2C%20%22objectType%22%3A%20%7B%22type%22%3A%20%22pil-image%22%2C%20%22width%22%3A%20724%2C%20%22height%22%3A%20674%2C%20%22mode%22%3A%20%22RGBA%22%7D%7D%2C%20%22fromOp%22%3A%20%7B%22name%22%3A%20%22get%22%2C%20%22inputs%22%3A%20%7B%22uri%22%3A%20%7B%22nodeType%22%3A%20%22const%22%2C%20%22type%22%3A%20%7B%22type%22%3A%20%22const%22%2C%20%22valType%22%3A%20%22string%22%2C%20%22val%22%3A%20%22local-artifact%3A///tmp/local-artifacts/list/a933091345b0c4119ca6ad7ef749ea6a%22%7D%2C%20%22val%22%3A%20%22local-artifact%3A///tmp/local-artifacts/list/a933091345b0c4119ca6ad7ef749ea6a%22%7D%7D%7D%7D%2C%20%22panelId%22%3A%20%22table%22%2C%20%22panelConfig%22%3A%20%7B%22tableState%22%3A%20%7B%22autoColumns%22%3A%20false%2C%20%22columns%22%3A%20%7B%7D%2C%20%22preFilterFunction%22%3A%20%7B%22nodeType%22%3A%20%22void%22%2C%20%22type%22%3A%20%22invalid%22%7D%2C%20%22columnNames%22%3A%20%7B%7D%2C%20%22columnSelectFunctions%22%3A%20%7B%7D%2C%20%22order%22%3A%20%5B%5D%2C%20%22groupBy%22%3A%20%5B%5D%2C%20%22sort%22%3A%20%5B%5D%2C%20%22pageSize%22%3A%2010%2C%20%22page%22%3A%200%7D%7D%7D%5D%2C%20%22preferHorizontal%22%3A%20null%7D%7D%2C%20%7B%22panelInputExpr%22%3A%20%7B%22nodeType%22%3A%20%22void%22%2C%20%22type%22%3A%20%22invalid%22%7D%2C%20%22panelId%22%3A%20%22labeled-item%22%2C%20%22panelConfig%22%3A%20%7B%22label%22%3A%20%22Application%22%2C%20%22item%22%3A%20%7B%22nodeType%22%3A%20%22const%22%2C%20%22type%22%3A%20%22string%22%2C%20%22val%22%3A%20%22StarGAN-v2%20combines%20content%20and%20style%20reference%20images%20to%20generate%20diverse%20and%20high-quality%20images%20with%20more%20flexibility%20across%20datasets%20and%20latent%20domains.%22%7D%7D%7D%5D%2C%20%22preferHorizontal%22%3A%20null%7D%7D%7D%5D%7D\"\n",
       "            frameborder=\"0\"\n",
       "            allowfullscreen\n",
       "            \n",
       "        ></iframe>\n",
       "        "
      ],
      "text/plain": [
       "<IPython.lib.display.IFrame at 0x149a8e820>"
      ]
     },
     "metadata": {},
     "output_type": "display_data"
    }
   ],
   "source": [
    "model_card = ModelCard(\n",
    "    model_name='StarGAN-V2',\n",
    "    created_by=User(name='clovaai'),\n",
    "    updated_at='July 20, 2020',  # TODO: timestamp\n",
    "    model_type='StarGAN',\n",
    "    primary_metric=TargetMetric(name='FID', direction='down'),\n",
    "    application=\"StarGAN-v2 combines content and style reference images to generate diverse and high-quality images with more flexibility across datasets and latent domains.\",\n",
    "    example=\"TBD\",\n",
    "    sample_report=\"https://wandb.ai/stacey/stargan/reports/Cute-Animals-and-Post-Modern-Style-Transfer-StarGAN-v2-for-Multi-Domain-Image-Synthesis---VmlldzoxNzcwODQ?galleryTag=intermediate\",\n",
    "    github_url=\"https://github.com/clovaai/stargan-v2\",\n",
    "    arxiv_url=\"https://arxiv.org/abs/1912.01865\",\n",
    "    limitations=\"Requires a pretrained model on a fixed number of N domains—these can be implicit and results may vary based on the size of N, the number of reference images in each input domain, and their diversity.\",\n",
    "    use=\"python stargan-v2/main.py --mode custom -s [content image filename] -r [reference or style image filename] -o [output file name]\",\n",
    "    img_list=data,\n",
    "    content_images=dog_images,\n",
    "    style_images = [Image.open(\"sample_images/cat/ll2_cat.png\")],\n",
    "    result_images=[Image.open(\"starganv2_cross.jpg\")]\n",
    ")\n",
    "\n",
    "# Render it using the model_card_panel!\n",
    "model_card_panel(model_card)"
   ]
  },
  {
   "cell_type": "markdown",
   "id": "1901338c",
   "metadata": {},
   "source": [
    "### Getting dog images & trying to make a Table"
   ]
  },
  {
   "cell_type": "code",
   "execution_count": 51,
   "id": "8fe13cfd",
   "metadata": {},
   "outputs": [
    {
     "name": "stdout",
     "output_type": "stream",
     "text": [
      "ar_dog.jpg  kg_dog.png  lca_dog.jpg mo_dog.jpeg nb_dog.jpg  ss_dog.jpg\n",
      "ll2_cat.png ll_cat.png  ss_cat.jpg  yk2_cat.png yk3_cat.png yk_cat.png\n",
      "['nb_dog.jpg', 'ar_dog.jpg', '.DS_Store', 'kg_dog.png', 'ss_dog.jpg', 'lca_dog.jpg', 'mo_dog.jpeg']\n"
     ]
    }
   ],
   "source": [
    "!ls sample_images/dog\n",
    "!ls sample_images/cat\n",
    "import os\n",
    "from os import walk\n",
    "\n",
    "from os import listdir\n",
    "from os.path import isfile, join\n",
    "onlyfiles = [f for f in listdir(mypath) if isfile(join(mypath, f))]\n",
    "\n",
    "dogs = []\n",
    "for (dirpath, dirnames, filenames) in os.walk(\"sample_images/dog\"):\n",
    "    dogs.extend(filenames)\n",
    "\n",
    "cats = []\n",
    "for (dirpath, dirnames, filenames) in os.walk(\"sample_images/cat\"):\n",
    "    cats.extend(filenames)\n",
    "print(dogs)"
   ]
  },
  {
   "cell_type": "code",
   "execution_count": 210,
   "id": "50058ac8",
   "metadata": {},
   "outputs": [
    {
     "name": "stdout",
     "output_type": "stream",
     "text": [
      "[{'img_path': 'sample_images/dog/nb_dog.jpg', 'image': <PIL.Image.Image image mode=RGB size=512x512 at 0x149FD8730>}, {'img_path': 'sample_images/dog/ar_dog.jpg', 'image': <PIL.Image.Image image mode=RGB size=512x512 at 0x149FCE340>}, {'img_path': 'sample_images/dog/ss_dog.jpg', 'image': <PIL.Image.Image image mode=RGB size=512x512 at 0x149F208B0>}, {'img_path': 'sample_images/dog/lca_dog.jpg', 'image': <PIL.Image.Image image mode=RGB size=512x512 at 0x149FB7280>}, {'img_path': 'sample_images/dog/mo_dog.jpeg', 'image': <PIL.Image.Image image mode=RGB size=512x512 at 0x149FB7F10>}]\n"
     ]
    },
    {
     "data": {
      "text/html": [
       "\n",
       "        <iframe\n",
       "            width=\"100%\"\n",
       "            height=\"400px\"\n",
       "            src=\"http://127.0.0.1:50287/__frontend/weave_jupyter/__frontend/weave_jupyter?fullScreen&expNode=%7B%22nodeType%22%3A%20%22output%22%2C%20%22type%22%3A%20%7B%22type%22%3A%20%22list%22%2C%20%22objectType%22%3A%20%7B%22type%22%3A%20%22typedDict%22%2C%20%22propertyTypes%22%3A%20%7B%22img_path%22%3A%20%22string%22%2C%20%22image%22%3A%20%7B%22type%22%3A%20%22pil-image%22%2C%20%22width%22%3A%20512%2C%20%22height%22%3A%20512%2C%20%22mode%22%3A%20%22RGB%22%7D%7D%7D%7D%2C%20%22fromOp%22%3A%20%7B%22name%22%3A%20%22get%22%2C%20%22inputs%22%3A%20%7B%22uri%22%3A%20%7B%22nodeType%22%3A%20%22const%22%2C%20%22type%22%3A%20%7B%22type%22%3A%20%22const%22%2C%20%22valType%22%3A%20%22string%22%2C%20%22val%22%3A%20%22local-artifact%3A///tmp/local-artifacts/data/de005012ed76ee1cd0fb7123e6f048cd%22%7D%2C%20%22val%22%3A%20%22local-artifact%3A///tmp/local-artifacts/data/de005012ed76ee1cd0fb7123e6f048cd%22%7D%7D%7D%7D\"\n",
       "            frameborder=\"0\"\n",
       "            allowfullscreen\n",
       "            \n",
       "        ></iframe>\n",
       "        "
      ],
      "text/plain": [
       "<IPython.lib.display.IFrame at 0x149f2d550>"
      ]
     },
     "metadata": {},
     "output_type": "display_data"
    }
   ],
   "source": [
    "# Get all dog images as Table\n",
    "data = []\n",
    "dogs = \"sample_images/dog\"\n",
    "dog_paths = [os.path.join(dogs, d) for d in os.listdir(dogs) if len(d.split(\".\")[0])>1]\n",
    "del(dog_paths[2])\n",
    "dog_images = [Image.open(d).resize((512, 512)) for d in dog_paths]\n",
    "data.extend([{\"img_path\": img_path, \"image\": img} for (img_path, img) in zip(dog_paths, dog_images)])\n",
    "\n",
    "print(data)\n",
    "weave.show(data)\n"
   ]
  },
  {
   "cell_type": "code",
   "execution_count": null,
   "id": "5a17cf36",
   "metadata": {},
   "outputs": [],
   "source": [
    "# extra hacky—images need to be same size & RGB vs RGBA mode\n",
    "cats = \"sample_images/cat\"\n",
    "cat_images = [Image.open(os.path.join(cats, c)).resize((512, 512)) for c in os.listdir(cats)if len(c.split(\".\")[0])>1]\n",
    "print(cat_images)\n",
    "del(cat_images[-2])\n",
    "print(dog_images)\n",
    "del(dog_images[2])"
   ]
  },
  {
   "cell_type": "code",
   "execution_count": 94,
   "id": "044253f8",
   "metadata": {},
   "outputs": [
    {
     "data": {
      "text/html": [
       "\n",
       "        <iframe\n",
       "            width=\"100%\"\n",
       "            height=\"400px\"\n",
       "            src=\"http://127.0.0.1:50287/__frontend/weave_jupyter/__frontend/weave_jupyter?fullScreen&expNode=%7B%22nodeType%22%3A%20%22output%22%2C%20%22type%22%3A%20%7B%22type%22%3A%20%22list%22%2C%20%22objectType%22%3A%20%7B%22type%22%3A%20%22typedDict%22%2C%20%22propertyTypes%22%3A%20%7B%22img_path%22%3A%20%22string%22%7D%7D%7D%2C%20%22fromOp%22%3A%20%7B%22name%22%3A%20%22get%22%2C%20%22inputs%22%3A%20%7B%22uri%22%3A%20%7B%22nodeType%22%3A%20%22const%22%2C%20%22type%22%3A%20%7B%22type%22%3A%20%22const%22%2C%20%22valType%22%3A%20%22string%22%2C%20%22val%22%3A%20%22local-artifact%3A///tmp/local-artifacts/dogs/0bd5920ec7fdb15c0c6d0aa45d921c71%22%7D%2C%20%22val%22%3A%20%22local-artifact%3A///tmp/local-artifacts/dogs/0bd5920ec7fdb15c0c6d0aa45d921c71%22%7D%7D%7D%7D\"\n",
       "            frameborder=\"0\"\n",
       "            allowfullscreen\n",
       "            \n",
       "        ></iframe>\n",
       "        "
      ],
      "text/plain": [
       "<IPython.lib.display.IFrame at 0x149461fd0>"
      ]
     },
     "metadata": {},
     "output_type": "display_data"
    }
   ],
   "source": [
    "#w = weave.panels.Table(data)\n",
    "s = weave.save(data, name=\"dogs\")\n",
    "weave.show(s)"
   ]
  },
  {
   "cell_type": "code",
   "execution_count": 44,
   "id": "b7e7647a",
   "metadata": {},
   "outputs": [
    {
     "name": "stdout",
     "output_type": "stream",
     "text": [
      "<class 'NoneType'>\n"
     ]
    },
    {
     "data": {
      "text/html": [
       "\n",
       "        <iframe\n",
       "            width=\"100%\"\n",
       "            height=\"400px\"\n",
       "            src=\"http://127.0.0.1:50287/__frontend/weave_jupyter/__frontend/weave_jupyter?fullScreen&expNode=%7B%22nodeType%22%3A%20%22output%22%2C%20%22type%22%3A%20%7B%22type%22%3A%20%22list%22%2C%20%22objectType%22%3A%20%7B%22type%22%3A%20%22pil-image%22%2C%20%22width%22%3A%201700%2C%20%22height%22%3A%201700%2C%20%22mode%22%3A%20%22RGB%22%7D%7D%2C%20%22fromOp%22%3A%20%7B%22name%22%3A%20%22get%22%2C%20%22inputs%22%3A%20%7B%22uri%22%3A%20%7B%22nodeType%22%3A%20%22const%22%2C%20%22type%22%3A%20%7B%22type%22%3A%20%22const%22%2C%20%22valType%22%3A%20%22string%22%2C%20%22val%22%3A%20%22local-artifact%3A///tmp/local-artifacts/list/648efba25b5254f133b1ee62d24bcb80%22%7D%2C%20%22val%22%3A%20%22local-artifact%3A///tmp/local-artifacts/list/648efba25b5254f133b1ee62d24bcb80%22%7D%7D%7D%7D&panelId=table&panelConfig=%7B%22tableState%22%3A%20%7B%22autoColumns%22%3A%20false%2C%20%22columns%22%3A%20%7B%7D%2C%20%22preFilterFunction%22%3A%20%7B%22nodeType%22%3A%20%22void%22%2C%20%22type%22%3A%20%22invalid%22%7D%2C%20%22columnNames%22%3A%20%7B%7D%2C%20%22columnSelectFunctions%22%3A%20%7B%7D%2C%20%22order%22%3A%20%5B%5D%2C%20%22groupBy%22%3A%20%5B%5D%2C%20%22sort%22%3A%20%5B%5D%2C%20%22pageSize%22%3A%2010%2C%20%22page%22%3A%200%7D%7D\"\n",
       "            frameborder=\"0\"\n",
       "            allowfullscreen\n",
       "            \n",
       "        ></iframe>\n",
       "        "
      ],
      "text/plain": [
       "<IPython.lib.display.IFrame at 0x1486cf490>"
      ]
     },
     "metadata": {},
     "output_type": "display_data"
    }
   ],
   "source": [
    "\n",
    "dog = \"sample_images/dog/ss_dog.jpg\"\n",
    "cat \n",
    "from PIL import Image\n",
    "d = Image.open(dog_table)\n",
    "#t = wandb.Table([\"1\", d])\n",
    "ims = [d]\n",
    "#data = weave.show(ims)\n",
    "#print(type(data))\n",
    "#table = weave.panels.Table(ims)\n",
    "#weave.show(table"
   ]
  },
  {
   "cell_type": "markdown",
   "id": "86b06e54",
   "metadata": {},
   "source": [
    "## GANILLA card"
   ]
  },
  {
   "cell_type": "code",
   "execution_count": 242,
   "id": "9d7b3e0e",
   "metadata": {},
   "outputs": [
    {
     "name": "stdout",
     "output_type": "stream",
     "text": [
      "['ganilla/data/illustrator_samples/KH_illustrator_sample.png', 'ganilla/data/illustrator_samples/AS_illustrator_sample.png', 'ganilla/data/illustrator_samples/DM_illustrator_sample.png', 'ganilla/data/illustrator_samples/KP_illustrator_sample.png']\n"
     ]
    }
   ],
   "source": [
    "# load ganilla style images\n",
    "art_ims = []\n",
    "sample_dir = \"ganilla/data/illustrator_samples\"\n",
    "art_paths = [os.path.join(sample_dir, d) for d in os.listdir(sample_dir) if len(d.split(\".\")[0])>1]\n",
    "art_images = [Image.open(d).resize((700, 225)) for d in art_paths]\n",
    "art_ims.extend([{\"img_path\": img_path, \"image\": img} for (img_path, img) in zip(art_paths, art_images)])\n",
    "print(art_paths)"
   ]
  },
  {
   "cell_type": "code",
   "execution_count": 241,
   "id": "820eb291",
   "metadata": {},
   "outputs": [
    {
     "data": {
      "text/html": [
       "\n",
       "        <iframe\n",
       "            width=\"100%\"\n",
       "            height=\"400px\"\n",
       "            src=\"http://127.0.0.1:50287/__frontend/weave_jupyter/__frontend/weave_jupyter?fullScreen&expNode=%7B%22nodeType%22%3A%20%22void%22%2C%20%22type%22%3A%20%22invalid%22%7D&panelId=card&panelConfig=%7B%22title%22%3A%20%22GANILLA%22%2C%20%22subtitle%22%3A%20%22giddyyupp%22%2C%20%22content%22%3A%20%5B%7B%22name%22%3A%20%22Overview%22%2C%20%22content%22%3A%20%7B%22panelInputExpr%22%3A%20%7B%22nodeType%22%3A%20%22void%22%2C%20%22type%22%3A%20%22invalid%22%7D%2C%20%22panelId%22%3A%20%22group%22%2C%20%22panelConfig%22%3A%20%7B%22items%22%3A%20%5B%7B%22panelInputExpr%22%3A%20%7B%22nodeType%22%3A%20%22void%22%2C%20%22type%22%3A%20%22invalid%22%7D%2C%20%22panelId%22%3A%20%22group%22%2C%20%22panelConfig%22%3A%20%7B%22items%22%3A%20%5B%7B%22panelInputExpr%22%3A%20%7B%22nodeType%22%3A%20%22void%22%2C%20%22type%22%3A%20%22invalid%22%7D%2C%20%22panelId%22%3A%20%22labeled-item%22%2C%20%22panelConfig%22%3A%20%7B%22label%22%3A%20%22Last%20updated%22%2C%20%22item%22%3A%20%7B%22nodeType%22%3A%20%22const%22%2C%20%22type%22%3A%20%22string%22%2C%20%22val%22%3A%20%22July%2020%2C%202020%22%7D%7D%7D%2C%20%7B%22panelInputExpr%22%3A%20%7B%22nodeType%22%3A%20%22void%22%2C%20%22type%22%3A%20%22invalid%22%7D%2C%20%22panelId%22%3A%20%22labeled-item%22%2C%20%22panelConfig%22%3A%20%7B%22label%22%3A%20%22Model%20type%22%2C%20%22item%22%3A%20%7B%22nodeType%22%3A%20%22const%22%2C%20%22type%22%3A%20%22string%22%2C%20%22val%22%3A%20%22ganilla%22%7D%7D%7D%2C%20%7B%22panelInputExpr%22%3A%20%7B%22nodeType%22%3A%20%22void%22%2C%20%22type%22%3A%20%22invalid%22%7D%2C%20%22panelId%22%3A%20%22labeled-item%22%2C%20%22panelConfig%22%3A%20%7B%22label%22%3A%20%22Metric%22%2C%20%22item%22%3A%20%7B%22nodeType%22%3A%20%22const%22%2C%20%22type%22%3A%20%22string%22%2C%20%22val%22%3A%20%22Style%26ContentCNN%22%7D%7D%7D%5D%2C%20%22preferHorizontal%22%3A%20true%7D%7D%2C%20%7B%22panelInputExpr%22%3A%20%7B%22nodeType%22%3A%20%22void%22%2C%20%22type%22%3A%20%22invalid%22%7D%2C%20%22panelId%22%3A%20%22labeled-item%22%2C%20%22panelConfig%22%3A%20%7B%22label%22%3A%20%22Application%22%2C%20%22item%22%3A%20%7B%22nodeType%22%3A%20%22const%22%2C%20%22type%22%3A%20%22string%22%2C%20%22val%22%3A%20%22translate%20content%20from%20one%20image%20into%20the%20style%20of%20an%20illustrator%20using%20a%20pretrained%20network%22%7D%7D%7D%5D%2C%20%22preferHorizontal%22%3A%20null%7D%7D%7D%2C%20%7B%22name%22%3A%20%22Limitations%20%26%20Use%22%2C%20%22content%22%3A%20%7B%22panelInputExpr%22%3A%20%7B%22nodeType%22%3A%20%22void%22%2C%20%22type%22%3A%20%22invalid%22%7D%2C%20%22panelId%22%3A%20%22group%22%2C%20%22panelConfig%22%3A%20%7B%22items%22%3A%20%5B%7B%22panelInputExpr%22%3A%20%7B%22nodeType%22%3A%20%22void%22%2C%20%22type%22%3A%20%22invalid%22%7D%2C%20%22panelId%22%3A%20%22labeled-item%22%2C%20%22panelConfig%22%3A%20%7B%22label%22%3A%20%22Limitations%22%2C%20%22item%22%3A%20%7B%22nodeType%22%3A%20%22const%22%2C%20%22type%22%3A%20%22string%22%2C%20%22val%22%3A%20%22Each%20GANILLA%20model%20variant%20is%20finetuned%20on%20one%20illustrator%20or%20artist.%20The%20number%2C%20quality%2C%20and%20diversity%20of%20representative%20artist%20images%20avaialble%20for%20pretraining%20will%20affect%20the%20result%20quality.%20Model%20is%20best%20suited%20for%20natural%20images%20like%20photos%20of%20landscapes%20or%20faces%20and%20may%20not%20perform%20as%20well%20on%20other%20image%20types%22%7D%7D%7D%2C%20%7B%22panelInputExpr%22%3A%20%7B%22nodeType%22%3A%20%22void%22%2C%20%22type%22%3A%20%22invalid%22%7D%2C%20%22panelId%22%3A%20%22labeled-item%22%2C%20%22panelConfig%22%3A%20%7B%22label%22%3A%20%22Use%22%2C%20%22item%22%3A%20%7B%22nodeType%22%3A%20%22const%22%2C%20%22type%22%3A%20%22string%22%2C%20%22val%22%3A%20%22%21python%20ganilla/test.py%20--dataroot%20sample_images/dog%20--from_artifact%20ganilla_KP_pretrained%3Av0%20--model%20test%20--log_all%20--gpu_ids%20-1%22%7D%7D%7D%5D%2C%20%22preferHorizontal%22%3A%20null%7D%7D%7D%2C%20%7B%22name%22%3A%20%22Content%20Images%22%2C%20%22content%22%3A%20%7B%22panelInputExpr%22%3A%20%7B%22nodeType%22%3A%20%22output%22%2C%20%22type%22%3A%20%7B%22type%22%3A%20%22list%22%2C%20%22objectType%22%3A%20%7B%22type%22%3A%20%22pil-image%22%2C%20%22width%22%3A%20256%2C%20%22height%22%3A%20256%2C%20%22mode%22%3A%20%22RGB%22%7D%7D%2C%20%22fromOp%22%3A%20%7B%22name%22%3A%20%22get%22%2C%20%22inputs%22%3A%20%7B%22uri%22%3A%20%7B%22nodeType%22%3A%20%22const%22%2C%20%22type%22%3A%20%7B%22type%22%3A%20%22const%22%2C%20%22valType%22%3A%20%22string%22%2C%20%22val%22%3A%20%22local-artifact%3A///tmp/local-artifacts/list/04a8789f8d288b1f6caefb5749f71cf7%22%7D%2C%20%22val%22%3A%20%22local-artifact%3A///tmp/local-artifacts/list/04a8789f8d288b1f6caefb5749f71cf7%22%7D%7D%7D%7D%2C%20%22panelId%22%3A%20%22table%22%2C%20%22panelConfig%22%3A%20%7B%22tableState%22%3A%20%7B%22autoColumns%22%3A%20false%2C%20%22columns%22%3A%20%7B%7D%2C%20%22preFilterFunction%22%3A%20%7B%22nodeType%22%3A%20%22void%22%2C%20%22type%22%3A%20%22invalid%22%7D%2C%20%22columnNames%22%3A%20%7B%7D%2C%20%22columnSelectFunctions%22%3A%20%7B%7D%2C%20%22order%22%3A%20%5B%5D%2C%20%22groupBy%22%3A%20%5B%5D%2C%20%22sort%22%3A%20%5B%5D%2C%20%22pageSize%22%3A%2010%2C%20%22page%22%3A%200%7D%7D%7D%7D%2C%20%7B%22name%22%3A%20%22Style%20Image%28s%29%22%2C%20%22content%22%3A%20%7B%22panelInputExpr%22%3A%20%7B%22nodeType%22%3A%20%22output%22%2C%20%22type%22%3A%20%7B%22type%22%3A%20%22list%22%2C%20%22objectType%22%3A%20%7B%22type%22%3A%20%22pil-image%22%2C%20%22width%22%3A%20700%2C%20%22height%22%3A%20225%2C%20%22mode%22%3A%20%22RGBA%22%7D%7D%2C%20%22fromOp%22%3A%20%7B%22name%22%3A%20%22get%22%2C%20%22inputs%22%3A%20%7B%22uri%22%3A%20%7B%22nodeType%22%3A%20%22const%22%2C%20%22type%22%3A%20%7B%22type%22%3A%20%22const%22%2C%20%22valType%22%3A%20%22string%22%2C%20%22val%22%3A%20%22local-artifact%3A///tmp/local-artifacts/list/e8c4fd3f714ce86f34a0b73af938e848%22%7D%2C%20%22val%22%3A%20%22local-artifact%3A///tmp/local-artifacts/list/e8c4fd3f714ce86f34a0b73af938e848%22%7D%7D%7D%7D%2C%20%22panelId%22%3A%20%22table%22%2C%20%22panelConfig%22%3A%20%7B%22tableState%22%3A%20%7B%22autoColumns%22%3A%20false%2C%20%22columns%22%3A%20%7B%7D%2C%20%22preFilterFunction%22%3A%20%7B%22nodeType%22%3A%20%22void%22%2C%20%22type%22%3A%20%22invalid%22%7D%2C%20%22columnNames%22%3A%20%7B%7D%2C%20%22columnSelectFunctions%22%3A%20%7B%7D%2C%20%22order%22%3A%20%5B%5D%2C%20%22groupBy%22%3A%20%5B%5D%2C%20%22sort%22%3A%20%5B%5D%2C%20%22pageSize%22%3A%2010%2C%20%22page%22%3A%200%7D%7D%7D%7D%2C%20%7B%22name%22%3A%20%22Sample%20Result%22%2C%20%22content%22%3A%20%7B%22panelInputExpr%22%3A%20%7B%22nodeType%22%3A%20%22output%22%2C%20%22type%22%3A%20%7B%22type%22%3A%20%22list%22%2C%20%22objectType%22%3A%20%7B%22type%22%3A%20%22pil-image%22%2C%20%22width%22%3A%20256%2C%20%22height%22%3A%20256%2C%20%22mode%22%3A%20%22RGB%22%7D%7D%2C%20%22fromOp%22%3A%20%7B%22name%22%3A%20%22get%22%2C%20%22inputs%22%3A%20%7B%22uri%22%3A%20%7B%22nodeType%22%3A%20%22const%22%2C%20%22type%22%3A%20%7B%22type%22%3A%20%22const%22%2C%20%22valType%22%3A%20%22string%22%2C%20%22val%22%3A%20%22local-artifact%3A///tmp/local-artifacts/list/63c58944662bcacfa7e753a89d6850eb%22%7D%2C%20%22val%22%3A%20%22local-artifact%3A///tmp/local-artifacts/list/63c58944662bcacfa7e753a89d6850eb%22%7D%7D%7D%7D%2C%20%22panelId%22%3A%20%22table%22%2C%20%22panelConfig%22%3A%20%7B%22tableState%22%3A%20%7B%22autoColumns%22%3A%20false%2C%20%22columns%22%3A%20%7B%7D%2C%20%22preFilterFunction%22%3A%20%7B%22nodeType%22%3A%20%22void%22%2C%20%22type%22%3A%20%22invalid%22%7D%2C%20%22columnNames%22%3A%20%7B%7D%2C%20%22columnSelectFunctions%22%3A%20%7B%7D%2C%20%22order%22%3A%20%5B%5D%2C%20%22groupBy%22%3A%20%5B%5D%2C%20%22sort%22%3A%20%5B%5D%2C%20%22pageSize%22%3A%2010%2C%20%22page%22%3A%200%7D%7D%7D%7D%2C%20%7B%22name%22%3A%20%22Reference%22%2C%20%22content%22%3A%20%7B%22panelInputExpr%22%3A%20%7B%22nodeType%22%3A%20%22void%22%2C%20%22type%22%3A%20%22invalid%22%7D%2C%20%22panelId%22%3A%20%22group%22%2C%20%22panelConfig%22%3A%20%7B%22items%22%3A%20%5B%7B%22panelInputExpr%22%3A%20%7B%22nodeType%22%3A%20%22void%22%2C%20%22type%22%3A%20%22invalid%22%7D%2C%20%22panelId%22%3A%20%22labeled-item%22%2C%20%22panelConfig%22%3A%20%7B%22label%22%3A%20%22Github%20Repository%22%2C%20%22item%22%3A%20%7B%22nodeType%22%3A%20%22const%22%2C%20%22type%22%3A%20%22string%22%2C%20%22val%22%3A%20%22https%3A//github.com/giddyyupp/ganilla%22%7D%7D%7D%2C%20%7B%22panelInputExpr%22%3A%20%7B%22nodeType%22%3A%20%22void%22%2C%20%22type%22%3A%20%22invalid%22%7D%2C%20%22panelId%22%3A%20%22labeled-item%22%2C%20%22panelConfig%22%3A%20%7B%22label%22%3A%20%22Arxiv%20Link%22%2C%20%22item%22%3A%20%7B%22nodeType%22%3A%20%22const%22%2C%20%22type%22%3A%20%22string%22%2C%20%22val%22%3A%20%22https%3A//arxiv.org/abs/2002.05638%22%7D%7D%7D%2C%20%7B%22panelInputExpr%22%3A%20%7B%22nodeType%22%3A%20%22void%22%2C%20%22type%22%3A%20%22invalid%22%7D%2C%20%22panelId%22%3A%20%22labeled-item%22%2C%20%22panelConfig%22%3A%20%7B%22label%22%3A%20%22Sample%20W%26B%20Report%22%2C%20%22item%22%3A%20%7B%22nodeType%22%3A%20%22const%22%2C%20%22type%22%3A%20%22string%22%2C%20%22val%22%3A%20%22https%3A//wandb.ai/stacey/ganilla/reports/GANILLA--Vmlldzo2NTQ1NA%22%7D%7D%7D%5D%2C%20%22preferHorizontal%22%3A%20null%7D%7D%7D%2C%20%7B%22name%22%3A%20%22Full%20Example%22%2C%20%22content%22%3A%20%7B%22panelInputExpr%22%3A%20%7B%22nodeType%22%3A%20%22void%22%2C%20%22type%22%3A%20%22invalid%22%7D%2C%20%22panelId%22%3A%20%22group%22%2C%20%22panelConfig%22%3A%20%7B%22items%22%3A%20%5B%7B%22panelInputExpr%22%3A%20%7B%22nodeType%22%3A%20%22void%22%2C%20%22type%22%3A%20%22invalid%22%7D%2C%20%22panelId%22%3A%20%22group%22%2C%20%22panelConfig%22%3A%20%7B%22items%22%3A%20%5B%7B%22panelInputExpr%22%3A%20%7B%22nodeType%22%3A%20%22output%22%2C%20%22type%22%3A%20%7B%22type%22%3A%20%22list%22%2C%20%22objectType%22%3A%20%7B%22type%22%3A%20%22pil-image%22%2C%20%22width%22%3A%20512%2C%20%22height%22%3A%20512%2C%20%22mode%22%3A%20%22RGB%22%7D%7D%2C%20%22fromOp%22%3A%20%7B%22name%22%3A%20%22get%22%2C%20%22inputs%22%3A%20%7B%22uri%22%3A%20%7B%22nodeType%22%3A%20%22const%22%2C%20%22type%22%3A%20%7B%22type%22%3A%20%22const%22%2C%20%22valType%22%3A%20%22string%22%2C%20%22val%22%3A%20%22local-artifact%3A///tmp/local-artifacts/list/259b4c4eda052543f9ca07dbf83f60de%22%7D%2C%20%22val%22%3A%20%22local-artifact%3A///tmp/local-artifacts/list/259b4c4eda052543f9ca07dbf83f60de%22%7D%7D%7D%7D%2C%20%22panelId%22%3A%20%22table%22%2C%20%22panelConfig%22%3A%20%7B%22tableState%22%3A%20%7B%22autoColumns%22%3A%20false%2C%20%22columns%22%3A%20%7B%7D%2C%20%22preFilterFunction%22%3A%20%7B%22nodeType%22%3A%20%22void%22%2C%20%22type%22%3A%20%22invalid%22%7D%2C%20%22columnNames%22%3A%20%7B%7D%2C%20%22columnSelectFunctions%22%3A%20%7B%7D%2C%20%22order%22%3A%20%5B%5D%2C%20%22groupBy%22%3A%20%5B%5D%2C%20%22sort%22%3A%20%5B%5D%2C%20%22pageSize%22%3A%2010%2C%20%22page%22%3A%200%7D%7D%7D%2C%20%7B%22panelInputExpr%22%3A%20%7B%22nodeType%22%3A%20%22output%22%2C%20%22type%22%3A%20%7B%22type%22%3A%20%22list%22%2C%20%22objectType%22%3A%20%7B%22type%22%3A%20%22pil-image%22%2C%20%22width%22%3A%20724%2C%20%22height%22%3A%20674%2C%20%22mode%22%3A%20%22RGBA%22%7D%7D%2C%20%22fromOp%22%3A%20%7B%22name%22%3A%20%22get%22%2C%20%22inputs%22%3A%20%7B%22uri%22%3A%20%7B%22nodeType%22%3A%20%22const%22%2C%20%22type%22%3A%20%7B%22type%22%3A%20%22const%22%2C%20%22valType%22%3A%20%22string%22%2C%20%22val%22%3A%20%22local-artifact%3A///tmp/local-artifacts/list/a933091345b0c4119ca6ad7ef749ea6a%22%7D%2C%20%22val%22%3A%20%22local-artifact%3A///tmp/local-artifacts/list/a933091345b0c4119ca6ad7ef749ea6a%22%7D%7D%7D%7D%2C%20%22panelId%22%3A%20%22table%22%2C%20%22panelConfig%22%3A%20%7B%22tableState%22%3A%20%7B%22autoColumns%22%3A%20false%2C%20%22columns%22%3A%20%7B%7D%2C%20%22preFilterFunction%22%3A%20%7B%22nodeType%22%3A%20%22void%22%2C%20%22type%22%3A%20%22invalid%22%7D%2C%20%22columnNames%22%3A%20%7B%7D%2C%20%22columnSelectFunctions%22%3A%20%7B%7D%2C%20%22order%22%3A%20%5B%5D%2C%20%22groupBy%22%3A%20%5B%5D%2C%20%22sort%22%3A%20%5B%5D%2C%20%22pageSize%22%3A%2010%2C%20%22page%22%3A%200%7D%7D%7D%5D%2C%20%22preferHorizontal%22%3A%20null%7D%7D%2C%20%7B%22panelInputExpr%22%3A%20%7B%22nodeType%22%3A%20%22void%22%2C%20%22type%22%3A%20%22invalid%22%7D%2C%20%22panelId%22%3A%20%22labeled-item%22%2C%20%22panelConfig%22%3A%20%7B%22label%22%3A%20%22Application%22%2C%20%22item%22%3A%20%7B%22nodeType%22%3A%20%22const%22%2C%20%22type%22%3A%20%22string%22%2C%20%22val%22%3A%20%22translate%20content%20from%20one%20image%20into%20the%20style%20of%20an%20illustrator%20using%20a%20pretrained%20network%22%7D%7D%7D%5D%2C%20%22preferHorizontal%22%3A%20null%7D%7D%7D%5D%7D\"\n",
       "            frameborder=\"0\"\n",
       "            allowfullscreen\n",
       "            \n",
       "        ></iframe>\n",
       "        "
      ],
      "text/plain": [
       "<IPython.lib.display.IFrame at 0x149f41c40>"
      ]
     },
     "metadata": {},
     "output_type": "display_data"
    }
   ],
   "source": [
    "model_card = ModelCard(\n",
    "    model_name='GANILLA',\n",
    "    created_by=User(name='giddyyupp'),\n",
    "    updated_at='July 20, 2020',  # TODO: timestamp\n",
    "    model_type='ganilla',\n",
    "    primary_metric=TargetMetric(name='Style&ContentCNN', direction='up'),\n",
    "    application=\"translate content from one image into the style of an illustrator using a pretrained network\",\n",
    "    example=\"TBD\",\n",
    "    github_url=\"https://github.com/giddyyupp/ganilla\",\n",
    "    arxiv_url=\"https://arxiv.org/abs/2002.05638\",\n",
    "    sample_report=\"https://wandb.ai/stacey/ganilla/reports/GANILLA--Vmlldzo2NTQ1NA\",\n",
    "    limitations=\"Each GANILLA model variant is finetuned on one illustrator or artist. The number, quality, and diversity of representative artist images avaialble for pretraining will affect the result quality. Model is best suited for natural images like photos of landscapes or faces and may not perform as well on other image types\",\n",
    "    use=\"!python ganilla/test.py --dataroot sample_images/dog --from_artifact ganilla_KP_pretrained:v0 --model test --log_all --gpu_ids -1\",\n",
    "    img_list=\"\",\n",
    "    content_images=gl_src,\n",
    "    result_images=gl_dst,\n",
    "    style_images=art_images\n",
    ")\n",
    "\n",
    "# Render it using the model_card_panel!\n",
    "model_card_panel(model_card)"
   ]
  },
  {
   "cell_type": "markdown",
   "id": "9d233662",
   "metadata": {},
   "source": [
    "## Run GANILLA inference"
   ]
  },
  {
   "cell_type": "code",
   "execution_count": 20,
   "id": "aeb5bfd3",
   "metadata": {
    "scrolled": true
   },
   "outputs": [
    {
     "name": "stdout",
     "output_type": "stream",
     "text": [
      "Cloning into 'ganilla'...\n",
      "remote: Enumerating objects: 328, done.\u001b[K\n",
      "remote: Counting objects: 100% (34/34), done.\u001b[K\n",
      "remote: Compressing objects: 100% (30/30), done.\u001b[K\n",
      "remote: Total 328 (delta 10), reused 16 (delta 4), pack-reused 294\u001b[K\n",
      "Receiving objects: 100% (328/328), 12.22 MiB | 28.05 MiB/s, done.\n",
      "Resolving deltas: 100% (145/145), done.\n"
     ]
    }
   ],
   "source": [
    "!git clone https://github.com/staceysv/ganilla.git -b test_version"
   ]
  },
  {
   "cell_type": "code",
   "execution_count": 53,
   "id": "f3029d42",
   "metadata": {},
   "outputs": [
    {
     "name": "stdout",
     "output_type": "stream",
     "text": [
      "----------------- Options ---------------\n",
      "             aspect_ratio: 1.0                           \n",
      "               batch_size: 1                             \n",
      "          checkpoints_dir: ./checkpoints/                \n",
      "         cityscape_fnames: ./datasets/cityscapes_test_file_names.txt\n",
      "               cityscapes: False                         \n",
      "                 dataroot: sample_images/dog             \t[default: ./datasets/photo2axel]\n",
      "             dataset_mode: single                        \n",
      "                direction: AtoB                          \n",
      "          display_winsize: 256                           \n",
      "                    epoch: 100                           \n",
      "                     eval: False                         \n",
      "                 fineSize: 256                           \n",
      "              fpn_weights: [1.0, 1.0, 1.0, 1.0]          \n",
      "            from_artifact: ganilla_DM_pretrained:v0      \t[default: ]\n",
      "                  gpu_ids: -1                            \t[default: 0]\n",
      "                init_gain: 0.02                          \n",
      "                init_type: normal                        \n",
      "                 input_nc: 3                             \n",
      "                  isTrain: False                         \t[default: None]\n",
      "                 loadSize: 256                           \n",
      "                  log_all: True                          \t[default: False]\n",
      "         max_dataset_size: inf                           \n",
      "                    model: test                          \n",
      "             model_suffix:                               \n",
      "               n_layers_D: 3                             \n",
      "                     name: photo2axel_ganilla            \n",
      "                      ndf: 64                            \n",
      "                     netD: basic                         \n",
      "                     netG: resnet_fpn                    \n",
      "                      ngf: 64                            \n",
      "               no_dropout: True                          \n",
      "                  no_flip: False                         \n",
      "                     norm: instance                      \n",
      "                    ntest: inf                           \n",
      "                 num_test: 751                           \n",
      "              num_threads: 8                             \n",
      "                output_nc: 3                             \n",
      "                    phase: test                          \n",
      "           resize_or_crop: resize_and_crop               \n",
      "              results_dir: ./results/                    \n",
      "                 run_name: DM_all_dogs                   \t[default: ]\n",
      "           serial_batches: False                         \n",
      "                   suffix:                               \n",
      "                  verbose: False                         \n",
      "----------------- End -------------------\n",
      "\u001b[34m\u001b[1mwandb\u001b[0m: Currently logged in as: \u001b[33mstacey\u001b[0m. Use \u001b[1m`wandb login --relogin`\u001b[0m to force relogin\n",
      "\u001b[34m\u001b[1mwandb\u001b[0m: Tracking run with wandb version 0.12.19.dev1\n",
      "\u001b[34m\u001b[1mwandb\u001b[0m: Run data is saved locally in \u001b[35m\u001b[1m/Users/stacey/Code/weave/weave-internal/examples/wandb/run-20220610_152351-1zx1ojj2\u001b[0m\n",
      "\u001b[34m\u001b[1mwandb\u001b[0m: Run \u001b[1m`wandb offline`\u001b[0m to turn off syncing.\n",
      "\u001b[34m\u001b[1mwandb\u001b[0m: Syncing run \u001b[33mDM_all_dogs\u001b[0m\n",
      "\u001b[34m\u001b[1mwandb\u001b[0m: ⭐️ View project at \u001b[34m\u001b[4mhttps://wandb.ai/stacey/ganimals\u001b[0m\n",
      "\u001b[34m\u001b[1mwandb\u001b[0m: 🚀 View run at \u001b[34m\u001b[4mhttps://wandb.ai/stacey/ganimals/runs/1zx1ojj2\u001b[0m\n",
      "/Users/stacey/.pyenv/versions/wint/lib/python3.9/site-packages/torchvision/transforms/transforms.py:332: UserWarning: Argument interpolation should be of type InterpolationMode instead of int. Please, use InterpolationMode enum.\n",
      "  warnings.warn(\n",
      "dataset [SingleImageDataset] was created\n",
      "initialize network with normal\n",
      "model [TestModel] was created\n",
      "loading the artifact from ./artifacts/ganilla_DM_pretrained:v0/net_G.pth\n",
      "---------- Networks initialized -------------\n",
      "[Network G] Total number of parameters : 7.228 M\n",
      "-----------------------------------------------\n",
      "torch.Size([1, 3, 256, 256])\n",
      "processing (0000)-th image... ['sample_images/dog/ar_dog.jpg']\n",
      "torch.Size([1, 3, 256, 256])\n",
      "torch.Size([1, 3, 256, 256])\n",
      "torch.Size([1, 3, 256, 256])\n",
      "torch.Size([1, 3, 256, 256])\n",
      "torch.Size([1, 3, 256, 256])\n",
      "processing (0005)-th image... ['sample_images/dog/nb_dog.jpg']\n",
      "torch.Size([1, 3, 256, 256])\n",
      "torch.Size([1, 3, 256, 256])\n",
      "torch.Size([1, 3, 256, 256])\n",
      "\u001b[34m\u001b[1mwandb\u001b[0m: Waiting for W&B process to finish... \u001b[32m(success).\u001b[0m\n",
      "\u001b[34m\u001b[1mwandb\u001b[0m:                                                                                \n",
      "\u001b[34m\u001b[1mwandb\u001b[0m: Synced \u001b[33mDM_all_dogs\u001b[0m: \u001b[34m\u001b[4mhttps://wandb.ai/stacey/ganimals/runs/1zx1ojj2\u001b[0m\n",
      "\u001b[34m\u001b[1mwandb\u001b[0m: Synced 6 W&B file(s), 1 media file(s), 19 artifact file(s) and 2 other file(s)\n",
      "\u001b[34m\u001b[1mwandb\u001b[0m: Find logs at: \u001b[35m\u001b[1m./wandb/run-20220610_152351-1zx1ojj2/logs\u001b[0m\n"
     ]
    }
   ],
   "source": [
    "!python ganilla/test.py --dataroot sample_images/dog \\\n",
    "                        --from_artifact ganilla_DM_pretrained:v0  \\\n",
    "                        --model test --log_all --gpu_ids -1 --run_name DM_all_dogs"
   ]
  },
  {
   "cell_type": "markdown",
   "id": "c399e676",
   "metadata": {},
   "source": [
    "# StarGAN inference"
   ]
  },
  {
   "cell_type": "code",
   "execution_count": 44,
   "id": "46f09290",
   "metadata": {},
   "outputs": [],
   "source": [
    "# ok now we have a new image\n",
    "src_img = \"romeo.jpg\"\n",
    "dst_img = \"minyoung.jpg\"#\"cleo.jpg\"\n",
    "\n",
    "src = \"../sample_images/dog/\" + src_img\n",
    "dst = \"../sample_images/cat/\" + dst_img"
   ]
  },
  {
   "cell_type": "code",
   "execution_count": 50,
   "id": "c11354c7",
   "metadata": {},
   "outputs": [],
   "source": [
    "os.chdir(\"..\")"
   ]
  },
  {
   "cell_type": "code",
   "execution_count": 46,
   "id": "671ce38e",
   "metadata": {},
   "outputs": [],
   "source": [
    "os.chdir(\"stargan-v2\")"
   ]
  },
  {
   "cell_type": "code",
   "execution_count": 51,
   "id": "c736282d",
   "metadata": {},
   "outputs": [
    {
     "data": {
      "text/plain": [
       "'/Users/stacey/Code/weave/weave-internal/examples'"
      ]
     },
     "execution_count": 51,
     "metadata": {},
     "output_type": "execute_result"
    }
   ],
   "source": [
    "os.getcwd()"
   ]
  },
  {
   "cell_type": "code",
   "execution_count": 47,
   "id": "dfe941ae",
   "metadata": {},
   "outputs": [],
   "source": [
    "args = type('', (), {})()\n",
    "\n",
    "args.img_size=256\n",
    "args.num_domains=3\n",
    "args.latent_dim=16\n",
    "args.hidden_dim=512\n",
    "args.style_dim=64\n",
    "args.lambda_reg=1\n",
    "args.lambda_cyc=1\n",
    "args.lambda_sty=1\n",
    "args.lambda_ds=1\n",
    "args.ds_iter=100000\n",
    "args.w_hpf=0\n",
    "args.randcrop_prob=0.5\n",
    "args.total_iters=100000\n",
    "args.resume_iter=100000\n",
    "args.batch_size=4\n",
    "args.val_batch_size=32\n",
    "args.lr=0.0001\n",
    "args.f_lr=1e-06\n",
    "args.beta1=0.0\n",
    "args.beta2=0.99\n",
    "args.weight_decay=0.0001\n",
    "args.num_outs_per_domain=10\n",
    "args.mode='gen_one'\n",
    "args.num_workers=4\n",
    "args.seed=777\n",
    "args.train_img_dir='data/celeba_hq/train'\n",
    "args.val_img_dir='data/celeba_hq/val'\n",
    "args.sample_dir='expr/samples'\n",
    "args.checkpoint_dir='expr/checkpoints/afhq'\n",
    "args.eval_dir='expr/eval'\n",
    "args.result_dir='expr/results'\n",
    "args.src_dir='assets/representative/celeba_hq/src'\n",
    "args.ref_dir='assets/representative/celeba_hq/ref'\n",
    "args.inp_dir='assets/representative/custom/female'\n",
    "args.out_dir='assets/representative/celeba_hq/src/female'\n",
    "args.wing_path='stargan-v2/expr/checkpoints/wing.ckpt'\n",
    "args.lm_path='expr/checkpoints/celeba_lm_mean.npz'\n",
    "args.print_every=10\n",
    "args.sample_every=2000\n",
    "args.save_every=5000\n",
    "args.eval_every=10000\n",
    "args.model_name='random_test'\n",
    "args.custom_src=src #'../wbpets/simba.jpg'\n",
    "args.custom_ref=dst #'../wbpets/cleo.jpg'\n",
    "args.custom_out_img='starganv2_cross.jpg'\n",
    "args.extend_domain=1"
   ]
  },
  {
   "cell_type": "code",
   "execution_count": 8,
   "id": "cdaaf5cb",
   "metadata": {},
   "outputs": [],
   "source": [
    "%load_ext autoreload\n",
    "%autoreload 2"
   ]
  },
  {
   "cell_type": "code",
   "execution_count": 48,
   "id": "601cdfd9",
   "metadata": {
    "scrolled": false
   },
   "outputs": [
    {
     "name": "stdout",
     "output_type": "stream",
     "text": [
      "we are here running inference\n",
      "Number of parameters of generator: 33892995\n",
      "Number of parameters of mapping_network: 3259072\n",
      "Number of parameters of style_encoder: 20949760\n",
      "Number of parameters of discriminator: 20852803\n",
      "Initializing generator...\n",
      "Initializing mapping_network...\n",
      "Initializing style_encoder...\n",
      "Initializing discriminator...\n",
      "generating one image\n"
     ]
    },
    {
     "data": {
      "text/html": [
       "Tracking run with wandb version 0.12.19.dev1"
      ],
      "text/plain": [
       "<IPython.core.display.HTML object>"
      ]
     },
     "metadata": {},
     "output_type": "display_data"
    },
    {
     "data": {
      "text/html": [
       "Run data is saved locally in <code>/Users/stacey/Code/weave/weave-internal/examples/stargan-v2/wandb/run-20220610_151623-2uydiifx</code>"
      ],
      "text/plain": [
       "<IPython.core.display.HTML object>"
      ]
     },
     "metadata": {},
     "output_type": "display_data"
    },
    {
     "data": {
      "text/html": [
       "Syncing run <strong><a href=\"https://wandb.ai/stacey/ganimals/runs/2uydiifx\" target=\"_blank\">romeo_minyoung</a></strong> to <a href=\"https://wandb.ai/stacey/ganimals\" target=\"_blank\">Weights & Biases</a> (<a href=\"https://wandb.me/run\" target=\"_blank\">docs</a>)<br/>"
      ],
      "text/plain": [
       "<IPython.core.display.HTML object>"
      ]
     },
     "metadata": {},
     "output_type": "display_data"
    },
    {
     "name": "stdout",
     "output_type": "stream",
     "text": [
      "Preparing DataLoader for the generation phase...\n",
      "Preparing DataLoader for the generation phase...\n",
      "Loading checkpoint from expr/checkpoints/afhq/100000_nets_ema.ckpt...\n",
      "Working on starganv2_cross.jpg...\n"
     ]
    }
   ],
   "source": [
    "import inference\n",
    "inference.run_inference(args)"
   ]
  },
  {
   "cell_type": "code",
   "execution_count": 49,
   "id": "2c776456",
   "metadata": {},
   "outputs": [
    {
     "data": {
      "text/html": [
       "Waiting for W&B process to finish... <strong style=\"color:green\">(success).</strong>"
      ],
      "text/plain": [
       "<IPython.core.display.HTML object>"
      ]
     },
     "metadata": {},
     "output_type": "display_data"
    },
    {
     "data": {
      "text/html": [
       "Synced <strong style=\"color:#cdcd00\">romeo_minyoung</strong>: <a href=\"https://wandb.ai/stacey/ganimals/runs/2uydiifx\" target=\"_blank\">https://wandb.ai/stacey/ganimals/runs/2uydiifx</a><br/>Synced 6 W&B file(s), 1 media file(s), 0 artifact file(s) and 1 other file(s)"
      ],
      "text/plain": [
       "<IPython.core.display.HTML object>"
      ]
     },
     "metadata": {},
     "output_type": "display_data"
    },
    {
     "data": {
      "text/html": [
       "Find logs at: <code>./wandb/run-20220610_151623-2uydiifx/logs</code>"
      ],
      "text/plain": [
       "<IPython.core.display.HTML object>"
      ]
     },
     "metadata": {},
     "output_type": "display_data"
    }
   ],
   "source": [
    "wandb.run.finish()"
   ]
  },
  {
   "cell_type": "code",
   "execution_count": 249,
   "id": "10b6e5ab",
   "metadata": {},
   "outputs": [
    {
     "ename": "SyntaxError",
     "evalue": "invalid syntax (203404998.py, line 1)",
     "output_type": "error",
     "traceback": [
      "\u001b[0;36m  Input \u001b[0;32mIn [249]\u001b[0;36m\u001b[0m\n\u001b[0;31m    import stargan-v2.upload_wb as upw\u001b[0m\n\u001b[0m                  ^\u001b[0m\n\u001b[0;31mSyntaxError\u001b[0m\u001b[0;31m:\u001b[0m invalid syntax\n"
     ]
    }
   ],
   "source": [
    "import stargan-v2.upload_wb as upw\n",
    "\n",
    "PATH = \"sample_results\"\n",
    "IMG = \"reference.jpg\"\n",
    "\n",
    "def gen_one(src, dst):\n",
    "  src_name = src.split(\".\")[0]\n",
    "  dst_name = dst.split(\".\")[0]\n",
    "  run_name = src_name + \"_\" + dst_name\n",
    "  config = {\n",
    "    \"source\" : src_name,\n",
    "    \"dest\" : dst_name,\n",
    "    \"content_domain\" : \"cat\",\n",
    "    \"style_domain\" : \"dog\"\n",
    "  }\n",
    "  wandb.init(project=\"ganimals\", entity=\"stacey\", name=run_name, config=config, job_type=\"live_sample\")\n",
    "  wandb.log({\"sample_result\" : wandb.Image(os.path.join(PATH, IMG))})\n",
    "\n"
   ]
  },
  {
   "cell_type": "code",
   "execution_count": 270,
   "id": "5a18294f",
   "metadata": {},
   "outputs": [
    {
     "data": {
      "text/html": [
       "Finishing last run (ID:1kwjnufa) before initializing another..."
      ],
      "text/plain": [
       "<IPython.core.display.HTML object>"
      ]
     },
     "metadata": {},
     "output_type": "display_data"
    },
    {
     "data": {
      "text/html": [
       "Waiting for W&B process to finish... <strong style=\"color:green\">(success).</strong>"
      ],
      "text/plain": [
       "<IPython.core.display.HTML object>"
      ]
     },
     "metadata": {},
     "output_type": "display_data"
    },
    {
     "data": {
      "text/html": [
       "Synced <strong style=\"color:#cdcd00\">simba_cleo</strong>: <a href=\"https://wandb.ai/stacey/ganimals/runs/1kwjnufa\" target=\"_blank\">https://wandb.ai/stacey/ganimals/runs/1kwjnufa</a><br/>Synced 5 W&B file(s), 0 media file(s), 0 artifact file(s) and 2 other file(s)"
      ],
      "text/plain": [
       "<IPython.core.display.HTML object>"
      ]
     },
     "metadata": {},
     "output_type": "display_data"
    },
    {
     "data": {
      "text/html": [
       "Find logs at: <code>./wandb/run-20220610_124135-1kwjnufa/logs</code>"
      ],
      "text/plain": [
       "<IPython.core.display.HTML object>"
      ]
     },
     "metadata": {},
     "output_type": "display_data"
    },
    {
     "data": {
      "text/html": [
       "Successfully finished last run (ID:1kwjnufa). Initializing new run:<br/>"
      ],
      "text/plain": [
       "<IPython.core.display.HTML object>"
      ]
     },
     "metadata": {},
     "output_type": "display_data"
    },
    {
     "data": {
      "text/html": [
       "Tracking run with wandb version 0.12.19.dev1"
      ],
      "text/plain": [
       "<IPython.core.display.HTML object>"
      ]
     },
     "metadata": {},
     "output_type": "display_data"
    },
    {
     "data": {
      "text/html": [
       "Run data is saved locally in <code>/Users/stacey/Code/weave/weave-internal/examples/wandb/run-20220610_124314-2sn2685o</code>"
      ],
      "text/plain": [
       "<IPython.core.display.HTML object>"
      ]
     },
     "metadata": {},
     "output_type": "display_data"
    },
    {
     "data": {
      "text/html": [
       "Syncing run <strong><a href=\"https://wandb.ai/stacey/ganimals/runs/2sn2685o\" target=\"_blank\">simba_cleo</a></strong> to <a href=\"https://wandb.ai/stacey/ganimals\" target=\"_blank\">Weights & Biases</a> (<a href=\"https://wandb.me/run\" target=\"_blank\">docs</a>)<br/>"
      ],
      "text/plain": [
       "<IPython.core.display.HTML object>"
      ]
     },
     "metadata": {},
     "output_type": "display_data"
    },
    {
     "name": "stdout",
     "output_type": "stream",
     "text": [
      "Unexpected exception formatting exception. Falling back to standard exception\n"
     ]
    },
    {
     "name": "stderr",
     "output_type": "stream",
     "text": [
      "Traceback (most recent call last):\n",
      "  File \"/Users/stacey/.pyenv/versions/3.9.7/envs/wint/lib/python3.9/site-packages/IPython/core/interactiveshell.py\", line 3398, in run_code\n",
      "    exec(code_obj, self.user_global_ns, self.user_ns)\n",
      "  File \"/var/folders/f8/_ft9b8m53lxdyq_2w7bs29p40000gn/T/ipykernel_89503/3225477290.py\", line 1, in <cell line: 1>\n",
      "    gen_one(src_img, dst_img)\n",
      "  File \"/Users/stacey/Code/weave/weave-internal/examples/stargan/upload_wb.py\", line 33, in gen_one\n",
      "    wandb.log({\"sample_result\" : wandb.Image(os.path.join(PATH, IMG))})\n",
      "  File \"/Users/stacey/.pyenv/versions/3.9.7/envs/wint/lib/python3.9/site-packages/wandb/sdk/data_types/image.py\", line 143, in __init__\n",
      "    self._initialize_from_path(data_or_path)\n",
      "  File \"/Users/stacey/.pyenv/versions/3.9.7/envs/wint/lib/python3.9/site-packages/wandb/sdk/data_types/image.py\", line 237, in _initialize_from_path\n",
      "    self._set_file(path, is_tmp=False)\n",
      "  File \"/Users/stacey/.pyenv/versions/3.9.7/envs/wint/lib/python3.9/site-packages/wandb/sdk/data_types/base_types/media.py\", line 65, in _set_file\n",
      "    with open(self._path, \"rb\") as f:\n",
      "FileNotFoundError: [Errno 2] No such file or directory: 'expr/results/chica_crop_flip/reference.jpg'\n",
      "\n",
      "During handling of the above exception, another exception occurred:\n",
      "\n",
      "Traceback (most recent call last):\n",
      "  File \"/Users/stacey/.pyenv/versions/3.9.7/envs/wint/lib/python3.9/site-packages/IPython/core/interactiveshell.py\", line 1993, in showtraceback\n",
      "    stb = self.InteractiveTB.structured_traceback(\n",
      "  File \"/Users/stacey/.pyenv/versions/3.9.7/envs/wint/lib/python3.9/site-packages/IPython/core/ultratb.py\", line 1118, in structured_traceback\n",
      "    return FormattedTB.structured_traceback(\n",
      "  File \"/Users/stacey/.pyenv/versions/3.9.7/envs/wint/lib/python3.9/site-packages/IPython/core/ultratb.py\", line 1012, in structured_traceback\n",
      "    return VerboseTB.structured_traceback(\n",
      "  File \"/Users/stacey/.pyenv/versions/3.9.7/envs/wint/lib/python3.9/site-packages/IPython/core/ultratb.py\", line 865, in structured_traceback\n",
      "    formatted_exception = self.format_exception_as_a_whole(etype, evalue, etb, number_of_lines_of_context,\n",
      "  File \"/Users/stacey/.pyenv/versions/3.9.7/envs/wint/lib/python3.9/site-packages/IPython/core/ultratb.py\", line 818, in format_exception_as_a_whole\n",
      "    frames.append(self.format_record(r))\n",
      "  File \"/Users/stacey/.pyenv/versions/3.9.7/envs/wint/lib/python3.9/site-packages/IPython/core/ultratb.py\", line 736, in format_record\n",
      "    result += ''.join(_format_traceback_lines(frame_info.lines, Colors, self.has_colors, lvals))\n",
      "  File \"/Users/stacey/.pyenv/versions/3.9.7/envs/wint/lib/python3.9/site-packages/stack_data/utils.py\", line 145, in cached_property_wrapper\n",
      "    value = obj.__dict__[self.func.__name__] = self.func(obj)\n",
      "  File \"/Users/stacey/.pyenv/versions/3.9.7/envs/wint/lib/python3.9/site-packages/stack_data/core.py\", line 698, in lines\n",
      "    pieces = self.included_pieces\n",
      "  File \"/Users/stacey/.pyenv/versions/3.9.7/envs/wint/lib/python3.9/site-packages/stack_data/utils.py\", line 145, in cached_property_wrapper\n",
      "    value = obj.__dict__[self.func.__name__] = self.func(obj)\n",
      "  File \"/Users/stacey/.pyenv/versions/3.9.7/envs/wint/lib/python3.9/site-packages/stack_data/core.py\", line 649, in included_pieces\n",
      "    pos = scope_pieces.index(self.executing_piece)\n",
      "  File \"/Users/stacey/.pyenv/versions/3.9.7/envs/wint/lib/python3.9/site-packages/stack_data/utils.py\", line 145, in cached_property_wrapper\n",
      "    value = obj.__dict__[self.func.__name__] = self.func(obj)\n",
      "  File \"/Users/stacey/.pyenv/versions/3.9.7/envs/wint/lib/python3.9/site-packages/stack_data/core.py\", line 628, in executing_piece\n",
      "    return only(\n",
      "  File \"/Users/stacey/.pyenv/versions/3.9.7/envs/wint/lib/python3.9/site-packages/executing/executing.py\", line 164, in only\n",
      "    raise NotOneValueFound('Expected one value, found 0')\n",
      "executing.executing.NotOneValueFound: Expected one value, found 0\n"
     ]
    }
   ],
   "source": [
    "gen_one(src_img, dst_img)"
   ]
  },
  {
   "cell_type": "code",
   "execution_count": 257,
   "id": "cf367d2b",
   "metadata": {},
   "outputs": [
    {
     "name": "stdout",
     "output_type": "stream",
     "text": [
      "2019.csv                        \u001b[34m__MACOSX\u001b[m\u001b[m\r\n",
      "Confusion Matrix.ipynb          \u001b[34martifacts\u001b[m\u001b[m\r\n",
      "\u001b[34mDM_pretrained\u001b[m\u001b[m                   baseline_starganv2.ckpt\r\n",
      "Dir Browsing.ipynb              \u001b[34mcheckpoints\u001b[m\u001b[m\r\n",
      "Ecometrics.ipynb                \u001b[34mganilla\u001b[m\u001b[m\r\n",
      "Image op examples.ipynb         ganimals.ipynb\r\n",
      "Images.ipynb                    ganimals_new.ipynb\r\n",
      "Layout panels.ipynb             \u001b[34mlocal-artifacts\u001b[m\u001b[m\r\n",
      "Local translation.ipynb         net_G.pth\r\n",
      "Model Cards.ipynb               \u001b[34mresults\u001b[m\u001b[m\r\n",
      "Mutation - Code Editor.ipynb    \u001b[34msample_images\u001b[m\u001b[m\r\n",
      "Mutation.ipynb                  samples.zip\r\n",
      "NFA_2021.pkl                    \u001b[34mstargan-v2\u001b[m\u001b[m\r\n",
      "Object version comparison.ipynb starganv2_cross.jpg\r\n",
      "OpenAI.ipynb                    test_hippie_corr.ipynb\r\n",
      "Plotting.ipynb                  \u001b[34mtmp_ref\u001b[m\u001b[m\r\n",
      "Simple API test.ipynb           \u001b[34mtmp_src\u001b[m\u001b[m\r\n",
      "Untitled.ipynb                  \u001b[34mwandb\u001b[m\u001b[m\r\n",
      "W&B API.ipynb                   \u001b[34mwbpets\u001b[m\u001b[m\r\n"
     ]
    }
   ],
   "source": [
    "!ls"
   ]
  },
  {
   "cell_type": "code",
   "execution_count": 280,
   "id": "f8af2a3b",
   "metadata": {},
   "outputs": [
    {
     "ename": "ImportError",
     "evalue": "cannot import name 'main' from 'stargan' (/Users/stacey/Code/weave/weave-internal/examples/stargan/__init__.py)",
     "output_type": "error",
     "traceback": [
      "\u001b[0;31m---------------------------------------------------------------------------\u001b[0m",
      "\u001b[0;31mImportError\u001b[0m                               Traceback (most recent call last)",
      "Input \u001b[0;32mIn [280]\u001b[0m, in \u001b[0;36m<cell line: 9>\u001b[0;34m()\u001b[0m\n\u001b[1;32m      7\u001b[0m \u001b[38;5;28;01mimport\u001b[39;00m \u001b[38;5;21;01mimportlib\u001b[39;00m  \n\u001b[1;32m      8\u001b[0m stargan \u001b[38;5;241m=\u001b[39m importlib\u001b[38;5;241m.\u001b[39mimport_module(\u001b[38;5;124m\"\u001b[39m\u001b[38;5;124mstargan-v2\u001b[39m\u001b[38;5;124m\"\u001b[39m)\n\u001b[0;32m----> 9\u001b[0m \u001b[38;5;28;01mfrom\u001b[39;00m \u001b[38;5;21;01mstargan\u001b[39;00m \u001b[38;5;28;01mimport\u001b[39;00m main\n",
      "\u001b[0;31mImportError\u001b[0m: cannot import name 'main' from 'stargan' (/Users/stacey/Code/weave/weave-internal/examples/stargan/__init__.py)"
     ]
    }
   ],
   "source": [
    "import os\n",
    "import sys\n",
    "module_path = os.path.abspath(os.path.join('..'))\n",
    "if module_path not in sys.path:\n",
    "    sys.path.append(module_path)\n",
    "\n",
    "import importlib  \n",
    "stargan = importlib.import_module(\"stargan-v2\")\n",
    "from stargan.main"
   ]
  },
  {
   "cell_type": "code",
   "execution_count": null,
   "id": "a73e2c0f",
   "metadata": {},
   "outputs": [],
   "source": []
  }
 ],
 "metadata": {
  "kernelspec": {
   "display_name": "Python 3 (ipykernel)",
   "language": "python",
   "name": "python3"
  },
  "language_info": {
   "codemirror_mode": {
    "name": "ipython",
    "version": 3
   },
   "file_extension": ".py",
   "mimetype": "text/x-python",
   "name": "python",
   "nbconvert_exporter": "python",
   "pygments_lexer": "ipython3",
   "version": "3.9.7"
  }
 },
 "nbformat": 4,
 "nbformat_minor": 5
}
