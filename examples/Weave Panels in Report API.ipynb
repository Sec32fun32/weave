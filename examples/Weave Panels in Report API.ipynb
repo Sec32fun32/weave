{
 "cells": [
  {
   "cell_type": "code",
   "execution_count": 1,
   "metadata": {},
   "outputs": [
    {
     "name": "stderr",
     "output_type": "stream",
     "text": [
      "\u001b[34m\u001b[1mwandb\u001b[0m: \u001b[33mWARNING\u001b[0m This is an experimental feature -- use with caution!\n"
     ]
    }
   ],
   "source": [
    "import wandb\n",
    "import wandb.apis.reports as wr\n",
    "\n",
    "wandb.require('report-editing')"
   ]
  },
  {
   "cell_type": "code",
   "execution_count": 2,
   "metadata": {},
   "outputs": [
    {
     "name": "stderr",
     "output_type": "stream",
     "text": [
      "/Users/andrewtruong/opt/miniconda3/envs/hackweave-py39/lib/python3.9/site-packages/scipy/__init__.py:146: UserWarning: A NumPy version >=1.16.5 and <1.23.0 is required for this version of SciPy (detected version 1.23.4\n",
      "  warnings.warn(f\"A NumPy version >={np_minversion} and <{np_maxversion}\"\n"
     ]
    },
    {
     "data": {
      "text/html": [
       "<iframe src=\"https://wandb.ai//megatruong/hackweave/reports/Weave-Panels-in-Report-API--VmlldzoyODg3MTk1?jupyter=true\" style=\"border:none;width:100%;height:1024px;\"></iframe>"
      ],
      "text/plain": [
       "Report(project='hackweave', entity='megatruong', title='Weave Panels in Report API', description='', width='readable', blocks=[WeavePythonBlock(), WeavePythonBlock(), WeavePythonBlock(), WeavePythonBlock()])"
      ]
     },
     "execution_count": 2,
     "metadata": {},
     "output_type": "execute_result"
    }
   ],
   "source": [
    "from weave.ecosystem import craiyon, huggingface as hf, spacy\n",
    "import weave\n",
    "        \n",
    "panels = [\n",
    "    weave.ecosystem(),\n",
    "    craiyon.generate('hello'),\n",
    "    hf.hf_datasets(),\n",
    "    spacy.spacy('the quick brown fox jumped over the lazy dog')\n",
    "]\n",
    "blocks = [wr.WeavePythonBlock(p) for p in panels]\n",
    "report = wr.Report(title='Weave Panels in Report API', project='hackweave', blocks=blocks).save()\n",
    "report"
   ]
  },
  {
   "cell_type": "code",
   "execution_count": null,
   "metadata": {},
   "outputs": [],
   "source": []
  }
 ],
 "metadata": {
  "kernelspec": {
   "display_name": "Python 3.9.12 ('hackweave-py39')",
   "language": "python",
   "name": "python3"
  },
  "language_info": {
   "codemirror_mode": {
    "name": "ipython",
    "version": 3
   },
   "file_extension": ".py",
   "mimetype": "text/x-python",
   "name": "python",
   "nbconvert_exporter": "python",
   "pygments_lexer": "ipython3",
   "version": "3.9.12"
  },
  "orig_nbformat": 4,
  "vscode": {
   "interpreter": {
    "hash": "64d4aff6c4e2e3f3f95818e7fff61aa80dc5523fe48246c47447571470cdb882"
   }
  }
 },
 "nbformat": 4,
 "nbformat_minor": 2
}
