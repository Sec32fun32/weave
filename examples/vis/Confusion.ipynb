{
 "cells": [
  {
   "cell_type": "code",
   "execution_count": null,
   "id": "8544cf72",
   "metadata": {},
   "outputs": [],
   "source": [
    "import weave"
   ]
  },
  {
   "cell_type": "code",
   "execution_count": null,
   "id": "7f5447d2",
   "metadata": {},
   "outputs": [],
   "source": [
    "preds = (weave.ops.project('stacey', \"mendeleev\")\n",
    "         .artifact_type('test_results')\n",
    "         .artifacts()[0]\n",
    "         .versions()[0]\n",
    "         .path('test_results.table.json')\n",
    "         .table()\n",
    "         .rows())\n",
    "preds"
   ]
  },
  {
   "cell_type": "code",
   "execution_count": null,
   "id": "a940dab4",
   "metadata": {},
   "outputs": [],
   "source": [
    "facet = weave.panels.Group2(\n",
    "    equalSize=True,\n",
    "    items={\n",
    "        'confusion': weave.panels.Facet(preds,\n",
    "                           x=lambda row: row['guess'],\n",
    "                           y=lambda row: row['truth'],\n",
    "                           select=lambda row: weave.panels.Group2(\n",
    "                               layered=True,\n",
    "                               items={\n",
    "                                   'color': weave.panels.Color(row.count() / 50),\n",
    "                                   'count': row.count()\n",
    "                               })),\n",
    "        'selected': lambda confusion: confusion.selected()\n",
    "    }\n",
    ")\n",
    "\n",
    "facet"
   ]
  },
  {
   "cell_type": "code",
   "execution_count": null,
   "id": "a4cdc8d3",
   "metadata": {},
   "outputs": [],
   "source": [
    "# Trying to plot the images using PanelEach.\n",
    "# Not yet working\n",
    "# from weave import weave_internal\n",
    "# weave.panels.Each(preds,\n",
    "#                   x=lambda row: weave.ops.Number.__mul__(row[\"score_Amphibia\"], 500),\n",
    "#                   y=lambda row: weave.ops.Number.__mul__(row[\"score_Animalia\"], 500),\n",
    "#                   w=lambda row: weave_internal.make_const_node(weave.types.Int(), 50),\n",
    "#                   h=lambda row: weave_internal.make_const_node(weave.types.Int(), 50),\n",
    "#                   render=lambda row: row['image']\n",
    "#                  )"
   ]
  }
 ],
 "metadata": {
  "kernelspec": {
   "display_name": "Python 3 (ipykernel)",
   "language": "python",
   "name": "python3"
  }
 },
 "nbformat": 4,
 "nbformat_minor": 5
}
