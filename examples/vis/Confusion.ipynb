{
 "cells": [
  {
   "cell_type": "code",
   "execution_count": null,
   "id": "8544cf72",
   "metadata": {
    "scrolled": true
   },
   "outputs": [],
   "source": [
    "import weave\n",
    "weave.use_frontend_devmode()"
   ]
  },
  {
   "cell_type": "code",
   "execution_count": null,
   "id": "7f5447d2",
   "metadata": {
    "scrolled": false
   },
   "outputs": [],
   "source": [
    "preds = (weave.ops.project('stacey', \"mendeleev\")\n",
    "         .artifact_type('test_results')\n",
    "         .artifacts()[0]\n",
    "         .versions()[0]\n",
    "         .path('test_results.table.json')\n",
    "         .table()\n",
    "         .rows())\n",
    "#preds"
   ]
  },
  {
   "cell_type": "code",
   "execution_count": null,
   "id": "ee72ea5f",
   "metadata": {
    "scrolled": false
   },
   "outputs": [],
   "source": [
    "facet = weave.panels.Facet(preds,\n",
    "                           x=lambda row: row['guess'],\n",
    "                           y=lambda row: row['truth'],\n",
    "                           select=lambda row: row.count())\n",
    "facet"
   ]
  },
  {
   "cell_type": "code",
   "execution_count": null,
   "id": "a940dab4",
   "metadata": {},
   "outputs": [],
   "source": [
    "facet = weave.panels.Group2(\n",
    "    equalSize=True,\n",
    "    items={\n",
    "        'confusion': weave.panels.Facet(preds,\n",
    "                           x=lambda row: row['guess'],\n",
    "                           y=lambda row: row['truth'],\n",
    "                           select=lambda row: row.count()),\n",
    "        'selected': lambda confusion: confusion.selected()\n",
    "    }\n",
    ")\n",
    "\n",
    "facet"
   ]
  },
  {
   "cell_type": "code",
   "execution_count": null,
   "id": "a4cdc8d3",
   "metadata": {},
   "outputs": [],
   "source": [
    "#weave.panels.Group2()"
   ]
  }
 ],
 "metadata": {
  "kernelspec": {
   "display_name": "Python 3.9.7 64-bit ('weave-internal')",
   "language": "python",
   "name": "python397jvsc74a57bd035cc6d7ed5d0243efa150f037c94811ea3893efa2a36adb06a1a02dcc97ab154"
  },
  "language_info": {
   "codemirror_mode": {
    "name": "ipython",
    "version": 3
   },
   "file_extension": ".py",
   "mimetype": "text/x-python",
   "name": "python",
   "nbconvert_exporter": "python",
   "pygments_lexer": "ipython3",
   "version": "3.9.7"
  }
 },
 "nbformat": 4,
 "nbformat_minor": 5
}
