{
 "cells": [
  {
   "cell_type": "code",
   "execution_count": null,
   "id": "81e1af41",
   "metadata": {},
   "outputs": [],
   "source": [
    "import random\n",
    "import weave\n",
    "weave.use_frontend_devmode()\n",
    "from weave.ecosystem import wandb"
   ]
  },
  {
   "cell_type": "code",
   "execution_count": null,
   "id": "b6687922",
   "metadata": {},
   "outputs": [],
   "source": [
    "preds = (weave.ops.project('stacey', \"mendeleev\")\n",
    "         .artifactType('test_results')\n",
    "         .artifacts()[0]\n",
    "         .versions()[0]\n",
    "         .file('test_results.table.json')\n",
    "         .table()\n",
    "         .rows())"
   ]
  },
  {
   "cell_type": "code",
   "execution_count": null,
   "id": "726b9294",
   "metadata": {},
   "outputs": [],
   "source": [
    "panel = weave.panels.Group2(\n",
    "    equalSize=True,\n",
    "    items={\n",
    "        'scatter': wandb.Scatter(preds,\n",
    "                                 x_fn=lambda item: item['score_Animalia'],\n",
    "                                 y_fn=lambda item: item['score_Fungi']),\n",
    "        'detail': lambda scatter: scatter.selected()\n",
    "    }\n",
    ")\n",
    "weave.show(panel, height=1000)"
   ]
  }
 ],
 "metadata": {
  "kernelspec": {
   "display_name": "Python 3 (ipykernel)",
   "language": "python",
   "name": "python3"
  }
 },
 "nbformat": 4,
 "nbformat_minor": 5
}
