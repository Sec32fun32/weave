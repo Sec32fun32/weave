{
 "cells": [
  {
   "cell_type": "markdown",
   "id": "cfa16846",
   "metadata": {},
   "source": [
    "# Slackformer: Basic transformer on WBSlack data\n",
    "\n",
    "Following [this tutorial](https://colab.research.google.com/github/keras-team/keras-io/blob/master/examples/nlp/ipynb/text_classification_with_transformer.ipynb#scrollTo=HaNCFrk9xtv2) from Keras"
   ]
  },
  {
   "cell_type": "code",
   "execution_count": 1,
   "id": "29e4d548",
   "metadata": {},
   "outputs": [],
   "source": [
    "import slack_trainer"
   ]
  },
  {
   "cell_type": "code",
   "execution_count": 2,
   "id": "c43758d7",
   "metadata": {},
   "outputs": [],
   "source": [
    "SLACK_DATA_DIR = \"/Users/timothysweeney/Documents/jan_1_2022_slack_dump\"\n",
    "data = slack_trainer.load_data(SLACK_DATA_DIR)"
   ]
  },
  {
   "cell_type": "code",
   "execution_count": 3,
   "id": "43e9ec50",
   "metadata": {},
   "outputs": [
    {
     "data": {
      "text/html": [
       "<div>\n",
       "<style scoped>\n",
       "    .dataframe tbody tr th:only-of-type {\n",
       "        vertical-align: middle;\n",
       "    }\n",
       "\n",
       "    .dataframe tbody tr th {\n",
       "        vertical-align: top;\n",
       "    }\n",
       "\n",
       "    .dataframe thead th {\n",
       "        text-align: right;\n",
       "    }\n",
       "</style>\n",
       "<table border=\"1\" class=\"dataframe\">\n",
       "  <thead>\n",
       "    <tr style=\"text-align: right;\">\n",
       "      <th></th>\n",
       "      <th>user_id</th>\n",
       "      <th>text</th>\n",
       "    </tr>\n",
       "  </thead>\n",
       "  <tbody>\n",
       "    <tr>\n",
       "      <th>0</th>\n",
       "      <td>UGAUNF091</td>\n",
       "      <td>how do i unsubscribe</td>\n",
       "    </tr>\n",
       "    <tr>\n",
       "      <th>1</th>\n",
       "      <td>U01909K5TLL</td>\n",
       "      <td>Still doing some testing</td>\n",
       "    </tr>\n",
       "    <tr>\n",
       "      <th>2</th>\n",
       "      <td>U0378N83U0M</td>\n",
       "      <td>*AB Testing 5/9/22 (sorry may contain some err...</td>\n",
       "    </tr>\n",
       "    <tr>\n",
       "      <th>3</th>\n",
       "      <td>U027SFLG23U</td>\n",
       "      <td>thank you!!</td>\n",
       "    </tr>\n",
       "    <tr>\n",
       "      <th>4</th>\n",
       "      <td>U02AWLJ2AKV</td>\n",
       "      <td>I realized we should probably think about oaut...</td>\n",
       "    </tr>\n",
       "    <tr>\n",
       "      <th>...</th>\n",
       "      <td>...</td>\n",
       "      <td>...</td>\n",
       "    </tr>\n",
       "    <tr>\n",
       "      <th>10483</th>\n",
       "      <td>U01BMJRVBMK</td>\n",
       "      <td>Hi, the Contacts are in Salesforce and enriche...</td>\n",
       "    </tr>\n",
       "    <tr>\n",
       "      <th>10484</th>\n",
       "      <td>U01MQHQ1HRV</td>\n",
       "      <td>Hey - thanks for getting the scanned lead list...</td>\n",
       "    </tr>\n",
       "    <tr>\n",
       "      <th>10485</th>\n",
       "      <td>U01BMJRVBMK</td>\n",
       "      <td>this wasn't included in our sponsorship tier</td>\n",
       "    </tr>\n",
       "    <tr>\n",
       "      <th>10486</th>\n",
       "      <td>U01MQHQ1HRV</td>\n",
       "      <td>ill reach out to them</td>\n",
       "    </tr>\n",
       "    <tr>\n",
       "      <th>10487</th>\n",
       "      <td>U01BMJRVBMK</td>\n",
       "      <td>I've been in touch with them over this email</td>\n",
       "    </tr>\n",
       "  </tbody>\n",
       "</table>\n",
       "<p>10488 rows × 2 columns</p>\n",
       "</div>"
      ],
      "text/plain": [
       "           user_id                                               text\n",
       "0        UGAUNF091                               how do i unsubscribe\n",
       "1      U01909K5TLL                           Still doing some testing\n",
       "2      U0378N83U0M  *AB Testing 5/9/22 (sorry may contain some err...\n",
       "3      U027SFLG23U                                        thank you!!\n",
       "4      U02AWLJ2AKV  I realized we should probably think about oaut...\n",
       "...            ...                                                ...\n",
       "10483  U01BMJRVBMK  Hi, the Contacts are in Salesforce and enriche...\n",
       "10484  U01MQHQ1HRV  Hey - thanks for getting the scanned lead list...\n",
       "10485  U01BMJRVBMK       this wasn't included in our sponsorship tier\n",
       "10486  U01MQHQ1HRV                              ill reach out to them\n",
       "10487  U01BMJRVBMK       I've been in touch with them over this email\n",
       "\n",
       "[10488 rows x 2 columns]"
      ]
     },
     "execution_count": 3,
     "metadata": {},
     "output_type": "execute_result"
    }
   ],
   "source": [
    "import pandas as pd\n",
    "messages_df = pd.DataFrame(columns=[\"user_id\", \"text\"], data=data[\"messages\"])\n",
    "messages_df"
   ]
  },
  {
   "cell_type": "code",
   "execution_count": 11,
   "id": "4baa1ad6",
   "metadata": {},
   "outputs": [
    {
     "data": {
      "text/html": [
       "<div>\n",
       "<style scoped>\n",
       "    .dataframe tbody tr th:only-of-type {\n",
       "        vertical-align: middle;\n",
       "    }\n",
       "\n",
       "    .dataframe tbody tr th {\n",
       "        vertical-align: top;\n",
       "    }\n",
       "\n",
       "    .dataframe thead th {\n",
       "        text-align: right;\n",
       "    }\n",
       "</style>\n",
       "<table border=\"1\" class=\"dataframe\">\n",
       "  <thead>\n",
       "    <tr style=\"text-align: right;\">\n",
       "      <th></th>\n",
       "      <th>user_id</th>\n",
       "      <th>count</th>\n",
       "      <th>real_name</th>\n",
       "      <th>image_72</th>\n",
       "    </tr>\n",
       "  </thead>\n",
       "  <tbody>\n",
       "    <tr>\n",
       "      <th>0</th>\n",
       "      <td>UGAUNF091</td>\n",
       "      <td>814</td>\n",
       "      <td>Annirudh Prasad</td>\n",
       "      <td>https://avatars.slack-edge.com/2020-08-03/1284...</td>\n",
       "    </tr>\n",
       "    <tr>\n",
       "      <th>1</th>\n",
       "      <td>U01909K5TLL</td>\n",
       "      <td>824</td>\n",
       "      <td>Justin Brooks</td>\n",
       "      <td>https://avatars.slack-edge.com/2021-04-22/1985...</td>\n",
       "    </tr>\n",
       "    <tr>\n",
       "      <th>2</th>\n",
       "      <td>U0378N83U0M</td>\n",
       "      <td>217</td>\n",
       "      <td>Mercedes Wu</td>\n",
       "      <td>https://avatars.slack-edge.com/2022-03-16/3249...</td>\n",
       "    </tr>\n",
       "    <tr>\n",
       "      <th>3</th>\n",
       "      <td>U027SFLG23U</td>\n",
       "      <td>563</td>\n",
       "      <td>Elaina Hodgkin</td>\n",
       "      <td>https://avatars.slack-edge.com/2021-08-12/2370...</td>\n",
       "    </tr>\n",
       "    <tr>\n",
       "      <th>4</th>\n",
       "      <td>U02AWLJ2AKV</td>\n",
       "      <td>1250</td>\n",
       "      <td>Bryan Bischof</td>\n",
       "      <td>https://avatars.slack-edge.com/2021-08-11/2370...</td>\n",
       "    </tr>\n",
       "    <tr>\n",
       "      <th>...</th>\n",
       "      <td>...</td>\n",
       "      <td>...</td>\n",
       "      <td>...</td>\n",
       "      <td>...</td>\n",
       "    </tr>\n",
       "    <tr>\n",
       "      <th>188</th>\n",
       "      <td>U039ST3E9QT</td>\n",
       "      <td>33</td>\n",
       "      <td>Chloe Hong</td>\n",
       "      <td>https://avatars.slack-edge.com/2022-04-04/3353...</td>\n",
       "    </tr>\n",
       "    <tr>\n",
       "      <th>189</th>\n",
       "      <td>U03LBF12V1C</td>\n",
       "      <td>6</td>\n",
       "      <td>Rosa Liu</td>\n",
       "      <td>https://avatars.slack-edge.com/2022-06-21/3702...</td>\n",
       "    </tr>\n",
       "    <tr>\n",
       "      <th>190</th>\n",
       "      <td>U03S005KZGR</td>\n",
       "      <td>14</td>\n",
       "      <td>Estella Xin</td>\n",
       "      <td>https://avatars.slack-edge.com/2022-07-31/3868...</td>\n",
       "    </tr>\n",
       "    <tr>\n",
       "      <th>191</th>\n",
       "      <td>U01U90BE8BH</td>\n",
       "      <td>1</td>\n",
       "      <td>Armand du Parc Locmaria</td>\n",
       "      <td>https://avatars.slack-edge.com/2021-04-19/2000...</td>\n",
       "    </tr>\n",
       "    <tr>\n",
       "      <th>192</th>\n",
       "      <td>U02UG0USE90</td>\n",
       "      <td>1</td>\n",
       "      <td>Mitchel Smit</td>\n",
       "      <td>https://avatars.slack-edge.com/2022-01-18/2962...</td>\n",
       "    </tr>\n",
       "  </tbody>\n",
       "</table>\n",
       "<p>193 rows × 4 columns</p>\n",
       "</div>"
      ],
      "text/plain": [
       "         user_id  count                real_name  \\\n",
       "0      UGAUNF091    814          Annirudh Prasad   \n",
       "1    U01909K5TLL    824            Justin Brooks   \n",
       "2    U0378N83U0M    217              Mercedes Wu   \n",
       "3    U027SFLG23U    563           Elaina Hodgkin   \n",
       "4    U02AWLJ2AKV   1250            Bryan Bischof   \n",
       "..           ...    ...                      ...   \n",
       "188  U039ST3E9QT     33               Chloe Hong   \n",
       "189  U03LBF12V1C      6                 Rosa Liu   \n",
       "190  U03S005KZGR     14              Estella Xin   \n",
       "191  U01U90BE8BH      1  Armand du Parc Locmaria   \n",
       "192  U02UG0USE90      1             Mitchel Smit   \n",
       "\n",
       "                                              image_72  \n",
       "0    https://avatars.slack-edge.com/2020-08-03/1284...  \n",
       "1    https://avatars.slack-edge.com/2021-04-22/1985...  \n",
       "2    https://avatars.slack-edge.com/2022-03-16/3249...  \n",
       "3    https://avatars.slack-edge.com/2021-08-12/2370...  \n",
       "4    https://avatars.slack-edge.com/2021-08-11/2370...  \n",
       "..                                                 ...  \n",
       "188  https://avatars.slack-edge.com/2022-04-04/3353...  \n",
       "189  https://avatars.slack-edge.com/2022-06-21/3702...  \n",
       "190  https://avatars.slack-edge.com/2022-07-31/3868...  \n",
       "191  https://avatars.slack-edge.com/2021-04-19/2000...  \n",
       "192  https://avatars.slack-edge.com/2022-01-18/2962...  \n",
       "\n",
       "[193 rows x 4 columns]"
      ]
     },
     "execution_count": 11,
     "metadata": {},
     "output_type": "execute_result"
    }
   ],
   "source": [
    "users_df = pd.DataFrame(data=data[\"users\"].values())\n",
    "users_df"
   ]
  },
  {
   "cell_type": "code",
   "execution_count": 8,
   "id": "e69237e1",
   "metadata": {},
   "outputs": [
    {
     "data": {
      "text/plain": [
       "dict_values([{'user_id': 'UGAUNF091', 'count': 814, 'real_name': 'Annirudh Prasad', 'image_72': 'https://avatars.slack-edge.com/2020-08-03/1284809526772_715449f3740e0315926e_72.jpg'}, {'user_id': 'U01909K5TLL', 'count': 824, 'real_name': 'Justin Brooks', 'image_72': 'https://avatars.slack-edge.com/2021-04-22/1985560857158_8fc52847043c2c6fc3c8_72.png'}, {'user_id': 'U0378N83U0M', 'count': 217, 'real_name': 'Mercedes Wu', 'image_72': 'https://avatars.slack-edge.com/2022-03-16/3249869827843_92628621ea322e6dbcac_72.png'}, {'user_id': 'U027SFLG23U', 'count': 563, 'real_name': 'Elaina Hodgkin', 'image_72': 'https://avatars.slack-edge.com/2021-08-12/2370319704006_6b84fdfe562e74bb22b2_72.jpg'}, {'user_id': 'U02AWLJ2AKV', 'count': 1250, 'real_name': 'Bryan Bischof', 'image_72': 'https://avatars.slack-edge.com/2021-08-11/2370927798483_3543e7894693d2a8bf41_72.png'}, {'user_id': 'U02LSTL8EKZ', 'count': 865, 'real_name': 'Dave La Chasse', 'image_72': 'https://avatars.slack-edge.com/2021-11-15/2750811456176_3a1c4fef5f1f81918523_72.jpg'}, {'user_id': 'U039C9C8CT1', 'count': 121, 'real_name': 'Joe Wear', 'image_72': 'https://avatars.slack-edge.com/2022-04-04/3362060346832_4abce8ffdce987dc6644_72.png'}, {'user_id': 'U02LG00Q6V9', 'count': 232, 'real_name': 'Allan Stevenson', 'image_72': 'https://avatars.slack-edge.com/2021-11-08/2691199572790_afd0a7a8d71fef791a8c_72.jpg'}, {'user_id': 'U02GY0ENX71', 'count': 599, 'real_name': 'Venky Yerneni', 'image_72': 'https://avatars.slack-edge.com/2022-06-24/3742856936208_57e78e07275a252c0e73_72.jpg'}, {'user_id': 'U0BL7FFRQ', 'count': 1, 'real_name': 'Stephen Smith', 'image_72': 'https://secure.gravatar.com/avatar/ba12e9c17b027b5290617bd794ce438d.jpg?s=72&d=https%3A%2F%2Fa.slack-edge.com%2Fdf10d%2Fimg%2Favatars%2Fava_0022-72.png'}, {'user_id': 'U029HT9ANN5', 'count': 1, 'real_name': 'Stephen Bull', 'image_72': 'https://avatars.slack-edge.com/2021-07-27/2308897932134_b5195f68fe953a106f66_72.jpg'}, {'user_id': 'U0136K8KQLE', 'count': 9, 'real_name': 'Terry Norton', 'image_72': 'https://avatars.slack-edge.com/2022-07-13/3793601965618_749d8df977e628d7920c_72.png'}, {'user_id': 'U02KT1P9L12', 'count': 3, 'real_name': 'Sean Rigby', 'image_72': 'https://avatars.slack-edge.com/2021-11-02/2675623830066_1997e291c268d49bbfe5_72.png'}, {'user_id': 'UKETFLGBT', 'count': 30, 'real_name': \"Rafael d'Arce\", 'image_72': 'https://avatars.slack-edge.com/2022-07-13/3787032358342_e6a57f401b41f9703569_72.png'}, {'user_id': 'U70RWTX7Y', 'count': 1074, 'real_name': 'Chris Van Pelt', 'image_72': 'https://avatars.slack-edge.com/2017-09-07/238060587764_30b54a80ddf4c27f6706_72.jpg'}, {'user_id': 'U0139A5TUTG', 'count': 10, 'real_name': 'Kornelia Watson', 'image_72': 'https://avatars.slack-edge.com/2021-01-06/1612482019445_03329b6834b65f5a66a8_72.jpg'}, {'user_id': 'U02SBFK2C1G', 'count': 33, 'real_name': 'Nathan Kuneman', 'image_72': 'https://avatars.slack-edge.com/2022-01-03/2915849502513_5f326bea4e35d0bd67de_72.jpg'}, {'user_id': 'U01SQ72NDMW', 'count': 10, 'real_name': 'Victor Nwaesei', 'image_72': 'https://avatars.slack-edge.com/2021-04-16/1970135265122_7d688d40b6b283e415a0_72.png'}, {'user_id': 'U01DMAB3DKP', 'count': 441, 'real_name': 'Matt Mirick', 'image_72': 'https://avatars.slack-edge.com/2020-11-02/1464573803990_804ec0a60485f7f05aad_72.jpg'}, {'user_id': 'U02N3UD54AX', 'count': 430, 'real_name': 'Gourab De', 'image_72': 'https://avatars.slack-edge.com/2022-01-09/2924305535877_b239c4f2dfeeeabbb6a5_72.png'}, {'user_id': 'U02PNQ38HPC', 'count': 109, 'real_name': 'Max Pfeifer', 'image_72': 'https://avatars.slack-edge.com/2021-12-06/2818659096561_c4c968d028a11226bea2_72.jpg'}, {'user_id': 'U014ACLN0DQ', 'count': 164, 'real_name': 'Esteban Gonzalez', 'image_72': 'https://avatars.slack-edge.com/2022-06-30/3731228316423_b1bec7eec87f83ef1b68_72.png'}, {'user_id': 'U03JECUG5H9', 'count': 46, 'real_name': 'Jillian Clark', 'image_72': 'https://avatars.slack-edge.com/2022-06-07/3631346755541_69e20547ae5a71c97dfb_72.jpg'}, {'user_id': 'U02C5BXRC7P', 'count': 5, 'real_name': 'Nicolette Ellison', 'image_72': 'https://avatars.slack-edge.com/2021-08-30/2420594993495_f976a677df374366484b_72.jpg'}, {'user_id': 'U01HTJGBF26', 'count': 88, 'real_name': 'Jack Bailin', 'image_72': 'https://avatars.slack-edge.com/2021-01-04/1617612144548_8850de8cb24577d50b62_72.jpg'}, {'user_id': 'U01BMJRVBMK', 'count': 446, 'real_name': 'Andrea Pessl', 'image_72': 'https://avatars.slack-edge.com/2021-11-02/2672974169013_29dc9c2c2204e1da9f67_72.jpg'}, {'user_id': 'U01MQHQ1HRV', 'count': 72, 'real_name': 'Graham Whitelaw', 'image_72': 'https://avatars.slack-edge.com/2021-02-16/1741946520951_fb281f8b911cfaed83ce_72.jpg'}, {'user_id': 'U037VDV4C03', 'count': 25, 'real_name': 'Kristen Ennis', 'image_72': 'https://avatars.slack-edge.com/2022-03-22/3279264257122_2544e79a111356951545_72.jpg'}, {'user_id': 'U01M2PHHD26', 'count': 250, 'real_name': 'Angelica Pan', 'image_72': 'https://avatars.slack-edge.com/2021-02-08/1725259908613_582642bf78381e9bd85d_72.jpg'}, {'user_id': 'U029TKWMKU0', 'count': 3, 'real_name': 'Jean Lethuillier', 'image_72': 'https://avatars.slack-edge.com/2021-07-25/2310473908595_cc97cc5a08d1ffedf6e5_72.jpg'}, {'user_id': 'U02P3RTUK9N', 'count': 8, 'real_name': 'Michael Youniss', 'image_72': 'https://avatars.slack-edge.com/2021-12-08/2819913139940_58039d08f99a96832514_72.jpg'}, {'user_id': 'U019Y7DFACE', 'count': 1, 'real_name': 'Tyler Nieman', 'image_72': 'https://avatars.slack-edge.com/2020-09-04/1357855539937_2fdd50f17f411c42c1b2_72.png'}, {'user_id': 'U02KZEETZU1', 'count': 305, 'real_name': 'Dylan Paiton', 'image_72': 'https://avatars.slack-edge.com/2021-11-01/2683833676417_3b73c0822e8e6b043338_72.jpg'}, {'user_id': 'U027X9TD6K1', 'count': 29, 'real_name': 'Jessica Goheen', 'image_72': 'https://avatars.slack-edge.com/2021-07-19/2289439065747_c87f331a2050e0bf291e_72.jpg'}, {'user_id': 'U018VES53LZ', 'count': 121, 'real_name': 'Ayush Thakur', 'image_72': 'https://avatars.slack-edge.com/2021-07-26/2323401919537_40a64b43a8a2dbe6c2e8_72.jpg'}, {'user_id': 'U029XTM4K8U', 'count': 216, 'real_name': 'Sanyam Bhutani', 'image_72': 'https://avatars.slack-edge.com/2021-08-02/2334517183189_41d2d21d0ac1e13cf467_72.png'}, {'user_id': 'U01MYHN3NCE', 'count': 492, 'real_name': 'Morgan McGuire', 'image_72': 'https://avatars.slack-edge.com/2022-06-27/3716423080582_5eb167f58e7bf691a81a_72.png'}, {'user_id': 'UH4052G01', 'count': 49, 'real_name': 'Kenna Zilis', 'image_72': 'https://avatars.slack-edge.com/2019-08-19/733286666711_234c5298eb88cae3f3ff_72.jpg'}, {'user_id': 'U02FK53HQGG', 'count': 59, 'real_name': 'Leslie', 'image_72': 'https://avatars.slack-edge.com/2022-04-05/3341657297798_8337e0cd692691f215a6_72.jpg'}, {'user_id': 'U02H93QB9H6', 'count': 40, 'real_name': 'Matthew Spencer', 'image_72': 'https://avatars.slack-edge.com/2021-10-04/2563525329971_bd086fe9ac4a57a48fd0_72.jpg'}, {'user_id': 'U02JC3A2U7R', 'count': 93, 'real_name': 'Anish Shah', 'image_72': 'https://avatars.slack-edge.com/2021-10-25/2657165734369_903ca98e5dacf9d98e74_72.png'}, {'user_id': 'U027PEY9JR3', 'count': 119, 'real_name': 'Andrew Truong', 'image_72': 'https://avatars.slack-edge.com/2021-10-24/2626786509095_6c17e13c35744a3f0030_72.png'}, {'user_id': 'U026ZKXRFML', 'count': 407, 'real_name': 'Scott Condron', 'image_72': 'https://avatars.slack-edge.com/2021-07-06/2245206436371_cb2e0089da1df95fb3b0_72.jpg'}, {'user_id': 'U02855JHDAM', 'count': 109, 'real_name': 'Ben Sherman', 'image_72': 'https://avatars.slack-edge.com/2021-07-12/2278147102081_373b29ee071fdebd63bd_72.jpg'}, {'user_id': 'U01PGDAPQKF', 'count': 223, 'real_name': 'Nick Penaranda', 'image_72': 'https://avatars.slack-edge.com/2021-03-01/1819815616497_9ff634c87ff05139aaa6_72.jpg'}, {'user_id': 'UBBL6N552', 'count': 1758, 'real_name': 'Carey Phelps', 'image_72': 'https://avatars.slack-edge.com/2018-09-22/440492605761_fc2d176f004cdfaa1a96_72.jpg'}, {'user_id': 'U02KLSE9RJ7', 'count': 44, 'real_name': 'Adrish Dey', 'image_72': 'https://avatars.slack-edge.com/2022-05-16/3555719235584_643f64a311a45a42422b_72.png'}, {'user_id': 'U01P4NH2E4X', 'count': 259, 'real_name': 'Justin Tenuto', 'image_72': 'https://avatars.slack-edge.com/2022-03-08/3207747419845_d4c847f46baa03ae88dc_72.png'}, {'user_id': 'ULUE3KZ7B', 'count': 230, 'real_name': 'Lavanya Shukla', 'image_72': 'https://avatars.slack-edge.com/2022-06-23/3709256768469_8dfc964f7ab2142d33f3_72.jpg'}, {'user_id': 'U02G77Y54F7', 'count': 144, 'real_name': 'Seann G', 'image_72': 'https://avatars.slack-edge.com/2021-10-01/2542239361495_46b02aed86ea9450c85f_72.jpg'}, {'user_id': 'U01P4NJ1D9V', 'count': 8, 'real_name': 'Stephanie Chen', 'image_72': 'https://avatars.slack-edge.com/2021-03-10/1843997123555_cc09676185527834e458_72.jpg'}, {'user_id': 'U012VRE9P9R', 'count': 207, 'real_name': 'Kyle Goyette', 'image_72': 'https://avatars.slack-edge.com/2020-09-28/1405981778369_6404035b93fdda82a697_72.jpg'}, {'user_id': 'U02PGDBGK6H', 'count': 70, 'real_name': 'Scott Juang', 'image_72': 'https://avatars.slack-edge.com/2021-12-06/2790938559463_c15526ee951288a976dc_72.jpg'}, {'user_id': 'UFAEZ8C0H', 'count': 58, 'real_name': 'Jeff Raubitschek', 'image_72': 'https://avatars.slack-edge.com/2022-08-01/3866440944503_fc44dd1a9d499364d0f9_72.jpg'}, {'user_id': 'U02J01CF9C0', 'count': 28, 'real_name': 'Ramit Goolry', 'image_72': 'https://avatars.slack-edge.com/2021-10-11/2591652917971_7d66830dfadf6a16248d_72.png'}, {'user_id': 'U02MAM1M4GH', 'count': 17, 'real_name': 'Cameron Kinloch', 'image_72': 'https://avatars.slack-edge.com/2022-07-11/3783078459285_75a7af6e138e9c08917d_72.jpg'}, {'user_id': 'U01CQAAT7MX', 'count': 327, 'real_name': 'Tim Sweeney', 'image_72': 'https://avatars.slack-edge.com/2020-10-12/1435390844065_9a6d0cf1ef6535da15c0_72.png'}, {'user_id': 'U023TEKFQMD', 'count': 30, 'real_name': 'Simon Williams', 'image_72': 'https://avatars.slack-edge.com/2021-06-07/2129539955255_c60ea251f4a50b7005fd_72.jpg'}, {'user_id': 'U02MX8M4BLY', 'count': 591, 'real_name': 'Seph Mard', 'image_72': 'https://avatars.slack-edge.com/2021-11-19/2750348635972_5d1d472ab0a17b457d76_72.png'}, {'user_id': 'U02S8HUT5DK', 'count': 49, 'real_name': 'Noah Wisnia', 'image_72': 'https://avatars.slack-edge.com/2022-01-03/2926490787040_2f5d8203fe597ee92989_72.jpg'}, {'user_id': 'U01RZUB71QD', 'count': 18, 'real_name': 'Aman Arora', 'image_72': 'https://avatars.slack-edge.com/2022-03-15/3263648560912_0d3e278f018519019999_72.png'}, {'user_id': 'U026Z0THUEL', 'count': 112, 'real_name': 'Anmol Mann', 'image_72': 'https://avatars.slack-edge.com/2021-06-28/2241921637984_66682130ef4adf1f7d83_72.png'}, {'user_id': 'U6ZA46R5W', 'count': 199, 'real_name': 'Shawn Lewis', 'image_72': 'https://avatars.slack-edge.com/2020-07-31/1269071220774_fc807d8492a8fbf7db01_72.png'}, {'user_id': 'U0243LC8DQB', 'count': 175, 'real_name': 'Yan-David Erlich', 'image_72': 'https://avatars.slack-edge.com/2021-06-04/2139570384258_ba7f8b6108fac2b5c339_72.jpg'}, {'user_id': 'UEK8GNC6T', 'count': 341, 'real_name': 'Stacey Svetlichnaya', 'image_72': 'https://avatars.slack-edge.com/2020-10-26/1455319805027_1216b271644a72246e3e_72.jpg'}, {'user_id': 'U02GZSZ4GL8', 'count': 390, 'real_name': 'Ross Nanopoulos', 'image_72': 'https://avatars.slack-edge.com/2021-11-01/2664488644566_4eaec86a373e81405d2f_72.jpg'}, {'user_id': 'U70S0JGS2', 'count': 110, 'real_name': 'Lukas Biewald', 'image_72': 'https://avatars.slack-edge.com/2019-10-18/800976331392_1f115a2e9ccc0430bb4e_72.jpg'}, {'user_id': 'U02KZEEPWBB', 'count': 273, 'real_name': 'Thomas Capelle', 'image_72': 'https://avatars.slack-edge.com/2022-04-01/3316421718103_44d009e09006de9816f4_72.png'}, {'user_id': 'U02KP2Y4YDS', 'count': 143, 'real_name': 'Kent Ross', 'image_72': 'https://avatars.slack-edge.com/2021-11-09/2705438258946_095b51b878e1d9d0c3f1_72.jpg'}, {'user_id': 'U02TVTP7BUY', 'count': 490, 'real_name': 'Ari Crellin-Quick', 'image_72': 'https://avatars.slack-edge.com/2022-01-14/2950939654198_f07e1fb3a0f1434a82e2_72.jpg'}, {'user_id': 'U02T250VBLM', 'count': 15, 'real_name': 'Sean Richardson', 'image_72': 'https://avatars.slack-edge.com/2022-01-11/2936356155829_b92609905b1af66da774_72.jpg'}, {'user_id': 'U01A9JNHUSE', 'count': 32, 'real_name': 'Will Goldfarb', 'image_72': 'https://avatars.slack-edge.com/2020-09-08/1362633081617_c495511c9ffaedb118a7_72.jpg'}, {'user_id': 'URQUELC9J', 'count': 694, 'real_name': 'Axel Setyanto', 'image_72': 'https://avatars.slack-edge.com/2021-09-30/2556023955620_857db9d297025efca46c_72.jpg'}, {'user_id': 'U01J67LTS4R', 'count': 545, 'real_name': 'Kat Markfield', 'image_72': 'https://avatars.slack-edge.com/2021-01-07/1619547327795_e76c41d83e6ddee181b8_72.jpg'}, {'user_id': 'U01T5PNM17E', 'count': 90, 'real_name': 'Saurav Maheshkar', 'image_72': 'https://avatars.slack-edge.com/2021-04-01/1919834619122_f3b93cfe32683647e222_72.png'}, {'user_id': 'UFEFAQHJB', 'count': 183, 'real_name': 'John Qian', 'image_72': 'https://avatars.slack-edge.com/2020-09-04/1345520385859_9aed0d820162a8ca7968_72.jpg'}, {'user_id': 'U01A2SL1WDC', 'count': 118, 'real_name': 'Veronica Jung Yeon Kim', 'image_72': 'https://avatars.slack-edge.com/2021-11-01/2672633245426_0d4aaac7a800735ef706_72.jpg'}, {'user_id': 'U02ML6DJMB3', 'count': 44, 'real_name': 'Kevin Stofan', 'image_72': 'https://avatars.slack-edge.com/2021-11-15/2728615161972_bbaf9ed18b4de6663ff0_72.jpg'}, {'user_id': 'U02UKEXV936', 'count': 186, 'real_name': 'Jason Zhao', 'image_72': 'https://avatars.slack-edge.com/2022-01-18/2984171008001_530fda36d56fedd0f62b_72.png'}, {'user_id': 'U02JV03K668', 'count': 147, 'real_name': 'Taha Bouhoun', 'image_72': 'https://avatars.slack-edge.com/2021-10-25/2657994429489_c2f096936c419589dc8e_72.jpg'}, {'user_id': 'U02T65Q1682', 'count': 99, 'real_name': 'Soumik Rakshit', 'image_72': 'https://avatars.slack-edge.com/2022-04-08/3359473850262_3beea317d17b1a705775_72.gif'}, {'user_id': 'U01HQFX7JTF', 'count': 104, 'real_name': 'Sydney Hollingsworth', 'image_72': 'https://avatars.slack-edge.com/2021-01-11/1628416877683_2c146fa72a55dcf374cd_72.jpg'}, {'user_id': 'U02SQ59R1DF', 'count': 260, 'real_name': 'Spencer Pearson', 'image_72': 'https://avatars.slack-edge.com/2022-01-03/2915072210289_1c0d075ff732b77450bb_72.jpg'}, {'user_id': 'U02JSPKSH19', 'count': 47, 'real_name': 'Dima Duev', 'image_72': 'https://avatars.slack-edge.com/2021-11-03/2695223191361_e3ec7e0657d0c22f3f5e_72.png'}, {'user_id': 'U02UF66A8R1', 'count': 112, 'real_name': 'Parul Pandey', 'image_72': 'https://avatars.slack-edge.com/2022-01-18/2952694694919_090ca2b5ee66dec89681_72.jpg'}, {'user_id': 'UKX12MDD2', 'count': 165, 'real_name': 'Adrian Swanberg', 'image_72': 'https://avatars.slack-edge.com/2022-02-15/3124321133649_4d5cedf94b765825b746_72.png'}, {'user_id': 'U02SKUEJGP6', 'count': 23, 'real_name': 'Conor Brady', 'image_72': 'https://avatars.slack-edge.com/2022-01-03/2904115985124_db2fcaf9c65de1f7ccb6_72.jpg'}, {'user_id': 'U031UG3N1V2', 'count': 104, 'real_name': 'Kevin Ford', 'image_72': 'https://avatars.slack-edge.com/2022-02-07/3068148574066_f01c5ced858a01774972_72.jpg'}, {'user_id': 'U018W6SKH96', 'count': 179, 'real_name': 'Haruka Tabuchi', 'image_72': 'https://avatars.slack-edge.com/2020-08-05/1297189772769_de1337fb0e993508490e_72.jpg'}, {'user_id': 'U01RKMUQXC6', 'count': 7, 'real_name': 'Devin Gribbons', 'image_72': 'https://avatars.slack-edge.com/2021-04-02/1910314277847_4fec0083b7f86883e1eb_72.jpg'}, {'user_id': 'U031P9PLBJR', 'count': 3, 'real_name': 'Elaine He', 'image_72': 'https://avatars.slack-edge.com/2022-02-09/3079873329603_fa7fcc5a89242bd6cf72_72.png'}, {'user_id': 'U027SMME4UB', 'count': 72, 'real_name': 'Katia Patkin', 'image_72': 'https://avatars.slack-edge.com/2021-10-15/2610841668082_76fb303a0ba0ab5ea56f_72.png'}, {'user_id': 'U02C9AQHN2V', 'count': 88, 'real_name': 'Ember Campbell', 'image_72': 'https://avatars.slack-edge.com/2021-08-25/2420643549347_11a846beb6acda419b07_72.jpg'}, {'user_id': 'U02JPPS6EUV', 'count': 123, 'real_name': 'Eric Bunch', 'image_72': 'https://avatars.slack-edge.com/2021-10-25/2656365453297_ddb0531bd36d4e9173b0_72.jpg'}, {'user_id': 'U02P4N8TW31', 'count': 386, 'real_name': 'Joe Crawley', 'image_72': 'https://avatars.slack-edge.com/2022-04-27/3446831525813_8a66d07aa287d6023bc9_72.jpg'}, {'user_id': 'U035T321MUP', 'count': 68, 'real_name': 'Veronica Edgar', 'image_72': 'https://avatars.slack-edge.com/2022-03-18/3276998835969_8545faeff91a6d0a1dd4_72.jpg'}, {'user_id': 'U030V9GFYGM', 'count': 47, 'real_name': 'Tyler Dulberg', 'image_72': 'https://avatars.slack-edge.com/2022-01-31/3032332585139_09dfbf0990feec64a03c_72.jpg'}, {'user_id': 'U030Y701Q10', 'count': 89, 'real_name': 'Kyle Woestmann', 'image_72': 'https://avatars.slack-edge.com/2022-02-18/3127934088163_1d84a5fb524bd4bc9e7b_72.png'}, {'user_id': 'U032FV2ABT2', 'count': 57, 'real_name': 'Ben Slade', 'image_72': 'https://avatars.slack-edge.com/2022-02-07/3091389814384_4a3705fd6c5ca74f5ca4_72.jpg'}, {'user_id': 'U03AGKV9NE4', 'count': 49, 'real_name': 'Maddy Muscari', 'image_72': 'https://avatars.slack-edge.com/2022-04-04/3343855742468_a9e152ab5caea563366f_72.jpg'}, {'user_id': 'U037VDV1YQ3', 'count': 9, 'real_name': 'Justin Melbourne', 'image_72': 'https://avatars.slack-edge.com/2022-03-28/3291040448135_47c8ae500e4246d903e4_72.jpg'}, {'user_id': 'U02ML6DG5ND', 'count': 4, 'real_name': 'Amanda Ballantyne', 'image_72': 'https://avatars.slack-edge.com/2021-11-15/2710727973495_14109457f8b1ce990e39_72.png'}, {'user_id': 'US9N0KEKG', 'count': 953, 'real_name': 'David Jackson', 'image_72': 'https://avatars.slack-edge.com/2020-06-24/1203191269365_a156a341b06580c7ee92_72.jpg'}, {'user_id': 'U03ATJU5AHG', 'count': 50, 'real_name': 'Amandeep Sandhu', 'image_72': 'https://avatars.slack-edge.com/2022-04-15/3399718691556_ed7996175057360c7b48_72.jpg'}, {'user_id': 'U02RWT0NCMD', 'count': 31, 'real_name': 'Taylor Anthony', 'image_72': 'https://avatars.slack-edge.com/2022-01-03/2903535021874_cbbcf830a588b88a021b_72.png'}, {'user_id': 'U03AGLQ5EJU', 'count': 112, 'real_name': 'Darek Kleczek', 'image_72': 'https://avatars.slack-edge.com/2022-04-05/3330198143479_7a1a0c1bc21bdbb3b559_72.jpg'}, {'user_id': 'U02AFR49J5C', 'count': 11, 'real_name': 'Jan Woodthorpe', 'image_72': 'https://avatars.slack-edge.com/2021-08-10/2391315472784_fa5dcd7060e3734e1916_72.png'}, {'user_id': 'U02T37WA4JZ', 'count': 47, 'real_name': 'Manan Goel', 'image_72': 'https://avatars.slack-edge.com/2022-01-10/2914211272007_f5f86c761245039a5f26_72.jpg'}, {'user_id': 'U037RRZPGES', 'count': 33, 'real_name': 'Tim W', 'image_72': 'https://avatars.slack-edge.com/2022-03-31/3351161225024_5bdb07e150e8629a06b8_72.png'}, {'user_id': 'U03CZSS3ZUH', 'count': 78, 'real_name': 'Andrea Parker', 'image_72': 'https://avatars.slack-edge.com/2022-04-25/3436637937138_3f67195239eef5b456a8_72.jpg'}, {'user_id': 'U03ECPDFQJU', 'count': 25, 'real_name': 'Hans-Martin Ramsl', 'image_72': 'https://avatars.slack-edge.com/2022-05-03/3458800035559_60862977692f271028bb_72.jpg'}, {'user_id': 'U01AKDW2URM', 'count': 193, 'real_name': 'Dave Davies', 'image_72': 'https://avatars.slack-edge.com/2022-06-28/3732229281363_92a0f8a17509fbf9687f_72.png'}, {'user_id': 'U03AU0S5JSZ', 'count': 243, 'real_name': 'Justin Tulk', 'image_72': 'https://avatars.slack-edge.com/2022-04-11/3388015590433_0b1858dff4b82d918416_72.png'}, {'user_id': 'U03ECPDHRH6', 'count': 338, 'real_name': 'Chris Histe', 'image_72': 'https://avatars.slack-edge.com/2022-05-02/3470702198292_728a6d4b9b634e3e738b_72.jpg'}, {'user_id': 'U02SHK6UT9R', 'count': 24, 'real_name': 'Karan Nisar', 'image_72': 'https://avatars.slack-edge.com/2022-04-22/3431143423988_5160bd8a0ce9ced09cca_72.png'}, {'user_id': 'U03DTSSMFL2', 'count': 23, 'real_name': 'Frida de Sigley', 'image_72': 'https://avatars.slack-edge.com/2022-05-03/3473858633780_47caa16d0a5fd575e6b8_72.png'}, {'user_id': 'U032CFC16MV', 'count': 37, 'real_name': 'Scott Pearson', 'image_72': 'https://avatars.slack-edge.com/2022-02-14/3096084266310_470767b624334734a6a3_72.jpg'}, {'user_id': 'U03CS4CML05', 'count': 86, 'real_name': 'Rebecca Li', 'image_72': 'https://avatars.slack-edge.com/2022-04-25/3439819238740_c700e1da4ef3337dfc58_72.png'}, {'user_id': 'U029RMYLMNW', 'count': 117, 'real_name': 'Vish', 'image_72': 'https://avatars.slack-edge.com/2022-02-07/3073226186164_c8b52568be1fa41c3163_72.jpg'}, {'user_id': 'U039Q19KDAR', 'count': 30, 'real_name': 'Jeremiah Lee', 'image_72': 'https://avatars.slack-edge.com/2022-04-04/3340098520147_0a5f06e003cde58be1b1_72.png'}, {'user_id': 'U03F5URMKJR', 'count': 22, 'real_name': 'Ethan Ho', 'image_72': 'https://avatars.slack-edge.com/2022-05-26/3595818229185_d51fe5a576d1b2096773_72.jpg'}, {'user_id': 'U03HN4P0ZB5', 'count': 43, 'real_name': 'Michelle Bergeron', 'image_72': 'https://avatars.slack-edge.com/2022-06-07/3634441841714_b0c5d7befa6fb9e162ec_72.jpg'}, {'user_id': 'UDWSLG9MJ', 'count': 3, 'real_name': 'Hamel Husain', 'image_72': 'https://avatars.slack-edge.com/2019-10-30/817572922471_7d1e41a0c8cfcd1a9302_72.jpg'}, {'user_id': 'U016KFFRXFH', 'count': 35, 'real_name': 'Arman Harutyunyan', 'image_72': 'https://avatars.slack-edge.com/2020-07-14/1264057235360_b5ce24f9ec3e590a0cff_72.jpg'}, {'user_id': 'U033U2MDV5H', 'count': 101, 'real_name': 'Phil Gurbacki', 'image_72': 'https://avatars.slack-edge.com/2022-02-22/3137717286197_943e5de5993061fecb4f_72.jpg'}, {'user_id': 'U03CM8K2DPV', 'count': 17, 'real_name': 'Melissa Benitez', 'image_72': 'https://avatars.slack-edge.com/2022-04-25/3436429808003_c2094dc7ca569ca8b294_72.png'}, {'user_id': 'U03EKD7E1FV', 'count': 225, 'real_name': 'Ashraf Shaik', 'image_72': 'https://avatars.slack-edge.com/2022-05-19/3555559678788_569fd09671be7138d95c_72.jpg'}, {'user_id': 'U03CM8KB97V', 'count': 8, 'real_name': 'Felix Vialva', 'image_72': 'https://avatars.slack-edge.com/2022-04-25/3437395030532_57c4975a3b3770395e0c_72.png'}, {'user_id': 'U03EY2JJ0QZ', 'count': 18, 'real_name': 'Anton Lenke', 'image_72': 'https://avatars.slack-edge.com/2022-05-09/3511264538881_c2ce9ec8b5228209868d_72.jpg'}, {'user_id': 'U038Y3S2ZM2', 'count': 24, 'real_name': 'Hugo Ponte', 'image_72': 'https://avatars.slack-edge.com/2022-03-28/3292709692119_47620f4eb1cc43d417f3_72.jpg'}, {'user_id': 'U03BHM0HE93', 'count': 14, 'real_name': 'Ezequiel Politzer', 'image_72': 'https://avatars.slack-edge.com/2022-06-27/3729792369060_afc8ab81ad994eb5dba2_72.jpg'}, {'user_id': 'U01266F39U7', 'count': 502, 'real_name': 'Aditya Prasad', 'image_72': 'https://avatars.slack-edge.com/2022-05-12/3516057378245_af6305cf058972de795b_72.png'}, {'user_id': 'U01E3215C73', 'count': 8, 'real_name': 'Alex Yoon', 'image_72': 'https://avatars.slack-edge.com/2020-11-01/1492539002464_8e941e8ec326f27a6929_72.jpg'}, {'user_id': 'U02VBN7QP5Z', 'count': 62, 'real_name': 'Taylor Krause', 'image_72': 'https://avatars.slack-edge.com/2022-01-24/2983661616759_807c79ee04f63cef1720_72.png'}, {'user_id': 'U02CY0U4UL8', 'count': 7, 'real_name': 'Jessie LaJoie', 'image_72': 'https://avatars.slack-edge.com/2021-08-25/2412218012342_58ac1173949ebc1aaccc_72.png'}, {'user_id': 'U02KLSEDQBD', 'count': 37, 'real_name': 'Ani Safaryan', 'image_72': 'https://avatars.slack-edge.com/2021-11-14/2736231121729_c61ab83c9989ba48c07d_72.png'}, {'user_id': 'U03N92DUQUV', 'count': 2, 'real_name': 'Justin Thompson', 'image_72': 'https://avatars.slack-edge.com/2022-07-05/3762029404339_fdcd098e093600c726f8_72.jpg'}, {'user_id': 'U03HQG7DGLU', 'count': 58, 'real_name': 'Noah Luna', 'image_72': 'https://avatars.slack-edge.com/2022-06-28/3726358312950_6c3c5081b6f7365e0bbe_72.jpg'}, {'user_id': 'U02S3UNM9C7', 'count': 3, 'real_name': 'Phi', 'image_72': 'https://avatars.slack-edge.com/2022-03-02/3173929504950_3162df2998cb58588b77_72.jpg'}, {'user_id': 'U010WV9NK43', 'count': 11, 'real_name': 'Kai Fricke', 'image_72': 'https://avatars.slack-edge.com/2022-06-23/3721931102241_c1452296af06cbe555cc_72.jpg'}, {'user_id': 'U02BBPEB9NX', 'count': 11, 'real_name': 'bill.wang', 'image_72': 'https://avatars.slack-edge.com/2022-03-03/3202387454577_faf1e73a2f911ccf4c74_72.jpg'}, {'user_id': 'U02GGE733BP', 'count': 13, 'real_name': 'Mic lee', 'image_72': 'https://avatars.slack-edge.com/2021-10-06/2577861765412_019161c5501f4e614868_72.jpg'}, {'user_id': 'U01U128UU8K', 'count': 294, 'real_name': 'Danny Goldstein', 'image_72': 'https://avatars.slack-edge.com/2021-04-12/1939508965351_f26c59690832710be006_72.jpg'}, {'user_id': 'UBAT9MX8U', 'count': 107, 'real_name': 'Altay Guvench', 'image_72': 'https://avatars.slack-edge.com/2021-01-22/1667658792259_5b70afe6619d7dd5390c_72.jpg'}, {'user_id': 'U03BLKC6E64', 'count': 188, 'real_name': 'Joyce Fang', 'image_72': 'https://avatars.slack-edge.com/2022-04-12/3374010933766_9fb560040e8d1eda3a89_72.jpg'}, {'user_id': 'U024ECNJWLC', 'count': 79, 'real_name': 'Min-Young Wu', 'image_72': 'https://avatars.slack-edge.com/2021-06-08/2175019776944_ec18908a1e985d2131c6_72.png'}, {'user_id': 'U03DB19350Q', 'count': 11, 'real_name': 'Mohammad Bakir', 'image_72': 'https://avatars.slack-edge.com/2022-04-25/3429792304438_28dac77bf4b8a1e49921_72.jpg'}, {'user_id': 'U03S006C0UR', 'count': 38, 'real_name': 'Stephen Sisk', 'image_72': 'https://avatars.slack-edge.com/2022-08-01/3879118215026_041a605fd0a50003713a_72.jpg'}, {'user_id': 'U03NRUEMP7G', 'count': 17, 'real_name': 'Griffin Tarpenning', 'image_72': 'https://avatars.slack-edge.com/2022-07-10/3774267523670_ca36643f3e2eb1f91c89_72.png'}, {'user_id': 'U019YCL8BPY', 'count': 15, 'real_name': 'Boris Dayma', 'image_72': 'https://avatars.slack-edge.com/2020-12-04/1537031965335_089765b75c46d7ab897d_72.jpg'}, {'user_id': 'U016BJ2LKTR', 'count': 33, 'real_name': 'Ayush Chaurasia', 'image_72': 'https://avatars.slack-edge.com/2021-08-30/2433400116818_ebbce3c9c9c029726f4b_72.jpg'}, {'user_id': 'U035WL8HLKF', 'count': 64, 'real_name': 'Ken Lee', 'image_72': 'https://avatars.slack-edge.com/2022-04-03/3336652493618_6b41b0ba872bf1d95945_72.jpg'}, {'user_id': 'UPRTB9Y2H', 'count': 266, 'real_name': 'Noah Bruegmann', 'image_72': 'https://avatars.slack-edge.com/2020-03-20/1017055655895_f9e765e1eaffb96d2495_72.png'}, {'user_id': 'U037L7VLRRP', 'count': 777, 'real_name': 'Joe Kelly', 'image_72': 'https://avatars.slack-edge.com/2022-03-16/3273738787808_4206d856cf4a3818a558_72.png'}, {'user_id': 'U01H6BL95B8', 'count': 1, 'real_name': 'Freddie Kalaitzis', 'image_72': 'https://avatars.slack-edge.com/2021-01-06/1628877067489_596a2c37760bf5a71534_72.jpg'}, {'user_id': 'W0115V7C0E6', 'count': 3, 'real_name': 'George Chouliaras', 'image_72': 'https://avatars.slack-edge.com/2021-10-26/2641829807718_98611ffbcbdf9dc48b7a_72.jpg'}, {'user_id': 'U03CLRDR4RK', 'count': 1, 'real_name': 'Moran Beladev', 'image_72': 'https://avatars.slack-edge.com/2022-05-01/3467008162948_7921d02c0233ed25628c_72.jpg'}, {'user_id': 'U01S855M06L', 'count': 1, 'real_name': 'Murari Agarwal', 'image_72': 'https://avatars.slack-edge.com/2022-08-03/3911760522256_f191376d0c36db753bc9_72.jpg'}, {'user_id': 'U02JX69E90D', 'count': 3, 'real_name': 'Oleg Taykalo', 'image_72': 'https://avatars.slack-edge.com/2021-11-01/2668456869461_b1b9123f8af037d3fd64_72.jpg'}, {'user_id': 'W01C62T25FE', 'count': 1, 'real_name': 'Guy Nadav', 'image_72': 'https://avatars.slack-edge.com/2021-07-15/2302535748336_01eefc14078332a35a3a_72.png'}, {'user_id': 'U02CZRQ8RBN', 'count': 1, 'real_name': 'LeVersey Henry III', 'image_72': 'https://avatars.slack-edge.com/2021-09-21/2529178822577_fe11b44aeb79781c4ebe_72.jpg'}, {'user_id': 'U039Q19P5MK', 'count': 2, 'real_name': 'Mollie Anderson', 'image_72': 'https://avatars.slack-edge.com/2022-04-11/3369922339030_c3ebd724151860f36711_72.jpg'}, {'user_id': 'U0331T6K28K', 'count': 3, 'real_name': 'Regan Cain', 'image_72': 'https://secure.gravatar.com/avatar/409325855967cb43136b51d86abea275.jpg?s=72&d=https%3A%2F%2Fa.slack-edge.com%2Fdf10d%2Fimg%2Favatars%2Fava_0021-72.png'}, {'user_id': 'U01GAH339BR', 'count': 35, 'real_name': 'Will Pleskow', 'image_72': 'https://avatars.slack-edge.com/2021-04-27/2007442895667_191f1163d4d0b14a8f1c_72.jpg'}, {'user_id': 'U03N92E5RAR', 'count': 14, 'real_name': 'Igor Veksler', 'image_72': 'https://avatars.slack-edge.com/2022-07-05/3761023096179_ddbbcf539a92036082ad_72.jpg'}, {'user_id': 'U02ACU7USQ0', 'count': 30, 'real_name': 'Arya Choudhury', 'image_72': 'https://avatars.slack-edge.com/2022-02-02/3058655404801_a086615d13b211176dce_72.png'}, {'user_id': 'U0287DQJ5FC', 'count': 50, 'real_name': 'Rajne Kumari', 'image_72': 'https://avatars.slack-edge.com/2022-02-24/3177534456592_4bf307e4cc8701ad149a_72.jpg'}, {'user_id': 'U02DYCJMRGT', 'count': 2, 'real_name': 'Sparsha Mishra', 'image_72': 'https://avatars.slack-edge.com/2021-09-09/2474569280707_49c71874e3886b3b1f3a_72.jpg'}, {'user_id': 'U015ACSNERF', 'count': 30, 'real_name': 'Elena Khachatryan', 'image_72': 'https://avatars.slack-edge.com/2021-08-21/2417455946513_678c5004721adafd2614_72.png'}, {'user_id': 'U019W5292FL', 'count': 53, 'real_name': 'Ivan', 'image_72': 'https://avatars.slack-edge.com/2021-07-29/2338905963153_5d9087868c5e78256072_72.jpg'}, {'user_id': 'U027W3E1KBJ', 'count': 15, 'real_name': 'Brent Chalker', 'image_72': 'https://avatars.slack-edge.com/2021-08-25/2415127973174_6d85a9403f5377c3f16f_72.jpg'}, {'user_id': 'U01DQCX2YG2', 'count': 18, 'real_name': 'Jackson Rapaich', 'image_72': 'https://avatars.slack-edge.com/2020-11-05/1493756984465_7f23d9ef6558a7746d77_72.jpg'}, {'user_id': 'U02E24C3TPV', 'count': 3, 'real_name': 'Chad Chalker', 'image_72': 'https://avatars.slack-edge.com/2022-03-14/3223046905271_1bc975c15e1fd3cc9bf0_72.jpg'}, {'user_id': 'U027K2FAG9X', 'count': 12, 'real_name': 'Moaen Ahmed', 'image_72': 'https://avatars.slack-edge.com/2021-07-08/2254829100834_07f5648c5ec5d7767b91_72.jpg'}, {'user_id': 'WCU15VC5B', 'count': 1, 'real_name': 'David Cahn', 'image_72': 'https://avatars.slack-edge.com/2021-01-06/1614244439061_18a322496a12689b2220_72.jpg'}, {'user_id': 'WL4156FHA', 'count': 20, 'real_name': 'Eric Wagner', 'image_72': 'https://avatars.slack-edge.com/2021-01-06/1629964184161_a0afb4cabe8eb1ad3bf8_72.png'}, {'user_id': 'W9Y07CML2', 'count': 19, 'real_name': 'Max Scheiber', 'image_72': 'https://avatars.slack-edge.com/2021-01-06/1623505544580_9c74355ba7dbbed40644_72.jpg'}, {'user_id': 'WV0B6BP8T', 'count': 1, 'real_name': 'Jess Oynick', 'image_72': 'https://avatars.slack-edge.com/2021-01-06/1614250290949_4d9fbbe8dde18594cd64_72.jpg'}, {'user_id': 'UUYQRJR6Z', 'count': 15, 'real_name': 'Blake Street', 'image_72': 'https://avatars.slack-edge.com/2020-03-17/995714732115_f56f04d2c6fc5fc26d8d_72.jpg'}, {'user_id': 'U03M7HTJ1AR', 'count': 2, 'real_name': 'Riley Fields', 'image_72': 'https://avatars.slack-edge.com/2022-06-30/3746807199908_7a1deeff3484e6746320_72.jpg'}, {'user_id': 'U03EWFV73EJ', 'count': 48, 'real_name': 'Teli Davies', 'image_72': 'https://secure.gravatar.com/avatar/9e83f8f14fb29f0ad0ccd96a9f1fec58.jpg?s=72&d=https%3A%2F%2Fa.slack-edge.com%2Fdf10d%2Fimg%2Favatars%2Fava_0006-72.png'}, {'user_id': 'U03EY2JEV3K', 'count': 1, 'real_name': 'An Tran', 'image_72': 'https://avatars.slack-edge.com/2022-05-12/3510847497958_b17b5d20665ced4862af_72.png'}, {'user_id': 'U03HDKUB30U', 'count': 1, 'real_name': 'Ian Kelk', 'image_72': 'https://avatars.slack-edge.com/2022-05-28/3588375058325_c8447d8c52b0f1985010_72.png'}, {'user_id': 'U02QD472B40', 'count': 5, 'real_name': 'Kelsey Nielsen', 'image_72': 'https://avatars.slack-edge.com/2021-12-06/2799440345910_2c26e3386583c1479420_72.jpg'}, {'user_id': 'U02C8JF68NP', 'count': 3, 'real_name': 'Tobi Ojo', 'image_72': 'https://avatars.slack-edge.com/2021-08-30/2458368755360_9a44d6ef7869505be234_72.jpg'}, {'user_id': 'U037LKKMEA0', 'count': 1, 'real_name': 'Davonna Porter', 'image_72': 'https://avatars.slack-edge.com/2022-03-21/3293938779040_a65219ccc012531525a7_72.jpg'}, {'user_id': 'UV4GS8C2E', 'count': 205, 'real_name': 'Trevor Petach', 'image_72': 'https://avatars.slack-edge.com/2021-03-04/1817349010246_e56f1c559c427af30545_72.jpg'}, {'user_id': 'U031S6Z1M0A', 'count': 9, 'real_name': 'Morgan Morris', 'image_72': 'https://avatars.slack-edge.com/2022-02-07/3072657222036_414db1a295203f89f79d_72.png'}, {'user_id': 'U039ST3E9QT', 'count': 33, 'real_name': 'Chloe Hong', 'image_72': 'https://avatars.slack-edge.com/2022-04-04/3353121025073_6a8d271ec5d5835db8a5_72.png'}, {'user_id': 'U03LBF12V1C', 'count': 6, 'real_name': 'Rosa Liu', 'image_72': 'https://avatars.slack-edge.com/2022-06-21/3702167009332_b437ea26fb8b1eef04dd_72.png'}, {'user_id': 'U03S005KZGR', 'count': 14, 'real_name': 'Estella Xin', 'image_72': 'https://avatars.slack-edge.com/2022-07-31/3868639741414_1de22a4ceaccb815f8c7_72.jpg'}, {'user_id': 'U01U90BE8BH', 'count': 1, 'real_name': 'Armand du Parc Locmaria', 'image_72': 'https://avatars.slack-edge.com/2021-04-19/2000095334784_badf5af5314fb417e0f2_72.jpg'}, {'user_id': 'U02UG0USE90', 'count': 1, 'real_name': 'Mitchel Smit', 'image_72': 'https://avatars.slack-edge.com/2022-01-18/2962917390598_5aa8201fc37fd918facf_72.png'}])"
      ]
     },
     "execution_count": 8,
     "metadata": {},
     "output_type": "execute_result"
    }
   ],
   "source": [
    "data"
   ]
  },
  {
   "cell_type": "code",
   "execution_count": 46,
   "id": "3c93942e",
   "metadata": {},
   "outputs": [],
   "source": [
    "import re\n",
    "def remove_user_mention(text):\n",
    "    regex = r'\\<.*\\>'\n",
    "    return re.sub(regex, '', text)\n",
    "\n",
    "def remove_multiple_space(text):\n",
    "    regex = r'\\s+'\n",
    "    return re.sub(regex, ' ', text)\n",
    "\n",
    "def remove_emojies(text):\n",
    "    regex = r':\\w+:'\n",
    "    return re.sub(regex, ' ', text)\n",
    "\n",
    "def process_text(text):\n",
    "    return remove_multiple_space(remove_emojies(remove_user_mention(text))).strip()"
   ]
  },
  {
   "cell_type": "code",
   "execution_count": 49,
   "id": "fe48d50c",
   "metadata": {},
   "outputs": [
    {
     "data": {
      "text/html": [
       "<pre style=\"white-space:pre;overflow-x:auto;line-height:normal;font-family:Menlo,'DejaVu Sans Mono',consolas,'Courier New',monospace\">\n",
       "<span style=\"font-weight: bold\">{</span>\n",
       "    <span style=\"color: #008000; text-decoration-color: #008000\">'UGAUNF091'</span>: <span style=\"font-weight: bold\">{</span>\n",
       "        <span style=\"color: #008000; text-decoration-color: #008000\">'count'</span>: <span style=\"color: #008080; text-decoration-color: #008080; font-weight: bold\">1</span>,\n",
       "        <span style=\"color: #008000; text-decoration-color: #008000\">'real_name'</span>: <span style=\"color: #008000; text-decoration-color: #008000\">'Annirudh Prasad'</span>,\n",
       "        <span style=\"color: #008000; text-decoration-color: #008000\">'image_72'</span>: <span style=\"color: #008000; text-decoration-color: #008000\">'https://avatars.slack-edge.com/2020-08-03/1284809526772_715449f3740e0315926e_72.jpg'</span>\n",
       "    <span style=\"font-weight: bold\">}</span>,\n",
       "    <span style=\"color: #008000; text-decoration-color: #008000\">'U01909K5TLL'</span>: <span style=\"font-weight: bold\">{</span>\n",
       "        <span style=\"color: #008000; text-decoration-color: #008000\">'count'</span>: <span style=\"color: #008080; text-decoration-color: #008080; font-weight: bold\">1</span>,\n",
       "        <span style=\"color: #008000; text-decoration-color: #008000\">'real_name'</span>: <span style=\"color: #008000; text-decoration-color: #008000\">'Justin Brooks'</span>,\n",
       "        <span style=\"color: #008000; text-decoration-color: #008000\">'image_72'</span>: <span style=\"color: #008000; text-decoration-color: #008000\">'https://avatars.slack-edge.com/2021-04-22/1985560857158_8fc52847043c2c6fc3c8_72.png'</span>\n",
       "    <span style=\"font-weight: bold\">}</span>,\n",
       "    <span style=\"color: #008000; text-decoration-color: #008000\">'U0378N83U0M'</span>: <span style=\"font-weight: bold\">{</span>\n",
       "        <span style=\"color: #008000; text-decoration-color: #008000\">'count'</span>: <span style=\"color: #008080; text-decoration-color: #008080; font-weight: bold\">1</span>,\n",
       "        <span style=\"color: #008000; text-decoration-color: #008000\">'real_name'</span>: <span style=\"color: #008000; text-decoration-color: #008000\">'Mercedes Wu'</span>,\n",
       "        <span style=\"color: #008000; text-decoration-color: #008000\">'image_72'</span>: <span style=\"color: #008000; text-decoration-color: #008000\">'https://avatars.slack-edge.com/2022-03-16/3249869827843_92628621ea322e6dbcac_72.png'</span>\n",
       "    <span style=\"font-weight: bold\">}</span>,\n",
       "    <span style=\"color: #008000; text-decoration-color: #008000\">'U027SFLG23U'</span>: <span style=\"font-weight: bold\">{</span>\n",
       "        <span style=\"color: #008000; text-decoration-color: #008000\">'count'</span>: <span style=\"color: #008080; text-decoration-color: #008080; font-weight: bold\">4</span>,\n",
       "        <span style=\"color: #008000; text-decoration-color: #008000\">'real_name'</span>: <span style=\"color: #008000; text-decoration-color: #008000\">'Elaina Hodgkin'</span>,\n",
       "        <span style=\"color: #008000; text-decoration-color: #008000\">'image_72'</span>: <span style=\"color: #008000; text-decoration-color: #008000\">'https://avatars.slack-edge.com/2021-08-12/2370319704006_6b84fdfe562e74bb22b2_72.jpg'</span>\n",
       "    <span style=\"font-weight: bold\">}</span>,\n",
       "    <span style=\"color: #008000; text-decoration-color: #008000\">'U02AWLJ2AKV'</span>: <span style=\"font-weight: bold\">{</span>\n",
       "        <span style=\"color: #008000; text-decoration-color: #008000\">'count'</span>: <span style=\"color: #008080; text-decoration-color: #008080; font-weight: bold\">5</span>,\n",
       "        <span style=\"color: #008000; text-decoration-color: #008000\">'real_name'</span>: <span style=\"color: #008000; text-decoration-color: #008000\">'Bryan Bischof'</span>,\n",
       "        <span style=\"color: #008000; text-decoration-color: #008000\">'image_72'</span>: <span style=\"color: #008000; text-decoration-color: #008000\">'https://avatars.slack-edge.com/2021-08-11/2370927798483_3543e7894693d2a8bf41_72.png'</span>\n",
       "    <span style=\"font-weight: bold\">}</span>,\n",
       "    <span style=\"color: #008000; text-decoration-color: #008000\">'U02LSTL8EKZ'</span>: <span style=\"font-weight: bold\">{</span>\n",
       "        <span style=\"color: #008000; text-decoration-color: #008000\">'count'</span>: <span style=\"color: #008080; text-decoration-color: #008080; font-weight: bold\">1</span>,\n",
       "        <span style=\"color: #008000; text-decoration-color: #008000\">'real_name'</span>: <span style=\"color: #008000; text-decoration-color: #008000\">'Dave La Chasse'</span>,\n",
       "        <span style=\"color: #008000; text-decoration-color: #008000\">'image_72'</span>: <span style=\"color: #008000; text-decoration-color: #008000\">'https://avatars.slack-edge.com/2021-11-15/2750811456176_3a1c4fef5f1f81918523_72.jpg'</span>\n",
       "    <span style=\"font-weight: bold\">}</span>,\n",
       "    <span style=\"color: #008000; text-decoration-color: #008000\">'U039C9C8CT1'</span>: <span style=\"font-weight: bold\">{</span>\n",
       "        <span style=\"color: #008000; text-decoration-color: #008000\">'count'</span>: <span style=\"color: #008080; text-decoration-color: #008080; font-weight: bold\">25</span>,\n",
       "        <span style=\"color: #008000; text-decoration-color: #008000\">'real_name'</span>: <span style=\"color: #008000; text-decoration-color: #008000\">'Joe Wear'</span>,\n",
       "        <span style=\"color: #008000; text-decoration-color: #008000\">'image_72'</span>: <span style=\"color: #008000; text-decoration-color: #008000\">'https://avatars.slack-edge.com/2022-04-04/3362060346832_4abce8ffdce987dc6644_72.png'</span>\n",
       "    <span style=\"font-weight: bold\">}</span>,\n",
       "    <span style=\"color: #008000; text-decoration-color: #008000\">'U02LG00Q6V9'</span>: <span style=\"font-weight: bold\">{</span>\n",
       "        <span style=\"color: #008000; text-decoration-color: #008000\">'count'</span>: <span style=\"color: #008080; text-decoration-color: #008080; font-weight: bold\">25</span>,\n",
       "        <span style=\"color: #008000; text-decoration-color: #008000\">'real_name'</span>: <span style=\"color: #008000; text-decoration-color: #008000\">'Allan Stevenson'</span>,\n",
       "        <span style=\"color: #008000; text-decoration-color: #008000\">'image_72'</span>: <span style=\"color: #008000; text-decoration-color: #008000\">'https://avatars.slack-edge.com/2021-11-08/2691199572790_afd0a7a8d71fef791a8c_72.jpg'</span>\n",
       "    <span style=\"font-weight: bold\">}</span>,\n",
       "    <span style=\"color: #008000; text-decoration-color: #008000\">'U02GY0ENX71'</span>: <span style=\"font-weight: bold\">{</span>\n",
       "        <span style=\"color: #008000; text-decoration-color: #008000\">'count'</span>: <span style=\"color: #008080; text-decoration-color: #008080; font-weight: bold\">15</span>,\n",
       "        <span style=\"color: #008000; text-decoration-color: #008000\">'real_name'</span>: <span style=\"color: #008000; text-decoration-color: #008000\">'Venky Yerneni'</span>,\n",
       "        <span style=\"color: #008000; text-decoration-color: #008000\">'image_72'</span>: <span style=\"color: #008000; text-decoration-color: #008000\">'https://avatars.slack-edge.com/2022-06-24/3742856936208_57e78e07275a252c0e73_72.jpg'</span>\n",
       "    <span style=\"font-weight: bold\">}</span>,\n",
       "    <span style=\"color: #008000; text-decoration-color: #008000\">'U0BL7FFRQ'</span>: <span style=\"font-weight: bold\">{</span>\n",
       "        <span style=\"color: #008000; text-decoration-color: #008000\">'count'</span>: <span style=\"color: #008080; text-decoration-color: #008080; font-weight: bold\">1</span>,\n",
       "        <span style=\"color: #008000; text-decoration-color: #008000\">'real_name'</span>: <span style=\"color: #008000; text-decoration-color: #008000\">'Stephen Smith'</span>,\n",
       "        <span style=\"color: #008000; text-decoration-color: #008000\">'image_72'</span>: <span style=\"color: #008000; text-decoration-color: #008000\">'https://secure.gravatar.com/avatar/ba12e9c17b027b5290617bd794ce438d.jpg?s=72&amp;d=https%3A%2F%2Fa.slack-edge.com%2Fdf10d%2Fimg%2Favatars%2Fava_0022-72.png'</span>\n",
       "    <span style=\"font-weight: bold\">}</span>,\n",
       "    <span style=\"color: #008000; text-decoration-color: #008000\">'U029HT9ANN5'</span>: <span style=\"font-weight: bold\">{</span>\n",
       "        <span style=\"color: #008000; text-decoration-color: #008000\">'count'</span>: <span style=\"color: #008080; text-decoration-color: #008080; font-weight: bold\">1</span>,\n",
       "        <span style=\"color: #008000; text-decoration-color: #008000\">'real_name'</span>: <span style=\"color: #008000; text-decoration-color: #008000\">'Stephen Bull'</span>,\n",
       "        <span style=\"color: #008000; text-decoration-color: #008000\">'image_72'</span>: <span style=\"color: #008000; text-decoration-color: #008000\">'https://avatars.slack-edge.com/2021-07-27/2308897932134_b5195f68fe953a106f66_72.jpg'</span>\n",
       "    <span style=\"font-weight: bold\">}</span>,\n",
       "    <span style=\"color: #008000; text-decoration-color: #008000\">'U0136K8KQLE'</span>: <span style=\"font-weight: bold\">{</span>\n",
       "        <span style=\"color: #008000; text-decoration-color: #008000\">'count'</span>: <span style=\"color: #008080; text-decoration-color: #008080; font-weight: bold\">7</span>,\n",
       "        <span style=\"color: #008000; text-decoration-color: #008000\">'real_name'</span>: <span style=\"color: #008000; text-decoration-color: #008000\">'Terry Norton'</span>,\n",
       "        <span style=\"color: #008000; text-decoration-color: #008000\">'image_72'</span>: <span style=\"color: #008000; text-decoration-color: #008000\">'https://avatars.slack-edge.com/2022-07-13/3793601965618_749d8df977e628d7920c_72.png'</span>\n",
       "    <span style=\"font-weight: bold\">}</span>,\n",
       "    <span style=\"color: #008000; text-decoration-color: #008000\">'U02KT1P9L12'</span>: <span style=\"font-weight: bold\">{</span>\n",
       "        <span style=\"color: #008000; text-decoration-color: #008000\">'count'</span>: <span style=\"color: #008080; text-decoration-color: #008080; font-weight: bold\">3</span>,\n",
       "        <span style=\"color: #008000; text-decoration-color: #008000\">'real_name'</span>: <span style=\"color: #008000; text-decoration-color: #008000\">'Sean Rigby'</span>,\n",
       "        <span style=\"color: #008000; text-decoration-color: #008000\">'image_72'</span>: <span style=\"color: #008000; text-decoration-color: #008000\">'https://avatars.slack-edge.com/2021-11-02/2675623830066_1997e291c268d49bbfe5_72.png'</span>\n",
       "    <span style=\"font-weight: bold\">}</span>,\n",
       "    <span style=\"color: #008000; text-decoration-color: #008000\">'UKETFLGBT'</span>: <span style=\"font-weight: bold\">{</span>\n",
       "        <span style=\"color: #008000; text-decoration-color: #008000\">'count'</span>: <span style=\"color: #008080; text-decoration-color: #008080; font-weight: bold\">7</span>,\n",
       "        <span style=\"color: #008000; text-decoration-color: #008000\">'real_name'</span>: <span style=\"color: #008000; text-decoration-color: #008000\">\"Rafael d'Arce\"</span>,\n",
       "        <span style=\"color: #008000; text-decoration-color: #008000\">'image_72'</span>: <span style=\"color: #008000; text-decoration-color: #008000\">'https://avatars.slack-edge.com/2022-07-13/3787032358342_e6a57f401b41f9703569_72.png'</span>\n",
       "    <span style=\"font-weight: bold\">}</span>\n",
       "<span style=\"font-weight: bold\">}</span>\n",
       "</pre>\n"
      ],
      "text/plain": [
       "\n",
       "\u001b[1m{\u001b[0m\n",
       "    \u001b[32m'UGAUNF091'\u001b[0m: \u001b[1m{\u001b[0m\n",
       "        \u001b[32m'count'\u001b[0m: \u001b[1;36m1\u001b[0m,\n",
       "        \u001b[32m'real_name'\u001b[0m: \u001b[32m'Annirudh Prasad'\u001b[0m,\n",
       "        \u001b[32m'image_72'\u001b[0m: \u001b[32m'https://avatars.slack-edge.com/2020-08-03/1284809526772_715449f3740e0315926e_72.jpg'\u001b[0m\n",
       "    \u001b[1m}\u001b[0m,\n",
       "    \u001b[32m'U01909K5TLL'\u001b[0m: \u001b[1m{\u001b[0m\n",
       "        \u001b[32m'count'\u001b[0m: \u001b[1;36m1\u001b[0m,\n",
       "        \u001b[32m'real_name'\u001b[0m: \u001b[32m'Justin Brooks'\u001b[0m,\n",
       "        \u001b[32m'image_72'\u001b[0m: \u001b[32m'https://avatars.slack-edge.com/2021-04-22/1985560857158_8fc52847043c2c6fc3c8_72.png'\u001b[0m\n",
       "    \u001b[1m}\u001b[0m,\n",
       "    \u001b[32m'U0378N83U0M'\u001b[0m: \u001b[1m{\u001b[0m\n",
       "        \u001b[32m'count'\u001b[0m: \u001b[1;36m1\u001b[0m,\n",
       "        \u001b[32m'real_name'\u001b[0m: \u001b[32m'Mercedes Wu'\u001b[0m,\n",
       "        \u001b[32m'image_72'\u001b[0m: \u001b[32m'https://avatars.slack-edge.com/2022-03-16/3249869827843_92628621ea322e6dbcac_72.png'\u001b[0m\n",
       "    \u001b[1m}\u001b[0m,\n",
       "    \u001b[32m'U027SFLG23U'\u001b[0m: \u001b[1m{\u001b[0m\n",
       "        \u001b[32m'count'\u001b[0m: \u001b[1;36m4\u001b[0m,\n",
       "        \u001b[32m'real_name'\u001b[0m: \u001b[32m'Elaina Hodgkin'\u001b[0m,\n",
       "        \u001b[32m'image_72'\u001b[0m: \u001b[32m'https://avatars.slack-edge.com/2021-08-12/2370319704006_6b84fdfe562e74bb22b2_72.jpg'\u001b[0m\n",
       "    \u001b[1m}\u001b[0m,\n",
       "    \u001b[32m'U02AWLJ2AKV'\u001b[0m: \u001b[1m{\u001b[0m\n",
       "        \u001b[32m'count'\u001b[0m: \u001b[1;36m5\u001b[0m,\n",
       "        \u001b[32m'real_name'\u001b[0m: \u001b[32m'Bryan Bischof'\u001b[0m,\n",
       "        \u001b[32m'image_72'\u001b[0m: \u001b[32m'https://avatars.slack-edge.com/2021-08-11/2370927798483_3543e7894693d2a8bf41_72.png'\u001b[0m\n",
       "    \u001b[1m}\u001b[0m,\n",
       "    \u001b[32m'U02LSTL8EKZ'\u001b[0m: \u001b[1m{\u001b[0m\n",
       "        \u001b[32m'count'\u001b[0m: \u001b[1;36m1\u001b[0m,\n",
       "        \u001b[32m'real_name'\u001b[0m: \u001b[32m'Dave La Chasse'\u001b[0m,\n",
       "        \u001b[32m'image_72'\u001b[0m: \u001b[32m'https://avatars.slack-edge.com/2021-11-15/2750811456176_3a1c4fef5f1f81918523_72.jpg'\u001b[0m\n",
       "    \u001b[1m}\u001b[0m,\n",
       "    \u001b[32m'U039C9C8CT1'\u001b[0m: \u001b[1m{\u001b[0m\n",
       "        \u001b[32m'count'\u001b[0m: \u001b[1;36m25\u001b[0m,\n",
       "        \u001b[32m'real_name'\u001b[0m: \u001b[32m'Joe Wear'\u001b[0m,\n",
       "        \u001b[32m'image_72'\u001b[0m: \u001b[32m'https://avatars.slack-edge.com/2022-04-04/3362060346832_4abce8ffdce987dc6644_72.png'\u001b[0m\n",
       "    \u001b[1m}\u001b[0m,\n",
       "    \u001b[32m'U02LG00Q6V9'\u001b[0m: \u001b[1m{\u001b[0m\n",
       "        \u001b[32m'count'\u001b[0m: \u001b[1;36m25\u001b[0m,\n",
       "        \u001b[32m'real_name'\u001b[0m: \u001b[32m'Allan Stevenson'\u001b[0m,\n",
       "        \u001b[32m'image_72'\u001b[0m: \u001b[32m'https://avatars.slack-edge.com/2021-11-08/2691199572790_afd0a7a8d71fef791a8c_72.jpg'\u001b[0m\n",
       "    \u001b[1m}\u001b[0m,\n",
       "    \u001b[32m'U02GY0ENX71'\u001b[0m: \u001b[1m{\u001b[0m\n",
       "        \u001b[32m'count'\u001b[0m: \u001b[1;36m15\u001b[0m,\n",
       "        \u001b[32m'real_name'\u001b[0m: \u001b[32m'Venky Yerneni'\u001b[0m,\n",
       "        \u001b[32m'image_72'\u001b[0m: \u001b[32m'https://avatars.slack-edge.com/2022-06-24/3742856936208_57e78e07275a252c0e73_72.jpg'\u001b[0m\n",
       "    \u001b[1m}\u001b[0m,\n",
       "    \u001b[32m'U0BL7FFRQ'\u001b[0m: \u001b[1m{\u001b[0m\n",
       "        \u001b[32m'count'\u001b[0m: \u001b[1;36m1\u001b[0m,\n",
       "        \u001b[32m'real_name'\u001b[0m: \u001b[32m'Stephen Smith'\u001b[0m,\n",
       "        \u001b[32m'image_72'\u001b[0m: \u001b[32m'https://secure.gravatar.com/avatar/ba12e9c17b027b5290617bd794ce438d.jpg?\u001b[0m\u001b[32ms\u001b[0m\u001b[32m=\u001b[0m\u001b[32m72\u001b[0m\u001b[32m&\u001b[0m\u001b[32md\u001b[0m\u001b[32m=\u001b[0m\u001b[32mhttps\u001b[0m\u001b[32m%3A%2F%2Fa.slack-edge.com%2Fdf10d%2Fimg%2Favatars%2Fava_0022-72.png'\u001b[0m\n",
       "    \u001b[1m}\u001b[0m,\n",
       "    \u001b[32m'U029HT9ANN5'\u001b[0m: \u001b[1m{\u001b[0m\n",
       "        \u001b[32m'count'\u001b[0m: \u001b[1;36m1\u001b[0m,\n",
       "        \u001b[32m'real_name'\u001b[0m: \u001b[32m'Stephen Bull'\u001b[0m,\n",
       "        \u001b[32m'image_72'\u001b[0m: \u001b[32m'https://avatars.slack-edge.com/2021-07-27/2308897932134_b5195f68fe953a106f66_72.jpg'\u001b[0m\n",
       "    \u001b[1m}\u001b[0m,\n",
       "    \u001b[32m'U0136K8KQLE'\u001b[0m: \u001b[1m{\u001b[0m\n",
       "        \u001b[32m'count'\u001b[0m: \u001b[1;36m7\u001b[0m,\n",
       "        \u001b[32m'real_name'\u001b[0m: \u001b[32m'Terry Norton'\u001b[0m,\n",
       "        \u001b[32m'image_72'\u001b[0m: \u001b[32m'https://avatars.slack-edge.com/2022-07-13/3793601965618_749d8df977e628d7920c_72.png'\u001b[0m\n",
       "    \u001b[1m}\u001b[0m,\n",
       "    \u001b[32m'U02KT1P9L12'\u001b[0m: \u001b[1m{\u001b[0m\n",
       "        \u001b[32m'count'\u001b[0m: \u001b[1;36m3\u001b[0m,\n",
       "        \u001b[32m'real_name'\u001b[0m: \u001b[32m'Sean Rigby'\u001b[0m,\n",
       "        \u001b[32m'image_72'\u001b[0m: \u001b[32m'https://avatars.slack-edge.com/2021-11-02/2675623830066_1997e291c268d49bbfe5_72.png'\u001b[0m\n",
       "    \u001b[1m}\u001b[0m,\n",
       "    \u001b[32m'UKETFLGBT'\u001b[0m: \u001b[1m{\u001b[0m\n",
       "        \u001b[32m'count'\u001b[0m: \u001b[1;36m7\u001b[0m,\n",
       "        \u001b[32m'real_name'\u001b[0m: \u001b[32m\"Rafael d'Arce\"\u001b[0m,\n",
       "        \u001b[32m'image_72'\u001b[0m: \u001b[32m'https://avatars.slack-edge.com/2022-07-13/3787032358342_e6a57f401b41f9703569_72.png'\u001b[0m\n",
       "    \u001b[1m}\u001b[0m\n",
       "\u001b[1m}\u001b[0m\n"
      ]
     },
     "metadata": {},
     "output_type": "display_data"
    }
   ],
   "source": [
    "users = {}\n",
    "messages = []\n",
    "for m in human_messages[:100]:\n",
    "    text = process_text(m[\"text\"])\n",
    "    if text != '':\n",
    "        messages.append([user_id, text])\n",
    "        user_id = m[\"user\"]\n",
    "        if user_id not in users:\n",
    "            users[user_id] = {\n",
    "                'count': 0,\n",
    "                'real_name': m['user_profile']['real_name'],\n",
    "                'image_72': m['user_profile']['image_72'],\n",
    "            }\n",
    "        users[user_id]['count'] += 1\n",
    "\n",
    "messages[:10]\n",
    "users"
   ]
  },
  {
   "cell_type": "code",
   "execution_count": 26,
   "id": "786e868a",
   "metadata": {},
   "outputs": [],
   "source": [
    "import weave\n",
    "import pandas as pd\n",
    "from weave.ecosystem import slack\n",
    "\n"
   ]
  },
  {
   "cell_type": "code",
   "execution_count": 27,
   "id": "92085cd7",
   "metadata": {},
   "outputs": [],
   "source": [
    "def all_slack_channels() -> list[str]:\n",
    "    return sorted(Channel(d.name) for d in SLACK_DATA_DIR.glob('*'))"
   ]
  },
  {
   "cell_type": "code",
   "execution_count": 24,
   "id": "780476f4",
   "metadata": {},
   "outputs": [],
   "source": [
    "slack_obj = slack.open_slack_export(SLACK_DATA_DIR)"
   ]
  },
  {
   "cell_type": "code",
   "execution_count": 28,
   "id": "27be5aa9",
   "metadata": {},
   "outputs": [
    {
     "ename": "AttributeError",
     "evalue": "'str' object has no attribute 'glob'",
     "output_type": "error",
     "traceback": [
      "\u001b[0;31m---------------------------------------------------------------------------\u001b[0m",
      "\u001b[0;31mAttributeError\u001b[0m                            Traceback (most recent call last)",
      "Input \u001b[0;32mIn [28]\u001b[0m, in \u001b[0;36m<cell line: 2>\u001b[0;34m()\u001b[0m\n\u001b[1;32m      1\u001b[0m \u001b[38;5;66;03m# channels = weave.use(slack_obj.channels())\u001b[39;00m\n\u001b[0;32m----> 2\u001b[0m channels \u001b[38;5;241m=\u001b[39m \u001b[43mall_slack_channels\u001b[49m\u001b[43m(\u001b[49m\u001b[43m)\u001b[49m\n\u001b[1;32m      3\u001b[0m channels\n",
      "Input \u001b[0;32mIn [27]\u001b[0m, in \u001b[0;36mall_slack_channels\u001b[0;34m()\u001b[0m\n\u001b[1;32m      1\u001b[0m \u001b[38;5;28;01mdef\u001b[39;00m \u001b[38;5;21mall_slack_channels\u001b[39m() \u001b[38;5;241m-\u001b[39m\u001b[38;5;241m>\u001b[39m \u001b[38;5;28mlist\u001b[39m[\u001b[38;5;28mstr\u001b[39m]:\n\u001b[0;32m----> 2\u001b[0m     \u001b[38;5;28;01mreturn\u001b[39;00m \u001b[38;5;28msorted\u001b[39m(Channel(d\u001b[38;5;241m.\u001b[39mname) \u001b[38;5;28;01mfor\u001b[39;00m d \u001b[38;5;129;01min\u001b[39;00m \u001b[43mSLACK_DATA_DIR\u001b[49m\u001b[38;5;241;43m.\u001b[39;49m\u001b[43mglob\u001b[49m(\u001b[38;5;124m'\u001b[39m\u001b[38;5;124m*\u001b[39m\u001b[38;5;124m'\u001b[39m))\n",
      "\u001b[0;31mAttributeError\u001b[0m: 'str' object has no attribute 'glob'"
     ]
    }
   ],
   "source": [
    "# channels = weave.use(slack_obj.channels())\n",
    "channels = all_slack_channels()\n",
    "channels"
   ]
  },
  {
   "cell_type": "code",
   "execution_count": 17,
   "id": "54856b6b",
   "metadata": {},
   "outputs": [],
   "source": [
    "data = weave.use(.channel(TRAINING_CHANNEL).messages())\n",
    "data_df = pd.DataFrame(columns=[\"text\", \"user\"], data=[[d._text, d._user_id] for d in data])"
   ]
  },
  {
   "cell_type": "code",
   "execution_count": 18,
   "id": "df9d3093",
   "metadata": {},
   "outputs": [
    {
     "data": {
      "text/html": [
       "<div>\n",
       "<style scoped>\n",
       "    .dataframe tbody tr th:only-of-type {\n",
       "        vertical-align: middle;\n",
       "    }\n",
       "\n",
       "    .dataframe tbody tr th {\n",
       "        vertical-align: top;\n",
       "    }\n",
       "\n",
       "    .dataframe thead th {\n",
       "        text-align: right;\n",
       "    }\n",
       "</style>\n",
       "<table border=\"1\" class=\"dataframe\">\n",
       "  <thead>\n",
       "    <tr style=\"text-align: right;\">\n",
       "      <th></th>\n",
       "      <th>text</th>\n",
       "      <th>user</th>\n",
       "    </tr>\n",
       "  </thead>\n",
       "  <tbody>\n",
       "    <tr>\n",
       "      <th>0</th>\n",
       "      <td>:wave:</td>\n",
       "      <td>U0243LC8DQB</td>\n",
       "    </tr>\n",
       "    <tr>\n",
       "      <th>1</th>\n",
       "      <td>I learned a LOT at SKO about the framing of ou...</td>\n",
       "      <td>U01CQAAT7MX</td>\n",
       "    </tr>\n",
       "    <tr>\n",
       "      <th>2</th>\n",
       "      <td>Do you have a way that you would want to be co...</td>\n",
       "      <td>U70S0JGS2</td>\n",
       "    </tr>\n",
       "    <tr>\n",
       "      <th>3</th>\n",
       "      <td>Hey Lukas - thanks for the response. I think f...</td>\n",
       "      <td>U01CQAAT7MX</td>\n",
       "    </tr>\n",
       "    <tr>\n",
       "      <th>4</th>\n",
       "      <td>If you had extra money sitting around and you ...</td>\n",
       "      <td>U02N3UD54AX</td>\n",
       "    </tr>\n",
       "    <tr>\n",
       "      <th>...</th>\n",
       "      <td>...</td>\n",
       "      <td>...</td>\n",
       "    </tr>\n",
       "    <tr>\n",
       "      <th>64</th>\n",
       "      <td>I think focus on a single user persona really ...</td>\n",
       "      <td>U70S0JGS2</td>\n",
       "    </tr>\n",
       "    <tr>\n",
       "      <th>65</th>\n",
       "      <td>Sounds great thanks :slightly_smiling_face:</td>\n",
       "      <td>U03ECPDHRH6</td>\n",
       "    </tr>\n",
       "    <tr>\n",
       "      <th>66</th>\n",
       "      <td>If folks have questions I didn’t get to today,...</td>\n",
       "      <td>U0243LC8DQB</td>\n",
       "    </tr>\n",
       "    <tr>\n",
       "      <th>67</th>\n",
       "      <td>Someone asked in the all hands how much runway...</td>\n",
       "      <td>U70S0JGS2</td>\n",
       "    </tr>\n",
       "    <tr>\n",
       "      <th>68</th>\n",
       "      <td>&lt;@U02N3UD54AX&gt;  your voice is being heard. &lt;@U...</td>\n",
       "      <td>U03ECPDFQJU</td>\n",
       "    </tr>\n",
       "  </tbody>\n",
       "</table>\n",
       "<p>69 rows × 2 columns</p>\n",
       "</div>"
      ],
      "text/plain": [
       "                                                 text         user\n",
       "0                                              :wave:  U0243LC8DQB\n",
       "1   I learned a LOT at SKO about the framing of ou...  U01CQAAT7MX\n",
       "2   Do you have a way that you would want to be co...    U70S0JGS2\n",
       "3   Hey Lukas - thanks for the response. I think f...  U01CQAAT7MX\n",
       "4   If you had extra money sitting around and you ...  U02N3UD54AX\n",
       "..                                                ...          ...\n",
       "64  I think focus on a single user persona really ...    U70S0JGS2\n",
       "65        Sounds great thanks :slightly_smiling_face:  U03ECPDHRH6\n",
       "66  If folks have questions I didn’t get to today,...  U0243LC8DQB\n",
       "67  Someone asked in the all hands how much runway...    U70S0JGS2\n",
       "68  <@U02N3UD54AX>  your voice is being heard. <@U...  U03ECPDFQJU\n",
       "\n",
       "[69 rows x 2 columns]"
      ]
     },
     "execution_count": 18,
     "metadata": {},
     "output_type": "execute_result"
    }
   ],
   "source": [
    "data_df"
   ]
  },
  {
   "cell_type": "code",
   "execution_count": 16,
   "id": "103f5f50",
   "metadata": {},
   "outputs": [
    {
     "name": "stdout",
     "output_type": "stream",
     "text": [
      "The rich extension is already loaded. To reload it, use:\n",
      "  %reload_ext rich\n"
     ]
    }
   ],
   "source": [
    "%load_ext rich\n",
    "\n",
    "from rich import progress\n",
    "import typing\n",
    "import random\n",
    "import json\n",
    "import sklearn\n",
    "import pathlib\n",
    "import itertools\n",
    "import dataclasses\n",
    "import numpy as np\n",
    "\n",
    "import tensorflow as tf\n",
    "from tensorflow import keras\n",
    "from tensorflow.keras import layers\n",
    "\n",
    "def all_slack_channels() -> list[str]:\n",
    "    return sorted(Channel(d.name) for d in SLACK_DATA_DIR.glob('*'))\n",
    "\n",
    "def all_messages(channels: list[Channel]) -> list[Message]:\n",
    "    ms = []\n",
    "    for c in progress.track(channels):\n",
    "        ms += c.messages\n",
    "    return ms\n",
    "\n",
    "# frequency count of users so we can threshold on the minimum number\n",
    "# of messages required for the user to be labeled by our model\n",
    "def get_top_users(all_m: list[Message], min_msg_count=50) -> dict:\n",
    "    user_map = {}\n",
    "    for m in all_m:\n",
    "        if m.user_id in user_map:\n",
    "            user_map[m.user_id] += 1\n",
    "        else:\n",
    "            user_map[m.user_id] = 1\n",
    "    print(\"unique users: \", len(user_map))\n",
    "    um_sort = sorted(user_map.items(), key=lambda x: x[1], reverse=True)\n",
    "    # sort by message count in dataset -\n",
    "    top_users = {}\n",
    "    for i, u in enumerate(um_sort):\n",
    "        if u[1] >= min_msg_count:\n",
    "            top_users[u[0]] = i\n",
    "    print(\"user labels in this model: \", len(top_users))\n",
    "    return top_users\n",
    "    \n",
    "class TrainTest(typing.TypedDict):\n",
    "    train: list[Message]\n",
    "    test: list[Message]\n",
    "\n",
    "def train_test_split(messages: list[Message], train_frac: float) -> TrainTest:\n",
    "    n_train = int(len(messages) * train_frac)\n",
    "    messages = list(messages)\n",
    "    random.shuffle(messages)\n",
    "    return {\n",
    "        'train': messages[:n_train],\n",
    "        'test': messages[n_train:]\n",
    "    }\n",
    "\n",
    "def load_data():\n",
    "    channels = all_slack_channels()\n",
    "    # filter out sentry + deploy-builds\n",
    "    channels = [c for c in channels if not 'sentry' in c.name and not \"deploy-build\" in c.name]\n",
    "    all_m = all_messages(channels)\n",
    "    \n",
    "    # filter for top 215 users (at least 50 messages)\n",
    "    top_users = get_top_users(all_m)\n",
    "    all_m = [m for m in all_m if m.user_id in top_users]\n",
    "    \n",
    "    split = train_test_split(all_m, 0.8)\n",
    "    train, test = split['train'], split['test']\n",
    "    print(\"train: \", len(train), \"test: \", len(test))\n",
    "    return train, test, top_users\n",
    "\n",
    "def usernames():\n",
    "    # pull in user dictionary\n",
    "    import json\n",
    "    u = json.load(open(\"users.json\", 'r'))\n",
    "    names = {}\n",
    "    for e in u:\n",
    "        names[e[\"id\"]] = e[\"name\"]\n",
    "    print(\"total users: \", len(names))\n",
    "    return names"
   ]
  },
  {
   "cell_type": "markdown",
   "id": "29fca6d4",
   "metadata": {},
   "source": [
    "## Define a transformer"
   ]
  },
  {
   "cell_type": "code",
   "execution_count": 5,
   "id": "a9f95303",
   "metadata": {},
   "outputs": [],
   "source": [
    "class TransformerBlock(layers.Layer):\n",
    "    def __init__(self, embed_dim, num_heads, ff_dim, rate=0.1):\n",
    "        super(TransformerBlock, self).__init__()\n",
    "        self.att = layers.MultiHeadAttention(num_heads=num_heads, key_dim=embed_dim)\n",
    "        self.ffn = keras.Sequential(\n",
    "            [layers.Dense(ff_dim, activation=\"relu\"), layers.Dense(embed_dim),]\n",
    "        )\n",
    "        self.layernorm1 = layers.LayerNormalization(epsilon=1e-6)\n",
    "        self.layernorm2 = layers.LayerNormalization(epsilon=1e-6)\n",
    "        self.dropout1 = layers.Dropout(rate)\n",
    "        self.dropout2 = layers.Dropout(rate)\n",
    "\n",
    "    def call(self, inputs, training):\n",
    "        attn_output = self.att(inputs, inputs)\n",
    "        attn_output = self.dropout1(attn_output, training=training)\n",
    "        out1 = self.layernorm1(inputs + attn_output)\n",
    "        ffn_output = self.ffn(out1)\n",
    "        ffn_output = self.dropout2(ffn_output, training=training)\n",
    "        return self.layernorm2(out1 + ffn_output)\n",
    "    \n",
    "class TokenAndPositionEmbedding(layers.Layer):\n",
    "    def __init__(self, maxlen, vocab_size, embed_dim):\n",
    "        super(TokenAndPositionEmbedding, self).__init__()\n",
    "        self.token_emb = layers.Embedding(input_dim=vocab_size, output_dim=embed_dim)\n",
    "        self.pos_emb = layers.Embedding(input_dim=maxlen, output_dim=embed_dim)\n",
    "\n",
    "    def call(self, x):\n",
    "        maxlen = tf.shape(x)[-1]\n",
    "        positions = tf.range(start=0, limit=maxlen, delta=1)\n",
    "        positions = self.pos_emb(positions)\n",
    "        x = self.token_emb(x)\n",
    "        return x + positions"
   ]
  },
  {
   "cell_type": "code",
   "execution_count": 8,
   "id": "c3b92d0d",
   "metadata": {},
   "outputs": [
    {
     "data": {
      "text/html": [
       "<pre style=\"white-space:pre;overflow-x:auto;line-height:normal;font-family:Menlo,'DejaVu Sans Mono',consolas,'Courier New',monospace\"><span style=\"color: #008080; text-decoration-color: #008080; font-weight: bold\">225006</span>\n",
       "</pre>\n"
      ],
      "text/plain": [
       "\u001b[1;36m225006\u001b[0m\n"
      ]
     },
     "metadata": {},
     "output_type": "display_data"
    }
   ],
   "source": [
    "# TODO: Shawn what is channel in the class def supposed to be to start? \n",
    "# if one doesn't run this block, the class definition fails on \"channel\"\n",
    "channel = Channel('ceo-ama')\n",
    "channel.size"
   ]
  },
  {
   "cell_type": "code",
   "execution_count": 27,
   "id": "8901e1b6",
   "metadata": {},
   "outputs": [
    {
     "data": {
      "application/vnd.jupyter.widget-view+json": {
       "model_id": "031accabc8a44dfbabfc86e3e7cb2e90",
       "version_major": 2,
       "version_minor": 0
      },
      "text/plain": [
       "Output()"
      ]
     },
     "metadata": {},
     "output_type": "display_data"
    },
    {
     "data": {
      "text/html": [
       "<pre style=\"white-space:pre;overflow-x:auto;line-height:normal;font-family:Menlo,'DejaVu Sans Mono',consolas,'Courier New',monospace\"></pre>\n"
      ],
      "text/plain": []
     },
     "metadata": {},
     "output_type": "display_data"
    },
    {
     "data": {
      "text/html": [
       "<pre style=\"white-space:pre;overflow-x:auto;line-height:normal;font-family:Menlo,'DejaVu Sans Mono',consolas,'Courier New',monospace\">\n",
       "</pre>\n"
      ],
      "text/plain": [
       "\n"
      ]
     },
     "metadata": {},
     "output_type": "display_data"
    },
    {
     "name": "stdout",
     "output_type": "stream",
     "text": [
      "unique users:  1083\n",
      "user labels in this model:  215\n",
      "train:  117805 test:  29452\n"
     ]
    }
   ],
   "source": [
    "train, test, top_users = load_data()\n",
    "train_text = [t.text for t in train]\n",
    "y_train =[top_users[t.user_id] for t in train]\n",
    "x_val = [t.text for t in test]\n",
    "y_val = [top_users[t.user_id] for t in test]"
   ]
  },
  {
   "cell_type": "markdown",
   "id": "cc0f1ef7",
   "metadata": {},
   "source": [
    "## Fit embedding to training text"
   ]
  },
  {
   "cell_type": "code",
   "execution_count": 28,
   "id": "b909ae2f",
   "metadata": {},
   "outputs": [],
   "source": [
    "from tensorflow.keras.layers import TextVectorization\n",
    "def custom_standardization(input_data):\n",
    "  return tf.strings.lower(input_data)\n",
    "  #stripped_html = tf.strings.regex_replace(lowercase, '<br />', ' ')\n",
    "  #return tf.strings.regex_replace(stripped_html,\n",
    "      #                            '[%s]' % re.escape(string.punctuation), '')\n",
    "\n",
    "\n",
    "# Vocabulary size and number of words in a sequence.\n",
    "vocab_size = 20000\n",
    "# TODO these should be the same\n",
    "sequence_length = 200\n",
    "maxlen=200\n",
    "\n",
    "# Use the text vectorization layer to normalize, split, and map strings to\n",
    "# integers. Note that the layer uses the custom standardization defined above.\n",
    "# Set maximum_sequence length as all samples are not of the same length.\n",
    "vectorize_layer = TextVectorization(\n",
    "    max_tokens=vocab_size,\n",
    "    output_mode='int',\n",
    "    output_sequence_length=sequence_length)\n",
    "\n",
    "# Make a text-only dataset (no labels) and call adapt to build the vocabulary.\n",
    "#text_ds = train.map(lambda x, y: x)\n",
    "vectorize_layer.adapt(train_text)"
   ]
  },
  {
   "cell_type": "markdown",
   "id": "84e6986d",
   "metadata": {},
   "source": [
    "## Define baseline + transformer models\n",
    "\n",
    "Defaults to training a super simple toy baseline_model."
   ]
  },
  {
   "cell_type": "code",
   "execution_count": 24,
   "id": "2ef4da2a",
   "metadata": {},
   "outputs": [],
   "source": [
    "def baseline_model():\n",
    "    inputs = layers.Input(shape=(1,), dtype=tf.string)\n",
    "    x = vectorize_layer(inputs)\n",
    "    x = layers.Dense(20, activation=\"relu\")(x) # was 20\n",
    "    x = layers.Dropout(0.1)(x)\n",
    "    outputs = layers.Dense(215, activation=\"softmax\")(x)\n",
    "    return keras.Model(inputs=inputs, outputs=outputs)\n",
    "\n",
    "def transformer_model():\n",
    "    embed_dim = 64  # Embedding size for each token\n",
    "    num_heads = 6  # Number of attention heads\n",
    "    ff_dim = 64  # Hidden layer size in feed forward network inside transformer\n",
    "\n",
    "    inputs = layers.Input(shape=(1,), dtype=tf.string)\n",
    "    x = vectorize_layer(inputs)\n",
    "    embedding_layer = TokenAndPositionEmbedding(maxlen, vocab_size, embed_dim)\n",
    "    x = embedding_layer(x)\n",
    "    transformer_block = TransformerBlock(embed_dim, num_heads, ff_dim)\n",
    "    x = transformer_block(x)\n",
    "    x = layers.GlobalAveragePooling1D()(x)\n",
    "    x = layers.Dropout(0.1)(x)\n",
    "    x = layers.Dense(20, activation=\"relu\")(x) \n",
    "    x = layers.Dropout(0.1)(x)\n",
    "    outputs = layers.Dense(215, activation=\"softmax\")(x)\n",
    "    model = keras.Model(inputs=inputs, outputs=outputs)\n",
    "    "
   ]
  },
  {
   "cell_type": "code",
   "execution_count": 29,
   "id": "c6d64ccc",
   "metadata": {},
   "outputs": [],
   "source": [
    "curr_model = baseline_model() # trains to about 4.11% in 10-15 sec\n",
    "\n",
    "# switch to this call to train a more legit model\n",
    "# takes 5-10 mins per epoch on CPU \n",
    "#curr_model = transformer_model()"
   ]
  },
  {
   "cell_type": "markdown",
   "id": "06e70c56",
   "metadata": {},
   "source": [
    "## Train model!"
   ]
  },
  {
   "cell_type": "code",
   "execution_count": 30,
   "id": "f6e158cd",
   "metadata": {},
   "outputs": [
    {
     "name": "stdout",
     "output_type": "stream",
     "text": [
      "1841/1841 [==============================] - 12s 6ms/step - loss: 22.8369 - accuracy: 0.0385 - val_loss: 4.9122 - val_accuracy: 0.0416\n"
     ]
    }
   ],
   "source": [
    "curr_model.compile(\n",
    "    optimizer=\"adam\", loss=\"sparse_categorical_crossentropy\", metrics=[\"accuracy\"]\n",
    ")\n",
    "history = curr_model.fit(\n",
    "    # probably increase epochs for transformer model to about 5\n",
    "    train_text, y_train, batch_size=64, epochs=1, validation_data=(x_val, y_val)\n",
    ")"
   ]
  },
  {
   "cell_type": "code",
   "execution_count": 23,
   "id": "eb4d9be3",
   "metadata": {},
   "outputs": [
    {
     "name": "stderr",
     "output_type": "stream",
     "text": [
      "WARNING:absl:Found untraced functions such as embedding_2_layer_call_fn, embedding_2_layer_call_and_return_conditional_losses, embedding_3_layer_call_fn, embedding_3_layer_call_and_return_conditional_losses, multi_head_attention_1_layer_call_fn while saving (showing 5 of 26). These functions will not be directly callable after loading.\n"
     ]
    },
    {
     "name": "stdout",
     "output_type": "stream",
     "text": [
      "INFO:tensorflow:Assets written to: my_test_model/assets\n"
     ]
    },
    {
     "name": "stderr",
     "output_type": "stream",
     "text": [
      "INFO:tensorflow:Assets written to: my_test_model/assets\n"
     ]
    }
   ],
   "source": [
    "## Don't forget to save\n",
    "### try a unique descriptive name ;)\n",
    "curr_model.save(\"my_test_model\")"
   ]
  },
  {
   "cell_type": "code",
   "execution_count": null,
   "id": "f3d56ba9",
   "metadata": {},
   "outputs": [],
   "source": [
    "# more fun ideas to try: \n",
    "\n",
    "# tried:\n",
    "# - bigger batch size! meh, speed not much different\n",
    "# - more epochs: overfits by 29/e5\n",
    "# - more attention heads: seems to be most impactful\n",
    "# - one more dense layer: meh\n",
    "\n",
    "# to try eventually maybe:\n",
    "# - other loss: nah\n",
    "# - stop words: would be smart, nontrivial\n",
    "# - punctuation?!\n",
    "# - different min cutoff"
   ]
  }
 ],
 "metadata": {
  "kernelspec": {
   "display_name": "Python 3 (ipykernel)",
   "language": "python",
   "name": "python3"
  },
  "language_info": {
   "codemirror_mode": {
    "name": "ipython",
    "version": 3
   },
   "file_extension": ".py",
   "mimetype": "text/x-python",
   "name": "python",
   "nbconvert_exporter": "python",
   "pygments_lexer": "ipython3",
   "version": "3.9.9"
  }
 },
 "nbformat": 4,
 "nbformat_minor": 5
}
