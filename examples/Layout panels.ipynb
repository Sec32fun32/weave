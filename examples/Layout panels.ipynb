{
 "cells": [
  {
   "cell_type": "code",
   "execution_count": 1,
   "id": "cfebbf95",
   "metadata": {},
   "outputs": [],
   "source": [
    "import weave\n",
    "from weave import panels"
   ]
  },
  {
   "cell_type": "code",
   "execution_count": 2,
   "id": "e427d65a",
   "metadata": {},
   "outputs": [
    {
     "data": {
      "text/html": [
       "\n",
       "        <iframe\n",
       "            width=\"100%\"\n",
       "            height=\"400px\"\n",
       "            src=\"http://127.0.0.1:61465/__frontend/weave_jupyter/__frontend/weave_jupyter?fullScreen&expNode=%7B%22nodeType%22%3A%20%22void%22%2C%20%22type%22%3A%20%22invalid%22%7D&panelId=labeled-item&panelConfig=%7B%22label%22%3A%20%22label%22%2C%20%22item%22%3A%20%7B%22nodeType%22%3A%20%22const%22%2C%20%22type%22%3A%20%22string%22%2C%20%22val%22%3A%20%22item%22%7D%2C%20%22height%22%3A%20null%7D\"\n",
       "            frameborder=\"0\"\n",
       "            allowfullscreen\n",
       "            \n",
       "        ></iframe>\n",
       "        "
      ],
      "text/plain": [
       "<IPython.lib.display.IFrame at 0x1abd146a0>"
      ]
     },
     "metadata": {},
     "output_type": "display_data"
    }
   ],
   "source": [
    "# LabeledItem example\n",
    "panels.LabeledItem(item='item', label='label')"
   ]
  },
  {
   "cell_type": "code",
   "execution_count": 3,
   "id": "f9852987",
   "metadata": {},
   "outputs": [
    {
     "data": {
      "text/html": [
       "\n",
       "        <iframe\n",
       "            width=\"100%\"\n",
       "            height=\"400px\"\n",
       "            src=\"http://127.0.0.1:61465/__frontend/weave_jupyter/__frontend/weave_jupyter?fullScreen&expNode=%7B%22nodeType%22%3A%20%22void%22%2C%20%22type%22%3A%20%22invalid%22%7D&panelId=group&panelConfig=%7B%22items%22%3A%20%5B%7B%22panelInputExpr%22%3A%20%7B%22nodeType%22%3A%20%22void%22%2C%20%22type%22%3A%20%22invalid%22%7D%2C%20%22panelId%22%3A%20%22group%22%2C%20%22panelConfig%22%3A%20%7B%22items%22%3A%20%5B%7B%22panelInputExpr%22%3A%20%7B%22nodeType%22%3A%20%22void%22%2C%20%22type%22%3A%20%22invalid%22%7D%2C%20%22panelId%22%3A%20%22labeled-item%22%2C%20%22panelConfig%22%3A%20%7B%22label%22%3A%20%22label1%22%2C%20%22item%22%3A%20%7B%22nodeType%22%3A%20%22const%22%2C%20%22type%22%3A%20%22string%22%2C%20%22val%22%3A%20%22item1%22%7D%2C%20%22height%22%3A%20null%7D%7D%2C%20%7B%22panelInputExpr%22%3A%20%7B%22nodeType%22%3A%20%22void%22%2C%20%22type%22%3A%20%22invalid%22%7D%2C%20%22panelId%22%3A%20%22labeled-item%22%2C%20%22panelConfig%22%3A%20%7B%22label%22%3A%20%22label2%22%2C%20%22item%22%3A%20%7B%22nodeType%22%3A%20%22const%22%2C%20%22type%22%3A%20%22string%22%2C%20%22val%22%3A%20%22item2%22%7D%2C%20%22height%22%3A%20null%7D%7D%2C%20%7B%22panelInputExpr%22%3A%20%7B%22nodeType%22%3A%20%22void%22%2C%20%22type%22%3A%20%22invalid%22%7D%2C%20%22panelId%22%3A%20%22labeled-item%22%2C%20%22panelConfig%22%3A%20%7B%22label%22%3A%20%22label3%22%2C%20%22item%22%3A%20%7B%22nodeType%22%3A%20%22const%22%2C%20%22type%22%3A%20%22string%22%2C%20%22val%22%3A%20%22item3%22%7D%2C%20%22height%22%3A%20null%7D%7D%5D%2C%20%22preferHorizontal%22%3A%20true%7D%7D%2C%20%7B%22panelInputExpr%22%3A%20%7B%22nodeType%22%3A%20%22void%22%2C%20%22type%22%3A%20%22invalid%22%7D%2C%20%22panelId%22%3A%20%22labeled-item%22%2C%20%22panelConfig%22%3A%20%7B%22label%22%3A%20%22label4%22%2C%20%22item%22%3A%20%7B%22nodeType%22%3A%20%22const%22%2C%20%22type%22%3A%20%22string%22%2C%20%22val%22%3A%20%22item4%22%7D%2C%20%22height%22%3A%20null%7D%7D%2C%20%7B%22panelInputExpr%22%3A%20%7B%22nodeType%22%3A%20%22void%22%2C%20%22type%22%3A%20%22invalid%22%7D%2C%20%22panelId%22%3A%20%22labeled-item%22%2C%20%22panelConfig%22%3A%20%7B%22label%22%3A%20%22label5%22%2C%20%22item%22%3A%20%7B%22nodeType%22%3A%20%22const%22%2C%20%22type%22%3A%20%22string%22%2C%20%22val%22%3A%20%22item5%22%7D%2C%20%22height%22%3A%20null%7D%7D%5D%2C%20%22preferHorizontal%22%3A%20null%7D\"\n",
       "            frameborder=\"0\"\n",
       "            allowfullscreen\n",
       "            \n",
       "        ></iframe>\n",
       "        "
      ],
      "text/plain": [
       "<IPython.lib.display.IFrame at 0x1abd8e220>"
      ]
     },
     "metadata": {},
     "output_type": "display_data"
    }
   ],
   "source": [
    "# Group example\n",
    "panels.Group(\n",
    "    items=[\n",
    "        panels.Group(\n",
    "            prefer_horizontal=True,\n",
    "            items=[\n",
    "                panels.LabeledItem(item='item1', label='label1'),\n",
    "                panels.LabeledItem(item='item2', label='label2'),\n",
    "                panels.LabeledItem(item='item3', label='label3'),\n",
    "            ]\n",
    "        ),\n",
    "        panels.LabeledItem(item='item4', label='label4'),\n",
    "        panels.LabeledItem(item='item5', label='label5')\n",
    "    ]\n",
    ")"
   ]
  },
  {
   "cell_type": "code",
   "execution_count": 4,
   "id": "6ee2951b",
   "metadata": {},
   "outputs": [
    {
     "data": {
      "text/html": [
       "\n",
       "        <iframe\n",
       "            width=\"100%\"\n",
       "            height=\"400px\"\n",
       "            src=\"http://127.0.0.1:61465/__frontend/weave_jupyter/__frontend/weave_jupyter?fullScreen&expNode=%7B%22nodeType%22%3A%20%22void%22%2C%20%22type%22%3A%20%22invalid%22%7D&panelId=card&panelConfig=%7B%22title%22%3A%20%7B%22nodeType%22%3A%20%22const%22%2C%20%22type%22%3A%20%22string%22%2C%20%22val%22%3A%20%22GPT-3%22%7D%2C%20%22subtitle%22%3A%20%22OpenAI%22%2C%20%22content%22%3A%20%5B%7B%22name%22%3A%20%22Overview%22%2C%20%22content%22%3A%20%7B%22panelInputExpr%22%3A%20%7B%22nodeType%22%3A%20%22void%22%2C%20%22type%22%3A%20%22invalid%22%7D%2C%20%22panelId%22%3A%20%22group%22%2C%20%22panelConfig%22%3A%20%7B%22items%22%3A%20%5B%7B%22panelInputExpr%22%3A%20%7B%22nodeType%22%3A%20%22void%22%2C%20%22type%22%3A%20%22invalid%22%7D%2C%20%22panelId%22%3A%20%22group%22%2C%20%22panelConfig%22%3A%20%7B%22items%22%3A%20%5B%7B%22panelInputExpr%22%3A%20%7B%22nodeType%22%3A%20%22void%22%2C%20%22type%22%3A%20%22invalid%22%7D%2C%20%22panelId%22%3A%20%22labeled-item%22%2C%20%22panelConfig%22%3A%20%7B%22label%22%3A%20%22label1%22%2C%20%22item%22%3A%20%7B%22nodeType%22%3A%20%22const%22%2C%20%22type%22%3A%20%22string%22%2C%20%22val%22%3A%20%22item1%22%7D%2C%20%22height%22%3A%20null%7D%7D%2C%20%7B%22panelInputExpr%22%3A%20%7B%22nodeType%22%3A%20%22void%22%2C%20%22type%22%3A%20%22invalid%22%7D%2C%20%22panelId%22%3A%20%22labeled-item%22%2C%20%22panelConfig%22%3A%20%7B%22label%22%3A%20%22label2%22%2C%20%22item%22%3A%20%7B%22nodeType%22%3A%20%22const%22%2C%20%22type%22%3A%20%22string%22%2C%20%22val%22%3A%20%22item2%22%7D%2C%20%22height%22%3A%20null%7D%7D%2C%20%7B%22panelInputExpr%22%3A%20%7B%22nodeType%22%3A%20%22void%22%2C%20%22type%22%3A%20%22invalid%22%7D%2C%20%22panelId%22%3A%20%22labeled-item%22%2C%20%22panelConfig%22%3A%20%7B%22label%22%3A%20%22label3%22%2C%20%22item%22%3A%20%7B%22nodeType%22%3A%20%22const%22%2C%20%22type%22%3A%20%22string%22%2C%20%22val%22%3A%20%22item3%22%7D%2C%20%22height%22%3A%20null%7D%7D%5D%2C%20%22preferHorizontal%22%3A%20true%7D%7D%2C%20%7B%22panelInputExpr%22%3A%20%7B%22nodeType%22%3A%20%22void%22%2C%20%22type%22%3A%20%22invalid%22%7D%2C%20%22panelId%22%3A%20%22labeled-item%22%2C%20%22panelConfig%22%3A%20%7B%22label%22%3A%20%22label4%22%2C%20%22item%22%3A%20%7B%22nodeType%22%3A%20%22const%22%2C%20%22type%22%3A%20%22string%22%2C%20%22val%22%3A%20%22item4%22%7D%2C%20%22height%22%3A%20null%7D%7D%2C%20%7B%22panelInputExpr%22%3A%20%7B%22nodeType%22%3A%20%22void%22%2C%20%22type%22%3A%20%22invalid%22%7D%2C%20%22panelId%22%3A%20%22labeled-item%22%2C%20%22panelConfig%22%3A%20%7B%22label%22%3A%20%22label5%22%2C%20%22item%22%3A%20%7B%22nodeType%22%3A%20%22const%22%2C%20%22type%22%3A%20%22string%22%2C%20%22val%22%3A%20%22item5%22%7D%2C%20%22height%22%3A%20null%7D%7D%5D%2C%20%22preferHorizontal%22%3A%20null%7D%7D%7D%2C%20%7B%22name%22%3A%20%22Limitations%20%26%20Use%22%2C%20%22content%22%3A%20%7B%22panelInputExpr%22%3A%20%7B%22nodeType%22%3A%20%22void%22%2C%20%22type%22%3A%20%22invalid%22%7D%2C%20%22panelId%22%3A%20%22labeled-item%22%2C%20%22panelConfig%22%3A%20%7B%22label%22%3A%20%22tab2-label%22%2C%20%22item%22%3A%20%7B%22nodeType%22%3A%20%22const%22%2C%20%22type%22%3A%20%22string%22%2C%20%22val%22%3A%20%22tab2%22%7D%2C%20%22height%22%3A%20null%7D%7D%7D%5D%7D\"\n",
       "            frameborder=\"0\"\n",
       "            allowfullscreen\n",
       "            \n",
       "        ></iframe>\n",
       "        "
      ],
      "text/plain": [
       "<IPython.lib.display.IFrame at 0x1abd8cb50>"
      ]
     },
     "metadata": {},
     "output_type": "display_data"
    }
   ],
   "source": [
    "# Card example\n",
    "\n",
    "panels.Card(\n",
    "    title='GPT-3',\n",
    "    subtitle='OpenAI',\n",
    "    content=[\n",
    "        panels.CardTab(\n",
    "            name='Overview',\n",
    "            content=panels.Group(\n",
    "                items=[\n",
    "                    panels.Group(\n",
    "                        prefer_horizontal=True,\n",
    "                        items=[\n",
    "                            panels.LabeledItem(item='item1', label='label1'),\n",
    "                            panels.LabeledItem(item='item2', label='label2'),\n",
    "                            panels.LabeledItem(item='item3', label='label3'),\n",
    "                        ]\n",
    "                    ),\n",
    "                    panels.LabeledItem(item='item4', label='label4'),\n",
    "                    panels.LabeledItem(item='item5', label='label5')\n",
    "                ]\n",
    "            )\n",
    "        ),\n",
    "        panels.CardTab(\n",
    "            name='Limitations & Use',\n",
    "            content=panels.LabeledItem(item='tab2', label='tab2-label')\n",
    "        ),\n",
    "        \n",
    "    ]\n",
    ")"
   ]
  },
  {
   "cell_type": "code",
   "execution_count": 5,
   "id": "762467e8",
   "metadata": {},
   "outputs": [
    {
     "data": {
      "text/html": [
       "\n",
       "        <iframe\n",
       "            width=\"100%\"\n",
       "            height=\"400px\"\n",
       "            src=\"http://127.0.0.1:61465/__frontend/weave_jupyter/__frontend/weave_jupyter?fullScreen&expNode=%7B%22nodeType%22%3A%20%22void%22%2C%20%22type%22%3A%20%22invalid%22%7D&panelId=card&panelConfig=%7B%22title%22%3A%20%7B%22nodeType%22%3A%20%22const%22%2C%20%22type%22%3A%20%22string%22%2C%20%22val%22%3A%20%22GPT-3%22%7D%2C%20%22subtitle%22%3A%20%22OpenAI%22%2C%20%22content%22%3A%20%5B%7B%22name%22%3A%20%22Overview%22%2C%20%22content%22%3A%20%7B%22panelInputExpr%22%3A%20%7B%22nodeType%22%3A%20%22void%22%2C%20%22type%22%3A%20%22invalid%22%7D%2C%20%22panelId%22%3A%20%22group%22%2C%20%22panelConfig%22%3A%20%7B%22items%22%3A%20%5B%7B%22panelInputExpr%22%3A%20%7B%22nodeType%22%3A%20%22void%22%2C%20%22type%22%3A%20%22invalid%22%7D%2C%20%22panelId%22%3A%20%22group%22%2C%20%22panelConfig%22%3A%20%7B%22items%22%3A%20%5B%7B%22panelInputExpr%22%3A%20%7B%22nodeType%22%3A%20%22void%22%2C%20%22type%22%3A%20%22invalid%22%7D%2C%20%22panelId%22%3A%20%22labeled-item%22%2C%20%22panelConfig%22%3A%20%7B%22label%22%3A%20%22label1%22%2C%20%22item%22%3A%20%7B%22nodeType%22%3A%20%22const%22%2C%20%22type%22%3A%20%22string%22%2C%20%22val%22%3A%20%22item1%22%7D%2C%20%22height%22%3A%20null%7D%7D%2C%20%7B%22panelInputExpr%22%3A%20%7B%22nodeType%22%3A%20%22void%22%2C%20%22type%22%3A%20%22invalid%22%7D%2C%20%22panelId%22%3A%20%22labeled-item%22%2C%20%22panelConfig%22%3A%20%7B%22label%22%3A%20%22label2%22%2C%20%22item%22%3A%20%7B%22nodeType%22%3A%20%22const%22%2C%20%22type%22%3A%20%22string%22%2C%20%22val%22%3A%20%22item2%22%7D%2C%20%22height%22%3A%20null%7D%7D%2C%20%7B%22panelInputExpr%22%3A%20%7B%22nodeType%22%3A%20%22void%22%2C%20%22type%22%3A%20%22invalid%22%7D%2C%20%22panelId%22%3A%20%22labeled-item%22%2C%20%22panelConfig%22%3A%20%7B%22label%22%3A%20%22label3%22%2C%20%22item%22%3A%20%7B%22nodeType%22%3A%20%22const%22%2C%20%22type%22%3A%20%22string%22%2C%20%22val%22%3A%20%22item3%22%7D%2C%20%22height%22%3A%20null%7D%7D%5D%2C%20%22preferHorizontal%22%3A%20true%7D%7D%2C%20%7B%22panelInputExpr%22%3A%20%7B%22nodeType%22%3A%20%22void%22%2C%20%22type%22%3A%20%22invalid%22%7D%2C%20%22panelId%22%3A%20%22labeled-item%22%2C%20%22panelConfig%22%3A%20%7B%22label%22%3A%20%22label4%22%2C%20%22item%22%3A%20%7B%22nodeType%22%3A%20%22const%22%2C%20%22type%22%3A%20%22string%22%2C%20%22val%22%3A%20%22item4%22%7D%2C%20%22height%22%3A%20null%7D%7D%2C%20%7B%22panelInputExpr%22%3A%20%7B%22nodeType%22%3A%20%22void%22%2C%20%22type%22%3A%20%22invalid%22%7D%2C%20%22panelId%22%3A%20%22labeled-item%22%2C%20%22panelConfig%22%3A%20%7B%22label%22%3A%20%22Example%22%2C%20%22item%22%3A%20%7B%22nodeType%22%3A%20%22const%22%2C%20%22type%22%3A%20%7B%22type%22%3A%20%22list%22%2C%20%22objectType%22%3A%20%7B%22type%22%3A%20%22typedDict%22%2C%20%22propertyTypes%22%3A%20%7B%22a%22%3A%20%22int%22%2C%20%22b%22%3A%20%22int%22%7D%7D%7D%2C%20%22val%22%3A%20%5B%7B%22a%22%3A%205%2C%20%22b%22%3A%206%7D%2C%20%7B%22a%22%3A%2014%2C%20%22b%22%3A%209%7D%2C%20%7B%22a%22%3A%204%2C%20%22b%22%3A%2022%7D%5D%7D%2C%20%22height%22%3A%20400%7D%7D%5D%2C%20%22preferHorizontal%22%3A%20null%7D%7D%7D%2C%20%7B%22name%22%3A%20%22Limitations%20%26%20Use%22%2C%20%22content%22%3A%20%7B%22panelInputExpr%22%3A%20%7B%22nodeType%22%3A%20%22void%22%2C%20%22type%22%3A%20%22invalid%22%7D%2C%20%22panelId%22%3A%20%22labeled-item%22%2C%20%22panelConfig%22%3A%20%7B%22label%22%3A%20%22tab2-label%22%2C%20%22item%22%3A%20%7B%22nodeType%22%3A%20%22const%22%2C%20%22type%22%3A%20%22string%22%2C%20%22val%22%3A%20%22tab2%22%7D%2C%20%22height%22%3A%20null%7D%7D%7D%5D%7D\"\n",
       "            frameborder=\"0\"\n",
       "            allowfullscreen\n",
       "            \n",
       "        ></iframe>\n",
       "        "
      ],
      "text/plain": [
       "<IPython.lib.display.IFrame at 0x1abd8c640>"
      ]
     },
     "metadata": {},
     "output_type": "display_data"
    }
   ],
   "source": [
    "# Table in Card example\n",
    "\n",
    "panels.Card(\n",
    "    title='GPT-3',\n",
    "    subtitle='OpenAI',\n",
    "    content=[\n",
    "        panels.CardTab(\n",
    "            name='Overview',\n",
    "            content=panels.Group(\n",
    "                items=[\n",
    "                    panels.Group(\n",
    "                        prefer_horizontal=True,\n",
    "                        items=[\n",
    "                            panels.LabeledItem(item='item1', label='label1'),\n",
    "                            panels.LabeledItem(item='item2', label='label2'),\n",
    "                            panels.LabeledItem(item='item3', label='label3'),\n",
    "                        ]\n",
    "                    ),\n",
    "                    panels.LabeledItem(item='item4', label='label4'),\n",
    "                    panels.LabeledItem(\n",
    "                            item=[\n",
    "                                {\"a\": 5, \"b\": 6},\n",
    "                                {\"a\": 14, \"b\": 9},\n",
    "                                {\"a\": 4, \"b\": 22},\n",
    "                            ],\n",
    "                            height=400,\n",
    "                            label=\"Example\",\n",
    "                        ),\n",
    "                ]\n",
    "            )\n",
    "        ),\n",
    "        panels.CardTab(\n",
    "            name='Limitations & Use',\n",
    "            content=panels.LabeledItem(item='tab2', label='tab2-label')\n",
    "        ),\n",
    "        \n",
    "    ]\n",
    ")"
   ]
  },
  {
   "cell_type": "code",
   "execution_count": 6,
   "id": "81c83f19",
   "metadata": {},
   "outputs": [
    {
     "data": {
      "text/html": [
       "\n",
       "        <iframe\n",
       "            width=\"100%\"\n",
       "            height=\"400px\"\n",
       "            src=\"http://127.0.0.1:61465/__frontend/weave_jupyter/__frontend/weave_jupyter?fullScreen&expNode=%7B%22nodeType%22%3A%20%22void%22%2C%20%22type%22%3A%20%22invalid%22%7D&panelId=labeled-item&panelConfig=%7B%22label%22%3A%20%22Example%22%2C%20%22item%22%3A%20%7B%22panelInputExpr%22%3A%20%7B%22nodeType%22%3A%20%22output%22%2C%20%22type%22%3A%20%7B%22type%22%3A%20%22list%22%2C%20%22objectType%22%3A%20%7B%22type%22%3A%20%22typedDict%22%2C%20%22propertyTypes%22%3A%20%7B%22a%22%3A%20%22int%22%2C%20%22b%22%3A%20%22int%22%7D%7D%7D%2C%20%22fromOp%22%3A%20%7B%22name%22%3A%20%22get%22%2C%20%22inputs%22%3A%20%7B%22uri%22%3A%20%7B%22nodeType%22%3A%20%22const%22%2C%20%22type%22%3A%20%7B%22type%22%3A%20%22const%22%2C%20%22valType%22%3A%20%22string%22%2C%20%22val%22%3A%20%22local-artifact%3A///tmp/local-artifacts/list/5b2b211309f5bd53ce05a2c61ff70147%22%7D%2C%20%22val%22%3A%20%22local-artifact%3A///tmp/local-artifacts/list/5b2b211309f5bd53ce05a2c61ff70147%22%7D%7D%7D%7D%2C%20%22panelId%22%3A%20%22table%22%2C%20%22panelConfig%22%3A%20%7B%22tableState%22%3A%20%7B%22autoColumns%22%3A%20false%2C%20%22columns%22%3A%20%7B%228HZ6MTO3WO0LPJ%22%3A%20%7B%22panelId%22%3A%20%22%22%2C%20%22panelConfig%22%3A%20null%7D%2C%20%22KWVAC5V6Y4IJEP%22%3A%20%7B%22panelId%22%3A%20%22%22%2C%20%22panelConfig%22%3A%20null%7D%7D%2C%20%22preFilterFunction%22%3A%20%7B%22nodeType%22%3A%20%22void%22%2C%20%22type%22%3A%20%22invalid%22%7D%2C%20%22columnNames%22%3A%20%7B%228HZ6MTO3WO0LPJ%22%3A%20%22a%20name%22%2C%20%22KWVAC5V6Y4IJEP%22%3A%20%22%22%7D%2C%20%22columnSelectFunctions%22%3A%20%7B%228HZ6MTO3WO0LPJ%22%3A%20%7B%22nodeType%22%3A%20%22output%22%2C%20%22type%22%3A%20%22number%22%2C%20%22fromOp%22%3A%20%7B%22name%22%3A%20%22number-add%22%2C%20%22inputs%22%3A%20%7B%22lhs%22%3A%20%7B%22nodeType%22%3A%20%22output%22%2C%20%22type%22%3A%20%22int%22%2C%20%22fromOp%22%3A%20%7B%22name%22%3A%20%22pick%22%2C%20%22inputs%22%3A%20%7B%22obj%22%3A%20%7B%22nodeType%22%3A%20%22var%22%2C%20%22type%22%3A%20%7B%22type%22%3A%20%22typedDict%22%2C%20%22propertyTypes%22%3A%20%7B%22a%22%3A%20%22int%22%2C%20%22b%22%3A%20%22int%22%7D%7D%2C%20%22varName%22%3A%20%22row%22%7D%2C%20%22key%22%3A%20%7B%22nodeType%22%3A%20%22const%22%2C%20%22type%22%3A%20%7B%22type%22%3A%20%22const%22%2C%20%22valType%22%3A%20%22string%22%2C%20%22val%22%3A%20%22a%22%7D%2C%20%22val%22%3A%20%22a%22%7D%7D%7D%7D%2C%20%22rhs%22%3A%20%7B%22nodeType%22%3A%20%22const%22%2C%20%22type%22%3A%20%7B%22type%22%3A%20%22const%22%2C%20%22valType%22%3A%20%22int%22%2C%20%22val%22%3A%203%7D%2C%20%22val%22%3A%203%7D%7D%7D%7D%2C%20%22KWVAC5V6Y4IJEP%22%3A%20%7B%22nodeType%22%3A%20%22output%22%2C%20%22type%22%3A%20%22number%22%2C%20%22fromOp%22%3A%20%7B%22name%22%3A%20%22number-add%22%2C%20%22inputs%22%3A%20%7B%22lhs%22%3A%20%7B%22nodeType%22%3A%20%22output%22%2C%20%22type%22%3A%20%22int%22%2C%20%22fromOp%22%3A%20%7B%22name%22%3A%20%22pick%22%2C%20%22inputs%22%3A%20%7B%22obj%22%3A%20%7B%22nodeType%22%3A%20%22var%22%2C%20%22type%22%3A%20%7B%22type%22%3A%20%22typedDict%22%2C%20%22propertyTypes%22%3A%20%7B%22a%22%3A%20%22int%22%2C%20%22b%22%3A%20%22int%22%7D%7D%2C%20%22varName%22%3A%20%22row%22%7D%2C%20%22key%22%3A%20%7B%22nodeType%22%3A%20%22const%22%2C%20%22type%22%3A%20%7B%22type%22%3A%20%22const%22%2C%20%22valType%22%3A%20%22string%22%2C%20%22val%22%3A%20%22a%22%7D%2C%20%22val%22%3A%20%22a%22%7D%7D%7D%7D%2C%20%22rhs%22%3A%20%7B%22nodeType%22%3A%20%22output%22%2C%20%22type%22%3A%20%22int%22%2C%20%22fromOp%22%3A%20%7B%22name%22%3A%20%22pick%22%2C%20%22inputs%22%3A%20%7B%22obj%22%3A%20%7B%22nodeType%22%3A%20%22var%22%2C%20%22type%22%3A%20%7B%22type%22%3A%20%22typedDict%22%2C%20%22propertyTypes%22%3A%20%7B%22a%22%3A%20%22int%22%2C%20%22b%22%3A%20%22int%22%7D%7D%2C%20%22varName%22%3A%20%22row%22%7D%2C%20%22key%22%3A%20%7B%22nodeType%22%3A%20%22const%22%2C%20%22type%22%3A%20%7B%22type%22%3A%20%22const%22%2C%20%22valType%22%3A%20%22string%22%2C%20%22val%22%3A%20%22b%22%7D%2C%20%22val%22%3A%20%22b%22%7D%7D%7D%7D%7D%7D%7D%7D%2C%20%22order%22%3A%20%5B%228HZ6MTO3WO0LPJ%22%2C%20%22KWVAC5V6Y4IJEP%22%5D%2C%20%22groupBy%22%3A%20%5B%5D%2C%20%22sort%22%3A%20%5B%5D%2C%20%22pageSize%22%3A%2010%2C%20%22page%22%3A%200%7D%7D%7D%2C%20%22height%22%3A%20400%7D\"\n",
       "            frameborder=\"0\"\n",
       "            allowfullscreen\n",
       "            \n",
       "        ></iframe>\n",
       "        "
      ],
      "text/plain": [
       "<IPython.lib.display.IFrame at 0x1abdb4760>"
      ]
     },
     "metadata": {},
     "output_type": "display_data"
    }
   ],
   "source": [
    "# If you want full control over table columns\n",
    "\n",
    "table = panels.Table([\n",
    "            {\"a\": 5, \"b\": 6},\n",
    "            {\"a\": 14, \"b\": 9},\n",
    "            {\"a\": 4, \"b\": 22},\n",
    "        ])\n",
    "table.append_column(lambda row: row['a'] + 3, name=\"a name\")\n",
    "table.append_column(lambda row: row['a'] + row['b'])  # Will have an automatic name\n",
    "\n",
    "panels.LabeledItem(\n",
    "        item=table,\n",
    "        height=400,\n",
    "        label=\"Example\",\n",
    "    )"
   ]
  },
  {
   "cell_type": "code",
   "execution_count": 7,
   "id": "eaea1261",
   "metadata": {},
   "outputs": [
    {
     "data": {
      "text/html": [
       "\n",
       "        <iframe\n",
       "            width=\"100%\"\n",
       "            height=\"400px\"\n",
       "            src=\"http://127.0.0.1:61465/__frontend/weave_jupyter/__frontend/weave_jupyter?fullScreen&expNode=%7B%22nodeType%22%3A%20%22void%22%2C%20%22type%22%3A%20%22invalid%22%7D&panelId=labeled-item&panelConfig=%7B%22label%22%3A%20%22Example%22%2C%20%22item%22%3A%20%7B%22panelInputExpr%22%3A%20%7B%22nodeType%22%3A%20%22output%22%2C%20%22type%22%3A%20%7B%22type%22%3A%20%22list%22%2C%20%22objectType%22%3A%20%7B%22type%22%3A%20%22typedDict%22%2C%20%22propertyTypes%22%3A%20%7B%22a%22%3A%20%22int%22%2C%20%22b%22%3A%20%22int%22%7D%7D%7D%2C%20%22fromOp%22%3A%20%7B%22name%22%3A%20%22get%22%2C%20%22inputs%22%3A%20%7B%22uri%22%3A%20%7B%22nodeType%22%3A%20%22const%22%2C%20%22type%22%3A%20%7B%22type%22%3A%20%22const%22%2C%20%22valType%22%3A%20%22string%22%2C%20%22val%22%3A%20%22local-artifact%3A///tmp/local-artifacts/list/5b2b211309f5bd53ce05a2c61ff70147%22%7D%2C%20%22val%22%3A%20%22local-artifact%3A///tmp/local-artifacts/list/5b2b211309f5bd53ce05a2c61ff70147%22%7D%7D%7D%7D%2C%20%22panelId%22%3A%20%22plot%22%2C%20%22panelConfig%22%3A%20%7B%22table%22%3A%20%7B%22autoColumns%22%3A%20false%2C%20%22columns%22%3A%20%7B%22YKVP3SQISY7IRV%22%3A%20%7B%22panelId%22%3A%20%22%22%2C%20%22panelConfig%22%3A%20null%7D%2C%20%220IJ3XSQS4RGAFW%22%3A%20%7B%22panelId%22%3A%20%22%22%2C%20%22panelConfig%22%3A%20null%7D%2C%20%22X4NZVFXUC9Y7N2%22%3A%20%7B%22panelId%22%3A%20%22%22%2C%20%22panelConfig%22%3A%20null%7D%2C%20%221WCIP97ZUT13GN%22%3A%20%7B%22panelId%22%3A%20%22%22%2C%20%22panelConfig%22%3A%20null%7D%2C%20%228I72Q8SQNSFX19%22%3A%20%7B%22panelId%22%3A%20%22%22%2C%20%22panelConfig%22%3A%20null%7D%7D%2C%20%22preFilterFunction%22%3A%20%7B%22nodeType%22%3A%20%22void%22%2C%20%22type%22%3A%20%22invalid%22%7D%2C%20%22columnNames%22%3A%20%7B%22YKVP3SQISY7IRV%22%3A%20%22%22%2C%20%220IJ3XSQS4RGAFW%22%3A%20%22%22%2C%20%22X4NZVFXUC9Y7N2%22%3A%20%22%22%2C%20%221WCIP97ZUT13GN%22%3A%20%22%22%2C%20%228I72Q8SQNSFX19%22%3A%20%22%22%7D%2C%20%22columnSelectFunctions%22%3A%20%7B%22YKVP3SQISY7IRV%22%3A%20%7B%22nodeType%22%3A%20%22output%22%2C%20%22type%22%3A%20%22int%22%2C%20%22fromOp%22%3A%20%7B%22name%22%3A%20%22pick%22%2C%20%22inputs%22%3A%20%7B%22obj%22%3A%20%7B%22nodeType%22%3A%20%22var%22%2C%20%22type%22%3A%20%7B%22type%22%3A%20%22typedDict%22%2C%20%22propertyTypes%22%3A%20%7B%22a%22%3A%20%22int%22%2C%20%22b%22%3A%20%22int%22%7D%7D%2C%20%22varName%22%3A%20%22row%22%7D%2C%20%22key%22%3A%20%7B%22nodeType%22%3A%20%22const%22%2C%20%22type%22%3A%20%7B%22type%22%3A%20%22const%22%2C%20%22valType%22%3A%20%22string%22%2C%20%22val%22%3A%20%22a%22%7D%2C%20%22val%22%3A%20%22a%22%7D%7D%7D%7D%2C%20%220IJ3XSQS4RGAFW%22%3A%20%7B%22nodeType%22%3A%20%22output%22%2C%20%22type%22%3A%20%22int%22%2C%20%22fromOp%22%3A%20%7B%22name%22%3A%20%22pick%22%2C%20%22inputs%22%3A%20%7B%22obj%22%3A%20%7B%22nodeType%22%3A%20%22var%22%2C%20%22type%22%3A%20%7B%22type%22%3A%20%22typedDict%22%2C%20%22propertyTypes%22%3A%20%7B%22a%22%3A%20%22int%22%2C%20%22b%22%3A%20%22int%22%7D%7D%2C%20%22varName%22%3A%20%22row%22%7D%2C%20%22key%22%3A%20%7B%22nodeType%22%3A%20%22const%22%2C%20%22type%22%3A%20%7B%22type%22%3A%20%22const%22%2C%20%22valType%22%3A%20%22string%22%2C%20%22val%22%3A%20%22b%22%7D%2C%20%22val%22%3A%20%22b%22%7D%7D%7D%7D%2C%20%22X4NZVFXUC9Y7N2%22%3A%20%7B%22nodeType%22%3A%20%22void%22%2C%20%22type%22%3A%20%22invalid%22%7D%2C%20%221WCIP97ZUT13GN%22%3A%20%7B%22nodeType%22%3A%20%22void%22%2C%20%22type%22%3A%20%22invalid%22%7D%2C%20%228I72Q8SQNSFX19%22%3A%20%7B%22nodeType%22%3A%20%22void%22%2C%20%22type%22%3A%20%22invalid%22%7D%7D%2C%20%22order%22%3A%20%5B%22YKVP3SQISY7IRV%22%2C%20%220IJ3XSQS4RGAFW%22%2C%20%22X4NZVFXUC9Y7N2%22%2C%20%221WCIP97ZUT13GN%22%2C%20%228I72Q8SQNSFX19%22%5D%2C%20%22groupBy%22%3A%20%5B%5D%2C%20%22sort%22%3A%20%5B%5D%2C%20%22pageSize%22%3A%2010%2C%20%22page%22%3A%200%7D%2C%20%22dims%22%3A%20%7B%22x%22%3A%20%22YKVP3SQISY7IRV%22%2C%20%22y%22%3A%20%220IJ3XSQS4RGAFW%22%2C%20%22color%22%3A%20%22X4NZVFXUC9Y7N2%22%2C%20%22label%22%3A%20%221WCIP97ZUT13GN%22%2C%20%22tooltip%22%3A%20%228I72Q8SQNSFX19%22%7D%2C%20%22mark%22%3A%20null%2C%20%22axisSettings%22%3A%20%7B%22x%22%3A%20%7B%7D%2C%20%22y%22%3A%20%7B%7D%7D%2C%20%22legendSettings%22%3A%20%7B%7D%7D%7D%2C%20%22height%22%3A%20null%7D\"\n",
       "            frameborder=\"0\"\n",
       "            allowfullscreen\n",
       "            \n",
       "        ></iframe>\n",
       "        "
      ],
      "text/plain": [
       "<IPython.lib.display.IFrame at 0x1abc9fe80>"
      ]
     },
     "metadata": {},
     "output_type": "display_data"
    }
   ],
   "source": [
    "# Plot in Labeled item (you can do the same in a Card)\n",
    "\n",
    "plot = panels.Plot(\n",
    "    input_node=[\n",
    "            {\"a\": 5, \"b\": 6},\n",
    "            {\"a\": 14, \"b\": 9},\n",
    "            {\"a\": 4, \"b\": 22}],\n",
    "    x=lambda row: row['a'],\n",
    "    y=lambda row: row['b']\n",
    ")\n",
    "\n",
    "panels.LabeledItem(\n",
    "        item=plot,\n",
    "        label=\"Example\",\n",
    "    )"
   ]
  }
 ],
 "metadata": {
  "kernelspec": {
   "display_name": "Python 3 (ipykernel)",
   "language": "python",
   "name": "python3"
  },
  "language_info": {
   "codemirror_mode": {
    "name": "ipython",
    "version": 3
   },
   "file_extension": ".py",
   "mimetype": "text/x-python",
   "name": "python",
   "nbconvert_exporter": "python",
   "pygments_lexer": "ipython3",
   "version": "3.9.7"
  }
 },
 "nbformat": 4,
 "nbformat_minor": 5
}
