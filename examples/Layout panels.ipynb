{
 "cells": [
  {
   "cell_type": "code",
   "execution_count": null,
   "id": "cfebbf95",
   "metadata": {},
   "outputs": [],
   "source": [
    "import weave\n",
    "from weave import panels"
   ]
  },
  {
   "cell_type": "code",
   "execution_count": null,
   "id": "e427d65a",
   "metadata": {},
   "outputs": [],
   "source": [
    "# LabeledItem example\n",
    "panels.LabeledItem(item='item', label='label')"
   ]
  },
  {
   "cell_type": "code",
   "execution_count": null,
   "id": "f9852987",
   "metadata": {},
   "outputs": [],
   "source": [
    "# Group example\n",
    "panels.Group(\n",
    "    items=[\n",
    "        panels.Group(\n",
    "            prefer_horizontal=True,\n",
    "            items=[\n",
    "                panels.LabeledItem(item='item1', label='label1'),\n",
    "                panels.LabeledItem(item='item2', label='label2'),\n",
    "                panels.LabeledItem(item='item3', label='label3'),\n",
    "            ]\n",
    "        ),\n",
    "        panels.LabeledItem(item='item4', label='label4'),\n",
    "        panels.LabeledItem(item='item5', label='label5')\n",
    "    ]\n",
    ")"
   ]
  },
  {
   "cell_type": "code",
   "execution_count": null,
   "id": "6ee2951b",
   "metadata": {},
   "outputs": [],
   "source": [
    "# Card example\n",
    "\n",
    "panels.Card(\n",
    "    title='GPT-3',\n",
    "    subtitle='OpenAI',\n",
    "    content=[\n",
    "        panels.CardTab(\n",
    "            name='Overview',\n",
    "            content=panels.Group(\n",
    "                items=[\n",
    "                    panels.Group(\n",
    "                        prefer_horizontal=True,\n",
    "                        items=[\n",
    "                            panels.LabeledItem(item='item1', label='label1'),\n",
    "                            panels.LabeledItem(item='item2', label='label2'),\n",
    "                            panels.LabeledItem(item='item3', label='label3'),\n",
    "                        ]\n",
    "                    ),\n",
    "                    panels.LabeledItem(item='item4', label='label4'),\n",
    "                    panels.LabeledItem(item='item5', label='label5')\n",
    "                ]\n",
    "            )\n",
    "        ),\n",
    "        panels.CardTab(\n",
    "            name='Limitations & Use',\n",
    "            content=panels.LabeledItem(item='tab2', label='tab2-label')\n",
    "        ),\n",
    "        \n",
    "    ]\n",
    ")"
   ]
  }
 ],
 "metadata": {
  "kernelspec": {
   "display_name": "Python 3 (ipykernel)",
   "language": "python",
   "name": "python3"
  },
  "language_info": {
   "codemirror_mode": {
    "name": "ipython",
    "version": 3
   },
   "file_extension": ".py",
   "mimetype": "text/x-python",
   "name": "python",
   "nbconvert_exporter": "python",
   "pygments_lexer": "ipython3",
   "version": "3.9.7"
  }
 },
 "nbformat": 4,
 "nbformat_minor": 5
}
