{
 "cells": [
  {
   "cell_type": "markdown",
   "id": "cfa16846",
   "metadata": {},
   "source": [
    "# Slackformer: Basic transformer on WBSlack data\n",
    "All logic taken from Stacey's notebook and packaged into functions"
   ]
  },
  {
   "cell_type": "code",
   "execution_count": 1,
   "id": "f0f90338",
   "metadata": {},
   "outputs": [],
   "source": [
    "import weave\n",
    "import slack_trainer"
   ]
  },
  {
   "cell_type": "code",
   "execution_count": 2,
   "id": "c47a44a9",
   "metadata": {},
   "outputs": [],
   "source": [
    "SLACK_DATA_DIR = \"/Users/timothysweeney/Documents/jan_1_2022_slack_dump\"\n",
    "raw_data = slack_trainer.load_data(SLACK_DATA_DIR)"
   ]
  },
  {
   "cell_type": "code",
   "execution_count": 3,
   "id": "f3348395",
   "metadata": {},
   "outputs": [],
   "source": [
    "# config = {\n",
    "#     \"min_msg_count\"  : 50, \n",
    "#     \"train_frac\"     : 0.8,\n",
    "#     \"use_baseline\"   : False,\n",
    "#     \"vocab_size\"     : 30000, \n",
    "#     \"sequence_length\": 200,\n",
    "#     \"embed_dim\"      : 64,\n",
    "#     \"num_heads\"      : 6,\n",
    "#     \"ff_dim\"         : 64,\n",
    "#     \"optimizer\"      : \"adam\",\n",
    "#     \"loss\"           : \"sparse_categorical_crossentropy\",\n",
    "#     \"metrics\"        : [\"accuracy\"],\n",
    "#     \"batch_size\"     : 64, \n",
    "#     \"epochs\"         : 5\n",
    "# }\n",
    "config = {\n",
    "    \"min_msg_count\"  : 100,\n",
    "    \"train_frac\"     : 0.8,\n",
    "    \"use_baseline\"   : False,\n",
    "    \"vocab_size\"     : 50000,\n",
    "    \"sequence_length\": 200,\n",
    "    \"dense_dim\"      : 40,\n",
    "    \"embed_dim\"      : 64,\n",
    "    \"num_heads\"      : 6,\n",
    "    \"ff_dim\"         : 64,\n",
    "    \"optimizer\"      : \"adam\",\n",
    "    \"loss\"           : \"sparse_categorical_crossentropy\",\n",
    "    \"metrics\"        : [\"accuracy\"],\n",
    "    \"batch_size\"     : 64,\n",
    "    \"epochs\"         : 5\n",
    "}"
   ]
  },
  {
   "cell_type": "code",
   "execution_count": 4,
   "id": "a6353377",
   "metadata": {},
   "outputs": [],
   "source": [
    "# Process the data\n",
    "data = slack_trainer.process_data(users         = raw_data[\"users\"], \n",
    "                                  messages      = raw_data[\"messages\"], \n",
    "                                  min_msg_count = config[\"min_msg_count\"], \n",
    "                                  train_frac    = config[\"train_frac\"])"
   ]
  },
  {
   "cell_type": "code",
   "execution_count": 5,
   "id": "9759138d",
   "metadata": {},
   "outputs": [
    {
     "name": "stderr",
     "output_type": "stream",
     "text": [
      "2022-08-11 13:39:46.092872: I tensorflow/core/platform/cpu_feature_guard.cc:193] This TensorFlow binary is optimized with oneAPI Deep Neural Network Library (oneDNN) to use the following CPU instructions in performance-critical operations:  AVX2 FMA\n",
      "To enable them in other operations, rebuild TensorFlow with the appropriate compiler flags.\n"
     ]
    }
   ],
   "source": [
    "# Build & Compile the Model\n",
    "if config[\"use_baseline\"]:\n",
    "    model = slack_trainer.make_baseline_model(data, \n",
    "                                               vocab_size      = config[\"vocab_size\"], \n",
    "                                               sequence_length = config[\"sequence_length\"])\n",
    "else:\n",
    "    model = slack_trainer.make_transformer_model(data, \n",
    "                                                   vocab_size      = config[\"vocab_size\"], \n",
    "                                                   sequence_length = config[\"sequence_length\"],\n",
    "                                                   dense_dim       = config[\"dense_dim\"],\n",
    "                                                   embed_dim       = config[\"embed_dim\"],\n",
    "                                                   num_heads       = config[\"num_heads\"],\n",
    "                                                   ff_dim          = config[\"ff_dim\"])\n",
    "model.compile(optimizer = config[\"optimizer\"], \n",
    "                       loss      = config[\"loss\"], \n",
    "                       metrics   = config[\"metrics\"])"
   ]
  },
  {
   "cell_type": "code",
   "execution_count": null,
   "id": "c1cf5199",
   "metadata": {},
   "outputs": [
    {
     "name": "stdout",
     "output_type": "stream",
     "text": [
      "Epoch 1/5\n",
      "1265/1265 [==============================] - 609s 480ms/step - loss: 4.2720 - accuracy: 0.0749 - val_loss: 3.9383 - val_accuracy: 0.1194\n",
      "Epoch 2/5\n",
      "1265/1265 [==============================] - 614s 486ms/step - loss: 3.7321 - accuracy: 0.1639 - val_loss: 3.6379 - val_accuracy: 0.1729\n",
      "Epoch 3/5\n",
      " 328/1265 [======>.......................] - ETA: 6:58 - loss: 3.3156 - accuracy: 0.2387"
     ]
    }
   ],
   "source": [
    "# Train the model\n",
    "results = slack_trainer.fit_model(model, data, \n",
    "                                  batch_size = config[\"batch_size\"], \n",
    "                                  epochs     = config[\"epochs\"])"
   ]
  },
  {
   "cell_type": "code",
   "execution_count": null,
   "id": "51ba2a49",
   "metadata": {},
   "outputs": [],
   "source": [
    "# Package model for inference\n",
    "packaged_model = slack_trainer.package_model(model, data)"
   ]
  },
  {
   "cell_type": "code",
   "execution_count": null,
   "id": "e05b9762",
   "metadata": {},
   "outputs": [],
   "source": [
    "# Save or Publish Model\n",
    "# saved_model = weave.save(packaged_model)\n",
    "saved_model = weave.publish(packaged_model)"
   ]
  },
  {
   "cell_type": "code",
   "execution_count": null,
   "id": "11afb608",
   "metadata": {},
   "outputs": [],
   "source": [
    "# Demonstrate calling\n",
    "from weave.ecosystem import keras as weave_keras\n",
    "weave_keras.call_string(saved_model, \"i love weave\")"
   ]
  }
 ],
 "metadata": {
  "kernelspec": {
   "display_name": "Python 3 (ipykernel)",
   "language": "python",
   "name": "python3"
  },
  "language_info": {
   "codemirror_mode": {
    "name": "ipython",
    "version": 3
   },
   "file_extension": ".py",
   "mimetype": "text/x-python",
   "name": "python",
   "nbconvert_exporter": "python",
   "pygments_lexer": "ipython3",
   "version": "3.9.9"
  }
 },
 "nbformat": 4,
 "nbformat_minor": 5
}
