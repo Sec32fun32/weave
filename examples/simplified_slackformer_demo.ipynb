{
 "cells": [
  {
   "cell_type": "markdown",
   "id": "cfa16846",
   "metadata": {},
   "source": [
    "# Slackformer: Basic transformer on WBSlack data\n",
    "All logic taken from Stacey's notebook and packaged into functions"
   ]
  },
  {
   "cell_type": "code",
   "execution_count": 1,
   "id": "f0f90338",
   "metadata": {},
   "outputs": [],
   "source": [
    "import weave\n",
    "import slack_trainer"
   ]
  },
  {
   "cell_type": "code",
   "execution_count": 2,
   "id": "c47a44a9",
   "metadata": {},
   "outputs": [],
   "source": [
    "SLACK_DATA_DIR = \"/Users/timothysweeney/Documents/jan_1_2022_slack_dump\"\n",
    "raw_data = slack_trainer.load_data(SLACK_DATA_DIR)"
   ]
  },
  {
   "cell_type": "code",
   "execution_count": 3,
   "id": "f3348395",
   "metadata": {},
   "outputs": [],
   "source": [
    "# config = {\n",
    "#     \"min_msg_count\"  : 50, \n",
    "#     \"train_frac\"     : 0.8,\n",
    "#     \"use_baseline\"   : False,\n",
    "#     \"vocab_size\"     : 30000, \n",
    "#     \"sequence_length\": 200,\n",
    "#     \"embed_dim\"      : 64,\n",
    "#     \"num_heads\"      : 6,\n",
    "#     \"ff_dim\"         : 64,\n",
    "#     \"optimizer\"      : \"adam\",\n",
    "#     \"loss\"           : \"sparse_categorical_crossentropy\",\n",
    "#     \"metrics\"        : [\"accuracy\"],\n",
    "#     \"batch_size\"     : 64, \n",
    "#     \"epochs\"         : 5\n",
    "# }\n",
    "config = {\n",
    "    \"min_msg_count\"  : 100,\n",
    "    \"train_frac\"     : 0.8,\n",
    "    \"use_baseline\"   : False,\n",
    "    \"vocab_size\"     : 50000,\n",
    "    \"sequence_length\": 200,\n",
    "    \"dense_dim\"      : 40,\n",
    "    \"embed_dim\"      : 64,\n",
    "    \"num_heads\"      : 6,\n",
    "    \"ff_dim\"         : 64,\n",
    "    \"optimizer\"      : \"adam\",\n",
    "    \"loss\"           : \"sparse_categorical_crossentropy\",\n",
    "    \"metrics\"        : [\"accuracy\"],\n",
    "    \"batch_size\"     : 64,\n",
    "    \"epochs\"         : 5\n",
    "}"
   ]
  },
  {
   "cell_type": "code",
   "execution_count": 4,
   "id": "a6353377",
   "metadata": {},
   "outputs": [],
   "source": [
    "# Process the data\n",
    "data = slack_trainer.process_data(users         = raw_data[\"users\"], \n",
    "                                  messages      = raw_data[\"messages\"], \n",
    "                                  min_msg_count = config[\"min_msg_count\"], \n",
    "                                  train_frac    = config[\"train_frac\"])"
   ]
  },
  {
   "cell_type": "code",
   "execution_count": 5,
   "id": "9759138d",
   "metadata": {},
   "outputs": [
    {
     "name": "stderr",
     "output_type": "stream",
     "text": [
      "2022-08-11 13:39:46.092872: I tensorflow/core/platform/cpu_feature_guard.cc:193] This TensorFlow binary is optimized with oneAPI Deep Neural Network Library (oneDNN) to use the following CPU instructions in performance-critical operations:  AVX2 FMA\n",
      "To enable them in other operations, rebuild TensorFlow with the appropriate compiler flags.\n"
     ]
    }
   ],
   "source": [
    "# Build & Compile the Model\n",
    "if config[\"use_baseline\"]:\n",
    "    model = slack_trainer.make_baseline_model(data, \n",
    "                                               vocab_size      = config[\"vocab_size\"], \n",
    "                                               sequence_length = config[\"sequence_length\"])\n",
    "else:\n",
    "    model = slack_trainer.make_transformer_model(data, \n",
    "                                                   vocab_size      = config[\"vocab_size\"], \n",
    "                                                   sequence_length = config[\"sequence_length\"],\n",
    "                                                   dense_dim       = config[\"dense_dim\"],\n",
    "                                                   embed_dim       = config[\"embed_dim\"],\n",
    "                                                   num_heads       = config[\"num_heads\"],\n",
    "                                                   ff_dim          = config[\"ff_dim\"])\n",
    "model.compile(optimizer = config[\"optimizer\"], \n",
    "                       loss      = config[\"loss\"], \n",
    "                       metrics   = config[\"metrics\"])"
   ]
  },
  {
   "cell_type": "code",
   "execution_count": 6,
   "id": "c1cf5199",
   "metadata": {},
   "outputs": [
    {
     "name": "stdout",
     "output_type": "stream",
     "text": [
      "Epoch 1/5\n",
      "1265/1265 [==============================] - 609s 480ms/step - loss: 4.2720 - accuracy: 0.0749 - val_loss: 3.9383 - val_accuracy: 0.1194\n",
      "Epoch 2/5\n",
      "1265/1265 [==============================] - 614s 486ms/step - loss: 3.7321 - accuracy: 0.1639 - val_loss: 3.6379 - val_accuracy: 0.1729\n",
      "Epoch 3/5\n",
      "1265/1265 [==============================] - 657s 519ms/step - loss: 3.3000 - accuracy: 0.2430 - val_loss: 3.5344 - val_accuracy: 0.2057\n",
      "Epoch 4/5\n",
      "1265/1265 [==============================] - 618s 488ms/step - loss: 2.9207 - accuracy: 0.3214 - val_loss: 3.5769 - val_accuracy: 0.2188\n",
      "Epoch 5/5\n",
      "1265/1265 [==============================] - 614s 486ms/step - loss: 2.5883 - accuracy: 0.3959 - val_loss: 3.8319 - val_accuracy: 0.2224\n"
     ]
    }
   ],
   "source": [
    "# Train the model\n",
    "results = slack_trainer.fit_model(model, data, \n",
    "                                  batch_size = config[\"batch_size\"], \n",
    "                                  epochs     = config[\"epochs\"])"
   ]
  },
  {
   "cell_type": "code",
   "execution_count": 7,
   "id": "51ba2a49",
   "metadata": {},
   "outputs": [],
   "source": [
    "# Package model for inference\n",
    "packaged_model = slack_trainer.package_model(model, data)"
   ]
  },
  {
   "cell_type": "code",
   "execution_count": 8,
   "id": "e05b9762",
   "metadata": {},
   "outputs": [
    {
     "name": "stderr",
     "output_type": "stream",
     "text": [
      "WARNING:absl:Found untraced functions such as embedding_layer_call_fn, embedding_layer_call_and_return_conditional_losses, embedding_1_layer_call_fn, embedding_1_layer_call_and_return_conditional_losses, multi_head_attention_layer_call_fn while saving (showing 5 of 26). These functions will not be directly callable after loading.\n"
     ]
    },
    {
     "name": "stdout",
     "output_type": "stream",
     "text": [
      "INFO:tensorflow:Assets written to: /var/folders/wv/j7nq4t9j7tl2cq_2mz2mhbj40000gn/T/tmpv67ugopx/assets\n"
     ]
    },
    {
     "name": "stderr",
     "output_type": "stream",
     "text": [
      "INFO:tensorflow:Assets written to: /var/folders/wv/j7nq4t9j7tl2cq_2mz2mhbj40000gn/T/tmpv67ugopx/assets\n",
      "\u001b[34m\u001b[1mwandb\u001b[0m: Adding directory to artifact (/var/folders/wv/j7nq4t9j7tl2cq_2mz2mhbj40000gn/T/tmpv67ugopx)... Done. 0.2s\n"
     ]
    }
   ],
   "source": [
    "# Save or Publish Model\n",
    "# saved_model = weave.save(packaged_model)\n",
    "saved_model = weave.publish(packaged_model)"
   ]
  },
  {
   "cell_type": "code",
   "execution_count": 14,
   "id": "f292f3f0",
   "metadata": {},
   "outputs": [
    {
     "name": "stderr",
     "output_type": "stream",
     "text": [
      "WARNING:absl:Found untraced functions such as embedding_layer_call_fn, embedding_layer_call_and_return_conditional_losses, embedding_1_layer_call_fn, embedding_1_layer_call_and_return_conditional_losses, multi_head_attention_layer_call_fn while saving (showing 5 of 26). These functions will not be directly callable after loading.\n"
     ]
    },
    {
     "name": "stdout",
     "output_type": "stream",
     "text": [
      "INFO:tensorflow:Assets written to: /var/folders/wv/j7nq4t9j7tl2cq_2mz2mhbj40000gn/T/tmpa19_85yq/assets\n"
     ]
    },
    {
     "name": "stderr",
     "output_type": "stream",
     "text": [
      "INFO:tensorflow:Assets written to: /var/folders/wv/j7nq4t9j7tl2cq_2mz2mhbj40000gn/T/tmpa19_85yq/assets\n"
     ]
    },
    {
     "ename": "AttributeError",
     "evalue": "module 'weave.ops' has no attribute 'VersionedDir'",
     "output_type": "error",
     "traceback": [
      "\u001b[0;31m---------------------------------------------------------------------------\u001b[0m",
      "\u001b[0;31mAttributeError\u001b[0m                            Traceback (most recent call last)",
      "File \u001b[0;32m~/.pyenv/versions/3.9.9/envs/weave_internal/lib/python3.9/site-packages/IPython/core/formatters.py:921\u001b[0m, in \u001b[0;36mIPythonDisplayFormatter.__call__\u001b[0;34m(self, obj)\u001b[0m\n\u001b[1;32m    919\u001b[0m method \u001b[38;5;241m=\u001b[39m get_real_method(obj, \u001b[38;5;28mself\u001b[39m\u001b[38;5;241m.\u001b[39mprint_method)\n\u001b[1;32m    920\u001b[0m \u001b[38;5;28;01mif\u001b[39;00m method \u001b[38;5;129;01mis\u001b[39;00m \u001b[38;5;129;01mnot\u001b[39;00m \u001b[38;5;28;01mNone\u001b[39;00m:\n\u001b[0;32m--> 921\u001b[0m     \u001b[43mmethod\u001b[49m\u001b[43m(\u001b[49m\u001b[43m)\u001b[49m\n\u001b[1;32m    922\u001b[0m     \u001b[38;5;28;01mreturn\u001b[39;00m \u001b[38;5;28;01mTrue\u001b[39;00m\n",
      "File \u001b[0;32m~/go/src/github.com/wandb/core/services/weave-python/weave-internal/weave/graph.py:37\u001b[0m, in \u001b[0;36mNode._ipython_display_\u001b[0;34m(self)\u001b[0m\n\u001b[1;32m     34\u001b[0m \u001b[38;5;28;01mdef\u001b[39;00m \u001b[38;5;21m_ipython_display_\u001b[39m(\u001b[38;5;28mself\u001b[39m):\n\u001b[1;32m     35\u001b[0m     \u001b[38;5;28;01mfrom\u001b[39;00m \u001b[38;5;21;01m.\u001b[39;00m \u001b[38;5;28;01mimport\u001b[39;00m show\n\u001b[0;32m---> 37\u001b[0m     \u001b[38;5;28;01mreturn\u001b[39;00m \u001b[43mshow\u001b[49m\u001b[43m(\u001b[49m\u001b[38;5;28;43mself\u001b[39;49m\u001b[43m)\u001b[49m\n",
      "File \u001b[0;32m~/go/src/github.com/wandb/core/services/weave-python/weave-internal/weave/show.py:76\u001b[0m, in \u001b[0;36mshow\u001b[0;34m(obj, height)\u001b[0m\n\u001b[1;32m     70\u001b[0m     \u001b[38;5;28;01mraise\u001b[39;00m \u001b[38;5;167;01mRuntimeError\u001b[39;00m(\n\u001b[1;32m     71\u001b[0m         \u001b[38;5;124m\"\u001b[39m\u001b[38;5;124m`weave.show()` can only be called within notebooks. To extract the value of \u001b[39m\u001b[38;5;124m\"\u001b[39m\n\u001b[1;32m     72\u001b[0m         \u001b[38;5;124m\"\u001b[39m\u001b[38;5;124ma weave node, try `weave.use()`.\u001b[39m\u001b[38;5;124m\"\u001b[39m\n\u001b[1;32m     73\u001b[0m     )\n\u001b[1;32m     75\u001b[0m params \u001b[38;5;241m=\u001b[39m _show_params(obj)\n\u001b[0;32m---> 76\u001b[0m panel_url \u001b[38;5;241m=\u001b[39m \u001b[38;5;124mf\u001b[39m\u001b[38;5;124m\"\u001b[39m\u001b[38;5;132;01m{\u001b[39;00mcontext\u001b[38;5;241m.\u001b[39mget_frontend_url()\u001b[38;5;132;01m}\u001b[39;00m\u001b[38;5;124m/__frontend/weave_jupyter?fullScreen\u001b[39m\u001b[38;5;124m\"\u001b[39m\n\u001b[1;32m     77\u001b[0m \u001b[38;5;28;01mif\u001b[39;00m \u001b[38;5;124m\"\u001b[39m\u001b[38;5;124mweave_node\u001b[39m\u001b[38;5;124m\"\u001b[39m \u001b[38;5;129;01min\u001b[39;00m params:\n\u001b[1;32m     78\u001b[0m     panel_url \u001b[38;5;241m+\u001b[39m\u001b[38;5;241m=\u001b[39m \u001b[38;5;124m\"\u001b[39m\u001b[38;5;124m&expNode=\u001b[39m\u001b[38;5;132;01m%s\u001b[39;00m\u001b[38;5;124m\"\u001b[39m \u001b[38;5;241m%\u001b[39m urllib\u001b[38;5;241m.\u001b[39mparse\u001b[38;5;241m.\u001b[39mquote(\n\u001b[1;32m     79\u001b[0m         json\u001b[38;5;241m.\u001b[39mdumps(params[\u001b[38;5;124m\"\u001b[39m\u001b[38;5;124mweave_node\u001b[39m\u001b[38;5;124m\"\u001b[39m]\u001b[38;5;241m.\u001b[39mto_json())\n\u001b[1;32m     80\u001b[0m     )\n",
      "File \u001b[0;32m~/go/src/github.com/wandb/core/services/weave-python/weave-internal/weave/context.py:191\u001b[0m, in \u001b[0;36mget_frontend_url\u001b[0;34m()\u001b[0m\n\u001b[1;32m    189\u001b[0m url \u001b[38;5;241m=\u001b[39m _frontend_url\u001b[38;5;241m.\u001b[39mget()\n\u001b[1;32m    190\u001b[0m \u001b[38;5;28;01mif\u001b[39;00m url \u001b[38;5;129;01mis\u001b[39;00m \u001b[38;5;28;01mNone\u001b[39;00m:\n\u001b[0;32m--> 191\u001b[0m     client \u001b[38;5;241m=\u001b[39m \u001b[43mget_client\u001b[49m\u001b[43m(\u001b[49m\u001b[43m)\u001b[49m\n\u001b[1;32m    192\u001b[0m     \u001b[38;5;28;01mif\u001b[39;00m \u001b[38;5;28misinstance\u001b[39m(client, server\u001b[38;5;241m.\u001b[39mHttpServerClient):\n\u001b[1;32m    193\u001b[0m         url \u001b[38;5;241m=\u001b[39m client\u001b[38;5;241m.\u001b[39murl\n",
      "File \u001b[0;32m~/go/src/github.com/wandb/core/services/weave-python/weave-internal/weave/context.py:183\u001b[0m, in \u001b[0;36mget_client\u001b[0;34m()\u001b[0m\n\u001b[1;32m    181\u001b[0m c \u001b[38;5;241m=\u001b[39m _weave_client\u001b[38;5;241m.\u001b[39mget()\n\u001b[1;32m    182\u001b[0m \u001b[38;5;28;01mif\u001b[39;00m c \u001b[38;5;129;01mis\u001b[39;00m \u001b[38;5;28;01mNone\u001b[39;00m:\n\u001b[0;32m--> 183\u001b[0m     c \u001b[38;5;241m=\u001b[39m \u001b[43m_make_default_client\u001b[49m\u001b[43m(\u001b[49m\u001b[43m)\u001b[49m\n\u001b[1;32m    184\u001b[0m     _weave_client\u001b[38;5;241m.\u001b[39mset(c)\n\u001b[1;32m    185\u001b[0m \u001b[38;5;28;01mreturn\u001b[39;00m c\n",
      "File \u001b[0;32m~/go/src/github.com/wandb/core/services/weave-python/weave-internal/weave/context.py:147\u001b[0m, in \u001b[0;36m_make_default_client\u001b[0;34m()\u001b[0m\n\u001b[1;32m    145\u001b[0m serv \u001b[38;5;241m=\u001b[39m _http_server\u001b[38;5;241m.\u001b[39mget()\n\u001b[1;32m    146\u001b[0m \u001b[38;5;28;01mif\u001b[39;00m serv \u001b[38;5;129;01mis\u001b[39;00m \u001b[38;5;28;01mNone\u001b[39;00m:\n\u001b[0;32m--> 147\u001b[0m     serv \u001b[38;5;241m=\u001b[39m \u001b[43mserver\u001b[49m\u001b[38;5;241;43m.\u001b[39;49m\u001b[43mHttpServer\u001b[49m\u001b[43m(\u001b[49m\u001b[43m)\u001b[49m\n\u001b[1;32m    148\u001b[0m     serv\u001b[38;5;241m.\u001b[39mstart()\n\u001b[1;32m    149\u001b[0m     _http_server\u001b[38;5;241m.\u001b[39mset(serv)\n",
      "File \u001b[0;32m~/go/src/github.com/wandb/core/services/weave-python/weave-internal/weave/server.py:161\u001b[0m, in \u001b[0;36mHttpServer.__init__\u001b[0;34m(self, port, host)\u001b[0m\n\u001b[1;32m    160\u001b[0m \u001b[38;5;28;01mdef\u001b[39;00m \u001b[38;5;21m__init__\u001b[39m(\u001b[38;5;28mself\u001b[39m, port\u001b[38;5;241m=\u001b[39m\u001b[38;5;241m0\u001b[39m, host\u001b[38;5;241m=\u001b[39m\u001b[38;5;124m\"\u001b[39m\u001b[38;5;124m127.0.0.1\u001b[39m\u001b[38;5;124m\"\u001b[39m):\n\u001b[0;32m--> 161\u001b[0m     \u001b[38;5;28;01mfrom\u001b[39;00m \u001b[38;5;21;01m.\u001b[39;00m \u001b[38;5;28;01mimport\u001b[39;00m weave_server\n\u001b[1;32m    163\u001b[0m     \u001b[38;5;28mself\u001b[39m\u001b[38;5;241m.\u001b[39mhost \u001b[38;5;241m=\u001b[39m host\n\u001b[1;32m    165\u001b[0m     app \u001b[38;5;241m=\u001b[39m weave_server\u001b[38;5;241m.\u001b[39mapp\n",
      "File \u001b[0;32m~/go/src/github.com/wandb/core/services/weave-python/weave-internal/weave/weave_server.py:42\u001b[0m, in \u001b[0;36m<module>\u001b[0;34m\u001b[0m\n\u001b[1;32m     40\u001b[0m \u001b[38;5;28;01mfrom\u001b[39;00m \u001b[38;5;21;01mweave\u001b[39;00m\u001b[38;5;21;01m.\u001b[39;00m\u001b[38;5;21;01mecosystem\u001b[39;00m \u001b[38;5;28;01mimport\u001b[39;00m torch_mnist_model_example\n\u001b[1;32m     41\u001b[0m \u001b[38;5;28;01mfrom\u001b[39;00m \u001b[38;5;21;01mweave\u001b[39;00m\u001b[38;5;21;01m.\u001b[39;00m\u001b[38;5;21;01mecosystem\u001b[39;00m \u001b[38;5;28;01mimport\u001b[39;00m craiyon\n\u001b[0;32m---> 42\u001b[0m \u001b[38;5;28;01mfrom\u001b[39;00m \u001b[38;5;21;01mweave\u001b[39;00m\u001b[38;5;21;01m.\u001b[39;00m\u001b[38;5;21;01mecosystem\u001b[39;00m \u001b[38;5;28;01mimport\u001b[39;00m slack\n\u001b[1;32m     43\u001b[0m \u001b[38;5;28;01mfrom\u001b[39;00m \u001b[38;5;21;01m.\u001b[39;00m\u001b[38;5;21;01martifacts_local\u001b[39;00m \u001b[38;5;28;01mimport\u001b[39;00m local_artifact_dir\n\u001b[1;32m     45\u001b[0m context\u001b[38;5;241m.\u001b[39mclear_loading_built_ins(loading_builtins_token)\n",
      "File \u001b[0;32m~/go/src/github.com/wandb/core/services/weave-python/weave-internal/weave/ecosystem/slack/__init__.py:1\u001b[0m, in \u001b[0;36m<module>\u001b[0;34m\u001b[0m\n\u001b[0;32m----> 1\u001b[0m \u001b[38;5;28;01mfrom\u001b[39;00m \u001b[38;5;21;01m.\u001b[39;00m\u001b[38;5;21;01mslack\u001b[39;00m \u001b[38;5;28;01mimport\u001b[39;00m \u001b[38;5;241m*\u001b[39m\n\u001b[1;32m      2\u001b[0m \u001b[38;5;28;01mfrom\u001b[39;00m \u001b[38;5;21;01m.\u001b[39;00m\u001b[38;5;21;01mpanels\u001b[39;00m \u001b[38;5;28;01mimport\u001b[39;00m \u001b[38;5;241m*\u001b[39m\n",
      "File \u001b[0;32m~/go/src/github.com/wandb/core/services/weave-python/weave-internal/weave/ecosystem/slack/slack.py:3\u001b[0m, in \u001b[0;36m<module>\u001b[0;34m\u001b[0m\n\u001b[1;32m      1\u001b[0m \u001b[38;5;28;01mimport\u001b[39;00m \u001b[38;5;21;01mweave\u001b[39;00m\n\u001b[0;32m----> 3\u001b[0m \u001b[38;5;28;01mfrom\u001b[39;00m \u001b[38;5;21;01m.\u001b[39;00m \u001b[38;5;28;01mimport\u001b[39;00m slackapi_readexport\n\u001b[1;32m      6\u001b[0m \u001b[38;5;129m@weave\u001b[39m\u001b[38;5;241m.\u001b[39mtype()\n\u001b[1;32m      7\u001b[0m \u001b[38;5;28;01mclass\u001b[39;00m \u001b[38;5;21;01mMessage\u001b[39;00m:\n\u001b[1;32m      8\u001b[0m     ts: \u001b[38;5;28mstr\u001b[39m\n",
      "File \u001b[0;32m~/go/src/github.com/wandb/core/services/weave-python/weave-internal/weave/ecosystem/slack/slackapi_readexport.py:12\u001b[0m, in \u001b[0;36m<module>\u001b[0;34m\u001b[0m\n\u001b[1;32m      7\u001b[0m \u001b[38;5;28;01mdef\u001b[39;00m \u001b[38;5;21mdirsize\u001b[39m(path) \u001b[38;5;241m-\u001b[39m\u001b[38;5;241m>\u001b[39m \u001b[38;5;28mint\u001b[39m:\n\u001b[1;32m      8\u001b[0m     \u001b[38;5;28;01mreturn\u001b[39;00m \u001b[38;5;28msum\u001b[39m(f\u001b[38;5;241m.\u001b[39mstat()\u001b[38;5;241m.\u001b[39mst_size \u001b[38;5;28;01mfor\u001b[39;00m f \u001b[38;5;129;01min\u001b[39;00m path\u001b[38;5;241m.\u001b[39mglob(\u001b[38;5;124m\"\u001b[39m\u001b[38;5;124m**/*\u001b[39m\u001b[38;5;124m\"\u001b[39m) \u001b[38;5;28;01mif\u001b[39;00m f\u001b[38;5;241m.\u001b[39mis_file())\n\u001b[1;32m     11\u001b[0m \u001b[38;5;129m@weave\u001b[39m\u001b[38;5;241m.\u001b[39mtype()\n\u001b[0;32m---> 12\u001b[0m \u001b[38;5;28;01mclass\u001b[39;00m \u001b[38;5;21;01mSlackReadExportApi\u001b[39;00m:\n\u001b[1;32m     13\u001b[0m     data_dir: weave\u001b[38;5;241m.\u001b[39mops\u001b[38;5;241m.\u001b[39mVersionedDir  \u001b[38;5;66;03m# TODO: change to weave.Dir\u001b[39;00m\n\u001b[1;32m     15\u001b[0m     \u001b[38;5;28;01mdef\u001b[39;00m \u001b[38;5;21mchannel_names\u001b[39m(\u001b[38;5;28mself\u001b[39m):\n",
      "File \u001b[0;32m~/go/src/github.com/wandb/core/services/weave-python/weave-internal/weave/ecosystem/slack/slackapi_readexport.py:13\u001b[0m, in \u001b[0;36mSlackReadExportApi\u001b[0;34m()\u001b[0m\n\u001b[1;32m     11\u001b[0m \u001b[38;5;129m@weave\u001b[39m\u001b[38;5;241m.\u001b[39mtype()\n\u001b[1;32m     12\u001b[0m \u001b[38;5;28;01mclass\u001b[39;00m \u001b[38;5;21;01mSlackReadExportApi\u001b[39;00m:\n\u001b[0;32m---> 13\u001b[0m     data_dir: \u001b[43mweave\u001b[49m\u001b[38;5;241;43m.\u001b[39;49m\u001b[43mops\u001b[49m\u001b[38;5;241;43m.\u001b[39;49m\u001b[43mVersionedDir\u001b[49m  \u001b[38;5;66;03m# TODO: change to weave.Dir\u001b[39;00m\n\u001b[1;32m     15\u001b[0m     \u001b[38;5;28;01mdef\u001b[39;00m \u001b[38;5;21mchannel_names\u001b[39m(\u001b[38;5;28mself\u001b[39m):\n\u001b[1;32m     16\u001b[0m         \u001b[38;5;28;01mreturn\u001b[39;00m (n\u001b[38;5;241m.\u001b[39mname \u001b[38;5;28;01mfor\u001b[39;00m n \u001b[38;5;129;01min\u001b[39;00m pathlib\u001b[38;5;241m.\u001b[39mPath(\u001b[38;5;28mself\u001b[39m\u001b[38;5;241m.\u001b[39mdata_dir\u001b[38;5;241m.\u001b[39mpath)\u001b[38;5;241m.\u001b[39mglob(\u001b[38;5;124m\"\u001b[39m\u001b[38;5;124m*\u001b[39m\u001b[38;5;124m\"\u001b[39m))\n",
      "\u001b[0;31mAttributeError\u001b[0m: module 'weave.ops' has no attribute 'VersionedDir'"
     ]
    },
    {
     "data": {
      "text/plain": [
       "{}"
      ]
     },
     "execution_count": 14,
     "metadata": {},
     "output_type": "execute_result"
    }
   ],
   "source": [
    "weave.publish({\n",
    "    \"model\": model,\n",
    "    \"packaged_model\": packaged_model,\n",
    "    \"classes\": data[\"users\"].sort_values(\"model_id\")[\"real_name\"].tolist()\n",
    "}, \"DemoModel\")"
   ]
  },
  {
   "cell_type": "code",
   "execution_count": 9,
   "id": "11afb608",
   "metadata": {},
   "outputs": [
    {
     "ename": "AttributeError",
     "evalue": "module 'weave.ops' has no attribute 'VersionedDir'",
     "output_type": "error",
     "traceback": [
      "\u001b[0;31m---------------------------------------------------------------------------\u001b[0m",
      "\u001b[0;31mAttributeError\u001b[0m                            Traceback (most recent call last)",
      "File \u001b[0;32m~/.pyenv/versions/3.9.9/envs/weave_internal/lib/python3.9/site-packages/IPython/core/formatters.py:921\u001b[0m, in \u001b[0;36mIPythonDisplayFormatter.__call__\u001b[0;34m(self, obj)\u001b[0m\n\u001b[1;32m    919\u001b[0m method \u001b[38;5;241m=\u001b[39m get_real_method(obj, \u001b[38;5;28mself\u001b[39m\u001b[38;5;241m.\u001b[39mprint_method)\n\u001b[1;32m    920\u001b[0m \u001b[38;5;28;01mif\u001b[39;00m method \u001b[38;5;129;01mis\u001b[39;00m \u001b[38;5;129;01mnot\u001b[39;00m \u001b[38;5;28;01mNone\u001b[39;00m:\n\u001b[0;32m--> 921\u001b[0m     \u001b[43mmethod\u001b[49m\u001b[43m(\u001b[49m\u001b[43m)\u001b[49m\n\u001b[1;32m    922\u001b[0m     \u001b[38;5;28;01mreturn\u001b[39;00m \u001b[38;5;28;01mTrue\u001b[39;00m\n",
      "File \u001b[0;32m~/go/src/github.com/wandb/core/services/weave-python/weave-internal/weave/graph.py:37\u001b[0m, in \u001b[0;36mNode._ipython_display_\u001b[0;34m(self)\u001b[0m\n\u001b[1;32m     34\u001b[0m \u001b[38;5;28;01mdef\u001b[39;00m \u001b[38;5;21m_ipython_display_\u001b[39m(\u001b[38;5;28mself\u001b[39m):\n\u001b[1;32m     35\u001b[0m     \u001b[38;5;28;01mfrom\u001b[39;00m \u001b[38;5;21;01m.\u001b[39;00m \u001b[38;5;28;01mimport\u001b[39;00m show\n\u001b[0;32m---> 37\u001b[0m     \u001b[38;5;28;01mreturn\u001b[39;00m \u001b[43mshow\u001b[49m\u001b[43m(\u001b[49m\u001b[38;5;28;43mself\u001b[39;49m\u001b[43m)\u001b[49m\n",
      "File \u001b[0;32m~/go/src/github.com/wandb/core/services/weave-python/weave-internal/weave/show.py:76\u001b[0m, in \u001b[0;36mshow\u001b[0;34m(obj, height)\u001b[0m\n\u001b[1;32m     70\u001b[0m     \u001b[38;5;28;01mraise\u001b[39;00m \u001b[38;5;167;01mRuntimeError\u001b[39;00m(\n\u001b[1;32m     71\u001b[0m         \u001b[38;5;124m\"\u001b[39m\u001b[38;5;124m`weave.show()` can only be called within notebooks. To extract the value of \u001b[39m\u001b[38;5;124m\"\u001b[39m\n\u001b[1;32m     72\u001b[0m         \u001b[38;5;124m\"\u001b[39m\u001b[38;5;124ma weave node, try `weave.use()`.\u001b[39m\u001b[38;5;124m\"\u001b[39m\n\u001b[1;32m     73\u001b[0m     )\n\u001b[1;32m     75\u001b[0m params \u001b[38;5;241m=\u001b[39m _show_params(obj)\n\u001b[0;32m---> 76\u001b[0m panel_url \u001b[38;5;241m=\u001b[39m \u001b[38;5;124mf\u001b[39m\u001b[38;5;124m\"\u001b[39m\u001b[38;5;132;01m{\u001b[39;00mcontext\u001b[38;5;241m.\u001b[39mget_frontend_url()\u001b[38;5;132;01m}\u001b[39;00m\u001b[38;5;124m/__frontend/weave_jupyter?fullScreen\u001b[39m\u001b[38;5;124m\"\u001b[39m\n\u001b[1;32m     77\u001b[0m \u001b[38;5;28;01mif\u001b[39;00m \u001b[38;5;124m\"\u001b[39m\u001b[38;5;124mweave_node\u001b[39m\u001b[38;5;124m\"\u001b[39m \u001b[38;5;129;01min\u001b[39;00m params:\n\u001b[1;32m     78\u001b[0m     panel_url \u001b[38;5;241m+\u001b[39m\u001b[38;5;241m=\u001b[39m \u001b[38;5;124m\"\u001b[39m\u001b[38;5;124m&expNode=\u001b[39m\u001b[38;5;132;01m%s\u001b[39;00m\u001b[38;5;124m\"\u001b[39m \u001b[38;5;241m%\u001b[39m urllib\u001b[38;5;241m.\u001b[39mparse\u001b[38;5;241m.\u001b[39mquote(\n\u001b[1;32m     79\u001b[0m         json\u001b[38;5;241m.\u001b[39mdumps(params[\u001b[38;5;124m\"\u001b[39m\u001b[38;5;124mweave_node\u001b[39m\u001b[38;5;124m\"\u001b[39m]\u001b[38;5;241m.\u001b[39mto_json())\n\u001b[1;32m     80\u001b[0m     )\n",
      "File \u001b[0;32m~/go/src/github.com/wandb/core/services/weave-python/weave-internal/weave/context.py:191\u001b[0m, in \u001b[0;36mget_frontend_url\u001b[0;34m()\u001b[0m\n\u001b[1;32m    189\u001b[0m url \u001b[38;5;241m=\u001b[39m _frontend_url\u001b[38;5;241m.\u001b[39mget()\n\u001b[1;32m    190\u001b[0m \u001b[38;5;28;01mif\u001b[39;00m url \u001b[38;5;129;01mis\u001b[39;00m \u001b[38;5;28;01mNone\u001b[39;00m:\n\u001b[0;32m--> 191\u001b[0m     client \u001b[38;5;241m=\u001b[39m \u001b[43mget_client\u001b[49m\u001b[43m(\u001b[49m\u001b[43m)\u001b[49m\n\u001b[1;32m    192\u001b[0m     \u001b[38;5;28;01mif\u001b[39;00m \u001b[38;5;28misinstance\u001b[39m(client, server\u001b[38;5;241m.\u001b[39mHttpServerClient):\n\u001b[1;32m    193\u001b[0m         url \u001b[38;5;241m=\u001b[39m client\u001b[38;5;241m.\u001b[39murl\n",
      "File \u001b[0;32m~/go/src/github.com/wandb/core/services/weave-python/weave-internal/weave/context.py:183\u001b[0m, in \u001b[0;36mget_client\u001b[0;34m()\u001b[0m\n\u001b[1;32m    181\u001b[0m c \u001b[38;5;241m=\u001b[39m _weave_client\u001b[38;5;241m.\u001b[39mget()\n\u001b[1;32m    182\u001b[0m \u001b[38;5;28;01mif\u001b[39;00m c \u001b[38;5;129;01mis\u001b[39;00m \u001b[38;5;28;01mNone\u001b[39;00m:\n\u001b[0;32m--> 183\u001b[0m     c \u001b[38;5;241m=\u001b[39m \u001b[43m_make_default_client\u001b[49m\u001b[43m(\u001b[49m\u001b[43m)\u001b[49m\n\u001b[1;32m    184\u001b[0m     _weave_client\u001b[38;5;241m.\u001b[39mset(c)\n\u001b[1;32m    185\u001b[0m \u001b[38;5;28;01mreturn\u001b[39;00m c\n",
      "File \u001b[0;32m~/go/src/github.com/wandb/core/services/weave-python/weave-internal/weave/context.py:147\u001b[0m, in \u001b[0;36m_make_default_client\u001b[0;34m()\u001b[0m\n\u001b[1;32m    145\u001b[0m serv \u001b[38;5;241m=\u001b[39m _http_server\u001b[38;5;241m.\u001b[39mget()\n\u001b[1;32m    146\u001b[0m \u001b[38;5;28;01mif\u001b[39;00m serv \u001b[38;5;129;01mis\u001b[39;00m \u001b[38;5;28;01mNone\u001b[39;00m:\n\u001b[0;32m--> 147\u001b[0m     serv \u001b[38;5;241m=\u001b[39m \u001b[43mserver\u001b[49m\u001b[38;5;241;43m.\u001b[39;49m\u001b[43mHttpServer\u001b[49m\u001b[43m(\u001b[49m\u001b[43m)\u001b[49m\n\u001b[1;32m    148\u001b[0m     serv\u001b[38;5;241m.\u001b[39mstart()\n\u001b[1;32m    149\u001b[0m     _http_server\u001b[38;5;241m.\u001b[39mset(serv)\n",
      "File \u001b[0;32m~/go/src/github.com/wandb/core/services/weave-python/weave-internal/weave/server.py:161\u001b[0m, in \u001b[0;36mHttpServer.__init__\u001b[0;34m(self, port, host)\u001b[0m\n\u001b[1;32m    160\u001b[0m \u001b[38;5;28;01mdef\u001b[39;00m \u001b[38;5;21m__init__\u001b[39m(\u001b[38;5;28mself\u001b[39m, port\u001b[38;5;241m=\u001b[39m\u001b[38;5;241m0\u001b[39m, host\u001b[38;5;241m=\u001b[39m\u001b[38;5;124m\"\u001b[39m\u001b[38;5;124m127.0.0.1\u001b[39m\u001b[38;5;124m\"\u001b[39m):\n\u001b[0;32m--> 161\u001b[0m     \u001b[38;5;28;01mfrom\u001b[39;00m \u001b[38;5;21;01m.\u001b[39;00m \u001b[38;5;28;01mimport\u001b[39;00m weave_server\n\u001b[1;32m    163\u001b[0m     \u001b[38;5;28mself\u001b[39m\u001b[38;5;241m.\u001b[39mhost \u001b[38;5;241m=\u001b[39m host\n\u001b[1;32m    165\u001b[0m     app \u001b[38;5;241m=\u001b[39m weave_server\u001b[38;5;241m.\u001b[39mapp\n",
      "File \u001b[0;32m~/go/src/github.com/wandb/core/services/weave-python/weave-internal/weave/weave_server.py:42\u001b[0m, in \u001b[0;36m<module>\u001b[0;34m\u001b[0m\n\u001b[1;32m     40\u001b[0m \u001b[38;5;28;01mfrom\u001b[39;00m \u001b[38;5;21;01mweave\u001b[39;00m\u001b[38;5;21;01m.\u001b[39;00m\u001b[38;5;21;01mecosystem\u001b[39;00m \u001b[38;5;28;01mimport\u001b[39;00m torch_mnist_model_example\n\u001b[1;32m     41\u001b[0m \u001b[38;5;28;01mfrom\u001b[39;00m \u001b[38;5;21;01mweave\u001b[39;00m\u001b[38;5;21;01m.\u001b[39;00m\u001b[38;5;21;01mecosystem\u001b[39;00m \u001b[38;5;28;01mimport\u001b[39;00m craiyon\n\u001b[0;32m---> 42\u001b[0m \u001b[38;5;28;01mfrom\u001b[39;00m \u001b[38;5;21;01mweave\u001b[39;00m\u001b[38;5;21;01m.\u001b[39;00m\u001b[38;5;21;01mecosystem\u001b[39;00m \u001b[38;5;28;01mimport\u001b[39;00m slack\n\u001b[1;32m     43\u001b[0m \u001b[38;5;28;01mfrom\u001b[39;00m \u001b[38;5;21;01m.\u001b[39;00m\u001b[38;5;21;01martifacts_local\u001b[39;00m \u001b[38;5;28;01mimport\u001b[39;00m local_artifact_dir\n\u001b[1;32m     45\u001b[0m context\u001b[38;5;241m.\u001b[39mclear_loading_built_ins(loading_builtins_token)\n",
      "File \u001b[0;32m~/go/src/github.com/wandb/core/services/weave-python/weave-internal/weave/ecosystem/slack/__init__.py:1\u001b[0m, in \u001b[0;36m<module>\u001b[0;34m\u001b[0m\n\u001b[0;32m----> 1\u001b[0m \u001b[38;5;28;01mfrom\u001b[39;00m \u001b[38;5;21;01m.\u001b[39;00m\u001b[38;5;21;01mslack\u001b[39;00m \u001b[38;5;28;01mimport\u001b[39;00m \u001b[38;5;241m*\u001b[39m\n\u001b[1;32m      2\u001b[0m \u001b[38;5;28;01mfrom\u001b[39;00m \u001b[38;5;21;01m.\u001b[39;00m\u001b[38;5;21;01mpanels\u001b[39;00m \u001b[38;5;28;01mimport\u001b[39;00m \u001b[38;5;241m*\u001b[39m\n",
      "File \u001b[0;32m~/go/src/github.com/wandb/core/services/weave-python/weave-internal/weave/ecosystem/slack/slack.py:3\u001b[0m, in \u001b[0;36m<module>\u001b[0;34m\u001b[0m\n\u001b[1;32m      1\u001b[0m \u001b[38;5;28;01mimport\u001b[39;00m \u001b[38;5;21;01mweave\u001b[39;00m\n\u001b[0;32m----> 3\u001b[0m \u001b[38;5;28;01mfrom\u001b[39;00m \u001b[38;5;21;01m.\u001b[39;00m \u001b[38;5;28;01mimport\u001b[39;00m slackapi_readexport\n\u001b[1;32m      6\u001b[0m \u001b[38;5;129m@weave\u001b[39m\u001b[38;5;241m.\u001b[39mtype()\n\u001b[1;32m      7\u001b[0m \u001b[38;5;28;01mclass\u001b[39;00m \u001b[38;5;21;01mMessage\u001b[39;00m:\n\u001b[1;32m      8\u001b[0m     ts: \u001b[38;5;28mstr\u001b[39m\n",
      "File \u001b[0;32m~/go/src/github.com/wandb/core/services/weave-python/weave-internal/weave/ecosystem/slack/slackapi_readexport.py:12\u001b[0m, in \u001b[0;36m<module>\u001b[0;34m\u001b[0m\n\u001b[1;32m      7\u001b[0m \u001b[38;5;28;01mdef\u001b[39;00m \u001b[38;5;21mdirsize\u001b[39m(path) \u001b[38;5;241m-\u001b[39m\u001b[38;5;241m>\u001b[39m \u001b[38;5;28mint\u001b[39m:\n\u001b[1;32m      8\u001b[0m     \u001b[38;5;28;01mreturn\u001b[39;00m \u001b[38;5;28msum\u001b[39m(f\u001b[38;5;241m.\u001b[39mstat()\u001b[38;5;241m.\u001b[39mst_size \u001b[38;5;28;01mfor\u001b[39;00m f \u001b[38;5;129;01min\u001b[39;00m path\u001b[38;5;241m.\u001b[39mglob(\u001b[38;5;124m\"\u001b[39m\u001b[38;5;124m**/*\u001b[39m\u001b[38;5;124m\"\u001b[39m) \u001b[38;5;28;01mif\u001b[39;00m f\u001b[38;5;241m.\u001b[39mis_file())\n\u001b[1;32m     11\u001b[0m \u001b[38;5;129m@weave\u001b[39m\u001b[38;5;241m.\u001b[39mtype()\n\u001b[0;32m---> 12\u001b[0m \u001b[38;5;28;01mclass\u001b[39;00m \u001b[38;5;21;01mSlackReadExportApi\u001b[39;00m:\n\u001b[1;32m     13\u001b[0m     data_dir: weave\u001b[38;5;241m.\u001b[39mops\u001b[38;5;241m.\u001b[39mVersionedDir  \u001b[38;5;66;03m# TODO: change to weave.Dir\u001b[39;00m\n\u001b[1;32m     15\u001b[0m     \u001b[38;5;28;01mdef\u001b[39;00m \u001b[38;5;21mchannel_names\u001b[39m(\u001b[38;5;28mself\u001b[39m):\n",
      "File \u001b[0;32m~/go/src/github.com/wandb/core/services/weave-python/weave-internal/weave/ecosystem/slack/slackapi_readexport.py:13\u001b[0m, in \u001b[0;36mSlackReadExportApi\u001b[0;34m()\u001b[0m\n\u001b[1;32m     11\u001b[0m \u001b[38;5;129m@weave\u001b[39m\u001b[38;5;241m.\u001b[39mtype()\n\u001b[1;32m     12\u001b[0m \u001b[38;5;28;01mclass\u001b[39;00m \u001b[38;5;21;01mSlackReadExportApi\u001b[39;00m:\n\u001b[0;32m---> 13\u001b[0m     data_dir: \u001b[43mweave\u001b[49m\u001b[38;5;241;43m.\u001b[39;49m\u001b[43mops\u001b[49m\u001b[38;5;241;43m.\u001b[39;49m\u001b[43mVersionedDir\u001b[49m  \u001b[38;5;66;03m# TODO: change to weave.Dir\u001b[39;00m\n\u001b[1;32m     15\u001b[0m     \u001b[38;5;28;01mdef\u001b[39;00m \u001b[38;5;21mchannel_names\u001b[39m(\u001b[38;5;28mself\u001b[39m):\n\u001b[1;32m     16\u001b[0m         \u001b[38;5;28;01mreturn\u001b[39;00m (n\u001b[38;5;241m.\u001b[39mname \u001b[38;5;28;01mfor\u001b[39;00m n \u001b[38;5;129;01min\u001b[39;00m pathlib\u001b[38;5;241m.\u001b[39mPath(\u001b[38;5;28mself\u001b[39m\u001b[38;5;241m.\u001b[39mdata_dir\u001b[38;5;241m.\u001b[39mpath)\u001b[38;5;241m.\u001b[39mglob(\u001b[38;5;124m\"\u001b[39m\u001b[38;5;124m*\u001b[39m\u001b[38;5;124m\"\u001b[39m))\n",
      "\u001b[0;31mAttributeError\u001b[0m: module 'weave.ops' has no attribute 'VersionedDir'"
     ]
    },
    {
     "data": {
      "text/plain": [
       "<OutputNode(5674250544) type: String() op_name: op-call_string>"
      ]
     },
     "execution_count": 9,
     "metadata": {},
     "output_type": "execute_result"
    }
   ],
   "source": [
    "# Demonstrate calling\n",
    "from weave.ecosystem import keras as weave_keras\n",
    "weave_keras.call_string(saved_model, \"i love weave\")"
   ]
  },
  {
   "cell_type": "code",
   "execution_count": 13,
   "id": "d003ce5f",
   "metadata": {},
   "outputs": [
    {
     "data": {
      "text/plain": [
       "['Seann G',\n",
       " 'Kent Ross',\n",
       " 'Shawn Lewis',\n",
       " 'Ember Campbell',\n",
       " 'Danny Goldstein',\n",
       " 'Nathan Kuneman',\n",
       " 'Ross Nanopoulos',\n",
       " 'Arya Choudhury',\n",
       " 'Ari Crellin-Quick',\n",
       " 'Dave La Chasse',\n",
       " 'Taha Bouhoun',\n",
       " 'Joyce Fang',\n",
       " 'Ivan',\n",
       " 'Kevin Stofan',\n",
       " 'Kevin Ford',\n",
       " 'Kyle Woestmann',\n",
       " 'Joe Wear',\n",
       " 'Ken Lee',\n",
       " 'Rebecca Li',\n",
       " 'Scott Juang',\n",
       " 'Justin Tulk',\n",
       " 'Phil Gurbacki',\n",
       " 'Eric Bunch',\n",
       " 'Aidan Donohue',\n",
       " 'Venky Yerneni',\n",
       " 'Anmol Mann',\n",
       " 'Dima Duev',\n",
       " 'Annirudh Prasad',\n",
       " 'John Qian',\n",
       " 'Dave Davies',\n",
       " 'Ayush Thakur',\n",
       " 'Ramit Goolry',\n",
       " 'Noah Wisnia',\n",
       " 'Rajne Kumari',\n",
       " 'Jeff Raubitschek',\n",
       " 'Mic lee',\n",
       " 'Sanyam Bhutani',\n",
       " 'Justin Melbourne',\n",
       " 'Jessica Goheen',\n",
       " 'Justin Tenuto',\n",
       " 'Joe Crawley',\n",
       " 'Kyle Goyette',\n",
       " 'Yan-David Erlich',\n",
       " 'Frida de Sigley',\n",
       " 'Vish',\n",
       " 'Matt Mirick',\n",
       " 'Scott Pearson',\n",
       " 'Mohammad Bakir',\n",
       " 'Dylan Paiton',\n",
       " 'Katia Patkin',\n",
       " 'Ashraf Shaik',\n",
       " 'Will Pleskow',\n",
       " 'Sparsha Mishra',\n",
       " 'Veronica Edgar',\n",
       " 'Chris Histe',\n",
       " 'Veronica Jung Yeon Kim',\n",
       " 'Kat Markfield',\n",
       " 'Jack Bailin',\n",
       " 'Elaina Hodgkin',\n",
       " 'Esteban Gonzalez',\n",
       " 'Taylor Anthony',\n",
       " 'Lavanya Shukla',\n",
       " 'Ani Safaryan',\n",
       " 'Simon Williams',\n",
       " 'Morgan McGuire',\n",
       " 'Taylor Hersom',\n",
       " 'Min-Young Wu',\n",
       " 'Anton Lenke',\n",
       " 'Karan Nisar',\n",
       " 'Kenna Zilis',\n",
       " 'Melissa Benitez',\n",
       " 'Noah Bruegmann',\n",
       " 'Angelica Pan',\n",
       " 'Taylor Krause',\n",
       " 'Stephanie Chen',\n",
       " 'Scott Condron',\n",
       " 'Will Goldfarb',\n",
       " 'Saurav Maheshkar',\n",
       " 'Brent Chalker',\n",
       " 'Adrish Dey',\n",
       " 'Jackson Rapaich',\n",
       " 'Bryan Bischof',\n",
       " 'Justin Brooks',\n",
       " 'Andrea Pessl',\n",
       " 'Thomas Capelle',\n",
       " 'Amandeep Sandhu',\n",
       " 'Noah Luna',\n",
       " 'Andrew Truong',\n",
       " 'Anish Shah',\n",
       " 'Max Pfeifer',\n",
       " 'Carey Phelps',\n",
       " 'Ben Slade',\n",
       " 'Darek Kleczek',\n",
       " 'Spencer Pearson',\n",
       " 'Manan Goel',\n",
       " 'Mercedes Wu',\n",
       " 'Aditya Prasad',\n",
       " 'Soumik Rakshit',\n",
       " 'Stacey Svetlichnaya',\n",
       " 'Ayush Chaurasia',\n",
       " 'Lukas Biewald',\n",
       " 'Tim Sweeney',\n",
       " 'Nick Penaranda',\n",
       " 'Maddy Muscari',\n",
       " 'Chris Van Pelt',\n",
       " 'Jason Zhao',\n",
       " 'Graham Whitelaw',\n",
       " 'Axel Setyanto',\n",
       " 'Leslie',\n",
       " 'Igor Veksler',\n",
       " 'Haruka Tabuchi',\n",
       " 'Hugo Ponte',\n",
       " 'Sydney Hollingsworth',\n",
       " 'Joe Kelly',\n",
       " 'Gourab De',\n",
       " 'Andrea Parker',\n",
       " 'Matthew Spencer',\n",
       " 'Boris Dayma',\n",
       " 'Parul Pandey',\n",
       " 'Michelle Bergeron',\n",
       " 'Ben Sherman',\n",
       " 'Trevor Petach',\n",
       " 'Arman Harutyunyan',\n",
       " 'Seph Mard',\n",
       " 'Felix Vialva',\n",
       " 'David Jackson',\n",
       " 'Allan Stevenson',\n",
       " 'Jeremiah Lee',\n",
       " 'Tyler Dulberg',\n",
       " 'Adrian Swanberg',\n",
       " 'Altay Guvench']"
      ]
     },
     "execution_count": 13,
     "metadata": {},
     "output_type": "execute_result"
    }
   ],
   "source": [
    "data[\"users\"].sort_values(\"model_id\")[\"real_name\"].tolist()"
   ]
  },
  {
   "cell_type": "code",
   "execution_count": null,
   "id": "6a838670",
   "metadata": {},
   "outputs": [],
   "source": []
  }
 ],
 "metadata": {
  "kernelspec": {
   "display_name": "Python 3 (ipykernel)",
   "language": "python",
   "name": "python3"
  },
  "language_info": {
   "codemirror_mode": {
    "name": "ipython",
    "version": 3
   },
   "file_extension": ".py",
   "mimetype": "text/x-python",
   "name": "python",
   "nbconvert_exporter": "python",
   "pygments_lexer": "ipython3",
   "version": "3.9.9"
  }
 },
 "nbformat": 4,
 "nbformat_minor": 5
}
