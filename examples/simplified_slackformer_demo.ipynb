{
 "cells": [
  {
   "cell_type": "markdown",
   "id": "cfa16846",
   "metadata": {},
   "source": [
    "# Slackformer: Basic transformer on WBSlack data\n",
    "All logic taken from Stacey's notebook and packaged into functions"
   ]
  },
  {
   "cell_type": "code",
   "execution_count": null,
   "id": "f0f90338",
   "metadata": {},
   "outputs": [],
   "source": [
    "import weave\n",
    "import slack_trainer"
   ]
  },
  {
   "cell_type": "code",
   "execution_count": null,
   "id": "c47a44a9",
   "metadata": {},
   "outputs": [],
   "source": [
    "SLACK_DATA_DIR = \"/Users/timothysweeney/Documents/jan_1_2022_slack_dump\"\n",
    "raw_data = slack_trainer.load_data(SLACK_DATA_DIR)"
   ]
  },
  {
   "cell_type": "code",
   "execution_count": null,
   "id": "f3348395",
   "metadata": {},
   "outputs": [],
   "source": [
    "config = {\n",
    "    \"min_msg_count\"  : 100, \n",
    "    \"train_frac\"     : 0.8,\n",
    "    \"use_baseline\"   : True,\n",
    "    \"vocab_size\"     : 20000, \n",
    "    \"sequence_length\": 200,\n",
    "    \"embed_dim\"      : 64,\n",
    "    \"num_heads\"      : 6,\n",
    "    \"ff_dim\"         : 64,\n",
    "    \"optimizer\"      : \"adam\",\n",
    "    \"loss\"           : \"sparse_categorical_crossentropy\",\n",
    "    \"metrics\"        : [\"accuracy\"],\n",
    "    \"batch_size\"     : 64, \n",
    "    \"epochs\"         : 1\n",
    "}"
   ]
  },
  {
   "cell_type": "code",
   "execution_count": null,
   "id": "a6353377",
   "metadata": {},
   "outputs": [],
   "source": [
    "# Process the data\n",
    "data = slack_trainer.process_data(users         = raw_data[\"users\"], \n",
    "                                  messages      = raw_data[\"messages\"], \n",
    "                                  min_msg_count = config[\"min_msg_count\"], \n",
    "                                  train_frac    = config[\"train_frac\"])"
   ]
  },
  {
   "cell_type": "code",
   "execution_count": null,
   "id": "9759138d",
   "metadata": {},
   "outputs": [],
   "source": [
    "# Build & Compile the Model\n",
    "if config[\"use_baseline\"]:\n",
    "    model = slack_trainer.make_baseline_model(data, \n",
    "                                               vocab_size      = config[\"vocab_size\"], \n",
    "                                               sequence_length = config[\"sequence_length\"])\n",
    "else:\n",
    "    model = slack_trainer.make_transformer_model(data, \n",
    "                                                   vocab_size      = config[\"vocab_size\"], \n",
    "                                                   sequence_length = config[\"sequence_length\"],\n",
    "                                                   embed_dim       = config[\"embed_dim\"],\n",
    "                                                   num_heads       = config[\"num_heads\"],\n",
    "                                                   ff_dim          = config[\"ff_dim\"])\n",
    "model.compile(optimizer = config[\"optimizer\"], \n",
    "                       loss      = config[\"loss\"], \n",
    "                       metrics   = config[\"metrics\"])"
   ]
  },
  {
   "cell_type": "code",
   "execution_count": null,
   "id": "c1cf5199",
   "metadata": {},
   "outputs": [],
   "source": [
    "# Train the model\n",
    "results = slack_trainer.fit_model(model, data, \n",
    "                                  batch_size = config[\"batch_size\"], \n",
    "                                  epochs     = config[\"epochs\"])"
   ]
  },
  {
   "cell_type": "code",
   "execution_count": null,
   "id": "51ba2a49",
   "metadata": {},
   "outputs": [],
   "source": [
    "# Package model for inference\n",
    "packaged_model = slack_trainer.package_model(model, data)"
   ]
  },
  {
   "cell_type": "code",
   "execution_count": null,
   "id": "e05b9762",
   "metadata": {},
   "outputs": [],
   "source": [
    "# Save or Publish Model\n",
    "saved_model = weave.save(packaged_model)"
   ]
  },
  {
   "cell_type": "code",
   "execution_count": null,
   "id": "11afb608",
   "metadata": {},
   "outputs": [],
   "source": [
    "# Demonstrate calling\n",
    "from weave.ecosystem import keras as weave_keras\n",
    "weave_keras.call_string(saved_model, \"i love weave\")"
   ]
  }
 ],
 "metadata": {
  "kernelspec": {
   "display_name": "Python 3 (ipykernel)",
   "language": "python",
   "name": "python3"
  },
  "language_info": {
   "codemirror_mode": {
    "name": "ipython",
    "version": 3
   },
   "file_extension": ".py",
   "mimetype": "text/x-python",
   "name": "python",
   "nbconvert_exporter": "python",
   "pygments_lexer": "ipython3",
   "version": "3.9.9"
  }
 },
 "nbformat": 4,
 "nbformat_minor": 5
}
