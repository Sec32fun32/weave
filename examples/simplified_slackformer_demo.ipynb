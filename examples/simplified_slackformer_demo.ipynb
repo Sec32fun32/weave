{
 "cells": [
  {
   "cell_type": "markdown",
   "id": "cfa16846",
   "metadata": {},
   "source": [
    "# Slackformer: Basic transformer on WBSlack data\n",
    "\n",
    "Following [this tutorial](https://colab.research.google.com/github/keras-team/keras-io/blob/master/examples/nlp/ipynb/text_classification_with_transformer.ipynb#scrollTo=HaNCFrk9xtv2) from Keras"
   ]
  },
  {
   "cell_type": "code",
   "execution_count": 1,
   "id": "8d59f68f",
   "metadata": {},
   "outputs": [],
   "source": [
    "import weave\n",
    "import slack_trainer"
   ]
  },
  {
   "cell_type": "code",
   "execution_count": 2,
   "id": "7788a629",
   "metadata": {},
   "outputs": [],
   "source": [
    "SLACK_DATA_DIR = \"/Users/timothysweeney/Documents/jan_1_2022_slack_dump\"\n",
    "raw_data = slack_trainer.load_data(SLACK_DATA_DIR)"
   ]
  },
  {
   "cell_type": "code",
   "execution_count": 3,
   "id": "329bc430",
   "metadata": {},
   "outputs": [],
   "source": [
    "config = {\n",
    "    \"min_msg_count\"  : 100, \n",
    "    \"train_frac\"     : 0.8,\n",
    "    \"use_baseline\"   : True,\n",
    "    \"vocab_size\"     : 20000, \n",
    "    \"sequence_length\": 200,\n",
    "    \"embed_dim\"      : 64,\n",
    "    \"num_heads\"      : 6,\n",
    "    \"ff_dim\"         : 64,\n",
    "    \"optimizer\"      : \"adam\",\n",
    "    \"loss\"           : \"sparse_categorical_crossentropy\",\n",
    "    \"metrics\"        : [\"accuracy\"],\n",
    "    \"batch_size\"     : 64, \n",
    "    \"epochs\"         : 1\n",
    "}"
   ]
  },
  {
   "cell_type": "code",
   "execution_count": 4,
   "id": "1be1fc1e",
   "metadata": {},
   "outputs": [],
   "source": [
    "# Process the data\n",
    "data = slack_trainer.process_data(users         = raw_data[\"users\"], \n",
    "                                  messages      = raw_data[\"messages\"], \n",
    "                                  min_msg_count = config[\"min_msg_count\"], \n",
    "                                  train_frac    = config[\"train_frac\"])"
   ]
  },
  {
   "cell_type": "code",
   "execution_count": 5,
   "id": "693d18e7",
   "metadata": {},
   "outputs": [
    {
     "name": "stderr",
     "output_type": "stream",
     "text": [
      "2022-08-11 01:42:53.164308: I tensorflow/core/platform/cpu_feature_guard.cc:193] This TensorFlow binary is optimized with oneAPI Deep Neural Network Library (oneDNN) to use the following CPU instructions in performance-critical operations:  AVX2 FMA\n",
      "To enable them in other operations, rebuild TensorFlow with the appropriate compiler flags.\n"
     ]
    }
   ],
   "source": [
    "# Build & Compile the Model\n",
    "if config[\"use_baseline\"]:\n",
    "    model = slack_trainer.make_baseline_model(data, \n",
    "                                               vocab_size      = config[\"vocab_size\"], \n",
    "                                               sequence_length = config[\"sequence_length\"])\n",
    "else:\n",
    "    model = slack_trainer.make_transformer_model(data, \n",
    "                                                   vocab_size      = config[\"vocab_size\"], \n",
    "                                                   sequence_length = config[\"sequence_length\"],\n",
    "                                                   embed_dim       = config[\"embed_dim\"],\n",
    "                                                   num_heads       = config[\"num_heads\"],\n",
    "                                                   ff_dim          = config[\"ff_dim\"])\n",
    "model.compile(optimizer = config[\"optimizer\"], \n",
    "                       loss      = config[\"loss\"], \n",
    "                       metrics   = config[\"metrics\"])"
   ]
  },
  {
   "cell_type": "code",
   "execution_count": 6,
   "id": "67c04f6b",
   "metadata": {},
   "outputs": [
    {
     "name": "stdout",
     "output_type": "stream",
     "text": [
      "9/9 [==============================] - 1s 26ms/step - loss: 241.5661 - accuracy: 0.2220 - val_loss: 151.7215 - val_accuracy: 0.2190\n"
     ]
    }
   ],
   "source": [
    "# Train the model\n",
    "results = slack_trainer.fit_model(model, data, \n",
    "                                  batch_size = config[\"batch_size\"], \n",
    "                                  epochs     = config[\"epochs\"])"
   ]
  },
  {
   "cell_type": "code",
   "execution_count": 7,
   "id": "96f18a33",
   "metadata": {},
   "outputs": [],
   "source": [
    "# Package model for inference\n",
    "packaged_model = slack_trainer.package_model(model, data)"
   ]
  },
  {
   "cell_type": "code",
   "execution_count": 12,
   "id": "d88151d3",
   "metadata": {},
   "outputs": [],
   "source": [
    "# Save or Publish Model\n",
    "saved_model = weave.save(packaged_model)"
   ]
  },
  {
   "cell_type": "code",
   "execution_count": 13,
   "id": "becfb52b",
   "metadata": {},
   "outputs": [
    {
     "data": {
      "text/html": [
       "\n",
       "        <iframe\n",
       "            width=\"100%\"\n",
       "            height=\"400px\"\n",
       "            src=\"http://127.0.0.1:64921/__frontend/weave_jupyter/__frontend/weave_jupyter?fullScreen&expNode=%7B%22nodeType%22%3A%20%22output%22%2C%20%22type%22%3A%20%22string%22%2C%20%22fromOp%22%3A%20%7B%22name%22%3A%20%22op-call_string%22%2C%20%22inputs%22%3A%20%7B%22model%22%3A%20%7B%22nodeType%22%3A%20%22output%22%2C%20%22type%22%3A%20%7B%22type%22%3A%20%22KerasModel%22%2C%20%22inputs_type%22%3A%20%7B%22type%22%3A%20%22typedDict%22%2C%20%22propertyTypes%22%3A%20%7B%220%22%3A%20%7B%22type%22%3A%20%22KerasTensor%22%2C%20%22shape%22%3A%20%7B%22type%22%3A%20%22typedDict%22%2C%20%22propertyTypes%22%3A%20%7B%220%22%3A%20%22none%22%2C%20%221%22%3A%20%7B%22type%22%3A%20%22const%22%2C%20%22valType%22%3A%20%22number%22%2C%20%22val%22%3A%201%7D%7D%7D%2C%20%22datatype_enum%22%3A%20%7B%22type%22%3A%20%22const%22%2C%20%22valType%22%3A%20%22number%22%2C%20%22val%22%3A%207%7D%7D%7D%7D%2C%20%22outputs_type%22%3A%20%7B%22type%22%3A%20%22typedDict%22%2C%20%22propertyTypes%22%3A%20%7B%220%22%3A%20%7B%22type%22%3A%20%22KerasTensor%22%2C%20%22shape%22%3A%20%7B%22type%22%3A%20%22typedDict%22%2C%20%22propertyTypes%22%3A%20%7B%220%22%3A%20%22none%22%2C%20%221%22%3A%20%7B%22type%22%3A%20%22const%22%2C%20%22valType%22%3A%20%22number%22%2C%20%22val%22%3A%201%7D%7D%7D%2C%20%22datatype_enum%22%3A%20%7B%22type%22%3A%20%22const%22%2C%20%22valType%22%3A%20%22number%22%2C%20%22val%22%3A%207%7D%7D%7D%7D%7D%2C%20%22fromOp%22%3A%20%7B%22name%22%3A%20%22get%22%2C%20%22inputs%22%3A%20%7B%22uri%22%3A%20%7B%22nodeType%22%3A%20%22const%22%2C%20%22type%22%3A%20%7B%22type%22%3A%20%22const%22%2C%20%22valType%22%3A%20%22string%22%2C%20%22val%22%3A%20%22local-artifact%3A///tmp/local-artifacts/KerasModel/f6ffd14701ecff6e57665aa3e86ec61a%22%7D%2C%20%22val%22%3A%20%22local-artifact%3A///tmp/local-artifacts/KerasModel/f6ffd14701ecff6e57665aa3e86ec61a%22%7D%7D%7D%7D%2C%20%22input%22%3A%20%7B%22nodeType%22%3A%20%22const%22%2C%20%22type%22%3A%20%7B%22type%22%3A%20%22const%22%2C%20%22valType%22%3A%20%22string%22%2C%20%22val%22%3A%20%22i%20love%20weave%22%7D%2C%20%22val%22%3A%20%22i%20love%20weave%22%7D%7D%7D%7D\"\n",
       "            frameborder=\"0\"\n",
       "            allowfullscreen\n",
       "            \n",
       "        ></iframe>\n",
       "        "
      ],
      "text/plain": [
       "<IPython.lib.display.IFrame at 0x14abe8dc0>"
      ]
     },
     "metadata": {},
     "output_type": "display_data"
    },
    {
     "name": "stdout",
     "output_type": "stream",
     "text": [
      "1/1 [==============================] - 0s 136ms/step\n"
     ]
    }
   ],
   "source": [
    "from weave.ecosystem import keras as weave_keras\n",
    "weave_keras.call_string(saved_model, \"i love weave\")"
   ]
  },
  {
   "cell_type": "code",
   "execution_count": 16,
   "id": "c7c9e47b",
   "metadata": {},
   "outputs": [
    {
     "name": "stdout",
     "output_type": "stream",
     "text": [
      "1/1 [==============================] - 0s 30ms/step\n",
      "Gourab De\n"
     ]
    },
    {
     "data": {
      "text/plain": [
       "type"
      ]
     },
     "execution_count": 16,
     "metadata": {},
     "output_type": "execute_result"
    }
   ],
   "source": [
    "res = packaged_model.predict([\"asdf\"]).tolist()[0][0]\n",
    "if type(res) == bytes:\n",
    "    print(res.decode('utf-8'))\n",
    "type(type(res))"
   ]
  },
  {
   "cell_type": "code",
   "execution_count": 10,
   "id": "d08acb63",
   "metadata": {},
   "outputs": [],
   "source": [
    "import tensorflow as tf\n",
    "inputs = tf.keras.Input(shape=(1,), dtype=\"string\")\n",
    "indicies = tf.keras.layers.Reshape(target_shape=(1,))(slack_trainer._argmax_layer()(model(inputs)))\n",
    "\n",
    "vocab = data[\"users\"].sort_values(\"model_id\")[\"real_name\"].tolist()\n",
    "layer = tf.keras.layers.StringLookup(vocabulary=vocab, invert=True)\n",
    "\n",
    "outputs = layer(indicies)\n",
    "\n",
    "# Our end to end model\n",
    "end_to_end_model = tf.keras.Model(inputs, outputs)\n",
    "end_to_end_model.compile(\n",
    "    loss=\"binary_crossentropy\", optimizer=\"adam\", metrics=[\"accuracy\"])"
   ]
  },
  {
   "cell_type": "code",
   "execution_count": 12,
   "id": "4591a409",
   "metadata": {},
   "outputs": [
    {
     "name": "stdout",
     "output_type": "stream",
     "text": [
      "1/1 [==============================] - 0s 27ms/step\n"
     ]
    },
    {
     "data": {
      "text/plain": [
       "bytes"
      ]
     },
     "execution_count": 12,
     "metadata": {},
     "output_type": "execute_result"
    }
   ],
   "source": [
    "res = packaged_model.predict([\"adf\"]).tolist()[0][0]\n",
    "type(res)"
   ]
  },
  {
   "cell_type": "code",
   "execution_count": 52,
   "id": "b031e6a6",
   "metadata": {},
   "outputs": [],
   "source": [
    "import tensorflow as tf\n",
    "\n",
    "class argmax_layer(tf.keras.layers.Layer):\n",
    "    def __init__(self):\n",
    "        super(argmax_layer, self).__init__()\n",
    "\n",
    "    def call(self, inputs):\n",
    "        return tf.math.argmax(inputs, axis=1)\n",
    "\n",
    "# A string input\n",
    "inputs = tf.keras.Input(shape=(1,), dtype=\"string\")\n",
    "indicies = tf.keras.layers.Reshape(target_shape=(1,))(argmax_layer()(model(inputs)))\n",
    "\n",
    "vocab = data[\"users\"].sort_values(\"model_id\")[\"real_name\"].tolist()\n",
    "layer = tf.keras.layers.StringLookup(vocabulary=vocab, invert=True)\n",
    "\n",
    "outputs = layer(indicies)\n",
    "\n",
    "\n",
    "# Our end to end model\n",
    "end_to_end_model = tf.keras.Model(inputs, outputs)\n",
    "end_to_end_model.compile(\n",
    "    loss=\"binary_crossentropy\", optimizer=\"adam\", metrics=[\"accuracy\"]\n",
    ")\n",
    "\n",
    "\n",
    "\n",
    "# # data = tf.constant([[0], [1]])\n",
    "# # vocab = [\"aa\", \"b\", \"c\", \"d\"]\n",
    "# layer(model.predict([\"I love weave\"]).argmax())\n",
    "# end_to_end_model = "
   ]
  },
  {
   "cell_type": "code",
   "execution_count": 55,
   "id": "a2c7a502",
   "metadata": {},
   "outputs": [
    {
     "name": "stdout",
     "output_type": "stream",
     "text": [
      "1/1 [==============================] - 0s 186ms/step\n"
     ]
    },
    {
     "data": {
      "text/plain": [
       "array([[b'Kenna Zilis'],\n",
       "       [b'Hugo Ponte']], dtype=object)"
      ]
     },
     "execution_count": 55,
     "metadata": {},
     "output_type": "execute_result"
    }
   ],
   "source": [
    "end_to_end_model.predict([[\"I love weave\"], [\"customers\"]])"
   ]
  },
  {
   "cell_type": "code",
   "execution_count": 54,
   "id": "cb25d76d",
   "metadata": {},
   "outputs": [
    {
     "data": {
      "text/plain": [
       "[<KerasTensor: shape=(None, 1) dtype=string (created by layer 'string_lookup_9')>]"
      ]
     },
     "execution_count": 54,
     "metadata": {},
     "output_type": "execute_result"
    }
   ],
   "source": [
    "end_to_end_model.outputs"
   ]
  },
  {
   "cell_type": "code",
   "execution_count": 31,
   "id": "2efd26cb",
   "metadata": {},
   "outputs": [
    {
     "name": "stdout",
     "output_type": "stream",
     "text": [
      "1/1 [==============================] - 0s 31ms/step\n"
     ]
    },
    {
     "data": {
      "text/plain": [
       "user_id                                            U016KFFRXFH\n",
       "count                                                      762\n",
       "real_name                                    Arman Harutyunyan\n",
       "image_72     https://avatars.slack-edge.com/2020-07-14/1264...\n",
       "model_id                                                     0\n",
       "Name: 101, dtype: object"
      ]
     },
     "execution_count": 31,
     "metadata": {},
     "output_type": "execute_result"
    }
   ],
   "source": [
    "data[\"users\"].loc[model.predict([\"I love weave\"]).argmax()]"
   ]
  },
  {
   "cell_type": "code",
   "execution_count": 42,
   "id": "366ff4f3",
   "metadata": {},
   "outputs": [
    {
     "name": "stdout",
     "output_type": "stream",
     "text": [
      "1/1 [==============================] - 0s 35ms/step\n"
     ]
    },
    {
     "data": {
      "text/plain": [
       "42"
      ]
     },
     "execution_count": 42,
     "metadata": {},
     "output_type": "execute_result"
    }
   ],
   "source": [
    "model.predict([\"adsfasdfasdfads\"]).argmax()"
   ]
  },
  {
   "cell_type": "code",
   "execution_count": 8,
   "id": "26419eec",
   "metadata": {},
   "outputs": [
    {
     "name": "stderr",
     "output_type": "stream",
     "text": [
      "WARNING:absl:Found untraced functions such as embedding_layer_call_fn, embedding_layer_call_and_return_conditional_losses, embedding_1_layer_call_fn, embedding_1_layer_call_and_return_conditional_losses, multi_head_attention_layer_call_fn while saving (showing 5 of 26). These functions will not be directly callable after loading.\n"
     ]
    },
    {
     "name": "stdout",
     "output_type": "stream",
     "text": [
      "INFO:tensorflow:Assets written to: /var/folders/wv/j7nq4t9j7tl2cq_2mz2mhbj40000gn/T/tmpdenqikis/assets\n"
     ]
    },
    {
     "name": "stderr",
     "output_type": "stream",
     "text": [
      "INFO:tensorflow:Assets written to: /var/folders/wv/j7nq4t9j7tl2cq_2mz2mhbj40000gn/T/tmpdenqikis/assets\n",
      "\u001b[34m\u001b[1mwandb\u001b[0m: Adding directory to artifact (/var/folders/wv/j7nq4t9j7tl2cq_2mz2mhbj40000gn/T/tmpdenqikis)... Done. 0.1s\n"
     ]
    },
    {
     "data": {
      "text/html": [
       "\n",
       "        <iframe\n",
       "            width=\"100%\"\n",
       "            height=\"400px\"\n",
       "            src=\"http://127.0.0.1:62615/__frontend/weave_jupyter/__frontend/weave_jupyter?fullScreen&expNode=%7B%22nodeType%22%3A%20%22output%22%2C%20%22type%22%3A%20%7B%22type%22%3A%20%22KerasModel%22%2C%20%22inputs_type%22%3A%20%7B%22type%22%3A%20%22typedDict%22%2C%20%22propertyTypes%22%3A%20%7B%220%22%3A%20%7B%22type%22%3A%20%22KerasTensor%22%2C%20%22shape%22%3A%20%7B%22type%22%3A%20%22typedDict%22%2C%20%22propertyTypes%22%3A%20%7B%220%22%3A%20%22none%22%2C%20%221%22%3A%20%7B%22type%22%3A%20%22const%22%2C%20%22valType%22%3A%20%22number%22%2C%20%22val%22%3A%201%7D%7D%7D%2C%20%22datatype_enum%22%3A%20%7B%22type%22%3A%20%22const%22%2C%20%22valType%22%3A%20%22number%22%2C%20%22val%22%3A%207%7D%7D%7D%7D%2C%20%22outputs_type%22%3A%20%7B%22type%22%3A%20%22typedDict%22%2C%20%22propertyTypes%22%3A%20%7B%220%22%3A%20%7B%22type%22%3A%20%22KerasTensor%22%2C%20%22shape%22%3A%20%7B%22type%22%3A%20%22typedDict%22%2C%20%22propertyTypes%22%3A%20%7B%220%22%3A%20%22none%22%2C%20%221%22%3A%20%7B%22type%22%3A%20%22const%22%2C%20%22valType%22%3A%20%22number%22%2C%20%22val%22%3A%20143%7D%7D%7D%2C%20%22datatype_enum%22%3A%20%7B%22type%22%3A%20%22const%22%2C%20%22valType%22%3A%20%22number%22%2C%20%22val%22%3A%201%7D%7D%7D%7D%7D%2C%20%22fromOp%22%3A%20%7B%22name%22%3A%20%22get%22%2C%20%22inputs%22%3A%20%7B%22uri%22%3A%20%7B%22nodeType%22%3A%20%22const%22%2C%20%22type%22%3A%20%7B%22type%22%3A%20%22const%22%2C%20%22valType%22%3A%20%22string%22%2C%20%22val%22%3A%20%22wandb-artifact%3A//timssweeney/weave_ops/tim_transformer_demo%3Av0%22%7D%2C%20%22val%22%3A%20%22wandb-artifact%3A//timssweeney/weave_ops/tim_transformer_demo%3Av0%22%7D%7D%7D%7D\"\n",
       "            frameborder=\"0\"\n",
       "            allowfullscreen\n",
       "            \n",
       "        ></iframe>\n",
       "        "
      ],
      "text/plain": [
       "<IPython.lib.display.IFrame at 0x16d8d0850>"
      ]
     },
     "metadata": {},
     "output_type": "display_data"
    }
   ],
   "source": [
    "import weave\n",
    "weave.publish(model, name=\"tim_transformer_demo\")"
   ]
  },
  {
   "cell_type": "code",
   "execution_count": 9,
   "id": "efde3ec5",
   "metadata": {},
   "outputs": [],
   "source": [
    "m = weave.get(\"wandb-artifact://timssweeney/weave_ops/tim_transformer_demo:v0\")"
   ]
  },
  {
   "cell_type": "code",
   "execution_count": 18,
   "id": "d9730698",
   "metadata": {},
   "outputs": [
    {
     "data": {
      "text/plain": [
       "['Arman Harutyunyan',\n",
       " 'Taylor Hersom',\n",
       " 'John Qian',\n",
       " 'Matthew Spencer',\n",
       " 'Igor Veksler',\n",
       " 'Ani Safaryan',\n",
       " 'Thomas Capelle',\n",
       " 'Noah Wisnia',\n",
       " 'Sanyam Bhutani',\n",
       " 'Nir Podoleanu',\n",
       " 'Rajne Kumari',\n",
       " 'Kat Markfield',\n",
       " 'Noah Luna',\n",
       " 'Altay Guvench',\n",
       " 'Lukas Biewald',\n",
       " 'Dave Davies',\n",
       " 'Yan-David Erlich',\n",
       " 'Spencer Pearson',\n",
       " 'Mic lee',\n",
       " 'Michelle Bergeron',\n",
       " 'Ben Sherman',\n",
       " 'Dave La Chasse',\n",
       " 'Seph Mard',\n",
       " 'Min-Young Wu',\n",
       " 'Melissa Benitez',\n",
       " 'Jason Zhao',\n",
       " 'Rebecca Li',\n",
       " 'Mohammad Bakir',\n",
       " 'Saurav Maheshkar',\n",
       " 'Andrew Truong',\n",
       " 'Felix Vialva',\n",
       " 'Jackson Rapaich',\n",
       " 'Pratik Sutar',\n",
       " 'Kevin Stofan',\n",
       " 'Esteban Gonzalez',\n",
       " 'Parul Pandey',\n",
       " 'Justin Melbourne',\n",
       " 'Elaina Hodgkin',\n",
       " 'Will Goldfarb',\n",
       " 'Ivan',\n",
       " 'Allan Stevenson',\n",
       " 'Jeff Raubitschek',\n",
       " 'Bryan Bischof',\n",
       " 'Carey Phelps',\n",
       " 'Jack Bailin',\n",
       " 'Frida de Sigley',\n",
       " 'Scott Pearson',\n",
       " 'Hugo Ponte',\n",
       " 'Matt Mirick',\n",
       " 'Ember Campbell',\n",
       " 'Leslie',\n",
       " 'Ken Lee',\n",
       " 'Kyle Goyette',\n",
       " 'Justin Tenuto',\n",
       " 'Edward.li',\n",
       " 'Tim Sweeney',\n",
       " 'Graham Whitelaw',\n",
       " 'Stacey Svetlichnaya',\n",
       " 'Soumik Rakshit',\n",
       " 'Geffen Huberman',\n",
       " 'Katia Patkin',\n",
       " 'Darek Kleczek',\n",
       " 'Athanasios Vitsas',\n",
       " 'Jillian Clark',\n",
       " 'Ayush Chaurasia',\n",
       " 'Chris Van Pelt',\n",
       " 'Jessica Goheen',\n",
       " 'Arya Choudhury',\n",
       " 'Oliver Makins',\n",
       " 'Nathan Kuneman',\n",
       " 'Simon Williams',\n",
       " 'Bob Albrecht',\n",
       " 'Gourab De',\n",
       " 'Mercedes Wu',\n",
       " 'Scott Condron',\n",
       " 'Noah Bruegmann',\n",
       " 'David Jackson',\n",
       " 'Andrea Parker',\n",
       " 'Trevor Petach',\n",
       " 'Aidan Donohue',\n",
       " 'Adrian Swanberg',\n",
       " 'Nick Penaranda',\n",
       " 'Eric Bunch',\n",
       " 'Ashraf Shaik',\n",
       " 'Sydney Hollingsworth',\n",
       " 'Stephanie Chen',\n",
       " 'Hamel Husain',\n",
       " 'Ayush Thakur',\n",
       " 'Taylor Krause',\n",
       " 'Justin Tulk',\n",
       " 'Morgan McGuire',\n",
       " 'Axel Setyanto',\n",
       " 'Tim W',\n",
       " 'Ramit Goolry',\n",
       " 'Ari Crellin-Quick',\n",
       " 'Lavanya Shukla',\n",
       " 'Ross Nanopoulos',\n",
       " 'Angelica Pan',\n",
       " 'Venky Yerneni',\n",
       " 'Aditya Prasad',\n",
       " 'Kenna Zilis',\n",
       " 'Danny Goldstein',\n",
       " 'Veronica Edgar',\n",
       " 'Manan Goel',\n",
       " 'Vish',\n",
       " 'Scott Juang',\n",
       " 'Anish Shah',\n",
       " 'Veronica Jung Yeon Kim',\n",
       " 'Brent Chalker',\n",
       " 'Tyler Dulberg',\n",
       " 'Chris Histe',\n",
       " 'Kent Ross',\n",
       " 'Kevin Ford',\n",
       " 'Timothy Laurent',\n",
       " 'Joe Kelly',\n",
       " 'Jeremiah Lee',\n",
       " 'Taylor Anthony',\n",
       " 'Adrish Dey',\n",
       " 'Karan Nisar',\n",
       " 'Dima Duev',\n",
       " 'Taha Bouhoun',\n",
       " 'Joe Wear',\n",
       " 'Mick Jermsurawong',\n",
       " 'Will Pleskow',\n",
       " 'Phil Gurbacki',\n",
       " 'Anmol Mann',\n",
       " 'Seann G',\n",
       " 'Maddy Muscari',\n",
       " 'Joe Crawley',\n",
       " 'Anton Lenke',\n",
       " 'Amandeep Sandhu',\n",
       " 'Dylan Paiton',\n",
       " 'Boris Dayma',\n",
       " 'Annirudh Prasad',\n",
       " 'Max Pfeifer',\n",
       " 'Shawn Lewis',\n",
       " 'Ben Slade',\n",
       " 'Andrea Pessl',\n",
       " 'Sparsha Mishra',\n",
       " 'Kyle Woestmann',\n",
       " 'Haruka Tabuchi',\n",
       " 'Joyce Fang',\n",
       " 'Justin Brooks']"
      ]
     },
     "execution_count": 18,
     "metadata": {},
     "output_type": "execute_result"
    }
   ],
   "source": []
  },
  {
   "cell_type": "code",
   "execution_count": 32,
   "id": "c6597f67",
   "metadata": {},
   "outputs": [
    {
     "name": "stdout",
     "output_type": "stream",
     "text": [
      "1/1 [==============================] - 0s 31ms/step\n"
     ]
    },
    {
     "data": {
      "text/plain": [
       "<tf.Tensor: shape=(), dtype=string, numpy=b'Kenna Zilis'>"
      ]
     },
     "execution_count": 32,
     "metadata": {},
     "output_type": "execute_result"
    }
   ],
   "source": []
  },
  {
   "cell_type": "code",
   "execution_count": 10,
   "id": "0c851e33",
   "metadata": {},
   "outputs": [
    {
     "data": {
      "text/plain": [
       "KerasModel(inputs_type=TypedDict(property_types={'0': KerasTensorType(shape=TypedDict(property_types={'0': NoneType(), '1': <Const Number() 1>}), datatype_enum=<Const Number() 7>)}), outputs_type=TypedDict(property_types={'0': KerasTensorType(shape=TypedDict(property_types={'0': NoneType(), '1': <Const Number() 143>}), datatype_enum=<Const Number() 1>)}))"
      ]
     },
     "execution_count": 10,
     "metadata": {},
     "output_type": "execute_result"
    }
   ],
   "source": [
    "m.type"
   ]
  },
  {
   "cell_type": "code",
   "execution_count": 46,
   "id": "0c6e823e",
   "metadata": {},
   "outputs": [],
   "source": [
    "import re\n",
    "def remove_user_mention(text):\n",
    "    regex = r'\\<.*\\>'\n",
    "    return re.sub(regex, '', text)\n",
    "\n",
    "def remove_multiple_space(text):\n",
    "    regex = r'\\s+'\n",
    "    return re.sub(regex, ' ', text)\n",
    "\n",
    "def remove_emojies(text):\n",
    "    regex = r':\\w+:'\n",
    "    return re.sub(regex, ' ', text)\n",
    "\n",
    "def process_text(text):\n",
    "    return remove_multiple_space(remove_emojies(remove_user_mention(text))).strip()"
   ]
  },
  {
   "cell_type": "code",
   "execution_count": 49,
   "id": "ae5824ba",
   "metadata": {},
   "outputs": [
    {
     "data": {
      "text/html": [
       "<pre style=\"white-space:pre;overflow-x:auto;line-height:normal;font-family:Menlo,'DejaVu Sans Mono',consolas,'Courier New',monospace\">\n",
       "<span style=\"font-weight: bold\">{</span>\n",
       "    <span style=\"color: #008000; text-decoration-color: #008000\">'UGAUNF091'</span>: <span style=\"font-weight: bold\">{</span>\n",
       "        <span style=\"color: #008000; text-decoration-color: #008000\">'count'</span>: <span style=\"color: #008080; text-decoration-color: #008080; font-weight: bold\">1</span>,\n",
       "        <span style=\"color: #008000; text-decoration-color: #008000\">'real_name'</span>: <span style=\"color: #008000; text-decoration-color: #008000\">'Annirudh Prasad'</span>,\n",
       "        <span style=\"color: #008000; text-decoration-color: #008000\">'image_72'</span>: <span style=\"color: #008000; text-decoration-color: #008000\">'https://avatars.slack-edge.com/2020-08-03/1284809526772_715449f3740e0315926e_72.jpg'</span>\n",
       "    <span style=\"font-weight: bold\">}</span>,\n",
       "    <span style=\"color: #008000; text-decoration-color: #008000\">'U01909K5TLL'</span>: <span style=\"font-weight: bold\">{</span>\n",
       "        <span style=\"color: #008000; text-decoration-color: #008000\">'count'</span>: <span style=\"color: #008080; text-decoration-color: #008080; font-weight: bold\">1</span>,\n",
       "        <span style=\"color: #008000; text-decoration-color: #008000\">'real_name'</span>: <span style=\"color: #008000; text-decoration-color: #008000\">'Justin Brooks'</span>,\n",
       "        <span style=\"color: #008000; text-decoration-color: #008000\">'image_72'</span>: <span style=\"color: #008000; text-decoration-color: #008000\">'https://avatars.slack-edge.com/2021-04-22/1985560857158_8fc52847043c2c6fc3c8_72.png'</span>\n",
       "    <span style=\"font-weight: bold\">}</span>,\n",
       "    <span style=\"color: #008000; text-decoration-color: #008000\">'U0378N83U0M'</span>: <span style=\"font-weight: bold\">{</span>\n",
       "        <span style=\"color: #008000; text-decoration-color: #008000\">'count'</span>: <span style=\"color: #008080; text-decoration-color: #008080; font-weight: bold\">1</span>,\n",
       "        <span style=\"color: #008000; text-decoration-color: #008000\">'real_name'</span>: <span style=\"color: #008000; text-decoration-color: #008000\">'Mercedes Wu'</span>,\n",
       "        <span style=\"color: #008000; text-decoration-color: #008000\">'image_72'</span>: <span style=\"color: #008000; text-decoration-color: #008000\">'https://avatars.slack-edge.com/2022-03-16/3249869827843_92628621ea322e6dbcac_72.png'</span>\n",
       "    <span style=\"font-weight: bold\">}</span>,\n",
       "    <span style=\"color: #008000; text-decoration-color: #008000\">'U027SFLG23U'</span>: <span style=\"font-weight: bold\">{</span>\n",
       "        <span style=\"color: #008000; text-decoration-color: #008000\">'count'</span>: <span style=\"color: #008080; text-decoration-color: #008080; font-weight: bold\">4</span>,\n",
       "        <span style=\"color: #008000; text-decoration-color: #008000\">'real_name'</span>: <span style=\"color: #008000; text-decoration-color: #008000\">'Elaina Hodgkin'</span>,\n",
       "        <span style=\"color: #008000; text-decoration-color: #008000\">'image_72'</span>: <span style=\"color: #008000; text-decoration-color: #008000\">'https://avatars.slack-edge.com/2021-08-12/2370319704006_6b84fdfe562e74bb22b2_72.jpg'</span>\n",
       "    <span style=\"font-weight: bold\">}</span>,\n",
       "    <span style=\"color: #008000; text-decoration-color: #008000\">'U02AWLJ2AKV'</span>: <span style=\"font-weight: bold\">{</span>\n",
       "        <span style=\"color: #008000; text-decoration-color: #008000\">'count'</span>: <span style=\"color: #008080; text-decoration-color: #008080; font-weight: bold\">5</span>,\n",
       "        <span style=\"color: #008000; text-decoration-color: #008000\">'real_name'</span>: <span style=\"color: #008000; text-decoration-color: #008000\">'Bryan Bischof'</span>,\n",
       "        <span style=\"color: #008000; text-decoration-color: #008000\">'image_72'</span>: <span style=\"color: #008000; text-decoration-color: #008000\">'https://avatars.slack-edge.com/2021-08-11/2370927798483_3543e7894693d2a8bf41_72.png'</span>\n",
       "    <span style=\"font-weight: bold\">}</span>,\n",
       "    <span style=\"color: #008000; text-decoration-color: #008000\">'U02LSTL8EKZ'</span>: <span style=\"font-weight: bold\">{</span>\n",
       "        <span style=\"color: #008000; text-decoration-color: #008000\">'count'</span>: <span style=\"color: #008080; text-decoration-color: #008080; font-weight: bold\">1</span>,\n",
       "        <span style=\"color: #008000; text-decoration-color: #008000\">'real_name'</span>: <span style=\"color: #008000; text-decoration-color: #008000\">'Dave La Chasse'</span>,\n",
       "        <span style=\"color: #008000; text-decoration-color: #008000\">'image_72'</span>: <span style=\"color: #008000; text-decoration-color: #008000\">'https://avatars.slack-edge.com/2021-11-15/2750811456176_3a1c4fef5f1f81918523_72.jpg'</span>\n",
       "    <span style=\"font-weight: bold\">}</span>,\n",
       "    <span style=\"color: #008000; text-decoration-color: #008000\">'U039C9C8CT1'</span>: <span style=\"font-weight: bold\">{</span>\n",
       "        <span style=\"color: #008000; text-decoration-color: #008000\">'count'</span>: <span style=\"color: #008080; text-decoration-color: #008080; font-weight: bold\">25</span>,\n",
       "        <span style=\"color: #008000; text-decoration-color: #008000\">'real_name'</span>: <span style=\"color: #008000; text-decoration-color: #008000\">'Joe Wear'</span>,\n",
       "        <span style=\"color: #008000; text-decoration-color: #008000\">'image_72'</span>: <span style=\"color: #008000; text-decoration-color: #008000\">'https://avatars.slack-edge.com/2022-04-04/3362060346832_4abce8ffdce987dc6644_72.png'</span>\n",
       "    <span style=\"font-weight: bold\">}</span>,\n",
       "    <span style=\"color: #008000; text-decoration-color: #008000\">'U02LG00Q6V9'</span>: <span style=\"font-weight: bold\">{</span>\n",
       "        <span style=\"color: #008000; text-decoration-color: #008000\">'count'</span>: <span style=\"color: #008080; text-decoration-color: #008080; font-weight: bold\">25</span>,\n",
       "        <span style=\"color: #008000; text-decoration-color: #008000\">'real_name'</span>: <span style=\"color: #008000; text-decoration-color: #008000\">'Allan Stevenson'</span>,\n",
       "        <span style=\"color: #008000; text-decoration-color: #008000\">'image_72'</span>: <span style=\"color: #008000; text-decoration-color: #008000\">'https://avatars.slack-edge.com/2021-11-08/2691199572790_afd0a7a8d71fef791a8c_72.jpg'</span>\n",
       "    <span style=\"font-weight: bold\">}</span>,\n",
       "    <span style=\"color: #008000; text-decoration-color: #008000\">'U02GY0ENX71'</span>: <span style=\"font-weight: bold\">{</span>\n",
       "        <span style=\"color: #008000; text-decoration-color: #008000\">'count'</span>: <span style=\"color: #008080; text-decoration-color: #008080; font-weight: bold\">15</span>,\n",
       "        <span style=\"color: #008000; text-decoration-color: #008000\">'real_name'</span>: <span style=\"color: #008000; text-decoration-color: #008000\">'Venky Yerneni'</span>,\n",
       "        <span style=\"color: #008000; text-decoration-color: #008000\">'image_72'</span>: <span style=\"color: #008000; text-decoration-color: #008000\">'https://avatars.slack-edge.com/2022-06-24/3742856936208_57e78e07275a252c0e73_72.jpg'</span>\n",
       "    <span style=\"font-weight: bold\">}</span>,\n",
       "    <span style=\"color: #008000; text-decoration-color: #008000\">'U0BL7FFRQ'</span>: <span style=\"font-weight: bold\">{</span>\n",
       "        <span style=\"color: #008000; text-decoration-color: #008000\">'count'</span>: <span style=\"color: #008080; text-decoration-color: #008080; font-weight: bold\">1</span>,\n",
       "        <span style=\"color: #008000; text-decoration-color: #008000\">'real_name'</span>: <span style=\"color: #008000; text-decoration-color: #008000\">'Stephen Smith'</span>,\n",
       "        <span style=\"color: #008000; text-decoration-color: #008000\">'image_72'</span>: <span style=\"color: #008000; text-decoration-color: #008000\">'https://secure.gravatar.com/avatar/ba12e9c17b027b5290617bd794ce438d.jpg?s=72&amp;d=https%3A%2F%2Fa.slack-edge.com%2Fdf10d%2Fimg%2Favatars%2Fava_0022-72.png'</span>\n",
       "    <span style=\"font-weight: bold\">}</span>,\n",
       "    <span style=\"color: #008000; text-decoration-color: #008000\">'U029HT9ANN5'</span>: <span style=\"font-weight: bold\">{</span>\n",
       "        <span style=\"color: #008000; text-decoration-color: #008000\">'count'</span>: <span style=\"color: #008080; text-decoration-color: #008080; font-weight: bold\">1</span>,\n",
       "        <span style=\"color: #008000; text-decoration-color: #008000\">'real_name'</span>: <span style=\"color: #008000; text-decoration-color: #008000\">'Stephen Bull'</span>,\n",
       "        <span style=\"color: #008000; text-decoration-color: #008000\">'image_72'</span>: <span style=\"color: #008000; text-decoration-color: #008000\">'https://avatars.slack-edge.com/2021-07-27/2308897932134_b5195f68fe953a106f66_72.jpg'</span>\n",
       "    <span style=\"font-weight: bold\">}</span>,\n",
       "    <span style=\"color: #008000; text-decoration-color: #008000\">'U0136K8KQLE'</span>: <span style=\"font-weight: bold\">{</span>\n",
       "        <span style=\"color: #008000; text-decoration-color: #008000\">'count'</span>: <span style=\"color: #008080; text-decoration-color: #008080; font-weight: bold\">7</span>,\n",
       "        <span style=\"color: #008000; text-decoration-color: #008000\">'real_name'</span>: <span style=\"color: #008000; text-decoration-color: #008000\">'Terry Norton'</span>,\n",
       "        <span style=\"color: #008000; text-decoration-color: #008000\">'image_72'</span>: <span style=\"color: #008000; text-decoration-color: #008000\">'https://avatars.slack-edge.com/2022-07-13/3793601965618_749d8df977e628d7920c_72.png'</span>\n",
       "    <span style=\"font-weight: bold\">}</span>,\n",
       "    <span style=\"color: #008000; text-decoration-color: #008000\">'U02KT1P9L12'</span>: <span style=\"font-weight: bold\">{</span>\n",
       "        <span style=\"color: #008000; text-decoration-color: #008000\">'count'</span>: <span style=\"color: #008080; text-decoration-color: #008080; font-weight: bold\">3</span>,\n",
       "        <span style=\"color: #008000; text-decoration-color: #008000\">'real_name'</span>: <span style=\"color: #008000; text-decoration-color: #008000\">'Sean Rigby'</span>,\n",
       "        <span style=\"color: #008000; text-decoration-color: #008000\">'image_72'</span>: <span style=\"color: #008000; text-decoration-color: #008000\">'https://avatars.slack-edge.com/2021-11-02/2675623830066_1997e291c268d49bbfe5_72.png'</span>\n",
       "    <span style=\"font-weight: bold\">}</span>,\n",
       "    <span style=\"color: #008000; text-decoration-color: #008000\">'UKETFLGBT'</span>: <span style=\"font-weight: bold\">{</span>\n",
       "        <span style=\"color: #008000; text-decoration-color: #008000\">'count'</span>: <span style=\"color: #008080; text-decoration-color: #008080; font-weight: bold\">7</span>,\n",
       "        <span style=\"color: #008000; text-decoration-color: #008000\">'real_name'</span>: <span style=\"color: #008000; text-decoration-color: #008000\">\"Rafael d'Arce\"</span>,\n",
       "        <span style=\"color: #008000; text-decoration-color: #008000\">'image_72'</span>: <span style=\"color: #008000; text-decoration-color: #008000\">'https://avatars.slack-edge.com/2022-07-13/3787032358342_e6a57f401b41f9703569_72.png'</span>\n",
       "    <span style=\"font-weight: bold\">}</span>\n",
       "<span style=\"font-weight: bold\">}</span>\n",
       "</pre>\n"
      ],
      "text/plain": [
       "\n",
       "\u001b[1m{\u001b[0m\n",
       "    \u001b[32m'UGAUNF091'\u001b[0m: \u001b[1m{\u001b[0m\n",
       "        \u001b[32m'count'\u001b[0m: \u001b[1;36m1\u001b[0m,\n",
       "        \u001b[32m'real_name'\u001b[0m: \u001b[32m'Annirudh Prasad'\u001b[0m,\n",
       "        \u001b[32m'image_72'\u001b[0m: \u001b[32m'https://avatars.slack-edge.com/2020-08-03/1284809526772_715449f3740e0315926e_72.jpg'\u001b[0m\n",
       "    \u001b[1m}\u001b[0m,\n",
       "    \u001b[32m'U01909K5TLL'\u001b[0m: \u001b[1m{\u001b[0m\n",
       "        \u001b[32m'count'\u001b[0m: \u001b[1;36m1\u001b[0m,\n",
       "        \u001b[32m'real_name'\u001b[0m: \u001b[32m'Justin Brooks'\u001b[0m,\n",
       "        \u001b[32m'image_72'\u001b[0m: \u001b[32m'https://avatars.slack-edge.com/2021-04-22/1985560857158_8fc52847043c2c6fc3c8_72.png'\u001b[0m\n",
       "    \u001b[1m}\u001b[0m,\n",
       "    \u001b[32m'U0378N83U0M'\u001b[0m: \u001b[1m{\u001b[0m\n",
       "        \u001b[32m'count'\u001b[0m: \u001b[1;36m1\u001b[0m,\n",
       "        \u001b[32m'real_name'\u001b[0m: \u001b[32m'Mercedes Wu'\u001b[0m,\n",
       "        \u001b[32m'image_72'\u001b[0m: \u001b[32m'https://avatars.slack-edge.com/2022-03-16/3249869827843_92628621ea322e6dbcac_72.png'\u001b[0m\n",
       "    \u001b[1m}\u001b[0m,\n",
       "    \u001b[32m'U027SFLG23U'\u001b[0m: \u001b[1m{\u001b[0m\n",
       "        \u001b[32m'count'\u001b[0m: \u001b[1;36m4\u001b[0m,\n",
       "        \u001b[32m'real_name'\u001b[0m: \u001b[32m'Elaina Hodgkin'\u001b[0m,\n",
       "        \u001b[32m'image_72'\u001b[0m: \u001b[32m'https://avatars.slack-edge.com/2021-08-12/2370319704006_6b84fdfe562e74bb22b2_72.jpg'\u001b[0m\n",
       "    \u001b[1m}\u001b[0m,\n",
       "    \u001b[32m'U02AWLJ2AKV'\u001b[0m: \u001b[1m{\u001b[0m\n",
       "        \u001b[32m'count'\u001b[0m: \u001b[1;36m5\u001b[0m,\n",
       "        \u001b[32m'real_name'\u001b[0m: \u001b[32m'Bryan Bischof'\u001b[0m,\n",
       "        \u001b[32m'image_72'\u001b[0m: \u001b[32m'https://avatars.slack-edge.com/2021-08-11/2370927798483_3543e7894693d2a8bf41_72.png'\u001b[0m\n",
       "    \u001b[1m}\u001b[0m,\n",
       "    \u001b[32m'U02LSTL8EKZ'\u001b[0m: \u001b[1m{\u001b[0m\n",
       "        \u001b[32m'count'\u001b[0m: \u001b[1;36m1\u001b[0m,\n",
       "        \u001b[32m'real_name'\u001b[0m: \u001b[32m'Dave La Chasse'\u001b[0m,\n",
       "        \u001b[32m'image_72'\u001b[0m: \u001b[32m'https://avatars.slack-edge.com/2021-11-15/2750811456176_3a1c4fef5f1f81918523_72.jpg'\u001b[0m\n",
       "    \u001b[1m}\u001b[0m,\n",
       "    \u001b[32m'U039C9C8CT1'\u001b[0m: \u001b[1m{\u001b[0m\n",
       "        \u001b[32m'count'\u001b[0m: \u001b[1;36m25\u001b[0m,\n",
       "        \u001b[32m'real_name'\u001b[0m: \u001b[32m'Joe Wear'\u001b[0m,\n",
       "        \u001b[32m'image_72'\u001b[0m: \u001b[32m'https://avatars.slack-edge.com/2022-04-04/3362060346832_4abce8ffdce987dc6644_72.png'\u001b[0m\n",
       "    \u001b[1m}\u001b[0m,\n",
       "    \u001b[32m'U02LG00Q6V9'\u001b[0m: \u001b[1m{\u001b[0m\n",
       "        \u001b[32m'count'\u001b[0m: \u001b[1;36m25\u001b[0m,\n",
       "        \u001b[32m'real_name'\u001b[0m: \u001b[32m'Allan Stevenson'\u001b[0m,\n",
       "        \u001b[32m'image_72'\u001b[0m: \u001b[32m'https://avatars.slack-edge.com/2021-11-08/2691199572790_afd0a7a8d71fef791a8c_72.jpg'\u001b[0m\n",
       "    \u001b[1m}\u001b[0m,\n",
       "    \u001b[32m'U02GY0ENX71'\u001b[0m: \u001b[1m{\u001b[0m\n",
       "        \u001b[32m'count'\u001b[0m: \u001b[1;36m15\u001b[0m,\n",
       "        \u001b[32m'real_name'\u001b[0m: \u001b[32m'Venky Yerneni'\u001b[0m,\n",
       "        \u001b[32m'image_72'\u001b[0m: \u001b[32m'https://avatars.slack-edge.com/2022-06-24/3742856936208_57e78e07275a252c0e73_72.jpg'\u001b[0m\n",
       "    \u001b[1m}\u001b[0m,\n",
       "    \u001b[32m'U0BL7FFRQ'\u001b[0m: \u001b[1m{\u001b[0m\n",
       "        \u001b[32m'count'\u001b[0m: \u001b[1;36m1\u001b[0m,\n",
       "        \u001b[32m'real_name'\u001b[0m: \u001b[32m'Stephen Smith'\u001b[0m,\n",
       "        \u001b[32m'image_72'\u001b[0m: \u001b[32m'https://secure.gravatar.com/avatar/ba12e9c17b027b5290617bd794ce438d.jpg?\u001b[0m\u001b[32ms\u001b[0m\u001b[32m=\u001b[0m\u001b[32m72\u001b[0m\u001b[32m&\u001b[0m\u001b[32md\u001b[0m\u001b[32m=\u001b[0m\u001b[32mhttps\u001b[0m\u001b[32m%3A%2F%2Fa.slack-edge.com%2Fdf10d%2Fimg%2Favatars%2Fava_0022-72.png'\u001b[0m\n",
       "    \u001b[1m}\u001b[0m,\n",
       "    \u001b[32m'U029HT9ANN5'\u001b[0m: \u001b[1m{\u001b[0m\n",
       "        \u001b[32m'count'\u001b[0m: \u001b[1;36m1\u001b[0m,\n",
       "        \u001b[32m'real_name'\u001b[0m: \u001b[32m'Stephen Bull'\u001b[0m,\n",
       "        \u001b[32m'image_72'\u001b[0m: \u001b[32m'https://avatars.slack-edge.com/2021-07-27/2308897932134_b5195f68fe953a106f66_72.jpg'\u001b[0m\n",
       "    \u001b[1m}\u001b[0m,\n",
       "    \u001b[32m'U0136K8KQLE'\u001b[0m: \u001b[1m{\u001b[0m\n",
       "        \u001b[32m'count'\u001b[0m: \u001b[1;36m7\u001b[0m,\n",
       "        \u001b[32m'real_name'\u001b[0m: \u001b[32m'Terry Norton'\u001b[0m,\n",
       "        \u001b[32m'image_72'\u001b[0m: \u001b[32m'https://avatars.slack-edge.com/2022-07-13/3793601965618_749d8df977e628d7920c_72.png'\u001b[0m\n",
       "    \u001b[1m}\u001b[0m,\n",
       "    \u001b[32m'U02KT1P9L12'\u001b[0m: \u001b[1m{\u001b[0m\n",
       "        \u001b[32m'count'\u001b[0m: \u001b[1;36m3\u001b[0m,\n",
       "        \u001b[32m'real_name'\u001b[0m: \u001b[32m'Sean Rigby'\u001b[0m,\n",
       "        \u001b[32m'image_72'\u001b[0m: \u001b[32m'https://avatars.slack-edge.com/2021-11-02/2675623830066_1997e291c268d49bbfe5_72.png'\u001b[0m\n",
       "    \u001b[1m}\u001b[0m,\n",
       "    \u001b[32m'UKETFLGBT'\u001b[0m: \u001b[1m{\u001b[0m\n",
       "        \u001b[32m'count'\u001b[0m: \u001b[1;36m7\u001b[0m,\n",
       "        \u001b[32m'real_name'\u001b[0m: \u001b[32m\"Rafael d'Arce\"\u001b[0m,\n",
       "        \u001b[32m'image_72'\u001b[0m: \u001b[32m'https://avatars.slack-edge.com/2022-07-13/3787032358342_e6a57f401b41f9703569_72.png'\u001b[0m\n",
       "    \u001b[1m}\u001b[0m\n",
       "\u001b[1m}\u001b[0m\n"
      ]
     },
     "metadata": {},
     "output_type": "display_data"
    }
   ],
   "source": [
    "users = {}\n",
    "messages = []\n",
    "for m in human_messages[:100]:\n",
    "    text = process_text(m[\"text\"])\n",
    "    if text != '':\n",
    "        messages.append([user_id, text])\n",
    "        user_id = m[\"user\"]\n",
    "        if user_id not in users:\n",
    "            users[user_id] = {\n",
    "                'count': 0,\n",
    "                'real_name': m['user_profile']['real_name'],\n",
    "                'image_72': m['user_profile']['image_72'],\n",
    "            }\n",
    "        users[user_id]['count'] += 1\n",
    "\n",
    "messages[:10]\n",
    "users"
   ]
  },
  {
   "cell_type": "code",
   "execution_count": 26,
   "id": "f394fa8c",
   "metadata": {},
   "outputs": [],
   "source": [
    "import weave\n",
    "import pandas as pd\n",
    "from weave.ecosystem import slack\n",
    "\n"
   ]
  },
  {
   "cell_type": "code",
   "execution_count": 27,
   "id": "8b8cc197",
   "metadata": {},
   "outputs": [],
   "source": [
    "def all_slack_channels() -> list[str]:\n",
    "    return sorted(Channel(d.name) for d in SLACK_DATA_DIR.glob('*'))"
   ]
  },
  {
   "cell_type": "code",
   "execution_count": 24,
   "id": "5f04e810",
   "metadata": {},
   "outputs": [],
   "source": [
    "slack_obj = slack.open_slack_export(SLACK_DATA_DIR)"
   ]
  },
  {
   "cell_type": "code",
   "execution_count": 28,
   "id": "581c5880",
   "metadata": {},
   "outputs": [
    {
     "ename": "AttributeError",
     "evalue": "'str' object has no attribute 'glob'",
     "output_type": "error",
     "traceback": [
      "\u001b[0;31m---------------------------------------------------------------------------\u001b[0m",
      "\u001b[0;31mAttributeError\u001b[0m                            Traceback (most recent call last)",
      "Input \u001b[0;32mIn [28]\u001b[0m, in \u001b[0;36m<cell line: 2>\u001b[0;34m()\u001b[0m\n\u001b[1;32m      1\u001b[0m \u001b[38;5;66;03m# channels = weave.use(slack_obj.channels())\u001b[39;00m\n\u001b[0;32m----> 2\u001b[0m channels \u001b[38;5;241m=\u001b[39m \u001b[43mall_slack_channels\u001b[49m\u001b[43m(\u001b[49m\u001b[43m)\u001b[49m\n\u001b[1;32m      3\u001b[0m channels\n",
      "Input \u001b[0;32mIn [27]\u001b[0m, in \u001b[0;36mall_slack_channels\u001b[0;34m()\u001b[0m\n\u001b[1;32m      1\u001b[0m \u001b[38;5;28;01mdef\u001b[39;00m \u001b[38;5;21mall_slack_channels\u001b[39m() \u001b[38;5;241m-\u001b[39m\u001b[38;5;241m>\u001b[39m \u001b[38;5;28mlist\u001b[39m[\u001b[38;5;28mstr\u001b[39m]:\n\u001b[0;32m----> 2\u001b[0m     \u001b[38;5;28;01mreturn\u001b[39;00m \u001b[38;5;28msorted\u001b[39m(Channel(d\u001b[38;5;241m.\u001b[39mname) \u001b[38;5;28;01mfor\u001b[39;00m d \u001b[38;5;129;01min\u001b[39;00m \u001b[43mSLACK_DATA_DIR\u001b[49m\u001b[38;5;241;43m.\u001b[39;49m\u001b[43mglob\u001b[49m(\u001b[38;5;124m'\u001b[39m\u001b[38;5;124m*\u001b[39m\u001b[38;5;124m'\u001b[39m))\n",
      "\u001b[0;31mAttributeError\u001b[0m: 'str' object has no attribute 'glob'"
     ]
    }
   ],
   "source": [
    "# channels = weave.use(slack_obj.channels())\n",
    "channels = all_slack_channels()\n",
    "channels"
   ]
  },
  {
   "cell_type": "code",
   "execution_count": 17,
   "id": "195b0d9a",
   "metadata": {},
   "outputs": [],
   "source": [
    "data = weave.use(.channel(TRAINING_CHANNEL).messages())\n",
    "data_df = pd.DataFrame(columns=[\"text\", \"user\"], data=[[d._text, d._user_id] for d in data])"
   ]
  },
  {
   "cell_type": "code",
   "execution_count": 18,
   "id": "de46e1d5",
   "metadata": {},
   "outputs": [
    {
     "data": {
      "text/html": [
       "<div>\n",
       "<style scoped>\n",
       "    .dataframe tbody tr th:only-of-type {\n",
       "        vertical-align: middle;\n",
       "    }\n",
       "\n",
       "    .dataframe tbody tr th {\n",
       "        vertical-align: top;\n",
       "    }\n",
       "\n",
       "    .dataframe thead th {\n",
       "        text-align: right;\n",
       "    }\n",
       "</style>\n",
       "<table border=\"1\" class=\"dataframe\">\n",
       "  <thead>\n",
       "    <tr style=\"text-align: right;\">\n",
       "      <th></th>\n",
       "      <th>text</th>\n",
       "      <th>user</th>\n",
       "    </tr>\n",
       "  </thead>\n",
       "  <tbody>\n",
       "    <tr>\n",
       "      <th>0</th>\n",
       "      <td>:wave:</td>\n",
       "      <td>U0243LC8DQB</td>\n",
       "    </tr>\n",
       "    <tr>\n",
       "      <th>1</th>\n",
       "      <td>I learned a LOT at SKO about the framing of ou...</td>\n",
       "      <td>U01CQAAT7MX</td>\n",
       "    </tr>\n",
       "    <tr>\n",
       "      <th>2</th>\n",
       "      <td>Do you have a way that you would want to be co...</td>\n",
       "      <td>U70S0JGS2</td>\n",
       "    </tr>\n",
       "    <tr>\n",
       "      <th>3</th>\n",
       "      <td>Hey Lukas - thanks for the response. I think f...</td>\n",
       "      <td>U01CQAAT7MX</td>\n",
       "    </tr>\n",
       "    <tr>\n",
       "      <th>4</th>\n",
       "      <td>If you had extra money sitting around and you ...</td>\n",
       "      <td>U02N3UD54AX</td>\n",
       "    </tr>\n",
       "    <tr>\n",
       "      <th>...</th>\n",
       "      <td>...</td>\n",
       "      <td>...</td>\n",
       "    </tr>\n",
       "    <tr>\n",
       "      <th>64</th>\n",
       "      <td>I think focus on a single user persona really ...</td>\n",
       "      <td>U70S0JGS2</td>\n",
       "    </tr>\n",
       "    <tr>\n",
       "      <th>65</th>\n",
       "      <td>Sounds great thanks :slightly_smiling_face:</td>\n",
       "      <td>U03ECPDHRH6</td>\n",
       "    </tr>\n",
       "    <tr>\n",
       "      <th>66</th>\n",
       "      <td>If folks have questions I didn’t get to today,...</td>\n",
       "      <td>U0243LC8DQB</td>\n",
       "    </tr>\n",
       "    <tr>\n",
       "      <th>67</th>\n",
       "      <td>Someone asked in the all hands how much runway...</td>\n",
       "      <td>U70S0JGS2</td>\n",
       "    </tr>\n",
       "    <tr>\n",
       "      <th>68</th>\n",
       "      <td>&lt;@U02N3UD54AX&gt;  your voice is being heard. &lt;@U...</td>\n",
       "      <td>U03ECPDFQJU</td>\n",
       "    </tr>\n",
       "  </tbody>\n",
       "</table>\n",
       "<p>69 rows × 2 columns</p>\n",
       "</div>"
      ],
      "text/plain": [
       "                                                 text         user\n",
       "0                                              :wave:  U0243LC8DQB\n",
       "1   I learned a LOT at SKO about the framing of ou...  U01CQAAT7MX\n",
       "2   Do you have a way that you would want to be co...    U70S0JGS2\n",
       "3   Hey Lukas - thanks for the response. I think f...  U01CQAAT7MX\n",
       "4   If you had extra money sitting around and you ...  U02N3UD54AX\n",
       "..                                                ...          ...\n",
       "64  I think focus on a single user persona really ...    U70S0JGS2\n",
       "65        Sounds great thanks :slightly_smiling_face:  U03ECPDHRH6\n",
       "66  If folks have questions I didn’t get to today,...  U0243LC8DQB\n",
       "67  Someone asked in the all hands how much runway...    U70S0JGS2\n",
       "68  <@U02N3UD54AX>  your voice is being heard. <@U...  U03ECPDFQJU\n",
       "\n",
       "[69 rows x 2 columns]"
      ]
     },
     "execution_count": 18,
     "metadata": {},
     "output_type": "execute_result"
    }
   ],
   "source": [
    "data_df"
   ]
  },
  {
   "cell_type": "code",
   "execution_count": 16,
   "id": "103f5f50",
   "metadata": {},
   "outputs": [
    {
     "name": "stdout",
     "output_type": "stream",
     "text": [
      "The rich extension is already loaded. To reload it, use:\n",
      "  %reload_ext rich\n"
     ]
    }
   ],
   "source": [
    "%load_ext rich\n",
    "\n",
    "from rich import progress\n",
    "import typing\n",
    "import random\n",
    "import json\n",
    "import sklearn\n",
    "import pathlib\n",
    "import itertools\n",
    "import dataclasses\n",
    "import numpy as np\n",
    "\n",
    "import tensorflow as tf\n",
    "from tensorflow import keras\n",
    "from tensorflow.keras import layers\n",
    "\n",
    "def all_slack_channels() -> list[str]:\n",
    "    return sorted(Channel(d.name) for d in SLACK_DATA_DIR.glob('*'))\n",
    "\n",
    "def all_messages(channels: list[Channel]) -> list[Message]:\n",
    "    ms = []\n",
    "    for c in progress.track(channels):\n",
    "        ms += c.messages\n",
    "    return ms\n",
    "\n",
    "# frequency count of users so we can threshold on the minimum number\n",
    "# of messages required for the user to be labeled by our model\n",
    "def get_top_users(all_m: list[Message], min_msg_count=50) -> dict:\n",
    "    user_map = {}\n",
    "    for m in all_m:\n",
    "        if m.user_id in user_map:\n",
    "            user_map[m.user_id] += 1\n",
    "        else:\n",
    "            user_map[m.user_id] = 1\n",
    "    print(\"unique users: \", len(user_map))\n",
    "    um_sort = sorted(user_map.items(), key=lambda x: x[1], reverse=True)\n",
    "    # sort by message count in dataset -\n",
    "    top_users = {}\n",
    "    for i, u in enumerate(um_sort):\n",
    "        if u[1] >= min_msg_count:\n",
    "            top_users[u[0]] = i\n",
    "    print(\"user labels in this model: \", len(top_users))\n",
    "    return top_users\n",
    "    \n",
    "class TrainTest(typing.TypedDict):\n",
    "    train: list[Message]\n",
    "    test: list[Message]\n",
    "\n",
    "def train_test_split(messages: list[Message], train_frac: float) -> TrainTest:\n",
    "    n_train = int(len(messages) * train_frac)\n",
    "    messages = list(messages)\n",
    "    random.shuffle(messages)\n",
    "    return {\n",
    "        'train': messages[:n_train],\n",
    "        'test': messages[n_train:]\n",
    "    }\n",
    "\n",
    "def load_data():\n",
    "    channels = all_slack_channels()\n",
    "    # filter out sentry + deploy-builds\n",
    "    channels = [c for c in channels if not 'sentry' in c.name and not \"deploy-build\" in c.name]\n",
    "    all_m = all_messages(channels)\n",
    "    \n",
    "    # filter for top 215 users (at least 50 messages)\n",
    "    top_users = get_top_users(all_m)\n",
    "    all_m = [m for m in all_m if m.user_id in top_users]\n",
    "    \n",
    "    split = train_test_split(all_m, 0.8)\n",
    "    train, test = split['train'], split['test']\n",
    "    print(\"train: \", len(train), \"test: \", len(test))\n",
    "    return train, test, top_users\n",
    "\n",
    "def usernames():\n",
    "    # pull in user dictionary\n",
    "    import json\n",
    "    u = json.load(open(\"users.json\", 'r'))\n",
    "    names = {}\n",
    "    for e in u:\n",
    "        names[e[\"id\"]] = e[\"name\"]\n",
    "    print(\"total users: \", len(names))\n",
    "    return names"
   ]
  },
  {
   "cell_type": "markdown",
   "id": "29fca6d4",
   "metadata": {},
   "source": [
    "## Define a transformer"
   ]
  },
  {
   "cell_type": "code",
   "execution_count": 5,
   "id": "a9f95303",
   "metadata": {},
   "outputs": [],
   "source": [
    "class TransformerBlock(layers.Layer):\n",
    "    def __init__(self, embed_dim, num_heads, ff_dim, rate=0.1):\n",
    "        super(TransformerBlock, self).__init__()\n",
    "        self.att = layers.MultiHeadAttention(num_heads=num_heads, key_dim=embed_dim)\n",
    "        self.ffn = keras.Sequential(\n",
    "            [layers.Dense(ff_dim, activation=\"relu\"), layers.Dense(embed_dim),]\n",
    "        )\n",
    "        self.layernorm1 = layers.LayerNormalization(epsilon=1e-6)\n",
    "        self.layernorm2 = layers.LayerNormalization(epsilon=1e-6)\n",
    "        self.dropout1 = layers.Dropout(rate)\n",
    "        self.dropout2 = layers.Dropout(rate)\n",
    "\n",
    "    def call(self, inputs, training):\n",
    "        attn_output = self.att(inputs, inputs)\n",
    "        attn_output = self.dropout1(attn_output, training=training)\n",
    "        out1 = self.layernorm1(inputs + attn_output)\n",
    "        ffn_output = self.ffn(out1)\n",
    "        ffn_output = self.dropout2(ffn_output, training=training)\n",
    "        return self.layernorm2(out1 + ffn_output)\n",
    "    \n",
    "class TokenAndPositionEmbedding(layers.Layer):\n",
    "    def __init__(self, maxlen, vocab_size, embed_dim):\n",
    "        super(TokenAndPositionEmbedding, self).__init__()\n",
    "        self.token_emb = layers.Embedding(input_dim=vocab_size, output_dim=embed_dim)\n",
    "        self.pos_emb = layers.Embedding(input_dim=maxlen, output_dim=embed_dim)\n",
    "\n",
    "    def call(self, x):\n",
    "        maxlen = tf.shape(x)[-1]\n",
    "        positions = tf.range(start=0, limit=maxlen, delta=1)\n",
    "        positions = self.pos_emb(positions)\n",
    "        x = self.token_emb(x)\n",
    "        return x + positions"
   ]
  },
  {
   "cell_type": "code",
   "execution_count": 8,
   "id": "c3b92d0d",
   "metadata": {},
   "outputs": [
    {
     "data": {
      "text/html": [
       "<pre style=\"white-space:pre;overflow-x:auto;line-height:normal;font-family:Menlo,'DejaVu Sans Mono',consolas,'Courier New',monospace\"><span style=\"color: #008080; text-decoration-color: #008080; font-weight: bold\">225006</span>\n",
       "</pre>\n"
      ],
      "text/plain": [
       "\u001b[1;36m225006\u001b[0m\n"
      ]
     },
     "metadata": {},
     "output_type": "display_data"
    }
   ],
   "source": [
    "# TODO: Shawn what is channel in the class def supposed to be to start? \n",
    "# if one doesn't run this block, the class definition fails on \"channel\"\n",
    "channel = Channel('ceo-ama')\n",
    "channel.size"
   ]
  },
  {
   "cell_type": "code",
   "execution_count": 27,
   "id": "8901e1b6",
   "metadata": {},
   "outputs": [
    {
     "data": {
      "application/vnd.jupyter.widget-view+json": {
       "model_id": "031accabc8a44dfbabfc86e3e7cb2e90",
       "version_major": 2,
       "version_minor": 0
      },
      "text/plain": [
       "Output()"
      ]
     },
     "metadata": {},
     "output_type": "display_data"
    },
    {
     "data": {
      "text/html": [
       "<pre style=\"white-space:pre;overflow-x:auto;line-height:normal;font-family:Menlo,'DejaVu Sans Mono',consolas,'Courier New',monospace\"></pre>\n"
      ],
      "text/plain": []
     },
     "metadata": {},
     "output_type": "display_data"
    },
    {
     "data": {
      "text/html": [
       "<pre style=\"white-space:pre;overflow-x:auto;line-height:normal;font-family:Menlo,'DejaVu Sans Mono',consolas,'Courier New',monospace\">\n",
       "</pre>\n"
      ],
      "text/plain": [
       "\n"
      ]
     },
     "metadata": {},
     "output_type": "display_data"
    },
    {
     "name": "stdout",
     "output_type": "stream",
     "text": [
      "unique users:  1083\n",
      "user labels in this model:  215\n",
      "train:  117805 test:  29452\n"
     ]
    }
   ],
   "source": [
    "train, test, top_users = load_data()\n",
    "train_text = [t.text for t in train]\n",
    "y_train =[top_users[t.user_id] for t in train]\n",
    "x_val = [t.text for t in test]\n",
    "y_val = [top_users[t.user_id] for t in test]"
   ]
  },
  {
   "cell_type": "markdown",
   "id": "cc0f1ef7",
   "metadata": {},
   "source": [
    "## Fit embedding to training text"
   ]
  },
  {
   "cell_type": "code",
   "execution_count": 28,
   "id": "b909ae2f",
   "metadata": {},
   "outputs": [],
   "source": [
    "from tensorflow.keras.layers import TextVectorization\n",
    "def custom_standardization(input_data):\n",
    "  return tf.strings.lower(input_data)\n",
    "  #stripped_html = tf.strings.regex_replace(lowercase, '<br />', ' ')\n",
    "  #return tf.strings.regex_replace(stripped_html,\n",
    "      #                            '[%s]' % re.escape(string.punctuation), '')\n",
    "\n",
    "\n",
    "# Vocabulary size and number of words in a sequence.\n",
    "vocab_size = 20000\n",
    "# TODO these should be the same\n",
    "sequence_length = 200\n",
    "maxlen=200\n",
    "\n",
    "# Use the text vectorization layer to normalize, split, and map strings to\n",
    "# integers. Note that the layer uses the custom standardization defined above.\n",
    "# Set maximum_sequence length as all samples are not of the same length.\n",
    "vectorize_layer = TextVectorization(\n",
    "    max_tokens=vocab_size,\n",
    "    output_mode='int',\n",
    "    output_sequence_length=sequence_length)\n",
    "\n",
    "# Make a text-only dataset (no labels) and call adapt to build the vocabulary.\n",
    "#text_ds = train.map(lambda x, y: x)\n",
    "vectorize_layer.adapt(train_text)"
   ]
  },
  {
   "cell_type": "markdown",
   "id": "84e6986d",
   "metadata": {},
   "source": [
    "## Define baseline + transformer models\n",
    "\n",
    "Defaults to training a super simple toy baseline_model."
   ]
  },
  {
   "cell_type": "code",
   "execution_count": 24,
   "id": "2ef4da2a",
   "metadata": {},
   "outputs": [],
   "source": [
    "def baseline_model():\n",
    "    inputs = layers.Input(shape=(1,), dtype=tf.string)\n",
    "    x = vectorize_layer(inputs)\n",
    "    x = layers.Dense(20, activation=\"relu\")(x) # was 20\n",
    "    x = layers.Dropout(0.1)(x)\n",
    "    outputs = layers.Dense(215, activation=\"softmax\")(x)\n",
    "    return keras.Model(inputs=inputs, outputs=outputs)\n",
    "\n",
    "def transformer_model():\n",
    "    embed_dim = 64  # Embedding size for each token\n",
    "    num_heads = 6  # Number of attention heads\n",
    "    ff_dim = 64  # Hidden layer size in feed forward network inside transformer\n",
    "\n",
    "    inputs = layers.Input(shape=(1,), dtype=tf.string)\n",
    "    x = vectorize_layer(inputs)\n",
    "    embedding_layer = TokenAndPositionEmbedding(maxlen, vocab_size, embed_dim)\n",
    "    x = embedding_layer(x)\n",
    "    transformer_block = TransformerBlock(embed_dim, num_heads, ff_dim)\n",
    "    x = transformer_block(x)\n",
    "    x = layers.GlobalAveragePooling1D()(x)\n",
    "    x = layers.Dropout(0.1)(x)\n",
    "    x = layers.Dense(20, activation=\"relu\")(x) \n",
    "    x = layers.Dropout(0.1)(x)\n",
    "    outputs = layers.Dense(215, activation=\"softmax\")(x)\n",
    "    model = keras.Model(inputs=inputs, outputs=outputs)\n",
    "    "
   ]
  },
  {
   "cell_type": "code",
   "execution_count": 29,
   "id": "c6d64ccc",
   "metadata": {},
   "outputs": [],
   "source": [
    "curr_model = baseline_model() # trains to about 4.11% in 10-15 sec\n",
    "\n",
    "# switch to this call to train a more legit model\n",
    "# takes 5-10 mins per epoch on CPU \n",
    "#curr_model = transformer_model()"
   ]
  },
  {
   "cell_type": "markdown",
   "id": "06e70c56",
   "metadata": {},
   "source": [
    "## Train model!"
   ]
  },
  {
   "cell_type": "code",
   "execution_count": 30,
   "id": "f6e158cd",
   "metadata": {},
   "outputs": [
    {
     "name": "stdout",
     "output_type": "stream",
     "text": [
      "1841/1841 [==============================] - 12s 6ms/step - loss: 22.8369 - accuracy: 0.0385 - val_loss: 4.9122 - val_accuracy: 0.0416\n"
     ]
    }
   ],
   "source": [
    "curr_model.compile(\n",
    "    optimizer=\"adam\", loss=\"sparse_categorical_crossentropy\", metrics=[\"accuracy\"]\n",
    ")\n",
    "history = curr_model.fit(\n",
    "    # probably increase epochs for transformer model to about 5\n",
    "    train_text, y_train, batch_size=64, epochs=1, validation_data=(x_val, y_val)\n",
    ")"
   ]
  },
  {
   "cell_type": "code",
   "execution_count": 23,
   "id": "eb4d9be3",
   "metadata": {},
   "outputs": [
    {
     "name": "stderr",
     "output_type": "stream",
     "text": [
      "WARNING:absl:Found untraced functions such as embedding_2_layer_call_fn, embedding_2_layer_call_and_return_conditional_losses, embedding_3_layer_call_fn, embedding_3_layer_call_and_return_conditional_losses, multi_head_attention_1_layer_call_fn while saving (showing 5 of 26). These functions will not be directly callable after loading.\n"
     ]
    },
    {
     "name": "stdout",
     "output_type": "stream",
     "text": [
      "INFO:tensorflow:Assets written to: my_test_model/assets\n"
     ]
    },
    {
     "name": "stderr",
     "output_type": "stream",
     "text": [
      "INFO:tensorflow:Assets written to: my_test_model/assets\n"
     ]
    }
   ],
   "source": [
    "## Don't forget to save\n",
    "### try a unique descriptive name ;)\n",
    "curr_model.save(\"my_test_model\")"
   ]
  },
  {
   "cell_type": "code",
   "execution_count": null,
   "id": "f3d56ba9",
   "metadata": {},
   "outputs": [],
   "source": [
    "# more fun ideas to try: \n",
    "\n",
    "# tried:\n",
    "# - bigger batch size! meh, speed not much different\n",
    "# - more epochs: overfits by 29/e5\n",
    "# - more attention heads: seems to be most impactful\n",
    "# - one more dense layer: meh\n",
    "\n",
    "# to try eventually maybe:\n",
    "# - other loss: nah\n",
    "# - stop words: would be smart, nontrivial\n",
    "# - punctuation?!\n",
    "# - different min cutoff"
   ]
  }
 ],
 "metadata": {
  "kernelspec": {
   "display_name": "Python 3 (ipykernel)",
   "language": "python",
   "name": "python3"
  },
  "language_info": {
   "codemirror_mode": {
    "name": "ipython",
    "version": 3
   },
   "file_extension": ".py",
   "mimetype": "text/x-python",
   "name": "python",
   "nbconvert_exporter": "python",
   "pygments_lexer": "ipython3",
   "version": "3.9.9"
  }
 },
 "nbformat": 4,
 "nbformat_minor": 5
}
