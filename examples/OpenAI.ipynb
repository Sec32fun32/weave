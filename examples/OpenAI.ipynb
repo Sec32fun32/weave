{
 "cells": [
  {
   "cell_type": "code",
   "execution_count": 1,
   "id": "94f2344d",
   "metadata": {},
   "outputs": [],
   "source": [
    "import weave\n",
    "from weave.ecosystem import openai"
   ]
  },
  {
   "cell_type": "code",
   "execution_count": 2,
   "id": "1abed8ce",
   "metadata": {},
   "outputs": [
    {
     "data": {
      "text/html": [
       "\n",
       "        <iframe\n",
       "            width=\"100%\"\n",
       "            height=\"300px\"\n",
       "            src=\"http://127.0.0.1:62474/__frontend/weave_jupyter/__frontend/weave_jupyter?fullScreen&expNode=%7B%22nodeType%22%3A%20%22output%22%2C%20%22type%22%3A%20%7B%22type%22%3A%20%22list%22%2C%20%22objectType%22%3A%20%7B%22type%22%3A%20%22typedDict%22%2C%20%22propertyTypes%22%3A%20%7B%22id%22%3A%20%22int%22%2C%20%22prompt%22%3A%20%22string%22%2C%20%22completion%22%3A%20%22string%22%7D%7D%7D%2C%20%22fromOp%22%3A%20%7B%22name%22%3A%20%22get%22%2C%20%22inputs%22%3A%20%7B%22uri%22%3A%20%7B%22nodeType%22%3A%20%22const%22%2C%20%22type%22%3A%20%7B%22type%22%3A%20%22const%22%2C%20%22valType%22%3A%20%22string%22%2C%20%22val%22%3A%20%22local-artifact%3A///tmp/local-artifacts/openai-dataset/40e6cf2cc90b04a7341d3d80ba8c2dbe%22%7D%2C%20%22val%22%3A%20%22local-artifact%3A///tmp/local-artifacts/openai-dataset/40e6cf2cc90b04a7341d3d80ba8c2dbe%22%7D%7D%7D%7D\"\n",
       "            frameborder=\"0\"\n",
       "            allowfullscreen\n",
       "            \n",
       "        ></iframe>\n",
       "        "
      ],
      "text/plain": [
       "<IPython.lib.display.IFrame at 0x12dbc0430>"
      ]
     },
     "metadata": {},
     "output_type": "display_data"
    }
   ],
   "source": [
    "# Construct a dataset, we'll see if GPT-3 can do simple arithmetic\n",
    "data = []\n",
    "for i in range (101):\n",
    "    a = i\n",
    "    b = i % 9\n",
    "    r = a + b\n",
    "    data.append({'id': i, 'prompt': '%s + %s =' % (a, b), 'completion': ' %s<end>' % r})\n",
    "data = weave.save(data, name='openai-dataset')\n",
    "data"
   ]
  },
  {
   "cell_type": "code",
   "execution_count": 3,
   "id": "348d63f0",
   "metadata": {},
   "outputs": [
    {
     "data": {
      "text/html": [
       "\n",
       "        <iframe\n",
       "            width=\"100%\"\n",
       "            height=\"300px\"\n",
       "            src=\"http://127.0.0.1:62474/__frontend/weave_jupyter/__frontend/weave_jupyter?fullScreen&expNode=%7B%22nodeType%22%3A%20%22output%22%2C%20%22type%22%3A%20%7B%22type%22%3A%20%22run-type%22%2C%20%22_inputs%22%3A%20%7B%22type%22%3A%20%22typedDict%22%2C%20%22propertyTypes%22%3A%20%7B%7D%7D%2C%20%22_history%22%3A%20%7B%22type%22%3A%20%22list%22%2C%20%22objectType%22%3A%20%22any%22%7D%2C%20%22_output%22%3A%20%7B%22type%22%3A%20%22gpt3-fine-tune-type%22%7D%7D%2C%20%22fromOp%22%3A%20%7B%22name%22%3A%20%22openai-finetunegpt3%22%2C%20%22inputs%22%3A%20%7B%22training_dataset%22%3A%20%7B%22nodeType%22%3A%20%22output%22%2C%20%22type%22%3A%20%7B%22type%22%3A%20%22list%22%2C%20%22objectType%22%3A%20%7B%22type%22%3A%20%22typedDict%22%2C%20%22propertyTypes%22%3A%20%7B%22id%22%3A%20%22int%22%2C%20%22prompt%22%3A%20%22string%22%2C%20%22completion%22%3A%20%22string%22%7D%7D%7D%2C%20%22fromOp%22%3A%20%7B%22name%22%3A%20%22get%22%2C%20%22inputs%22%3A%20%7B%22uri%22%3A%20%7B%22nodeType%22%3A%20%22const%22%2C%20%22type%22%3A%20%7B%22type%22%3A%20%22const%22%2C%20%22valType%22%3A%20%22string%22%2C%20%22val%22%3A%20%22local-artifact%3A///tmp/local-artifacts/openai-dataset/40e6cf2cc90b04a7341d3d80ba8c2dbe%22%7D%2C%20%22val%22%3A%20%22local-artifact%3A///tmp/local-artifacts/openai-dataset/40e6cf2cc90b04a7341d3d80ba8c2dbe%22%7D%7D%7D%7D%2C%20%22hyperparameters%22%3A%20%7B%22nodeType%22%3A%20%22const%22%2C%20%22type%22%3A%20%7B%22type%22%3A%20%22const%22%2C%20%22valType%22%3A%20%7B%22type%22%3A%20%22typedDict%22%2C%20%22propertyTypes%22%3A%20%7B%22n_epochs%22%3A%20%22int%22%7D%7D%2C%20%22val%22%3A%20%7B%22n_epochs%22%3A%202%7D%7D%2C%20%22val%22%3A%20%7B%22n_epochs%22%3A%202%7D%7D%7D%7D%7D\"\n",
       "            frameborder=\"0\"\n",
       "            allowfullscreen\n",
       "            \n",
       "        ></iframe>\n",
       "        "
      ],
      "text/plain": [
       "<IPython.lib.display.IFrame at 0x12dfb0b50>"
      ]
     },
     "metadata": {},
     "output_type": "display_data"
    },
    {
     "name": "stdout",
     "output_type": "stream",
     "text": [
      "!!! FINE TUNE DEMO, NOT REALLY FINE-TUNING !!!\n"
     ]
    }
   ],
   "source": [
    "# Fine tune gpt-3 on our dataset.\n",
    "\n",
    "# Change this to \"openai.finetune_gpt3\" to run a real OpenAI fine-tune job\n",
    "fine_tune = openai.finetune_gpt3_demo(data, {'n_epochs' : 2})\n",
    "fine_tune"
   ]
  },
  {
   "cell_type": "code",
   "execution_count": 4,
   "id": "fe3d0872",
   "metadata": {},
   "outputs": [],
   "source": [
    "model = fine_tune.model()\n",
    "model = weave.save(model, name='openai-model')"
   ]
  },
  {
   "cell_type": "code",
   "execution_count": 5,
   "id": "7d656075",
   "metadata": {},
   "outputs": [
    {
     "name": "stdout",
     "output_type": "stream",
     "text": [
      "get(\"local-artifact:///tmp/local-artifacts/openai-dataset/40e6cf2cc90b04a7341d3d80ba8c2dbe\").finetunegpt3(get(\"local-artifact:///tmp/local-artifacts/typedDict-obj/a7553d213c091b23731dfbae12f952a0\")).model().save(\"openai-model\")\n"
     ]
    }
   ],
   "source": [
    "# Show all the models we've trained, and \n",
    "for version in weave.versions(model):\n",
    "    print(weave.expr(version))"
   ]
  },
  {
   "cell_type": "code",
   "execution_count": 6,
   "id": "89bebbff",
   "metadata": {
    "scrolled": false
   },
   "outputs": [
    {
     "data": {
      "text/html": [
       "\n",
       "        <iframe\n",
       "            width=\"100%\"\n",
       "            height=\"300px\"\n",
       "            src=\"http://127.0.0.1:62474/__frontend/weave_jupyter/__frontend/weave_jupyter?fullScreen&expNode=%7B%22nodeType%22%3A%20%22output%22%2C%20%22type%22%3A%20%7B%22type%22%3A%20%22list%22%2C%20%22objectType%22%3A%20%22string%22%7D%2C%20%22fromOp%22%3A%20%7B%22name%22%3A%20%22get%22%2C%20%22inputs%22%3A%20%7B%22uri%22%3A%20%7B%22nodeType%22%3A%20%22const%22%2C%20%22type%22%3A%20%7B%22type%22%3A%20%22const%22%2C%20%22valType%22%3A%20%22string%22%2C%20%22val%22%3A%20%22local-artifact%3A///tmp/local-artifacts/list-obj/b7d273292952809b4d3ea0114e16e2ad%22%7D%2C%20%22val%22%3A%20%22local-artifact%3A///tmp/local-artifacts/list-obj/b7d273292952809b4d3ea0114e16e2ad%22%7D%7D%7D%7D&panelId=table&panelConfig=%7B%22tableState%22%3A%20%7B%22autoColumns%22%3A%20false%2C%20%22columns%22%3A%20%7B%22KEWZVF6NXHDTX9%22%3A%20%7B%22panelId%22%3A%20%22%22%2C%20%22panelConfig%22%3A%20null%7D%2C%20%22K1FV1YX1IWJNGE%22%3A%20%7B%22panelId%22%3A%20%22%22%2C%20%22panelConfig%22%3A%20null%7D%7D%2C%20%22preFilterFunction%22%3A%20%7B%22nodeType%22%3A%20%22void%22%2C%20%22type%22%3A%20%22invalid%22%7D%2C%20%22columnNames%22%3A%20%7B%22KEWZVF6NXHDTX9%22%3A%20%22%22%2C%20%22K1FV1YX1IWJNGE%22%3A%20%22%22%7D%2C%20%22columnSelectFunctions%22%3A%20%7B%22KEWZVF6NXHDTX9%22%3A%20%7B%22nodeType%22%3A%20%22var%22%2C%20%22type%22%3A%20%22string%22%2C%20%22varName%22%3A%20%22row%22%7D%2C%20%22K1FV1YX1IWJNGE%22%3A%20%7B%22nodeType%22%3A%20%22output%22%2C%20%22type%22%3A%20%22string%22%2C%20%22fromOp%22%3A%20%7B%22name%22%3A%20%22pick%22%2C%20%22inputs%22%3A%20%7B%22obj%22%3A%20%7B%22nodeType%22%3A%20%22output%22%2C%20%22type%22%3A%20%7B%22type%22%3A%20%22typedDict%22%2C%20%22propertyTypes%22%3A%20%7B%22index%22%3A%20%22int%22%2C%20%22text%22%3A%20%22string%22%2C%20%22logprobs%22%3A%20%22none%22%2C%20%22finish_reason%22%3A%20%22string%22%7D%7D%2C%20%22fromOp%22%3A%20%7B%22name%22%3A%20%22index%22%2C%20%22inputs%22%3A%20%7B%22arr%22%3A%20%7B%22nodeType%22%3A%20%22output%22%2C%20%22type%22%3A%20%7B%22type%22%3A%20%22list%22%2C%20%22objectType%22%3A%20%7B%22type%22%3A%20%22typedDict%22%2C%20%22propertyTypes%22%3A%20%7B%22index%22%3A%20%22int%22%2C%20%22text%22%3A%20%22string%22%2C%20%22logprobs%22%3A%20%22none%22%2C%20%22finish_reason%22%3A%20%22string%22%7D%7D%7D%2C%20%22fromOp%22%3A%20%7B%22name%22%3A%20%22pick%22%2C%20%22inputs%22%3A%20%7B%22obj%22%3A%20%7B%22nodeType%22%3A%20%22output%22%2C%20%22type%22%3A%20%7B%22type%22%3A%20%22typedDict%22%2C%20%22propertyTypes%22%3A%20%7B%22created%22%3A%20%22int%22%2C%20%22choices%22%3A%20%7B%22type%22%3A%20%22list%22%2C%20%22objectType%22%3A%20%7B%22type%22%3A%20%22typedDict%22%2C%20%22propertyTypes%22%3A%20%7B%22index%22%3A%20%22int%22%2C%20%22text%22%3A%20%22string%22%2C%20%22logprobs%22%3A%20%22none%22%2C%20%22finish_reason%22%3A%20%22string%22%7D%7D%7D%2C%20%22object%22%3A%20%22string%22%2C%20%22id%22%3A%20%22string%22%2C%20%22model%22%3A%20%22string%22%7D%7D%2C%20%22fromOp%22%3A%20%7B%22name%22%3A%20%22gpt3model-complete%22%2C%20%22inputs%22%3A%20%7B%22self%22%3A%20%7B%22nodeType%22%3A%20%22output%22%2C%20%22type%22%3A%20%7B%22type%22%3A%20%22gpt3-model%22%7D%2C%20%22fromOp%22%3A%20%7B%22name%22%3A%20%22save%22%2C%20%22inputs%22%3A%20%7B%22obj%22%3A%20%7B%22nodeType%22%3A%20%22output%22%2C%20%22type%22%3A%20%7B%22type%22%3A%20%22gpt3-model%22%7D%2C%20%22fromOp%22%3A%20%7B%22name%22%3A%20%22gpt3finetune-model%22%2C%20%22inputs%22%3A%20%7B%22self%22%3A%20%7B%22nodeType%22%3A%20%22output%22%2C%20%22type%22%3A%20%7B%22type%22%3A%20%22run-type%22%2C%20%22_inputs%22%3A%20%7B%22type%22%3A%20%22typedDict%22%2C%20%22propertyTypes%22%3A%20%7B%7D%7D%2C%20%22_history%22%3A%20%7B%22type%22%3A%20%22list%22%2C%20%22objectType%22%3A%20%22any%22%7D%2C%20%22_output%22%3A%20%7B%22type%22%3A%20%22gpt3-fine-tune-type%22%7D%7D%2C%20%22fromOp%22%3A%20%7B%22name%22%3A%20%22openai-finetunegpt3%22%2C%20%22inputs%22%3A%20%7B%22training_dataset%22%3A%20%7B%22nodeType%22%3A%20%22output%22%2C%20%22type%22%3A%20%7B%22type%22%3A%20%22list%22%2C%20%22objectType%22%3A%20%7B%22type%22%3A%20%22typedDict%22%2C%20%22propertyTypes%22%3A%20%7B%22id%22%3A%20%22int%22%2C%20%22prompt%22%3A%20%22string%22%2C%20%22completion%22%3A%20%22string%22%7D%7D%7D%2C%20%22fromOp%22%3A%20%7B%22name%22%3A%20%22get%22%2C%20%22inputs%22%3A%20%7B%22uri%22%3A%20%7B%22nodeType%22%3A%20%22const%22%2C%20%22type%22%3A%20%7B%22type%22%3A%20%22const%22%2C%20%22valType%22%3A%20%22string%22%2C%20%22val%22%3A%20%22local-artifact%3A///tmp/local-artifacts/openai-dataset/40e6cf2cc90b04a7341d3d80ba8c2dbe%22%7D%2C%20%22val%22%3A%20%22local-artifact%3A///tmp/local-artifacts/openai-dataset/40e6cf2cc90b04a7341d3d80ba8c2dbe%22%7D%7D%7D%7D%2C%20%22hyperparameters%22%3A%20%7B%22nodeType%22%3A%20%22const%22%2C%20%22type%22%3A%20%7B%22type%22%3A%20%22const%22%2C%20%22valType%22%3A%20%7B%22type%22%3A%20%22typedDict%22%2C%20%22propertyTypes%22%3A%20%7B%22n_epochs%22%3A%20%22int%22%7D%7D%2C%20%22val%22%3A%20%7B%22n_epochs%22%3A%202%7D%7D%2C%20%22val%22%3A%20%7B%22n_epochs%22%3A%202%7D%7D%7D%7D%7D%7D%7D%7D%2C%20%22name%22%3A%20%7B%22nodeType%22%3A%20%22const%22%2C%20%22type%22%3A%20%7B%22type%22%3A%20%22const%22%2C%20%22valType%22%3A%20%22string%22%2C%20%22val%22%3A%20%22openai-model%22%7D%2C%20%22val%22%3A%20%22openai-model%22%7D%7D%7D%7D%2C%20%22prompt%22%3A%20%7B%22nodeType%22%3A%20%22var%22%2C%20%22type%22%3A%20%22string%22%2C%20%22varName%22%3A%20%22row%22%7D%7D%7D%7D%2C%20%22key%22%3A%20%7B%22nodeType%22%3A%20%22const%22%2C%20%22type%22%3A%20%7B%22type%22%3A%20%22const%22%2C%20%22valType%22%3A%20%22string%22%2C%20%22val%22%3A%20%22choices%22%7D%2C%20%22val%22%3A%20%22choices%22%7D%7D%7D%7D%2C%20%22index%22%3A%20%7B%22nodeType%22%3A%20%22const%22%2C%20%22type%22%3A%20%7B%22type%22%3A%20%22const%22%2C%20%22valType%22%3A%20%22int%22%2C%20%22val%22%3A%200%7D%2C%20%22val%22%3A%200%7D%7D%7D%7D%2C%20%22key%22%3A%20%7B%22nodeType%22%3A%20%22const%22%2C%20%22type%22%3A%20%7B%22type%22%3A%20%22const%22%2C%20%22valType%22%3A%20%22string%22%2C%20%22val%22%3A%20%22text%22%7D%2C%20%22val%22%3A%20%22text%22%7D%7D%7D%7D%7D%2C%20%22order%22%3A%20%5B%22KEWZVF6NXHDTX9%22%2C%20%22K1FV1YX1IWJNGE%22%5D%2C%20%22groupBy%22%3A%20%5B%5D%2C%20%22sort%22%3A%20%5B%5D%2C%20%22pageSize%22%3A%2010%2C%20%22page%22%3A%200%7D%7D\"\n",
       "            frameborder=\"0\"\n",
       "            allowfullscreen\n",
       "            \n",
       "        ></iframe>\n",
       "        "
      ],
      "text/plain": [
       "<IPython.lib.display.IFrame at 0x12e0b4a90>"
      ]
     },
     "metadata": {},
     "output_type": "display_data"
    }
   ],
   "source": [
    "# make some predictions using our new model\n",
    "\n",
    "panel = weave.panels.Table(['1 + 9 =', '2 + 14 ='])\n",
    "panel.table_query.add_column(lambda row: row)\n",
    "panel.table_query.add_column(lambda row: model.complete(row)['choices'][0]['text'])\n",
    "weave.show(panel)"
   ]
  }
 ],
 "metadata": {
  "kernelspec": {
   "display_name": "Python 3 (ipykernel)",
   "language": "python",
   "name": "python3"
  },
  "language_info": {
   "codemirror_mode": {
    "name": "ipython",
    "version": 3
   },
   "file_extension": ".py",
   "mimetype": "text/x-python",
   "name": "python",
   "nbconvert_exporter": "python",
   "pygments_lexer": "ipython3",
   "version": "3.9.7"
  }
 },
 "nbformat": 4,
 "nbformat_minor": 5
}
