{
 "cells": [
  {
   "cell_type": "code",
   "execution_count": 12,
   "id": "51500f80",
   "metadata": {},
   "outputs": [],
   "source": [
    "import typing\n",
    "import itertools\n",
    "from PIL import Image\n",
    "import weave"
   ]
  },
  {
   "cell_type": "markdown",
   "id": "5238cad1",
   "metadata": {},
   "source": [
    "## Show an image"
   ]
  },
  {
   "cell_type": "code",
   "execution_count": 13,
   "id": "a24f7f25",
   "metadata": {
    "scrolled": true
   },
   "outputs": [
    {
     "data": {
      "text/html": [
       "\n",
       "        <iframe\n",
       "            width=\"100%\"\n",
       "            height=\"400px\"\n",
       "            src=\"http://127.0.0.1:51927/__frontend/weave_jupyter/index.html?fullScreen&expNode=%7B%22nodeType%22%3A%20%22output%22%2C%20%22type%22%3A%20%7B%22type%22%3A%20%22pil-image%22%2C%20%22width%22%3A%20256%2C%20%22height%22%3A%20256%2C%20%22mode%22%3A%20%22L%22%7D%2C%20%22fromOp%22%3A%20%7B%22name%22%3A%20%22get%22%2C%20%22inputs%22%3A%20%7B%22uri%22%3A%20%7B%22nodeType%22%3A%20%22const%22%2C%20%22type%22%3A%20%7B%22type%22%3A%20%22const%22%2C%20%22valType%22%3A%20%22string%22%2C%20%22val%22%3A%20%22obj/23d523c7397fecb71f9e9b1e9b865e32%22%7D%2C%20%22val%22%3A%20%22obj/23d523c7397fecb71f9e9b1e9b865e32%22%7D%7D%7D%7D\"\n",
       "            frameborder=\"0\"\n",
       "            allowfullscreen\n",
       "            \n",
       "        ></iframe>\n",
       "        "
      ],
      "text/plain": [
       "<IPython.lib.display.IFrame at 0x13204e100>"
      ]
     },
     "metadata": {},
     "output_type": "display_data"
    }
   ],
   "source": [
    "weave.show(Image.linear_gradient(\"L\"))"
   ]
  },
  {
   "cell_type": "markdown",
   "id": "3dbed6d5",
   "metadata": {},
   "source": [
    "## Images in Lists"
   ]
  },
  {
   "cell_type": "code",
   "execution_count": 15,
   "id": "28e050c2",
   "metadata": {},
   "outputs": [
    {
     "data": {
      "text/html": [
       "\n",
       "        <iframe\n",
       "            width=\"100%\"\n",
       "            height=\"400px\"\n",
       "            src=\"http://127.0.0.1:51927/__frontend/weave_jupyter/index.html?fullScreen&expNode=%7B%22nodeType%22%3A%20%22output%22%2C%20%22type%22%3A%20%7B%22type%22%3A%20%22list%22%2C%20%22objectType%22%3A%20%7B%22type%22%3A%20%22pil-image%22%2C%20%22width%22%3A%20256%2C%20%22height%22%3A%20256%2C%20%22mode%22%3A%20%22L%22%7D%7D%2C%20%22fromOp%22%3A%20%7B%22name%22%3A%20%22get%22%2C%20%22inputs%22%3A%20%7B%22uri%22%3A%20%7B%22nodeType%22%3A%20%22const%22%2C%20%22type%22%3A%20%7B%22type%22%3A%20%22const%22%2C%20%22valType%22%3A%20%22string%22%2C%20%22val%22%3A%20%22ims/31ccc2ac05fe4a3d9ef36c17df6876e1%22%7D%2C%20%22val%22%3A%20%22ims/31ccc2ac05fe4a3d9ef36c17df6876e1%22%7D%7D%7D%7D\"\n",
       "            frameborder=\"0\"\n",
       "            allowfullscreen\n",
       "            \n",
       "        ></iframe>\n",
       "        "
      ],
      "text/plain": [
       "<IPython.lib.display.IFrame at 0x131ec7f70>"
      ]
     },
     "metadata": {},
     "output_type": "display_data"
    }
   ],
   "source": [
    "ims = [Image.linear_gradient(\"L\").rotate(i * 4) for i in range(100)]\n",
    "weave.show(ims)"
   ]
  },
  {
   "cell_type": "markdown",
   "id": "9575d1ff",
   "metadata": {},
   "source": [
    "## Images in Tables"
   ]
  },
  {
   "cell_type": "code",
   "execution_count": 16,
   "id": "0c258714",
   "metadata": {},
   "outputs": [
    {
     "data": {
      "text/html": [
       "\n",
       "        <iframe\n",
       "            width=\"100%\"\n",
       "            height=\"400px\"\n",
       "            src=\"http://127.0.0.1:51927/__frontend/weave_jupyter/index.html?fullScreen&expNode=%7B%22nodeType%22%3A%20%22output%22%2C%20%22type%22%3A%20%7B%22type%22%3A%20%22list%22%2C%20%22objectType%22%3A%20%7B%22type%22%3A%20%22typedDict%22%2C%20%22propertyTypes%22%3A%20%7B%22rotate%22%3A%20%22int%22%2C%20%22shear%22%3A%20%22int%22%2C%20%22image%22%3A%20%7B%22type%22%3A%20%22pil-image%22%2C%20%22width%22%3A%20256%2C%20%22height%22%3A%20256%2C%20%22mode%22%3A%20%22L%22%7D%7D%7D%7D%2C%20%22fromOp%22%3A%20%7B%22name%22%3A%20%22get%22%2C%20%22inputs%22%3A%20%7B%22uri%22%3A%20%7B%22nodeType%22%3A%20%22const%22%2C%20%22type%22%3A%20%7B%22type%22%3A%20%22const%22%2C%20%22valType%22%3A%20%22string%22%2C%20%22val%22%3A%20%22ims/fd2a34213058824aaf03486c26f40905%22%7D%2C%20%22val%22%3A%20%22ims/fd2a34213058824aaf03486c26f40905%22%7D%7D%7D%7D\"\n",
       "            frameborder=\"0\"\n",
       "            allowfullscreen\n",
       "            \n",
       "        ></iframe>\n",
       "        "
      ],
      "text/plain": [
       "<IPython.lib.display.IFrame at 0x1324c2190>"
      ]
     },
     "metadata": {},
     "output_type": "display_data"
    }
   ],
   "source": [
    "ims = []\n",
    "base_im = Image.linear_gradient('L')\n",
    "for rotate in range(10):\n",
    "    for shear in range(10):\n",
    "        ims.append({\n",
    "            'rotate': rotate,\n",
    "            'shear': shear,\n",
    "            'image': base_im\n",
    "                .rotate(rotate * 4)\n",
    "                .transform((256, 256), Image.AFFINE, (1, shear / 10, 0, 0, 1, 0), Image.BICUBIC)\n",
    "        })\n",
    "weave.show(ims)"
   ]
  },
  {
   "cell_type": "markdown",
   "id": "6583e01c",
   "metadata": {},
   "source": [
    "## Facet is fun!"
   ]
  },
  {
   "cell_type": "code",
   "execution_count": 17,
   "id": "090d8ab8",
   "metadata": {},
   "outputs": [
    {
     "data": {
      "text/html": [
       "\n",
       "        <iframe\n",
       "            width=\"100%\"\n",
       "            height=\"600px\"\n",
       "            src=\"http://127.0.0.1:51927/__frontend/weave_jupyter/index.html?fullScreen&expNode=%7B%22nodeType%22%3A%20%22output%22%2C%20%22type%22%3A%20%7B%22type%22%3A%20%22list%22%2C%20%22objectType%22%3A%20%7B%22type%22%3A%20%22typedDict%22%2C%20%22propertyTypes%22%3A%20%7B%22rotate%22%3A%20%22int%22%2C%20%22shear%22%3A%20%22int%22%2C%20%22image%22%3A%20%7B%22type%22%3A%20%22pil-image%22%2C%20%22width%22%3A%20256%2C%20%22height%22%3A%20256%2C%20%22mode%22%3A%20%22L%22%7D%7D%7D%7D%2C%20%22fromOp%22%3A%20%7B%22name%22%3A%20%22get%22%2C%20%22inputs%22%3A%20%7B%22uri%22%3A%20%7B%22nodeType%22%3A%20%22const%22%2C%20%22type%22%3A%20%7B%22type%22%3A%20%22const%22%2C%20%22valType%22%3A%20%22string%22%2C%20%22val%22%3A%20%22list-obj/fd2a34213058824aaf03486c26f40905%22%7D%2C%20%22val%22%3A%20%22list-obj/fd2a34213058824aaf03486c26f40905%22%7D%7D%7D%7D&panelId=facet&panelConfig=%7B%22table%22%3A%20%7B%22autoColumns%22%3A%20false%2C%20%22columns%22%3A%20%7B%223Y2PK6WAL1FJLX%22%3A%20%7B%22panelId%22%3A%20%22%22%2C%20%22panelConfig%22%3A%20null%7D%2C%20%22IRW94E7DZJ1KM3%22%3A%20%7B%22panelId%22%3A%20%22%22%2C%20%22panelConfig%22%3A%20null%7D%2C%20%22YUDZACLSB4EYIR%22%3A%20%7B%22panelId%22%3A%20%22%22%2C%20%22panelConfig%22%3A%20null%7D%2C%20%227DAD8PH131SO4V%22%3A%20%7B%22panelId%22%3A%20%22%22%2C%20%22panelConfig%22%3A%20null%7D%7D%2C%20%22preFilterFunction%22%3A%20%7B%22nodeType%22%3A%20%22void%22%2C%20%22type%22%3A%20%22invalid%22%7D%2C%20%22columnNames%22%3A%20%7B%223Y2PK6WAL1FJLX%22%3A%20%22%22%2C%20%22IRW94E7DZJ1KM3%22%3A%20%22%22%2C%20%22YUDZACLSB4EYIR%22%3A%20%22%22%2C%20%227DAD8PH131SO4V%22%3A%20%22%22%7D%2C%20%22columnSelectFunctions%22%3A%20%7B%223Y2PK6WAL1FJLX%22%3A%20%7B%22nodeType%22%3A%20%22output%22%2C%20%22type%22%3A%20%22int%22%2C%20%22fromOp%22%3A%20%7B%22name%22%3A%20%22pick%22%2C%20%22inputs%22%3A%20%7B%22obj%22%3A%20%7B%22nodeType%22%3A%20%22var%22%2C%20%22type%22%3A%20%7B%22type%22%3A%20%22typedDict%22%2C%20%22propertyTypes%22%3A%20%7B%22rotate%22%3A%20%22int%22%2C%20%22shear%22%3A%20%22int%22%2C%20%22image%22%3A%20%7B%22type%22%3A%20%22pil-image%22%2C%20%22width%22%3A%20256%2C%20%22height%22%3A%20256%2C%20%22mode%22%3A%20%22L%22%7D%7D%7D%2C%20%22varName%22%3A%20%22row%22%7D%2C%20%22key%22%3A%20%7B%22nodeType%22%3A%20%22const%22%2C%20%22type%22%3A%20%7B%22type%22%3A%20%22const%22%2C%20%22valType%22%3A%20%22string%22%2C%20%22val%22%3A%20%22rotate%22%7D%2C%20%22val%22%3A%20%22rotate%22%7D%7D%7D%7D%2C%20%22IRW94E7DZJ1KM3%22%3A%20%7B%22nodeType%22%3A%20%22output%22%2C%20%22type%22%3A%20%22int%22%2C%20%22fromOp%22%3A%20%7B%22name%22%3A%20%22pick%22%2C%20%22inputs%22%3A%20%7B%22obj%22%3A%20%7B%22nodeType%22%3A%20%22var%22%2C%20%22type%22%3A%20%7B%22type%22%3A%20%22typedDict%22%2C%20%22propertyTypes%22%3A%20%7B%22rotate%22%3A%20%22int%22%2C%20%22shear%22%3A%20%22int%22%2C%20%22image%22%3A%20%7B%22type%22%3A%20%22pil-image%22%2C%20%22width%22%3A%20256%2C%20%22height%22%3A%20256%2C%20%22mode%22%3A%20%22L%22%7D%7D%7D%2C%20%22varName%22%3A%20%22row%22%7D%2C%20%22key%22%3A%20%7B%22nodeType%22%3A%20%22const%22%2C%20%22type%22%3A%20%7B%22type%22%3A%20%22const%22%2C%20%22valType%22%3A%20%22string%22%2C%20%22val%22%3A%20%22shear%22%7D%2C%20%22val%22%3A%20%22shear%22%7D%7D%7D%7D%2C%20%22YUDZACLSB4EYIR%22%3A%20%7B%22nodeType%22%3A%20%22output%22%2C%20%22type%22%3A%20%7B%22type%22%3A%20%22pil-image%22%2C%20%22width%22%3A%20256%2C%20%22height%22%3A%20256%2C%20%22mode%22%3A%20%22L%22%7D%2C%20%22fromOp%22%3A%20%7B%22name%22%3A%20%22pick%22%2C%20%22inputs%22%3A%20%7B%22obj%22%3A%20%7B%22nodeType%22%3A%20%22output%22%2C%20%22type%22%3A%20%7B%22type%22%3A%20%22typedDict%22%2C%20%22propertyTypes%22%3A%20%7B%22rotate%22%3A%20%22int%22%2C%20%22shear%22%3A%20%22int%22%2C%20%22image%22%3A%20%7B%22type%22%3A%20%22pil-image%22%2C%20%22width%22%3A%20256%2C%20%22height%22%3A%20256%2C%20%22mode%22%3A%20%22L%22%7D%7D%7D%2C%20%22fromOp%22%3A%20%7B%22name%22%3A%20%22index%22%2C%20%22inputs%22%3A%20%7B%22arr%22%3A%20%7B%22nodeType%22%3A%20%22var%22%2C%20%22type%22%3A%20%7B%22type%22%3A%20%22list%22%2C%20%22objectType%22%3A%20%7B%22type%22%3A%20%22typedDict%22%2C%20%22propertyTypes%22%3A%20%7B%22rotate%22%3A%20%22int%22%2C%20%22shear%22%3A%20%22int%22%2C%20%22image%22%3A%20%7B%22type%22%3A%20%22pil-image%22%2C%20%22width%22%3A%20256%2C%20%22height%22%3A%20256%2C%20%22mode%22%3A%20%22L%22%7D%7D%7D%7D%2C%20%22varName%22%3A%20%22row%22%7D%2C%20%22index%22%3A%20%7B%22nodeType%22%3A%20%22const%22%2C%20%22type%22%3A%20%7B%22type%22%3A%20%22const%22%2C%20%22valType%22%3A%20%22int%22%2C%20%22val%22%3A%200%7D%2C%20%22val%22%3A%200%7D%7D%7D%7D%2C%20%22key%22%3A%20%7B%22nodeType%22%3A%20%22const%22%2C%20%22type%22%3A%20%7B%22type%22%3A%20%22const%22%2C%20%22valType%22%3A%20%22string%22%2C%20%22val%22%3A%20%22image%22%7D%2C%20%22val%22%3A%20%22image%22%7D%7D%7D%7D%2C%20%227DAD8PH131SO4V%22%3A%20%7B%22nodeType%22%3A%20%22void%22%2C%20%22type%22%3A%20%22invalid%22%7D%7D%2C%20%22order%22%3A%20%5B%223Y2PK6WAL1FJLX%22%2C%20%22IRW94E7DZJ1KM3%22%2C%20%22YUDZACLSB4EYIR%22%2C%20%227DAD8PH131SO4V%22%5D%2C%20%22groupBy%22%3A%20%5B%223Y2PK6WAL1FJLX%22%2C%20%22IRW94E7DZJ1KM3%22%5D%2C%20%22sort%22%3A%20%5B%5D%2C%20%22pageSize%22%3A%2010%2C%20%22page%22%3A%200%7D%2C%20%22dims%22%3A%20%7B%22x%22%3A%20%223Y2PK6WAL1FJLX%22%2C%20%22y%22%3A%20%22IRW94E7DZJ1KM3%22%2C%20%22select%22%3A%20%22YUDZACLSB4EYIR%22%2C%20%22detail%22%3A%20%227DAD8PH131SO4V%22%7D%2C%20%22cellSize%22%3A%20%7B%22w%22%3A%2050%2C%20%22h%22%3A%2050%7D%2C%20%22padding%22%3A%200%7D\"\n",
       "            frameborder=\"0\"\n",
       "            allowfullscreen\n",
       "            \n",
       "        ></iframe>\n",
       "        "
      ],
      "text/plain": [
       "<IPython.lib.display.IFrame at 0x130db9d30>"
      ]
     },
     "metadata": {},
     "output_type": "display_data"
    }
   ],
   "source": [
    "facet = weave.panels.Facet(ims)\n",
    "facet.set_x(lambda row: row['rotate'])\n",
    "facet.set_y(lambda row: row['shear'])\n",
    "facet.set_select(lambda row: row[0]['image'])\n",
    "weave.show(facet, height=600)"
   ]
  },
  {
   "cell_type": "markdown",
   "id": "3708a052",
   "metadata": {},
   "source": [
    "## Create some ops to make it dynamic and interactive"
   ]
  },
  {
   "cell_type": "code",
   "execution_count": 18,
   "id": "3387f185",
   "metadata": {},
   "outputs": [
    {
     "data": {
      "text/html": [
       "\n",
       "        <iframe\n",
       "            width=\"100%\"\n",
       "            height=\"600px\"\n",
       "            src=\"http://127.0.0.1:51927/__frontend/weave_jupyter/index.html?fullScreen&expNode=%7B%22nodeType%22%3A%20%22output%22%2C%20%22type%22%3A%20%7B%22type%22%3A%20%22list%22%2C%20%22objectType%22%3A%20%7B%22type%22%3A%20%22typedDict%22%2C%20%22propertyTypes%22%3A%20%7B%22rotate%22%3A%20%22int%22%2C%20%22shear%22%3A%20%22int%22%7D%7D%7D%2C%20%22fromOp%22%3A%20%7B%22name%22%3A%20%22op-make_params%22%2C%20%22inputs%22%3A%20%7B%22n_rotate%22%3A%20%7B%22nodeType%22%3A%20%22const%22%2C%20%22type%22%3A%20%7B%22type%22%3A%20%22const%22%2C%20%22valType%22%3A%20%22int%22%2C%20%22val%22%3A%2010%7D%2C%20%22val%22%3A%2010%7D%2C%20%22n_shear%22%3A%20%7B%22nodeType%22%3A%20%22const%22%2C%20%22type%22%3A%20%7B%22type%22%3A%20%22const%22%2C%20%22valType%22%3A%20%22int%22%2C%20%22val%22%3A%205%7D%2C%20%22val%22%3A%205%7D%7D%7D%7D&panelId=facet&panelConfig=%7B%22table%22%3A%20%7B%22autoColumns%22%3A%20false%2C%20%22columns%22%3A%20%7B%2253NQU9P1NRD7NR%22%3A%20%7B%22panelId%22%3A%20%22%22%2C%20%22panelConfig%22%3A%20null%7D%2C%20%22IN9M8UBZLWB7T9%22%3A%20%7B%22panelId%22%3A%20%22%22%2C%20%22panelConfig%22%3A%20null%7D%2C%20%22P7DSMNAENTGYVL%22%3A%20%7B%22panelId%22%3A%20%22%22%2C%20%22panelConfig%22%3A%20null%7D%2C%20%225EB9ELUY8EWAQ6%22%3A%20%7B%22panelId%22%3A%20%22%22%2C%20%22panelConfig%22%3A%20null%7D%7D%2C%20%22preFilterFunction%22%3A%20%7B%22nodeType%22%3A%20%22void%22%2C%20%22type%22%3A%20%22invalid%22%7D%2C%20%22columnNames%22%3A%20%7B%2253NQU9P1NRD7NR%22%3A%20%22%22%2C%20%22IN9M8UBZLWB7T9%22%3A%20%22%22%2C%20%22P7DSMNAENTGYVL%22%3A%20%22%22%2C%20%225EB9ELUY8EWAQ6%22%3A%20%22%22%7D%2C%20%22columnSelectFunctions%22%3A%20%7B%2253NQU9P1NRD7NR%22%3A%20%7B%22nodeType%22%3A%20%22output%22%2C%20%22type%22%3A%20%22int%22%2C%20%22fromOp%22%3A%20%7B%22name%22%3A%20%22pick%22%2C%20%22inputs%22%3A%20%7B%22obj%22%3A%20%7B%22nodeType%22%3A%20%22var%22%2C%20%22type%22%3A%20%7B%22type%22%3A%20%22typedDict%22%2C%20%22propertyTypes%22%3A%20%7B%22rotate%22%3A%20%22int%22%2C%20%22shear%22%3A%20%22int%22%7D%7D%2C%20%22varName%22%3A%20%22row%22%7D%2C%20%22key%22%3A%20%7B%22nodeType%22%3A%20%22const%22%2C%20%22type%22%3A%20%7B%22type%22%3A%20%22const%22%2C%20%22valType%22%3A%20%22string%22%2C%20%22val%22%3A%20%22rotate%22%7D%2C%20%22val%22%3A%20%22rotate%22%7D%7D%7D%7D%2C%20%22IN9M8UBZLWB7T9%22%3A%20%7B%22nodeType%22%3A%20%22output%22%2C%20%22type%22%3A%20%22int%22%2C%20%22fromOp%22%3A%20%7B%22name%22%3A%20%22pick%22%2C%20%22inputs%22%3A%20%7B%22obj%22%3A%20%7B%22nodeType%22%3A%20%22var%22%2C%20%22type%22%3A%20%7B%22type%22%3A%20%22typedDict%22%2C%20%22propertyTypes%22%3A%20%7B%22rotate%22%3A%20%22int%22%2C%20%22shear%22%3A%20%22int%22%7D%7D%2C%20%22varName%22%3A%20%22row%22%7D%2C%20%22key%22%3A%20%7B%22nodeType%22%3A%20%22const%22%2C%20%22type%22%3A%20%7B%22type%22%3A%20%22const%22%2C%20%22valType%22%3A%20%22string%22%2C%20%22val%22%3A%20%22shear%22%7D%2C%20%22val%22%3A%20%22shear%22%7D%7D%7D%7D%2C%20%22P7DSMNAENTGYVL%22%3A%20%7B%22nodeType%22%3A%20%22output%22%2C%20%22type%22%3A%20%7B%22type%22%3A%20%22pil-image%22%2C%20%22width%22%3A%205%2C%20%22height%22%3A%205%2C%20%22mode%22%3A%20%22L%22%7D%2C%20%22fromOp%22%3A%20%7B%22name%22%3A%20%22op-make_image%22%2C%20%22inputs%22%3A%20%7B%22rotate%22%3A%20%7B%22nodeType%22%3A%20%22output%22%2C%20%22type%22%3A%20%22int%22%2C%20%22fromOp%22%3A%20%7B%22name%22%3A%20%22pick%22%2C%20%22inputs%22%3A%20%7B%22obj%22%3A%20%7B%22nodeType%22%3A%20%22output%22%2C%20%22type%22%3A%20%7B%22type%22%3A%20%22typedDict%22%2C%20%22propertyTypes%22%3A%20%7B%22rotate%22%3A%20%22int%22%2C%20%22shear%22%3A%20%22int%22%7D%7D%2C%20%22fromOp%22%3A%20%7B%22name%22%3A%20%22index%22%2C%20%22inputs%22%3A%20%7B%22arr%22%3A%20%7B%22nodeType%22%3A%20%22var%22%2C%20%22type%22%3A%20%7B%22type%22%3A%20%22list%22%2C%20%22objectType%22%3A%20%7B%22type%22%3A%20%22typedDict%22%2C%20%22propertyTypes%22%3A%20%7B%22rotate%22%3A%20%22int%22%2C%20%22shear%22%3A%20%22int%22%7D%7D%7D%2C%20%22varName%22%3A%20%22row%22%7D%2C%20%22index%22%3A%20%7B%22nodeType%22%3A%20%22const%22%2C%20%22type%22%3A%20%7B%22type%22%3A%20%22const%22%2C%20%22valType%22%3A%20%22int%22%2C%20%22val%22%3A%200%7D%2C%20%22val%22%3A%200%7D%7D%7D%7D%2C%20%22key%22%3A%20%7B%22nodeType%22%3A%20%22const%22%2C%20%22type%22%3A%20%7B%22type%22%3A%20%22const%22%2C%20%22valType%22%3A%20%22string%22%2C%20%22val%22%3A%20%22rotate%22%7D%2C%20%22val%22%3A%20%22rotate%22%7D%7D%7D%7D%2C%20%22shear%22%3A%20%7B%22nodeType%22%3A%20%22output%22%2C%20%22type%22%3A%20%22int%22%2C%20%22fromOp%22%3A%20%7B%22name%22%3A%20%22pick%22%2C%20%22inputs%22%3A%20%7B%22obj%22%3A%20%7B%22nodeType%22%3A%20%22output%22%2C%20%22type%22%3A%20%7B%22type%22%3A%20%22typedDict%22%2C%20%22propertyTypes%22%3A%20%7B%22rotate%22%3A%20%22int%22%2C%20%22shear%22%3A%20%22int%22%7D%7D%2C%20%22fromOp%22%3A%20%7B%22name%22%3A%20%22index%22%2C%20%22inputs%22%3A%20%7B%22arr%22%3A%20%7B%22nodeType%22%3A%20%22var%22%2C%20%22type%22%3A%20%7B%22type%22%3A%20%22list%22%2C%20%22objectType%22%3A%20%7B%22type%22%3A%20%22typedDict%22%2C%20%22propertyTypes%22%3A%20%7B%22rotate%22%3A%20%22int%22%2C%20%22shear%22%3A%20%22int%22%7D%7D%7D%2C%20%22varName%22%3A%20%22row%22%7D%2C%20%22index%22%3A%20%7B%22nodeType%22%3A%20%22const%22%2C%20%22type%22%3A%20%7B%22type%22%3A%20%22const%22%2C%20%22valType%22%3A%20%22int%22%2C%20%22val%22%3A%200%7D%2C%20%22val%22%3A%200%7D%7D%7D%7D%2C%20%22key%22%3A%20%7B%22nodeType%22%3A%20%22const%22%2C%20%22type%22%3A%20%7B%22type%22%3A%20%22const%22%2C%20%22valType%22%3A%20%22string%22%2C%20%22val%22%3A%20%22shear%22%7D%2C%20%22val%22%3A%20%22shear%22%7D%7D%7D%7D%7D%7D%7D%2C%20%225EB9ELUY8EWAQ6%22%3A%20%7B%22nodeType%22%3A%20%22void%22%2C%20%22type%22%3A%20%22invalid%22%7D%7D%2C%20%22order%22%3A%20%5B%2253NQU9P1NRD7NR%22%2C%20%22IN9M8UBZLWB7T9%22%2C%20%22P7DSMNAENTGYVL%22%2C%20%225EB9ELUY8EWAQ6%22%5D%2C%20%22groupBy%22%3A%20%5B%2253NQU9P1NRD7NR%22%2C%20%22IN9M8UBZLWB7T9%22%5D%2C%20%22sort%22%3A%20%5B%5D%2C%20%22pageSize%22%3A%2010%2C%20%22page%22%3A%200%7D%2C%20%22dims%22%3A%20%7B%22x%22%3A%20%2253NQU9P1NRD7NR%22%2C%20%22y%22%3A%20%22IN9M8UBZLWB7T9%22%2C%20%22select%22%3A%20%22P7DSMNAENTGYVL%22%2C%20%22detail%22%3A%20%225EB9ELUY8EWAQ6%22%7D%2C%20%22cellSize%22%3A%20%7B%22w%22%3A%2050%2C%20%22h%22%3A%2050%7D%2C%20%22padding%22%3A%200%7D\"\n",
       "            frameborder=\"0\"\n",
       "            allowfullscreen\n",
       "            \n",
       "        ></iframe>\n",
       "        "
      ],
      "text/plain": [
       "<IPython.lib.display.IFrame at 0x1321b6100>"
      ]
     },
     "metadata": {},
     "output_type": "display_data"
    }
   ],
   "source": [
    "class ParamType(typing.TypedDict):\n",
    "    rotate: int\n",
    "    shear: int\n",
    "        \n",
    "@weave.op(render_info={'type': 'function'})\n",
    "def make_params(n_rotate: int, n_shear: int) -> list[ParamType]:\n",
    "    params = []\n",
    "    for rotate, shear in itertools.product(range(n_rotate), range(n_shear)):\n",
    "        params.append({\n",
    "            'rotate': rotate,\n",
    "            'shear': shear\n",
    "        })\n",
    "    return params\n",
    "\n",
    "@weave.op(render_info={'type': 'function'})\n",
    "def make_image(rotate: int, shear: int) -> Image.Image:\n",
    "    return (Image.linear_gradient('L')\n",
    "        .rotate(rotate * 4)\n",
    "        .transform((256, 256), Image.AFFINE, (1, shear / 10, 0, 0, 1, 0), Image.BICUBIC))\n",
    "\n",
    "facet = weave.panels.Facet(make_params(10, 5))\n",
    "facet.set_x(lambda row: row['rotate'])\n",
    "facet.set_y(lambda row: row['shear']) \n",
    "facet.set_select(lambda row: make_image(row[0]['rotate'], row[0]['shear']))\n",
    "weave.show(facet, height=600)"
   ]
  }
 ],
 "metadata": {
  "kernelspec": {
   "display_name": "Python 3 (ipykernel)",
   "language": "python",
   "name": "python3"
  },
  "language_info": {
   "codemirror_mode": {
    "name": "ipython",
    "version": 3
   },
   "file_extension": ".py",
   "mimetype": "text/x-python",
   "name": "python",
   "nbconvert_exporter": "python",
   "pygments_lexer": "ipython3",
   "version": "3.9.7"
  }
 },
 "nbformat": 4,
 "nbformat_minor": 5
}
