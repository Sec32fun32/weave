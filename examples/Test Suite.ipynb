{
 "cells": [
  {
   "cell_type": "markdown",
   "id": "137551c3",
   "metadata": {},
   "source": [
    "# Weave Form Test Suite"
   ]
  },
  {
   "cell_type": "code",
   "execution_count": 1,
   "id": "1fd450ca",
   "metadata": {},
   "outputs": [],
   "source": [
    "import weave"
   ]
  },
  {
   "cell_type": "markdown",
   "id": "35cd797d",
   "metadata": {},
   "source": [
    "# Make, explore, & save a Table / PanelPlot\n",
    "\n",
    "## From input data, flexibly configure a Table\n",
    "\n",
    "### Raw data / array / dictionary"
   ]
  },
  {
   "cell_type": "code",
   "execution_count": 4,
   "id": "44b1ba2c",
   "metadata": {},
   "outputs": [
    {
     "data": {
      "text/html": [
       "\n",
       "        <iframe\n",
       "            width=\"100%\"\n",
       "            height=\"400px\"\n",
       "            src=\"http://127.0.0.1:53803/__frontend/weave_jupyter/__frontend/weave_jupyter?fullScreen&expNode=%7B%22nodeType%22%3A%20%22output%22%2C%20%22type%22%3A%20%7B%22type%22%3A%20%22list%22%2C%20%22objectType%22%3A%20%7B%22type%22%3A%20%22typedDict%22%2C%20%22propertyTypes%22%3A%20%7B%22name%22%3A%20%22string%22%7D%7D%7D%2C%20%22fromOp%22%3A%20%7B%22name%22%3A%20%22get%22%2C%20%22inputs%22%3A%20%7B%22uri%22%3A%20%7B%22nodeType%22%3A%20%22const%22%2C%20%22type%22%3A%20%22string%22%2C%20%22val%22%3A%20%22local-artifact%3A///tmp/local-artifacts/people/e7e3b62c33a17319a8a1721ce6d13cd7%22%7D%7D%7D%7D\"\n",
       "            frameborder=\"0\"\n",
       "            allowfullscreen\n",
       "            \n",
       "        ></iframe>\n",
       "        "
      ],
      "text/plain": [
       "<IPython.lib.display.IFrame at 0x162509640>"
      ]
     },
     "metadata": {},
     "output_type": "display_data"
    }
   ],
   "source": [
    "t = [{\"name\": \"Alice\"}, {\"name\" : \"Bob\"}, {\"name\": \"Charlie\"}]\n",
    "names = weave.save(t, \"people\")\n",
    "names"
   ]
  },
  {
   "cell_type": "markdown",
   "id": "1ad99f55",
   "metadata": {},
   "source": [
    "### Slightly fancier dictionary"
   ]
  },
  {
   "cell_type": "code",
   "execution_count": 5,
   "id": "a02f05ed",
   "metadata": {
    "scrolled": false
   },
   "outputs": [
    {
     "data": {
      "text/html": [
       "\n",
       "        <iframe\n",
       "            width=\"100%\"\n",
       "            height=\"400px\"\n",
       "            src=\"http://127.0.0.1:53803/__frontend/weave_jupyter/__frontend/weave_jupyter?fullScreen&expNode=%7B%22nodeType%22%3A%20%22output%22%2C%20%22type%22%3A%20%7B%22type%22%3A%20%22list%22%2C%20%22objectType%22%3A%20%7B%22type%22%3A%20%22typedDict%22%2C%20%22propertyTypes%22%3A%20%7B%22name%22%3A%20%22string%22%2C%20%22fav_number%22%3A%20%22int%22%2C%20%22model_acc%22%3A%20%22float%22%2C%20%22fav_animal%22%3A%20%22string%22%7D%7D%7D%2C%20%22fromOp%22%3A%20%7B%22name%22%3A%20%22get%22%2C%20%22inputs%22%3A%20%7B%22uri%22%3A%20%7B%22nodeType%22%3A%20%22const%22%2C%20%22type%22%3A%20%22string%22%2C%20%22val%22%3A%20%22local-artifact%3A///tmp/local-artifacts/humans/8962655ce7ae64e3c25df30aea4607ec%22%7D%7D%7D%7D\"\n",
       "            frameborder=\"0\"\n",
       "            allowfullscreen\n",
       "            \n",
       "        ></iframe>\n",
       "        "
      ],
      "text/plain": [
       "<IPython.lib.display.IFrame at 0x16252c310>"
      ]
     },
     "metadata": {},
     "output_type": "display_data"
    }
   ],
   "source": [
    "test_data = [[\"Alice\", 42, 0.85, \"lion\"], [\"Bob\", 77, 0.5, \"dragon\"], [\"Charlie\", 23, 0.99, \"unicorn\"]]\n",
    "test_list = []\n",
    "for i in test_data:\n",
    "    human = {\"name\" : i[0], \"fav_number\" : i[1], \"model_acc\" : i[2], \"fav_animal\" : i[3]}\n",
    "    test_list.append(human)\n",
    "humans = weave.save(test_list, \"humans\")\n",
    "humans"
   ]
  },
  {
   "cell_type": "markdown",
   "id": "5bc62ada",
   "metadata": {},
   "source": [
    "### Pandas dataframe"
   ]
  },
  {
   "cell_type": "code",
   "execution_count": 8,
   "id": "9e2c7b8d",
   "metadata": {
    "scrolled": false
   },
   "outputs": [
    {
     "name": "stdout",
     "output_type": "stream",
     "text": [
      "                0       1        2\n",
      "name        Alice     Bob  Charlie\n",
      "fav_number     42      77       23\n",
      "model_acc    0.85     0.5     0.99\n",
      "fav_animal   lion  dragon  unicorn\n"
     ]
    },
    {
     "ename": "ArrowTypeError",
     "evalue": "(\"Expected bytes, got a 'int' object\", 'Conversion failed for column 0 with type object')",
     "output_type": "error",
     "traceback": [
      "\u001b[0;31m---------------------------------------------------------------------------\u001b[0m",
      "\u001b[0;31mArrowTypeError\u001b[0m                            Traceback (most recent call last)",
      "Input \u001b[0;32mIn [8]\u001b[0m, in \u001b[0;36m<cell line: 13>\u001b[0;34m()\u001b[0m\n\u001b[1;32m     11\u001b[0m df \u001b[38;5;241m=\u001b[39m pd\u001b[38;5;241m.\u001b[39mDataFrame\u001b[38;5;241m.\u001b[39mfrom_dict(test_dict)\n\u001b[1;32m     12\u001b[0m \u001b[38;5;28mprint\u001b[39m(df)\n\u001b[0;32m---> 13\u001b[0m humans_df \u001b[38;5;241m=\u001b[39m \u001b[43mweave\u001b[49m\u001b[38;5;241;43m.\u001b[39;49m\u001b[43msave\u001b[49m\u001b[43m(\u001b[49m\u001b[43mdf\u001b[49m\u001b[43m,\u001b[49m\u001b[43m \u001b[49m\u001b[38;5;124;43m\"\u001b[39;49m\u001b[38;5;124;43mhuman_df\u001b[39;49m\u001b[38;5;124;43m\"\u001b[39;49m\u001b[43m)\u001b[49m\n\u001b[1;32m     14\u001b[0m humans_df\n",
      "File \u001b[0;32m~/Code/weave/weave-internal/weave/api.py:36\u001b[0m, in \u001b[0;36msave\u001b[0;34m(node_or_obj, name)\u001b[0m\n\u001b[1;32m     34\u001b[0m     \u001b[38;5;28;01mreturn\u001b[39;00m _ops\u001b[38;5;241m.\u001b[39msave(node_or_obj, name\u001b[38;5;241m=\u001b[39mname)\n\u001b[1;32m     35\u001b[0m \u001b[38;5;28;01melse\u001b[39;00m:\n\u001b[0;32m---> 36\u001b[0m     ref \u001b[38;5;241m=\u001b[39m \u001b[43m_storage\u001b[49m\u001b[38;5;241;43m.\u001b[39;49m\u001b[43msave\u001b[49m\u001b[43m(\u001b[49m\u001b[43mnode_or_obj\u001b[49m\u001b[43m,\u001b[49m\u001b[43m \u001b[49m\u001b[43mname\u001b[49m\u001b[38;5;241;43m=\u001b[39;49m\u001b[43mname\u001b[49m\u001b[43m)\u001b[49m\n\u001b[1;32m     37\u001b[0m     \u001b[38;5;28;01mreturn\u001b[39;00m _ops\u001b[38;5;241m.\u001b[39mget(\u001b[38;5;28mstr\u001b[39m(ref))\n",
      "File \u001b[0;32m~/Code/weave/weave-internal/weave/storage.py:134\u001b[0m, in \u001b[0;36msave\u001b[0;34m(obj, name, type, artifact)\u001b[0m\n\u001b[1;32m    128\u001b[0m \u001b[38;5;28;01mdef\u001b[39;00m \u001b[38;5;21msave\u001b[39m(obj, name\u001b[38;5;241m=\u001b[39m\u001b[38;5;28;01mNone\u001b[39;00m, \u001b[38;5;28mtype\u001b[39m\u001b[38;5;241m=\u001b[39m\u001b[38;5;28;01mNone\u001b[39;00m, artifact\u001b[38;5;241m=\u001b[39m\u001b[38;5;28;01mNone\u001b[39;00m) \u001b[38;5;241m-\u001b[39m\u001b[38;5;241m>\u001b[39m refs\u001b[38;5;241m.\u001b[39mLocalArtifactRef:\n\u001b[1;32m    129\u001b[0m     \u001b[38;5;66;03m# print(\"STORAGE SAVE\", name, obj, type, artifact)\u001b[39;00m\n\u001b[1;32m    130\u001b[0m     \u001b[38;5;66;03m# ref = _get_ref(obj)\u001b[39;00m\n\u001b[1;32m    131\u001b[0m     \u001b[38;5;66;03m# if ref is not None:\u001b[39;00m\n\u001b[1;32m    132\u001b[0m     \u001b[38;5;66;03m#     if name is None or ref.artifact._name == name:\u001b[39;00m\n\u001b[1;32m    133\u001b[0m     \u001b[38;5;66;03m#         return ref\u001b[39;00m\n\u001b[0;32m--> 134\u001b[0m     \u001b[38;5;28;01mreturn\u001b[39;00m \u001b[43m_save_or_publish\u001b[49m\u001b[43m(\u001b[49m\u001b[43mobj\u001b[49m\u001b[43m,\u001b[49m\u001b[43m \u001b[49m\u001b[43mname\u001b[49m\u001b[43m,\u001b[49m\u001b[43m \u001b[49m\u001b[38;5;28;43mtype\u001b[39;49m\u001b[43m,\u001b[49m\u001b[43m \u001b[49m\u001b[38;5;28;43;01mFalse\u001b[39;49;00m\u001b[43m,\u001b[49m\u001b[43m \u001b[49m\u001b[43martifact\u001b[49m\u001b[38;5;241;43m=\u001b[39;49m\u001b[43martifact\u001b[49m\u001b[43m)\u001b[49m\n",
      "File \u001b[0;32m~/Code/weave/weave-internal/weave/storage.py:106\u001b[0m, in \u001b[0;36m_save_or_publish\u001b[0;34m(obj, name, type, publish, artifact)\u001b[0m\n\u001b[1;32m    104\u001b[0m         artifact \u001b[38;5;241m=\u001b[39m artifacts_local\u001b[38;5;241m.\u001b[39mLocalArtifact(name)\n\u001b[1;32m    105\u001b[0m artifact\u001b[38;5;241m.\u001b[39mmapper \u001b[38;5;241m=\u001b[39m mappers_python\u001b[38;5;241m.\u001b[39mmap_to_python(wb_type, artifact)\n\u001b[0;32m--> 106\u001b[0m ref \u001b[38;5;241m=\u001b[39m \u001b[43msave_to_artifact\u001b[49m\u001b[43m(\u001b[49m\u001b[43mobj\u001b[49m\u001b[43m,\u001b[49m\u001b[43m \u001b[49m\u001b[43martifact\u001b[49m\u001b[43m,\u001b[49m\u001b[43m \u001b[49m\u001b[38;5;124;43m\"\u001b[39;49m\u001b[38;5;124;43m_obj\u001b[39;49m\u001b[38;5;124;43m\"\u001b[39;49m\u001b[43m,\u001b[49m\u001b[43m \u001b[49m\u001b[43mwb_type\u001b[49m\u001b[43m)\u001b[49m\n\u001b[1;32m    108\u001b[0m \u001b[38;5;66;03m# Only save if we have a ref into the artifact we created above. Otherwise\u001b[39;00m\n\u001b[1;32m    109\u001b[0m \u001b[38;5;66;03m#     nothing new was created, so just return the existing ref.\u001b[39;00m\n\u001b[1;32m    110\u001b[0m \u001b[38;5;28;01mif\u001b[39;00m ref\u001b[38;5;241m.\u001b[39martifact \u001b[38;5;241m==\u001b[39m artifact:\n",
      "File \u001b[0;32m~/Code/weave/weave-internal/weave/storage.py:38\u001b[0m, in \u001b[0;36msave_to_artifact\u001b[0;34m(obj, artifact, name, type_)\u001b[0m\n\u001b[1;32m     36\u001b[0m \u001b[38;5;28;01mif\u001b[39;00m name \u001b[38;5;241m!=\u001b[39m \u001b[38;5;124m\"\u001b[39m\u001b[38;5;124m_obj\u001b[39m\u001b[38;5;124m\"\u001b[39m:\n\u001b[1;32m     37\u001b[0m     name \u001b[38;5;241m=\u001b[39m type_\u001b[38;5;241m.\u001b[39mname\n\u001b[0;32m---> 38\u001b[0m ref_extra \u001b[38;5;241m=\u001b[39m \u001b[43mtype_\u001b[49m\u001b[38;5;241;43m.\u001b[39;49m\u001b[43msave_instance\u001b[49m\u001b[43m(\u001b[49m\u001b[43mobj\u001b[49m\u001b[43m,\u001b[49m\u001b[43m \u001b[49m\u001b[43martifact\u001b[49m\u001b[43m,\u001b[49m\u001b[43m \u001b[49m\u001b[43mname\u001b[49m\u001b[43m)\u001b[49m\n\u001b[1;32m     39\u001b[0m \u001b[38;5;66;03m# If save_instance returned a Ref, return that directly.\u001b[39;00m\n\u001b[1;32m     40\u001b[0m \u001b[38;5;66;03m# TODO: refactor\u001b[39;00m\n\u001b[1;32m     41\u001b[0m \u001b[38;5;28;01mif\u001b[39;00m \u001b[38;5;28misinstance\u001b[39m(ref_extra, refs\u001b[38;5;241m.\u001b[39mRef):\n",
      "File \u001b[0;32m~/Code/weave/weave-internal/weave/ops_primitives/pandas_.py:123\u001b[0m, in \u001b[0;36mDataFrameType.save_instance\u001b[0;34m(self, obj, artifact, name)\u001b[0m\n\u001b[1;32m    122\u001b[0m \u001b[38;5;28;01mdef\u001b[39;00m \u001b[38;5;21msave_instance\u001b[39m(\u001b[38;5;28mself\u001b[39m, obj, artifact, name):\n\u001b[0;32m--> 123\u001b[0m     table \u001b[38;5;241m=\u001b[39m \u001b[43mpa\u001b[49m\u001b[38;5;241;43m.\u001b[39;49m\u001b[43mTable\u001b[49m\u001b[38;5;241;43m.\u001b[39;49m\u001b[43mfrom_pandas\u001b[49m\u001b[43m(\u001b[49m\u001b[43mobj\u001b[49m\u001b[43m)\u001b[49m\n\u001b[1;32m    124\u001b[0m     \u001b[38;5;28;01mwith\u001b[39;00m artifact\u001b[38;5;241m.\u001b[39mnew_file(\u001b[38;5;124mf\u001b[39m\u001b[38;5;124m\"\u001b[39m\u001b[38;5;132;01m{\u001b[39;00mname\u001b[38;5;132;01m}\u001b[39;00m\u001b[38;5;124m.parquet\u001b[39m\u001b[38;5;124m\"\u001b[39m, binary\u001b[38;5;241m=\u001b[39m\u001b[38;5;28;01mTrue\u001b[39;00m) \u001b[38;5;28;01mas\u001b[39;00m f:\n\u001b[1;32m    125\u001b[0m         pq\u001b[38;5;241m.\u001b[39mwrite_table(table, f)\n",
      "File \u001b[0;32m~/.pyenv/versions/3.9.7/envs/wint/lib/python3.9/site-packages/pyarrow/table.pxi:3457\u001b[0m, in \u001b[0;36mpyarrow.lib.Table.from_pandas\u001b[0;34m()\u001b[0m\n",
      "File \u001b[0;32m~/.pyenv/versions/3.9.7/envs/wint/lib/python3.9/site-packages/pyarrow/pandas_compat.py:594\u001b[0m, in \u001b[0;36mdataframe_to_arrays\u001b[0;34m(df, schema, preserve_index, nthreads, columns, safe)\u001b[0m\n\u001b[1;32m    589\u001b[0m     \u001b[38;5;28;01mreturn\u001b[39;00m (\u001b[38;5;28misinstance\u001b[39m(arr, np\u001b[38;5;241m.\u001b[39mndarray) \u001b[38;5;129;01mand\u001b[39;00m\n\u001b[1;32m    590\u001b[0m             arr\u001b[38;5;241m.\u001b[39mflags\u001b[38;5;241m.\u001b[39mcontiguous \u001b[38;5;129;01mand\u001b[39;00m\n\u001b[1;32m    591\u001b[0m             \u001b[38;5;28missubclass\u001b[39m(arr\u001b[38;5;241m.\u001b[39mdtype\u001b[38;5;241m.\u001b[39mtype, np\u001b[38;5;241m.\u001b[39minteger))\n\u001b[1;32m    593\u001b[0m \u001b[38;5;28;01mif\u001b[39;00m nthreads \u001b[38;5;241m==\u001b[39m \u001b[38;5;241m1\u001b[39m:\n\u001b[0;32m--> 594\u001b[0m     arrays \u001b[38;5;241m=\u001b[39m [convert_column(c, f)\n\u001b[1;32m    595\u001b[0m               \u001b[38;5;28;01mfor\u001b[39;00m c, f \u001b[38;5;129;01min\u001b[39;00m \u001b[38;5;28mzip\u001b[39m(columns_to_convert, convert_fields)]\n\u001b[1;32m    596\u001b[0m \u001b[38;5;28;01melse\u001b[39;00m:\n\u001b[1;32m    597\u001b[0m     arrays \u001b[38;5;241m=\u001b[39m []\n",
      "File \u001b[0;32m~/.pyenv/versions/3.9.7/envs/wint/lib/python3.9/site-packages/pyarrow/pandas_compat.py:594\u001b[0m, in \u001b[0;36m<listcomp>\u001b[0;34m(.0)\u001b[0m\n\u001b[1;32m    589\u001b[0m     \u001b[38;5;28;01mreturn\u001b[39;00m (\u001b[38;5;28misinstance\u001b[39m(arr, np\u001b[38;5;241m.\u001b[39mndarray) \u001b[38;5;129;01mand\u001b[39;00m\n\u001b[1;32m    590\u001b[0m             arr\u001b[38;5;241m.\u001b[39mflags\u001b[38;5;241m.\u001b[39mcontiguous \u001b[38;5;129;01mand\u001b[39;00m\n\u001b[1;32m    591\u001b[0m             \u001b[38;5;28missubclass\u001b[39m(arr\u001b[38;5;241m.\u001b[39mdtype\u001b[38;5;241m.\u001b[39mtype, np\u001b[38;5;241m.\u001b[39minteger))\n\u001b[1;32m    593\u001b[0m \u001b[38;5;28;01mif\u001b[39;00m nthreads \u001b[38;5;241m==\u001b[39m \u001b[38;5;241m1\u001b[39m:\n\u001b[0;32m--> 594\u001b[0m     arrays \u001b[38;5;241m=\u001b[39m [\u001b[43mconvert_column\u001b[49m\u001b[43m(\u001b[49m\u001b[43mc\u001b[49m\u001b[43m,\u001b[49m\u001b[43m \u001b[49m\u001b[43mf\u001b[49m\u001b[43m)\u001b[49m\n\u001b[1;32m    595\u001b[0m               \u001b[38;5;28;01mfor\u001b[39;00m c, f \u001b[38;5;129;01min\u001b[39;00m \u001b[38;5;28mzip\u001b[39m(columns_to_convert, convert_fields)]\n\u001b[1;32m    596\u001b[0m \u001b[38;5;28;01melse\u001b[39;00m:\n\u001b[1;32m    597\u001b[0m     arrays \u001b[38;5;241m=\u001b[39m []\n",
      "File \u001b[0;32m~/.pyenv/versions/3.9.7/envs/wint/lib/python3.9/site-packages/pyarrow/pandas_compat.py:581\u001b[0m, in \u001b[0;36mdataframe_to_arrays.<locals>.convert_column\u001b[0;34m(col, field)\u001b[0m\n\u001b[1;32m    576\u001b[0m \u001b[38;5;28;01mexcept\u001b[39;00m (pa\u001b[38;5;241m.\u001b[39mArrowInvalid,\n\u001b[1;32m    577\u001b[0m         pa\u001b[38;5;241m.\u001b[39mArrowNotImplementedError,\n\u001b[1;32m    578\u001b[0m         pa\u001b[38;5;241m.\u001b[39mArrowTypeError) \u001b[38;5;28;01mas\u001b[39;00m e:\n\u001b[1;32m    579\u001b[0m     e\u001b[38;5;241m.\u001b[39margs \u001b[38;5;241m+\u001b[39m\u001b[38;5;241m=\u001b[39m (\u001b[38;5;124m\"\u001b[39m\u001b[38;5;124mConversion failed for column \u001b[39m\u001b[38;5;132;01m{!s}\u001b[39;00m\u001b[38;5;124m with type \u001b[39m\u001b[38;5;132;01m{!s}\u001b[39;00m\u001b[38;5;124m\"\u001b[39m\n\u001b[1;32m    580\u001b[0m                \u001b[38;5;241m.\u001b[39mformat(col\u001b[38;5;241m.\u001b[39mname, col\u001b[38;5;241m.\u001b[39mdtype),)\n\u001b[0;32m--> 581\u001b[0m     \u001b[38;5;28;01mraise\u001b[39;00m e\n\u001b[1;32m    582\u001b[0m \u001b[38;5;28;01mif\u001b[39;00m \u001b[38;5;129;01mnot\u001b[39;00m field_nullable \u001b[38;5;129;01mand\u001b[39;00m result\u001b[38;5;241m.\u001b[39mnull_count \u001b[38;5;241m>\u001b[39m \u001b[38;5;241m0\u001b[39m:\n\u001b[1;32m    583\u001b[0m     \u001b[38;5;28;01mraise\u001b[39;00m \u001b[38;5;167;01mValueError\u001b[39;00m(\u001b[38;5;124m\"\u001b[39m\u001b[38;5;124mField \u001b[39m\u001b[38;5;132;01m{}\u001b[39;00m\u001b[38;5;124m was non-nullable but pandas column \u001b[39m\u001b[38;5;124m\"\u001b[39m\n\u001b[1;32m    584\u001b[0m                      \u001b[38;5;124m\"\u001b[39m\u001b[38;5;124mhad \u001b[39m\u001b[38;5;132;01m{}\u001b[39;00m\u001b[38;5;124m null values\u001b[39m\u001b[38;5;124m\"\u001b[39m\u001b[38;5;241m.\u001b[39mformat(\u001b[38;5;28mstr\u001b[39m(field),\n\u001b[1;32m    585\u001b[0m                                                  result\u001b[38;5;241m.\u001b[39mnull_count))\n",
      "File \u001b[0;32m~/.pyenv/versions/3.9.7/envs/wint/lib/python3.9/site-packages/pyarrow/pandas_compat.py:575\u001b[0m, in \u001b[0;36mdataframe_to_arrays.<locals>.convert_column\u001b[0;34m(col, field)\u001b[0m\n\u001b[1;32m    572\u001b[0m     type_ \u001b[38;5;241m=\u001b[39m field\u001b[38;5;241m.\u001b[39mtype\n\u001b[1;32m    574\u001b[0m \u001b[38;5;28;01mtry\u001b[39;00m:\n\u001b[0;32m--> 575\u001b[0m     result \u001b[38;5;241m=\u001b[39m \u001b[43mpa\u001b[49m\u001b[38;5;241;43m.\u001b[39;49m\u001b[43marray\u001b[49m\u001b[43m(\u001b[49m\u001b[43mcol\u001b[49m\u001b[43m,\u001b[49m\u001b[43m \u001b[49m\u001b[38;5;28;43mtype\u001b[39;49m\u001b[38;5;241;43m=\u001b[39;49m\u001b[43mtype_\u001b[49m\u001b[43m,\u001b[49m\u001b[43m \u001b[49m\u001b[43mfrom_pandas\u001b[49m\u001b[38;5;241;43m=\u001b[39;49m\u001b[38;5;28;43;01mTrue\u001b[39;49;00m\u001b[43m,\u001b[49m\u001b[43m \u001b[49m\u001b[43msafe\u001b[49m\u001b[38;5;241;43m=\u001b[39;49m\u001b[43msafe\u001b[49m\u001b[43m)\u001b[49m\n\u001b[1;32m    576\u001b[0m \u001b[38;5;28;01mexcept\u001b[39;00m (pa\u001b[38;5;241m.\u001b[39mArrowInvalid,\n\u001b[1;32m    577\u001b[0m         pa\u001b[38;5;241m.\u001b[39mArrowNotImplementedError,\n\u001b[1;32m    578\u001b[0m         pa\u001b[38;5;241m.\u001b[39mArrowTypeError) \u001b[38;5;28;01mas\u001b[39;00m e:\n\u001b[1;32m    579\u001b[0m     e\u001b[38;5;241m.\u001b[39margs \u001b[38;5;241m+\u001b[39m\u001b[38;5;241m=\u001b[39m (\u001b[38;5;124m\"\u001b[39m\u001b[38;5;124mConversion failed for column \u001b[39m\u001b[38;5;132;01m{!s}\u001b[39;00m\u001b[38;5;124m with type \u001b[39m\u001b[38;5;132;01m{!s}\u001b[39;00m\u001b[38;5;124m\"\u001b[39m\n\u001b[1;32m    580\u001b[0m                \u001b[38;5;241m.\u001b[39mformat(col\u001b[38;5;241m.\u001b[39mname, col\u001b[38;5;241m.\u001b[39mdtype),)\n",
      "File \u001b[0;32m~/.pyenv/versions/3.9.7/envs/wint/lib/python3.9/site-packages/pyarrow/array.pxi:312\u001b[0m, in \u001b[0;36mpyarrow.lib.array\u001b[0;34m()\u001b[0m\n",
      "File \u001b[0;32m~/.pyenv/versions/3.9.7/envs/wint/lib/python3.9/site-packages/pyarrow/array.pxi:83\u001b[0m, in \u001b[0;36mpyarrow.lib._ndarray_to_array\u001b[0;34m()\u001b[0m\n",
      "File \u001b[0;32m~/.pyenv/versions/3.9.7/envs/wint/lib/python3.9/site-packages/pyarrow/error.pxi:123\u001b[0m, in \u001b[0;36mpyarrow.lib.check_status\u001b[0;34m()\u001b[0m\n",
      "\u001b[0;31mArrowTypeError\u001b[0m: (\"Expected bytes, got a 'int' object\", 'Conversion failed for column 0 with type object')"
     ]
    }
   ],
   "source": [
    "import pandas as pd\n",
    "\n",
    "# repeat data generation so tests are independent :)\n",
    "test_data = [[\"Alice\", 42, 0.85, \"lion\"], [\"Bob\", 77, 0.5, \"dragon\"], [\"Charlie\", 23, 0.99, \"unicorn\"]]\n",
    "test_list = []\n",
    "for i in test_data:\n",
    "    human = {\"name\" : i[0], \"fav_number\" : i[1], \"model_acc\" : i[2], \"fav_animal\" : i[3]}\n",
    "    test_list.append(human)\n",
    "\n",
    "test_dict = { i : d for i, d in enumerate(test_list)}\n",
    "df = pd.DataFrame.from_dict(test_dict)\n",
    "print(df)\n",
    "humans_df = weave.save(df, \"human_df\")\n",
    "humans_df"
   ]
  },
  {
   "cell_type": "markdown",
   "id": "8d151089",
   "metadata": {},
   "source": [
    "## Retrieve previously saved Table"
   ]
  },
  {
   "cell_type": "code",
   "execution_count": 7,
   "id": "b3ab17e9",
   "metadata": {},
   "outputs": [
    {
     "data": {
      "text/html": [
       "\n",
       "        <iframe\n",
       "            width=\"100%\"\n",
       "            height=\"400px\"\n",
       "            src=\"http://127.0.0.1:53803/__frontend/weave_jupyter/__frontend/weave_jupyter?fullScreen&expNode=%7B%22nodeType%22%3A%20%22output%22%2C%20%22type%22%3A%20%7B%22type%22%3A%20%22list%22%2C%20%22objectType%22%3A%20%7B%22type%22%3A%20%22typedDict%22%2C%20%22propertyTypes%22%3A%20%7B%22name%22%3A%20%22string%22%2C%20%22fav_number%22%3A%20%22int%22%2C%20%22model_acc%22%3A%20%22float%22%2C%20%22fav_animal%22%3A%20%22string%22%7D%7D%7D%2C%20%22fromOp%22%3A%20%7B%22name%22%3A%20%22get%22%2C%20%22inputs%22%3A%20%7B%22uri%22%3A%20%7B%22nodeType%22%3A%20%22const%22%2C%20%22type%22%3A%20%22string%22%2C%20%22val%22%3A%20%22local-artifact%3A///tmp/local-artifacts/humans/8962655ce7ae64e3c25df30aea4607ec%22%7D%7D%7D%7D\"\n",
       "            frameborder=\"0\"\n",
       "            allowfullscreen\n",
       "            \n",
       "        ></iframe>\n",
       "        "
      ],
      "text/plain": [
       "<IPython.lib.display.IFrame at 0x162533730>"
      ]
     },
     "metadata": {},
     "output_type": "display_data"
    }
   ],
   "source": [
    "new_humans = weave.get(\"local-artifact:///tmp/local-artifacts/humans/8962655ce7ae64e3c25df30aea4607ec\")\n",
    "new_humans"
   ]
  },
  {
   "cell_type": "markdown",
   "id": "40645dce",
   "metadata": {},
   "source": [
    "## Fetch a Table from an existing run in prod"
   ]
  },
  {
   "cell_type": "code",
   "execution_count": 9,
   "id": "918ea348",
   "metadata": {},
   "outputs": [],
   "source": [
    "runs = weave.ops.project('stacey', 'joy').runs()"
   ]
  },
  {
   "cell_type": "code",
   "execution_count": 10,
   "id": "d2a768ed",
   "metadata": {
    "scrolled": true
   },
   "outputs": [
    {
     "data": {
      "text/html": [
       "\n",
       "        <iframe\n",
       "            width=\"100%\"\n",
       "            height=\"400px\"\n",
       "            src=\"http://127.0.0.1:53803/__frontend/weave_jupyter/__frontend/weave_jupyter?fullScreen&expNode=%7B%22nodeType%22%3A%20%22output%22%2C%20%22type%22%3A%20%7B%22type%22%3A%20%22runs%22%2C%20%22objectType%22%3A%20%22run%22%7D%2C%20%22fromOp%22%3A%20%7B%22name%22%3A%20%22project-runs%22%2C%20%22inputs%22%3A%20%7B%22project%22%3A%20%7B%22nodeType%22%3A%20%22output%22%2C%20%22type%22%3A%20%22project%22%2C%20%22fromOp%22%3A%20%7B%22name%22%3A%20%22root-project%22%2C%20%22inputs%22%3A%20%7B%22entityName%22%3A%20%7B%22nodeType%22%3A%20%22const%22%2C%20%22type%22%3A%20%22string%22%2C%20%22val%22%3A%20%22stacey%22%7D%2C%20%22projectName%22%3A%20%7B%22nodeType%22%3A%20%22const%22%2C%20%22type%22%3A%20%22string%22%2C%20%22val%22%3A%20%22joy%22%7D%7D%7D%7D%7D%7D%7D\"\n",
       "            frameborder=\"0\"\n",
       "            allowfullscreen\n",
       "            \n",
       "        ></iframe>\n",
       "        "
      ],
      "text/plain": [
       "<IPython.lib.display.IFrame at 0x1632f2d90>"
      ]
     },
     "metadata": {},
     "output_type": "display_data"
    },
    {
     "name": "stderr",
     "output_type": "stream",
     "text": [
      "[2022-09-14 18:15:54,540] ERROR in execute (Thread Name: Thread-6): Exception during execution of: project(\"stacey\", \"joy\").runs().offset(0)\n",
      "[2022-09-14 18:15:54,542] ERROR in app (Thread Name: Thread-6): Exception on /__weave/execute [POST]\n",
      "Traceback (most recent call last):\n",
      "  File \"/Users/stacey/.pyenv/versions/3.9.7/envs/wint/lib/python3.9/site-packages/flask/app.py\", line 2077, in wsgi_app\n",
      "    response = self.full_dispatch_request()\n",
      "  File \"/Users/stacey/.pyenv/versions/3.9.7/envs/wint/lib/python3.9/site-packages/flask/app.py\", line 1525, in full_dispatch_request\n",
      "    rv = self.handle_user_exception(e)\n",
      "  File \"/Users/stacey/.pyenv/versions/3.9.7/envs/wint/lib/python3.9/site-packages/flask_cors/extension.py\", line 165, in wrapped_function\n",
      "    return cors_after_request(app.make_response(f(*args, **kwargs)))\n",
      "  File \"/Users/stacey/.pyenv/versions/3.9.7/envs/wint/lib/python3.9/site-packages/flask/app.py\", line 1523, in full_dispatch_request\n",
      "    rv = self.dispatch_request()\n",
      "  File \"/Users/stacey/.pyenv/versions/3.9.7/envs/wint/lib/python3.9/site-packages/flask/app.py\", line 1509, in dispatch_request\n",
      "    return self.ensure_sync(self.view_functions[rule.endpoint])(**req.view_args)\n",
      "  File \"/Users/stacey/Code/weave/weave-internal/weave/weave_server.py\", line 155, in execute\n",
      "    response = server.handle_request(request.json, deref=True)\n",
      "  File \"/Users/stacey/Code/weave/weave-internal/weave/server.py\", line 68, in handle_request\n",
      "    return _handle_request(request, deref=deref)\n",
      "  File \"/Users/stacey/Code/weave/weave-internal/weave/server.py\", line 52, in _handle_request\n",
      "    result = execute.execute_nodes(nodes)\n",
      "  File \"/Users/stacey/Code/weave/weave-internal/weave/execute.py\", line 60, in execute_nodes\n",
      "    stats = execute_forward(fg, no_cache=no_cache)\n",
      "  File \"/Users/stacey/Code/weave/weave-internal/weave/execute.py\", line 83, in execute_forward\n",
      "    report = execute_forward_node(fg, forward_node, no_cache=no_cache)\n",
      "  File \"/Users/stacey/Code/weave/weave-internal/weave/execute.py\", line 233, in execute_forward_node\n",
      "    result = execute_sync_op(op_def, inputs)\n",
      "  File \"/Users/stacey/Code/weave/weave-internal/weave/execute.py\", line 132, in execute_sync_op\n",
      "    return op_def.resolve_fn(**inputs)\n",
      "  File \"/Users/stacey/Code/weave/weave-internal/weave/ops_primitives/list_.py\", line 496, in offset\n",
      "    return type_class.NodeMethodsClass.offset.resolve_fn(arr, offset)\n",
      "AttributeError: type object 'RunsOps' has no attribute 'offset'\n"
     ]
    }
   ],
   "source": [
    "runs"
   ]
  },
  {
   "cell_type": "markdown",
   "id": "e247103c",
   "metadata": {},
   "source": [
    "# Table ops\n",
    "\n",
    "## Sort, filter, group by\n",
    "- Try sorting by numeric and string values\n",
    "- Try filtering on numeric values with ranges & equality\n",
    "- Try multiple clauses with \"and\" and \"or\"\n",
    "- Try group by different field types\n",
    "- Try group by before/after sort / filter"
   ]
  },
  {
   "cell_type": "code",
   "execution_count": null,
   "id": "34f4c67c",
   "metadata": {
    "scrolled": false
   },
   "outputs": [],
   "source": [
    "test_data = [[\"Alice\", 42, 0.85, \"lion\", \"fictional\"], [\"Bob\", 77, 0.5, \"dragon\", \"real\"], [\"Charlie\", 23, 0.99, \"unicorn\" ,\"real\"], [\"Daenerys\", 6, 0.99, \"dolphin\", \"fictional\"]]\n",
    "test_list = []\n",
    "for i in test_data:\n",
    "    human = {\"name\" : i[0], \"fav_number\" : i[1], \"model_acc\" : i[2], \"fav_animal\" : i[3], \"team\" : i[4]}\n",
    "    test_list.append(human)\n",
    "\n",
    "test_dict = { i : d for i, d in enumerate(test_list)}\n",
    "humans = weave.save(test_list) #, \"humans\")\n",
    "humans"
   ]
  },
  {
   "cell_type": "markdown",
   "id": "c74ea437",
   "metadata": {},
   "source": [
    "### Aside: type conversion after logging Tables\n",
    "\n",
    "If I enter ints/floats as strings by accident, it would be amazing to be able to fix them\n",
    "via column settings—e.g. by changing the \"Panel\" type in the dropdown or appending \n",
    ".toFloat or .toInt (not sure if we have those)"
   ]
  },
  {
   "cell_type": "code",
   "execution_count": null,
   "id": "3a3be71e",
   "metadata": {},
   "outputs": [],
   "source": [
    "test_data = [[\"Alice\", \"42\", \"0.85\", \"lion\", \"fictional\"], [\"Bob\", \"77\", \"0.5\", \"dragon\", \"real\"], [\"Charlie\", \"23\", \"0.99\", \"unicorn\" ,\"real\"], [\"Daenerys\", \"6\", \"0.99\", \"dolphin\", \"fictional\"]]\n",
    "test_list = []\n",
    "for i in test_data:\n",
    "    human = {\"name\" : i[0], \"fav_number\" : i[1], \"model_acc\" : i[2], \"fav_animal\" : i[3], \"team\" : i[4]}\n",
    "    test_list.append(human)\n",
    "\n",
    "test_dict = { i : d for i, d in enumerate(test_list)}\n",
    "humans = weave.save(test_list) #, \"humans\")\n",
    "humans"
   ]
  },
  {
   "cell_type": "markdown",
   "id": "33fb9aa4",
   "metadata": {},
   "source": [
    "# Make a Weave Op"
   ]
  },
  {
   "cell_type": "code",
   "execution_count": null,
   "id": "94870385",
   "metadata": {},
   "outputs": [],
   "source": [
    "@weave.op(name=\"say_hi\")\n",
    "def add_hello(name:str)->str:\n",
    "    return \"hello \"+ name"
   ]
  },
  {
   "cell_type": "code",
   "execution_count": null,
   "id": "220dfcc0",
   "metadata": {},
   "outputs": [],
   "source": [
    "test_data = [[\"Alice\", 42, 0.85, \"lion\", \"fictional\"], [\"Bob\", 77, 0.5, \"dragon\", \"real\"], [\"Charlie\", 23, 0.99, \"unicorn\" ,\"real\"], [\"Daenerys\", 6, 0.99, \"dolphin\", \"fictional\"]]\n",
    "test_list = []\n",
    "for i in test_data:\n",
    "    human = {\"name\" : i[0], \"fav_number\" : i[1], \"model_acc\" : i[2], \"fav_animal\" : i[3], \"team\" : i[4]}\n",
    "    test_list.append(human)\n",
    "\n",
    "test_dict = { i : d for i, d in enumerate(test_list)}\n",
    "humans = weave.save(test_list)\n",
    "humans"
   ]
  },
  {
   "cell_type": "markdown",
   "id": "39e063f8",
   "metadata": {},
   "source": [
    "## Make a molecule?!"
   ]
  },
  {
   "cell_type": "code",
   "execution_count": null,
   "id": "da764afa",
   "metadata": {},
   "outputs": [],
   "source": [
    "!pip install wandb\n",
    "import wandb\n",
    "path = \"test_molecule.pdb\"\n",
    "molecule = wandb.Molecule(path)\n",
    "mol_data = [{\"protein\" : \"neurotrophin\", \"view_3D\" : molecule}]\n",
    "mols = weave.save(mol_data)\n",
    "mols"
   ]
  }
 ],
 "metadata": {
  "kernelspec": {
   "display_name": "Python 3 (ipykernel)",
   "language": "python",
   "name": "python3"
  },
  "language_info": {
   "codemirror_mode": {
    "name": "ipython",
    "version": 3
   },
   "file_extension": ".py",
   "mimetype": "text/x-python",
   "name": "python",
   "nbconvert_exporter": "python",
   "pygments_lexer": "ipython3",
   "version": "3.9.7"
  }
 },
 "nbformat": 4,
 "nbformat_minor": 5
}
