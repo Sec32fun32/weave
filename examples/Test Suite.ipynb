{
 "cells": [
  {
   "cell_type": "markdown",
   "id": "137551c3",
   "metadata": {},
   "source": [
    "# Weave Form Test Suite"
   ]
  },
  {
   "cell_type": "code",
   "execution_count": 23,
   "id": "1fd450ca",
   "metadata": {},
   "outputs": [],
   "source": [
    "import weave"
   ]
  },
  {
   "cell_type": "markdown",
   "id": "35cd797d",
   "metadata": {},
   "source": [
    "# Make, explore, & save a Table / PanelPlot\n",
    "\n",
    "## From input data, flexibly configure a Table\n",
    "\n",
    "### Raw data / array / dictionary"
   ]
  },
  {
   "cell_type": "code",
   "execution_count": 24,
   "id": "44b1ba2c",
   "metadata": {},
   "outputs": [
    {
     "ename": "FileNotFoundError",
     "evalue": "[Errno 2] No such file or directory: '/tmp/local-artifacts/list/a25990151a982d5b183d819feda01ac4/_obj.type.json'",
     "output_type": "error",
     "traceback": [
      "\u001b[0;31m---------------------------------------------------------------------------\u001b[0m",
      "\u001b[0;31mFileNotFoundError\u001b[0m                         Traceback (most recent call last)",
      "Input \u001b[0;32mIn [24]\u001b[0m, in \u001b[0;36m<cell line: 2>\u001b[0;34m()\u001b[0m\n\u001b[1;32m      1\u001b[0m t \u001b[38;5;241m=\u001b[39m [{\u001b[38;5;124m\"\u001b[39m\u001b[38;5;124mname\u001b[39m\u001b[38;5;124m\"\u001b[39m: \u001b[38;5;124m\"\u001b[39m\u001b[38;5;124mAlice)\u001b[39m\u001b[38;5;124m\"\u001b[39m}, {\u001b[38;5;124m\"\u001b[39m\u001b[38;5;124mname\u001b[39m\u001b[38;5;124m\"\u001b[39m : \u001b[38;5;124m\"\u001b[39m\u001b[38;5;124mBob\u001b[39m\u001b[38;5;124m\"\u001b[39m}, {\u001b[38;5;124m\"\u001b[39m\u001b[38;5;124mname\u001b[39m\u001b[38;5;124m\"\u001b[39m: \u001b[38;5;124m\"\u001b[39m\u001b[38;5;124mCharlie\u001b[39m\u001b[38;5;124m\"\u001b[39m}]\n\u001b[0;32m----> 2\u001b[0m names \u001b[38;5;241m=\u001b[39m \u001b[43mweave\u001b[49m\u001b[38;5;241;43m.\u001b[39;49m\u001b[43msave\u001b[49m\u001b[43m(\u001b[49m\u001b[43mt\u001b[49m\u001b[43m)\u001b[49m \u001b[38;5;66;03m#TODO: why does this fail?, name=\"people\")\u001b[39;00m\n\u001b[1;32m      3\u001b[0m names\n",
      "File \u001b[0;32m~/Code/weave/weave-internal/weave/api.py:37\u001b[0m, in \u001b[0;36msave\u001b[0;34m(node_or_obj, name)\u001b[0m\n\u001b[1;32m     35\u001b[0m \u001b[38;5;28;01melse\u001b[39;00m:\n\u001b[1;32m     36\u001b[0m     ref \u001b[38;5;241m=\u001b[39m _storage\u001b[38;5;241m.\u001b[39msave(node_or_obj, name\u001b[38;5;241m=\u001b[39mname)\n\u001b[0;32m---> 37\u001b[0m     \u001b[38;5;28;01mreturn\u001b[39;00m \u001b[43m_ops\u001b[49m\u001b[38;5;241;43m.\u001b[39;49m\u001b[43mget\u001b[49m\u001b[43m(\u001b[49m\u001b[38;5;28;43mstr\u001b[39;49m\u001b[43m(\u001b[49m\u001b[43mref\u001b[49m\u001b[43m)\u001b[49m\u001b[43m)\u001b[49m\n",
      "File \u001b[0;32m~/Code/weave/weave-internal/weave/op_def.py:75\u001b[0m, in \u001b[0;36mOpDef.__call__\u001b[0;34m(self, *args, **kwargs)\u001b[0m\n\u001b[1;32m     73\u001b[0m \u001b[38;5;28;01mif\u001b[39;00m \u001b[38;5;28mself\u001b[39m\u001b[38;5;241m.\u001b[39minstance \u001b[38;5;129;01mis\u001b[39;00m \u001b[38;5;129;01mnot\u001b[39;00m \u001b[38;5;28;01mNone\u001b[39;00m:\n\u001b[1;32m     74\u001b[0m     \u001b[38;5;28;01mreturn\u001b[39;00m \u001b[38;5;28mself\u001b[39m\u001b[38;5;241m.\u001b[39mcall_fn(\u001b[38;5;28mself\u001b[39m\u001b[38;5;241m.\u001b[39minstance, \u001b[38;5;241m*\u001b[39margs, \u001b[38;5;241m*\u001b[39m\u001b[38;5;241m*\u001b[39mkwargs)\n\u001b[0;32m---> 75\u001b[0m \u001b[38;5;28;01mreturn\u001b[39;00m \u001b[38;5;28;43mself\u001b[39;49m\u001b[38;5;241;43m.\u001b[39;49m\u001b[43mcall_fn\u001b[49m\u001b[43m(\u001b[49m\u001b[38;5;241;43m*\u001b[39;49m\u001b[43margs\u001b[49m\u001b[43m,\u001b[49m\u001b[43m \u001b[49m\u001b[38;5;241;43m*\u001b[39;49m\u001b[38;5;241;43m*\u001b[39;49m\u001b[43mkwargs\u001b[49m\u001b[43m)\u001b[49m\n",
      "File \u001b[0;32m~/Code/weave/weave-internal/weave/lazy.py:166\u001b[0m, in \u001b[0;36mmake_call.<locals>.call\u001b[0;34m(*args, **kwargs)\u001b[0m\n\u001b[1;32m    164\u001b[0m     \u001b[38;5;28;01mreturn\u001b[39;00m eager_call(\u001b[38;5;241m*\u001b[39margs, \u001b[38;5;241m*\u001b[39m\u001b[38;5;241m*\u001b[39mkwargs)\n\u001b[1;32m    165\u001b[0m \u001b[38;5;28;01melse\u001b[39;00m:\n\u001b[0;32m--> 166\u001b[0m     \u001b[38;5;28;01mreturn\u001b[39;00m \u001b[43mlazy_call\u001b[49m\u001b[43m(\u001b[49m\u001b[38;5;241;43m*\u001b[39;49m\u001b[43margs\u001b[49m\u001b[43m,\u001b[49m\u001b[43m \u001b[49m\u001b[38;5;241;43m*\u001b[39;49m\u001b[38;5;241;43m*\u001b[39;49m\u001b[43mkwargs\u001b[49m\u001b[43m)\u001b[49m\n",
      "File \u001b[0;32m~/Code/weave/weave-internal/weave/lazy.py:138\u001b[0m, in \u001b[0;36mmake_lazy_call.<locals>.lazy_call\u001b[0;34m(*args, **kwargs)\u001b[0m\n\u001b[1;32m    136\u001b[0m \u001b[38;5;28;01mdef\u001b[39;00m \u001b[38;5;21mlazy_call\u001b[39m(\u001b[38;5;241m*\u001b[39margs, \u001b[38;5;241m*\u001b[39m\u001b[38;5;241m*\u001b[39mkwargs):\n\u001b[1;32m    137\u001b[0m     bound_params \u001b[38;5;241m=\u001b[39m _bind_params(fq_op_name, sig, args, kwargs, input_type)\n\u001b[0;32m--> 138\u001b[0m     \u001b[38;5;28;01mreturn\u001b[39;00m \u001b[43m_make_output_node\u001b[49m\u001b[43m(\u001b[49m\n\u001b[1;32m    139\u001b[0m \u001b[43m        \u001b[49m\u001b[43mfq_op_name\u001b[49m\u001b[43m,\u001b[49m\u001b[43m \u001b[49m\u001b[43mbound_params\u001b[49m\u001b[43m,\u001b[49m\u001b[43m \u001b[49m\u001b[43moutput_type\u001b[49m\u001b[43m,\u001b[49m\u001b[43m \u001b[49m\u001b[43mrefine_output_type\u001b[49m\n\u001b[1;32m    140\u001b[0m \u001b[43m    \u001b[49m\u001b[43m)\u001b[49m\n",
      "File \u001b[0;32m~/Code/weave/weave-internal/weave/lazy.py:86\u001b[0m, in \u001b[0;36m_make_output_node\u001b[0;34m(fq_op_name, bound_params, output_type_, refine_output_type)\u001b[0m\n\u001b[1;32m     84\u001b[0m         \u001b[38;5;28;01melse\u001b[39;00m:\n\u001b[1;32m     85\u001b[0m             new_input_type[k] \u001b[38;5;241m=\u001b[39m n\u001b[38;5;241m.\u001b[39mtype\n\u001b[0;32m---> 86\u001b[0m     output_type \u001b[38;5;241m=\u001b[39m \u001b[43moutput_type\u001b[49m\u001b[43m(\u001b[49m\u001b[43mnew_input_type\u001b[49m\u001b[43m)\u001b[49m\n\u001b[1;32m     88\u001b[0m name \u001b[38;5;241m=\u001b[39m \u001b[38;5;124m\"\u001b[39m\u001b[38;5;124mOutputNode\u001b[39m\u001b[38;5;124m\"\u001b[39m\n\u001b[1;32m     89\u001b[0m bases \u001b[38;5;241m=\u001b[39m [graph\u001b[38;5;241m.\u001b[39mOutputNode]\n",
      "File \u001b[0;32m~/Code/weave/weave-internal/weave/ops_primitives/weave_api.py:111\u001b[0m, in \u001b[0;36mop_get_return_type_from_inputs\u001b[0;34m(inputs)\u001b[0m\n\u001b[1;32m    110\u001b[0m \u001b[38;5;28;01mdef\u001b[39;00m \u001b[38;5;21mop_get_return_type_from_inputs\u001b[39m(inputs):\n\u001b[0;32m--> 111\u001b[0m     \u001b[38;5;28;01mreturn\u001b[39;00m \u001b[43mop_get_return_type\u001b[49m\u001b[43m(\u001b[49m\u001b[43mget_const_val\u001b[49m\u001b[43m(\u001b[49m\u001b[43minputs\u001b[49m\u001b[43m[\u001b[49m\u001b[38;5;124;43m\"\u001b[39;49m\u001b[38;5;124;43muri\u001b[39;49m\u001b[38;5;124;43m\"\u001b[39;49m\u001b[43m]\u001b[49m\u001b[43m)\u001b[49m\u001b[43m)\u001b[49m\n",
      "File \u001b[0;32m~/Code/weave/weave-internal/weave/ops_primitives/weave_api.py:98\u001b[0m, in \u001b[0;36mop_get_return_type\u001b[0;34m(uri)\u001b[0m\n\u001b[1;32m     97\u001b[0m \u001b[38;5;28;01mdef\u001b[39;00m \u001b[38;5;21mop_get_return_type\u001b[39m(uri):\n\u001b[0;32m---> 98\u001b[0m     \u001b[38;5;28;01mreturn\u001b[39;00m \u001b[43mrefs\u001b[49m\u001b[38;5;241;43m.\u001b[39;49m\u001b[43mRef\u001b[49m\u001b[38;5;241;43m.\u001b[39;49m\u001b[43mfrom_str\u001b[49m\u001b[43m(\u001b[49m\u001b[43muri\u001b[49m\u001b[43m)\u001b[49m\u001b[38;5;241;43m.\u001b[39;49m\u001b[43mtype\u001b[49m\n",
      "File \u001b[0;32m~/Code/weave/weave-internal/weave/refs.py:272\u001b[0m, in \u001b[0;36mLocalArtifactRef.type\u001b[0;34m(self)\u001b[0m\n\u001b[1;32m    266\u001b[0m     \u001b[38;5;28;01mreturn\u001b[39;00m \u001b[38;5;28mself\u001b[39m\u001b[38;5;241m.\u001b[39m_type\n\u001b[1;32m    267\u001b[0m \u001b[38;5;66;03m# if self.path != \"_obj\":\u001b[39;00m\n\u001b[1;32m    268\u001b[0m \u001b[38;5;66;03m#     raise errors.WeaveInternalError(\u001b[39;00m\n\u001b[1;32m    269\u001b[0m \u001b[38;5;66;03m#         \"Trying to load type from a non-root object. Ref should be instantiated with a type for this object: %s %s\"\u001b[39;00m\n\u001b[1;32m    270\u001b[0m \u001b[38;5;66;03m#         % (self.artifact, self.path)\u001b[39;00m\n\u001b[1;32m    271\u001b[0m \u001b[38;5;66;03m#     )\u001b[39;00m\n\u001b[0;32m--> 272\u001b[0m \u001b[38;5;28;01mwith\u001b[39;00m \u001b[38;5;28mself\u001b[39m\u001b[38;5;241m.\u001b[39martifact\u001b[38;5;241m.\u001b[39mopen(\u001b[38;5;124mf\u001b[39m\u001b[38;5;124m\"\u001b[39m\u001b[38;5;132;01m{\u001b[39;00m\u001b[38;5;28mself\u001b[39m\u001b[38;5;241m.\u001b[39mpath\u001b[38;5;132;01m}\u001b[39;00m\u001b[38;5;124m.type.json\u001b[39m\u001b[38;5;124m\"\u001b[39m) \u001b[38;5;28;01mas\u001b[39;00m f:\n\u001b[1;32m    273\u001b[0m     type_json \u001b[38;5;241m=\u001b[39m json\u001b[38;5;241m.\u001b[39mload(f)\n\u001b[1;32m    274\u001b[0m \u001b[38;5;28mself\u001b[39m\u001b[38;5;241m.\u001b[39m_type \u001b[38;5;241m=\u001b[39m types\u001b[38;5;241m.\u001b[39mTypeRegistry\u001b[38;5;241m.\u001b[39mtype_from_dict(type_json)\n",
      "File \u001b[0;32m~/.pyenv/versions/3.9.7/lib/python3.9/contextlib.py:119\u001b[0m, in \u001b[0;36m_GeneratorContextManager.__enter__\u001b[0;34m(self)\u001b[0m\n\u001b[1;32m    117\u001b[0m \u001b[38;5;28;01mdel\u001b[39;00m \u001b[38;5;28mself\u001b[39m\u001b[38;5;241m.\u001b[39margs, \u001b[38;5;28mself\u001b[39m\u001b[38;5;241m.\u001b[39mkwds, \u001b[38;5;28mself\u001b[39m\u001b[38;5;241m.\u001b[39mfunc\n\u001b[1;32m    118\u001b[0m \u001b[38;5;28;01mtry\u001b[39;00m:\n\u001b[0;32m--> 119\u001b[0m     \u001b[38;5;28;01mreturn\u001b[39;00m \u001b[38;5;28;43mnext\u001b[39;49m\u001b[43m(\u001b[49m\u001b[38;5;28;43mself\u001b[39;49m\u001b[38;5;241;43m.\u001b[39;49m\u001b[43mgen\u001b[49m\u001b[43m)\u001b[49m\n\u001b[1;32m    120\u001b[0m \u001b[38;5;28;01mexcept\u001b[39;00m \u001b[38;5;167;01mStopIteration\u001b[39;00m:\n\u001b[1;32m    121\u001b[0m     \u001b[38;5;28;01mraise\u001b[39;00m \u001b[38;5;167;01mRuntimeError\u001b[39;00m(\u001b[38;5;124m\"\u001b[39m\u001b[38;5;124mgenerator didn\u001b[39m\u001b[38;5;124m'\u001b[39m\u001b[38;5;124mt yield\u001b[39m\u001b[38;5;124m\"\u001b[39m) \u001b[38;5;28;01mfrom\u001b[39;00m \u001b[38;5;28mNone\u001b[39m\n",
      "File \u001b[0;32m~/Code/weave/weave-internal/weave/artifacts_local.py:157\u001b[0m, in \u001b[0;36mLocalArtifact.open\u001b[0;34m(self, path, binary)\u001b[0m\n\u001b[1;32m    155\u001b[0m \u001b[38;5;28;01mif\u001b[39;00m binary:\n\u001b[1;32m    156\u001b[0m     mode \u001b[38;5;241m=\u001b[39m \u001b[38;5;124m\"\u001b[39m\u001b[38;5;124mrb\u001b[39m\u001b[38;5;124m\"\u001b[39m\n\u001b[0;32m--> 157\u001b[0m f \u001b[38;5;241m=\u001b[39m \u001b[38;5;28;43mopen\u001b[39;49m\u001b[43m(\u001b[49m\u001b[43mos\u001b[49m\u001b[38;5;241;43m.\u001b[39;49m\u001b[43mpath\u001b[49m\u001b[38;5;241;43m.\u001b[39;49m\u001b[43mjoin\u001b[49m\u001b[43m(\u001b[49m\u001b[38;5;28;43mself\u001b[39;49m\u001b[38;5;241;43m.\u001b[39;49m\u001b[43m_read_dirname\u001b[49m\u001b[43m,\u001b[49m\u001b[43m \u001b[49m\u001b[43mpath\u001b[49m\u001b[43m)\u001b[49m\u001b[43m,\u001b[49m\u001b[43m \u001b[49m\u001b[43mmode\u001b[49m\u001b[43m)\u001b[49m\n\u001b[1;32m    158\u001b[0m \u001b[38;5;28;01myield\u001b[39;00m f\n\u001b[1;32m    159\u001b[0m f\u001b[38;5;241m.\u001b[39mclose()\n",
      "\u001b[0;31mFileNotFoundError\u001b[0m: [Errno 2] No such file or directory: '/tmp/local-artifacts/list/a25990151a982d5b183d819feda01ac4/_obj.type.json'"
     ]
    }
   ],
   "source": [
    "t = [{\"name\": \"Alice)\"}, {\"name\" : \"Bob\"}, {\"name\": \"Charlie\"}]\n",
    "names = weave.save(t) #TODO: why does this fail?, name=\"people\")\n",
    "names"
   ]
  },
  {
   "cell_type": "markdown",
   "id": "1ad99f55",
   "metadata": {},
   "source": [
    "### Slightly fancier dictionary"
   ]
  },
  {
   "cell_type": "code",
   "execution_count": 13,
   "id": "a02f05ed",
   "metadata": {
    "scrolled": false
   },
   "outputs": [
    {
     "data": {
      "text/html": [
       "\n",
       "        <iframe\n",
       "            width=\"100%\"\n",
       "            height=\"400px\"\n",
       "            src=\"http://127.0.0.1:50000/__frontend/weave_jupyter/__frontend/weave_jupyter?fullScreen&expNode=%7B%22nodeType%22%3A%20%22output%22%2C%20%22type%22%3A%20%7B%22type%22%3A%20%22list%22%2C%20%22objectType%22%3A%20%7B%22type%22%3A%20%22typedDict%22%2C%20%22propertyTypes%22%3A%20%7B%22name%22%3A%20%22string%22%2C%20%22fav_number%22%3A%20%22int%22%2C%20%22model_acc%22%3A%20%22float%22%2C%20%22fav_animal%22%3A%20%22string%22%7D%7D%7D%2C%20%22fromOp%22%3A%20%7B%22name%22%3A%20%22get%22%2C%20%22inputs%22%3A%20%7B%22uri%22%3A%20%7B%22nodeType%22%3A%20%22const%22%2C%20%22type%22%3A%20%22string%22%2C%20%22val%22%3A%20%22local-artifact%3A///tmp/local-artifacts/list/8962655ce7ae64e3c25df30aea4607ec%22%7D%7D%7D%7D\"\n",
       "            frameborder=\"0\"\n",
       "            allowfullscreen\n",
       "            \n",
       "        ></iframe>\n",
       "        "
      ],
      "text/plain": [
       "<IPython.lib.display.IFrame at 0x1613f29a0>"
      ]
     },
     "metadata": {},
     "output_type": "display_data"
    },
    {
     "name": "stdout",
     "output_type": "stream",
     "text": [
      "Failed to transform op Object-__getattr__: Invalid output type function\n",
      "Failed to transform op typedDict-pick: Invalid output type function\n",
      "Failed to transform op dict: Requires named args\n",
      "Failed to transform op list-groupby: Invalid output type function\n",
      "Failed to transform op list-map: Invalid output type function\n",
      "Failed to transform op list-pick: Invalid output type function\n",
      "Failed to transform op groupresult-groupby: Invalid output type function\n",
      "Failed to transform op groupresult-map: Invalid output type function\n",
      "Failed to transform op flatten: Invalid output type function\n",
      "Failed to transform op pick: Invalid output type function\n",
      "Failed to transform op map: Invalid output type function\n",
      "Failed to transform op sort: Invalid output type function\n",
      "Failed to transform op groupby: Invalid output type function\n",
      "Failed to transform op list: Requires named args\n",
      "Failed to transform op ArrowTableGroupBy-__getitem__: Invalid output type function\n",
      "Failed to transform op ArrowTableGroupBy-map: Invalid output type function\n",
      "Failed to transform op ArrowWeaveList-groupby: Invalid output type function\n",
      "Failed to transform op ArrowWeaveList-map: Invalid output type function\n",
      "Failed to transform op ArrowWeaveList-pick: Invalid output type function\n",
      "Failed to transform op localpath: Invalid output type function\n",
      "Failed to transform op op-used_by: Invalid output type function\n",
      "Failed to transform op op-objects: Invalid output type function\n",
      "Failed to transform op get: Invalid output type function\n",
      "Failed to transform op dataframeTable-groupby: Invalid output type function\n",
      "Failed to transform op dataframeTable-map: Invalid output type function\n",
      "Failed to transform op dataframeTable-pick: Invalid output type function\n",
      "Failed to transform op sqltable-groupby: Invalid output type function\n",
      "Failed to transform op sqltable-map: Invalid output type function\n",
      "Failed to transform op sqltable-pick: Invalid output type function\n"
     ]
    }
   ],
   "source": [
    "test_data = [[\"Alice\", 42, 0.85, \"lion\"], [\"Bob\", 77, 0.5, \"dragon\"], [\"Charlie\", 23, 0.99, \"unicorn\"]]\n",
    "test_list = []\n",
    "for i in test_data:\n",
    "    human = {\"name\" : i[0], \"fav_number\" : i[1], \"model_acc\" : i[2], \"fav_animal\" : i[3]}\n",
    "    test_list.append(human)\n",
    "humans = weave.save(test_list) #, \"humans\")\n",
    "humans"
   ]
  },
  {
   "cell_type": "markdown",
   "id": "5bc62ada",
   "metadata": {},
   "source": [
    "### Pandas dataframe"
   ]
  },
  {
   "cell_type": "code",
   "execution_count": 14,
   "id": "9e2c7b8d",
   "metadata": {
    "scrolled": false
   },
   "outputs": [
    {
     "name": "stdout",
     "output_type": "stream",
     "text": [
      "                0       1        2\n",
      "name        Alice     Bob  Charlie\n",
      "fav_number     42      77       23\n",
      "model_acc    0.85     0.5     0.99\n",
      "fav_animal   lion  dragon  unicorn\n"
     ]
    },
    {
     "ename": "ArrowTypeError",
     "evalue": "(\"Expected bytes, got a 'int' object\", 'Conversion failed for column 0 with type object')",
     "output_type": "error",
     "traceback": [
      "\u001b[0;31m---------------------------------------------------------------------------\u001b[0m",
      "\u001b[0;31mArrowTypeError\u001b[0m                            Traceback (most recent call last)",
      "Input \u001b[0;32mIn [14]\u001b[0m, in \u001b[0;36m<cell line: 13>\u001b[0;34m()\u001b[0m\n\u001b[1;32m     11\u001b[0m df \u001b[38;5;241m=\u001b[39m pd\u001b[38;5;241m.\u001b[39mDataFrame\u001b[38;5;241m.\u001b[39mfrom_dict(test_dict)\n\u001b[1;32m     12\u001b[0m \u001b[38;5;28mprint\u001b[39m(df)\n\u001b[0;32m---> 13\u001b[0m humans_df \u001b[38;5;241m=\u001b[39m \u001b[43mweave\u001b[49m\u001b[38;5;241;43m.\u001b[39;49m\u001b[43msave\u001b[49m\u001b[43m(\u001b[49m\u001b[43mdf\u001b[49m\u001b[43m,\u001b[49m\u001b[43m \u001b[49m\u001b[38;5;124;43m\"\u001b[39;49m\u001b[38;5;124;43mhuman_df\u001b[39;49m\u001b[38;5;124;43m\"\u001b[39;49m\u001b[43m)\u001b[49m\n\u001b[1;32m     14\u001b[0m humans_df\n",
      "File \u001b[0;32m~/Code/weave/weave-internal/weave/api.py:36\u001b[0m, in \u001b[0;36msave\u001b[0;34m(node_or_obj, name)\u001b[0m\n\u001b[1;32m     34\u001b[0m     \u001b[38;5;28;01mreturn\u001b[39;00m _ops\u001b[38;5;241m.\u001b[39msave(node_or_obj, name\u001b[38;5;241m=\u001b[39mname)\n\u001b[1;32m     35\u001b[0m \u001b[38;5;28;01melse\u001b[39;00m:\n\u001b[0;32m---> 36\u001b[0m     ref \u001b[38;5;241m=\u001b[39m \u001b[43m_storage\u001b[49m\u001b[38;5;241;43m.\u001b[39;49m\u001b[43msave\u001b[49m\u001b[43m(\u001b[49m\u001b[43mnode_or_obj\u001b[49m\u001b[43m,\u001b[49m\u001b[43m \u001b[49m\u001b[43mname\u001b[49m\u001b[38;5;241;43m=\u001b[39;49m\u001b[43mname\u001b[49m\u001b[43m)\u001b[49m\n\u001b[1;32m     37\u001b[0m     \u001b[38;5;28;01mreturn\u001b[39;00m _ops\u001b[38;5;241m.\u001b[39mget(\u001b[38;5;28mstr\u001b[39m(ref))\n",
      "File \u001b[0;32m~/Code/weave/weave-internal/weave/storage.py:134\u001b[0m, in \u001b[0;36msave\u001b[0;34m(obj, name, type, artifact)\u001b[0m\n\u001b[1;32m    128\u001b[0m \u001b[38;5;28;01mdef\u001b[39;00m \u001b[38;5;21msave\u001b[39m(obj, name\u001b[38;5;241m=\u001b[39m\u001b[38;5;28;01mNone\u001b[39;00m, \u001b[38;5;28mtype\u001b[39m\u001b[38;5;241m=\u001b[39m\u001b[38;5;28;01mNone\u001b[39;00m, artifact\u001b[38;5;241m=\u001b[39m\u001b[38;5;28;01mNone\u001b[39;00m) \u001b[38;5;241m-\u001b[39m\u001b[38;5;241m>\u001b[39m refs\u001b[38;5;241m.\u001b[39mLocalArtifactRef:\n\u001b[1;32m    129\u001b[0m     \u001b[38;5;66;03m# print(\"STORAGE SAVE\", name, obj, type, artifact)\u001b[39;00m\n\u001b[1;32m    130\u001b[0m     \u001b[38;5;66;03m# ref = _get_ref(obj)\u001b[39;00m\n\u001b[1;32m    131\u001b[0m     \u001b[38;5;66;03m# if ref is not None:\u001b[39;00m\n\u001b[1;32m    132\u001b[0m     \u001b[38;5;66;03m#     if name is None or ref.artifact._name == name:\u001b[39;00m\n\u001b[1;32m    133\u001b[0m     \u001b[38;5;66;03m#         return ref\u001b[39;00m\n\u001b[0;32m--> 134\u001b[0m     \u001b[38;5;28;01mreturn\u001b[39;00m \u001b[43m_save_or_publish\u001b[49m\u001b[43m(\u001b[49m\u001b[43mobj\u001b[49m\u001b[43m,\u001b[49m\u001b[43m \u001b[49m\u001b[43mname\u001b[49m\u001b[43m,\u001b[49m\u001b[43m \u001b[49m\u001b[38;5;28;43mtype\u001b[39;49m\u001b[43m,\u001b[49m\u001b[43m \u001b[49m\u001b[38;5;28;43;01mFalse\u001b[39;49;00m\u001b[43m,\u001b[49m\u001b[43m \u001b[49m\u001b[43martifact\u001b[49m\u001b[38;5;241;43m=\u001b[39;49m\u001b[43martifact\u001b[49m\u001b[43m)\u001b[49m\n",
      "File \u001b[0;32m~/Code/weave/weave-internal/weave/storage.py:106\u001b[0m, in \u001b[0;36m_save_or_publish\u001b[0;34m(obj, name, type, publish, artifact)\u001b[0m\n\u001b[1;32m    104\u001b[0m         artifact \u001b[38;5;241m=\u001b[39m artifacts_local\u001b[38;5;241m.\u001b[39mLocalArtifact(name)\n\u001b[1;32m    105\u001b[0m artifact\u001b[38;5;241m.\u001b[39mmapper \u001b[38;5;241m=\u001b[39m mappers_python\u001b[38;5;241m.\u001b[39mmap_to_python(wb_type, artifact)\n\u001b[0;32m--> 106\u001b[0m ref \u001b[38;5;241m=\u001b[39m \u001b[43msave_to_artifact\u001b[49m\u001b[43m(\u001b[49m\u001b[43mobj\u001b[49m\u001b[43m,\u001b[49m\u001b[43m \u001b[49m\u001b[43martifact\u001b[49m\u001b[43m,\u001b[49m\u001b[43m \u001b[49m\u001b[38;5;124;43m\"\u001b[39;49m\u001b[38;5;124;43m_obj\u001b[39;49m\u001b[38;5;124;43m\"\u001b[39;49m\u001b[43m,\u001b[49m\u001b[43m \u001b[49m\u001b[43mwb_type\u001b[49m\u001b[43m)\u001b[49m\n\u001b[1;32m    108\u001b[0m \u001b[38;5;66;03m# Only save if we have a ref into the artifact we created above. Otherwise\u001b[39;00m\n\u001b[1;32m    109\u001b[0m \u001b[38;5;66;03m#     nothing new was created, so just return the existing ref.\u001b[39;00m\n\u001b[1;32m    110\u001b[0m \u001b[38;5;28;01mif\u001b[39;00m ref\u001b[38;5;241m.\u001b[39martifact \u001b[38;5;241m==\u001b[39m artifact:\n",
      "File \u001b[0;32m~/Code/weave/weave-internal/weave/storage.py:38\u001b[0m, in \u001b[0;36msave_to_artifact\u001b[0;34m(obj, artifact, name, type_)\u001b[0m\n\u001b[1;32m     36\u001b[0m \u001b[38;5;28;01mif\u001b[39;00m name \u001b[38;5;241m!=\u001b[39m \u001b[38;5;124m\"\u001b[39m\u001b[38;5;124m_obj\u001b[39m\u001b[38;5;124m\"\u001b[39m:\n\u001b[1;32m     37\u001b[0m     name \u001b[38;5;241m=\u001b[39m type_\u001b[38;5;241m.\u001b[39mname\n\u001b[0;32m---> 38\u001b[0m ref_extra \u001b[38;5;241m=\u001b[39m \u001b[43mtype_\u001b[49m\u001b[38;5;241;43m.\u001b[39;49m\u001b[43msave_instance\u001b[49m\u001b[43m(\u001b[49m\u001b[43mobj\u001b[49m\u001b[43m,\u001b[49m\u001b[43m \u001b[49m\u001b[43martifact\u001b[49m\u001b[43m,\u001b[49m\u001b[43m \u001b[49m\u001b[43mname\u001b[49m\u001b[43m)\u001b[49m\n\u001b[1;32m     39\u001b[0m \u001b[38;5;66;03m# If save_instance returned a Ref, return that directly.\u001b[39;00m\n\u001b[1;32m     40\u001b[0m \u001b[38;5;66;03m# TODO: refactor\u001b[39;00m\n\u001b[1;32m     41\u001b[0m \u001b[38;5;28;01mif\u001b[39;00m \u001b[38;5;28misinstance\u001b[39m(ref_extra, refs\u001b[38;5;241m.\u001b[39mRef):\n",
      "File \u001b[0;32m~/Code/weave/weave-internal/weave/ops_primitives/pandas_.py:123\u001b[0m, in \u001b[0;36mDataFrameType.save_instance\u001b[0;34m(self, obj, artifact, name)\u001b[0m\n\u001b[1;32m    122\u001b[0m \u001b[38;5;28;01mdef\u001b[39;00m \u001b[38;5;21msave_instance\u001b[39m(\u001b[38;5;28mself\u001b[39m, obj, artifact, name):\n\u001b[0;32m--> 123\u001b[0m     table \u001b[38;5;241m=\u001b[39m \u001b[43mpa\u001b[49m\u001b[38;5;241;43m.\u001b[39;49m\u001b[43mTable\u001b[49m\u001b[38;5;241;43m.\u001b[39;49m\u001b[43mfrom_pandas\u001b[49m\u001b[43m(\u001b[49m\u001b[43mobj\u001b[49m\u001b[43m)\u001b[49m\n\u001b[1;32m    124\u001b[0m     \u001b[38;5;28;01mwith\u001b[39;00m artifact\u001b[38;5;241m.\u001b[39mnew_file(\u001b[38;5;124mf\u001b[39m\u001b[38;5;124m\"\u001b[39m\u001b[38;5;132;01m{\u001b[39;00mname\u001b[38;5;132;01m}\u001b[39;00m\u001b[38;5;124m.parquet\u001b[39m\u001b[38;5;124m\"\u001b[39m, binary\u001b[38;5;241m=\u001b[39m\u001b[38;5;28;01mTrue\u001b[39;00m) \u001b[38;5;28;01mas\u001b[39;00m f:\n\u001b[1;32m    125\u001b[0m         pq\u001b[38;5;241m.\u001b[39mwrite_table(table, f)\n",
      "File \u001b[0;32m~/.pyenv/versions/3.9.7/envs/wint/lib/python3.9/site-packages/pyarrow/table.pxi:3457\u001b[0m, in \u001b[0;36mpyarrow.lib.Table.from_pandas\u001b[0;34m()\u001b[0m\n",
      "File \u001b[0;32m~/.pyenv/versions/3.9.7/envs/wint/lib/python3.9/site-packages/pyarrow/pandas_compat.py:594\u001b[0m, in \u001b[0;36mdataframe_to_arrays\u001b[0;34m(df, schema, preserve_index, nthreads, columns, safe)\u001b[0m\n\u001b[1;32m    589\u001b[0m     \u001b[38;5;28;01mreturn\u001b[39;00m (\u001b[38;5;28misinstance\u001b[39m(arr, np\u001b[38;5;241m.\u001b[39mndarray) \u001b[38;5;129;01mand\u001b[39;00m\n\u001b[1;32m    590\u001b[0m             arr\u001b[38;5;241m.\u001b[39mflags\u001b[38;5;241m.\u001b[39mcontiguous \u001b[38;5;129;01mand\u001b[39;00m\n\u001b[1;32m    591\u001b[0m             \u001b[38;5;28missubclass\u001b[39m(arr\u001b[38;5;241m.\u001b[39mdtype\u001b[38;5;241m.\u001b[39mtype, np\u001b[38;5;241m.\u001b[39minteger))\n\u001b[1;32m    593\u001b[0m \u001b[38;5;28;01mif\u001b[39;00m nthreads \u001b[38;5;241m==\u001b[39m \u001b[38;5;241m1\u001b[39m:\n\u001b[0;32m--> 594\u001b[0m     arrays \u001b[38;5;241m=\u001b[39m [convert_column(c, f)\n\u001b[1;32m    595\u001b[0m               \u001b[38;5;28;01mfor\u001b[39;00m c, f \u001b[38;5;129;01min\u001b[39;00m \u001b[38;5;28mzip\u001b[39m(columns_to_convert, convert_fields)]\n\u001b[1;32m    596\u001b[0m \u001b[38;5;28;01melse\u001b[39;00m:\n\u001b[1;32m    597\u001b[0m     arrays \u001b[38;5;241m=\u001b[39m []\n",
      "File \u001b[0;32m~/.pyenv/versions/3.9.7/envs/wint/lib/python3.9/site-packages/pyarrow/pandas_compat.py:594\u001b[0m, in \u001b[0;36m<listcomp>\u001b[0;34m(.0)\u001b[0m\n\u001b[1;32m    589\u001b[0m     \u001b[38;5;28;01mreturn\u001b[39;00m (\u001b[38;5;28misinstance\u001b[39m(arr, np\u001b[38;5;241m.\u001b[39mndarray) \u001b[38;5;129;01mand\u001b[39;00m\n\u001b[1;32m    590\u001b[0m             arr\u001b[38;5;241m.\u001b[39mflags\u001b[38;5;241m.\u001b[39mcontiguous \u001b[38;5;129;01mand\u001b[39;00m\n\u001b[1;32m    591\u001b[0m             \u001b[38;5;28missubclass\u001b[39m(arr\u001b[38;5;241m.\u001b[39mdtype\u001b[38;5;241m.\u001b[39mtype, np\u001b[38;5;241m.\u001b[39minteger))\n\u001b[1;32m    593\u001b[0m \u001b[38;5;28;01mif\u001b[39;00m nthreads \u001b[38;5;241m==\u001b[39m \u001b[38;5;241m1\u001b[39m:\n\u001b[0;32m--> 594\u001b[0m     arrays \u001b[38;5;241m=\u001b[39m [\u001b[43mconvert_column\u001b[49m\u001b[43m(\u001b[49m\u001b[43mc\u001b[49m\u001b[43m,\u001b[49m\u001b[43m \u001b[49m\u001b[43mf\u001b[49m\u001b[43m)\u001b[49m\n\u001b[1;32m    595\u001b[0m               \u001b[38;5;28;01mfor\u001b[39;00m c, f \u001b[38;5;129;01min\u001b[39;00m \u001b[38;5;28mzip\u001b[39m(columns_to_convert, convert_fields)]\n\u001b[1;32m    596\u001b[0m \u001b[38;5;28;01melse\u001b[39;00m:\n\u001b[1;32m    597\u001b[0m     arrays \u001b[38;5;241m=\u001b[39m []\n",
      "File \u001b[0;32m~/.pyenv/versions/3.9.7/envs/wint/lib/python3.9/site-packages/pyarrow/pandas_compat.py:581\u001b[0m, in \u001b[0;36mdataframe_to_arrays.<locals>.convert_column\u001b[0;34m(col, field)\u001b[0m\n\u001b[1;32m    576\u001b[0m \u001b[38;5;28;01mexcept\u001b[39;00m (pa\u001b[38;5;241m.\u001b[39mArrowInvalid,\n\u001b[1;32m    577\u001b[0m         pa\u001b[38;5;241m.\u001b[39mArrowNotImplementedError,\n\u001b[1;32m    578\u001b[0m         pa\u001b[38;5;241m.\u001b[39mArrowTypeError) \u001b[38;5;28;01mas\u001b[39;00m e:\n\u001b[1;32m    579\u001b[0m     e\u001b[38;5;241m.\u001b[39margs \u001b[38;5;241m+\u001b[39m\u001b[38;5;241m=\u001b[39m (\u001b[38;5;124m\"\u001b[39m\u001b[38;5;124mConversion failed for column \u001b[39m\u001b[38;5;132;01m{!s}\u001b[39;00m\u001b[38;5;124m with type \u001b[39m\u001b[38;5;132;01m{!s}\u001b[39;00m\u001b[38;5;124m\"\u001b[39m\n\u001b[1;32m    580\u001b[0m                \u001b[38;5;241m.\u001b[39mformat(col\u001b[38;5;241m.\u001b[39mname, col\u001b[38;5;241m.\u001b[39mdtype),)\n\u001b[0;32m--> 581\u001b[0m     \u001b[38;5;28;01mraise\u001b[39;00m e\n\u001b[1;32m    582\u001b[0m \u001b[38;5;28;01mif\u001b[39;00m \u001b[38;5;129;01mnot\u001b[39;00m field_nullable \u001b[38;5;129;01mand\u001b[39;00m result\u001b[38;5;241m.\u001b[39mnull_count \u001b[38;5;241m>\u001b[39m \u001b[38;5;241m0\u001b[39m:\n\u001b[1;32m    583\u001b[0m     \u001b[38;5;28;01mraise\u001b[39;00m \u001b[38;5;167;01mValueError\u001b[39;00m(\u001b[38;5;124m\"\u001b[39m\u001b[38;5;124mField \u001b[39m\u001b[38;5;132;01m{}\u001b[39;00m\u001b[38;5;124m was non-nullable but pandas column \u001b[39m\u001b[38;5;124m\"\u001b[39m\n\u001b[1;32m    584\u001b[0m                      \u001b[38;5;124m\"\u001b[39m\u001b[38;5;124mhad \u001b[39m\u001b[38;5;132;01m{}\u001b[39;00m\u001b[38;5;124m null values\u001b[39m\u001b[38;5;124m\"\u001b[39m\u001b[38;5;241m.\u001b[39mformat(\u001b[38;5;28mstr\u001b[39m(field),\n\u001b[1;32m    585\u001b[0m                                                  result\u001b[38;5;241m.\u001b[39mnull_count))\n",
      "File \u001b[0;32m~/.pyenv/versions/3.9.7/envs/wint/lib/python3.9/site-packages/pyarrow/pandas_compat.py:575\u001b[0m, in \u001b[0;36mdataframe_to_arrays.<locals>.convert_column\u001b[0;34m(col, field)\u001b[0m\n\u001b[1;32m    572\u001b[0m     type_ \u001b[38;5;241m=\u001b[39m field\u001b[38;5;241m.\u001b[39mtype\n\u001b[1;32m    574\u001b[0m \u001b[38;5;28;01mtry\u001b[39;00m:\n\u001b[0;32m--> 575\u001b[0m     result \u001b[38;5;241m=\u001b[39m \u001b[43mpa\u001b[49m\u001b[38;5;241;43m.\u001b[39;49m\u001b[43marray\u001b[49m\u001b[43m(\u001b[49m\u001b[43mcol\u001b[49m\u001b[43m,\u001b[49m\u001b[43m \u001b[49m\u001b[38;5;28;43mtype\u001b[39;49m\u001b[38;5;241;43m=\u001b[39;49m\u001b[43mtype_\u001b[49m\u001b[43m,\u001b[49m\u001b[43m \u001b[49m\u001b[43mfrom_pandas\u001b[49m\u001b[38;5;241;43m=\u001b[39;49m\u001b[38;5;28;43;01mTrue\u001b[39;49;00m\u001b[43m,\u001b[49m\u001b[43m \u001b[49m\u001b[43msafe\u001b[49m\u001b[38;5;241;43m=\u001b[39;49m\u001b[43msafe\u001b[49m\u001b[43m)\u001b[49m\n\u001b[1;32m    576\u001b[0m \u001b[38;5;28;01mexcept\u001b[39;00m (pa\u001b[38;5;241m.\u001b[39mArrowInvalid,\n\u001b[1;32m    577\u001b[0m         pa\u001b[38;5;241m.\u001b[39mArrowNotImplementedError,\n\u001b[1;32m    578\u001b[0m         pa\u001b[38;5;241m.\u001b[39mArrowTypeError) \u001b[38;5;28;01mas\u001b[39;00m e:\n\u001b[1;32m    579\u001b[0m     e\u001b[38;5;241m.\u001b[39margs \u001b[38;5;241m+\u001b[39m\u001b[38;5;241m=\u001b[39m (\u001b[38;5;124m\"\u001b[39m\u001b[38;5;124mConversion failed for column \u001b[39m\u001b[38;5;132;01m{!s}\u001b[39;00m\u001b[38;5;124m with type \u001b[39m\u001b[38;5;132;01m{!s}\u001b[39;00m\u001b[38;5;124m\"\u001b[39m\n\u001b[1;32m    580\u001b[0m                \u001b[38;5;241m.\u001b[39mformat(col\u001b[38;5;241m.\u001b[39mname, col\u001b[38;5;241m.\u001b[39mdtype),)\n",
      "File \u001b[0;32m~/.pyenv/versions/3.9.7/envs/wint/lib/python3.9/site-packages/pyarrow/array.pxi:312\u001b[0m, in \u001b[0;36mpyarrow.lib.array\u001b[0;34m()\u001b[0m\n",
      "File \u001b[0;32m~/.pyenv/versions/3.9.7/envs/wint/lib/python3.9/site-packages/pyarrow/array.pxi:83\u001b[0m, in \u001b[0;36mpyarrow.lib._ndarray_to_array\u001b[0;34m()\u001b[0m\n",
      "File \u001b[0;32m~/.pyenv/versions/3.9.7/envs/wint/lib/python3.9/site-packages/pyarrow/error.pxi:123\u001b[0m, in \u001b[0;36mpyarrow.lib.check_status\u001b[0;34m()\u001b[0m\n",
      "\u001b[0;31mArrowTypeError\u001b[0m: (\"Expected bytes, got a 'int' object\", 'Conversion failed for column 0 with type object')"
     ]
    }
   ],
   "source": [
    "import pandas as pd\n",
    "\n",
    "# repeat data generation so tests are independent :)\n",
    "test_data = [[\"Alice\", 42, 0.85, \"lion\"], [\"Bob\", 77, 0.5, \"dragon\"], [\"Charlie\", 23, 0.99, \"unicorn\"]]\n",
    "test_list = []\n",
    "for i in test_data:\n",
    "    human = {\"name\" : i[0], \"fav_number\" : i[1], \"model_acc\" : i[2], \"fav_animal\" : i[3]}\n",
    "    test_list.append(human)\n",
    "\n",
    "test_dict = { i : d for i, d in enumerate(test_list)}\n",
    "df = pd.DataFrame.from_dict(test_dict)\n",
    "print(df)\n",
    "humans_df = weave.save(df, \"human_df\")\n",
    "humans_df"
   ]
  },
  {
   "cell_type": "markdown",
   "id": "8d151089",
   "metadata": {},
   "source": [
    "## Retrieve previously saved Table"
   ]
  },
  {
   "cell_type": "code",
   "execution_count": 12,
   "id": "b3ab17e9",
   "metadata": {},
   "outputs": [
    {
     "ename": "FileNotFoundError",
     "evalue": "[Errno 2] No such file or directory: '/tmp/local-artifacts/humans/8962655ce7ae64e3c25df30aea4607ec/_obj.type.json'",
     "output_type": "error",
     "traceback": [
      "\u001b[0;31m---------------------------------------------------------------------------\u001b[0m",
      "\u001b[0;31mFileNotFoundError\u001b[0m                         Traceback (most recent call last)",
      "Input \u001b[0;32mIn [12]\u001b[0m, in \u001b[0;36m<cell line: 1>\u001b[0;34m()\u001b[0m\n\u001b[0;32m----> 1\u001b[0m new_humans \u001b[38;5;241m=\u001b[39m \u001b[43mweave\u001b[49m\u001b[38;5;241;43m.\u001b[39;49m\u001b[43mget\u001b[49m\u001b[43m(\u001b[49m\u001b[38;5;124;43m\"\u001b[39;49m\u001b[38;5;124;43mlocal-artifact:///tmp/local-artifacts/humans/8962655ce7ae64e3c25df30aea4607ec\u001b[39;49m\u001b[38;5;124;43m\"\u001b[39;49m\u001b[43m)\u001b[49m\n\u001b[1;32m      2\u001b[0m new_humans\n",
      "File \u001b[0;32m~/Code/weave/weave-internal/weave/api.py:49\u001b[0m, in \u001b[0;36mget\u001b[0;34m(ref_str)\u001b[0m\n\u001b[1;32m     48\u001b[0m \u001b[38;5;28;01mdef\u001b[39;00m \u001b[38;5;21mget\u001b[39m(ref_str):\n\u001b[0;32m---> 49\u001b[0m     obj \u001b[38;5;241m=\u001b[39m \u001b[43m_storage\u001b[49m\u001b[38;5;241;43m.\u001b[39;49m\u001b[43mget\u001b[49m\u001b[43m(\u001b[49m\u001b[43mref_str\u001b[49m\u001b[43m)\u001b[49m\n\u001b[1;32m     50\u001b[0m     ref \u001b[38;5;241m=\u001b[39m _storage\u001b[38;5;241m.\u001b[39m_get_ref(obj)\n\u001b[1;32m     51\u001b[0m     \u001b[38;5;28;01mreturn\u001b[39;00m _weave_internal\u001b[38;5;241m.\u001b[39mmake_const_node(ref\u001b[38;5;241m.\u001b[39mtype, obj)\n",
      "File \u001b[0;32m~/Code/weave/weave-internal/weave/storage.py:140\u001b[0m, in \u001b[0;36mget\u001b[0;34m(uri_s)\u001b[0m\n\u001b[1;32m    138\u001b[0m \u001b[38;5;28;01mif\u001b[39;00m \u001b[38;5;28misinstance\u001b[39m(uri_s, refs\u001b[38;5;241m.\u001b[39mRef):\n\u001b[1;32m    139\u001b[0m     \u001b[38;5;28;01mreturn\u001b[39;00m uri_s\u001b[38;5;241m.\u001b[39mget()\n\u001b[0;32m--> 140\u001b[0m \u001b[38;5;28;01mreturn\u001b[39;00m \u001b[43mrefs\u001b[49m\u001b[38;5;241;43m.\u001b[39;49m\u001b[43mRef\u001b[49m\u001b[38;5;241;43m.\u001b[39;49m\u001b[43mfrom_str\u001b[49m\u001b[43m(\u001b[49m\u001b[43muri_s\u001b[49m\u001b[43m)\u001b[49m\u001b[38;5;241;43m.\u001b[39;49m\u001b[43mget\u001b[49m\u001b[43m(\u001b[49m\u001b[43m)\u001b[49m\n",
      "File \u001b[0;32m~/Code/weave/weave-internal/weave/refs.py:286\u001b[0m, in \u001b[0;36mLocalArtifactRef.get\u001b[0;34m(self)\u001b[0m\n\u001b[1;32m    284\u001b[0m \u001b[38;5;28;01mif\u001b[39;00m \u001b[38;5;28mself\u001b[39m\u001b[38;5;241m.\u001b[39mobj \u001b[38;5;129;01mis\u001b[39;00m \u001b[38;5;129;01mnot\u001b[39;00m \u001b[38;5;28;01mNone\u001b[39;00m:\n\u001b[1;32m    285\u001b[0m     \u001b[38;5;28;01mreturn\u001b[39;00m \u001b[38;5;28mself\u001b[39m\u001b[38;5;241m.\u001b[39mobj\n\u001b[0;32m--> 286\u001b[0m obj \u001b[38;5;241m=\u001b[39m \u001b[38;5;28;43mself\u001b[39;49m\u001b[38;5;241;43m.\u001b[39;49m\u001b[43mtype\u001b[49m\u001b[38;5;241m.\u001b[39mload_instance(\u001b[38;5;28mself\u001b[39m\u001b[38;5;241m.\u001b[39martifact, \u001b[38;5;28mself\u001b[39m\u001b[38;5;241m.\u001b[39mpath, extra\u001b[38;5;241m=\u001b[39m\u001b[38;5;28mself\u001b[39m\u001b[38;5;241m.\u001b[39mextra)\n\u001b[1;32m    287\u001b[0m obj \u001b[38;5;241m=\u001b[39m box\u001b[38;5;241m.\u001b[39mbox(obj)\n\u001b[1;32m    288\u001b[0m put_ref(obj, \u001b[38;5;28mself\u001b[39m)\n",
      "File \u001b[0;32m~/Code/weave/weave-internal/weave/refs.py:272\u001b[0m, in \u001b[0;36mLocalArtifactRef.type\u001b[0;34m(self)\u001b[0m\n\u001b[1;32m    266\u001b[0m     \u001b[38;5;28;01mreturn\u001b[39;00m \u001b[38;5;28mself\u001b[39m\u001b[38;5;241m.\u001b[39m_type\n\u001b[1;32m    267\u001b[0m \u001b[38;5;66;03m# if self.path != \"_obj\":\u001b[39;00m\n\u001b[1;32m    268\u001b[0m \u001b[38;5;66;03m#     raise errors.WeaveInternalError(\u001b[39;00m\n\u001b[1;32m    269\u001b[0m \u001b[38;5;66;03m#         \"Trying to load type from a non-root object. Ref should be instantiated with a type for this object: %s %s\"\u001b[39;00m\n\u001b[1;32m    270\u001b[0m \u001b[38;5;66;03m#         % (self.artifact, self.path)\u001b[39;00m\n\u001b[1;32m    271\u001b[0m \u001b[38;5;66;03m#     )\u001b[39;00m\n\u001b[0;32m--> 272\u001b[0m \u001b[38;5;28;01mwith\u001b[39;00m \u001b[38;5;28mself\u001b[39m\u001b[38;5;241m.\u001b[39martifact\u001b[38;5;241m.\u001b[39mopen(\u001b[38;5;124mf\u001b[39m\u001b[38;5;124m\"\u001b[39m\u001b[38;5;132;01m{\u001b[39;00m\u001b[38;5;28mself\u001b[39m\u001b[38;5;241m.\u001b[39mpath\u001b[38;5;132;01m}\u001b[39;00m\u001b[38;5;124m.type.json\u001b[39m\u001b[38;5;124m\"\u001b[39m) \u001b[38;5;28;01mas\u001b[39;00m f:\n\u001b[1;32m    273\u001b[0m     type_json \u001b[38;5;241m=\u001b[39m json\u001b[38;5;241m.\u001b[39mload(f)\n\u001b[1;32m    274\u001b[0m \u001b[38;5;28mself\u001b[39m\u001b[38;5;241m.\u001b[39m_type \u001b[38;5;241m=\u001b[39m types\u001b[38;5;241m.\u001b[39mTypeRegistry\u001b[38;5;241m.\u001b[39mtype_from_dict(type_json)\n",
      "File \u001b[0;32m~/.pyenv/versions/3.9.7/lib/python3.9/contextlib.py:119\u001b[0m, in \u001b[0;36m_GeneratorContextManager.__enter__\u001b[0;34m(self)\u001b[0m\n\u001b[1;32m    117\u001b[0m \u001b[38;5;28;01mdel\u001b[39;00m \u001b[38;5;28mself\u001b[39m\u001b[38;5;241m.\u001b[39margs, \u001b[38;5;28mself\u001b[39m\u001b[38;5;241m.\u001b[39mkwds, \u001b[38;5;28mself\u001b[39m\u001b[38;5;241m.\u001b[39mfunc\n\u001b[1;32m    118\u001b[0m \u001b[38;5;28;01mtry\u001b[39;00m:\n\u001b[0;32m--> 119\u001b[0m     \u001b[38;5;28;01mreturn\u001b[39;00m \u001b[38;5;28;43mnext\u001b[39;49m\u001b[43m(\u001b[49m\u001b[38;5;28;43mself\u001b[39;49m\u001b[38;5;241;43m.\u001b[39;49m\u001b[43mgen\u001b[49m\u001b[43m)\u001b[49m\n\u001b[1;32m    120\u001b[0m \u001b[38;5;28;01mexcept\u001b[39;00m \u001b[38;5;167;01mStopIteration\u001b[39;00m:\n\u001b[1;32m    121\u001b[0m     \u001b[38;5;28;01mraise\u001b[39;00m \u001b[38;5;167;01mRuntimeError\u001b[39;00m(\u001b[38;5;124m\"\u001b[39m\u001b[38;5;124mgenerator didn\u001b[39m\u001b[38;5;124m'\u001b[39m\u001b[38;5;124mt yield\u001b[39m\u001b[38;5;124m\"\u001b[39m) \u001b[38;5;28;01mfrom\u001b[39;00m \u001b[38;5;28mNone\u001b[39m\n",
      "File \u001b[0;32m~/Code/weave/weave-internal/weave/artifacts_local.py:157\u001b[0m, in \u001b[0;36mLocalArtifact.open\u001b[0;34m(self, path, binary)\u001b[0m\n\u001b[1;32m    155\u001b[0m \u001b[38;5;28;01mif\u001b[39;00m binary:\n\u001b[1;32m    156\u001b[0m     mode \u001b[38;5;241m=\u001b[39m \u001b[38;5;124m\"\u001b[39m\u001b[38;5;124mrb\u001b[39m\u001b[38;5;124m\"\u001b[39m\n\u001b[0;32m--> 157\u001b[0m f \u001b[38;5;241m=\u001b[39m \u001b[38;5;28;43mopen\u001b[39;49m\u001b[43m(\u001b[49m\u001b[43mos\u001b[49m\u001b[38;5;241;43m.\u001b[39;49m\u001b[43mpath\u001b[49m\u001b[38;5;241;43m.\u001b[39;49m\u001b[43mjoin\u001b[49m\u001b[43m(\u001b[49m\u001b[38;5;28;43mself\u001b[39;49m\u001b[38;5;241;43m.\u001b[39;49m\u001b[43m_read_dirname\u001b[49m\u001b[43m,\u001b[49m\u001b[43m \u001b[49m\u001b[43mpath\u001b[49m\u001b[43m)\u001b[49m\u001b[43m,\u001b[49m\u001b[43m \u001b[49m\u001b[43mmode\u001b[49m\u001b[43m)\u001b[49m\n\u001b[1;32m    158\u001b[0m \u001b[38;5;28;01myield\u001b[39;00m f\n\u001b[1;32m    159\u001b[0m f\u001b[38;5;241m.\u001b[39mclose()\n",
      "\u001b[0;31mFileNotFoundError\u001b[0m: [Errno 2] No such file or directory: '/tmp/local-artifacts/humans/8962655ce7ae64e3c25df30aea4607ec/_obj.type.json'"
     ]
    }
   ],
   "source": [
    "new_humans = weave.get(\"local-artifact:///tmp/local-artifacts/humans/8962655ce7ae64e3c25df30aea4607ec\")\n",
    "new_humans"
   ]
  },
  {
   "cell_type": "markdown",
   "id": "40645dce",
   "metadata": {},
   "source": [
    "## Fetch a Table from an existing run in prod"
   ]
  },
  {
   "cell_type": "code",
   "execution_count": 15,
   "id": "918ea348",
   "metadata": {},
   "outputs": [],
   "source": [
    "runs = weave.ops.project('stacey', 'joy').runs()"
   ]
  },
  {
   "cell_type": "code",
   "execution_count": 16,
   "id": "d2a768ed",
   "metadata": {
    "scrolled": true
   },
   "outputs": [
    {
     "data": {
      "text/html": [
       "\n",
       "        <iframe\n",
       "            width=\"100%\"\n",
       "            height=\"400px\"\n",
       "            src=\"http://127.0.0.1:50000/__frontend/weave_jupyter/__frontend/weave_jupyter?fullScreen&expNode=%7B%22nodeType%22%3A%20%22output%22%2C%20%22type%22%3A%20%7B%22type%22%3A%20%22runs%22%2C%20%22objectType%22%3A%20%22run%22%7D%2C%20%22fromOp%22%3A%20%7B%22name%22%3A%20%22project-runs%22%2C%20%22inputs%22%3A%20%7B%22project%22%3A%20%7B%22nodeType%22%3A%20%22output%22%2C%20%22type%22%3A%20%22project%22%2C%20%22fromOp%22%3A%20%7B%22name%22%3A%20%22root-project%22%2C%20%22inputs%22%3A%20%7B%22entityName%22%3A%20%7B%22nodeType%22%3A%20%22const%22%2C%20%22type%22%3A%20%22string%22%2C%20%22val%22%3A%20%22stacey%22%7D%2C%20%22projectName%22%3A%20%7B%22nodeType%22%3A%20%22const%22%2C%20%22type%22%3A%20%22string%22%2C%20%22val%22%3A%20%22joy%22%7D%7D%7D%7D%7D%7D%7D\"\n",
       "            frameborder=\"0\"\n",
       "            allowfullscreen\n",
       "            \n",
       "        ></iframe>\n",
       "        "
      ],
      "text/plain": [
       "<IPython.lib.display.IFrame at 0x1617b9e50>"
      ]
     },
     "metadata": {},
     "output_type": "display_data"
    },
    {
     "name": "stderr",
     "output_type": "stream",
     "text": [
      "[2022-09-09 08:34:23,493] ERROR in execute (Thread Name: Thread-6): Exception during execution of: project(\"stacey\", \"joy\")\n",
      "[2022-09-09 08:34:23,494] ERROR in app (Thread Name: Thread-6): Exception on /__weave/execute [POST]\n",
      "Traceback (most recent call last):\n",
      "  File \"/Users/stacey/.pyenv/versions/3.9.7/envs/wint/lib/python3.9/site-packages/flask/app.py\", line 2077, in wsgi_app\n",
      "    response = self.full_dispatch_request()\n",
      "  File \"/Users/stacey/.pyenv/versions/3.9.7/envs/wint/lib/python3.9/site-packages/flask/app.py\", line 1525, in full_dispatch_request\n",
      "    rv = self.handle_user_exception(e)\n",
      "  File \"/Users/stacey/.pyenv/versions/3.9.7/envs/wint/lib/python3.9/site-packages/flask_cors/extension.py\", line 165, in wrapped_function\n",
      "    return cors_after_request(app.make_response(f(*args, **kwargs)))\n",
      "  File \"/Users/stacey/.pyenv/versions/3.9.7/envs/wint/lib/python3.9/site-packages/flask/app.py\", line 1523, in full_dispatch_request\n",
      "    rv = self.dispatch_request()\n",
      "  File \"/Users/stacey/.pyenv/versions/3.9.7/envs/wint/lib/python3.9/site-packages/flask/app.py\", line 1509, in dispatch_request\n",
      "    return self.ensure_sync(self.view_functions[rule.endpoint])(**req.view_args)\n",
      "  File \"/Users/stacey/Code/weave/weave-internal/weave/weave_server.py\", line 155, in execute\n",
      "    response = server.handle_request(request.json, deref=True)\n",
      "  File \"/Users/stacey/Code/weave/weave-internal/weave/server.py\", line 68, in handle_request\n",
      "    return _handle_request(request, deref=deref)\n",
      "  File \"/Users/stacey/Code/weave/weave-internal/weave/server.py\", line 52, in _handle_request\n",
      "    result = execute.execute_nodes(nodes)\n",
      "  File \"/Users/stacey/Code/weave/weave-internal/weave/execute.py\", line 57, in execute_nodes\n",
      "    stats = execute_forward(fg, no_cache=no_cache)\n",
      "  File \"/Users/stacey/Code/weave/weave-internal/weave/execute.py\", line 80, in execute_forward\n",
      "    execute_forward_node(fg, forward_node, no_cache=no_cache)\n",
      "  File \"/Users/stacey/Code/weave/weave-internal/weave/execute.py\", line 165, in execute_forward_node\n",
      "    run = TRACE_LOCAL.get_run(run_id)\n",
      "  File \"/Users/stacey/Code/weave/weave-internal/weave/trace_local.py\", line 58, in get_run\n",
      "    run = storage.get_local_version(self._run_artifact_name(run_id), \"latest\")\n",
      "  File \"/Users/stacey/Code/weave/weave-internal/weave/refs.py\", line 350, in get_local_version\n",
      "    return ref.get()\n",
      "  File \"/Users/stacey/Code/weave/weave-internal/weave/refs.py\", line 286, in get\n",
      "    obj = self.type.load_instance(self.artifact, self.path, extra=self.extra)\n",
      "  File \"/Users/stacey/Code/weave/weave-internal/weave/refs.py\", line 272, in type\n",
      "    with self.artifact.open(f\"{self.path}.type.json\") as f:\n",
      "  File \"/Users/stacey/.pyenv/versions/3.9.7/lib/python3.9/contextlib.py\", line 119, in __enter__\n",
      "    return next(self.gen)\n",
      "  File \"/Users/stacey/Code/weave/weave-internal/weave/artifacts_local.py\", line 157, in open\n",
      "    f = open(os.path.join(self._read_dirname, path), mode)\n",
      "FileNotFoundError: [Errno 2] No such file or directory: '/tmp/local-artifacts/run-root-project-599104dda481461d15a0f021eb85a144/d9f70fbc1db54e6e5fe5cffab901d56c/_obj.type.json'\n"
     ]
    },
    {
     "name": "stdout",
     "output_type": "stream",
     "text": [
      "Failed to transform op Object-__getattr__: Invalid output type function\n",
      "Failed to transform op typedDict-pick: Invalid output type function\n",
      "Failed to transform op dict: Requires named args\n",
      "Failed to transform op list-groupby: Invalid output type function\n",
      "Failed to transform op list-map: Invalid output type function\n",
      "Failed to transform op list-pick: Invalid output type function\n",
      "Failed to transform op groupresult-groupby: Invalid output type function\n",
      "Failed to transform op groupresult-map: Invalid output type function\n",
      "Failed to transform op flatten: Invalid output type function\n",
      "Failed to transform op pick: Invalid output type function\n",
      "Failed to transform op map: Invalid output type function\n",
      "Failed to transform op sort: Invalid output type function\n",
      "Failed to transform op groupby: Invalid output type function\n",
      "Failed to transform op list: Requires named args\n",
      "Failed to transform op ArrowTableGroupBy-__getitem__: Invalid output type function\n",
      "Failed to transform op ArrowTableGroupBy-map: Invalid output type function\n",
      "Failed to transform op ArrowWeaveList-groupby: Invalid output type function\n",
      "Failed to transform op ArrowWeaveList-map: Invalid output type function\n",
      "Failed to transform op ArrowWeaveList-pick: Invalid output type function\n",
      "Failed to transform op localpath: Invalid output type function\n",
      "Failed to transform op op-used_by: Invalid output type function\n",
      "Failed to transform op op-objects: Invalid output type function\n",
      "Failed to transform op get: Invalid output type function\n",
      "Failed to transform op dataframeTable-groupby: Invalid output type function\n",
      "Failed to transform op dataframeTable-map: Invalid output type function\n",
      "Failed to transform op dataframeTable-pick: Invalid output type function\n",
      "Failed to transform op sqltable-groupby: Invalid output type function\n",
      "Failed to transform op sqltable-map: Invalid output type function\n",
      "Failed to transform op sqltable-pick: Invalid output type function\n"
     ]
    }
   ],
   "source": [
    "runs"
   ]
  },
  {
   "cell_type": "markdown",
   "id": "e247103c",
   "metadata": {},
   "source": [
    "# Table ops\n",
    "\n",
    "## Sort, filter, group by\n",
    "- Try sorting by numeric and string values\n",
    "- Try filtering on numeric values with ranges & equality\n",
    "- Try multiple clauses with \"and\" and \"or\"\n",
    "- Try group by different field types\n",
    "- Try group by before/after sort / filter"
   ]
  },
  {
   "cell_type": "code",
   "execution_count": 18,
   "id": "34f4c67c",
   "metadata": {
    "scrolled": false
   },
   "outputs": [
    {
     "data": {
      "text/html": [
       "\n",
       "        <iframe\n",
       "            width=\"100%\"\n",
       "            height=\"400px\"\n",
       "            src=\"http://127.0.0.1:50000/__frontend/weave_jupyter/__frontend/weave_jupyter?fullScreen&expNode=%7B%22nodeType%22%3A%20%22output%22%2C%20%22type%22%3A%20%7B%22type%22%3A%20%22list%22%2C%20%22objectType%22%3A%20%7B%22type%22%3A%20%22typedDict%22%2C%20%22propertyTypes%22%3A%20%7B%22name%22%3A%20%22string%22%2C%20%22fav_number%22%3A%20%22int%22%2C%20%22model_acc%22%3A%20%22float%22%2C%20%22fav_animal%22%3A%20%22string%22%2C%20%22team%22%3A%20%22string%22%7D%7D%7D%2C%20%22fromOp%22%3A%20%7B%22name%22%3A%20%22get%22%2C%20%22inputs%22%3A%20%7B%22uri%22%3A%20%7B%22nodeType%22%3A%20%22const%22%2C%20%22type%22%3A%20%22string%22%2C%20%22val%22%3A%20%22local-artifact%3A///tmp/local-artifacts/list/da7abd28a8c4f79dbfa57f1ed6a9c1da%22%7D%7D%7D%7D\"\n",
       "            frameborder=\"0\"\n",
       "            allowfullscreen\n",
       "            \n",
       "        ></iframe>\n",
       "        "
      ],
      "text/plain": [
       "<IPython.lib.display.IFrame at 0x161e8ffd0>"
      ]
     },
     "metadata": {},
     "output_type": "display_data"
    },
    {
     "name": "stdout",
     "output_type": "stream",
     "text": [
      "Failed to transform op Object-__getattr__: Invalid output type function\n",
      "Failed to transform op typedDict-pick: Invalid output type function\n",
      "Failed to transform op dict: Requires named args\n",
      "Failed to transform op list-groupby: Invalid output type function\n",
      "Failed to transform op list-map: Invalid output type function\n",
      "Failed to transform op list-pick: Invalid output type function\n",
      "Failed to transform op groupresult-groupby: Invalid output type function\n",
      "Failed to transform op groupresult-map: Invalid output type function\n",
      "Failed to transform op flatten: Invalid output type function\n",
      "Failed to transform op pick: Invalid output type function\n",
      "Failed to transform op map: Invalid output type function\n",
      "Failed to transform op sort: Invalid output type function\n",
      "Failed to transform op groupby: Invalid output type function\n",
      "Failed to transform op list: Requires named args\n",
      "Failed to transform op ArrowTableGroupBy-__getitem__: Invalid output type function\n",
      "Failed to transform op ArrowTableGroupBy-map: Invalid output type function\n",
      "Failed to transform op ArrowWeaveList-groupby: Invalid output type function\n",
      "Failed to transform op ArrowWeaveList-map: Invalid output type function\n",
      "Failed to transform op ArrowWeaveList-pick: Invalid output type function\n",
      "Failed to transform op localpath: Invalid output type function\n",
      "Failed to transform op op-used_by: Invalid output type function\n",
      "Failed to transform op op-objects: Invalid output type function\n",
      "Failed to transform op get: Invalid output type function\n",
      "Failed to transform op dataframeTable-groupby: Invalid output type function\n",
      "Failed to transform op dataframeTable-map: Invalid output type function\n",
      "Failed to transform op dataframeTable-pick: Invalid output type function\n",
      "Failed to transform op sqltable-groupby: Invalid output type function\n",
      "Failed to transform op sqltable-map: Invalid output type function\n",
      "Failed to transform op sqltable-pick: Invalid output type function\n"
     ]
    }
   ],
   "source": [
    "test_data = [[\"Alice\", 42, 0.85, \"lion\", \"fictional\"], [\"Bob\", 77, 0.5, \"dragon\", \"real\"], [\"Charlie\", 23, 0.99, \"unicorn\" ,\"real\"], [\"Daenerys\", 6, 0.99, \"dolphin\", \"fictional\"]]\n",
    "test_list = []\n",
    "for i in test_data:\n",
    "    human = {\"name\" : i[0], \"fav_number\" : i[1], \"model_acc\" : i[2], \"fav_animal\" : i[3], \"team\" : i[4]}\n",
    "    test_list.append(human)\n",
    "\n",
    "test_dict = { i : d for i, d in enumerate(test_list)}\n",
    "humans = weave.save(test_list) #, \"humans\")\n",
    "humans"
   ]
  },
  {
   "cell_type": "markdown",
   "id": "c74ea437",
   "metadata": {},
   "source": [
    "### Aside: type conversion after logging Tables\n",
    "\n",
    "If I enter ints/floats as strings by accident, it would be amazing to be able to fix them\n",
    "via column settings—e.g. by changing the \"Panel\" type in the dropdown or appending \n",
    ".toFloat or .toInt (not sure if we have those)"
   ]
  },
  {
   "cell_type": "code",
   "execution_count": 19,
   "id": "3a3be71e",
   "metadata": {},
   "outputs": [
    {
     "data": {
      "text/html": [
       "\n",
       "        <iframe\n",
       "            width=\"100%\"\n",
       "            height=\"400px\"\n",
       "            src=\"http://127.0.0.1:50000/__frontend/weave_jupyter/__frontend/weave_jupyter?fullScreen&expNode=%7B%22nodeType%22%3A%20%22output%22%2C%20%22type%22%3A%20%7B%22type%22%3A%20%22list%22%2C%20%22objectType%22%3A%20%7B%22type%22%3A%20%22typedDict%22%2C%20%22propertyTypes%22%3A%20%7B%22name%22%3A%20%22string%22%2C%20%22fav_number%22%3A%20%22string%22%2C%20%22model_acc%22%3A%20%22string%22%2C%20%22fav_animal%22%3A%20%22string%22%2C%20%22team%22%3A%20%22string%22%7D%7D%7D%2C%20%22fromOp%22%3A%20%7B%22name%22%3A%20%22get%22%2C%20%22inputs%22%3A%20%7B%22uri%22%3A%20%7B%22nodeType%22%3A%20%22const%22%2C%20%22type%22%3A%20%22string%22%2C%20%22val%22%3A%20%22local-artifact%3A///tmp/local-artifacts/list/58bc103acca5837e0c2c5637b1d136d9%22%7D%7D%7D%7D\"\n",
       "            frameborder=\"0\"\n",
       "            allowfullscreen\n",
       "            \n",
       "        ></iframe>\n",
       "        "
      ],
      "text/plain": [
       "<IPython.lib.display.IFrame at 0x161e93670>"
      ]
     },
     "metadata": {},
     "output_type": "display_data"
    },
    {
     "name": "stdout",
     "output_type": "stream",
     "text": [
      "Failed to transform op Object-__getattr__: Invalid output type function\n",
      "Failed to transform op typedDict-pick: Invalid output type function\n",
      "Failed to transform op dict: Requires named args\n",
      "Failed to transform op list-groupby: Invalid output type function\n",
      "Failed to transform op list-map: Invalid output type function\n",
      "Failed to transform op list-pick: Invalid output type function\n",
      "Failed to transform op groupresult-groupby: Invalid output type function\n",
      "Failed to transform op groupresult-map: Invalid output type function\n",
      "Failed to transform op flatten: Invalid output type function\n",
      "Failed to transform op pick: Invalid output type function\n",
      "Failed to transform op map: Invalid output type function\n",
      "Failed to transform op sort: Invalid output type function\n",
      "Failed to transform op groupby: Invalid output type function\n",
      "Failed to transform op list: Requires named args\n",
      "Failed to transform op ArrowTableGroupBy-__getitem__: Invalid output type function\n",
      "Failed to transform op ArrowTableGroupBy-map: Invalid output type function\n",
      "Failed to transform op ArrowWeaveList-groupby: Invalid output type function\n",
      "Failed to transform op ArrowWeaveList-map: Invalid output type function\n",
      "Failed to transform op ArrowWeaveList-pick: Invalid output type function\n",
      "Failed to transform op localpath: Invalid output type function\n",
      "Failed to transform op op-used_by: Invalid output type function\n",
      "Failed to transform op op-objects: Invalid output type function\n",
      "Failed to transform op get: Invalid output type function\n",
      "Failed to transform op dataframeTable-groupby: Invalid output type function\n",
      "Failed to transform op dataframeTable-map: Invalid output type function\n",
      "Failed to transform op dataframeTable-pick: Invalid output type function\n",
      "Failed to transform op sqltable-groupby: Invalid output type function\n",
      "Failed to transform op sqltable-map: Invalid output type function\n",
      "Failed to transform op sqltable-pick: Invalid output type function\n"
     ]
    }
   ],
   "source": [
    "test_data = [[\"Alice\", \"42\", \"0.85\", \"lion\", \"fictional\"], [\"Bob\", \"77\", \"0.5\", \"dragon\", \"real\"], [\"Charlie\", \"23\", \"0.99\", \"unicorn\" ,\"real\"], [\"Daenerys\", \"6\", \"0.99\", \"dolphin\", \"fictional\"]]\n",
    "test_list = []\n",
    "for i in test_data:\n",
    "    human = {\"name\" : i[0], \"fav_number\" : i[1], \"model_acc\" : i[2], \"fav_animal\" : i[3], \"team\" : i[4]}\n",
    "    test_list.append(human)\n",
    "\n",
    "test_dict = { i : d for i, d in enumerate(test_list)}\n",
    "humans = weave.save(test_list) #, \"humans\")\n",
    "humans"
   ]
  },
  {
   "cell_type": "markdown",
   "id": "33fb9aa4",
   "metadata": {},
   "source": [
    "# Make a Weave Op"
   ]
  },
  {
   "cell_type": "code",
   "execution_count": 21,
   "id": "94870385",
   "metadata": {},
   "outputs": [],
   "source": [
    "@weave.op(name=\"say_hi\")\n",
    "def add_hello(name:str)->str:\n",
    "    return \"hello \"+ name"
   ]
  },
  {
   "cell_type": "code",
   "execution_count": 22,
   "id": "220dfcc0",
   "metadata": {},
   "outputs": [
    {
     "data": {
      "text/html": [
       "\n",
       "        <iframe\n",
       "            width=\"100%\"\n",
       "            height=\"400px\"\n",
       "            src=\"http://127.0.0.1:50000/__frontend/weave_jupyter/__frontend/weave_jupyter?fullScreen&expNode=%7B%22nodeType%22%3A%20%22output%22%2C%20%22type%22%3A%20%7B%22type%22%3A%20%22list%22%2C%20%22objectType%22%3A%20%7B%22type%22%3A%20%22typedDict%22%2C%20%22propertyTypes%22%3A%20%7B%22name%22%3A%20%22string%22%2C%20%22fav_number%22%3A%20%22int%22%2C%20%22model_acc%22%3A%20%22float%22%2C%20%22fav_animal%22%3A%20%22string%22%2C%20%22team%22%3A%20%22string%22%7D%7D%7D%2C%20%22fromOp%22%3A%20%7B%22name%22%3A%20%22get%22%2C%20%22inputs%22%3A%20%7B%22uri%22%3A%20%7B%22nodeType%22%3A%20%22const%22%2C%20%22type%22%3A%20%22string%22%2C%20%22val%22%3A%20%22local-artifact%3A///tmp/local-artifacts/list/da7abd28a8c4f79dbfa57f1ed6a9c1da%22%7D%7D%7D%7D\"\n",
       "            frameborder=\"0\"\n",
       "            allowfullscreen\n",
       "            \n",
       "        ></iframe>\n",
       "        "
      ],
      "text/plain": [
       "<IPython.lib.display.IFrame at 0x1623fce50>"
      ]
     },
     "metadata": {},
     "output_type": "display_data"
    },
    {
     "name": "stdout",
     "output_type": "stream",
     "text": [
      "Failed to transform op Object-__getattr__: Invalid output type function\n",
      "Failed to transform op typedDict-pick: Invalid output type function\n",
      "Failed to transform op dict: Requires named args\n",
      "Failed to transform op list-groupby: Invalid output type function\n",
      "Failed to transform op list-map: Invalid output type function\n",
      "Failed to transform op list-pick: Invalid output type function\n",
      "Failed to transform op groupresult-groupby: Invalid output type function\n",
      "Failed to transform op groupresult-map: Invalid output type function\n",
      "Failed to transform op flatten: Invalid output type function\n",
      "Failed to transform op pick: Invalid output type function\n",
      "Failed to transform op map: Invalid output type function\n",
      "Failed to transform op sort: Invalid output type function\n",
      "Failed to transform op groupby: Invalid output type function\n",
      "Failed to transform op list: Requires named args\n",
      "Failed to transform op ArrowTableGroupBy-__getitem__: Invalid output type function\n",
      "Failed to transform op ArrowTableGroupBy-map: Invalid output type function\n",
      "Failed to transform op ArrowWeaveList-groupby: Invalid output type function\n",
      "Failed to transform op ArrowWeaveList-map: Invalid output type function\n",
      "Failed to transform op ArrowWeaveList-pick: Invalid output type function\n",
      "Failed to transform op localpath: Invalid output type function\n",
      "Failed to transform op op-used_by: Invalid output type function\n",
      "Failed to transform op op-objects: Invalid output type function\n",
      "Failed to transform op get: Invalid output type function\n",
      "Failed to transform op dataframeTable-groupby: Invalid output type function\n",
      "Failed to transform op dataframeTable-map: Invalid output type function\n",
      "Failed to transform op dataframeTable-pick: Invalid output type function\n",
      "Failed to transform op sqltable-groupby: Invalid output type function\n",
      "Failed to transform op sqltable-map: Invalid output type function\n",
      "Failed to transform op sqltable-pick: Invalid output type function\n"
     ]
    }
   ],
   "source": [
    "test_data = [[\"Alice\", 42, 0.85, \"lion\", \"fictional\"], [\"Bob\", 77, 0.5, \"dragon\", \"real\"], [\"Charlie\", 23, 0.99, \"unicorn\" ,\"real\"], [\"Daenerys\", 6, 0.99, \"dolphin\", \"fictional\"]]\n",
    "test_list = []\n",
    "for i in test_data:\n",
    "    human = {\"name\" : i[0], \"fav_number\" : i[1], \"model_acc\" : i[2], \"fav_animal\" : i[3], \"team\" : i[4]}\n",
    "    test_list.append(human)\n",
    "\n",
    "test_dict = { i : d for i, d in enumerate(test_list)}\n",
    "humans = weave.save(test_list) #, \"humans\")\n",
    "humans"
   ]
  },
  {
   "cell_type": "code",
   "execution_count": 20,
   "id": "da764afa",
   "metadata": {},
   "outputs": [
    {
     "name": "stdout",
     "output_type": "stream",
     "text": [
      "Requirement already satisfied: wandb in /Users/stacey/.pyenv/versions/3.9.7/envs/wint/lib/python3.9/site-packages (0.13.1)\n",
      "Requirement already satisfied: setproctitle in /Users/stacey/.pyenv/versions/3.9.7/envs/wint/lib/python3.9/site-packages (from wandb) (1.2.3)\n",
      "Requirement already satisfied: GitPython>=1.0.0 in /Users/stacey/.pyenv/versions/3.9.7/envs/wint/lib/python3.9/site-packages (from wandb) (3.1.27)\n",
      "Requirement already satisfied: psutil>=5.0.0 in /Users/stacey/.pyenv/versions/3.9.7/envs/wint/lib/python3.9/site-packages (from wandb) (5.9.1)\n",
      "Requirement already satisfied: six>=1.13.0 in /Users/stacey/.pyenv/versions/3.9.7/envs/wint/lib/python3.9/site-packages (from wandb) (1.16.0)\n",
      "Requirement already satisfied: protobuf<4.0dev,>=3.12.0 in /Users/stacey/.pyenv/versions/3.9.7/envs/wint/lib/python3.9/site-packages (from wandb) (3.19.4)\n",
      "Requirement already satisfied: promise<3,>=2.0 in /Users/stacey/.pyenv/versions/3.9.7/envs/wint/lib/python3.9/site-packages (from wandb) (2.3)\n",
      "Requirement already satisfied: Click!=8.0.0,>=7.0 in /Users/stacey/.pyenv/versions/3.9.7/envs/wint/lib/python3.9/site-packages (from wandb) (8.1.3)\n",
      "Requirement already satisfied: sentry-sdk>=1.0.0 in /Users/stacey/.pyenv/versions/3.9.7/envs/wint/lib/python3.9/site-packages (from wandb) (1.5.12)\n",
      "Requirement already satisfied: pathtools in /Users/stacey/.pyenv/versions/3.9.7/envs/wint/lib/python3.9/site-packages (from wandb) (0.1.2)\n",
      "Requirement already satisfied: shortuuid>=0.5.0 in /Users/stacey/.pyenv/versions/3.9.7/envs/wint/lib/python3.9/site-packages (from wandb) (1.0.9)\n",
      "Requirement already satisfied: requests<3,>=2.0.0 in /Users/stacey/.pyenv/versions/3.9.7/envs/wint/lib/python3.9/site-packages (from wandb) (2.28.0)\n",
      "Requirement already satisfied: docker-pycreds>=0.4.0 in /Users/stacey/.pyenv/versions/3.9.7/envs/wint/lib/python3.9/site-packages (from wandb) (0.4.0)\n",
      "Requirement already satisfied: setuptools in /Users/stacey/.pyenv/versions/3.9.7/envs/wint/lib/python3.9/site-packages (from wandb) (57.4.0)\n",
      "Requirement already satisfied: PyYAML in /Users/stacey/.pyenv/versions/3.9.7/envs/wint/lib/python3.9/site-packages (from wandb) (6.0)\n",
      "Requirement already satisfied: gitdb<5,>=4.0.1 in /Users/stacey/.pyenv/versions/3.9.7/envs/wint/lib/python3.9/site-packages (from GitPython>=1.0.0->wandb) (4.0.9)\n",
      "Requirement already satisfied: smmap<6,>=3.0.1 in /Users/stacey/.pyenv/versions/3.9.7/envs/wint/lib/python3.9/site-packages (from gitdb<5,>=4.0.1->GitPython>=1.0.0->wandb) (5.0.0)\n",
      "Requirement already satisfied: urllib3<1.27,>=1.21.1 in /Users/stacey/.pyenv/versions/3.9.7/envs/wint/lib/python3.9/site-packages (from requests<3,>=2.0.0->wandb) (1.26.9)\n",
      "Requirement already satisfied: idna<4,>=2.5 in /Users/stacey/.pyenv/versions/3.9.7/envs/wint/lib/python3.9/site-packages (from requests<3,>=2.0.0->wandb) (3.3)\n",
      "Requirement already satisfied: certifi>=2017.4.17 in /Users/stacey/.pyenv/versions/3.9.7/envs/wint/lib/python3.9/site-packages (from requests<3,>=2.0.0->wandb) (2022.5.18.1)\n",
      "Requirement already satisfied: charset-normalizer~=2.0.0 in /Users/stacey/.pyenv/versions/3.9.7/envs/wint/lib/python3.9/site-packages (from requests<3,>=2.0.0->wandb) (2.0.12)\n",
      "\u001b[33mWARNING: You are using pip version 21.2.3; however, version 22.2.2 is available.\n",
      "You should consider upgrading via the '/Users/stacey/.pyenv/versions/3.9.7/envs/wint/bin/python3.9 -m pip install --upgrade pip' command.\u001b[0m\n"
     ]
    },
    {
     "ename": "WeaveSerializeError",
     "evalue": "weave type error during serialization for object: [{'protein': 'neurotrophin', 'view_3D': <wandb.sdk.data_types.molecule.Molecule object at 0x161f16be0>}]. (\"no Type for obj: (<class 'wandb.sdk.data_types.molecule.Molecule'>) <wandb.sdk.data_types.molecule.Molecule object at 0x161f16be0>\",)",
     "output_type": "error",
     "traceback": [
      "\u001b[0;31m---------------------------------------------------------------------------\u001b[0m",
      "\u001b[0;31mWeaveTypeError\u001b[0m                            Traceback (most recent call last)",
      "File \u001b[0;32m~/Code/weave/weave-internal/weave/storage.py:89\u001b[0m, in \u001b[0;36m_save_or_publish\u001b[0;34m(obj, name, type, publish, artifact)\u001b[0m\n\u001b[1;32m     88\u001b[0m \u001b[38;5;28;01mtry\u001b[39;00m:\n\u001b[0;32m---> 89\u001b[0m     wb_type \u001b[38;5;241m=\u001b[39m \u001b[43mtypes\u001b[49m\u001b[38;5;241;43m.\u001b[39;49m\u001b[43mTypeRegistry\u001b[49m\u001b[38;5;241;43m.\u001b[39;49m\u001b[43mtype_of\u001b[49m\u001b[43m(\u001b[49m\u001b[43mobj\u001b[49m\u001b[43m)\u001b[49m\n\u001b[1;32m     90\u001b[0m \u001b[38;5;28;01mexcept\u001b[39;00m errors\u001b[38;5;241m.\u001b[39mWeaveTypeError \u001b[38;5;28;01mas\u001b[39;00m e:\n",
      "File \u001b[0;32m~/Code/weave/weave-internal/weave/weave_types.py:130\u001b[0m, in \u001b[0;36mTypeRegistry.type_of\u001b[0;34m(obj)\u001b[0m\n\u001b[1;32m    129\u001b[0m \u001b[38;5;28;01mfor\u001b[39;00m type_ \u001b[38;5;129;01min\u001b[39;00m \u001b[38;5;28mreversed\u001b[39m(potential_types):\n\u001b[0;32m--> 130\u001b[0m     obj_type \u001b[38;5;241m=\u001b[39m \u001b[43mtype_\u001b[49m\u001b[38;5;241;43m.\u001b[39;49m\u001b[43mtype_of\u001b[49m\u001b[43m(\u001b[49m\u001b[43mobj\u001b[49m\u001b[43m)\u001b[49m\n\u001b[1;32m    131\u001b[0m     \u001b[38;5;28;01mif\u001b[39;00m obj_type \u001b[38;5;129;01mis\u001b[39;00m \u001b[38;5;129;01mnot\u001b[39;00m \u001b[38;5;28;01mNone\u001b[39;00m:\n",
      "File \u001b[0;32m~/Code/weave/weave-internal/weave/weave_types.py:196\u001b[0m, in \u001b[0;36mType.type_of\u001b[0;34m(cls, obj)\u001b[0m\n\u001b[1;32m    195\u001b[0m     \u001b[38;5;28;01mreturn\u001b[39;00m \u001b[38;5;28;01mNone\u001b[39;00m\n\u001b[0;32m--> 196\u001b[0m \u001b[38;5;28;01mreturn\u001b[39;00m \u001b[38;5;28;43mcls\u001b[39;49m\u001b[38;5;241;43m.\u001b[39;49m\u001b[43mtype_of_instance\u001b[49m\u001b[43m(\u001b[49m\u001b[43mobj\u001b[49m\u001b[43m)\u001b[49m\n",
      "File \u001b[0;32m~/Code/weave/weave-internal/weave/weave_types.py:512\u001b[0m, in \u001b[0;36mList.type_of_instance\u001b[0;34m(cls, obj)\u001b[0m\n\u001b[1;32m    511\u001b[0m     \u001b[38;5;28;01mreturn\u001b[39;00m \u001b[38;5;28mcls\u001b[39m(UnknownType())\n\u001b[0;32m--> 512\u001b[0m list_obj_type \u001b[38;5;241m=\u001b[39m \u001b[43mTypeRegistry\u001b[49m\u001b[38;5;241;43m.\u001b[39;49m\u001b[43mtype_of\u001b[49m\u001b[43m(\u001b[49m\u001b[43mobj\u001b[49m\u001b[43m[\u001b[49m\u001b[38;5;241;43m0\u001b[39;49m\u001b[43m]\u001b[49m\u001b[43m)\u001b[49m\n\u001b[1;32m    513\u001b[0m \u001b[38;5;28;01mfor\u001b[39;00m item \u001b[38;5;129;01min\u001b[39;00m obj[\u001b[38;5;241m1\u001b[39m:]:\n",
      "File \u001b[0;32m~/Code/weave/weave-internal/weave/weave_types.py:130\u001b[0m, in \u001b[0;36mTypeRegistry.type_of\u001b[0;34m(obj)\u001b[0m\n\u001b[1;32m    129\u001b[0m \u001b[38;5;28;01mfor\u001b[39;00m type_ \u001b[38;5;129;01min\u001b[39;00m \u001b[38;5;28mreversed\u001b[39m(potential_types):\n\u001b[0;32m--> 130\u001b[0m     obj_type \u001b[38;5;241m=\u001b[39m \u001b[43mtype_\u001b[49m\u001b[38;5;241;43m.\u001b[39;49m\u001b[43mtype_of\u001b[49m\u001b[43m(\u001b[49m\u001b[43mobj\u001b[49m\u001b[43m)\u001b[49m\n\u001b[1;32m    131\u001b[0m     \u001b[38;5;28;01mif\u001b[39;00m obj_type \u001b[38;5;129;01mis\u001b[39;00m \u001b[38;5;129;01mnot\u001b[39;00m \u001b[38;5;28;01mNone\u001b[39;00m:\n",
      "File \u001b[0;32m~/Code/weave/weave-internal/weave/weave_types.py:196\u001b[0m, in \u001b[0;36mType.type_of\u001b[0;34m(cls, obj)\u001b[0m\n\u001b[1;32m    195\u001b[0m     \u001b[38;5;28;01mreturn\u001b[39;00m \u001b[38;5;28;01mNone\u001b[39;00m\n\u001b[0;32m--> 196\u001b[0m \u001b[38;5;28;01mreturn\u001b[39;00m \u001b[38;5;28;43mcls\u001b[39;49m\u001b[38;5;241;43m.\u001b[39;49m\u001b[43mtype_of_instance\u001b[49m\u001b[43m(\u001b[49m\u001b[43mobj\u001b[49m\u001b[43m)\u001b[49m\n",
      "File \u001b[0;32m~/Code/weave/weave-internal/weave/weave_types.py:577\u001b[0m, in \u001b[0;36mTypedDict.type_of_instance\u001b[0;34m(cls, obj)\u001b[0m\n\u001b[1;32m    576\u001b[0m \u001b[38;5;28;01mfor\u001b[39;00m k, v \u001b[38;5;129;01min\u001b[39;00m obj\u001b[38;5;241m.\u001b[39mitems():\n\u001b[0;32m--> 577\u001b[0m     property_types[k] \u001b[38;5;241m=\u001b[39m \u001b[43mTypeRegistry\u001b[49m\u001b[38;5;241;43m.\u001b[39;49m\u001b[43mtype_of\u001b[49m\u001b[43m(\u001b[49m\u001b[43mv\u001b[49m\u001b[43m)\u001b[49m\n\u001b[1;32m    578\u001b[0m \u001b[38;5;28;01mreturn\u001b[39;00m \u001b[38;5;28mcls\u001b[39m(property_types)\n",
      "File \u001b[0;32m~/Code/weave/weave-internal/weave/weave_types.py:133\u001b[0m, in \u001b[0;36mTypeRegistry.type_of\u001b[0;34m(obj)\u001b[0m\n\u001b[1;32m    132\u001b[0m         \u001b[38;5;28;01mreturn\u001b[39;00m obj_type\n\u001b[0;32m--> 133\u001b[0m \u001b[38;5;28;01mraise\u001b[39;00m errors\u001b[38;5;241m.\u001b[39mWeaveTypeError(\u001b[38;5;124m\"\u001b[39m\u001b[38;5;124mno Type for obj: (\u001b[39m\u001b[38;5;132;01m%s\u001b[39;00m\u001b[38;5;124m) \u001b[39m\u001b[38;5;132;01m%s\u001b[39;00m\u001b[38;5;124m\"\u001b[39m \u001b[38;5;241m%\u001b[39m (\u001b[38;5;28mtype\u001b[39m(obj), obj))\n",
      "\u001b[0;31mWeaveTypeError\u001b[0m: no Type for obj: (<class 'wandb.sdk.data_types.molecule.Molecule'>) <wandb.sdk.data_types.molecule.Molecule object at 0x161f16be0>",
      "\nDuring handling of the above exception, another exception occurred:\n",
      "\u001b[0;31mWeaveSerializeError\u001b[0m                       Traceback (most recent call last)",
      "Input \u001b[0;32mIn [20]\u001b[0m, in \u001b[0;36m<cell line: 6>\u001b[0;34m()\u001b[0m\n\u001b[1;32m      4\u001b[0m molecule \u001b[38;5;241m=\u001b[39m wandb\u001b[38;5;241m.\u001b[39mMolecule(path)\n\u001b[1;32m      5\u001b[0m mol_data \u001b[38;5;241m=\u001b[39m [{\u001b[38;5;124m\"\u001b[39m\u001b[38;5;124mprotein\u001b[39m\u001b[38;5;124m\"\u001b[39m : \u001b[38;5;124m\"\u001b[39m\u001b[38;5;124mneurotrophin\u001b[39m\u001b[38;5;124m\"\u001b[39m, \u001b[38;5;124m\"\u001b[39m\u001b[38;5;124mview_3D\u001b[39m\u001b[38;5;124m\"\u001b[39m : molecule}]\n\u001b[0;32m----> 6\u001b[0m mols \u001b[38;5;241m=\u001b[39m \u001b[43mweave\u001b[49m\u001b[38;5;241;43m.\u001b[39;49m\u001b[43msave\u001b[49m\u001b[43m(\u001b[49m\u001b[43mmol_data\u001b[49m\u001b[43m)\u001b[49m\n\u001b[1;32m      7\u001b[0m mols\n",
      "File \u001b[0;32m~/Code/weave/weave-internal/weave/api.py:36\u001b[0m, in \u001b[0;36msave\u001b[0;34m(node_or_obj, name)\u001b[0m\n\u001b[1;32m     34\u001b[0m     \u001b[38;5;28;01mreturn\u001b[39;00m _ops\u001b[38;5;241m.\u001b[39msave(node_or_obj, name\u001b[38;5;241m=\u001b[39mname)\n\u001b[1;32m     35\u001b[0m \u001b[38;5;28;01melse\u001b[39;00m:\n\u001b[0;32m---> 36\u001b[0m     ref \u001b[38;5;241m=\u001b[39m \u001b[43m_storage\u001b[49m\u001b[38;5;241;43m.\u001b[39;49m\u001b[43msave\u001b[49m\u001b[43m(\u001b[49m\u001b[43mnode_or_obj\u001b[49m\u001b[43m,\u001b[49m\u001b[43m \u001b[49m\u001b[43mname\u001b[49m\u001b[38;5;241;43m=\u001b[39;49m\u001b[43mname\u001b[49m\u001b[43m)\u001b[49m\n\u001b[1;32m     37\u001b[0m     \u001b[38;5;28;01mreturn\u001b[39;00m _ops\u001b[38;5;241m.\u001b[39mget(\u001b[38;5;28mstr\u001b[39m(ref))\n",
      "File \u001b[0;32m~/Code/weave/weave-internal/weave/storage.py:134\u001b[0m, in \u001b[0;36msave\u001b[0;34m(obj, name, type, artifact)\u001b[0m\n\u001b[1;32m    128\u001b[0m \u001b[38;5;28;01mdef\u001b[39;00m \u001b[38;5;21msave\u001b[39m(obj, name\u001b[38;5;241m=\u001b[39m\u001b[38;5;28;01mNone\u001b[39;00m, \u001b[38;5;28mtype\u001b[39m\u001b[38;5;241m=\u001b[39m\u001b[38;5;28;01mNone\u001b[39;00m, artifact\u001b[38;5;241m=\u001b[39m\u001b[38;5;28;01mNone\u001b[39;00m) \u001b[38;5;241m-\u001b[39m\u001b[38;5;241m>\u001b[39m refs\u001b[38;5;241m.\u001b[39mLocalArtifactRef:\n\u001b[1;32m    129\u001b[0m     \u001b[38;5;66;03m# print(\"STORAGE SAVE\", name, obj, type, artifact)\u001b[39;00m\n\u001b[1;32m    130\u001b[0m     \u001b[38;5;66;03m# ref = _get_ref(obj)\u001b[39;00m\n\u001b[1;32m    131\u001b[0m     \u001b[38;5;66;03m# if ref is not None:\u001b[39;00m\n\u001b[1;32m    132\u001b[0m     \u001b[38;5;66;03m#     if name is None or ref.artifact._name == name:\u001b[39;00m\n\u001b[1;32m    133\u001b[0m     \u001b[38;5;66;03m#         return ref\u001b[39;00m\n\u001b[0;32m--> 134\u001b[0m     \u001b[38;5;28;01mreturn\u001b[39;00m \u001b[43m_save_or_publish\u001b[49m\u001b[43m(\u001b[49m\u001b[43mobj\u001b[49m\u001b[43m,\u001b[49m\u001b[43m \u001b[49m\u001b[43mname\u001b[49m\u001b[43m,\u001b[49m\u001b[43m \u001b[49m\u001b[38;5;28;43mtype\u001b[39;49m\u001b[43m,\u001b[49m\u001b[43m \u001b[49m\u001b[38;5;28;43;01mFalse\u001b[39;49;00m\u001b[43m,\u001b[49m\u001b[43m \u001b[49m\u001b[43martifact\u001b[49m\u001b[38;5;241;43m=\u001b[39;49m\u001b[43martifact\u001b[49m\u001b[43m)\u001b[49m\n",
      "File \u001b[0;32m~/Code/weave/weave-internal/weave/storage.py:91\u001b[0m, in \u001b[0;36m_save_or_publish\u001b[0;34m(obj, name, type, publish, artifact)\u001b[0m\n\u001b[1;32m     89\u001b[0m         wb_type \u001b[38;5;241m=\u001b[39m types\u001b[38;5;241m.\u001b[39mTypeRegistry\u001b[38;5;241m.\u001b[39mtype_of(obj)\n\u001b[1;32m     90\u001b[0m     \u001b[38;5;28;01mexcept\u001b[39;00m errors\u001b[38;5;241m.\u001b[39mWeaveTypeError \u001b[38;5;28;01mas\u001b[39;00m e:\n\u001b[0;32m---> 91\u001b[0m         \u001b[38;5;28;01mraise\u001b[39;00m errors\u001b[38;5;241m.\u001b[39mWeaveSerializeError(\n\u001b[1;32m     92\u001b[0m             \u001b[38;5;124m\"\u001b[39m\u001b[38;5;124mweave type error during serialization for object: \u001b[39m\u001b[38;5;132;01m%s\u001b[39;00m\u001b[38;5;124m. \u001b[39m\u001b[38;5;132;01m%s\u001b[39;00m\u001b[38;5;124m\"\u001b[39m\n\u001b[1;32m     93\u001b[0m             \u001b[38;5;241m%\u001b[39m (obj, \u001b[38;5;28mstr\u001b[39m(e\u001b[38;5;241m.\u001b[39margs))\n\u001b[1;32m     94\u001b[0m         )\n\u001b[1;32m     95\u001b[0m obj \u001b[38;5;241m=\u001b[39m box\u001b[38;5;241m.\u001b[39mbox(obj)\n\u001b[1;32m     96\u001b[0m \u001b[38;5;28;01mif\u001b[39;00m artifact \u001b[38;5;129;01mis\u001b[39;00m \u001b[38;5;28;01mNone\u001b[39;00m:\n",
      "\u001b[0;31mWeaveSerializeError\u001b[0m: weave type error during serialization for object: [{'protein': 'neurotrophin', 'view_3D': <wandb.sdk.data_types.molecule.Molecule object at 0x161f16be0>}]. (\"no Type for obj: (<class 'wandb.sdk.data_types.molecule.Molecule'>) <wandb.sdk.data_types.molecule.Molecule object at 0x161f16be0>\",)"
     ]
    }
   ],
   "source": [
    "!pip install wandb\n",
    "import wandb\n",
    "path = \"test_molecule.pdb\"\n",
    "molecule = wandb.Molecule(path)\n",
    "mol_data = [{\"protein\" : \"neurotrophin\", \"view_3D\" : molecule}]\n",
    "mols = weave.save(mol_data)\n",
    "mols"
   ]
  },
  {
   "cell_type": "code",
   "execution_count": null,
   "id": "f79df9fb",
   "metadata": {},
   "outputs": [],
   "source": []
  }
 ],
 "metadata": {
  "kernelspec": {
   "display_name": "Python 3 (ipykernel)",
   "language": "python",
   "name": "python3"
  },
  "language_info": {
   "codemirror_mode": {
    "name": "ipython",
    "version": 3
   },
   "file_extension": ".py",
   "mimetype": "text/x-python",
   "name": "python",
   "nbconvert_exporter": "python",
   "pygments_lexer": "ipython3",
   "version": "3.9.7"
  }
 },
 "nbformat": 4,
 "nbformat_minor": 5
}
