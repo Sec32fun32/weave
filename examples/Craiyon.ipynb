{
 "cells": [
  {
   "cell_type": "code",
   "execution_count": null,
   "id": "2088ebdf",
   "metadata": {},
   "outputs": [],
   "source": [
    "import weave\n",
    "#weave.use_frontend_devmode()"
   ]
  },
  {
   "cell_type": "code",
   "execution_count": null,
   "id": "b6e6882b",
   "metadata": {},
   "outputs": [],
   "source": [
    "from weave.ecosystem import craiyon\n",
    "craiyon.generate('hello')"
   ]
  },
  {
   "cell_type": "code",
   "execution_count": null,
   "id": "3322e1c5",
   "metadata": {},
   "outputs": [],
   "source": [
    "prompts = ['cats', 'dogs', 'catdogs']\n",
    "panel = weave.panels.Table(prompts)\n",
    "panel.append_column(lambda row: row)\n",
    "panel.append_column(lambda row: craiyon.generate(row))\n",
    "weave.show(panel)"
   ]
  }
 ],
 "metadata": {
  "kernelspec": {
   "display_name": "Python 3 (ipykernel)",
   "language": "python",
   "name": "python3"
  },
  "language_info": {
   "codemirror_mode": {
    "name": "ipython",
    "version": 3
   },
   "file_extension": ".py",
   "mimetype": "text/x-python",
   "name": "python",
   "nbconvert_exporter": "python",
   "pygments_lexer": "ipython3",
   "version": "3.9.7"
  }
 },
 "nbformat": 4,
 "nbformat_minor": 5
}
