{
 "cells": [
  {
   "cell_type": "code",
   "execution_count": 1,
   "id": "2088ebdf",
   "metadata": {},
   "outputs": [],
   "source": [
    "import weave\n",
    "#weave.use_frontend_devmode()"
   ]
  },
  {
   "cell_type": "code",
   "execution_count": 2,
   "id": "b6e6882b",
   "metadata": {},
   "outputs": [],
   "source": [
    "from weave.ecosystem import craiyon\n",
    "craiyon.generate('hello')"
   ]
  },
  {
   "cell_type": "code",
   "execution_count": 4,
   "id": "3322e1c5",
   "metadata": {},
   "outputs": [
    {
     "data": {
      "text/html": [
       "\n",
       "        <iframe\n",
       "            width=\"100%\"\n",
       "            height=\"400px\"\n",
       "            src=\"http://localhost:3000/__frontend/weave_jupyter?fullScreen&expNode=%7B%22nodeType%22%3A%20%22output%22%2C%20%22type%22%3A%20%7B%22type%22%3A%20%22list%22%2C%20%22objectType%22%3A%20%22string%22%7D%2C%20%22fromOp%22%3A%20%7B%22name%22%3A%20%22get%22%2C%20%22inputs%22%3A%20%7B%22uri%22%3A%20%7B%22nodeType%22%3A%20%22const%22%2C%20%22type%22%3A%20%7B%22type%22%3A%20%22const%22%2C%20%22valType%22%3A%20%22string%22%2C%20%22val%22%3A%20%22local-artifact%3A///tmp/local-artifacts/list/f7a218aba6e543b268e13db17134637f%22%7D%2C%20%22val%22%3A%20%22local-artifact%3A///tmp/local-artifacts/list/f7a218aba6e543b268e13db17134637f%22%7D%7D%7D%7D&panelId=table&panelConfig=%7B%22tableState%22%3A%20%7B%22autoColumns%22%3A%20false%2C%20%22columns%22%3A%20%7B%22ZDM5EY5TY0H45Z%22%3A%20%7B%22panelId%22%3A%20%22%22%2C%20%22panelConfig%22%3A%20null%7D%2C%20%22KDRH8F5FM8WAWZ%22%3A%20%7B%22panelId%22%3A%20%22%22%2C%20%22panelConfig%22%3A%20null%7D%7D%2C%20%22preFilterFunction%22%3A%20%7B%22nodeType%22%3A%20%22void%22%2C%20%22type%22%3A%20%22invalid%22%7D%2C%20%22columnNames%22%3A%20%7B%22ZDM5EY5TY0H45Z%22%3A%20%22%22%2C%20%22KDRH8F5FM8WAWZ%22%3A%20%22%22%7D%2C%20%22columnSelectFunctions%22%3A%20%7B%22ZDM5EY5TY0H45Z%22%3A%20%7B%22nodeType%22%3A%20%22var%22%2C%20%22type%22%3A%20%22string%22%2C%20%22varName%22%3A%20%22row%22%7D%2C%20%22KDRH8F5FM8WAWZ%22%3A%20%7B%22nodeType%22%3A%20%22output%22%2C%20%22type%22%3A%20%7B%22type%22%3A%20%22list%22%2C%20%22objectType%22%3A%20%7B%22type%22%3A%20%22pil-image%22%2C%20%22width%22%3A%205%2C%20%22height%22%3A%205%2C%20%22mode%22%3A%20%22L%22%7D%7D%2C%20%22fromOp%22%3A%20%7B%22name%22%3A%20%22op-generate%22%2C%20%22inputs%22%3A%20%7B%22prompt%22%3A%20%7B%22nodeType%22%3A%20%22var%22%2C%20%22type%22%3A%20%22string%22%2C%20%22varName%22%3A%20%22row%22%7D%7D%7D%7D%7D%2C%20%22order%22%3A%20%5B%22ZDM5EY5TY0H45Z%22%2C%20%22KDRH8F5FM8WAWZ%22%5D%2C%20%22groupBy%22%3A%20%5B%5D%2C%20%22sort%22%3A%20%5B%5D%2C%20%22pageSize%22%3A%2010%2C%20%22page%22%3A%200%7D%7D\"\n",
       "            frameborder=\"0\"\n",
       "            allowfullscreen\n",
       "            \n",
       "        ></iframe>\n",
       "        "
      ],
      "text/plain": [
       "<IPython.lib.display.IFrame at 0x12f2729a0>"
      ]
     },
     "metadata": {},
     "output_type": "display_data"
    }
   ],
   "source": [
    "prompts = ['cats', 'dogs', 'catdogs']\n",
    "panel = weave.panels.Table(prompts)\n",
    "panel.table_query.add_column(lambda row: row)\n",
    "panel.table_query.add_column(lambda row: craiyon.generate(row))\n",
    "weave.show(panel)"
   ]
  }
 ],
 "metadata": {
  "kernelspec": {
   "display_name": "Python 3 (ipykernel)",
   "language": "python",
   "name": "python3"
  },
  "language_info": {
   "codemirror_mode": {
    "name": "ipython",
    "version": 3
   },
   "file_extension": ".py",
   "mimetype": "text/x-python",
   "name": "python",
   "nbconvert_exporter": "python",
   "pygments_lexer": "ipython3",
   "version": "3.9.7"
  }
 },
 "nbformat": 4,
 "nbformat_minor": 5
}
