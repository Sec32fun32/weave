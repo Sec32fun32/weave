{
 "cells": [
  {
   "cell_type": "code",
   "execution_count": 1,
   "id": "2088ebdf",
   "metadata": {
    "execution": {
     "iopub.execute_input": "2022-11-06T21:08:13.478196Z",
     "iopub.status.busy": "2022-11-06T21:08:13.477921Z",
     "iopub.status.idle": "2022-11-06T21:08:14.182850Z",
     "shell.execute_reply": "2022-11-06T21:08:14.182537Z"
    }
   },
   "outputs": [],
   "source": [
    "import weave"
   ]
  },
  {
   "cell_type": "code",
   "execution_count": 2,
   "id": "b6e6882b",
   "metadata": {
    "execution": {
     "iopub.execute_input": "2022-11-06T21:08:14.184820Z",
     "iopub.status.busy": "2022-11-06T21:08:14.184624Z",
     "iopub.status.idle": "2022-11-06T21:08:15.527779Z",
     "shell.execute_reply": "2022-11-06T21:08:15.527495Z"
    }
   },
   "outputs": [
    {
     "name": "stderr",
     "output_type": "stream",
     "text": [
      "/Users/shawn/.pyenv/versions/3.9.7/envs/weave-internal4/lib/python3.9/site-packages/tqdm/auto.py:22: TqdmWarning: IProgress not found. Please update jupyter and ipywidgets. See https://ipywidgets.readthedocs.io/en/stable/user_install.html\n",
      "  from .autonotebook import tqdm as notebook_tqdm\n"
     ]
    },
    {
     "data": {
      "text/html": [
       "\n",
       "        <iframe\n",
       "            width=\"100%\"\n",
       "            height=\"400px\"\n",
       "            src=\"http://127.0.0.1:54787/__frontend/weave_jupyter/__frontend/weave_jupyter?fullScreen&expNode=%7B%22nodeType%22%3A%20%22output%22%2C%20%22type%22%3A%20%7B%22type%22%3A%20%22list%22%2C%20%22objectType%22%3A%20%7B%22type%22%3A%20%22pil-image%22%2C%20%22width%22%3A%205%2C%20%22height%22%3A%205%2C%20%22mode%22%3A%20%22L%22%7D%7D%2C%20%22fromOp%22%3A%20%7B%22name%22%3A%20%22op-generate%22%2C%20%22inputs%22%3A%20%7B%22prompt%22%3A%20%7B%22nodeType%22%3A%20%22const%22%2C%20%22type%22%3A%20%22string%22%2C%20%22val%22%3A%20%22hello%22%7D%7D%7D%7D\"\n",
       "            frameborder=\"0\"\n",
       "            allowfullscreen\n",
       "            \n",
       "        ></iframe>\n",
       "        "
      ],
      "text/plain": [
       "<IPython.lib.display.IFrame at 0x173aa8760>"
      ]
     },
     "metadata": {},
     "output_type": "display_data"
    }
   ],
   "source": [
    "from weave.ecosystem import craiyon\n",
    "craiyon.generate('hello')"
   ]
  },
  {
   "cell_type": "code",
   "execution_count": 3,
   "id": "3322e1c5",
   "metadata": {
    "execution": {
     "iopub.execute_input": "2022-11-06T21:08:15.529295Z",
     "iopub.status.busy": "2022-11-06T21:08:15.529211Z",
     "iopub.status.idle": "2022-11-06T21:08:15.547615Z",
     "shell.execute_reply": "2022-11-06T21:08:15.547347Z"
    }
   },
   "outputs": [
    {
     "data": {
      "text/html": [
       "\n",
       "        <iframe\n",
       "            width=\"100%\"\n",
       "            height=\"400px\"\n",
       "            src=\"http://127.0.0.1:54787/__frontend/weave_jupyter/__frontend/weave_jupyter?fullScreen&expNode=%7B%22nodeType%22%3A%20%22output%22%2C%20%22type%22%3A%20%22unknown%22%2C%20%22fromOp%22%3A%20%7B%22name%22%3A%20%22get%22%2C%20%22inputs%22%3A%20%7B%22uri%22%3A%20%7B%22nodeType%22%3A%20%22const%22%2C%20%22type%22%3A%20%22string%22%2C%20%22val%22%3A%20%22local-artifact%3A///tmp/local-artifacts/Table/7bbf09c4e63ced9aa4bb3091cf503306%22%7D%7D%7D%7D\"\n",
       "            frameborder=\"0\"\n",
       "            allowfullscreen\n",
       "            \n",
       "        ></iframe>\n",
       "        "
      ],
      "text/plain": [
       "<IPython.lib.display.IFrame at 0x173ae4b50>"
      ]
     },
     "metadata": {},
     "output_type": "display_data"
    }
   ],
   "source": [
    "# weave-test-skip: this takes a long time!\n",
    "prompts = ['cats', 'dogs', 'catdogs']\n",
    "panel = weave.panels.Table(prompts,\n",
    "                           columns=[\n",
    "                               lambda prompt: prompt,\n",
    "                               lambda prompt: craiyon.generate(prompt)\n",
    "                           ]\n",
    "                          )\n",
    "weave.show(panel)"
   ]
  }
 ],
 "metadata": {
  "kernelspec": {
   "display_name": "Python 3 (ipykernel)",
   "language": "python",
   "name": "python3"
  },
  "language_info": {
   "codemirror_mode": {
    "name": "ipython",
    "version": 3
   },
   "file_extension": ".py",
   "mimetype": "text/x-python",
   "name": "python",
   "nbconvert_exporter": "python",
   "pygments_lexer": "ipython3",
   "version": "3.9.7"
  }
 },
 "nbformat": 4,
 "nbformat_minor": 5
}
