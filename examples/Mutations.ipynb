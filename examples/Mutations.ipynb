{
 "cells": [
  {
   "cell_type": "code",
   "execution_count": null,
   "id": "dd93a251",
   "metadata": {},
   "outputs": [],
   "source": [
    "import weave"
   ]
  },
  {
   "cell_type": "code",
   "execution_count": null,
   "id": "ddcbd7da",
   "metadata": {},
   "outputs": [],
   "source": [
    "# Only run this cell the first time\n",
    "table_data = weave.save([{'a': 5, 'b': 6, 'c': 'hello'}, {'a': 7, 'b': 9, 'c': 'goodbye'}], name='my-table:latest')"
   ]
  },
  {
   "cell_type": "code",
   "execution_count": null,
   "id": "0063dcd0",
   "metadata": {},
   "outputs": [],
   "source": [
    "# Switch the c column Panel to StringEditor, then edit one of the cells, and then rerun this notebook without cell 2\n",
    "weave.ops.get(\"local-artifact:///my-table:latest/obj\")"
   ]
  }
 ],
 "metadata": {
  "kernelspec": {
   "display_name": "Python 3 (ipykernel)",
   "language": "python",
   "name": "python3"
  }
 },
 "nbformat": 4,
 "nbformat_minor": 5
}
