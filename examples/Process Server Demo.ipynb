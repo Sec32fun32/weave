{
 "cells": [
  {
   "cell_type": "code",
   "execution_count": 1,
   "id": "3d590cdd",
   "metadata": {},
   "outputs": [],
   "source": [
    "import weave\n",
    "\n",
    "weave.context.use_local_devmode()"
   ]
  },
  {
   "cell_type": "code",
   "execution_count": 2,
   "id": "22034460",
   "metadata": {},
   "outputs": [],
   "source": [
    "import weave\n",
    "\n",
    "@weave.op()\n",
    "def add(a: int, b:int) -> int:    \n",
    "     return a + b\n",
    "    \n",
    "@weave.op()\n",
    "def mult(a:int, b:int) -> int:    \n",
    "     return a * b   \n",
    "\n",
    "@weave.op()\n",
    "def exp(a:int, b:int) -> int:    \n",
    "     return a ** b\n",
    "    \n",
    "# graph = exp(mult(add(1,2), 3), 4)\n",
    "graph = add(1,2)"
   ]
  },
  {
   "cell_type": "code",
   "execution_count": 5,
   "id": "89a9d450",
   "metadata": {},
   "outputs": [
    {
     "data": {
      "text/html": [
       "\n",
       "        <iframe\n",
       "            width=\"100%\"\n",
       "            height=\"300px\"\n",
       "            src=\"http://localhost:3000/__frontend/weave_jupyter?fullScreen&expNode=%7B%22nodeType%22%3A%20%22output%22%2C%20%22type%22%3A%20%22int%22%2C%20%22fromOp%22%3A%20%7B%22name%22%3A%20%22local-artifact%22%2C%20%22inputs%22%3A%20%7B%22a%22%3A%20%7B%22nodeType%22%3A%20%22const%22%2C%20%22type%22%3A%20%7B%22type%22%3A%20%22const%22%2C%20%22valType%22%3A%20%22int%22%2C%20%22val%22%3A%201%7D%2C%20%22val%22%3A%201%7D%2C%20%22b%22%3A%20%7B%22nodeType%22%3A%20%22const%22%2C%20%22type%22%3A%20%7B%22type%22%3A%20%22const%22%2C%20%22valType%22%3A%20%22int%22%2C%20%22val%22%3A%202%7D%2C%20%22val%22%3A%202%7D%7D%7D%7D\"\n",
       "            frameborder=\"0\"\n",
       "            allowfullscreen\n",
       "            \n",
       "        ></iframe>\n",
       "        "
      ],
      "text/plain": [
       "<IPython.lib.display.IFrame at 0x121b7aac0>"
      ]
     },
     "metadata": {},
     "output_type": "display_data"
    }
   ],
   "source": [
    "weave.show(graph)"
   ]
  },
  {
   "cell_type": "code",
   "execution_count": 10,
   "id": "5764d70f",
   "metadata": {},
   "outputs": [
    {
     "ename": "TypeError",
     "evalue": "unsupported operand type(s) for +: 'ConstNode' and 'ConstNode'",
     "output_type": "error",
     "traceback": [
      "\u001b[0;31m---------------------------------------------------------------------------\u001b[0m",
      "\u001b[0;31mTypeError\u001b[0m                                 Traceback (most recent call last)",
      "Input \u001b[0;32mIn [10]\u001b[0m, in \u001b[0;36m<cell line: 1>\u001b[0;34m()\u001b[0m\n\u001b[0;32m----> 1\u001b[0m weave\u001b[38;5;241m.\u001b[39muse(\u001b[43mweave\u001b[49m\u001b[38;5;241;43m.\u001b[39;49m\u001b[43mgraph\u001b[49m\u001b[38;5;241;43m.\u001b[39;49m\u001b[43mConstNode\u001b[49m\u001b[43m(\u001b[49m\u001b[43mweave\u001b[49m\u001b[38;5;241;43m.\u001b[39;49m\u001b[43mweave_types\u001b[49m\u001b[38;5;241;43m.\u001b[39;49m\u001b[43mInt\u001b[49m\u001b[43m(\u001b[49m\u001b[43m)\u001b[49m\u001b[43m,\u001b[49m\u001b[43m \u001b[49m\u001b[38;5;241;43m1\u001b[39;49m\u001b[43m)\u001b[49m\u001b[43m \u001b[49m\u001b[38;5;241;43m+\u001b[39;49m\u001b[43m \u001b[49m\u001b[43mweave\u001b[49m\u001b[38;5;241;43m.\u001b[39;49m\u001b[43mgraph\u001b[49m\u001b[38;5;241;43m.\u001b[39;49m\u001b[43mConstNode\u001b[49m\u001b[43m(\u001b[49m\u001b[43mweave\u001b[49m\u001b[38;5;241;43m.\u001b[39;49m\u001b[43mweave_types\u001b[49m\u001b[38;5;241;43m.\u001b[39;49m\u001b[43mInt\u001b[49m\u001b[43m(\u001b[49m\u001b[43m)\u001b[49m\u001b[43m,\u001b[49m\u001b[43m \u001b[49m\u001b[38;5;241;43m2\u001b[39;49m\u001b[43m)\u001b[49m)\n",
      "\u001b[0;31mTypeError\u001b[0m: unsupported operand type(s) for +: 'ConstNode' and 'ConstNode'"
     ]
    }
   ],
   "source": [
    "weave.use(weave.graph.ConstNode(weave.weave_types.Int(), 1) + weave.graph.ConstNode(weave.weave_types.Int(), 2))"
   ]
  },
  {
   "cell_type": "code",
   "execution_count": 3,
   "id": "115994d9",
   "metadata": {},
   "outputs": [
    {
     "data": {
      "text/html": [
       "\n",
       "        <iframe\n",
       "            width=\"100%\"\n",
       "            height=\"300px\"\n",
       "            src=\"http://localhost:3000/__frontend/weave_jupyter?fullScreen&expNode=%7B%22nodeType%22%3A%20%22output%22%2C%20%22type%22%3A%20%22int%22%2C%20%22fromOp%22%3A%20%7B%22name%22%3A%20%22op-add%22%2C%20%22inputs%22%3A%20%7B%22a%22%3A%20%7B%22nodeType%22%3A%20%22const%22%2C%20%22type%22%3A%20%7B%22type%22%3A%20%22const%22%2C%20%22valType%22%3A%20%22int%22%2C%20%22val%22%3A%201%7D%2C%20%22val%22%3A%201%7D%2C%20%22b%22%3A%20%7B%22nodeType%22%3A%20%22const%22%2C%20%22type%22%3A%20%7B%22type%22%3A%20%22const%22%2C%20%22valType%22%3A%20%22int%22%2C%20%22val%22%3A%202%7D%2C%20%22val%22%3A%202%7D%7D%7D%7D\"\n",
       "            frameborder=\"0\"\n",
       "            allowfullscreen\n",
       "            \n",
       "        ></iframe>\n",
       "        "
      ],
      "text/plain": [
       "<IPython.lib.display.IFrame at 0x126686460>"
      ]
     },
     "metadata": {},
     "output_type": "display_data"
    }
   ],
   "source": [
    "weave.show(graph)"
   ]
  },
  {
   "cell_type": "code",
   "execution_count": 3,
   "id": "1038d7f4",
   "metadata": {},
   "outputs": [
    {
     "ename": "FileNotFoundError",
     "evalue": "[Errno 2] No such file or directory: 'local-artifacts/93936b8ceaec82097f911d4d0d04e174/latest/_obj.type.json'",
     "output_type": "error",
     "traceback": [
      "\u001b[0;31m---------------------------------------------------------------------------\u001b[0m",
      "\u001b[0;31mFileNotFoundError\u001b[0m                         Traceback (most recent call last)",
      "Input \u001b[0;32mIn [3]\u001b[0m, in \u001b[0;36m<cell line: 1>\u001b[0;34m()\u001b[0m\n\u001b[0;32m----> 1\u001b[0m weave\u001b[38;5;241m.\u001b[39mshow(weave\u001b[38;5;241m.\u001b[39msave(\u001b[38;5;241m7\u001b[39m))\n",
      "File \u001b[0;32m~/workspace/weave-internal/weave/show.py:69\u001b[0m, in \u001b[0;36mshow\u001b[0;34m(obj)\u001b[0m\n\u001b[1;32m     63\u001b[0m \u001b[38;5;28;01mif\u001b[39;00m \u001b[38;5;129;01mnot\u001b[39;00m util\u001b[38;5;241m.\u001b[39mis_notebook():\n\u001b[1;32m     64\u001b[0m     \u001b[38;5;28;01mraise\u001b[39;00m \u001b[38;5;167;01mRuntimeError\u001b[39;00m(\n\u001b[1;32m     65\u001b[0m         \u001b[38;5;124m\"\u001b[39m\u001b[38;5;124m`weave.show()` can only be called within notebooks. To extract the value of \u001b[39m\u001b[38;5;124m\"\u001b[39m\n\u001b[1;32m     66\u001b[0m         \u001b[38;5;124m\"\u001b[39m\u001b[38;5;124ma weave node, try `weave.use()`.\u001b[39m\u001b[38;5;124m\"\u001b[39m\n\u001b[1;32m     67\u001b[0m     )\n\u001b[0;32m---> 69\u001b[0m params \u001b[38;5;241m=\u001b[39m \u001b[43m_show_params\u001b[49m\u001b[43m(\u001b[49m\u001b[43mobj\u001b[49m\u001b[43m)\u001b[49m\n\u001b[1;32m     70\u001b[0m panel_url \u001b[38;5;241m=\u001b[39m (\n\u001b[1;32m     71\u001b[0m     \u001b[38;5;124mf\u001b[39m\u001b[38;5;124m\"\u001b[39m\u001b[38;5;132;01m{\u001b[39;00mcontext\u001b[38;5;241m.\u001b[39mget_frontend_url()\u001b[38;5;132;01m}\u001b[39;00m\u001b[38;5;124m/__frontend/weave_jupyter/index.html?fullScreen\u001b[39m\u001b[38;5;124m\"\u001b[39m\n\u001b[1;32m     72\u001b[0m )\n\u001b[1;32m     73\u001b[0m \u001b[38;5;28;01mif\u001b[39;00m \u001b[38;5;124m\"\u001b[39m\u001b[38;5;124mweave_node\u001b[39m\u001b[38;5;124m\"\u001b[39m \u001b[38;5;129;01min\u001b[39;00m params:\n",
      "File \u001b[0;32m~/workspace/weave-internal/weave/show.py:32\u001b[0m, in \u001b[0;36m_show_params\u001b[0;34m(obj)\u001b[0m\n\u001b[1;32m     30\u001b[0m \u001b[38;5;28;01mdef\u001b[39;00m \u001b[38;5;21m_show_params\u001b[39m(obj):\n\u001b[1;32m     31\u001b[0m     \u001b[38;5;28;01mif\u001b[39;00m \u001b[38;5;28misinstance\u001b[39m(obj, graph\u001b[38;5;241m.\u001b[39mNode):\n\u001b[0;32m---> 32\u001b[0m         \u001b[38;5;28;01mreturn\u001b[39;00m {\u001b[38;5;124m\"\u001b[39m\u001b[38;5;124mweave_node\u001b[39m\u001b[38;5;124m\"\u001b[39m: weavejs_fixes\u001b[38;5;241m.\u001b[39mremove_opcall_versions_node(\u001b[43mmake_refs\u001b[49m\u001b[43m(\u001b[49m\u001b[43mobj\u001b[49m\u001b[43m)\u001b[49m)}\n\u001b[1;32m     33\u001b[0m     \u001b[38;5;28;01melif\u001b[39;00m \u001b[38;5;28misinstance\u001b[39m(obj, storage\u001b[38;5;241m.\u001b[39mRef):\n\u001b[1;32m     34\u001b[0m         \u001b[38;5;28;01mfrom\u001b[39;00m \u001b[38;5;21;01mweave\u001b[39;00m \u001b[38;5;28;01mimport\u001b[39;00m ops\n",
      "File \u001b[0;32m~/workspace/weave-internal/weave/show.py:26\u001b[0m, in \u001b[0;36mmake_refs\u001b[0;34m(node)\u001b[0m\n\u001b[1;32m     23\u001b[0m             \u001b[38;5;28;01mreturn\u001b[39;00m op_get(\u001b[38;5;28mstr\u001b[39m(ref\u001b[38;5;241m.\u001b[39muri()))\n\u001b[1;32m     24\u001b[0m     \u001b[38;5;28;01mreturn\u001b[39;00m node\n\u001b[0;32m---> 26\u001b[0m \u001b[38;5;28;01mreturn\u001b[39;00m \u001b[43mgraph\u001b[49m\u001b[38;5;241;43m.\u001b[39;49m\u001b[43mmap_nodes\u001b[49m\u001b[43m(\u001b[49m\u001b[43mnode\u001b[49m\u001b[43m,\u001b[49m\u001b[43m \u001b[49m\u001b[43mmake_ref\u001b[49m\u001b[43m)\u001b[49m\n",
      "File \u001b[0;32m~/workspace/weave-internal/weave/graph.py:238\u001b[0m, in \u001b[0;36mmap_nodes\u001b[0;34m(node, map_fn)\u001b[0m\n\u001b[1;32m    237\u001b[0m \u001b[38;5;28;01mdef\u001b[39;00m \u001b[38;5;21mmap_nodes\u001b[39m(node: Node, map_fn: typing\u001b[38;5;241m.\u001b[39mCallable[[Node], Node]) \u001b[38;5;241m-\u001b[39m\u001b[38;5;241m>\u001b[39m Node:\n\u001b[0;32m--> 238\u001b[0m     \u001b[38;5;28;01mreturn\u001b[39;00m \u001b[43m_map_nodes\u001b[49m\u001b[43m(\u001b[49m\u001b[43mnode\u001b[49m\u001b[43m,\u001b[49m\u001b[43m \u001b[49m\u001b[43mmap_fn\u001b[49m\u001b[43m,\u001b[49m\u001b[43m \u001b[49m\u001b[43m{\u001b[49m\u001b[43m}\u001b[49m\u001b[43m)\u001b[49m\n",
      "File \u001b[0;32m~/workspace/weave-internal/weave/graph.py:232\u001b[0m, in \u001b[0;36m_map_nodes\u001b[0;34m(node, map_fn, already_mapped)\u001b[0m\n\u001b[1;32m    227\u001b[0m     inputs \u001b[38;5;241m=\u001b[39m {\n\u001b[1;32m    228\u001b[0m         k: _map_nodes(n, map_fn, already_mapped)\n\u001b[1;32m    229\u001b[0m         \u001b[38;5;28;01mfor\u001b[39;00m k, n \u001b[38;5;129;01min\u001b[39;00m node\u001b[38;5;241m.\u001b[39mfrom_op\u001b[38;5;241m.\u001b[39minputs\u001b[38;5;241m.\u001b[39mitems()\n\u001b[1;32m    230\u001b[0m     }\n\u001b[1;32m    231\u001b[0m     node \u001b[38;5;241m=\u001b[39m OutputNode(node\u001b[38;5;241m.\u001b[39mtype, node\u001b[38;5;241m.\u001b[39mfrom_op\u001b[38;5;241m.\u001b[39mname, inputs)\n\u001b[0;32m--> 232\u001b[0m mapped_node \u001b[38;5;241m=\u001b[39m \u001b[43mmap_fn\u001b[49m\u001b[43m(\u001b[49m\u001b[43mnode\u001b[49m\u001b[43m)\u001b[49m\n\u001b[1;32m    233\u001b[0m already_mapped[node] \u001b[38;5;241m=\u001b[39m mapped_node\n\u001b[1;32m    234\u001b[0m \u001b[38;5;28;01mreturn\u001b[39;00m mapped_node\n",
      "File \u001b[0;32m~/workspace/weave-internal/weave/show.py:23\u001b[0m, in \u001b[0;36mmake_refs.<locals>.make_ref\u001b[0;34m(node)\u001b[0m\n\u001b[1;32m     21\u001b[0m     ref \u001b[38;5;241m=\u001b[39m storage\u001b[38;5;241m.\u001b[39mget_ref(node\u001b[38;5;241m.\u001b[39mval)\n\u001b[1;32m     22\u001b[0m     \u001b[38;5;28;01mif\u001b[39;00m ref \u001b[38;5;129;01mis\u001b[39;00m \u001b[38;5;129;01mnot\u001b[39;00m \u001b[38;5;28;01mNone\u001b[39;00m:\n\u001b[0;32m---> 23\u001b[0m         \u001b[38;5;28;01mreturn\u001b[39;00m \u001b[43mop_get\u001b[49m\u001b[43m(\u001b[49m\u001b[38;5;28;43mstr\u001b[39;49m\u001b[43m(\u001b[49m\u001b[43mref\u001b[49m\u001b[38;5;241;43m.\u001b[39;49m\u001b[43muri\u001b[49m\u001b[43m(\u001b[49m\u001b[43m)\u001b[49m\u001b[43m)\u001b[49m\u001b[43m)\u001b[49m\n\u001b[1;32m     24\u001b[0m \u001b[38;5;28;01mreturn\u001b[39;00m node\n",
      "File \u001b[0;32m~/workspace/weave-internal/weave/lazy.py:74\u001b[0m, in \u001b[0;36mmake_lazy_call.<locals>.lazy_call\u001b[0;34m(*args, **kwargs)\u001b[0m\n\u001b[1;32m     72\u001b[0m \u001b[38;5;28;01mdef\u001b[39;00m \u001b[38;5;21mlazy_call\u001b[39m(\u001b[38;5;241m*\u001b[39margs, \u001b[38;5;241m*\u001b[39m\u001b[38;5;241m*\u001b[39mkwargs):\n\u001b[1;32m     73\u001b[0m     bound_params \u001b[38;5;241m=\u001b[39m _bind_params(sig, args, kwargs, input_type)\n\u001b[0;32m---> 74\u001b[0m     \u001b[38;5;28;01mreturn\u001b[39;00m \u001b[43m_make_output_node\u001b[49m\u001b[43m(\u001b[49m\u001b[43mfq_op_name\u001b[49m\u001b[43m,\u001b[49m\u001b[43m \u001b[49m\u001b[43mbound_params\u001b[49m\u001b[43m,\u001b[49m\u001b[43m \u001b[49m\u001b[43moutput_type\u001b[49m\u001b[43m)\u001b[49m\n",
      "File \u001b[0;32m~/workspace/weave-internal/weave/lazy.py:33\u001b[0m, in \u001b[0;36m_make_output_node\u001b[0;34m(fq_op_name, bound_params, output_type_)\u001b[0m\n\u001b[1;32m     31\u001b[0m \u001b[38;5;28;01mif\u001b[39;00m callable(output_type):\n\u001b[1;32m     32\u001b[0m     new_input_type \u001b[38;5;241m=\u001b[39m {k: n\u001b[38;5;241m.\u001b[39mtype \u001b[38;5;28;01mfor\u001b[39;00m k, n \u001b[38;5;129;01min\u001b[39;00m bound_params\u001b[38;5;241m.\u001b[39mitems()}\n\u001b[0;32m---> 33\u001b[0m     output_type \u001b[38;5;241m=\u001b[39m \u001b[43moutput_type\u001b[49m\u001b[43m(\u001b[49m\u001b[43mnew_input_type\u001b[49m\u001b[43m)\u001b[49m\n\u001b[1;32m     35\u001b[0m \u001b[38;5;28;01mif\u001b[39;00m \u001b[38;5;28mhasattr\u001b[39m(output_type, \u001b[38;5;124m\"\u001b[39m\u001b[38;5;124mNodeMethodsClass\u001b[39m\u001b[38;5;124m\"\u001b[39m):\n\u001b[1;32m     36\u001b[0m     name \u001b[38;5;241m=\u001b[39m \u001b[38;5;124m\"\u001b[39m\u001b[38;5;124mOutputNode\u001b[39m\u001b[38;5;132;01m%s\u001b[39;00m\u001b[38;5;124m\"\u001b[39m \u001b[38;5;241m%\u001b[39m output_type\u001b[38;5;241m.\u001b[39m\u001b[38;5;18m__class__\u001b[39m\u001b[38;5;241m.\u001b[39m\u001b[38;5;18m__name__\u001b[39m\n",
      "File \u001b[0;32m~/workspace/weave-internal/weave/ops_primitives/file.py:377\u001b[0m, in \u001b[0;36mop_get_return_type_from_inputs\u001b[0;34m(inputs)\u001b[0m\n\u001b[1;32m    376\u001b[0m \u001b[38;5;28;01mdef\u001b[39;00m \u001b[38;5;21mop_get_return_type_from_inputs\u001b[39m(inputs):\n\u001b[0;32m--> 377\u001b[0m     \u001b[38;5;28;01mreturn\u001b[39;00m \u001b[43mop_get_return_type\u001b[49m\u001b[43m(\u001b[49m\u001b[43minputs\u001b[49m\u001b[43m[\u001b[49m\u001b[38;5;124;43m\"\u001b[39;49m\u001b[38;5;124;43muri\u001b[39;49m\u001b[38;5;124;43m\"\u001b[39;49m\u001b[43m]\u001b[49m\u001b[38;5;241;43m.\u001b[39;49m\u001b[43mval\u001b[49m\u001b[43m)\u001b[49m\n",
      "File \u001b[0;32m~/workspace/weave-internal/weave/ops_primitives/file.py:371\u001b[0m, in \u001b[0;36mop_get_return_type\u001b[0;34m(uri)\u001b[0m\n\u001b[1;32m    369\u001b[0m uri_obj \u001b[38;5;241m=\u001b[39m WeaveObjectURI\u001b[38;5;241m.\u001b[39mparsestr(uri)\n\u001b[1;32m    370\u001b[0m \u001b[38;5;28;01mif\u001b[39;00m (uri_obj\u001b[38;5;241m.\u001b[39mscheme \u001b[38;5;241m==\u001b[39m Scheme\u001b[38;5;241m.\u001b[39mLOCAL_FILE):\n\u001b[0;32m--> 371\u001b[0m     \u001b[38;5;28;01mreturn\u001b[39;00m \u001b[43mstorage\u001b[49m\u001b[38;5;241;43m.\u001b[39;49m\u001b[43mrefs\u001b[49m\u001b[38;5;241;43m.\u001b[39;49m\u001b[43mLocalArtifactRef\u001b[49m\u001b[38;5;241;43m.\u001b[39;49m\u001b[43mfrom_str\u001b[49m\u001b[43m(\u001b[49m\u001b[43muri_obj\u001b[49m\u001b[38;5;241;43m.\u001b[39;49m\u001b[43muri\u001b[49m\u001b[43m(\u001b[49m\u001b[43m)\u001b[49m\u001b[43m)\u001b[49m\u001b[38;5;241;43m.\u001b[39;49m\u001b[43mtype\u001b[49m\n\u001b[1;32m    372\u001b[0m \u001b[38;5;28;01melse\u001b[39;00m:\n\u001b[1;32m    373\u001b[0m     \u001b[38;5;28;01mraise\u001b[39;00m \u001b[38;5;167;01mException\u001b[39;00m(\u001b[38;5;124m\"\u001b[39m\u001b[38;5;124mNot implemented\u001b[39m\u001b[38;5;124m\"\u001b[39m)\n",
      "File \u001b[0;32m~/workspace/weave-internal/weave/refs.py:99\u001b[0m, in \u001b[0;36mLocalArtifactRef.type\u001b[0;34m(self)\u001b[0m\n\u001b[1;32m     97\u001b[0m \u001b[38;5;28;01mif\u001b[39;00m \u001b[38;5;28mself\u001b[39m\u001b[38;5;241m.\u001b[39m_type \u001b[38;5;129;01mis\u001b[39;00m \u001b[38;5;129;01mnot\u001b[39;00m \u001b[38;5;28;01mNone\u001b[39;00m:\n\u001b[1;32m     98\u001b[0m     \u001b[38;5;28;01mreturn\u001b[39;00m \u001b[38;5;28mself\u001b[39m\u001b[38;5;241m.\u001b[39m_type\n\u001b[0;32m---> 99\u001b[0m \u001b[38;5;28;01mwith\u001b[39;00m \u001b[38;5;28mself\u001b[39m\u001b[38;5;241m.\u001b[39martifact\u001b[38;5;241m.\u001b[39mopen(\u001b[38;5;124mf\u001b[39m\u001b[38;5;124m\"\u001b[39m\u001b[38;5;132;01m{\u001b[39;00m\u001b[38;5;28mself\u001b[39m\u001b[38;5;241m.\u001b[39mpath\u001b[38;5;132;01m}\u001b[39;00m\u001b[38;5;124m.type.json\u001b[39m\u001b[38;5;124m\"\u001b[39m) \u001b[38;5;28;01mas\u001b[39;00m f:\n\u001b[1;32m    100\u001b[0m     type_json \u001b[38;5;241m=\u001b[39m json\u001b[38;5;241m.\u001b[39mload(f)\n\u001b[1;32m    101\u001b[0m \u001b[38;5;28mself\u001b[39m\u001b[38;5;241m.\u001b[39m_type \u001b[38;5;241m=\u001b[39m types\u001b[38;5;241m.\u001b[39mTypeRegistry\u001b[38;5;241m.\u001b[39mtype_from_dict(type_json)\n",
      "File \u001b[0;32m~/.pyenv/versions/3.9.9/Library/Frameworks/Python.framework/Versions/3.9/lib/python3.9/contextlib.py:119\u001b[0m, in \u001b[0;36m_GeneratorContextManager.__enter__\u001b[0;34m(self)\u001b[0m\n\u001b[1;32m    117\u001b[0m \u001b[38;5;28;01mdel\u001b[39;00m \u001b[38;5;28mself\u001b[39m\u001b[38;5;241m.\u001b[39margs, \u001b[38;5;28mself\u001b[39m\u001b[38;5;241m.\u001b[39mkwds, \u001b[38;5;28mself\u001b[39m\u001b[38;5;241m.\u001b[39mfunc\n\u001b[1;32m    118\u001b[0m \u001b[38;5;28;01mtry\u001b[39;00m:\n\u001b[0;32m--> 119\u001b[0m     \u001b[38;5;28;01mreturn\u001b[39;00m \u001b[38;5;28;43mnext\u001b[39;49m\u001b[43m(\u001b[49m\u001b[38;5;28;43mself\u001b[39;49m\u001b[38;5;241;43m.\u001b[39;49m\u001b[43mgen\u001b[49m\u001b[43m)\u001b[49m\n\u001b[1;32m    120\u001b[0m \u001b[38;5;28;01mexcept\u001b[39;00m \u001b[38;5;167;01mStopIteration\u001b[39;00m:\n\u001b[1;32m    121\u001b[0m     \u001b[38;5;28;01mraise\u001b[39;00m \u001b[38;5;167;01mRuntimeError\u001b[39;00m(\u001b[38;5;124m\"\u001b[39m\u001b[38;5;124mgenerator didn\u001b[39m\u001b[38;5;124m'\u001b[39m\u001b[38;5;124mt yield\u001b[39m\u001b[38;5;124m\"\u001b[39m) \u001b[38;5;28;01mfrom\u001b[39;00m \u001b[38;5;28mNone\u001b[39m\n",
      "File \u001b[0;32m~/workspace/weave-internal/weave/artifacts_local.py:101\u001b[0m, in \u001b[0;36mLocalArtifact.open\u001b[0;34m(self, path, binary)\u001b[0m\n\u001b[1;32m     99\u001b[0m \u001b[38;5;28;01mif\u001b[39;00m binary:\n\u001b[1;32m    100\u001b[0m     mode \u001b[38;5;241m=\u001b[39m \u001b[38;5;124m\"\u001b[39m\u001b[38;5;124mrb\u001b[39m\u001b[38;5;124m\"\u001b[39m\n\u001b[0;32m--> 101\u001b[0m f \u001b[38;5;241m=\u001b[39m \u001b[38;5;28;43mopen\u001b[39;49m\u001b[43m(\u001b[49m\u001b[43mos\u001b[49m\u001b[38;5;241;43m.\u001b[39;49m\u001b[43mpath\u001b[49m\u001b[38;5;241;43m.\u001b[39;49m\u001b[43mjoin\u001b[49m\u001b[43m(\u001b[49m\u001b[38;5;28;43mself\u001b[39;49m\u001b[38;5;241;43m.\u001b[39;49m\u001b[43m_read_dirname\u001b[49m\u001b[43m,\u001b[49m\u001b[43m \u001b[49m\u001b[43mpath\u001b[49m\u001b[43m)\u001b[49m\u001b[43m,\u001b[49m\u001b[43m \u001b[49m\u001b[43mmode\u001b[49m\u001b[43m)\u001b[49m\n\u001b[1;32m    102\u001b[0m \u001b[38;5;28;01myield\u001b[39;00m f\n\u001b[1;32m    103\u001b[0m f\u001b[38;5;241m.\u001b[39mclose()\n",
      "\u001b[0;31mFileNotFoundError\u001b[0m: [Errno 2] No such file or directory: 'local-artifacts/93936b8ceaec82097f911d4d0d04e174/latest/_obj.type.json'"
     ]
    }
   ],
   "source": [
    "weave.show(weave.save(7))"
   ]
  },
  {
   "cell_type": "code",
   "execution_count": 8,
   "id": "6a081835",
   "metadata": {},
   "outputs": [
    {
     "data": {
      "text/plain": [
       "'file://Users/timothysweeney/workspace/weave-internal/examples/local-artifacts/int-obj/93936b8ceaec82097f911d4d0d04e174/int-obj:93936b8ceaec82097f911d4d0d04e174'"
      ]
     },
     "execution_count": 8,
     "metadata": {},
     "output_type": "execute_result"
    }
   ],
   "source": [
    "con = weave.save(7)\n",
    "con.val._ref.artifact.uri()"
   ]
  },
  {
   "cell_type": "code",
   "execution_count": 9,
   "id": "b696ac0a",
   "metadata": {},
   "outputs": [
    {
     "data": {
      "text/html": [
       "\n",
       "        <iframe\n",
       "            width=\"100%\"\n",
       "            height=\"300px\"\n",
       "            src=\"http://127.0.0.1:1234/__frontend/weave_jupyter/index.html?fullScreen&expNode=%7B%22nodeType%22%3A%20%22output%22%2C%20%22type%22%3A%20%22int%22%2C%20%22fromOp%22%3A%20%7B%22name%22%3A%20%22file%22%2C%20%22inputs%22%3A%20%7B%22a%22%3A%20%7B%22nodeType%22%3A%20%22const%22%2C%20%22type%22%3A%20%7B%22type%22%3A%20%22const%22%2C%20%22valType%22%3A%20%22int%22%2C%20%22val%22%3A%204%7D%2C%20%22val%22%3A%204%7D%2C%20%22b%22%3A%20%7B%22nodeType%22%3A%20%22const%22%2C%20%22type%22%3A%20%7B%22type%22%3A%20%22const%22%2C%20%22valType%22%3A%20%22int%22%2C%20%22val%22%3A%205%7D%2C%20%22val%22%3A%205%7D%7D%7D%7D\"\n",
       "            frameborder=\"0\"\n",
       "            allowfullscreen\n",
       "            \n",
       "        ></iframe>\n",
       "        "
      ],
      "text/plain": [
       "<IPython.lib.display.IFrame at 0x126725f70>"
      ]
     },
     "metadata": {},
     "output_type": "display_data"
    }
   ],
   "source": [
    "ref.get().call_fn(4,5)"
   ]
  },
  {
   "cell_type": "code",
   "execution_count": 6,
   "id": "5c8f4696",
   "metadata": {},
   "outputs": [
    {
     "data": {
      "text/html": [
       "Finishing last run (ID:3mfu4zs4) before initializing another..."
      ],
      "text/plain": [
       "<IPython.core.display.HTML object>"
      ]
     },
     "metadata": {},
     "output_type": "display_data"
    },
    {
     "data": {
      "text/html": [
       "Waiting for W&B process to finish... <strong style=\"color:green\">(success).</strong>"
      ],
      "text/plain": [
       "<IPython.core.display.HTML object>"
      ]
     },
     "metadata": {},
     "output_type": "display_data"
    },
    {
     "data": {
      "text/html": [
       "Synced <strong style=\"color:#cdcd00\">efficient-haze-1</strong>: <a href=\"https://wandb.ai/timssweeney/weave_ops/runs/3mfu4zs4\" target=\"_blank\">https://wandb.ai/timssweeney/weave_ops/runs/3mfu4zs4</a><br/>Synced 5 W&B file(s), 0 media file(s), 2 artifact file(s) and 1 other file(s)"
      ],
      "text/plain": [
       "<IPython.core.display.HTML object>"
      ]
     },
     "metadata": {},
     "output_type": "display_data"
    },
    {
     "data": {
      "text/html": [
       "Find logs at: <code>./wandb/run-20220420_100942-3mfu4zs4/logs</code>"
      ],
      "text/plain": [
       "<IPython.core.display.HTML object>"
      ]
     },
     "metadata": {},
     "output_type": "display_data"
    },
    {
     "data": {
      "text/html": [
       "Successfully finished last run (ID:3mfu4zs4). Initializing new run:<br/>"
      ],
      "text/plain": [
       "<IPython.core.display.HTML object>"
      ]
     },
     "metadata": {},
     "output_type": "display_data"
    },
    {
     "data": {
      "text/html": [
       "Tracking run with wandb version 0.12.15.dev1"
      ],
      "text/plain": [
       "<IPython.core.display.HTML object>"
      ]
     },
     "metadata": {},
     "output_type": "display_data"
    },
    {
     "data": {
      "text/html": [
       "Run data is saved locally in <code>/Users/timothysweeney/workspace/weave-internal/examples/wandb/run-20220420_100957-1l9utl8g</code>"
      ],
      "text/plain": [
       "<IPython.core.display.HTML object>"
      ]
     },
     "metadata": {},
     "output_type": "display_data"
    },
    {
     "data": {
      "text/html": [
       "Syncing run <strong><a href=\"https://wandb.ai/timssweeney/weave_ops/runs/1l9utl8g\" target=\"_blank\">dandy-bird-2</a></strong> to <a href=\"https://wandb.ai/timssweeney/weave_ops\" target=\"_blank\">Weights & Biases</a> (<a href=\"https://wandb.me/run\" target=\"_blank\">docs</a>)<br/>"
      ],
      "text/plain": [
       "<IPython.core.display.HTML object>"
      ]
     },
     "metadata": {},
     "output_type": "display_data"
    }
   ],
   "source": [
    "ref = weave.publish(mult)"
   ]
  },
  {
   "cell_type": "code",
   "execution_count": 3,
   "id": "20653167",
   "metadata": {
    "scrolled": true
   },
   "outputs": [
    {
     "data": {
      "text/plain": [
       "{'nodeType': 'output',\n",
       " 'type': 'int',\n",
       " 'fromOp': {'name': 'file://Users/timothysweeney/workspace/weave-internal/examples/local-artifacts/op-exp/56096d3f3cc0b6a7b01d8b8307e006ea/op-exp:56096d3f3cc0b6a7b01d8b8307e006ea',\n",
       "  'inputs': {'a': {'nodeType': 'output',\n",
       "    'type': 'int',\n",
       "    'fromOp': {'name': 'file://Users/timothysweeney/workspace/weave-internal/examples/local-artifacts/op-mult/3b8b6f80a4f695cfd75332fa5f30ff37/op-mult:3b8b6f80a4f695cfd75332fa5f30ff37',\n",
       "     'inputs': {'a': {'nodeType': 'output',\n",
       "       'type': 'int',\n",
       "       'fromOp': {'name': 'file://Users/timothysweeney/workspace/weave-internal/examples/local-artifacts/op-add/b37e90732e6b987adaec91297d67f757/op-add:b37e90732e6b987adaec91297d67f757',\n",
       "        'inputs': {'a': {'nodeType': 'const',\n",
       "          'type': {'type': 'const', 'valType': 'int', 'val': 1},\n",
       "          'val': 1},\n",
       "         'b': {'nodeType': 'const',\n",
       "          'type': {'type': 'const', 'valType': 'int', 'val': 2},\n",
       "          'val': 2}}}},\n",
       "      'b': {'nodeType': 'const',\n",
       "       'type': {'type': 'const', 'valType': 'int', 'val': 3},\n",
       "       'val': 3}}}},\n",
       "   'b': {'nodeType': 'const',\n",
       "    'type': {'type': 'const', 'valType': 'int', 'val': 4},\n",
       "    'val': 4}}}}"
      ]
     },
     "execution_count": 3,
     "metadata": {},
     "output_type": "execute_result"
    }
   ],
   "source": [
    "graph.to_json()"
   ]
  },
  {
   "cell_type": "code",
   "execution_count": 4,
   "id": "6fbbf45e",
   "metadata": {},
   "outputs": [
    {
     "data": {
      "text/html": [
       "\n",
       "        <iframe\n",
       "            width=\"100%\"\n",
       "            height=\"300px\"\n",
       "            src=\"http://127.0.0.1:1234/__frontend/weave_jupyter/index.html?fullScreen&expNode=%7B%22nodeType%22%3A%20%22output%22%2C%20%22type%22%3A%20%22int%22%2C%20%22fromOp%22%3A%20%7B%22name%22%3A%20%22file%22%2C%20%22inputs%22%3A%20%7B%22a%22%3A%20%7B%22nodeType%22%3A%20%22output%22%2C%20%22type%22%3A%20%22int%22%2C%20%22fromOp%22%3A%20%7B%22name%22%3A%20%22file%22%2C%20%22inputs%22%3A%20%7B%22a%22%3A%20%7B%22nodeType%22%3A%20%22output%22%2C%20%22type%22%3A%20%22int%22%2C%20%22fromOp%22%3A%20%7B%22name%22%3A%20%22file%22%2C%20%22inputs%22%3A%20%7B%22a%22%3A%20%7B%22nodeType%22%3A%20%22const%22%2C%20%22type%22%3A%20%7B%22type%22%3A%20%22const%22%2C%20%22valType%22%3A%20%22int%22%2C%20%22val%22%3A%201%7D%2C%20%22val%22%3A%201%7D%2C%20%22b%22%3A%20%7B%22nodeType%22%3A%20%22const%22%2C%20%22type%22%3A%20%7B%22type%22%3A%20%22const%22%2C%20%22valType%22%3A%20%22int%22%2C%20%22val%22%3A%202%7D%2C%20%22val%22%3A%202%7D%7D%7D%7D%2C%20%22b%22%3A%20%7B%22nodeType%22%3A%20%22const%22%2C%20%22type%22%3A%20%7B%22type%22%3A%20%22const%22%2C%20%22valType%22%3A%20%22int%22%2C%20%22val%22%3A%203%7D%2C%20%22val%22%3A%203%7D%7D%7D%7D%2C%20%22b%22%3A%20%7B%22nodeType%22%3A%20%22const%22%2C%20%22type%22%3A%20%7B%22type%22%3A%20%22const%22%2C%20%22valType%22%3A%20%22int%22%2C%20%22val%22%3A%204%7D%2C%20%22val%22%3A%204%7D%7D%7D%7D\"\n",
       "            frameborder=\"0\"\n",
       "            allowfullscreen\n",
       "            \n",
       "        ></iframe>\n",
       "        "
      ],
      "text/plain": [
       "<IPython.lib.display.IFrame at 0x111493250>"
      ]
     },
     "metadata": {},
     "output_type": "display_data"
    }
   ],
   "source": [
    "weave.show(graph)"
   ]
  },
  {
   "cell_type": "code",
   "execution_count": 2,
   "id": "d03dc328",
   "metadata": {},
   "outputs": [
    {
     "name": "stdout",
     "output_type": "stream",
     "text": [
      "Registering op: file://Users/timothysweeney/workspace/weave-internal/examples/local-artifacts/root-val_times_2/9fbc308dbba8ef275ef7b76ac6a0036b/root-val_times_2:9fbc308dbba8ef275ef7b76ac6a0036b\n",
      "<class 'weave.weave_types.Const'>\n",
      "{'nodeType': 'output', 'type': 'int', 'fromOp': {'name': 'file://Users/timothysweeney/workspace/weave-internal/examples/local-artifacts/root-val_times_2/9fbc308dbba8ef275ef7b76ac6a0036b/root-val_times_2:9fbc308dbba8ef275ef7b76ac6a0036b', 'inputs': {'x': {'nodeType': 'const', 'type': {'type': 'const', 'valType': 'int', 'val': 7}, 'val': 7}}}}\n"
     ]
    }
   ],
   "source": [
    "import numpy as np\n",
    "import matplotlib.pyplot as plt\n",
    "import random\n",
    "\n",
    "# @weave.op(\n",
    "#     name=\"root-sin_image\",\n",
    "#     render_info={\"type\": \"function\"},\n",
    "#     input_type={\"f\": weave.types.Int()},\n",
    "#     output_type=weave.types.FileType(weave.types.Const(weave.types.String(), \"png\")),\n",
    "# )\n",
    "# def sin_image(f):    \n",
    "#     x = np.arange(0, f * np.pi, 0.1)\n",
    "#     y = np.sin(x)\n",
    "#     path = \"/tmp/my-%s.png\" % random.randrange(0, 1000000)\n",
    "#     plt.rcParams[\"figure.figsize\"] = (22, 7)\n",
    "#     plt.plot(x, y)\n",
    "#     plt.savefig(path)\n",
    "#     plt.close()\n",
    "#     return weave.ops.LocalFile(path)\n",
    "\n",
    "import weave\n",
    "\n",
    "@weave.op(\n",
    "    name=\"root-val_times_2\",\n",
    "    render_info={\"type\": \"function\"},\n",
    ")\n",
    "def val_times_2(x: int) -> int:    \n",
    "     return x * 2\n",
    "    \n",
    "print(val_times_2(7).to_json())\n"
   ]
  },
  {
   "cell_type": "code",
   "execution_count": 13,
   "id": "217d0cd2",
   "metadata": {},
   "outputs": [
    {
     "name": "stdout",
     "output_type": "stream",
     "text": [
      "{'nodeType': 'output', 'type': 'int', 'fromOp': {'name': 'root-val_times_2:3fd577656d99e1810f9dbf2cb2f7b6c7', 'inputs': {'x': {'nodeType': 'const', 'type': {'type': 'const', 'valType': 'int', 'val': 7}, 'val': 7}}}}\n"
     ]
    }
   ],
   "source": [
    "# x = weave.save(7, name='my-number')\n",
    "# res = sin_val(x)\n",
    "print(val_times_2(7).to_json())\n",
    "# im = sin_image(x + 2)\n",
    "# weave.use(val_times_2(7))"
   ]
  },
  {
   "cell_type": "code",
   "execution_count": null,
   "id": "d8d06148",
   "metadata": {},
   "outputs": [],
   "source": [
    "import json\n",
    "class RunType(weave.types.BasicType):\n",
    "    name = 'run'\n",
    "\n",
    "@weave.op(\n",
    "    name=\"root-run_accuracy_barchart\",\n",
    "    render_info={\"type\": \"function\"},\n",
    "    input_type={\"runs\": weave.types.List(weave.ops.RunType())},\n",
    "    output_type=weave.types.FileType(weave.types.Const(weave.types.String(), 'png'))\n",
    ")\n",
    "def run_accuracy_barchart(runs):\n",
    "    names = [r['name'] for r in runs]\n",
    "    xs = range(len(runs))\n",
    "    ys = [r['summary'].get('acc') for r in runs]\n",
    "    \n",
    "    plt.rcParams[\"figure.figsize\"] = (22, 5)\n",
    "    plt.bar(xs, ys, align='center', alpha=0.5)\n",
    "    plt.xticks(xs, names)\n",
    "    plt.ylabel('acc')\n",
    "    plt.title('Run accuracies')\n",
    "    path = \"/tmp/my-%s.png\" % random.randrange(0, 1000000)\n",
    "    plt.savefig(path)\n",
    "    plt.close()\n",
    "    return weave.ops.LocalFile(path) "
   ]
  },
  {
   "cell_type": "code",
   "execution_count": null,
   "id": "a4dc62a2",
   "metadata": {},
   "outputs": [],
   "source": [
    "runs = weave.ops.project('shawn', 'fasion-sweep').runs()\n",
    "run_accuracy_barchart(runs)"
   ]
  }
 ],
 "metadata": {
  "kernelspec": {
   "display_name": "Python 3 (ipykernel)",
   "language": "python",
   "name": "python3"
  },
  "language_info": {
   "codemirror_mode": {
    "name": "ipython",
    "version": 3
   },
   "file_extension": ".py",
   "mimetype": "text/x-python",
   "name": "python",
   "nbconvert_exporter": "python",
   "pygments_lexer": "ipython3",
   "version": "3.9.9"
  }
 },
 "nbformat": 4,
 "nbformat_minor": 5
}
