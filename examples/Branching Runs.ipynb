{
 "cells": [
  {
   "cell_type": "code",
   "execution_count": 1,
   "id": "ebb80dfc",
   "metadata": {},
   "outputs": [],
   "source": [
    "import weave\n",
    "weave.capture_weave_server_logs()\n",
    "from weave import storage"
   ]
  },
  {
   "cell_type": "code",
   "execution_count": 2,
   "id": "ee8971bb",
   "metadata": {},
   "outputs": [],
   "source": [
    "import numpy as np\n",
    "import random\n",
    "def random_metrics(n=10, starting_index=0):\n",
    "    return [{'step': starting_index + i + 1, \n",
    "             'metricA': random.random() + np.exp(i / 2), \n",
    "             'metricB': random.random() + np.exp(i / 4),\n",
    "             'metricC': random.choice('ABCDEFGHIJKLMNOPQRSTUVWXYZ'),\n",
    "             'metricD': np.random.rand(2, 2).tolist()}\n",
    "            for i in range(n)]\n",
    "\n",
    "root_segment = weave.ops_domain.RunSegment('my-first-run', None, 0, random_metrics(10))\n",
    "ref1 = storage.save(root_segment)\n",
    "segment1 = weave.ops_domain.RunSegment('my-second-run', ref1.uri, 5, random_metrics(10, 5))\n",
    "ref2 = storage.save(segment1)\n",
    "segment2 = weave.ops_domain.RunSegment('my-third-run', ref2.uri, 5, random_metrics(5, 10))\n",
    "ref3 = storage.save(segment2)"
   ]
  },
  {
   "cell_type": "code",
   "execution_count": 3,
   "id": "9536e178",
   "metadata": {
    "scrolled": false
   },
   "outputs": [
    {
     "data": {
      "text/html": [
       "\n",
       "        <iframe\n",
       "            width=\"100%\"\n",
       "            height=\"400px\"\n",
       "            src=\"http://127.0.0.1:59759/__frontend/weave_jupyter/__frontend/weave_jupyter?fullScreen&expNode=%7B%22nodeType%22%3A%20%22output%22%2C%20%22type%22%3A%20%7B%22type%22%3A%20%22RunSegment%22%2C%20%22_property_types%22%3A%20%7B%22name%22%3A%20%22string%22%2C%20%22prior_run_ref%22%3A%20%7B%22type%22%3A%20%22union%22%2C%20%22members%22%3A%20%5B%22string%22%2C%20%22none%22%5D%7D%2C%20%22resumed_from_step%22%3A%20%22int%22%2C%20%22metrics%22%3A%20%22any%22%7D%7D%2C%20%22fromOp%22%3A%20%7B%22name%22%3A%20%22get%22%2C%20%22inputs%22%3A%20%7B%22uri%22%3A%20%7B%22nodeType%22%3A%20%22const%22%2C%20%22type%22%3A%20%22string%22%2C%20%22val%22%3A%20%22local-artifact%3A///tmp/local-artifacts/my-third-run/7f8e2fe0e3d693caa09c89c9f47738cb%22%7D%7D%7D%7D\"\n",
       "            frameborder=\"0\"\n",
       "            allowfullscreen\n",
       "            \n",
       "        ></iframe>\n",
       "        "
      ],
      "text/plain": [
       "<IPython.lib.display.IFrame at 0x180a690a0>"
      ]
     },
     "metadata": {},
     "output_type": "display_data"
    },
    {
     "name": "stderr",
     "output_type": "stream",
     "text": [
      "[2022-08-23 14:34:28,665] INFO in _internal (Thread Name: Thread-6): 127.0.0.1 - - [23/Aug/2022 14:34:28] \"GET /__frontend/weave_jupyter/__frontend/weave_jupyter?fullScreen&expNode=%7B%22nodeType%22%3A%20%22output%22,%20%22type%22%3A%20%7B%22type%22%3A%20%22RunSegment%22,%20%22_property_types%22%3A%20%7B%22name%22%3A%20%22string%22,%20%22prior_run_ref%22%3A%20%7B%22type%22%3A%20%22union%22,%20%22members%22%3A%20%5B%22string%22,%20%22none%22%5D%7D,%20%22resumed_from_step%22%3A%20%22int%22,%20%22metrics%22%3A%20%22any%22%7D%7D,%20%22fromOp%22%3A%20%7B%22name%22%3A%20%22get%22,%20%22inputs%22%3A%20%7B%22uri%22%3A%20%7B%22nodeType%22%3A%20%22const%22,%20%22type%22%3A%20%22string%22,%20%22val%22%3A%20%22local-artifact%3A///tmp/local-artifacts/my-third-run/7f8e2fe0e3d693caa09c89c9f47738cb%22%7D%7D%7D%7D HTTP/1.1\" 200 -\n",
      "[2022-08-23 14:34:28,682] INFO in _internal (Thread Name: Thread-6): 127.0.0.1 - - [23/Aug/2022 14:34:28] \"GET /__frontend/assets/index.32074052.css HTTP/1.1\" 200 -\n",
      "[2022-08-23 14:34:28,690] INFO in _internal (Thread Name: Thread-6): 127.0.0.1 - - [23/Aug/2022 14:34:28] \"GET /__frontend/assets/index.98155431.js HTTP/1.1\" 200 -\n",
      "[2022-08-23 14:34:29,125] INFO in _internal (Thread Name: Thread-6): 127.0.0.1 - - [23/Aug/2022 14:34:29] \"GET /__weave/ops HTTP/1.1\" 200 -\n",
      "[2022-08-23 14:34:29,168] INFO in _internal (Thread Name: Thread-6): 127.0.0.1 - - [23/Aug/2022 14:34:29] \"GET /__frontend/assets/Component.a7d34b1a.js HTTP/1.1\" 200 -\n",
      "[2022-08-23 14:34:29,171] INFO in _internal (Thread Name: Thread-6): 127.0.0.1 - - [23/Aug/2022 14:34:29] \"GET /__frontend/assets/Menu.c8e2731a.js HTTP/1.1\" 200 -\n",
      "[2022-08-23 14:34:29,263] INFO in _internal (Thread Name: Thread-6): 127.0.0.1 - - [23/Aug/2022 14:34:29] \"GET /tree-sitter.wasm HTTP/1.1\" 200 -\n",
      "[2022-08-23 14:34:29,272] INFO in _internal (Thread Name: Thread-6): 127.0.0.1 - - [23/Aug/2022 14:34:29] \"GET /__frontend/assets/inconsolata-v19-latin-regular.a7dff539.woff2 HTTP/1.1\" 200 -\n",
      "[2022-08-23 14:34:29,275] INFO in _internal (Thread Name: Thread-6): 127.0.0.1 - - [23/Aug/2022 14:34:29] \"GET /__frontend/assets/source-sans-pro-v13-latin-regular.a9950fa5.woff2 HTTP/1.1\" 200 -\n",
      "[2022-08-23 14:34:29,279] INFO in _internal (Thread Name: Thread-6): 127.0.0.1 - - [23/Aug/2022 14:34:29] \"GET /__frontend/assets/icons.434466b5.woff2 HTTP/1.1\" 200 -\n",
      "[2022-08-23 14:34:29,362] INFO in execute (Thread Name: Thread-6): Execution summary\n",
      "{'getReturnType': {'avg_time': 0.011013984680175781,\n",
      "                   'count': 1,\n",
      "                   'total_time': 0.011013984680175781}}\n",
      "[2022-08-23 14:34:29,364] INFO in server (Thread Name: Thread-6): Server request done in: 0.012751102447509766s\n",
      "[2022-08-23 14:34:29,365] INFO in _internal (Thread Name: Thread-6): 127.0.0.1 - - [23/Aug/2022 14:34:29] \"POST /__weave/execute HTTP/1.1\" 200 -\n",
      "[2022-08-23 14:34:29,370] INFO in _internal (Thread Name: Thread-6): 127.0.0.1 - - [23/Aug/2022 14:34:29] \"GET /__frontend/assets/source-sans-pro-v13-latin-600.efb3cdc5.woff2 HTTP/1.1\" 200 -\n",
      "[2022-08-23 14:34:29,374] INFO in _internal (Thread Name: Thread-6): 127.0.0.1 - - [23/Aug/2022 14:34:29] \"GET /__frontend/assets/tree-sitter-weave.070e7046.wasm HTTP/1.1\" 200 -\n",
      "[2022-08-23 14:34:29,451] INFO in execute (Thread Name: Thread-6): Execution summary\n",
      "{'op-run_segment_render': {'avg_time': 0.008506059646606445,\n",
      "                           'count': 1,\n",
      "                           'total_time': 0.008506059646606445}}\n",
      "[2022-08-23 14:34:29,452] INFO in server (Thread Name: Thread-6): Server request done in: 0.010155677795410156s\n",
      "[2022-08-23 14:34:29,454] INFO in _internal (Thread Name: Thread-6): 127.0.0.1 - - [23/Aug/2022 14:34:29] \"POST /__weave/execute HTTP/1.1\" 200 -\n",
      "[2022-08-23 14:34:29,534] INFO in execute (Thread Name: Thread-6): Execution summary\n",
      "{}\n",
      "[2022-08-23 14:34:29,535] INFO in server (Thread Name: Thread-6): Server request done in: 0.0014948844909667969s\n",
      "[2022-08-23 14:34:29,537] INFO in _internal (Thread Name: Thread-6): 127.0.0.1 - - [23/Aug/2022 14:34:29] \"POST /__weave/execute HTTP/1.1\" 200 -\n",
      "[2022-08-23 14:34:29,548] INFO in _internal (Thread Name: Thread-6): 127.0.0.1 - - [23/Aug/2022 14:34:29] \"GET /__frontend/assets/source-sans-pro-v13-latin-700.24f7e397.woff2 HTTP/1.1\" 200 -\n"
     ]
    },
    {
     "name": "stdout",
     "output_type": "stream",
     "text": [
      "Server request running 1 nodes.\n",
      "getReturnType(\"local-artifact:///tmp/local-artifacts/my-third-run/7f8e2fe0e3d693caa09c89c9f47738cb\")\n",
      "Server request running 1 nodes.\n",
      "run_segment_render(run_segment_node)\n",
      "Server request running 1 nodes.\n",
      "\"run_segment_node\"\n"
     ]
    }
   ],
   "source": [
    "weave.show(segment2)"
   ]
  },
  {
   "cell_type": "code",
   "execution_count": 13,
   "id": "60cfda32",
   "metadata": {},
   "outputs": [],
   "source": [
    "import numpy as np\n",
    "import random\n",
    "def random_metrics(n=10, starting_index=0):\n",
    "    return [{'step': starting_index + i + 1, \n",
    "             'metricA': random.random() + np.exp(i / 2), \n",
    "             'metricB': random.random() + np.exp(i / 4),\n",
    "             'metricC': random.choice('ABCDEFGHIJKLMNOPQRSTUVWXYZ'),\n",
    "             'metricD': np.random.rand(2, 2).tolist()}\n",
    "            for i in range(n)]\n",
    "\n",
    "root_segment = weave.ops_domain.RunSegment('my-first-run', None, 0, random_metrics(10))\n",
    "uri1 = weave.publish(root_segment).to_json()['fromOp']['inputs']['uri']['val']\n",
    "segment1 = weave.ops_domain.RunSegment('my-second-run', uri1, 5, random_metrics(10, 5))\n",
    "uri2 = weave.publish(segment1).to_json()['fromOp']['inputs']['uri']['val']\n",
    "segment2 = weave.ops_domain.RunSegment('my-third-run', uri2, 5, random_metrics(5, 10))"
   ]
  },
  {
   "cell_type": "code",
   "execution_count": 14,
   "id": "58ad39e9",
   "metadata": {},
   "outputs": [
    {
     "data": {
      "text/html": [
       "\n",
       "        <iframe\n",
       "            width=\"100%\"\n",
       "            height=\"400px\"\n",
       "            src=\"http://127.0.0.1:56953/__frontend/weave_jupyter/__frontend/weave_jupyter?fullScreen&expNode=%7B%22nodeType%22%3A%20%22output%22%2C%20%22type%22%3A%20%7B%22type%22%3A%20%22list%22%2C%20%22objectType%22%3A%20%7B%22type%22%3A%20%22typedDict%22%2C%20%22propertyTypes%22%3A%20%7B%22step%22%3A%20%7B%22type%22%3A%20%22union%22%2C%20%22members%22%3A%20%5B%22int%22%2C%20%22none%22%5D%7D%2C%20%22metricA%22%3A%20%7B%22type%22%3A%20%22union%22%2C%20%22members%22%3A%20%5B%22float%22%2C%20%22none%22%5D%7D%2C%20%22metricB%22%3A%20%7B%22type%22%3A%20%22union%22%2C%20%22members%22%3A%20%5B%22float%22%2C%20%22none%22%5D%7D%2C%20%22metricC%22%3A%20%7B%22type%22%3A%20%22union%22%2C%20%22members%22%3A%20%5B%22string%22%2C%20%22none%22%5D%7D%2C%20%22metricD%22%3A%20%7B%22type%22%3A%20%22union%22%2C%20%22members%22%3A%20%5B%7B%22type%22%3A%20%22list%22%2C%20%22objectType%22%3A%20%7B%22type%22%3A%20%22list%22%2C%20%22objectType%22%3A%20%22float%22%7D%7D%2C%20%22none%22%5D%7D%2C%20%22name%22%3A%20%7B%22type%22%3A%20%22union%22%2C%20%22members%22%3A%20%5B%22none%22%2C%20%22string%22%5D%7D%7D%7D%7D%2C%20%22fromOp%22%3A%20%7B%22name%22%3A%20%22RunSegment-experiment%22%2C%20%22inputs%22%3A%20%7B%22self%22%3A%20%7B%22nodeType%22%3A%20%22output%22%2C%20%22type%22%3A%20%7B%22type%22%3A%20%22RunSegment%22%2C%20%22_property_types%22%3A%20%7B%22name%22%3A%20%22string%22%2C%20%22prior_run_ref%22%3A%20%7B%22type%22%3A%20%22union%22%2C%20%22members%22%3A%20%5B%22string%22%2C%20%22none%22%5D%7D%2C%20%22resumed_from_step%22%3A%20%22int%22%2C%20%22metrics%22%3A%20%22any%22%7D%7D%2C%20%22fromOp%22%3A%20%7B%22name%22%3A%20%22get%22%2C%20%22inputs%22%3A%20%7B%22uri%22%3A%20%7B%22nodeType%22%3A%20%22const%22%2C%20%22type%22%3A%20%22string%22%2C%20%22val%22%3A%20%22local-artifact%3A///tmp/local-artifacts/RunSegment/b032bb7c022111b43c757554be1e3721%22%7D%7D%7D%7D%7D%7D%7D\"\n",
       "            frameborder=\"0\"\n",
       "            allowfullscreen\n",
       "            \n",
       "        ></iframe>\n",
       "        "
      ],
      "text/plain": [
       "<IPython.lib.display.IFrame at 0x186e34c10>"
      ]
     },
     "metadata": {},
     "output_type": "display_data"
    },
    {
     "name": "stdout",
     "output_type": "stream",
     "text": [
      "Server request running 1 nodes.\n",
      "getReturnType(\"local-artifact:///tmp/local-artifacts/RunSegment/b032bb7c022111b43c757554be1e3721\")\n",
      "Server request running 1 nodes.\n",
      "get(\"local-artifact:///tmp/local-artifacts/RunSegment/b032bb7c022111b43c757554be1e3721\").refine_experiment_type()\n",
      "Server request running 8 nodes.\n",
      "\"inherit\"\n",
      "\"\"\n",
      "get(\"local-artifact:///tmp/local-artifacts/RunSegment/b032bb7c022111b43c757554be1e3721\").experiment().indexCheckpoint().index(0).indexCheckpoint()\n",
      "get(\"local-artifact:///tmp/local-artifacts/RunSegment/b032bb7c022111b43c757554be1e3721\").experiment().indexCheckpoint().index(1).indexCheckpoint()\n",
      "get(\"local-artifact:///tmp/local-artifacts/RunSegment/b032bb7c022111b43c757554be1e3721\").experiment().indexCheckpoint().index(2).indexCheckpoint()\n",
      "get(\"local-artifact:///tmp/local-artifacts/RunSegment/b032bb7c022111b43c757554be1e3721\").experiment().indexCheckpoint().index(3).indexCheckpoint()\n",
      "get(\"local-artifact:///tmp/local-artifacts/RunSegment/b032bb7c022111b43c757554be1e3721\").experiment().indexCheckpoint().index(4).indexCheckpoint()\n",
      "get(\"local-artifact:///tmp/local-artifacts/RunSegment/b032bb7c022111b43c757554be1e3721\").experiment().indexCheckpoint().count()\n",
      "Server request running 24 nodes.\n",
      "get(\"local-artifact:///tmp/local-artifacts/RunSegment/b032bb7c022111b43c757554be1e3721\").experiment().indexCheckpoint().index(0).pick(\"step\")\n",
      "get(\"local-artifact:///tmp/local-artifacts/RunSegment/b032bb7c022111b43c757554be1e3721\").experiment().indexCheckpoint().index(0).pick(\"metricA\")\n",
      "get(\"local-artifact:///tmp/local-artifacts/RunSegment/b032bb7c022111b43c757554be1e3721\").experiment().indexCheckpoint().index(0).pick(\"metricB\")\n",
      "get(\"local-artifact:///tmp/local-artifacts/RunSegment/b032bb7c022111b43c757554be1e3721\").experiment().indexCheckpoint().index(0).pick(\"metricC\")\n",
      "get(\"local-artifact:///tmp/local-artifacts/RunSegment/b032bb7c022111b43c757554be1e3721\").experiment().indexCheckpoint().index(0).pick(\"metricD\").count()\n",
      "get(\"local-artifact:///tmp/local-artifacts/RunSegment/b032bb7c022111b43c757554be1e3721\").experiment().indexCheckpoint().index(0).pick(\"metricD\").offset(0).limit(1).count()\n",
      "get(\"local-artifact:///tmp/local-artifacts/RunSegment/b032bb7c022111b43c757554be1e3721\").experiment().indexCheckpoint().index(0).pick(\"metricD\")\n",
      "get(\"local-artifact:///tmp/local-artifacts/RunSegment/b032bb7c022111b43c757554be1e3721\").experiment().indexCheckpoint().index(0).pick(\"name\")\n",
      "get(\"local-artifact:///tmp/local-artifacts/RunSegment/b032bb7c022111b43c757554be1e3721\").experiment().indexCheckpoint().index(1).pick(\"step\")\n",
      "get(\"local-artifact:///tmp/local-artifacts/RunSegment/b032bb7c022111b43c757554be1e3721\").experiment().indexCheckpoint().index(1).pick(\"metricA\")\n",
      "get(\"local-artifact:///tmp/local-artifacts/RunSegment/b032bb7c022111b43c757554be1e3721\").experiment().indexCheckpoint().index(1).pick(\"metricB\")\n",
      "get(\"local-artifact:///tmp/local-artifacts/RunSegment/b032bb7c022111b43c757554be1e3721\").experiment().indexCheckpoint().index(1).pick(\"metricC\")\n",
      "get(\"local-artifact:///tmp/local-artifacts/RunSegment/b032bb7c022111b43c757554be1e3721\").experiment().indexCheckpoint().index(1).pick(\"metricD\").count()\n",
      "get(\"local-artifact:///tmp/local-artifacts/RunSegment/b032bb7c022111b43c757554be1e3721\").experiment().indexCheckpoint().index(1).pick(\"metricD\").offset(0).limit(1).count()\n",
      "get(\"local-artifact:///tmp/local-artifacts/RunSegment/b032bb7c022111b43c757554be1e3721\").experiment().indexCheckpoint().index(1).pick(\"metricD\")\n",
      "get(\"local-artifact:///tmp/local-artifacts/RunSegment/b032bb7c022111b43c757554be1e3721\").experiment().indexCheckpoint().index(1).pick(\"name\")\n",
      "get(\"local-artifact:///tmp/local-artifacts/RunSegment/b032bb7c022111b43c757554be1e3721\").experiment().indexCheckpoint().index(2).pick(\"step\")\n",
      "get(\"local-artifact:///tmp/local-artifacts/RunSegment/b032bb7c022111b43c757554be1e3721\").experiment().indexCheckpoint().index(2).pick(\"metricA\")\n",
      "get(\"local-artifact:///tmp/local-artifacts/RunSegment/b032bb7c022111b43c757554be1e3721\").experiment().indexCheckpoint().index(2).pick(\"metricB\")\n",
      "get(\"local-artifact:///tmp/local-artifacts/RunSegment/b032bb7c022111b43c757554be1e3721\").experiment().indexCheckpoint().index(2).pick(\"metricC\")\n",
      "get(\"local-artifact:///tmp/local-artifacts/RunSegment/b032bb7c022111b43c757554be1e3721\").experiment().indexCheckpoint().index(2).pick(\"metricD\").count()\n",
      "get(\"local-artifact:///tmp/local-artifacts/RunSegment/b032bb7c022111b43c757554be1e3721\").experiment().indexCheckpoint().index(2).pick(\"metricD\").offset(0).limit(1).count()\n",
      "get(\"local-artifact:///tmp/local-artifacts/RunSegment/b032bb7c022111b43c757554be1e3721\").experiment().indexCheckpoint().index(2).pick(\"metricD\")\n",
      "get(\"local-artifact:///tmp/local-artifacts/RunSegment/b032bb7c022111b43c757554be1e3721\").experiment().indexCheckpoint().index(2).pick(\"name\")\n",
      "Server request running 3 nodes.\n",
      "get(\"local-artifact:///tmp/local-artifacts/RunSegment/b032bb7c022111b43c757554be1e3721\").experiment().indexCheckpoint().index(0).pick(\"metricD\").offset(0).limit(1).index(0)\n",
      "get(\"local-artifact:///tmp/local-artifacts/RunSegment/b032bb7c022111b43c757554be1e3721\").experiment().indexCheckpoint().index(1).pick(\"metricD\").offset(0).limit(1).index(0)\n",
      "get(\"local-artifact:///tmp/local-artifacts/RunSegment/b032bb7c022111b43c757554be1e3721\").experiment().indexCheckpoint().index(2).pick(\"metricD\").offset(0).limit(1).index(0)\n",
      "Server request running 12 nodes.\n",
      "get(\"local-artifact:///tmp/local-artifacts/RunSegment/b032bb7c022111b43c757554be1e3721\").experiment().indexCheckpoint().index(3).pick(\"step\")\n",
      "get(\"local-artifact:///tmp/local-artifacts/RunSegment/b032bb7c022111b43c757554be1e3721\").experiment().indexCheckpoint().index(3).pick(\"metricA\")\n",
      "get(\"local-artifact:///tmp/local-artifacts/RunSegment/b032bb7c022111b43c757554be1e3721\").experiment().indexCheckpoint().index(3).pick(\"metricB\")\n",
      "get(\"local-artifact:///tmp/local-artifacts/RunSegment/b032bb7c022111b43c757554be1e3721\").experiment().indexCheckpoint().index(3).pick(\"metricC\")\n",
      "get(\"local-artifact:///tmp/local-artifacts/RunSegment/b032bb7c022111b43c757554be1e3721\").experiment().indexCheckpoint().index(3).pick(\"metricD\").count()\n",
      "get(\"local-artifact:///tmp/local-artifacts/RunSegment/b032bb7c022111b43c757554be1e3721\").experiment().indexCheckpoint().index(3).pick(\"metricD\").offset(0).limit(1).count()\n",
      "get(\"local-artifact:///tmp/local-artifacts/RunSegment/b032bb7c022111b43c757554be1e3721\").experiment().indexCheckpoint().index(3).pick(\"metricD\")\n",
      "get(\"local-artifact:///tmp/local-artifacts/RunSegment/b032bb7c022111b43c757554be1e3721\").experiment().indexCheckpoint().index(3).pick(\"name\")\n",
      "get(\"local-artifact:///tmp/local-artifacts/RunSegment/b032bb7c022111b43c757554be1e3721\").experiment().indexCheckpoint().index(4).pick(\"step\")\n",
      "get(\"local-artifact:///tmp/local-artifacts/RunSegment/b032bb7c022111b43c757554be1e3721\").experiment().indexCheckpoint().index(4).pick(\"metricA\")\n",
      "get(\"local-artifact:///tmp/local-artifacts/RunSegment/b032bb7c022111b43c757554be1e3721\").experiment().indexCheckpoint().index(4).pick(\"metricB\")\n",
      "get(\"local-artifact:///tmp/local-artifacts/RunSegment/b032bb7c022111b43c757554be1e3721\").experiment().indexCheckpoint().index(4).pick(\"metricC\")\n",
      "Server request running 5 nodes.\n",
      "get(\"local-artifact:///tmp/local-artifacts/RunSegment/b032bb7c022111b43c757554be1e3721\").experiment().indexCheckpoint().index(4).pick(\"metricD\").count()\n",
      "get(\"local-artifact:///tmp/local-artifacts/RunSegment/b032bb7c022111b43c757554be1e3721\").experiment().indexCheckpoint().index(4).pick(\"metricD\").offset(0).limit(1).count()\n",
      "get(\"local-artifact:///tmp/local-artifacts/RunSegment/b032bb7c022111b43c757554be1e3721\").experiment().indexCheckpoint().index(4).pick(\"metricD\")\n",
      "get(\"local-artifact:///tmp/local-artifacts/RunSegment/b032bb7c022111b43c757554be1e3721\").experiment().indexCheckpoint().index(4).pick(\"name\")\n",
      "get(\"local-artifact:///tmp/local-artifacts/RunSegment/b032bb7c022111b43c757554be1e3721\").experiment().indexCheckpoint().index(3).pick(\"metricD\").offset(0).limit(1).index(0)\n",
      "Server request running 1 nodes.\n",
      "get(\"local-artifact:///tmp/local-artifacts/RunSegment/b032bb7c022111b43c757554be1e3721\").experiment().indexCheckpoint().index(4).pick(\"metricD\").offset(0).limit(1).index(0)\n",
      "Server request running 5 nodes.\n",
      "get(\"local-artifact:///tmp/local-artifacts/RunSegment/b032bb7c022111b43c757554be1e3721\").experiment().indexCheckpoint().index(5).indexCheckpoint()\n",
      "get(\"local-artifact:///tmp/local-artifacts/RunSegment/b032bb7c022111b43c757554be1e3721\").experiment().indexCheckpoint().index(6).indexCheckpoint()\n",
      "get(\"local-artifact:///tmp/local-artifacts/RunSegment/b032bb7c022111b43c757554be1e3721\").experiment().indexCheckpoint().index(7).indexCheckpoint()\n",
      "get(\"local-artifact:///tmp/local-artifacts/RunSegment/b032bb7c022111b43c757554be1e3721\").experiment().indexCheckpoint().index(8).indexCheckpoint()\n",
      "get(\"local-artifact:///tmp/local-artifacts/RunSegment/b032bb7c022111b43c757554be1e3721\").experiment().indexCheckpoint().index(9).indexCheckpoint()\n",
      "Server request running 40 nodes.\n",
      "get(\"local-artifact:///tmp/local-artifacts/RunSegment/b032bb7c022111b43c757554be1e3721\").experiment().indexCheckpoint().index(5).pick(\"step\")\n",
      "get(\"local-artifact:///tmp/local-artifacts/RunSegment/b032bb7c022111b43c757554be1e3721\").experiment().indexCheckpoint().index(5).pick(\"metricA\")\n",
      "get(\"local-artifact:///tmp/local-artifacts/RunSegment/b032bb7c022111b43c757554be1e3721\").experiment().indexCheckpoint().index(5).pick(\"metricB\")\n",
      "get(\"local-artifact:///tmp/local-artifacts/RunSegment/b032bb7c022111b43c757554be1e3721\").experiment().indexCheckpoint().index(5).pick(\"metricC\")\n",
      "get(\"local-artifact:///tmp/local-artifacts/RunSegment/b032bb7c022111b43c757554be1e3721\").experiment().indexCheckpoint().index(5).pick(\"metricD\").count()\n",
      "get(\"local-artifact:///tmp/local-artifacts/RunSegment/b032bb7c022111b43c757554be1e3721\").experiment().indexCheckpoint().index(5).pick(\"metricD\").offset(0).limit(1).count()\n",
      "get(\"local-artifact:///tmp/local-artifacts/RunSegment/b032bb7c022111b43c757554be1e3721\").experiment().indexCheckpoint().index(5).pick(\"metricD\")\n",
      "get(\"local-artifact:///tmp/local-artifacts/RunSegment/b032bb7c022111b43c757554be1e3721\").experiment().indexCheckpoint().index(5).pick(\"name\")\n",
      "get(\"local-artifact:///tmp/local-artifacts/RunSegment/b032bb7c022111b43c757554be1e3721\").experiment().indexCheckpoint().index(6).pick(\"step\")\n",
      "get(\"local-artifact:///tmp/local-artifacts/RunSegment/b032bb7c022111b43c757554be1e3721\").experiment().indexCheckpoint().index(6).pick(\"metricA\")\n",
      "get(\"local-artifact:///tmp/local-artifacts/RunSegment/b032bb7c022111b43c757554be1e3721\").experiment().indexCheckpoint().index(6).pick(\"metricB\")\n",
      "get(\"local-artifact:///tmp/local-artifacts/RunSegment/b032bb7c022111b43c757554be1e3721\").experiment().indexCheckpoint().index(6).pick(\"metricC\")\n",
      "get(\"local-artifact:///tmp/local-artifacts/RunSegment/b032bb7c022111b43c757554be1e3721\").experiment().indexCheckpoint().index(6).pick(\"metricD\").count()\n",
      "get(\"local-artifact:///tmp/local-artifacts/RunSegment/b032bb7c022111b43c757554be1e3721\").experiment().indexCheckpoint().index(6).pick(\"metricD\").offset(0).limit(1).count()\n",
      "get(\"local-artifact:///tmp/local-artifacts/RunSegment/b032bb7c022111b43c757554be1e3721\").experiment().indexCheckpoint().index(6).pick(\"metricD\")\n",
      "get(\"local-artifact:///tmp/local-artifacts/RunSegment/b032bb7c022111b43c757554be1e3721\").experiment().indexCheckpoint().index(6).pick(\"name\")\n",
      "get(\"local-artifact:///tmp/local-artifacts/RunSegment/b032bb7c022111b43c757554be1e3721\").experiment().indexCheckpoint().index(7).pick(\"step\")\n",
      "get(\"local-artifact:///tmp/local-artifacts/RunSegment/b032bb7c022111b43c757554be1e3721\").experiment().indexCheckpoint().index(7).pick(\"metricA\")\n",
      "get(\"local-artifact:///tmp/local-artifacts/RunSegment/b032bb7c022111b43c757554be1e3721\").experiment().indexCheckpoint().index(7).pick(\"metricB\")\n",
      "get(\"local-artifact:///tmp/local-artifacts/RunSegment/b032bb7c022111b43c757554be1e3721\").experiment().indexCheckpoint().index(7).pick(\"metricC\")\n",
      "get(\"local-artifact:///tmp/local-artifacts/RunSegment/b032bb7c022111b43c757554be1e3721\").experiment().indexCheckpoint().index(7).pick(\"metricD\").count()\n",
      "get(\"local-artifact:///tmp/local-artifacts/RunSegment/b032bb7c022111b43c757554be1e3721\").experiment().indexCheckpoint().index(7).pick(\"metricD\").offset(0).limit(1).count()\n",
      "get(\"local-artifact:///tmp/local-artifacts/RunSegment/b032bb7c022111b43c757554be1e3721\").experiment().indexCheckpoint().index(7).pick(\"metricD\")\n",
      "get(\"local-artifact:///tmp/local-artifacts/RunSegment/b032bb7c022111b43c757554be1e3721\").experiment().indexCheckpoint().index(7).pick(\"name\")\n",
      "get(\"local-artifact:///tmp/local-artifacts/RunSegment/b032bb7c022111b43c757554be1e3721\").experiment().indexCheckpoint().index(8).pick(\"step\")\n",
      "get(\"local-artifact:///tmp/local-artifacts/RunSegment/b032bb7c022111b43c757554be1e3721\").experiment().indexCheckpoint().index(8).pick(\"metricA\")\n",
      "get(\"local-artifact:///tmp/local-artifacts/RunSegment/b032bb7c022111b43c757554be1e3721\").experiment().indexCheckpoint().index(8).pick(\"metricB\")\n",
      "get(\"local-artifact:///tmp/local-artifacts/RunSegment/b032bb7c022111b43c757554be1e3721\").experiment().indexCheckpoint().index(8).pick(\"metricC\")\n",
      "get(\"local-artifact:///tmp/local-artifacts/RunSegment/b032bb7c022111b43c757554be1e3721\").experiment().indexCheckpoint().index(8).pick(\"metricD\").count()\n",
      "get(\"local-artifact:///tmp/local-artifacts/RunSegment/b032bb7c022111b43c757554be1e3721\").experiment().indexCheckpoint().index(8).pick(\"metricD\").offset(0).limit(1).count()\n",
      "get(\"local-artifact:///tmp/local-artifacts/RunSegment/b032bb7c022111b43c757554be1e3721\").experiment().indexCheckpoint().index(8).pick(\"metricD\")\n",
      "get(\"local-artifact:///tmp/local-artifacts/RunSegment/b032bb7c022111b43c757554be1e3721\").experiment().indexCheckpoint().index(8).pick(\"name\")\n",
      "get(\"local-artifact:///tmp/local-artifacts/RunSegment/b032bb7c022111b43c757554be1e3721\").experiment().indexCheckpoint().index(9).pick(\"step\")\n",
      "get(\"local-artifact:///tmp/local-artifacts/RunSegment/b032bb7c022111b43c757554be1e3721\").experiment().indexCheckpoint().index(9).pick(\"metricA\")\n",
      "get(\"local-artifact:///tmp/local-artifacts/RunSegment/b032bb7c022111b43c757554be1e3721\").experiment().indexCheckpoint().index(9).pick(\"metricB\")\n",
      "get(\"local-artifact:///tmp/local-artifacts/RunSegment/b032bb7c022111b43c757554be1e3721\").experiment().indexCheckpoint().index(9).pick(\"metricC\")\n",
      "get(\"local-artifact:///tmp/local-artifacts/RunSegment/b032bb7c022111b43c757554be1e3721\").experiment().indexCheckpoint().index(9).pick(\"metricD\").count()\n",
      "get(\"local-artifact:///tmp/local-artifacts/RunSegment/b032bb7c022111b43c757554be1e3721\").experiment().indexCheckpoint().index(9).pick(\"metricD\").offset(0).limit(1).count()\n",
      "get(\"local-artifact:///tmp/local-artifacts/RunSegment/b032bb7c022111b43c757554be1e3721\").experiment().indexCheckpoint().index(9).pick(\"metricD\")\n",
      "get(\"local-artifact:///tmp/local-artifacts/RunSegment/b032bb7c022111b43c757554be1e3721\").experiment().indexCheckpoint().index(9).pick(\"name\")\n"
     ]
    },
    {
     "name": "stdout",
     "output_type": "stream",
     "text": [
      "Server request running 5 nodes.\n",
      "get(\"local-artifact:///tmp/local-artifacts/RunSegment/b032bb7c022111b43c757554be1e3721\").experiment().indexCheckpoint().index(5).pick(\"metricD\").offset(0).limit(1).index(0)\n",
      "get(\"local-artifact:///tmp/local-artifacts/RunSegment/b032bb7c022111b43c757554be1e3721\").experiment().indexCheckpoint().index(6).pick(\"metricD\").offset(0).limit(1).index(0)\n",
      "get(\"local-artifact:///tmp/local-artifacts/RunSegment/b032bb7c022111b43c757554be1e3721\").experiment().indexCheckpoint().index(7).pick(\"metricD\").offset(0).limit(1).index(0)\n",
      "get(\"local-artifact:///tmp/local-artifacts/RunSegment/b032bb7c022111b43c757554be1e3721\").experiment().indexCheckpoint().index(8).pick(\"metricD\").offset(0).limit(1).index(0)\n",
      "get(\"local-artifact:///tmp/local-artifacts/RunSegment/b032bb7c022111b43c757554be1e3721\").experiment().indexCheckpoint().index(9).pick(\"metricD\").offset(0).limit(1).index(0)\n"
     ]
    }
   ],
   "source": [
    "segment2.experiment()"
   ]
  },
  {
   "cell_type": "code",
   "execution_count": null,
   "id": "53ebcb0c",
   "metadata": {},
   "outputs": [],
   "source": []
  }
 ],
 "metadata": {
  "kernelspec": {
   "display_name": "Python 3 (ipykernel)",
   "language": "python",
   "name": "python3"
  },
  "language_info": {
   "codemirror_mode": {
    "name": "ipython",
    "version": 3
   },
   "file_extension": ".py",
   "mimetype": "text/x-python",
   "name": "python",
   "nbconvert_exporter": "python",
   "pygments_lexer": "ipython3",
   "version": "3.9.7"
  }
 },
 "nbformat": 4,
 "nbformat_minor": 5
}
