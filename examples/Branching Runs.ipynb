{
 "cells": [
  {
   "cell_type": "code",
   "execution_count": 1,
   "id": "ebb80dfc",
   "metadata": {},
   "outputs": [],
   "source": [
    "import weave"
   ]
  },
  {
   "cell_type": "code",
   "execution_count": 2,
   "id": "e4896132",
   "metadata": {},
   "outputs": [
    {
     "ename": "Exception",
     "evalue": "invalid get(\"local-artifact:///tmp/local-artifacts/RunSegment/2df624fa7206ead40539de81ecc3171b\")",
     "output_type": "error",
     "traceback": [
      "\u001b[0;31m---------------------------------------------------------------------------\u001b[0m",
      "\u001b[0;31mException\u001b[0m                                 Traceback (most recent call last)",
      "Input \u001b[0;32mIn [2]\u001b[0m, in \u001b[0;36m<cell line: 9>\u001b[0;34m()\u001b[0m\n\u001b[1;32m      7\u001b[0m ref1 \u001b[38;5;241m=\u001b[39m weave\u001b[38;5;241m.\u001b[39msave(root_segment)\n\u001b[1;32m      8\u001b[0m segment1 \u001b[38;5;241m=\u001b[39m weave\u001b[38;5;241m.\u001b[39mops_domain\u001b[38;5;241m.\u001b[39mRunSegment(\u001b[38;5;124m'\u001b[39m\u001b[38;5;124mmy-second-run\u001b[39m\u001b[38;5;124m'\u001b[39m, ref1, \u001b[38;5;241m5\u001b[39m, random_metrics(\u001b[38;5;241m10\u001b[39m, \u001b[38;5;241m5\u001b[39m))\n\u001b[0;32m----> 9\u001b[0m ref2 \u001b[38;5;241m=\u001b[39m \u001b[43mweave\u001b[49m\u001b[38;5;241;43m.\u001b[39;49m\u001b[43msave\u001b[49m\u001b[43m(\u001b[49m\u001b[43msegment1\u001b[49m\u001b[43m)\u001b[49m\n",
      "File \u001b[0;32m~/go/src/github.com/wandb/weave-internal/weave/api.py:36\u001b[0m, in \u001b[0;36msave\u001b[0;34m(node_or_obj, name)\u001b[0m\n\u001b[1;32m     34\u001b[0m     \u001b[38;5;28;01mreturn\u001b[39;00m _ops\u001b[38;5;241m.\u001b[39msave(node_or_obj, name\u001b[38;5;241m=\u001b[39mname)\n\u001b[1;32m     35\u001b[0m \u001b[38;5;28;01melse\u001b[39;00m:\n\u001b[0;32m---> 36\u001b[0m     ref \u001b[38;5;241m=\u001b[39m \u001b[43m_storage\u001b[49m\u001b[38;5;241;43m.\u001b[39;49m\u001b[43msave\u001b[49m\u001b[43m(\u001b[49m\u001b[43mnode_or_obj\u001b[49m\u001b[43m,\u001b[49m\u001b[43m \u001b[49m\u001b[43mname\u001b[49m\u001b[38;5;241;43m=\u001b[39;49m\u001b[43mname\u001b[49m\u001b[43m)\u001b[49m\n\u001b[1;32m     37\u001b[0m     \u001b[38;5;28;01mreturn\u001b[39;00m _ops\u001b[38;5;241m.\u001b[39mget(\u001b[38;5;28mstr\u001b[39m(ref))\n",
      "File \u001b[0;32m~/go/src/github.com/wandb/weave-internal/weave/storage.py:134\u001b[0m, in \u001b[0;36msave\u001b[0;34m(obj, name, type, artifact)\u001b[0m\n\u001b[1;32m    128\u001b[0m \u001b[38;5;28;01mdef\u001b[39;00m \u001b[38;5;21msave\u001b[39m(obj, name\u001b[38;5;241m=\u001b[39m\u001b[38;5;28;01mNone\u001b[39;00m, \u001b[38;5;28mtype\u001b[39m\u001b[38;5;241m=\u001b[39m\u001b[38;5;28;01mNone\u001b[39;00m, artifact\u001b[38;5;241m=\u001b[39m\u001b[38;5;28;01mNone\u001b[39;00m) \u001b[38;5;241m-\u001b[39m\u001b[38;5;241m>\u001b[39m refs\u001b[38;5;241m.\u001b[39mLocalArtifactRef:\n\u001b[1;32m    129\u001b[0m     \u001b[38;5;66;03m# print(\"STORAGE SAVE\", name, obj, type, artifact)\u001b[39;00m\n\u001b[1;32m    130\u001b[0m     \u001b[38;5;66;03m# ref = _get_ref(obj)\u001b[39;00m\n\u001b[1;32m    131\u001b[0m     \u001b[38;5;66;03m# if ref is not None:\u001b[39;00m\n\u001b[1;32m    132\u001b[0m     \u001b[38;5;66;03m#     if name is None or ref.artifact._name == name:\u001b[39;00m\n\u001b[1;32m    133\u001b[0m     \u001b[38;5;66;03m#         return ref\u001b[39;00m\n\u001b[0;32m--> 134\u001b[0m     \u001b[38;5;28;01mreturn\u001b[39;00m \u001b[43m_save_or_publish\u001b[49m\u001b[43m(\u001b[49m\u001b[43mobj\u001b[49m\u001b[43m,\u001b[49m\u001b[43m \u001b[49m\u001b[43mname\u001b[49m\u001b[43m,\u001b[49m\u001b[43m \u001b[49m\u001b[38;5;28;43mtype\u001b[39;49m\u001b[43m,\u001b[49m\u001b[43m \u001b[49m\u001b[38;5;28;43;01mFalse\u001b[39;49;00m\u001b[43m,\u001b[49m\u001b[43m \u001b[49m\u001b[43martifact\u001b[49m\u001b[38;5;241;43m=\u001b[39;49m\u001b[43martifact\u001b[49m\u001b[43m)\u001b[49m\n",
      "File \u001b[0;32m~/go/src/github.com/wandb/weave-internal/weave/storage.py:106\u001b[0m, in \u001b[0;36m_save_or_publish\u001b[0;34m(obj, name, type, publish, artifact)\u001b[0m\n\u001b[1;32m    104\u001b[0m         artifact \u001b[38;5;241m=\u001b[39m artifacts_local\u001b[38;5;241m.\u001b[39mLocalArtifact(name)\n\u001b[1;32m    105\u001b[0m artifact\u001b[38;5;241m.\u001b[39mmapper \u001b[38;5;241m=\u001b[39m mappers_python\u001b[38;5;241m.\u001b[39mmap_to_python(wb_type, artifact)\n\u001b[0;32m--> 106\u001b[0m ref \u001b[38;5;241m=\u001b[39m \u001b[43msave_to_artifact\u001b[49m\u001b[43m(\u001b[49m\u001b[43mobj\u001b[49m\u001b[43m,\u001b[49m\u001b[43m \u001b[49m\u001b[43martifact\u001b[49m\u001b[43m,\u001b[49m\u001b[43m \u001b[49m\u001b[38;5;124;43m\"\u001b[39;49m\u001b[38;5;124;43m_obj\u001b[39;49m\u001b[38;5;124;43m\"\u001b[39;49m\u001b[43m,\u001b[49m\u001b[43m \u001b[49m\u001b[43mwb_type\u001b[49m\u001b[43m)\u001b[49m\n\u001b[1;32m    108\u001b[0m \u001b[38;5;66;03m# Only save if we have a ref into the artifact we created above. Otherwise\u001b[39;00m\n\u001b[1;32m    109\u001b[0m \u001b[38;5;66;03m#     nothing new was created, so just return the existing ref.\u001b[39;00m\n\u001b[1;32m    110\u001b[0m \u001b[38;5;28;01mif\u001b[39;00m ref\u001b[38;5;241m.\u001b[39martifact \u001b[38;5;241m==\u001b[39m artifact:\n",
      "File \u001b[0;32m~/go/src/github.com/wandb/weave-internal/weave/storage.py:38\u001b[0m, in \u001b[0;36msave_to_artifact\u001b[0;34m(obj, artifact, name, type_)\u001b[0m\n\u001b[1;32m     36\u001b[0m \u001b[38;5;28;01mif\u001b[39;00m name \u001b[38;5;241m!=\u001b[39m \u001b[38;5;124m\"\u001b[39m\u001b[38;5;124m_obj\u001b[39m\u001b[38;5;124m\"\u001b[39m:\n\u001b[1;32m     37\u001b[0m     name \u001b[38;5;241m=\u001b[39m type_\u001b[38;5;241m.\u001b[39mname\n\u001b[0;32m---> 38\u001b[0m ref_extra \u001b[38;5;241m=\u001b[39m \u001b[43mtype_\u001b[49m\u001b[38;5;241;43m.\u001b[39;49m\u001b[43msave_instance\u001b[49m\u001b[43m(\u001b[49m\u001b[43mobj\u001b[49m\u001b[43m,\u001b[49m\u001b[43m \u001b[49m\u001b[43martifact\u001b[49m\u001b[43m,\u001b[49m\u001b[43m \u001b[49m\u001b[43mname\u001b[49m\u001b[43m)\u001b[49m\n\u001b[1;32m     39\u001b[0m \u001b[38;5;66;03m# If save_instance returned a Ref, return that directly.\u001b[39;00m\n\u001b[1;32m     40\u001b[0m \u001b[38;5;66;03m# TODO: refactor\u001b[39;00m\n\u001b[1;32m     41\u001b[0m \u001b[38;5;28;01mif\u001b[39;00m \u001b[38;5;28misinstance\u001b[39m(ref_extra, refs\u001b[38;5;241m.\u001b[39mRef):\n",
      "File \u001b[0;32m~/go/src/github.com/wandb/weave-internal/weave/weave_types.py:672\u001b[0m, in \u001b[0;36mObjectType.save_instance\u001b[0;34m(self, obj, artifact, name)\u001b[0m\n\u001b[1;32m    669\u001b[0m \u001b[38;5;28;01mdef\u001b[39;00m \u001b[38;5;21msave_instance\u001b[39m(\u001b[38;5;28mself\u001b[39m, obj, artifact, name):\n\u001b[1;32m    670\u001b[0m     serializer \u001b[38;5;241m=\u001b[39m mappers_python\u001b[38;5;241m.\u001b[39mmap_to_python(\u001b[38;5;28mself\u001b[39m, artifact)\n\u001b[0;32m--> 672\u001b[0m     result \u001b[38;5;241m=\u001b[39m \u001b[43mserializer\u001b[49m\u001b[38;5;241;43m.\u001b[39;49m\u001b[43mapply\u001b[49m\u001b[43m(\u001b[49m\u001b[43mobj\u001b[49m\u001b[43m)\u001b[49m\n\u001b[1;32m    673\u001b[0m     \u001b[38;5;28;01mwith\u001b[39;00m artifact\u001b[38;5;241m.\u001b[39mnew_file(\u001b[38;5;124mf\u001b[39m\u001b[38;5;124m\"\u001b[39m\u001b[38;5;132;01m{\u001b[39;00mname\u001b[38;5;132;01m}\u001b[39;00m\u001b[38;5;124m.object.json\u001b[39m\u001b[38;5;124m\"\u001b[39m) \u001b[38;5;28;01mas\u001b[39;00m f:\n\u001b[1;32m    674\u001b[0m         json\u001b[38;5;241m.\u001b[39mdump(result, f, allow_nan\u001b[38;5;241m=\u001b[39m\u001b[38;5;28;01mFalse\u001b[39;00m)\n",
      "File \u001b[0;32m~/go/src/github.com/wandb/weave-internal/weave/mappers_python_def.py:38\u001b[0m, in \u001b[0;36mObjectToPyDict.apply\u001b[0;34m(self, obj)\u001b[0m\n\u001b[1;32m     36\u001b[0m \u001b[38;5;28;01mfor\u001b[39;00m prop_name, prop_serializer \u001b[38;5;129;01min\u001b[39;00m \u001b[38;5;28mself\u001b[39m\u001b[38;5;241m.\u001b[39m_property_serializers\u001b[38;5;241m.\u001b[39mitems():\n\u001b[1;32m     37\u001b[0m     \u001b[38;5;28;01mif\u001b[39;00m prop_serializer \u001b[38;5;129;01mis\u001b[39;00m \u001b[38;5;129;01mnot\u001b[39;00m \u001b[38;5;28;01mNone\u001b[39;00m:\n\u001b[0;32m---> 38\u001b[0m         v \u001b[38;5;241m=\u001b[39m \u001b[43mprop_serializer\u001b[49m\u001b[38;5;241;43m.\u001b[39;49m\u001b[43mapply\u001b[49m\u001b[43m(\u001b[49m\u001b[38;5;28;43mgetattr\u001b[39;49m\u001b[43m(\u001b[49m\u001b[43mobj\u001b[49m\u001b[43m,\u001b[49m\u001b[43m \u001b[49m\u001b[43mprop_name\u001b[49m\u001b[43m)\u001b[49m\u001b[43m)\u001b[49m\n\u001b[1;32m     39\u001b[0m         result[prop_name] \u001b[38;5;241m=\u001b[39m v\n\u001b[1;32m     40\u001b[0m \u001b[38;5;28;01mreturn\u001b[39;00m result\n",
      "File \u001b[0;32m~/go/src/github.com/wandb/weave-internal/weave/mappers_python_def.py:85\u001b[0m, in \u001b[0;36mUnionToPyUnion.apply\u001b[0;34m(self, obj)\u001b[0m\n\u001b[1;32m     83\u001b[0m             result \u001b[38;5;241m=\u001b[39m {\u001b[38;5;124m\"\u001b[39m\u001b[38;5;124m_union_id\u001b[39m\u001b[38;5;124m\"\u001b[39m: i, \u001b[38;5;124m\"\u001b[39m\u001b[38;5;124m_val\u001b[39m\u001b[38;5;124m\"\u001b[39m: result}\n\u001b[1;32m     84\u001b[0m         \u001b[38;5;28;01mreturn\u001b[39;00m result\n\u001b[0;32m---> 85\u001b[0m \u001b[38;5;28;01mraise\u001b[39;00m \u001b[38;5;167;01mException\u001b[39;00m(\u001b[38;5;124m\"\u001b[39m\u001b[38;5;124minvalid \u001b[39m\u001b[38;5;132;01m%s\u001b[39;00m\u001b[38;5;124m\"\u001b[39m \u001b[38;5;241m%\u001b[39m obj)\n",
      "\u001b[0;31mException\u001b[0m: invalid get(\"local-artifact:///tmp/local-artifacts/RunSegment/2df624fa7206ead40539de81ecc3171b\")"
     ]
    }
   ],
   "source": [
    "import numpy as np\n",
    "import random\n",
    "def random_metrics(n=10, starting_index=0):\n",
    "    return [{'step': starting_index + i + 1, \n",
    "             'metric1': random.random() + np.exp(i / 0.2), \n",
    "             'metric2': random.random() + np.exp(i / 0.4)} \n",
    "            for i in range(n)]\n",
    "\n",
    "root_segment = weave.ops_domain.RunSegment('my-first-run', None, 0, random_metrics(10))\n",
    "ref1 = weave.save(root_segment)\n",
    "segment1 = weave.ops_domain.RunSegment('my-second-run', ref1.to_json(), 5, random_metrics(10, 5))\n",
    "ref2 = weave.save(segment1)"
   ]
  },
  {
   "cell_type": "code",
   "execution_count": null,
   "id": "d2a7851a",
   "metadata": {},
   "outputs": [],
   "source": []
  }
 ],
 "metadata": {
  "kernelspec": {
   "display_name": "Python 3 (ipykernel)",
   "language": "python",
   "name": "python3"
  },
  "language_info": {
   "codemirror_mode": {
    "name": "ipython",
    "version": 3
   },
   "file_extension": ".py",
   "mimetype": "text/x-python",
   "name": "python",
   "nbconvert_exporter": "python",
   "pygments_lexer": "ipython3",
   "version": "3.9.7"
  }
 },
 "nbformat": 4,
 "nbformat_minor": 5
}
