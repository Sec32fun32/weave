{
 "cells": [
  {
   "cell_type": "code",
   "execution_count": 1,
   "id": "ebb80dfc",
   "metadata": {},
   "outputs": [],
   "source": [
    "import weave\n",
    "from weave import storage"
   ]
  },
  {
   "cell_type": "code",
   "execution_count": 2,
   "id": "387efa08",
   "metadata": {},
   "outputs": [],
   "source": [
    "import numpy as np\n",
    "import random\n",
    "def random_metrics(n=10, starting_index=0):\n",
    "    return [{'step': starting_index + i + 1, \n",
    "             'metricA': random.random() + np.exp(i / 2), \n",
    "             'metricB': random.random() + np.exp(i / 4)} \n",
    "            for i in range(n)]\n",
    "\n",
    "root_segment = weave.ops_domain.RunSegment('my-first-run', None, 0, random_metrics(10))\n",
    "ref1 = weave.save(root_segment)\n",
    "segment1 = weave.ops_domain.RunSegment('my-second-run', ref1.to_json()['fromOp']['inputs']['uri']['val'], 5, random_metrics(10, 5))\n",
    "ref2 = weave.save(segment1)"
   ]
  },
  {
   "cell_type": "code",
   "execution_count": 3,
   "id": "becdd9db",
   "metadata": {},
   "outputs": [
    {
     "data": {
      "text/html": [
       "\n",
       "        <iframe\n",
       "            width=\"100%\"\n",
       "            height=\"400px\"\n",
       "            src=\"http://127.0.0.1:55539/__frontend/weave_jupyter/__frontend/weave_jupyter?fullScreen&expNode=%7B%22nodeType%22%3A%20%22output%22%2C%20%22type%22%3A%20%7B%22type%22%3A%20%22list%22%2C%20%22objectType%22%3A%20%7B%22type%22%3A%20%22typedDict%22%2C%20%22propertyTypes%22%3A%20%7B%22step%22%3A%20%7B%22type%22%3A%20%22union%22%2C%20%22members%22%3A%20%5B%22int%22%2C%20%22none%22%5D%7D%2C%20%22metricA%22%3A%20%7B%22type%22%3A%20%22union%22%2C%20%22members%22%3A%20%5B%22float%22%2C%20%22none%22%5D%7D%2C%20%22metricB%22%3A%20%7B%22type%22%3A%20%22union%22%2C%20%22members%22%3A%20%5B%22float%22%2C%20%22none%22%5D%7D%2C%20%22name%22%3A%20%7B%22type%22%3A%20%22union%22%2C%20%22members%22%3A%20%5B%22none%22%2C%20%22string%22%5D%7D%7D%7D%7D%2C%20%22fromOp%22%3A%20%7B%22name%22%3A%20%22RunSegment-experiment%22%2C%20%22inputs%22%3A%20%7B%22self%22%3A%20%7B%22nodeType%22%3A%20%22output%22%2C%20%22type%22%3A%20%7B%22type%22%3A%20%22RunSegment%22%2C%20%22metrics%22%3A%20%7B%22type%22%3A%20%22list%22%2C%20%22objectType%22%3A%20%7B%22type%22%3A%20%22typedDict%22%2C%20%22propertyTypes%22%3A%20%7B%22step%22%3A%20%22int%22%2C%20%22metricA%22%3A%20%22float%22%2C%20%22metricB%22%3A%20%22float%22%7D%7D%7D%2C%20%22_property_types%22%3A%20%7B%22name%22%3A%20%22string%22%2C%20%22prior_run_ref%22%3A%20%7B%22type%22%3A%20%22union%22%2C%20%22members%22%3A%20%5B%22string%22%2C%20%22none%22%5D%7D%2C%20%22resumed_from_step%22%3A%20%22int%22%2C%20%22metrics%22%3A%20%7B%22type%22%3A%20%22list%22%2C%20%22objectType%22%3A%20%22any%22%7D%7D%7D%2C%20%22fromOp%22%3A%20%7B%22name%22%3A%20%22get%22%2C%20%22inputs%22%3A%20%7B%22uri%22%3A%20%7B%22nodeType%22%3A%20%22const%22%2C%20%22type%22%3A%20%22string%22%2C%20%22val%22%3A%20%22local-artifact%3A///tmp/local-artifacts/RunSegment/d189818758e31f21d928abdfde469dd8%22%7D%7D%7D%7D%7D%7D%7D\"\n",
       "            frameborder=\"0\"\n",
       "            allowfullscreen\n",
       "            \n",
       "        ></iframe>\n",
       "        "
      ],
      "text/plain": [
       "<IPython.lib.display.IFrame at 0x18a7d9c70>"
      ]
     },
     "metadata": {},
     "output_type": "display_data"
    }
   ],
   "source": [
    "segment1.experiment()"
   ]
  },
  {
   "cell_type": "code",
   "execution_count": 4,
   "id": "5b1bf68f",
   "metadata": {},
   "outputs": [],
   "source": [
    "import numpy as np\n",
    "import random\n",
    "def random_metrics(n=10, starting_index=0):\n",
    "    return [{'step': starting_index + i + 1, \n",
    "             'metricA': random.random() + np.exp(i / 2), \n",
    "             'metricB': random.random() + np.exp(i / 4)} \n",
    "            for i in range(n)]\n",
    "\n",
    "root_segment = weave.ops_domain.RunSegment('my-first-run', None, 0, random_metrics(10))\n",
    "ref1 = storage.save(root_segment)\n",
    "segment1 = weave.ops_domain.RunSegment('my-second-run', ref1.uri, 5, random_metrics(10, 5))\n",
    "ref2 = storage.save(segment1)"
   ]
  },
  {
   "cell_type": "code",
   "execution_count": 5,
   "id": "e4b30409",
   "metadata": {},
   "outputs": [
    {
     "data": {
      "text/html": [
       "\n",
       "        <iframe\n",
       "            width=\"100%\"\n",
       "            height=\"400px\"\n",
       "            src=\"http://127.0.0.1:55539/__frontend/weave_jupyter/__frontend/weave_jupyter?fullScreen&expNode=%7B%22nodeType%22%3A%20%22output%22%2C%20%22type%22%3A%20%7B%22type%22%3A%20%22list%22%2C%20%22objectType%22%3A%20%7B%22type%22%3A%20%22typedDict%22%2C%20%22propertyTypes%22%3A%20%7B%22step%22%3A%20%7B%22type%22%3A%20%22union%22%2C%20%22members%22%3A%20%5B%22int%22%2C%20%22none%22%5D%7D%2C%20%22metricA%22%3A%20%7B%22type%22%3A%20%22union%22%2C%20%22members%22%3A%20%5B%22float%22%2C%20%22none%22%5D%7D%2C%20%22metricB%22%3A%20%7B%22type%22%3A%20%22union%22%2C%20%22members%22%3A%20%5B%22float%22%2C%20%22none%22%5D%7D%2C%20%22name%22%3A%20%7B%22type%22%3A%20%22union%22%2C%20%22members%22%3A%20%5B%22none%22%2C%20%22string%22%5D%7D%7D%7D%7D%2C%20%22fromOp%22%3A%20%7B%22name%22%3A%20%22RunSegment-experiment%22%2C%20%22inputs%22%3A%20%7B%22self%22%3A%20%7B%22nodeType%22%3A%20%22output%22%2C%20%22type%22%3A%20%7B%22type%22%3A%20%22RunSegment%22%2C%20%22metrics%22%3A%20%7B%22type%22%3A%20%22list%22%2C%20%22objectType%22%3A%20%7B%22type%22%3A%20%22typedDict%22%2C%20%22propertyTypes%22%3A%20%7B%22step%22%3A%20%22int%22%2C%20%22metricA%22%3A%20%22float%22%2C%20%22metricB%22%3A%20%22float%22%7D%7D%7D%2C%20%22_property_types%22%3A%20%7B%22name%22%3A%20%22string%22%2C%20%22prior_run_ref%22%3A%20%7B%22type%22%3A%20%22union%22%2C%20%22members%22%3A%20%5B%22string%22%2C%20%22none%22%5D%7D%2C%20%22resumed_from_step%22%3A%20%22int%22%2C%20%22metrics%22%3A%20%7B%22type%22%3A%20%22list%22%2C%20%22objectType%22%3A%20%22any%22%7D%7D%7D%2C%20%22fromOp%22%3A%20%7B%22name%22%3A%20%22get%22%2C%20%22inputs%22%3A%20%7B%22uri%22%3A%20%7B%22nodeType%22%3A%20%22const%22%2C%20%22type%22%3A%20%22string%22%2C%20%22val%22%3A%20%22local-artifact%3A///tmp/local-artifacts/RunSegment/30e4c436640415770f4d25aa349fc434%22%7D%7D%7D%7D%7D%7D%7D\"\n",
       "            frameborder=\"0\"\n",
       "            allowfullscreen\n",
       "            \n",
       "        ></iframe>\n",
       "        "
      ],
      "text/plain": [
       "<IPython.lib.display.IFrame at 0x18a61f6a0>"
      ]
     },
     "metadata": {},
     "output_type": "display_data"
    },
    {
     "name": "stdout",
     "output_type": "stream",
     "text": [
      "Server request running 1 nodes.\n",
      "getReturnType(\"local-artifact:///tmp/local-artifacts/RunSegment/d189818758e31f21d928abdfde469dd8\")\n",
      "Server request running 1 nodes.\n",
      "get(\"local-artifact:///tmp/local-artifacts/RunSegment/d189818758e31f21d928abdfde469dd8\").refine_experiment_type()\n",
      "Server request running 8 nodes.\n",
      "\"inherit\"\n",
      "\"\"\n",
      "get(\"local-artifact:///tmp/local-artifacts/RunSegment/d189818758e31f21d928abdfde469dd8\").experiment().indexCheckpoint().index(0).indexCheckpoint()\n",
      "get(\"local-artifact:///tmp/local-artifacts/RunSegment/d189818758e31f21d928abdfde469dd8\").experiment().indexCheckpoint().index(1).indexCheckpoint()\n",
      "get(\"local-artifact:///tmp/local-artifacts/RunSegment/d189818758e31f21d928abdfde469dd8\").experiment().indexCheckpoint().index(2).indexCheckpoint()\n",
      "get(\"local-artifact:///tmp/local-artifacts/RunSegment/d189818758e31f21d928abdfde469dd8\").experiment().indexCheckpoint().index(3).indexCheckpoint()\n",
      "get(\"local-artifact:///tmp/local-artifacts/RunSegment/d189818758e31f21d928abdfde469dd8\").experiment().indexCheckpoint().index(4).indexCheckpoint()\n",
      "get(\"local-artifact:///tmp/local-artifacts/RunSegment/d189818758e31f21d928abdfde469dd8\").experiment().indexCheckpoint().count()\n",
      "Server request running 20 nodes.\n",
      "get(\"local-artifact:///tmp/local-artifacts/RunSegment/d189818758e31f21d928abdfde469dd8\").experiment().indexCheckpoint().index(0).pick(\"step\")\n",
      "get(\"local-artifact:///tmp/local-artifacts/RunSegment/d189818758e31f21d928abdfde469dd8\").experiment().indexCheckpoint().index(0).pick(\"metricA\")\n",
      "get(\"local-artifact:///tmp/local-artifacts/RunSegment/d189818758e31f21d928abdfde469dd8\").experiment().indexCheckpoint().index(0).pick(\"metricB\")\n",
      "get(\"local-artifact:///tmp/local-artifacts/RunSegment/d189818758e31f21d928abdfde469dd8\").experiment().indexCheckpoint().index(0).pick(\"name\")\n",
      "get(\"local-artifact:///tmp/local-artifacts/RunSegment/d189818758e31f21d928abdfde469dd8\").experiment().indexCheckpoint().index(1).pick(\"step\")\n",
      "get(\"local-artifact:///tmp/local-artifacts/RunSegment/d189818758e31f21d928abdfde469dd8\").experiment().indexCheckpoint().index(1).pick(\"metricA\")\n",
      "get(\"local-artifact:///tmp/local-artifacts/RunSegment/d189818758e31f21d928abdfde469dd8\").experiment().indexCheckpoint().index(1).pick(\"metricB\")\n",
      "get(\"local-artifact:///tmp/local-artifacts/RunSegment/d189818758e31f21d928abdfde469dd8\").experiment().indexCheckpoint().index(1).pick(\"name\")\n",
      "get(\"local-artifact:///tmp/local-artifacts/RunSegment/d189818758e31f21d928abdfde469dd8\").experiment().indexCheckpoint().index(2).pick(\"step\")\n",
      "get(\"local-artifact:///tmp/local-artifacts/RunSegment/d189818758e31f21d928abdfde469dd8\").experiment().indexCheckpoint().index(2).pick(\"metricA\")\n",
      "get(\"local-artifact:///tmp/local-artifacts/RunSegment/d189818758e31f21d928abdfde469dd8\").experiment().indexCheckpoint().index(2).pick(\"metricB\")\n",
      "get(\"local-artifact:///tmp/local-artifacts/RunSegment/d189818758e31f21d928abdfde469dd8\").experiment().indexCheckpoint().index(2).pick(\"name\")\n",
      "get(\"local-artifact:///tmp/local-artifacts/RunSegment/d189818758e31f21d928abdfde469dd8\").experiment().indexCheckpoint().index(3).pick(\"step\")\n",
      "get(\"local-artifact:///tmp/local-artifacts/RunSegment/d189818758e31f21d928abdfde469dd8\").experiment().indexCheckpoint().index(3).pick(\"metricA\")\n",
      "get(\"local-artifact:///tmp/local-artifacts/RunSegment/d189818758e31f21d928abdfde469dd8\").experiment().indexCheckpoint().index(3).pick(\"metricB\")\n",
      "get(\"local-artifact:///tmp/local-artifacts/RunSegment/d189818758e31f21d928abdfde469dd8\").experiment().indexCheckpoint().index(3).pick(\"name\")\n",
      "get(\"local-artifact:///tmp/local-artifacts/RunSegment/d189818758e31f21d928abdfde469dd8\").experiment().indexCheckpoint().index(4).pick(\"step\")\n",
      "get(\"local-artifact:///tmp/local-artifacts/RunSegment/d189818758e31f21d928abdfde469dd8\").experiment().indexCheckpoint().index(4).pick(\"metricA\")\n",
      "get(\"local-artifact:///tmp/local-artifacts/RunSegment/d189818758e31f21d928abdfde469dd8\").experiment().indexCheckpoint().index(4).pick(\"metricB\")\n",
      "get(\"local-artifact:///tmp/local-artifacts/RunSegment/d189818758e31f21d928abdfde469dd8\").experiment().indexCheckpoint().index(4).pick(\"name\")\n",
      "Server request running 1 nodes.\n",
      "getReturnType(\"local-artifact:///tmp/local-artifacts/RunSegment/30e4c436640415770f4d25aa349fc434\")\n",
      "Server request running 5 nodes.\n",
      "get(\"local-artifact:///tmp/local-artifacts/RunSegment/d189818758e31f21d928abdfde469dd8\").experiment().indexCheckpoint().index(5).indexCheckpoint()\n",
      "get(\"local-artifact:///tmp/local-artifacts/RunSegment/d189818758e31f21d928abdfde469dd8\").experiment().indexCheckpoint().index(6).indexCheckpoint()\n",
      "get(\"local-artifact:///tmp/local-artifacts/RunSegment/d189818758e31f21d928abdfde469dd8\").experiment().indexCheckpoint().index(7).indexCheckpoint()\n",
      "get(\"local-artifact:///tmp/local-artifacts/RunSegment/d189818758e31f21d928abdfde469dd8\").experiment().indexCheckpoint().index(8).indexCheckpoint()\n",
      "get(\"local-artifact:///tmp/local-artifacts/RunSegment/d189818758e31f21d928abdfde469dd8\").experiment().indexCheckpoint().index(9).indexCheckpoint()\n",
      "Server request running 20 nodes.\n",
      "get(\"local-artifact:///tmp/local-artifacts/RunSegment/d189818758e31f21d928abdfde469dd8\").experiment().indexCheckpoint().index(5).pick(\"step\")\n",
      "get(\"local-artifact:///tmp/local-artifacts/RunSegment/d189818758e31f21d928abdfde469dd8\").experiment().indexCheckpoint().index(5).pick(\"metricA\")\n",
      "get(\"local-artifact:///tmp/local-artifacts/RunSegment/d189818758e31f21d928abdfde469dd8\").experiment().indexCheckpoint().index(5).pick(\"metricB\")\n",
      "get(\"local-artifact:///tmp/local-artifacts/RunSegment/d189818758e31f21d928abdfde469dd8\").experiment().indexCheckpoint().index(5).pick(\"name\")\n",
      "get(\"local-artifact:///tmp/local-artifacts/RunSegment/d189818758e31f21d928abdfde469dd8\").experiment().indexCheckpoint().index(6).pick(\"step\")\n",
      "get(\"local-artifact:///tmp/local-artifacts/RunSegment/d189818758e31f21d928abdfde469dd8\").experiment().indexCheckpoint().index(6).pick(\"metricA\")\n",
      "get(\"local-artifact:///tmp/local-artifacts/RunSegment/d189818758e31f21d928abdfde469dd8\").experiment().indexCheckpoint().index(6).pick(\"metricB\")\n",
      "get(\"local-artifact:///tmp/local-artifacts/RunSegment/d189818758e31f21d928abdfde469dd8\").experiment().indexCheckpoint().index(6).pick(\"name\")\n",
      "get(\"local-artifact:///tmp/local-artifacts/RunSegment/d189818758e31f21d928abdfde469dd8\").experiment().indexCheckpoint().index(7).pick(\"step\")\n",
      "get(\"local-artifact:///tmp/local-artifacts/RunSegment/d189818758e31f21d928abdfde469dd8\").experiment().indexCheckpoint().index(7).pick(\"metricA\")\n",
      "get(\"local-artifact:///tmp/local-artifacts/RunSegment/d189818758e31f21d928abdfde469dd8\").experiment().indexCheckpoint().index(7).pick(\"metricB\")\n",
      "get(\"local-artifact:///tmp/local-artifacts/RunSegment/d189818758e31f21d928abdfde469dd8\").experiment().indexCheckpoint().index(7).pick(\"name\")\n",
      "get(\"local-artifact:///tmp/local-artifacts/RunSegment/d189818758e31f21d928abdfde469dd8\").experiment().indexCheckpoint().index(8).pick(\"step\")\n",
      "get(\"local-artifact:///tmp/local-artifacts/RunSegment/d189818758e31f21d928abdfde469dd8\").experiment().indexCheckpoint().index(8).pick(\"metricA\")\n",
      "get(\"local-artifact:///tmp/local-artifacts/RunSegment/d189818758e31f21d928abdfde469dd8\").experiment().indexCheckpoint().index(8).pick(\"metricB\")\n",
      "get(\"local-artifact:///tmp/local-artifacts/RunSegment/d189818758e31f21d928abdfde469dd8\").experiment().indexCheckpoint().index(8).pick(\"name\")\n",
      "get(\"local-artifact:///tmp/local-artifacts/RunSegment/d189818758e31f21d928abdfde469dd8\").experiment().indexCheckpoint().index(9).pick(\"step\")\n",
      "get(\"local-artifact:///tmp/local-artifacts/RunSegment/d189818758e31f21d928abdfde469dd8\").experiment().indexCheckpoint().index(9).pick(\"metricA\")\n",
      "get(\"local-artifact:///tmp/local-artifacts/RunSegment/d189818758e31f21d928abdfde469dd8\").experiment().indexCheckpoint().index(9).pick(\"metricB\")\n",
      "get(\"local-artifact:///tmp/local-artifacts/RunSegment/d189818758e31f21d928abdfde469dd8\").experiment().indexCheckpoint().index(9).pick(\"name\")\n",
      "Server request running 1 nodes.\n",
      "get(\"local-artifact:///tmp/local-artifacts/RunSegment/30e4c436640415770f4d25aa349fc434\").refine_experiment_type()\n",
      "Server request running 5 nodes.\n",
      "get(\"local-artifact:///tmp/local-artifacts/RunSegment/d189818758e31f21d928abdfde469dd8\").experiment().indexCheckpoint().index(10).indexCheckpoint()\n",
      "get(\"local-artifact:///tmp/local-artifacts/RunSegment/d189818758e31f21d928abdfde469dd8\").experiment().indexCheckpoint().index(11).indexCheckpoint()\n",
      "get(\"local-artifact:///tmp/local-artifacts/RunSegment/d189818758e31f21d928abdfde469dd8\").experiment().indexCheckpoint().index(12).indexCheckpoint()\n",
      "get(\"local-artifact:///tmp/local-artifacts/RunSegment/d189818758e31f21d928abdfde469dd8\").experiment().indexCheckpoint().index(13).indexCheckpoint()\n",
      "get(\"local-artifact:///tmp/local-artifacts/RunSegment/d189818758e31f21d928abdfde469dd8\").experiment().indexCheckpoint().index(14).indexCheckpoint()\n",
      "Server request running 20 nodes.\n",
      "get(\"local-artifact:///tmp/local-artifacts/RunSegment/d189818758e31f21d928abdfde469dd8\").experiment().indexCheckpoint().index(10).pick(\"step\")\n",
      "get(\"local-artifact:///tmp/local-artifacts/RunSegment/d189818758e31f21d928abdfde469dd8\").experiment().indexCheckpoint().index(10).pick(\"metricA\")\n",
      "get(\"local-artifact:///tmp/local-artifacts/RunSegment/d189818758e31f21d928abdfde469dd8\").experiment().indexCheckpoint().index(10).pick(\"metricB\")\n",
      "get(\"local-artifact:///tmp/local-artifacts/RunSegment/d189818758e31f21d928abdfde469dd8\").experiment().indexCheckpoint().index(10).pick(\"name\")\n",
      "get(\"local-artifact:///tmp/local-artifacts/RunSegment/d189818758e31f21d928abdfde469dd8\").experiment().indexCheckpoint().index(11).pick(\"step\")\n",
      "get(\"local-artifact:///tmp/local-artifacts/RunSegment/d189818758e31f21d928abdfde469dd8\").experiment().indexCheckpoint().index(11).pick(\"metricA\")\n",
      "get(\"local-artifact:///tmp/local-artifacts/RunSegment/d189818758e31f21d928abdfde469dd8\").experiment().indexCheckpoint().index(11).pick(\"metricB\")\n",
      "get(\"local-artifact:///tmp/local-artifacts/RunSegment/d189818758e31f21d928abdfde469dd8\").experiment().indexCheckpoint().index(11).pick(\"name\")\n",
      "get(\"local-artifact:///tmp/local-artifacts/RunSegment/d189818758e31f21d928abdfde469dd8\").experiment().indexCheckpoint().index(12).pick(\"step\")\n",
      "get(\"local-artifact:///tmp/local-artifacts/RunSegment/d189818758e31f21d928abdfde469dd8\").experiment().indexCheckpoint().index(12).pick(\"metricA\")\n",
      "get(\"local-artifact:///tmp/local-artifacts/RunSegment/d189818758e31f21d928abdfde469dd8\").experiment().indexCheckpoint().index(12).pick(\"metricB\")\n",
      "get(\"local-artifact:///tmp/local-artifacts/RunSegment/d189818758e31f21d928abdfde469dd8\").experiment().indexCheckpoint().index(12).pick(\"name\")\n",
      "get(\"local-artifact:///tmp/local-artifacts/RunSegment/d189818758e31f21d928abdfde469dd8\").experiment().indexCheckpoint().index(13).pick(\"step\")\n",
      "get(\"local-artifact:///tmp/local-artifacts/RunSegment/d189818758e31f21d928abdfde469dd8\").experiment().indexCheckpoint().index(13).pick(\"metricA\")\n",
      "get(\"local-artifact:///tmp/local-artifacts/RunSegment/d189818758e31f21d928abdfde469dd8\").experiment().indexCheckpoint().index(13).pick(\"metricB\")\n",
      "get(\"local-artifact:///tmp/local-artifacts/RunSegment/d189818758e31f21d928abdfde469dd8\").experiment().indexCheckpoint().index(13).pick(\"name\")\n",
      "get(\"local-artifact:///tmp/local-artifacts/RunSegment/d189818758e31f21d928abdfde469dd8\").experiment().indexCheckpoint().index(14).pick(\"step\")\n",
      "get(\"local-artifact:///tmp/local-artifacts/RunSegment/d189818758e31f21d928abdfde469dd8\").experiment().indexCheckpoint().index(14).pick(\"metricA\")\n",
      "get(\"local-artifact:///tmp/local-artifacts/RunSegment/d189818758e31f21d928abdfde469dd8\").experiment().indexCheckpoint().index(14).pick(\"metricB\")\n",
      "get(\"local-artifact:///tmp/local-artifacts/RunSegment/d189818758e31f21d928abdfde469dd8\").experiment().indexCheckpoint().index(14).pick(\"name\")\n"
     ]
    },
    {
     "name": "stdout",
     "output_type": "stream",
     "text": [
      "Server request running 8 nodes.\n",
      "\"inherit\"\n",
      "\"\"\n",
      "get(\"local-artifact:///tmp/local-artifacts/RunSegment/30e4c436640415770f4d25aa349fc434\").experiment().indexCheckpoint().index(0).indexCheckpoint()\n",
      "get(\"local-artifact:///tmp/local-artifacts/RunSegment/30e4c436640415770f4d25aa349fc434\").experiment().indexCheckpoint().index(1).indexCheckpoint()\n",
      "get(\"local-artifact:///tmp/local-artifacts/RunSegment/30e4c436640415770f4d25aa349fc434\").experiment().indexCheckpoint().index(2).indexCheckpoint()\n",
      "get(\"local-artifact:///tmp/local-artifacts/RunSegment/30e4c436640415770f4d25aa349fc434\").experiment().indexCheckpoint().index(3).indexCheckpoint()\n",
      "get(\"local-artifact:///tmp/local-artifacts/RunSegment/30e4c436640415770f4d25aa349fc434\").experiment().indexCheckpoint().index(4).indexCheckpoint()\n",
      "get(\"local-artifact:///tmp/local-artifacts/RunSegment/30e4c436640415770f4d25aa349fc434\").experiment().indexCheckpoint().count()\n",
      "Server request running 6 nodes.\n",
      "get(\"local-artifact:///tmp/local-artifacts/RunSegment/30e4c436640415770f4d25aa349fc434\").experiment().indexCheckpoint().index(4).pick(\"step\")\n",
      "get(\"local-artifact:///tmp/local-artifacts/RunSegment/30e4c436640415770f4d25aa349fc434\").experiment().indexCheckpoint().index(4).pick(\"metricA\")\n",
      "get(\"local-artifact:///tmp/local-artifacts/RunSegment/30e4c436640415770f4d25aa349fc434\").experiment().indexCheckpoint().index(4).pick(\"metricB\")\n",
      "get(\"local-artifact:///tmp/local-artifacts/RunSegment/30e4c436640415770f4d25aa349fc434\").experiment().indexCheckpoint().index(4).pick(\"name\")\n",
      "get(\"local-artifact:///tmp/local-artifacts/RunSegment/30e4c436640415770f4d25aa349fc434\").experiment().indexCheckpoint().index(3).pick(\"step\")\n",
      "get(\"local-artifact:///tmp/local-artifacts/RunSegment/30e4c436640415770f4d25aa349fc434\").experiment().indexCheckpoint().index(3).pick(\"metricA\")\n",
      "Server request running 14 nodes.\n",
      "get(\"local-artifact:///tmp/local-artifacts/RunSegment/30e4c436640415770f4d25aa349fc434\").experiment().indexCheckpoint().index(3).pick(\"metricB\")\n",
      "get(\"local-artifact:///tmp/local-artifacts/RunSegment/30e4c436640415770f4d25aa349fc434\").experiment().indexCheckpoint().index(3).pick(\"name\")\n",
      "get(\"local-artifact:///tmp/local-artifacts/RunSegment/30e4c436640415770f4d25aa349fc434\").experiment().indexCheckpoint().index(1).pick(\"step\")\n",
      "get(\"local-artifact:///tmp/local-artifacts/RunSegment/30e4c436640415770f4d25aa349fc434\").experiment().indexCheckpoint().index(1).pick(\"metricA\")\n",
      "get(\"local-artifact:///tmp/local-artifacts/RunSegment/30e4c436640415770f4d25aa349fc434\").experiment().indexCheckpoint().index(1).pick(\"metricB\")\n",
      "get(\"local-artifact:///tmp/local-artifacts/RunSegment/30e4c436640415770f4d25aa349fc434\").experiment().indexCheckpoint().index(1).pick(\"name\")\n",
      "get(\"local-artifact:///tmp/local-artifacts/RunSegment/30e4c436640415770f4d25aa349fc434\").experiment().indexCheckpoint().index(2).pick(\"step\")\n",
      "get(\"local-artifact:///tmp/local-artifacts/RunSegment/30e4c436640415770f4d25aa349fc434\").experiment().indexCheckpoint().index(2).pick(\"metricA\")\n",
      "get(\"local-artifact:///tmp/local-artifacts/RunSegment/30e4c436640415770f4d25aa349fc434\").experiment().indexCheckpoint().index(2).pick(\"metricB\")\n",
      "get(\"local-artifact:///tmp/local-artifacts/RunSegment/30e4c436640415770f4d25aa349fc434\").experiment().indexCheckpoint().index(2).pick(\"name\")\n",
      "get(\"local-artifact:///tmp/local-artifacts/RunSegment/30e4c436640415770f4d25aa349fc434\").experiment().indexCheckpoint().index(0).pick(\"step\")\n",
      "get(\"local-artifact:///tmp/local-artifacts/RunSegment/30e4c436640415770f4d25aa349fc434\").experiment().indexCheckpoint().index(0).pick(\"metricA\")\n",
      "get(\"local-artifact:///tmp/local-artifacts/RunSegment/30e4c436640415770f4d25aa349fc434\").experiment().indexCheckpoint().index(0).pick(\"metricB\")\n",
      "get(\"local-artifact:///tmp/local-artifacts/RunSegment/30e4c436640415770f4d25aa349fc434\").experiment().indexCheckpoint().index(0).pick(\"name\")\n",
      "Server request running 1 nodes.\n",
      "getReturnType(\"local-artifact:///tmp/local-artifacts/RunSegment/30e4c436640415770f4d25aa349fc434\")\n"
     ]
    }
   ],
   "source": [
    "segment1.experiment()"
   ]
  },
  {
   "cell_type": "code",
   "execution_count": null,
   "id": "9250f8e3",
   "metadata": {},
   "outputs": [],
   "source": []
  },
  {
   "cell_type": "code",
   "execution_count": null,
   "id": "11248200",
   "metadata": {},
   "outputs": [],
   "source": []
  }
 ],
 "metadata": {
  "kernelspec": {
   "display_name": "Python 3 (ipykernel)",
   "language": "python",
   "name": "python3"
  },
  "language_info": {
   "codemirror_mode": {
    "name": "ipython",
    "version": 3
   },
   "file_extension": ".py",
   "mimetype": "text/x-python",
   "name": "python",
   "nbconvert_exporter": "python",
   "pygments_lexer": "ipython3",
   "version": "3.9.7"
  }
 },
 "nbformat": 4,
 "nbformat_minor": 5
}
