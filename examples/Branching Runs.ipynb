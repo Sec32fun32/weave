{
 "cells": [
  {
   "cell_type": "code",
   "execution_count": 1,
   "id": "ebb80dfc",
   "metadata": {},
   "outputs": [],
   "source": [
    "import weave\n",
    "from weave import storage"
   ]
  },
  {
   "cell_type": "code",
   "execution_count": 2,
   "id": "ee8971bb",
   "metadata": {},
   "outputs": [],
   "source": [
    "import numpy as np\n",
    "import random\n",
    "def random_metrics(n=10, starting_index=0):\n",
    "    return [{'step': starting_index + i + 1, \n",
    "             'metricA': random.random() + np.exp(i / 2), \n",
    "             'metricB': random.random() + np.exp(i / 4),\n",
    "             'metricC': random.choice('ABCDEFGHIJKLMNOPQRSTUVWXYZ'),\n",
    "             'metricD': np.random.rand(2, 2).tolist()}\n",
    "            for i in range(n)]\n",
    "\n",
    "root_segment = weave.ops_domain.RunSegment('my-first-run', None, 0, random_metrics(10))\n",
    "ref1 = storage.save(root_segment)\n",
    "segment1 = weave.ops_domain.RunSegment('my-second-run', ref1.uri, 5, random_metrics(10, 5))\n",
    "ref2 = storage.save(segment1)\n",
    "segment2 = weave.ops_domain.RunSegment('my-third-run', ref2.uri, 5, random_metrics(5, 10))\n",
    "ref3 = storage.save(segment2)"
   ]
  },
  {
   "cell_type": "code",
   "execution_count": 4,
   "id": "9536e178",
   "metadata": {
    "scrolled": false
   },
   "outputs": [
    {
     "data": {
      "text/html": [
       "\n",
       "        <iframe\n",
       "            width=\"100%\"\n",
       "            height=\"400px\"\n",
       "            src=\"http://127.0.0.1:50492/__frontend/weave_jupyter/__frontend/weave_jupyter?fullScreen&expNode=%7B%22nodeType%22%3A%20%22output%22%2C%20%22type%22%3A%20%7B%22type%22%3A%20%22RunSegment%22%2C%20%22metrics%22%3A%20%7B%22type%22%3A%20%22list%22%2C%20%22objectType%22%3A%20%7B%22type%22%3A%20%22typedDict%22%2C%20%22propertyTypes%22%3A%20%7B%22step%22%3A%20%22int%22%2C%20%22metricA%22%3A%20%22float%22%2C%20%22metricB%22%3A%20%22float%22%2C%20%22metricC%22%3A%20%22string%22%2C%20%22metricD%22%3A%20%7B%22type%22%3A%20%22list%22%2C%20%22objectType%22%3A%20%7B%22type%22%3A%20%22list%22%2C%20%22objectType%22%3A%20%22float%22%7D%7D%7D%7D%7D%2C%20%22_property_types%22%3A%20%7B%22metrics%22%3A%20%7B%22type%22%3A%20%22list%22%2C%20%22objectType%22%3A%20%7B%22type%22%3A%20%22typedDict%22%2C%20%22propertyTypes%22%3A%20%7B%22step%22%3A%20%22int%22%2C%20%22metricA%22%3A%20%22float%22%2C%20%22metricB%22%3A%20%22float%22%2C%20%22metricC%22%3A%20%22string%22%2C%20%22metricD%22%3A%20%7B%22type%22%3A%20%22list%22%2C%20%22objectType%22%3A%20%7B%22type%22%3A%20%22list%22%2C%20%22objectType%22%3A%20%22float%22%7D%7D%7D%7D%7D%2C%20%22run_name%22%3A%20%22string%22%2C%20%22prior_run_ref%22%3A%20%7B%22type%22%3A%20%22union%22%2C%20%22members%22%3A%20%5B%22string%22%2C%20%22none%22%5D%7D%2C%20%22resumed_from_step%22%3A%20%22int%22%7D%7D%2C%20%22fromOp%22%3A%20%7B%22name%22%3A%20%22get%22%2C%20%22inputs%22%3A%20%7B%22uri%22%3A%20%7B%22nodeType%22%3A%20%22const%22%2C%20%22type%22%3A%20%22string%22%2C%20%22val%22%3A%20%22local-artifact%3A///tmp/local-artifacts/obj/7f2c4e967015df4cf66b34e14b0da03e%22%7D%7D%7D%7D\"\n",
       "            frameborder=\"0\"\n",
       "            allowfullscreen\n",
       "            \n",
       "        ></iframe>\n",
       "        "
      ],
      "text/plain": [
       "<IPython.lib.display.IFrame at 0x17c142130>"
      ]
     },
     "metadata": {},
     "output_type": "display_data"
    },
    {
     "name": "stdout",
     "output_type": "stream",
     "text": [
      "Server request running 1 nodes.\n",
      "getReturnType(\"local-artifact:///tmp/local-artifacts/obj/7f2c4e967015df4cf66b34e14b0da03e\")\n",
      "Server request running 1 nodes.\n",
      "run_segment_render(run_segment_node)\n",
      "Server request running 8 nodes.\n",
      "get(\"local-artifact:///tmp/local-artifacts/obj/7f2c4e967015df4cf66b34e14b0da03e\").__getattr__(\"run_name\")\n",
      "\"inherit\"\n",
      "\"\"\n",
      "get(\"local-artifact:///tmp/local-artifacts/obj/7f2c4e967015df4cf66b34e14b0da03e\").__getattr__(\"metrics\").indexCheckpoint().index(0).indexCheckpoint()\n",
      "get(\"local-artifact:///tmp/local-artifacts/obj/7f2c4e967015df4cf66b34e14b0da03e\").__getattr__(\"metrics\").indexCheckpoint().index(1).indexCheckpoint()\n",
      "get(\"local-artifact:///tmp/local-artifacts/obj/7f2c4e967015df4cf66b34e14b0da03e\").__getattr__(\"metrics\").indexCheckpoint().index(2).indexCheckpoint()\n",
      "get(\"local-artifact:///tmp/local-artifacts/obj/7f2c4e967015df4cf66b34e14b0da03e\").__getattr__(\"metrics\").indexCheckpoint().index(3).indexCheckpoint()\n",
      "get(\"local-artifact:///tmp/local-artifacts/obj/7f2c4e967015df4cf66b34e14b0da03e\").__getattr__(\"metrics\").indexCheckpoint().count()\n",
      "Server request running 24 nodes.\n",
      "get(\"local-artifact:///tmp/local-artifacts/obj/7f2c4e967015df4cf66b34e14b0da03e\").__getattr__(\"metrics\").indexCheckpoint().index(0).pick(\"step\")\n",
      "get(\"local-artifact:///tmp/local-artifacts/obj/7f2c4e967015df4cf66b34e14b0da03e\").__getattr__(\"metrics\").indexCheckpoint().index(0).pick(\"metricA\")\n",
      "get(\"local-artifact:///tmp/local-artifacts/obj/7f2c4e967015df4cf66b34e14b0da03e\").__getattr__(\"metrics\").indexCheckpoint().index(0).pick(\"metricB\")\n",
      "get(\"local-artifact:///tmp/local-artifacts/obj/7f2c4e967015df4cf66b34e14b0da03e\").__getattr__(\"metrics\").indexCheckpoint().index(0).pick(\"metricC\")\n",
      "get(\"local-artifact:///tmp/local-artifacts/obj/7f2c4e967015df4cf66b34e14b0da03e\").__getattr__(\"metrics\").indexCheckpoint().index(0).pick(\"metricD\").count()\n",
      "get(\"local-artifact:///tmp/local-artifacts/obj/7f2c4e967015df4cf66b34e14b0da03e\").__getattr__(\"metrics\").indexCheckpoint().index(0).pick(\"metricD\").offset(0).limit(1).count()\n",
      "get(\"local-artifact:///tmp/local-artifacts/obj/7f2c4e967015df4cf66b34e14b0da03e\").__getattr__(\"metrics\").indexCheckpoint().index(1).pick(\"step\")\n",
      "get(\"local-artifact:///tmp/local-artifacts/obj/7f2c4e967015df4cf66b34e14b0da03e\").__getattr__(\"metrics\").indexCheckpoint().index(1).pick(\"metricA\")\n",
      "get(\"local-artifact:///tmp/local-artifacts/obj/7f2c4e967015df4cf66b34e14b0da03e\").__getattr__(\"metrics\").indexCheckpoint().index(1).pick(\"metricB\")\n",
      "get(\"local-artifact:///tmp/local-artifacts/obj/7f2c4e967015df4cf66b34e14b0da03e\").__getattr__(\"metrics\").indexCheckpoint().index(1).pick(\"metricC\")\n",
      "get(\"local-artifact:///tmp/local-artifacts/obj/7f2c4e967015df4cf66b34e14b0da03e\").__getattr__(\"metrics\").indexCheckpoint().index(1).pick(\"metricD\").count()\n",
      "get(\"local-artifact:///tmp/local-artifacts/obj/7f2c4e967015df4cf66b34e14b0da03e\").__getattr__(\"metrics\").indexCheckpoint().index(1).pick(\"metricD\").offset(0).limit(1).count()\n",
      "get(\"local-artifact:///tmp/local-artifacts/obj/7f2c4e967015df4cf66b34e14b0da03e\").__getattr__(\"metrics\").indexCheckpoint().index(2).pick(\"step\")\n",
      "get(\"local-artifact:///tmp/local-artifacts/obj/7f2c4e967015df4cf66b34e14b0da03e\").__getattr__(\"metrics\").indexCheckpoint().index(2).pick(\"metricA\")\n",
      "get(\"local-artifact:///tmp/local-artifacts/obj/7f2c4e967015df4cf66b34e14b0da03e\").__getattr__(\"metrics\").indexCheckpoint().index(2).pick(\"metricB\")\n",
      "get(\"local-artifact:///tmp/local-artifacts/obj/7f2c4e967015df4cf66b34e14b0da03e\").__getattr__(\"metrics\").indexCheckpoint().index(2).pick(\"metricC\")\n",
      "get(\"local-artifact:///tmp/local-artifacts/obj/7f2c4e967015df4cf66b34e14b0da03e\").__getattr__(\"metrics\").indexCheckpoint().index(2).pick(\"metricD\").count()\n",
      "get(\"local-artifact:///tmp/local-artifacts/obj/7f2c4e967015df4cf66b34e14b0da03e\").__getattr__(\"metrics\").indexCheckpoint().index(2).pick(\"metricD\").offset(0).limit(1).count()\n",
      "get(\"local-artifact:///tmp/local-artifacts/obj/7f2c4e967015df4cf66b34e14b0da03e\").__getattr__(\"metrics\").indexCheckpoint().index(3).pick(\"step\")\n",
      "get(\"local-artifact:///tmp/local-artifacts/obj/7f2c4e967015df4cf66b34e14b0da03e\").__getattr__(\"metrics\").indexCheckpoint().index(3).pick(\"metricA\")\n",
      "get(\"local-artifact:///tmp/local-artifacts/obj/7f2c4e967015df4cf66b34e14b0da03e\").__getattr__(\"metrics\").indexCheckpoint().index(3).pick(\"metricB\")\n",
      "get(\"local-artifact:///tmp/local-artifacts/obj/7f2c4e967015df4cf66b34e14b0da03e\").__getattr__(\"metrics\").indexCheckpoint().index(3).pick(\"metricC\")\n",
      "get(\"local-artifact:///tmp/local-artifacts/obj/7f2c4e967015df4cf66b34e14b0da03e\").__getattr__(\"metrics\").indexCheckpoint().index(3).pick(\"metricD\").count()\n",
      "get(\"local-artifact:///tmp/local-artifacts/obj/7f2c4e967015df4cf66b34e14b0da03e\").__getattr__(\"metrics\").indexCheckpoint().index(3).pick(\"metricD\").offset(0).limit(1).count()\n",
      "Server request running 4 nodes.\n",
      "get(\"local-artifact:///tmp/local-artifacts/obj/7f2c4e967015df4cf66b34e14b0da03e\").__getattr__(\"metrics\").indexCheckpoint().index(0).pick(\"metricD\").offset(0).limit(1).index(0)\n",
      "get(\"local-artifact:///tmp/local-artifacts/obj/7f2c4e967015df4cf66b34e14b0da03e\").__getattr__(\"metrics\").indexCheckpoint().index(1).pick(\"metricD\").offset(0).limit(1).index(0)\n",
      "get(\"local-artifact:///tmp/local-artifacts/obj/7f2c4e967015df4cf66b34e14b0da03e\").__getattr__(\"metrics\").indexCheckpoint().index(2).pick(\"metricD\").offset(0).limit(1).index(0)\n",
      "get(\"local-artifact:///tmp/local-artifacts/obj/7f2c4e967015df4cf66b34e14b0da03e\").__getattr__(\"metrics\").indexCheckpoint().index(3).pick(\"metricD\").offset(0).limit(1).index(0)\n"
     ]
    }
   ],
   "source": [
    "weave.show(segment2)"
   ]
  },
  {
   "cell_type": "code",
   "execution_count": null,
   "id": "92622d97",
   "metadata": {},
   "outputs": [],
   "source": []
  },
  {
   "cell_type": "code",
   "execution_count": null,
   "id": "eab5ada0",
   "metadata": {},
   "outputs": [],
   "source": []
  }
 ],
 "metadata": {
  "kernelspec": {
   "display_name": "Python 3 (ipykernel)",
   "language": "python",
   "name": "python3"
  },
  "language_info": {
   "codemirror_mode": {
    "name": "ipython",
    "version": 3
   },
   "file_extension": ".py",
   "mimetype": "text/x-python",
   "name": "python",
   "nbconvert_exporter": "python",
   "pygments_lexer": "ipython3",
   "version": "3.9.7"
  }
 },
 "nbformat": 4,
 "nbformat_minor": 5
}
