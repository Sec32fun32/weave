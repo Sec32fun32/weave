{
 "cells": [
  {
   "cell_type": "code",
   "execution_count": 15,
   "id": "930f7487",
   "metadata": {},
   "outputs": [],
   "source": [
    "import time\n",
    "import weave\n",
    "from weave.ops_domain import RunSegment\n",
    "from weave import storage, publish, type_of, use_frontend_devmode\n",
    "from weave.weave_types import List\n",
    "import typing\n",
    "import time\n",
    "import sys\n",
    "import numpy as np\n",
    "from weave.ops import to_arrow\n",
    "\n",
    "import logging\n",
    "\n",
    "use_frontend_devmode()\n",
    "logger = logging.getLogger(\"run_segment\")\n",
    "handler = logging.StreamHandler(stream=sys.stdout)\n",
    "handler.setFormatter(logging.Formatter(\"%(asctime)s - %(message)s\"))\n",
    "logger.addHandler(handler)\n",
    "\n",
    "# set to logging.INFO for more verbose profiling\n",
    "logger.setLevel(logging.ERROR)\n",
    "\n",
    "# serializer = publish   # uses w&b artifacts intead of local artifacts\n",
    "serializer = storage.save\n",
    "\n",
    "N_NUMERIC_METRICS = 99  # number of numerical columns in the metrics table\n",
    "\n",
    "\n",
    "def random_metrics(n: int = 10, starting_step: int = 0, delta_step: int = 1):\n",
    "    \"\"\"Create an array of metrics of length n starting from step starting_index.\"\"\"\n",
    "    if n <= 0:\n",
    "        raise ValueError(\"n must be at least 1\")\n",
    "    if starting_step < 0:\n",
    "        raise ValueError(\"starting index must be at least 0\")\n",
    "    if delta_step < 1:\n",
    "        raise ValueError(\"delta_step must be an integer greater than or equal to 1.\")\n",
    "    t_start = time.time()\n",
    "    raw = [\n",
    "        {\n",
    "            \"step\": starting_step + i * delta_step,\n",
    "            \"string_col\": np.random.choice(list(\"ABCDEFGHIJKLMNOPQRSTUVWXYZ\")),\n",
    "            **{f\"metric{j}\": np.random.random() for j in range(N_NUMERIC_METRICS)},\n",
    "        }\n",
    "        for i in range(n)\n",
    "    ]\n",
    "    t_stop = time.time()\n",
    "    logger.info(f'Created raw python metrics table of length {n}, '\n",
    "                f'width {N_NUMERIC_METRICS + 2} in {t_stop - t_start:.2f} sec.')\n",
    "\n",
    "\n",
    "    t_start = time.time()\n",
    "    wb_type = List(type_of(raw[0]))\n",
    "    arrow_form = to_arrow(raw, wb_type=wb_type)\n",
    "    t_stop = time.time()\n",
    "    logger.info(f'Created arrow version of metrics table of length {n}, '\n",
    "                f'width {N_NUMERIC_METRICS + 2} in {t_stop - t_start:.2f} sec.')\n",
    "    return arrow_form\n",
    "\n",
    "\n",
    "def create_branch(\n",
    "    name: str,\n",
    "    previous_segment: typing.Optional[RunSegment] = None,\n",
    "    length=10,\n",
    "    previous_segment_branch_frac=0.8,\n",
    ") -> RunSegment:\n",
    "    \"\"\"Create a new segment and optionally attach it to a previous segment.\n",
    "\n",
    "    Parameters\n",
    "    ----------\n",
    "    name: str\n",
    "       The name of the segment.\n",
    "    previous_segment: Optional[RunSegment], default None.\n",
    "       The parent run segment. If this is a root run segment, use None.\n",
    "    length: int, default = 10\n",
    "       The number of history rows to generate for the segment.\n",
    "    previous_segment_branch_frac: float satisfying 0 < branch_frac <= 1.\n",
    "       Parameter describing where in the previous segment to set the branch point.\n",
    "       A previous_segment_branch_frac of 0 sets the branch point at the previous\n",
    "       segment's root, whereas a previous_segment_branch_frac of 1 sets the branch\n",
    "       point at the end of the previous segment. A previous_segment_branch_frac of\n",
    "       0.5 would include half of the previous segment's metric rows.\n",
    "\n",
    "    Returns\n",
    "    -------\n",
    "    segment: RunSegment\n",
    "        The new segment.\n",
    "    \"\"\"\n",
    "    if not (0 < previous_segment_branch_frac <= 1):\n",
    "        raise ValueError(\"branch_frac must satisfy 0 < branch_frac <= 1\")\n",
    "\n",
    "    if length <= 0:\n",
    "        raise ValueError(\"Length must be greater than 0.\")\n",
    "\n",
    "    if previous_segment:\n",
    "        previous_metrics = previous_segment.metrics\n",
    "        n_previous_metrics = len(previous_metrics)\n",
    "        if n_previous_metrics > 0:\n",
    "            previous_segment_branch_index = (\n",
    "                int(previous_segment_branch_frac * n_previous_metrics) - 1\n",
    "            )\n",
    "\n",
    "            # this run segment has a different root than the previous one\n",
    "            if previous_segment_branch_index < 0:\n",
    "                raise ValueError(\n",
    "                    f\"Invalid branch point on RunSegment: previous_segment_branch_index \"\n",
    "                    f\"{previous_segment_branch_index} must be between 0 and {len(previous_metrics) - 1}\"\n",
    "                )\n",
    "\n",
    "            previous_segment_branch_step = (\n",
    "                previous_metrics._index(0)[\"step\"] + previous_segment_branch_index\n",
    "            )\n",
    "\n",
    "            ref = storage.save(previous_segment)\n",
    "            new_metrics = random_metrics(\n",
    "                n=length, starting_step=previous_segment_branch_step + 1\n",
    "            )\n",
    "\n",
    "            return RunSegment(name, ref.uri, previous_segment_branch_index, new_metrics)\n",
    "    return RunSegment(name, None, 0, random_metrics(length, 0))\n",
    "\n",
    "\n",
    "def create_experiment(\n",
    "    num_steps: int, num_runs: int, branch_frac: float = 0.8\n",
    ") -> typing.Optional[RunSegment]:\n",
    "    num_steps_per_run = num_steps // num_runs\n",
    "    segment = None\n",
    "    for i in range(num_runs):\n",
    "        segment = create_branch(\n",
    "            f\"branch {i}\",\n",
    "            segment,\n",
    "            length=num_steps_per_run,\n",
    "            previous_segment_branch_frac=branch_frac,\n",
    "        )\n",
    "    return segment"
   ]
  },
  {
   "cell_type": "code",
   "execution_count": 16,
   "id": "8b4a3dcc",
   "metadata": {},
   "outputs": [],
   "source": [
    "last_segment = create_experiment(500000, 100, 0.8)"
   ]
  },
  {
   "cell_type": "code",
   "execution_count": 17,
   "id": "139bc4d0",
   "metadata": {},
   "outputs": [
    {
     "data": {
      "text/html": [
       "\n",
       "        <iframe\n",
       "            width=\"100%\"\n",
       "            height=\"400px\"\n",
       "            src=\"http://localhost:3000/__frontend/weave_jupyter?fullScreen&expNode=%7B%22nodeType%22%3A%20%22output%22%2C%20%22type%22%3A%20%7B%22type%22%3A%20%22RunSegment%22%2C%20%22metrics%22%3A%20%7B%22type%22%3A%20%22ArrowWeaveList%22%2C%20%22objectType%22%3A%20%7B%22type%22%3A%20%22typedDict%22%2C%20%22propertyTypes%22%3A%20%7B%22step%22%3A%20%22int%22%2C%20%22string_col%22%3A%20%22string%22%2C%20%22metric0%22%3A%20%22float%22%2C%20%22metric1%22%3A%20%22float%22%2C%20%22metric2%22%3A%20%22float%22%2C%20%22metric3%22%3A%20%22float%22%2C%20%22metric4%22%3A%20%22float%22%2C%20%22metric5%22%3A%20%22float%22%2C%20%22metric6%22%3A%20%22float%22%2C%20%22metric7%22%3A%20%22float%22%2C%20%22metric8%22%3A%20%22float%22%2C%20%22metric9%22%3A%20%22float%22%2C%20%22metric10%22%3A%20%22float%22%2C%20%22metric11%22%3A%20%22float%22%2C%20%22metric12%22%3A%20%22float%22%2C%20%22metric13%22%3A%20%22float%22%2C%20%22metric14%22%3A%20%22float%22%2C%20%22metric15%22%3A%20%22float%22%2C%20%22metric16%22%3A%20%22float%22%2C%20%22metric17%22%3A%20%22float%22%2C%20%22metric18%22%3A%20%22float%22%2C%20%22metric19%22%3A%20%22float%22%2C%20%22metric20%22%3A%20%22float%22%2C%20%22metric21%22%3A%20%22float%22%2C%20%22metric22%22%3A%20%22float%22%2C%20%22metric23%22%3A%20%22float%22%2C%20%22metric24%22%3A%20%22float%22%2C%20%22metric25%22%3A%20%22float%22%2C%20%22metric26%22%3A%20%22float%22%2C%20%22metric27%22%3A%20%22float%22%2C%20%22metric28%22%3A%20%22float%22%2C%20%22metric29%22%3A%20%22float%22%2C%20%22metric30%22%3A%20%22float%22%2C%20%22metric31%22%3A%20%22float%22%2C%20%22metric32%22%3A%20%22float%22%2C%20%22metric33%22%3A%20%22float%22%2C%20%22metric34%22%3A%20%22float%22%2C%20%22metric35%22%3A%20%22float%22%2C%20%22metric36%22%3A%20%22float%22%2C%20%22metric37%22%3A%20%22float%22%2C%20%22metric38%22%3A%20%22float%22%2C%20%22metric39%22%3A%20%22float%22%2C%20%22metric40%22%3A%20%22float%22%2C%20%22metric41%22%3A%20%22float%22%2C%20%22metric42%22%3A%20%22float%22%2C%20%22metric43%22%3A%20%22float%22%2C%20%22metric44%22%3A%20%22float%22%2C%20%22metric45%22%3A%20%22float%22%2C%20%22metric46%22%3A%20%22float%22%2C%20%22metric47%22%3A%20%22float%22%2C%20%22metric48%22%3A%20%22float%22%2C%20%22metric49%22%3A%20%22float%22%2C%20%22metric50%22%3A%20%22float%22%2C%20%22metric51%22%3A%20%22float%22%2C%20%22metric52%22%3A%20%22float%22%2C%20%22metric53%22%3A%20%22float%22%2C%20%22metric54%22%3A%20%22float%22%2C%20%22metric55%22%3A%20%22float%22%2C%20%22metric56%22%3A%20%22float%22%2C%20%22metric57%22%3A%20%22float%22%2C%20%22metric58%22%3A%20%22float%22%2C%20%22metric59%22%3A%20%22float%22%2C%20%22metric60%22%3A%20%22float%22%2C%20%22metric61%22%3A%20%22float%22%2C%20%22metric62%22%3A%20%22float%22%2C%20%22metric63%22%3A%20%22float%22%2C%20%22metric64%22%3A%20%22float%22%2C%20%22metric65%22%3A%20%22float%22%2C%20%22metric66%22%3A%20%22float%22%2C%20%22metric67%22%3A%20%22float%22%2C%20%22metric68%22%3A%20%22float%22%2C%20%22metric69%22%3A%20%22float%22%2C%20%22metric70%22%3A%20%22float%22%2C%20%22metric71%22%3A%20%22float%22%2C%20%22metric72%22%3A%20%22float%22%2C%20%22metric73%22%3A%20%22float%22%2C%20%22metric74%22%3A%20%22float%22%2C%20%22metric75%22%3A%20%22float%22%2C%20%22metric76%22%3A%20%22float%22%2C%20%22metric77%22%3A%20%22float%22%2C%20%22metric78%22%3A%20%22float%22%2C%20%22metric79%22%3A%20%22float%22%2C%20%22metric80%22%3A%20%22float%22%2C%20%22metric81%22%3A%20%22float%22%2C%20%22metric82%22%3A%20%22float%22%2C%20%22metric83%22%3A%20%22float%22%2C%20%22metric84%22%3A%20%22float%22%2C%20%22metric85%22%3A%20%22float%22%2C%20%22metric86%22%3A%20%22float%22%2C%20%22metric87%22%3A%20%22float%22%2C%20%22metric88%22%3A%20%22float%22%2C%20%22metric89%22%3A%20%22float%22%2C%20%22metric90%22%3A%20%22float%22%2C%20%22metric91%22%3A%20%22float%22%2C%20%22metric92%22%3A%20%22float%22%2C%20%22metric93%22%3A%20%22float%22%2C%20%22metric94%22%3A%20%22float%22%2C%20%22metric95%22%3A%20%22float%22%2C%20%22metric96%22%3A%20%22float%22%2C%20%22metric97%22%3A%20%22float%22%2C%20%22metric98%22%3A%20%22float%22%7D%7D%7D%2C%20%22_property_types%22%3A%20%7B%22metrics%22%3A%20%7B%22type%22%3A%20%22ArrowWeaveList%22%2C%20%22objectType%22%3A%20%7B%22type%22%3A%20%22typedDict%22%2C%20%22propertyTypes%22%3A%20%7B%22step%22%3A%20%22int%22%2C%20%22string_col%22%3A%20%22string%22%2C%20%22metric0%22%3A%20%22float%22%2C%20%22metric1%22%3A%20%22float%22%2C%20%22metric2%22%3A%20%22float%22%2C%20%22metric3%22%3A%20%22float%22%2C%20%22metric4%22%3A%20%22float%22%2C%20%22metric5%22%3A%20%22float%22%2C%20%22metric6%22%3A%20%22float%22%2C%20%22metric7%22%3A%20%22float%22%2C%20%22metric8%22%3A%20%22float%22%2C%20%22metric9%22%3A%20%22float%22%2C%20%22metric10%22%3A%20%22float%22%2C%20%22metric11%22%3A%20%22float%22%2C%20%22metric12%22%3A%20%22float%22%2C%20%22metric13%22%3A%20%22float%22%2C%20%22metric14%22%3A%20%22float%22%2C%20%22metric15%22%3A%20%22float%22%2C%20%22metric16%22%3A%20%22float%22%2C%20%22metric17%22%3A%20%22float%22%2C%20%22metric18%22%3A%20%22float%22%2C%20%22metric19%22%3A%20%22float%22%2C%20%22metric20%22%3A%20%22float%22%2C%20%22metric21%22%3A%20%22float%22%2C%20%22metric22%22%3A%20%22float%22%2C%20%22metric23%22%3A%20%22float%22%2C%20%22metric24%22%3A%20%22float%22%2C%20%22metric25%22%3A%20%22float%22%2C%20%22metric26%22%3A%20%22float%22%2C%20%22metric27%22%3A%20%22float%22%2C%20%22metric28%22%3A%20%22float%22%2C%20%22metric29%22%3A%20%22float%22%2C%20%22metric30%22%3A%20%22float%22%2C%20%22metric31%22%3A%20%22float%22%2C%20%22metric32%22%3A%20%22float%22%2C%20%22metric33%22%3A%20%22float%22%2C%20%22metric34%22%3A%20%22float%22%2C%20%22metric35%22%3A%20%22float%22%2C%20%22metric36%22%3A%20%22float%22%2C%20%22metric37%22%3A%20%22float%22%2C%20%22metric38%22%3A%20%22float%22%2C%20%22metric39%22%3A%20%22float%22%2C%20%22metric40%22%3A%20%22float%22%2C%20%22metric41%22%3A%20%22float%22%2C%20%22metric42%22%3A%20%22float%22%2C%20%22metric43%22%3A%20%22float%22%2C%20%22metric44%22%3A%20%22float%22%2C%20%22metric45%22%3A%20%22float%22%2C%20%22metric46%22%3A%20%22float%22%2C%20%22metric47%22%3A%20%22float%22%2C%20%22metric48%22%3A%20%22float%22%2C%20%22metric49%22%3A%20%22float%22%2C%20%22metric50%22%3A%20%22float%22%2C%20%22metric51%22%3A%20%22float%22%2C%20%22metric52%22%3A%20%22float%22%2C%20%22metric53%22%3A%20%22float%22%2C%20%22metric54%22%3A%20%22float%22%2C%20%22metric55%22%3A%20%22float%22%2C%20%22metric56%22%3A%20%22float%22%2C%20%22metric57%22%3A%20%22float%22%2C%20%22metric58%22%3A%20%22float%22%2C%20%22metric59%22%3A%20%22float%22%2C%20%22metric60%22%3A%20%22float%22%2C%20%22metric61%22%3A%20%22float%22%2C%20%22metric62%22%3A%20%22float%22%2C%20%22metric63%22%3A%20%22float%22%2C%20%22metric64%22%3A%20%22float%22%2C%20%22metric65%22%3A%20%22float%22%2C%20%22metric66%22%3A%20%22float%22%2C%20%22metric67%22%3A%20%22float%22%2C%20%22metric68%22%3A%20%22float%22%2C%20%22metric69%22%3A%20%22float%22%2C%20%22metric70%22%3A%20%22float%22%2C%20%22metric71%22%3A%20%22float%22%2C%20%22metric72%22%3A%20%22float%22%2C%20%22metric73%22%3A%20%22float%22%2C%20%22metric74%22%3A%20%22float%22%2C%20%22metric75%22%3A%20%22float%22%2C%20%22metric76%22%3A%20%22float%22%2C%20%22metric77%22%3A%20%22float%22%2C%20%22metric78%22%3A%20%22float%22%2C%20%22metric79%22%3A%20%22float%22%2C%20%22metric80%22%3A%20%22float%22%2C%20%22metric81%22%3A%20%22float%22%2C%20%22metric82%22%3A%20%22float%22%2C%20%22metric83%22%3A%20%22float%22%2C%20%22metric84%22%3A%20%22float%22%2C%20%22metric85%22%3A%20%22float%22%2C%20%22metric86%22%3A%20%22float%22%2C%20%22metric87%22%3A%20%22float%22%2C%20%22metric88%22%3A%20%22float%22%2C%20%22metric89%22%3A%20%22float%22%2C%20%22metric90%22%3A%20%22float%22%2C%20%22metric91%22%3A%20%22float%22%2C%20%22metric92%22%3A%20%22float%22%2C%20%22metric93%22%3A%20%22float%22%2C%20%22metric94%22%3A%20%22float%22%2C%20%22metric95%22%3A%20%22float%22%2C%20%22metric96%22%3A%20%22float%22%2C%20%22metric97%22%3A%20%22float%22%2C%20%22metric98%22%3A%20%22float%22%7D%7D%7D%2C%20%22run_name%22%3A%20%22string%22%2C%20%22prior_run_ref%22%3A%20%7B%22type%22%3A%20%22union%22%2C%20%22members%22%3A%20%5B%22string%22%2C%20%22none%22%5D%7D%2C%20%22prior_run_branch_index%22%3A%20%7B%22type%22%3A%20%22union%22%2C%20%22members%22%3A%20%5B%22int%22%2C%20%22none%22%5D%7D%7D%7D%2C%20%22fromOp%22%3A%20%7B%22name%22%3A%20%22get%22%2C%20%22inputs%22%3A%20%7B%22uri%22%3A%20%7B%22nodeType%22%3A%20%22const%22%2C%20%22type%22%3A%20%22string%22%2C%20%22val%22%3A%20%22local-artifact%3A///tmp/local-artifacts/last_segment/afd2558b3bdda257f7f7ee0895ded448%22%7D%7D%7D%7D\"\n",
       "            frameborder=\"0\"\n",
       "            allowfullscreen\n",
       "            \n",
       "        ></iframe>\n",
       "        "
      ],
      "text/plain": [
       "<IPython.lib.display.IFrame at 0x1892c6280>"
      ]
     },
     "metadata": {},
     "output_type": "display_data"
    }
   ],
   "source": [
    "weave.show(last_segment)"
   ]
  },
  {
   "cell_type": "code",
   "execution_count": 10,
   "id": "2ca43fb6",
   "metadata": {},
   "outputs": [
    {
     "data": {
      "text/html": [
       "\n",
       "        <iframe\n",
       "            width=\"100%\"\n",
       "            height=\"400px\"\n",
       "            src=\"http://localhost:3000/__frontend/weave_jupyter?fullScreen&expNode=%7B%22nodeType%22%3A%20%22output%22%2C%20%22type%22%3A%20%7B%22type%22%3A%20%22ArrowWeaveList%22%2C%20%22objectType%22%3A%20%7B%22type%22%3A%20%22typedDict%22%2C%20%22propertyTypes%22%3A%20%7B%22step%22%3A%20%22int%22%2C%20%22string_col%22%3A%20%22string%22%2C%20%22metric0%22%3A%20%22float%22%2C%20%22metric1%22%3A%20%22float%22%2C%20%22metric2%22%3A%20%22float%22%2C%20%22metric3%22%3A%20%22float%22%2C%20%22metric4%22%3A%20%22float%22%2C%20%22metric5%22%3A%20%22float%22%2C%20%22metric6%22%3A%20%22float%22%2C%20%22metric7%22%3A%20%22float%22%2C%20%22metric8%22%3A%20%22float%22%2C%20%22metric9%22%3A%20%22float%22%2C%20%22metric10%22%3A%20%22float%22%2C%20%22metric11%22%3A%20%22float%22%2C%20%22metric12%22%3A%20%22float%22%2C%20%22metric13%22%3A%20%22float%22%2C%20%22metric14%22%3A%20%22float%22%2C%20%22metric15%22%3A%20%22float%22%2C%20%22metric16%22%3A%20%22float%22%2C%20%22metric17%22%3A%20%22float%22%2C%20%22metric18%22%3A%20%22float%22%2C%20%22metric19%22%3A%20%22float%22%2C%20%22metric20%22%3A%20%22float%22%2C%20%22metric21%22%3A%20%22float%22%2C%20%22metric22%22%3A%20%22float%22%2C%20%22metric23%22%3A%20%22float%22%2C%20%22metric24%22%3A%20%22float%22%2C%20%22metric25%22%3A%20%22float%22%2C%20%22metric26%22%3A%20%22float%22%2C%20%22metric27%22%3A%20%22float%22%2C%20%22metric28%22%3A%20%22float%22%2C%20%22metric29%22%3A%20%22float%22%2C%20%22metric30%22%3A%20%22float%22%2C%20%22metric31%22%3A%20%22float%22%2C%20%22metric32%22%3A%20%22float%22%2C%20%22metric33%22%3A%20%22float%22%2C%20%22metric34%22%3A%20%22float%22%2C%20%22metric35%22%3A%20%22float%22%2C%20%22metric36%22%3A%20%22float%22%2C%20%22metric37%22%3A%20%22float%22%2C%20%22metric38%22%3A%20%22float%22%2C%20%22metric39%22%3A%20%22float%22%2C%20%22metric40%22%3A%20%22float%22%2C%20%22metric41%22%3A%20%22float%22%2C%20%22metric42%22%3A%20%22float%22%2C%20%22metric43%22%3A%20%22float%22%2C%20%22metric44%22%3A%20%22float%22%2C%20%22metric45%22%3A%20%22float%22%2C%20%22metric46%22%3A%20%22float%22%2C%20%22metric47%22%3A%20%22float%22%2C%20%22metric48%22%3A%20%22float%22%2C%20%22metric49%22%3A%20%22float%22%2C%20%22metric50%22%3A%20%22float%22%2C%20%22metric51%22%3A%20%22float%22%2C%20%22metric52%22%3A%20%22float%22%2C%20%22metric53%22%3A%20%22float%22%2C%20%22metric54%22%3A%20%22float%22%2C%20%22metric55%22%3A%20%22float%22%2C%20%22metric56%22%3A%20%22float%22%2C%20%22metric57%22%3A%20%22float%22%2C%20%22metric58%22%3A%20%22float%22%2C%20%22metric59%22%3A%20%22float%22%2C%20%22metric60%22%3A%20%22float%22%2C%20%22metric61%22%3A%20%22float%22%2C%20%22metric62%22%3A%20%22float%22%2C%20%22metric63%22%3A%20%22float%22%2C%20%22metric64%22%3A%20%22float%22%2C%20%22metric65%22%3A%20%22float%22%2C%20%22metric66%22%3A%20%22float%22%2C%20%22metric67%22%3A%20%22float%22%2C%20%22metric68%22%3A%20%22float%22%2C%20%22metric69%22%3A%20%22float%22%2C%20%22metric70%22%3A%20%22float%22%2C%20%22metric71%22%3A%20%22float%22%2C%20%22metric72%22%3A%20%22float%22%2C%20%22metric73%22%3A%20%22float%22%2C%20%22metric74%22%3A%20%22float%22%2C%20%22metric75%22%3A%20%22float%22%2C%20%22metric76%22%3A%20%22float%22%2C%20%22metric77%22%3A%20%22float%22%2C%20%22metric78%22%3A%20%22float%22%2C%20%22metric79%22%3A%20%22float%22%2C%20%22metric80%22%3A%20%22float%22%2C%20%22metric81%22%3A%20%22float%22%2C%20%22metric82%22%3A%20%22float%22%2C%20%22metric83%22%3A%20%22float%22%2C%20%22metric84%22%3A%20%22float%22%2C%20%22metric85%22%3A%20%22float%22%2C%20%22metric86%22%3A%20%22float%22%2C%20%22metric87%22%3A%20%22float%22%2C%20%22metric88%22%3A%20%22float%22%2C%20%22metric89%22%3A%20%22float%22%2C%20%22metric90%22%3A%20%22float%22%2C%20%22metric91%22%3A%20%22float%22%2C%20%22metric92%22%3A%20%22float%22%2C%20%22metric93%22%3A%20%22float%22%2C%20%22metric94%22%3A%20%22float%22%2C%20%22metric95%22%3A%20%22float%22%2C%20%22metric96%22%3A%20%22float%22%2C%20%22metric97%22%3A%20%22float%22%2C%20%22metric98%22%3A%20%22float%22%2C%20%22run_name%22%3A%20%22string%22%7D%7D%7D%2C%20%22fromOp%22%3A%20%7B%22name%22%3A%20%22RunSegment-experiment%22%2C%20%22inputs%22%3A%20%7B%22self%22%3A%20%7B%22nodeType%22%3A%20%22output%22%2C%20%22type%22%3A%20%7B%22type%22%3A%20%22RunSegment%22%2C%20%22metrics%22%3A%20%7B%22type%22%3A%20%22ArrowWeaveList%22%2C%20%22objectType%22%3A%20%7B%22type%22%3A%20%22typedDict%22%2C%20%22propertyTypes%22%3A%20%7B%22step%22%3A%20%22int%22%2C%20%22string_col%22%3A%20%22string%22%2C%20%22metric0%22%3A%20%22float%22%2C%20%22metric1%22%3A%20%22float%22%2C%20%22metric2%22%3A%20%22float%22%2C%20%22metric3%22%3A%20%22float%22%2C%20%22metric4%22%3A%20%22float%22%2C%20%22metric5%22%3A%20%22float%22%2C%20%22metric6%22%3A%20%22float%22%2C%20%22metric7%22%3A%20%22float%22%2C%20%22metric8%22%3A%20%22float%22%2C%20%22metric9%22%3A%20%22float%22%2C%20%22metric10%22%3A%20%22float%22%2C%20%22metric11%22%3A%20%22float%22%2C%20%22metric12%22%3A%20%22float%22%2C%20%22metric13%22%3A%20%22float%22%2C%20%22metric14%22%3A%20%22float%22%2C%20%22metric15%22%3A%20%22float%22%2C%20%22metric16%22%3A%20%22float%22%2C%20%22metric17%22%3A%20%22float%22%2C%20%22metric18%22%3A%20%22float%22%2C%20%22metric19%22%3A%20%22float%22%2C%20%22metric20%22%3A%20%22float%22%2C%20%22metric21%22%3A%20%22float%22%2C%20%22metric22%22%3A%20%22float%22%2C%20%22metric23%22%3A%20%22float%22%2C%20%22metric24%22%3A%20%22float%22%2C%20%22metric25%22%3A%20%22float%22%2C%20%22metric26%22%3A%20%22float%22%2C%20%22metric27%22%3A%20%22float%22%2C%20%22metric28%22%3A%20%22float%22%2C%20%22metric29%22%3A%20%22float%22%2C%20%22metric30%22%3A%20%22float%22%2C%20%22metric31%22%3A%20%22float%22%2C%20%22metric32%22%3A%20%22float%22%2C%20%22metric33%22%3A%20%22float%22%2C%20%22metric34%22%3A%20%22float%22%2C%20%22metric35%22%3A%20%22float%22%2C%20%22metric36%22%3A%20%22float%22%2C%20%22metric37%22%3A%20%22float%22%2C%20%22metric38%22%3A%20%22float%22%2C%20%22metric39%22%3A%20%22float%22%2C%20%22metric40%22%3A%20%22float%22%2C%20%22metric41%22%3A%20%22float%22%2C%20%22metric42%22%3A%20%22float%22%2C%20%22metric43%22%3A%20%22float%22%2C%20%22metric44%22%3A%20%22float%22%2C%20%22metric45%22%3A%20%22float%22%2C%20%22metric46%22%3A%20%22float%22%2C%20%22metric47%22%3A%20%22float%22%2C%20%22metric48%22%3A%20%22float%22%2C%20%22metric49%22%3A%20%22float%22%2C%20%22metric50%22%3A%20%22float%22%2C%20%22metric51%22%3A%20%22float%22%2C%20%22metric52%22%3A%20%22float%22%2C%20%22metric53%22%3A%20%22float%22%2C%20%22metric54%22%3A%20%22float%22%2C%20%22metric55%22%3A%20%22float%22%2C%20%22metric56%22%3A%20%22float%22%2C%20%22metric57%22%3A%20%22float%22%2C%20%22metric58%22%3A%20%22float%22%2C%20%22metric59%22%3A%20%22float%22%2C%20%22metric60%22%3A%20%22float%22%2C%20%22metric61%22%3A%20%22float%22%2C%20%22metric62%22%3A%20%22float%22%2C%20%22metric63%22%3A%20%22float%22%2C%20%22metric64%22%3A%20%22float%22%2C%20%22metric65%22%3A%20%22float%22%2C%20%22metric66%22%3A%20%22float%22%2C%20%22metric67%22%3A%20%22float%22%2C%20%22metric68%22%3A%20%22float%22%2C%20%22metric69%22%3A%20%22float%22%2C%20%22metric70%22%3A%20%22float%22%2C%20%22metric71%22%3A%20%22float%22%2C%20%22metric72%22%3A%20%22float%22%2C%20%22metric73%22%3A%20%22float%22%2C%20%22metric74%22%3A%20%22float%22%2C%20%22metric75%22%3A%20%22float%22%2C%20%22metric76%22%3A%20%22float%22%2C%20%22metric77%22%3A%20%22float%22%2C%20%22metric78%22%3A%20%22float%22%2C%20%22metric79%22%3A%20%22float%22%2C%20%22metric80%22%3A%20%22float%22%2C%20%22metric81%22%3A%20%22float%22%2C%20%22metric82%22%3A%20%22float%22%2C%20%22metric83%22%3A%20%22float%22%2C%20%22metric84%22%3A%20%22float%22%2C%20%22metric85%22%3A%20%22float%22%2C%20%22metric86%22%3A%20%22float%22%2C%20%22metric87%22%3A%20%22float%22%2C%20%22metric88%22%3A%20%22float%22%2C%20%22metric89%22%3A%20%22float%22%2C%20%22metric90%22%3A%20%22float%22%2C%20%22metric91%22%3A%20%22float%22%2C%20%22metric92%22%3A%20%22float%22%2C%20%22metric93%22%3A%20%22float%22%2C%20%22metric94%22%3A%20%22float%22%2C%20%22metric95%22%3A%20%22float%22%2C%20%22metric96%22%3A%20%22float%22%2C%20%22metric97%22%3A%20%22float%22%2C%20%22metric98%22%3A%20%22float%22%7D%7D%7D%2C%20%22_property_types%22%3A%20%7B%22metrics%22%3A%20%7B%22type%22%3A%20%22ArrowWeaveList%22%2C%20%22objectType%22%3A%20%7B%22type%22%3A%20%22typedDict%22%2C%20%22propertyTypes%22%3A%20%7B%22step%22%3A%20%22int%22%2C%20%22string_col%22%3A%20%22string%22%2C%20%22metric0%22%3A%20%22float%22%2C%20%22metric1%22%3A%20%22float%22%2C%20%22metric2%22%3A%20%22float%22%2C%20%22metric3%22%3A%20%22float%22%2C%20%22metric4%22%3A%20%22float%22%2C%20%22metric5%22%3A%20%22float%22%2C%20%22metric6%22%3A%20%22float%22%2C%20%22metric7%22%3A%20%22float%22%2C%20%22metric8%22%3A%20%22float%22%2C%20%22metric9%22%3A%20%22float%22%2C%20%22metric10%22%3A%20%22float%22%2C%20%22metric11%22%3A%20%22float%22%2C%20%22metric12%22%3A%20%22float%22%2C%20%22metric13%22%3A%20%22float%22%2C%20%22metric14%22%3A%20%22float%22%2C%20%22metric15%22%3A%20%22float%22%2C%20%22metric16%22%3A%20%22float%22%2C%20%22metric17%22%3A%20%22float%22%2C%20%22metric18%22%3A%20%22float%22%2C%20%22metric19%22%3A%20%22float%22%2C%20%22metric20%22%3A%20%22float%22%2C%20%22metric21%22%3A%20%22float%22%2C%20%22metric22%22%3A%20%22float%22%2C%20%22metric23%22%3A%20%22float%22%2C%20%22metric24%22%3A%20%22float%22%2C%20%22metric25%22%3A%20%22float%22%2C%20%22metric26%22%3A%20%22float%22%2C%20%22metric27%22%3A%20%22float%22%2C%20%22metric28%22%3A%20%22float%22%2C%20%22metric29%22%3A%20%22float%22%2C%20%22metric30%22%3A%20%22float%22%2C%20%22metric31%22%3A%20%22float%22%2C%20%22metric32%22%3A%20%22float%22%2C%20%22metric33%22%3A%20%22float%22%2C%20%22metric34%22%3A%20%22float%22%2C%20%22metric35%22%3A%20%22float%22%2C%20%22metric36%22%3A%20%22float%22%2C%20%22metric37%22%3A%20%22float%22%2C%20%22metric38%22%3A%20%22float%22%2C%20%22metric39%22%3A%20%22float%22%2C%20%22metric40%22%3A%20%22float%22%2C%20%22metric41%22%3A%20%22float%22%2C%20%22metric42%22%3A%20%22float%22%2C%20%22metric43%22%3A%20%22float%22%2C%20%22metric44%22%3A%20%22float%22%2C%20%22metric45%22%3A%20%22float%22%2C%20%22metric46%22%3A%20%22float%22%2C%20%22metric47%22%3A%20%22float%22%2C%20%22metric48%22%3A%20%22float%22%2C%20%22metric49%22%3A%20%22float%22%2C%20%22metric50%22%3A%20%22float%22%2C%20%22metric51%22%3A%20%22float%22%2C%20%22metric52%22%3A%20%22float%22%2C%20%22metric53%22%3A%20%22float%22%2C%20%22metric54%22%3A%20%22float%22%2C%20%22metric55%22%3A%20%22float%22%2C%20%22metric56%22%3A%20%22float%22%2C%20%22metric57%22%3A%20%22float%22%2C%20%22metric58%22%3A%20%22float%22%2C%20%22metric59%22%3A%20%22float%22%2C%20%22metric60%22%3A%20%22float%22%2C%20%22metric61%22%3A%20%22float%22%2C%20%22metric62%22%3A%20%22float%22%2C%20%22metric63%22%3A%20%22float%22%2C%20%22metric64%22%3A%20%22float%22%2C%20%22metric65%22%3A%20%22float%22%2C%20%22metric66%22%3A%20%22float%22%2C%20%22metric67%22%3A%20%22float%22%2C%20%22metric68%22%3A%20%22float%22%2C%20%22metric69%22%3A%20%22float%22%2C%20%22metric70%22%3A%20%22float%22%2C%20%22metric71%22%3A%20%22float%22%2C%20%22metric72%22%3A%20%22float%22%2C%20%22metric73%22%3A%20%22float%22%2C%20%22metric74%22%3A%20%22float%22%2C%20%22metric75%22%3A%20%22float%22%2C%20%22metric76%22%3A%20%22float%22%2C%20%22metric77%22%3A%20%22float%22%2C%20%22metric78%22%3A%20%22float%22%2C%20%22metric79%22%3A%20%22float%22%2C%20%22metric80%22%3A%20%22float%22%2C%20%22metric81%22%3A%20%22float%22%2C%20%22metric82%22%3A%20%22float%22%2C%20%22metric83%22%3A%20%22float%22%2C%20%22metric84%22%3A%20%22float%22%2C%20%22metric85%22%3A%20%22float%22%2C%20%22metric86%22%3A%20%22float%22%2C%20%22metric87%22%3A%20%22float%22%2C%20%22metric88%22%3A%20%22float%22%2C%20%22metric89%22%3A%20%22float%22%2C%20%22metric90%22%3A%20%22float%22%2C%20%22metric91%22%3A%20%22float%22%2C%20%22metric92%22%3A%20%22float%22%2C%20%22metric93%22%3A%20%22float%22%2C%20%22metric94%22%3A%20%22float%22%2C%20%22metric95%22%3A%20%22float%22%2C%20%22metric96%22%3A%20%22float%22%2C%20%22metric97%22%3A%20%22float%22%2C%20%22metric98%22%3A%20%22float%22%7D%7D%7D%2C%20%22run_name%22%3A%20%22string%22%2C%20%22prior_run_ref%22%3A%20%7B%22type%22%3A%20%22union%22%2C%20%22members%22%3A%20%5B%22string%22%2C%20%22none%22%5D%7D%2C%20%22prior_run_branch_index%22%3A%20%7B%22type%22%3A%20%22union%22%2C%20%22members%22%3A%20%5B%22int%22%2C%20%22none%22%5D%7D%7D%7D%2C%20%22fromOp%22%3A%20%7B%22name%22%3A%20%22get%22%2C%20%22inputs%22%3A%20%7B%22uri%22%3A%20%7B%22nodeType%22%3A%20%22const%22%2C%20%22type%22%3A%20%22string%22%2C%20%22val%22%3A%20%22local-artifact%3A///tmp/local-artifacts/val/96216e5f4c4a089dad0535162b6729a4%22%7D%7D%7D%7D%7D%7D%7D\"\n",
       "            frameborder=\"0\"\n",
       "            allowfullscreen\n",
       "            \n",
       "        ></iframe>\n",
       "        "
      ],
      "text/plain": [
       "<IPython.lib.display.IFrame at 0x180e13be0>"
      ]
     },
     "metadata": {},
     "output_type": "display_data"
    }
   ],
   "source": [
    "weave.show(last_segment.experiment())"
   ]
  },
  {
   "cell_type": "code",
   "execution_count": null,
   "id": "37291fa1",
   "metadata": {},
   "outputs": [],
   "source": []
  },
  {
   "cell_type": "code",
   "execution_count": null,
   "id": "1a4274f6",
   "metadata": {},
   "outputs": [],
   "source": []
  }
 ],
 "metadata": {
  "kernelspec": {
   "display_name": "Python 3 (ipykernel)",
   "language": "python",
   "name": "python3"
  },
  "language_info": {
   "codemirror_mode": {
    "name": "ipython",
    "version": 3
   },
   "file_extension": ".py",
   "mimetype": "text/x-python",
   "name": "python",
   "nbconvert_exporter": "python",
   "pygments_lexer": "ipython3",
   "version": "3.9.7"
  }
 },
 "nbformat": 4,
 "nbformat_minor": 5
}
