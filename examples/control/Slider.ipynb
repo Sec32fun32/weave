{
 "cells": [
  {
   "cell_type": "code",
   "execution_count": null,
   "id": "83fee798",
   "metadata": {},
   "outputs": [],
   "source": [
    "import weave\n",
    "weave.use_frontend_devmode()"
   ]
  },
  {
   "cell_type": "code",
   "execution_count": null,
   "id": "6c85e3b7",
   "metadata": {},
   "outputs": [],
   "source": [
    "# Uncontrolled: panel creates its own state slot\n",
    "panel = weave.panels.Group2(\n",
    "    items={\n",
    "        \"my_slider\": weave.panels.Slider2(),\n",
    "        \"val\": lambda my_slider: weave.ops.execute(my_slider.config.value)\n",
    "    })\n",
    "panel"
   ]
  },
  {
   "cell_type": "code",
   "execution_count": null,
   "id": "0dd8dd51",
   "metadata": {},
   "outputs": [],
   "source": [
    "# Controlled: state is external to panel\n",
    "\n",
    "from weave import weave_internal\n",
    "panel = weave.panels.Group2(\n",
    "    vars={'slider_val': 5},\n",
    "    items={\n",
    "        'state_value': lambda slider_val: slider_val,\n",
    "        'slider': lambda slider_val: weave.panels.Group2(\n",
    "            items={\n",
    "                \"my_slider\": weave.panels.Slider2(config=weave.panels.Slider2Config(slider_val)),\n",
    "                \"val\": lambda my_slider: weave.ops.execute(my_slider.config.value),\n",
    "                \"my_slider2\": weave.panels.Slider2(config=weave.panels.Slider2Config(slider_val))\n",
    "            })\n",
    "    })\n",
    "panel"
   ]
  }
 ],
 "metadata": {
  "kernelspec": {
   "display_name": "Python 3 (ipykernel)",
   "language": "python",
   "name": "python3"
  }
 },
 "nbformat": 4,
 "nbformat_minor": 5
}
