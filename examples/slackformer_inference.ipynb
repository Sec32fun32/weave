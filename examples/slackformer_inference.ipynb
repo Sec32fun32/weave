{
 "cells": [
  {
   "cell_type": "markdown",
   "id": "78ae38ec",
   "metadata": {},
   "source": [
    "# Slackformer: Simple Inference"
   ]
  },
  {
   "cell_type": "code",
   "execution_count": 2,
   "id": "6197ffef",
   "metadata": {},
   "outputs": [],
   "source": [
    "import weave\n",
    "from weave.ecosystem import keras as weave_keras"
   ]
  },
  {
   "cell_type": "code",
   "execution_count": 3,
   "id": "7aa52c7b",
   "metadata": {},
   "outputs": [
    {
     "name": "stderr",
     "output_type": "stream",
     "text": [
      "2022-08-10 19:43:31.662155: I tensorflow/core/platform/cpu_feature_guard.cc:193] This TensorFlow binary is optimized with oneAPI Deep Neural Network Library (oneDNN) to use the following CPU instructions in performance-critical operations:  AVX2 FMA\n",
      "To enable them in other operations, rebuild TensorFlow with the appropriate compiler flags.\n",
      "WARNING:absl:Found untraced functions such as embedding_layer_call_fn, embedding_layer_call_and_return_conditional_losses, embedding_1_layer_call_fn, embedding_1_layer_call_and_return_conditional_losses, multi_head_attention_layer_call_fn while saving (showing 5 of 26). These functions will not be directly callable after loading.\n"
     ]
    },
    {
     "name": "stdout",
     "output_type": "stream",
     "text": [
      "INFO:tensorflow:Assets written to: /tmp/local-artifacts/KerasModel/working-V3LPWDED6L09/_obj/assets\n"
     ]
    },
    {
     "name": "stderr",
     "output_type": "stream",
     "text": [
      "INFO:tensorflow:Assets written to: /tmp/local-artifacts/KerasModel/working-V3LPWDED6L09/_obj/assets\n"
     ]
    }
   ],
   "source": [
    "from tensorflow import keras\n",
    "model = keras.models.load_model(\"slackformer_64_64_E5\")\n",
    "    #\"slackformer_4_heads_32_64_E5\") # <-best one  31% val acc, doesn't load because architecture changed\n",
    "    #\"slackformer_64_64_E5\")  < actually works\n",
    "\n",
    "slackformer = weave.save(model)"
   ]
  },
  {
   "cell_type": "markdown",
   "id": "de51dcc3",
   "metadata": {},
   "source": [
    "## Show top predicted user id"
   ]
  },
  {
   "cell_type": "code",
   "execution_count": 4,
   "id": "92660bda",
   "metadata": {},
   "outputs": [
    {
     "data": {
      "text/plain": [
       "6"
      ]
     },
     "execution_count": 4,
     "metadata": {},
     "output_type": "execute_result"
    }
   ],
   "source": [
    "weave.use(weave_keras.call_string_to_argmax(slackformer, \"one does not simply save any model\"))"
   ]
  },
  {
   "cell_type": "markdown",
   "id": "c873ca1d",
   "metadata": {},
   "source": [
    "## Show top predicted users"
   ]
  },
  {
   "cell_type": "code",
   "execution_count": 5,
   "id": "503ad1c2",
   "metadata": {},
   "outputs": [],
   "source": [
    "@weave.op(render_info={\"type\": \"function\"},\n",
    "          input_type={\"user_id\" : weave.types.Number()},\n",
    "                      output_type=weave.types.String())\n",
    "def user_by_id(user_id) -> str:\n",
    "    import pickle\n",
    "    names = pickle.load(open(\"user_map_215_over_50\", 'rb'))\n",
    "    try:\n",
    "        username = names[user_id]\n",
    "        return username\n",
    "    except:\n",
    "        return \"\""
   ]
  },
  {
   "cell_type": "markdown",
   "id": "7df28f78",
   "metadata": {},
   "source": [
    "### Run this cell twice to see stuff :)"
   ]
  },
  {
   "cell_type": "code",
   "execution_count": 7,
   "id": "9df13afa",
   "metadata": {},
   "outputs": [
    {
     "data": {
      "text/html": [
       "\n",
       "        <iframe\n",
       "            width=\"100%\"\n",
       "            height=\"400px\"\n",
       "            src=\"http://127.0.0.1:60237/__frontend/weave_jupyter/__frontend/weave_jupyter?fullScreen&expNode=%7B%22nodeType%22%3A%20%22output%22%2C%20%22type%22%3A%20%7B%22type%22%3A%20%22list%22%2C%20%22objectType%22%3A%20%7B%22type%22%3A%20%22typedDict%22%2C%20%22propertyTypes%22%3A%20%7B%22text%22%3A%20%22string%22%7D%7D%7D%2C%20%22fromOp%22%3A%20%7B%22name%22%3A%20%22get%22%2C%20%22inputs%22%3A%20%7B%22uri%22%3A%20%7B%22nodeType%22%3A%20%22const%22%2C%20%22type%22%3A%20%7B%22type%22%3A%20%22const%22%2C%20%22valType%22%3A%20%22string%22%2C%20%22val%22%3A%20%22local-artifact%3A///tmp/local-artifacts/list/235597f60e86020e81a1bc87ad8f4e59%22%7D%2C%20%22val%22%3A%20%22local-artifact%3A///tmp/local-artifacts/list/235597f60e86020e81a1bc87ad8f4e59%22%7D%7D%7D%7D&panelId=table&panelConfig=%7B%22tableState%22%3A%20%7B%22autoColumns%22%3A%20false%2C%20%22columns%22%3A%20%7B%22S98XXHBJTF5D86%22%3A%20%7B%22panelId%22%3A%20%22%22%2C%20%22panelConfig%22%3A%20null%7D%2C%20%22E3IEW6TW5QKJ98%22%3A%20%7B%22panelId%22%3A%20%22%22%2C%20%22panelConfig%22%3A%20null%7D%2C%20%22Y71HPQ4HZ9I88K%22%3A%20%7B%22panelId%22%3A%20%22%22%2C%20%22panelConfig%22%3A%20null%7D%7D%2C%20%22preFilterFunction%22%3A%20%7B%22nodeType%22%3A%20%22void%22%2C%20%22type%22%3A%20%22invalid%22%7D%2C%20%22columnNames%22%3A%20%7B%22S98XXHBJTF5D86%22%3A%20%22%22%2C%20%22E3IEW6TW5QKJ98%22%3A%20%22%22%2C%20%22Y71HPQ4HZ9I88K%22%3A%20%22%22%7D%2C%20%22columnSelectFunctions%22%3A%20%7B%22S98XXHBJTF5D86%22%3A%20%7B%22nodeType%22%3A%20%22output%22%2C%20%22type%22%3A%20%22string%22%2C%20%22fromOp%22%3A%20%7B%22name%22%3A%20%22pick%22%2C%20%22inputs%22%3A%20%7B%22obj%22%3A%20%7B%22nodeType%22%3A%20%22var%22%2C%20%22type%22%3A%20%7B%22type%22%3A%20%22typedDict%22%2C%20%22propertyTypes%22%3A%20%7B%22text%22%3A%20%22string%22%7D%7D%2C%20%22varName%22%3A%20%22row%22%7D%2C%20%22key%22%3A%20%7B%22nodeType%22%3A%20%22const%22%2C%20%22type%22%3A%20%7B%22type%22%3A%20%22const%22%2C%20%22valType%22%3A%20%22string%22%2C%20%22val%22%3A%20%22text%22%7D%2C%20%22val%22%3A%20%22text%22%7D%7D%7D%7D%2C%20%22E3IEW6TW5QKJ98%22%3A%20%7B%22nodeType%22%3A%20%22output%22%2C%20%22type%22%3A%20%22number%22%2C%20%22fromOp%22%3A%20%7B%22name%22%3A%20%22op-call_string_to_argmax%22%2C%20%22inputs%22%3A%20%7B%22model%22%3A%20%7B%22nodeType%22%3A%20%22output%22%2C%20%22type%22%3A%20%7B%22type%22%3A%20%22KerasModel%22%2C%20%22inputs_type%22%3A%20%7B%22type%22%3A%20%22typedDict%22%2C%20%22propertyTypes%22%3A%20%7B%220%22%3A%20%7B%22type%22%3A%20%22KerasTensor%22%2C%20%22shape%22%3A%20%7B%22type%22%3A%20%22typedDict%22%2C%20%22propertyTypes%22%3A%20%7B%220%22%3A%20%22none%22%2C%20%221%22%3A%20%7B%22type%22%3A%20%22const%22%2C%20%22valType%22%3A%20%22number%22%2C%20%22val%22%3A%201%7D%7D%7D%2C%20%22datatype_enum%22%3A%20%7B%22type%22%3A%20%22const%22%2C%20%22valType%22%3A%20%22number%22%2C%20%22val%22%3A%207%7D%7D%7D%7D%2C%20%22outputs_type%22%3A%20%7B%22type%22%3A%20%22typedDict%22%2C%20%22propertyTypes%22%3A%20%7B%220%22%3A%20%7B%22type%22%3A%20%22KerasTensor%22%2C%20%22shape%22%3A%20%7B%22type%22%3A%20%22typedDict%22%2C%20%22propertyTypes%22%3A%20%7B%220%22%3A%20%22none%22%2C%20%221%22%3A%20%7B%22type%22%3A%20%22const%22%2C%20%22valType%22%3A%20%22number%22%2C%20%22val%22%3A%20215%7D%7D%7D%2C%20%22datatype_enum%22%3A%20%7B%22type%22%3A%20%22const%22%2C%20%22valType%22%3A%20%22number%22%2C%20%22val%22%3A%201%7D%7D%7D%7D%7D%2C%20%22fromOp%22%3A%20%7B%22name%22%3A%20%22get%22%2C%20%22inputs%22%3A%20%7B%22uri%22%3A%20%7B%22nodeType%22%3A%20%22const%22%2C%20%22type%22%3A%20%7B%22type%22%3A%20%22const%22%2C%20%22valType%22%3A%20%22string%22%2C%20%22val%22%3A%20%22local-artifact%3A///tmp/local-artifacts/KerasModel/756a6046390da85a5965bad5f2457dbb%22%7D%2C%20%22val%22%3A%20%22local-artifact%3A///tmp/local-artifacts/KerasModel/756a6046390da85a5965bad5f2457dbb%22%7D%7D%7D%7D%2C%20%22input_str%22%3A%20%7B%22nodeType%22%3A%20%22output%22%2C%20%22type%22%3A%20%22string%22%2C%20%22fromOp%22%3A%20%7B%22name%22%3A%20%22pick%22%2C%20%22inputs%22%3A%20%7B%22obj%22%3A%20%7B%22nodeType%22%3A%20%22var%22%2C%20%22type%22%3A%20%7B%22type%22%3A%20%22typedDict%22%2C%20%22propertyTypes%22%3A%20%7B%22text%22%3A%20%22string%22%7D%7D%2C%20%22varName%22%3A%20%22row%22%7D%2C%20%22key%22%3A%20%7B%22nodeType%22%3A%20%22const%22%2C%20%22type%22%3A%20%7B%22type%22%3A%20%22const%22%2C%20%22valType%22%3A%20%22string%22%2C%20%22val%22%3A%20%22text%22%7D%2C%20%22val%22%3A%20%22text%22%7D%7D%7D%7D%7D%7D%7D%2C%20%22Y71HPQ4HZ9I88K%22%3A%20%7B%22nodeType%22%3A%20%22output%22%2C%20%22type%22%3A%20%22string%22%2C%20%22fromOp%22%3A%20%7B%22name%22%3A%20%22op-user_by_id%22%2C%20%22inputs%22%3A%20%7B%22user_id%22%3A%20%7B%22nodeType%22%3A%20%22output%22%2C%20%22type%22%3A%20%22number%22%2C%20%22fromOp%22%3A%20%7B%22name%22%3A%20%22op-call_string_to_argmax%22%2C%20%22inputs%22%3A%20%7B%22model%22%3A%20%7B%22nodeType%22%3A%20%22output%22%2C%20%22type%22%3A%20%7B%22type%22%3A%20%22KerasModel%22%2C%20%22inputs_type%22%3A%20%7B%22type%22%3A%20%22typedDict%22%2C%20%22propertyTypes%22%3A%20%7B%220%22%3A%20%7B%22type%22%3A%20%22KerasTensor%22%2C%20%22shape%22%3A%20%7B%22type%22%3A%20%22typedDict%22%2C%20%22propertyTypes%22%3A%20%7B%220%22%3A%20%22none%22%2C%20%221%22%3A%20%7B%22type%22%3A%20%22const%22%2C%20%22valType%22%3A%20%22number%22%2C%20%22val%22%3A%201%7D%7D%7D%2C%20%22datatype_enum%22%3A%20%7B%22type%22%3A%20%22const%22%2C%20%22valType%22%3A%20%22number%22%2C%20%22val%22%3A%207%7D%7D%7D%7D%2C%20%22outputs_type%22%3A%20%7B%22type%22%3A%20%22typedDict%22%2C%20%22propertyTypes%22%3A%20%7B%220%22%3A%20%7B%22type%22%3A%20%22KerasTensor%22%2C%20%22shape%22%3A%20%7B%22type%22%3A%20%22typedDict%22%2C%20%22propertyTypes%22%3A%20%7B%220%22%3A%20%22none%22%2C%20%221%22%3A%20%7B%22type%22%3A%20%22const%22%2C%20%22valType%22%3A%20%22number%22%2C%20%22val%22%3A%20215%7D%7D%7D%2C%20%22datatype_enum%22%3A%20%7B%22type%22%3A%20%22const%22%2C%20%22valType%22%3A%20%22number%22%2C%20%22val%22%3A%201%7D%7D%7D%7D%7D%2C%20%22fromOp%22%3A%20%7B%22name%22%3A%20%22get%22%2C%20%22inputs%22%3A%20%7B%22uri%22%3A%20%7B%22nodeType%22%3A%20%22const%22%2C%20%22type%22%3A%20%7B%22type%22%3A%20%22const%22%2C%20%22valType%22%3A%20%22string%22%2C%20%22val%22%3A%20%22local-artifact%3A///tmp/local-artifacts/KerasModel/756a6046390da85a5965bad5f2457dbb%22%7D%2C%20%22val%22%3A%20%22local-artifact%3A///tmp/local-artifacts/KerasModel/756a6046390da85a5965bad5f2457dbb%22%7D%7D%7D%7D%2C%20%22input_str%22%3A%20%7B%22nodeType%22%3A%20%22output%22%2C%20%22type%22%3A%20%22string%22%2C%20%22fromOp%22%3A%20%7B%22name%22%3A%20%22pick%22%2C%20%22inputs%22%3A%20%7B%22obj%22%3A%20%7B%22nodeType%22%3A%20%22var%22%2C%20%22type%22%3A%20%7B%22type%22%3A%20%22typedDict%22%2C%20%22propertyTypes%22%3A%20%7B%22text%22%3A%20%22string%22%7D%7D%2C%20%22varName%22%3A%20%22row%22%7D%2C%20%22key%22%3A%20%7B%22nodeType%22%3A%20%22const%22%2C%20%22type%22%3A%20%7B%22type%22%3A%20%22const%22%2C%20%22valType%22%3A%20%22string%22%2C%20%22val%22%3A%20%22text%22%7D%2C%20%22val%22%3A%20%22text%22%7D%7D%7D%7D%7D%7D%7D%7D%7D%7D%7D%2C%20%22order%22%3A%20%5B%22S98XXHBJTF5D86%22%2C%20%22E3IEW6TW5QKJ98%22%2C%20%22Y71HPQ4HZ9I88K%22%5D%2C%20%22groupBy%22%3A%20%5B%5D%2C%20%22sort%22%3A%20%5B%5D%2C%20%22pageSize%22%3A%2010%2C%20%22page%22%3A%200%7D%7D\"\n",
       "            frameborder=\"0\"\n",
       "            allowfullscreen\n",
       "            \n",
       "        ></iframe>\n",
       "        "
      ],
      "text/plain": [
       "<IPython.lib.display.IFrame at 0x10ab88640>"
      ]
     },
     "metadata": {},
     "output_type": "display_data"
    }
   ],
   "source": [
    "# try to make a table of sample inputs\n",
    "prompt_list = [\"I love weave\", \n",
    "               \"I love coffee\", \n",
    "               \"can we get some metrics on this\", \n",
    "               \"I'm curious if someone has thought about trying this for tables\"\n",
    "              ]\n",
    "prompt_d = [{\"text\" : t} for t in prompt_list]\n",
    "weave.panels.Table(prompt_d,\n",
    "                  columns = [\n",
    "                      lambda row: row[\"text\"],\n",
    "                      lambda row: weave_keras.call_string_to_argmax(slackformer, row[\"text\"]),\n",
    "                      lambda row: user_by_id(weave_keras.call_string_to_argmax(slackformer, row[\"text\"]))\n",
    "                  ]\n",
    ")\n",
    "                  "
   ]
  },
  {
   "cell_type": "markdown",
   "id": "ede07fa8",
   "metadata": {},
   "source": [
    "## Show multiple users + confidence scores\n",
    "Also need to run the panel cell twice sometimes"
   ]
  },
  {
   "cell_type": "code",
   "execution_count": 8,
   "id": "4fbfbddb",
   "metadata": {},
   "outputs": [],
   "source": [
    "import numpy as np\n",
    "import pickle\n",
    "\n",
    "@weave.op(render_info={\"type\": \"function\"},\n",
    "          input_type={\"conf_scores\" : weave.types.List(weave.types.Number())},\n",
    "                      output_type=weave.types.List(weave.types.TypedDict(\n",
    "                              {\"user\" : weave.types.String(),\n",
    "                               \"score\" : weave.types.Number()})))\n",
    "def show_top_10_scores(conf_scores):\n",
    "    conf_scores = np.asarray(conf_scores)\n",
    "    # load mapping of ids to user names\n",
    "    user_id_map = pickle.load(open(\"user_map_215_over_50\", 'rb'))\n",
    "    # sort scores\n",
    "    scores_with_ids = [[s, i] for i, s in enumerate(conf_scores)]\n",
    "    sorted_scores = sorted(scores_with_ids, key=lambda s: s[0], reverse=True)\n",
    "    rows = []\n",
    "    for s in sorted_scores[:10]:\n",
    "        try:\n",
    "            # nicely format top 10 scores\n",
    "            rows.append({\n",
    "                \"user\" : user_id_map[s[1]], \"score\" : float(s[0])})\n",
    "        except:\n",
    "            continue\n",
    "    return rows"
   ]
  },
  {
   "cell_type": "code",
   "execution_count": 10,
   "id": "38a0bf19",
   "metadata": {},
   "outputs": [
    {
     "data": {
      "text/html": [
       "\n",
       "        <iframe\n",
       "            width=\"100%\"\n",
       "            height=\"400px\"\n",
       "            src=\"http://127.0.0.1:60237/__frontend/weave_jupyter/__frontend/weave_jupyter?fullScreen&expNode=%7B%22nodeType%22%3A%20%22output%22%2C%20%22type%22%3A%20%7B%22type%22%3A%20%22list%22%2C%20%22objectType%22%3A%20%7B%22type%22%3A%20%22typedDict%22%2C%20%22propertyTypes%22%3A%20%7B%22text%22%3A%20%22string%22%7D%7D%7D%2C%20%22fromOp%22%3A%20%7B%22name%22%3A%20%22get%22%2C%20%22inputs%22%3A%20%7B%22uri%22%3A%20%7B%22nodeType%22%3A%20%22const%22%2C%20%22type%22%3A%20%7B%22type%22%3A%20%22const%22%2C%20%22valType%22%3A%20%22string%22%2C%20%22val%22%3A%20%22local-artifact%3A///tmp/local-artifacts/list/235597f60e86020e81a1bc87ad8f4e59%22%7D%2C%20%22val%22%3A%20%22local-artifact%3A///tmp/local-artifacts/list/235597f60e86020e81a1bc87ad8f4e59%22%7D%7D%7D%7D&panelId=table&panelConfig=%7B%22tableState%22%3A%20%7B%22autoColumns%22%3A%20false%2C%20%22columns%22%3A%20%7B%22X76N8LRY6NLHV7%22%3A%20%7B%22panelId%22%3A%20%22%22%2C%20%22panelConfig%22%3A%20null%7D%2C%20%22NI3D4NV46U68F0%22%3A%20%7B%22panelId%22%3A%20%22%22%2C%20%22panelConfig%22%3A%20null%7D%7D%2C%20%22preFilterFunction%22%3A%20%7B%22nodeType%22%3A%20%22void%22%2C%20%22type%22%3A%20%22invalid%22%7D%2C%20%22columnNames%22%3A%20%7B%22X76N8LRY6NLHV7%22%3A%20%22%22%2C%20%22NI3D4NV46U68F0%22%3A%20%22%22%7D%2C%20%22columnSelectFunctions%22%3A%20%7B%22X76N8LRY6NLHV7%22%3A%20%7B%22nodeType%22%3A%20%22output%22%2C%20%22type%22%3A%20%22string%22%2C%20%22fromOp%22%3A%20%7B%22name%22%3A%20%22pick%22%2C%20%22inputs%22%3A%20%7B%22obj%22%3A%20%7B%22nodeType%22%3A%20%22var%22%2C%20%22type%22%3A%20%7B%22type%22%3A%20%22typedDict%22%2C%20%22propertyTypes%22%3A%20%7B%22text%22%3A%20%22string%22%7D%7D%2C%20%22varName%22%3A%20%22row%22%7D%2C%20%22key%22%3A%20%7B%22nodeType%22%3A%20%22const%22%2C%20%22type%22%3A%20%7B%22type%22%3A%20%22const%22%2C%20%22valType%22%3A%20%22string%22%2C%20%22val%22%3A%20%22text%22%7D%2C%20%22val%22%3A%20%22text%22%7D%7D%7D%7D%2C%20%22NI3D4NV46U68F0%22%3A%20%7B%22nodeType%22%3A%20%22output%22%2C%20%22type%22%3A%20%7B%22type%22%3A%20%22list%22%2C%20%22objectType%22%3A%20%7B%22type%22%3A%20%22typedDict%22%2C%20%22propertyTypes%22%3A%20%7B%22user%22%3A%20%22string%22%2C%20%22score%22%3A%20%22number%22%7D%7D%7D%2C%20%22fromOp%22%3A%20%7B%22name%22%3A%20%22op-show_top_10_scores%22%2C%20%22inputs%22%3A%20%7B%22conf_scores%22%3A%20%7B%22nodeType%22%3A%20%22output%22%2C%20%22type%22%3A%20%7B%22type%22%3A%20%22list%22%2C%20%22objectType%22%3A%20%22number%22%7D%2C%20%22fromOp%22%3A%20%7B%22name%22%3A%20%22op-call_string_to_confidence_scores%22%2C%20%22inputs%22%3A%20%7B%22model%22%3A%20%7B%22nodeType%22%3A%20%22output%22%2C%20%22type%22%3A%20%7B%22type%22%3A%20%22KerasModel%22%2C%20%22inputs_type%22%3A%20%7B%22type%22%3A%20%22typedDict%22%2C%20%22propertyTypes%22%3A%20%7B%220%22%3A%20%7B%22type%22%3A%20%22KerasTensor%22%2C%20%22shape%22%3A%20%7B%22type%22%3A%20%22typedDict%22%2C%20%22propertyTypes%22%3A%20%7B%220%22%3A%20%22none%22%2C%20%221%22%3A%20%7B%22type%22%3A%20%22const%22%2C%20%22valType%22%3A%20%22number%22%2C%20%22val%22%3A%201%7D%7D%7D%2C%20%22datatype_enum%22%3A%20%7B%22type%22%3A%20%22const%22%2C%20%22valType%22%3A%20%22number%22%2C%20%22val%22%3A%207%7D%7D%7D%7D%2C%20%22outputs_type%22%3A%20%7B%22type%22%3A%20%22typedDict%22%2C%20%22propertyTypes%22%3A%20%7B%220%22%3A%20%7B%22type%22%3A%20%22KerasTensor%22%2C%20%22shape%22%3A%20%7B%22type%22%3A%20%22typedDict%22%2C%20%22propertyTypes%22%3A%20%7B%220%22%3A%20%22none%22%2C%20%221%22%3A%20%7B%22type%22%3A%20%22const%22%2C%20%22valType%22%3A%20%22number%22%2C%20%22val%22%3A%20215%7D%7D%7D%2C%20%22datatype_enum%22%3A%20%7B%22type%22%3A%20%22const%22%2C%20%22valType%22%3A%20%22number%22%2C%20%22val%22%3A%201%7D%7D%7D%7D%7D%2C%20%22fromOp%22%3A%20%7B%22name%22%3A%20%22get%22%2C%20%22inputs%22%3A%20%7B%22uri%22%3A%20%7B%22nodeType%22%3A%20%22const%22%2C%20%22type%22%3A%20%7B%22type%22%3A%20%22const%22%2C%20%22valType%22%3A%20%22string%22%2C%20%22val%22%3A%20%22local-artifact%3A///tmp/local-artifacts/KerasModel/756a6046390da85a5965bad5f2457dbb%22%7D%2C%20%22val%22%3A%20%22local-artifact%3A///tmp/local-artifacts/KerasModel/756a6046390da85a5965bad5f2457dbb%22%7D%7D%7D%7D%2C%20%22input_str%22%3A%20%7B%22nodeType%22%3A%20%22output%22%2C%20%22type%22%3A%20%22string%22%2C%20%22fromOp%22%3A%20%7B%22name%22%3A%20%22pick%22%2C%20%22inputs%22%3A%20%7B%22obj%22%3A%20%7B%22nodeType%22%3A%20%22var%22%2C%20%22type%22%3A%20%7B%22type%22%3A%20%22typedDict%22%2C%20%22propertyTypes%22%3A%20%7B%22text%22%3A%20%22string%22%7D%7D%2C%20%22varName%22%3A%20%22row%22%7D%2C%20%22key%22%3A%20%7B%22nodeType%22%3A%20%22const%22%2C%20%22type%22%3A%20%7B%22type%22%3A%20%22const%22%2C%20%22valType%22%3A%20%22string%22%2C%20%22val%22%3A%20%22text%22%7D%2C%20%22val%22%3A%20%22text%22%7D%7D%7D%7D%7D%7D%7D%7D%7D%7D%7D%2C%20%22order%22%3A%20%5B%22X76N8LRY6NLHV7%22%2C%20%22NI3D4NV46U68F0%22%5D%2C%20%22groupBy%22%3A%20%5B%5D%2C%20%22sort%22%3A%20%5B%5D%2C%20%22pageSize%22%3A%2010%2C%20%22page%22%3A%200%7D%7D\"\n",
       "            frameborder=\"0\"\n",
       "            allowfullscreen\n",
       "            \n",
       "        ></iframe>\n",
       "        "
      ],
      "text/plain": [
       "<IPython.lib.display.IFrame at 0x196e76040>"
      ]
     },
     "metadata": {},
     "output_type": "display_data"
    }
   ],
   "source": [
    "prompt_list = [\"I love weave\", \n",
    "               \"I love coffee\", \n",
    "               \"can we get some metrics on this\", \n",
    "               \"I'm curious if someone has thought about trying this for tables\"\n",
    "              ]\n",
    "prompt_d = [{\"text\" : t} for t in prompt_list]\n",
    "weave.panels.Table(prompt_d,\n",
    "                  columns = [\n",
    "                      lambda row: row[\"text\"],\n",
    "                      lambda row: show_top_10_scores(\n",
    "                                    weave_keras.call_string_to_confidence_scores(slackformer, \n",
    "                                                                                 row[\"text\"])) \n",
    "                                                \n",
    "                  ]\n",
    ")\n",
    "                  "
   ]
  }
 ],
 "metadata": {
  "kernelspec": {
   "display_name": "Python 3 (ipykernel)",
   "language": "python",
   "name": "python3"
  },
  "language_info": {
   "codemirror_mode": {
    "name": "ipython",
    "version": 3
   },
   "file_extension": ".py",
   "mimetype": "text/x-python",
   "name": "python",
   "nbconvert_exporter": "python",
   "pygments_lexer": "ipython3",
   "version": "3.9.7"
  }
 },
 "nbformat": 4,
 "nbformat_minor": 5
}
