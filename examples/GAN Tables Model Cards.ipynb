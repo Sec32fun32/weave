{
 "cells": [
  {
   "cell_type": "code",
   "execution_count": 14,
   "id": "749b6cf5",
   "metadata": {},
   "outputs": [],
   "source": [
    "import typing\n",
    "import weave\n",
    "from weave import panels"
   ]
  },
  {
   "cell_type": "code",
   "execution_count": 15,
   "id": "1a98332d",
   "metadata": {},
   "outputs": [],
   "source": [
    "import os"
   ]
  },
  {
   "cell_type": "code",
   "execution_count": 16,
   "id": "22fcbbfd",
   "metadata": {},
   "outputs": [
    {
     "data": {
      "text/html": [
       "Tracking run with wandb version 0.12.19.dev1"
      ],
      "text/plain": [
       "<IPython.core.display.HTML object>"
      ]
     },
     "metadata": {},
     "output_type": "display_data"
    },
    {
     "data": {
      "text/html": [
       "Run data is saved locally in <code>/Users/stacey/Code/weave/weave-internal/examples/wandb/run-20220610_154253-2q10b162</code>"
      ],
      "text/plain": [
       "<IPython.core.display.HTML object>"
      ]
     },
     "metadata": {},
     "output_type": "display_data"
    },
    {
     "data": {
      "text/html": [
       "Syncing run <strong><a href=\"https://wandb.ai/stacey/ganimals/runs/2q10b162\" target=\"_blank\">swept-serenity-74</a></strong> to <a href=\"https://wandb.ai/stacey/ganimals\" target=\"_blank\">Weights & Biases</a> (<a href=\"https://wandb.me/run\" target=\"_blank\">docs</a>)<br/>"
      ],
      "text/plain": [
       "<IPython.core.display.HTML object>"
      ]
     },
     "metadata": {},
     "output_type": "display_data"
    },
    {
     "data": {
      "text/html": [
       "Waiting for W&B process to finish... <strong style=\"color:green\">(success).</strong>"
      ],
      "text/plain": [
       "<IPython.core.display.HTML object>"
      ]
     },
     "metadata": {},
     "output_type": "display_data"
    },
    {
     "data": {
      "text/html": [
       "Synced <strong style=\"color:#cdcd00\">swept-serenity-74</strong>: <a href=\"https://wandb.ai/stacey/ganimals/runs/2q10b162\" target=\"_blank\">https://wandb.ai/stacey/ganimals/runs/2q10b162</a><br/>Synced 5 W&B file(s), 0 media file(s), 0 artifact file(s) and 2 other file(s)"
      ],
      "text/plain": [
       "<IPython.core.display.HTML object>"
      ]
     },
     "metadata": {},
     "output_type": "display_data"
    },
    {
     "data": {
      "text/html": [
       "Find logs at: <code>./wandb/run-20220610_154253-2q10b162/logs</code>"
      ],
      "text/plain": [
       "<IPython.core.display.HTML object>"
      ]
     },
     "metadata": {},
     "output_type": "display_data"
    }
   ],
   "source": [
    "# Get Ganilla style + content images\n",
    "import wandb\n",
    "run = wandb.init(project=\"ganimals\")\n",
    "tb = run.use_artifact('stacey/ganimals/run-3r46hvkr-samples:v0').get(\"samples\")\n",
    "#artifact_dir = artifact.download()\n",
    "#print(artifact_dir)\n",
    "wandb.run.finish()\n",
    "\n",
    "gl_src = []\n",
    "gl_dst = []\n",
    "for row in tb.data:\n",
    "    s_i = row[0].image\n",
    "    t_i = row[1].image\n",
    "    gl_src.append(s_i)\n",
    "    gl_dst.append(t_i)"
   ]
  },
  {
   "cell_type": "code",
   "execution_count": 27,
   "id": "b2b43cd9",
   "metadata": {},
   "outputs": [],
   "source": [
    "# This Type should be built-in to Weave, declared in weave.types\n",
    "@weave.type()\n",
    "class User:\n",
    "    name: str\n",
    "\n",
    "# This Type will be a built-in to Weave, declared in weave.types\n",
    "@weave.type()\n",
    "class TargetMetric:\n",
    "    name: str\n",
    "    direction: str # typing.Union['up','down']  # (TODO: enum)\n",
    "\n",
    "class MarkdownString(weave.types.Type):\n",
    "    pass\n",
    "\n",
    "# this is hacky\n",
    "class List(weave.types.Type):\n",
    "    pass\n",
    "\n",
    "#@weave.type()\n",
    "#class ExampleTable():\n",
    "\n",
    "class TypedDict(weave.types.Type):\n",
    "    pass\n",
    "        \n",
    "@weave.type()\n",
    "class ModelCard:\n",
    "    model_name: str\n",
    "    created_by: User\n",
    "    updated_at: str  # TODO: timestamp\n",
    "    model_type: str  # TODO: enum\n",
    "    primary_metric: TargetMetric\n",
    "    application: str\n",
    "    sample_report: str\n",
    "    github_url: str\n",
    "    arxiv_url: str\n",
    "    content_images: TypedDict\n",
    "    style_images : List\n",
    "    result_images: List\n",
    "    limitations: str\n",
    "    use: str\n",
    "    \n",
    "    # TODO: This is not general enough. It should depend on the type of the model\n",
    "    example: MarkdownString\n",
    "        \n",
    "# This should be an op, so we can call it from the UI, but I need to fix something\n",
    "# to make that work\n",
    "#@weave.op()\n",
    "def model_card_panel(model_card: ModelCard) -> panels.Card:\n",
    "    # maybe I can make a little table here?\n",
    "    #temp_table = weave.panels.Table(data)\n",
    "    #temp_table = weave.save(data, name=\"dogs\")\n",
    "    table = weave.panels.Table(data)\n",
    "    table.table_query.add_column(lambda row: row)\n",
    "    #table.table_query.add_column(lambda row: add_hello(row))\n",
    "    return panels.Card(\n",
    "        title=model_card.model_name,\n",
    "        subtitle=model_card.created_by.name,\n",
    "        content=[\n",
    "            panels.CardTab(\n",
    "                name='Overview',\n",
    "                content=panels.Group(\n",
    "                    items=[\n",
    "                        panels.Group(\n",
    "                            prefer_horizontal=True,\n",
    "                            items=[\n",
    "                                panels.LabeledItem(item=model_card.updated_at, label='Last updated'),\n",
    "                                panels.LabeledItem(item=model_card.model_type, label='Model type'),\n",
    "                                panels.LabeledItem(item=model_card.primary_metric.name, label='Metric'),\n",
    "                            ]\n",
    "                        ),\n",
    "                        panels.LabeledItem(item=model_card.application, label='Application')\n",
    "                        # TODO can't nest an image\n",
    "                        #panels.LabeledItem(item=model_card.example, label='Example'),\n",
    "                    ]\n",
    "                )\n",
    "            ),\n",
    "            panels.CardTab(\n",
    "                name='Limitations & Use',\n",
    "                content=panels.Group(\n",
    "                    items=[\n",
    "                        panels.LabeledItem(item=model_card.limitations, label='Limitations'),\n",
    "                        panels.LabeledItem(item=model_card.use, label='Use')\n",
    "                    ])\n",
    "            ),\n",
    "            panels.CardTab(\n",
    "                # TODO: can this be a more complicated Table?\n",
    "                name=\"Content Images\",\n",
    "                content=panels.Table(model_card.content_images)\n",
    "            ),\n",
    "            panels.CardTab(\n",
    "                name=\"Style Image(s)\",\n",
    "                content=panels.Table(model_card.style_images)\n",
    "            ),\n",
    "            panels.CardTab(\n",
    "                name=\"Sample Result\",\n",
    "                content=panels.Table(model_card.result_images)\n",
    "            ),\n",
    "            panels.CardTab(\n",
    "                name='Reference',\n",
    "                content=panels.Group(\n",
    "                    items=[\n",
    "                        panels.LabeledItem(item=model_card.github_url, label=\"Github Repository\"),\n",
    "                        panels.LabeledItem(item=model_card.arxiv_url, label=\"Arxiv Link\"),\n",
    "                        panels.LabeledItem(item=model_card.sample_report, label=\"Sample W&B Report\")\n",
    "                    ]\n",
    "                )\n",
    "            ),\n",
    "             panels.CardTab(\n",
    "                # TODO: can we nest multiple tables here?\n",
    "                name='Full Example',\n",
    "                content=panels.Group(\n",
    "                    items=[\n",
    "                        panels.Group(\n",
    "                            #prefer_horizontal=True,\n",
    "                            items=[\n",
    "                                panels.Table(dog_images), # label=\"Content Images\"),\n",
    "                                panels.Table([Image.open(\"sample_images/cat/ll2_cat.png\")])\n",
    "                                                  # label=\"Style Image\")\n",
    "                            ]\n",
    "                        ),\n",
    "                        panels.LabeledItem(item=model_card.application, label='Application'),\n",
    "                       # panels.LabeledItem(item=model_card.example, label='Example')\n",
    "                    ]\n",
    "                )\n",
    "            ),\n",
    "\n",
    "        ]\n",
    "    )"
   ]
  },
  {
   "cell_type": "code",
   "execution_count": 18,
   "id": "97497648",
   "metadata": {},
   "outputs": [
    {
     "name": "stdout",
     "output_type": "stream",
     "text": [
      "Requirement already satisfied: pillow in /Users/stacey/.pyenv/versions/3.9.7/envs/wint/lib/python3.9/site-packages (9.1.1)\n",
      "\u001b[33mWARNING: You are using pip version 21.2.3; however, version 22.1.2 is available.\n",
      "You should consider upgrading via the '/Users/stacey/.pyenv/versions/3.9.7/envs/wint/bin/python3.9 -m pip install --upgrade pip' command.\u001b[0m\n"
     ]
    }
   ],
   "source": [
    "!pip install pillow"
   ]
  },
  {
   "cell_type": "code",
   "execution_count": 19,
   "id": "25577cbe",
   "metadata": {},
   "outputs": [],
   "source": [
    "# Get all dog images as Table\n",
    "from PIL import Image\n",
    "data = []\n",
    "dogs = \"sample_images/dog\"\n",
    "dog_paths = [os.path.join(dogs, d) for d in os.listdir(dogs) if len(d.split(\".\")[0])>1]\n",
    "del(dog_paths[2])\n",
    "del(dog_paths[2])\n",
    "dog_images = [Image.open(d).resize((512, 512)) for d in dog_paths]\n",
    "data.extend([{\"img_path\": img_path, \"image\": img} for (img_path, img) in zip(dog_paths, dog_images)])"
   ]
  },
  {
   "cell_type": "code",
   "execution_count": 20,
   "id": "0f411fb8",
   "metadata": {},
   "outputs": [
    {
     "name": "stdout",
     "output_type": "stream",
     "text": [
      "[{'img_path': 'sample_images/dog/nb_dog.jpg', 'image': <PIL.Image.Image image mode=RGB size=512x512 at 0x1281D05E0>}, {'img_path': 'sample_images/dog/ar_dog.jpg', 'image': <PIL.Image.Image image mode=RGB size=512x512 at 0x13ACFD370>}, {'img_path': 'sample_images/dog/ss_dog.jpg', 'image': <PIL.Image.Image image mode=RGB size=512x512 at 0x1281EFD00>}, {'img_path': 'sample_images/dog/tamora.jpg', 'image': <PIL.Image.Image image mode=RGB size=512x512 at 0x14C26BD30>}, {'img_path': 'sample_images/dog/romeo.jpg', 'image': <PIL.Image.Image image mode=RGB size=512x512 at 0x14C26B100>}, {'img_path': 'sample_images/dog/lca_dog.jpg', 'image': <PIL.Image.Image image mode=RGB size=512x512 at 0x14C26B400>}, {'img_path': 'sample_images/dog/mo_dog.jpeg', 'image': <PIL.Image.Image image mode=RGB size=512x512 at 0x14C265250>}]\n"
     ]
    }
   ],
   "source": [
    "print(data)"
   ]
  },
  {
   "cell_type": "code",
   "execution_count": 28,
   "id": "119721fc",
   "metadata": {},
   "outputs": [
    {
     "data": {
      "text/html": [
       "\n",
       "        <iframe\n",
       "            width=\"100%\"\n",
       "            height=\"400px\"\n",
       "            src=\"http://127.0.0.1:51445/__frontend/weave_jupyter/__frontend/weave_jupyter?fullScreen&expNode=%7B%22nodeType%22%3A%20%22void%22%2C%20%22type%22%3A%20%22invalid%22%7D&panelId=card&panelConfig=%7B%22title%22%3A%20%22StarGAN-V2%22%2C%20%22subtitle%22%3A%20%22clovaai%22%2C%20%22content%22%3A%20%5B%7B%22name%22%3A%20%22Overview%22%2C%20%22content%22%3A%20%7B%22panelInputExpr%22%3A%20%7B%22nodeType%22%3A%20%22void%22%2C%20%22type%22%3A%20%22invalid%22%7D%2C%20%22panelId%22%3A%20%22group%22%2C%20%22panelConfig%22%3A%20%7B%22items%22%3A%20%5B%7B%22panelInputExpr%22%3A%20%7B%22nodeType%22%3A%20%22void%22%2C%20%22type%22%3A%20%22invalid%22%7D%2C%20%22panelId%22%3A%20%22group%22%2C%20%22panelConfig%22%3A%20%7B%22items%22%3A%20%5B%7B%22panelInputExpr%22%3A%20%7B%22nodeType%22%3A%20%22void%22%2C%20%22type%22%3A%20%22invalid%22%7D%2C%20%22panelId%22%3A%20%22labeled-item%22%2C%20%22panelConfig%22%3A%20%7B%22label%22%3A%20%22Last%20updated%22%2C%20%22item%22%3A%20%7B%22nodeType%22%3A%20%22const%22%2C%20%22type%22%3A%20%22string%22%2C%20%22val%22%3A%20%22July%2020%2C%202020%22%7D%7D%7D%2C%20%7B%22panelInputExpr%22%3A%20%7B%22nodeType%22%3A%20%22void%22%2C%20%22type%22%3A%20%22invalid%22%7D%2C%20%22panelId%22%3A%20%22labeled-item%22%2C%20%22panelConfig%22%3A%20%7B%22label%22%3A%20%22Model%20type%22%2C%20%22item%22%3A%20%7B%22nodeType%22%3A%20%22const%22%2C%20%22type%22%3A%20%22string%22%2C%20%22val%22%3A%20%22StarGAN%22%7D%7D%7D%2C%20%7B%22panelInputExpr%22%3A%20%7B%22nodeType%22%3A%20%22void%22%2C%20%22type%22%3A%20%22invalid%22%7D%2C%20%22panelId%22%3A%20%22labeled-item%22%2C%20%22panelConfig%22%3A%20%7B%22label%22%3A%20%22Metric%22%2C%20%22item%22%3A%20%7B%22nodeType%22%3A%20%22const%22%2C%20%22type%22%3A%20%22string%22%2C%20%22val%22%3A%20%22FID%22%7D%7D%7D%5D%2C%20%22preferHorizontal%22%3A%20true%7D%7D%2C%20%7B%22panelInputExpr%22%3A%20%7B%22nodeType%22%3A%20%22void%22%2C%20%22type%22%3A%20%22invalid%22%7D%2C%20%22panelId%22%3A%20%22labeled-item%22%2C%20%22panelConfig%22%3A%20%7B%22label%22%3A%20%22Application%22%2C%20%22item%22%3A%20%7B%22nodeType%22%3A%20%22const%22%2C%20%22type%22%3A%20%22string%22%2C%20%22val%22%3A%20%22StarGAN-v2%20combines%20content%20and%20style%20reference%20images%20to%20generate%20diverse%20and%20high-quality%20images%20with%20more%20flexibility%20across%20datasets%20and%20latent%20domains.%22%7D%7D%7D%5D%2C%20%22preferHorizontal%22%3A%20null%7D%7D%7D%2C%20%7B%22name%22%3A%20%22Limitations%20%26%20Use%22%2C%20%22content%22%3A%20%7B%22panelInputExpr%22%3A%20%7B%22nodeType%22%3A%20%22void%22%2C%20%22type%22%3A%20%22invalid%22%7D%2C%20%22panelId%22%3A%20%22group%22%2C%20%22panelConfig%22%3A%20%7B%22items%22%3A%20%5B%7B%22panelInputExpr%22%3A%20%7B%22nodeType%22%3A%20%22void%22%2C%20%22type%22%3A%20%22invalid%22%7D%2C%20%22panelId%22%3A%20%22labeled-item%22%2C%20%22panelConfig%22%3A%20%7B%22label%22%3A%20%22Limitations%22%2C%20%22item%22%3A%20%7B%22nodeType%22%3A%20%22const%22%2C%20%22type%22%3A%20%22string%22%2C%20%22val%22%3A%20%22Requires%20a%20pretrained%20model%20on%20a%20fixed%20number%20of%20N%20domains%5Cu2014these%20can%20be%20implicit%20and%20results%20may%20vary%20based%20on%20the%20size%20of%20N%2C%20the%20number%20of%20reference%20images%20in%20each%20input%20domain%2C%20and%20their%20diversity.%22%7D%7D%7D%2C%20%7B%22panelInputExpr%22%3A%20%7B%22nodeType%22%3A%20%22void%22%2C%20%22type%22%3A%20%22invalid%22%7D%2C%20%22panelId%22%3A%20%22labeled-item%22%2C%20%22panelConfig%22%3A%20%7B%22label%22%3A%20%22Use%22%2C%20%22item%22%3A%20%7B%22nodeType%22%3A%20%22const%22%2C%20%22type%22%3A%20%22string%22%2C%20%22val%22%3A%20%22python%20stargan-v2/main.py%20--mode%20custom%20-s%20%5Bcontent%20image%20filename%5D%20-r%20%5Breference%20or%20style%20image%20filename%5D%20-o%20%5Boutput%20file%20name%5D%22%7D%7D%7D%5D%2C%20%22preferHorizontal%22%3A%20null%7D%7D%7D%2C%20%7B%22name%22%3A%20%22Content%20Images%22%2C%20%22content%22%3A%20%7B%22panelInputExpr%22%3A%20%7B%22nodeType%22%3A%20%22output%22%2C%20%22type%22%3A%20%7B%22type%22%3A%20%22list%22%2C%20%22objectType%22%3A%20%7B%22type%22%3A%20%22typedDict%22%2C%20%22propertyTypes%22%3A%20%7B%22img_path%22%3A%20%22string%22%2C%20%22image%22%3A%20%7B%22type%22%3A%20%22pil-image%22%2C%20%22width%22%3A%20512%2C%20%22height%22%3A%20512%2C%20%22mode%22%3A%20%22RGB%22%7D%7D%7D%7D%2C%20%22fromOp%22%3A%20%7B%22name%22%3A%20%22get%22%2C%20%22inputs%22%3A%20%7B%22uri%22%3A%20%7B%22nodeType%22%3A%20%22const%22%2C%20%22type%22%3A%20%7B%22type%22%3A%20%22const%22%2C%20%22valType%22%3A%20%22string%22%2C%20%22val%22%3A%20%22local-artifact%3A///tmp/local-artifacts/list/afe1c7b433d501bdf4cf083daa4b96f3%22%7D%2C%20%22val%22%3A%20%22local-artifact%3A///tmp/local-artifacts/list/afe1c7b433d501bdf4cf083daa4b96f3%22%7D%7D%7D%7D%2C%20%22panelId%22%3A%20%22table%22%2C%20%22panelConfig%22%3A%20%7B%22tableState%22%3A%20%7B%22autoColumns%22%3A%20false%2C%20%22columns%22%3A%20%7B%7D%2C%20%22preFilterFunction%22%3A%20%7B%22nodeType%22%3A%20%22void%22%2C%20%22type%22%3A%20%22invalid%22%7D%2C%20%22columnNames%22%3A%20%7B%7D%2C%20%22columnSelectFunctions%22%3A%20%7B%7D%2C%20%22order%22%3A%20%5B%5D%2C%20%22groupBy%22%3A%20%5B%5D%2C%20%22sort%22%3A%20%5B%5D%2C%20%22pageSize%22%3A%2010%2C%20%22page%22%3A%200%7D%7D%7D%7D%2C%20%7B%22name%22%3A%20%22Style%20Image%28s%29%22%2C%20%22content%22%3A%20%7B%22panelInputExpr%22%3A%20%7B%22nodeType%22%3A%20%22output%22%2C%20%22type%22%3A%20%7B%22type%22%3A%20%22list%22%2C%20%22objectType%22%3A%20%7B%22type%22%3A%20%22pil-image%22%2C%20%22width%22%3A%20724%2C%20%22height%22%3A%20674%2C%20%22mode%22%3A%20%22RGBA%22%7D%7D%2C%20%22fromOp%22%3A%20%7B%22name%22%3A%20%22get%22%2C%20%22inputs%22%3A%20%7B%22uri%22%3A%20%7B%22nodeType%22%3A%20%22const%22%2C%20%22type%22%3A%20%7B%22type%22%3A%20%22const%22%2C%20%22valType%22%3A%20%22string%22%2C%20%22val%22%3A%20%22local-artifact%3A///tmp/local-artifacts/list/a933091345b0c4119ca6ad7ef749ea6a%22%7D%2C%20%22val%22%3A%20%22local-artifact%3A///tmp/local-artifacts/list/a933091345b0c4119ca6ad7ef749ea6a%22%7D%7D%7D%7D%2C%20%22panelId%22%3A%20%22table%22%2C%20%22panelConfig%22%3A%20%7B%22tableState%22%3A%20%7B%22autoColumns%22%3A%20false%2C%20%22columns%22%3A%20%7B%7D%2C%20%22preFilterFunction%22%3A%20%7B%22nodeType%22%3A%20%22void%22%2C%20%22type%22%3A%20%22invalid%22%7D%2C%20%22columnNames%22%3A%20%7B%7D%2C%20%22columnSelectFunctions%22%3A%20%7B%7D%2C%20%22order%22%3A%20%5B%5D%2C%20%22groupBy%22%3A%20%5B%5D%2C%20%22sort%22%3A%20%5B%5D%2C%20%22pageSize%22%3A%2010%2C%20%22page%22%3A%200%7D%7D%7D%7D%2C%20%7B%22name%22%3A%20%22Sample%20Result%22%2C%20%22content%22%3A%20%7B%22panelInputExpr%22%3A%20%7B%22nodeType%22%3A%20%22output%22%2C%20%22type%22%3A%20%7B%22type%22%3A%20%22list%22%2C%20%22objectType%22%3A%20%7B%22type%22%3A%20%22pil-image%22%2C%20%22width%22%3A%20512%2C%20%22height%22%3A%201024%2C%20%22mode%22%3A%20%22RGB%22%7D%7D%2C%20%22fromOp%22%3A%20%7B%22name%22%3A%20%22get%22%2C%20%22inputs%22%3A%20%7B%22uri%22%3A%20%7B%22nodeType%22%3A%20%22const%22%2C%20%22type%22%3A%20%7B%22type%22%3A%20%22const%22%2C%20%22valType%22%3A%20%22string%22%2C%20%22val%22%3A%20%22local-artifact%3A///tmp/local-artifacts/list/8c6ae84fa214fc6cc9651915f749f73f%22%7D%2C%20%22val%22%3A%20%22local-artifact%3A///tmp/local-artifacts/list/8c6ae84fa214fc6cc9651915f749f73f%22%7D%7D%7D%7D%2C%20%22panelId%22%3A%20%22table%22%2C%20%22panelConfig%22%3A%20%7B%22tableState%22%3A%20%7B%22autoColumns%22%3A%20false%2C%20%22columns%22%3A%20%7B%7D%2C%20%22preFilterFunction%22%3A%20%7B%22nodeType%22%3A%20%22void%22%2C%20%22type%22%3A%20%22invalid%22%7D%2C%20%22columnNames%22%3A%20%7B%7D%2C%20%22columnSelectFunctions%22%3A%20%7B%7D%2C%20%22order%22%3A%20%5B%5D%2C%20%22groupBy%22%3A%20%5B%5D%2C%20%22sort%22%3A%20%5B%5D%2C%20%22pageSize%22%3A%2010%2C%20%22page%22%3A%200%7D%7D%7D%7D%2C%20%7B%22name%22%3A%20%22Reference%22%2C%20%22content%22%3A%20%7B%22panelInputExpr%22%3A%20%7B%22nodeType%22%3A%20%22void%22%2C%20%22type%22%3A%20%22invalid%22%7D%2C%20%22panelId%22%3A%20%22group%22%2C%20%22panelConfig%22%3A%20%7B%22items%22%3A%20%5B%7B%22panelInputExpr%22%3A%20%7B%22nodeType%22%3A%20%22void%22%2C%20%22type%22%3A%20%22invalid%22%7D%2C%20%22panelId%22%3A%20%22labeled-item%22%2C%20%22panelConfig%22%3A%20%7B%22label%22%3A%20%22Github%20Repository%22%2C%20%22item%22%3A%20%7B%22nodeType%22%3A%20%22const%22%2C%20%22type%22%3A%20%22string%22%2C%20%22val%22%3A%20%22https%3A//github.com/clovaai/stargan-v2%22%7D%7D%7D%2C%20%7B%22panelInputExpr%22%3A%20%7B%22nodeType%22%3A%20%22void%22%2C%20%22type%22%3A%20%22invalid%22%7D%2C%20%22panelId%22%3A%20%22labeled-item%22%2C%20%22panelConfig%22%3A%20%7B%22label%22%3A%20%22Arxiv%20Link%22%2C%20%22item%22%3A%20%7B%22nodeType%22%3A%20%22const%22%2C%20%22type%22%3A%20%22string%22%2C%20%22val%22%3A%20%22https%3A//arxiv.org/abs/1912.01865%22%7D%7D%7D%2C%20%7B%22panelInputExpr%22%3A%20%7B%22nodeType%22%3A%20%22void%22%2C%20%22type%22%3A%20%22invalid%22%7D%2C%20%22panelId%22%3A%20%22labeled-item%22%2C%20%22panelConfig%22%3A%20%7B%22label%22%3A%20%22Sample%20W%26B%20Report%22%2C%20%22item%22%3A%20%7B%22nodeType%22%3A%20%22const%22%2C%20%22type%22%3A%20%22string%22%2C%20%22val%22%3A%20%22https%3A//wandb.ai/stacey/stargan/reports/Cute-Animals-and-Post-Modern-Style-Transfer-StarGAN-v2-for-Multi-Domain-Image-Synthesis---VmlldzoxNzcwODQ%3FgalleryTag%3Dintermediate%22%7D%7D%7D%5D%2C%20%22preferHorizontal%22%3A%20null%7D%7D%7D%2C%20%7B%22name%22%3A%20%22Full%20Example%22%2C%20%22content%22%3A%20%7B%22panelInputExpr%22%3A%20%7B%22nodeType%22%3A%20%22void%22%2C%20%22type%22%3A%20%22invalid%22%7D%2C%20%22panelId%22%3A%20%22group%22%2C%20%22panelConfig%22%3A%20%7B%22items%22%3A%20%5B%7B%22panelInputExpr%22%3A%20%7B%22nodeType%22%3A%20%22void%22%2C%20%22type%22%3A%20%22invalid%22%7D%2C%20%22panelId%22%3A%20%22group%22%2C%20%22panelConfig%22%3A%20%7B%22items%22%3A%20%5B%7B%22panelInputExpr%22%3A%20%7B%22nodeType%22%3A%20%22output%22%2C%20%22type%22%3A%20%7B%22type%22%3A%20%22list%22%2C%20%22objectType%22%3A%20%7B%22type%22%3A%20%22pil-image%22%2C%20%22width%22%3A%20512%2C%20%22height%22%3A%20512%2C%20%22mode%22%3A%20%22RGB%22%7D%7D%2C%20%22fromOp%22%3A%20%7B%22name%22%3A%20%22get%22%2C%20%22inputs%22%3A%20%7B%22uri%22%3A%20%7B%22nodeType%22%3A%20%22const%22%2C%20%22type%22%3A%20%7B%22type%22%3A%20%22const%22%2C%20%22valType%22%3A%20%22string%22%2C%20%22val%22%3A%20%22local-artifact%3A///tmp/local-artifacts/list/0c71d9086008fe15a195cbef6608fe82%22%7D%2C%20%22val%22%3A%20%22local-artifact%3A///tmp/local-artifacts/list/0c71d9086008fe15a195cbef6608fe82%22%7D%7D%7D%7D%2C%20%22panelId%22%3A%20%22table%22%2C%20%22panelConfig%22%3A%20%7B%22tableState%22%3A%20%7B%22autoColumns%22%3A%20false%2C%20%22columns%22%3A%20%7B%7D%2C%20%22preFilterFunction%22%3A%20%7B%22nodeType%22%3A%20%22void%22%2C%20%22type%22%3A%20%22invalid%22%7D%2C%20%22columnNames%22%3A%20%7B%7D%2C%20%22columnSelectFunctions%22%3A%20%7B%7D%2C%20%22order%22%3A%20%5B%5D%2C%20%22groupBy%22%3A%20%5B%5D%2C%20%22sort%22%3A%20%5B%5D%2C%20%22pageSize%22%3A%2010%2C%20%22page%22%3A%200%7D%7D%7D%2C%20%7B%22panelInputExpr%22%3A%20%7B%22nodeType%22%3A%20%22output%22%2C%20%22type%22%3A%20%7B%22type%22%3A%20%22list%22%2C%20%22objectType%22%3A%20%7B%22type%22%3A%20%22pil-image%22%2C%20%22width%22%3A%20724%2C%20%22height%22%3A%20674%2C%20%22mode%22%3A%20%22RGBA%22%7D%7D%2C%20%22fromOp%22%3A%20%7B%22name%22%3A%20%22get%22%2C%20%22inputs%22%3A%20%7B%22uri%22%3A%20%7B%22nodeType%22%3A%20%22const%22%2C%20%22type%22%3A%20%7B%22type%22%3A%20%22const%22%2C%20%22valType%22%3A%20%22string%22%2C%20%22val%22%3A%20%22local-artifact%3A///tmp/local-artifacts/list/a933091345b0c4119ca6ad7ef749ea6a%22%7D%2C%20%22val%22%3A%20%22local-artifact%3A///tmp/local-artifacts/list/a933091345b0c4119ca6ad7ef749ea6a%22%7D%7D%7D%7D%2C%20%22panelId%22%3A%20%22table%22%2C%20%22panelConfig%22%3A%20%7B%22tableState%22%3A%20%7B%22autoColumns%22%3A%20false%2C%20%22columns%22%3A%20%7B%7D%2C%20%22preFilterFunction%22%3A%20%7B%22nodeType%22%3A%20%22void%22%2C%20%22type%22%3A%20%22invalid%22%7D%2C%20%22columnNames%22%3A%20%7B%7D%2C%20%22columnSelectFunctions%22%3A%20%7B%7D%2C%20%22order%22%3A%20%5B%5D%2C%20%22groupBy%22%3A%20%5B%5D%2C%20%22sort%22%3A%20%5B%5D%2C%20%22pageSize%22%3A%2010%2C%20%22page%22%3A%200%7D%7D%7D%5D%2C%20%22preferHorizontal%22%3A%20null%7D%7D%2C%20%7B%22panelInputExpr%22%3A%20%7B%22nodeType%22%3A%20%22void%22%2C%20%22type%22%3A%20%22invalid%22%7D%2C%20%22panelId%22%3A%20%22labeled-item%22%2C%20%22panelConfig%22%3A%20%7B%22label%22%3A%20%22Application%22%2C%20%22item%22%3A%20%7B%22nodeType%22%3A%20%22const%22%2C%20%22type%22%3A%20%22string%22%2C%20%22val%22%3A%20%22StarGAN-v2%20combines%20content%20and%20style%20reference%20images%20to%20generate%20diverse%20and%20high-quality%20images%20with%20more%20flexibility%20across%20datasets%20and%20latent%20domains.%22%7D%7D%7D%5D%2C%20%22preferHorizontal%22%3A%20null%7D%7D%7D%5D%7D\"\n",
       "            frameborder=\"0\"\n",
       "            allowfullscreen\n",
       "            \n",
       "        ></iframe>\n",
       "        "
      ],
      "text/plain": [
       "<IPython.lib.display.IFrame at 0x14c3f5550>"
      ]
     },
     "metadata": {},
     "output_type": "display_data"
    }
   ],
   "source": [
    "model_card = ModelCard(\n",
    "    model_name='StarGAN-V2',\n",
    "    created_by=User(name='clovaai'),\n",
    "    updated_at='July 20, 2020',  # TODO: timestamp\n",
    "    model_type='StarGAN',\n",
    "    primary_metric=TargetMetric(name='FID', direction='down'),\n",
    "    application=\"StarGAN-v2 combines content and style reference images to generate diverse and high-quality images with more flexibility across datasets and latent domains.\",\n",
    "    example=\"TBD\",\n",
    "    sample_report=\"https://wandb.ai/stacey/stargan/reports/Cute-Animals-and-Post-Modern-Style-Transfer-StarGAN-v2-for-Multi-Domain-Image-Synthesis---VmlldzoxNzcwODQ?galleryTag=intermediate\",\n",
    "    github_url=\"https://github.com/clovaai/stargan-v2\",\n",
    "    arxiv_url=\"https://arxiv.org/abs/1912.01865\",\n",
    "    limitations=\"Requires a pretrained model on a fixed number of N domains—these can be implicit and results may vary based on the size of N, the number of reference images in each input domain, and their diversity.\",\n",
    "    use=\"python stargan-v2/main.py --mode custom -s [content image filename] -r [reference or style image filename] -o [output file name]\",\n",
    "    content_images=data,\n",
    "    style_images = [Image.open(\"sample_images/cat/ll2_cat.png\")],\n",
    "    result_images=[Image.open(\"sample_ref_stargan.jpg\")] #starganv2_cross.jpg\")]\n",
    ")\n",
    "\n",
    "# Render it using the model_card_panel!\n",
    "model_card_panel(model_card)"
   ]
  },
  {
   "cell_type": "code",
   "execution_count": 19,
   "id": "fc88b1d9",
   "metadata": {},
   "outputs": [
    {
     "name": "stdout",
     "output_type": "stream",
     "text": [
      "['ganilla/data/illustrator_samples/KH_illustrator_sample.png', 'ganilla/data/illustrator_samples/AS_illustrator_sample.png', 'ganilla/data/illustrator_samples/DM_illustrator_sample.png', 'ganilla/data/illustrator_samples/KP_illustrator_sample.png']\n"
     ]
    }
   ],
   "source": [
    "# load ganilla style images\n",
    "art_ims = []\n",
    "sample_dir = \"ganilla/data/illustrator_samples\"\n",
    "art_paths = [os.path.join(sample_dir, d) for d in os.listdir(sample_dir) if len(d.split(\".\")[0])>1]\n",
    "art_images = [Image.open(d).resize((700, 225)) for d in art_paths]\n",
    "art_ims.extend([{\"img_path\": img_path, \"image\": img} for (img_path, img) in zip(art_paths, art_images)])\n",
    "print(art_paths)"
   ]
  },
  {
   "cell_type": "code",
   "execution_count": 20,
   "id": "e4549086",
   "metadata": {},
   "outputs": [
    {
     "data": {
      "text/html": [
       "\n",
       "        <iframe\n",
       "            width=\"100%\"\n",
       "            height=\"400px\"\n",
       "            src=\"http://127.0.0.1:49702/__frontend/weave_jupyter/__frontend/weave_jupyter?fullScreen&expNode=%7B%22nodeType%22%3A%20%22void%22%2C%20%22type%22%3A%20%22invalid%22%7D&panelId=card&panelConfig=%7B%22title%22%3A%20%22GANILLA%22%2C%20%22subtitle%22%3A%20%22giddyyupp%22%2C%20%22content%22%3A%20%5B%7B%22name%22%3A%20%22Overview%22%2C%20%22content%22%3A%20%7B%22panelInputExpr%22%3A%20%7B%22nodeType%22%3A%20%22void%22%2C%20%22type%22%3A%20%22invalid%22%7D%2C%20%22panelId%22%3A%20%22group%22%2C%20%22panelConfig%22%3A%20%7B%22items%22%3A%20%5B%7B%22panelInputExpr%22%3A%20%7B%22nodeType%22%3A%20%22void%22%2C%20%22type%22%3A%20%22invalid%22%7D%2C%20%22panelId%22%3A%20%22group%22%2C%20%22panelConfig%22%3A%20%7B%22items%22%3A%20%5B%7B%22panelInputExpr%22%3A%20%7B%22nodeType%22%3A%20%22void%22%2C%20%22type%22%3A%20%22invalid%22%7D%2C%20%22panelId%22%3A%20%22labeled-item%22%2C%20%22panelConfig%22%3A%20%7B%22label%22%3A%20%22Last%20updated%22%2C%20%22item%22%3A%20%7B%22nodeType%22%3A%20%22const%22%2C%20%22type%22%3A%20%22string%22%2C%20%22val%22%3A%20%22July%2020%2C%202020%22%7D%7D%7D%2C%20%7B%22panelInputExpr%22%3A%20%7B%22nodeType%22%3A%20%22void%22%2C%20%22type%22%3A%20%22invalid%22%7D%2C%20%22panelId%22%3A%20%22labeled-item%22%2C%20%22panelConfig%22%3A%20%7B%22label%22%3A%20%22Model%20type%22%2C%20%22item%22%3A%20%7B%22nodeType%22%3A%20%22const%22%2C%20%22type%22%3A%20%22string%22%2C%20%22val%22%3A%20%22ganilla%22%7D%7D%7D%2C%20%7B%22panelInputExpr%22%3A%20%7B%22nodeType%22%3A%20%22void%22%2C%20%22type%22%3A%20%22invalid%22%7D%2C%20%22panelId%22%3A%20%22labeled-item%22%2C%20%22panelConfig%22%3A%20%7B%22label%22%3A%20%22Metric%22%2C%20%22item%22%3A%20%7B%22nodeType%22%3A%20%22const%22%2C%20%22type%22%3A%20%22string%22%2C%20%22val%22%3A%20%22Style%26ContentCNN%22%7D%7D%7D%5D%2C%20%22preferHorizontal%22%3A%20true%7D%7D%2C%20%7B%22panelInputExpr%22%3A%20%7B%22nodeType%22%3A%20%22void%22%2C%20%22type%22%3A%20%22invalid%22%7D%2C%20%22panelId%22%3A%20%22labeled-item%22%2C%20%22panelConfig%22%3A%20%7B%22label%22%3A%20%22Application%22%2C%20%22item%22%3A%20%7B%22nodeType%22%3A%20%22const%22%2C%20%22type%22%3A%20%22string%22%2C%20%22val%22%3A%20%22translate%20content%20from%20one%20image%20into%20the%20style%20of%20an%20illustrator%20using%20a%20pretrained%20network%22%7D%7D%7D%5D%2C%20%22preferHorizontal%22%3A%20null%7D%7D%7D%2C%20%7B%22name%22%3A%20%22Limitations%20%26%20Use%22%2C%20%22content%22%3A%20%7B%22panelInputExpr%22%3A%20%7B%22nodeType%22%3A%20%22void%22%2C%20%22type%22%3A%20%22invalid%22%7D%2C%20%22panelId%22%3A%20%22group%22%2C%20%22panelConfig%22%3A%20%7B%22items%22%3A%20%5B%7B%22panelInputExpr%22%3A%20%7B%22nodeType%22%3A%20%22void%22%2C%20%22type%22%3A%20%22invalid%22%7D%2C%20%22panelId%22%3A%20%22labeled-item%22%2C%20%22panelConfig%22%3A%20%7B%22label%22%3A%20%22Limitations%22%2C%20%22item%22%3A%20%7B%22nodeType%22%3A%20%22const%22%2C%20%22type%22%3A%20%22string%22%2C%20%22val%22%3A%20%22Each%20GANILLA%20model%20variant%20is%20finetuned%20on%20one%20illustrator%20or%20artist.%20The%20number%2C%20quality%2C%20and%20diversity%20of%20representative%20artist%20images%20avaialble%20for%20pretraining%20will%20affect%20the%20result%20quality.%20Model%20is%20best%20suited%20for%20natural%20images%20like%20photos%20of%20landscapes%20or%20faces%20and%20may%20not%20perform%20as%20well%20on%20other%20image%20types%22%7D%7D%7D%2C%20%7B%22panelInputExpr%22%3A%20%7B%22nodeType%22%3A%20%22void%22%2C%20%22type%22%3A%20%22invalid%22%7D%2C%20%22panelId%22%3A%20%22labeled-item%22%2C%20%22panelConfig%22%3A%20%7B%22label%22%3A%20%22Use%22%2C%20%22item%22%3A%20%7B%22nodeType%22%3A%20%22const%22%2C%20%22type%22%3A%20%22string%22%2C%20%22val%22%3A%20%22%21python%20ganilla/test.py%20--dataroot%20sample_images/dog%20--from_artifact%20ganilla_KP_pretrained%3Av0%20--model%20test%20--log_all%20--gpu_ids%20-1%22%7D%7D%7D%5D%2C%20%22preferHorizontal%22%3A%20null%7D%7D%7D%2C%20%7B%22name%22%3A%20%22Content%20Images%22%2C%20%22content%22%3A%20%7B%22panelInputExpr%22%3A%20%7B%22nodeType%22%3A%20%22output%22%2C%20%22type%22%3A%20%7B%22type%22%3A%20%22list%22%2C%20%22objectType%22%3A%20%7B%22type%22%3A%20%22pil-image%22%2C%20%22width%22%3A%20256%2C%20%22height%22%3A%20256%2C%20%22mode%22%3A%20%22RGB%22%7D%7D%2C%20%22fromOp%22%3A%20%7B%22name%22%3A%20%22get%22%2C%20%22inputs%22%3A%20%7B%22uri%22%3A%20%7B%22nodeType%22%3A%20%22const%22%2C%20%22type%22%3A%20%7B%22type%22%3A%20%22const%22%2C%20%22valType%22%3A%20%22string%22%2C%20%22val%22%3A%20%22local-artifact%3A///tmp/local-artifacts/list/3a9aa9bf2dadb83f593ff99f517ee6fb%22%7D%2C%20%22val%22%3A%20%22local-artifact%3A///tmp/local-artifacts/list/3a9aa9bf2dadb83f593ff99f517ee6fb%22%7D%7D%7D%7D%2C%20%22panelId%22%3A%20%22table%22%2C%20%22panelConfig%22%3A%20%7B%22tableState%22%3A%20%7B%22autoColumns%22%3A%20false%2C%20%22columns%22%3A%20%7B%7D%2C%20%22preFilterFunction%22%3A%20%7B%22nodeType%22%3A%20%22void%22%2C%20%22type%22%3A%20%22invalid%22%7D%2C%20%22columnNames%22%3A%20%7B%7D%2C%20%22columnSelectFunctions%22%3A%20%7B%7D%2C%20%22order%22%3A%20%5B%5D%2C%20%22groupBy%22%3A%20%5B%5D%2C%20%22sort%22%3A%20%5B%5D%2C%20%22pageSize%22%3A%2010%2C%20%22page%22%3A%200%7D%7D%7D%7D%2C%20%7B%22name%22%3A%20%22Style%20Image%28s%29%22%2C%20%22content%22%3A%20%7B%22panelInputExpr%22%3A%20%7B%22nodeType%22%3A%20%22output%22%2C%20%22type%22%3A%20%7B%22type%22%3A%20%22list%22%2C%20%22objectType%22%3A%20%7B%22type%22%3A%20%22pil-image%22%2C%20%22width%22%3A%20700%2C%20%22height%22%3A%20225%2C%20%22mode%22%3A%20%22RGBA%22%7D%7D%2C%20%22fromOp%22%3A%20%7B%22name%22%3A%20%22get%22%2C%20%22inputs%22%3A%20%7B%22uri%22%3A%20%7B%22nodeType%22%3A%20%22const%22%2C%20%22type%22%3A%20%7B%22type%22%3A%20%22const%22%2C%20%22valType%22%3A%20%22string%22%2C%20%22val%22%3A%20%22local-artifact%3A///tmp/local-artifacts/list/e8c4fd3f714ce86f34a0b73af938e848%22%7D%2C%20%22val%22%3A%20%22local-artifact%3A///tmp/local-artifacts/list/e8c4fd3f714ce86f34a0b73af938e848%22%7D%7D%7D%7D%2C%20%22panelId%22%3A%20%22table%22%2C%20%22panelConfig%22%3A%20%7B%22tableState%22%3A%20%7B%22autoColumns%22%3A%20false%2C%20%22columns%22%3A%20%7B%7D%2C%20%22preFilterFunction%22%3A%20%7B%22nodeType%22%3A%20%22void%22%2C%20%22type%22%3A%20%22invalid%22%7D%2C%20%22columnNames%22%3A%20%7B%7D%2C%20%22columnSelectFunctions%22%3A%20%7B%7D%2C%20%22order%22%3A%20%5B%5D%2C%20%22groupBy%22%3A%20%5B%5D%2C%20%22sort%22%3A%20%5B%5D%2C%20%22pageSize%22%3A%2010%2C%20%22page%22%3A%200%7D%7D%7D%7D%2C%20%7B%22name%22%3A%20%22Sample%20Result%22%2C%20%22content%22%3A%20%7B%22panelInputExpr%22%3A%20%7B%22nodeType%22%3A%20%22output%22%2C%20%22type%22%3A%20%7B%22type%22%3A%20%22list%22%2C%20%22objectType%22%3A%20%7B%22type%22%3A%20%22pil-image%22%2C%20%22width%22%3A%20256%2C%20%22height%22%3A%20256%2C%20%22mode%22%3A%20%22RGB%22%7D%7D%2C%20%22fromOp%22%3A%20%7B%22name%22%3A%20%22get%22%2C%20%22inputs%22%3A%20%7B%22uri%22%3A%20%7B%22nodeType%22%3A%20%22const%22%2C%20%22type%22%3A%20%7B%22type%22%3A%20%22const%22%2C%20%22valType%22%3A%20%22string%22%2C%20%22val%22%3A%20%22local-artifact%3A///tmp/local-artifacts/list/3f47c710c42c2660d51adf0eb2bbcab0%22%7D%2C%20%22val%22%3A%20%22local-artifact%3A///tmp/local-artifacts/list/3f47c710c42c2660d51adf0eb2bbcab0%22%7D%7D%7D%7D%2C%20%22panelId%22%3A%20%22table%22%2C%20%22panelConfig%22%3A%20%7B%22tableState%22%3A%20%7B%22autoColumns%22%3A%20false%2C%20%22columns%22%3A%20%7B%7D%2C%20%22preFilterFunction%22%3A%20%7B%22nodeType%22%3A%20%22void%22%2C%20%22type%22%3A%20%22invalid%22%7D%2C%20%22columnNames%22%3A%20%7B%7D%2C%20%22columnSelectFunctions%22%3A%20%7B%7D%2C%20%22order%22%3A%20%5B%5D%2C%20%22groupBy%22%3A%20%5B%5D%2C%20%22sort%22%3A%20%5B%5D%2C%20%22pageSize%22%3A%2010%2C%20%22page%22%3A%200%7D%7D%7D%7D%2C%20%7B%22name%22%3A%20%22Reference%22%2C%20%22content%22%3A%20%7B%22panelInputExpr%22%3A%20%7B%22nodeType%22%3A%20%22void%22%2C%20%22type%22%3A%20%22invalid%22%7D%2C%20%22panelId%22%3A%20%22group%22%2C%20%22panelConfig%22%3A%20%7B%22items%22%3A%20%5B%7B%22panelInputExpr%22%3A%20%7B%22nodeType%22%3A%20%22void%22%2C%20%22type%22%3A%20%22invalid%22%7D%2C%20%22panelId%22%3A%20%22labeled-item%22%2C%20%22panelConfig%22%3A%20%7B%22label%22%3A%20%22Github%20Repository%22%2C%20%22item%22%3A%20%7B%22nodeType%22%3A%20%22const%22%2C%20%22type%22%3A%20%22string%22%2C%20%22val%22%3A%20%22https%3A//github.com/giddyyupp/ganilla%22%7D%7D%7D%2C%20%7B%22panelInputExpr%22%3A%20%7B%22nodeType%22%3A%20%22void%22%2C%20%22type%22%3A%20%22invalid%22%7D%2C%20%22panelId%22%3A%20%22labeled-item%22%2C%20%22panelConfig%22%3A%20%7B%22label%22%3A%20%22Arxiv%20Link%22%2C%20%22item%22%3A%20%7B%22nodeType%22%3A%20%22const%22%2C%20%22type%22%3A%20%22string%22%2C%20%22val%22%3A%20%22https%3A//arxiv.org/abs/2002.05638%22%7D%7D%7D%2C%20%7B%22panelInputExpr%22%3A%20%7B%22nodeType%22%3A%20%22void%22%2C%20%22type%22%3A%20%22invalid%22%7D%2C%20%22panelId%22%3A%20%22labeled-item%22%2C%20%22panelConfig%22%3A%20%7B%22label%22%3A%20%22Sample%20W%26B%20Report%22%2C%20%22item%22%3A%20%7B%22nodeType%22%3A%20%22const%22%2C%20%22type%22%3A%20%22string%22%2C%20%22val%22%3A%20%22https%3A//wandb.ai/stacey/ganilla/reports/GANILLA--Vmlldzo2NTQ1NA%22%7D%7D%7D%5D%2C%20%22preferHorizontal%22%3A%20null%7D%7D%7D%2C%20%7B%22name%22%3A%20%22Full%20Example%22%2C%20%22content%22%3A%20%7B%22panelInputExpr%22%3A%20%7B%22nodeType%22%3A%20%22void%22%2C%20%22type%22%3A%20%22invalid%22%7D%2C%20%22panelId%22%3A%20%22group%22%2C%20%22panelConfig%22%3A%20%7B%22items%22%3A%20%5B%7B%22panelInputExpr%22%3A%20%7B%22nodeType%22%3A%20%22void%22%2C%20%22type%22%3A%20%22invalid%22%7D%2C%20%22panelId%22%3A%20%22group%22%2C%20%22panelConfig%22%3A%20%7B%22items%22%3A%20%5B%7B%22panelInputExpr%22%3A%20%7B%22nodeType%22%3A%20%22output%22%2C%20%22type%22%3A%20%7B%22type%22%3A%20%22list%22%2C%20%22objectType%22%3A%20%7B%22type%22%3A%20%22pil-image%22%2C%20%22width%22%3A%20512%2C%20%22height%22%3A%20512%2C%20%22mode%22%3A%20%22RGB%22%7D%7D%2C%20%22fromOp%22%3A%20%7B%22name%22%3A%20%22get%22%2C%20%22inputs%22%3A%20%7B%22uri%22%3A%20%7B%22nodeType%22%3A%20%22const%22%2C%20%22type%22%3A%20%7B%22type%22%3A%20%22const%22%2C%20%22valType%22%3A%20%22string%22%2C%20%22val%22%3A%20%22local-artifact%3A///tmp/local-artifacts/list/5c56c5a7d2a20f4f43dd37f8f157f994%22%7D%2C%20%22val%22%3A%20%22local-artifact%3A///tmp/local-artifacts/list/5c56c5a7d2a20f4f43dd37f8f157f994%22%7D%7D%7D%7D%2C%20%22panelId%22%3A%20%22table%22%2C%20%22panelConfig%22%3A%20%7B%22tableState%22%3A%20%7B%22autoColumns%22%3A%20false%2C%20%22columns%22%3A%20%7B%7D%2C%20%22preFilterFunction%22%3A%20%7B%22nodeType%22%3A%20%22void%22%2C%20%22type%22%3A%20%22invalid%22%7D%2C%20%22columnNames%22%3A%20%7B%7D%2C%20%22columnSelectFunctions%22%3A%20%7B%7D%2C%20%22order%22%3A%20%5B%5D%2C%20%22groupBy%22%3A%20%5B%5D%2C%20%22sort%22%3A%20%5B%5D%2C%20%22pageSize%22%3A%2010%2C%20%22page%22%3A%200%7D%7D%7D%2C%20%7B%22panelInputExpr%22%3A%20%7B%22nodeType%22%3A%20%22output%22%2C%20%22type%22%3A%20%7B%22type%22%3A%20%22list%22%2C%20%22objectType%22%3A%20%7B%22type%22%3A%20%22pil-image%22%2C%20%22width%22%3A%20724%2C%20%22height%22%3A%20674%2C%20%22mode%22%3A%20%22RGBA%22%7D%7D%2C%20%22fromOp%22%3A%20%7B%22name%22%3A%20%22get%22%2C%20%22inputs%22%3A%20%7B%22uri%22%3A%20%7B%22nodeType%22%3A%20%22const%22%2C%20%22type%22%3A%20%7B%22type%22%3A%20%22const%22%2C%20%22valType%22%3A%20%22string%22%2C%20%22val%22%3A%20%22local-artifact%3A///tmp/local-artifacts/list/a933091345b0c4119ca6ad7ef749ea6a%22%7D%2C%20%22val%22%3A%20%22local-artifact%3A///tmp/local-artifacts/list/a933091345b0c4119ca6ad7ef749ea6a%22%7D%7D%7D%7D%2C%20%22panelId%22%3A%20%22table%22%2C%20%22panelConfig%22%3A%20%7B%22tableState%22%3A%20%7B%22autoColumns%22%3A%20false%2C%20%22columns%22%3A%20%7B%7D%2C%20%22preFilterFunction%22%3A%20%7B%22nodeType%22%3A%20%22void%22%2C%20%22type%22%3A%20%22invalid%22%7D%2C%20%22columnNames%22%3A%20%7B%7D%2C%20%22columnSelectFunctions%22%3A%20%7B%7D%2C%20%22order%22%3A%20%5B%5D%2C%20%22groupBy%22%3A%20%5B%5D%2C%20%22sort%22%3A%20%5B%5D%2C%20%22pageSize%22%3A%2010%2C%20%22page%22%3A%200%7D%7D%7D%5D%2C%20%22preferHorizontal%22%3A%20null%7D%7D%2C%20%7B%22panelInputExpr%22%3A%20%7B%22nodeType%22%3A%20%22void%22%2C%20%22type%22%3A%20%22invalid%22%7D%2C%20%22panelId%22%3A%20%22labeled-item%22%2C%20%22panelConfig%22%3A%20%7B%22label%22%3A%20%22Application%22%2C%20%22item%22%3A%20%7B%22nodeType%22%3A%20%22const%22%2C%20%22type%22%3A%20%22string%22%2C%20%22val%22%3A%20%22translate%20content%20from%20one%20image%20into%20the%20style%20of%20an%20illustrator%20using%20a%20pretrained%20network%22%7D%7D%7D%5D%2C%20%22preferHorizontal%22%3A%20null%7D%7D%7D%5D%7D\"\n",
       "            frameborder=\"0\"\n",
       "            allowfullscreen\n",
       "            \n",
       "        ></iframe>\n",
       "        "
      ],
      "text/plain": [
       "<IPython.lib.display.IFrame at 0x12f16b370>"
      ]
     },
     "metadata": {},
     "output_type": "display_data"
    }
   ],
   "source": [
    "model_card = ModelCard(\n",
    "    model_name='GANILLA',\n",
    "    created_by=User(name='giddyyupp'),\n",
    "    updated_at='July 20, 2020',  # TODO: timestamp\n",
    "    model_type='ganilla',\n",
    "    primary_metric=TargetMetric(name='Style&ContentCNN', direction='up'),\n",
    "    application=\"translate content from one image into the style of an illustrator using a pretrained network\",\n",
    "    example=\"TBD\",\n",
    "    github_url=\"https://github.com/giddyyupp/ganilla\",\n",
    "    arxiv_url=\"https://arxiv.org/abs/2002.05638\",\n",
    "    sample_report=\"https://wandb.ai/stacey/ganilla/reports/GANILLA--Vmlldzo2NTQ1NA\",\n",
    "    limitations=\"Each GANILLA model variant is finetuned on one illustrator or artist. The number, quality, and diversity of representative artist images avaialble for pretraining will affect the result quality. Model is best suited for natural images like photos of landscapes or faces and may not perform as well on other image types\",\n",
    "    use=\"!python ganilla/test.py --dataroot sample_images/dog --from_artifact ganilla_KP_pretrained:v0 --model test --log_all --gpu_ids -1\",\n",
    "    content_images=gl_src,\n",
    "    result_images=gl_dst,\n",
    "    style_images=art_images\n",
    ")\n",
    "\n",
    "# Render it using the model_card_panel!\n",
    "model_card_panel(model_card)"
   ]
  },
  {
   "cell_type": "code",
   "execution_count": null,
   "id": "566c46e2",
   "metadata": {},
   "outputs": [],
   "source": []
  }
 ],
 "metadata": {
  "kernelspec": {
   "display_name": "Python 3 (ipykernel)",
   "language": "python",
   "name": "python3"
  },
  "language_info": {
   "codemirror_mode": {
    "name": "ipython",
    "version": 3
   },
   "file_extension": ".py",
   "mimetype": "text/x-python",
   "name": "python",
   "nbconvert_exporter": "python",
   "pygments_lexer": "ipython3",
   "version": "3.9.7"
  }
 },
 "nbformat": 4,
 "nbformat_minor": 5
}
