{
 "cells": [
  {
   "cell_type": "code",
   "execution_count": null,
   "id": "eae3e8dd",
   "metadata": {},
   "outputs": [],
   "source": [
    "import weave\n",
    "#weave.use_frontend_devmode()\n",
    "weave.capture_weave_server_logs()"
   ]
  },
  {
   "cell_type": "code",
   "execution_count": null,
   "id": "887d88a4",
   "metadata": {
    "scrolled": true
   },
   "outputs": [],
   "source": [
    "project = weave.ops.project('stacey', \"mendeleev\")\n",
    "project"
   ]
  },
  {
   "cell_type": "code",
   "execution_count": null,
   "id": "b7705fb7",
   "metadata": {},
   "outputs": [],
   "source": [
    "panel = weave.panels.Table(weave.ops.project('stacey', \"mendeleev\").artifact_type('test_results').artifacts())\n",
    "panel.table_query.add_column(lambda art: art.name_())\n",
    "panel.table_query.add_column(lambda art: art.versions().count())\n",
    "weave.show(panel)"
   ]
  },
  {
   "cell_type": "code",
   "execution_count": null,
   "id": "be5cc9df",
   "metadata": {},
   "outputs": [],
   "source": [
    "from weave import storage\n",
    "run = storage.get_version('run-list-indexCheckpoint-f568e87ebcb680230917675879b0d5c0', 'latest')\n",
    "type(run._output)\n",
    "run_ref = storage._get_ref(run)\n",
    "print(run_ref.type)"
   ]
  },
  {
   "cell_type": "code",
   "execution_count": null,
   "id": "58b26e21",
   "metadata": {},
   "outputs": [],
   "source": [
    "weave.ops.project('stacey', \"mendeleev\").artifact_type('test_results').artifacts()[0].versions()[0].path('test_results.table.json')"
   ]
  },
  {
   "cell_type": "code",
   "execution_count": null,
   "id": "debbb5d4",
   "metadata": {},
   "outputs": [],
   "source": [
    "weave.ops.project('shawn', \"dsviz-simple-tables\").artifact_type('dataset').artifacts()[0].versions()[5].path('my-table.table.json')"
   ]
  },
  {
   "cell_type": "code",
   "execution_count": null,
   "id": "dd9397a3",
   "metadata": {},
   "outputs": [],
   "source": [
    "import wandb"
   ]
  },
  {
   "cell_type": "code",
   "execution_count": null,
   "id": "daf1d576",
   "metadata": {},
   "outputs": [],
   "source": [
    "wandb.init()\n",
    "t = wandb.use_artifact(\"stacey/mendeleev/test_res_1fwmcd3q:v0\").get(\"test_results\")"
   ]
  },
  {
   "cell_type": "code",
   "execution_count": null,
   "id": "afcf80e4",
   "metadata": {
    "scrolled": false
   },
   "outputs": [],
   "source": [
    "from weave import context\n",
    "with context.weavejs_client():\n",
    "    x = weave.use(weave.ops.project(\"stacey\", \"mendeleev\")\n",
    "              .artifact_type(\"test_results\")\n",
    "              .artifacts()\n",
    "              [0]\n",
    "              .versions()\n",
    "              [0]\n",
    "              .path(\"test_results.table.json\")\n",
    "              .table()\n",
    "              .rows()\n",
    "              [0]\n",
    "              .pick(\"image\"))"
   ]
  }
 ],
 "metadata": {
  "kernelspec": {
   "display_name": "Python 3 (ipykernel)",
   "language": "python",
   "name": "python3"
  },
  "language_info": {
   "codemirror_mode": {
    "name": "ipython",
    "version": 3
   },
   "file_extension": ".py",
   "mimetype": "text/x-python",
   "name": "python",
   "nbconvert_exporter": "python",
   "pygments_lexer": "ipython3",
   "version": "3.9.7"
  }
 },
 "nbformat": 4,
 "nbformat_minor": 5
}
