{
 "cells": [
  {
   "cell_type": "code",
   "execution_count": 1,
   "id": "eae3e8dd",
   "metadata": {},
   "outputs": [],
   "source": [
    "import weave\n",
    "weave.use_frontend_devmode()"
   ]
  },
  {
   "cell_type": "code",
   "execution_count": null,
   "id": "887d88a4",
   "metadata": {
    "scrolled": true
   },
   "outputs": [],
   "source": [
    "project = weave.ops.project('stacey', \"mendeleev\")\n",
    "project"
   ]
  },
  {
   "cell_type": "code",
   "execution_count": null,
   "id": "b7705fb7",
   "metadata": {},
   "outputs": [],
   "source": [
    "panel = weave.panels.Table(weave.ops.project('stacey', \"mendeleev\").artifact_type('test_results').artifacts())\n",
    "panel.table_query.add_column(lambda art: art.name_())\n",
    "panel.table_query.add_column(lambda art: art.versions().count())\n",
    "weave.show(panel)"
   ]
  },
  {
   "cell_type": "code",
   "execution_count": null,
   "id": "58b26e21",
   "metadata": {},
   "outputs": [],
   "source": [
    "weave.ops.project('stacey', \"mendeleev\").artifact_type('test_results').artifacts()[0].versions()[0].path('test_results.table.json')"
   ]
  },
  {
   "cell_type": "code",
   "execution_count": 3,
   "id": "debbb5d4",
   "metadata": {},
   "outputs": [
    {
     "data": {
      "text/html": [
       "\n",
       "        <iframe\n",
       "            width=\"100%\"\n",
       "            height=\"400px\"\n",
       "            src=\"http://localhost:3000/__frontend/weave_jupyter?fullScreen&expNode=%7B%22nodeType%22%3A%20%22output%22%2C%20%22type%22%3A%20%7B%22type%22%3A%20%22artifactversion-path%22%2C%20%22extension%22%3A%20%22string%22%7D%2C%20%22fromOp%22%3A%20%7B%22name%22%3A%20%22artifactVersion-file%22%2C%20%22inputs%22%3A%20%7B%22artifactVersion%22%3A%20%7B%22nodeType%22%3A%20%22output%22%2C%20%22type%22%3A%20%7B%22type%22%3A%20%22artifactVersion%22%7D%2C%20%22fromOp%22%3A%20%7B%22name%22%3A%20%22index%22%2C%20%22inputs%22%3A%20%7B%22arr%22%3A%20%7B%22nodeType%22%3A%20%22output%22%2C%20%22type%22%3A%20%7B%22type%22%3A%20%22projectArtifactVersions%22%7D%2C%20%22fromOp%22%3A%20%7B%22name%22%3A%20%22artifact-versions%22%2C%20%22inputs%22%3A%20%7B%22artifact%22%3A%20%7B%22nodeType%22%3A%20%22output%22%2C%20%22type%22%3A%20%7B%22type%22%3A%20%22artifact%22%7D%2C%20%22fromOp%22%3A%20%7B%22name%22%3A%20%22index%22%2C%20%22inputs%22%3A%20%7B%22arr%22%3A%20%7B%22nodeType%22%3A%20%22output%22%2C%20%22type%22%3A%20%7B%22type%22%3A%20%22artifacts%22%7D%2C%20%22fromOp%22%3A%20%7B%22name%22%3A%20%22artifactType-artifacts%22%2C%20%22inputs%22%3A%20%7B%22artifactType%22%3A%20%7B%22nodeType%22%3A%20%22output%22%2C%20%22type%22%3A%20%7B%22type%22%3A%20%22artifactType%22%7D%2C%20%22fromOp%22%3A%20%7B%22name%22%3A%20%22project-artifactType%22%2C%20%22inputs%22%3A%20%7B%22project%22%3A%20%7B%22nodeType%22%3A%20%22output%22%2C%20%22type%22%3A%20%7B%22type%22%3A%20%22project%22%7D%2C%20%22fromOp%22%3A%20%7B%22name%22%3A%20%22root-project%22%2C%20%22inputs%22%3A%20%7B%22entityName%22%3A%20%7B%22nodeType%22%3A%20%22const%22%2C%20%22type%22%3A%20%7B%22type%22%3A%20%22const%22%2C%20%22valType%22%3A%20%22string%22%2C%20%22val%22%3A%20%22shawn%22%7D%2C%20%22val%22%3A%20%22shawn%22%7D%2C%20%22projectName%22%3A%20%7B%22nodeType%22%3A%20%22const%22%2C%20%22type%22%3A%20%7B%22type%22%3A%20%22const%22%2C%20%22valType%22%3A%20%22string%22%2C%20%22val%22%3A%20%22dsviz-simple-tables%22%7D%2C%20%22val%22%3A%20%22dsviz-simple-tables%22%7D%7D%7D%7D%2C%20%22artifactType%22%3A%20%7B%22nodeType%22%3A%20%22const%22%2C%20%22type%22%3A%20%7B%22type%22%3A%20%22const%22%2C%20%22valType%22%3A%20%22string%22%2C%20%22val%22%3A%20%22dataset%22%7D%2C%20%22val%22%3A%20%22dataset%22%7D%7D%7D%7D%7D%7D%7D%2C%20%22index%22%3A%20%7B%22nodeType%22%3A%20%22const%22%2C%20%22type%22%3A%20%7B%22type%22%3A%20%22const%22%2C%20%22valType%22%3A%20%22int%22%2C%20%22val%22%3A%200%7D%2C%20%22val%22%3A%200%7D%7D%7D%7D%7D%7D%7D%2C%20%22index%22%3A%20%7B%22nodeType%22%3A%20%22const%22%2C%20%22type%22%3A%20%7B%22type%22%3A%20%22const%22%2C%20%22valType%22%3A%20%22int%22%2C%20%22val%22%3A%205%7D%2C%20%22val%22%3A%205%7D%7D%7D%7D%2C%20%22path%22%3A%20%7B%22nodeType%22%3A%20%22const%22%2C%20%22type%22%3A%20%7B%22type%22%3A%20%22const%22%2C%20%22valType%22%3A%20%22string%22%2C%20%22val%22%3A%20%22my-table.table.json%22%7D%2C%20%22val%22%3A%20%22my-table.table.json%22%7D%7D%7D%7D\"\n",
       "            frameborder=\"0\"\n",
       "            allowfullscreen\n",
       "            \n",
       "        ></iframe>\n",
       "        "
      ],
      "text/plain": [
       "<IPython.lib.display.IFrame at 0x136cd1c70>"
      ]
     },
     "metadata": {},
     "output_type": "display_data"
    }
   ],
   "source": [
    "weave.ops.project('shawn', \"dsviz-simple-tables\").artifact_type('dataset').artifacts()[0].versions()[5].path('my-table.table.json')"
   ]
  },
  {
   "cell_type": "code",
   "execution_count": null,
   "id": "dd9397a3",
   "metadata": {},
   "outputs": [],
   "source": [
    "import wandb"
   ]
  },
  {
   "cell_type": "code",
   "execution_count": null,
   "id": "daf1d576",
   "metadata": {},
   "outputs": [],
   "source": [
    "wandb.init()\n",
    "t = wandb.use_artifact(\"stacey/mendeleev/test_res_1fwmcd3q:v0\").get(\"test_results\")"
   ]
  }
 ],
 "metadata": {
  "kernelspec": {
   "display_name": "Python 3 (ipykernel)",
   "language": "python",
   "name": "python3"
  },
  "language_info": {
   "codemirror_mode": {
    "name": "ipython",
    "version": 3
   },
   "file_extension": ".py",
   "mimetype": "text/x-python",
   "name": "python",
   "nbconvert_exporter": "python",
   "pygments_lexer": "ipython3",
   "version": "3.9.7"
  }
 },
 "nbformat": 4,
 "nbformat_minor": 5
}
