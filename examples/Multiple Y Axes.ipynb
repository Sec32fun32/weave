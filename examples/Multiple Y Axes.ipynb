{
 "cells": [
  {
   "cell_type": "markdown",
   "id": "0903a3ef",
   "metadata": {},
   "source": [
    "## Using this notebook to develop multiple y axes on Panel Plot"
   ]
  },
  {
   "cell_type": "code",
   "execution_count": 1,
   "id": "f6c524b9",
   "metadata": {},
   "outputs": [],
   "source": [
    "import weave\n",
    "import math\n",
    "#weave.use_frontend_devmode()"
   ]
  },
  {
   "cell_type": "code",
   "execution_count": 2,
   "id": "3d97c0fd",
   "metadata": {},
   "outputs": [
    {
     "data": {
      "text/html": [
       "\n",
       "        <iframe\n",
       "            width=\"100%\"\n",
       "            height=\"400px\"\n",
       "            src=\"http://127.0.0.1:57997/__frontend/weave_jupyter/index.html?fullScreen&expNode=%7B%22nodeType%22%3A%20%22output%22%2C%20%22type%22%3A%20%7B%22type%22%3A%20%22list%22%2C%20%22objectType%22%3A%20%7B%22type%22%3A%20%22typedDict%22%2C%20%22propertyTypes%22%3A%20%7B%22key%22%3A%20%22string%22%2C%20%22x%22%3A%20%7B%22type%22%3A%20%22list%22%2C%20%22objectType%22%3A%20%22float%22%7D%2C%20%22y%22%3A%20%7B%22type%22%3A%20%22list%22%2C%20%22objectType%22%3A%20%22float%22%7D%7D%7D%7D%2C%20%22fromOp%22%3A%20%7B%22name%22%3A%20%22get%22%2C%20%22inputs%22%3A%20%7B%22uri%22%3A%20%7B%22nodeType%22%3A%20%22const%22%2C%20%22type%22%3A%20%7B%22type%22%3A%20%22const%22%2C%20%22valType%22%3A%20%22string%22%2C%20%22val%22%3A%20%22list-obj/e243aac67243e4cb3be3b98062873491%22%7D%2C%20%22val%22%3A%20%22list-obj/e243aac67243e4cb3be3b98062873491%22%7D%7D%7D%7D&panelId=plot&panelConfig=%7B%22table%22%3A%20%7B%22autoColumns%22%3A%20false%2C%20%22columns%22%3A%20%7B%229HZ2UDYRQU393X%22%3A%20%7B%22panelId%22%3A%20%22%22%2C%20%22panelConfig%22%3A%20null%7D%2C%20%22ADQZAZI0JJGVW1%22%3A%20%7B%22panelId%22%3A%20%22%22%2C%20%22panelConfig%22%3A%20null%7D%2C%20%22IMPXSEGQDWGUU6%22%3A%20%7B%22panelId%22%3A%20%22%22%2C%20%22panelConfig%22%3A%20null%7D%2C%20%22GWNCUNEK4Z0PD4%22%3A%20%7B%22panelId%22%3A%20%22%22%2C%20%22panelConfig%22%3A%20null%7D%2C%20%22P0U69I1RBGGMV3%22%3A%20%7B%22panelId%22%3A%20%22%22%2C%20%22panelConfig%22%3A%20null%7D%7D%2C%20%22preFilterFunction%22%3A%20%7B%22nodeType%22%3A%20%22void%22%2C%20%22type%22%3A%20%22invalid%22%7D%2C%20%22columnNames%22%3A%20%7B%229HZ2UDYRQU393X%22%3A%20%22%22%2C%20%22ADQZAZI0JJGVW1%22%3A%20%22%22%2C%20%22IMPXSEGQDWGUU6%22%3A%20%22%22%2C%20%22GWNCUNEK4Z0PD4%22%3A%20%22%22%2C%20%22P0U69I1RBGGMV3%22%3A%20%22%22%7D%2C%20%22columnSelectFunctions%22%3A%20%7B%229HZ2UDYRQU393X%22%3A%20%7B%22nodeType%22%3A%20%22output%22%2C%20%22type%22%3A%20%7B%22type%22%3A%20%22list%22%2C%20%22objectType%22%3A%20%22float%22%7D%2C%20%22fromOp%22%3A%20%7B%22name%22%3A%20%22pick%22%2C%20%22inputs%22%3A%20%7B%22obj%22%3A%20%7B%22nodeType%22%3A%20%22var%22%2C%20%22type%22%3A%20%7B%22type%22%3A%20%22typedDict%22%2C%20%22propertyTypes%22%3A%20%7B%22key%22%3A%20%22string%22%2C%20%22x%22%3A%20%7B%22type%22%3A%20%22list%22%2C%20%22objectType%22%3A%20%22float%22%7D%2C%20%22y%22%3A%20%7B%22type%22%3A%20%22list%22%2C%20%22objectType%22%3A%20%22float%22%7D%7D%7D%2C%20%22varName%22%3A%20%22row%22%7D%2C%20%22key%22%3A%20%7B%22nodeType%22%3A%20%22const%22%2C%20%22type%22%3A%20%7B%22type%22%3A%20%22const%22%2C%20%22valType%22%3A%20%22string%22%2C%20%22val%22%3A%20%22x%22%7D%2C%20%22val%22%3A%20%22x%22%7D%7D%7D%7D%2C%20%22ADQZAZI0JJGVW1%22%3A%20%7B%22nodeType%22%3A%20%22output%22%2C%20%22type%22%3A%20%7B%22type%22%3A%20%22list%22%2C%20%22objectType%22%3A%20%22float%22%7D%2C%20%22fromOp%22%3A%20%7B%22name%22%3A%20%22pick%22%2C%20%22inputs%22%3A%20%7B%22obj%22%3A%20%7B%22nodeType%22%3A%20%22var%22%2C%20%22type%22%3A%20%7B%22type%22%3A%20%22typedDict%22%2C%20%22propertyTypes%22%3A%20%7B%22key%22%3A%20%22string%22%2C%20%22x%22%3A%20%7B%22type%22%3A%20%22list%22%2C%20%22objectType%22%3A%20%22float%22%7D%2C%20%22y%22%3A%20%7B%22type%22%3A%20%22list%22%2C%20%22objectType%22%3A%20%22float%22%7D%7D%7D%2C%20%22varName%22%3A%20%22row%22%7D%2C%20%22key%22%3A%20%7B%22nodeType%22%3A%20%22const%22%2C%20%22type%22%3A%20%7B%22type%22%3A%20%22const%22%2C%20%22valType%22%3A%20%22string%22%2C%20%22val%22%3A%20%22y%22%7D%2C%20%22val%22%3A%20%22y%22%7D%7D%7D%7D%2C%20%22IMPXSEGQDWGUU6%22%3A%20%7B%22nodeType%22%3A%20%22void%22%2C%20%22type%22%3A%20%22invalid%22%7D%2C%20%22GWNCUNEK4Z0PD4%22%3A%20%7B%22nodeType%22%3A%20%22output%22%2C%20%22type%22%3A%20%22string%22%2C%20%22fromOp%22%3A%20%7B%22name%22%3A%20%22pick%22%2C%20%22inputs%22%3A%20%7B%22obj%22%3A%20%7B%22nodeType%22%3A%20%22var%22%2C%20%22type%22%3A%20%7B%22type%22%3A%20%22typedDict%22%2C%20%22propertyTypes%22%3A%20%7B%22key%22%3A%20%22string%22%2C%20%22x%22%3A%20%7B%22type%22%3A%20%22list%22%2C%20%22objectType%22%3A%20%22float%22%7D%2C%20%22y%22%3A%20%7B%22type%22%3A%20%22list%22%2C%20%22objectType%22%3A%20%22float%22%7D%7D%7D%2C%20%22varName%22%3A%20%22row%22%7D%2C%20%22key%22%3A%20%7B%22nodeType%22%3A%20%22const%22%2C%20%22type%22%3A%20%7B%22type%22%3A%20%22const%22%2C%20%22valType%22%3A%20%22string%22%2C%20%22val%22%3A%20%22key%22%7D%2C%20%22val%22%3A%20%22key%22%7D%7D%7D%7D%2C%20%22P0U69I1RBGGMV3%22%3A%20%7B%22nodeType%22%3A%20%22void%22%2C%20%22type%22%3A%20%22invalid%22%7D%7D%2C%20%22order%22%3A%20%5B%229HZ2UDYRQU393X%22%2C%20%22ADQZAZI0JJGVW1%22%2C%20%22IMPXSEGQDWGUU6%22%2C%20%22GWNCUNEK4Z0PD4%22%2C%20%22P0U69I1RBGGMV3%22%5D%2C%20%22groupBy%22%3A%20%5B%5D%2C%20%22sort%22%3A%20%5B%5D%2C%20%22pageSize%22%3A%2010%2C%20%22page%22%3A%200%7D%2C%20%22dims%22%3A%20%7B%22x%22%3A%20%229HZ2UDYRQU393X%22%2C%20%22y%22%3A%20%22ADQZAZI0JJGVW1%22%2C%20%22color%22%3A%20%22IMPXSEGQDWGUU6%22%2C%20%22label%22%3A%20%22GWNCUNEK4Z0PD4%22%2C%20%22tooltip%22%3A%20%22P0U69I1RBGGMV3%22%7D%2C%20%22mark%22%3A%20null%7D\"\n",
       "            frameborder=\"0\"\n",
       "            allowfullscreen\n",
       "            \n",
       "        ></iframe>\n",
       "        "
      ],
      "text/plain": [
       "<IPython.lib.display.IFrame at 0x1376321c0>"
      ]
     },
     "metadata": {},
     "output_type": "display_data"
    }
   ],
   "source": [
    "# PanelPlot supports multiple Y axes. Create a table with one row per series, with lists of x and y values.\n",
    "data = []\n",
    "xs = [i / 1000.0 for i in range(0, 1000)]\n",
    "for series in range(3):\n",
    "  data.append({\n",
    "      'key': 'y%s' % series,\n",
    "      'x': xs,\n",
    "      'y': [math.sin(10 * x / (series+1)) for x in xs]\n",
    "  })\n",
    "plot = weave.panels.Plot(data)\n",
    "plot.set_x(lambda row: row['x'])\n",
    "plot.set_y(lambda row: row['y'])\n",
    "plot.set_label(lambda row: row['key'])\n",
    "weave.show(plot)"
   ]
  },
  {
   "cell_type": "code",
   "execution_count": null,
   "id": "00fdefb5",
   "metadata": {},
   "outputs": [],
   "source": [
    "# Or you can unnest the data yourself (one row per point)\n",
    "data = []\n",
    "xs = [i / 1000.0 for i in range(0, 1000)]\n",
    "for series in range(3):\n",
    "    for x in xs:\n",
    "        data.append({\n",
    "            'key': 'y%s' % series,\n",
    "            'x': x,\n",
    "            'y': math.sin(10 * x / (series+1))\n",
    "        })\n",
    "plot = weave.panels.Plot(data)\n",
    "plot.set_x(lambda row: row['x'])\n",
    "plot.set_y(lambda row: row['y'])\n",
    "plot.set_label(lambda row: row['key'])\n",
    "plot.set_mark('line')\n",
    "weave.show(plot)"
   ]
  },
  {
   "cell_type": "code",
   "execution_count": null,
   "id": "5f9b0741",
   "metadata": {},
   "outputs": [],
   "source": [
    "# If your series are column-oriented, you can use df.melt to orient the data to work with PanelPlot\n",
    "\n",
    "import pandas as pd\n",
    "df = pd.DataFrame()\n",
    "df['x'] = [i / 1000.0 for i in range(0, 1000)]\n",
    "df['y1'] = df['x'].map(lambda x: math.sin(10 * x / 1))\n",
    "df['y2'] = df['x'].map(lambda x: math.sin(10 * x / 2))\n",
    "df['y3'] = df['x'].map(lambda x: math.sin(10 * x / 3))\n",
    "\n",
    "# df.melt converts to a table with three columns: x, series, y\n",
    "df = df.melt(id_vars=['x'], value_vars=['y1', 'y2', 'y3'], var_name='series', value_name='y')\n",
    "\n",
    "multiple_y = df.to_dict('records')\n",
    "plot = weave.panels.Plot(multiple_y)\n",
    "plot.set_x(lambda row: row['x'])\n",
    "plot.set_y(lambda row: row['y'])\n",
    "plot.set_label(lambda row: row['series'])\n",
    "plot.set_mark('line')\n",
    "weave.show(plot)"
   ]
  },
  {
   "cell_type": "code",
   "execution_count": null,
   "id": "07752656",
   "metadata": {},
   "outputs": [],
   "source": [
    "# Or, leave the table in columnar form, and return arrays of the values you want for each series for PanelPlot\n",
    "# x and label dimensions.\n",
    "\n",
    "# This relies on changes in this branch.\n",
    "\n",
    "# Note ExpressionEditor doesn't render list literals so it looks weird in the panel config. And we'll probably want\n",
    "# to make the config editor more helpful, so that you choose labels along-side each y axis choice, or so that\n",
    "# if you return a dict for Y we use the keys as the labels.\n",
    "\n",
    "import pandas as pd\n",
    "df = pd.DataFrame()\n",
    "df['x'] = [i / 1000.0 for i in range(0, 1000)]\n",
    "df['y1'] = df['x'].map(lambda x: math.sin(10 * x / 1))\n",
    "df['y2'] = df['x'].map(lambda x: math.sin(10 * x / 2))\n",
    "df['y3'] = df['x'].map(lambda x: math.sin(10 * x / 3))\n",
    "multiple_y = df.to_dict('records')\n",
    "\n",
    "plot = weave.panels.Plot(multiple_y)\n",
    "plot.set_x(lambda row: row['x'])\n",
    "\n",
    "# Return lists for y and label\n",
    "plot.set_y(lambda row: [row['y1'], row['y2'], row['y3']])\n",
    "plot.set_label(lambda row: ['y1', 'y2', 'y3'])\n",
    "plot.set_mark('line')\n",
    "weave.show(plot)"
   ]
  }
 ],
 "metadata": {
  "kernelspec": {
   "display_name": "Python 3 (ipykernel)",
   "language": "python",
   "name": "python3"
  },
  "language_info": {
   "codemirror_mode": {
    "name": "ipython",
    "version": 3
   },
   "file_extension": ".py",
   "mimetype": "text/x-python",
   "name": "python",
   "nbconvert_exporter": "python",
   "pygments_lexer": "ipython3",
   "version": "3.9.7"
  }
 },
 "nbformat": 4,
 "nbformat_minor": 5
}
