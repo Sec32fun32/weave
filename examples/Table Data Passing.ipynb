{
 "cells": [
  {
   "cell_type": "code",
   "execution_count": null,
   "id": "c09f7649",
   "metadata": {},
   "outputs": [],
   "source": [
    "import weave\n",
    "# weave.use_frontend_devmode()"
   ]
  },
  {
   "cell_type": "code",
   "execution_count": null,
   "id": "a6b83817",
   "metadata": {},
   "outputs": [],
   "source": [
    "panel = weave.panels.Group(\n",
    "    items={\n",
    "        \"table\": weave.panels.Table(weave.ops.range(1, 100, 1), \n",
    "            columns=[\n",
    "                lambda row: row,\n",
    "                lambda row: row ** 2,\n",
    "            ],\n",
    "        ),\n",
    "        \"all_rows\": lambda table:  weave.panels.Plot(table.all_rows(),\n",
    "            x=lambda row: row['c_0'],\n",
    "            y=lambda row: row['c_1']\n",
    "        ),\n",
    "        \"derived\": lambda table: weave.panels.Group(\n",
    "            preferHorizontal=True,\n",
    "            layoutMode=\"horizontal\",\n",
    "            items={\n",
    "                \"rows\": weave.panels.Group(\n",
    "                    items={\n",
    "                        \"pinned_rows\": weave.panels.Plot(table.pinned_rows(),\n",
    "                            x=lambda row: row['c_0'],\n",
    "                            y=lambda row: row['c_1']\n",
    "                        ),\n",
    "                        \"active_row\": table.active_row(),\n",
    "                    }\n",
    "                ),\n",
    "                \"data\":  weave.panels.Group(\n",
    "                    items={\n",
    "                        \"pinned_data\": table.pinned_data(),\n",
    "                        \"active_data\": table.active_data(),\n",
    "                    }\n",
    "                )\n",
    "            })  \n",
    "    })\n",
    "\n",
    "panel"
   ]
  }
 ],
 "metadata": {
  "kernelspec": {
   "display_name": "Python 3 (ipykernel)",
   "language": "python",
   "name": "python3"
  }
 },
 "nbformat": 4,
 "nbformat_minor": 5
}
