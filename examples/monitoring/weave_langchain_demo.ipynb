{
 "cells": [
  {
   "cell_type": "code",
   "execution_count": null,
   "id": "4d851873-83a1-45a5-94f1-034094e00ae5",
   "metadata": {},
   "outputs": [],
   "source": [
    "%load_ext autoreload"
   ]
  },
  {
   "cell_type": "code",
   "execution_count": null,
   "id": "8c805086-4e6e-442e-b1b5-7c7884937eb4",
   "metadata": {},
   "outputs": [],
   "source": [
    "%autoreload 2"
   ]
  },
  {
   "cell_type": "code",
   "execution_count": null,
   "id": "e4d1be6b-27e4-41f9-97b3-1c188352286f",
   "metadata": {},
   "outputs": [],
   "source": [
    "import datetime\n",
    "import hashlib\n",
    "import json \n",
    "\n",
    "import wandb\n",
    "from wandb.sdk.data_types import trace_tree\n",
    "\n",
    "import weave\n",
    "from weave.monitoring import StreamTable\n",
    "\n",
    "from langchain.callbacks.tracers.base import BaseTracer\n",
    "from langchain.callbacks.tracers.schemas import Run\n",
    "from langchain.callbacks.tracers import wandb as LCW\n",
    "\n",
    "from uuid import uuid4\n",
    "\n",
    "def wb_span_to_weave_spans(wb_span, trace_id=None, parent_id=None):\n",
    "    attributes = {**wb_span.attributes}\n",
    "    attributes['llm_span_kind'] = str(wb_span.span_kind)\n",
    "    inputs = wb_span.results[0].inputs if wb_span.results is not None and len(wb_span.results) > 0 else None\n",
    "    outputs = wb_span.results[0].outputs if wb_span.results is not None and len(wb_span.results) > 0 else None\n",
    "\n",
    "    # print(wb_span)\n",
    "    # TraceSpanDict(\n",
    "    #     name=name,\n",
    "    #     span_id=span_id,\n",
    "    #     trace_id=trace_id,\n",
    "    #     status_code=status_code,\n",
    "    #     start_time_s=start_time_s,\n",
    "    #     end_time_s=end_time_s,\n",
    "    #     parent_id=parent_id,\n",
    "    #     attributes=attributes,\n",
    "    #     inputs=inputs,\n",
    "    #     output=output,\n",
    "    #     summary=summary,\n",
    "    #     exception=exception,\n",
    "    # )\n",
    "    \n",
    "    span = weave.stream_data_interfaces.TraceSpanDict(\n",
    "        start_time_s = wb_span.start_time_ms / 1000.,\n",
    "        end_time_s = wb_span.end_time_ms / 1000.,\n",
    "        span_id = wb_span.span_id,\n",
    "        name = wb_span.name,\n",
    "        status_code = str(wb_span.status_code),\n",
    "        trace_id = trace_id or str(uuid4()),\n",
    "        parent_id = parent_id,\n",
    "        attributes = attributes or {},\n",
    "        inputs = inputs,\n",
    "        output = outputs,\n",
    "        exception = Exception(wb_span.status_message) if wb_span.status_message is not None else None,\n",
    "        summary = {\n",
    "            # // Hack for now - need to make this not required (both perf and summary)\n",
    "            \"latency\": (wb_span.end_time_ms / 1000.) - (wb_span.start_time_ms / 1000.)\n",
    "        },\n",
    "    )\n",
    "    spans = [span]\n",
    "    for child in (wb_span.child_spans or []):\n",
    "        spans += wb_span_to_weave_spans(child, span['trace_id'], span['span_id'])\n",
    "    \n",
    "    return spans\n",
    "\n",
    "def _hash_id(s: str) -> str:\n",
    "    return hashlib.md5(s.encode(\"utf-8\")).hexdigest()[:16]\n",
    "    \n",
    "class WeaveTracer(BaseTracer):\n",
    "    def __init__(self, stream_uri: str, **kwargs) -> None:\n",
    "        super().__init__(**kwargs)\n",
    "        self.run_processor = LCW.RunProcessor(wandb, trace_tree)\n",
    "        self._st = StreamTable(stream_uri)\n",
    "\n",
    "    def _persist_run(self, run: Run) -> None:\n",
    "        root_span = self.run_processor.process_span(run)\n",
    "        model_dict = self.run_processor.process_model(run)\n",
    "        model_str = json.dumps(model_dict)\n",
    "        root_span.attributes[\"model\"] = {\n",
    "            'id': _hash_id(model_str),\n",
    "            'obj': model_str,\n",
    "        }\n",
    "        spans = wb_span_to_weave_spans(root_span)\n",
    "        for span in spans:\n",
    "            self._st.log(span)\n"
   ]
  },
  {
   "cell_type": "code",
   "execution_count": null,
   "id": "4cea66fe-d6f7-4273-8ba8-754d8ce5dd14",
   "metadata": {},
   "outputs": [],
   "source": [
    "from langchain.agents import load_tools\n",
    "from langchain.agents import initialize_agent\n",
    "from langchain.agents import AgentType\n",
    "from langchain.llms import OpenAI\n",
    "\n",
    "llm = OpenAI(temperature=0)\n",
    "tools = load_tools([\"llm-math\"], llm=llm)\n",
    "agent = initialize_agent(tools, llm, agent=AgentType.ZERO_SHOT_REACT_DESCRIPTION)"
   ]
  },
  {
   "cell_type": "code",
   "execution_count": null,
   "id": "b92d9e5e-17ef-4bc3-a7ec-9d321fd1a465",
   "metadata": {},
   "outputs": [],
   "source": [
    "tracer = WeaveTracer(\"timssweeney/monitor_dev_test/stream_11\")"
   ]
  },
  {
   "cell_type": "code",
   "execution_count": null,
   "id": "f4f6bd1e-83f3-458c-824f-edda67d500f2",
   "metadata": {},
   "outputs": [],
   "source": [
    "# from langchain import PromptTemplate, LLMChain\n",
    "# template = \"\"\"Answer the following question: {question}.\"\"\"\n",
    "\n",
    "# prompt = PromptTemplate(template=template, input_variables=[\"question\"])\n",
    "# llm_chain = LLMChain(prompt=prompt, llm=llm)\n",
    "# answer = llm_chain.run(\n",
    "#     \"Produce a JSON document containing a list of 10 questions to ask an AI assistant that spoecializes in math problems.\"+\n",
    "#      \" Each question must be a math problem. The format must be: `[{\\\"question\\\": QUESTION}, ...]`\", callbacks=[tracer])"
   ]
  },
  {
   "cell_type": "code",
   "execution_count": null,
   "id": "66f19e5c-ae34-4c6c-83c5-c5d376c541e6",
   "metadata": {},
   "outputs": [],
   "source": [
    "# answer_as_json = json.loads(answer)\n",
    "# answer_as_json\n",
    "answer_as_json = questions = [{'question': 'What is the sum of 5 and 7?'},\n",
    " {'question': 'What is the product of 4 and 6?'},\n",
    " {'question': 'What is the square root of 64?'},\n",
    " {'question': 'What is the area of a circle with a radius of 5?'},\n",
    " {'question': 'What is the slope of the line y = 3x + 2?'},\n",
    " {'question': 'What is the value of x in the equation 3x + 4 = 10?'},\n",
    " {'question': 'What is the value of y in the equation y = 2x + 1 when x = 3?'},\n",
    " {'question': 'What is the equation of the line that passes through the points (2, 4) and (3, 6)?'},\n",
    " {'question': 'What is the volume of a cube with a side length of 5?'},\n",
    " {'question': 'What is the value of x in the equation x2 + 3x - 4 = 0?'}]"
   ]
  },
  {
   "cell_type": "code",
   "execution_count": null,
   "id": "7caa4277-bc10-493a-bbf2-f259d970822c",
   "metadata": {},
   "outputs": [],
   "source": [
    "questions = [row['question'] for row in answer_as_json]"
   ]
  },
  {
   "cell_type": "code",
   "execution_count": null,
   "id": "e666563f-9948-4911-ab3a-ca106c0b0a89",
   "metadata": {},
   "outputs": [],
   "source": [
    "for question in questions:\n",
    "  try:\n",
    "    answer = agent.run(question, callbacks=[tracer])\n",
    "    print(answer)\n",
    "  except Exception as e:\n",
    "    print(e)\n",
    "    pass"
   ]
  }
 ],
 "metadata": {
  "kernelspec": {
   "display_name": "Python 3 (ipykernel)",
   "language": "python",
   "name": "python3"
  },
  "language_info": {
   "codemirror_mode": {
    "name": "ipython",
    "version": 3
   },
   "file_extension": ".py",
   "mimetype": "text/x-python",
   "name": "python",
   "nbconvert_exporter": "python",
   "pygments_lexer": "ipython3",
   "version": "3.10.8"
  }
 },
 "nbformat": 4,
 "nbformat_minor": 5
}
