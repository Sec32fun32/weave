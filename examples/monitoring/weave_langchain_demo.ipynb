{
 "cells": [
  {
   "cell_type": "code",
   "execution_count": 1,
   "id": "4d851873-83a1-45a5-94f1-034094e00ae5",
   "metadata": {},
   "outputs": [],
   "source": [
    "%load_ext autoreload"
   ]
  },
  {
   "cell_type": "code",
   "execution_count": 2,
   "id": "8c805086-4e6e-442e-b1b5-7c7884937eb4",
   "metadata": {},
   "outputs": [],
   "source": [
    "%autoreload 2"
   ]
  },
  {
   "cell_type": "code",
   "execution_count": 26,
   "id": "e4d1be6b-27e4-41f9-97b3-1c188352286f",
   "metadata": {},
   "outputs": [],
   "source": [
    "import datetime\n",
    "import hashlib\n",
    "import json \n",
    "\n",
    "import wandb\n",
    "from wandb.sdk.data_types import trace_tree\n",
    "\n",
    "import weave\n",
    "from weave.monitoring import StreamTable\n",
    "\n",
    "from langchain.callbacks.tracers.base import BaseTracer\n",
    "from langchain.callbacks.tracers.schemas import Run\n",
    "from langchain.callbacks.tracers import wandb as LCW\n",
    "\n",
    "\n",
    "def wb_span_to_weave_spans(wb_span, trace_id=None, parent_id=None):\n",
    "    attributes = {**wb_span.attributes}\n",
    "    attributes['llm_span_kind'] = str(wb_span.span_kind)\n",
    "    inputs = wb_span.results[0].inputs if wb_span.results is not None and len(wb_span.results) > 0 else None\n",
    "    outputs = wb_span.results[0].outputs if wb_span.results is not None and len(wb_span.results) > 0 else None\n",
    "    \n",
    "    span = weave.monitoring.monitor.TraceSpanStruct(\n",
    "        start_time = datetime.datetime.fromtimestamp(wb_span.start_time_ms / 1000.),\n",
    "        end_time = datetime.datetime.fromtimestamp(wb_span.end_time_ms / 1000.),\n",
    "        id = wb_span.span_id,\n",
    "        name = wb_span.name,\n",
    "        status_code = str(wb_span.status_code),\n",
    "        trace_id = trace_id,\n",
    "        parent_id = parent_id,\n",
    "        attributes = attributes,\n",
    "        inputs = inputs,\n",
    "        output = outputs,\n",
    "        exception = Exception(wb_span.status_message) if wb_span.status_message is not None else None,\n",
    "        summary = None,\n",
    "    )\n",
    "    spans = [span]\n",
    "    for child in (wb_span.child_spans or []):\n",
    "        spans += wb_span_to_weave_spans(child, span.trace_id, span.id)\n",
    "    \n",
    "    return spans\n",
    "\n",
    "def _hash_id(s: str) -> str:\n",
    "    return hashlib.md5(s.encode(\"utf-8\")).hexdigest()[:16]\n",
    "    \n",
    "class WeaveTracer(BaseTracer):\n",
    "    def __init__(self, stream_uri: str, **kwargs) -> None:\n",
    "        super().__init__(**kwargs)\n",
    "        self.run_processor = LCW.RunProcessor(wandb, trace_tree)\n",
    "        self._st = StreamTable(stream_uri)\n",
    "\n",
    "    def _persist_run(self, run: Run) -> None:\n",
    "        root_span = self.run_processor.process_span(run)\n",
    "        model_dict = self.run_processor.process_model(run)\n",
    "        model_str = json.dumps(model_dict)\n",
    "        root_span.attributes[\"_topology\"] = {\n",
    "            'hash': _hash_id(model_str),\n",
    "            'as_str': model_str,\n",
    "        }\n",
    "        spans = wb_span_to_weave_spans(root_span)\n",
    "        for span in spans:\n",
    "            self._st.log(span.asdict())\n"
   ]
  },
  {
   "cell_type": "code",
   "execution_count": 27,
   "id": "4cea66fe-d6f7-4273-8ba8-754d8ce5dd14",
   "metadata": {},
   "outputs": [],
   "source": [
    "from langchain.agents import load_tools\n",
    "from langchain.agents import initialize_agent\n",
    "from langchain.agents import AgentType\n",
    "from langchain.llms import OpenAI\n",
    "\n",
    "llm = OpenAI(temperature=0)\n",
    "tools = load_tools([\"llm-math\"], llm=llm)\n",
    "agent = initialize_agent(tools, llm, agent=AgentType.ZERO_SHOT_REACT_DESCRIPTION)"
   ]
  },
  {
   "cell_type": "code",
   "execution_count": 28,
   "id": "b92d9e5e-17ef-4bc3-a7ec-9d321fd1a465",
   "metadata": {},
   "outputs": [
    {
     "data": {
      "text/html": [
       " View data at <a href='https://weave.wandb.ai/browse/wandb/timssweeney/monitor_dev_test/table/stream_3' target=\"_blank\">https://weave.wandb.ai/browse/wandb/timssweeney/monitor_dev_test/table/stream_3</a>"
      ],
      "text/plain": [
       "<IPython.core.display.HTML object>"
      ]
     },
     "metadata": {},
     "output_type": "display_data"
    }
   ],
   "source": [
    "tracer = WeaveTracer(\"timssweeney/monitor_dev_test/stream_3\")"
   ]
  },
  {
   "cell_type": "code",
   "execution_count": 34,
   "id": "f4f6bd1e-83f3-458c-824f-edda67d500f2",
   "metadata": {},
   "outputs": [],
   "source": [
    "from langchain import PromptTemplate, LLMChain\n",
    "template = \"\"\"Answer the following question: {question}.\"\"\"\n",
    "\n",
    "prompt = PromptTemplate(template=template, input_variables=[\"question\"])\n",
    "llm_chain = LLMChain(prompt=prompt, llm=llm)\n",
    "answer = llm_chain.run(\n",
    "    \"Produce a JSON document containing a list of 10 questions to ask an AI assistant that spoecializes in math problems.\"+\n",
    "     \" Each question must be a math problem. The format must be: `[{\\\"question\\\": QUESTION}, ...]`\", callbacks=[tracer])"
   ]
  },
  {
   "cell_type": "code",
   "execution_count": 36,
   "id": "66f19e5c-ae34-4c6c-83c5-c5d376c541e6",
   "metadata": {},
   "outputs": [
    {
     "data": {
      "text/plain": [
       "[{'question': 'What is the sum of 5 and 7?'},\n",
       " {'question': 'What is the product of 4 and 6?'},\n",
       " {'question': 'What is the square root of 64?'},\n",
       " {'question': 'What is the area of a circle with a radius of 5?'},\n",
       " {'question': 'What is the slope of the line y = 3x + 2?'},\n",
       " {'question': 'What is the value of x in the equation 3x + 4 = 10?'},\n",
       " {'question': 'What is the value of y in the equation y = 2x + 1 when x = 3?'},\n",
       " {'question': 'What is the equation of the line that passes through the points (2, 4) and (3, 6)?'},\n",
       " {'question': 'What is the volume of a cube with a side length of 5?'},\n",
       " {'question': 'What is the value of x in the equation x2 + 3x - 4 = 0?'}]"
      ]
     },
     "execution_count": 36,
     "metadata": {},
     "output_type": "execute_result"
    }
   ],
   "source": [
    "answer_as_json = json.loads(answer)\n",
    "answer_as_json"
   ]
  },
  {
   "cell_type": "code",
   "execution_count": 37,
   "id": "7caa4277-bc10-493a-bbf2-f259d970822c",
   "metadata": {},
   "outputs": [],
   "source": [
    "questions = [row['question'] for row in answer_as_json]"
   ]
  },
  {
   "cell_type": "code",
   "execution_count": 38,
   "id": "e666563f-9948-4911-ab3a-ca106c0b0a89",
   "metadata": {},
   "outputs": [
    {
     "name": "stdout",
     "output_type": "stream",
     "text": [
      "The sum of 5 and 7 is 12.\n",
      "The product of 4 and 6 is 24.\n",
      "8\n",
      "The area of a circle with a radius of 5 is 78.53975.\n"
     ]
    },
    {
     "name": "stderr",
     "output_type": "stream",
     "text": [
      "\u001b[34m\u001b[1mwandb\u001b[0m: \u001b[33mWARNING\u001b[0m Skipping trace saving - unable to safely convert LangChain Run into W&B Trace due to: 'NoneType' object has no attribute 'items'\n",
      "Error in WeaveTracer.on_chain_error callback: 'NoneType' object has no attribute 'attributes'\n"
     ]
    },
    {
     "name": "stdout",
     "output_type": "stream",
     "text": [
      "LLMMathChain._evaluate(\"\n",
      "3 * x + 2\n",
      "\") raised error: 'x'. Please try again with a valid numerical expression\n",
      "x = 2.0\n",
      "y = 7\n",
      "y = 2x + 0\n",
      "The volume of a cube with a side length of 5 is 125.\n",
      "x = -1.5\n"
     ]
    }
   ],
   "source": [
    "for question in questions:\n",
    "  try:\n",
    "    answer = agent.run(question, callbacks=[tracer])\n",
    "    print(answer)\n",
    "  except Exception as e:\n",
    "    print(e)\n",
    "    pass"
   ]
  },
  {
   "cell_type": "code",
   "execution_count": null,
   "id": "846eb1ad-3fc8-4149-8ece-f5e5b67e7e91",
   "metadata": {},
   "outputs": [],
   "source": []
  }
 ],
 "metadata": {
  "kernelspec": {
   "display_name": "Python 3 (ipykernel)",
   "language": "python",
   "name": "python3"
  },
  "language_info": {
   "codemirror_mode": {
    "name": "ipython",
    "version": 3
   },
   "file_extension": ".py",
   "mimetype": "text/x-python",
   "name": "python",
   "nbconvert_exporter": "python",
   "pygments_lexer": "ipython3",
   "version": "3.10.8"
  }
 },
 "nbformat": 4,
 "nbformat_minor": 5
}
