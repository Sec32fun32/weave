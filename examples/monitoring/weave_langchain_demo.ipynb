{
 "cells": [
  {
   "cell_type": "code",
   "execution_count": null,
   "id": "4d851873-83a1-45a5-94f1-034094e00ae5",
   "metadata": {},
   "outputs": [],
   "source": [
    "%load_ext autoreload"
   ]
  },
  {
   "cell_type": "code",
   "execution_count": null,
   "id": "8c805086-4e6e-442e-b1b5-7c7884937eb4",
   "metadata": {},
   "outputs": [],
   "source": [
    "%autoreload 2"
   ]
  },
  {
   "cell_type": "code",
   "execution_count": null,
   "id": "e4d1be6b-27e4-41f9-97b3-1c188352286f",
   "metadata": {},
   "outputs": [],
   "source": [
    "import datetime\n",
    "\n",
    "import wandb\n",
    "from wandb.sdk.data_types import trace_tree\n",
    "\n",
    "import weave\n",
    "from weave.monitoring import StreamTable\n",
    "\n",
    "from langchain.callbacks.tracers.base import BaseTracer\n",
    "from langchain.callbacks.tracers.schemas import Run\n",
    "from langchain.callbacks.tracers import wandb as LCW\n",
    "\n",
    "\n",
    "def wb_span_to_weave_spans(wb_span, trace_id=None, parent_id=None):\n",
    "    attributes = {**wb_span.attributes}\n",
    "    attributes['llm_span_kind'] = str(wb_span.span_kind)\n",
    "    inputs = wb_span.results[0].inputs if wb_span.results is not None and len(wb_span.results) > 0 else None\n",
    "    outputs = wb_span.results[0].outputs if wb_span.results is not None and len(wb_span.results) > 0 else None\n",
    "    \n",
    "    span = weave.monitoring.monitor.TraceSpanStruct(\n",
    "        start_time = datetime.datetime.fromtimestamp(wb_span.start_time_ms / 1000.),\n",
    "        end_time = datetime.datetime.fromtimestamp(wb_span.end_time_ms / 1000.),\n",
    "        id = wb_span.span_id,\n",
    "        name = wb_span.name,\n",
    "        status_code = str(wb_span.status_code),\n",
    "        trace_id = trace_id,\n",
    "        parent_id = parent_id,\n",
    "        attributes = attributes,\n",
    "        inputs = inputs,\n",
    "        output = outputs,\n",
    "        exception = Exception(wb_span.status_message) if wb_span.status_message is not None else None,\n",
    "        summary = None,\n",
    "    )\n",
    "    spans = [span]\n",
    "    for child in (wb_span.child_spans or []):\n",
    "        spans += wb_span_to_weave_spans(child, span.trace_id, span.id)\n",
    "    \n",
    "    return spans\n",
    "\n",
    "class WeaveTracer(BaseTracer):\n",
    "    def __init__(self, stream_uri: str, **kwargs) -> None:\n",
    "        super().__init__(**kwargs)\n",
    "        self.run_processor = LCW.RunProcessor(wandb, trace_tree)\n",
    "        self._st = StreamTable(stream_uri)\n",
    "\n",
    "    def _persist_run(self, run: Run) -> None:\n",
    "        root_span = self.run_processor.process_span(run)\n",
    "        # model_dict = self.run_processor.process_model(run)\n",
    "        spans = wb_span_to_weave_spans(root_span)\n",
    "        for span in spans:\n",
    "            self._st.log(span.asdict())\n"
   ]
  },
  {
   "cell_type": "code",
   "execution_count": null,
   "id": "4cea66fe-d6f7-4273-8ba8-754d8ce5dd14",
   "metadata": {},
   "outputs": [],
   "source": [
    "from langchain.agents import load_tools\n",
    "from langchain.agents import initialize_agent\n",
    "from langchain.agents import AgentType\n",
    "from langchain.llms import OpenAI\n",
    "\n",
    "llm = OpenAI(temperature=0)\n",
    "tools = load_tools([\"llm-math\"], llm=llm)\n",
    "agent = initialize_agent(tools, llm, agent=AgentType.ZERO_SHOT_REACT_DESCRIPTION)"
   ]
  },
  {
   "cell_type": "code",
   "execution_count": null,
   "id": "e666563f-9948-4911-ab3a-ca106c0b0a89",
   "metadata": {},
   "outputs": [],
   "source": [
    "tracer = WeaveTracer(\"timssweeney/monitor_dev_test/stream_1\")\n",
    "\n",
    "questions = [\n",
    "    \"Find the square root of 5.4.\",\n",
    "    \"What is 3 divided by 7.34 raised to the power of pi?\",\n",
    "    \"What is the sin of 0.47 radians, divided by the cube root of 27?\"\n",
    "]\n",
    "\n",
    "for question in questions:\n",
    "  try:\n",
    "    answer = agent.run(question, callbacks=[tracer])\n",
    "    print(answer)\n",
    "  except Exception as e:\n",
    "    print(e)\n",
    "    pass"
   ]
  }
 ],
 "metadata": {
  "kernelspec": {
   "display_name": "Python 3 (ipykernel)",
   "language": "python",
   "name": "python3"
  },
  "language_info": {
   "codemirror_mode": {
    "name": "ipython",
    "version": 3
   },
   "file_extension": ".py",
   "mimetype": "text/x-python",
   "name": "python",
   "nbconvert_exporter": "python",
   "pygments_lexer": "ipython3",
   "version": "3.10.8"
  }
 },
 "nbformat": 4,
 "nbformat_minor": 5
}
