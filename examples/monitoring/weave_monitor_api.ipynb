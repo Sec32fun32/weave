{
 "cells": [
  {
   "cell_type": "code",
   "execution_count": 2,
   "id": "a36c6f7d",
   "metadata": {},
   "outputs": [],
   "source": [
    "import weave\n",
    "import time\n",
    "from weave.monitoring import init_monitor"
   ]
  },
  {
   "cell_type": "code",
   "execution_count": null,
   "id": "6c2ccb0b-3237-464c-b6d8-aaf0544bbfd4",
   "metadata": {},
   "outputs": [],
   "source": [
    "mon = init_monitor('timssweeney/monitor/monitor_dev_test_' + str(int(time.time())))"
   ]
  },
  {
   "cell_type": "code",
   "execution_count": null,
   "id": "0331d4bc-e352-429c-9662-7ee085d2352a",
   "metadata": {},
   "outputs": [],
   "source": [
    "# Wrap a function to make it auto-log\n",
    "@mon.trace()\n",
    "def my_fn(a, b):\n",
    "    time.sleep(0.2)\n",
    "    #raise Exception(\"hello\")\n",
    "    return a + b"
   ]
  },
  {
   "cell_type": "code",
   "execution_count": 5,
   "id": "7f0e78c1",
   "metadata": {},
   "outputs": [],
   "source": [
    "\n",
    "\n",
    "# you can create manual spans with the mon.span context manager\n",
    "with mon.span('a_span') as s:\n",
    "    time.sleep(0.5)\n",
    "    # you can add attributes to all child spans with the mon.attributes context manager\n",
    "    with mon.attributes({'a': 5, 'b': 6}):\n",
    "        # spans can be nested\n",
    "        with mon.span('b_span') as b:\n",
    "            time.sleep(0.5)\n",
    "            # call our traced function to generate a span for it\n",
    "            # we add an argument \"monitor_attributes\" which allows you pass in additional\n",
    "            # attributes to be logged\n",
    "            my_fn(1, 5, monitor_attributes={'j': 15})\n",
    "        time.sleep(0.05)"
   ]
  },
  {
   "cell_type": "code",
   "execution_count": 4,
   "id": "cba9ede6",
   "metadata": {},
   "outputs": [
    {
     "ename": "HTTPError",
     "evalue": "500 Server Error: INTERNAL SERVER ERROR for url: http://localhost:9994/__weave/execute/v2",
     "output_type": "error",
     "traceback": [
      "\u001b[0;31m---------------------------------------------------------------------------\u001b[0m",
      "\u001b[0;31mHTTPError\u001b[0m                                 Traceback (most recent call last)",
      "File \u001b[0;32m~/.pyenv/versions/wandb-weave/lib/python3.10/site-packages/IPython/core/formatters.py:922\u001b[0m, in \u001b[0;36mIPythonDisplayFormatter.__call__\u001b[0;34m(self, obj)\u001b[0m\n\u001b[1;32m    920\u001b[0m method \u001b[38;5;241m=\u001b[39m get_real_method(obj, \u001b[38;5;28mself\u001b[39m\u001b[38;5;241m.\u001b[39mprint_method)\n\u001b[1;32m    921\u001b[0m \u001b[38;5;28;01mif\u001b[39;00m method \u001b[38;5;129;01mis\u001b[39;00m \u001b[38;5;129;01mnot\u001b[39;00m \u001b[38;5;28;01mNone\u001b[39;00m:\n\u001b[0;32m--> 922\u001b[0m     \u001b[43mmethod\u001b[49m\u001b[43m(\u001b[49m\u001b[43m)\u001b[49m\n\u001b[1;32m    923\u001b[0m     \u001b[38;5;28;01mreturn\u001b[39;00m \u001b[38;5;28;01mTrue\u001b[39;00m\n",
      "File \u001b[0;32m~/Workspace/github/wandb/core/services/weave-python/weave-public/weave/show.py:156\u001b[0m, in \u001b[0;36m_ipython_display_method_\u001b[0;34m(self)\u001b[0m\n\u001b[1;32m    155\u001b[0m \u001b[38;5;28;01mdef\u001b[39;00m \u001b[38;5;21m_ipython_display_method_\u001b[39m(\u001b[38;5;28mself\u001b[39m):\n\u001b[0;32m--> 156\u001b[0m     \u001b[43mshow\u001b[49m\u001b[43m(\u001b[49m\u001b[38;5;28;43mself\u001b[39;49m\u001b[43m)\u001b[49m\n",
      "File \u001b[0;32m~/Workspace/github/wandb/core/services/weave-python/weave-public/weave/show.py:141\u001b[0m, in \u001b[0;36mshow\u001b[0;34m(obj, height)\u001b[0m\n\u001b[1;32m    138\u001b[0m \u001b[38;5;28;01mif\u001b[39;00m util\u001b[38;5;241m.\u001b[39mis_pandas_dataframe(obj):\n\u001b[1;32m    139\u001b[0m     obj \u001b[38;5;241m=\u001b[39m ops\u001b[38;5;241m.\u001b[39mdataframe_to_arrow(obj)\n\u001b[0;32m--> 141\u001b[0m panel_url \u001b[38;5;241m=\u001b[39m \u001b[43mshow_url\u001b[49m\u001b[43m(\u001b[49m\u001b[43mobj\u001b[49m\u001b[43m)\u001b[49m\n\u001b[1;32m    143\u001b[0m \u001b[38;5;28;01mif\u001b[39;00m util\u001b[38;5;241m.\u001b[39mis_colab():\n\u001b[1;32m    144\u001b[0m     \u001b[38;5;28;01mfrom\u001b[39;00m \u001b[38;5;21;01mgoogle\u001b[39;00m\u001b[38;5;21;01m.\u001b[39;00m\u001b[38;5;21;01mcolab\u001b[39;00m\u001b[38;5;21;01m.\u001b[39;00m\u001b[38;5;21;01moutput\u001b[39;00m \u001b[38;5;28;01mimport\u001b[39;00m serve_kernel_port_as_iframe\n",
      "File \u001b[0;32m~/Workspace/github/wandb/core/services/weave-python/weave-public/weave/show.py:115\u001b[0m, in \u001b[0;36mshow_url\u001b[0;34m(obj)\u001b[0m\n\u001b[1;32m    113\u001b[0m \u001b[38;5;28;01mif\u001b[39;00m os\u001b[38;5;241m.\u001b[39menviron\u001b[38;5;241m.\u001b[39mget(\u001b[38;5;124m\"\u001b[39m\u001b[38;5;124mWEAVE_FRONTEND_DEVMODE\u001b[39m\u001b[38;5;124m\"\u001b[39m):\n\u001b[1;32m    114\u001b[0m     context\u001b[38;5;241m.\u001b[39muse_frontend_devmode()\n\u001b[0;32m--> 115\u001b[0m params \u001b[38;5;241m=\u001b[39m \u001b[43m_show_params\u001b[49m\u001b[43m(\u001b[49m\u001b[43mobj\u001b[49m\u001b[43m)\u001b[49m\n\u001b[1;32m    116\u001b[0m panel_url \u001b[38;5;241m=\u001b[39m \u001b[38;5;124mf\u001b[39m\u001b[38;5;124m\"\u001b[39m\u001b[38;5;132;01m{\u001b[39;00mcontext\u001b[38;5;241m.\u001b[39mget_frontend_url()\u001b[38;5;132;01m}\u001b[39;00m\u001b[38;5;124m?fullScreen\u001b[39m\u001b[38;5;124m\"\u001b[39m\n\u001b[1;32m    117\u001b[0m \u001b[38;5;28;01mif\u001b[39;00m \u001b[38;5;124m\"\u001b[39m\u001b[38;5;124mweave_node\u001b[39m\u001b[38;5;124m\"\u001b[39m \u001b[38;5;129;01min\u001b[39;00m params:\n",
      "File \u001b[0;32m~/Workspace/github/wandb/core/services/weave-python/weave-public/weave/show.py:102\u001b[0m, in \u001b[0;36m_show_params\u001b[0;34m(obj)\u001b[0m\n\u001b[1;32m     99\u001b[0m panel_ref \u001b[38;5;241m=\u001b[39m storage\u001b[38;5;241m.\u001b[39msave(ui_root, name\u001b[38;5;241m=\u001b[39m\u001b[38;5;124mf\u001b[39m\u001b[38;5;124m\"\u001b[39m\u001b[38;5;132;01m{\u001b[39;00mpanel_name\u001b[38;5;132;01m}\u001b[39;00m\u001b[38;5;124m:latest\u001b[39m\u001b[38;5;124m\"\u001b[39m)\n\u001b[1;32m    101\u001b[0m \u001b[38;5;66;03m# convert panel_ref to a a get expression.\u001b[39;00m\n\u001b[0;32m--> 102\u001b[0m show_node \u001b[38;5;241m=\u001b[39m \u001b[43mops\u001b[49m\u001b[38;5;241;43m.\u001b[39;49m\u001b[43mget\u001b[49m\u001b[43m(\u001b[49m\u001b[43mpanel_ref\u001b[49m\u001b[38;5;241;43m.\u001b[39;49m\u001b[43mbranch_uri\u001b[49m\u001b[43m)\u001b[49m\n\u001b[1;32m    104\u001b[0m \u001b[38;5;66;03m# This fixes an issue with giant types causing the cell to take forever\u001b[39;00m\n\u001b[1;32m    105\u001b[0m \u001b[38;5;66;03m# for initial render (at least when using the dev server). The UI\u001b[39;00m\n\u001b[1;32m    106\u001b[0m \u001b[38;5;66;03m# will refine the type anyway.\u001b[39;00m\n\u001b[1;32m    107\u001b[0m show_node\u001b[38;5;241m.\u001b[39mtype \u001b[38;5;241m=\u001b[39m types\u001b[38;5;241m.\u001b[39mAny()\n",
      "File \u001b[0;32m~/Workspace/github/wandb/core/services/weave-python/weave-public/weave/op_def.py:294\u001b[0m, in \u001b[0;36mOpDef.__call__\u001b[0;34m(_self, *args, **kwargs)\u001b[0m\n\u001b[1;32m    292\u001b[0m     \u001b[38;5;28;01mreturn\u001b[39;00m _self\u001b[38;5;241m.\u001b[39meager_call(\u001b[38;5;241m*\u001b[39margs, \u001b[38;5;241m*\u001b[39m\u001b[38;5;241m*\u001b[39mkwargs)\n\u001b[1;32m    293\u001b[0m \u001b[38;5;28;01melse\u001b[39;00m:\n\u001b[0;32m--> 294\u001b[0m     \u001b[38;5;28;01mreturn\u001b[39;00m \u001b[43m_self\u001b[49m\u001b[38;5;241;43m.\u001b[39;49m\u001b[43mlazy_call\u001b[49m\u001b[43m(\u001b[49m\u001b[38;5;241;43m*\u001b[39;49m\u001b[43margs\u001b[49m\u001b[43m,\u001b[49m\u001b[43m \u001b[49m\u001b[38;5;241;43m*\u001b[39;49m\u001b[38;5;241;43m*\u001b[39;49m\u001b[43mkwargs\u001b[49m\u001b[43m)\u001b[49m\n",
      "File \u001b[0;32m~/Workspace/github/wandb/core/services/weave-python/weave-public/weave/op_def.py:327\u001b[0m, in \u001b[0;36mOpDef.lazy_call\u001b[0;34m(_self, *args, **kwargs)\u001b[0m\n\u001b[1;32m    323\u001b[0m \u001b[38;5;28;01mwith\u001b[39;00m tracer\u001b[38;5;241m.\u001b[39mtrace(\u001b[38;5;124m\"\u001b[39m\u001b[38;5;124mrefine.\u001b[39m\u001b[38;5;132;01m%s\u001b[39;00m\u001b[38;5;124m\"\u001b[39m \u001b[38;5;241m%\u001b[39m _self\u001b[38;5;241m.\u001b[39muri):\n\u001b[1;32m    324\u001b[0m     \u001b[38;5;66;03m# api's use auto-creates client. TODO: Fix inline import\u001b[39;00m\n\u001b[1;32m    325\u001b[0m     \u001b[38;5;28;01mfrom\u001b[39;00m \u001b[38;5;21;01m.\u001b[39;00m \u001b[38;5;28;01mimport\u001b[39;00m api\n\u001b[0;32m--> 327\u001b[0m     final_output_type \u001b[38;5;241m=\u001b[39m \u001b[43mapi\u001b[49m\u001b[38;5;241;43m.\u001b[39;49m\u001b[43muse\u001b[49m\u001b[43m(\u001b[49m\u001b[43mcalled_refine_output_type\u001b[49m\u001b[43m)\u001b[49m  \u001b[38;5;66;03m# type: ignore\u001b[39;00m\n\u001b[1;32m    328\u001b[0m \u001b[38;5;28;01mif\u001b[39;00m final_output_type \u001b[38;5;241m==\u001b[39m \u001b[38;5;28;01mNone\u001b[39;00m:\n\u001b[1;32m    329\u001b[0m     \u001b[38;5;66;03m# This can happen due to nullability. In that case, accept the output type is null\u001b[39;00m\n\u001b[1;32m    330\u001b[0m     final_output_type \u001b[38;5;241m=\u001b[39m types\u001b[38;5;241m.\u001b[39mNoneType()\n",
      "File \u001b[0;32m~/Workspace/github/wandb/core/services/weave-python/weave-public/weave/api.py:75\u001b[0m, in \u001b[0;36muse\u001b[0;34m(nodes, client)\u001b[0m\n\u001b[1;32m     73\u001b[0m \u001b[38;5;28;01mif\u001b[39;00m client \u001b[38;5;129;01mis\u001b[39;00m \u001b[38;5;28;01mNone\u001b[39;00m:\n\u001b[1;32m     74\u001b[0m     client \u001b[38;5;241m=\u001b[39m _context\u001b[38;5;241m.\u001b[39mget_client()\n\u001b[0;32m---> 75\u001b[0m \u001b[38;5;28;01mreturn\u001b[39;00m \u001b[43m_weave_internal\u001b[49m\u001b[38;5;241;43m.\u001b[39;49m\u001b[43muse\u001b[49m\u001b[43m(\u001b[49m\u001b[43mnodes\u001b[49m\u001b[43m,\u001b[49m\u001b[43m \u001b[49m\u001b[43mclient\u001b[49m\u001b[43m)\u001b[49m\n",
      "File \u001b[0;32m~/Workspace/github/wandb/core/services/weave-python/weave-public/weave/weave_internal.py:79\u001b[0m, in \u001b[0;36muse\u001b[0;34m(nodes, client)\u001b[0m\n\u001b[1;32m     76\u001b[0m             \u001b[38;5;28;01mraise\u001b[39;00m errors\u001b[38;5;241m.\u001b[39mWeaveApiError(\u001b[38;5;124m\"\u001b[39m\u001b[38;5;124mnon-Node passed to use(): \u001b[39m\u001b[38;5;132;01m%s\u001b[39;00m\u001b[38;5;124m\"\u001b[39m \u001b[38;5;241m%\u001b[39m \u001b[38;5;28mtype\u001b[39m(node))\n\u001b[1;32m     77\u001b[0m     actual_nodes\u001b[38;5;241m.\u001b[39mappend(node)\n\u001b[0;32m---> 79\u001b[0m result \u001b[38;5;241m=\u001b[39m \u001b[43mclient\u001b[49m\u001b[38;5;241;43m.\u001b[39;49m\u001b[43mexecute\u001b[49m\u001b[43m(\u001b[49m\u001b[43mactual_nodes\u001b[49m\u001b[43m)\u001b[49m\n\u001b[1;32m     81\u001b[0m \u001b[38;5;28;01mif\u001b[39;00m single:\n\u001b[1;32m     82\u001b[0m     result \u001b[38;5;241m=\u001b[39m result[\u001b[38;5;241m0\u001b[39m]\n",
      "File \u001b[0;32m~/Workspace/github/wandb/core/services/weave-python/weave-public/weave/server.py:172\u001b[0m, in \u001b[0;36mHttpServerClient.execute\u001b[0;34m(self, nodes, no_cache)\u001b[0m\n\u001b[1;32m    166\u001b[0m serialized \u001b[38;5;241m=\u001b[39m serialize\u001b[38;5;241m.\u001b[39mserialize(nodes)\n\u001b[1;32m    167\u001b[0m r \u001b[38;5;241m=\u001b[39m requests\u001b[38;5;241m.\u001b[39mpost(\n\u001b[1;32m    168\u001b[0m     \u001b[38;5;28mself\u001b[39m\u001b[38;5;241m.\u001b[39murl \u001b[38;5;241m+\u001b[39m \u001b[38;5;28mself\u001b[39m\u001b[38;5;241m.\u001b[39mexecute_endpoint,\n\u001b[1;32m    169\u001b[0m     json\u001b[38;5;241m=\u001b[39m{\u001b[38;5;124m\"\u001b[39m\u001b[38;5;124mgraphs\u001b[39m\u001b[38;5;124m\"\u001b[39m: serialized},\n\u001b[1;32m    170\u001b[0m     auth\u001b[38;5;241m=\u001b[39m\u001b[38;5;28mself\u001b[39m\u001b[38;5;241m.\u001b[39mauth,\n\u001b[1;32m    171\u001b[0m )\n\u001b[0;32m--> 172\u001b[0m \u001b[43mr\u001b[49m\u001b[38;5;241;43m.\u001b[39;49m\u001b[43mraise_for_status\u001b[49m\u001b[43m(\u001b[49m\u001b[43m)\u001b[49m\n\u001b[1;32m    174\u001b[0m response \u001b[38;5;241m=\u001b[39m r\u001b[38;5;241m.\u001b[39mjson()[\u001b[38;5;124m\"\u001b[39m\u001b[38;5;124mdata\u001b[39m\u001b[38;5;124m\"\u001b[39m]\n\u001b[1;32m    176\u001b[0m \u001b[38;5;28;01mif\u001b[39;00m \u001b[38;5;28mself\u001b[39m\u001b[38;5;241m.\u001b[39memulate_weavejs:\n\u001b[1;32m    177\u001b[0m     \u001b[38;5;66;03m# When emulating weavejs, just return the server's json response.\u001b[39;00m\n",
      "File \u001b[0;32m~/.pyenv/versions/wandb-weave/lib/python3.10/site-packages/requests/models.py:1021\u001b[0m, in \u001b[0;36mResponse.raise_for_status\u001b[0;34m(self)\u001b[0m\n\u001b[1;32m   1016\u001b[0m     http_error_msg \u001b[38;5;241m=\u001b[39m (\n\u001b[1;32m   1017\u001b[0m         \u001b[38;5;124mf\u001b[39m\u001b[38;5;124m\"\u001b[39m\u001b[38;5;132;01m{\u001b[39;00m\u001b[38;5;28mself\u001b[39m\u001b[38;5;241m.\u001b[39mstatus_code\u001b[38;5;132;01m}\u001b[39;00m\u001b[38;5;124m Server Error: \u001b[39m\u001b[38;5;132;01m{\u001b[39;00mreason\u001b[38;5;132;01m}\u001b[39;00m\u001b[38;5;124m for url: \u001b[39m\u001b[38;5;132;01m{\u001b[39;00m\u001b[38;5;28mself\u001b[39m\u001b[38;5;241m.\u001b[39murl\u001b[38;5;132;01m}\u001b[39;00m\u001b[38;5;124m\"\u001b[39m\n\u001b[1;32m   1018\u001b[0m     )\n\u001b[1;32m   1020\u001b[0m \u001b[38;5;28;01mif\u001b[39;00m http_error_msg:\n\u001b[0;32m-> 1021\u001b[0m     \u001b[38;5;28;01mraise\u001b[39;00m HTTPError(http_error_msg, response\u001b[38;5;241m=\u001b[39m\u001b[38;5;28mself\u001b[39m)\n",
      "\u001b[0;31mHTTPError\u001b[0m: 500 Server Error: INTERNAL SERVER ERROR for url: http://localhost:9994/__weave/execute/v2"
     ]
    },
    {
     "data": {
      "text/plain": [
       "<OutputNode(12088251136) type: TaggedValueType({['run', 'project']}, ArrowWeaveListType(object_type=TypedDict(property_types={'parent_id': UnionType(members=[NoneType(), String()]), 'name': UnionType(members=[NoneType(), String()]), 'status_code': UnionType(members=[NoneType(), String()]), 'output': UnionType(members=[NoneType(), Number()]), 'inputs': TypedDict(property_types={'a': UnionType(members=[NoneType(), Number()]), 'b': UnionType(members=[NoneType(), Number()])}, not_required_keys=set()), 'start_time_s': UnionType(members=[NoneType(), Number()]), 'attributes': TypedDict(property_types={'j': UnionType(members=[NoneType(), Number()]), 'b': UnionType(members=[NoneType(), Number()]), 'a': UnionType(members=[NoneType(), Number()])}, not_required_keys=set()), 'end_time_s': UnionType(members=[NoneType(), Number()]), 'trace_id': UnionType(members=[NoneType(), String()]), 'timestamp': UnionType(members=[NoneType(), Timestamp()]), '_client_id': UnionType(members=[NoneType(), String()]), '_timestamp': Number(), 'span_id': UnionType(members=[NoneType(), String()]), '_step': Number(), 'summary': TypedDict(property_types={'latency_s': UnionType(members=[NoneType(), Number()])}, not_required_keys=set())}, not_required_keys=set()))) op_name: stream_table-rows>"
      ]
     },
     "execution_count": 4,
     "metadata": {},
     "output_type": "execute_result"
    }
   ],
   "source": [
    "# You can change the PanelType in the UI to Trace, to see a trace of the execution above.\n",
    "mon.rows()"
   ]
  },
  {
   "cell_type": "code",
   "execution_count": null,
   "id": "b9a05168-b2f9-4568-b869-b5ec01a273b9",
   "metadata": {},
   "outputs": [],
   "source": []
  }
 ],
 "metadata": {
  "kernelspec": {
   "display_name": "Python 3 (ipykernel)",
   "language": "python",
   "name": "python3"
  },
  "language_info": {
   "codemirror_mode": {
    "name": "ipython",
    "version": 3
   },
   "file_extension": ".py",
   "mimetype": "text/x-python",
   "name": "python",
   "nbconvert_exporter": "python",
   "pygments_lexer": "ipython3",
   "version": "3.10.8"
  }
 },
 "nbformat": 4,
 "nbformat_minor": 5
}
