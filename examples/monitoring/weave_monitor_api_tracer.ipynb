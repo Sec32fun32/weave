{
 "cells": [
  {
   "cell_type": "code",
   "execution_count": 1,
   "id": "a36c6f7d",
   "metadata": {},
   "outputs": [],
   "source": [
    "import weave\n",
    "import time\n",
    "from weave.monitoring import init_monitor"
   ]
  },
  {
   "cell_type": "code",
   "execution_count": 2,
   "id": "6c2ccb0b-3237-464c-b6d8-aaf0544bbfd4",
   "metadata": {},
   "outputs": [
    {
     "data": {
      "text/html": [
       " View data at <a href='https://weave.wandb.ai/browse/wandb/timssweeney/monitor/table/monitor_dev_test_1692829977' target=\"_blank\">https://weave.wandb.ai/browse/wandb/timssweeney/monitor/table/monitor_dev_test_1692829977</a>"
      ],
      "text/plain": [
       "<IPython.core.display.HTML object>"
      ]
     },
     "metadata": {},
     "output_type": "display_data"
    }
   ],
   "source": [
    "mon = init_monitor('timssweeney/monitor/monitor_dev_test_1692829977') #  + str(int(time.time())))"
   ]
  },
  {
   "cell_type": "code",
   "execution_count": null,
   "id": "0331d4bc-e352-429c-9662-7ee085d2352a",
   "metadata": {},
   "outputs": [],
   "source": [
    "# Wrap a function to make it auto-log\n",
    "@mon.trace()\n",
    "def my_fn(a, b):\n",
    "    time.sleep(0.2)\n",
    "    #raise Exception(\"hello\")\n",
    "    return a + b"
   ]
  },
  {
   "cell_type": "code",
   "execution_count": null,
   "id": "7f0e78c1",
   "metadata": {},
   "outputs": [],
   "source": [
    "# you can create manual spans with the mon.span context manager\n",
    "with mon.span('a_span') as s:\n",
    "    time.sleep(0.5)\n",
    "    # you can add attributes to all child spans with the mon.attributes context manager\n",
    "    with mon.attributes({'a': 5, 'b': 6}):\n",
    "        # spans can be nested\n",
    "        with mon.span('b_span') as b:\n",
    "            time.sleep(0.5)\n",
    "            # call our traced function to generate a span for it\n",
    "            # we add an argument \"monitor_attributes\" which allows you pass in additional\n",
    "            # attributes to be logged\n",
    "            my_fn(1, 5, monitor_attributes={'j': 15})\n",
    "        time.sleep(0.05)"
   ]
  },
  {
   "cell_type": "code",
   "execution_count": 3,
   "id": "cba9ede6",
   "metadata": {},
   "outputs": [
    {
     "data": {
      "text/html": [
       "\n",
       "        <iframe\n",
       "            width=\"100%\"\n",
       "            height=\"400px\"\n",
       "            src=\"http://localhost:3000/__frontend/weave_jupyter?fullScreen&expNode=%7B%22nodeType%22%3A%20%22output%22%2C%20%22type%22%3A%20%22any%22%2C%20%22fromOp%22%3A%20%7B%22name%22%3A%20%22get%22%2C%20%22inputs%22%3A%20%7B%22uri%22%3A%20%7B%22nodeType%22%3A%20%22const%22%2C%20%22type%22%3A%20%22string%22%2C%20%22val%22%3A%20%22local-artifact%3A///dashboard-Group0%3Alatest/obj%22%7D%7D%7D%7D\"\n",
       "            frameborder=\"0\"\n",
       "            allowfullscreen\n",
       "            allow=\"clipboard-write\"\n",
       "        ></iframe>\n",
       "        "
      ],
      "text/plain": [
       "<IPython.lib.display.IFrame at 0x2ca5fe980>"
      ]
     },
     "metadata": {},
     "output_type": "display_data"
    }
   ],
   "source": [
    "from weave.panels_py import panel_trace_monitor\n",
    "weave.use(panel_trace_monitor.board(mon.rows()))"
   ]
  },
  {
   "cell_type": "code",
   "execution_count": null,
   "id": "b9a05168-b2f9-4568-b869-b5ec01a273b9",
   "metadata": {},
   "outputs": [],
   "source": [
    "weave.ops_arrow.dict.pick"
   ]
  },
  {
   "cell_type": "code",
   "execution_count": 4,
   "id": "e0924c9c-f456-4ec3-9ed3-e89e9e1e82cc",
   "metadata": {},
   "outputs": [],
   "source": [
    "import langchain"
   ]
  },
  {
   "cell_type": "code",
   "execution_count": 5,
   "id": "79e0af1d-fd8c-40d1-a9a9-4f3a380ca447",
   "metadata": {},
   "outputs": [],
   "source": [
    "from langchain.agents import load_tools\n",
    "from langchain.agents import initialize_agent\n",
    "from langchain.agents import AgentType\n",
    "from langchain.llms import OpenAI\n",
    "from langchain.callbacks.manager import CallbackManager\n",
    "llm = OpenAI(temperature=0)\n",
    "tools = load_tools([\"llm-math\"], llm=llm)\n",
    "agent = initialize_agent(tools, llm, agent=AgentType.ZERO_SHOT_REACT_DESCRIPTION)"
   ]
  },
  {
   "cell_type": "code",
   "execution_count": 6,
   "id": "86f8818d-9ee4-4352-a898-b3cacb69fd60",
   "metadata": {},
   "outputs": [
    {
     "name": "stdout",
     "output_type": "stream",
     "text": [
      "2.3\n",
      "0.005720801417544866\n",
      "0.011645994599459945\n"
     ]
    }
   ],
   "source": [
    "questions = [\n",
    "    \"Find the square root of 5.4.\",\n",
    "    \"What is 3 divided by 7.34 raised to the power of pi?\",\n",
    "    \"What is the sin of 0.47 radians, divided by the cube root of 27?\"\n",
    "]\n",
    "for question in questions:\n",
    "  try:\n",
    "    answer = agent.run(question, callbacks=[])\n",
    "    print(answer)\n",
    "  except Exception as e:\n",
    "    print(e)\n",
    "    pass"
   ]
  },
  {
   "cell_type": "code",
   "execution_count": null,
   "id": "1442d171-6092-43e5-b2db-306be66c8c6b",
   "metadata": {},
   "outputs": [],
   "source": []
  }
 ],
 "metadata": {
  "kernelspec": {
   "display_name": "Python 3 (ipykernel)",
   "language": "python",
   "name": "python3"
  },
  "language_info": {
   "codemirror_mode": {
    "name": "ipython",
    "version": 3
   },
   "file_extension": ".py",
   "mimetype": "text/x-python",
   "name": "python",
   "nbconvert_exporter": "python",
   "pygments_lexer": "ipython3",
   "version": "3.10.8"
  }
 },
 "nbformat": 4,
 "nbformat_minor": 5
}
