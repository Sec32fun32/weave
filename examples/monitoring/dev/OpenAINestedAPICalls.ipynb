{
 "cells": [
  {
   "cell_type": "code",
   "execution_count": null,
   "id": "7fffc38c-ef45-4410-8b69-d0d2337327dc",
   "metadata": {},
   "outputs": [],
   "source": [
    "WB_ENTITY = \"timssweeney\"\n",
    "WB_PROJECT = \"oai-integration-testing\"\n",
    "STREAM_NAME = \"openai_logs_2\"\n",
    "# specifying a single model for simplicity\n",
    "OPENAI_MODEL = 'gpt-3.5-turbo'"
   ]
  },
  {
   "cell_type": "code",
   "execution_count": null,
   "id": "5ae5edd0-cee1-4f26-9a95-7a4cbafc0926",
   "metadata": {},
   "outputs": [],
   "source": [
    "from weave.monitoring import openai, init_monitor\n",
    "mon = init_monitor(f\"{WB_ENTITY}/{WB_PROJECT}/{STREAM_NAME}\")\n",
    "\n",
    "# prefill with some sample logs"
   ]
  },
  {
   "cell_type": "code",
   "execution_count": null,
   "id": "7e10bf4a-ca1d-4b95-8d00-a91ee2ee1fd8",
   "metadata": {},
   "outputs": [],
   "source": [
    "@mon.trace()\n",
    "def my_fn(topic):\n",
    "    r = openai.ChatCompletion.create(model=OPENAI_MODEL, messages=[{\"role\": \"user\", \"content\": \"Please ask a question to another AI about \" + topic}])\n",
    "    res = r.choices[0].message['content']\n",
    "    r = openai.ChatCompletion.create(model=OPENAI_MODEL, messages=[{\"role\": \"user\", \"content\": res}])\n",
    "    return r.choices[0].message['content']"
   ]
  },
  {
   "cell_type": "code",
   "execution_count": null,
   "id": "b42b0666-6782-4296-b7b1-5ba931e137af",
   "metadata": {},
   "outputs": [],
   "source": [
    "my_fn(\"bananas\")"
   ]
  },
  {
   "cell_type": "code",
   "execution_count": null,
   "id": "d7d1386e-2433-40a6-8056-baadd8b417cd",
   "metadata": {},
   "outputs": [],
   "source": [
    "my_fn(\"surfing\")"
   ]
  },
  {
   "cell_type": "code",
   "execution_count": null,
   "id": "ea956ff9-62fd-4c69-884f-b93c95723f21",
   "metadata": {},
   "outputs": [],
   "source": [
    "my_fn(\"artificial intelligence\")"
   ]
  },
  {
   "cell_type": "code",
   "execution_count": null,
   "id": "cb2dc2a4-2b8e-409b-abeb-09eaaefcfc51",
   "metadata": {},
   "outputs": [],
   "source": []
  }
 ],
 "metadata": {
  "kernelspec": {
   "display_name": "Python 3 (ipykernel)",
   "language": "python",
   "name": "python3"
  },
  "language_info": {
   "codemirror_mode": {
    "name": "ipython",
    "version": 3
   },
   "file_extension": ".py",
   "mimetype": "text/x-python",
   "name": "python",
   "nbconvert_exporter": "python",
   "pygments_lexer": "ipython3",
   "version": "3.10.8"
  }
 },
 "nbformat": 4,
 "nbformat_minor": 5
}
