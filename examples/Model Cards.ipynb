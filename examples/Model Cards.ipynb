{
 "cells": [
  {
   "cell_type": "code",
   "execution_count": 1,
   "id": "c6b2e19b",
   "metadata": {},
   "outputs": [
    {
     "ename": "ImportError",
     "evalue": "cannot import name 'models' from 'weave.ecosystem' (/Users/shawn/go/src/github.com/wandb/core/services/weave-internal/weave/ecosystem/__init__.py)",
     "output_type": "error",
     "traceback": [
      "\u001b[0;31m---------------------------------------------------------------------------\u001b[0m",
      "\u001b[0;31mImportError\u001b[0m                               Traceback (most recent call last)",
      "Input \u001b[0;32mIn [1]\u001b[0m, in \u001b[0;36m<cell line: 3>\u001b[0;34m()\u001b[0m\n\u001b[1;32m      1\u001b[0m \u001b[38;5;28;01mimport\u001b[39;00m \u001b[38;5;21;01mweave\u001b[39;00m\n\u001b[1;32m      2\u001b[0m weave\u001b[38;5;241m.\u001b[39muse_frontend_devmode()\n\u001b[0;32m----> 3\u001b[0m \u001b[38;5;28;01mfrom\u001b[39;00m \u001b[38;5;21;01mweave\u001b[39;00m\u001b[38;5;21;01m.\u001b[39;00m\u001b[38;5;21;01mecosystem\u001b[39;00m \u001b[38;5;28;01mimport\u001b[39;00m models\n",
      "\u001b[0;31mImportError\u001b[0m: cannot import name 'models' from 'weave.ecosystem' (/Users/shawn/go/src/github.com/wandb/core/services/weave-internal/weave/ecosystem/__init__.py)"
     ]
    }
   ],
   "source": [
    "import weave\n",
    "weave.use_frontend_devmode()\n",
    "from weave.ecosystem import models"
   ]
  },
  {
   "cell_type": "code",
   "execution_count": null,
   "id": "4b51e4d5",
   "metadata": {},
   "outputs": [],
   "source": [
    "# Declare an instance of a ModelCard\n",
    "model_card = models.ModelCard(\n",
    "    model_name='GPT-3',\n",
    "    created_by=models.User(name='OpenAI'),\n",
    "    updated_at='August 25th 2021, at 3:36:29pm',  # TODO: timestamp\n",
    "    model_type='Language model',\n",
    "    primary_metric=models.TargetMetric(name='acc', direction='up'),\n",
    "    application='Our API has been deployed in thousands of applications with tasks ranging from helping people learn new languages to solving complex classification problems',\n",
    "    example='...Slightly better example...'\n",
    ")\n",
    "model_card_ref = weave.save(model_card, 'my-model-card')\n",
    "models.model_card_panel(model_card_ref)"
   ]
  },
  {
   "cell_type": "code",
   "execution_count": null,
   "id": "ba518a7e",
   "metadata": {},
   "outputs": [],
   "source": [
    "# Publish it to W&B\n",
    "model_card_wbref = weave.publish(model_card, name='my-model')"
   ]
  },
  {
   "cell_type": "code",
   "execution_count": null,
   "id": "32dd7d50",
   "metadata": {},
   "outputs": [],
   "source": [
    "weave.show(model_card_wbref)"
   ]
  }
 ],
 "metadata": {
  "kernelspec": {
   "display_name": "Python 3 (ipykernel)",
   "language": "python",
   "name": "python3"
  },
  "language_info": {
   "codemirror_mode": {
    "name": "ipython",
    "version": 3
   },
   "file_extension": ".py",
   "mimetype": "text/x-python",
   "name": "python",
   "nbconvert_exporter": "python",
   "pygments_lexer": "ipython3",
   "version": "3.9.7"
  }
 },
 "nbformat": 4,
 "nbformat_minor": 5
}
