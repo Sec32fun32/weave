{
 "cells": [
  {
   "cell_type": "code",
   "execution_count": 1,
   "id": "c6b2e19b",
   "metadata": {},
   "outputs": [],
   "source": [
    "import weave\n",
    "weave.use_frontend_devmode()\n",
    "from weave.ecosystem import models"
   ]
  },
  {
   "cell_type": "code",
   "execution_count": 18,
   "id": "4b51e4d5",
   "metadata": {},
   "outputs": [],
   "source": [
    "# Declare an instance of a ModelCard\n",
    "model_card = models.ModelCard(\n",
    "    model_name='GPT-3',\n",
    "    created_by=models.User(name='OpenAI'),\n",
    "    updated_at='August 25th 2021, at 3:36:29pm',  # TODO: timestamp\n",
    "    model_type='Language model',\n",
    "    primary_metric=models.TargetMetric(name='acc', direction='up'),\n",
    "    application='Our API has been deployed in thousands of applications with tasks ranging from helping people learn new languages to solving complex classification problems',\n",
    "    example='...Slightly better example...'\n",
    ")\n",
    "\n",
    "model_card_ref = weave.publish(model_card, name='my-model')"
   ]
  },
  {
   "cell_type": "code",
   "execution_count": 19,
   "id": "32dd7d50",
   "metadata": {},
   "outputs": [
    {
     "data": {
      "text/html": [
       "\n",
       "        <iframe\n",
       "            width=\"100%\"\n",
       "            height=\"400px\"\n",
       "            src=\"http://localhost:3000/__frontend/weave_jupyter?fullScreen&expNode=%7B%22nodeType%22%3A%20%22output%22%2C%20%22type%22%3A%20%7B%22type%22%3A%20%22ModelCard%22%7D%2C%20%22fromOp%22%3A%20%7B%22name%22%3A%20%22get%22%2C%20%22inputs%22%3A%20%7B%22uri%22%3A%20%7B%22nodeType%22%3A%20%22const%22%2C%20%22type%22%3A%20%7B%22type%22%3A%20%22const%22%2C%20%22valType%22%3A%20%22string%22%2C%20%22val%22%3A%20%22wandb-artifact%3A//shawn/weave_ops/my-model%3Av1%22%7D%2C%20%22val%22%3A%20%22wandb-artifact%3A//shawn/weave_ops/my-model%3Av1%22%7D%7D%7D%7D\"\n",
       "            frameborder=\"0\"\n",
       "            allowfullscreen\n",
       "            \n",
       "        ></iframe>\n",
       "        "
      ],
      "text/plain": [
       "<IPython.lib.display.IFrame at 0x12c712580>"
      ]
     },
     "metadata": {},
     "output_type": "display_data"
    }
   ],
   "source": [
    "weave.show(model_card_ref)"
   ]
  }
 ],
 "metadata": {
  "kernelspec": {
   "display_name": "Python 3 (ipykernel)",
   "language": "python",
   "name": "python3"
  },
  "language_info": {
   "codemirror_mode": {
    "name": "ipython",
    "version": 3
   },
   "file_extension": ".py",
   "mimetype": "text/x-python",
   "name": "python",
   "nbconvert_exporter": "python",
   "pygments_lexer": "ipython3",
   "version": "3.9.7"
  }
 },
 "nbformat": 4,
 "nbformat_minor": 5
}
