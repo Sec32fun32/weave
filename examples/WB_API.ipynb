{
 "cells": [
  {
   "cell_type": "code",
   "execution_count": 1,
   "id": "eae3e8dd",
   "metadata": {},
   "outputs": [],
   "source": [
    "import weave\n",
    "weave.use_frontend_devmode()\n",
    "weave.capture_weave_server_logs()"
   ]
  },
  {
   "cell_type": "code",
   "execution_count": 2,
   "id": "887d88a4",
   "metadata": {
    "scrolled": false
   },
   "outputs": [
    {
     "data": {
      "text/html": [
       "\n",
       "        <iframe\n",
       "            width=\"100%\"\n",
       "            height=\"400px\"\n",
       "            src=\"http://localhost:3000/__frontend/weave_jupyter?fullScreen&expNode=%7B%22nodeType%22%3A%20%22output%22%2C%20%22type%22%3A%20%22project%22%2C%20%22fromOp%22%3A%20%7B%22name%22%3A%20%22root-project%22%2C%20%22inputs%22%3A%20%7B%22entityName%22%3A%20%7B%22nodeType%22%3A%20%22const%22%2C%20%22type%22%3A%20%22string%22%2C%20%22val%22%3A%20%22stacey%22%7D%2C%20%22projectName%22%3A%20%7B%22nodeType%22%3A%20%22const%22%2C%20%22type%22%3A%20%22string%22%2C%20%22val%22%3A%20%22mendeleev%22%7D%7D%7D%7D\"\n",
       "            frameborder=\"0\"\n",
       "            allowfullscreen\n",
       "            \n",
       "        ></iframe>\n",
       "        "
      ],
      "text/plain": [
       "<IPython.lib.display.IFrame at 0x11024e190>"
      ]
     },
     "metadata": {},
     "output_type": "display_data"
    }
   ],
   "source": [
    "project = weave.ops.project('stacey', \"mendeleev\")\n",
    "project"
   ]
  },
  {
   "cell_type": "code",
   "execution_count": 19,
   "id": "b7705fb7",
   "metadata": {},
   "outputs": [
    {
     "data": {
      "text/html": [
       "\n",
       "        <iframe\n",
       "            width=\"100%\"\n",
       "            height=\"400px\"\n",
       "            src=\"http://localhost:3000/__frontend/weave_jupyter?fullScreen&expNode=%7B%22nodeType%22%3A%20%22output%22%2C%20%22type%22%3A%20%7B%22type%22%3A%20%22artifacts%22%7D%2C%20%22fromOp%22%3A%20%7B%22name%22%3A%20%22artifactType-artifacts%22%2C%20%22inputs%22%3A%20%7B%22artifactType%22%3A%20%7B%22nodeType%22%3A%20%22output%22%2C%20%22type%22%3A%20%22artifactType%22%2C%20%22fromOp%22%3A%20%7B%22name%22%3A%20%22project-artifactType%22%2C%20%22inputs%22%3A%20%7B%22project%22%3A%20%7B%22nodeType%22%3A%20%22output%22%2C%20%22type%22%3A%20%22project%22%2C%20%22fromOp%22%3A%20%7B%22name%22%3A%20%22root-project%22%2C%20%22inputs%22%3A%20%7B%22entityName%22%3A%20%7B%22nodeType%22%3A%20%22const%22%2C%20%22type%22%3A%20%22string%22%2C%20%22val%22%3A%20%22stacey%22%7D%2C%20%22projectName%22%3A%20%7B%22nodeType%22%3A%20%22const%22%2C%20%22type%22%3A%20%22string%22%2C%20%22val%22%3A%20%22mendeleev%22%7D%7D%7D%7D%2C%20%22artifactType%22%3A%20%7B%22nodeType%22%3A%20%22const%22%2C%20%22type%22%3A%20%22string%22%2C%20%22val%22%3A%20%22test_results%22%7D%7D%7D%7D%7D%7D%7D&panelId=table&panelConfig=%7B%22tableState%22%3A%20%7B%22autoColumns%22%3A%20false%2C%20%22columns%22%3A%20%7B%22O0LZBVVDVM83SJ%22%3A%20%7B%22panelId%22%3A%20%22%22%2C%20%22panelConfig%22%3A%20null%7D%2C%20%227TLYIPA1QX1I7B%22%3A%20%7B%22panelId%22%3A%20%22%22%2C%20%22panelConfig%22%3A%20null%7D%7D%2C%20%22preFilterFunction%22%3A%20%7B%22nodeType%22%3A%20%22void%22%2C%20%22type%22%3A%20%22invalid%22%7D%2C%20%22columnNames%22%3A%20%7B%22O0LZBVVDVM83SJ%22%3A%20%22%22%2C%20%227TLYIPA1QX1I7B%22%3A%20%22%22%7D%2C%20%22columnSelectFunctions%22%3A%20%7B%22O0LZBVVDVM83SJ%22%3A%20%7B%22nodeType%22%3A%20%22output%22%2C%20%22type%22%3A%20%22string%22%2C%20%22fromOp%22%3A%20%7B%22name%22%3A%20%22artifact-name%22%2C%20%22inputs%22%3A%20%7B%22artifact%22%3A%20%7B%22nodeType%22%3A%20%22var%22%2C%20%22type%22%3A%20%22artifact%22%2C%20%22varName%22%3A%20%22row%22%7D%7D%7D%7D%2C%20%227TLYIPA1QX1I7B%22%3A%20%7B%22nodeType%22%3A%20%22output%22%2C%20%22type%22%3A%20%22int%22%2C%20%22fromOp%22%3A%20%7B%22name%22%3A%20%22count%22%2C%20%22inputs%22%3A%20%7B%22arr%22%3A%20%7B%22nodeType%22%3A%20%22output%22%2C%20%22type%22%3A%20%7B%22type%22%3A%20%22projectArtifactVersions%22%7D%2C%20%22fromOp%22%3A%20%7B%22name%22%3A%20%22artifact-versions%22%2C%20%22inputs%22%3A%20%7B%22artifact%22%3A%20%7B%22nodeType%22%3A%20%22var%22%2C%20%22type%22%3A%20%22artifact%22%2C%20%22varName%22%3A%20%22row%22%7D%7D%7D%7D%7D%7D%7D%7D%2C%20%22order%22%3A%20%5B%22O0LZBVVDVM83SJ%22%2C%20%227TLYIPA1QX1I7B%22%5D%2C%20%22groupBy%22%3A%20%5B%5D%2C%20%22sort%22%3A%20%5B%5D%2C%20%22pageSize%22%3A%2010%2C%20%22page%22%3A%200%7D%7D\"\n",
       "            frameborder=\"0\"\n",
       "            allowfullscreen\n",
       "            \n",
       "        ></iframe>\n",
       "        "
      ],
      "text/plain": [
       "<IPython.lib.display.IFrame at 0x16a24cd60>"
      ]
     },
     "metadata": {},
     "output_type": "display_data"
    }
   ],
   "source": [
    "panel = weave.panels.Table(weave.ops.project('stacey', \"mendeleev\").artifact_type('test_results').artifacts())\n",
    "panel.append_column(lambda art: art.name_())\n",
    "panel.append_column(lambda art: art.versions().count())\n",
    "weave.show(panel)"
   ]
  },
  {
   "cell_type": "code",
   "execution_count": 7,
   "id": "e9eaceec",
   "metadata": {},
   "outputs": [
    {
     "data": {
      "text/plain": [
       "NoneType"
      ]
     },
     "execution_count": 7,
     "metadata": {},
     "output_type": "execute_result"
    }
   ],
   "source": [
    "type(panel._table_state)"
   ]
  },
  {
   "cell_type": "code",
   "execution_count": null,
   "id": "58b26e21",
   "metadata": {},
   "outputs": [],
   "source": [
    "weave.ops.project('stacey', \"mendeleev\").artifact_type('test_results').artifacts()[0].versions()[0].path('test_results.table.json')"
   ]
  },
  {
   "cell_type": "code",
   "execution_count": null,
   "id": "debbb5d4",
   "metadata": {},
   "outputs": [],
   "source": [
    "weave.ops.project('shawn', \"dsviz-simple-tables\").artifact_type('dataset').artifacts()[0].versions()[5].path('my-table.table.json')"
   ]
  },
  {
   "cell_type": "code",
   "execution_count": null,
   "id": "dd9397a3",
   "metadata": {},
   "outputs": [],
   "source": [
    "import wandb"
   ]
  },
  {
   "cell_type": "code",
   "execution_count": null,
   "id": "daf1d576",
   "metadata": {},
   "outputs": [],
   "source": [
    "wandb.init(anonymous=\"allow\")\n",
    "t = wandb.use_artifact(\"stacey/mendeleev/test_res_1fwmcd3q:v0\").get(\"test_results\")"
   ]
  },
  {
   "cell_type": "code",
   "execution_count": null,
   "id": "afcf80e4",
   "metadata": {
    "scrolled": false
   },
   "outputs": [],
   "source": [
    "from weave import context\n",
    "with context.weavejs_client():\n",
    "    x = weave.use(weave.ops.project(\"stacey\", \"mendeleev\")\n",
    "              .artifact_type(\"test_results\")\n",
    "              .artifacts()\n",
    "              [0]\n",
    "              .versions()\n",
    "              [0]\n",
    "              .path(\"test_results.table.json\")\n",
    "              .table()\n",
    "              .rows()\n",
    "              [0]\n",
    "              .pick(\"image\"))"
   ]
  }
 ],
 "metadata": {
  "kernelspec": {
   "display_name": "Python 3 (ipykernel)",
   "language": "python",
   "name": "python3"
  },
  "language_info": {
   "codemirror_mode": {
    "name": "ipython",
    "version": 3
   },
   "file_extension": ".py",
   "mimetype": "text/x-python",
   "name": "python",
   "nbconvert_exporter": "python",
   "pygments_lexer": "ipython3",
   "version": "3.9.9"
  }
 },
 "nbformat": 4,
 "nbformat_minor": 5
}
