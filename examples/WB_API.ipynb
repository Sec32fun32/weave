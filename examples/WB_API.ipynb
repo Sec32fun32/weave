{
 "cells": [
  {
   "cell_type": "code",
   "execution_count": null,
   "id": "eae3e8dd",
   "metadata": {},
   "outputs": [],
   "source": [
    "import weave"
   ]
  },
  {
   "cell_type": "code",
   "execution_count": null,
   "id": "887d88a4",
   "metadata": {},
   "outputs": [],
   "source": [
    "project = weave.ops.project('stacey', \"mendeleev\")\n",
    "#project"
   ]
  },
  {
   "cell_type": "code",
   "execution_count": null,
   "id": "b7705fb7",
   "metadata": {},
   "outputs": [],
   "source": [
    "# Doesn't work right now because artifacts() output type is not list\n",
    "panel = weave.panels.Table(weave.ops.project('stacey', \"mendeleev\").artifactType('test_results').artifacts(),\n",
    "                           columns=[\n",
    "                               lambda art: art.name_(),\n",
    "                               lambda art: art.versions().count()\n",
    "                           ])\n",
    "#weave.show(panel)"
   ]
  },
  {
   "cell_type": "code",
   "execution_count": null,
   "id": "58b26e21",
   "metadata": {},
   "outputs": [],
   "source": [
    "weave.ops.project('stacey', \"mendeleev\").artifactType('test_results').artifacts()[0].versions()[0].path('test_results.table.json')"
   ]
  },
  {
   "cell_type": "code",
   "execution_count": null,
   "id": "debbb5d4",
   "metadata": {},
   "outputs": [],
   "source": [
    "weave.ops.project('shawn', \"dsviz-simple-tables\").artifactType('dataset').artifacts()[0].versions()[5].path('my-table.table.json')"
   ]
  }
 ],
 "metadata": {
  "kernelspec": {
   "display_name": "Python 3.9.9 64-bit ('weave_internal')",
   "language": "python",
   "name": "python3"
  },
  "language_info": {
   "name": "python",
   "version": "3.9.9"
  },
  "vscode": {
   "interpreter": {
    "hash": "cdaa5b4f919dd2bcc1e1b23efc336c7178fbd1227e862ece13b7d448295c4271"
   }
  }
 },
 "nbformat": 4,
 "nbformat_minor": 5
}
