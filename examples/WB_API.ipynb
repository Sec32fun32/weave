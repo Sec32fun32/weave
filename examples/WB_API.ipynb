{
 "cells": [
  {
   "cell_type": "code",
   "execution_count": null,
   "id": "eae3e8dd",
   "metadata": {},
   "outputs": [],
   "source": [
    "import weave"
   ]
  },
  {
   "cell_type": "code",
   "execution_count": null,
   "id": "887d88a4",
   "metadata": {},
   "outputs": [],
   "source": [
    "project = weave.ops.project('stacey', \"mendeleev\")\n",
    "#project"
   ]
  },
  {
   "cell_type": "code",
   "execution_count": null,
   "id": "b7705fb7",
   "metadata": {},
   "outputs": [],
   "source": [
    "panel = weave.panels.Table(weave.ops.project('stacey', \"mendeleev\").artifactType('test_results').artifacts(),\n",
    "                           columns=[\n",
    "                               lambda art: weave.ops.artifact_collection_ops.artifact_name(art), # hack to get around shadowed `name` op\n",
    "                               lambda art: art.versions().count()\n",
    "                           ])\n",
    "weave.show(panel)"
   ]
  },
  {
   "cell_type": "code",
   "execution_count": null,
   "id": "58b26e21",
   "metadata": {},
   "outputs": [],
   "source": [
    "weave.ops.project('stacey', \"mendeleev\").artifactType('test_results').artifacts()[0].versions()[0].file('test_results.table.json')"
   ]
  },
  {
   "cell_type": "code",
   "execution_count": null,
   "id": "debbb5d4",
   "metadata": {},
   "outputs": [],
   "source": [
    "weave.ops.project('shawn', \"dsviz-simple-tables\").artifactType('dataset').artifacts()[0].versions()[5].file('my-table.table.json')"
   ]
  }
 ],
 "metadata": {
  "kernelspec": {
   "display_name": "Python 3.10.7 64-bit ('weave-python-service')",
   "language": "python",
   "name": "python3"
  },
  "language_info": {
   "codemirror_mode": {
    "name": "ipython",
    "version": 3
   },
   "file_extension": ".py",
   "mimetype": "text/x-python",
   "name": "python",
   "nbconvert_exporter": "python",
   "pygments_lexer": "ipython3",
   "version": "3.10.7"
  },
  "vscode": {
   "interpreter": {
    "hash": "13893f48ef0aea4d1a92dc5d7714b7defaf3e3489f82562788ac4c5070cab490"
   }
  }
 },
 "nbformat": 4,
 "nbformat_minor": 5
}
