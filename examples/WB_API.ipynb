{
 "cells": [
  {
   "cell_type": "code",
   "execution_count": null,
   "id": "eae3e8dd",
   "metadata": {},
   "outputs": [],
   "source": [
    "import weave"
   ]
  },
  {
   "cell_type": "code",
   "execution_count": null,
   "id": "887d88a4",
   "metadata": {},
   "outputs": [],
   "source": [
    "project = weave.ops.project('stacey', \"mendeleev\")\n",
    "#project"
   ]
  },
  {
   "cell_type": "code",
   "execution_count": null,
   "id": "b7705fb7",
   "metadata": {},
   "outputs": [],
   "source": [
    "# Doesn't work right now because artifacts() output type is not list\n",
    "panel = weave.panels.Table(weave.ops.project('stacey', \"mendeleev\").artifact_type('test_results').artifacts(),\n",
    "                           columns=[\n",
    "                               lambda art: art.name_(),\n",
    "                               lambda art: art.versions().count()\n",
    "                           ])\n",
    "#weave.show(panel)"
   ]
  },
  {
   "cell_type": "code",
   "execution_count": null,
   "id": "58b26e21",
   "metadata": {},
   "outputs": [],
   "source": [
    "weave.ops.project('stacey', \"mendeleev\").artifact_type('test_results').artifacts()[0].versions()[0].path('test_results.table.json')"
   ]
  },
  {
   "cell_type": "code",
   "execution_count": null,
   "id": "debbb5d4",
   "metadata": {},
   "outputs": [],
   "source": [
    "weave.ops.project('shawn', \"dsviz-simple-tables\").artifact_type('dataset').artifacts()[0].versions()[5].path('my-table.table.json')"
   ]
  }
 ],
 "metadata": {
  "kernelspec": {
   "display_name": "Python 3 (ipykernel)",
   "language": "python",
   "name": "python3"
  }
 },
 "nbformat": 4,
 "nbformat_minor": 5
}
