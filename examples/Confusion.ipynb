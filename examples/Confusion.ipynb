{
 "cells": [
  {
   "cell_type": "code",
   "execution_count": 1,
   "id": "51500f80",
   "metadata": {},
   "outputs": [],
   "source": [
    "import random\n",
    "import typing\n",
    "import itertools\n",
    "from PIL import Image\n",
    "import weave\n",
    "weave.use_frontend_devmode()"
   ]
  },
  {
   "cell_type": "code",
   "execution_count": 2,
   "id": "0c258714",
   "metadata": {},
   "outputs": [],
   "source": [
    "# Not really model predictions but it'll work for now\n",
    "\n",
    "ims = []\n",
    "base_im = Image.linear_gradient('L')\n",
    "for rotate in range(5):\n",
    "    for shear in range(5):\n",
    "        for i in range(random.randrange(10)):\n",
    "            ims.append({\n",
    "                'rotate': rotate,\n",
    "                'shear': shear,\n",
    "                'y': random.choice(['a', 'b', 'c']),\n",
    "                'x': random.randrange(10),\n",
    "                'image': base_im\n",
    "                    .rotate(rotate * 4)\n",
    "                    .transform((256, 256), Image.AFFINE, (1, shear / 10, 0, 0, 1, 0), Image.BICUBIC)\n",
    "            })\n",
    "#weave.show(ims)"
   ]
  },
  {
   "cell_type": "code",
   "execution_count": null,
   "id": "49501ff4",
   "metadata": {},
   "outputs": [],
   "source": [
    "plot = weave.panels.Plot(ims)\n",
    "plot.set_x(lambda row: row['rotate'])\n",
    "plot.set_y(lambda row: row['shear'])\n",
    "weave.show(plot)"
   ]
  },
  {
   "cell_type": "markdown",
   "id": "6583e01c",
   "metadata": {},
   "source": [
    "## Facet is fun!"
   ]
  },
  {
   "cell_type": "code",
   "execution_count": null,
   "id": "090d8ab8",
   "metadata": {},
   "outputs": [],
   "source": [
    "# TODO: make it work when comparing multiple\n",
    "\n",
    "facet = weave.panels.Facet(ims)\n",
    "facet.set_x(lambda row: row['rotate'])\n",
    "facet.set_y(lambda row: row['shear'])\n",
    "\n",
    "# TODO: get max count and divide\n",
    "# TODO: add PanelLayer and PanelColor and color these cells?\n",
    "\n",
    "# Should PanelNumber be an op, and this be called set Panel?\n",
    "# No need to pass defaults to PanelNumber, there are none.\n",
    "\n",
    "#print('CELL INPUT TYPE', facet.var_cell_input.type)\n",
    "#var_node = facet.var_cell_input.item_var\n",
    "#grouped_cell_input = facet.var_cell_input.groupby(lambda row: row['y'])\n",
    "from weave import graph\n",
    "def make_cell_plot(cell):\n",
    "    grouped_cell_input = cell.groupby(\n",
    "        graph.ConstNode(\n",
    "            weave.types.Function({'row': facet.var_cell_input.type}, weave.types.Int()),\n",
    "            facet.var_cell_input.var_item['y']))\n",
    "    p = weave.panels.Plot(grouped_cell_input)\n",
    "    p.set_x(lambda group: group.count())\n",
    "    p.set_y(lambda group: group.key())\n",
    "    p.set_label(lambda group: group.key())\n",
    "    p.set_mark('bar')\n",
    "    p.set_no_axes()\n",
    "    p.set_no_legend()\n",
    "    return p\n",
    "\n",
    "facet.set_select(make_cell_plot)\n",
    "\n",
    "# TODO: make detail / hover work\n",
    "facet.set_detail(lambda row: row[0]['image'])\n",
    "weave.show(facet, height=600)\n",
    "\n",
    "# Next up:\n",
    "#   - need to be able to group the panel result to Stacey's thing.\n",
    "#   - figure out how to declare all this can code\n",
    "#   - can we do the grouping without enabling the PanelPlot grouping?\n",
    "#   - can we make the plot handle single and multiple nicely?"
   ]
  },
  {
   "cell_type": "code",
   "execution_count": 5,
   "id": "315d19a7",
   "metadata": {},
   "outputs": [
    {
     "data": {
      "text/html": [
       "\n",
       "        <iframe\n",
       "            width=\"100%\"\n",
       "            height=\"600px\"\n",
       "            src=\"http://localhost:3000/index.html?fullScreen&expNode=%7B%22nodeType%22%3A%20%22output%22%2C%20%22type%22%3A%20%7B%22type%22%3A%20%22list%22%2C%20%22objectType%22%3A%20%7B%22type%22%3A%20%22typedDict%22%2C%20%22propertyTypes%22%3A%20%7B%22rotate%22%3A%20%22int%22%2C%20%22shear%22%3A%20%22int%22%2C%20%22y%22%3A%20%22string%22%2C%20%22x%22%3A%20%22int%22%2C%20%22image%22%3A%20%7B%22type%22%3A%20%22pil-image%22%2C%20%22width%22%3A%20256%2C%20%22height%22%3A%20256%2C%20%22mode%22%3A%20%22L%22%7D%7D%7D%7D%2C%20%22fromOp%22%3A%20%7B%22name%22%3A%20%22get%22%2C%20%22inputs%22%3A%20%7B%22uri%22%3A%20%7B%22nodeType%22%3A%20%22const%22%2C%20%22type%22%3A%20%7B%22type%22%3A%20%22const%22%2C%20%22valType%22%3A%20%22string%22%2C%20%22val%22%3A%20%22list-obj/fbe1e3e41eac245bd4e5c8af3983b3ec%22%7D%2C%20%22val%22%3A%20%22list-obj/fbe1e3e41eac245bd4e5c8af3983b3ec%22%7D%7D%7D%7D&panelId=plot&panelConfig=%7B%22table%22%3A%20%7B%22autoColumns%22%3A%20false%2C%20%22columns%22%3A%20%7B%22RQ9JZ9KD7MWB7J%22%3A%20%7B%22panelId%22%3A%20%22%22%2C%20%22panelConfig%22%3A%20null%7D%2C%20%22UFPFBLT54NBVLQ%22%3A%20%7B%22panelId%22%3A%20%22%22%2C%20%22panelConfig%22%3A%20null%7D%2C%20%22RWSK2OP7UDTGZS%22%3A%20%7B%22panelId%22%3A%20%22%22%2C%20%22panelConfig%22%3A%20null%7D%2C%20%22P9CPHRE2645Q4G%22%3A%20%7B%22panelId%22%3A%20%22%22%2C%20%22panelConfig%22%3A%20null%7D%2C%20%228RAWTHLTSGW3KV%22%3A%20%7B%22panelId%22%3A%20%22%22%2C%20%22panelConfig%22%3A%20null%7D%7D%2C%20%22preFilterFunction%22%3A%20%7B%22nodeType%22%3A%20%22void%22%2C%20%22type%22%3A%20%22invalid%22%7D%2C%20%22columnNames%22%3A%20%7B%22RQ9JZ9KD7MWB7J%22%3A%20%22%22%2C%20%22UFPFBLT54NBVLQ%22%3A%20%22%22%2C%20%22RWSK2OP7UDTGZS%22%3A%20%22%22%2C%20%22P9CPHRE2645Q4G%22%3A%20%22%22%2C%20%228RAWTHLTSGW3KV%22%3A%20%22%22%7D%2C%20%22columnSelectFunctions%22%3A%20%7B%22RQ9JZ9KD7MWB7J%22%3A%20%7B%22nodeType%22%3A%20%22output%22%2C%20%22type%22%3A%20%22int%22%2C%20%22fromOp%22%3A%20%7B%22name%22%3A%20%22pick%22%2C%20%22inputs%22%3A%20%7B%22obj%22%3A%20%7B%22nodeType%22%3A%20%22var%22%2C%20%22type%22%3A%20%7B%22type%22%3A%20%22typedDict%22%2C%20%22propertyTypes%22%3A%20%7B%22rotate%22%3A%20%22int%22%2C%20%22shear%22%3A%20%22int%22%2C%20%22y%22%3A%20%22string%22%2C%20%22x%22%3A%20%22int%22%2C%20%22image%22%3A%20%7B%22type%22%3A%20%22pil-image%22%2C%20%22width%22%3A%20256%2C%20%22height%22%3A%20256%2C%20%22mode%22%3A%20%22L%22%7D%7D%7D%2C%20%22varName%22%3A%20%22row%22%7D%2C%20%22key%22%3A%20%7B%22nodeType%22%3A%20%22const%22%2C%20%22type%22%3A%20%7B%22type%22%3A%20%22const%22%2C%20%22valType%22%3A%20%22string%22%2C%20%22val%22%3A%20%22rotate%22%7D%2C%20%22val%22%3A%20%22rotate%22%7D%7D%7D%7D%2C%20%22UFPFBLT54NBVLQ%22%3A%20%7B%22nodeType%22%3A%20%22output%22%2C%20%22type%22%3A%20%22int%22%2C%20%22fromOp%22%3A%20%7B%22name%22%3A%20%22count%22%2C%20%22inputs%22%3A%20%7B%22arr%22%3A%20%7B%22nodeType%22%3A%20%22var%22%2C%20%22type%22%3A%20%7B%22type%22%3A%20%22groupresult%22%2C%20%22objectType%22%3A%20%7B%22type%22%3A%20%22typedDict%22%2C%20%22propertyTypes%22%3A%20%7B%22rotate%22%3A%20%22int%22%2C%20%22shear%22%3A%20%22int%22%2C%20%22y%22%3A%20%22string%22%2C%20%22x%22%3A%20%22int%22%2C%20%22image%22%3A%20%7B%22type%22%3A%20%22pil-image%22%2C%20%22width%22%3A%20256%2C%20%22height%22%3A%20256%2C%20%22mode%22%3A%20%22L%22%7D%7D%7D%2C%20%22key%22%3A%20%22any%22%7D%2C%20%22varName%22%3A%20%22row%22%7D%7D%7D%7D%2C%20%22RWSK2OP7UDTGZS%22%3A%20%7B%22nodeType%22%3A%20%22void%22%2C%20%22type%22%3A%20%22invalid%22%7D%2C%20%22P9CPHRE2645Q4G%22%3A%20%7B%22nodeType%22%3A%20%22void%22%2C%20%22type%22%3A%20%22invalid%22%7D%2C%20%228RAWTHLTSGW3KV%22%3A%20%7B%22nodeType%22%3A%20%22void%22%2C%20%22type%22%3A%20%22invalid%22%7D%7D%2C%20%22order%22%3A%20%5B%22RQ9JZ9KD7MWB7J%22%2C%20%22UFPFBLT54NBVLQ%22%2C%20%22RWSK2OP7UDTGZS%22%2C%20%22P9CPHRE2645Q4G%22%2C%20%228RAWTHLTSGW3KV%22%5D%2C%20%22groupBy%22%3A%20%5B%22RQ9JZ9KD7MWB7J%22%5D%2C%20%22sort%22%3A%20%5B%5D%2C%20%22pageSize%22%3A%2010%2C%20%22page%22%3A%200%7D%2C%20%22dims%22%3A%20%7B%22x%22%3A%20%22RQ9JZ9KD7MWB7J%22%2C%20%22y%22%3A%20%22UFPFBLT54NBVLQ%22%2C%20%22color%22%3A%20%22RWSK2OP7UDTGZS%22%2C%20%22label%22%3A%20%22P9CPHRE2645Q4G%22%2C%20%22tooltip%22%3A%20%228RAWTHLTSGW3KV%22%7D%2C%20%22mark%22%3A%20null%2C%20%22axisSettings%22%3A%20%7B%22x%22%3A%20%7B%7D%2C%20%22y%22%3A%20%7B%7D%7D%2C%20%22legendSettings%22%3A%20%7B%7D%7D\"\n",
       "            frameborder=\"0\"\n",
       "            allowfullscreen\n",
       "            \n",
       "        ></iframe>\n",
       "        "
      ],
      "text/plain": [
       "<IPython.lib.display.IFrame at 0x10f8e58b0>"
      ]
     },
     "metadata": {},
     "output_type": "display_data"
    }
   ],
   "source": [
    "plot = weave.panels.Plot(ims)\n",
    "plot.set_x(lambda row: row['rotate'])\n",
    "plot.groupby_x()\n",
    "plot.set_y(lambda row: row.count())\n",
    "weave.show(plot, height=600)"
   ]
  },
  {
   "cell_type": "code",
   "execution_count": 13,
   "id": "4b4a3b84",
   "metadata": {},
   "outputs": [
    {
     "data": {
      "text/html": [
       "\n",
       "        <iframe\n",
       "            width=\"100%\"\n",
       "            height=\"600px\"\n",
       "            src=\"http://localhost:3000/index.html?fullScreen&expNode=%7B%22nodeType%22%3A%20%22output%22%2C%20%22type%22%3A%20%7B%22type%22%3A%20%22list%22%2C%20%22objectType%22%3A%20%7B%22type%22%3A%20%22typedDict%22%2C%20%22propertyTypes%22%3A%20%7B%22rotate%22%3A%20%22int%22%2C%20%22shear%22%3A%20%22int%22%2C%20%22y%22%3A%20%22string%22%2C%20%22x%22%3A%20%22int%22%2C%20%22image%22%3A%20%7B%22type%22%3A%20%22pil-image%22%2C%20%22width%22%3A%20256%2C%20%22height%22%3A%20256%2C%20%22mode%22%3A%20%22L%22%7D%7D%7D%7D%2C%20%22fromOp%22%3A%20%7B%22name%22%3A%20%22get%22%2C%20%22inputs%22%3A%20%7B%22uri%22%3A%20%7B%22nodeType%22%3A%20%22const%22%2C%20%22type%22%3A%20%7B%22type%22%3A%20%22const%22%2C%20%22valType%22%3A%20%22string%22%2C%20%22val%22%3A%20%22list-obj/fbe1e3e41eac245bd4e5c8af3983b3ec%22%7D%2C%20%22val%22%3A%20%22list-obj/fbe1e3e41eac245bd4e5c8af3983b3ec%22%7D%7D%7D%7D&panelId=facet&panelConfig=%7B%22table%22%3A%20%7B%22autoColumns%22%3A%20false%2C%20%22columns%22%3A%20%7B%228UB8P09FDTX0LO%22%3A%20%7B%22panelId%22%3A%20%22%22%2C%20%22panelConfig%22%3A%20null%7D%2C%20%22J6YM5J1RGBT903%22%3A%20%7B%22panelId%22%3A%20%22%22%2C%20%22panelConfig%22%3A%20null%7D%2C%20%22TKEF8IF2CJNNUK%22%3A%20%7B%22panelId%22%3A%20%22plot%22%2C%20%22panelConfig%22%3A%20%7B%22table%22%3A%20%7B%22autoColumns%22%3A%20false%2C%20%22columns%22%3A%20%7B%2283VXXZQ54O4WR5%22%3A%20%7B%22panelId%22%3A%20%22%22%2C%20%22panelConfig%22%3A%20null%7D%2C%20%22EU2M240AF13HHL%22%3A%20%7B%22panelId%22%3A%20%22%22%2C%20%22panelConfig%22%3A%20null%7D%2C%20%22TGYHJV6VJQZ38M%22%3A%20%7B%22panelId%22%3A%20%22%22%2C%20%22panelConfig%22%3A%20null%7D%2C%20%22JOBM5UUOUCOF6F%22%3A%20%7B%22panelId%22%3A%20%22%22%2C%20%22panelConfig%22%3A%20null%7D%2C%20%22WABBPL6VU3VYCS%22%3A%20%7B%22panelId%22%3A%20%22%22%2C%20%22panelConfig%22%3A%20null%7D%7D%2C%20%22preFilterFunction%22%3A%20%7B%22nodeType%22%3A%20%22void%22%2C%20%22type%22%3A%20%22invalid%22%7D%2C%20%22columnNames%22%3A%20%7B%2283VXXZQ54O4WR5%22%3A%20%22%22%2C%20%22EU2M240AF13HHL%22%3A%20%22%22%2C%20%22TGYHJV6VJQZ38M%22%3A%20%22%22%2C%20%22JOBM5UUOUCOF6F%22%3A%20%22%22%2C%20%22WABBPL6VU3VYCS%22%3A%20%22%22%7D%2C%20%22columnSelectFunctions%22%3A%20%7B%2283VXXZQ54O4WR5%22%3A%20%7B%22nodeType%22%3A%20%22output%22%2C%20%22type%22%3A%20%22int%22%2C%20%22fromOp%22%3A%20%7B%22name%22%3A%20%22count%22%2C%20%22inputs%22%3A%20%7B%22arr%22%3A%20%7B%22nodeType%22%3A%20%22var%22%2C%20%22type%22%3A%20%7B%22type%22%3A%20%22groupresult%22%2C%20%22objectType%22%3A%20%7B%22type%22%3A%20%22typedDict%22%2C%20%22propertyTypes%22%3A%20%7B%22rotate%22%3A%20%22int%22%2C%20%22shear%22%3A%20%22int%22%2C%20%22y%22%3A%20%22string%22%2C%20%22x%22%3A%20%22int%22%2C%20%22image%22%3A%20%7B%22type%22%3A%20%22pil-image%22%2C%20%22width%22%3A%20256%2C%20%22height%22%3A%20256%2C%20%22mode%22%3A%20%22L%22%7D%7D%7D%2C%20%22key%22%3A%20%22any%22%7D%2C%20%22varName%22%3A%20%22row%22%7D%7D%7D%7D%2C%20%22EU2M240AF13HHL%22%3A%20%7B%22nodeType%22%3A%20%22output%22%2C%20%22type%22%3A%20%22string%22%2C%20%22fromOp%22%3A%20%7B%22name%22%3A%20%22pick%22%2C%20%22inputs%22%3A%20%7B%22obj%22%3A%20%7B%22nodeType%22%3A%20%22var%22%2C%20%22type%22%3A%20%7B%22type%22%3A%20%22typedDict%22%2C%20%22propertyTypes%22%3A%20%7B%22rotate%22%3A%20%22int%22%2C%20%22shear%22%3A%20%22int%22%2C%20%22y%22%3A%20%22string%22%2C%20%22x%22%3A%20%22int%22%2C%20%22image%22%3A%20%7B%22type%22%3A%20%22pil-image%22%2C%20%22width%22%3A%20256%2C%20%22height%22%3A%20256%2C%20%22mode%22%3A%20%22L%22%7D%7D%7D%2C%20%22varName%22%3A%20%22row%22%7D%2C%20%22key%22%3A%20%7B%22nodeType%22%3A%20%22const%22%2C%20%22type%22%3A%20%7B%22type%22%3A%20%22const%22%2C%20%22valType%22%3A%20%22string%22%2C%20%22val%22%3A%20%22y%22%7D%2C%20%22val%22%3A%20%22y%22%7D%7D%7D%7D%2C%20%22TGYHJV6VJQZ38M%22%3A%20%7B%22nodeType%22%3A%20%22void%22%2C%20%22type%22%3A%20%22invalid%22%7D%2C%20%22JOBM5UUOUCOF6F%22%3A%20%7B%22nodeType%22%3A%20%22output%22%2C%20%22type%22%3A%20%22string%22%2C%20%22fromOp%22%3A%20%7B%22name%22%3A%20%22pick%22%2C%20%22inputs%22%3A%20%7B%22obj%22%3A%20%7B%22nodeType%22%3A%20%22var%22%2C%20%22type%22%3A%20%7B%22type%22%3A%20%22typedDict%22%2C%20%22propertyTypes%22%3A%20%7B%22rotate%22%3A%20%22int%22%2C%20%22shear%22%3A%20%22int%22%2C%20%22y%22%3A%20%22string%22%2C%20%22x%22%3A%20%22int%22%2C%20%22image%22%3A%20%7B%22type%22%3A%20%22pil-image%22%2C%20%22width%22%3A%20256%2C%20%22height%22%3A%20256%2C%20%22mode%22%3A%20%22L%22%7D%7D%7D%2C%20%22varName%22%3A%20%22row%22%7D%2C%20%22key%22%3A%20%7B%22nodeType%22%3A%20%22const%22%2C%20%22type%22%3A%20%7B%22type%22%3A%20%22const%22%2C%20%22valType%22%3A%20%22string%22%2C%20%22val%22%3A%20%22y%22%7D%2C%20%22val%22%3A%20%22y%22%7D%7D%7D%7D%2C%20%22WABBPL6VU3VYCS%22%3A%20%7B%22nodeType%22%3A%20%22void%22%2C%20%22type%22%3A%20%22invalid%22%7D%7D%2C%20%22order%22%3A%20%5B%2283VXXZQ54O4WR5%22%2C%20%22EU2M240AF13HHL%22%2C%20%22TGYHJV6VJQZ38M%22%2C%20%22JOBM5UUOUCOF6F%22%2C%20%22WABBPL6VU3VYCS%22%5D%2C%20%22groupBy%22%3A%20%5B%22EU2M240AF13HHL%22%2C%20%22JOBM5UUOUCOF6F%22%5D%2C%20%22sort%22%3A%20%5B%5D%2C%20%22pageSize%22%3A%2010%2C%20%22page%22%3A%200%7D%2C%20%22dims%22%3A%20%7B%22x%22%3A%20%2283VXXZQ54O4WR5%22%2C%20%22y%22%3A%20%22EU2M240AF13HHL%22%2C%20%22color%22%3A%20%22TGYHJV6VJQZ38M%22%2C%20%22label%22%3A%20%22JOBM5UUOUCOF6F%22%2C%20%22tooltip%22%3A%20%22WABBPL6VU3VYCS%22%7D%2C%20%22mark%22%3A%20%22bar%22%2C%20%22axisSettings%22%3A%20%7B%22x%22%3A%20%7B%22noLabels%22%3A%20true%2C%20%22noTitle%22%3A%20true%2C%20%22noTicks%22%3A%20true%7D%2C%20%22y%22%3A%20%7B%22noLabels%22%3A%20true%2C%20%22noTitle%22%3A%20true%2C%20%22noTicks%22%3A%20true%7D%7D%2C%20%22legendSettings%22%3A%20%7B%22color%22%3A%20%7B%22noLegend%22%3A%20true%7D%7D%7D%7D%2C%20%22S2M7XW9CB9BXSK%22%3A%20%7B%22panelId%22%3A%20%22%22%2C%20%22panelConfig%22%3A%20null%7D%7D%2C%20%22preFilterFunction%22%3A%20%7B%22nodeType%22%3A%20%22void%22%2C%20%22type%22%3A%20%22invalid%22%7D%2C%20%22columnNames%22%3A%20%7B%228UB8P09FDTX0LO%22%3A%20%22%22%2C%20%22J6YM5J1RGBT903%22%3A%20%22%22%2C%20%22TKEF8IF2CJNNUK%22%3A%20%22%22%2C%20%22S2M7XW9CB9BXSK%22%3A%20%22%22%7D%2C%20%22columnSelectFunctions%22%3A%20%7B%228UB8P09FDTX0LO%22%3A%20%7B%22nodeType%22%3A%20%22output%22%2C%20%22type%22%3A%20%22int%22%2C%20%22fromOp%22%3A%20%7B%22name%22%3A%20%22pick%22%2C%20%22inputs%22%3A%20%7B%22obj%22%3A%20%7B%22nodeType%22%3A%20%22var%22%2C%20%22type%22%3A%20%7B%22type%22%3A%20%22typedDict%22%2C%20%22propertyTypes%22%3A%20%7B%22rotate%22%3A%20%22int%22%2C%20%22shear%22%3A%20%22int%22%2C%20%22y%22%3A%20%22string%22%2C%20%22x%22%3A%20%22int%22%2C%20%22image%22%3A%20%7B%22type%22%3A%20%22pil-image%22%2C%20%22width%22%3A%20256%2C%20%22height%22%3A%20256%2C%20%22mode%22%3A%20%22L%22%7D%7D%7D%2C%20%22varName%22%3A%20%22row%22%7D%2C%20%22key%22%3A%20%7B%22nodeType%22%3A%20%22const%22%2C%20%22type%22%3A%20%7B%22type%22%3A%20%22const%22%2C%20%22valType%22%3A%20%22string%22%2C%20%22val%22%3A%20%22rotate%22%7D%2C%20%22val%22%3A%20%22rotate%22%7D%7D%7D%7D%2C%20%22J6YM5J1RGBT903%22%3A%20%7B%22nodeType%22%3A%20%22output%22%2C%20%22type%22%3A%20%22int%22%2C%20%22fromOp%22%3A%20%7B%22name%22%3A%20%22pick%22%2C%20%22inputs%22%3A%20%7B%22obj%22%3A%20%7B%22nodeType%22%3A%20%22var%22%2C%20%22type%22%3A%20%7B%22type%22%3A%20%22typedDict%22%2C%20%22propertyTypes%22%3A%20%7B%22rotate%22%3A%20%22int%22%2C%20%22shear%22%3A%20%22int%22%2C%20%22y%22%3A%20%22string%22%2C%20%22x%22%3A%20%22int%22%2C%20%22image%22%3A%20%7B%22type%22%3A%20%22pil-image%22%2C%20%22width%22%3A%20256%2C%20%22height%22%3A%20256%2C%20%22mode%22%3A%20%22L%22%7D%7D%7D%2C%20%22varName%22%3A%20%22row%22%7D%2C%20%22key%22%3A%20%7B%22nodeType%22%3A%20%22const%22%2C%20%22type%22%3A%20%7B%22type%22%3A%20%22const%22%2C%20%22valType%22%3A%20%22string%22%2C%20%22val%22%3A%20%22shear%22%7D%2C%20%22val%22%3A%20%22shear%22%7D%7D%7D%7D%2C%20%22TKEF8IF2CJNNUK%22%3A%20%7B%22nodeType%22%3A%20%22var%22%2C%20%22type%22%3A%20%7B%22type%22%3A%20%22groupresult%22%2C%20%22objectType%22%3A%20%7B%22type%22%3A%20%22typedDict%22%2C%20%22propertyTypes%22%3A%20%7B%22rotate%22%3A%20%22int%22%2C%20%22shear%22%3A%20%22int%22%2C%20%22y%22%3A%20%22string%22%2C%20%22x%22%3A%20%22int%22%2C%20%22image%22%3A%20%7B%22type%22%3A%20%22pil-image%22%2C%20%22width%22%3A%20256%2C%20%22height%22%3A%20256%2C%20%22mode%22%3A%20%22L%22%7D%7D%7D%2C%20%22key%22%3A%20%22any%22%7D%2C%20%22varName%22%3A%20%22row%22%7D%2C%20%22S2M7XW9CB9BXSK%22%3A%20%7B%22nodeType%22%3A%20%22void%22%2C%20%22type%22%3A%20%22invalid%22%7D%7D%2C%20%22order%22%3A%20%5B%228UB8P09FDTX0LO%22%2C%20%22J6YM5J1RGBT903%22%2C%20%22TKEF8IF2CJNNUK%22%2C%20%22S2M7XW9CB9BXSK%22%5D%2C%20%22groupBy%22%3A%20%5B%228UB8P09FDTX0LO%22%2C%20%22J6YM5J1RGBT903%22%5D%2C%20%22sort%22%3A%20%5B%5D%2C%20%22pageSize%22%3A%2010%2C%20%22page%22%3A%200%7D%2C%20%22dims%22%3A%20%7B%22x%22%3A%20%228UB8P09FDTX0LO%22%2C%20%22y%22%3A%20%22J6YM5J1RGBT903%22%2C%20%22select%22%3A%20%22TKEF8IF2CJNNUK%22%2C%20%22detail%22%3A%20%22S2M7XW9CB9BXSK%22%7D%2C%20%22cellSize%22%3A%20%7B%22w%22%3A%2050%2C%20%22h%22%3A%2050%7D%2C%20%22padding%22%3A%200%7D\"\n",
       "            frameborder=\"0\"\n",
       "            allowfullscreen\n",
       "            \n",
       "        ></iframe>\n",
       "        "
      ],
      "text/plain": [
       "<IPython.lib.display.IFrame at 0x13500d670>"
      ]
     },
     "metadata": {},
     "output_type": "display_data"
    }
   ],
   "source": [
    "facet = weave.panels.Facet(ims)\n",
    "facet.set_x(lambda row: row['rotate'])\n",
    "facet.set_y(lambda row: row['shear'])\n",
    "p = weave.panels.Plot(facet.var_cell_input)\n",
    "p.set_y(lambda cell: cell['y'])\n",
    "p.groupby_y()\n",
    "\n",
    "# Unfortunate, need to set groupby first here.\n",
    "# TODO: fix table_state.py code reconfigure types when grouping changes!\n",
    "p.groupby_label()\n",
    "p.set_label(lambda cell: cell['y'])\n",
    "p.set_x(lambda cell: cell.count())\n",
    "p.set_mark('bar')\n",
    "p.set_no_axes()\n",
    "p.set_no_legend()\n",
    "facet.set_select(lambda cell: p)\n",
    "weave.show(facet, height=600)\n"
   ]
  },
  {
   "cell_type": "code",
   "execution_count": null,
   "id": "fbd4166c",
   "metadata": {},
   "outputs": [],
   "source": [
    "# TODO: make it work when comparing multiple\n",
    "\n",
    "facet = weave.panels.Facet(ims)\n",
    "facet.set_x(lambda row: row['rotate'])\n",
    "facet.set_y(lambda row: row['shear'])\n",
    "facet.set_select(lambda row: row)\n",
    "\n",
    "# TODO: make detail / hover work\n",
    "facet.set_detail(lambda row: row[0]['image'])\n",
    "weave.show(facet, height=600)"
   ]
  },
  {
   "cell_type": "code",
   "execution_count": null,
   "id": "3e459f07",
   "metadata": {},
   "outputs": [],
   "source": [
    "# What's the Python / pandas way of doing the above (columnar)\n",
    "facet = weave.panels.Facet(ims)\n",
    "# What is this actually doing?\n",
    "# Its mapping(ims) into the name space of PanelFacet\n",
    "#   So a ConfigEditor is a component that helps me convert I into InputType of a given panel.\n",
    "# But what we want is like:\n",
    "# ims.map(lambda im: {\n",
    "#   'x': im['rotate'],\n",
    "#   'y': im['shear'],\n",
    "#   'im': im['image']\n",
    "# })\n",
    "# OR\n",
    "\n",
    "# This is really nice. You just need to map into the input shape that the panel wants.\n",
    "#    And we can provide UI mappers that help you figure out what to do.\n",
    "# grouped = ims.groupby(lambda im: {\n",
    "#   'x': im['rotate'],\n",
    "#   'y': im['shear'],\n",
    "# }).with_col(lambda group: {'count': group.count()})\n",
    "# input = grouped\n",
    "#   .with_col(lambda row: {'cell': row['count'] / grouped['count'].sum()})\n",
    "# PanelGrid(input)\n",
    "# Hmm\n",
    "#  columnar form of above would even better!\n",
    "# input = ims.groupby(im['rotate'], im['shear']).count()\n",
    "# input['cell'] = grouped['count'] / grouped['count'].sum()\n",
    "# PanelGrid(input)\n",
    "\n",
    "\n",
    "# grouped = ims.groupby(lambda im: {\n",
    "#   'x': im['rotate'],\n",
    "#   'y': im['shear'],\n",
    "# }).with_col(lambda group: {'count': group.count()})\n",
    "# input = grouped\n",
    "#   .with_col(lambda row: {'cell': row['count'] / grouped['count'].sum()})\n",
    "# Grid(input)\n",
    "\n",
    "def PanelConfusion(inp: list[T extends TypedDict], guess_col: keyof T, truth_col: keyof T) -> Panel:\n",
    "    p = PanelFacet()\n",
    "    p.set_x(lambda row: ims['guess'])\n",
    "    p.set_y(lambda row: ims['truth'])\n",
    "    p.set_select(lambda cell: cell.count(), PanelLayer(PanelColor(), PanelNumber()))\n",
    "    p.set_post_select(lambda cell: cell / facet.cells.sum())\n",
    "    p.set_panel(PanelLayer(PanelColor(), PanelNumber()))\n",
    "    p.set_on_hover()  # Enables hover (defaults)\n",
    "    # Input is list[image], but we don't force to specify the list handler\n",
    "    # we just guess a good one. The user can reconfigure in the UI if we're wrong\n",
    "    p.set_on_hover(PanelImage())\n",
    "    return p\n",
    "\n",
    "class PanelConfusionRowType(types.TypedDict):\n",
    "    guess: types.Union[str, int]\n",
    "    truth: types.Union[str, int]\n",
    "    run: types.Optional[types.Union[]]\n",
    "\n",
    "# TODO: work out how to handle config here.\n",
    "@op()\n",
    "def panel_confusion_compare(inp: list[PanelConfusionRowType], defaults: {}) -> Panel:\n",
    "    f = PanelFacet()\n",
    "    f.set_x(lambda row: ims['guess'])\n",
    "    f.set_y(lambda row: ims['truth'])\n",
    "    f.set_cell_panel(PanelPlot({\n",
    "        'x': lambda cell: cell.count(),\n",
    "        # TODO: does this work? How will this f show up in the UI expression? We need to make it a variable...\n",
    "        # So maybe facet.cells() is a variable?\n",
    "        'max_x': f.panel.x.max(),\n",
    "        'y': lambda cell: cell['run'],\n",
    "        'color': lambda cell: cell['run']\n",
    "    })\n",
    "    # TODO: on hover: show images that confused the most runs first?\n",
    "    f.set_on_hover(PanelImage())\n",
    "    return f\n",
    "\n",
    "\n",
    "# OR\n",
    "facet = weave.panels.Facet(ims, {\n",
    "    'x': ims['rotate'],\n",
    "    'y': ims['shear'],\n",
    "    'select': lambda cell: cell.count(), PanelLayer(PanelColor(), PanelNumber()),\n",
    "    'on_hover': PanelImage()\n",
    "})\n",
    "\n",
    "# But how do we get select color to be normalized?"
   ]
  },
  {
   "cell_type": "markdown",
   "id": "3708a052",
   "metadata": {},
   "source": [
    "## Create some ops to make it dynamic and interactive"
   ]
  },
  {
   "cell_type": "code",
   "execution_count": null,
   "id": "3387f185",
   "metadata": {},
   "outputs": [],
   "source": [
    "class ParamType(typing.TypedDict):\n",
    "    rotate: int\n",
    "    shear: int\n",
    "        \n",
    "@weave.op(render_info={'type': 'function'})\n",
    "def make_params(n_rotate: int, n_shear: int) -> list[ParamType]:\n",
    "    params = []\n",
    "    for rotate, shear in itertools.product(range(n_rotate), range(n_shear)):\n",
    "        params.append({\n",
    "            'rotate': rotate,\n",
    "            'shear': shear\n",
    "        })\n",
    "    return params\n",
    "\n",
    "@weave.op(render_info={'type': 'function'})\n",
    "def make_image(rotate: int, shear: int) -> Image.Image:\n",
    "    return (Image.linear_gradient('L')\n",
    "        .rotate(rotate * 4)\n",
    "        .transform((256, 256), Image.AFFINE, (1, shear / 10, 0, 0, 1, 0), Image.BICUBIC))\n",
    "\n",
    "facet = weave.panels.Facet(make_params(10, 5))\n",
    "facet.set_x(lambda row: row['rotate'])\n",
    "facet.set_y(lambda row: row['shear']) \n",
    "facet.set_select(lambda row: make_image(row[0]['rotate'], row[0]['shear']))\n",
    "weave.show(facet, height=600)"
   ]
  }
 ],
 "metadata": {
  "kernelspec": {
   "display_name": "Python 3 (ipykernel)",
   "language": "python",
   "name": "python3"
  },
  "language_info": {
   "codemirror_mode": {
    "name": "ipython",
    "version": 3
   },
   "file_extension": ".py",
   "mimetype": "text/x-python",
   "name": "python",
   "nbconvert_exporter": "python",
   "pygments_lexer": "ipython3",
   "version": "3.9.7"
  }
 },
 "nbformat": 4,
 "nbformat_minor": 5
}
