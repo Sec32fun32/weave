{
 "cells": [
  {
   "cell_type": "code",
   "execution_count": null,
   "id": "14480355",
   "metadata": {},
   "outputs": [],
   "source": [
    "import weave"
   ]
  },
  {
   "cell_type": "code",
   "execution_count": null,
   "id": "36af353f",
   "metadata": {},
   "outputs": [],
   "source": [
    "# basic number ops\n",
    "weave.use(weave.ops.Number.__add__(3, 9))"
   ]
  },
  {
   "cell_type": "code",
   "execution_count": null,
   "id": "965e1205",
   "metadata": {},
   "outputs": [],
   "source": [
    "f = weave.ops.local_path('../weave/testdata/cereal.csv')\n",
    "# Try the different table flavors here\n",
    "#table = weave.ops.file_readcsv(f)\n",
    "table = f.readcsv()\n",
    "#c = weave.ops.local_sqlconnection('sqlite:///weave/testdata/cereal.csv')\n",
    "#table = weave.ops.sqlconnection_table(c, 'cereal')\n",
    "table"
   ]
  },
  {
   "cell_type": "code",
   "execution_count": null,
   "id": "43714678",
   "metadata": {},
   "outputs": [],
   "source": [
    "# count\n",
    "weave.use(table.count())"
   ]
  },
  {
   "cell_type": "code",
   "execution_count": null,
   "id": "cc95ec18",
   "metadata": {},
   "outputs": [],
   "source": [
    "# index\n",
    "weave.use(table[0])"
   ]
  },
  {
   "cell_type": "code",
   "execution_count": null,
   "id": "839b513f",
   "metadata": {},
   "outputs": [],
   "source": [
    "# filter\n",
    "\n",
    "filter_fn = weave.define_fn(\n",
    "    {'row': weave.types.TypedDict({})},\n",
    "    lambda row: row['potass'] > 280)\n",
    "filtered = table.filter(filter_fn)\n",
    "weave.use(filtered.count())"
   ]
  },
  {
   "cell_type": "code",
   "execution_count": null,
   "id": "96a953d5",
   "metadata": {},
   "outputs": [],
   "source": [
    "# map\n",
    "\n",
    "map_fn = weave.define_fn(\n",
    "    {'row': weave.types.TypedDict({})},\n",
    "    lambda row: row['potass'])\n",
    "mapped = table.map(map_fn)\n",
    "weave.use(mapped[0])"
   ]
  },
  {
   "cell_type": "code",
   "execution_count": null,
   "id": "9bdae724",
   "metadata": {},
   "outputs": [],
   "source": [
    "# group by\n",
    "groupby_fn = weave.define_fn(\n",
    "    {'row': weave.types.TypedDict({})},\n",
    "    lambda row: row['type'])\n",
    "grouped = table.groupby(groupby_fn)\n",
    "group0 = grouped[0]\n",
    "group0key = group0.key()\n",
    "group00 = group0[0]\n",
    "weave.use((group0key, group00))"
   ]
  },
  {
   "cell_type": "code",
   "execution_count": null,
   "id": "8e5681cc",
   "metadata": {},
   "outputs": [],
   "source": []
  }
 ],
 "metadata": {
  "kernelspec": {
   "display_name": "Python 3 (ipykernel)",
   "language": "python",
   "name": "python3"
  },
  "language_info": {
   "codemirror_mode": {
    "name": "ipython",
    "version": 3
   },
   "file_extension": ".py",
   "mimetype": "text/x-python",
   "name": "python",
   "nbconvert_exporter": "python",
   "pygments_lexer": "ipython3",
   "version": "3.9.7"
  }
 },
 "nbformat": 4,
 "nbformat_minor": 5
}
