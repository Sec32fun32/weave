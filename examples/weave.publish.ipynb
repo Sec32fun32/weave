{
 "cells": [
  {
   "cell_type": "markdown",
   "id": "faf08850",
   "metadata": {},
   "source": [
    "# weave.publish\n",
    "**Save data from a notebook / interact with it in W&B Application**"
   ]
  },
  {
   "cell_type": "code",
   "execution_count": 1,
   "id": "c8386e6e",
   "metadata": {},
   "outputs": [],
   "source": [
    "import weave\n",
    "import random"
   ]
  },
  {
   "cell_type": "code",
   "execution_count": 2,
   "id": "aad6d7c1",
   "metadata": {},
   "outputs": [
    {
     "data": {
      "text/html": [
       "\n",
       "        <iframe\n",
       "            width=\"100%\"\n",
       "            height=\"400px\"\n",
       "            src=\"http://127.0.0.1:49338/__frontend/weave_jupyter/__frontend/weave_jupyter?fullScreen&expNode=%7B%22nodeType%22%3A%20%22output%22%2C%20%22type%22%3A%20%7B%22type%22%3A%20%22list%22%2C%20%22objectType%22%3A%20%7B%22type%22%3A%20%22typedDict%22%2C%20%22propertyTypes%22%3A%20%7B%22id%22%3A%20%22int%22%2C%20%22val%22%3A%20%22float%22%7D%7D%7D%2C%20%22fromOp%22%3A%20%7B%22name%22%3A%20%22get%22%2C%20%22inputs%22%3A%20%7B%22uri%22%3A%20%7B%22nodeType%22%3A%20%22const%22%2C%20%22type%22%3A%20%7B%22type%22%3A%20%22const%22%2C%20%22valType%22%3A%20%22string%22%2C%20%22val%22%3A%20%22wandb-artifact%3A//timssweeney/weave_ops/DemoTable%3Av2%22%7D%2C%20%22val%22%3A%20%22wandb-artifact%3A//timssweeney/weave_ops/DemoTable%3Av2%22%7D%7D%7D%7D\"\n",
       "            frameborder=\"0\"\n",
       "            allowfullscreen\n",
       "            \n",
       "        ></iframe>\n",
       "        "
      ],
      "text/plain": [
       "<IPython.lib.display.IFrame at 0x1576d3850>"
      ]
     },
     "metadata": {},
     "output_type": "display_data"
    }
   ],
   "source": [
    "weave.publish(\"Hello World!\", \"DemoString\")\n",
    "weave.publish([random.gauss(0, 1) for _ in range(500)], \"DemoDistribution\")\n",
    "weave.publish({\n",
    "    \"a\": \"Hello W&B!\",\n",
    "    \"b\": 42,\n",
    "    \"c\": [1,2,3,4],\n",
    "    \"d\": True\n",
    "}, \"DemoObject\")\n",
    "weave.publish([{\"id\": i, \"val\": random.gauss(0, 1)} for i in range(500)], \"DemoTable\")"
   ]
  },
  {
   "cell_type": "code",
   "execution_count": null,
   "id": "0ec01bd4",
   "metadata": {},
   "outputs": [],
   "source": []
  }
 ],
 "metadata": {
  "kernelspec": {
   "display_name": "Python 3 (ipykernel)",
   "language": "python",
   "name": "python3"
  },
  "language_info": {
   "codemirror_mode": {
    "name": "ipython",
    "version": 3
   },
   "file_extension": ".py",
   "mimetype": "text/x-python",
   "name": "python",
   "nbconvert_exporter": "python",
   "pygments_lexer": "ipython3",
   "version": "3.9.9"
  }
 },
 "nbformat": 4,
 "nbformat_minor": 5
}
