{
 "cells": [
  {
   "cell_type": "code",
   "execution_count": null,
   "id": "706f7faf",
   "metadata": {},
   "outputs": [],
   "source": [
    "import weave"
   ]
  },
  {
   "cell_type": "code",
   "execution_count": null,
   "id": "a0cc0b48",
   "metadata": {},
   "outputs": [],
   "source": [
    "# weave.use - primitive\n",
    "weave.use(1)"
   ]
  },
  {
   "cell_type": "code",
   "execution_count": null,
   "id": "a1c5368f",
   "metadata": {},
   "outputs": [],
   "source": [
    "# weave.show - primitive\n",
    "weave.show(1)"
   ]
  },
  {
   "cell_type": "code",
   "execution_count": null,
   "id": "20db3800",
   "metadata": {},
   "outputs": [],
   "source": [
    "# weave.save - primitive\n",
    "saved = weave.save(1)"
   ]
  },
  {
   "cell_type": "code",
   "execution_count": null,
   "id": "39e80aac",
   "metadata": {},
   "outputs": [],
   "source": [
    "weave.use(saved)"
   ]
  },
  {
   "cell_type": "code",
   "execution_count": null,
   "id": "b251ea82",
   "metadata": {},
   "outputs": [],
   "source": [
    "weave.show(saved)"
   ]
  },
  {
   "cell_type": "code",
   "execution_count": null,
   "id": "071b89f8",
   "metadata": {},
   "outputs": [],
   "source": [
    "published = weave.publish(1)"
   ]
  },
  {
   "cell_type": "code",
   "execution_count": null,
   "id": "040658e4",
   "metadata": {},
   "outputs": [],
   "source": [
    "weave.use(published)"
   ]
  },
  {
   "cell_type": "code",
   "execution_count": null,
   "id": "c081517c",
   "metadata": {},
   "outputs": [],
   "source": [
    "weave.show(published)"
   ]
  },
  {
   "cell_type": "code",
   "execution_count": null,
   "id": "7854a935",
   "metadata": {},
   "outputs": [],
   "source": []
  }
 ],
 "metadata": {
  "kernelspec": {
   "display_name": "Python 3 (ipykernel)",
   "language": "python",
   "name": "python3"
  },
  "language_info": {
   "codemirror_mode": {
    "name": "ipython",
    "version": 3
   },
   "file_extension": ".py",
   "mimetype": "text/x-python",
   "name": "python",
   "nbconvert_exporter": "python",
   "pygments_lexer": "ipython3",
   "version": "3.9.9"
  }
 },
 "nbformat": 4,
 "nbformat_minor": 5
}
