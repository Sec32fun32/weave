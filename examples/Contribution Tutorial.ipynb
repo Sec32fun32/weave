{
 "cells": [
  {
   "cell_type": "markdown",
   "id": "650a9fa9",
   "metadata": {},
   "source": [
    "Learnings:\n",
    "\n",
    "Given a custom type defined with `weave.type()` (& optionally a series of additional ops):\n",
    "* You can run `weave.use` on the tail node and sucessfully get a response\n",
    "* Running `weave.show` is broken with `TypeError: Object of type CUSTOM_TYPE is not JSON serializable`.\n",
    "    * This is because `def show` needs to convert the requested object to a JSON document describing the object\n",
    "        to the iframe (via URL parameter), which in turn needs to send the same (or modified) JSON back to a python\n",
    "        engine. \n",
    "    * The first, not good solution, is to call `weave.save` on the object before passing it to the ops. This converts\n",
    "        the object to a refrence, which can in fact be serialized. While this makes it work, it is not a reasonable\n",
    "        ask of users.\n",
    "    * This is becuase:\n",
    "        a. when the ConstNode is serialized, it blindly assigns it's value to the value - which in these cases, are not primitive in themselves\n",
    "        b. assuming we recurssively transform into a dictionary, we will reach some types that are not to_jsonable (like pytorch model)\n",
    "        c. in those cases, we need to basically convert to a reference (similar to weave.save).\n",
    "    * My problem is figuring out where to do this - in mappers, in the to_json of ConstNode? How does this relate to the instance_to/from_dict of the types? It feels like the later (which could be generallized in the ObjectType type). \n",
    "    * Followup, i want it to look like you are calling the constructor (like MyType(4, 5))\n",
    "    \n",
    "Potential Plan:\n",
    "* Make @weave.type() constructors somehow a weave op that returns an instance of this type. This will preserve the UI of TypeName(params)\n",
    "* Const nodes should attempt to save/serialize their value before writing it if it is of a special type.\n",
    "    \n",
    "```\n",
    "from weave.show import _show_params\n",
    "\n",
    "a = _show_params(addMagnitude(TypeExampleOne(45)))\n",
    "a['weave_node'].to_json()\n",
    "\n",
    "{'nodeType': 'output',\n",
    " 'type': 'int',\n",
    " 'fromOp': {'name': 'op-addMagnitude',\n",
    "  'inputs': {'a': {'nodeType': 'const',\n",
    "    'type': {'type': 'const',\n",
    "     'valType': {'type': 'TypeExampleOne'},\n",
    "     'val': TypeExampleOne(attr=45)},\n",
    "    'val': TypeExampleOne(attr=45)}}}}\n",
    "```"
   ]
  },
  {
   "cell_type": "code",
   "execution_count": null,
   "id": "7f79a5cc",
   "metadata": {},
   "outputs": [],
   "source": [
    "# !rm -rf /tmp/local-artifacts"
   ]
  },
  {
   "cell_type": "code",
   "execution_count": null,
   "id": "7d4f55f7",
   "metadata": {},
   "outputs": [],
   "source": [
    "import weave"
   ]
  },
  {
   "cell_type": "code",
   "execution_count": null,
   "id": "c919e0ff",
   "metadata": {},
   "outputs": [],
   "source": [
    "import random\n",
    "## Avoids cache hits\n",
    "def rand_int():\n",
    "    return int(random.random() * 1e10)\n",
    "\n",
    "def make_primitive():\n",
    "    return rand_int()"
   ]
  },
  {
   "cell_type": "code",
   "execution_count": null,
   "id": "ea6e5527",
   "metadata": {},
   "outputs": [],
   "source": [
    "# weave.use - primitive\n",
    "weave.use(make_primitive())"
   ]
  },
  {
   "cell_type": "code",
   "execution_count": null,
   "id": "8cb73ff0",
   "metadata": {},
   "outputs": [],
   "source": [
    "# weave.show - primitive\n",
    "weave.show(make_primitive())"
   ]
  },
  {
   "cell_type": "code",
   "execution_count": null,
   "id": "7eb71a12",
   "metadata": {},
   "outputs": [],
   "source": [
    "# weave.save - primitive\n",
    "saved_primitive = weave.save(make_primitive())"
   ]
  },
  {
   "cell_type": "code",
   "execution_count": null,
   "id": "c6c0ebfe",
   "metadata": {},
   "outputs": [],
   "source": [
    "# weave.use - saved primitive\n",
    "weave.use(saved_primitive)"
   ]
  },
  {
   "cell_type": "code",
   "execution_count": null,
   "id": "ce1b66d6",
   "metadata": {},
   "outputs": [],
   "source": [
    "# weave.show - saved primitive\n",
    "weave.show(saved_primitive)"
   ]
  },
  {
   "cell_type": "code",
   "execution_count": null,
   "id": "f1db101a",
   "metadata": {},
   "outputs": [],
   "source": [
    "# weave.publish - primitive\n",
    "# TODO: Does not work in CI\n",
    "# published_primitive = weave.publish(make_primitive())"
   ]
  },
  {
   "cell_type": "code",
   "execution_count": null,
   "id": "a9d4d214",
   "metadata": {},
   "outputs": [],
   "source": [
    "# weave.use - published primitive\n",
    "# TODO: Does not work in CI\n",
    "# weave.use(published_primitive)"
   ]
  },
  {
   "cell_type": "code",
   "execution_count": null,
   "id": "27e54d15",
   "metadata": {},
   "outputs": [],
   "source": [
    "# weave.show - published primitive\n",
    "# TODO: Does not work in CI\n",
    "# weave.show(published_primitive)"
   ]
  },
  {
   "cell_type": "code",
   "execution_count": null,
   "id": "42ef1f81",
   "metadata": {},
   "outputs": [],
   "source": [
    "@weave.type()\n",
    "class Fraction:\n",
    "    numerator: int\n",
    "    denominator: int\n",
    "\n",
    "    @weave.op()\n",
    "    def as_float(self) -> float:\n",
    "        return self.numerator / self.denominator\n",
    "    \n",
    "    # UGG - this should be automatic!\n",
    "    @weave.op()\n",
    "    def get_numerator(self) -> int:\n",
    "        return self.numerator\n",
    "    \n",
    "    # UGG - this should be automatic!\n",
    "    @weave.op()\n",
    "    def get_denominator(self) -> int:\n",
    "        return self.denominator\n",
    "    \n",
    "@weave.op()\n",
    "def show_fraction(frac: weave.Node[Fraction]) -> weave.panels.Group:\n",
    "    return weave.panels.Group(\n",
    "        items=[\n",
    "            weave.panels.LabeledItem(label=\"numerator\", item=frac.get_numerator()),\n",
    "            weave.panels.LabeledItem(label=\"denominator\", item=frac.get_denominator()),\n",
    "            weave.panels.LabeledItem(label=\"fraction\", item=frac.as_float()),\n",
    "        ],\n",
    "    ) \n",
    "\n",
    "def make_fraction():\n",
    "    return Fraction(rand_int(), rand_int())"
   ]
  },
  {
   "cell_type": "code",
   "execution_count": null,
   "id": "786dc081",
   "metadata": {},
   "outputs": [],
   "source": [
    "# weave.use - primitive\n",
    "weave.use(make_fraction())"
   ]
  },
  {
   "cell_type": "code",
   "execution_count": null,
   "id": "820dc4f6",
   "metadata": {},
   "outputs": [],
   "source": [
    "# weave.show - primitive\n",
    "# TODO: This requires a kernal restart\n",
    "weave.show(make_fraction())"
   ]
  },
  {
   "cell_type": "code",
   "execution_count": null,
   "id": "976a413e",
   "metadata": {},
   "outputs": [],
   "source": [
    "from weave import types\n",
    "types.TypeRegistry.has_type('Fraction')"
   ]
  },
  {
   "cell_type": "code",
   "execution_count": null,
   "id": "968b3065",
   "metadata": {},
   "outputs": [],
   "source": [
    "# weave.save - primitive\n",
    "saved_fraction = weave.save(make_fraction())"
   ]
  },
  {
   "cell_type": "code",
   "execution_count": null,
   "id": "c82e4bab",
   "metadata": {},
   "outputs": [],
   "source": [
    "# weave.use - saved primitive\n",
    "weave.use(saved_fraction)"
   ]
  },
  {
   "cell_type": "code",
   "execution_count": null,
   "id": "e9562a2e",
   "metadata": {},
   "outputs": [],
   "source": [
    "# weave.show - saved primitive\n",
    "weave.show(saved_fraction)"
   ]
  },
  {
   "cell_type": "code",
   "execution_count": null,
   "id": "01dacb50",
   "metadata": {},
   "outputs": [],
   "source": [
    "# weave.publish - primitive\n",
    "# TODO: Does not work in CI\n",
    "# published_fraction = weave.publish(make_fraction())"
   ]
  },
  {
   "cell_type": "code",
   "execution_count": null,
   "id": "22db9ab4",
   "metadata": {},
   "outputs": [],
   "source": [
    "# weave.use - published primitive\n",
    "# TODO: Does not work in CI\n",
    "# weave.use(published_fraction)"
   ]
  },
  {
   "cell_type": "code",
   "execution_count": null,
   "id": "86dd926a",
   "metadata": {},
   "outputs": [],
   "source": [
    "# weave.show - published primitive\n",
    "# TODO: Does not work in CI\n",
    "# weave.show(published_fraction)"
   ]
  },
  {
   "cell_type": "code",
   "execution_count": null,
   "id": "db2ebddd",
   "metadata": {},
   "outputs": [],
   "source": [
    "custom_result = make_fraction().as_float()\n",
    "custom_result"
   ]
  },
  {
   "cell_type": "code",
   "execution_count": null,
   "id": "92703f79",
   "metadata": {},
   "outputs": [],
   "source": []
  }
 ],
 "metadata": {
  "kernelspec": {
   "display_name": "Python 3 (ipykernel)",
   "language": "python",
   "name": "python3"
  },
  "language_info": {
   "codemirror_mode": {
    "name": "ipython",
    "version": 3
   },
   "file_extension": ".py",
   "mimetype": "text/x-python",
   "name": "python",
   "nbconvert_exporter": "python",
   "pygments_lexer": "ipython3",
   "version": "3.9.9"
  }
 },
 "nbformat": 4,
 "nbformat_minor": 5
}
