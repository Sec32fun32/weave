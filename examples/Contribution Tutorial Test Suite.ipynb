{
 "cells": [
  {
   "cell_type": "markdown",
   "id": "650a9fa9",
   "metadata": {},
   "source": [
    "Learnings:\n",
    "\n",
    "Given a custom type defined with `weave.type()` (& optionally a series of additional ops):\n",
    "* You can run `weave.use` on the tail node and sucessfully get a response\n",
    "* Running `weave.show` is broken with `TypeError: Object of type CUSTOM_TYPE is not JSON serializable`.\n",
    "    * This is because `def show` needs to convert the requested object to a JSON document describing the object\n",
    "        to the iframe (via URL parameter), which in turn needs to send the same (or modified) JSON back to a python\n",
    "        engine. \n",
    "    * The first, not good solution, is to call `weave.save` on the object before passing it to the ops. This converts\n",
    "        the object to a refrence, which can in fact be serialized. While this makes it work, it is not a reasonable\n",
    "        ask of users.\n",
    "    * This is becuase:\n",
    "        a. when the ConstNode is serialized, it blindly assigns it's value to the value - which in these cases, are not primitive in themselves\n",
    "        b. assuming we recurssively transform into a dictionary, we will reach some types that are not to_jsonable (like pytorch model)\n",
    "        c. in those cases, we need to basically convert to a reference (similar to weave.save).\n",
    "    * My problem is figuring out where to do this - in mappers, in the to_json of ConstNode? How does this relate to the instance_to/from_dict of the types? It feels like the later (which could be generallized in the ObjectType type). \n",
    "    * Followup, i want it to look like you are calling the constructor (like MyType(4, 5))\n",
    "    \n",
    "Potential Plan:\n",
    "* Make @weave.type() constructors somehow a weave op that returns an instance of this type. This will preserve the UI of TypeName(params)\n",
    "* Const nodes should attempt to save/serialize their value before writing it if it is of a special type.\n",
    "    \n",
    "```\n",
    "from weave.show import _show_params\n",
    "\n",
    "a = _show_params(addMagnitude(TypeExampleOne(45)))\n",
    "a['weave_node'].to_json()\n",
    "\n",
    "{'nodeType': 'output',\n",
    " 'type': 'int',\n",
    " 'fromOp': {'name': 'op-addMagnitude',\n",
    "  'inputs': {'a': {'nodeType': 'const',\n",
    "    'type': {'type': 'const',\n",
    "     'valType': {'type': 'TypeExampleOne'},\n",
    "     'val': TypeExampleOne(attr=45)},\n",
    "    'val': TypeExampleOne(attr=45)}}}}\n",
    "```"
   ]
  },
  {
   "cell_type": "code",
   "execution_count": 5,
   "id": "7f79a5cc",
   "metadata": {},
   "outputs": [],
   "source": [
    "# !rm -rf /tmp/local-artifacts"
   ]
  },
  {
   "cell_type": "code",
   "execution_count": 1,
   "id": "41ebe99f",
   "metadata": {},
   "outputs": [],
   "source": [
    "IS_CI = False"
   ]
  },
  {
   "cell_type": "code",
   "execution_count": 2,
   "id": "7d4f55f7",
   "metadata": {},
   "outputs": [],
   "source": [
    "import weave\n",
    "import random\n",
    "\n",
    "# Randomness allows us to avoid cache hits\n",
    "def rand_int():\n",
    "    return int(random.random() * 1e10)\n",
    "\n",
    "def run_test(label, test_case):\n",
    "    print(f\"Test: Runtime, {label}\")\n",
    "    print(f\"{weave.use(test_case())=}\")\n",
    "    weave.show(test_case())\n",
    "\n",
    "    print(f\"Test: Local Save, {label}\")\n",
    "    print(f\"{weave.use(weave.save(test_case()))=}\")\n",
    "    weave.show(weave.save(test_case()))\n",
    "    \n",
    "    # CI does not support publishing\n",
    "    if not IS_CI:\n",
    "        print(f\"Test: Remote Publish, {label}\")\n",
    "        print(f\"{weave.use(weave.publish(test_case()))=}\")\n",
    "        weave.show(weave.publish(test_case()))"
   ]
  },
  {
   "cell_type": "code",
   "execution_count": 4,
   "id": "933b9013",
   "metadata": {
    "scrolled": false
   },
   "outputs": [
    {
     "name": "stdout",
     "output_type": "stream",
     "text": [
      "Test: Runtime, Primitive Type\n",
      "weave.use(test_case())=2245773010\n"
     ]
    },
    {
     "data": {
      "text/html": [
       "\n",
       "        <iframe\n",
       "            width=\"100%\"\n",
       "            height=\"400px\"\n",
       "            src=\"http://127.0.0.1:63223/__frontend/weave_jupyter/__frontend/weave_jupyter?fullScreen&expNode=%7B%22nodeType%22%3A%20%22output%22%2C%20%22type%22%3A%20%22int%22%2C%20%22fromOp%22%3A%20%7B%22name%22%3A%20%22get%22%2C%20%22inputs%22%3A%20%7B%22uri%22%3A%20%7B%22nodeType%22%3A%20%22const%22%2C%20%22type%22%3A%20%7B%22type%22%3A%20%22const%22%2C%20%22valType%22%3A%20%22string%22%2C%20%22val%22%3A%20%22local-artifact%3A///tmp/local-artifacts/obj/351e18569cab164d6a03e425082c3163%22%7D%2C%20%22val%22%3A%20%22local-artifact%3A///tmp/local-artifacts/obj/351e18569cab164d6a03e425082c3163%22%7D%7D%7D%7D\"\n",
       "            frameborder=\"0\"\n",
       "            allowfullscreen\n",
       "            \n",
       "        ></iframe>\n",
       "        "
      ],
      "text/plain": [
       "<IPython.lib.display.IFrame at 0x145c6e6a0>"
      ]
     },
     "metadata": {},
     "output_type": "display_data"
    },
    {
     "name": "stdout",
     "output_type": "stream",
     "text": [
      "Test: Local Save, Primitive Type\n",
      "weave.use(weave.save(test_case()))=2695355217\n"
     ]
    },
    {
     "data": {
      "text/html": [
       "\n",
       "        <iframe\n",
       "            width=\"100%\"\n",
       "            height=\"400px\"\n",
       "            src=\"http://127.0.0.1:63223/__frontend/weave_jupyter/__frontend/weave_jupyter?fullScreen&expNode=%7B%22nodeType%22%3A%20%22output%22%2C%20%22type%22%3A%20%22int%22%2C%20%22fromOp%22%3A%20%7B%22name%22%3A%20%22get%22%2C%20%22inputs%22%3A%20%7B%22uri%22%3A%20%7B%22nodeType%22%3A%20%22const%22%2C%20%22type%22%3A%20%7B%22type%22%3A%20%22const%22%2C%20%22valType%22%3A%20%22string%22%2C%20%22val%22%3A%20%22local-artifact%3A///tmp/local-artifacts/int/2094a27feb3dd4a23f449e47ac6864ce%22%7D%2C%20%22val%22%3A%20%22local-artifact%3A///tmp/local-artifacts/int/2094a27feb3dd4a23f449e47ac6864ce%22%7D%7D%7D%7D\"\n",
       "            frameborder=\"0\"\n",
       "            allowfullscreen\n",
       "            \n",
       "        ></iframe>\n",
       "        "
      ],
      "text/plain": [
       "<IPython.lib.display.IFrame at 0x145c82eb0>"
      ]
     },
     "metadata": {},
     "output_type": "display_data"
    },
    {
     "name": "stdout",
     "output_type": "stream",
     "text": [
      "Test: Remote Publish, Primitive Type\n",
      "weave.use(weave.publish(test_case()))=6866243853\n"
     ]
    },
    {
     "data": {
      "text/html": [
       "\n",
       "        <iframe\n",
       "            width=\"100%\"\n",
       "            height=\"400px\"\n",
       "            src=\"http://127.0.0.1:63223/__frontend/weave_jupyter/__frontend/weave_jupyter?fullScreen&expNode=%7B%22nodeType%22%3A%20%22output%22%2C%20%22type%22%3A%20%22int%22%2C%20%22fromOp%22%3A%20%7B%22name%22%3A%20%22get%22%2C%20%22inputs%22%3A%20%7B%22uri%22%3A%20%7B%22nodeType%22%3A%20%22const%22%2C%20%22type%22%3A%20%7B%22type%22%3A%20%22const%22%2C%20%22valType%22%3A%20%22string%22%2C%20%22val%22%3A%20%22wandb-artifact%3A//timssweeney/weave_ops/int%3Av14%22%7D%2C%20%22val%22%3A%20%22wandb-artifact%3A//timssweeney/weave_ops/int%3Av14%22%7D%7D%7D%7D\"\n",
       "            frameborder=\"0\"\n",
       "            allowfullscreen\n",
       "            \n",
       "        ></iframe>\n",
       "        "
      ],
      "text/plain": [
       "<IPython.lib.display.IFrame at 0x1462fbbb0>"
      ]
     },
     "metadata": {},
     "output_type": "display_data"
    }
   ],
   "source": [
    "run_test(\"Primitive Type\", rand_int)"
   ]
  },
  {
   "cell_type": "code",
   "execution_count": 3,
   "id": "030be6c3",
   "metadata": {
    "scrolled": false
   },
   "outputs": [],
   "source": [
    "@weave.op(render_info={'type': 'function'})\n",
    "def make_number(val: int) -> int:\n",
    "    return val"
   ]
  },
  {
   "cell_type": "code",
   "execution_count": 4,
   "id": "4abab703",
   "metadata": {
    "scrolled": false
   },
   "outputs": [
    {
     "name": "stdout",
     "output_type": "stream",
     "text": [
      "Test: Runtime, Op Returning Primitive Type\n",
      "weave.use(test_case())=6802277935\n"
     ]
    },
    {
     "data": {
      "text/html": [
       "\n",
       "        <iframe\n",
       "            width=\"100%\"\n",
       "            height=\"400px\"\n",
       "            src=\"http://127.0.0.1:63935/__frontend/weave_jupyter/__frontend/weave_jupyter?fullScreen&expNode=%7B%22nodeType%22%3A%20%22output%22%2C%20%22type%22%3A%20%22int%22%2C%20%22fromOp%22%3A%20%7B%22name%22%3A%20%22op-make_number%22%2C%20%22inputs%22%3A%20%7B%22val%22%3A%20%7B%22nodeType%22%3A%20%22const%22%2C%20%22type%22%3A%20%7B%22type%22%3A%20%22const%22%2C%20%22valType%22%3A%20%22int%22%2C%20%22val%22%3A%202403928741%7D%2C%20%22val%22%3A%202403928741%7D%7D%7D%7D\"\n",
       "            frameborder=\"0\"\n",
       "            allowfullscreen\n",
       "            \n",
       "        ></iframe>\n",
       "        "
      ],
      "text/plain": [
       "<IPython.lib.display.IFrame at 0x150386a90>"
      ]
     },
     "metadata": {},
     "output_type": "display_data"
    },
    {
     "name": "stdout",
     "output_type": "stream",
     "text": [
      "Test: Local Save, Op Returning Primitive Type\n",
      "weave.use(weave.save(test_case()))=1834710707\n"
     ]
    },
    {
     "data": {
      "text/html": [
       "\n",
       "        <iframe\n",
       "            width=\"100%\"\n",
       "            height=\"400px\"\n",
       "            src=\"http://127.0.0.1:63935/__frontend/weave_jupyter/__frontend/weave_jupyter?fullScreen&expNode=%7B%22nodeType%22%3A%20%22output%22%2C%20%22type%22%3A%20%22int%22%2C%20%22fromOp%22%3A%20%7B%22name%22%3A%20%22get%22%2C%20%22inputs%22%3A%20%7B%22uri%22%3A%20%7B%22nodeType%22%3A%20%22const%22%2C%20%22type%22%3A%20%7B%22type%22%3A%20%22const%22%2C%20%22valType%22%3A%20%22string%22%2C%20%22val%22%3A%20%22local-artifact%3A///tmp/local-artifacts/int/990ef2997a9baa926aac19061ff5602f%22%7D%2C%20%22val%22%3A%20%22local-artifact%3A///tmp/local-artifacts/int/990ef2997a9baa926aac19061ff5602f%22%7D%7D%7D%7D\"\n",
       "            frameborder=\"0\"\n",
       "            allowfullscreen\n",
       "            \n",
       "        ></iframe>\n",
       "        "
      ],
      "text/plain": [
       "<IPython.lib.display.IFrame at 0x15039e160>"
      ]
     },
     "metadata": {},
     "output_type": "display_data"
    },
    {
     "name": "stdout",
     "output_type": "stream",
     "text": [
      "Test: Remote Publish, Op Returning Primitive Type\n",
      "weave.use(weave.publish(test_case()))=6348600454\n"
     ]
    },
    {
     "data": {
      "text/html": [
       "\n",
       "        <iframe\n",
       "            width=\"100%\"\n",
       "            height=\"400px\"\n",
       "            src=\"http://127.0.0.1:63935/__frontend/weave_jupyter/__frontend/weave_jupyter?fullScreen&expNode=%7B%22nodeType%22%3A%20%22output%22%2C%20%22type%22%3A%20%22int%22%2C%20%22fromOp%22%3A%20%7B%22name%22%3A%20%22get%22%2C%20%22inputs%22%3A%20%7B%22uri%22%3A%20%7B%22nodeType%22%3A%20%22const%22%2C%20%22type%22%3A%20%7B%22type%22%3A%20%22const%22%2C%20%22valType%22%3A%20%22string%22%2C%20%22val%22%3A%20%22wandb-artifact%3A//timssweeney/weave_ops/int%3Av18%22%7D%2C%20%22val%22%3A%20%22wandb-artifact%3A//timssweeney/weave_ops/int%3Av18%22%7D%7D%7D%7D\"\n",
       "            frameborder=\"0\"\n",
       "            allowfullscreen\n",
       "            \n",
       "        ></iframe>\n",
       "        "
      ],
      "text/plain": [
       "<IPython.lib.display.IFrame at 0x150b43460>"
      ]
     },
     "metadata": {},
     "output_type": "display_data"
    }
   ],
   "source": [
    "def make_number_op():\n",
    "    return make_number(rand_int())\n",
    "run_test(\"Op Returning Primitive Type\", make_number_op)"
   ]
  },
  {
   "cell_type": "code",
   "execution_count": null,
   "id": "42ef1f81",
   "metadata": {},
   "outputs": [],
   "source": [
    "@weave.type()\n",
    "class Fraction:\n",
    "    numerator: int\n",
    "    denominator: int\n",
    "\n",
    "    @weave.op()\n",
    "    def as_float(self) -> float:\n",
    "        return self.numerator / self.denominator\n",
    "    \n",
    "    # UGG - this should be automatic!\n",
    "    @weave.op()\n",
    "    def get_numerator(self) -> int:\n",
    "        return self.numerator\n",
    "    \n",
    "    # UGG - this should be automatic!\n",
    "    @weave.op()\n",
    "    def get_denominator(self) -> int:\n",
    "        return self.denominator\n",
    "    \n",
    "@weave.op()\n",
    "def show_fraction(frac: weave.Node[Fraction]) -> weave.panels.Group:\n",
    "    return weave.panels.Group(\n",
    "        items=[\n",
    "            weave.panels.LabeledItem(label=\"numerator\", item=frac.get_numerator()),\n",
    "            weave.panels.LabeledItem(label=\"denominator\", item=frac.get_denominator()),\n",
    "            weave.panels.LabeledItem(label=\"fraction\", item=frac.as_float()),\n",
    "        ],\n",
    "    ) \n",
    "\n",
    "def make_fraction():\n",
    "    return Fraction(rand_int(), rand_int())"
   ]
  },
  {
   "cell_type": "code",
   "execution_count": null,
   "id": "e069d81e",
   "metadata": {
    "scrolled": false
   },
   "outputs": [],
   "source": [
    "# # broken cases:\n",
    "# # weave.show(make_fraction().as_float()) # Broken\n",
    "# # weave.show(weave.save(make_fraction().as_float())) # Broken\n",
    "\n",
    "# # Custom testing\n",
    "# import weave\n",
    "# from weave.show import _show_params, make_refs\n",
    "# # import json\n",
    "\n",
    "# @weave.op()\n",
    "# def make_number(val: int) -> int:\n",
    "#     return val\n",
    "\n",
    "# # obj = weave.save(make_fraction().as_float())\n",
    "# # obj = weave.save(make_fraction().as_float())\n",
    "# obj = weave.save(make_number(1))\n",
    "# # obj = make_fraction()\n",
    "# # params = _show_params(obj)\n",
    "# ref = make_refs(obj)\n",
    "# print(ref)\n",
    "# # json.dumps(params[\"weave_node\"].to_json())\n",
    "# obj.from_op.name\n",
    "# type(obj)"
   ]
  },
  {
   "cell_type": "code",
   "execution_count": null,
   "id": "fcc273a5",
   "metadata": {},
   "outputs": [],
   "source": [
    "run_test(\"Custom Type\", make_fraction)"
   ]
  },
  {
   "cell_type": "code",
   "execution_count": null,
   "id": "8f9844ff",
   "metadata": {},
   "outputs": [],
   "source": [
    "def make_custom_chained():\n",
    "    return make_fraction().as_float()\n",
    "\n",
    "run_test(\"Custom Type with Chained Op\", make_custom_chained)"
   ]
  },
  {
   "cell_type": "code",
   "execution_count": null,
   "id": "e8a37e39",
   "metadata": {},
   "outputs": [],
   "source": []
  }
 ],
 "metadata": {
  "kernelspec": {
   "display_name": "Python 3 (ipykernel)",
   "language": "python",
   "name": "python3"
  },
  "language_info": {
   "codemirror_mode": {
    "name": "ipython",
    "version": 3
   },
   "file_extension": ".py",
   "mimetype": "text/x-python",
   "name": "python",
   "nbconvert_exporter": "python",
   "pygments_lexer": "ipython3",
   "version": "3.9.9"
  }
 },
 "nbformat": 4,
 "nbformat_minor": 5
}
