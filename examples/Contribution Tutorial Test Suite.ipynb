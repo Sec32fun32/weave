{
 "cells": [
  {
   "cell_type": "markdown",
   "id": "650a9fa9",
   "metadata": {},
   "source": [
    "# Contribution Tutorial Test Suite\n",
    "\n",
    "This test suite demonstrates the permutations of the following:\n",
    "- Node Type: \n",
    "    - local runtime created\n",
    "    - weave.save(d)\n",
    "    - weave.publish(ed)\n",
    "- Node Compisition: \n",
    "    - Primitive Python Value (int)\n",
    "    - Op returning primitive (make_number)\n",
    "    - Custom Type (Fraction)\n",
    "    - Op Consuming Custom Producing Primitive (to_float)\n",
    "    - Op COnsiming Custom Producting Custom (reduce)"
   ]
  },
  {
   "cell_type": "code",
   "execution_count": null,
   "id": "7f79a5cc",
   "metadata": {},
   "outputs": [],
   "source": [
    "# !rm -rf /tmp/local-artifacts"
   ]
  },
  {
   "cell_type": "code",
   "execution_count": null,
   "id": "afba9cfb",
   "metadata": {},
   "outputs": [],
   "source": [
    "IS_CI = False"
   ]
  },
  {
   "cell_type": "code",
   "execution_count": null,
   "id": "7d4f55f7",
   "metadata": {},
   "outputs": [],
   "source": [
    "import weave\n",
    "import random\n",
    "\n",
    "# Randomness allows us to avoid cache hits\n",
    "def rand_int():\n",
    "    return int(random.random() * 1e10)\n",
    "\n",
    "def run_test(label, test_case):\n",
    "    print(f\"Test: Runtime, {label}\")\n",
    "    print(f\"{weave.use(test_case())=}\")\n",
    "    weave.show(test_case())\n",
    "\n",
    "    print(f\"Test: Local Save, {label}\")\n",
    "    print(f\"{weave.use(weave.save(test_case()))=}\")\n",
    "    weave.show(weave.save(test_case()))\n",
    "    \n",
    "    # CI does not support publishing\n",
    "    if not IS_CI:\n",
    "        print(f\"Test: Remote Publish, {label}\")\n",
    "        print(f\"{weave.use(weave.publish(test_case()))=}\")\n",
    "        weave.show(weave.publish(test_case()))"
   ]
  },
  {
   "cell_type": "code",
   "execution_count": null,
   "id": "a9acd51e",
   "metadata": {
    "scrolled": false
   },
   "outputs": [],
   "source": [
    "run_test(\"Primitive Type\", rand_int)"
   ]
  },
  {
   "cell_type": "code",
   "execution_count": null,
   "id": "aca2f041",
   "metadata": {
    "scrolled": false
   },
   "outputs": [],
   "source": [
    "@weave.op(render_info={'type': 'function'})\n",
    "def make_number(val: int) -> int:\n",
    "    return val"
   ]
  },
  {
   "cell_type": "code",
   "execution_count": null,
   "id": "4788eb27",
   "metadata": {
    "scrolled": false
   },
   "outputs": [],
   "source": [
    "def make_number_op():\n",
    "    return make_number(rand_int())\n",
    "run_test(\"Op Returning Primitive Type\", make_number_op)"
   ]
  },
  {
   "cell_type": "code",
   "execution_count": null,
   "id": "42ef1f81",
   "metadata": {},
   "outputs": [],
   "source": [
    "import math\n",
    "\n",
    "@weave.type()\n",
    "class Fraction:\n",
    "    numerator: int\n",
    "    denominator: int\n",
    "\n",
    "    @weave.op()\n",
    "    def as_float(self) -> float:\n",
    "        return self.numerator / self.denominator\n",
    "    \n",
    "    @weave.op()\n",
    "    def reduce(self) -> Fraction:\n",
    "        gcd = math.gcd(self.numerator, self.denominator)\n",
    "        return Fraction(int(self.numerator / gcd), int(self.denominator / gcd))\n",
    "    \n",
    "    # UGG - this should be automatic!\n",
    "    @weave.op()\n",
    "    def get_numerator(self) -> int:\n",
    "        return self.numerator\n",
    "    \n",
    "    # UGG - this should be automatic!\n",
    "    @weave.op()\n",
    "    def get_denominator(self) -> int:\n",
    "        return self.denominator\n",
    "    \n",
    "@weave.op()\n",
    "def show_fraction(frac: weave.Node[Fraction]) -> weave.panels.Group:\n",
    "    return weave.panels.Group(\n",
    "        items=[\n",
    "            weave.panels.LabeledItem(label=\"numerator\", item=frac.get_numerator()),\n",
    "            weave.panels.LabeledItem(label=\"denominator\", item=frac.get_denominator()),\n",
    "            weave.panels.LabeledItem(label=\"fraction\", item=frac.as_float()),\n",
    "        ],\n",
    "    ) \n",
    "\n",
    "def make_fraction():\n",
    "    return Fraction(rand_int(), rand_int())"
   ]
  },
  {
   "cell_type": "code",
   "execution_count": null,
   "id": "82ba09af",
   "metadata": {},
   "outputs": [],
   "source": [
    "run_test(\"Custom Type\", make_fraction)"
   ]
  },
  {
   "cell_type": "code",
   "execution_count": null,
   "id": "23623a0c",
   "metadata": {},
   "outputs": [],
   "source": [
    "def make_custom_chained():\n",
    "    return make_fraction().as_float()\n",
    "\n",
    "run_test(\"Custom Type to Chained Op to Primitive\", make_custom_chained)"
   ]
  },
  {
   "cell_type": "code",
   "execution_count": null,
   "id": "fdc0500e",
   "metadata": {},
   "outputs": [],
   "source": [
    "def make_custom_chained_to_custom():\n",
    "    return make_fraction().reduce()\n",
    "\n",
    "run_test(\"Custom Type to Chained Op to Custom Type\", make_custom_chained_to_custom)"
   ]
  },
  {
   "cell_type": "code",
   "execution_count": null,
   "id": "e74df37d",
   "metadata": {},
   "outputs": [],
   "source": []
  }
 ],
 "metadata": {
  "kernelspec": {
   "display_name": "Python 3 (ipykernel)",
   "language": "python",
   "name": "python3"
  },
  "language_info": {
   "codemirror_mode": {
    "name": "ipython",
    "version": 3
   },
   "file_extension": ".py",
   "mimetype": "text/x-python",
   "name": "python",
   "nbconvert_exporter": "python",
   "pygments_lexer": "ipython3",
   "version": "3.9.9"
  }
 },
 "nbformat": 4,
 "nbformat_minor": 5
}
