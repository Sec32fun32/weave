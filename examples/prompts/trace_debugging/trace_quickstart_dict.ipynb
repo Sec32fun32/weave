{
 "cells": [
  {
   "cell_type": "markdown",
   "id": "c9ef070a",
   "metadata": {},
   "source": [
    "# Manually Logging Nested Traces with TraceSpanDict and StreamTable"
   ]
  },
  {
   "cell_type": "markdown",
   "id": "b94a5152",
   "metadata": {},
   "source": [
    "\n",
    "This documentation provides a guide on how to use `TraceSpanDict` and `StreamTable` for manual logging of nested traces in your LLM applications.\n",
    "\n",
    "# Overview\n",
    "\n",
    "In machine learning, particularly when working with large language models (LLMs), it's crucial to track the flow of information and performance across different components. W&B’s Traces tool is instrumental in visualizing and understanding the interactions within LLM chains, encompassing aspects like input/output data, execution flow, model architecture, and intermediate results.\n",
    "\n",
    "## Key Concepts\n",
    "\n",
    "`Trace`: A trace is a collection of spans that records a structured operation, such as data retrieval or processing within an LLM chain. It's a tool to visualize the flow and integration of components in LLM pipelining or chaining.\n",
    "\n",
    "`Span`: In the context of Traces, a span represents an individual operation or processing segment in the LLM chain, like a document lookup or a model inference step. Spans are uniquely identified (span_id) and can be linked hierarchically.\n",
    "\n",
    "## Components\n",
    "\n",
    "`TraceSpanDict`: This data structure encapsulates a span's details — capturing aspects like the operation name, unique identifiers, timestamps, and parent-child relationships among spans.\n",
    "\n",
    "`StreamTable`: Used for logging and monitoring spans, StreamTable helps in reviewing the overall inputs and outputs, and in tracing the execution flow within an LLM chain.\n",
    "\n",
    "\n",
    "- `name`: The name of the span (e.g., 'HTTPRequest').\n",
    "- `span_id`: A unique identifier for the span.\n",
    "- `trace_id`: The identifier of the trace this span belongs to.\n",
    "- `parent_id`: The ID of this span's parent span (if any).\n",
    "- `start_time_s`: The start time of the span (in seconds).\n",
    "- `end_time_s`: The end time of the span (in seconds).\n",
    "Other span attributes, such as status codes, inputs, outputs, etc.\n",
    "\n",
    "\n",
    "## Quickstart Guide\n",
    "1. Installation\n",
    "\n",
    "Ensure you have the required packages installed:"
   ]
  },
  {
   "cell_type": "code",
   "execution_count": null,
   "id": "26a5b1bf",
   "metadata": {},
   "outputs": [],
   "source": [
    "!pip install wandb weave"
   ]
  },
  {
   "cell_type": "markdown",
   "id": "1eb78cb3",
   "metadata": {},
   "source": [
    "2. Log in to W&B"
   ]
  },
  {
   "cell_type": "code",
   "execution_count": null,
   "id": "e8f53755",
   "metadata": {},
   "outputs": [],
   "source": [
    "import wandb\n",
    "wandb.login()"
   ]
  },
  {
   "cell_type": "markdown",
   "id": "c57bcd42",
   "metadata": {},
   "source": [
    "3. Logging a Trace with Nested Spans"
   ]
  },
  {
   "cell_type": "code",
   "execution_count": null,
   "id": "8fed46e2",
   "metadata": {},
   "outputs": [],
   "source": [
    "WB_PROJECT = 'your_project_name'\n",
    "WB_STREAM = 'your_stream_name'\n",
    "\n",
    "from uuid import uuid4\n",
    "import datetime\n",
    "from weave.monitoring import StreamTable\n",
    "from weave.stream_data_interfaces import TraceSpanDict\n"
   ]
  },
  {
   "cell_type": "markdown",
   "id": "58136669",
   "metadata": {},
   "source": [
    "## Log Nested Spans\n",
    "\n",
    "Here’s how to log a simple nested trace:\n",
    "\n",
    "Each operation within the trace can be logged as a nested span, with parent_id set to the ID of the immediate parent span. You can tailor the `attributes`, `inputs`, `outputs`, and `summary` fields in your trace logs to match the inputs and outputs of your system. Here's an example setup:"
   ]
  },
  {
   "cell_type": "code",
   "execution_count": null,
   "id": "84038237",
   "metadata": {},
   "outputs": [],
   "source": [
    "trace_id = str(uuid4()) # top level grouping\n",
    "root_span_id = str(uuid4()) # used as parent_id for nested spans\n",
    "prev_end_time = None\n",
    "start_time = datetime.datetime.now().timestamp()\n",
    "for i in range(10):\n",
    "    nested_span_id = str(uuid4())\n",
    "    nested_start_time = prev_end_time if prev_end_time is not None else start_time\n",
    "    end_time = datetime.datetime.now().timestamp()\n",
    "    nested_span = TraceSpanDict(\n",
    "        name='NestedOperation',\n",
    "        span_id=nested_span_id,\n",
    "        trace_id=trace_id,\n",
    "        parent_id=root_span_id, # set to None if you want to automatically create a root span in the UI\n",
    "        start_time_s=nested_start_time,\n",
    "        end_time_s=end_time,\n",
    "        status_code='SUCCESS',\n",
    "        attributes={},\n",
    "        inputs=dict(input='hello nested',params={\"temp\": 0.7}),\n",
    "        outputs=dict(output=\"hello to you 2\"),\n",
    "        summary={},\n",
    "        exception=None,\n",
    "    )\n",
    "    prev_end_time = end_time\n",
    "    st.log(nested_span)"
   ]
  },
  {
   "cell_type": "markdown",
   "id": "32012276",
   "metadata": {},
   "source": [
    "If you don't define a `parent_id`, all logged spans linked by the same `trace_id` will be part of the same trace and the UI will show a root span. Alternatively, as we did above, you can choose to group your spans yourself by logging the root span manually and using it's `span_id` as the `parent_id` of nested spans, this gives you greater control of the top level information."
   ]
  },
  {
   "cell_type": "markdown",
   "id": "3c9dae40",
   "metadata": {},
   "source": [
    "# Log the root span"
   ]
  },
  {
   "cell_type": "code",
   "execution_count": null,
   "id": "4b06580b",
   "metadata": {},
   "outputs": [],
   "source": [
    "root_span = TraceSpanDict(\n",
    "    name='Exchange',\n",
    "    span_id=root_span_id,\n",
    "    trace_id=trace_id,\n",
    "    parent_id=None, # logged top level span has parend_id=None\n",
    "    start_time_s=start_time,\n",
    "    end_time_s=datetime.datetime.now().timestamp(),\n",
    "    status_code='SUCCESS',\n",
    "    attributes=dict(\n",
    "        username='Geoffrey',\n",
    "        prompt='you are a chatbot',\n",
    "        operation_type=\"Chat\" \n",
    "    ),\n",
    "    inputs=dict(input='hello',params={\"temp\": 0.7}),\n",
    "    outputs=dict(output=\"hello to you\"),\n",
    "    summary={},\n",
    "    exception=None,\n",
    ")\n",
    "st.log(root_span)"
   ]
  },
  {
   "cell_type": "markdown",
   "id": "fa2812ad",
   "metadata": {},
   "source": [
    "## Conclusion\n",
    "\n",
    "This guide helps you manually log nested traces in your applications using `TraceSpanDict` and `StreamTable`. Proper implementation of tracing provides deep insights into the performance and behavior of your applications, aiding in debugging and performance optimization when using LLMs."
   ]
  }
 ],
 "metadata": {
  "kernelspec": {
   "display_name": "Python 3 (ipykernel)",
   "language": "python",
   "name": "python3"
  },
  "language_info": {
   "codemirror_mode": {
    "name": "ipython",
    "version": 3
   },
   "file_extension": ".py",
   "mimetype": "text/x-python",
   "name": "python",
   "nbconvert_exporter": "python",
   "pygments_lexer": "ipython3",
   "version": "3.10.11"
  }
 },
 "nbformat": 4,
 "nbformat_minor": 5
}
