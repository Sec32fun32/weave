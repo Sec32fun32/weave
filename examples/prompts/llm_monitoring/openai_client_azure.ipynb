{
 "cells": [
  {
   "cell_type": "code",
   "execution_count": null,
   "id": "385aadd9-e901-4b43-97ca-cc10cf920e9c",
   "metadata": {},
   "outputs": [],
   "source": [
    "# adpated from Azure docs here: https://learn.microsoft.com/en-us/azure/ai-services/openai/quickstart?pivots=programming-language-python\n",
    "\n",
    "# Set the openai settings on the base openai object\n",
    "import openai\n",
    "\n",
    "\n",
    "openai.api_key = <TODO: use your deployment api key>\n",
    "openai.api_base = \"https://<TODO: get your deployment>.openai.azure.com\" # your endpoint should look like the following https://YOUR_RESOURCE_NAME.openai.azure.com/\n",
    "openai.api_type = 'azure'\n",
    "openai.api_version = '2023-05-15' # this may change in the future\n",
    "\n",
    "MODEL_DEPLOYMENT_NAME = <TODO: use your model deployment name>"
   ]
  },
  {
   "cell_type": "code",
   "execution_count": null,
   "id": "875862df-4b17-4ecd-ad1a-1b704f8ab504",
   "metadata": {},
   "outputs": [],
   "source": [
    "# set W&B variables for where the stream table will go\n",
    "import os\n",
    "\n",
    "os.environ[\"WANDB_BASE_URL\"] = <TODO>\n",
    "os.environ[\"WANDB_API_KEY\"] = <TODO>\n",
    "WB_ENTITY = \"\" # set to your wandb username or team name\n",
    "WB_PROJECT = \"llmon\" # top-level directory for this work\n",
    "STREAM_NAME = \"azure_openai_logs\" # record table which stores the logs of OpenAI API calls as they stream in"
   ]
  },
  {
   "cell_type": "code",
   "execution_count": null,
   "id": "20e71e1d-961c-4bad-baf9-cd0ae4f70616",
   "metadata": {},
   "outputs": [],
   "source": [
    "from weave.monitoring import openai as weave_openai, init_monitor\n",
    "\n",
    "m = init_monitor(f\"{WB_ENTITY}/{WB_PROJECT}/{STREAM_NAME}\")"
   ]
  },
  {
   "cell_type": "code",
   "execution_count": null,
   "id": "bd0a9f6b-dfff-49ae-b58c-38cbafcf2449",
   "metadata": {},
   "outputs": [],
   "source": [
    "response = weave_openai.ChatCompletion.create(\n",
    "    engine=MODEL_DEPLOYMENT_NAME,\n",
    "    messages=[\n",
    "        {\"role\": \"system\", \"content\": \"You are a helpful assistant.\"},\n",
    "        {\"role\": \"user\", \"content\": \"Who won the world series in 2020?\"}\n",
    "    ]\n",
    ")"
   ]
  }
 ],
 "metadata": {
  "kernelspec": {
   "display_name": "Python 3 (ipykernel)",
   "language": "python",
   "name": "python3"
  },
  "language_info": {
   "codemirror_mode": {
    "name": "ipython",
    "version": 3
   },
   "file_extension": ".py",
   "mimetype": "text/x-python",
   "name": "python",
   "nbconvert_exporter": "python",
   "pygments_lexer": "ipython3",
   "version": "3.11.3"
  }
 },
 "nbformat": 4,
 "nbformat_minor": 5
}
