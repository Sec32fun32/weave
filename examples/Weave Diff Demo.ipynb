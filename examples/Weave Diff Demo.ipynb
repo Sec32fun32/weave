{
 "cells": [
  {
   "cell_type": "markdown",
   "id": "e5b5dfcc",
   "metadata": {},
   "source": [
    "## Create dummy data"
   ]
  },
  {
   "cell_type": "code",
   "execution_count": 1,
   "id": "15874983",
   "metadata": {},
   "outputs": [
    {
     "name": "stderr",
     "output_type": "stream",
     "text": [
      "\u001b[34m\u001b[1mwandb\u001b[0m: Currently logged in as: \u001b[33mmegatruong\u001b[0m. Use \u001b[1m`wandb login --relogin`\u001b[0m to force relogin\n"
     ]
    },
    {
     "data": {
      "text/html": [
       "Tracking run with wandb version 0.13.4"
      ],
      "text/plain": [
       "<IPython.core.display.HTML object>"
      ]
     },
     "metadata": {},
     "output_type": "display_data"
    },
    {
     "data": {
      "text/html": [
       "Run data is saved locally in <code>/Users/andrewtruong/repos/weave-int/examples/wandb/run-20221027_174713-lc55qv3f</code>"
      ],
      "text/plain": [
       "<IPython.core.display.HTML object>"
      ]
     },
     "metadata": {},
     "output_type": "display_data"
    },
    {
     "data": {
      "text/html": [
       "Syncing run <strong><a href=\"https://wandb.ai/megatruong/hackweave2/runs/lc55qv3f\" target=\"_blank\">laced-yogurt-1</a></strong> to <a href=\"https://wandb.ai/megatruong/hackweave2\" target=\"_blank\">Weights & Biases</a> (<a href=\"https://wandb.me/run\" target=\"_blank\">docs</a>)<br/>"
      ],
      "text/plain": [
       "<IPython.core.display.HTML object>"
      ]
     },
     "metadata": {},
     "output_type": "display_data"
    },
    {
     "name": "stderr",
     "output_type": "stream",
     "text": [
      "\u001b[34m\u001b[1mwandb\u001b[0m: Adding directory to artifact (./temp)... Done. 0.0s\n"
     ]
    },
    {
     "data": {
      "text/html": [
       "Waiting for W&B process to finish... <strong style=\"color:green\">(success).</strong>"
      ],
      "text/plain": [
       "<IPython.core.display.HTML object>"
      ]
     },
     "metadata": {},
     "output_type": "display_data"
    },
    {
     "data": {
      "text/html": [
       "Synced <strong style=\"color:#cdcd00\">laced-yogurt-1</strong>: <a href=\"https://wandb.ai/megatruong/hackweave2/runs/lc55qv3f\" target=\"_blank\">https://wandb.ai/megatruong/hackweave2/runs/lc55qv3f</a><br/>Synced 6 W&B file(s), 0 media file(s), 1 artifact file(s) and 0 other file(s)"
      ],
      "text/plain": [
       "<IPython.core.display.HTML object>"
      ]
     },
     "metadata": {},
     "output_type": "display_data"
    },
    {
     "data": {
      "text/html": [
       "Find logs at: <code>./wandb/run-20221027_174713-lc55qv3f/logs</code>"
      ],
      "text/plain": [
       "<IPython.core.display.HTML object>"
      ]
     },
     "metadata": {},
     "output_type": "display_data"
    },
    {
     "data": {
      "text/html": [
       "Tracking run with wandb version 0.13.4"
      ],
      "text/plain": [
       "<IPython.core.display.HTML object>"
      ]
     },
     "metadata": {},
     "output_type": "display_data"
    },
    {
     "data": {
      "text/html": [
       "Run data is saved locally in <code>/Users/andrewtruong/repos/weave-int/examples/wandb/run-20221027_174745-3v4xbo7i</code>"
      ],
      "text/plain": [
       "<IPython.core.display.HTML object>"
      ]
     },
     "metadata": {},
     "output_type": "display_data"
    },
    {
     "data": {
      "text/html": [
       "Syncing run <strong><a href=\"https://wandb.ai/megatruong/hackweave2/runs/3v4xbo7i\" target=\"_blank\">young-yogurt-2</a></strong> to <a href=\"https://wandb.ai/megatruong/hackweave2\" target=\"_blank\">Weights & Biases</a> (<a href=\"https://wandb.me/run\" target=\"_blank\">docs</a>)<br/>"
      ],
      "text/plain": [
       "<IPython.core.display.HTML object>"
      ]
     },
     "metadata": {},
     "output_type": "display_data"
    },
    {
     "name": "stderr",
     "output_type": "stream",
     "text": [
      "\u001b[34m\u001b[1mwandb\u001b[0m: Adding directory to artifact (./temp)... Done. 0.0s\n"
     ]
    },
    {
     "data": {
      "text/html": [
       "Waiting for W&B process to finish... <strong style=\"color:green\">(success).</strong>"
      ],
      "text/plain": [
       "<IPython.core.display.HTML object>"
      ]
     },
     "metadata": {},
     "output_type": "display_data"
    },
    {
     "data": {
      "text/html": [
       "Synced <strong style=\"color:#cdcd00\">young-yogurt-2</strong>: <a href=\"https://wandb.ai/megatruong/hackweave2/runs/3v4xbo7i\" target=\"_blank\">https://wandb.ai/megatruong/hackweave2/runs/3v4xbo7i</a><br/>Synced 6 W&B file(s), 0 media file(s), 2 artifact file(s) and 0 other file(s)"
      ],
      "text/plain": [
       "<IPython.core.display.HTML object>"
      ]
     },
     "metadata": {},
     "output_type": "display_data"
    },
    {
     "data": {
      "text/html": [
       "Find logs at: <code>./wandb/run-20221027_174745-3v4xbo7i/logs</code>"
      ],
      "text/plain": [
       "<IPython.core.display.HTML object>"
      ]
     },
     "metadata": {},
     "output_type": "display_data"
    }
   ],
   "source": [
    "CREATE_DUMMY = True\n",
    "\n",
    "if CREATE_DUMMY:\n",
    "    import wandb\n",
    "    from pathlib import Path\n",
    "    \n",
    "    !rm -rf temp\n",
    "    \n",
    "    p = Path('temp/')\n",
    "    p.mkdir(parents=True, exist_ok=True)\n",
    "\n",
    "    for x in range(0, 10):\n",
    "        filepath = p / f'file{x}.txt'\n",
    "        with filepath.open('w') as f:\n",
    "            f.write('abc')\n",
    "    for x in range(10, 20):\n",
    "        filepath = p / f'file{x}.txt'\n",
    "        with filepath.open('w') as f:\n",
    "            f.write('abc')\n",
    "    for x in range(20, 30):\n",
    "        filepath = p / f'file{x}.txt'\n",
    "        with filepath.open('w') as f:\n",
    "            f.write('abc')\n",
    "            \n",
    "    with wandb.init(project='hackweave2') as run:\n",
    "        art = wandb.Artifact('files', type='files')\n",
    "        art.add_dir('temp')\n",
    "        run.log_artifact(art)\n",
    "        \n",
    "    !rm -rf temp\n",
    "    \n",
    "    p = Path('temp/')\n",
    "    p.mkdir(parents=True, exist_ok=True)\n",
    "\n",
    "    for x in range(10, 20):\n",
    "        filepath = p / f'file{x}.txt'\n",
    "        with filepath.open('w') as f:\n",
    "            f.write('abc')\n",
    "    for x in range(20, 30):\n",
    "        filepath = p / f'file{x}.txt'\n",
    "        with filepath.open('w') as f:\n",
    "            f.write('def')\n",
    "    for x in range(30, 40):\n",
    "        filepath = p / f'file{x}.txt'\n",
    "        with filepath.open('w') as f:\n",
    "            f.write('def')\n",
    "\n",
    "    with wandb.init(project='hackweave2') as run:\n",
    "        art = wandb.Artifact('files', type='files')\n",
    "        art.add_dir('temp')\n",
    "        run.log_artifact(art)"
   ]
  },
  {
   "cell_type": "markdown",
   "id": "56f9c5f8",
   "metadata": {},
   "source": [
    "## Diff them"
   ]
  },
  {
   "cell_type": "code",
   "execution_count": 2,
   "id": "38fec2b9",
   "metadata": {},
   "outputs": [
    {
     "name": "stderr",
     "output_type": "stream",
     "text": [
      "/Users/andrewtruong/.pyenv/versions/3.9.7/envs/weave_internal/lib/python3.9/site-packages/tqdm/auto.py:22: TqdmWarning: IProgress not found. Please update jupyter and ipywidgets. See https://ipywidgets.readthedocs.io/en/stable/user_install.html\n",
      "  from .autonotebook import tqdm as notebook_tqdm\n"
     ]
    }
   ],
   "source": [
    "import weave"
   ]
  },
  {
   "cell_type": "code",
   "execution_count": 3,
   "id": "5463d9d9",
   "metadata": {},
   "outputs": [],
   "source": [
    "old_artifact = (\n",
    "    weave.ops.project(\"megatruong\", \"hackweave2\")\n",
    "        .artifact_type(\"files\")\n",
    "        .artifacts()[0]\n",
    "        .versions()[0])\n",
    "\n",
    "new_artifact = (\n",
    "    weave.ops.project(\"megatruong\", \"hackweave2\")\n",
    "        .artifact_type(\"files\")\n",
    "        .artifacts()[0]\n",
    "        .versions()[1])"
   ]
  },
  {
   "cell_type": "code",
   "execution_count": 4,
   "id": "5dec88c8",
   "metadata": {},
   "outputs": [],
   "source": [
    "# old_artifact = (\n",
    "#     weave.ops.project(\"stacey\", \"mendeleev\")\n",
    "#         .artifact_type(\"test_results\")\n",
    "#         .artifacts()[0]\n",
    "#         .versions()[0])\n",
    "\n",
    "# new_artifact = (\n",
    "#     weave.ops.project(\"megatruong\", \"model_comparison\")\n",
    "#         .artifact_type(\"model\")\n",
    "#         .artifacts()[0]\n",
    "#         .versions()[1])"
   ]
  },
  {
   "cell_type": "code",
   "execution_count": 5,
   "id": "248d1570",
   "metadata": {},
   "outputs": [
    {
     "data": {
      "text/html": [
       "\n",
       "        <iframe\n",
       "            width=\"100%\"\n",
       "            height=\"400px\"\n",
       "            src=\"http://127.0.0.1:54146/__frontend/weave_jupyter/__frontend/weave_jupyter?fullScreen&expNode=%7B%22nodeType%22%3A%20%22output%22%2C%20%22type%22%3A%20%7B%22type%22%3A%20%22panel%22%7D%2C%20%22fromOp%22%3A%20%7B%22name%22%3A%20%22artifactVersion-manifestDiff%22%2C%20%22inputs%22%3A%20%7B%22self%22%3A%20%7B%22nodeType%22%3A%20%22output%22%2C%20%22type%22%3A%20%22artifactVersion%22%2C%20%22fromOp%22%3A%20%7B%22name%22%3A%20%22index%22%2C%20%22inputs%22%3A%20%7B%22arr%22%3A%20%7B%22nodeType%22%3A%20%22output%22%2C%20%22type%22%3A%20%7B%22type%22%3A%20%22projectArtifactVersions%22%7D%2C%20%22fromOp%22%3A%20%7B%22name%22%3A%20%22artifact-versions%22%2C%20%22inputs%22%3A%20%7B%22artifact%22%3A%20%7B%22nodeType%22%3A%20%22output%22%2C%20%22type%22%3A%20%22artifact%22%2C%20%22fromOp%22%3A%20%7B%22name%22%3A%20%22index%22%2C%20%22inputs%22%3A%20%7B%22arr%22%3A%20%7B%22nodeType%22%3A%20%22output%22%2C%20%22type%22%3A%20%7B%22type%22%3A%20%22artifacts%22%7D%2C%20%22fromOp%22%3A%20%7B%22name%22%3A%20%22artifactType-artifacts%22%2C%20%22inputs%22%3A%20%7B%22artifactType%22%3A%20%7B%22nodeType%22%3A%20%22output%22%2C%20%22type%22%3A%20%22artifactType%22%2C%20%22fromOp%22%3A%20%7B%22name%22%3A%20%22project-artifactType%22%2C%20%22inputs%22%3A%20%7B%22project%22%3A%20%7B%22nodeType%22%3A%20%22output%22%2C%20%22type%22%3A%20%22project%22%2C%20%22fromOp%22%3A%20%7B%22name%22%3A%20%22root-project%22%2C%20%22inputs%22%3A%20%7B%22entityName%22%3A%20%7B%22nodeType%22%3A%20%22const%22%2C%20%22type%22%3A%20%22string%22%2C%20%22val%22%3A%20%22megatruong%22%7D%2C%20%22projectName%22%3A%20%7B%22nodeType%22%3A%20%22const%22%2C%20%22type%22%3A%20%22string%22%2C%20%22val%22%3A%20%22hackweave2%22%7D%7D%7D%7D%2C%20%22artifactType%22%3A%20%7B%22nodeType%22%3A%20%22const%22%2C%20%22type%22%3A%20%22string%22%2C%20%22val%22%3A%20%22files%22%7D%7D%7D%7D%7D%7D%7D%2C%20%22index%22%3A%20%7B%22nodeType%22%3A%20%22const%22%2C%20%22type%22%3A%20%22int%22%2C%20%22val%22%3A%200%7D%7D%7D%7D%7D%7D%7D%2C%20%22index%22%3A%20%7B%22nodeType%22%3A%20%22const%22%2C%20%22type%22%3A%20%22int%22%2C%20%22val%22%3A%201%7D%7D%7D%7D%2C%20%22other%22%3A%20%7B%22nodeType%22%3A%20%22output%22%2C%20%22type%22%3A%20%22artifactVersion%22%2C%20%22fromOp%22%3A%20%7B%22name%22%3A%20%22index%22%2C%20%22inputs%22%3A%20%7B%22arr%22%3A%20%7B%22nodeType%22%3A%20%22output%22%2C%20%22type%22%3A%20%7B%22type%22%3A%20%22projectArtifactVersions%22%7D%2C%20%22fromOp%22%3A%20%7B%22name%22%3A%20%22artifact-versions%22%2C%20%22inputs%22%3A%20%7B%22artifact%22%3A%20%7B%22nodeType%22%3A%20%22output%22%2C%20%22type%22%3A%20%22artifact%22%2C%20%22fromOp%22%3A%20%7B%22name%22%3A%20%22index%22%2C%20%22inputs%22%3A%20%7B%22arr%22%3A%20%7B%22nodeType%22%3A%20%22output%22%2C%20%22type%22%3A%20%7B%22type%22%3A%20%22artifacts%22%7D%2C%20%22fromOp%22%3A%20%7B%22name%22%3A%20%22artifactType-artifacts%22%2C%20%22inputs%22%3A%20%7B%22artifactType%22%3A%20%7B%22nodeType%22%3A%20%22output%22%2C%20%22type%22%3A%20%22artifactType%22%2C%20%22fromOp%22%3A%20%7B%22name%22%3A%20%22project-artifactType%22%2C%20%22inputs%22%3A%20%7B%22project%22%3A%20%7B%22nodeType%22%3A%20%22output%22%2C%20%22type%22%3A%20%22project%22%2C%20%22fromOp%22%3A%20%7B%22name%22%3A%20%22root-project%22%2C%20%22inputs%22%3A%20%7B%22entityName%22%3A%20%7B%22nodeType%22%3A%20%22const%22%2C%20%22type%22%3A%20%22string%22%2C%20%22val%22%3A%20%22megatruong%22%7D%2C%20%22projectName%22%3A%20%7B%22nodeType%22%3A%20%22const%22%2C%20%22type%22%3A%20%22string%22%2C%20%22val%22%3A%20%22hackweave2%22%7D%7D%7D%7D%2C%20%22artifactType%22%3A%20%7B%22nodeType%22%3A%20%22const%22%2C%20%22type%22%3A%20%22string%22%2C%20%22val%22%3A%20%22files%22%7D%7D%7D%7D%7D%7D%7D%2C%20%22index%22%3A%20%7B%22nodeType%22%3A%20%22const%22%2C%20%22type%22%3A%20%22int%22%2C%20%22val%22%3A%200%7D%7D%7D%7D%7D%7D%7D%2C%20%22index%22%3A%20%7B%22nodeType%22%3A%20%22const%22%2C%20%22type%22%3A%20%22int%22%2C%20%22val%22%3A%200%7D%7D%7D%7D%7D%7D%7D\"\n",
       "            frameborder=\"0\"\n",
       "            allowfullscreen\n",
       "            \n",
       "        ></iframe>\n",
       "        "
      ],
      "text/plain": [
       "<IPython.lib.display.IFrame at 0x1768f3400>"
      ]
     },
     "metadata": {},
     "output_type": "display_data"
    }
   ],
   "source": [
    "new_artifact.diff(old_artifact)"
   ]
  },
  {
   "cell_type": "code",
   "execution_count": 6,
   "id": "f4647ba2",
   "metadata": {},
   "outputs": [],
   "source": [
    "rm -rf temp"
   ]
  },
  {
   "cell_type": "code",
   "execution_count": null,
   "id": "fd62de62",
   "metadata": {},
   "outputs": [],
   "source": []
  },
  {
   "cell_type": "code",
   "execution_count": null,
   "id": "535b25f7",
   "metadata": {},
   "outputs": [],
   "source": []
  },
  {
   "cell_type": "code",
   "execution_count": null,
   "id": "c99143d2",
   "metadata": {},
   "outputs": [],
   "source": []
  },
  {
   "cell_type": "code",
   "execution_count": null,
   "id": "784d83c4",
   "metadata": {},
   "outputs": [],
   "source": []
  }
 ],
 "metadata": {
  "kernelspec": {
   "display_name": "Python 3 (ipykernel)",
   "language": "python",
   "name": "python3"
  },
  "language_info": {
   "codemirror_mode": {
    "name": "ipython",
    "version": 3
   },
   "file_extension": ".py",
   "mimetype": "text/x-python",
   "name": "python",
   "nbconvert_exporter": "python",
   "pygments_lexer": "ipython3",
   "version": "3.9.7"
  }
 },
 "nbformat": 4,
 "nbformat_minor": 5
}
