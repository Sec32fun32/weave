{
 "cells": [
  {
   "cell_type": "code",
   "execution_count": 1,
   "id": "38fec2b9",
   "metadata": {},
   "outputs": [
    {
     "name": "stderr",
     "output_type": "stream",
     "text": [
      "/Users/andrewtruong/opt/miniconda3/envs/hackweave-py39/lib/python3.9/site-packages/scipy/__init__.py:146: UserWarning: A NumPy version >=1.16.5 and <1.23.0 is required for this version of SciPy (detected version 1.23.4\n",
      "  warnings.warn(f\"A NumPy version >={np_minversion} and <{np_maxversion}\"\n"
     ]
    }
   ],
   "source": [
    "import weave"
   ]
  },
  {
   "cell_type": "code",
   "execution_count": 2,
   "id": "5463d9d9",
   "metadata": {},
   "outputs": [],
   "source": [
    "old_artifact = (\n",
    "    weave.ops.project(\"megatruong\", \"hackweave2\")\n",
    "        .artifact_type(\"files\")\n",
    "        .artifacts()[0]\n",
    "        .versions()[0])\n",
    "\n",
    "new_artifact = (\n",
    "    weave.ops.project(\"megatruong\", \"hackweave2\")\n",
    "        .artifact_type(\"files\")\n",
    "        .artifacts()[0]\n",
    "        .versions()[1])"
   ]
  },
  {
   "cell_type": "code",
   "execution_count": 3,
   "id": "248d1570",
   "metadata": {},
   "outputs": [
    {
     "data": {
      "text/html": [
       "\n",
       "        <iframe\n",
       "            width=\"100%\"\n",
       "            height=\"400px\"\n",
       "            src=\"http://127.0.0.1:51891/__frontend/weave_jupyter/__frontend/weave_jupyter?fullScreen&expNode=%7B%22nodeType%22%3A%20%22output%22%2C%20%22type%22%3A%20%7B%22type%22%3A%20%22panel%22%7D%2C%20%22fromOp%22%3A%20%7B%22name%22%3A%20%22artifactVersion-manifestDiff%22%2C%20%22inputs%22%3A%20%7B%22self%22%3A%20%7B%22nodeType%22%3A%20%22output%22%2C%20%22type%22%3A%20%22artifactVersion%22%2C%20%22fromOp%22%3A%20%7B%22name%22%3A%20%22index%22%2C%20%22inputs%22%3A%20%7B%22arr%22%3A%20%7B%22nodeType%22%3A%20%22output%22%2C%20%22type%22%3A%20%7B%22type%22%3A%20%22projectArtifactVersions%22%7D%2C%20%22fromOp%22%3A%20%7B%22name%22%3A%20%22artifact-versions%22%2C%20%22inputs%22%3A%20%7B%22artifact%22%3A%20%7B%22nodeType%22%3A%20%22output%22%2C%20%22type%22%3A%20%22artifact%22%2C%20%22fromOp%22%3A%20%7B%22name%22%3A%20%22index%22%2C%20%22inputs%22%3A%20%7B%22arr%22%3A%20%7B%22nodeType%22%3A%20%22output%22%2C%20%22type%22%3A%20%7B%22type%22%3A%20%22artifacts%22%7D%2C%20%22fromOp%22%3A%20%7B%22name%22%3A%20%22artifactType-artifacts%22%2C%20%22inputs%22%3A%20%7B%22artifactType%22%3A%20%7B%22nodeType%22%3A%20%22output%22%2C%20%22type%22%3A%20%22artifactType%22%2C%20%22fromOp%22%3A%20%7B%22name%22%3A%20%22project-artifactType%22%2C%20%22inputs%22%3A%20%7B%22project%22%3A%20%7B%22nodeType%22%3A%20%22output%22%2C%20%22type%22%3A%20%22project%22%2C%20%22fromOp%22%3A%20%7B%22name%22%3A%20%22root-project%22%2C%20%22inputs%22%3A%20%7B%22entityName%22%3A%20%7B%22nodeType%22%3A%20%22const%22%2C%20%22type%22%3A%20%22string%22%2C%20%22val%22%3A%20%22megatruong%22%7D%2C%20%22projectName%22%3A%20%7B%22nodeType%22%3A%20%22const%22%2C%20%22type%22%3A%20%22string%22%2C%20%22val%22%3A%20%22hackweave2%22%7D%7D%7D%7D%2C%20%22artifactType%22%3A%20%7B%22nodeType%22%3A%20%22const%22%2C%20%22type%22%3A%20%22string%22%2C%20%22val%22%3A%20%22files%22%7D%7D%7D%7D%7D%7D%7D%2C%20%22index%22%3A%20%7B%22nodeType%22%3A%20%22const%22%2C%20%22type%22%3A%20%22int%22%2C%20%22val%22%3A%200%7D%7D%7D%7D%7D%7D%7D%2C%20%22index%22%3A%20%7B%22nodeType%22%3A%20%22const%22%2C%20%22type%22%3A%20%22int%22%2C%20%22val%22%3A%201%7D%7D%7D%7D%2C%20%22other%22%3A%20%7B%22nodeType%22%3A%20%22output%22%2C%20%22type%22%3A%20%22artifactVersion%22%2C%20%22fromOp%22%3A%20%7B%22name%22%3A%20%22index%22%2C%20%22inputs%22%3A%20%7B%22arr%22%3A%20%7B%22nodeType%22%3A%20%22output%22%2C%20%22type%22%3A%20%7B%22type%22%3A%20%22projectArtifactVersions%22%7D%2C%20%22fromOp%22%3A%20%7B%22name%22%3A%20%22artifact-versions%22%2C%20%22inputs%22%3A%20%7B%22artifact%22%3A%20%7B%22nodeType%22%3A%20%22output%22%2C%20%22type%22%3A%20%22artifact%22%2C%20%22fromOp%22%3A%20%7B%22name%22%3A%20%22index%22%2C%20%22inputs%22%3A%20%7B%22arr%22%3A%20%7B%22nodeType%22%3A%20%22output%22%2C%20%22type%22%3A%20%7B%22type%22%3A%20%22artifacts%22%7D%2C%20%22fromOp%22%3A%20%7B%22name%22%3A%20%22artifactType-artifacts%22%2C%20%22inputs%22%3A%20%7B%22artifactType%22%3A%20%7B%22nodeType%22%3A%20%22output%22%2C%20%22type%22%3A%20%22artifactType%22%2C%20%22fromOp%22%3A%20%7B%22name%22%3A%20%22project-artifactType%22%2C%20%22inputs%22%3A%20%7B%22project%22%3A%20%7B%22nodeType%22%3A%20%22output%22%2C%20%22type%22%3A%20%22project%22%2C%20%22fromOp%22%3A%20%7B%22name%22%3A%20%22root-project%22%2C%20%22inputs%22%3A%20%7B%22entityName%22%3A%20%7B%22nodeType%22%3A%20%22const%22%2C%20%22type%22%3A%20%22string%22%2C%20%22val%22%3A%20%22megatruong%22%7D%2C%20%22projectName%22%3A%20%7B%22nodeType%22%3A%20%22const%22%2C%20%22type%22%3A%20%22string%22%2C%20%22val%22%3A%20%22hackweave2%22%7D%7D%7D%7D%2C%20%22artifactType%22%3A%20%7B%22nodeType%22%3A%20%22const%22%2C%20%22type%22%3A%20%22string%22%2C%20%22val%22%3A%20%22files%22%7D%7D%7D%7D%7D%7D%7D%2C%20%22index%22%3A%20%7B%22nodeType%22%3A%20%22const%22%2C%20%22type%22%3A%20%22int%22%2C%20%22val%22%3A%200%7D%7D%7D%7D%7D%7D%7D%2C%20%22index%22%3A%20%7B%22nodeType%22%3A%20%22const%22%2C%20%22type%22%3A%20%22int%22%2C%20%22val%22%3A%200%7D%7D%7D%7D%7D%7D%7D\"\n",
       "            frameborder=\"0\"\n",
       "            allowfullscreen\n",
       "            \n",
       "        ></iframe>\n",
       "        "
      ],
      "text/plain": [
       "<IPython.lib.display.IFrame at 0x2a5c59070>"
      ]
     },
     "metadata": {},
     "output_type": "display_data"
    }
   ],
   "source": [
    "new_artifact.diff(old_artifact)"
   ]
  }
 ],
 "metadata": {
  "kernelspec": {
   "display_name": "Python 3 (ipykernel)",
   "language": "python",
   "name": "python3"
  },
  "language_info": {
   "codemirror_mode": {
    "name": "ipython",
    "version": 3
   },
   "file_extension": ".py",
   "mimetype": "text/x-python",
   "name": "python",
   "nbconvert_exporter": "python",
   "pygments_lexer": "ipython3",
   "version": "3.9.12"
  }
 },
 "nbformat": 4,
 "nbformat_minor": 5
}
