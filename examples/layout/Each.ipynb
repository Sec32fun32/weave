{
 "cells": [
  {
   "cell_type": "code",
   "execution_count": null,
   "id": "4093cfd3",
   "metadata": {},
   "outputs": [],
   "source": [
    "from PIL import Image\n",
    "import weave\n",
    "from weave import syndata\n",
    "\n",
    "weave.use_frontend_devmode()"
   ]
  },
  {
   "cell_type": "markdown",
   "id": "b05e49a1",
   "metadata": {},
   "source": [
    "## PanelEach\n",
    "\n",
    "PanelEach renders each item in a list."
   ]
  },
  {
   "cell_type": "code",
   "execution_count": null,
   "id": "b2cc5af5",
   "metadata": {},
   "outputs": [],
   "source": [
    "data = weave.save(syndata.random_metrics(100, 100))\n",
    "weave.panels.Each(data)"
   ]
  },
  {
   "cell_type": "code",
   "execution_count": null,
   "id": "36755a04",
   "metadata": {},
   "outputs": [],
   "source": [
    "ims = weave.save([Image.linear_gradient(\"L\").rotate(i * 4) for i in range(100)])\n",
    "weave.panels.Each(ims)"
   ]
  }
 ],
 "metadata": {
  "kernelspec": {
   "display_name": "Python 3 (ipykernel)",
   "language": "python",
   "name": "python3"
  }
 },
 "nbformat": 4,
 "nbformat_minor": 5
}
