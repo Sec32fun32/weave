{
 "cells": [
  {
   "cell_type": "code",
   "execution_count": null,
   "id": "f4d03c92",
   "metadata": {},
   "outputs": [],
   "source": [
    "import weave\n",
    "from weave import weave_internal\n",
    "weave.use_frontend_devmode()"
   ]
  },
  {
   "cell_type": "code",
   "execution_count": null,
   "id": "82f9606f",
   "metadata": {},
   "outputs": [],
   "source": [
    "NUM_ITEMS = 100\n",
    "NUM_COLS = 10\n",
    "ITEM_SIZE = 50\n",
    "weave.panels.Each(\n",
    "    list(range(0, NUM_ITEMS, 1)),\n",
    "    x=lambda row: (row % NUM_COLS) * 25,\n",
    "    y=lambda row: (row // NUM_COLS) * 25,\n",
    "    w=lambda row: weave_internal.make_const_node(weave.types.Int(), ITEM_SIZE),\n",
    "    h=lambda row: weave_internal.make_const_node(weave.types.Int(), ITEM_SIZE),\n",
    "    render=lambda row: weave.panels.Group2(\n",
    "        layered=True,\n",
    "        items={\n",
    "            'color': weave.panels.Color(row / NUM_ITEMS),\n",
    "            #'value': row\n",
    "        }\n",
    "    ))\n",
    "pass"
   ]
  },
  {
   "cell_type": "code",
   "execution_count": null,
   "id": "3af3b17f",
   "metadata": {},
   "outputs": [],
   "source": [
    "NUM_ITEMS = 100\n",
    "NUM_COLS = 10\n",
    "ITEM_SIZE = 50\n",
    "weave.panels.Each(\n",
    "    list(range(0, NUM_ITEMS, 1)),\n",
    "    x=lambda row: row * 25,\n",
    "    y=lambda row: (row / 4).sin() * 150 + 150,\n",
    "    w=lambda row: weave_internal.make_const_node(weave.types.Int(), ITEM_SIZE),\n",
    "    h=lambda row: weave_internal.make_const_node(weave.types.Int(), ITEM_SIZE),\n",
    "    render=lambda row: weave.panels.Color(row / NUM_ITEMS)\n",
    ")"
   ]
  }
 ],
 "metadata": {
  "kernelspec": {
   "display_name": "Python 3 (ipykernel)",
   "language": "python",
   "name": "python3"
  }
 },
 "nbformat": 4,
 "nbformat_minor": 5
}
