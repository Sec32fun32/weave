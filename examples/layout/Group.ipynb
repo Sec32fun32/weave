{
 "cells": [
  {
   "cell_type": "code",
   "execution_count": null,
   "id": "2e4a39ce",
   "metadata": {},
   "outputs": [],
   "source": [
    "import weave"
   ]
  },
  {
   "cell_type": "code",
   "execution_count": null,
   "id": "32953f12",
   "metadata": {},
   "outputs": [],
   "source": [
    "# Vertical layout\n",
    "weave.panels.Group2(\n",
    "    items={\n",
    "        'a': 5,\n",
    "        'b': 6,\n",
    "        'c': 7\n",
    "    }\n",
    ")"
   ]
  },
  {
   "cell_type": "code",
   "execution_count": null,
   "id": "f4a94fd6",
   "metadata": {},
   "outputs": [],
   "source": [
    "# Horizontal layout\n",
    "weave.panels.Group2(\n",
    "    preferHorizontal=True,\n",
    "    items={\n",
    "        'a': 5,\n",
    "        'b': 6,\n",
    "        'c': 7\n",
    "    }\n",
    ")"
   ]
  }
 ],
 "metadata": {
  "kernelspec": {
   "display_name": "Python 3 (ipykernel)",
   "language": "python",
   "name": "python3"
  }
 },
 "nbformat": 4,
 "nbformat_minor": 5
}
