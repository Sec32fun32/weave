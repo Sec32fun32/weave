{
 "cells": [
  {
   "cell_type": "code",
   "execution_count": 1,
   "id": "9be1fad1",
   "metadata": {},
   "outputs": [],
   "source": [
    "import weave\n",
    "weave.use_frontend_devmode()\n",
    "from weave.ecosystem import huggingface as hf"
   ]
  },
  {
   "cell_type": "code",
   "execution_count": 2,
   "id": "9d181896",
   "metadata": {},
   "outputs": [
    {
     "data": {
      "text/html": [
       "\n",
       "        <iframe\n",
       "            width=\"100%\"\n",
       "            height=\"400px\"\n",
       "            src=\"http://localhost:3000/__frontend/weave_jupyter?fullScreen&expNode=%7B%22nodeType%22%3A%20%22output%22%2C%20%22type%22%3A%20%7B%22type%22%3A%20%22list%22%2C%20%22objectType%22%3A%20%7B%22type%22%3A%20%22HFModel%22%7D%7D%2C%20%22fromOp%22%3A%20%7B%22name%22%3A%20%22op-models%22%2C%20%22inputs%22%3A%20%7B%7D%7D%7D\"\n",
       "            frameborder=\"0\"\n",
       "            allowfullscreen\n",
       "            \n",
       "        ></iframe>\n",
       "        "
      ],
      "text/plain": [
       "<IPython.lib.display.IFrame at 0x1ac9ba580>"
      ]
     },
     "metadata": {},
     "output_type": "display_data"
    }
   ],
   "source": [
    "# Models\n",
    "hf.models()"
   ]
  },
  {
   "cell_type": "code",
   "execution_count": 3,
   "id": "ca831436",
   "metadata": {},
   "outputs": [
    {
     "data": {
      "text/html": [
       "\n",
       "        <iframe\n",
       "            width=\"100%\"\n",
       "            height=\"400px\"\n",
       "            src=\"http://localhost:3000/__frontend/weave_jupyter?fullScreen&expNode=%7B%22nodeType%22%3A%20%22output%22%2C%20%22type%22%3A%20%7B%22type%22%3A%20%22HFModelTextGeneration%22%2C%20%22_base_type%22%3A%20%7B%22type%22%3A%20%22HFModel%22%7D%7D%2C%20%22fromOp%22%3A%20%7B%22name%22%3A%20%22op-model%22%2C%20%22inputs%22%3A%20%7B%22id%22%3A%20%7B%22nodeType%22%3A%20%22const%22%2C%20%22type%22%3A%20%7B%22type%22%3A%20%22const%22%2C%20%22valType%22%3A%20%22string%22%2C%20%22val%22%3A%20%22gpt2%22%7D%2C%20%22val%22%3A%20%22gpt2%22%7D%7D%7D%7D\"\n",
       "            frameborder=\"0\"\n",
       "            allowfullscreen\n",
       "            \n",
       "        ></iframe>\n",
       "        "
      ],
      "text/plain": [
       "<IPython.lib.display.IFrame at 0x112dc3eb0>"
      ]
     },
     "metadata": {},
     "output_type": "display_data"
    }
   ],
   "source": [
    "# Model card\n",
    "text_gen_model = hf.model('gpt2')\n",
    "text_gen_model"
   ]
  },
  {
   "cell_type": "code",
   "execution_count": 4,
   "id": "14ee84ac",
   "metadata": {},
   "outputs": [
    {
     "data": {
      "text/html": [
       "\n",
       "        <iframe\n",
       "            width=\"100%\"\n",
       "            height=\"400px\"\n",
       "            src=\"http://localhost:3000/__frontend/weave_jupyter?fullScreen&expNode=%7B%22nodeType%22%3A%20%22output%22%2C%20%22type%22%3A%20%7B%22type%22%3A%20%22FullTextGenerationPipelineOutput%22%2C%20%22_base_type%22%3A%20%7B%22type%22%3A%20%22FullPipelineOutput%22%7D%7D%2C%20%22fromOp%22%3A%20%7B%22name%22%3A%20%22HFModelTextGeneration-call%22%2C%20%22inputs%22%3A%20%7B%22self%22%3A%20%7B%22nodeType%22%3A%20%22output%22%2C%20%22type%22%3A%20%7B%22type%22%3A%20%22HFModelTextGeneration%22%2C%20%22_base_type%22%3A%20%7B%22type%22%3A%20%22HFModel%22%7D%7D%2C%20%22fromOp%22%3A%20%7B%22name%22%3A%20%22op-model%22%2C%20%22inputs%22%3A%20%7B%22id%22%3A%20%7B%22nodeType%22%3A%20%22const%22%2C%20%22type%22%3A%20%7B%22type%22%3A%20%22const%22%2C%20%22valType%22%3A%20%22string%22%2C%20%22val%22%3A%20%22gpt2%22%7D%2C%20%22val%22%3A%20%22gpt2%22%7D%7D%7D%7D%2C%20%22input%22%3A%20%7B%22nodeType%22%3A%20%22const%22%2C%20%22type%22%3A%20%7B%22type%22%3A%20%22const%22%2C%20%22valType%22%3A%20%22string%22%2C%20%22val%22%3A%20%22This%20is%20the%20start%22%7D%2C%20%22val%22%3A%20%22This%20is%20the%20start%22%7D%7D%7D%7D\"\n",
       "            frameborder=\"0\"\n",
       "            allowfullscreen\n",
       "            \n",
       "        ></iframe>\n",
       "        "
      ],
      "text/plain": [
       "<IPython.lib.display.IFrame at 0x1acb72e80>"
      ]
     },
     "metadata": {},
     "output_type": "display_data"
    }
   ],
   "source": [
    "# Calling a text generation model\n",
    "text_gen_output = text_gen_model.call('This is the start')\n",
    "text_gen_output"
   ]
  },
  {
   "cell_type": "code",
   "execution_count": 5,
   "id": "59dc9eca",
   "metadata": {},
   "outputs": [
    {
     "data": {
      "text/html": [
       "\n",
       "        <iframe\n",
       "            width=\"100%\"\n",
       "            height=\"400px\"\n",
       "            src=\"http://localhost:3000/__frontend/weave_jupyter?fullScreen&expNode=%7B%22nodeType%22%3A%20%22output%22%2C%20%22type%22%3A%20%7B%22type%22%3A%20%22ModelOutputAttention%22%7D%2C%20%22fromOp%22%3A%20%7B%22name%22%3A%20%22FullPipelineOutput-attention%22%2C%20%22inputs%22%3A%20%7B%22self%22%3A%20%7B%22nodeType%22%3A%20%22output%22%2C%20%22type%22%3A%20%7B%22type%22%3A%20%22FullTextGenerationPipelineOutput%22%2C%20%22_base_type%22%3A%20%7B%22type%22%3A%20%22FullPipelineOutput%22%7D%7D%2C%20%22fromOp%22%3A%20%7B%22name%22%3A%20%22HFModelTextGeneration-call%22%2C%20%22inputs%22%3A%20%7B%22self%22%3A%20%7B%22nodeType%22%3A%20%22output%22%2C%20%22type%22%3A%20%7B%22type%22%3A%20%22HFModelTextGeneration%22%2C%20%22_base_type%22%3A%20%7B%22type%22%3A%20%22HFModel%22%7D%7D%2C%20%22fromOp%22%3A%20%7B%22name%22%3A%20%22op-model%22%2C%20%22inputs%22%3A%20%7B%22id%22%3A%20%7B%22nodeType%22%3A%20%22const%22%2C%20%22type%22%3A%20%7B%22type%22%3A%20%22const%22%2C%20%22valType%22%3A%20%22string%22%2C%20%22val%22%3A%20%22gpt2%22%7D%2C%20%22val%22%3A%20%22gpt2%22%7D%7D%7D%7D%2C%20%22input%22%3A%20%7B%22nodeType%22%3A%20%22const%22%2C%20%22type%22%3A%20%7B%22type%22%3A%20%22const%22%2C%20%22valType%22%3A%20%22string%22%2C%20%22val%22%3A%20%22This%20is%20the%20start%22%7D%2C%20%22val%22%3A%20%22This%20is%20the%20start%22%7D%7D%7D%7D%7D%7D%7D\"\n",
       "            frameborder=\"0\"\n",
       "            allowfullscreen\n",
       "            \n",
       "        ></iframe>\n",
       "        "
      ],
      "text/plain": [
       "<IPython.lib.display.IFrame at 0x1acb72e20>"
      ]
     },
     "metadata": {},
     "output_type": "display_data"
    }
   ],
   "source": [
    "# Bertviz for attention\n",
    "text_gen_output.attention()"
   ]
  },
  {
   "cell_type": "code",
   "execution_count": 6,
   "id": "8022f3ab",
   "metadata": {},
   "outputs": [
    {
     "data": {
      "text/html": [
       "\n",
       "        <iframe\n",
       "            width=\"100%\"\n",
       "            height=\"400px\"\n",
       "            src=\"http://localhost:3000/__frontend/weave_jupyter?fullScreen&expNode=%7B%22nodeType%22%3A%20%22output%22%2C%20%22type%22%3A%20%7B%22type%22%3A%20%22HFModelTextClassification%22%2C%20%22_base_type%22%3A%20%7B%22type%22%3A%20%22HFModel%22%7D%7D%2C%20%22fromOp%22%3A%20%7B%22name%22%3A%20%22op-model%22%2C%20%22inputs%22%3A%20%7B%22id%22%3A%20%7B%22nodeType%22%3A%20%22const%22%2C%20%22type%22%3A%20%7B%22type%22%3A%20%22const%22%2C%20%22valType%22%3A%20%22string%22%2C%20%22val%22%3A%20%22bhadresh-savani/distilbert-base-uncased-emotion%22%7D%2C%20%22val%22%3A%20%22bhadresh-savani/distilbert-base-uncased-emotion%22%7D%7D%7D%7D\"\n",
       "            frameborder=\"0\"\n",
       "            allowfullscreen\n",
       "            \n",
       "        ></iframe>\n",
       "        "
      ],
      "text/plain": [
       "<IPython.lib.display.IFrame at 0x1aca094c0>"
      ]
     },
     "metadata": {},
     "output_type": "display_data"
    }
   ],
   "source": [
    "# Model card\n",
    "classification_model = hf.model('bhadresh-savani/distilbert-base-uncased-emotion')\n",
    "classification_model"
   ]
  },
  {
   "cell_type": "code",
   "execution_count": 7,
   "id": "c671c616",
   "metadata": {},
   "outputs": [
    {
     "data": {
      "text/html": [
       "\n",
       "        <iframe\n",
       "            width=\"100%\"\n",
       "            height=\"400px\"\n",
       "            src=\"http://localhost:3000/__frontend/weave_jupyter?fullScreen&expNode=%7B%22nodeType%22%3A%20%22output%22%2C%20%22type%22%3A%20%7B%22type%22%3A%20%22FullTextClassificationPipelineOutput%22%2C%20%22_base_type%22%3A%20%7B%22type%22%3A%20%22FullPipelineOutput%22%7D%7D%2C%20%22fromOp%22%3A%20%7B%22name%22%3A%20%22HFModelTextClassification-call%22%2C%20%22inputs%22%3A%20%7B%22self%22%3A%20%7B%22nodeType%22%3A%20%22output%22%2C%20%22type%22%3A%20%7B%22type%22%3A%20%22HFModelTextClassification%22%2C%20%22_base_type%22%3A%20%7B%22type%22%3A%20%22HFModel%22%7D%7D%2C%20%22fromOp%22%3A%20%7B%22name%22%3A%20%22op-model%22%2C%20%22inputs%22%3A%20%7B%22id%22%3A%20%7B%22nodeType%22%3A%20%22const%22%2C%20%22type%22%3A%20%7B%22type%22%3A%20%22const%22%2C%20%22valType%22%3A%20%22string%22%2C%20%22val%22%3A%20%22bhadresh-savani/distilbert-base-uncased-emotion%22%7D%2C%20%22val%22%3A%20%22bhadresh-savani/distilbert-base-uncased-emotion%22%7D%7D%7D%7D%2C%20%22input%22%3A%20%7B%22nodeType%22%3A%20%22const%22%2C%20%22type%22%3A%20%7B%22type%22%3A%20%22const%22%2C%20%22valType%22%3A%20%22string%22%2C%20%22val%22%3A%20%22I%27m%20feeling%20just%20swell%22%7D%2C%20%22val%22%3A%20%22I%27m%20feeling%20just%20swell%22%7D%7D%7D%7D\"\n",
       "            frameborder=\"0\"\n",
       "            allowfullscreen\n",
       "            \n",
       "        ></iframe>\n",
       "        "
      ],
      "text/plain": [
       "<IPython.lib.display.IFrame at 0x1aca027c0>"
      ]
     },
     "metadata": {},
     "output_type": "display_data"
    }
   ],
   "source": [
    "classification_output = classification_model.call(\"I'm feeling just swell\")\n",
    "classification_output"
   ]
  },
  {
   "cell_type": "code",
   "execution_count": 8,
   "id": "a02aae9a",
   "metadata": {},
   "outputs": [
    {
     "data": {
      "text/html": [
       "\n",
       "        <iframe\n",
       "            width=\"100%\"\n",
       "            height=\"400px\"\n",
       "            src=\"http://localhost:3000/__frontend/weave_jupyter?fullScreen&expNode=%7B%22nodeType%22%3A%20%22output%22%2C%20%22type%22%3A%20%7B%22type%22%3A%20%22ModelOutputAttention%22%7D%2C%20%22fromOp%22%3A%20%7B%22name%22%3A%20%22FullPipelineOutput-attention%22%2C%20%22inputs%22%3A%20%7B%22self%22%3A%20%7B%22nodeType%22%3A%20%22output%22%2C%20%22type%22%3A%20%7B%22type%22%3A%20%22FullTextClassificationPipelineOutput%22%2C%20%22_base_type%22%3A%20%7B%22type%22%3A%20%22FullPipelineOutput%22%7D%7D%2C%20%22fromOp%22%3A%20%7B%22name%22%3A%20%22HFModelTextClassification-call%22%2C%20%22inputs%22%3A%20%7B%22self%22%3A%20%7B%22nodeType%22%3A%20%22output%22%2C%20%22type%22%3A%20%7B%22type%22%3A%20%22HFModelTextClassification%22%2C%20%22_base_type%22%3A%20%7B%22type%22%3A%20%22HFModel%22%7D%7D%2C%20%22fromOp%22%3A%20%7B%22name%22%3A%20%22op-model%22%2C%20%22inputs%22%3A%20%7B%22id%22%3A%20%7B%22nodeType%22%3A%20%22const%22%2C%20%22type%22%3A%20%7B%22type%22%3A%20%22const%22%2C%20%22valType%22%3A%20%22string%22%2C%20%22val%22%3A%20%22bhadresh-savani/distilbert-base-uncased-emotion%22%7D%2C%20%22val%22%3A%20%22bhadresh-savani/distilbert-base-uncased-emotion%22%7D%7D%7D%7D%2C%20%22input%22%3A%20%7B%22nodeType%22%3A%20%22const%22%2C%20%22type%22%3A%20%7B%22type%22%3A%20%22const%22%2C%20%22valType%22%3A%20%22string%22%2C%20%22val%22%3A%20%22I%27m%20feeling%20just%20swell%22%7D%2C%20%22val%22%3A%20%22I%27m%20feeling%20just%20swell%22%7D%7D%7D%7D%7D%7D%7D\"\n",
       "            frameborder=\"0\"\n",
       "            allowfullscreen\n",
       "            \n",
       "        ></iframe>\n",
       "        "
      ],
      "text/plain": [
       "<IPython.lib.display.IFrame at 0x1aca02820>"
      ]
     },
     "metadata": {},
     "output_type": "display_data"
    }
   ],
   "source": [
    "classification_output.attention()"
   ]
  },
  {
   "cell_type": "code",
   "execution_count": 9,
   "id": "678a9725",
   "metadata": {},
   "outputs": [
    {
     "data": {
      "text/html": [
       "\n",
       "        <iframe\n",
       "            width=\"100%\"\n",
       "            height=\"400px\"\n",
       "            src=\"http://localhost:3000/__frontend/weave_jupyter?fullScreen&expNode=%7B%22nodeType%22%3A%20%22output%22%2C%20%22type%22%3A%20%7B%22type%22%3A%20%22ShapExplanation%22%7D%2C%20%22fromOp%22%3A%20%7B%22name%22%3A%20%22op-shap_explain%22%2C%20%22inputs%22%3A%20%7B%22pipeline_output%22%3A%20%7B%22nodeType%22%3A%20%22output%22%2C%20%22type%22%3A%20%7B%22type%22%3A%20%22FullTextClassificationPipelineOutput%22%2C%20%22_base_type%22%3A%20%7B%22type%22%3A%20%22FullPipelineOutput%22%7D%7D%2C%20%22fromOp%22%3A%20%7B%22name%22%3A%20%22HFModelTextClassification-call%22%2C%20%22inputs%22%3A%20%7B%22self%22%3A%20%7B%22nodeType%22%3A%20%22output%22%2C%20%22type%22%3A%20%7B%22type%22%3A%20%22HFModelTextClassification%22%2C%20%22_base_type%22%3A%20%7B%22type%22%3A%20%22HFModel%22%7D%7D%2C%20%22fromOp%22%3A%20%7B%22name%22%3A%20%22op-model%22%2C%20%22inputs%22%3A%20%7B%22id%22%3A%20%7B%22nodeType%22%3A%20%22const%22%2C%20%22type%22%3A%20%7B%22type%22%3A%20%22const%22%2C%20%22valType%22%3A%20%22string%22%2C%20%22val%22%3A%20%22bhadresh-savani/distilbert-base-uncased-emotion%22%7D%2C%20%22val%22%3A%20%22bhadresh-savani/distilbert-base-uncased-emotion%22%7D%7D%7D%7D%2C%20%22input%22%3A%20%7B%22nodeType%22%3A%20%22const%22%2C%20%22type%22%3A%20%7B%22type%22%3A%20%22const%22%2C%20%22valType%22%3A%20%22string%22%2C%20%22val%22%3A%20%22I%27m%20feeling%20just%20swell%22%7D%2C%20%22val%22%3A%20%22I%27m%20feeling%20just%20swell%22%7D%7D%7D%7D%7D%7D%7D\"\n",
       "            frameborder=\"0\"\n",
       "            allowfullscreen\n",
       "            \n",
       "        ></iframe>\n",
       "        "
      ],
      "text/plain": [
       "<IPython.lib.display.IFrame at 0x1aca021c0>"
      ]
     },
     "metadata": {},
     "output_type": "display_data"
    }
   ],
   "source": [
    "# TODO: we wan't chain shap_explain in Python right now. But we can in JS. Fix!\n",
    "from weave.ecosystem import shap\n",
    "shap.shap_explain(classification_output)"
   ]
  }
 ],
 "metadata": {
  "kernelspec": {
   "display_name": "Python 3 (ipykernel)",
   "language": "python",
   "name": "python3"
  },
  "language_info": {
   "codemirror_mode": {
    "name": "ipython",
    "version": 3
   },
   "file_extension": ".py",
   "mimetype": "text/x-python",
   "name": "python",
   "nbconvert_exporter": "python",
   "pygments_lexer": "ipython3",
   "version": "3.9.7"
  }
 },
 "nbformat": 4,
 "nbformat_minor": 5
}
