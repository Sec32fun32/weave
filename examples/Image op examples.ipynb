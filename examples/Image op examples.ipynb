{
 "cells": [
  {
   "cell_type": "code",
   "execution_count": 1,
   "id": "22034460",
   "metadata": {},
   "outputs": [],
   "source": [
    "import weave\n",
    "\n",
    "# weave.use_fixed_server_port()"
   ]
  },
  {
   "cell_type": "code",
   "execution_count": 2,
   "id": "d03dc328",
   "metadata": {},
   "outputs": [],
   "source": [
    "import numpy as np\n",
    "import matplotlib.pyplot as plt\n",
    "import random\n",
    "\n",
    "@weave.op(\n",
    "    name=\"root-sin_image\",\n",
    "    render_info={\"type\": \"function\"},\n",
    "    input_type={\"f\": weave.types.Int()},\n",
    "    output_type=weave.types.FileType(weave.types.Const(weave.types.String(), \"png\")),\n",
    ")\n",
    "def sin_image(f):    \n",
    "    x = np.arange(0, f * np.pi, 0.1)\n",
    "    y = np.sin(x)\n",
    "    path = \"/tmp/my-%s.png\" % random.randrange(0, 1000000)\n",
    "    plt.rcParams[\"figure.figsize\"] = (22, 7)\n",
    "    plt.plot(x, y)\n",
    "    plt.savefig(path)\n",
    "    plt.close()\n",
    "    return weave.ops.LocalFile(path)"
   ]
  },
  {
   "cell_type": "code",
   "execution_count": 3,
   "id": "217d0cd2",
   "metadata": {},
   "outputs": [
    {
     "data": {
      "text/html": [
       "\n",
       "        <iframe\n",
       "            width=\"100%\"\n",
       "            height=\"300px\"\n",
       "            src=\"http://127.0.0.1:50211/__frontend/weave_jupyter/index.html?fullScreen&expNode=%7B%22nodeType%22%3A%20%22output%22%2C%20%22type%22%3A%20%7B%22type%22%3A%20%22file%22%2C%20%22extension%22%3A%20%22png%22%7D%2C%20%22fromOp%22%3A%20%7B%22name%22%3A%20%22root-sin_image%22%2C%20%22inputs%22%3A%20%7B%22f%22%3A%20%7B%22nodeType%22%3A%20%22output%22%2C%20%22type%22%3A%20%22number%22%2C%20%22fromOp%22%3A%20%7B%22name%22%3A%20%22number-add%22%2C%20%22inputs%22%3A%20%7B%22lhs%22%3A%20%7B%22nodeType%22%3A%20%22output%22%2C%20%22type%22%3A%20%22int%22%2C%20%22fromOp%22%3A%20%7B%22name%22%3A%20%22get%22%2C%20%22inputs%22%3A%20%7B%22uri%22%3A%20%7B%22nodeType%22%3A%20%22const%22%2C%20%22type%22%3A%20%7B%22type%22%3A%20%22const%22%2C%20%22valType%22%3A%20%22string%22%2C%20%22val%22%3A%20%22my-number/93936b8ceaec82097f911d4d0d04e174%22%7D%2C%20%22val%22%3A%20%22my-number/93936b8ceaec82097f911d4d0d04e174%22%7D%7D%7D%7D%2C%20%22rhs%22%3A%20%7B%22nodeType%22%3A%20%22const%22%2C%20%22type%22%3A%20%7B%22type%22%3A%20%22const%22%2C%20%22valType%22%3A%20%22int%22%2C%20%22val%22%3A%202%7D%2C%20%22val%22%3A%202%7D%7D%7D%7D%7D%7D%7D\"\n",
       "            frameborder=\"0\"\n",
       "            allowfullscreen\n",
       "            \n",
       "        ></iframe>\n",
       "        "
      ],
      "text/plain": [
       "<IPython.lib.display.IFrame at 0x11f24beb0>"
      ]
     },
     "metadata": {},
     "output_type": "display_data"
    }
   ],
   "source": [
    "x = weave.save(7, name='my-number')\n",
    "\n",
    "im = sin_image(x + 2)\n",
    "im"
   ]
  },
  {
   "cell_type": "code",
   "execution_count": 4,
   "id": "08b8ae35",
   "metadata": {},
   "outputs": [
    {
     "ename": "WeaveSerializeError",
     "evalue": "('no weave type for object: ', <function make_lazy_call.<locals>.lazy_call at 0x11f184b80>)",
     "output_type": "error",
     "traceback": [
      "\u001b[0;31m---------------------------------------------------------------------------\u001b[0m",
      "\u001b[0;31mWeaveTypeError\u001b[0m                            Traceback (most recent call last)",
      "File \u001b[0;32m~/go/src/github.com/wandb/core/services/weave-internal/weave/storage.py:60\u001b[0m, in \u001b[0;36msave\u001b[0;34m(obj, name, type)\u001b[0m\n\u001b[1;32m     59\u001b[0m \u001b[38;5;28;01mtry\u001b[39;00m:\n\u001b[0;32m---> 60\u001b[0m     wb_type \u001b[38;5;241m=\u001b[39m \u001b[43mtypes\u001b[49m\u001b[38;5;241;43m.\u001b[39;49m\u001b[43mTypeRegistry\u001b[49m\u001b[38;5;241;43m.\u001b[39;49m\u001b[43mtype_of\u001b[49m\u001b[43m(\u001b[49m\u001b[43mobj\u001b[49m\u001b[43m)\u001b[49m\n\u001b[1;32m     61\u001b[0m \u001b[38;5;28;01mexcept\u001b[39;00m errors\u001b[38;5;241m.\u001b[39mWeaveTypeError:\n",
      "File \u001b[0;32m~/go/src/github.com/wandb/core/services/weave-internal/weave/weave_types.py:80\u001b[0m, in \u001b[0;36mTypeRegistry.type_of\u001b[0;34m(obj)\u001b[0m\n\u001b[1;32m     79\u001b[0m         \u001b[38;5;28;01mreturn\u001b[39;00m obj_type\n\u001b[0;32m---> 80\u001b[0m \u001b[38;5;28;01mraise\u001b[39;00m errors\u001b[38;5;241m.\u001b[39mWeaveTypeError(\u001b[38;5;124m\"\u001b[39m\u001b[38;5;124mno type for obj: \u001b[39m\u001b[38;5;132;01m%s\u001b[39;00m\u001b[38;5;124m\"\u001b[39m \u001b[38;5;241m%\u001b[39m obj)\n",
      "\u001b[0;31mWeaveTypeError\u001b[0m: no type for obj: <function make_lazy_call.<locals>.lazy_call at 0x11f184b80>",
      "\nDuring handling of the above exception, another exception occurred:\n",
      "\u001b[0;31mWeaveSerializeError\u001b[0m                       Traceback (most recent call last)",
      "Input \u001b[0;32mIn [4]\u001b[0m, in \u001b[0;36m<cell line: 1>\u001b[0;34m()\u001b[0m\n\u001b[0;32m----> 1\u001b[0m \u001b[43mweave\u001b[49m\u001b[38;5;241;43m.\u001b[39;49m\u001b[43msave\u001b[49m\u001b[43m(\u001b[49m\u001b[43msin_image\u001b[49m\u001b[43m)\u001b[49m\n",
      "File \u001b[0;32m~/go/src/github.com/wandb/core/services/weave-internal/weave/api.py:26\u001b[0m, in \u001b[0;36msave\u001b[0;34m(node_or_obj, name)\u001b[0m\n\u001b[1;32m     24\u001b[0m     \u001b[38;5;28;01mreturn\u001b[39;00m file_ops\u001b[38;5;241m.\u001b[39msave(node_or_obj, name\u001b[38;5;241m=\u001b[39mname)\n\u001b[1;32m     25\u001b[0m \u001b[38;5;28;01melse\u001b[39;00m:\n\u001b[0;32m---> 26\u001b[0m     ref \u001b[38;5;241m=\u001b[39m \u001b[43m_storage\u001b[49m\u001b[38;5;241;43m.\u001b[39;49m\u001b[43msave\u001b[49m\u001b[43m(\u001b[49m\u001b[43mnode_or_obj\u001b[49m\u001b[43m,\u001b[49m\u001b[43m \u001b[49m\u001b[43mname\u001b[49m\u001b[38;5;241;43m=\u001b[39;49m\u001b[43mname\u001b[49m\u001b[43m)\u001b[49m\n\u001b[1;32m     27\u001b[0m     \u001b[38;5;28;01mreturn\u001b[39;00m _weave_internal\u001b[38;5;241m.\u001b[39mmake_const_node(ref\u001b[38;5;241m.\u001b[39mtype, ref\u001b[38;5;241m.\u001b[39mobj)\n",
      "File \u001b[0;32m~/go/src/github.com/wandb/core/services/weave-internal/weave/storage.py:62\u001b[0m, in \u001b[0;36msave\u001b[0;34m(obj, name, type)\u001b[0m\n\u001b[1;32m     60\u001b[0m         wb_type \u001b[38;5;241m=\u001b[39m types\u001b[38;5;241m.\u001b[39mTypeRegistry\u001b[38;5;241m.\u001b[39mtype_of(obj)\n\u001b[1;32m     61\u001b[0m     \u001b[38;5;28;01mexcept\u001b[39;00m errors\u001b[38;5;241m.\u001b[39mWeaveTypeError:\n\u001b[0;32m---> 62\u001b[0m         \u001b[38;5;28;01mraise\u001b[39;00m errors\u001b[38;5;241m.\u001b[39mWeaveSerializeError(\u001b[38;5;124m\"\u001b[39m\u001b[38;5;124mno weave type for object: \u001b[39m\u001b[38;5;124m\"\u001b[39m, obj)\n\u001b[1;32m     63\u001b[0m obj \u001b[38;5;241m=\u001b[39m box\u001b[38;5;241m.\u001b[39mbox(obj)\n\u001b[1;32m     64\u001b[0m \u001b[38;5;28;01mif\u001b[39;00m name \u001b[38;5;129;01mis\u001b[39;00m \u001b[38;5;28;01mNone\u001b[39;00m:\n",
      "\u001b[0;31mWeaveSerializeError\u001b[0m: ('no weave type for object: ', <function make_lazy_call.<locals>.lazy_call at 0x11f184b80>)"
     ]
    }
   ],
   "source": [
    "weave.save(sin_image) # method from shawn (consider a load method as well)"
   ]
  },
  {
   "cell_type": "code",
   "execution_count": null,
   "id": "d8d06148",
   "metadata": {},
   "outputs": [],
   "source": [
    "import json\n",
    "class RunType(weave.types.BasicType):\n",
    "    name = 'run'\n",
    "\n",
    "@weave.op(\n",
    "    name=\"root-run_accuracy_barchart\",\n",
    "    render_info={\"type\": \"function\"},\n",
    "    input_type={\"runs\": weave.types.List(weave.ops.RunType())},\n",
    "    output_type=weave.types.FileType(weave.types.Const(weave.types.String(), 'png'))\n",
    ")\n",
    "def run_accuracy_barchart(runs):\n",
    "    names = [r['name'] for r in runs]\n",
    "    xs = range(len(runs))\n",
    "    ys = [r['summary'].get('acc') for r in runs]\n",
    "    \n",
    "    plt.rcParams[\"figure.figsize\"] = (22, 5)\n",
    "    plt.bar(xs, ys, align='center', alpha=0.5)\n",
    "    plt.xticks(xs, names)\n",
    "    plt.ylabel('acc')\n",
    "    plt.title('Run accuracies')\n",
    "    path = \"/tmp/my-%s.png\" % random.randrange(0, 1000000)\n",
    "    plt.savefig(path)\n",
    "    plt.close()\n",
    "    return weave.ops.LocalFile(path) "
   ]
  },
  {
   "cell_type": "code",
   "execution_count": null,
   "id": "a4dc62a2",
   "metadata": {},
   "outputs": [],
   "source": [
    "runs = weave.ops.project('shawn', 'fasion-sweep').runs()\n",
    "run_accuracy_barchart(runs)"
   ]
  }
 ],
 "metadata": {
  "kernelspec": {
   "display_name": "Python 3 (ipykernel)",
   "language": "python",
   "name": "python3"
  },
  "language_info": {
   "codemirror_mode": {
    "name": "ipython",
    "version": 3
   },
   "file_extension": ".py",
   "mimetype": "text/x-python",
   "name": "python",
   "nbconvert_exporter": "python",
   "pygments_lexer": "ipython3",
   "version": "3.9.9"
  }
 },
 "nbformat": 4,
 "nbformat_minor": 5
}
