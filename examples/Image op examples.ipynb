{
 "cells": [
  {
   "cell_type": "code",
   "execution_count": 1,
   "id": "22034460",
   "metadata": {},
   "outputs": [
    {
     "name": "stdout",
     "output_type": "stream",
     "text": [
      "op_id file://Users/timothysweeney/workspace/weave-internal/examples/local-artifacts/op-root-string/239d5643bdc9532d293da1c303e8b03f/op-root-string:239d5643bdc9532d293da1c303e8b03f\n",
      "op_id file://Users/timothysweeney/workspace/weave-internal/examples/local-artifacts/op-string-lastLetter/86936e797e0e39cfc0ada6cdcca774d6/op-string-lastLetter:86936e797e0e39cfc0ada6cdcca774d6\n",
      "op_id file://Users/timothysweeney/workspace/weave-internal/examples/local-artifacts/op-string-set/d2f035487f221d04fa07f273e4ccecd8/op-string-set:d2f035487f221d04fa07f273e4ccecd8\n",
      "op_id file://Users/timothysweeney/workspace/weave-internal/examples/local-artifacts/op-number-set/d2f035487f221d04fa07f273e4ccecd8/op-number-set:d2f035487f221d04fa07f273e4ccecd8\n",
      "op_id file://Users/timothysweeney/workspace/weave-internal/examples/local-artifacts/op-number-add/7adeb3c80471ba342c0d1232f19afbef/op-number-add:7adeb3c80471ba342c0d1232f19afbef\n",
      "op_id file://Users/timothysweeney/workspace/weave-internal/examples/local-artifacts/op-number-sub/dea4d1aa38dcc9ba55779058d5c18a43/op-number-sub:dea4d1aa38dcc9ba55779058d5c18a43\n",
      "op_id file://Users/timothysweeney/workspace/weave-internal/examples/local-artifacts/op-number-mult/077a031732df386d43084cfe785434f1/op-number-mult:077a031732df386d43084cfe785434f1\n",
      "op_id file://Users/timothysweeney/workspace/weave-internal/examples/local-artifacts/op-number-div/480dc233360952cb6e524662fcfa5013/op-number-div:480dc233360952cb6e524662fcfa5013\n",
      "op_id file://Users/timothysweeney/workspace/weave-internal/examples/local-artifacts/op-number-equal/578ab9701a2319ee3aabc5271371441e/op-number-equal:578ab9701a2319ee3aabc5271371441e\n",
      "op_id file://Users/timothysweeney/workspace/weave-internal/examples/local-artifacts/op-number-notEqual/42e27a33897f31078101529915df3dc0/op-number-notEqual:42e27a33897f31078101529915df3dc0\n",
      "op_id file://Users/timothysweeney/workspace/weave-internal/examples/local-artifacts/op-number-less/3435e63e03936c51d3300d2abe238fb8/op-number-less:3435e63e03936c51d3300d2abe238fb8\n",
      "op_id file://Users/timothysweeney/workspace/weave-internal/examples/local-artifacts/op-number-greater/3b7270da466dba38c96530d0f413f5b2/op-number-greater:3b7270da466dba38c96530d0f413f5b2\n",
      "op_id file://Users/timothysweeney/workspace/weave-internal/examples/local-artifacts/op-number-lessEqual/f5b86f93889902e6a2f816d74335b8d5/op-number-lessEqual:f5b86f93889902e6a2f816d74335b8d5\n",
      "op_id file://Users/timothysweeney/workspace/weave-internal/examples/local-artifacts/op-number-greaterEqual/8e7c1d93bddf5b25f292fb79355e7aff/op-number-greaterEqual:8e7c1d93bddf5b25f292fb79355e7aff\n",
      "op_id file://Users/timothysweeney/workspace/weave-internal/examples/local-artifacts/op-pick/5a2cb0eacb273921405e8ff281e1ff70/op-pick:5a2cb0eacb273921405e8ff281e1ff70\n",
      "op_id file://Users/timothysweeney/workspace/weave-internal/examples/local-artifacts/op-pick/b67daf59d5f757504b9fdd979518d030/op-pick:b67daf59d5f757504b9fdd979518d030\n",
      "op_id file://Users/timothysweeney/workspace/weave-internal/examples/local-artifacts/op-dict/731e163095557213c0c7abe2e9adaa16/op-dict:731e163095557213c0c7abe2e9adaa16\n",
      "op_id file://Users/timothysweeney/workspace/weave-internal/examples/local-artifacts/op-merge/834f985708070f4609cbdcdeb653a647/op-merge:834f985708070f4609cbdcdeb653a647\n",
      "op_id file://Users/timothysweeney/workspace/weave-internal/examples/local-artifacts/op-index/60b90d3402b561b75cb9eda2dc095194/op-index:60b90d3402b561b75cb9eda2dc095194\n",
      "op_id file://Users/timothysweeney/workspace/weave-internal/examples/local-artifacts/op-count/172043cc683a9cde272bed9401b7d2a1/op-count:172043cc683a9cde272bed9401b7d2a1\n",
      "op_id file://Users/timothysweeney/workspace/weave-internal/examples/local-artifacts/op-index/2ab430da69e676fda7786c0ce7fdb438/op-index:2ab430da69e676fda7786c0ce7fdb438\n",
      "op_id file://Users/timothysweeney/workspace/weave-internal/examples/local-artifacts/op-offset/5312dcb8468b8457d516718aebebf893/op-offset:5312dcb8468b8457d516718aebebf893\n",
      "op_id file://Users/timothysweeney/workspace/weave-internal/examples/local-artifacts/op-limit/084d9dff61e72a8054ac4dbc2f2c4241/op-limit:084d9dff61e72a8054ac4dbc2f2c4241\n",
      "op_id file://Users/timothysweeney/workspace/weave-internal/examples/local-artifacts/op-map/4daaea80fee7908b569e041dfbe08693/op-map:4daaea80fee7908b569e041dfbe08693\n",
      "op_id file://Users/timothysweeney/workspace/weave-internal/examples/local-artifacts/op-filter/f3e4aea05e53b1a1f628da82f98dc84c/op-filter:f3e4aea05e53b1a1f628da82f98dc84c\n",
      "op_id file://Users/timothysweeney/workspace/weave-internal/examples/local-artifacts/op-groupby/6457545b305254b72340f88b2b6baa9a/op-groupby:6457545b305254b72340f88b2b6baa9a\n",
      "op_id file://Users/timothysweeney/workspace/weave-internal/examples/local-artifacts/op-group-groupkey/794b0b824da0c8e73012eec5f20fa020/op-group-groupkey:794b0b824da0c8e73012eec5f20fa020\n",
      "op_id file://Users/timothysweeney/workspace/weave-internal/examples/local-artifacts/op-list-indexCheckpoint/cfb51e558a60b91af5029b868a40cb68/op-list-indexCheckpoint:cfb51e558a60b91af5029b868a40cb68\n",
      "op_id file://Users/timothysweeney/workspace/weave-internal/examples/local-artifacts/op-tag-indexCheckpoint/ff5df112ea978860ebe303a84e2fdbf7/op-tag-indexCheckpoint:ff5df112ea978860ebe303a84e2fdbf7\n",
      "op_id file://Users/timothysweeney/workspace/weave-internal/examples/local-artifacts/op-limit/49c7a2389e60c92eaae286bf40251b2e/op-limit:49c7a2389e60c92eaae286bf40251b2e\n",
      "op_id file://Users/timothysweeney/workspace/weave-internal/examples/local-artifacts/op-flatten/0d4102c82eb72ff7c440e7e476d89aac/op-flatten:0d4102c82eb72ff7c440e7e476d89aac\n",
      "op_id file://Users/timothysweeney/workspace/weave-internal/examples/local-artifacts/op-unnest/b84f6666b97c46d5416379b0708923c3/op-unnest:b84f6666b97c46d5416379b0708923c3\n",
      "op_id file://Users/timothysweeney/workspace/weave-internal/examples/local-artifacts/op-file-directUrl/6810f1bfc63293a428c42fddacca78de/op-file-directUrl:6810f1bfc63293a428c42fddacca78de\n",
      "op_id file://Users/timothysweeney/workspace/weave-internal/examples/local-artifacts/op-file-readcsv/ea0306573a81501d13a4335489b42be9/op-file-readcsv:ea0306573a81501d13a4335489b42be9\n",
      "op_id file://Users/timothysweeney/workspace/weave-internal/examples/local-artifacts/op-file-table/50a1fac24a516ef0e955ebdb02b6944e/op-file-table:50a1fac24a516ef0e955ebdb02b6944e\n",
      "op_id file://Users/timothysweeney/workspace/weave-internal/examples/local-artifacts/op-file-directUrlAsOf/75d6a607090ac9dff4b92a3f84352901/op-file-directUrlAsOf:75d6a607090ac9dff4b92a3f84352901\n",
      "op_id file://Users/timothysweeney/workspace/weave-internal/examples/local-artifacts/op-file-size/5a0e6d4c5137029361ddc41f76093dc7/op-file-size:5a0e6d4c5137029361ddc41f76093dc7\n",
      "op_id file://Users/timothysweeney/workspace/weave-internal/examples/local-artifacts/op-file-contents/d3fca34d5eed47b7e1bb1cb6210cd48a/op-file-contents:d3fca34d5eed47b7e1bb1cb6210cd48a\n",
      "op_id file://Users/timothysweeney/workspace/weave-internal/examples/local-artifacts/op-file-readcsvpandas/5cc7419896d3aef313dc008bda22eb56/op-file-readcsvpandas:5cc7419896d3aef313dc008bda22eb56\n",
      "op_id file://Users/timothysweeney/workspace/weave-internal/examples/local-artifacts/op-dir-size/c7f8c111c268f05ab1f6d04c199e8bff/op-dir-size:c7f8c111c268f05ab1f6d04c199e8bff\n",
      "op_id file://Users/timothysweeney/workspace/weave-internal/examples/local-artifacts/op-dir-pathReturnType/24cce41e1685597be1aa8e0c0449b278/op-dir-pathReturnType:24cce41e1685597be1aa8e0c0449b278\n",
      "op_id file://Users/timothysweeney/workspace/weave-internal/examples/local-artifacts/op-dir-path/97cfa14e2b36edc962f32db38ec3bb74/op-dir-path:97cfa14e2b36edc962f32db38ec3bb74\n",
      "op_id file://Users/timothysweeney/workspace/weave-internal/examples/local-artifacts/op-localpathReturnType/77170dc1c7acdd9c81d06f2c7f2b4f9c/op-localpathReturnType:77170dc1c7acdd9c81d06f2c7f2b4f9c\n",
      "op_id file://Users/timothysweeney/workspace/weave-internal/examples/local-artifacts/op-localpath/d7576c7226b5b4fecb5afd3670aed3b9/op-localpath:d7576c7226b5b4fecb5afd3670aed3b9\n",
      "op_id file://Users/timothysweeney/workspace/weave-internal/examples/local-artifacts/op-getReturnType/8948af514d193d83cd540ea83baaa568/op-getReturnType:8948af514d193d83cd540ea83baaa568\n",
      "op_id file://Users/timothysweeney/workspace/weave-internal/examples/local-artifacts/op-save/3e93333d708e43700c3b4165a1dbb115/op-save:3e93333d708e43700c3b4165a1dbb115\n",
      "op_id file://Users/timothysweeney/workspace/weave-internal/examples/local-artifacts/op-get/3fd577656d99e1810f9dbf2cb2f7b6c7/op-get:3fd577656d99e1810f9dbf2cb2f7b6c7\n",
      "op_id file://Users/timothysweeney/workspace/weave-internal/examples/local-artifacts/op-file-pandasreadcsv/21d525bac6db5e7b41b0ed3bb4ebf9ee/op-file-pandasreadcsv:21d525bac6db5e7b41b0ed3bb4ebf9ee\n"
     ]
    },
    {
     "name": "stdout",
     "output_type": "stream",
     "text": [
      "op_id file://Users/timothysweeney/workspace/weave-internal/examples/local-artifacts/op-local-sqlconnection/f6fbea641da3ca42e247f8d3f2629ba6/op-local-sqlconnection:f6fbea641da3ca42e247f8d3f2629ba6\n",
      "op_id file://Users/timothysweeney/workspace/weave-internal/examples/local-artifacts/op-sqlconnection-tables/ecda5e08cc57cb886de6c7c4984e0bac/op-sqlconnection-tables:ecda5e08cc57cb886de6c7c4984e0bac\n",
      "op_id file://Users/timothysweeney/workspace/weave-internal/examples/local-artifacts/op-sqlconnection-tables-type/a2c4f53ebb2d6802665a8f1044149429/op-sqlconnection-tables-type:a2c4f53ebb2d6802665a8f1044149429\n",
      "op_id file://Users/timothysweeney/workspace/weave-internal/examples/local-artifacts/op-sqlconnection-table/f11a1b0558e0f871c8ca0804356c7665/op-sqlconnection-table:f11a1b0558e0f871c8ca0804356c7665\n",
      "op_id file://Users/timothysweeney/workspace/weave-internal/examples/local-artifacts/op-project-artifactVersion/ddff64197ddc64b1ce28abbd087aadc1/op-project-artifactVersion:ddff64197ddc64b1ce28abbd087aadc1\n",
      "op_id file://Users/timothysweeney/workspace/weave-internal/examples/local-artifacts/op-project-runs/72576357a849e3eabab58d7a7d6f3bd1/op-project-runs:72576357a849e3eabab58d7a7d6f3bd1\n",
      "op_id file://Users/timothysweeney/workspace/weave-internal/examples/local-artifacts/op-project-filtered-runs/cbb0f0b8a5dcd3b31bbf35cb72e0a673/op-project-filtered-runs:cbb0f0b8a5dcd3b31bbf35cb72e0a673\n",
      "op_id file://Users/timothysweeney/workspace/weave-internal/examples/local-artifacts/op-root-project/a4046d810e79825abc5a99d7d4deb6c2/op-root-project:a4046d810e79825abc5a99d7d4deb6c2\n",
      "op_id file://Users/timothysweeney/workspace/weave-internal/examples/local-artifacts/op-artifactVersion-file/9416646434f401cfee1ebc118c28ba27/op-artifactVersion-file:9416646434f401cfee1ebc118c28ba27\n",
      "op_id file://Users/timothysweeney/workspace/weave-internal/examples/local-artifacts/op-table-rows/efdd0042598fc796d0cc094559e42b32/op-table-rows:efdd0042598fc796d0cc094559e42b32\n",
      "op_id file://Users/timothysweeney/workspace/weave-internal/examples/local-artifacts/op-asset-artifactVersion/ca4ab74e35aaa35bd093fba363c939b4/op-asset-artifactVersion:ca4ab74e35aaa35bd093fba363c939b4\n",
      "op_id file://Users/timothysweeney/workspace/weave-internal/examples/local-artifacts/op-wbImage-url/d1c245c84b6d6757983e94f96a3034f4/op-wbImage-url:d1c245c84b6d6757983e94f96a3034f4\n",
      "op_id file://Users/timothysweeney/workspace/weave-internal/examples/local-artifacts/op-file-media/4d4811103230f8e5cab36db0d3d82652/op-file-media:4d4811103230f8e5cab36db0d3d82652\n",
      "op_id file://Users/timothysweeney/workspace/weave-internal/examples/local-artifacts/op-image-url/a0ec3c2e45b655924f8c9ccb4e62129f/op-image-url:a0ec3c2e45b655924f8c9ccb4e62129f\n",
      "op_id file://Users/timothysweeney/workspace/weave-internal/examples/local-artifacts/op-localArtifact-get/d5294e87b57b70a7fbaeb57f62d363fb/op-localArtifact-get:d5294e87b57b70a7fbaeb57f62d363fb\n",
      "op_id file://Users/timothysweeney/workspace/weave-internal/examples/local-artifacts/op-root-localArtifact/dc6cd0b3853e4f26ff0aa9fffe2aa984/op-root-localArtifact:dc6cd0b3853e4f26ff0aa9fffe2aa984\n",
      "op_id file://Users/timothysweeney/workspace/weave-internal/examples/local-artifacts/op-sizedstringconfig-setsize/fb0479bda931f5cc6b5bdbdaf074975b/op-sizedstringconfig-setsize:fb0479bda931f5cc6b5bdbdaf074975b\n",
      "op_id file://Users/timothysweeney/workspace/weave-internal/examples/local-artifacts/op-sliderpanel-config/61b428d93233bfd9d7591d8616009676/op-sliderpanel-config:61b428d93233bfd9d7591d8616009676\n",
      "op_id file://Users/timothysweeney/workspace/weave-internal/examples/local-artifacts/op-panelContainerConfig-variables/4c9ee001783bdb073a757d8507fba3ad/op-panelContainerConfig-variables:4c9ee001783bdb073a757d8507fba3ad\n",
      "op_id file://Users/timothysweeney/workspace/weave-internal/examples/local-artifacts/op-panelContainerConfig-panels/aac8b12e2cbc9b3d2c528fe0b77c55ff/op-panelContainerConfig-panels:aac8b12e2cbc9b3d2c528fe0b77c55ff\n",
      "op_id file://Users/timothysweeney/workspace/weave-internal/examples/local-artifacts/op-containerpanel-config/801d75ed8f67dbecad6c68388cdd2040/op-containerpanel-config:801d75ed8f67dbecad6c68388cdd2040\n"
     ]
    }
   ],
   "source": [
    "import weave\n",
    "# weave.capture_weave_server_logs()\n",
    "\n",
    "# weave.use_fixed_server_port()"
   ]
  },
  {
   "cell_type": "code",
   "execution_count": 2,
   "id": "d03dc328",
   "metadata": {},
   "outputs": [
    {
     "name": "stdout",
     "output_type": "stream",
     "text": [
      "op_id file://local-artifacts/op-root-sin_image/cc65c343d5333aca293606defd864ad9/op-root-sin_image:cc65c343d5333aca293606defd864ad9\n",
      "op_id file://local-artifacts/op-root-sin_val/0d751893795fd8503684a587aba8a0fa/op-root-sin_val:0d751893795fd8503684a587aba8a0fa\n"
     ]
    }
   ],
   "source": [
    "import numpy as np\n",
    "import matplotlib.pyplot as plt\n",
    "import random\n",
    "\n",
    "@weave.op(\n",
    "    name=\"root-sin_image\",\n",
    "    render_info={\"type\": \"function\"},\n",
    "    input_type={\"f\": weave.types.Int()},\n",
    "    output_type=weave.types.FileType(weave.types.Const(weave.types.String(), \"png\")),\n",
    ")\n",
    "def sin_image(f):    \n",
    "    x = np.arange(0, f * np.pi, 0.1)\n",
    "    y = np.sin(x)\n",
    "    path = \"/tmp/my-%s.png\" % random.randrange(0, 1000000)\n",
    "    plt.rcParams[\"figure.figsize\"] = (22, 7)\n",
    "    plt.plot(x, y)\n",
    "    plt.savefig(path)\n",
    "    plt.close()\n",
    "    return weave.ops.LocalFile(path)\n",
    "\n",
    "\n",
    "@weave.op(\n",
    "    name=\"root-sin_val\",\n",
    "    render_info={\"type\": \"function\"},\n",
    ")\n",
    "def sin_val(x: float) -> float:    \n",
    "     return float(np.sin(x))"
   ]
  },
  {
   "cell_type": "code",
   "execution_count": 3,
   "id": "217d0cd2",
   "metadata": {},
   "outputs": [
    {
     "name": "stdout",
     "output_type": "stream",
     "text": [
      "op_id file://local-artifacts/op-run-setstate/d2f035487f221d04fa07f273e4ccecd8/op-run-setstate:d2f035487f221d04fa07f273e4ccecd8\n",
      "op_id file://local-artifacts/op-run-print/d2f035487f221d04fa07f273e4ccecd8/op-run-print:d2f035487f221d04fa07f273e4ccecd8\n",
      "op_id file://local-artifacts/op-run-log/d2f035487f221d04fa07f273e4ccecd8/op-run-log:d2f035487f221d04fa07f273e4ccecd8\n",
      "op_id file://local-artifacts/op-run-setoutput/d2f035487f221d04fa07f273e4ccecd8/op-run-setoutput:d2f035487f221d04fa07f273e4ccecd8\n",
      "op_id file://local-artifacts/op-run-await/21cced28b88d41453dc0fa7a55ee1b28/op-run-await:21cced28b88d41453dc0fa7a55ee1b28\n",
      "op_id file://local-artifacts/op-op-id/fa55a22a86f336300de062f0604489a7/op-op-id:fa55a22a86f336300de062f0604489a7\n",
      "op_id file://local-artifacts/op-op-state/e2b3e54e0f57522fc8c7b05b534f6383/op-op-state:e2b3e54e0f57522fc8c7b05b534f6383\n",
      "op_id file://local-artifacts/op-op-prints/47ee4adc3dbac0cc05bea959e57e0bb6/op-op-prints:47ee4adc3dbac0cc05bea959e57e0bb6\n",
      "op_id file://local-artifacts/op-op-history/13f9123bdf754bf9903ad3b8aa901a59/op-op-history:13f9123bdf754bf9903ad3b8aa901a59\n",
      "op_id file://local-artifacts/op-run-output/2a2d9440f091bfff3e80cc96788623e8/op-run-output:2a2d9440f091bfff3e80cc96788623e8\n"
     ]
    },
    {
     "ename": "TypeError",
     "evalue": "expected str, bytes or os.PathLike object, not NoneType",
     "output_type": "error",
     "traceback": [
      "\u001b[0;31m---------------------------------------------------------------------------\u001b[0m",
      "\u001b[0;31mTypeError\u001b[0m                                 Traceback (most recent call last)",
      "Input \u001b[0;32mIn [3]\u001b[0m, in \u001b[0;36m<cell line: 4>\u001b[0;34m()\u001b[0m\n\u001b[1;32m      1\u001b[0m x \u001b[38;5;241m=\u001b[39m weave\u001b[38;5;241m.\u001b[39msave(\u001b[38;5;241m7\u001b[39m, name\u001b[38;5;241m=\u001b[39m\u001b[38;5;124m'\u001b[39m\u001b[38;5;124mmy-number\u001b[39m\u001b[38;5;124m'\u001b[39m)\n\u001b[1;32m      3\u001b[0m \u001b[38;5;66;03m# im = sin_image(x + 2)\u001b[39;00m\n\u001b[0;32m----> 4\u001b[0m weave\u001b[38;5;241m.\u001b[39muse(sin_val(x \u001b[38;5;241m+\u001b[39m \u001b[38;5;241m4\u001b[39m))\n",
      "File \u001b[0;32m~/workspace/weave-internal/weave/api.py:60\u001b[0m, in \u001b[0;36muse\u001b[0;34m(nodes, client)\u001b[0m\n\u001b[1;32m     57\u001b[0m \u001b[38;5;28;01mfor\u001b[39;00m node \u001b[38;5;129;01min\u001b[39;00m nodes:\n\u001b[1;32m     58\u001b[0m     actual_nodes\u001b[38;5;241m.\u001b[39mappend(_graph\u001b[38;5;241m.\u001b[39mNode\u001b[38;5;241m.\u001b[39mnode_from_json(node\u001b[38;5;241m.\u001b[39mto_json()))\n\u001b[0;32m---> 60\u001b[0m result \u001b[38;5;241m=\u001b[39m \u001b[43mclient\u001b[49m\u001b[38;5;241;43m.\u001b[39;49m\u001b[43mexecute\u001b[49m\u001b[43m(\u001b[49m\u001b[43mactual_nodes\u001b[49m\u001b[43m)\u001b[49m\n\u001b[1;32m     62\u001b[0m \u001b[38;5;28;01mif\u001b[39;00m single:\n\u001b[1;32m     63\u001b[0m     result \u001b[38;5;241m=\u001b[39m result[\u001b[38;5;241m0\u001b[39m]\n",
      "File \u001b[0;32m~/workspace/weave-internal/weave/client.py:9\u001b[0m, in \u001b[0;36mClient.execute\u001b[0;34m(self, nodes, no_cache)\u001b[0m\n\u001b[1;32m      8\u001b[0m \u001b[38;5;28;01mdef\u001b[39;00m \u001b[38;5;21mexecute\u001b[39m(\u001b[38;5;28mself\u001b[39m, nodes, no_cache\u001b[38;5;241m=\u001b[39m\u001b[38;5;28;01mFalse\u001b[39;00m):\n\u001b[0;32m----> 9\u001b[0m     results \u001b[38;5;241m=\u001b[39m \u001b[38;5;28;43mself\u001b[39;49m\u001b[38;5;241;43m.\u001b[39;49m\u001b[43mserver\u001b[49m\u001b[38;5;241;43m.\u001b[39;49m\u001b[43mexecute\u001b[49m\u001b[43m(\u001b[49m\u001b[43mnodes\u001b[49m\u001b[43m,\u001b[49m\u001b[43m \u001b[49m\u001b[43mno_cache\u001b[49m\u001b[38;5;241;43m=\u001b[39;49m\u001b[43mno_cache\u001b[49m\u001b[43m)\u001b[49m\n\u001b[1;32m     10\u001b[0m     \u001b[38;5;28;01mreturn\u001b[39;00m [storage\u001b[38;5;241m.\u001b[39mderef(r) \u001b[38;5;28;01mfor\u001b[39;00m r \u001b[38;5;129;01min\u001b[39;00m results]\n",
      "File \u001b[0;32m~/workspace/weave-internal/weave/server.py:94\u001b[0m, in \u001b[0;36mInProcessServer.execute\u001b[0;34m(self, nodes, no_cache)\u001b[0m\n\u001b[1;32m     91\u001b[0m \u001b[38;5;28;01mdef\u001b[39;00m \u001b[38;5;21mexecute\u001b[39m(\u001b[38;5;28mself\u001b[39m, nodes, no_cache\u001b[38;5;241m=\u001b[39m\u001b[38;5;28;01mFalse\u001b[39;00m):\n\u001b[1;32m     92\u001b[0m     \u001b[38;5;28;01mfrom\u001b[39;00m \u001b[38;5;21;01m.\u001b[39;00m \u001b[38;5;28;01mimport\u001b[39;00m execute\n\u001b[0;32m---> 94\u001b[0m     \u001b[38;5;28;01mreturn\u001b[39;00m \u001b[43mexecute\u001b[49m\u001b[38;5;241;43m.\u001b[39;49m\u001b[43mexecute_nodes\u001b[49m\u001b[43m(\u001b[49m\u001b[43mnodes\u001b[49m\u001b[43m,\u001b[49m\u001b[43m \u001b[49m\u001b[43mno_cache\u001b[49m\u001b[38;5;241;43m=\u001b[39;49m\u001b[43mno_cache\u001b[49m\u001b[43m)\u001b[49m\n",
      "File \u001b[0;32m~/workspace/weave-internal/weave/execute.py:21\u001b[0m, in \u001b[0;36mexecute_nodes\u001b[0;34m(nodes, no_cache)\u001b[0m\n\u001b[1;32m     20\u001b[0m \u001b[38;5;28;01mdef\u001b[39;00m \u001b[38;5;21mexecute_nodes\u001b[39m(nodes, no_cache\u001b[38;5;241m=\u001b[39m\u001b[38;5;28;01mFalse\u001b[39;00m):\n\u001b[0;32m---> 21\u001b[0m     nodes \u001b[38;5;241m=\u001b[39m \u001b[38;5;28;43mcompile\u001b[39;49m\u001b[38;5;241;43m.\u001b[39;49m\u001b[43mcompile\u001b[49m\u001b[43m(\u001b[49m\u001b[43mnodes\u001b[49m\u001b[43m)\u001b[49m\n\u001b[1;32m     22\u001b[0m     fg \u001b[38;5;241m=\u001b[39m forward_graph\u001b[38;5;241m.\u001b[39mForwardGraph(nodes)\n\u001b[1;32m     24\u001b[0m     \u001b[38;5;28;01mwith\u001b[39;00m context\u001b[38;5;241m.\u001b[39mexecution_client():\n",
      "File \u001b[0;32m~/workspace/weave-internal/weave/compile.py:59\u001b[0m, in \u001b[0;36mcompile\u001b[0;34m(nodes)\u001b[0m\n\u001b[1;32m     58\u001b[0m \u001b[38;5;28;01mdef\u001b[39;00m \u001b[38;5;21mcompile\u001b[39m(nodes: typing\u001b[38;5;241m.\u001b[39mList[graph\u001b[38;5;241m.\u001b[39mNode]):\n\u001b[0;32m---> 59\u001b[0m     nodes \u001b[38;5;241m=\u001b[39m \u001b[43mawait_run_outputs\u001b[49m\u001b[43m(\u001b[49m\u001b[43mnodes\u001b[49m\u001b[43m)\u001b[49m\n\u001b[1;32m     60\u001b[0m     \u001b[38;5;28;01mreturn\u001b[39;00m nodes\n",
      "File \u001b[0;32m~/workspace/weave-internal/weave/compile.py:21\u001b[0m, in \u001b[0;36mawait_run_outputs\u001b[0;34m(nodes)\u001b[0m\n\u001b[1;32m     19\u001b[0m \u001b[38;5;28;01mfor\u001b[39;00m edge \u001b[38;5;129;01min\u001b[39;00m edit_g\u001b[38;5;241m.\u001b[39medges:\n\u001b[1;32m     20\u001b[0m     actual_input_type \u001b[38;5;241m=\u001b[39m edge\u001b[38;5;241m.\u001b[39moutput_of\u001b[38;5;241m.\u001b[39mtype\n\u001b[0;32m---> 21\u001b[0m     op_def \u001b[38;5;241m=\u001b[39m \u001b[43mregistry_mem\u001b[49m\u001b[38;5;241;43m.\u001b[39;49m\u001b[43mmemory_registry\u001b[49m\u001b[38;5;241;43m.\u001b[39;49m\u001b[43mget_op\u001b[49m\u001b[43m(\u001b[49m\u001b[43medge\u001b[49m\u001b[38;5;241;43m.\u001b[39;49m\u001b[43minput_to\u001b[49m\u001b[38;5;241;43m.\u001b[39;49m\u001b[43mfrom_op\u001b[49m\u001b[38;5;241;43m.\u001b[39;49m\u001b[43mname\u001b[49m\u001b[43m)\u001b[49m\n\u001b[1;32m     22\u001b[0m     \u001b[38;5;28;01mif\u001b[39;00m \u001b[38;5;129;01mnot\u001b[39;00m \u001b[38;5;28misinstance\u001b[39m(op_def\u001b[38;5;241m.\u001b[39minput_type, op_args\u001b[38;5;241m.\u001b[39mOpNamedArgs):\n\u001b[1;32m     23\u001b[0m         \u001b[38;5;66;03m# Not correct... we'd want to walk these too!\u001b[39;00m\n\u001b[1;32m     24\u001b[0m         \u001b[38;5;66;03m# TODO: fix\u001b[39;00m\n\u001b[1;32m     25\u001b[0m         \u001b[38;5;28;01mcontinue\u001b[39;00m\n",
      "File \u001b[0;32m~/workspace/weave-internal/weave/registry_mem.py:118\u001b[0m, in \u001b[0;36mRegistry.get_op\u001b[0;34m(self, uri)\u001b[0m\n\u001b[1;32m    116\u001b[0m     res \u001b[38;5;241m=\u001b[39m \u001b[38;5;28mself\u001b[39m\u001b[38;5;241m.\u001b[39m_op_versions[key]\n\u001b[1;32m    117\u001b[0m \u001b[38;5;28;01melse\u001b[39;00m:\n\u001b[0;32m--> 118\u001b[0m     res \u001b[38;5;241m=\u001b[39m \u001b[43mstorage\u001b[49m\u001b[38;5;241;43m.\u001b[39;49m\u001b[43mget\u001b[49m\u001b[43m(\u001b[49m\u001b[43muri\u001b[49m\u001b[43m)\u001b[49m\n\u001b[1;32m    119\u001b[0m     \u001b[38;5;66;03m# res = storage.get(f\"op-{name}/{version}\")\u001b[39;00m\n\u001b[1;32m    120\u001b[0m     \u001b[38;5;28mself\u001b[39m\u001b[38;5;241m.\u001b[39m_op_versions[key] \u001b[38;5;241m=\u001b[39m res\n",
      "File \u001b[0;32m~/workspace/weave-internal/weave/storage.py:79\u001b[0m, in \u001b[0;36mget\u001b[0;34m(uri_s)\u001b[0m\n\u001b[1;32m     77\u001b[0m     \u001b[38;5;28;01mreturn\u001b[39;00m uri_s\u001b[38;5;241m.\u001b[39mget()\n\u001b[1;32m     78\u001b[0m ref \u001b[38;5;241m=\u001b[39m refs\u001b[38;5;241m.\u001b[39mLocalArtifactRef\u001b[38;5;241m.\u001b[39mfrom_str(uri_s)\n\u001b[0;32m---> 79\u001b[0m \u001b[38;5;28;01mreturn\u001b[39;00m \u001b[43mref\u001b[49m\u001b[38;5;241;43m.\u001b[39;49m\u001b[43mget\u001b[49m\u001b[43m(\u001b[49m\u001b[43m)\u001b[49m\n",
      "File \u001b[0;32m~/workspace/weave-internal/weave/refs.py:60\u001b[0m, in \u001b[0;36mLocalArtifactRef.get\u001b[0;34m(self)\u001b[0m\n\u001b[1;32m     59\u001b[0m \u001b[38;5;28;01mdef\u001b[39;00m \u001b[38;5;21mget\u001b[39m(\u001b[38;5;28mself\u001b[39m) \u001b[38;5;241m-\u001b[39m\u001b[38;5;241m>\u001b[39m typing\u001b[38;5;241m.\u001b[39mAny:\n\u001b[0;32m---> 60\u001b[0m     obj \u001b[38;5;241m=\u001b[39m \u001b[38;5;28;43mself\u001b[39;49m\u001b[38;5;241;43m.\u001b[39;49m\u001b[43mtype\u001b[49m\u001b[38;5;241m.\u001b[39mload_instance(\u001b[38;5;28mself\u001b[39m\u001b[38;5;241m.\u001b[39martifact, \u001b[38;5;28mself\u001b[39m\u001b[38;5;241m.\u001b[39mpath, extra\u001b[38;5;241m=\u001b[39m\u001b[38;5;28mself\u001b[39m\u001b[38;5;241m.\u001b[39mextra)\n\u001b[1;32m     61\u001b[0m     obj \u001b[38;5;241m=\u001b[39m box\u001b[38;5;241m.\u001b[39mbox(obj)\n\u001b[1;32m     62\u001b[0m     put_ref(obj, \u001b[38;5;28mself\u001b[39m)\n",
      "File \u001b[0;32m~/workspace/weave-internal/weave/refs.py:54\u001b[0m, in \u001b[0;36mLocalArtifactRef.type\u001b[0;34m(self)\u001b[0m\n\u001b[1;32m     52\u001b[0m \u001b[38;5;28;01mif\u001b[39;00m \u001b[38;5;28mself\u001b[39m\u001b[38;5;241m.\u001b[39m_type \u001b[38;5;129;01mis\u001b[39;00m \u001b[38;5;129;01mnot\u001b[39;00m \u001b[38;5;28;01mNone\u001b[39;00m:\n\u001b[1;32m     53\u001b[0m     \u001b[38;5;28;01mreturn\u001b[39;00m \u001b[38;5;28mself\u001b[39m\u001b[38;5;241m.\u001b[39m_type\n\u001b[0;32m---> 54\u001b[0m \u001b[38;5;28;01mwith\u001b[39;00m \u001b[38;5;28mself\u001b[39m\u001b[38;5;241m.\u001b[39martifact\u001b[38;5;241m.\u001b[39mopen(\u001b[38;5;124mf\u001b[39m\u001b[38;5;124m\"\u001b[39m\u001b[38;5;132;01m{\u001b[39;00m\u001b[38;5;28mself\u001b[39m\u001b[38;5;241m.\u001b[39mpath\u001b[38;5;132;01m}\u001b[39;00m\u001b[38;5;124m.type.json\u001b[39m\u001b[38;5;124m\"\u001b[39m) \u001b[38;5;28;01mas\u001b[39;00m f:\n\u001b[1;32m     55\u001b[0m     type_json \u001b[38;5;241m=\u001b[39m json\u001b[38;5;241m.\u001b[39mload(f)\n\u001b[1;32m     56\u001b[0m \u001b[38;5;28mself\u001b[39m\u001b[38;5;241m.\u001b[39m_type \u001b[38;5;241m=\u001b[39m types\u001b[38;5;241m.\u001b[39mTypeRegistry\u001b[38;5;241m.\u001b[39mtype_from_dict(type_json)\n",
      "File \u001b[0;32m~/.pyenv/versions/3.9.9/Library/Frameworks/Python.framework/Versions/3.9/lib/python3.9/contextlib.py:119\u001b[0m, in \u001b[0;36m_GeneratorContextManager.__enter__\u001b[0;34m(self)\u001b[0m\n\u001b[1;32m    117\u001b[0m \u001b[38;5;28;01mdel\u001b[39;00m \u001b[38;5;28mself\u001b[39m\u001b[38;5;241m.\u001b[39margs, \u001b[38;5;28mself\u001b[39m\u001b[38;5;241m.\u001b[39mkwds, \u001b[38;5;28mself\u001b[39m\u001b[38;5;241m.\u001b[39mfunc\n\u001b[1;32m    118\u001b[0m \u001b[38;5;28;01mtry\u001b[39;00m:\n\u001b[0;32m--> 119\u001b[0m     \u001b[38;5;28;01mreturn\u001b[39;00m \u001b[38;5;28;43mnext\u001b[39;49m\u001b[43m(\u001b[49m\u001b[38;5;28;43mself\u001b[39;49m\u001b[38;5;241;43m.\u001b[39;49m\u001b[43mgen\u001b[49m\u001b[43m)\u001b[49m\n\u001b[1;32m    120\u001b[0m \u001b[38;5;28;01mexcept\u001b[39;00m \u001b[38;5;167;01mStopIteration\u001b[39;00m:\n\u001b[1;32m    121\u001b[0m     \u001b[38;5;28;01mraise\u001b[39;00m \u001b[38;5;167;01mRuntimeError\u001b[39;00m(\u001b[38;5;124m\"\u001b[39m\u001b[38;5;124mgenerator didn\u001b[39m\u001b[38;5;124m'\u001b[39m\u001b[38;5;124mt yield\u001b[39m\u001b[38;5;124m\"\u001b[39m) \u001b[38;5;28;01mfrom\u001b[39;00m \u001b[38;5;28mNone\u001b[39m\n",
      "File \u001b[0;32m~/workspace/weave-internal/weave/artifacts_local.py:95\u001b[0m, in \u001b[0;36mLocalArtifact.open\u001b[0;34m(self, path, binary)\u001b[0m\n\u001b[1;32m     93\u001b[0m \u001b[38;5;28;01mif\u001b[39;00m binary:\n\u001b[1;32m     94\u001b[0m     mode \u001b[38;5;241m=\u001b[39m \u001b[38;5;124m\"\u001b[39m\u001b[38;5;124mrb\u001b[39m\u001b[38;5;124m\"\u001b[39m\n\u001b[0;32m---> 95\u001b[0m f \u001b[38;5;241m=\u001b[39m \u001b[38;5;28mopen\u001b[39m(\u001b[43mos\u001b[49m\u001b[38;5;241;43m.\u001b[39;49m\u001b[43mpath\u001b[49m\u001b[38;5;241;43m.\u001b[39;49m\u001b[43mjoin\u001b[49m\u001b[43m(\u001b[49m\u001b[38;5;28;43mself\u001b[39;49m\u001b[38;5;241;43m.\u001b[39;49m\u001b[43m_read_dirname\u001b[49m\u001b[43m,\u001b[49m\u001b[43m \u001b[49m\u001b[43mpath\u001b[49m\u001b[43m)\u001b[49m, mode)\n\u001b[1;32m     96\u001b[0m \u001b[38;5;28;01myield\u001b[39;00m f\n\u001b[1;32m     97\u001b[0m f\u001b[38;5;241m.\u001b[39mclose()\n",
      "File \u001b[0;32m~/.pyenv/versions/3.9.9/Library/Frameworks/Python.framework/Versions/3.9/lib/python3.9/posixpath.py:76\u001b[0m, in \u001b[0;36mjoin\u001b[0;34m(a, *p)\u001b[0m\n\u001b[1;32m     71\u001b[0m \u001b[38;5;28;01mdef\u001b[39;00m \u001b[38;5;21mjoin\u001b[39m(a, \u001b[38;5;241m*\u001b[39mp):\n\u001b[1;32m     72\u001b[0m     \u001b[38;5;124;03m\"\"\"Join two or more pathname components, inserting '/' as needed.\u001b[39;00m\n\u001b[1;32m     73\u001b[0m \u001b[38;5;124;03m    If any component is an absolute path, all previous path components\u001b[39;00m\n\u001b[1;32m     74\u001b[0m \u001b[38;5;124;03m    will be discarded.  An empty last part will result in a path that\u001b[39;00m\n\u001b[1;32m     75\u001b[0m \u001b[38;5;124;03m    ends with a separator.\"\"\"\u001b[39;00m\n\u001b[0;32m---> 76\u001b[0m     a \u001b[38;5;241m=\u001b[39m \u001b[43mos\u001b[49m\u001b[38;5;241;43m.\u001b[39;49m\u001b[43mfspath\u001b[49m\u001b[43m(\u001b[49m\u001b[43ma\u001b[49m\u001b[43m)\u001b[49m\n\u001b[1;32m     77\u001b[0m     sep \u001b[38;5;241m=\u001b[39m _get_sep(a)\n\u001b[1;32m     78\u001b[0m     path \u001b[38;5;241m=\u001b[39m a\n",
      "\u001b[0;31mTypeError\u001b[0m: expected str, bytes or os.PathLike object, not NoneType"
     ]
    }
   ],
   "source": [
    "x = weave.save(7, name='my-number')\n",
    "\n",
    "# im = sin_image(x + 2)\n",
    "weave.use(sin_val(x + 4))"
   ]
  },
  {
   "cell_type": "code",
   "execution_count": null,
   "id": "d8d06148",
   "metadata": {},
   "outputs": [],
   "source": [
    "import json\n",
    "class RunType(weave.types.BasicType):\n",
    "    name = 'run'\n",
    "\n",
    "@weave.op(\n",
    "    name=\"root-run_accuracy_barchart\",\n",
    "    render_info={\"type\": \"function\"},\n",
    "    input_type={\"runs\": weave.types.List(weave.ops.RunType())},\n",
    "    output_type=weave.types.FileType(weave.types.Const(weave.types.String(), 'png'))\n",
    ")\n",
    "def run_accuracy_barchart(runs):\n",
    "    names = [r['name'] for r in runs]\n",
    "    xs = range(len(runs))\n",
    "    ys = [r['summary'].get('acc') for r in runs]\n",
    "    \n",
    "    plt.rcParams[\"figure.figsize\"] = (22, 5)\n",
    "    plt.bar(xs, ys, align='center', alpha=0.5)\n",
    "    plt.xticks(xs, names)\n",
    "    plt.ylabel('acc')\n",
    "    plt.title('Run accuracies')\n",
    "    path = \"/tmp/my-%s.png\" % random.randrange(0, 1000000)\n",
    "    plt.savefig(path)\n",
    "    plt.close()\n",
    "    return weave.ops.LocalFile(path) "
   ]
  },
  {
   "cell_type": "code",
   "execution_count": null,
   "id": "a4dc62a2",
   "metadata": {},
   "outputs": [],
   "source": [
    "runs = weave.ops.project('shawn', 'fasion-sweep').runs()\n",
    "run_accuracy_barchart(runs)"
   ]
  }
 ],
 "metadata": {
  "kernelspec": {
   "display_name": "Python 3 (ipykernel)",
   "language": "python",
   "name": "python3"
  },
  "language_info": {
   "codemirror_mode": {
    "name": "ipython",
    "version": 3
   },
   "file_extension": ".py",
   "mimetype": "text/x-python",
   "name": "python",
   "nbconvert_exporter": "python",
   "pygments_lexer": "ipython3",
   "version": "3.9.9"
  }
 },
 "nbformat": 4,
 "nbformat_minor": 5
}
