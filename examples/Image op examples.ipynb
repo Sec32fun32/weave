{
 "cells": [
  {
   "cell_type": "code",
   "execution_count": 1,
   "id": "22034460",
   "metadata": {},
   "outputs": [
    {
     "name": "stdout",
     "output_type": "stream",
     "text": [
      "<OpDef: root-string> root-string None\n",
      "<OpDef: string-lastLetter> string-lastLetter None\n",
      "<OpDef: string-set> string-set None\n",
      "<OpDef: number-set> number-set None\n",
      "<OpDef: number-add> number-add None\n",
      "<OpDef: number-sub> number-sub None\n",
      "<OpDef: number-mult> number-mult None\n",
      "<OpDef: number-div> number-div None\n",
      "<OpDef: number-equal> number-equal None\n",
      "<OpDef: number-notEqual> number-notEqual None\n",
      "<OpDef: number-less> number-less None\n",
      "<OpDef: number-greater> number-greater None\n",
      "<OpDef: number-lessEqual> number-lessEqual None\n",
      "<OpDef: number-greaterEqual> number-greaterEqual None\n",
      "<OpDef: pick> pick None\n",
      "<OpDef: pick> pick None\n",
      "<OpDef: dict> dict None\n",
      "<OpDef: merge> merge None\n",
      "<OpDef: index> index None\n",
      "<OpDef: count> count None\n",
      "<OpDef: index> index None\n",
      "<OpDef: offset> offset None\n",
      "<OpDef: limit> limit None\n",
      "<OpDef: map> map None\n",
      "<OpDef: filter> filter None\n",
      "<OpDef: groupby> groupby None\n",
      "<OpDef: group-groupkey> group-groupkey None\n",
      "<OpDef: list-indexCheckpoint> list-indexCheckpoint None\n",
      "<OpDef: tag-indexCheckpoint> tag-indexCheckpoint None\n",
      "<OpDef: limit> limit None\n",
      "<OpDef: flatten> flatten None\n",
      "<OpDef: unnest> unnest None\n",
      "<OpDef: file-directUrl> file-directUrl None\n",
      "<OpDef: file-readcsv> file-readcsv None\n",
      "<OpDef: file-table> file-table None\n",
      "<OpDef: file-directUrlAsOf> file-directUrlAsOf None\n",
      "<OpDef: file-size> file-size None\n",
      "<OpDef: file-contents> file-contents None\n",
      "<OpDef: file-readcsvpandas> file-readcsvpandas None\n",
      "<OpDef: dir-size> dir-size None\n",
      "<OpDef: dir-pathReturnType> dir-pathReturnType None\n",
      "<OpDef: dir-path> dir-path None\n",
      "<OpDef: localpathReturnType> localpathReturnType None\n",
      "<OpDef: localpath> localpath None\n",
      "<OpDef: getReturnType> getReturnType None\n",
      "<OpDef: save> save None\n",
      "<OpDef: get> get None\n",
      "<OpDef: file-pandasreadcsv> file-pandasreadcsv None\n",
      "<OpDef: local-sqlconnection> local-sqlconnection None\n",
      "<OpDef: sqlconnection-tables> sqlconnection-tables None\n",
      "<OpDef: sqlconnection-tables-type> sqlconnection-tables-type None\n",
      "<OpDef: sqlconnection-table> sqlconnection-table None\n",
      "<OpDef: project-artifactVersion> project-artifactVersion None\n",
      "<OpDef: project-runs> project-runs None\n",
      "<OpDef: project-filtered-runs> project-filtered-runs None\n",
      "<OpDef: root-project> root-project None\n",
      "<OpDef: artifactVersion-file> artifactVersion-file None\n",
      "<OpDef: table-rows> table-rows None\n",
      "<OpDef: asset-artifactVersion> asset-artifactVersion None\n",
      "<OpDef: wbImage-url> wbImage-url None\n",
      "<OpDef: file-media> file-media None\n",
      "<OpDef: image-url> image-url None\n",
      "<OpDef: localArtifact-get> localArtifact-get None\n",
      "<OpDef: root-localArtifact> root-localArtifact None\n",
      "<OpDef: sizedstringconfig-setsize> sizedstringconfig-setsize None\n",
      "<OpDef: sliderpanel-config> sliderpanel-config None\n",
      "<OpDef: panelContainerConfig-variables> panelContainerConfig-variables None\n",
      "<OpDef: panelContainerConfig-panels> panelContainerConfig-panels None\n",
      "<OpDef: containerpanel-config> containerpanel-config None\n"
     ]
    }
   ],
   "source": [
    "import weave\n",
    "# weave.capture_weave_server_logs()\n",
    "\n",
    "# weave.use_fixed_server_port()"
   ]
  },
  {
   "cell_type": "code",
   "execution_count": 2,
   "id": "d03dc328",
   "metadata": {},
   "outputs": [
    {
     "name": "stdout",
     "output_type": "stream",
     "text": [
      "<OpDef: root-sin_val> root-sin_val None\n"
     ]
    }
   ],
   "source": [
    "import numpy as np\n",
    "import matplotlib.pyplot as plt\n",
    "import random\n",
    "\n",
    "# @weave.op(\n",
    "#     name=\"root-sin_image\",\n",
    "#     render_info={\"type\": \"function\"},\n",
    "#     input_type={\"f\": weave.types.Int()},\n",
    "#     output_type=weave.types.FileType(weave.types.Const(weave.types.String(), \"png\")),\n",
    "# )\n",
    "# def sin_image(f):    \n",
    "#     x = np.arange(0, f * np.pi, 0.1)\n",
    "#     y = np.sin(x)\n",
    "#     path = \"/tmp/my-%s.png\" % random.randrange(0, 1000000)\n",
    "#     plt.rcParams[\"figure.figsize\"] = (22, 7)\n",
    "#     plt.plot(x, y)\n",
    "#     plt.savefig(path)\n",
    "#     plt.close()\n",
    "#     return weave.ops.LocalFile(path)\n",
    "\n",
    "\n",
    "@weave.op(\n",
    "    name=\"root-sin_val\",\n",
    "    render_info={\"type\": \"function\"},\n",
    ")\n",
    "def sin_val(x: float) -> float:    \n",
    "     return float(np.sin(x))"
   ]
  },
  {
   "cell_type": "code",
   "execution_count": 3,
   "id": "217d0cd2",
   "metadata": {},
   "outputs": [
    {
     "name": "stdout",
     "output_type": "stream",
     "text": [
      "7 my-number None\n"
     ]
    },
    {
     "ename": "Exception",
     "evalue": "('invalid scheme ', 'my-number/93936b8ceaec82097f911d4d0d04e174')",
     "output_type": "error",
     "traceback": [
      "\u001b[0;31m---------------------------------------------------------------------------\u001b[0m",
      "\u001b[0;31mException\u001b[0m                                 Traceback (most recent call last)",
      "Input \u001b[0;32mIn [3]\u001b[0m, in \u001b[0;36m<cell line: 4>\u001b[0;34m()\u001b[0m\n\u001b[1;32m      1\u001b[0m x \u001b[38;5;241m=\u001b[39m weave\u001b[38;5;241m.\u001b[39msave(\u001b[38;5;241m7\u001b[39m, name\u001b[38;5;241m=\u001b[39m\u001b[38;5;124m'\u001b[39m\u001b[38;5;124mmy-number\u001b[39m\u001b[38;5;124m'\u001b[39m)\n\u001b[1;32m      3\u001b[0m \u001b[38;5;66;03m# im = sin_image(x + 2)\u001b[39;00m\n\u001b[0;32m----> 4\u001b[0m weave\u001b[38;5;241m.\u001b[39muse(sin_val(x))\n",
      "File \u001b[0;32m~/workspace/weave-internal/weave/api.py:63\u001b[0m, in \u001b[0;36muse\u001b[0;34m(nodes, client)\u001b[0m\n\u001b[1;32m     61\u001b[0m actual_nodes \u001b[38;5;241m=\u001b[39m []\n\u001b[1;32m     62\u001b[0m \u001b[38;5;28;01mfor\u001b[39;00m node \u001b[38;5;129;01min\u001b[39;00m nodes:\n\u001b[0;32m---> 63\u001b[0m     actual_nodes\u001b[38;5;241m.\u001b[39mappend(_graph\u001b[38;5;241m.\u001b[39mNode\u001b[38;5;241m.\u001b[39mnode_from_json(\u001b[43mnode\u001b[49m\u001b[38;5;241;43m.\u001b[39;49m\u001b[43mto_json\u001b[49m\u001b[43m(\u001b[49m\u001b[43m)\u001b[49m))\n\u001b[1;32m     65\u001b[0m result \u001b[38;5;241m=\u001b[39m client\u001b[38;5;241m.\u001b[39mexecute(actual_nodes)\n\u001b[1;32m     67\u001b[0m \u001b[38;5;28;01mif\u001b[39;00m single:\n",
      "File \u001b[0;32m~/workspace/weave-internal/weave/graph.py:88\u001b[0m, in \u001b[0;36mOutputNode.to_json\u001b[0;34m(self)\u001b[0m\n\u001b[1;32m     84\u001b[0m \u001b[38;5;28;01mdef\u001b[39;00m \u001b[38;5;21mto_json\u001b[39m(\u001b[38;5;28mself\u001b[39m):\n\u001b[1;32m     85\u001b[0m     \u001b[38;5;28;01mreturn\u001b[39;00m {\n\u001b[1;32m     86\u001b[0m         \u001b[38;5;124m\"\u001b[39m\u001b[38;5;124mnodeType\u001b[39m\u001b[38;5;124m\"\u001b[39m: \u001b[38;5;124m\"\u001b[39m\u001b[38;5;124moutput\u001b[39m\u001b[38;5;124m\"\u001b[39m,\n\u001b[1;32m     87\u001b[0m         \u001b[38;5;124m\"\u001b[39m\u001b[38;5;124mtype\u001b[39m\u001b[38;5;124m\"\u001b[39m: \u001b[38;5;28mself\u001b[39m\u001b[38;5;241m.\u001b[39mtype\u001b[38;5;241m.\u001b[39mto_dict(),\n\u001b[0;32m---> 88\u001b[0m         \u001b[38;5;124m\"\u001b[39m\u001b[38;5;124mfromOp\u001b[39m\u001b[38;5;124m\"\u001b[39m: \u001b[38;5;28;43mself\u001b[39;49m\u001b[38;5;241;43m.\u001b[39;49m\u001b[43mfrom_op\u001b[49m\u001b[38;5;241;43m.\u001b[39;49m\u001b[43mto_json\u001b[49m\u001b[43m(\u001b[49m\u001b[43m)\u001b[49m,\n\u001b[1;32m     89\u001b[0m     }\n",
      "File \u001b[0;32m~/workspace/weave-internal/weave/graph.py:57\u001b[0m, in \u001b[0;36mOp.to_json\u001b[0;34m(self)\u001b[0m\n\u001b[1;32m     55\u001b[0m json_inputs \u001b[38;5;241m=\u001b[39m {}\n\u001b[1;32m     56\u001b[0m \u001b[38;5;28;01mfor\u001b[39;00m k, v \u001b[38;5;129;01min\u001b[39;00m \u001b[38;5;28mself\u001b[39m\u001b[38;5;241m.\u001b[39minputs\u001b[38;5;241m.\u001b[39mitems():\n\u001b[0;32m---> 57\u001b[0m     json_inputs[k] \u001b[38;5;241m=\u001b[39m \u001b[43mv\u001b[49m\u001b[38;5;241;43m.\u001b[39;49m\u001b[43mto_json\u001b[49m\u001b[43m(\u001b[49m\u001b[43m)\u001b[49m\n\u001b[1;32m     58\u001b[0m \u001b[38;5;28;01mreturn\u001b[39;00m {\u001b[38;5;124m\"\u001b[39m\u001b[38;5;124mname\u001b[39m\u001b[38;5;124m\"\u001b[39m: \u001b[38;5;28mself\u001b[39m\u001b[38;5;241m.\u001b[39mname, \u001b[38;5;124m\"\u001b[39m\u001b[38;5;124minputs\u001b[39m\u001b[38;5;124m\"\u001b[39m: json_inputs}\n",
      "File \u001b[0;32m~/workspace/weave-internal/weave/graph.py:139\u001b[0m, in \u001b[0;36mConstNode.to_json\u001b[0;34m(self)\u001b[0m\n\u001b[1;32m    136\u001b[0m \u001b[38;5;28;01mfrom\u001b[39;00m \u001b[38;5;21;01m.\u001b[39;00m\u001b[38;5;21;01mops_domain\u001b[39;00m \u001b[38;5;28;01mimport\u001b[39;00m file\n\u001b[1;32m    138\u001b[0m \u001b[38;5;28;01mif\u001b[39;00m ref \u001b[38;5;129;01mis\u001b[39;00m \u001b[38;5;129;01mnot\u001b[39;00m \u001b[38;5;28;01mNone\u001b[39;00m:\n\u001b[0;32m--> 139\u001b[0m     val \u001b[38;5;241m=\u001b[39m \u001b[43mfile\u001b[49m\u001b[38;5;241;43m.\u001b[39;49m\u001b[43mget\u001b[49m\u001b[43m(\u001b[49m\u001b[38;5;28;43mstr\u001b[39;49m\u001b[43m(\u001b[49m\u001b[43mref\u001b[49m\u001b[43m)\u001b[49m\u001b[43m)\u001b[49m\u001b[38;5;241m.\u001b[39mto_json()\n\u001b[1;32m    140\u001b[0m     \u001b[38;5;28;01mreturn\u001b[39;00m val\n\u001b[1;32m    142\u001b[0m \u001b[38;5;28;01mreturn\u001b[39;00m {\u001b[38;5;124m\"\u001b[39m\u001b[38;5;124mnodeType\u001b[39m\u001b[38;5;124m\"\u001b[39m: \u001b[38;5;124m\"\u001b[39m\u001b[38;5;124mconst\u001b[39m\u001b[38;5;124m\"\u001b[39m, \u001b[38;5;124m\"\u001b[39m\u001b[38;5;124mtype\u001b[39m\u001b[38;5;124m\"\u001b[39m: \u001b[38;5;28mself\u001b[39m\u001b[38;5;241m.\u001b[39mtype\u001b[38;5;241m.\u001b[39mto_dict(), \u001b[38;5;124m\"\u001b[39m\u001b[38;5;124mval\u001b[39m\u001b[38;5;124m\"\u001b[39m: val}\n",
      "File \u001b[0;32m~/workspace/weave-internal/weave/lazy.py:74\u001b[0m, in \u001b[0;36mmake_lazy_call.<locals>.lazy_call\u001b[0;34m(*args, **kwargs)\u001b[0m\n\u001b[1;32m     72\u001b[0m \u001b[38;5;28;01mdef\u001b[39;00m \u001b[38;5;21mlazy_call\u001b[39m(\u001b[38;5;241m*\u001b[39margs, \u001b[38;5;241m*\u001b[39m\u001b[38;5;241m*\u001b[39mkwargs):\n\u001b[1;32m     73\u001b[0m     bound_params \u001b[38;5;241m=\u001b[39m _bind_params(sig, args, kwargs, input_type)\n\u001b[0;32m---> 74\u001b[0m     \u001b[38;5;28;01mreturn\u001b[39;00m \u001b[43m_make_output_node\u001b[49m\u001b[43m(\u001b[49m\u001b[43mfq_op_name\u001b[49m\u001b[43m,\u001b[49m\u001b[43m \u001b[49m\u001b[43mbound_params\u001b[49m\u001b[43m,\u001b[49m\u001b[43m \u001b[49m\u001b[43moutput_type\u001b[49m\u001b[43m)\u001b[49m\n",
      "File \u001b[0;32m~/workspace/weave-internal/weave/lazy.py:33\u001b[0m, in \u001b[0;36m_make_output_node\u001b[0;34m(fq_op_name, bound_params, output_type_)\u001b[0m\n\u001b[1;32m     31\u001b[0m \u001b[38;5;28;01mif\u001b[39;00m callable(output_type):\n\u001b[1;32m     32\u001b[0m     new_input_type \u001b[38;5;241m=\u001b[39m {k: n\u001b[38;5;241m.\u001b[39mtype \u001b[38;5;28;01mfor\u001b[39;00m k, n \u001b[38;5;129;01min\u001b[39;00m bound_params\u001b[38;5;241m.\u001b[39mitems()}\n\u001b[0;32m---> 33\u001b[0m     output_type \u001b[38;5;241m=\u001b[39m \u001b[43moutput_type\u001b[49m\u001b[43m(\u001b[49m\u001b[43mnew_input_type\u001b[49m\u001b[43m)\u001b[49m\n\u001b[1;32m     35\u001b[0m \u001b[38;5;28;01mif\u001b[39;00m \u001b[38;5;28mhasattr\u001b[39m(output_type, \u001b[38;5;124m\"\u001b[39m\u001b[38;5;124mNodeMethodsClass\u001b[39m\u001b[38;5;124m\"\u001b[39m):\n\u001b[1;32m     36\u001b[0m     name \u001b[38;5;241m=\u001b[39m \u001b[38;5;124m\"\u001b[39m\u001b[38;5;124mOutputNode\u001b[39m\u001b[38;5;132;01m%s\u001b[39;00m\u001b[38;5;124m\"\u001b[39m \u001b[38;5;241m%\u001b[39m output_type\u001b[38;5;241m.\u001b[39m\u001b[38;5;18m__class__\u001b[39m\u001b[38;5;241m.\u001b[39m\u001b[38;5;18m__name__\u001b[39m\n",
      "File \u001b[0;32m~/workspace/weave-internal/weave/ops_primitives/file.py:372\u001b[0m, in \u001b[0;36mop_get_return_type_from_inputs\u001b[0;34m(inputs)\u001b[0m\n\u001b[1;32m    371\u001b[0m \u001b[38;5;28;01mdef\u001b[39;00m \u001b[38;5;21mop_get_return_type_from_inputs\u001b[39m(inputs):\n\u001b[0;32m--> 372\u001b[0m     \u001b[38;5;28;01mreturn\u001b[39;00m \u001b[43mop_get_return_type\u001b[49m\u001b[43m(\u001b[49m\u001b[43minputs\u001b[49m\u001b[43m[\u001b[49m\u001b[38;5;124;43m\"\u001b[39;49m\u001b[38;5;124;43muri\u001b[39;49m\u001b[38;5;124;43m\"\u001b[39;49m\u001b[43m]\u001b[49m\u001b[38;5;241;43m.\u001b[39;49m\u001b[43mval\u001b[49m\u001b[43m)\u001b[49m\n",
      "File \u001b[0;32m~/workspace/weave-internal/weave/ops_primitives/file.py:368\u001b[0m, in \u001b[0;36mop_get_return_type\u001b[0;34m(uri)\u001b[0m\n\u001b[1;32m    365\u001b[0m \u001b[38;5;28;01mdef\u001b[39;00m \u001b[38;5;21mop_get_return_type\u001b[39m(uri):\n\u001b[1;32m    366\u001b[0m     \u001b[38;5;28;01mfrom\u001b[39;00m \u001b[38;5;21;01m.\u001b[39;00m \u001b[38;5;28;01mimport\u001b[39;00m storage\n\u001b[0;32m--> 368\u001b[0m     \u001b[38;5;28;01mreturn\u001b[39;00m \u001b[43mstorage\u001b[49m\u001b[38;5;241;43m.\u001b[39;49m\u001b[43mrefs\u001b[49m\u001b[38;5;241;43m.\u001b[39;49m\u001b[43mLocalArtifactRef\u001b[49m\u001b[38;5;241;43m.\u001b[39;49m\u001b[43mfrom_str\u001b[49m\u001b[43m(\u001b[49m\u001b[43muri\u001b[49m\u001b[43m)\u001b[49m\u001b[38;5;241m.\u001b[39mtype\n",
      "File \u001b[0;32m~/workspace/weave-internal/weave/refs.py:131\u001b[0m, in \u001b[0;36mLocalArtifactRef.from_str\u001b[0;34m(cls, s, type)\u001b[0m\n\u001b[1;32m    129\u001b[0m uri \u001b[38;5;241m=\u001b[39m WeaveObjectURI\u001b[38;5;241m.\u001b[39mparsestr(s)\n\u001b[1;32m    130\u001b[0m \u001b[38;5;28;01mif\u001b[39;00m uri\u001b[38;5;241m.\u001b[39mscheme \u001b[38;5;241m!=\u001b[39m Scheme\u001b[38;5;241m.\u001b[39mLOCAL_FILE:\n\u001b[0;32m--> 131\u001b[0m     \u001b[38;5;28;01mraise\u001b[39;00m \u001b[38;5;167;01mException\u001b[39;00m(\u001b[38;5;124m\"\u001b[39m\u001b[38;5;124minvalid scheme \u001b[39m\u001b[38;5;124m\"\u001b[39m, s)\n\u001b[1;32m    132\u001b[0m \u001b[38;5;28;01mreturn\u001b[39;00m \u001b[38;5;28mcls\u001b[39m(artifacts_local\u001b[38;5;241m.\u001b[39mLocalArtifact(uri\u001b[38;5;241m.\u001b[39mname, uri\u001b[38;5;241m.\u001b[39mversion), path\u001b[38;5;241m=\u001b[39m\u001b[38;5;124m\"\u001b[39m\u001b[38;5;124m_obj\u001b[39m\u001b[38;5;124m\"\u001b[39m, \u001b[38;5;28mtype\u001b[39m\u001b[38;5;241m=\u001b[39m\u001b[38;5;28mtype\u001b[39m)\n",
      "\u001b[0;31mException\u001b[0m: ('invalid scheme ', 'my-number/93936b8ceaec82097f911d4d0d04e174')"
     ]
    }
   ],
   "source": [
    "x = weave.save(7, name='my-number')\n",
    "\n",
    "# im = sin_image(x + 2)\n",
    "weave.use(sin_val(x))"
   ]
  },
  {
   "cell_type": "code",
   "execution_count": null,
   "id": "d8d06148",
   "metadata": {},
   "outputs": [],
   "source": [
    "import json\n",
    "class RunType(weave.types.BasicType):\n",
    "    name = 'run'\n",
    "\n",
    "@weave.op(\n",
    "    name=\"root-run_accuracy_barchart\",\n",
    "    render_info={\"type\": \"function\"},\n",
    "    input_type={\"runs\": weave.types.List(weave.ops.RunType())},\n",
    "    output_type=weave.types.FileType(weave.types.Const(weave.types.String(), 'png'))\n",
    ")\n",
    "def run_accuracy_barchart(runs):\n",
    "    names = [r['name'] for r in runs]\n",
    "    xs = range(len(runs))\n",
    "    ys = [r['summary'].get('acc') for r in runs]\n",
    "    \n",
    "    plt.rcParams[\"figure.figsize\"] = (22, 5)\n",
    "    plt.bar(xs, ys, align='center', alpha=0.5)\n",
    "    plt.xticks(xs, names)\n",
    "    plt.ylabel('acc')\n",
    "    plt.title('Run accuracies')\n",
    "    path = \"/tmp/my-%s.png\" % random.randrange(0, 1000000)\n",
    "    plt.savefig(path)\n",
    "    plt.close()\n",
    "    return weave.ops.LocalFile(path) "
   ]
  },
  {
   "cell_type": "code",
   "execution_count": null,
   "id": "a4dc62a2",
   "metadata": {},
   "outputs": [],
   "source": [
    "runs = weave.ops.project('shawn', 'fasion-sweep').runs()\n",
    "run_accuracy_barchart(runs)"
   ]
  }
 ],
 "metadata": {
  "kernelspec": {
   "display_name": "Python 3 (ipykernel)",
   "language": "python",
   "name": "python3"
  },
  "language_info": {
   "codemirror_mode": {
    "name": "ipython",
    "version": 3
   },
   "file_extension": ".py",
   "mimetype": "text/x-python",
   "name": "python",
   "nbconvert_exporter": "python",
   "pygments_lexer": "ipython3",
   "version": "3.9.9"
  }
 },
 "nbformat": 4,
 "nbformat_minor": 5
}
