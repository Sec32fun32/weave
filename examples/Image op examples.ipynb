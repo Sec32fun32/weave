{
 "cells": [
  {
   "cell_type": "code",
   "execution_count": 1,
   "id": "22034460",
   "metadata": {},
   "outputs": [],
   "source": [
    "import weave\n",
    "# weave.capture_weave_server_logs()\n",
    "\n",
    "# weave.use_fixed_server_port()"
   ]
  },
  {
   "cell_type": "code",
   "execution_count": 2,
   "id": "d03dc328",
   "metadata": {},
   "outputs": [],
   "source": [
    "import numpy as np\n",
    "import matplotlib.pyplot as plt\n",
    "import random\n",
    "\n",
    "# @weave.op(\n",
    "#     name=\"root-sin_image\",\n",
    "#     render_info={\"type\": \"function\"},\n",
    "#     input_type={\"f\": weave.types.Int()},\n",
    "#     output_type=weave.types.FileType(weave.types.Const(weave.types.String(), \"png\")),\n",
    "# )\n",
    "# def sin_image(f):    \n",
    "#     x = np.arange(0, f * np.pi, 0.1)\n",
    "#     y = np.sin(x)\n",
    "#     path = \"/tmp/my-%s.png\" % random.randrange(0, 1000000)\n",
    "#     plt.rcParams[\"figure.figsize\"] = (22, 7)\n",
    "#     plt.plot(x, y)\n",
    "#     plt.savefig(path)\n",
    "#     plt.close()\n",
    "#     return weave.ops.LocalFile(path)\n",
    "\n",
    "\n",
    "@weave.op(\n",
    "    name=\"root-sin_val\",\n",
    "    render_info={\"type\": \"function\"},\n",
    ")\n",
    "def sin_val(x: float) -> float:    \n",
    "     return float(np.sin(x))"
   ]
  },
  {
   "cell_type": "code",
   "execution_count": 3,
   "id": "217d0cd2",
   "metadata": {},
   "outputs": [
    {
     "name": "stdout",
     "output_type": "stream",
     "text": [
      "self._read_dirname local-artifacts/my-number/93936b8ceaec82097f911d4d0d04e174\n",
      "path _obj.type.json\n",
      "self._read_dirname None\n",
      "path timothysweeney.type.json\n"
     ]
    },
    {
     "ename": "TypeError",
     "evalue": "expected str, bytes or os.PathLike object, not NoneType",
     "output_type": "error",
     "traceback": [
      "\u001b[0;31m---------------------------------------------------------------------------\u001b[0m",
      "\u001b[0;31mTypeError\u001b[0m                                 Traceback (most recent call last)",
      "Input \u001b[0;32mIn [3]\u001b[0m, in \u001b[0;36m<cell line: 4>\u001b[0;34m()\u001b[0m\n\u001b[1;32m      1\u001b[0m x \u001b[38;5;241m=\u001b[39m weave\u001b[38;5;241m.\u001b[39msave(\u001b[38;5;241m7\u001b[39m, name\u001b[38;5;241m=\u001b[39m\u001b[38;5;124m'\u001b[39m\u001b[38;5;124mmy-number\u001b[39m\u001b[38;5;124m'\u001b[39m)\n\u001b[1;32m      3\u001b[0m \u001b[38;5;66;03m# im = sin_image(x + 2)\u001b[39;00m\n\u001b[0;32m----> 4\u001b[0m weave\u001b[38;5;241m.\u001b[39muse(sin_val(x \u001b[38;5;241m+\u001b[39m \u001b[38;5;241m4\u001b[39m))\n",
      "File \u001b[0;32m~/workspace/weave-internal/weave/api.py:65\u001b[0m, in \u001b[0;36muse\u001b[0;34m(nodes, client)\u001b[0m\n\u001b[1;32m     62\u001b[0m \u001b[38;5;28;01mfor\u001b[39;00m node \u001b[38;5;129;01min\u001b[39;00m nodes:\n\u001b[1;32m     63\u001b[0m     actual_nodes\u001b[38;5;241m.\u001b[39mappend(_graph\u001b[38;5;241m.\u001b[39mNode\u001b[38;5;241m.\u001b[39mnode_from_json(node\u001b[38;5;241m.\u001b[39mto_json()))\n\u001b[0;32m---> 65\u001b[0m result \u001b[38;5;241m=\u001b[39m \u001b[43mclient\u001b[49m\u001b[38;5;241;43m.\u001b[39;49m\u001b[43mexecute\u001b[49m\u001b[43m(\u001b[49m\u001b[43mactual_nodes\u001b[49m\u001b[43m)\u001b[49m\n\u001b[1;32m     67\u001b[0m \u001b[38;5;28;01mif\u001b[39;00m single:\n\u001b[1;32m     68\u001b[0m     result \u001b[38;5;241m=\u001b[39m result[\u001b[38;5;241m0\u001b[39m]\n",
      "File \u001b[0;32m~/workspace/weave-internal/weave/client.py:9\u001b[0m, in \u001b[0;36mClient.execute\u001b[0;34m(self, nodes, no_cache)\u001b[0m\n\u001b[1;32m      8\u001b[0m \u001b[38;5;28;01mdef\u001b[39;00m \u001b[38;5;21mexecute\u001b[39m(\u001b[38;5;28mself\u001b[39m, nodes, no_cache\u001b[38;5;241m=\u001b[39m\u001b[38;5;28;01mFalse\u001b[39;00m):\n\u001b[0;32m----> 9\u001b[0m     results \u001b[38;5;241m=\u001b[39m \u001b[38;5;28;43mself\u001b[39;49m\u001b[38;5;241;43m.\u001b[39;49m\u001b[43mserver\u001b[49m\u001b[38;5;241;43m.\u001b[39;49m\u001b[43mexecute\u001b[49m\u001b[43m(\u001b[49m\u001b[43mnodes\u001b[49m\u001b[43m,\u001b[49m\u001b[43m \u001b[49m\u001b[43mno_cache\u001b[49m\u001b[38;5;241;43m=\u001b[39;49m\u001b[43mno_cache\u001b[49m\u001b[43m)\u001b[49m\n\u001b[1;32m     10\u001b[0m     \u001b[38;5;28;01mreturn\u001b[39;00m [storage\u001b[38;5;241m.\u001b[39mderef(r) \u001b[38;5;28;01mfor\u001b[39;00m r \u001b[38;5;129;01min\u001b[39;00m results]\n",
      "File \u001b[0;32m~/workspace/weave-internal/weave/server.py:94\u001b[0m, in \u001b[0;36mInProcessServer.execute\u001b[0;34m(self, nodes, no_cache)\u001b[0m\n\u001b[1;32m     91\u001b[0m \u001b[38;5;28;01mdef\u001b[39;00m \u001b[38;5;21mexecute\u001b[39m(\u001b[38;5;28mself\u001b[39m, nodes, no_cache\u001b[38;5;241m=\u001b[39m\u001b[38;5;28;01mFalse\u001b[39;00m):\n\u001b[1;32m     92\u001b[0m     \u001b[38;5;28;01mfrom\u001b[39;00m \u001b[38;5;21;01m.\u001b[39;00m \u001b[38;5;28;01mimport\u001b[39;00m execute\n\u001b[0;32m---> 94\u001b[0m     \u001b[38;5;28;01mreturn\u001b[39;00m \u001b[43mexecute\u001b[49m\u001b[38;5;241;43m.\u001b[39;49m\u001b[43mexecute_nodes\u001b[49m\u001b[43m(\u001b[49m\u001b[43mnodes\u001b[49m\u001b[43m,\u001b[49m\u001b[43m \u001b[49m\u001b[43mno_cache\u001b[49m\u001b[38;5;241;43m=\u001b[39;49m\u001b[43mno_cache\u001b[49m\u001b[43m)\u001b[49m\n",
      "File \u001b[0;32m~/workspace/weave-internal/weave/execute.py:21\u001b[0m, in \u001b[0;36mexecute_nodes\u001b[0;34m(nodes, no_cache)\u001b[0m\n\u001b[1;32m     20\u001b[0m \u001b[38;5;28;01mdef\u001b[39;00m \u001b[38;5;21mexecute_nodes\u001b[39m(nodes, no_cache\u001b[38;5;241m=\u001b[39m\u001b[38;5;28;01mFalse\u001b[39;00m):\n\u001b[0;32m---> 21\u001b[0m     nodes \u001b[38;5;241m=\u001b[39m \u001b[38;5;28;43mcompile\u001b[39;49m\u001b[38;5;241;43m.\u001b[39;49m\u001b[43mcompile\u001b[49m\u001b[43m(\u001b[49m\u001b[43mnodes\u001b[49m\u001b[43m)\u001b[49m\n\u001b[1;32m     22\u001b[0m     fg \u001b[38;5;241m=\u001b[39m forward_graph\u001b[38;5;241m.\u001b[39mForwardGraph(nodes)\n\u001b[1;32m     24\u001b[0m     \u001b[38;5;28;01mwith\u001b[39;00m context\u001b[38;5;241m.\u001b[39mexecution_client():\n",
      "File \u001b[0;32m~/workspace/weave-internal/weave/compile.py:59\u001b[0m, in \u001b[0;36mcompile\u001b[0;34m(nodes)\u001b[0m\n\u001b[1;32m     58\u001b[0m \u001b[38;5;28;01mdef\u001b[39;00m \u001b[38;5;21mcompile\u001b[39m(nodes: typing\u001b[38;5;241m.\u001b[39mList[graph\u001b[38;5;241m.\u001b[39mNode]):\n\u001b[0;32m---> 59\u001b[0m     nodes \u001b[38;5;241m=\u001b[39m \u001b[43mawait_run_outputs\u001b[49m\u001b[43m(\u001b[49m\u001b[43mnodes\u001b[49m\u001b[43m)\u001b[49m\n\u001b[1;32m     60\u001b[0m     \u001b[38;5;28;01mreturn\u001b[39;00m nodes\n",
      "File \u001b[0;32m~/workspace/weave-internal/weave/compile.py:21\u001b[0m, in \u001b[0;36mawait_run_outputs\u001b[0;34m(nodes)\u001b[0m\n\u001b[1;32m     19\u001b[0m \u001b[38;5;28;01mfor\u001b[39;00m edge \u001b[38;5;129;01min\u001b[39;00m edit_g\u001b[38;5;241m.\u001b[39medges:\n\u001b[1;32m     20\u001b[0m     actual_input_type \u001b[38;5;241m=\u001b[39m edge\u001b[38;5;241m.\u001b[39moutput_of\u001b[38;5;241m.\u001b[39mtype\n\u001b[0;32m---> 21\u001b[0m     op_def \u001b[38;5;241m=\u001b[39m \u001b[43mregistry_mem\u001b[49m\u001b[38;5;241;43m.\u001b[39;49m\u001b[43mmemory_registry\u001b[49m\u001b[38;5;241;43m.\u001b[39;49m\u001b[43mget_op\u001b[49m\u001b[43m(\u001b[49m\u001b[43medge\u001b[49m\u001b[38;5;241;43m.\u001b[39;49m\u001b[43minput_to\u001b[49m\u001b[38;5;241;43m.\u001b[39;49m\u001b[43mfrom_op\u001b[49m\u001b[38;5;241;43m.\u001b[39;49m\u001b[43mname\u001b[49m\u001b[43m)\u001b[49m\n\u001b[1;32m     22\u001b[0m     \u001b[38;5;28;01mif\u001b[39;00m \u001b[38;5;129;01mnot\u001b[39;00m \u001b[38;5;28misinstance\u001b[39m(op_def\u001b[38;5;241m.\u001b[39minput_type, op_args\u001b[38;5;241m.\u001b[39mOpNamedArgs):\n\u001b[1;32m     23\u001b[0m         \u001b[38;5;66;03m# Not correct... we'd want to walk these too!\u001b[39;00m\n\u001b[1;32m     24\u001b[0m         \u001b[38;5;66;03m# TODO: fix\u001b[39;00m\n\u001b[1;32m     25\u001b[0m         \u001b[38;5;28;01mcontinue\u001b[39;00m\n",
      "File \u001b[0;32m~/workspace/weave-internal/weave/registry_mem.py:120\u001b[0m, in \u001b[0;36mRegistry.get_op\u001b[0;34m(self, uri)\u001b[0m\n\u001b[1;32m    118\u001b[0m         res \u001b[38;5;241m=\u001b[39m \u001b[38;5;28mself\u001b[39m\u001b[38;5;241m.\u001b[39m_op_versions[object_key]\n\u001b[1;32m    119\u001b[0m     \u001b[38;5;28;01melse\u001b[39;00m:\n\u001b[0;32m--> 120\u001b[0m         res \u001b[38;5;241m=\u001b[39m \u001b[43mstorage\u001b[49m\u001b[38;5;241;43m.\u001b[39;49m\u001b[43mget\u001b[49m\u001b[43m(\u001b[49m\u001b[43mobject_key\u001b[49m\u001b[43m)\u001b[49m\n\u001b[1;32m    121\u001b[0m         \u001b[38;5;28mself\u001b[39m\u001b[38;5;241m.\u001b[39m_op_versions[object_key] \u001b[38;5;241m=\u001b[39m res\n\u001b[1;32m    122\u001b[0m \u001b[38;5;28;01melif\u001b[39;00m uri \u001b[38;5;129;01min\u001b[39;00m \u001b[38;5;28mself\u001b[39m\u001b[38;5;241m.\u001b[39m_ops:\n",
      "File \u001b[0;32m~/workspace/weave-internal/weave/storage.py:108\u001b[0m, in \u001b[0;36mget\u001b[0;34m(uri_s)\u001b[0m\n\u001b[1;32m    106\u001b[0m     \u001b[38;5;28;01mreturn\u001b[39;00m uri_s\u001b[38;5;241m.\u001b[39mget()\n\u001b[1;32m    107\u001b[0m ref \u001b[38;5;241m=\u001b[39m refs\u001b[38;5;241m.\u001b[39mLocalArtifactRef\u001b[38;5;241m.\u001b[39mfrom_str(uri_s)\n\u001b[0;32m--> 108\u001b[0m \u001b[38;5;28;01mreturn\u001b[39;00m \u001b[43mref\u001b[49m\u001b[38;5;241;43m.\u001b[39;49m\u001b[43mget\u001b[49m\u001b[43m(\u001b[49m\u001b[43m)\u001b[49m\n",
      "File \u001b[0;32m~/workspace/weave-internal/weave/refs.py:98\u001b[0m, in \u001b[0;36mLocalArtifactRef.get\u001b[0;34m(self)\u001b[0m\n\u001b[1;32m     96\u001b[0m \u001b[38;5;28;01mif\u001b[39;00m \u001b[38;5;28mself\u001b[39m\u001b[38;5;241m.\u001b[39mobj:\n\u001b[1;32m     97\u001b[0m     \u001b[38;5;28;01mreturn\u001b[39;00m \u001b[38;5;28mself\u001b[39m\u001b[38;5;241m.\u001b[39mobj\n\u001b[0;32m---> 98\u001b[0m obj \u001b[38;5;241m=\u001b[39m \u001b[38;5;28;43mself\u001b[39;49m\u001b[38;5;241;43m.\u001b[39;49m\u001b[43mtype\u001b[49m\u001b[38;5;241m.\u001b[39mload_instance(\u001b[38;5;28mself\u001b[39m\u001b[38;5;241m.\u001b[39martifact, \u001b[38;5;28mself\u001b[39m\u001b[38;5;241m.\u001b[39mpath, extra\u001b[38;5;241m=\u001b[39m\u001b[38;5;28mself\u001b[39m\u001b[38;5;241m.\u001b[39mextra)\n\u001b[1;32m     99\u001b[0m obj \u001b[38;5;241m=\u001b[39m box\u001b[38;5;241m.\u001b[39mbox(obj)\n\u001b[1;32m    100\u001b[0m put_ref(obj, \u001b[38;5;28mself\u001b[39m)\n",
      "File \u001b[0;32m~/workspace/weave-internal/weave/refs.py:90\u001b[0m, in \u001b[0;36mLocalArtifactRef.type\u001b[0;34m(self)\u001b[0m\n\u001b[1;32m     88\u001b[0m \u001b[38;5;28;01mif\u001b[39;00m \u001b[38;5;28mself\u001b[39m\u001b[38;5;241m.\u001b[39m_type \u001b[38;5;129;01mis\u001b[39;00m \u001b[38;5;129;01mnot\u001b[39;00m \u001b[38;5;28;01mNone\u001b[39;00m:\n\u001b[1;32m     89\u001b[0m     \u001b[38;5;28;01mreturn\u001b[39;00m \u001b[38;5;28mself\u001b[39m\u001b[38;5;241m.\u001b[39m_type\n\u001b[0;32m---> 90\u001b[0m \u001b[38;5;28;01mwith\u001b[39;00m \u001b[38;5;28mself\u001b[39m\u001b[38;5;241m.\u001b[39martifact\u001b[38;5;241m.\u001b[39mopen(\u001b[38;5;124mf\u001b[39m\u001b[38;5;124m\"\u001b[39m\u001b[38;5;132;01m{\u001b[39;00m\u001b[38;5;28mself\u001b[39m\u001b[38;5;241m.\u001b[39mpath\u001b[38;5;132;01m}\u001b[39;00m\u001b[38;5;124m.type.json\u001b[39m\u001b[38;5;124m\"\u001b[39m) \u001b[38;5;28;01mas\u001b[39;00m f:\n\u001b[1;32m     91\u001b[0m     type_json \u001b[38;5;241m=\u001b[39m json\u001b[38;5;241m.\u001b[39mload(f)\n\u001b[1;32m     92\u001b[0m \u001b[38;5;28mself\u001b[39m\u001b[38;5;241m.\u001b[39m_type \u001b[38;5;241m=\u001b[39m types\u001b[38;5;241m.\u001b[39mTypeRegistry\u001b[38;5;241m.\u001b[39mtype_from_dict(type_json)\n",
      "File \u001b[0;32m~/.pyenv/versions/3.9.9/Library/Frameworks/Python.framework/Versions/3.9/lib/python3.9/contextlib.py:119\u001b[0m, in \u001b[0;36m_GeneratorContextManager.__enter__\u001b[0;34m(self)\u001b[0m\n\u001b[1;32m    117\u001b[0m \u001b[38;5;28;01mdel\u001b[39;00m \u001b[38;5;28mself\u001b[39m\u001b[38;5;241m.\u001b[39margs, \u001b[38;5;28mself\u001b[39m\u001b[38;5;241m.\u001b[39mkwds, \u001b[38;5;28mself\u001b[39m\u001b[38;5;241m.\u001b[39mfunc\n\u001b[1;32m    118\u001b[0m \u001b[38;5;28;01mtry\u001b[39;00m:\n\u001b[0;32m--> 119\u001b[0m     \u001b[38;5;28;01mreturn\u001b[39;00m \u001b[38;5;28;43mnext\u001b[39;49m\u001b[43m(\u001b[49m\u001b[38;5;28;43mself\u001b[39;49m\u001b[38;5;241;43m.\u001b[39;49m\u001b[43mgen\u001b[49m\u001b[43m)\u001b[49m\n\u001b[1;32m    120\u001b[0m \u001b[38;5;28;01mexcept\u001b[39;00m \u001b[38;5;167;01mStopIteration\u001b[39;00m:\n\u001b[1;32m    121\u001b[0m     \u001b[38;5;28;01mraise\u001b[39;00m \u001b[38;5;167;01mRuntimeError\u001b[39;00m(\u001b[38;5;124m\"\u001b[39m\u001b[38;5;124mgenerator didn\u001b[39m\u001b[38;5;124m'\u001b[39m\u001b[38;5;124mt yield\u001b[39m\u001b[38;5;124m\"\u001b[39m) \u001b[38;5;28;01mfrom\u001b[39;00m \u001b[38;5;28mNone\u001b[39m\n",
      "File \u001b[0;32m~/workspace/weave-internal/weave/artifacts_local.py:103\u001b[0m, in \u001b[0;36mLocalArtifact.open\u001b[0;34m(self, path, binary)\u001b[0m\n\u001b[1;32m    101\u001b[0m \u001b[38;5;28mprint\u001b[39m(\u001b[38;5;124m\"\u001b[39m\u001b[38;5;124mself._read_dirname\u001b[39m\u001b[38;5;124m\"\u001b[39m, \u001b[38;5;28mself\u001b[39m\u001b[38;5;241m.\u001b[39m_read_dirname)\n\u001b[1;32m    102\u001b[0m \u001b[38;5;28mprint\u001b[39m(\u001b[38;5;124m\"\u001b[39m\u001b[38;5;124mpath\u001b[39m\u001b[38;5;124m\"\u001b[39m, path)\n\u001b[0;32m--> 103\u001b[0m f \u001b[38;5;241m=\u001b[39m \u001b[38;5;28mopen\u001b[39m(\u001b[43mos\u001b[49m\u001b[38;5;241;43m.\u001b[39;49m\u001b[43mpath\u001b[49m\u001b[38;5;241;43m.\u001b[39;49m\u001b[43mjoin\u001b[49m\u001b[43m(\u001b[49m\u001b[38;5;28;43mself\u001b[39;49m\u001b[38;5;241;43m.\u001b[39;49m\u001b[43m_read_dirname\u001b[49m\u001b[43m,\u001b[49m\u001b[43m \u001b[49m\u001b[43mpath\u001b[49m\u001b[43m)\u001b[49m, mode)\n\u001b[1;32m    104\u001b[0m \u001b[38;5;28;01myield\u001b[39;00m f\n\u001b[1;32m    105\u001b[0m f\u001b[38;5;241m.\u001b[39mclose()\n",
      "File \u001b[0;32m~/.pyenv/versions/3.9.9/Library/Frameworks/Python.framework/Versions/3.9/lib/python3.9/posixpath.py:76\u001b[0m, in \u001b[0;36mjoin\u001b[0;34m(a, *p)\u001b[0m\n\u001b[1;32m     71\u001b[0m \u001b[38;5;28;01mdef\u001b[39;00m \u001b[38;5;21mjoin\u001b[39m(a, \u001b[38;5;241m*\u001b[39mp):\n\u001b[1;32m     72\u001b[0m     \u001b[38;5;124;03m\"\"\"Join two or more pathname components, inserting '/' as needed.\u001b[39;00m\n\u001b[1;32m     73\u001b[0m \u001b[38;5;124;03m    If any component is an absolute path, all previous path components\u001b[39;00m\n\u001b[1;32m     74\u001b[0m \u001b[38;5;124;03m    will be discarded.  An empty last part will result in a path that\u001b[39;00m\n\u001b[1;32m     75\u001b[0m \u001b[38;5;124;03m    ends with a separator.\"\"\"\u001b[39;00m\n\u001b[0;32m---> 76\u001b[0m     a \u001b[38;5;241m=\u001b[39m \u001b[43mos\u001b[49m\u001b[38;5;241;43m.\u001b[39;49m\u001b[43mfspath\u001b[49m\u001b[43m(\u001b[49m\u001b[43ma\u001b[49m\u001b[43m)\u001b[49m\n\u001b[1;32m     77\u001b[0m     sep \u001b[38;5;241m=\u001b[39m _get_sep(a)\n\u001b[1;32m     78\u001b[0m     path \u001b[38;5;241m=\u001b[39m a\n",
      "\u001b[0;31mTypeError\u001b[0m: expected str, bytes or os.PathLike object, not NoneType"
     ]
    }
   ],
   "source": [
    "x = weave.save(7, name='my-number')\n",
    "\n",
    "# im = sin_image(x + 2)\n",
    "weave.use(sin_val(x + 4))"
   ]
  },
  {
   "cell_type": "code",
   "execution_count": null,
   "id": "d8d06148",
   "metadata": {},
   "outputs": [],
   "source": [
    "import json\n",
    "class RunType(weave.types.BasicType):\n",
    "    name = 'run'\n",
    "\n",
    "@weave.op(\n",
    "    name=\"root-run_accuracy_barchart\",\n",
    "    render_info={\"type\": \"function\"},\n",
    "    input_type={\"runs\": weave.types.List(weave.ops.RunType())},\n",
    "    output_type=weave.types.FileType(weave.types.Const(weave.types.String(), 'png'))\n",
    ")\n",
    "def run_accuracy_barchart(runs):\n",
    "    names = [r['name'] for r in runs]\n",
    "    xs = range(len(runs))\n",
    "    ys = [r['summary'].get('acc') for r in runs]\n",
    "    \n",
    "    plt.rcParams[\"figure.figsize\"] = (22, 5)\n",
    "    plt.bar(xs, ys, align='center', alpha=0.5)\n",
    "    plt.xticks(xs, names)\n",
    "    plt.ylabel('acc')\n",
    "    plt.title('Run accuracies')\n",
    "    path = \"/tmp/my-%s.png\" % random.randrange(0, 1000000)\n",
    "    plt.savefig(path)\n",
    "    plt.close()\n",
    "    return weave.ops.LocalFile(path) "
   ]
  },
  {
   "cell_type": "code",
   "execution_count": null,
   "id": "a4dc62a2",
   "metadata": {},
   "outputs": [],
   "source": [
    "runs = weave.ops.project('shawn', 'fasion-sweep').runs()\n",
    "run_accuracy_barchart(runs)"
   ]
  }
 ],
 "metadata": {
  "kernelspec": {
   "display_name": "Python 3 (ipykernel)",
   "language": "python",
   "name": "python3"
  },
  "language_info": {
   "codemirror_mode": {
    "name": "ipython",
    "version": 3
   },
   "file_extension": ".py",
   "mimetype": "text/x-python",
   "name": "python",
   "nbconvert_exporter": "python",
   "pygments_lexer": "ipython3",
   "version": "3.9.9"
  }
 },
 "nbformat": 4,
 "nbformat_minor": 5
}
