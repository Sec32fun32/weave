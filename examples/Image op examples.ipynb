{
 "cells": [
  {
   "cell_type": "code",
   "execution_count": 1,
   "id": "22034460",
   "metadata": {},
   "outputs": [],
   "source": [
    "import weave\n",
    "\n",
    "@weave.op()\n",
    "def add(a: int, b:int) -> int:    \n",
    "     return a + b\n",
    "    \n",
    "@weave.op()\n",
    "def mult(a:int, b:int) -> int:    \n",
    "     return a * b   \n",
    "\n",
    "@weave.op()\n",
    "def exp(a:int, b:int) -> int:    \n",
    "     return a ** b\n",
    "    \n",
    "graph = exp(mult(add(1,2), 3), 4)"
   ]
  },
  {
   "cell_type": "code",
   "execution_count": 2,
   "id": "1038d7f4",
   "metadata": {},
   "outputs": [
    {
     "data": {
      "text/plain": [
       "6561"
      ]
     },
     "execution_count": 2,
     "metadata": {},
     "output_type": "execute_result"
    }
   ],
   "source": [
    "weave.use(graph)"
   ]
  },
  {
   "cell_type": "code",
   "execution_count": 3,
   "id": "e7cc7ff3",
   "metadata": {},
   "outputs": [
    {
     "data": {
      "text/plain": [
       "{'nodeType': 'output',\n",
       " 'type': 'int',\n",
       " 'fromOp': {'name': 'file://Users/timothysweeney/workspace/weave-internal/examples/local-artifacts/op-exp/56096d3f3cc0b6a7b01d8b8307e006ea/op-exp:56096d3f3cc0b6a7b01d8b8307e006ea',\n",
       "  'inputs': {'a': {'nodeType': 'output',\n",
       "    'type': 'int',\n",
       "    'fromOp': {'name': 'file://Users/timothysweeney/workspace/weave-internal/examples/local-artifacts/op-mult/3b8b6f80a4f695cfd75332fa5f30ff37/op-mult:3b8b6f80a4f695cfd75332fa5f30ff37',\n",
       "     'inputs': {'a': {'nodeType': 'output',\n",
       "       'type': 'int',\n",
       "       'fromOp': {'name': 'file://Users/timothysweeney/workspace/weave-internal/examples/local-artifacts/op-add/b37e90732e6b987adaec91297d67f757/op-add:b37e90732e6b987adaec91297d67f757',\n",
       "        'inputs': {'a': {'nodeType': 'const',\n",
       "          'type': {'type': 'const', 'valType': 'int', 'val': 1},\n",
       "          'val': 1},\n",
       "         'b': {'nodeType': 'const',\n",
       "          'type': {'type': 'const', 'valType': 'int', 'val': 2},\n",
       "          'val': 2}}}},\n",
       "      'b': {'nodeType': 'const',\n",
       "       'type': {'type': 'const', 'valType': 'int', 'val': 3},\n",
       "       'val': 3}}}},\n",
       "   'b': {'nodeType': 'const',\n",
       "    'type': {'type': 'const', 'valType': 'int', 'val': 4},\n",
       "    'val': 4}}}}"
      ]
     },
     "execution_count": 3,
     "metadata": {},
     "output_type": "execute_result"
    }
   ],
   "source": [
    "graph.to_json()"
   ]
  },
  {
   "cell_type": "code",
   "execution_count": 13,
   "id": "94f70374",
   "metadata": {},
   "outputs": [
    {
     "ename": "TypeError",
     "evalue": "show() takes 1 positional argument but 2 were given",
     "output_type": "error",
     "traceback": [
      "\u001b[0;31m---------------------------------------------------------------------------\u001b[0m",
      "\u001b[0;31mTypeError\u001b[0m                                 Traceback (most recent call last)",
      "Input \u001b[0;32mIn [13]\u001b[0m, in \u001b[0;36m<cell line: 1>\u001b[0;34m()\u001b[0m\n\u001b[0;32m----> 1\u001b[0m weave\u001b[38;5;241m.\u001b[39mshow(mult(add(\u001b[38;5;241m1\u001b[39m,\u001b[38;5;241m2\u001b[39m), \u001b[38;5;241m3\u001b[39m), \u001b[38;5;241m4\u001b[39m)\n",
      "\u001b[0;31mTypeError\u001b[0m: show() takes 1 positional argument but 2 were given"
     ]
    }
   ],
   "source": [
    "weave.show(mult(add(1,2), 3), 4)"
   ]
  },
  {
   "cell_type": "code",
   "execution_count": 2,
   "id": "d03dc328",
   "metadata": {},
   "outputs": [
    {
     "name": "stdout",
     "output_type": "stream",
     "text": [
      "Registering op: file://Users/timothysweeney/workspace/weave-internal/examples/local-artifacts/root-val_times_2/9fbc308dbba8ef275ef7b76ac6a0036b/root-val_times_2:9fbc308dbba8ef275ef7b76ac6a0036b\n",
      "<class 'weave.weave_types.Const'>\n",
      "{'nodeType': 'output', 'type': 'int', 'fromOp': {'name': 'file://Users/timothysweeney/workspace/weave-internal/examples/local-artifacts/root-val_times_2/9fbc308dbba8ef275ef7b76ac6a0036b/root-val_times_2:9fbc308dbba8ef275ef7b76ac6a0036b', 'inputs': {'x': {'nodeType': 'const', 'type': {'type': 'const', 'valType': 'int', 'val': 7}, 'val': 7}}}}\n"
     ]
    }
   ],
   "source": [
    "import numpy as np\n",
    "import matplotlib.pyplot as plt\n",
    "import random\n",
    "\n",
    "# @weave.op(\n",
    "#     name=\"root-sin_image\",\n",
    "#     render_info={\"type\": \"function\"},\n",
    "#     input_type={\"f\": weave.types.Int()},\n",
    "#     output_type=weave.types.FileType(weave.types.Const(weave.types.String(), \"png\")),\n",
    "# )\n",
    "# def sin_image(f):    \n",
    "#     x = np.arange(0, f * np.pi, 0.1)\n",
    "#     y = np.sin(x)\n",
    "#     path = \"/tmp/my-%s.png\" % random.randrange(0, 1000000)\n",
    "#     plt.rcParams[\"figure.figsize\"] = (22, 7)\n",
    "#     plt.plot(x, y)\n",
    "#     plt.savefig(path)\n",
    "#     plt.close()\n",
    "#     return weave.ops.LocalFile(path)\n",
    "\n",
    "import weave\n",
    "\n",
    "@weave.op(\n",
    "    name=\"root-val_times_2\",\n",
    "    render_info={\"type\": \"function\"},\n",
    ")\n",
    "def val_times_2(x: int) -> int:    \n",
    "     return x * 2\n",
    "    \n",
    "print(val_times_2(7).to_json())\n"
   ]
  },
  {
   "cell_type": "code",
   "execution_count": 13,
   "id": "217d0cd2",
   "metadata": {},
   "outputs": [
    {
     "name": "stdout",
     "output_type": "stream",
     "text": [
      "{'nodeType': 'output', 'type': 'int', 'fromOp': {'name': 'root-val_times_2:3fd577656d99e1810f9dbf2cb2f7b6c7', 'inputs': {'x': {'nodeType': 'const', 'type': {'type': 'const', 'valType': 'int', 'val': 7}, 'val': 7}}}}\n"
     ]
    }
   ],
   "source": [
    "# x = weave.save(7, name='my-number')\n",
    "# res = sin_val(x)\n",
    "print(val_times_2(7).to_json())\n",
    "# im = sin_image(x + 2)\n",
    "# weave.use(val_times_2(7))"
   ]
  },
  {
   "cell_type": "code",
   "execution_count": null,
   "id": "d8d06148",
   "metadata": {},
   "outputs": [],
   "source": [
    "import json\n",
    "class RunType(weave.types.BasicType):\n",
    "    name = 'run'\n",
    "\n",
    "@weave.op(\n",
    "    name=\"root-run_accuracy_barchart\",\n",
    "    render_info={\"type\": \"function\"},\n",
    "    input_type={\"runs\": weave.types.List(weave.ops.RunType())},\n",
    "    output_type=weave.types.FileType(weave.types.Const(weave.types.String(), 'png'))\n",
    ")\n",
    "def run_accuracy_barchart(runs):\n",
    "    names = [r['name'] for r in runs]\n",
    "    xs = range(len(runs))\n",
    "    ys = [r['summary'].get('acc') for r in runs]\n",
    "    \n",
    "    plt.rcParams[\"figure.figsize\"] = (22, 5)\n",
    "    plt.bar(xs, ys, align='center', alpha=0.5)\n",
    "    plt.xticks(xs, names)\n",
    "    plt.ylabel('acc')\n",
    "    plt.title('Run accuracies')\n",
    "    path = \"/tmp/my-%s.png\" % random.randrange(0, 1000000)\n",
    "    plt.savefig(path)\n",
    "    plt.close()\n",
    "    return weave.ops.LocalFile(path) "
   ]
  },
  {
   "cell_type": "code",
   "execution_count": null,
   "id": "a4dc62a2",
   "metadata": {},
   "outputs": [],
   "source": [
    "runs = weave.ops.project('shawn', 'fasion-sweep').runs()\n",
    "run_accuracy_barchart(runs)"
   ]
  }
 ],
 "metadata": {
  "kernelspec": {
   "display_name": "Python 3 (ipykernel)",
   "language": "python",
   "name": "python3"
  },
  "language_info": {
   "codemirror_mode": {
    "name": "ipython",
    "version": 3
   },
   "file_extension": ".py",
   "mimetype": "text/x-python",
   "name": "python",
   "nbconvert_exporter": "python",
   "pygments_lexer": "ipython3",
   "version": "3.9.9"
  }
 },
 "nbformat": 4,
 "nbformat_minor": 5
}
