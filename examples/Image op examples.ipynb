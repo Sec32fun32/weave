{
 "cells": [
  {
   "cell_type": "code",
   "execution_count": 1,
   "id": "22034460",
   "metadata": {},
   "outputs": [],
   "source": [
    "import weave\n",
    "weave.capture_weave_server_logs()\n",
    "\n",
    "# weave.use_fixed_server_port()"
   ]
  },
  {
   "cell_type": "code",
   "execution_count": 2,
   "id": "d03dc328",
   "metadata": {},
   "outputs": [],
   "source": [
    "import numpy as np\n",
    "import matplotlib.pyplot as plt\n",
    "import random\n",
    "\n",
    "@weave.op(\n",
    "    name=\"root-sin_image\",\n",
    "    render_info={\"type\": \"function\"},\n",
    "    input_type={\"f\": weave.types.Int()},\n",
    "    output_type=weave.types.FileType(weave.types.Const(weave.types.String(), \"png\")),\n",
    ")\n",
    "def sin_image(f):    \n",
    "    x = np.arange(0, f * np.pi, 0.1)\n",
    "    y = np.sin(x)\n",
    "    path = \"/tmp/my-%s.png\" % random.randrange(0, 1000000)\n",
    "    plt.rcParams[\"figure.figsize\"] = (22, 7)\n",
    "    plt.plot(x, y)\n",
    "    plt.savefig(path)\n",
    "    plt.close()\n",
    "    return weave.ops.LocalFile(path)"
   ]
  },
  {
   "cell_type": "code",
   "execution_count": 4,
   "id": "217d0cd2",
   "metadata": {},
   "outputs": [
    {
     "data": {
      "text/html": [
       "\n",
       "        <iframe\n",
       "            width=\"100%\"\n",
       "            height=\"300px\"\n",
       "            src=\"http://127.0.0.1:1234/__frontend/weave_jupyter/index.html?fullScreen&expNode=%7B%22nodeType%22%3A%20%22output%22%2C%20%22type%22%3A%20%22int%22%2C%20%22fromOp%22%3A%20%7B%22name%22%3A%20%22get%22%2C%20%22inputs%22%3A%20%7B%22uri%22%3A%20%7B%22nodeType%22%3A%20%22const%22%2C%20%22type%22%3A%20%7B%22type%22%3A%20%22const%22%2C%20%22valType%22%3A%20%22string%22%2C%20%22val%22%3A%20%22my-number/93936b8ceaec82097f911d4d0d04e174%22%7D%2C%20%22val%22%3A%20%22my-number/93936b8ceaec82097f911d4d0d04e174%22%7D%7D%7D%7D\"\n",
       "            frameborder=\"0\"\n",
       "            allowfullscreen\n",
       "            \n",
       "        ></iframe>\n",
       "        "
      ],
      "text/plain": [
       "<IPython.lib.display.IFrame at 0x1251a0ee0>"
      ]
     },
     "metadata": {},
     "output_type": "display_data"
    }
   ],
   "source": [
    "x = weave.save(7, name='my-number')\n",
    "\n",
    "im = sin_image(x + 2)\n",
    "weave.show(im)"
   ]
  },
  {
   "cell_type": "code",
   "execution_count": null,
   "id": "d8d06148",
   "metadata": {},
   "outputs": [],
   "source": [
    "import json\n",
    "class RunType(weave.types.BasicType):\n",
    "    name = 'run'\n",
    "\n",
    "@weave.op(\n",
    "    name=\"root-run_accuracy_barchart\",\n",
    "    render_info={\"type\": \"function\"},\n",
    "    input_type={\"runs\": weave.types.List(weave.ops.RunType())},\n",
    "    output_type=weave.types.FileType(weave.types.Const(weave.types.String(), 'png'))\n",
    ")\n",
    "def run_accuracy_barchart(runs):\n",
    "    names = [r['name'] for r in runs]\n",
    "    xs = range(len(runs))\n",
    "    ys = [r['summary'].get('acc') for r in runs]\n",
    "    \n",
    "    plt.rcParams[\"figure.figsize\"] = (22, 5)\n",
    "    plt.bar(xs, ys, align='center', alpha=0.5)\n",
    "    plt.xticks(xs, names)\n",
    "    plt.ylabel('acc')\n",
    "    plt.title('Run accuracies')\n",
    "    path = \"/tmp/my-%s.png\" % random.randrange(0, 1000000)\n",
    "    plt.savefig(path)\n",
    "    plt.close()\n",
    "    return weave.ops.LocalFile(path) "
   ]
  },
  {
   "cell_type": "code",
   "execution_count": null,
   "id": "a4dc62a2",
   "metadata": {},
   "outputs": [],
   "source": [
    "runs = weave.ops.project('shawn', 'fasion-sweep').runs()\n",
    "run_accuracy_barchart(runs)"
   ]
  }
 ],
 "metadata": {
  "kernelspec": {
   "display_name": "Python 3 (ipykernel)",
   "language": "python",
   "name": "python3"
  },
  "language_info": {
   "codemirror_mode": {
    "name": "ipython",
    "version": 3
   },
   "file_extension": ".py",
   "mimetype": "text/x-python",
   "name": "python",
   "nbconvert_exporter": "python",
   "pygments_lexer": "ipython3",
   "version": "3.9.9"
  }
 },
 "nbformat": 4,
 "nbformat_minor": 5
}
