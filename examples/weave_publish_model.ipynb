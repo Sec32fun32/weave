{
 "cells": [
  {
   "cell_type": "markdown",
   "id": "cfa16846",
   "metadata": {},
   "source": [
    "# Slackformer: Basic transformer on WBSlack data\n",
    "Credit to Stacey for the model architecture and training logic <3"
   ]
  },
  {
   "cell_type": "code",
   "execution_count": 27,
   "id": "f0f90338",
   "metadata": {},
   "outputs": [],
   "source": [
    "import weave\n",
    "import slack_trainer"
   ]
  },
  {
   "cell_type": "code",
   "execution_count": 28,
   "id": "c47a44a9",
   "metadata": {},
   "outputs": [],
   "source": [
    "SLACK_DATA_DIR = \"/Users/timothysweeney/Documents/jan_1_2022_slack_dump\"\n",
    "raw_data = slack_trainer.load_data(SLACK_DATA_DIR)"
   ]
  },
  {
   "cell_type": "code",
   "execution_count": 29,
   "id": "f3348395",
   "metadata": {},
   "outputs": [],
   "source": [
    "config = {\n",
    "    \"min_msg_count\"  : 100,\n",
    "    \"train_frac\"     : 0.8,\n",
    "    \"use_baseline\"   : True,\n",
    "    \"vocab_size\"     : 50000,\n",
    "    \"sequence_length\": 200,\n",
    "    \"dense_dim\"      : 40,\n",
    "    \"embed_dim\"      : 64,\n",
    "    \"num_heads\"      : 6,\n",
    "    \"ff_dim\"         : 64,\n",
    "    \"optimizer\"      : \"adam\",\n",
    "    \"loss\"           : \"sparse_categorical_crossentropy\",\n",
    "    \"metrics\"        : [\"accuracy\"],\n",
    "    \"batch_size\"     : 64,\n",
    "    \"epochs\"         : 1\n",
    "}"
   ]
  },
  {
   "cell_type": "code",
   "execution_count": 30,
   "id": "a6353377",
   "metadata": {},
   "outputs": [],
   "source": [
    "# Process the data\n",
    "data = slack_trainer.process_data(users         = raw_data[\"users\"], \n",
    "                                  messages      = raw_data[\"messages\"], \n",
    "                                  min_msg_count = config[\"min_msg_count\"], \n",
    "                                  train_frac    = config[\"train_frac\"])"
   ]
  },
  {
   "cell_type": "code",
   "execution_count": 31,
   "id": "9759138d",
   "metadata": {},
   "outputs": [],
   "source": [
    "# Build & Compile the Model\n",
    "if config[\"use_baseline\"]:\n",
    "    model = slack_trainer.make_baseline_model(data, \n",
    "                                               vocab_size      = config[\"vocab_size\"], \n",
    "                                               sequence_length = config[\"sequence_length\"])\n",
    "else:\n",
    "    model = slack_trainer.make_transformer_model(data, \n",
    "                                                   vocab_size      = config[\"vocab_size\"], \n",
    "                                                   sequence_length = config[\"sequence_length\"],\n",
    "                                                   dense_dim       = config[\"dense_dim\"],\n",
    "                                                   embed_dim       = config[\"embed_dim\"],\n",
    "                                                   num_heads       = config[\"num_heads\"],\n",
    "                                                   ff_dim          = config[\"ff_dim\"])\n",
    "model.compile(optimizer = config[\"optimizer\"], \n",
    "                       loss      = config[\"loss\"], \n",
    "                       metrics   = config[\"metrics\"])"
   ]
  },
  {
   "cell_type": "code",
   "execution_count": 32,
   "id": "c1cf5199",
   "metadata": {},
   "outputs": [
    {
     "name": "stdout",
     "output_type": "stream",
     "text": [
      "1219/1219 [==============================] - 4s 3ms/step - loss: 86.1803 - accuracy: 0.0399 - val_loss: 5.0917 - val_accuracy: 0.0472\n"
     ]
    }
   ],
   "source": [
    "# Train the model\n",
    "results = slack_trainer.fit_model(model, data, \n",
    "                                  batch_size = config[\"batch_size\"], \n",
    "                                  epochs     = config[\"epochs\"])"
   ]
  },
  {
   "cell_type": "code",
   "execution_count": 33,
   "id": "51ba2a49",
   "metadata": {},
   "outputs": [],
   "source": [
    "# Package model for inference\n",
    "packaged_model = slack_trainer.package_model(model, data)"
   ]
  },
  {
   "cell_type": "code",
   "execution_count": 34,
   "id": "e05b9762",
   "metadata": {},
   "outputs": [],
   "source": [
    "# Save or Publish Model\n",
    "# saved_model = weave.save(packaged_model)\n",
    "saved_model = weave.publish(packaged_model)"
   ]
  },
  {
   "cell_type": "code",
   "execution_count": 35,
   "id": "02fe4d67",
   "metadata": {},
   "outputs": [],
   "source": [
    "pub = weave.publish({\n",
    "    \"model\": model,\n",
    "    \"packaged_model\": saved_model,\n",
    "    \"classes\": data[\"users\"].sort_values(\"model_id\")[\"real_name\"].tolist()\n",
    "}, \"FastModel\")"
   ]
  },
  {
   "cell_type": "code",
   "execution_count": 36,
   "id": "11afb608",
   "metadata": {},
   "outputs": [
    {
     "data": {
      "text/html": [
       "\n",
       "        <iframe\n",
       "            width=\"100%\"\n",
       "            height=\"400px\"\n",
       "            src=\"http://127.0.0.1:63552/__frontend/weave_jupyter/__frontend/weave_jupyter?fullScreen&expNode=%7B%22nodeType%22%3A%20%22output%22%2C%20%22type%22%3A%20%22string%22%2C%20%22fromOp%22%3A%20%7B%22name%22%3A%20%22op-call_string%22%2C%20%22inputs%22%3A%20%7B%22model%22%3A%20%7B%22nodeType%22%3A%20%22output%22%2C%20%22type%22%3A%20%7B%22type%22%3A%20%22KerasModel%22%2C%20%22inputs_type%22%3A%20%7B%22type%22%3A%20%22typedDict%22%2C%20%22propertyTypes%22%3A%20%7B%220%22%3A%20%7B%22type%22%3A%20%22KerasTensor%22%2C%20%22shape%22%3A%20%7B%22type%22%3A%20%22typedDict%22%2C%20%22propertyTypes%22%3A%20%7B%220%22%3A%20%22none%22%2C%20%221%22%3A%20%7B%22type%22%3A%20%22const%22%2C%20%22valType%22%3A%20%22number%22%2C%20%22val%22%3A%201%7D%7D%7D%2C%20%22datatype_enum%22%3A%20%7B%22type%22%3A%20%22const%22%2C%20%22valType%22%3A%20%22number%22%2C%20%22val%22%3A%207%7D%7D%7D%7D%2C%20%22outputs_type%22%3A%20%7B%22type%22%3A%20%22typedDict%22%2C%20%22propertyTypes%22%3A%20%7B%220%22%3A%20%7B%22type%22%3A%20%22KerasTensor%22%2C%20%22shape%22%3A%20%7B%22type%22%3A%20%22typedDict%22%2C%20%22propertyTypes%22%3A%20%7B%220%22%3A%20%22none%22%7D%7D%2C%20%22datatype_enum%22%3A%20%7B%22type%22%3A%20%22const%22%2C%20%22valType%22%3A%20%22number%22%2C%20%22val%22%3A%207%7D%7D%7D%7D%7D%2C%20%22fromOp%22%3A%20%7B%22name%22%3A%20%22get%22%2C%20%22inputs%22%3A%20%7B%22uri%22%3A%20%7B%22nodeType%22%3A%20%22const%22%2C%20%22type%22%3A%20%7B%22type%22%3A%20%22const%22%2C%20%22valType%22%3A%20%22string%22%2C%20%22val%22%3A%20%22wandb-artifact%3A//timssweeney/weave_ops/KerasModel%3Av45%22%7D%2C%20%22val%22%3A%20%22wandb-artifact%3A//timssweeney/weave_ops/KerasModel%3Av45%22%7D%7D%7D%7D%2C%20%22input%22%3A%20%7B%22nodeType%22%3A%20%22const%22%2C%20%22type%22%3A%20%7B%22type%22%3A%20%22const%22%2C%20%22valType%22%3A%20%22string%22%2C%20%22val%22%3A%20%22i%20love%20weave%22%7D%2C%20%22val%22%3A%20%22i%20love%20weave%22%7D%7D%7D%7D\"\n",
       "            frameborder=\"0\"\n",
       "            allowfullscreen\n",
       "            \n",
       "        ></iframe>\n",
       "        "
      ],
      "text/plain": [
       "<IPython.lib.display.IFrame at 0x152bbc070>"
      ]
     },
     "metadata": {},
     "output_type": "display_data"
    },
    {
     "name": "stdout",
     "output_type": "stream",
     "text": [
      "1/1 [==============================] - 0s 100ms/step\n"
     ]
    }
   ],
   "source": [
    "# Demonstrate calling\n",
    "from weave.ecosystem import keras as weave_keras\n",
    "weave_keras.call_string(saved_model, \"i love weave\")"
   ]
  },
  {
   "cell_type": "code",
   "execution_count": null,
   "id": "90984f07",
   "metadata": {},
   "outputs": [],
   "source": []
  }
 ],
 "metadata": {
  "kernelspec": {
   "display_name": "Python 3 (ipykernel)",
   "language": "python",
   "name": "python3"
  },
  "language_info": {
   "codemirror_mode": {
    "name": "ipython",
    "version": 3
   },
   "file_extension": ".py",
   "mimetype": "text/x-python",
   "name": "python",
   "nbconvert_exporter": "python",
   "pygments_lexer": "ipython3",
   "version": "3.9.9"
  }
 },
 "nbformat": 4,
 "nbformat_minor": 5
}
