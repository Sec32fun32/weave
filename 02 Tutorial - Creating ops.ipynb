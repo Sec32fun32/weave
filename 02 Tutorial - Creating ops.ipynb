{
 "cells": [
  {
   "cell_type": "code",
   "execution_count": 1,
   "id": "2cd1a5a5",
   "metadata": {},
   "outputs": [],
   "source": [
    "import weave"
   ]
  },
  {
   "cell_type": "code",
   "execution_count": 2,
   "id": "6cc12e6d",
   "metadata": {},
   "outputs": [],
   "source": [
    "# create a custom operation that squares a number. the op will be available for use in python \n",
    "# and to be called from panels.\n",
    "@weave.op(\n",
    "    input_type={'number': weave.types.Number()},  # specify input types so the op knows what kinds of values\n",
    "                                                  # it can be called on. the argument name is used for \n",
    "                                                  # generating docs that are rendered in the panel\n",
    "    output_type=weave.types.Number(),  # specify output types so the result knows how to render itself\n",
    "    name='number-square'  # name the op so that you can call it from a panel\n",
    ")\n",
    "def square(number):\n",
    "    return number * number"
   ]
  },
  {
   "cell_type": "code",
   "execution_count": 3,
   "id": "684d1c5b",
   "metadata": {},
   "outputs": [
    {
     "data": {
      "text/plain": [
       "400"
      ]
     },
     "execution_count": 3,
     "metadata": {},
     "output_type": "execute_result"
    }
   ],
   "source": [
    "# call the op from python\n",
    "weave.use(square(20))"
   ]
  },
  {
   "cell_type": "code",
   "execution_count": 7,
   "id": "784fc8b9",
   "metadata": {},
   "outputs": [
    {
     "data": {
      "text/html": [
       "\n",
       "        <iframe\n",
       "            width=\"100%\"\n",
       "            height=\"300px\"\n",
       "            src=\"https://app.wandb.test/weave_jupyter/?fullScreen&expNode=%7B%22nodeType%22%3A%20%22output%22%2C%20%22type%22%3A%20%22number%22%2C%20%22fromOp%22%3A%20%7B%22name%22%3A%20%22number-square%22%2C%20%22inputs%22%3A%20%7B%22number%22%3A%20%7B%22nodeType%22%3A%20%22output%22%2C%20%22type%22%3A%20%22int%22%2C%20%22fromOp%22%3A%20%7B%22name%22%3A%20%22get%22%2C%20%22inputs%22%3A%20%7B%22uri%22%3A%20%7B%22nodeType%22%3A%20%22const%22%2C%20%22type%22%3A%20%7B%22type%22%3A%20%22const-string%22%2C%20%22val%22%3A%20%22my-num/108291b0039a7a0d4ddda4770554af44%22%7D%2C%20%22val%22%3A%20%22my-num/108291b0039a7a0d4ddda4770554af44%22%7D%7D%7D%7D%7D%7D%7D\"\n",
       "            frameborder=\"0\"\n",
       "            allowfullscreen\n",
       "            \n",
       "        ></iframe>\n",
       "        "
      ],
      "text/plain": [
       "<IPython.lib.display.IFrame at 0x12cb35670>"
      ]
     },
     "metadata": {},
     "output_type": "display_data"
    }
   ],
   "source": [
    "# Or, you can display the results of calling an op.\n",
    "x = weave.save(20, 'my-num')\n",
    "square(x)"
   ]
  }
 ],
 "metadata": {
  "kernelspec": {
   "display_name": "Python 3 (ipykernel)",
   "language": "python",
   "name": "python3"
  },
  "language_info": {
   "codemirror_mode": {
    "name": "ipython",
    "version": 3
   },
   "file_extension": ".py",
   "mimetype": "text/x-python",
   "name": "python",
   "nbconvert_exporter": "python",
   "pygments_lexer": "ipython3",
   "version": "3.9.7"
  }
 },
 "nbformat": 4,
 "nbformat_minor": 5
}
