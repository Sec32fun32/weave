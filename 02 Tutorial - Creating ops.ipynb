{
 "cells": [
  {
   "cell_type": "code",
   "execution_count": null,
   "id": "2cd1a5a5",
   "metadata": {},
   "outputs": [],
   "source": [
    "import weave"
   ]
  },
  {
   "cell_type": "code",
   "execution_count": null,
   "id": "6cc12e6d",
   "metadata": {},
   "outputs": [],
   "source": [
    "# create a custom operation that squares a number. the op will be available for use in python \n",
    "# and to be called from panels.\n",
    "@weave.op(\n",
    "    input_type={'number': weave.types.Number()},  # specify input types so the op knows what kinds of values\n",
    "                                                  # it can be called on. the argument name is used for \n",
    "                                                  # generating docs that are rendered in the panel\n",
    "    output_type=weave.types.Number(),  # specify output types so the result knows how to render itself\n",
    "    name='number-square'  # name the op so that you can call it from a panel\n",
    ")\n",
    "def square(number):\n",
    "    return number * number"
   ]
  },
  {
   "cell_type": "code",
   "execution_count": null,
   "id": "684d1c5b",
   "metadata": {},
   "outputs": [],
   "source": [
    "# call the op from python\n",
    "weave.use(square(20))"
   ]
  },
  {
   "cell_type": "code",
   "execution_count": null,
   "id": "784fc8b9",
   "metadata": {},
   "outputs": [],
   "source": [
    "# Or, you can display the results of calling an op.\n",
    "x = weave.save(20, 'my-num')\n",
    "square(x)"
   ]
  }
 ],
 "metadata": {
  "kernelspec": {
   "display_name": "Python 3 (ipykernel)",
   "language": "python",
   "name": "python3"
  },
  "language_info": {
   "codemirror_mode": {
    "name": "ipython",
    "version": 3
   },
   "file_extension": ".py",
   "mimetype": "text/x-python",
   "name": "python",
   "nbconvert_exporter": "python",
   "pygments_lexer": "ipython3",
   "version": "3.9.7"
  }
 },
 "nbformat": 4,
 "nbformat_minor": 5
}
