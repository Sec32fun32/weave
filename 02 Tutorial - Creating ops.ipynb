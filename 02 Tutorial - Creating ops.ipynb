{
 "cells": [
  {
   "cell_type": "code",
   "execution_count": 1,
   "id": "2cd1a5a5",
   "metadata": {},
   "outputs": [],
   "source": [
    "import weave"
   ]
  },
  {
   "cell_type": "code",
   "execution_count": 2,
   "id": "6cc12e6d",
   "metadata": {},
   "outputs": [],
   "source": [
    "# create a custom operation that squares a number. the op will be available for use in python \n",
    "# and to be called from panels.\n",
    "@weave.op()\n",
    "def square(number: int) -> int:\n",
    "    return number * number"
   ]
  },
  {
   "cell_type": "code",
   "execution_count": 3,
   "id": "0097e65a",
   "metadata": {},
   "outputs": [
    {
     "data": {
      "text/plain": [
       "'root-square'"
      ]
     },
     "execution_count": 3,
     "metadata": {},
     "output_type": "execute_result"
    }
   ],
   "source": [
    "square.op_def.name"
   ]
  },
  {
   "cell_type": "code",
   "execution_count": 4,
   "id": "684d1c5b",
   "metadata": {},
   "outputs": [
    {
     "data": {
      "text/plain": [
       "400"
      ]
     },
     "execution_count": 4,
     "metadata": {},
     "output_type": "execute_result"
    }
   ],
   "source": [
    "# call the op from python\n",
    "weave.use(square(20))"
   ]
  },
  {
   "cell_type": "code",
   "execution_count": 5,
   "id": "784fc8b9",
   "metadata": {},
   "outputs": [
    {
     "data": {
      "text/html": [
       "\n",
       "        <iframe\n",
       "            width=\"100%\"\n",
       "            height=\"300px\"\n",
       "            src=\"http://127.0.0.1:61778/__frontend/weave_jupyter/index.html?fullScreen&expNode=%7B%22nodeType%22%3A%20%22output%22%2C%20%22type%22%3A%20%22int%22%2C%20%22fromOp%22%3A%20%7B%22name%22%3A%20%22root-square%22%2C%20%22inputs%22%3A%20%7B%22number%22%3A%20%7B%22nodeType%22%3A%20%22output%22%2C%20%22type%22%3A%20%22int%22%2C%20%22fromOp%22%3A%20%7B%22name%22%3A%20%22get%22%2C%20%22inputs%22%3A%20%7B%22uri%22%3A%20%7B%22nodeType%22%3A%20%22const%22%2C%20%22type%22%3A%20%7B%22type%22%3A%20%22const%22%2C%20%22valType%22%3A%20%22string%22%2C%20%22val%22%3A%20%22my-num/108291b0039a7a0d4ddda4770554af44%22%7D%2C%20%22val%22%3A%20%22my-num/108291b0039a7a0d4ddda4770554af44%22%7D%7D%7D%7D%7D%7D%7D\"\n",
       "            frameborder=\"0\"\n",
       "            allowfullscreen\n",
       "            \n",
       "        ></iframe>\n",
       "        "
      ],
      "text/plain": [
       "<IPython.lib.display.IFrame at 0x12b45ef40>"
      ]
     },
     "metadata": {},
     "output_type": "display_data"
    }
   ],
   "source": [
    "# Or, you can display the results of calling an op.\n",
    "x = weave.save(20, 'my-num')\n",
    "square(x)"
   ]
  },
  {
   "cell_type": "code",
   "execution_count": null,
   "id": "675fdafb",
   "metadata": {},
   "outputs": [],
   "source": [
    "tab = weave.panels.Table(rus_poems)\n",
    "tab.table_query.add_column(lambda row: row\n",
    "tab.table_query.add_column(lambda row: r2e(row))"
   ]
  }
 ],
 "metadata": {
  "kernelspec": {
   "display_name": "Python 3 (ipykernel)",
   "language": "python",
   "name": "python3"
  },
  "language_info": {
   "codemirror_mode": {
    "name": "ipython",
    "version": 3
   },
   "file_extension": ".py",
   "mimetype": "text/x-python",
   "name": "python",
   "nbconvert_exporter": "python",
   "pygments_lexer": "ipython3",
   "version": "3.9.7"
  }
 },
 "nbformat": 4,
 "nbformat_minor": 5
}
