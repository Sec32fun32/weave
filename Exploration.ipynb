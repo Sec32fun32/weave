{
 "cells": [
  {
   "cell_type": "code",
   "execution_count": 1,
   "id": "0558cb9d",
   "metadata": {},
   "outputs": [],
   "source": [
    "import weave\n",
    "from weave.ecosystem import shap"
   ]
  },
  {
   "cell_type": "code",
   "execution_count": 2,
   "id": "8449c862",
   "metadata": {},
   "outputs": [],
   "source": [
    "ds = weave.use(shap.ca_housing_dataset(0))\n",
    "ca_housing = weave.ops.dataframe_to_arrow(ds)"
   ]
  },
  {
   "cell_type": "code",
   "execution_count": 3,
   "id": "f6ab930c",
   "metadata": {},
   "outputs": [
    {
     "data": {
      "text/html": [
       "\n",
       "        <iframe\n",
       "            width=\"100%\"\n",
       "            height=\"400px\"\n",
       "            src=\"http://127.0.0.1:52313/__frontend/weave_jupyter/__frontend/weave_jupyter?fullScreen&expNode=%7B%22nodeType%22%3A%20%22output%22%2C%20%22type%22%3A%20%7B%22type%22%3A%20%22ArrowWeaveList%22%2C%20%22objectType%22%3A%20%7B%22type%22%3A%20%22typedDict%22%2C%20%22propertyTypes%22%3A%20%7B%22MedInc%22%3A%20%22float%22%2C%20%22HouseAge%22%3A%20%22float%22%2C%20%22AveRooms%22%3A%20%22float%22%2C%20%22AveBedrms%22%3A%20%22float%22%2C%20%22Population%22%3A%20%22float%22%2C%20%22AveOccup%22%3A%20%22float%22%2C%20%22Latitude%22%3A%20%22float%22%2C%20%22Longitude%22%3A%20%22float%22%2C%20%22MedHouseVal%22%3A%20%22float%22%7D%7D%7D%2C%20%22fromOp%22%3A%20%7B%22name%22%3A%20%22get%22%2C%20%22inputs%22%3A%20%7B%22uri%22%3A%20%7B%22nodeType%22%3A%20%22const%22%2C%20%22type%22%3A%20%7B%22type%22%3A%20%22const%22%2C%20%22valType%22%3A%20%22string%22%2C%20%22val%22%3A%20%22local-artifact%3A///tmp/local-artifacts/ca_housing/80c24edbe8d637d9a044a4d70489b38a%22%7D%2C%20%22val%22%3A%20%22local-artifact%3A///tmp/local-artifacts/ca_housing/80c24edbe8d637d9a044a4d70489b38a%22%7D%7D%7D%7D\"\n",
       "            frameborder=\"0\"\n",
       "            allowfullscreen\n",
       "            \n",
       "        ></iframe>\n",
       "        "
      ],
      "text/plain": [
       "<IPython.lib.display.IFrame at 0x19f8a81f0>"
      ]
     },
     "metadata": {},
     "output_type": "display_data"
    }
   ],
   "source": [
    "weave.show(ca_housing)"
   ]
  }
 ],
 "metadata": {
  "kernelspec": {
   "display_name": "Python 3 (ipykernel)",
   "language": "python",
   "name": "python3"
  },
  "language_info": {
   "codemirror_mode": {
    "name": "ipython",
    "version": 3
   },
   "file_extension": ".py",
   "mimetype": "text/x-python",
   "name": "python",
   "nbconvert_exporter": "python",
   "pygments_lexer": "ipython3",
   "version": "3.9.7"
  }
 },
 "nbformat": 4,
 "nbformat_minor": 5
}
