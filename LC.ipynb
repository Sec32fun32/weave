{
 "cells": [
  {
   "cell_type": "code",
   "execution_count": null,
   "id": "dec0074c",
   "metadata": {},
   "outputs": [],
   "source": [
    "import weave\n",
    "weave.use_frontend_devmode()\n",
    "from weave.ecosystem import langchain"
   ]
  },
  {
   "cell_type": "code",
   "execution_count": null,
   "id": "7b20aa8b",
   "metadata": {},
   "outputs": [],
   "source": [
    "from langchain.chat_models import ChatOpenAI\n",
    "from langchain.prompts import PromptTemplate\n",
    "from langchain.chains.llm import LLMChain"
   ]
  },
  {
   "cell_type": "code",
   "execution_count": null,
   "id": "52839884",
   "metadata": {},
   "outputs": [],
   "source": [
    "chat_model = ChatOpenAI(model_name='gpt-3.5-turbo', temperature=0.7)\n",
    "blank_prompt = PromptTemplate(\n",
    "    input_variables=[\"problem\"],\n",
    "    template=\"{problem}\",\n",
    ")\n",
    "llm_chain = LLMChain(llm=chat_model, prompt=blank_prompt)\n",
    "another_prompt = PromptTemplate(\n",
    "    input_variables=[\"problem\"],\n",
    "    template=\"write this backwards: {problem}\",\n",
    ")\n",
    "another_chain = LLMChain(llm=chat_model, prompt=another_prompt)"
   ]
  },
  {
   "cell_type": "code",
   "execution_count": null,
   "id": "a3831453",
   "metadata": {},
   "outputs": [],
   "source": [
    "#weave.type_of(langchain.ChainRunResult(llm_chain, 'x', 'y', None)).to_dict()"
   ]
  },
  {
   "cell_type": "code",
   "execution_count": null,
   "id": "96e60b73",
   "metadata": {},
   "outputs": [],
   "source": [
    "chain = weave.save(llm_chain)\n",
    "chain.run('hello2')"
   ]
  },
  {
   "cell_type": "code",
   "execution_count": null,
   "id": "8638f762",
   "metadata": {},
   "outputs": [],
   "source": [
    "chains = weave.save([llm_chain, another_chain])\n",
    "chains.run('hello2')"
   ]
  },
  {
   "cell_type": "code",
   "execution_count": null,
   "id": "c3f9759d",
   "metadata": {},
   "outputs": [],
   "source": [
    "questions = weave.save(['howdy', 'hi there?'], name='questions')"
   ]
  },
  {
   "cell_type": "code",
   "execution_count": null,
   "id": "24256efd",
   "metadata": {},
   "outputs": [],
   "source": [
    "questions.map(lambda q: chains.run(q)).concat()"
   ]
  }
 ],
 "metadata": {
  "kernelspec": {
   "display_name": "Python 3 (ipykernel)",
   "language": "python",
   "name": "python3"
  }
 },
 "nbformat": 4,
 "nbformat_minor": 5
}
