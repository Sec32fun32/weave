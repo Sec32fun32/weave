{
 "cells": [
  {
   "cell_type": "code",
   "execution_count": null,
   "id": "3a7726e4",
   "metadata": {},
   "outputs": [],
   "source": [
    "import os\n",
    "import cProfile\n",
    "import weave\n",
    "import random\n",
    "import time\n",
    "from PIL import Image\n",
    "\n",
    "def create_data():\n",
    "    ims = []\n",
    "    base_im = Image.linear_gradient(\"L\")\n",
    "    random.seed(0)\n",
    "    for rotate in range(5):\n",
    "        for shear in range(5):\n",
    "            for i in range(2000):\n",
    "                ims.append(\n",
    "                    {\n",
    "                        \"rotate\": rotate,\n",
    "                        \"shear\": shear,\n",
    "                        \"y\": random.choice([\"a\", \"b\", \"c\"]),\n",
    "                        \"x\": random.randrange(10),\n",
    "#                         \"image\": base_im.rotate(rotate * 4).transform(\n",
    "#                             (256, 256),\n",
    "#                             Image.AFFINE,\n",
    "#                             (1, shear / 10, 0, 0, 1, 0),\n",
    "#                             Image.BICUBIC,\n",
    "#                         ),\n",
    "                    }\n",
    "                )\n",
    "    from weave import storage\n",
    "\n",
    "    return storage.save(ims)\n",
    "\n",
    "\n",
    "def run(ref):\n",
    "#     node = (\n",
    "#         weave.get(ref)\n",
    "#         .groupby(lambda row: weave.ops.dict_(rotate=row[\"rotate\"], shear=row[\"shear\"]))\n",
    "#         .map(lambda row: row.groupby(lambda row: row[\"y\"]))\n",
    "#         .dropna()\n",
    "#         .count()\n",
    "#     )\n",
    "    node = (\n",
    "        weave.get(ref)\n",
    "        .groupby(lambda row: weave.ops.dict_(rotate=row[\"rotate\"], shear=row[\"shear\"]))\n",
    "        .count()\n",
    "    )\n",
    "    result = weave.use(node)\n",
    "    print('Run result: %s' % result)\n",
    "\n",
    "\n",
    "os.system(\"rm -rf /tmp/local-artifacts/*\")\n",
    "ref = create_data()\n",
    "print(\"Data ref: \", ref)\n",
    "start_time = time.time()\n",
    "cProfile.run('run(\"%s\")' % ref, \"profile_stats\")\n",
    "print('Run time: %ss' % (time.time() - start_time))"
   ]
  },
  {
   "cell_type": "code",
   "execution_count": null,
   "id": "44f3f7ba",
   "metadata": {},
   "outputs": [],
   "source": [
    "import pstats\n",
    "from pstats import SortKey\n",
    "p = pstats.Stats('profile_stats')\n",
    "#p.strip_dirs().sort_stats(SortKey.CUMULATIVE).print_stats()\n",
    "p.strip_dirs().sort_stats(SortKey.CUMULATIVE).print_callers('type_of')\n",
    "#p.strip_dirs().sort_stats(SortKey.TIME).print_stats()"
   ]
  }
 ],
 "metadata": {
  "kernelspec": {
   "display_name": "Python 3 (ipykernel)",
   "language": "python",
   "name": "python3"
  },
  "language_info": {
   "codemirror_mode": {
    "name": "ipython",
    "version": 3
   },
   "file_extension": ".py",
   "mimetype": "text/x-python",
   "name": "python",
   "nbconvert_exporter": "python",
   "pygments_lexer": "ipython3",
   "version": "3.9.7"
  }
 },
 "nbformat": 4,
 "nbformat_minor": 5
}
