{
 "cells": [
  {
   "cell_type": "code",
   "execution_count": 1,
   "id": "f9712d25",
   "metadata": {},
   "outputs": [],
   "source": [
    "import weave\n",
    "weave.use_frontend_devmode()"
   ]
  },
  {
   "cell_type": "code",
   "execution_count": 2,
   "id": "2a60bff3",
   "metadata": {},
   "outputs": [],
   "source": [
    "# objs = weave.save([1, 2, 3])\n",
    "# weave.panels.ObjectPicker(objs)"
   ]
  },
  {
   "cell_type": "code",
   "execution_count": 3,
   "id": "5c826fe1",
   "metadata": {},
   "outputs": [],
   "source": [
    "ref = weave.save(1, 'my-first-int')"
   ]
  },
  {
   "cell_type": "code",
   "execution_count": 4,
   "id": "9b6c30b3",
   "metadata": {},
   "outputs": [],
   "source": [
    "ref = weave.save(5, 'some-other-int')"
   ]
  },
  {
   "cell_type": "code",
   "execution_count": 5,
   "id": "a8999e9f",
   "metadata": {},
   "outputs": [],
   "source": [
    "#weave.use(weave.ops.objects(weave.types.Int(), 'latest'))"
   ]
  },
  {
   "cell_type": "code",
   "execution_count": 6,
   "id": "f9db13db",
   "metadata": {},
   "outputs": [],
   "source": [
    "#weave.panels.ObjectPicker(weave.ops.objects(weave.types.Int(), 'latest'))"
   ]
  },
  {
   "cell_type": "code",
   "execution_count": 7,
   "id": "927f04ea",
   "metadata": {},
   "outputs": [
    {
     "name": "stdout",
     "output_type": "stream",
     "text": [
      "FROM PYTHON {'type': 'list', 'objectType': 'int'}\n",
      "INJECTED ObjectPicker(id='ObjectPicker', input_node=<OutputNode(5685772240): List(object_type=<int>) objects(<int>, \"latest\")>, vars={}, config=PanelObjectPickerConfig(choice=<VarNodeInt(5685664256): <int> choice>))\n",
      "CHILD ObjectPicker(id='ObjectPicker', input_node=<OutputNode(5685772240): List(object_type=<int>) objects(<int>, \"latest\")>, vars={}, config=PanelObjectPickerConfig(choice=<VarNodeInt(5685664256): <int> choice>))\n",
      "INJECTED ObjectPicker(id='ObjectPicker', input_node=<OutputNode(5685772240): List(object_type=<int>) objects(<int>, \"latest\")>, vars={}, config=PanelObjectPickerConfig(choice=<VarNodeInt(5685665744): <int> choice>))\n",
      "CHILD ObjectPicker(id='ObjectPicker', input_node=<OutputNode(5685772240): List(object_type=<int>) objects(<int>, \"latest\")>, vars={}, config=PanelObjectPickerConfig(choice=<VarNodeInt(5685665744): <int> choice>))\n",
      "INJECTED a.config.choice.add(b.config.choice)\n",
      "CHILD a.config.choice.add(b.config.choice)\n",
      "TYPED DICT TYPE TypedDict(property_types={})\n",
      "TYPED DICT TYPE TypedDict(property_types={'a': ObjectPickerType(vars=TypedDict(property_types={}), config=PanelObjectPickerConfigType(choice=Function(input_types={}, output_type=<int>))), 'b': ObjectPickerType(vars=TypedDict(property_types={}), config=PanelObjectPickerConfigType(choice=Function(input_types={}, output_type=<int>))), 'panel': Function(input_types={}, output_type=<number>)})\n",
      "TYPED DICT TYPE TypedDict(property_types={})\n",
      "TYPED DICT TYPE TypedDict(property_types={})\n"
     ]
    },
    {
     "data": {
      "text/html": [
       "\n",
       "        <iframe\n",
       "            width=\"100%\"\n",
       "            height=\"400px\"\n",
       "            src=\"http://localhost:3000/__frontend/weave_jupyter?fullScreen&expNode=%7B%22nodeType%22%3A%20%22void%22%2C%20%22type%22%3A%20%22invalid%22%7D&panelId=group2&panelConfig=%7B%22items%22%3A%20%7B%22a%22%3A%20%7B%22vars%22%3A%20%7B%7D%2C%20%22config%22%3A%20%7B%22choice%22%3A%20%7B%22nodeType%22%3A%20%22var%22%2C%20%22type%22%3A%20%22int%22%2C%20%22varName%22%3A%20%22choice%22%7D%7D%2C%20%22id%22%3A%20%22ObjectPicker%22%2C%20%22input_node%22%3A%20%7B%22nodeType%22%3A%20%22output%22%2C%20%22type%22%3A%20%7B%22type%22%3A%20%22list%22%2C%20%22objectType%22%3A%20%22int%22%7D%2C%20%22fromOp%22%3A%20%7B%22name%22%3A%20%22op-objects%22%2C%20%22inputs%22%3A%20%7B%22of_type%22%3A%20%7B%22nodeType%22%3A%20%22output%22%2C%20%22type%22%3A%20%22type%22%2C%20%22fromOp%22%3A%20%7B%22name%22%3A%20%22get%22%2C%20%22inputs%22%3A%20%7B%22uri%22%3A%20%7B%22nodeType%22%3A%20%22const%22%2C%20%22type%22%3A%20%22string%22%2C%20%22val%22%3A%20%22local-artifact%3A///tmp/local-artifacts/type/bb9600ef695cf9ab5f6ce036b8b5cabb%22%7D%7D%7D%7D%2C%20%22alias%22%3A%20%7B%22nodeType%22%3A%20%22const%22%2C%20%22type%22%3A%20%22string%22%2C%20%22val%22%3A%20%22latest%22%7D%7D%7D%7D%7D%2C%20%22b%22%3A%20%7B%22vars%22%3A%20%7B%7D%2C%20%22config%22%3A%20%7B%22choice%22%3A%20%7B%22nodeType%22%3A%20%22var%22%2C%20%22type%22%3A%20%22int%22%2C%20%22varName%22%3A%20%22choice%22%7D%7D%2C%20%22id%22%3A%20%22ObjectPicker%22%2C%20%22input_node%22%3A%20%7B%22nodeType%22%3A%20%22output%22%2C%20%22type%22%3A%20%7B%22type%22%3A%20%22list%22%2C%20%22objectType%22%3A%20%22int%22%7D%2C%20%22fromOp%22%3A%20%7B%22name%22%3A%20%22op-objects%22%2C%20%22inputs%22%3A%20%7B%22of_type%22%3A%20%7B%22nodeType%22%3A%20%22output%22%2C%20%22type%22%3A%20%22type%22%2C%20%22fromOp%22%3A%20%7B%22name%22%3A%20%22get%22%2C%20%22inputs%22%3A%20%7B%22uri%22%3A%20%7B%22nodeType%22%3A%20%22const%22%2C%20%22type%22%3A%20%22string%22%2C%20%22val%22%3A%20%22local-artifact%3A///tmp/local-artifacts/type/bb9600ef695cf9ab5f6ce036b8b5cabb%22%7D%7D%7D%7D%2C%20%22alias%22%3A%20%7B%22nodeType%22%3A%20%22const%22%2C%20%22type%22%3A%20%22string%22%2C%20%22val%22%3A%20%22latest%22%7D%7D%7D%7D%7D%2C%20%22panel%22%3A%20%7B%22nodeType%22%3A%20%22output%22%2C%20%22type%22%3A%20%22number%22%2C%20%22fromOp%22%3A%20%7B%22name%22%3A%20%22number-add%22%2C%20%22inputs%22%3A%20%7B%22lhs%22%3A%20%7B%22nodeType%22%3A%20%22output%22%2C%20%22type%22%3A%20%7B%22type%22%3A%20%22function%22%2C%20%22inputTypes%22%3A%20%7B%7D%2C%20%22outputType%22%3A%20%22int%22%7D%2C%20%22fromOp%22%3A%20%7B%22name%22%3A%20%22Object-__getattr__%22%2C%20%22inputs%22%3A%20%7B%22self%22%3A%20%7B%22nodeType%22%3A%20%22output%22%2C%20%22type%22%3A%20%7B%22type%22%3A%20%22PanelObjectPickerConfig%22%2C%20%22choice%22%3A%20%7B%22type%22%3A%20%22function%22%2C%20%22inputTypes%22%3A%20%7B%7D%2C%20%22outputType%22%3A%20%22int%22%7D%2C%20%22_property_types%22%3A%20%7B%22choice%22%3A%20%7B%22type%22%3A%20%22function%22%2C%20%22inputTypes%22%3A%20%7B%7D%2C%20%22outputType%22%3A%20%22int%22%7D%7D%7D%2C%20%22fromOp%22%3A%20%7B%22name%22%3A%20%22Object-__getattr__%22%2C%20%22inputs%22%3A%20%7B%22self%22%3A%20%7B%22nodeType%22%3A%20%22var%22%2C%20%22type%22%3A%20%7B%22type%22%3A%20%22ObjectPicker%22%2C%20%22vars%22%3A%20%7B%22type%22%3A%20%22typedDict%22%2C%20%22propertyTypes%22%3A%20%7B%7D%7D%2C%20%22config%22%3A%20%7B%22type%22%3A%20%22PanelObjectPickerConfig%22%2C%20%22choice%22%3A%20%7B%22type%22%3A%20%22function%22%2C%20%22inputTypes%22%3A%20%7B%7D%2C%20%22outputType%22%3A%20%22int%22%7D%2C%20%22_property_types%22%3A%20%7B%22choice%22%3A%20%7B%22type%22%3A%20%22function%22%2C%20%22inputTypes%22%3A%20%7B%7D%2C%20%22outputType%22%3A%20%22int%22%7D%7D%7D%2C%20%22_property_types%22%3A%20%7B%22vars%22%3A%20%7B%22type%22%3A%20%22typedDict%22%2C%20%22propertyTypes%22%3A%20%7B%7D%7D%2C%20%22config%22%3A%20%7B%22type%22%3A%20%22PanelObjectPickerConfig%22%2C%20%22choice%22%3A%20%7B%22type%22%3A%20%22function%22%2C%20%22inputTypes%22%3A%20%7B%7D%2C%20%22outputType%22%3A%20%22int%22%7D%2C%20%22_property_types%22%3A%20%7B%22choice%22%3A%20%7B%22type%22%3A%20%22function%22%2C%20%22inputTypes%22%3A%20%7B%7D%2C%20%22outputType%22%3A%20%22int%22%7D%7D%7D%2C%20%22id%22%3A%20%22string%22%2C%20%22input_node%22%3A%20%7B%22type%22%3A%20%22function%22%2C%20%22inputTypes%22%3A%20%7B%7D%2C%20%22outputType%22%3A%20%22unknown%22%7D%7D%2C%20%22_base_type%22%3A%20%7B%22type%22%3A%20%22Panel%22%2C%20%22vars%22%3A%20%22any%22%2C%20%22_property_types%22%3A%20%7B%22vars%22%3A%20%22any%22%2C%20%22id%22%3A%20%22string%22%2C%20%22input_node%22%3A%20%7B%22type%22%3A%20%22function%22%2C%20%22inputTypes%22%3A%20%7B%7D%2C%20%22outputType%22%3A%20%22unknown%22%7D%7D%7D%7D%2C%20%22varName%22%3A%20%22a%22%7D%2C%20%22name%22%3A%20%7B%22nodeType%22%3A%20%22const%22%2C%20%22type%22%3A%20%22string%22%2C%20%22val%22%3A%20%22config%22%7D%7D%7D%7D%2C%20%22name%22%3A%20%7B%22nodeType%22%3A%20%22const%22%2C%20%22type%22%3A%20%22string%22%2C%20%22val%22%3A%20%22choice%22%7D%7D%7D%7D%2C%20%22rhs%22%3A%20%7B%22nodeType%22%3A%20%22output%22%2C%20%22type%22%3A%20%7B%22type%22%3A%20%22function%22%2C%20%22inputTypes%22%3A%20%7B%7D%2C%20%22outputType%22%3A%20%22int%22%7D%2C%20%22fromOp%22%3A%20%7B%22name%22%3A%20%22Object-__getattr__%22%2C%20%22inputs%22%3A%20%7B%22self%22%3A%20%7B%22nodeType%22%3A%20%22output%22%2C%20%22type%22%3A%20%7B%22type%22%3A%20%22PanelObjectPickerConfig%22%2C%20%22choice%22%3A%20%7B%22type%22%3A%20%22function%22%2C%20%22inputTypes%22%3A%20%7B%7D%2C%20%22outputType%22%3A%20%22int%22%7D%2C%20%22_property_types%22%3A%20%7B%22choice%22%3A%20%7B%22type%22%3A%20%22function%22%2C%20%22inputTypes%22%3A%20%7B%7D%2C%20%22outputType%22%3A%20%22int%22%7D%7D%7D%2C%20%22fromOp%22%3A%20%7B%22name%22%3A%20%22Object-__getattr__%22%2C%20%22inputs%22%3A%20%7B%22self%22%3A%20%7B%22nodeType%22%3A%20%22var%22%2C%20%22type%22%3A%20%7B%22type%22%3A%20%22ObjectPicker%22%2C%20%22vars%22%3A%20%7B%22type%22%3A%20%22typedDict%22%2C%20%22propertyTypes%22%3A%20%7B%7D%7D%2C%20%22config%22%3A%20%7B%22type%22%3A%20%22PanelObjectPickerConfig%22%2C%20%22choice%22%3A%20%7B%22type%22%3A%20%22function%22%2C%20%22inputTypes%22%3A%20%7B%7D%2C%20%22outputType%22%3A%20%22int%22%7D%2C%20%22_property_types%22%3A%20%7B%22choice%22%3A%20%7B%22type%22%3A%20%22function%22%2C%20%22inputTypes%22%3A%20%7B%7D%2C%20%22outputType%22%3A%20%22int%22%7D%7D%7D%2C%20%22_property_types%22%3A%20%7B%22vars%22%3A%20%7B%22type%22%3A%20%22typedDict%22%2C%20%22propertyTypes%22%3A%20%7B%7D%7D%2C%20%22config%22%3A%20%7B%22type%22%3A%20%22PanelObjectPickerConfig%22%2C%20%22choice%22%3A%20%7B%22type%22%3A%20%22function%22%2C%20%22inputTypes%22%3A%20%7B%7D%2C%20%22outputType%22%3A%20%22int%22%7D%2C%20%22_property_types%22%3A%20%7B%22choice%22%3A%20%7B%22type%22%3A%20%22function%22%2C%20%22inputTypes%22%3A%20%7B%7D%2C%20%22outputType%22%3A%20%22int%22%7D%7D%7D%2C%20%22id%22%3A%20%22string%22%2C%20%22input_node%22%3A%20%7B%22type%22%3A%20%22function%22%2C%20%22inputTypes%22%3A%20%7B%7D%2C%20%22outputType%22%3A%20%22unknown%22%7D%7D%2C%20%22_base_type%22%3A%20%7B%22type%22%3A%20%22Panel%22%2C%20%22vars%22%3A%20%22any%22%2C%20%22_property_types%22%3A%20%7B%22vars%22%3A%20%22any%22%2C%20%22id%22%3A%20%22string%22%2C%20%22input_node%22%3A%20%7B%22type%22%3A%20%22function%22%2C%20%22inputTypes%22%3A%20%7B%7D%2C%20%22outputType%22%3A%20%22unknown%22%7D%7D%7D%7D%2C%20%22varName%22%3A%20%22b%22%7D%2C%20%22name%22%3A%20%7B%22nodeType%22%3A%20%22const%22%2C%20%22type%22%3A%20%22string%22%2C%20%22val%22%3A%20%22config%22%7D%7D%7D%7D%2C%20%22name%22%3A%20%7B%22nodeType%22%3A%20%22const%22%2C%20%22type%22%3A%20%22string%22%2C%20%22val%22%3A%20%22choice%22%7D%7D%7D%7D%7D%7D%7D%7D%7D\"\n",
       "            frameborder=\"0\"\n",
       "            allowfullscreen\n",
       "            \n",
       "        ></iframe>\n",
       "        "
      ],
      "text/plain": [
       "<IPython.lib.display.IFrame at 0x152e45880>"
      ]
     },
     "metadata": {},
     "output_type": "display_data"
    }
   ],
   "source": [
    "ints = weave.ops.objects(weave.types.Int(), 'latest')\n",
    "panel = weave.panels.Group2(\n",
    "    items={\n",
    "        \"a\": weave.panels.ObjectPicker(ints),\n",
    "        \"b\": weave.panels.ObjectPicker(ints),\n",
    "        \"panel\": lambda a, b: a.config.choice + b.config.choice\n",
    "    })\n",
    "panel"
   ]
  }
 ],
 "metadata": {
  "kernelspec": {
   "display_name": "Python 3 (ipykernel)",
   "language": "python",
   "name": "python3"
  },
  "language_info": {
   "codemirror_mode": {
    "name": "ipython",
    "version": 3
   },
   "file_extension": ".py",
   "mimetype": "text/x-python",
   "name": "python",
   "nbconvert_exporter": "python",
   "pygments_lexer": "ipython3",
   "version": "3.9.7"
  }
 },
 "nbformat": 4,
 "nbformat_minor": 5
}
