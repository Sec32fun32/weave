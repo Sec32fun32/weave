{
 "cells": [
  {
   "cell_type": "code",
   "execution_count": null,
   "id": "f9712d25",
   "metadata": {},
   "outputs": [],
   "source": [
    "import weave\n",
    "weave.use_frontend_devmode()"
   ]
  },
  {
   "cell_type": "code",
   "execution_count": null,
   "id": "2a60bff3",
   "metadata": {},
   "outputs": [],
   "source": [
    "# objs = weave.save([1, 2, 3])\n",
    "# weave.panels.ObjectPicker(objs)"
   ]
  },
  {
   "cell_type": "code",
   "execution_count": null,
   "id": "5c826fe1",
   "metadata": {},
   "outputs": [],
   "source": [
    "# ref = weave.save(1, 'my-first-int')"
   ]
  },
  {
   "cell_type": "code",
   "execution_count": null,
   "id": "9b6c30b3",
   "metadata": {},
   "outputs": [],
   "source": [
    "# ref = weave.save(5, 'some-other-int')"
   ]
  },
  {
   "cell_type": "code",
   "execution_count": null,
   "id": "a8999e9f",
   "metadata": {},
   "outputs": [],
   "source": [
    "#weave.use(weave.ops.objects(weave.types.Int(), 'latest'))"
   ]
  },
  {
   "cell_type": "code",
   "execution_count": null,
   "id": "f9db13db",
   "metadata": {},
   "outputs": [],
   "source": [
    "#weave.panels.ObjectPicker(weave.ops.objects(weave.types.Int(), 'latest'))"
   ]
  },
  {
   "cell_type": "code",
   "execution_count": null,
   "id": "927f04ea",
   "metadata": {
    "scrolled": false
   },
   "outputs": [],
   "source": [
    "# ints = weave.ops.objects(weave.types.Int(), 'latest')\n",
    "# weave.use(ints[0])\n",
    "# panel = weave.panels.Group2(\n",
    "#     items={\n",
    "#         \"a\": weave.panels.ObjectPicker(ints),\n",
    "#         \"b\": weave.panels.ObjectPicker(ints),\n",
    "#         \"panel\": lambda a, b: a.config.choice + b.config.choice\n",
    "#     })\n",
    "# panel"
   ]
  },
  {
   "cell_type": "code",
   "execution_count": null,
   "id": "72791739",
   "metadata": {
    "scrolled": false
   },
   "outputs": [],
   "source": [
    "# ints = weave.ops.objects(weave.types.Int(), 'latest')\n",
    "# def pobj(o):\n",
    "#     print(\"O\", o)\n",
    "#     return o\n",
    "# panel = weave.panels.Group2(\n",
    "#     items={\n",
    "#         \"sidebar\": weave.panels.Group2(\n",
    "#             preferHorizontal=True,\n",
    "#             items={\n",
    "#                 \"a\": weave.panels.Slider2()\n",
    "#             }\n",
    "#         ),\n",
    "#         \"main\": lambda sidebar: weave.panels.Group2(\n",
    "#             items={\n",
    "#                 \"item1\": pobj(sidebar.config.items['a'].config.value)\n",
    "#             }\n",
    "#         )\n",
    "#     })\n",
    "# panel"
   ]
  },
  {
   "cell_type": "code",
   "execution_count": null,
   "id": "13eb16d1",
   "metadata": {},
   "outputs": [],
   "source": [
    "ints = weave.ops.objects(weave.types.Int(), 'latest')\n",
    "# def pobj(o):\n",
    "#     print(\"O\", o)\n",
    "#     return o\n",
    "panel = weave.panels.Group2(\n",
    "    preferHorizontal=True,\n",
    "    items={\n",
    "        \"sidebar\": weave.panels.Group2(\n",
    "            items={\n",
    "                \"a\": weave.panels.ObjectPicker(ints),\n",
    "                \"b\": weave.panels.ObjectPicker(ints)\n",
    "            }\n",
    "        ),\n",
    "        \"main\": lambda sidebar: weave.panels.Group2(\n",
    "            items={\n",
    "                \"item1\": sidebar.config.items['a'].config.choice.get()\n",
    "                    + sidebar.config.items['b'].config.choice.get()\n",
    "            }\n",
    "        )\n",
    "    })\n",
    "ref = weave.save(panel, name='my-panel')\n",
    "ref"
   ]
  },
  {
   "cell_type": "code",
   "execution_count": null,
   "id": "6ea6999b",
   "metadata": {
    "scrolled": false
   },
   "outputs": [],
   "source": [
    "! rm -rf /tmp/local-artifacts\n",
    "weave.save(1, name='int1')\n",
    "weave.save(5, name='int2')\n",
    "\n",
    "\n",
    "all_ints = weave.ops.objects(weave.types.Int(), 'latest')\n",
    "\n",
    "print(all_ints.type)\n",
    "print(weave.use(all_ints[0]))\n",
    "\n",
    "# So .objects() gets a list of Refs\n",
    "# 1. Need a Ref panel that can render them\n",
    "# 2. Need a deref op we can call\n",
    "all_ints[0].get().type"
   ]
  },
  {
   "cell_type": "code",
   "execution_count": null,
   "id": "9b27d594",
   "metadata": {},
   "outputs": [],
   "source": [
    "all_ints = weave.ops.objects(weave.types.Int(), 'latest')\n",
    "weave.panels.ObjectPicker(all_ints)"
   ]
  }
 ],
 "metadata": {
  "kernelspec": {
   "display_name": "Python 3 (ipykernel)",
   "language": "python",
   "name": "python3"
  },
  "language_info": {
   "codemirror_mode": {
    "name": "ipython",
    "version": 3
   },
   "file_extension": ".py",
   "mimetype": "text/x-python",
   "name": "python",
   "nbconvert_exporter": "python",
   "pygments_lexer": "ipython3",
   "version": "3.9.7"
  }
 },
 "nbformat": 4,
 "nbformat_minor": 5
}
