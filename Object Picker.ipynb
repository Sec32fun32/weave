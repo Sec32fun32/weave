{
 "cells": [
  {
   "cell_type": "code",
   "execution_count": 1,
   "id": "f9712d25",
   "metadata": {},
   "outputs": [],
   "source": [
    "import weave\n",
    "weave.use_frontend_devmode()"
   ]
  },
  {
   "cell_type": "code",
   "execution_count": null,
   "id": "2a60bff3",
   "metadata": {},
   "outputs": [],
   "source": [
    "# objs = weave.save([1, 2, 3])\n",
    "# weave.panels.ObjectPicker(objs)"
   ]
  },
  {
   "cell_type": "code",
   "execution_count": null,
   "id": "5c826fe1",
   "metadata": {},
   "outputs": [],
   "source": [
    "# ref = weave.save(1, 'my-first-int')"
   ]
  },
  {
   "cell_type": "code",
   "execution_count": null,
   "id": "9b6c30b3",
   "metadata": {},
   "outputs": [],
   "source": [
    "# ref = weave.save(5, 'some-other-int')"
   ]
  },
  {
   "cell_type": "code",
   "execution_count": null,
   "id": "a8999e9f",
   "metadata": {},
   "outputs": [],
   "source": [
    "#weave.use(weave.ops.objects(weave.types.Int(), 'latest'))"
   ]
  },
  {
   "cell_type": "code",
   "execution_count": null,
   "id": "f9db13db",
   "metadata": {},
   "outputs": [],
   "source": [
    "#weave.panels.ObjectPicker(weave.ops.objects(weave.types.Int(), 'latest'))"
   ]
  },
  {
   "cell_type": "code",
   "execution_count": null,
   "id": "927f04ea",
   "metadata": {
    "scrolled": false
   },
   "outputs": [],
   "source": [
    "# ints = weave.ops.objects(weave.types.Int(), 'latest')\n",
    "# weave.use(ints[0])\n",
    "# panel = weave.panels.Group2(\n",
    "#     items={\n",
    "#         \"a\": weave.panels.ObjectPicker(ints),\n",
    "#         \"b\": weave.panels.ObjectPicker(ints),\n",
    "#         \"panel\": lambda a, b: a.config.choice + b.config.choice\n",
    "#     })\n",
    "# panel"
   ]
  },
  {
   "cell_type": "code",
   "execution_count": null,
   "id": "72791739",
   "metadata": {
    "scrolled": false
   },
   "outputs": [],
   "source": [
    "# ints = weave.ops.objects(weave.types.Int(), 'latest')\n",
    "# def pobj(o):\n",
    "#     print(\"O\", o)\n",
    "#     return o\n",
    "# panel = weave.panels.Group2(\n",
    "#     items={\n",
    "#         \"sidebar\": weave.panels.Group2(\n",
    "#             preferHorizontal=True,\n",
    "#             items={\n",
    "#                 \"a\": weave.panels.Slider2()\n",
    "#             }\n",
    "#         ),\n",
    "#         \"main\": lambda sidebar: weave.panels.Group2(\n",
    "#             items={\n",
    "#                 \"item1\": pobj(sidebar.config.items['a'].config.value)\n",
    "#             }\n",
    "#         )\n",
    "#     })\n",
    "# panel"
   ]
  },
  {
   "cell_type": "code",
   "execution_count": 2,
   "id": "13eb16d1",
   "metadata": {},
   "outputs": [
    {
     "ename": "TypeError",
     "evalue": "missing a required argument: 'timestamp'",
     "output_type": "error",
     "traceback": [
      "\u001b[0;31m---------------------------------------------------------------------------\u001b[0m",
      "\u001b[0;31mTypeError\u001b[0m                                 Traceback (most recent call last)",
      "Cell \u001b[0;32mIn [2], line 1\u001b[0m\n\u001b[0;32m----> 1\u001b[0m ints \u001b[38;5;241m=\u001b[39m \u001b[43mweave\u001b[49m\u001b[38;5;241;43m.\u001b[39;49m\u001b[43mops\u001b[49m\u001b[38;5;241;43m.\u001b[39;49m\u001b[43mobjects\u001b[49m\u001b[43m(\u001b[49m\u001b[43mweave\u001b[49m\u001b[38;5;241;43m.\u001b[39;49m\u001b[43mtypes\u001b[49m\u001b[38;5;241;43m.\u001b[39;49m\u001b[43mInt\u001b[49m\u001b[43m(\u001b[49m\u001b[43m)\u001b[49m\u001b[43m,\u001b[49m\u001b[43m \u001b[49m\u001b[38;5;124;43m'\u001b[39;49m\u001b[38;5;124;43mlatest\u001b[39;49m\u001b[38;5;124;43m'\u001b[39;49m\u001b[43m)\u001b[49m\n\u001b[1;32m      2\u001b[0m \u001b[38;5;66;03m# def pobj(o):\u001b[39;00m\n\u001b[1;32m      3\u001b[0m \u001b[38;5;66;03m#     print(\"O\", o)\u001b[39;00m\n\u001b[1;32m      4\u001b[0m \u001b[38;5;66;03m#     return o\u001b[39;00m\n\u001b[1;32m      5\u001b[0m panel \u001b[38;5;241m=\u001b[39m weave\u001b[38;5;241m.\u001b[39mpanels\u001b[38;5;241m.\u001b[39mGroup2(\n\u001b[1;32m      6\u001b[0m     preferHorizontal\u001b[38;5;241m=\u001b[39m\u001b[38;5;28;01mTrue\u001b[39;00m,\n\u001b[1;32m      7\u001b[0m     items\u001b[38;5;241m=\u001b[39m{\n\u001b[0;32m   (...)\u001b[0m\n\u001b[1;32m     19\u001b[0m         )\n\u001b[1;32m     20\u001b[0m     })\n",
      "File \u001b[0;32m~/code2/weave-internal/weave/op_def.py:72\u001b[0m, in \u001b[0;36mOpDef.__call__\u001b[0;34m(self, *args, **kwargs)\u001b[0m\n\u001b[1;32m     70\u001b[0m \u001b[38;5;28;01mif\u001b[39;00m \u001b[38;5;28mself\u001b[39m\u001b[38;5;241m.\u001b[39minstance \u001b[38;5;129;01mis\u001b[39;00m \u001b[38;5;129;01mnot\u001b[39;00m \u001b[38;5;28;01mNone\u001b[39;00m:\n\u001b[1;32m     71\u001b[0m     \u001b[38;5;28;01mreturn\u001b[39;00m \u001b[38;5;28mself\u001b[39m\u001b[38;5;241m.\u001b[39mcall_fn(\u001b[38;5;28mself\u001b[39m\u001b[38;5;241m.\u001b[39minstance, \u001b[38;5;241m*\u001b[39margs, \u001b[38;5;241m*\u001b[39m\u001b[38;5;241m*\u001b[39mkwargs)\n\u001b[0;32m---> 72\u001b[0m \u001b[38;5;28;01mreturn\u001b[39;00m \u001b[38;5;28;43mself\u001b[39;49m\u001b[38;5;241;43m.\u001b[39;49m\u001b[43mcall_fn\u001b[49m\u001b[43m(\u001b[49m\u001b[38;5;241;43m*\u001b[39;49m\u001b[43margs\u001b[49m\u001b[43m,\u001b[49m\u001b[43m \u001b[49m\u001b[38;5;241;43m*\u001b[39;49m\u001b[38;5;241;43m*\u001b[39;49m\u001b[43mkwargs\u001b[49m\u001b[43m)\u001b[49m\n",
      "File \u001b[0;32m~/code2/weave-internal/weave/lazy.py:180\u001b[0m, in \u001b[0;36mmake_call.<locals>.call\u001b[0;34m(*args, **kwargs)\u001b[0m\n\u001b[1;32m    178\u001b[0m     \u001b[38;5;28;01mreturn\u001b[39;00m eager_call(\u001b[38;5;241m*\u001b[39margs, \u001b[38;5;241m*\u001b[39m\u001b[38;5;241m*\u001b[39mkwargs)\n\u001b[1;32m    179\u001b[0m \u001b[38;5;28;01melse\u001b[39;00m:\n\u001b[0;32m--> 180\u001b[0m     \u001b[38;5;28;01mreturn\u001b[39;00m \u001b[43mlazy_call\u001b[49m\u001b[43m(\u001b[49m\u001b[38;5;241;43m*\u001b[39;49m\u001b[43margs\u001b[49m\u001b[43m,\u001b[49m\u001b[43m \u001b[49m\u001b[38;5;241;43m*\u001b[39;49m\u001b[38;5;241;43m*\u001b[39;49m\u001b[43mkwargs\u001b[49m\u001b[43m)\u001b[49m\n",
      "File \u001b[0;32m~/code2/weave-internal/weave/lazy.py:151\u001b[0m, in \u001b[0;36mmake_lazy_call.<locals>.lazy_call\u001b[0;34m(*args, **kwargs)\u001b[0m\n\u001b[1;32m    150\u001b[0m \u001b[38;5;28;01mdef\u001b[39;00m \u001b[38;5;21mlazy_call\u001b[39m(\u001b[38;5;241m*\u001b[39margs, \u001b[38;5;241m*\u001b[39m\u001b[38;5;241m*\u001b[39mkwargs):\n\u001b[0;32m--> 151\u001b[0m     bound_params \u001b[38;5;241m=\u001b[39m \u001b[43m_bind_params\u001b[49m\u001b[43m(\u001b[49m\u001b[43mfq_op_name\u001b[49m\u001b[43m,\u001b[49m\u001b[43m \u001b[49m\u001b[43msig\u001b[49m\u001b[43m,\u001b[49m\u001b[43m \u001b[49m\u001b[43margs\u001b[49m\u001b[43m,\u001b[49m\u001b[43m \u001b[49m\u001b[43mkwargs\u001b[49m\u001b[43m,\u001b[49m\u001b[43m \u001b[49m\u001b[43minput_type\u001b[49m\u001b[43m)\u001b[49m\n\u001b[1;32m    152\u001b[0m     \u001b[38;5;28;01mreturn\u001b[39;00m _make_output_node(\n\u001b[1;32m    153\u001b[0m         fq_op_name, bound_params, input_type, output_type, refine_output_type\n\u001b[1;32m    154\u001b[0m     )\n",
      "File \u001b[0;32m~/code2/weave-internal/weave/lazy.py:50\u001b[0m, in \u001b[0;36m_bind_params\u001b[0;34m(fq_op_name, sig, args, kwargs, input_type)\u001b[0m\n\u001b[1;32m     49\u001b[0m \u001b[38;5;28;01mdef\u001b[39;00m \u001b[38;5;21m_bind_params\u001b[39m(fq_op_name, sig, args, kwargs, input_type):\n\u001b[0;32m---> 50\u001b[0m     bound_params \u001b[38;5;241m=\u001b[39m \u001b[43msig\u001b[49m\u001b[38;5;241;43m.\u001b[39;49m\u001b[43mbind\u001b[49m\u001b[43m(\u001b[49m\u001b[38;5;241;43m*\u001b[39;49m\u001b[43margs\u001b[49m\u001b[43m,\u001b[49m\u001b[43m \u001b[49m\u001b[38;5;241;43m*\u001b[39;49m\u001b[38;5;241;43m*\u001b[39;49m\u001b[43mkwargs\u001b[49m\u001b[43m)\u001b[49m\n\u001b[1;32m     51\u001b[0m     bound_params_with_constants \u001b[38;5;241m=\u001b[39m collections\u001b[38;5;241m.\u001b[39mOrderedDict()\n\u001b[1;32m     52\u001b[0m     \u001b[38;5;28;01mfor\u001b[39;00m k, v \u001b[38;5;129;01min\u001b[39;00m bound_params\u001b[38;5;241m.\u001b[39marguments\u001b[38;5;241m.\u001b[39mitems():\n",
      "File \u001b[0;32m~/.pyenv/versions/3.9.7/lib/python3.9/inspect.py:3043\u001b[0m, in \u001b[0;36mSignature.bind\u001b[0;34m(self, *args, **kwargs)\u001b[0m\n\u001b[1;32m   3038\u001b[0m \u001b[38;5;28;01mdef\u001b[39;00m \u001b[38;5;21mbind\u001b[39m(\u001b[38;5;28mself\u001b[39m, \u001b[38;5;241m/\u001b[39m, \u001b[38;5;241m*\u001b[39margs, \u001b[38;5;241m*\u001b[39m\u001b[38;5;241m*\u001b[39mkwargs):\n\u001b[1;32m   3039\u001b[0m     \u001b[38;5;124;03m\"\"\"Get a BoundArguments object, that maps the passed `args`\u001b[39;00m\n\u001b[1;32m   3040\u001b[0m \u001b[38;5;124;03m    and `kwargs` to the function's signature.  Raises `TypeError`\u001b[39;00m\n\u001b[1;32m   3041\u001b[0m \u001b[38;5;124;03m    if the passed arguments can not be bound.\u001b[39;00m\n\u001b[1;32m   3042\u001b[0m \u001b[38;5;124;03m    \"\"\"\u001b[39;00m\n\u001b[0;32m-> 3043\u001b[0m     \u001b[38;5;28;01mreturn\u001b[39;00m \u001b[38;5;28;43mself\u001b[39;49m\u001b[38;5;241;43m.\u001b[39;49m\u001b[43m_bind\u001b[49m\u001b[43m(\u001b[49m\u001b[43margs\u001b[49m\u001b[43m,\u001b[49m\u001b[43m \u001b[49m\u001b[43mkwargs\u001b[49m\u001b[43m)\u001b[49m\n",
      "File \u001b[0;32m~/.pyenv/versions/3.9.7/lib/python3.9/inspect.py:2958\u001b[0m, in \u001b[0;36mSignature._bind\u001b[0;34m(self, args, kwargs, partial)\u001b[0m\n\u001b[1;32m   2956\u001b[0m                 msg \u001b[38;5;241m=\u001b[39m \u001b[38;5;124m'\u001b[39m\u001b[38;5;124mmissing a required argument: \u001b[39m\u001b[38;5;132;01m{arg!r}\u001b[39;00m\u001b[38;5;124m'\u001b[39m\n\u001b[1;32m   2957\u001b[0m                 msg \u001b[38;5;241m=\u001b[39m msg\u001b[38;5;241m.\u001b[39mformat(arg\u001b[38;5;241m=\u001b[39mparam\u001b[38;5;241m.\u001b[39mname)\n\u001b[0;32m-> 2958\u001b[0m                 \u001b[38;5;28;01mraise\u001b[39;00m \u001b[38;5;167;01mTypeError\u001b[39;00m(msg) \u001b[38;5;28;01mfrom\u001b[39;00m \u001b[38;5;28mNone\u001b[39m\n\u001b[1;32m   2959\u001b[0m \u001b[38;5;28;01melse\u001b[39;00m:\n\u001b[1;32m   2960\u001b[0m     \u001b[38;5;66;03m# We have a positional argument to process\u001b[39;00m\n\u001b[1;32m   2961\u001b[0m     \u001b[38;5;28;01mtry\u001b[39;00m:\n",
      "\u001b[0;31mTypeError\u001b[0m: missing a required argument: 'timestamp'"
     ]
    }
   ],
   "source": [
    "ints = weave.ops.objects(weave.types.Int(), 'latest')\n",
    "# def pobj(o):\n",
    "#     print(\"O\", o)\n",
    "#     return o\n",
    "panel = weave.panels.Group2(\n",
    "    preferHorizontal=True,\n",
    "    items={\n",
    "        \"sidebar\": weave.panels.Group2(\n",
    "            items={\n",
    "                \"a\": weave.panels.ObjectPicker(ints),\n",
    "                \"b\": weave.panels.ObjectPicker(ints)\n",
    "            }\n",
    "        ),\n",
    "        \"main\": lambda sidebar: weave.panels.Group2(\n",
    "            items={\n",
    "                \"item1\": sidebar.config.items['a'].config.choice.get()\n",
    "                    + sidebar.config.items['b'].config.choice.get()\n",
    "            }\n",
    "        )\n",
    "    })\n",
    "ref = weave.save(panel, name='my-panel')\n",
    "ref"
   ]
  },
  {
   "cell_type": "code",
   "execution_count": null,
   "id": "6ea6999b",
   "metadata": {
    "scrolled": false
   },
   "outputs": [],
   "source": [
    "! rm -rf /tmp/local-artifacts\n",
    "weave.save(1, name='int1')\n",
    "weave.save(5, name='int2')\n",
    "\n",
    "\n",
    "all_ints = weave.ops.objects(weave.types.Int(), 'latest')\n",
    "\n",
    "print(all_ints.type)\n",
    "print(weave.use(all_ints[0]))\n",
    "\n",
    "# So .objects() gets a list of Refs\n",
    "# 1. Need a Ref panel that can render them\n",
    "# 2. Need a deref op we can call\n",
    "all_ints[0].get().type"
   ]
  },
  {
   "cell_type": "code",
   "execution_count": null,
   "id": "9b27d594",
   "metadata": {},
   "outputs": [],
   "source": [
    "all_ints = weave.ops.objects(weave.types.Int(), 'latest')\n",
    "weave.panels.ObjectPicker(all_ints)"
   ]
  }
 ],
 "metadata": {
  "kernelspec": {
   "display_name": "Python 3 (ipykernel)",
   "language": "python",
   "name": "python3"
  },
  "language_info": {
   "codemirror_mode": {
    "name": "ipython",
    "version": 3
   },
   "file_extension": ".py",
   "mimetype": "text/x-python",
   "name": "python",
   "nbconvert_exporter": "python",
   "pygments_lexer": "ipython3",
   "version": "3.9.7"
  }
 },
 "nbformat": 4,
 "nbformat_minor": 5
}
