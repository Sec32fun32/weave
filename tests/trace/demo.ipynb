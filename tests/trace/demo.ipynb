{
 "cells": [
  {
   "cell_type": "code",
   "execution_count": 1,
   "metadata": {},
   "outputs": [
    {
     "name": "stdout",
     "output_type": "stream",
     "text": [
      "Logged in as Weights & Biases user: timssweeney.\n",
      "View Weave data at https://wandb.ai/timssweeney/action_test_6/weave\n"
     ]
    }
   ],
   "source": [
    "import os\n",
    "\n",
    "import weave\n",
    "\n",
    "os.environ[\"WF_TRACE_SERVER_URL\"] = \"http://127.0.01:6345\"\n",
    "\n",
    "client = weave.init(\"action_test_6\")"
   ]
  },
  {
   "cell_type": "code",
   "execution_count": 3,
   "metadata": {},
   "outputs": [
    {
     "name": "stdout",
     "output_type": "stream",
     "text": [
      "🍩 https://wandb.ai/timssweeney/action_test_6/r/call/0192bd55-2347-7bd3-9a5b-b67569c5cc3f\n",
      "🍩 https://wandb.ai/timssweeney/action_test_6/r/call/0192bd55-24f4-7500-82df-4d40849552c3\n",
      "🍩 https://wandb.ai/timssweeney/action_test_6/r/call/0192bd55-268f-7392-a630-f1439b06dc63\n",
      "🍩 https://wandb.ai/timssweeney/action_test_6/r/call/0192bd55-2695-7fd2-87e6-cda7c6a20104\n",
      "🍩 https://wandb.ai/timssweeney/action_test_6/r/call/0192bd55-282b-7eb1-8c3c-72c41532f698\n",
      "[Call(_op_name=<Future at 0x2ad619a20 state=finished returned str>, trace_id='0192bd55-2347-7bd3-9a5b-b68d23f243fd', project_id='timssweeney/action_test_6', parent_id=None, inputs={'user_input': 'My name is Scott.'}, id='0192bd55-2347-7bd3-9a5b-b67569c5cc3f', output='Scott', exception=None, summary={'usage': {'gpt-3.5-turbo-0125': {'requests': 1, 'completion_tokens': 1, 'prompt_tokens': 35, 'total_tokens': 36, 'completion_tokens_details': {'reasoning_tokens': 0}, 'prompt_tokens_details': {'cached_tokens': 0}}}}, display_name=None, attributes=AttributesDict({'weave': {'client_version': '0.51.18-dev0', 'source': 'python-sdk', 'os_name': 'Darwin', 'os_version': 'Darwin Kernel Version 23.2.0: Wed Nov 15 21:53:18 PST 2023; root:xnu-10002.61.3~2/RELEASE_ARM64_T6000', 'os_release': '23.2.0', 'sys_version': '3.10.8 (main, Dec  5 2022, 18:10:41) [Clang 14.0.0 (clang-1400.0.29.202)]'}}), started_at=None, ended_at=datetime.datetime(2024, 10, 24, 7, 2, 6, 835343, tzinfo=datetime.timezone.utc), deleted_at=None, _children=[Call(_op_name=<Future at 0x2ad6e2aa0 state=finished returned str>, trace_id='0192bd55-2347-7bd3-9a5b-b68d23f243fd', project_id='timssweeney/action_test_6', parent_id='0192bd55-2347-7bd3-9a5b-b67569c5cc3f', inputs={'self': <openai.resources.chat.completions.Completions object at 0x2ad6e1ff0>, 'messages': [{'role': 'system', 'content': 'Extract the name from the user input. If there is no name, return an empty string.'}, {'role': 'user', 'content': 'My name is Scott.'}], 'model': 'gpt-3.5-turbo', 'max_tokens': 64, 'temperature': 0.0, 'top_p': 1}, id='0192bd55-2351-7811-a289-4e6489f87fee', output=ObjectRecord({'id': 'chatcmpl-ALm98X3mJJcL5QSSc5hnDSzh7FJ7h', 'choices': [ObjectRecord({'finish_reason': 'stop', 'index': 0, 'logprobs': None, 'message': ObjectRecord({'content': 'Scott', 'refusal': None, 'role': 'assistant', 'audio': None, 'function_call': None, 'tool_calls': None, '_class_name': 'ChatCompletionMessage', '_bases': ['BaseModel', 'BaseModel']}), '_class_name': 'Choice', '_bases': ['BaseModel', 'BaseModel']})], 'created': 1729753326, 'model': 'gpt-3.5-turbo-0125', 'object': 'chat.completion', 'service_tier': None, 'system_fingerprint': None, 'usage': ObjectRecord({'completion_tokens': 1, 'prompt_tokens': 35, 'total_tokens': 36, 'completion_tokens_details': ObjectRecord({'audio_tokens': None, 'reasoning_tokens': 0, '_class_name': 'CompletionTokensDetails', '_bases': ['BaseModel', 'BaseModel']}), 'prompt_tokens_details': ObjectRecord({'audio_tokens': None, 'cached_tokens': 0, '_class_name': 'PromptTokensDetails', '_bases': ['BaseModel', 'BaseModel']}), '_class_name': 'CompletionUsage', '_bases': ['BaseModel', 'BaseModel']}), '_class_name': 'ChatCompletion', '_bases': ['BaseModel', 'BaseModel']}), exception=None, summary={'usage': {'gpt-3.5-turbo-0125': {'requests': 1, 'completion_tokens': 1, 'prompt_tokens': 35, 'total_tokens': 36, 'completion_tokens_details': {'reasoning_tokens': 0}, 'prompt_tokens_details': {'cached_tokens': 0}}}}, display_name=None, attributes=AttributesDict({'weave': {'client_version': '0.51.18-dev0', 'source': 'python-sdk', 'os_name': 'Darwin', 'os_version': 'Darwin Kernel Version 23.2.0: Wed Nov 15 21:53:18 PST 2023; root:xnu-10002.61.3~2/RELEASE_ARM64_T6000', 'os_release': '23.2.0', 'sys_version': '3.10.8 (main, Dec  5 2022, 18:10:41) [Clang 14.0.0 (clang-1400.0.29.202)]'}}), started_at=None, ended_at=datetime.datetime(2024, 10, 24, 7, 2, 6, 797287, tzinfo=datetime.timezone.utc), deleted_at=None, _children=[], _feedback=None)], _feedback=None), Call(_op_name=<Future at 0x2ad61bf10 state=finished returned str>, trace_id='0192bd55-24f4-7500-82df-4d53b1d78866', project_id='timssweeney/action_test_6', parent_id=None, inputs={'user_input': 'My name is Adrian.'}, id='0192bd55-24f4-7500-82df-4d40849552c3', output='Adrian', exception=None, summary={'usage': {'gpt-3.5-turbo-0125': {'requests': 1, 'completion_tokens': 2, 'prompt_tokens': 35, 'total_tokens': 37, 'completion_tokens_details': {'reasoning_tokens': 0}, 'prompt_tokens_details': {'cached_tokens': 0}}}}, display_name=None, attributes=AttributesDict({'weave': {'client_version': '0.51.18-dev0', 'source': 'python-sdk', 'os_name': 'Darwin', 'os_version': 'Darwin Kernel Version 23.2.0: Wed Nov 15 21:53:18 PST 2023; root:xnu-10002.61.3~2/RELEASE_ARM64_T6000', 'os_release': '23.2.0', 'sys_version': '3.10.8 (main, Dec  5 2022, 18:10:41) [Clang 14.0.0 (clang-1400.0.29.202)]'}}), started_at=None, ended_at=datetime.datetime(2024, 10, 24, 7, 2, 7, 246670, tzinfo=datetime.timezone.utc), deleted_at=None, _children=[Call(_op_name=<Future at 0x2ad6c12d0 state=finished returned str>, trace_id='0192bd55-24f4-7500-82df-4d53b1d78866', project_id='timssweeney/action_test_6', parent_id='0192bd55-24f4-7500-82df-4d40849552c3', inputs={'self': <openai.resources.chat.completions.Completions object at 0x2ad6c17b0>, 'messages': [{'role': 'system', 'content': 'Extract the name from the user input. If there is no name, return an empty string.'}, {'role': 'user', 'content': 'My name is Adrian.'}], 'model': 'gpt-3.5-turbo', 'max_tokens': 64, 'temperature': 0.0, 'top_p': 1}, id='0192bd55-24fb-70e3-9b34-a4be35c5ad55', output=ObjectRecord({'id': 'chatcmpl-ALm99SgZlLT5zwpjSH2xEhDlFnR6e', 'choices': [ObjectRecord({'finish_reason': 'stop', 'index': 0, 'logprobs': None, 'message': ObjectRecord({'content': 'Adrian', 'refusal': None, 'role': 'assistant', 'audio': None, 'function_call': None, 'tool_calls': None, '_class_name': 'ChatCompletionMessage', '_bases': ['BaseModel', 'BaseModel']}), '_class_name': 'Choice', '_bases': ['BaseModel', 'BaseModel']})], 'created': 1729753327, 'model': 'gpt-3.5-turbo-0125', 'object': 'chat.completion', 'service_tier': None, 'system_fingerprint': None, 'usage': ObjectRecord({'completion_tokens': 2, 'prompt_tokens': 35, 'total_tokens': 37, 'completion_tokens_details': ObjectRecord({'audio_tokens': None, 'reasoning_tokens': 0, '_class_name': 'CompletionTokensDetails', '_bases': ['BaseModel', 'BaseModel']}), 'prompt_tokens_details': ObjectRecord({'audio_tokens': None, 'cached_tokens': 0, '_class_name': 'PromptTokensDetails', '_bases': ['BaseModel', 'BaseModel']}), '_class_name': 'CompletionUsage', '_bases': ['BaseModel', 'BaseModel']}), '_class_name': 'ChatCompletion', '_bases': ['BaseModel', 'BaseModel']}), exception=None, summary={'usage': {'gpt-3.5-turbo-0125': {'requests': 1, 'completion_tokens': 2, 'prompt_tokens': 35, 'total_tokens': 37, 'completion_tokens_details': {'reasoning_tokens': 0}, 'prompt_tokens_details': {'cached_tokens': 0}}}}, display_name=None, attributes=AttributesDict({'weave': {'client_version': '0.51.18-dev0', 'source': 'python-sdk', 'os_name': 'Darwin', 'os_version': 'Darwin Kernel Version 23.2.0: Wed Nov 15 21:53:18 PST 2023; root:xnu-10002.61.3~2/RELEASE_ARM64_T6000', 'os_release': '23.2.0', 'sys_version': '3.10.8 (main, Dec  5 2022, 18:10:41) [Clang 14.0.0 (clang-1400.0.29.202)]'}}), started_at=None, ended_at=datetime.datetime(2024, 10, 24, 7, 2, 7, 227731, tzinfo=datetime.timezone.utc), deleted_at=None, _children=[], _feedback=None)], _feedback=None), Call(_op_name=<Future at 0x2ad83a5c0 state=finished returned str>, trace_id='0192bd55-268f-7392-a630-f15bf2398dc7', project_id='timssweeney/action_test_6', parent_id=None, inputs={'user_input': 'My name is Tim.'}, id='0192bd55-268f-7392-a630-f1439b06dc63', output=\"i don't know!\", exception=None, summary={}, display_name=None, attributes=AttributesDict({'weave': {'client_version': '0.51.18-dev0', 'source': 'python-sdk', 'os_name': 'Darwin', 'os_version': 'Darwin Kernel Version 23.2.0: Wed Nov 15 21:53:18 PST 2023; root:xnu-10002.61.3~2/RELEASE_ARM64_T6000', 'os_release': '23.2.0', 'sys_version': '3.10.8 (main, Dec  5 2022, 18:10:41) [Clang 14.0.0 (clang-1400.0.29.202)]'}}), started_at=None, ended_at=datetime.datetime(2024, 10, 24, 7, 2, 7, 252809, tzinfo=datetime.timezone.utc), deleted_at=None, _children=[], _feedback=None), Call(_op_name=<Future at 0x2ad6c2980 state=finished returned str>, trace_id='0192bd55-2695-7fd2-87e6-cdbd6daffef1', project_id='timssweeney/action_test_6', parent_id=None, inputs={'user_input': 'My name is Jeff.'}, id='0192bd55-2695-7fd2-87e6-cda7c6a20104', output='Jeff', exception=None, summary={'usage': {'gpt-3.5-turbo-0125': {'requests': 1, 'completion_tokens': 1, 'prompt_tokens': 35, 'total_tokens': 36, 'completion_tokens_details': {'reasoning_tokens': 0}, 'prompt_tokens_details': {'cached_tokens': 0}}}}, display_name=None, attributes=AttributesDict({'weave': {'client_version': '0.51.18-dev0', 'source': 'python-sdk', 'os_name': 'Darwin', 'os_version': 'Darwin Kernel Version 23.2.0: Wed Nov 15 21:53:18 PST 2023; root:xnu-10002.61.3~2/RELEASE_ARM64_T6000', 'os_release': '23.2.0', 'sys_version': '3.10.8 (main, Dec  5 2022, 18:10:41) [Clang 14.0.0 (clang-1400.0.29.202)]'}}), started_at=None, ended_at=datetime.datetime(2024, 10, 24, 7, 2, 7, 658899, tzinfo=datetime.timezone.utc), deleted_at=None, _children=[Call(_op_name=<Future at 0x2ad8aea70 state=finished returned str>, trace_id='0192bd55-2695-7fd2-87e6-cdbd6daffef1', project_id='timssweeney/action_test_6', parent_id='0192bd55-2695-7fd2-87e6-cda7c6a20104', inputs={'self': <openai.resources.chat.completions.Completions object at 0x2ad8ae7d0>, 'messages': [{'role': 'system', 'content': 'Extract the name from the user input. If there is no name, return an empty string.'}, {'role': 'user', 'content': 'My name is Jeff.'}], 'model': 'gpt-3.5-turbo', 'max_tokens': 64, 'temperature': 0.0, 'top_p': 1}, id='0192bd55-269b-72e2-8c2a-18e39a9f3de0', output=ObjectRecord({'id': 'chatcmpl-ALm99shFxUXgdM67GZbszcQjftMhs', 'choices': [ObjectRecord({'finish_reason': 'stop', 'index': 0, 'logprobs': None, 'message': ObjectRecord({'content': 'Jeff', 'refusal': None, 'role': 'assistant', 'audio': None, 'function_call': None, 'tool_calls': None, '_class_name': 'ChatCompletionMessage', '_bases': ['BaseModel', 'BaseModel']}), '_class_name': 'Choice', '_bases': ['BaseModel', 'BaseModel']})], 'created': 1729753327, 'model': 'gpt-3.5-turbo-0125', 'object': 'chat.completion', 'service_tier': None, 'system_fingerprint': None, 'usage': ObjectRecord({'completion_tokens': 1, 'prompt_tokens': 35, 'total_tokens': 36, 'completion_tokens_details': ObjectRecord({'audio_tokens': None, 'reasoning_tokens': 0, '_class_name': 'CompletionTokensDetails', '_bases': ['BaseModel', 'BaseModel']}), 'prompt_tokens_details': ObjectRecord({'audio_tokens': None, 'cached_tokens': 0, '_class_name': 'PromptTokensDetails', '_bases': ['BaseModel', 'BaseModel']}), '_class_name': 'CompletionUsage', '_bases': ['BaseModel', 'BaseModel']}), '_class_name': 'ChatCompletion', '_bases': ['BaseModel', 'BaseModel']}), exception=None, summary={'usage': {'gpt-3.5-turbo-0125': {'requests': 1, 'completion_tokens': 1, 'prompt_tokens': 35, 'total_tokens': 36, 'completion_tokens_details': {'reasoning_tokens': 0}, 'prompt_tokens_details': {'cached_tokens': 0}}}}, display_name=None, attributes=AttributesDict({'weave': {'client_version': '0.51.18-dev0', 'source': 'python-sdk', 'os_name': 'Darwin', 'os_version': 'Darwin Kernel Version 23.2.0: Wed Nov 15 21:53:18 PST 2023; root:xnu-10002.61.3~2/RELEASE_ARM64_T6000', 'os_release': '23.2.0', 'sys_version': '3.10.8 (main, Dec  5 2022, 18:10:41) [Clang 14.0.0 (clang-1400.0.29.202)]'}}), started_at=None, ended_at=datetime.datetime(2024, 10, 24, 7, 2, 7, 635816, tzinfo=datetime.timezone.utc), deleted_at=None, _children=[], _feedback=None)], _feedback=None), Call(_op_name=<Future at 0x2ad8aed40 state=finished returned str>, trace_id='0192bd55-282b-7eb1-8c3c-72de9834437e', project_id='timssweeney/action_test_6', parent_id=None, inputs={'user_input': 'My name is Shawn.'}, id='0192bd55-282b-7eb1-8c3c-72c41532f698', output='Shawn', exception=None, summary={'usage': {'gpt-3.5-turbo-0125': {'requests': 1, 'completion_tokens': 2, 'prompt_tokens': 35, 'total_tokens': 37, 'completion_tokens_details': {'reasoning_tokens': 0}, 'prompt_tokens_details': {'cached_tokens': 0}}}}, display_name=None, attributes=AttributesDict({'weave': {'client_version': '0.51.18-dev0', 'source': 'python-sdk', 'os_name': 'Darwin', 'os_version': 'Darwin Kernel Version 23.2.0: Wed Nov 15 21:53:18 PST 2023; root:xnu-10002.61.3~2/RELEASE_ARM64_T6000', 'os_release': '23.2.0', 'sys_version': '3.10.8 (main, Dec  5 2022, 18:10:41) [Clang 14.0.0 (clang-1400.0.29.202)]'}}), started_at=None, ended_at=datetime.datetime(2024, 10, 24, 7, 2, 8, 110258, tzinfo=datetime.timezone.utc), deleted_at=None, _children=[Call(_op_name=<Future at 0x2ad8bd360 state=finished returned str>, trace_id='0192bd55-282b-7eb1-8c3c-72de9834437e', project_id='timssweeney/action_test_6', parent_id='0192bd55-282b-7eb1-8c3c-72c41532f698', inputs={'self': <openai.resources.chat.completions.Completions object at 0x2ad8beb00>, 'messages': [{'role': 'system', 'content': 'Extract the name from the user input. If there is no name, return an empty string.'}, {'role': 'user', 'content': 'My name is Shawn.'}], 'model': 'gpt-3.5-turbo', 'max_tokens': 64, 'temperature': 0.0, 'top_p': 1}, id='0192bd55-2832-7521-a0d1-5b58091eff37', output=ObjectRecord({'id': 'chatcmpl-ALm99ovvwXTyg1PFowJfozW35gpoe', 'choices': [ObjectRecord({'finish_reason': 'stop', 'index': 0, 'logprobs': None, 'message': ObjectRecord({'content': 'Shawn', 'refusal': None, 'role': 'assistant', 'audio': None, 'function_call': None, 'tool_calls': None, '_class_name': 'ChatCompletionMessage', '_bases': ['BaseModel', 'BaseModel']}), '_class_name': 'Choice', '_bases': ['BaseModel', 'BaseModel']})], 'created': 1729753327, 'model': 'gpt-3.5-turbo-0125', 'object': 'chat.completion', 'service_tier': None, 'system_fingerprint': None, 'usage': ObjectRecord({'completion_tokens': 2, 'prompt_tokens': 35, 'total_tokens': 37, 'completion_tokens_details': ObjectRecord({'audio_tokens': None, 'reasoning_tokens': 0, '_class_name': 'CompletionTokensDetails', '_bases': ['BaseModel', 'BaseModel']}), 'prompt_tokens_details': ObjectRecord({'audio_tokens': None, 'cached_tokens': 0, '_class_name': 'PromptTokensDetails', '_bases': ['BaseModel', 'BaseModel']}), '_class_name': 'CompletionUsage', '_bases': ['BaseModel', 'BaseModel']}), '_class_name': 'ChatCompletion', '_bases': ['BaseModel', 'BaseModel']}), exception=None, summary={'usage': {'gpt-3.5-turbo-0125': {'requests': 1, 'completion_tokens': 2, 'prompt_tokens': 35, 'total_tokens': 37, 'completion_tokens_details': {'reasoning_tokens': 0}, 'prompt_tokens_details': {'cached_tokens': 0}}}}, display_name=None, attributes=AttributesDict({'weave': {'client_version': '0.51.18-dev0', 'source': 'python-sdk', 'os_name': 'Darwin', 'os_version': 'Darwin Kernel Version 23.2.0: Wed Nov 15 21:53:18 PST 2023; root:xnu-10002.61.3~2/RELEASE_ARM64_T6000', 'os_release': '23.2.0', 'sys_version': '3.10.8 (main, Dec  5 2022, 18:10:41) [Clang 14.0.0 (clang-1400.0.29.202)]'}}), started_at=None, ended_at=datetime.datetime(2024, 10, 24, 7, 2, 8, 84982, tzinfo=datetime.timezone.utc), deleted_at=None, _children=[], _feedback=None)], _feedback=None)]\n"
     ]
    }
   ],
   "source": [
    "from openai import OpenAI\n",
    "\n",
    "\n",
    "@weave.op\n",
    "def extract_name(user_input: str) -> str:\n",
    "    openai_client = OpenAI()\n",
    "    if \"Tim\" in user_input:\n",
    "        return \"i don't know!\"\n",
    "    response = openai_client.chat.completions.create(\n",
    "        model=\"gpt-3.5-turbo\",\n",
    "        messages=[\n",
    "            {\n",
    "                \"role\": \"system\",\n",
    "                \"content\": \"Extract the name from the user input. If there is no name, return an empty string.\",\n",
    "            },\n",
    "            {\"role\": \"user\", \"content\": user_input},\n",
    "        ],\n",
    "        temperature=0.0,\n",
    "        max_tokens=64,\n",
    "        top_p=1,\n",
    "    )\n",
    "    return response.choices[0].message.content\n",
    "\n",
    "\n",
    "calls = []\n",
    "names = [\"Scott\", \"Adrian\", \"Tim\", \"Jeff\", \"Shawn\"]\n",
    "for name in names:\n",
    "    res, call = extract_name.call(f\"My name is {name}.\")\n",
    "    calls.append(call)\n",
    "\n",
    "print(calls)"
   ]
  }
 ],
 "metadata": {
  "kernelspec": {
   "display_name": "wandb-weave",
   "language": "python",
   "name": "python3"
  },
  "language_info": {
   "codemirror_mode": {
    "name": "ipython",
    "version": 3
   },
   "file_extension": ".py",
   "mimetype": "text/x-python",
   "name": "python",
   "nbconvert_exporter": "python",
   "pygments_lexer": "ipython3",
   "version": "3.10.8"
  }
 },
 "nbformat": 4,
 "nbformat_minor": 2
}
