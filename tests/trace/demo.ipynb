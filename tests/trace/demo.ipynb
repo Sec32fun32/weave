{
 "cells": [
  {
   "cell_type": "code",
   "execution_count": 16,
   "metadata": {},
   "outputs": [
    {
     "name": "stdout",
     "output_type": "stream",
     "text": [
      "Logged in as Weights & Biases user: timssweeney.\n",
      "View Weave data at https://wandb.ai/timssweeney/action_test_4/weave\n"
     ]
    }
   ],
   "source": [
    "import weave\n",
    "import os\n",
    "\n",
    "os.environ[\"WF_TRACE_SERVER_URL\"] = \"http://127.0.01:6345\"\n",
    "\n",
    "client = weave.init(\"action_test_4\")"
   ]
  },
  {
   "cell_type": "code",
   "execution_count": null,
   "metadata": {},
   "outputs": [],
   "source": [
    "# from weave.trace import autopatch, weave_init\n",
    "# from weave.trace_server import clickhouse_trace_server_batched\n",
    "\n",
    "# ch_server = clickhouse_trace_server_batched.ClickHouseTraceServer.from_env()\n",
    "# inited_client = weave_init.InitializedClient(client)\n",
    "# autopatch.autopatch()\n"
   ]
  },
  {
   "cell_type": "code",
   "execution_count": 20,
   "metadata": {},
   "outputs": [
    {
     "name": "stdout",
     "output_type": "stream",
     "text": [
      "🍩 https://wandb.ai/timssweeney/action_test_4/r/call/0192b29c-96ba-7a32-8228-74a274b25a69\n",
      "🍩 https://wandb.ai/timssweeney/action_test_4/r/call/0192b29c-96bd-78f2-8966-473c36799e10\n",
      "🍩 https://wandb.ai/timssweeney/action_test_4/r/call/0192b29c-9827-71f0-9997-199922a0b5a5\n",
      "🍩 https://wandb.ai/timssweeney/action_test_4/r/call/0192b29c-999b-7762-93a5-f70678bba80b\n",
      "🍩 https://wandb.ai/timssweeney/action_test_4/r/call/0192b29c-9ae2-70c1-a03b-ee5f915e48fe\n",
      "[Call(_op_name=<Future at 0x2b7dc7cd0 state=finished returned str>, trace_id='0192b29c-96ba-7a32-8228-74b76ac97678', project_id='timssweeney/action_test_4', parent_id=None, inputs={'user_input': 'My name is Tim.'}, id='0192b29c-96ba-7a32-8228-74a274b25a69', output=\"i don't know!\", exception=None, summary={}, display_name=None, attributes=AttributesDict({'weave': {'client_version': '0.51.18-dev0', 'source': 'python-sdk', 'os_name': 'Darwin', 'os_version': 'Darwin Kernel Version 23.2.0: Wed Nov 15 21:53:18 PST 2023; root:xnu-10002.61.3~2/RELEASE_ARM64_T6000', 'os_release': '23.2.0', 'sys_version': '3.10.8 (main, Dec  5 2022, 18:10:41) [Clang 14.0.0 (clang-1400.0.29.202)]'}}), started_at=None, ended_at=datetime.datetime(2024, 10, 22, 5, 4, 19, 642740, tzinfo=datetime.timezone.utc), deleted_at=None, _children=[], _feedback=None), Call(_op_name=<Future at 0x2b7daeb00 state=finished returned str>, trace_id='0192b29c-96bd-78f2-8966-47406b46d0d5', project_id='timssweeney/action_test_4', parent_id=None, inputs={'user_input': 'My name is Scott.'}, id='0192b29c-96bd-78f2-8966-473c36799e10', output='Scott', exception=None, summary={'usage': {'gpt-3.5-turbo-0125': {'requests': 1, 'completion_tokens': 1, 'prompt_tokens': 35, 'total_tokens': 36, 'completion_tokens_details': {'reasoning_tokens': 0}, 'prompt_tokens_details': {'cached_tokens': 0}}}}, display_name=None, attributes=AttributesDict({'weave': {'client_version': '0.51.18-dev0', 'source': 'python-sdk', 'os_name': 'Darwin', 'os_version': 'Darwin Kernel Version 23.2.0: Wed Nov 15 21:53:18 PST 2023; root:xnu-10002.61.3~2/RELEASE_ARM64_T6000', 'os_release': '23.2.0', 'sys_version': '3.10.8 (main, Dec  5 2022, 18:10:41) [Clang 14.0.0 (clang-1400.0.29.202)]'}}), started_at=None, ended_at=datetime.datetime(2024, 10, 22, 5, 4, 20, 6862, tzinfo=datetime.timezone.utc), deleted_at=None, _children=[Call(_op_name=<Future at 0x2b7dc6aa0 state=finished returned str>, trace_id='0192b29c-96bd-78f2-8966-47406b46d0d5', project_id='timssweeney/action_test_4', parent_id='0192b29c-96bd-78f2-8966-473c36799e10', inputs={'self': <openai.resources.chat.completions.Completions object at 0x2b7dc6b60>, 'messages': [{'role': 'system', 'content': 'Extract the name from the user input. If there is no name, return an empty string.'}, {'role': 'user', 'content': 'My name is Scott.'}], 'model': 'gpt-3.5-turbo', 'max_tokens': 64, 'temperature': 0.0, 'top_p': 1}, id='0192b29c-96be-7f13-8fe1-0e33db96732c', output=ObjectRecord({'id': 'chatcmpl-AL1M4ja83J341nQzcFOlzgmbEd4Bt', 'choices': [ObjectRecord({'finish_reason': 'stop', 'index': 0, 'logprobs': None, 'message': ObjectRecord({'content': 'Scott', 'refusal': None, 'role': 'assistant', 'audio': None, 'function_call': None, 'tool_calls': None, '_class_name': 'ChatCompletionMessage', '_bases': ['BaseModel', 'BaseModel']}), '_class_name': 'Choice', '_bases': ['BaseModel', 'BaseModel']})], 'created': 1729573460, 'model': 'gpt-3.5-turbo-0125', 'object': 'chat.completion', 'service_tier': None, 'system_fingerprint': None, 'usage': ObjectRecord({'completion_tokens': 1, 'prompt_tokens': 35, 'total_tokens': 36, 'completion_tokens_details': ObjectRecord({'audio_tokens': None, 'reasoning_tokens': 0, '_class_name': 'CompletionTokensDetails', '_bases': ['BaseModel', 'BaseModel']}), 'prompt_tokens_details': ObjectRecord({'audio_tokens': None, 'cached_tokens': 0, '_class_name': 'PromptTokensDetails', '_bases': ['BaseModel', 'BaseModel']}), '_class_name': 'CompletionUsage', '_bases': ['BaseModel', 'BaseModel']}), '_class_name': 'ChatCompletion', '_bases': ['BaseModel', 'BaseModel']}), exception=None, summary={'usage': {'gpt-3.5-turbo-0125': {'requests': 1, 'completion_tokens': 1, 'prompt_tokens': 35, 'total_tokens': 36, 'completion_tokens_details': {'reasoning_tokens': 0}, 'prompt_tokens_details': {'cached_tokens': 0}}}}, display_name=None, attributes=AttributesDict({'weave': {'client_version': '0.51.18-dev0', 'source': 'python-sdk', 'os_name': 'Darwin', 'os_version': 'Darwin Kernel Version 23.2.0: Wed Nov 15 21:53:18 PST 2023; root:xnu-10002.61.3~2/RELEASE_ARM64_T6000', 'os_release': '23.2.0', 'sys_version': '3.10.8 (main, Dec  5 2022, 18:10:41) [Clang 14.0.0 (clang-1400.0.29.202)]'}}), started_at=None, ended_at=datetime.datetime(2024, 10, 22, 5, 4, 19, 982630, tzinfo=datetime.timezone.utc), deleted_at=None, _children=[], _feedback=None)], _feedback=None), Call(_op_name=<Future at 0x2b7da9150 state=finished returned str>, trace_id='0192b29c-9827-71f0-9997-19acc42b1fb4', project_id='timssweeney/action_test_4', parent_id=None, inputs={'user_input': 'My name is Adrian.'}, id='0192b29c-9827-71f0-9997-199922a0b5a5', output='Adrian', exception=None, summary={'usage': {'gpt-3.5-turbo-0125': {'requests': 1, 'completion_tokens': 2, 'prompt_tokens': 35, 'total_tokens': 37, 'completion_tokens_details': {'reasoning_tokens': 0}, 'prompt_tokens_details': {'cached_tokens': 0}}}}, display_name=None, attributes=AttributesDict({'weave': {'client_version': '0.51.18-dev0', 'source': 'python-sdk', 'os_name': 'Darwin', 'os_version': 'Darwin Kernel Version 23.2.0: Wed Nov 15 21:53:18 PST 2023; root:xnu-10002.61.3~2/RELEASE_ARM64_T6000', 'os_release': '23.2.0', 'sys_version': '3.10.8 (main, Dec  5 2022, 18:10:41) [Clang 14.0.0 (clang-1400.0.29.202)]'}}), started_at=None, ended_at=datetime.datetime(2024, 10, 22, 5, 4, 20, 378668, tzinfo=datetime.timezone.utc), deleted_at=None, _children=[Call(_op_name=<Future at 0x2b7dabc70 state=finished returned str>, trace_id='0192b29c-9827-71f0-9997-19acc42b1fb4', project_id='timssweeney/action_test_4', parent_id='0192b29c-9827-71f0-9997-199922a0b5a5', inputs={'self': <openai.resources.chat.completions.Completions object at 0x2b7dc6b60>, 'messages': [{'role': 'system', 'content': 'Extract the name from the user input. If there is no name, return an empty string.'}, {'role': 'user', 'content': 'My name is Adrian.'}], 'model': 'gpt-3.5-turbo', 'max_tokens': 64, 'temperature': 0.0, 'top_p': 1}, id='0192b29c-9828-7f50-b3f7-31a4726f4346', output=ObjectRecord({'id': 'chatcmpl-AL1M4cVHoiiAY1b9FElflF3EFwpNh', 'choices': [ObjectRecord({'finish_reason': 'stop', 'index': 0, 'logprobs': None, 'message': ObjectRecord({'content': 'Adrian', 'refusal': None, 'role': 'assistant', 'audio': None, 'function_call': None, 'tool_calls': None, '_class_name': 'ChatCompletionMessage', '_bases': ['BaseModel', 'BaseModel']}), '_class_name': 'Choice', '_bases': ['BaseModel', 'BaseModel']})], 'created': 1729573460, 'model': 'gpt-3.5-turbo-0125', 'object': 'chat.completion', 'service_tier': None, 'system_fingerprint': None, 'usage': ObjectRecord({'completion_tokens': 2, 'prompt_tokens': 35, 'total_tokens': 37, 'completion_tokens_details': ObjectRecord({'audio_tokens': None, 'reasoning_tokens': 0, '_class_name': 'CompletionTokensDetails', '_bases': ['BaseModel', 'BaseModel']}), 'prompt_tokens_details': ObjectRecord({'audio_tokens': None, 'cached_tokens': 0, '_class_name': 'PromptTokensDetails', '_bases': ['BaseModel', 'BaseModel']}), '_class_name': 'CompletionUsage', '_bases': ['BaseModel', 'BaseModel']}), '_class_name': 'ChatCompletion', '_bases': ['BaseModel', 'BaseModel']}), exception=None, summary={'usage': {'gpt-3.5-turbo-0125': {'requests': 1, 'completion_tokens': 2, 'prompt_tokens': 35, 'total_tokens': 37, 'completion_tokens_details': {'reasoning_tokens': 0}, 'prompt_tokens_details': {'cached_tokens': 0}}}}, display_name=None, attributes=AttributesDict({'weave': {'client_version': '0.51.18-dev0', 'source': 'python-sdk', 'os_name': 'Darwin', 'os_version': 'Darwin Kernel Version 23.2.0: Wed Nov 15 21:53:18 PST 2023; root:xnu-10002.61.3~2/RELEASE_ARM64_T6000', 'os_release': '23.2.0', 'sys_version': '3.10.8 (main, Dec  5 2022, 18:10:41) [Clang 14.0.0 (clang-1400.0.29.202)]'}}), started_at=None, ended_at=datetime.datetime(2024, 10, 22, 5, 4, 20, 352565, tzinfo=datetime.timezone.utc), deleted_at=None, _children=[], _feedback=None)], _feedback=None), Call(_op_name=<Future at 0x2b7da9b40 state=finished returned str>, trace_id='0192b29c-999b-7762-93a5-f710285fa650', project_id='timssweeney/action_test_4', parent_id=None, inputs={'user_input': 'My name is Jeff.'}, id='0192b29c-999b-7762-93a5-f70678bba80b', output='Jeff', exception=None, summary={'usage': {'gpt-3.5-turbo-0125': {'requests': 1, 'completion_tokens': 1, 'prompt_tokens': 35, 'total_tokens': 36, 'completion_tokens_details': {'reasoning_tokens': 0}, 'prompt_tokens_details': {'cached_tokens': 0}}}}, display_name=None, attributes=AttributesDict({'weave': {'client_version': '0.51.18-dev0', 'source': 'python-sdk', 'os_name': 'Darwin', 'os_version': 'Darwin Kernel Version 23.2.0: Wed Nov 15 21:53:18 PST 2023; root:xnu-10002.61.3~2/RELEASE_ARM64_T6000', 'os_release': '23.2.0', 'sys_version': '3.10.8 (main, Dec  5 2022, 18:10:41) [Clang 14.0.0 (clang-1400.0.29.202)]'}}), started_at=None, ended_at=datetime.datetime(2024, 10, 22, 5, 4, 20, 705384, tzinfo=datetime.timezone.utc), deleted_at=None, _children=[Call(_op_name=<Future at 0x2b7da9e10 state=finished returned str>, trace_id='0192b29c-999b-7762-93a5-f710285fa650', project_id='timssweeney/action_test_4', parent_id='0192b29c-999b-7762-93a5-f70678bba80b', inputs={'self': <openai.resources.chat.completions.Completions object at 0x2b7dc6b60>, 'messages': [{'role': 'system', 'content': 'Extract the name from the user input. If there is no name, return an empty string.'}, {'role': 'user', 'content': 'My name is Jeff.'}], 'model': 'gpt-3.5-turbo', 'max_tokens': 64, 'temperature': 0.0, 'top_p': 1}, id='0192b29c-999c-7682-89e1-df5a56d38f7b', output=ObjectRecord({'id': 'chatcmpl-AL1M48W35ElRrB3HOkUGwYTUOByje', 'choices': [ObjectRecord({'finish_reason': 'stop', 'index': 0, 'logprobs': None, 'message': ObjectRecord({'content': 'Jeff', 'refusal': None, 'role': 'assistant', 'audio': None, 'function_call': None, 'tool_calls': None, '_class_name': 'ChatCompletionMessage', '_bases': ['BaseModel', 'BaseModel']}), '_class_name': 'Choice', '_bases': ['BaseModel', 'BaseModel']})], 'created': 1729573460, 'model': 'gpt-3.5-turbo-0125', 'object': 'chat.completion', 'service_tier': None, 'system_fingerprint': None, 'usage': ObjectRecord({'completion_tokens': 1, 'prompt_tokens': 35, 'total_tokens': 36, 'completion_tokens_details': ObjectRecord({'audio_tokens': None, 'reasoning_tokens': 0, '_class_name': 'CompletionTokensDetails', '_bases': ['BaseModel', 'BaseModel']}), 'prompt_tokens_details': ObjectRecord({'audio_tokens': None, 'cached_tokens': 0, '_class_name': 'PromptTokensDetails', '_bases': ['BaseModel', 'BaseModel']}), '_class_name': 'CompletionUsage', '_bases': ['BaseModel', 'BaseModel']}), '_class_name': 'ChatCompletion', '_bases': ['BaseModel', 'BaseModel']}), exception=None, summary={'usage': {'gpt-3.5-turbo-0125': {'requests': 1, 'completion_tokens': 1, 'prompt_tokens': 35, 'total_tokens': 36, 'completion_tokens_details': {'reasoning_tokens': 0}, 'prompt_tokens_details': {'cached_tokens': 0}}}}, display_name=None, attributes=AttributesDict({'weave': {'client_version': '0.51.18-dev0', 'source': 'python-sdk', 'os_name': 'Darwin', 'os_version': 'Darwin Kernel Version 23.2.0: Wed Nov 15 21:53:18 PST 2023; root:xnu-10002.61.3~2/RELEASE_ARM64_T6000', 'os_release': '23.2.0', 'sys_version': '3.10.8 (main, Dec  5 2022, 18:10:41) [Clang 14.0.0 (clang-1400.0.29.202)]'}}), started_at=None, ended_at=datetime.datetime(2024, 10, 22, 5, 4, 20, 684769, tzinfo=datetime.timezone.utc), deleted_at=None, _children=[], _feedback=None)], _feedback=None), Call(_op_name=<Future at 0x2b7daa4a0 state=finished returned str>, trace_id='0192b29c-9ae2-70c1-a03b-ee61a00a9be4', project_id='timssweeney/action_test_4', parent_id=None, inputs={'user_input': 'My name is Shawn.'}, id='0192b29c-9ae2-70c1-a03b-ee5f915e48fe', output='Shawn', exception=None, summary={'usage': {'gpt-3.5-turbo-0125': {'requests': 1, 'completion_tokens': 2, 'prompt_tokens': 35, 'total_tokens': 37, 'completion_tokens_details': {'reasoning_tokens': 0}, 'prompt_tokens_details': {'cached_tokens': 0}}}}, display_name=None, attributes=AttributesDict({'weave': {'client_version': '0.51.18-dev0', 'source': 'python-sdk', 'os_name': 'Darwin', 'os_version': 'Darwin Kernel Version 23.2.0: Wed Nov 15 21:53:18 PST 2023; root:xnu-10002.61.3~2/RELEASE_ARM64_T6000', 'os_release': '23.2.0', 'sys_version': '3.10.8 (main, Dec  5 2022, 18:10:41) [Clang 14.0.0 (clang-1400.0.29.202)]'}}), started_at=None, ended_at=datetime.datetime(2024, 10, 22, 5, 4, 21, 123765, tzinfo=datetime.timezone.utc), deleted_at=None, _children=[Call(_op_name=<Future at 0x2b7dc97e0 state=finished returned str>, trace_id='0192b29c-9ae2-70c1-a03b-ee61a00a9be4', project_id='timssweeney/action_test_4', parent_id='0192b29c-9ae2-70c1-a03b-ee5f915e48fe', inputs={'self': <openai.resources.chat.completions.Completions object at 0x2b7dc6b60>, 'messages': [{'role': 'system', 'content': 'Extract the name from the user input. If there is no name, return an empty string.'}, {'role': 'user', 'content': 'My name is Shawn.'}], 'model': 'gpt-3.5-turbo', 'max_tokens': 64, 'temperature': 0.0, 'top_p': 1}, id='0192b29c-9ae2-70c1-a03b-ee7deb9b5c66', output=ObjectRecord({'id': 'chatcmpl-AL1M5JnVQ8K82EcgaghB8xkcpmeZY', 'choices': [ObjectRecord({'finish_reason': 'stop', 'index': 0, 'logprobs': None, 'message': ObjectRecord({'content': 'Shawn', 'refusal': None, 'role': 'assistant', 'audio': None, 'function_call': None, 'tool_calls': None, '_class_name': 'ChatCompletionMessage', '_bases': ['BaseModel', 'BaseModel']}), '_class_name': 'Choice', '_bases': ['BaseModel', 'BaseModel']})], 'created': 1729573461, 'model': 'gpt-3.5-turbo-0125', 'object': 'chat.completion', 'service_tier': None, 'system_fingerprint': None, 'usage': ObjectRecord({'completion_tokens': 2, 'prompt_tokens': 35, 'total_tokens': 37, 'completion_tokens_details': ObjectRecord({'audio_tokens': None, 'reasoning_tokens': 0, '_class_name': 'CompletionTokensDetails', '_bases': ['BaseModel', 'BaseModel']}), 'prompt_tokens_details': ObjectRecord({'audio_tokens': None, 'cached_tokens': 0, '_class_name': 'PromptTokensDetails', '_bases': ['BaseModel', 'BaseModel']}), '_class_name': 'CompletionUsage', '_bases': ['BaseModel', 'BaseModel']}), '_class_name': 'ChatCompletion', '_bases': ['BaseModel', 'BaseModel']}), exception=None, summary={'usage': {'gpt-3.5-turbo-0125': {'requests': 1, 'completion_tokens': 2, 'prompt_tokens': 35, 'total_tokens': 37, 'completion_tokens_details': {'reasoning_tokens': 0}, 'prompt_tokens_details': {'cached_tokens': 0}}}}, display_name=None, attributes=AttributesDict({'weave': {'client_version': '0.51.18-dev0', 'source': 'python-sdk', 'os_name': 'Darwin', 'os_version': 'Darwin Kernel Version 23.2.0: Wed Nov 15 21:53:18 PST 2023; root:xnu-10002.61.3~2/RELEASE_ARM64_T6000', 'os_release': '23.2.0', 'sys_version': '3.10.8 (main, Dec  5 2022, 18:10:41) [Clang 14.0.0 (clang-1400.0.29.202)]'}}), started_at=None, ended_at=datetime.datetime(2024, 10, 22, 5, 4, 21, 96048, tzinfo=datetime.timezone.utc), deleted_at=None, _children=[], _feedback=None)], _feedback=None)]\n"
     ]
    }
   ],
   "source": [
    "from openai import OpenAI\n",
    "\n",
    "openai_client = OpenAI()\n",
    "\n",
    "@weave.op\n",
    "def extract_name(user_input: str) -> str:\n",
    "    if \"Tim\" in user_input:\n",
    "        return \"i don't know!\"\n",
    "    response = openai_client.chat.completions.create(\n",
    "        model=\"gpt-3.5-turbo\",\n",
    "        messages=[\n",
    "            {\n",
    "                \"role\": \"system\",\n",
    "                \"content\": \"Extract the name from the user input. If there is no name, return an empty string.\",\n",
    "            },\n",
    "            {\"role\": \"user\", \"content\": user_input},\n",
    "        ],\n",
    "        temperature=0.0,\n",
    "        max_tokens=64,\n",
    "        top_p=1,\n",
    "    )\n",
    "    return response.choices[0].message.content\n",
    "\n",
    "calls = []\n",
    "names = [\n",
    "    \"Tim\", \"Scott\", \"Adrian\", \"Jeff\", \"Shawn\"\n",
    "]\n",
    "for name in names:\n",
    "    res, call = extract_name.call(f\"My name is {name}.\")\n",
    "    calls.append(call)\n",
    "\n",
    "print(calls)"
   ]
  },
  {
   "cell_type": "code",
   "execution_count": 21,
   "metadata": {},
   "outputs": [],
   "source": [
    "from weave.flow import action_objects\n",
    "from weave.trace.weave_client import get_ref\n",
    "from weave.trace_server.interface import actions\n",
    "\n",
    "action = action_objects.ActionWithConfig(\n",
    "    name=\"is_name_extracted\",\n",
    "    action=actions.BuiltinAction(\n",
    "        name=\"openai_completion\",\n",
    "    ),\n",
    "    config={\n",
    "        \"model\": \"gpt-4o-mini\",\n",
    "        \"system_prompt\": \"Given the following prompt and response, determine if the name was extracted correctly.\",\n",
    "        \"response_format\": {\n",
    "            \"type\": \"json_schema\",\n",
    "            \"json_schema\": {\n",
    "                \"name\": \"is_name_extracted\",\n",
    "                \"schema\": {\n",
    "                    \"type\": \"object\",\n",
    "                    \"properties\": {\"is_extracted\": {\"type\": \"boolean\"}},\n",
    "                    \"required\": [\"is_extracted\"],\n",
    "                    \"additionalProperties\": False,\n",
    "                },\n",
    "                \"strict\": True,\n",
    "            },\n",
    "        },\n",
    "    },\n",
    ")\n",
    "mapping = action_objects.ActionOpMapping(\n",
    "    action=action,\n",
    "    op_name=get_ref(extract_name).name,\n",
    "    op_digest=get_ref(extract_name).digest,\n",
    "    input_mapping={\n",
    "        \"prompt\": \"inputs.user_input\",\n",
    "        \"response\": \"output\",\n",
    "    },\n",
    ")"
   ]
  },
  {
   "cell_type": "code",
   "execution_count": 22,
   "metadata": {},
   "outputs": [],
   "source": [
    "\n",
    "from weave.trace_server import trace_server_interface as tsi\n",
    "\n",
    "res = client.server.execute_batch_action(req=tsi.ExecuteBatchActionReq(\n",
    "    project_id=client._project_id(), call_ids=[c.id for c in calls], mapping=mapping\n",
    "))"
   ]
  },
  {
   "cell_type": "code",
   "execution_count": null,
   "metadata": {},
   "outputs": [],
   "source": []
  }
 ],
 "metadata": {
  "kernelspec": {
   "display_name": "wandb-weave",
   "language": "python",
   "name": "python3"
  },
  "language_info": {
   "codemirror_mode": {
    "name": "ipython",
    "version": 3
   },
   "file_extension": ".py",
   "mimetype": "text/x-python",
   "name": "python",
   "nbconvert_exporter": "python",
   "pygments_lexer": "ipython3",
   "version": "3.10.8"
  }
 },
 "nbformat": 4,
 "nbformat_minor": 2
}
