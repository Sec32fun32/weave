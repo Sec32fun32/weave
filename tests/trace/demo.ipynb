{
 "cells": [
  {
   "cell_type": "code",
   "execution_count": 13,
   "metadata": {},
   "outputs": [
    {
     "name": "stdout",
     "output_type": "stream",
     "text": [
      "Logged in as Weights & Biases user: timssweeney.\n",
      "View Weave data at https://wandb.ai/timssweeney/action_test_6/weave\n"
     ]
    }
   ],
   "source": [
    "import os\n",
    "\n",
    "import weave\n",
    "\n",
    "os.environ[\"WF_TRACE_SERVER_URL\"] = \"http://127.0.01:6345\"\n",
    "\n",
    "client = weave.init(\"action_test_6\")"
   ]
  },
  {
   "cell_type": "code",
   "execution_count": 2,
   "metadata": {},
   "outputs": [],
   "source": [
    "# from weave.trace import autopatch, weave_init\n",
    "# from weave.trace_server import clickhouse_trace_server_batched\n",
    "\n",
    "# ch_server = clickhouse_trace_server_batched.ClickHouseTraceServer.from_env()\n",
    "# inited_client = weave_init.InitializedClient(client)\n",
    "# autopatch.autopatch()\n"
   ]
  },
  {
   "cell_type": "code",
   "execution_count": 14,
   "metadata": {},
   "outputs": [
    {
     "name": "stdout",
     "output_type": "stream",
     "text": [
      "🍩 https://wandb.ai/timssweeney/action_test_6/r/call/0192b7ad-c69e-7fa3-8429-dd762263f7b0\n",
      "🍩 https://wandb.ai/timssweeney/action_test_6/r/call/0192b7ad-c84e-7f62-b2d9-087bcbe7fbd0\n",
      "🍩 https://wandb.ai/timssweeney/action_test_6/r/call/0192b7ad-ca28-7093-a385-8de632d4563d\n",
      "🍩 https://wandb.ai/timssweeney/action_test_6/r/call/0192b7ad-ca2f-7993-82e7-5f700cede96c\n",
      "🍩 https://wandb.ai/timssweeney/action_test_6/r/call/0192b7ad-cbc0-7593-8d83-5c4024a63105\n",
      "[Call(_op_name=<Future at 0x2b98acfa0 state=finished returned str>, trace_id='0192b7ad-c69e-7fa3-8429-dd8f2c5b82db', project_id='timssweeney/action_test_6', parent_id=None, inputs={'user_input': 'My name is Scott.'}, id='0192b7ad-c69e-7fa3-8429-dd762263f7b0', output='Scott', exception=None, summary={'usage': {'gpt-3.5-turbo-0125': {'requests': 1, 'completion_tokens': 1, 'prompt_tokens': 35, 'total_tokens': 36, 'completion_tokens_details': {'reasoning_tokens': 0}, 'prompt_tokens_details': {'cached_tokens': 0}}}}, display_name=None, attributes=AttributesDict({'weave': {'client_version': '0.51.18-dev0', 'source': 'python-sdk', 'os_name': 'Darwin', 'os_version': 'Darwin Kernel Version 23.2.0: Wed Nov 15 21:53:18 PST 2023; root:xnu-10002.61.3~2/RELEASE_ARM64_T6000', 'os_release': '23.2.0', 'sys_version': '3.10.8 (main, Dec  5 2022, 18:10:41) [Clang 14.0.0 (clang-1400.0.29.202)]'}}), started_at=None, ended_at=datetime.datetime(2024, 10, 23, 4, 41, 12, 525462, tzinfo=datetime.timezone.utc), deleted_at=None, _children=[Call(_op_name=<Future at 0x2b98f8f70 state=finished returned str>, trace_id='0192b7ad-c69e-7fa3-8429-dd8f2c5b82db', project_id='timssweeney/action_test_6', parent_id='0192b7ad-c69e-7fa3-8429-dd762263f7b0', inputs={'self': <openai.resources.chat.completions.Completions object at 0x2b98f8670>, 'messages': [{'role': 'system', 'content': 'Extract the name from the user input. If there is no name, return an empty string.'}, {'role': 'user', 'content': 'My name is Scott.'}], 'model': 'gpt-3.5-turbo', 'max_tokens': 64, 'temperature': 0.0, 'top_p': 1}, id='0192b7ad-c6a7-7570-b1fd-1c437491f630', output=ObjectRecord({'id': 'chatcmpl-ALNTETBuMHaudcUVgxHH0rI5HsoIx', 'choices': [ObjectRecord({'finish_reason': 'stop', 'index': 0, 'logprobs': None, 'message': ObjectRecord({'content': 'Scott', 'refusal': None, 'role': 'assistant', 'audio': None, 'function_call': None, 'tool_calls': None, '_class_name': 'ChatCompletionMessage', '_bases': ['BaseModel', 'BaseModel']}), '_class_name': 'Choice', '_bases': ['BaseModel', 'BaseModel']})], 'created': 1729658472, 'model': 'gpt-3.5-turbo-0125', 'object': 'chat.completion', 'service_tier': None, 'system_fingerprint': None, 'usage': ObjectRecord({'completion_tokens': 1, 'prompt_tokens': 35, 'total_tokens': 36, 'completion_tokens_details': ObjectRecord({'audio_tokens': None, 'reasoning_tokens': 0, '_class_name': 'CompletionTokensDetails', '_bases': ['BaseModel', 'BaseModel']}), 'prompt_tokens_details': ObjectRecord({'audio_tokens': None, 'cached_tokens': 0, '_class_name': 'PromptTokensDetails', '_bases': ['BaseModel', 'BaseModel']}), '_class_name': 'CompletionUsage', '_bases': ['BaseModel', 'BaseModel']}), '_class_name': 'ChatCompletion', '_bases': ['BaseModel', 'BaseModel']}), exception=None, summary={'usage': {'gpt-3.5-turbo-0125': {'requests': 1, 'completion_tokens': 1, 'prompt_tokens': 35, 'total_tokens': 36, 'completion_tokens_details': {'reasoning_tokens': 0}, 'prompt_tokens_details': {'cached_tokens': 0}}}}, display_name=None, attributes=AttributesDict({'weave': {'client_version': '0.51.18-dev0', 'source': 'python-sdk', 'os_name': 'Darwin', 'os_version': 'Darwin Kernel Version 23.2.0: Wed Nov 15 21:53:18 PST 2023; root:xnu-10002.61.3~2/RELEASE_ARM64_T6000', 'os_release': '23.2.0', 'sys_version': '3.10.8 (main, Dec  5 2022, 18:10:41) [Clang 14.0.0 (clang-1400.0.29.202)]'}}), started_at=None, ended_at=datetime.datetime(2024, 10, 23, 4, 41, 12, 496640, tzinfo=datetime.timezone.utc), deleted_at=None, _children=[], _feedback=None)], _feedback=None), Call(_op_name=<Future at 0x2b98fb0d0 state=finished returned str>, trace_id='0192b7ad-c84e-7f62-b2d9-088a3e0656f2', project_id='timssweeney/action_test_6', parent_id=None, inputs={'user_input': 'My name is Adrian.'}, id='0192b7ad-c84e-7f62-b2d9-087bcbe7fbd0', output='Adrian', exception=None, summary={'usage': {'gpt-3.5-turbo-0125': {'requests': 1, 'completion_tokens': 2, 'prompt_tokens': 35, 'total_tokens': 37, 'completion_tokens_details': {'reasoning_tokens': 0}, 'prompt_tokens_details': {'cached_tokens': 0}}}}, display_name=None, attributes=AttributesDict({'weave': {'client_version': '0.51.18-dev0', 'source': 'python-sdk', 'os_name': 'Darwin', 'os_version': 'Darwin Kernel Version 23.2.0: Wed Nov 15 21:53:18 PST 2023; root:xnu-10002.61.3~2/RELEASE_ARM64_T6000', 'os_release': '23.2.0', 'sys_version': '3.10.8 (main, Dec  5 2022, 18:10:41) [Clang 14.0.0 (clang-1400.0.29.202)]'}}), started_at=None, ended_at=datetime.datetime(2024, 10, 23, 4, 41, 12, 999963, tzinfo=datetime.timezone.utc), deleted_at=None, _children=[Call(_op_name=<Future at 0x2b98ae560 state=finished returned str>, trace_id='0192b7ad-c84e-7f62-b2d9-088a3e0656f2', project_id='timssweeney/action_test_6', parent_id='0192b7ad-c84e-7f62-b2d9-087bcbe7fbd0', inputs={'self': <openai.resources.chat.completions.Completions object at 0x2b98ad090>, 'messages': [{'role': 'system', 'content': 'Extract the name from the user input. If there is no name, return an empty string.'}, {'role': 'user', 'content': 'My name is Adrian.'}], 'model': 'gpt-3.5-turbo', 'max_tokens': 64, 'temperature': 0.0, 'top_p': 1}, id='0192b7ad-c855-7780-85df-3893686fdc95', output=ObjectRecord({'id': 'chatcmpl-ALNTEztBpIUBImY7XoFi3TpM8Ggrr', 'choices': [ObjectRecord({'finish_reason': 'stop', 'index': 0, 'logprobs': None, 'message': ObjectRecord({'content': 'Adrian', 'refusal': None, 'role': 'assistant', 'audio': None, 'function_call': None, 'tool_calls': None, '_class_name': 'ChatCompletionMessage', '_bases': ['BaseModel', 'BaseModel']}), '_class_name': 'Choice', '_bases': ['BaseModel', 'BaseModel']})], 'created': 1729658472, 'model': 'gpt-3.5-turbo-0125', 'object': 'chat.completion', 'service_tier': None, 'system_fingerprint': None, 'usage': ObjectRecord({'completion_tokens': 2, 'prompt_tokens': 35, 'total_tokens': 37, 'completion_tokens_details': ObjectRecord({'audio_tokens': None, 'reasoning_tokens': 0, '_class_name': 'CompletionTokensDetails', '_bases': ['BaseModel', 'BaseModel']}), 'prompt_tokens_details': ObjectRecord({'audio_tokens': None, 'cached_tokens': 0, '_class_name': 'PromptTokensDetails', '_bases': ['BaseModel', 'BaseModel']}), '_class_name': 'CompletionUsage', '_bases': ['BaseModel', 'BaseModel']}), '_class_name': 'ChatCompletion', '_bases': ['BaseModel', 'BaseModel']}), exception=None, summary={'usage': {'gpt-3.5-turbo-0125': {'requests': 1, 'completion_tokens': 2, 'prompt_tokens': 35, 'total_tokens': 37, 'completion_tokens_details': {'reasoning_tokens': 0}, 'prompt_tokens_details': {'cached_tokens': 0}}}}, display_name=None, attributes=AttributesDict({'weave': {'client_version': '0.51.18-dev0', 'source': 'python-sdk', 'os_name': 'Darwin', 'os_version': 'Darwin Kernel Version 23.2.0: Wed Nov 15 21:53:18 PST 2023; root:xnu-10002.61.3~2/RELEASE_ARM64_T6000', 'os_release': '23.2.0', 'sys_version': '3.10.8 (main, Dec  5 2022, 18:10:41) [Clang 14.0.0 (clang-1400.0.29.202)]'}}), started_at=None, ended_at=datetime.datetime(2024, 10, 23, 4, 41, 12, 978433, tzinfo=datetime.timezone.utc), deleted_at=None, _children=[], _feedback=None)], _feedback=None), Call(_op_name=<Future at 0x2b98ad930 state=finished returned str>, trace_id='0192b7ad-ca28-7093-a385-8df0ed99b3cd', project_id='timssweeney/action_test_6', parent_id=None, inputs={'user_input': 'My name is Tim.'}, id='0192b7ad-ca28-7093-a385-8de632d4563d', output=\"i don't know!\", exception=None, summary={}, display_name=None, attributes=AttributesDict({'weave': {'client_version': '0.51.18-dev0', 'source': 'python-sdk', 'os_name': 'Darwin', 'os_version': 'Darwin Kernel Version 23.2.0: Wed Nov 15 21:53:18 PST 2023; root:xnu-10002.61.3~2/RELEASE_ARM64_T6000', 'os_release': '23.2.0', 'sys_version': '3.10.8 (main, Dec  5 2022, 18:10:41) [Clang 14.0.0 (clang-1400.0.29.202)]'}}), started_at=None, ended_at=datetime.datetime(2024, 10, 23, 4, 41, 13, 6271, tzinfo=datetime.timezone.utc), deleted_at=None, _children=[], _feedback=None), Call(_op_name=<Future at 0x2b98fa050 state=finished returned str>, trace_id='0192b7ad-ca2f-7993-82e7-5f819a059704', project_id='timssweeney/action_test_6', parent_id=None, inputs={'user_input': 'My name is Jeff.'}, id='0192b7ad-ca2f-7993-82e7-5f700cede96c', output='Jeff', exception=None, summary={'usage': {'gpt-3.5-turbo-0125': {'requests': 1, 'completion_tokens': 1, 'prompt_tokens': 35, 'total_tokens': 36, 'completion_tokens_details': {'reasoning_tokens': 0}, 'prompt_tokens_details': {'cached_tokens': 0}}}}, display_name=None, attributes=AttributesDict({'weave': {'client_version': '0.51.18-dev0', 'source': 'python-sdk', 'os_name': 'Darwin', 'os_version': 'Darwin Kernel Version 23.2.0: Wed Nov 15 21:53:18 PST 2023; root:xnu-10002.61.3~2/RELEASE_ARM64_T6000', 'os_release': '23.2.0', 'sys_version': '3.10.8 (main, Dec  5 2022, 18:10:41) [Clang 14.0.0 (clang-1400.0.29.202)]'}}), started_at=None, ended_at=datetime.datetime(2024, 10, 23, 4, 41, 13, 407799, tzinfo=datetime.timezone.utc), deleted_at=None, _children=[Call(_op_name=<Future at 0x2b98cb2b0 state=finished returned str>, trace_id='0192b7ad-ca2f-7993-82e7-5f819a059704', project_id='timssweeney/action_test_6', parent_id='0192b7ad-ca2f-7993-82e7-5f700cede96c', inputs={'self': <openai.resources.chat.completions.Completions object at 0x2b98cb550>, 'messages': [{'role': 'system', 'content': 'Extract the name from the user input. If there is no name, return an empty string.'}, {'role': 'user', 'content': 'My name is Jeff.'}], 'model': 'gpt-3.5-turbo', 'max_tokens': 64, 'temperature': 0.0, 'top_p': 1}, id='0192b7ad-ca35-73a0-9eb8-eff37cdad1e0', output=ObjectRecord({'id': 'chatcmpl-ALNTFPvb3BXkqv8Oe8zEVtJefbp3D', 'choices': [ObjectRecord({'finish_reason': 'stop', 'index': 0, 'logprobs': None, 'message': ObjectRecord({'content': 'Jeff', 'refusal': None, 'role': 'assistant', 'audio': None, 'function_call': None, 'tool_calls': None, '_class_name': 'ChatCompletionMessage', '_bases': ['BaseModel', 'BaseModel']}), '_class_name': 'Choice', '_bases': ['BaseModel', 'BaseModel']})], 'created': 1729658473, 'model': 'gpt-3.5-turbo-0125', 'object': 'chat.completion', 'service_tier': None, 'system_fingerprint': None, 'usage': ObjectRecord({'completion_tokens': 1, 'prompt_tokens': 35, 'total_tokens': 36, 'completion_tokens_details': ObjectRecord({'audio_tokens': None, 'reasoning_tokens': 0, '_class_name': 'CompletionTokensDetails', '_bases': ['BaseModel', 'BaseModel']}), 'prompt_tokens_details': ObjectRecord({'audio_tokens': None, 'cached_tokens': 0, '_class_name': 'PromptTokensDetails', '_bases': ['BaseModel', 'BaseModel']}), '_class_name': 'CompletionUsage', '_bases': ['BaseModel', 'BaseModel']}), '_class_name': 'ChatCompletion', '_bases': ['BaseModel', 'BaseModel']}), exception=None, summary={'usage': {'gpt-3.5-turbo-0125': {'requests': 1, 'completion_tokens': 1, 'prompt_tokens': 35, 'total_tokens': 36, 'completion_tokens_details': {'reasoning_tokens': 0}, 'prompt_tokens_details': {'cached_tokens': 0}}}}, display_name=None, attributes=AttributesDict({'weave': {'client_version': '0.51.18-dev0', 'source': 'python-sdk', 'os_name': 'Darwin', 'os_version': 'Darwin Kernel Version 23.2.0: Wed Nov 15 21:53:18 PST 2023; root:xnu-10002.61.3~2/RELEASE_ARM64_T6000', 'os_release': '23.2.0', 'sys_version': '3.10.8 (main, Dec  5 2022, 18:10:41) [Clang 14.0.0 (clang-1400.0.29.202)]'}}), started_at=None, ended_at=datetime.datetime(2024, 10, 23, 4, 41, 13, 386719, tzinfo=datetime.timezone.utc), deleted_at=None, _children=[], _feedback=None)], _feedback=None), Call(_op_name=<Future at 0x2b98caf80 state=finished returned str>, trace_id='0192b7ad-cbc0-7593-8d83-5c55aaaab150', project_id='timssweeney/action_test_6', parent_id=None, inputs={'user_input': 'My name is Shawn.'}, id='0192b7ad-cbc0-7593-8d83-5c4024a63105', output='Shawn', exception=None, summary={'usage': {'gpt-3.5-turbo-0125': {'requests': 1, 'completion_tokens': 2, 'prompt_tokens': 35, 'total_tokens': 37, 'completion_tokens_details': {'reasoning_tokens': 0}, 'prompt_tokens_details': {'cached_tokens': 0}}}}, display_name=None, attributes=AttributesDict({'weave': {'client_version': '0.51.18-dev0', 'source': 'python-sdk', 'os_name': 'Darwin', 'os_version': 'Darwin Kernel Version 23.2.0: Wed Nov 15 21:53:18 PST 2023; root:xnu-10002.61.3~2/RELEASE_ARM64_T6000', 'os_release': '23.2.0', 'sys_version': '3.10.8 (main, Dec  5 2022, 18:10:41) [Clang 14.0.0 (clang-1400.0.29.202)]'}}), started_at=None, ended_at=datetime.datetime(2024, 10, 23, 4, 41, 13, 747273, tzinfo=datetime.timezone.utc), deleted_at=None, _children=[Call(_op_name=<Future at 0x2b98c3010 state=finished returned str>, trace_id='0192b7ad-cbc0-7593-8d83-5c55aaaab150', project_id='timssweeney/action_test_6', parent_id='0192b7ad-cbc0-7593-8d83-5c4024a63105', inputs={'self': <openai.resources.chat.completions.Completions object at 0x2b98c2d70>, 'messages': [{'role': 'system', 'content': 'Extract the name from the user input. If there is no name, return an empty string.'}, {'role': 'user', 'content': 'My name is Shawn.'}], 'model': 'gpt-3.5-turbo', 'max_tokens': 64, 'temperature': 0.0, 'top_p': 1}, id='0192b7ad-cbc6-7a81-8164-0e4f8b565e14', output=ObjectRecord({'id': 'chatcmpl-ALNTFeopV8dxH6jL8oW3Gsaf1g60k', 'choices': [ObjectRecord({'finish_reason': 'stop', 'index': 0, 'logprobs': None, 'message': ObjectRecord({'content': 'Shawn', 'refusal': None, 'role': 'assistant', 'audio': None, 'function_call': None, 'tool_calls': None, '_class_name': 'ChatCompletionMessage', '_bases': ['BaseModel', 'BaseModel']}), '_class_name': 'Choice', '_bases': ['BaseModel', 'BaseModel']})], 'created': 1729658473, 'model': 'gpt-3.5-turbo-0125', 'object': 'chat.completion', 'service_tier': None, 'system_fingerprint': None, 'usage': ObjectRecord({'completion_tokens': 2, 'prompt_tokens': 35, 'total_tokens': 37, 'completion_tokens_details': ObjectRecord({'audio_tokens': None, 'reasoning_tokens': 0, '_class_name': 'CompletionTokensDetails', '_bases': ['BaseModel', 'BaseModel']}), 'prompt_tokens_details': ObjectRecord({'audio_tokens': None, 'cached_tokens': 0, '_class_name': 'PromptTokensDetails', '_bases': ['BaseModel', 'BaseModel']}), '_class_name': 'CompletionUsage', '_bases': ['BaseModel', 'BaseModel']}), '_class_name': 'ChatCompletion', '_bases': ['BaseModel', 'BaseModel']}), exception=None, summary={'usage': {'gpt-3.5-turbo-0125': {'requests': 1, 'completion_tokens': 2, 'prompt_tokens': 35, 'total_tokens': 37, 'completion_tokens_details': {'reasoning_tokens': 0}, 'prompt_tokens_details': {'cached_tokens': 0}}}}, display_name=None, attributes=AttributesDict({'weave': {'client_version': '0.51.18-dev0', 'source': 'python-sdk', 'os_name': 'Darwin', 'os_version': 'Darwin Kernel Version 23.2.0: Wed Nov 15 21:53:18 PST 2023; root:xnu-10002.61.3~2/RELEASE_ARM64_T6000', 'os_release': '23.2.0', 'sys_version': '3.10.8 (main, Dec  5 2022, 18:10:41) [Clang 14.0.0 (clang-1400.0.29.202)]'}}), started_at=None, ended_at=datetime.datetime(2024, 10, 23, 4, 41, 13, 720011, tzinfo=datetime.timezone.utc), deleted_at=None, _children=[], _feedback=None)], _feedback=None)]\n"
     ]
    }
   ],
   "source": [
    "from openai import OpenAI\n",
    "\n",
    "\n",
    "@weave.op\n",
    "def extract_name(user_input: str) -> str:\n",
    "    openai_client = OpenAI()\n",
    "    if \"Tim\" in user_input:\n",
    "        return \"i don't know!\"\n",
    "    response = openai_client.chat.completions.create(\n",
    "        model=\"gpt-3.5-turbo\",\n",
    "        messages=[\n",
    "            {\n",
    "                \"role\": \"system\",\n",
    "                \"content\": \"Extract the name from the user input. If there is no name, return an empty string.\",\n",
    "            },\n",
    "            {\"role\": \"user\", \"content\": user_input},\n",
    "        ],\n",
    "        temperature=0.0,\n",
    "        max_tokens=64,\n",
    "        top_p=1,\n",
    "    )\n",
    "    return response.choices[0].message.content\n",
    "\n",
    "\n",
    "calls = []\n",
    "names = [\"Scott\", \"Adrian\", \"Tim\", \"Jeff\", \"Shawn\"]\n",
    "for name in names:\n",
    "    res, call = extract_name.call(f\"My name is {name}.\")\n",
    "    calls.append(call)\n",
    "\n",
    "print(calls)"
   ]
  },
  {
   "cell_type": "code",
   "execution_count": 15,
   "metadata": {},
   "outputs": [],
   "source": [
    "from weave.collection_objects import action_objects\n",
    "from weave.trace.weave_client import get_ref\n",
    "from weave.trace_server.interface.collections import action_collection\n",
    "\n",
    "action = action_objects.ActionWithConfig(\n",
    "    name=\"is_name_extracted\",\n",
    "    action=action_collection._BuiltinAction(\n",
    "        name=\"openai_completion\",\n",
    "    ),\n",
    "    config={\n",
    "        \"model\": \"gpt-4o-mini\",\n",
    "        \"system_prompt\": \"Given the following prompt and response, determine if the name was extracted correctly.\",\n",
    "        \"response_format\": {\n",
    "            \"type\": \"json_schema\",\n",
    "            \"json_schema\": {\n",
    "                \"name\": \"is_name_extracted\",\n",
    "                \"schema\": {\n",
    "                    \"type\": \"object\",\n",
    "                    \"properties\": {\"is_extracted\": {\"type\": \"boolean\"}},\n",
    "                    \"required\": [\"is_extracted\"],\n",
    "                    \"additionalProperties\": False,\n",
    "                },\n",
    "                \"strict\": True,\n",
    "            },\n",
    "        },\n",
    "    },\n",
    ")\n",
    "mapping = action_objects.ActionOpMapping(\n",
    "    name=\"extract_name-is_name_extracted5\",\n",
    "    action=action,\n",
    "    op_name=get_ref(extract_name).name,\n",
    "    op_digest=get_ref(extract_name).digest,\n",
    "    input_mapping={\n",
    "        \"prompt\": \"inputs.user_input\",\n",
    "        \"response\": \"output\",\n",
    "    },\n",
    ")"
   ]
  },
  {
   "cell_type": "code",
   "execution_count": 16,
   "metadata": {},
   "outputs": [],
   "source": [
    "from weave.trace_server import trace_server_interface as tsi\n",
    "\n",
    "res = client.server.execute_batch_action(\n",
    "    req=tsi.ExecuteBatchActionReq(\n",
    "        project_id=client._project_id(),\n",
    "        call_ids=[c.id for c in calls[:1]],\n",
    "        mapping=mapping,\n",
    "    )\n",
    ")"
   ]
  },
  {
   "cell_type": "code",
   "execution_count": null,
   "metadata": {},
   "outputs": [],
   "source": []
  },
  {
   "cell_type": "code",
   "execution_count": null,
   "metadata": {},
   "outputs": [],
   "source": []
  },
  {
   "cell_type": "code",
   "execution_count": null,
   "metadata": {},
   "outputs": [],
   "source": []
  }
 ],
 "metadata": {
  "kernelspec": {
   "display_name": "wandb-weave",
   "language": "python",
   "name": "python3"
  },
  "language_info": {
   "codemirror_mode": {
    "name": "ipython",
    "version": 3
   },
   "file_extension": ".py",
   "mimetype": "text/x-python",
   "name": "python",
   "nbconvert_exporter": "python",
   "pygments_lexer": "ipython3",
   "version": "3.10.8"
  }
 },
 "nbformat": 4,
 "nbformat_minor": 2
}
