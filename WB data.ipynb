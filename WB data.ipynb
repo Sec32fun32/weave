{
 "cells": [
  {
   "cell_type": "code",
   "execution_count": null,
   "id": "bb76d9d8",
   "metadata": {},
   "outputs": [],
   "source": [
    "import weave\n",
    "weave.use_frontend_devmode()"
   ]
  },
  {
   "cell_type": "code",
   "execution_count": null,
   "id": "5a771433",
   "metadata": {},
   "outputs": [],
   "source": [
    "project = weave.ops.project('shawn', 'fasion-sweep')\n",
    "run_ids = project.runs().id()\n",
    "\n",
    "panel = weave.panels.Group2(\n",
    "    preferHorizontal=True,\n",
    "    items={\n",
    "        \"sidebar\": weave.panels.Group2(\n",
    "            style=\"width: 200px; padding: 16px;\",\n",
    "            items={\n",
    "                \"run_id\": weave.panels.ObjectPicker(run_ids, label='run_id'),\n",
    "            }\n",
    "        ),\n",
    "        \"main\": lambda sidebar: project.run(sidebar.config.items['run_id'].config.choice).history()\n",
    "#         \"main\": lambda sidebar: weave.panels.Plot(\n",
    "#             project.run(sidebar.config.items['run_id'].config.choice).history(),\n",
    "#             x=lambda row: row['_step'],\n",
    "#             y=lambda row: row['loss'],\n",
    "#         )\n",
    "    }\n",
    ")\n",
    "#panel"
   ]
  },
  {
   "cell_type": "code",
   "execution_count": null,
   "id": "ce74b03f",
   "metadata": {},
   "outputs": [],
   "source": [
    "project = weave.ops.project('shawn', 'fasion-sweep')\n",
    "run_ids = project.runs().id()\n",
    "\n",
    "panel = weave.panels.Group2(\n",
    "    preferHorizontal=True,\n",
    "    items={\n",
    "        \"sidebar\": weave.panels.Group2(\n",
    "            style=\"width: 200px; padding: 16px;\",\n",
    "            items={\n",
    "                \"run_id\": weave.panels.ObjectPicker(run_ids, label='run_id'),\n",
    "            }\n",
    "        ),\n",
    "        \"main\": lambda sidebar: project.run(sidebar.config.items['run_id'].config.choice).history()\n",
    "    }\n",
    ")\n",
    "#panel"
   ]
  },
  {
   "cell_type": "code",
   "execution_count": null,
   "id": "a4d68e78",
   "metadata": {},
   "outputs": [],
   "source": [
    "weave.ops.project('shawn', 'fasion-sweep')"
   ]
  }
 ],
 "metadata": {
  "kernelspec": {
   "display_name": "Python 3 (ipykernel)",
   "language": "python",
   "name": "python3"
  }
 },
 "nbformat": 4,
 "nbformat_minor": 5
}
