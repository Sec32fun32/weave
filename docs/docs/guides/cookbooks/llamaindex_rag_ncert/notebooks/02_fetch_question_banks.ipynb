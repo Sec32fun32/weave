{
 "cells": [
  {
   "cell_type": "markdown",
   "metadata": {},
   "source": [
    "# Building an Evaluation Dataset\n",
    "\n",
    "[![Open In Colab](https://colab.research.google.com/assets/colab-badge.svg)](https://colab.research.google.com/github/wandb/weave/blob/master/docs/docs/guides/cookbooks/llamaindex_rag_ncert/notebooks/02_fetch_question_banks.ipynb)\n",
    "\n",
    "We build an evaluation dataset by scraping a question bank of solved question-answer pairs of the Flamigo textbook from [LearnCBSE](https://www.learncbse.in/chapter-wise-important-questions-class-12-english/). The dataset consists of 358 question-answer pairs corresponding to the 8 chapters from our knowledge base in the following format:\n",
    "\n",
    "```python\n",
    "{\n",
    "  \"question\": \"What was the mood in the classroom when M. Hamel gave his last French lesson? \",\n",
    "  \"answer\": \"When M.Hamel was giving his last French ; lesson, the mood in the classroom was solemn and sombre. When he announced that this was their last French lesson everyone present in the classroom suddenly developed patriotic feelings for their native language and genuinely regretted ignoring their mother tongue.\",\n",
    "  \"marks\": \"3-4\",\n",
    "  \"chapter_name\": \"The Last Lesson\"\n",
    "}\n",
    "```"
   ]
  },
  {
   "cell_type": "markdown",
   "metadata": {},
   "source": [
    "## Install the dependencies\n",
    "\n",
    "First, let us install all the libraries that we would need to build the dataset."
   ]
  },
  {
   "cell_type": "code",
   "execution_count": null,
   "metadata": {
    "id": "BxlbEz8ZFPEL"
   },
   "outputs": [],
   "source": [
    "!pip install -qU weave"
   ]
  },
  {
   "cell_type": "code",
   "execution_count": null,
   "metadata": {
    "id": "qR3NBc2M8mBx"
   },
   "outputs": [],
   "source": [
    "import re\n",
    "\n",
    "import requests\n",
    "from bs4 import BeautifulSoup\n",
    "\n",
    "import weave"
   ]
  },
  {
   "cell_type": "markdown",
   "metadata": {},
   "source": [
    "## Scrape the Dataset"
   ]
  },
  {
   "cell_type": "code",
   "execution_count": null,
   "metadata": {
    "id": "MfZyc5f0BiKj"
   },
   "outputs": [],
   "source": [
    "def remove_selected_substrings(text):\n",
    "    def check_if_contains_target(x):\n",
    "        targets = [\"Comptt.\", \"Delhi\", \"All India\"]\n",
    "        return any(target in x for target in targets)\n",
    "\n",
    "    def replace_func(match):\n",
    "        if check_if_contains_target(match.group()):\n",
    "            return \"\"\n",
    "        else:\n",
    "            return match.group()\n",
    "\n",
    "    result = re.sub(r\"\\(([^()]|\\([^()]*\\))*\\)\", replace_func, text)\n",
    "    return result"
   ]
  },
  {
   "cell_type": "code",
   "execution_count": null,
   "metadata": {
    "id": "gnhDBoYw9uRf"
   },
   "outputs": [],
   "source": [
    "def extract_qa(qa_pair):\n",
    "    match = re.search(r\"Question \\d+\\.(.*?)Answer:(.*)\", qa_pair)\n",
    "    if match:\n",
    "        question = match.group(1).strip()\n",
    "        answer = match.group(2).strip()\n",
    "        return {\"question\": remove_selected_substrings(question), \"answer\": answer}\n",
    "    return None"
   ]
  },
  {
   "cell_type": "code",
   "execution_count": null,
   "metadata": {
    "id": "gNm52h8m_OPa"
   },
   "outputs": [],
   "source": [
    "def generate_question_bank(chapter_url: str, chapter_name: str):\n",
    "    response = requests.get(chapter_url)\n",
    "    html_content = response.content\n",
    "    soup = BeautifulSoup(html_content, \"html.parser\")\n",
    "    question_answer_pairs = []\n",
    "    for p_tag in soup.find_all(\"p\"):\n",
    "        question_answer_pair = p_tag.get_text(strip=True)\n",
    "        question_answer_pairs.append(question_answer_pair)\n",
    "    marks = \"\"\n",
    "    question_bank = []\n",
    "    for qa_pair in question_answer_pairs:\n",
    "        if \"Short Answer Type Questions\".lower() in qa_pair.lower():\n",
    "            marks = \"3-4\"\n",
    "        elif \"Long Answer Type Questions\".lower() in qa_pair.lower():\n",
    "            marks = \"5-6\"\n",
    "        elif \"Question\" in qa_pair and \"Answer:\" in qa_pair:\n",
    "            extracted_qa = extract_qa(qa_pair)\n",
    "            if extracted_qa is not None:\n",
    "                extracted_qa[\"marks\"] = marks\n",
    "                extracted_qa[\"chapter_name\"] = chapter_name\n",
    "                question_bank.append(extracted_qa)\n",
    "    return question_bank"
   ]
  },
  {
   "cell_type": "code",
   "execution_count": null,
   "metadata": {
    "id": "_SEayVb1E8S8"
   },
   "outputs": [],
   "source": [
    "chapter_urls = [\n",
    "    \"https://www.learncbse.in/the-last-lesson-important-questions/\",\n",
    "    \"https://www.learncbse.in/lost-spring-important-questions/\",\n",
    "    \"https://www.learncbse.in/deep-water-important-questions/\",\n",
    "    \"https://www.learncbse.in/the-rattrap-important-questions/\",\n",
    "    \"https://www.learncbse.in/indigo-important-questions/\",\n",
    "    \"https://www.learncbse.in/poets-and-pancakes-important-questions/\",\n",
    "    \"https://www.learncbse.in/the-interview-important-questions/\",\n",
    "    \"https://www.learncbse.in/going-places-important-questions/\",\n",
    "]\n",
    "\n",
    "chapter_names = [\n",
    "    \"The Last Lesson\",\n",
    "    \"Lost Spring Important\",\n",
    "    \"Deep Water Important\",\n",
    "    \"The Rattrap Importan\",\n",
    "    \"Indigo Important\",\n",
    "    \"Poets and Pancakes\",\n",
    "    \"The Interview\",\n",
    "    \"Going Places\",\n",
    "]\n",
    "\n",
    "question_bank = []\n",
    "for chapter_url, chapter_name in zip(chapter_urls, chapter_names):\n",
    "    question_bank.extend(generate_question_bank(chapter_url, chapter_name))"
   ]
  },
  {
   "cell_type": "markdown",
   "metadata": {},
   "source": [
    "## Publish the Dataset to Weave\n",
    "\n",
    "We log this dataset as a [`weave.Dataset`](../../core-types/datasets.md) which enables us to collect examples for evaluation and automatically track versions for accurate comparisons."
   ]
  },
  {
   "cell_type": "code",
   "execution_count": null,
   "metadata": {
    "colab": {
     "base_uri": "https://localhost:8080/"
    },
    "id": "3pMk_6NSjkFk",
    "outputId": "b8de5e38-758f-4b84-ab2c-3e52ec320e82"
   },
   "outputs": [],
   "source": [
    "# initialize Weave\n",
    "weave.init(project_name=\"groq-rag\")\n",
    "\n",
    "# Create the Weave Dataset\n",
    "dataset = weave.Dataset(name=\"flamingos-prose-question-bank\", rows=question_bank)\n",
    "\n",
    "# Publish the Dataset\n",
    "weave.publish(dataset)"
   ]
  },
  {
   "cell_type": "markdown",
   "metadata": {},
   "source": [
    "| ![](../images/weave_evaluation_dataset.gif) |\n",
    "|---|\n",
    "| Exploring the evaluation dataset using the Weave UI. |"
   ]
  }
 ],
 "metadata": {
  "colab": {
   "provenance": []
  },
  "kernelspec": {
   "display_name": "Python 3",
   "name": "python3"
  },
  "language_info": {
   "name": "python"
  },
  "widgets": {
   "application/vnd.jupyter.widget-state+json": {
    "091ccd5d093b406f978b72123efcab55": {
     "model_module": "@jupyter-widgets/controls",
     "model_module_version": "1.5.0",
     "model_name": "ProgressStyleModel",
     "state": {
      "_model_module": "@jupyter-widgets/controls",
      "_model_module_version": "1.5.0",
      "_model_name": "ProgressStyleModel",
      "_view_count": null,
      "_view_module": "@jupyter-widgets/base",
      "_view_module_version": "1.2.0",
      "_view_name": "StyleView",
      "bar_color": null,
      "description_width": ""
     }
    },
    "28b0124414594796b00a2931c7cdf839": {
     "model_module": "@jupyter-widgets/controls",
     "model_module_version": "1.5.0",
     "model_name": "FloatProgressModel",
     "state": {
      "_dom_classes": [],
      "_model_module": "@jupyter-widgets/controls",
      "_model_module_version": "1.5.0",
      "_model_name": "FloatProgressModel",
      "_view_count": null,
      "_view_module": "@jupyter-widgets/controls",
      "_view_module_version": "1.5.0",
      "_view_name": "ProgressView",
      "bar_style": "",
      "description": "",
      "description_tooltip": null,
      "layout": "IPY_MODEL_3e4e0fea2bb24dd694a0f21ceb597cf7",
      "max": 1,
      "min": 0,
      "orientation": "horizontal",
      "style": "IPY_MODEL_091ccd5d093b406f978b72123efcab55",
      "value": 1
     }
    },
    "3e4e0fea2bb24dd694a0f21ceb597cf7": {
     "model_module": "@jupyter-widgets/base",
     "model_module_version": "1.2.0",
     "model_name": "LayoutModel",
     "state": {
      "_model_module": "@jupyter-widgets/base",
      "_model_module_version": "1.2.0",
      "_model_name": "LayoutModel",
      "_view_count": null,
      "_view_module": "@jupyter-widgets/base",
      "_view_module_version": "1.2.0",
      "_view_name": "LayoutView",
      "align_content": null,
      "align_items": null,
      "align_self": null,
      "border": null,
      "bottom": null,
      "display": null,
      "flex": null,
      "flex_flow": null,
      "grid_area": null,
      "grid_auto_columns": null,
      "grid_auto_flow": null,
      "grid_auto_rows": null,
      "grid_column": null,
      "grid_gap": null,
      "grid_row": null,
      "grid_template_areas": null,
      "grid_template_columns": null,
      "grid_template_rows": null,
      "height": null,
      "justify_content": null,
      "justify_items": null,
      "left": null,
      "margin": null,
      "max_height": null,
      "max_width": null,
      "min_height": null,
      "min_width": null,
      "object_fit": null,
      "object_position": null,
      "order": null,
      "overflow": null,
      "overflow_x": null,
      "overflow_y": null,
      "padding": null,
      "right": null,
      "top": null,
      "visibility": null,
      "width": null
     }
    },
    "3fa0768b92834d4fb902e504038d8221": {
     "model_module": "@jupyter-widgets/base",
     "model_module_version": "1.2.0",
     "model_name": "LayoutModel",
     "state": {
      "_model_module": "@jupyter-widgets/base",
      "_model_module_version": "1.2.0",
      "_model_name": "LayoutModel",
      "_view_count": null,
      "_view_module": "@jupyter-widgets/base",
      "_view_module_version": "1.2.0",
      "_view_name": "LayoutView",
      "align_content": null,
      "align_items": null,
      "align_self": null,
      "border": null,
      "bottom": null,
      "display": null,
      "flex": null,
      "flex_flow": null,
      "grid_area": null,
      "grid_auto_columns": null,
      "grid_auto_flow": null,
      "grid_auto_rows": null,
      "grid_column": null,
      "grid_gap": null,
      "grid_row": null,
      "grid_template_areas": null,
      "grid_template_columns": null,
      "grid_template_rows": null,
      "height": null,
      "justify_content": null,
      "justify_items": null,
      "left": null,
      "margin": null,
      "max_height": null,
      "max_width": null,
      "min_height": null,
      "min_width": null,
      "object_fit": null,
      "object_position": null,
      "order": null,
      "overflow": null,
      "overflow_x": null,
      "overflow_y": null,
      "padding": null,
      "right": null,
      "top": null,
      "visibility": null,
      "width": null
     }
    },
    "b37fc8f33b8e43d29659ce19dbffb60c": {
     "model_module": "@jupyter-widgets/base",
     "model_module_version": "1.2.0",
     "model_name": "LayoutModel",
     "state": {
      "_model_module": "@jupyter-widgets/base",
      "_model_module_version": "1.2.0",
      "_model_name": "LayoutModel",
      "_view_count": null,
      "_view_module": "@jupyter-widgets/base",
      "_view_module_version": "1.2.0",
      "_view_name": "LayoutView",
      "align_content": null,
      "align_items": null,
      "align_self": null,
      "border": null,
      "bottom": null,
      "display": null,
      "flex": null,
      "flex_flow": null,
      "grid_area": null,
      "grid_auto_columns": null,
      "grid_auto_flow": null,
      "grid_auto_rows": null,
      "grid_column": null,
      "grid_gap": null,
      "grid_row": null,
      "grid_template_areas": null,
      "grid_template_columns": null,
      "grid_template_rows": null,
      "height": null,
      "justify_content": null,
      "justify_items": null,
      "left": null,
      "margin": null,
      "max_height": null,
      "max_width": null,
      "min_height": null,
      "min_width": null,
      "object_fit": null,
      "object_position": null,
      "order": null,
      "overflow": null,
      "overflow_x": null,
      "overflow_y": null,
      "padding": null,
      "right": null,
      "top": null,
      "visibility": null,
      "width": null
     }
    },
    "db620f31462549fda6d2ea1f1cc347de": {
     "model_module": "@jupyter-widgets/controls",
     "model_module_version": "1.5.0",
     "model_name": "LabelModel",
     "state": {
      "_dom_classes": [],
      "_model_module": "@jupyter-widgets/controls",
      "_model_module_version": "1.5.0",
      "_model_name": "LabelModel",
      "_view_count": null,
      "_view_module": "@jupyter-widgets/controls",
      "_view_module_version": "1.5.0",
      "_view_name": "LabelView",
      "description": "",
      "description_tooltip": null,
      "layout": "IPY_MODEL_3fa0768b92834d4fb902e504038d8221",
      "placeholder": "​",
      "style": "IPY_MODEL_e33bbbfba1b7413692e2d81f4915df08",
      "value": "0.463 MB of 0.463 MB uploaded (0.009 MB deduped)\r"
     }
    },
    "e33bbbfba1b7413692e2d81f4915df08": {
     "model_module": "@jupyter-widgets/controls",
     "model_module_version": "1.5.0",
     "model_name": "DescriptionStyleModel",
     "state": {
      "_model_module": "@jupyter-widgets/controls",
      "_model_module_version": "1.5.0",
      "_model_name": "DescriptionStyleModel",
      "_view_count": null,
      "_view_module": "@jupyter-widgets/base",
      "_view_module_version": "1.2.0",
      "_view_name": "StyleView",
      "description_width": ""
     }
    },
    "f82e8926b22a4f5ab2eb9ee576606aa9": {
     "model_module": "@jupyter-widgets/controls",
     "model_module_version": "1.5.0",
     "model_name": "VBoxModel",
     "state": {
      "_dom_classes": [],
      "_model_module": "@jupyter-widgets/controls",
      "_model_module_version": "1.5.0",
      "_model_name": "VBoxModel",
      "_view_count": null,
      "_view_module": "@jupyter-widgets/controls",
      "_view_module_version": "1.5.0",
      "_view_name": "VBoxView",
      "box_style": "",
      "children": [
       "IPY_MODEL_db620f31462549fda6d2ea1f1cc347de",
       "IPY_MODEL_28b0124414594796b00a2931c7cdf839"
      ],
      "layout": "IPY_MODEL_b37fc8f33b8e43d29659ce19dbffb60c"
     }
    }
   }
  }
 },
 "nbformat": 4,
 "nbformat_minor": 0
}
