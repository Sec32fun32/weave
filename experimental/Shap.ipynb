{
 "cells": [
  {
   "cell_type": "code",
   "execution_count": 1,
   "id": "eb58c451",
   "metadata": {},
   "outputs": [
    {
     "name": "stderr",
     "output_type": "stream",
     "text": [
      "/Users/bryanbischof/.pyenv/versions/3.9.7/envs/weave2/lib/python3.9/site-packages/tqdm/auto.py:22: TqdmWarning: IProgress not found. Please update jupyter and ipywidgets. See https://ipywidgets.readthedocs.io/en/stable/user_install.html\n",
      "  from .autonotebook import tqdm as notebook_tqdm\n"
     ]
    }
   ],
   "source": [
    "import weave\n",
    "from weave.ecosystem import shap"
   ]
  },
  {
   "cell_type": "code",
   "execution_count": 2,
   "id": "bac8abef",
   "metadata": {},
   "outputs": [],
   "source": [
    "dataset = shap.ca_housing_dataset(1)\n",
    "xy = shap.split_labels(dataset, 'MedHouseVal')\n",
    "model = shap.xgboost_train(xy, {'learning_rate': 0.02})\n",
    "\n",
    "explain_res = model.shap_explain(xy['X'])"
   ]
  },
  {
   "cell_type": "code",
   "execution_count": 3,
   "id": "aa726585",
   "metadata": {},
   "outputs": [
    {
     "data": {
      "text/html": [
       "\n",
       "        <iframe\n",
       "            width=\"100%\"\n",
       "            height=\"400px\"\n",
       "            src=\"http://127.0.0.1:60226/__frontend/weave_jupyter/__frontend/weave_jupyter?fullScreen&expNode=%7B%22nodeType%22%3A%20%22output%22%2C%20%22type%22%3A%20%7B%22type%22%3A%20%22file%22%2C%20%22extension%22%3A%20%22png%22%7D%2C%20%22fromOp%22%3A%20%7B%22name%22%3A%20%22ShapValues-summary_plot%22%2C%20%22inputs%22%3A%20%7B%22self%22%3A%20%7B%22nodeType%22%3A%20%22output%22%2C%20%22type%22%3A%20%7B%22type%22%3A%20%22ShapValues%22%7D%2C%20%22fromOp%22%3A%20%7B%22name%22%3A%20%22xgboost-model-shap_explain%22%2C%20%22inputs%22%3A%20%7B%22self%22%3A%20%7B%22nodeType%22%3A%20%22output%22%2C%20%22type%22%3A%20%7B%22type%22%3A%20%22xgboost-model%22%7D%2C%20%22fromOp%22%3A%20%7B%22name%22%3A%20%22op-xgboost_train%22%2C%20%22inputs%22%3A%20%7B%22xy%22%3A%20%7B%22nodeType%22%3A%20%22output%22%2C%20%22type%22%3A%20%7B%22type%22%3A%20%22typedDict%22%2C%20%22propertyTypes%22%3A%20%7B%22X%22%3A%20%22any%22%2C%20%22y%22%3A%20%22any%22%7D%7D%2C%20%22fromOp%22%3A%20%7B%22name%22%3A%20%22op-split_labels%22%2C%20%22inputs%22%3A%20%7B%22df%22%3A%20%7B%22nodeType%22%3A%20%22output%22%2C%20%22type%22%3A%20%7B%22type%22%3A%20%22dataframe%22%2C%20%22objectType%22%3A%20%7B%22type%22%3A%20%22typedDict%22%2C%20%22propertyTypes%22%3A%20%7B%7D%7D%7D%2C%20%22fromOp%22%3A%20%7B%22name%22%3A%20%22op-ca_housing_dataset%22%2C%20%22inputs%22%3A%20%7B%22seed%22%3A%20%7B%22nodeType%22%3A%20%22const%22%2C%20%22type%22%3A%20%7B%22type%22%3A%20%22const%22%2C%20%22valType%22%3A%20%22int%22%2C%20%22val%22%3A%201%7D%2C%20%22val%22%3A%201%7D%7D%7D%7D%2C%20%22label_col%22%3A%20%7B%22nodeType%22%3A%20%22const%22%2C%20%22type%22%3A%20%7B%22type%22%3A%20%22const%22%2C%20%22valType%22%3A%20%22string%22%2C%20%22val%22%3A%20%22MedHouseVal%22%7D%2C%20%22val%22%3A%20%22MedHouseVal%22%7D%7D%7D%7D%2C%20%22hyperparams%22%3A%20%7B%22nodeType%22%3A%20%22const%22%2C%20%22type%22%3A%20%7B%22type%22%3A%20%22const%22%2C%20%22valType%22%3A%20%7B%22type%22%3A%20%22typedDict%22%2C%20%22propertyTypes%22%3A%20%7B%22learning_rate%22%3A%20%22float%22%7D%7D%2C%20%22val%22%3A%20%7B%22learning_rate%22%3A%200.02%7D%7D%2C%20%22val%22%3A%20%7B%22learning_rate%22%3A%200.02%7D%7D%7D%7D%7D%2C%20%22data%22%3A%20%7B%22nodeType%22%3A%20%22output%22%2C%20%22type%22%3A%20%22any%22%2C%20%22fromOp%22%3A%20%7B%22name%22%3A%20%22pick%22%2C%20%22inputs%22%3A%20%7B%22obj%22%3A%20%7B%22nodeType%22%3A%20%22output%22%2C%20%22type%22%3A%20%7B%22type%22%3A%20%22typedDict%22%2C%20%22propertyTypes%22%3A%20%7B%22X%22%3A%20%22any%22%2C%20%22y%22%3A%20%22any%22%7D%7D%2C%20%22fromOp%22%3A%20%7B%22name%22%3A%20%22op-split_labels%22%2C%20%22inputs%22%3A%20%7B%22df%22%3A%20%7B%22nodeType%22%3A%20%22output%22%2C%20%22type%22%3A%20%7B%22type%22%3A%20%22dataframe%22%2C%20%22objectType%22%3A%20%7B%22type%22%3A%20%22typedDict%22%2C%20%22propertyTypes%22%3A%20%7B%7D%7D%7D%2C%20%22fromOp%22%3A%20%7B%22name%22%3A%20%22op-ca_housing_dataset%22%2C%20%22inputs%22%3A%20%7B%22seed%22%3A%20%7B%22nodeType%22%3A%20%22const%22%2C%20%22type%22%3A%20%7B%22type%22%3A%20%22const%22%2C%20%22valType%22%3A%20%22int%22%2C%20%22val%22%3A%201%7D%2C%20%22val%22%3A%201%7D%7D%7D%7D%2C%20%22label_col%22%3A%20%7B%22nodeType%22%3A%20%22const%22%2C%20%22type%22%3A%20%7B%22type%22%3A%20%22const%22%2C%20%22valType%22%3A%20%22string%22%2C%20%22val%22%3A%20%22MedHouseVal%22%7D%2C%20%22val%22%3A%20%22MedHouseVal%22%7D%7D%7D%7D%2C%20%22key%22%3A%20%7B%22nodeType%22%3A%20%22const%22%2C%20%22type%22%3A%20%7B%22type%22%3A%20%22const%22%2C%20%22valType%22%3A%20%22string%22%2C%20%22val%22%3A%20%22X%22%7D%2C%20%22val%22%3A%20%22X%22%7D%7D%7D%7D%7D%7D%7D%7D%7D%7D\"\n",
       "            frameborder=\"0\"\n",
       "            allowfullscreen\n",
       "            \n",
       "        ></iframe>\n",
       "        "
      ],
      "text/plain": [
       "<IPython.lib.display.IFrame at 0x136938c10>"
      ]
     },
     "metadata": {},
     "output_type": "display_data"
    }
   ],
   "source": [
    "explain_res.summary_plot()"
   ]
  },
  {
   "cell_type": "markdown",
   "id": "3a005b40",
   "metadata": {},
   "source": [
    "# Compare to:"
   ]
  },
  {
   "cell_type": "code",
   "execution_count": 4,
   "id": "ad0de106",
   "metadata": {},
   "outputs": [],
   "source": [
    "import shap\n",
    "import typing\n",
    "import xgboost\n",
    "import numpy as np\n",
    "\n",
    "import matplotlib.pyplot as plt\n",
    "from sklearn.datasets import fetch_california_housing"
   ]
  },
  {
   "cell_type": "code",
   "execution_count": 5,
   "id": "ce93e055",
   "metadata": {},
   "outputs": [],
   "source": [
    "housing = fetch_california_housing(as_frame=True).frame"
   ]
  },
  {
   "cell_type": "code",
   "execution_count": 6,
   "id": "0ed9e0e1",
   "metadata": {},
   "outputs": [],
   "source": [
    "X = housing.drop(\"MedHouseVal\", axis=1)\n",
    "y = housing[\"MedHouseVal\"]\n",
    "data = {\"X\": X, \"y\": y}"
   ]
  },
  {
   "cell_type": "code",
   "execution_count": 7,
   "id": "35afdd9e",
   "metadata": {},
   "outputs": [],
   "source": [
    "model = xgboost.train(\n",
    "    {'learning_rate': 0.02}, \n",
    "    xgboost.DMatrix(\n",
    "        data[\"X\"], \n",
    "        label=data[\"y\"].to_numpy()\n",
    "    ), \n",
    "    num_boost_round=100\n",
    ")"
   ]
  },
  {
   "cell_type": "code",
   "execution_count": 8,
   "id": "a4eed918",
   "metadata": {},
   "outputs": [],
   "source": [
    "explainer = shap.TreeExplainer(model)\n",
    "shap_values = explainer.shap_values(data['X'])"
   ]
  },
  {
   "cell_type": "code",
   "execution_count": 24,
   "id": "cbd036f2",
   "metadata": {},
   "outputs": [
    {
     "data": {
      "text/plain": [
       "array([[ 1.9977478 ,  0.1376926 , -0.00909909, ...,  0.02050224,\n",
       "        -0.1406007 ,  0.10722467],\n",
       "       [ 1.6970208 , -0.03647407, -0.0158269 , ...,  0.20584358,\n",
       "        -0.10700833,  0.13706553],\n",
       "       [ 1.4576269 ,  0.18270949,  0.0099352 , ..., -0.03920711,\n",
       "        -0.2218564 ,  0.10061549],\n",
       "       ...,\n",
       "       [-0.701381  , -0.02537205, -0.05161539, ...,  0.09450056,\n",
       "        -0.44076326,  0.05704165],\n",
       "       [-0.7349992 , -0.02274171, -0.05182655, ...,  0.20167118,\n",
       "        -0.4885632 ,  0.04765517],\n",
       "       [-0.52730644, -0.03154086, -0.06031314, ..., -0.01319827,\n",
       "        -0.4183639 ,  0.05760494]], dtype=float32)"
      ]
     },
     "execution_count": 24,
     "metadata": {},
     "output_type": "execute_result"
    }
   ],
   "source": [
    "shap_values"
   ]
  },
  {
   "cell_type": "code",
   "execution_count": 9,
   "id": "6de336ec",
   "metadata": {},
   "outputs": [
    {
     "data": {
      "image/png": "[encoded data removed]",
      "text/plain": [
       "<Figure size 576x338.4 with 1 Axes>"
      ]
     },
     "metadata": {
      "needs_background": "light"
     },
     "output_type": "display_data"
    }
   ],
   "source": [
    "shap.summary_plot(shap_values)"
   ]
  },
  {
   "cell_type": "code",
   "execution_count": null,
   "id": "3fc6fd68",
   "metadata": {},
   "outputs": [],
   "source": []
  }
 ],
 "metadata": {
  "kernelspec": {
   "display_name": "Python 3 (ipykernel)",
   "language": "python",
   "name": "python3"
  },
  "language_info": {
   "codemirror_mode": {
    "name": "ipython",
    "version": 3
   },
   "file_extension": ".py",
   "mimetype": "text/x-python",
   "name": "python",
   "nbconvert_exporter": "python",
   "pygments_lexer": "ipython3",
   "version": "3.9.7"
  }
 },
 "nbformat": 4,
 "nbformat_minor": 5
}
