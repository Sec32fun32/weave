{
 "cells": [
  {
   "cell_type": "code",
   "execution_count": 1,
   "id": "99105469",
   "metadata": {},
   "outputs": [
    {
     "name": "stderr",
     "output_type": "stream",
     "text": [
      "/Users/bryanbischof/.pyenv/versions/3.9.7/envs/weave2/lib/python3.9/site-packages/tqdm/auto.py:22: TqdmWarning: IProgress not found. Please update jupyter and ipywidgets. See https://ipywidgets.readthedocs.io/en/stable/user_install.html\n",
      "  from .autonotebook import tqdm as notebook_tqdm\n"
     ]
    }
   ],
   "source": [
    "import weave\n",
    "from weave.ecosystem import umap"
   ]
  },
  {
   "cell_type": "code",
   "execution_count": 2,
   "id": "20d8bda4",
   "metadata": {},
   "outputs": [],
   "source": [
    "dataset = umap.get_mnist(1)"
   ]
  },
  {
   "cell_type": "code",
   "execution_count": 3,
   "id": "2cd28865",
   "metadata": {
    "scrolled": false
   },
   "outputs": [
    {
     "data": {
      "text/html": [
       "\n",
       "        <iframe\n",
       "            width=\"100%\"\n",
       "            height=\"400px\"\n",
       "            src=\"http://127.0.0.1:50727/__frontend/weave_jupyter/__frontend/weave_jupyter?fullScreen&expNode=%7B%22nodeType%22%3A%20%22output%22%2C%20%22type%22%3A%20%7B%22type%22%3A%20%22typedDict%22%2C%20%22propertyTypes%22%3A%20%7B%22digits%22%3A%20%22any%22%2C%20%22labels%22%3A%20%7B%22type%22%3A%20%22dataframe%22%2C%20%22objectType%22%3A%20%7B%22type%22%3A%20%22typedDict%22%2C%20%22propertyTypes%22%3A%20%7B%7D%7D%7D%7D%7D%2C%20%22fromOp%22%3A%20%7B%22name%22%3A%20%22op-get_mnist%22%2C%20%22inputs%22%3A%20%7B%22version%22%3A%20%7B%22nodeType%22%3A%20%22const%22%2C%20%22type%22%3A%20%7B%22type%22%3A%20%22const%22%2C%20%22valType%22%3A%20%22int%22%2C%20%22val%22%3A%201%7D%2C%20%22val%22%3A%201%7D%7D%7D%7D\"\n",
       "            frameborder=\"0\"\n",
       "            allowfullscreen\n",
       "            \n",
       "        ></iframe>\n",
       "        "
      ],
      "text/plain": [
       "<IPython.lib.display.IFrame at 0x13e301730>"
      ]
     },
     "metadata": {},
     "output_type": "display_data"
    }
   ],
   "source": [
    "dataset"
   ]
  },
  {
   "cell_type": "code",
   "execution_count": 4,
   "id": "4d449d89",
   "metadata": {},
   "outputs": [
    {
     "name": "stderr",
     "output_type": "stream",
     "text": [
      "[2022-06-09 22:56:56,763] ERROR in interactiveshell (Thread Name: MainThread): No traceback has been produced, nothing to debug.\n"
     ]
    }
   ],
   "source": [
    "%debug"
   ]
  },
  {
   "cell_type": "code",
   "execution_count": 5,
   "id": "9e2663b3",
   "metadata": {},
   "outputs": [],
   "source": [
    "digits = umap.get_mnist(1)[\"digits\"]"
   ]
  },
  {
   "cell_type": "code",
   "execution_count": 6,
   "id": "feac5a84",
   "metadata": {
    "scrolled": false
   },
   "outputs": [
    {
     "data": {
      "text/html": [
       "\n",
       "        <iframe\n",
       "            width=\"100%\"\n",
       "            height=\"400px\"\n",
       "            src=\"http://127.0.0.1:50727/__frontend/weave_jupyter/__frontend/weave_jupyter?fullScreen&expNode=%7B%22nodeType%22%3A%20%22output%22%2C%20%22type%22%3A%20%22any%22%2C%20%22fromOp%22%3A%20%7B%22name%22%3A%20%22pick%22%2C%20%22inputs%22%3A%20%7B%22obj%22%3A%20%7B%22nodeType%22%3A%20%22output%22%2C%20%22type%22%3A%20%7B%22type%22%3A%20%22typedDict%22%2C%20%22propertyTypes%22%3A%20%7B%22digits%22%3A%20%22any%22%2C%20%22labels%22%3A%20%7B%22type%22%3A%20%22dataframe%22%2C%20%22objectType%22%3A%20%7B%22type%22%3A%20%22typedDict%22%2C%20%22propertyTypes%22%3A%20%7B%7D%7D%7D%7D%7D%2C%20%22fromOp%22%3A%20%7B%22name%22%3A%20%22op-get_mnist%22%2C%20%22inputs%22%3A%20%7B%22version%22%3A%20%7B%22nodeType%22%3A%20%22const%22%2C%20%22type%22%3A%20%7B%22type%22%3A%20%22const%22%2C%20%22valType%22%3A%20%22int%22%2C%20%22val%22%3A%201%7D%2C%20%22val%22%3A%201%7D%7D%7D%7D%2C%20%22key%22%3A%20%7B%22nodeType%22%3A%20%22const%22%2C%20%22type%22%3A%20%7B%22type%22%3A%20%22const%22%2C%20%22valType%22%3A%20%22string%22%2C%20%22val%22%3A%20%22digits%22%7D%2C%20%22val%22%3A%20%22digits%22%7D%7D%7D%7D\"\n",
       "            frameborder=\"0\"\n",
       "            allowfullscreen\n",
       "            \n",
       "        ></iframe>\n",
       "        "
      ],
      "text/plain": [
       "<IPython.lib.display.IFrame at 0x13e3088e0>"
      ]
     },
     "metadata": {},
     "output_type": "display_data"
    }
   ],
   "source": [
    "digits"
   ]
  },
  {
   "cell_type": "code",
   "execution_count": 7,
   "id": "07326b1c",
   "metadata": {},
   "outputs": [],
   "source": [
    "labels = umap.get_mnist(1)[\"labels\"]"
   ]
  },
  {
   "cell_type": "code",
   "execution_count": 8,
   "id": "892a6c15",
   "metadata": {},
   "outputs": [
    {
     "data": {
      "text/html": [
       "\n",
       "        <iframe\n",
       "            width=\"100%\"\n",
       "            height=\"400px\"\n",
       "            src=\"http://127.0.0.1:50727/__frontend/weave_jupyter/__frontend/weave_jupyter?fullScreen&expNode=%7B%22nodeType%22%3A%20%22output%22%2C%20%22type%22%3A%20%7B%22type%22%3A%20%22dataframe%22%2C%20%22objectType%22%3A%20%7B%22type%22%3A%20%22typedDict%22%2C%20%22propertyTypes%22%3A%20%7B%7D%7D%7D%2C%20%22fromOp%22%3A%20%7B%22name%22%3A%20%22pick%22%2C%20%22inputs%22%3A%20%7B%22obj%22%3A%20%7B%22nodeType%22%3A%20%22output%22%2C%20%22type%22%3A%20%7B%22type%22%3A%20%22typedDict%22%2C%20%22propertyTypes%22%3A%20%7B%22digits%22%3A%20%22any%22%2C%20%22labels%22%3A%20%7B%22type%22%3A%20%22dataframe%22%2C%20%22objectType%22%3A%20%7B%22type%22%3A%20%22typedDict%22%2C%20%22propertyTypes%22%3A%20%7B%7D%7D%7D%7D%7D%2C%20%22fromOp%22%3A%20%7B%22name%22%3A%20%22op-get_mnist%22%2C%20%22inputs%22%3A%20%7B%22version%22%3A%20%7B%22nodeType%22%3A%20%22const%22%2C%20%22type%22%3A%20%7B%22type%22%3A%20%22const%22%2C%20%22valType%22%3A%20%22int%22%2C%20%22val%22%3A%201%7D%2C%20%22val%22%3A%201%7D%7D%7D%7D%2C%20%22key%22%3A%20%7B%22nodeType%22%3A%20%22const%22%2C%20%22type%22%3A%20%7B%22type%22%3A%20%22const%22%2C%20%22valType%22%3A%20%22string%22%2C%20%22val%22%3A%20%22labels%22%7D%2C%20%22val%22%3A%20%22labels%22%7D%7D%7D%7D\"\n",
       "            frameborder=\"0\"\n",
       "            allowfullscreen\n",
       "            \n",
       "        ></iframe>\n",
       "        "
      ],
      "text/plain": [
       "<IPython.lib.display.IFrame at 0x10e70d550>"
      ]
     },
     "metadata": {},
     "output_type": "display_data"
    }
   ],
   "source": [
    "labels"
   ]
  },
  {
   "cell_type": "code",
   "execution_count": 9,
   "id": "6b50b9c2",
   "metadata": {},
   "outputs": [],
   "source": [
    "model = umap.UMAP_fit(digits)"
   ]
  },
  {
   "cell_type": "code",
   "execution_count": 10,
   "id": "0337b13a",
   "metadata": {},
   "outputs": [
    {
     "data": {
      "text/html": [
       "\n",
       "        <iframe\n",
       "            width=\"100%\"\n",
       "            height=\"400px\"\n",
       "            src=\"http://127.0.0.1:50727/__frontend/weave_jupyter/__frontend/weave_jupyter?fullScreen&expNode=%7B%22nodeType%22%3A%20%22output%22%2C%20%22type%22%3A%20%7B%22type%22%3A%20%22UMAP-model%22%7D%2C%20%22fromOp%22%3A%20%7B%22name%22%3A%20%22op-UMAP_fit%22%2C%20%22inputs%22%3A%20%7B%22unmapped_data%22%3A%20%7B%22nodeType%22%3A%20%22output%22%2C%20%22type%22%3A%20%22any%22%2C%20%22fromOp%22%3A%20%7B%22name%22%3A%20%22pick%22%2C%20%22inputs%22%3A%20%7B%22obj%22%3A%20%7B%22nodeType%22%3A%20%22output%22%2C%20%22type%22%3A%20%7B%22type%22%3A%20%22typedDict%22%2C%20%22propertyTypes%22%3A%20%7B%22digits%22%3A%20%22any%22%2C%20%22labels%22%3A%20%7B%22type%22%3A%20%22dataframe%22%2C%20%22objectType%22%3A%20%7B%22type%22%3A%20%22typedDict%22%2C%20%22propertyTypes%22%3A%20%7B%7D%7D%7D%7D%7D%2C%20%22fromOp%22%3A%20%7B%22name%22%3A%20%22op-get_mnist%22%2C%20%22inputs%22%3A%20%7B%22version%22%3A%20%7B%22nodeType%22%3A%20%22const%22%2C%20%22type%22%3A%20%7B%22type%22%3A%20%22const%22%2C%20%22valType%22%3A%20%22int%22%2C%20%22val%22%3A%201%7D%2C%20%22val%22%3A%201%7D%7D%7D%7D%2C%20%22key%22%3A%20%7B%22nodeType%22%3A%20%22const%22%2C%20%22type%22%3A%20%7B%22type%22%3A%20%22const%22%2C%20%22valType%22%3A%20%22string%22%2C%20%22val%22%3A%20%22digits%22%7D%2C%20%22val%22%3A%20%22digits%22%7D%7D%7D%7D%7D%7D%7D\"\n",
       "            frameborder=\"0\"\n",
       "            allowfullscreen\n",
       "            \n",
       "        ></iframe>\n",
       "        "
      ],
      "text/plain": [
       "<IPython.lib.display.IFrame at 0x13df99220>"
      ]
     },
     "metadata": {},
     "output_type": "display_data"
    }
   ],
   "source": [
    "model"
   ]
  },
  {
   "cell_type": "code",
   "execution_count": 11,
   "id": "07c34d23",
   "metadata": {},
   "outputs": [
    {
     "data": {
      "text/html": [
       "\n",
       "        <iframe\n",
       "            width=\"100%\"\n",
       "            height=\"400px\"\n",
       "            src=\"http://127.0.0.1:50727/__frontend/weave_jupyter/__frontend/weave_jupyter?fullScreen&expNode=%7B%22nodeType%22%3A%20%22output%22%2C%20%22type%22%3A%20%7B%22type%22%3A%20%22file%22%2C%20%22extension%22%3A%20%22png%22%7D%2C%20%22fromOp%22%3A%20%7B%22name%22%3A%20%22MapPlot-summary_plot%22%2C%20%22inputs%22%3A%20%7B%22self%22%3A%20%7B%22nodeType%22%3A%20%22output%22%2C%20%22type%22%3A%20%7B%22type%22%3A%20%22MapPlot%22%7D%2C%20%22fromOp%22%3A%20%7B%22name%22%3A%20%22UMAP-model-transform_plot_2d%22%2C%20%22inputs%22%3A%20%7B%22self%22%3A%20%7B%22nodeType%22%3A%20%22output%22%2C%20%22type%22%3A%20%7B%22type%22%3A%20%22UMAP-model%22%7D%2C%20%22fromOp%22%3A%20%7B%22name%22%3A%20%22op-UMAP_fit%22%2C%20%22inputs%22%3A%20%7B%22unmapped_data%22%3A%20%7B%22nodeType%22%3A%20%22output%22%2C%20%22type%22%3A%20%22any%22%2C%20%22fromOp%22%3A%20%7B%22name%22%3A%20%22pick%22%2C%20%22inputs%22%3A%20%7B%22obj%22%3A%20%7B%22nodeType%22%3A%20%22output%22%2C%20%22type%22%3A%20%7B%22type%22%3A%20%22typedDict%22%2C%20%22propertyTypes%22%3A%20%7B%22digits%22%3A%20%22any%22%2C%20%22labels%22%3A%20%7B%22type%22%3A%20%22dataframe%22%2C%20%22objectType%22%3A%20%7B%22type%22%3A%20%22typedDict%22%2C%20%22propertyTypes%22%3A%20%7B%7D%7D%7D%7D%7D%2C%20%22fromOp%22%3A%20%7B%22name%22%3A%20%22op-get_mnist%22%2C%20%22inputs%22%3A%20%7B%22version%22%3A%20%7B%22nodeType%22%3A%20%22const%22%2C%20%22type%22%3A%20%7B%22type%22%3A%20%22const%22%2C%20%22valType%22%3A%20%22int%22%2C%20%22val%22%3A%201%7D%2C%20%22val%22%3A%201%7D%7D%7D%7D%2C%20%22key%22%3A%20%7B%22nodeType%22%3A%20%22const%22%2C%20%22type%22%3A%20%7B%22type%22%3A%20%22const%22%2C%20%22valType%22%3A%20%22string%22%2C%20%22val%22%3A%20%22digits%22%7D%2C%20%22val%22%3A%20%22digits%22%7D%7D%7D%7D%7D%7D%7D%2C%20%22data%22%3A%20%7B%22nodeType%22%3A%20%22output%22%2C%20%22type%22%3A%20%22any%22%2C%20%22fromOp%22%3A%20%7B%22name%22%3A%20%22pick%22%2C%20%22inputs%22%3A%20%7B%22obj%22%3A%20%7B%22nodeType%22%3A%20%22output%22%2C%20%22type%22%3A%20%7B%22type%22%3A%20%22typedDict%22%2C%20%22propertyTypes%22%3A%20%7B%22digits%22%3A%20%22any%22%2C%20%22labels%22%3A%20%7B%22type%22%3A%20%22dataframe%22%2C%20%22objectType%22%3A%20%7B%22type%22%3A%20%22typedDict%22%2C%20%22propertyTypes%22%3A%20%7B%7D%7D%7D%7D%7D%2C%20%22fromOp%22%3A%20%7B%22name%22%3A%20%22op-get_mnist%22%2C%20%22inputs%22%3A%20%7B%22version%22%3A%20%7B%22nodeType%22%3A%20%22const%22%2C%20%22type%22%3A%20%7B%22type%22%3A%20%22const%22%2C%20%22valType%22%3A%20%22int%22%2C%20%22val%22%3A%201%7D%2C%20%22val%22%3A%201%7D%7D%7D%7D%2C%20%22key%22%3A%20%7B%22nodeType%22%3A%20%22const%22%2C%20%22type%22%3A%20%7B%22type%22%3A%20%22const%22%2C%20%22valType%22%3A%20%22string%22%2C%20%22val%22%3A%20%22digits%22%7D%2C%20%22val%22%3A%20%22digits%22%7D%7D%7D%7D%2C%20%22labels%22%3A%20%7B%22nodeType%22%3A%20%22output%22%2C%20%22type%22%3A%20%7B%22type%22%3A%20%22dataframe%22%2C%20%22objectType%22%3A%20%7B%22type%22%3A%20%22typedDict%22%2C%20%22propertyTypes%22%3A%20%7B%7D%7D%7D%2C%20%22fromOp%22%3A%20%7B%22name%22%3A%20%22pick%22%2C%20%22inputs%22%3A%20%7B%22obj%22%3A%20%7B%22nodeType%22%3A%20%22output%22%2C%20%22type%22%3A%20%7B%22type%22%3A%20%22typedDict%22%2C%20%22propertyTypes%22%3A%20%7B%22digits%22%3A%20%22any%22%2C%20%22labels%22%3A%20%7B%22type%22%3A%20%22dataframe%22%2C%20%22objectType%22%3A%20%7B%22type%22%3A%20%22typedDict%22%2C%20%22propertyTypes%22%3A%20%7B%7D%7D%7D%7D%7D%2C%20%22fromOp%22%3A%20%7B%22name%22%3A%20%22op-get_mnist%22%2C%20%22inputs%22%3A%20%7B%22version%22%3A%20%7B%22nodeType%22%3A%20%22const%22%2C%20%22type%22%3A%20%7B%22type%22%3A%20%22const%22%2C%20%22valType%22%3A%20%22int%22%2C%20%22val%22%3A%201%7D%2C%20%22val%22%3A%201%7D%7D%7D%7D%2C%20%22key%22%3A%20%7B%22nodeType%22%3A%20%22const%22%2C%20%22type%22%3A%20%7B%22type%22%3A%20%22const%22%2C%20%22valType%22%3A%20%22string%22%2C%20%22val%22%3A%20%22labels%22%7D%2C%20%22val%22%3A%20%22labels%22%7D%7D%7D%7D%7D%7D%7D%7D%7D%7D\"\n",
       "            frameborder=\"0\"\n",
       "            allowfullscreen\n",
       "            \n",
       "        ></iframe>\n",
       "        "
      ],
      "text/plain": [
       "<IPython.lib.display.IFrame at 0x10e7054c0>"
      ]
     },
     "metadata": {},
     "output_type": "display_data"
    }
   ],
   "source": [
    "model.transform_plot_2d(digits, dataset['labels']).summary_plot()"
   ]
  },
  {
   "cell_type": "code",
   "execution_count": null,
   "id": "ad63a165",
   "metadata": {},
   "outputs": [],
   "source": []
  }
 ],
 "metadata": {
  "kernelspec": {
   "display_name": "Python 3 (ipykernel)",
   "language": "python",
   "name": "python3"
  },
  "language_info": {
   "codemirror_mode": {
    "name": "ipython",
    "version": 3
   },
   "file_extension": ".py",
   "mimetype": "text/x-python",
   "name": "python",
   "nbconvert_exporter": "python",
   "pygments_lexer": "ipython3",
   "version": "3.9.7"
  }
 },
 "nbformat": 4,
 "nbformat_minor": 5
}
