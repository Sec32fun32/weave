{
 "cells": [
  {
   "cell_type": "markdown",
   "id": "0903a3ef",
   "metadata": {},
   "source": [
    "## Using this notebook to develop multiple y axes on Panel Plot"
   ]
  },
  {
   "cell_type": "code",
   "execution_count": 9,
   "id": "f6c524b9",
   "metadata": {},
   "outputs": [],
   "source": [
    "import weave\n",
    "import math\n",
    "import random\n",
    "weave.use_frontend_devmode()"
   ]
  },
  {
   "cell_type": "code",
   "execution_count": 20,
   "id": "f8d46616",
   "metadata": {},
   "outputs": [
    {
     "data": {
      "text/html": [
       "\n",
       "        <iframe\n",
       "            width=\"100%\"\n",
       "            height=\"400px\"\n",
       "            src=\"http://localhost:3000/index.html?fullScreen&expNode=%7B%22nodeType%22%3A%20%22output%22%2C%20%22type%22%3A%20%7B%22type%22%3A%20%22list%22%2C%20%22objectType%22%3A%20%7B%22type%22%3A%20%22typedDict%22%2C%20%22propertyTypes%22%3A%20%7B%22group%22%3A%20%22string%22%2C%20%22run%22%3A%20%22string%22%2C%20%22step%22%3A%20%22int%22%2C%20%22acc%22%3A%20%22float%22%7D%7D%7D%2C%20%22fromOp%22%3A%20%7B%22name%22%3A%20%22get%22%2C%20%22inputs%22%3A%20%7B%22uri%22%3A%20%7B%22nodeType%22%3A%20%22const%22%2C%20%22type%22%3A%20%7B%22type%22%3A%20%22const%22%2C%20%22valType%22%3A%20%22string%22%2C%20%22val%22%3A%20%22list-obj/d1eea8b4eb4f1ecf6e2a2b4695bdf1c5%22%7D%2C%20%22val%22%3A%20%22list-obj/d1eea8b4eb4f1ecf6e2a2b4695bdf1c5%22%7D%7D%7D%7D&panelId=plot&panelConfig=%7B%22table%22%3A%20%7B%22autoColumns%22%3A%20false%2C%20%22columns%22%3A%20%7B%22RNCIRXCHNFB3YK%22%3A%20%7B%22panelId%22%3A%20%22%22%2C%20%22panelConfig%22%3A%20null%7D%2C%20%2238ZLGOZ64LKM4C%22%3A%20%7B%22panelId%22%3A%20%22%22%2C%20%22panelConfig%22%3A%20null%7D%2C%20%227K1B4H9PGPOJCK%22%3A%20%7B%22panelId%22%3A%20%22%22%2C%20%22panelConfig%22%3A%20null%7D%2C%20%22J84TJF51CVQ5Q7%22%3A%20%7B%22panelId%22%3A%20%22%22%2C%20%22panelConfig%22%3A%20null%7D%2C%20%22ESW8QRISBTPZMR%22%3A%20%7B%22panelId%22%3A%20%22%22%2C%20%22panelConfig%22%3A%20null%7D%7D%2C%20%22preFilterFunction%22%3A%20%7B%22nodeType%22%3A%20%22void%22%2C%20%22type%22%3A%20%22invalid%22%7D%2C%20%22columnNames%22%3A%20%7B%22RNCIRXCHNFB3YK%22%3A%20%22%22%2C%20%2238ZLGOZ64LKM4C%22%3A%20%22%22%2C%20%227K1B4H9PGPOJCK%22%3A%20%22%22%2C%20%22J84TJF51CVQ5Q7%22%3A%20%22%22%2C%20%22ESW8QRISBTPZMR%22%3A%20%22%22%7D%2C%20%22columnSelectFunctions%22%3A%20%7B%22RNCIRXCHNFB3YK%22%3A%20%7B%22nodeType%22%3A%20%22output%22%2C%20%22type%22%3A%20%22int%22%2C%20%22fromOp%22%3A%20%7B%22name%22%3A%20%22pick%22%2C%20%22inputs%22%3A%20%7B%22obj%22%3A%20%7B%22nodeType%22%3A%20%22var%22%2C%20%22type%22%3A%20%7B%22type%22%3A%20%22typedDict%22%2C%20%22propertyTypes%22%3A%20%7B%22group%22%3A%20%22string%22%2C%20%22run%22%3A%20%22string%22%2C%20%22step%22%3A%20%22int%22%2C%20%22acc%22%3A%20%22float%22%7D%7D%2C%20%22varName%22%3A%20%22row%22%7D%2C%20%22key%22%3A%20%7B%22nodeType%22%3A%20%22const%22%2C%20%22type%22%3A%20%7B%22type%22%3A%20%22const%22%2C%20%22valType%22%3A%20%22string%22%2C%20%22val%22%3A%20%22step%22%7D%2C%20%22val%22%3A%20%22step%22%7D%7D%7D%7D%2C%20%2238ZLGOZ64LKM4C%22%3A%20%7B%22nodeType%22%3A%20%22output%22%2C%20%22type%22%3A%20%22float%22%2C%20%22fromOp%22%3A%20%7B%22name%22%3A%20%22pick%22%2C%20%22inputs%22%3A%20%7B%22obj%22%3A%20%7B%22nodeType%22%3A%20%22var%22%2C%20%22type%22%3A%20%7B%22type%22%3A%20%22typedDict%22%2C%20%22propertyTypes%22%3A%20%7B%22group%22%3A%20%22string%22%2C%20%22run%22%3A%20%22string%22%2C%20%22step%22%3A%20%22int%22%2C%20%22acc%22%3A%20%22float%22%7D%7D%2C%20%22varName%22%3A%20%22row%22%7D%2C%20%22key%22%3A%20%7B%22nodeType%22%3A%20%22const%22%2C%20%22type%22%3A%20%7B%22type%22%3A%20%22const%22%2C%20%22valType%22%3A%20%22string%22%2C%20%22val%22%3A%20%22acc%22%7D%2C%20%22val%22%3A%20%22acc%22%7D%7D%7D%7D%2C%20%227K1B4H9PGPOJCK%22%3A%20%7B%22nodeType%22%3A%20%22void%22%2C%20%22type%22%3A%20%22invalid%22%7D%2C%20%22J84TJF51CVQ5Q7%22%3A%20%7B%22nodeType%22%3A%20%22output%22%2C%20%22type%22%3A%20%22string%22%2C%20%22fromOp%22%3A%20%7B%22name%22%3A%20%22pick%22%2C%20%22inputs%22%3A%20%7B%22obj%22%3A%20%7B%22nodeType%22%3A%20%22var%22%2C%20%22type%22%3A%20%7B%22type%22%3A%20%22typedDict%22%2C%20%22propertyTypes%22%3A%20%7B%22group%22%3A%20%22string%22%2C%20%22run%22%3A%20%22string%22%2C%20%22step%22%3A%20%22int%22%2C%20%22acc%22%3A%20%22float%22%7D%7D%2C%20%22varName%22%3A%20%22row%22%7D%2C%20%22key%22%3A%20%7B%22nodeType%22%3A%20%22const%22%2C%20%22type%22%3A%20%7B%22type%22%3A%20%22const%22%2C%20%22valType%22%3A%20%22string%22%2C%20%22val%22%3A%20%22run%22%7D%2C%20%22val%22%3A%20%22run%22%7D%7D%7D%7D%2C%20%22ESW8QRISBTPZMR%22%3A%20%7B%22nodeType%22%3A%20%22void%22%2C%20%22type%22%3A%20%22invalid%22%7D%7D%2C%20%22order%22%3A%20%5B%22RNCIRXCHNFB3YK%22%2C%20%2238ZLGOZ64LKM4C%22%2C%20%227K1B4H9PGPOJCK%22%2C%20%22J84TJF51CVQ5Q7%22%2C%20%22ESW8QRISBTPZMR%22%5D%2C%20%22groupBy%22%3A%20%5B%5D%2C%20%22sort%22%3A%20%5B%5D%2C%20%22pageSize%22%3A%2010%2C%20%22page%22%3A%200%7D%2C%20%22dims%22%3A%20%7B%22x%22%3A%20%22RNCIRXCHNFB3YK%22%2C%20%22y%22%3A%20%2238ZLGOZ64LKM4C%22%2C%20%22color%22%3A%20%227K1B4H9PGPOJCK%22%2C%20%22label%22%3A%20%22J84TJF51CVQ5Q7%22%2C%20%22tooltip%22%3A%20%22ESW8QRISBTPZMR%22%7D%2C%20%22mark%22%3A%20null%2C%20%22axisSettings%22%3A%20%7B%22x%22%3A%20%7B%7D%2C%20%22y%22%3A%20%7B%7D%7D%2C%20%22legendSettings%22%3A%20%7B%7D%7D\"\n",
       "            frameborder=\"0\"\n",
       "            allowfullscreen\n",
       "            \n",
       "        ></iframe>\n",
       "        "
      ],
      "text/plain": [
       "<IPython.lib.display.IFrame at 0x13396da90>"
      ]
     },
     "metadata": {},
     "output_type": "display_data"
    }
   ],
   "source": [
    "# PanelPlot supports multiple Y axes. Create a table with one row per series, with lists of x and y values.\n",
    "data = []\n",
    "for run in ['a1', 'a2', 'b1', 'b2', 'b3', 'c1']:\n",
    "    for x in range(100):\n",
    "        data.append({\n",
    "            'group': run[0],\n",
    "            'run': run,\n",
    "            'step': x,\n",
    "            'acc': random.random(),\n",
    "        })\n",
    "        \n",
    "plot = weave.panels.Plot(data)\n",
    "plot.set_x(lambda row: row['step'])\n",
    "plot.set_y(lambda row: row['acc'])\n",
    "plot.set_label(lambda row: row['run'])\n",
    "weave.show(plot)"
   ]
  },
  {
   "cell_type": "code",
   "execution_count": null,
   "id": "3d97c0fd",
   "metadata": {},
   "outputs": [],
   "source": [
    "# PanelPlot supports multiple Y axes. Create a table with one row per series, with lists of x and y values.\n",
    "data = []\n",
    "xs = [i / 1000.0 for i in range(0, 1000)]\n",
    "for series in range(3):\n",
    "  data.append({\n",
    "      'key': 'y%s' % series,\n",
    "      'x': xs,\n",
    "      'y': [math.sin(10 * x / (series+1)) for x in xs]\n",
    "  })\n",
    "plot = weave.panels.Plot(data)\n",
    "plot.set_x(lambda row: row['x'])\n",
    "plot.set_y(lambda row: row['y'])\n",
    "plot.set_label(lambda row: row['key'])\n",
    "weave.show(plot)"
   ]
  },
  {
   "cell_type": "code",
   "execution_count": 7,
   "id": "00fdefb5",
   "metadata": {},
   "outputs": [
    {
     "data": {
      "text/html": [
       "\n",
       "        <iframe\n",
       "            width=\"100%\"\n",
       "            height=\"400px\"\n",
       "            src=\"http://localhost:3000/index.html?fullScreen&expNode=%7B%22nodeType%22%3A%20%22output%22%2C%20%22type%22%3A%20%7B%22type%22%3A%20%22list%22%2C%20%22objectType%22%3A%20%7B%22type%22%3A%20%22typedDict%22%2C%20%22propertyTypes%22%3A%20%7B%22key%22%3A%20%22string%22%2C%20%22x%22%3A%20%22float%22%2C%20%22y%22%3A%20%22float%22%7D%7D%7D%2C%20%22fromOp%22%3A%20%7B%22name%22%3A%20%22get%22%2C%20%22inputs%22%3A%20%7B%22uri%22%3A%20%7B%22nodeType%22%3A%20%22const%22%2C%20%22type%22%3A%20%7B%22type%22%3A%20%22const%22%2C%20%22valType%22%3A%20%22string%22%2C%20%22val%22%3A%20%22list-obj/7ebfa2d452e041bcbc67144781c22970%22%7D%2C%20%22val%22%3A%20%22list-obj/7ebfa2d452e041bcbc67144781c22970%22%7D%7D%7D%7D&panelId=plot&panelConfig=%7B%22table%22%3A%20%7B%22autoColumns%22%3A%20false%2C%20%22columns%22%3A%20%7B%220WNFSL0PYAKE5L%22%3A%20%7B%22panelId%22%3A%20%22%22%2C%20%22panelConfig%22%3A%20null%7D%2C%20%226XFOS8944WFIHK%22%3A%20%7B%22panelId%22%3A%20%22%22%2C%20%22panelConfig%22%3A%20null%7D%2C%20%222YKAVJMPQZN5CH%22%3A%20%7B%22panelId%22%3A%20%22%22%2C%20%22panelConfig%22%3A%20null%7D%2C%20%223ZFTDUEH31O42W%22%3A%20%7B%22panelId%22%3A%20%22%22%2C%20%22panelConfig%22%3A%20null%7D%2C%20%22WF8Q183B737AKO%22%3A%20%7B%22panelId%22%3A%20%22%22%2C%20%22panelConfig%22%3A%20null%7D%7D%2C%20%22preFilterFunction%22%3A%20%7B%22nodeType%22%3A%20%22void%22%2C%20%22type%22%3A%20%22invalid%22%7D%2C%20%22columnNames%22%3A%20%7B%220WNFSL0PYAKE5L%22%3A%20%22%22%2C%20%226XFOS8944WFIHK%22%3A%20%22%22%2C%20%222YKAVJMPQZN5CH%22%3A%20%22%22%2C%20%223ZFTDUEH31O42W%22%3A%20%22%22%2C%20%22WF8Q183B737AKO%22%3A%20%22%22%7D%2C%20%22columnSelectFunctions%22%3A%20%7B%220WNFSL0PYAKE5L%22%3A%20%7B%22nodeType%22%3A%20%22output%22%2C%20%22type%22%3A%20%22float%22%2C%20%22fromOp%22%3A%20%7B%22name%22%3A%20%22pick%22%2C%20%22inputs%22%3A%20%7B%22obj%22%3A%20%7B%22nodeType%22%3A%20%22var%22%2C%20%22type%22%3A%20%7B%22type%22%3A%20%22typedDict%22%2C%20%22propertyTypes%22%3A%20%7B%22key%22%3A%20%22string%22%2C%20%22x%22%3A%20%22float%22%2C%20%22y%22%3A%20%22float%22%7D%7D%2C%20%22varName%22%3A%20%22row%22%7D%2C%20%22key%22%3A%20%7B%22nodeType%22%3A%20%22const%22%2C%20%22type%22%3A%20%7B%22type%22%3A%20%22const%22%2C%20%22valType%22%3A%20%22string%22%2C%20%22val%22%3A%20%22x%22%7D%2C%20%22val%22%3A%20%22x%22%7D%7D%7D%7D%2C%20%226XFOS8944WFIHK%22%3A%20%7B%22nodeType%22%3A%20%22output%22%2C%20%22type%22%3A%20%22float%22%2C%20%22fromOp%22%3A%20%7B%22name%22%3A%20%22pick%22%2C%20%22inputs%22%3A%20%7B%22obj%22%3A%20%7B%22nodeType%22%3A%20%22var%22%2C%20%22type%22%3A%20%7B%22type%22%3A%20%22typedDict%22%2C%20%22propertyTypes%22%3A%20%7B%22key%22%3A%20%22string%22%2C%20%22x%22%3A%20%22float%22%2C%20%22y%22%3A%20%22float%22%7D%7D%2C%20%22varName%22%3A%20%22row%22%7D%2C%20%22key%22%3A%20%7B%22nodeType%22%3A%20%22const%22%2C%20%22type%22%3A%20%7B%22type%22%3A%20%22const%22%2C%20%22valType%22%3A%20%22string%22%2C%20%22val%22%3A%20%22y%22%7D%2C%20%22val%22%3A%20%22y%22%7D%7D%7D%7D%2C%20%222YKAVJMPQZN5CH%22%3A%20%7B%22nodeType%22%3A%20%22void%22%2C%20%22type%22%3A%20%22invalid%22%7D%2C%20%223ZFTDUEH31O42W%22%3A%20%7B%22nodeType%22%3A%20%22output%22%2C%20%22type%22%3A%20%22string%22%2C%20%22fromOp%22%3A%20%7B%22name%22%3A%20%22pick%22%2C%20%22inputs%22%3A%20%7B%22obj%22%3A%20%7B%22nodeType%22%3A%20%22var%22%2C%20%22type%22%3A%20%7B%22type%22%3A%20%22typedDict%22%2C%20%22propertyTypes%22%3A%20%7B%22key%22%3A%20%22string%22%2C%20%22x%22%3A%20%22float%22%2C%20%22y%22%3A%20%22float%22%7D%7D%2C%20%22varName%22%3A%20%22row%22%7D%2C%20%22key%22%3A%20%7B%22nodeType%22%3A%20%22const%22%2C%20%22type%22%3A%20%7B%22type%22%3A%20%22const%22%2C%20%22valType%22%3A%20%22string%22%2C%20%22val%22%3A%20%22key%22%7D%2C%20%22val%22%3A%20%22key%22%7D%7D%7D%7D%2C%20%22WF8Q183B737AKO%22%3A%20%7B%22nodeType%22%3A%20%22void%22%2C%20%22type%22%3A%20%22invalid%22%7D%7D%2C%20%22order%22%3A%20%5B%220WNFSL0PYAKE5L%22%2C%20%226XFOS8944WFIHK%22%2C%20%222YKAVJMPQZN5CH%22%2C%20%223ZFTDUEH31O42W%22%2C%20%22WF8Q183B737AKO%22%5D%2C%20%22groupBy%22%3A%20%5B%5D%2C%20%22sort%22%3A%20%5B%5D%2C%20%22pageSize%22%3A%2010%2C%20%22page%22%3A%200%7D%2C%20%22dims%22%3A%20%7B%22x%22%3A%20%220WNFSL0PYAKE5L%22%2C%20%22y%22%3A%20%226XFOS8944WFIHK%22%2C%20%22color%22%3A%20%222YKAVJMPQZN5CH%22%2C%20%22label%22%3A%20%223ZFTDUEH31O42W%22%2C%20%22tooltip%22%3A%20%22WF8Q183B737AKO%22%7D%2C%20%22mark%22%3A%20%22line%22%2C%20%22axisSettings%22%3A%20%7B%22x%22%3A%20%7B%7D%2C%20%22y%22%3A%20%7B%7D%7D%2C%20%22legendSettings%22%3A%20%7B%7D%7D\"\n",
       "            frameborder=\"0\"\n",
       "            allowfullscreen\n",
       "            \n",
       "        ></iframe>\n",
       "        "
      ],
      "text/plain": [
       "<IPython.lib.display.IFrame at 0x132d30610>"
      ]
     },
     "metadata": {},
     "output_type": "display_data"
    }
   ],
   "source": [
    "# Or you can unnest the data yourself (one row per point)\n",
    "data = []\n",
    "xs = [i / 1000.0 for i in range(0, 1000)]\n",
    "for series in range(3):\n",
    "    for x in xs:\n",
    "        data.append({\n",
    "            'key': 'y%s' % series,\n",
    "            'x': x,\n",
    "            'y': math.sin(10 * x / (series+1))\n",
    "        })\n",
    "plot = weave.panels.Plot(data)\n",
    "plot.set_x(lambda row: row['x'])\n",
    "plot.set_y(lambda row: row['y'])\n",
    "plot.set_label(lambda row: row['key'])\n",
    "plot.set_mark('line')\n",
    "weave.show(plot)"
   ]
  },
  {
   "cell_type": "code",
   "execution_count": 2,
   "id": "5f9b0741",
   "metadata": {},
   "outputs": [
    {
     "data": {
      "text/html": [
       "\n",
       "        <iframe\n",
       "            width=\"100%\"\n",
       "            height=\"400px\"\n",
       "            src=\"http://localhost:3000/index.html?fullScreen&expNode=%7B%22nodeType%22%3A%20%22output%22%2C%20%22type%22%3A%20%7B%22type%22%3A%20%22list%22%2C%20%22objectType%22%3A%20%7B%22type%22%3A%20%22typedDict%22%2C%20%22propertyTypes%22%3A%20%7B%22x%22%3A%20%22float%22%2C%20%22series%22%3A%20%22string%22%2C%20%22y%22%3A%20%22float%22%7D%7D%7D%2C%20%22fromOp%22%3A%20%7B%22name%22%3A%20%22get%22%2C%20%22inputs%22%3A%20%7B%22uri%22%3A%20%7B%22nodeType%22%3A%20%22const%22%2C%20%22type%22%3A%20%7B%22type%22%3A%20%22const%22%2C%20%22valType%22%3A%20%22string%22%2C%20%22val%22%3A%20%22list-obj/8ab522e250ddb3f6ea269a04352fa0a6%22%7D%2C%20%22val%22%3A%20%22list-obj/8ab522e250ddb3f6ea269a04352fa0a6%22%7D%7D%7D%7D&panelId=plot&panelConfig=%7B%22table%22%3A%20%7B%22autoColumns%22%3A%20false%2C%20%22columns%22%3A%20%7B%22LNG6SHAHYGZKKS%22%3A%20%7B%22panelId%22%3A%20%22%22%2C%20%22panelConfig%22%3A%20null%7D%2C%20%220IIQK6NGE7O00Y%22%3A%20%7B%22panelId%22%3A%20%22%22%2C%20%22panelConfig%22%3A%20null%7D%2C%20%22LQZP3XO2DCBAA0%22%3A%20%7B%22panelId%22%3A%20%22%22%2C%20%22panelConfig%22%3A%20null%7D%2C%20%22L8OYYLT7WAB7WU%22%3A%20%7B%22panelId%22%3A%20%22%22%2C%20%22panelConfig%22%3A%20null%7D%2C%20%22NPXXF6SCGVQR7Y%22%3A%20%7B%22panelId%22%3A%20%22%22%2C%20%22panelConfig%22%3A%20null%7D%7D%2C%20%22preFilterFunction%22%3A%20%7B%22nodeType%22%3A%20%22void%22%2C%20%22type%22%3A%20%22invalid%22%7D%2C%20%22columnNames%22%3A%20%7B%22LNG6SHAHYGZKKS%22%3A%20%22%22%2C%20%220IIQK6NGE7O00Y%22%3A%20%22%22%2C%20%22LQZP3XO2DCBAA0%22%3A%20%22%22%2C%20%22L8OYYLT7WAB7WU%22%3A%20%22%22%2C%20%22NPXXF6SCGVQR7Y%22%3A%20%22%22%7D%2C%20%22columnSelectFunctions%22%3A%20%7B%22LNG6SHAHYGZKKS%22%3A%20%7B%22nodeType%22%3A%20%22output%22%2C%20%22type%22%3A%20%22float%22%2C%20%22fromOp%22%3A%20%7B%22name%22%3A%20%22pick%22%2C%20%22inputs%22%3A%20%7B%22obj%22%3A%20%7B%22nodeType%22%3A%20%22var%22%2C%20%22type%22%3A%20%7B%22type%22%3A%20%22typedDict%22%2C%20%22propertyTypes%22%3A%20%7B%22x%22%3A%20%22float%22%2C%20%22series%22%3A%20%22string%22%2C%20%22y%22%3A%20%22float%22%7D%7D%2C%20%22varName%22%3A%20%22row%22%7D%2C%20%22key%22%3A%20%7B%22nodeType%22%3A%20%22const%22%2C%20%22type%22%3A%20%7B%22type%22%3A%20%22const%22%2C%20%22valType%22%3A%20%22string%22%2C%20%22val%22%3A%20%22x%22%7D%2C%20%22val%22%3A%20%22x%22%7D%7D%7D%7D%2C%20%220IIQK6NGE7O00Y%22%3A%20%7B%22nodeType%22%3A%20%22output%22%2C%20%22type%22%3A%20%22float%22%2C%20%22fromOp%22%3A%20%7B%22name%22%3A%20%22pick%22%2C%20%22inputs%22%3A%20%7B%22obj%22%3A%20%7B%22nodeType%22%3A%20%22var%22%2C%20%22type%22%3A%20%7B%22type%22%3A%20%22typedDict%22%2C%20%22propertyTypes%22%3A%20%7B%22x%22%3A%20%22float%22%2C%20%22series%22%3A%20%22string%22%2C%20%22y%22%3A%20%22float%22%7D%7D%2C%20%22varName%22%3A%20%22row%22%7D%2C%20%22key%22%3A%20%7B%22nodeType%22%3A%20%22const%22%2C%20%22type%22%3A%20%7B%22type%22%3A%20%22const%22%2C%20%22valType%22%3A%20%22string%22%2C%20%22val%22%3A%20%22y%22%7D%2C%20%22val%22%3A%20%22y%22%7D%7D%7D%7D%2C%20%22LQZP3XO2DCBAA0%22%3A%20%7B%22nodeType%22%3A%20%22void%22%2C%20%22type%22%3A%20%22invalid%22%7D%2C%20%22L8OYYLT7WAB7WU%22%3A%20%7B%22nodeType%22%3A%20%22output%22%2C%20%22type%22%3A%20%22string%22%2C%20%22fromOp%22%3A%20%7B%22name%22%3A%20%22pick%22%2C%20%22inputs%22%3A%20%7B%22obj%22%3A%20%7B%22nodeType%22%3A%20%22var%22%2C%20%22type%22%3A%20%7B%22type%22%3A%20%22typedDict%22%2C%20%22propertyTypes%22%3A%20%7B%22x%22%3A%20%22float%22%2C%20%22series%22%3A%20%22string%22%2C%20%22y%22%3A%20%22float%22%7D%7D%2C%20%22varName%22%3A%20%22row%22%7D%2C%20%22key%22%3A%20%7B%22nodeType%22%3A%20%22const%22%2C%20%22type%22%3A%20%7B%22type%22%3A%20%22const%22%2C%20%22valType%22%3A%20%22string%22%2C%20%22val%22%3A%20%22series%22%7D%2C%20%22val%22%3A%20%22series%22%7D%7D%7D%7D%2C%20%22NPXXF6SCGVQR7Y%22%3A%20%7B%22nodeType%22%3A%20%22void%22%2C%20%22type%22%3A%20%22invalid%22%7D%7D%2C%20%22order%22%3A%20%5B%22LNG6SHAHYGZKKS%22%2C%20%220IIQK6NGE7O00Y%22%2C%20%22LQZP3XO2DCBAA0%22%2C%20%22L8OYYLT7WAB7WU%22%2C%20%22NPXXF6SCGVQR7Y%22%5D%2C%20%22groupBy%22%3A%20%5B%5D%2C%20%22sort%22%3A%20%5B%5D%2C%20%22pageSize%22%3A%2010%2C%20%22page%22%3A%200%7D%2C%20%22dims%22%3A%20%7B%22x%22%3A%20%22LNG6SHAHYGZKKS%22%2C%20%22y%22%3A%20%220IIQK6NGE7O00Y%22%2C%20%22color%22%3A%20%22LQZP3XO2DCBAA0%22%2C%20%22label%22%3A%20%22L8OYYLT7WAB7WU%22%2C%20%22tooltip%22%3A%20%22NPXXF6SCGVQR7Y%22%7D%2C%20%22mark%22%3A%20%22line%22%2C%20%22axisSettings%22%3A%20%7B%22x%22%3A%20%7B%7D%2C%20%22y%22%3A%20%7B%7D%7D%2C%20%22legendSettings%22%3A%20%7B%7D%7D\"\n",
       "            frameborder=\"0\"\n",
       "            allowfullscreen\n",
       "            \n",
       "        ></iframe>\n",
       "        "
      ],
      "text/plain": [
       "<IPython.lib.display.IFrame at 0x132ddfa90>"
      ]
     },
     "metadata": {},
     "output_type": "display_data"
    }
   ],
   "source": [
    "# If your series are column-oriented, you can use df.melt to orient the data to work with PanelPlot\n",
    "\n",
    "import pandas as pd\n",
    "df = pd.DataFrame()\n",
    "df['x'] = [i / 1000.0 for i in range(0, 1000)]\n",
    "df['y1'] = df['x'].map(lambda x: math.sin(10 * x / 1))\n",
    "df['y2'] = df['x'].map(lambda x: math.sin(10 * x / 2))\n",
    "df['y3'] = df['x'].map(lambda x: math.sin(10 * x / 3))\n",
    "\n",
    "# df.melt converts to a table with three columns: x, series, y\n",
    "df = df.melt(id_vars=['x'], value_vars=['y1', 'y2', 'y3'], var_name='series', value_name='y')\n",
    "\n",
    "multiple_y = df.to_dict('records')\n",
    "plot = weave.panels.Plot(multiple_y)\n",
    "plot.set_x(lambda row: row['x'])\n",
    "plot.set_y(lambda row: row['y'])\n",
    "plot.set_label(lambda row: row['series'])\n",
    "plot.set_mark('line')\n",
    "weave.show(plot)"
   ]
  },
  {
   "cell_type": "code",
   "execution_count": 8,
   "id": "07752656",
   "metadata": {},
   "outputs": [
    {
     "data": {
      "text/html": [
       "\n",
       "        <iframe\n",
       "            width=\"100%\"\n",
       "            height=\"400px\"\n",
       "            src=\"http://localhost:3000/index.html?fullScreen&expNode=%7B%22nodeType%22%3A%20%22output%22%2C%20%22type%22%3A%20%7B%22type%22%3A%20%22list%22%2C%20%22objectType%22%3A%20%7B%22type%22%3A%20%22typedDict%22%2C%20%22propertyTypes%22%3A%20%7B%22x%22%3A%20%22float%22%2C%20%22x1%22%3A%20%22float%22%2C%20%22x2%22%3A%20%22float%22%2C%20%22x3%22%3A%20%22float%22%2C%20%22y1%22%3A%20%22float%22%2C%20%22y2%22%3A%20%22float%22%2C%20%22y3%22%3A%20%22float%22%7D%7D%7D%2C%20%22fromOp%22%3A%20%7B%22name%22%3A%20%22get%22%2C%20%22inputs%22%3A%20%7B%22uri%22%3A%20%7B%22nodeType%22%3A%20%22const%22%2C%20%22type%22%3A%20%7B%22type%22%3A%20%22const%22%2C%20%22valType%22%3A%20%22string%22%2C%20%22val%22%3A%20%22list-obj/f5eb64e41b1ecbc2fcdaad0b6db15fc0%22%7D%2C%20%22val%22%3A%20%22list-obj/f5eb64e41b1ecbc2fcdaad0b6db15fc0%22%7D%7D%7D%7D&panelId=plot&panelConfig=%7B%22table%22%3A%20%7B%22autoColumns%22%3A%20false%2C%20%22columns%22%3A%20%7B%22S3FYSSUZBKBPW3%22%3A%20%7B%22panelId%22%3A%20%22%22%2C%20%22panelConfig%22%3A%20null%7D%2C%20%22XJNJXWSPXUK75A%22%3A%20%7B%22panelId%22%3A%20%22%22%2C%20%22panelConfig%22%3A%20null%7D%2C%20%22G5AUKUVYCES4G3%22%3A%20%7B%22panelId%22%3A%20%22%22%2C%20%22panelConfig%22%3A%20null%7D%2C%20%22SPLSDWX7SEX67I%22%3A%20%7B%22panelId%22%3A%20%22%22%2C%20%22panelConfig%22%3A%20null%7D%2C%20%22JMRXXSQUCZNOJ0%22%3A%20%7B%22panelId%22%3A%20%22%22%2C%20%22panelConfig%22%3A%20null%7D%7D%2C%20%22preFilterFunction%22%3A%20%7B%22nodeType%22%3A%20%22void%22%2C%20%22type%22%3A%20%22invalid%22%7D%2C%20%22columnNames%22%3A%20%7B%22S3FYSSUZBKBPW3%22%3A%20%22%22%2C%20%22XJNJXWSPXUK75A%22%3A%20%22%22%2C%20%22G5AUKUVYCES4G3%22%3A%20%22%22%2C%20%22SPLSDWX7SEX67I%22%3A%20%22%22%2C%20%22JMRXXSQUCZNOJ0%22%3A%20%22%22%7D%2C%20%22columnSelectFunctions%22%3A%20%7B%22S3FYSSUZBKBPW3%22%3A%20%7B%22nodeType%22%3A%20%22output%22%2C%20%22type%22%3A%20%22float%22%2C%20%22fromOp%22%3A%20%7B%22name%22%3A%20%22pick%22%2C%20%22inputs%22%3A%20%7B%22obj%22%3A%20%7B%22nodeType%22%3A%20%22var%22%2C%20%22type%22%3A%20%7B%22type%22%3A%20%22typedDict%22%2C%20%22propertyTypes%22%3A%20%7B%22x%22%3A%20%22float%22%2C%20%22x1%22%3A%20%22float%22%2C%20%22x2%22%3A%20%22float%22%2C%20%22x3%22%3A%20%22float%22%2C%20%22y1%22%3A%20%22float%22%2C%20%22y2%22%3A%20%22float%22%2C%20%22y3%22%3A%20%22float%22%7D%7D%2C%20%22varName%22%3A%20%22row%22%7D%2C%20%22key%22%3A%20%7B%22nodeType%22%3A%20%22const%22%2C%20%22type%22%3A%20%7B%22type%22%3A%20%22const%22%2C%20%22valType%22%3A%20%22string%22%2C%20%22val%22%3A%20%22x%22%7D%2C%20%22val%22%3A%20%22x%22%7D%7D%7D%7D%2C%20%22XJNJXWSPXUK75A%22%3A%20%7B%22nodeType%22%3A%20%22output%22%2C%20%22type%22%3A%20%7B%22type%22%3A%20%22list%22%2C%20%22objectType%22%3A%20%22float%22%7D%2C%20%22fromOp%22%3A%20%7B%22name%22%3A%20%22list%22%2C%20%22inputs%22%3A%20%7B%22i0%22%3A%20%7B%22nodeType%22%3A%20%22output%22%2C%20%22type%22%3A%20%22float%22%2C%20%22fromOp%22%3A%20%7B%22name%22%3A%20%22pick%22%2C%20%22inputs%22%3A%20%7B%22obj%22%3A%20%7B%22nodeType%22%3A%20%22var%22%2C%20%22type%22%3A%20%7B%22type%22%3A%20%22typedDict%22%2C%20%22propertyTypes%22%3A%20%7B%22x%22%3A%20%22float%22%2C%20%22x1%22%3A%20%22float%22%2C%20%22x2%22%3A%20%22float%22%2C%20%22x3%22%3A%20%22float%22%2C%20%22y1%22%3A%20%22float%22%2C%20%22y2%22%3A%20%22float%22%2C%20%22y3%22%3A%20%22float%22%7D%7D%2C%20%22varName%22%3A%20%22row%22%7D%2C%20%22key%22%3A%20%7B%22nodeType%22%3A%20%22const%22%2C%20%22type%22%3A%20%7B%22type%22%3A%20%22const%22%2C%20%22valType%22%3A%20%22string%22%2C%20%22val%22%3A%20%22y1%22%7D%2C%20%22val%22%3A%20%22y1%22%7D%7D%7D%7D%2C%20%22i1%22%3A%20%7B%22nodeType%22%3A%20%22output%22%2C%20%22type%22%3A%20%22float%22%2C%20%22fromOp%22%3A%20%7B%22name%22%3A%20%22pick%22%2C%20%22inputs%22%3A%20%7B%22obj%22%3A%20%7B%22nodeType%22%3A%20%22var%22%2C%20%22type%22%3A%20%7B%22type%22%3A%20%22typedDict%22%2C%20%22propertyTypes%22%3A%20%7B%22x%22%3A%20%22float%22%2C%20%22x1%22%3A%20%22float%22%2C%20%22x2%22%3A%20%22float%22%2C%20%22x3%22%3A%20%22float%22%2C%20%22y1%22%3A%20%22float%22%2C%20%22y2%22%3A%20%22float%22%2C%20%22y3%22%3A%20%22float%22%7D%7D%2C%20%22varName%22%3A%20%22row%22%7D%2C%20%22key%22%3A%20%7B%22nodeType%22%3A%20%22const%22%2C%20%22type%22%3A%20%7B%22type%22%3A%20%22const%22%2C%20%22valType%22%3A%20%22string%22%2C%20%22val%22%3A%20%22y2%22%7D%2C%20%22val%22%3A%20%22y2%22%7D%7D%7D%7D%2C%20%22i2%22%3A%20%7B%22nodeType%22%3A%20%22output%22%2C%20%22type%22%3A%20%22float%22%2C%20%22fromOp%22%3A%20%7B%22name%22%3A%20%22pick%22%2C%20%22inputs%22%3A%20%7B%22obj%22%3A%20%7B%22nodeType%22%3A%20%22var%22%2C%20%22type%22%3A%20%7B%22type%22%3A%20%22typedDict%22%2C%20%22propertyTypes%22%3A%20%7B%22x%22%3A%20%22float%22%2C%20%22x1%22%3A%20%22float%22%2C%20%22x2%22%3A%20%22float%22%2C%20%22x3%22%3A%20%22float%22%2C%20%22y1%22%3A%20%22float%22%2C%20%22y2%22%3A%20%22float%22%2C%20%22y3%22%3A%20%22float%22%7D%7D%2C%20%22varName%22%3A%20%22row%22%7D%2C%20%22key%22%3A%20%7B%22nodeType%22%3A%20%22const%22%2C%20%22type%22%3A%20%7B%22type%22%3A%20%22const%22%2C%20%22valType%22%3A%20%22string%22%2C%20%22val%22%3A%20%22y3%22%7D%2C%20%22val%22%3A%20%22y3%22%7D%7D%7D%7D%7D%7D%7D%2C%20%22G5AUKUVYCES4G3%22%3A%20%7B%22nodeType%22%3A%20%22void%22%2C%20%22type%22%3A%20%22invalid%22%7D%2C%20%22SPLSDWX7SEX67I%22%3A%20%7B%22nodeType%22%3A%20%22output%22%2C%20%22type%22%3A%20%7B%22type%22%3A%20%22list%22%2C%20%22objectType%22%3A%20%22string%22%7D%2C%20%22fromOp%22%3A%20%7B%22name%22%3A%20%22list%22%2C%20%22inputs%22%3A%20%7B%22i0%22%3A%20%7B%22nodeType%22%3A%20%22const%22%2C%20%22type%22%3A%20%7B%22type%22%3A%20%22const%22%2C%20%22valType%22%3A%20%22string%22%2C%20%22val%22%3A%20%22y1%22%7D%2C%20%22val%22%3A%20%22y1%22%7D%2C%20%22i1%22%3A%20%7B%22nodeType%22%3A%20%22const%22%2C%20%22type%22%3A%20%7B%22type%22%3A%20%22const%22%2C%20%22valType%22%3A%20%22string%22%2C%20%22val%22%3A%20%22y2%22%7D%2C%20%22val%22%3A%20%22y2%22%7D%2C%20%22i2%22%3A%20%7B%22nodeType%22%3A%20%22const%22%2C%20%22type%22%3A%20%7B%22type%22%3A%20%22const%22%2C%20%22valType%22%3A%20%22string%22%2C%20%22val%22%3A%20%22y3%22%7D%2C%20%22val%22%3A%20%22y3%22%7D%7D%7D%7D%2C%20%22JMRXXSQUCZNOJ0%22%3A%20%7B%22nodeType%22%3A%20%22void%22%2C%20%22type%22%3A%20%22invalid%22%7D%7D%2C%20%22order%22%3A%20%5B%22S3FYSSUZBKBPW3%22%2C%20%22XJNJXWSPXUK75A%22%2C%20%22G5AUKUVYCES4G3%22%2C%20%22SPLSDWX7SEX67I%22%2C%20%22JMRXXSQUCZNOJ0%22%5D%2C%20%22groupBy%22%3A%20%5B%5D%2C%20%22sort%22%3A%20%5B%5D%2C%20%22pageSize%22%3A%2010%2C%20%22page%22%3A%200%7D%2C%20%22dims%22%3A%20%7B%22x%22%3A%20%22S3FYSSUZBKBPW3%22%2C%20%22y%22%3A%20%22XJNJXWSPXUK75A%22%2C%20%22color%22%3A%20%22G5AUKUVYCES4G3%22%2C%20%22label%22%3A%20%22SPLSDWX7SEX67I%22%2C%20%22tooltip%22%3A%20%22JMRXXSQUCZNOJ0%22%7D%2C%20%22mark%22%3A%20%22line%22%2C%20%22axisSettings%22%3A%20%7B%22x%22%3A%20%7B%7D%2C%20%22y%22%3A%20%7B%7D%7D%2C%20%22legendSettings%22%3A%20%7B%7D%7D\"\n",
       "            frameborder=\"0\"\n",
       "            allowfullscreen\n",
       "            \n",
       "        ></iframe>\n",
       "        "
      ],
      "text/plain": [
       "<IPython.lib.display.IFrame at 0x132dcbb20>"
      ]
     },
     "metadata": {},
     "output_type": "display_data"
    }
   ],
   "source": [
    "# Or, leave the table in columnar form, and return arrays of the values you want for each series for PanelPlot\n",
    "# x and label dimensions.\n",
    "\n",
    "# This relies on changes in this branch.\n",
    "\n",
    "# Note ExpressionEditor doesn't render list literals so it looks weird in the panel config. And we'll probably want\n",
    "# to make the config editor more helpful, so that you choose labels along-side each y axis choice, or so that\n",
    "# if you return a dict for Y we use the keys as the labels.\n",
    "\n",
    "import pandas as pd\n",
    "df = pd.DataFrame()\n",
    "df['x'] = [i / 100.0 for i in range(0, 100)]\n",
    "df['x1'] = [i / 100.0 for i in range(0, 100)]\n",
    "df['x2'] = [2 * i / 100.0 for i in range(0, 100)]\n",
    "df['x3'] = [3 * i / 100.0 for i in range(0, 100)]\n",
    "df['y1'] = df['x'].map(lambda x: math.sin(10 * x / 1))\n",
    "df['y2'] = df['x'].map(lambda x: math.sin(10 * x / 2))\n",
    "df['y3'] = df['x'].map(lambda x: math.sin(10 * x / 3))\n",
    "multiple_y = df.to_dict('records')\n",
    "\n",
    "plot = weave.panels.Plot(multiple_y)\n",
    "plot.set_x(lambda row: row['x'])\n",
    "\n",
    "# Return lists for y and label\n",
    "plot.set_y(lambda row: [row['y1'], row['y2'], row['y3']])\n",
    "plot.set_label(lambda row: ['y1', 'y2', 'y3'])\n",
    "plot.set_mark('line')\n",
    "weave.show(plot)"
   ]
  }
 ],
 "metadata": {
  "kernelspec": {
   "display_name": "Python 3 (ipykernel)",
   "language": "python",
   "name": "python3"
  },
  "language_info": {
   "codemirror_mode": {
    "name": "ipython",
    "version": 3
   },
   "file_extension": ".py",
   "mimetype": "text/x-python",
   "name": "python",
   "nbconvert_exporter": "python",
   "pygments_lexer": "ipython3",
   "version": "3.9.7"
  }
 },
 "nbformat": 4,
 "nbformat_minor": 5
}
