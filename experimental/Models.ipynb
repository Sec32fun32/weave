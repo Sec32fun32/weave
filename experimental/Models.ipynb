{
 "cells": [
  {
   "cell_type": "code",
   "execution_count": 4,
   "id": "0c235474",
   "metadata": {},
   "outputs": [],
   "source": [
    "import weave\n",
    "import xgboost\n",
    "from weave.ecosystem import shap\n",
    "#weave.use_frontend_devmode()"
   ]
  },
  {
   "cell_type": "code",
   "execution_count": 5,
   "id": "63a29a5f",
   "metadata": {},
   "outputs": [],
   "source": [
    "dataset = weave.use(shap.ca_housing_dataset(1))\n",
    "dataset_arrow = weave.ops.dataframe_to_arrow(dataset)"
   ]
  },
  {
   "cell_type": "code",
   "execution_count": 7,
   "id": "c5633045",
   "metadata": {},
   "outputs": [
    {
     "data": {
      "text/html": [
       "\n",
       "        <iframe\n",
       "            width=\"100%\"\n",
       "            height=\"400px\"\n",
       "            src=\"http://localhost:3000/__frontend/weave_jupyter?fullScreen&expNode=%7B%22nodeType%22%3A%20%22output%22%2C%20%22type%22%3A%20%7B%22type%22%3A%20%22ArrowWeaveList%22%2C%20%22objectType%22%3A%20%7B%22type%22%3A%20%22typedDict%22%2C%20%22propertyTypes%22%3A%20%7B%22MedInc%22%3A%20%22float%22%2C%20%22HouseAge%22%3A%20%22float%22%2C%20%22AveRooms%22%3A%20%22float%22%2C%20%22AveBedrms%22%3A%20%22float%22%2C%20%22Population%22%3A%20%22float%22%2C%20%22AveOccup%22%3A%20%22float%22%2C%20%22Latitude%22%3A%20%22float%22%2C%20%22Longitude%22%3A%20%22float%22%2C%20%22MedHouseVal%22%3A%20%22float%22%7D%7D%7D%2C%20%22fromOp%22%3A%20%7B%22name%22%3A%20%22get%22%2C%20%22inputs%22%3A%20%7B%22uri%22%3A%20%7B%22nodeType%22%3A%20%22const%22%2C%20%22type%22%3A%20%7B%22type%22%3A%20%22const%22%2C%20%22valType%22%3A%20%22string%22%2C%20%22val%22%3A%20%22local-artifact%3A///tmp/local-artifacts/dataset_arrow/80c24edbe8d637d9a044a4d70489b38a%22%7D%2C%20%22val%22%3A%20%22local-artifact%3A///tmp/local-artifacts/dataset_arrow/80c24edbe8d637d9a044a4d70489b38a%22%7D%7D%7D%7D\"\n",
       "            frameborder=\"0\"\n",
       "            allowfullscreen\n",
       "            \n",
       "        ></iframe>\n",
       "        "
      ],
      "text/plain": [
       "<IPython.lib.display.IFrame at 0x15367fd90>"
      ]
     },
     "metadata": {},
     "output_type": "display_data"
    }
   ],
   "source": [
    "weave.show(dataset_arrow)"
   ]
  },
  {
   "cell_type": "code",
   "execution_count": null,
   "id": "b6edbb55",
   "metadata": {},
   "outputs": [],
   "source": [
    "weave.publish(dataset_arrow, 'my-dataset-transform')"
   ]
  },
  {
   "cell_type": "code",
   "execution_count": null,
   "id": "dcccca4b",
   "metadata": {
    "scrolled": false
   },
   "outputs": [],
   "source": [
    "weave.show(x)"
   ]
  },
  {
   "cell_type": "code",
   "execution_count": null,
   "id": "40f37c5a",
   "metadata": {},
   "outputs": [],
   "source": [
    "weave.ops.get('wandb-artifact://shawn/weave_ops/my-dataset-transform:8c478776a5e01c3c051d')"
   ]
  },
  {
   "cell_type": "code",
   "execution_count": null,
   "id": "7a0d6be5",
   "metadata": {},
   "outputs": [],
   "source": [
    "@weave.op()\n",
    "def some_plotly_op():\n",
    "    return Plotly.plot(whatever)\n",
    "\n",
    "weave.name(some_plotly_op(), name='my-cool-plot')"
   ]
  }
 ],
 "metadata": {
  "kernelspec": {
   "display_name": "Python 3 (ipykernel)",
   "language": "python",
   "name": "python3"
  },
  "language_info": {
   "codemirror_mode": {
    "name": "ipython",
    "version": 3
   },
   "file_extension": ".py",
   "mimetype": "text/x-python",
   "name": "python",
   "nbconvert_exporter": "python",
   "pygments_lexer": "ipython3",
   "version": "3.9.7"
  }
 },
 "nbformat": 4,
 "nbformat_minor": 5
}
