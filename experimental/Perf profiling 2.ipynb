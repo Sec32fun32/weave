{
 "cells": [
  {
   "cell_type": "code",
   "execution_count": null,
   "id": "6a7445f2",
   "metadata": {},
   "outputs": [],
   "source": [
    "%load_ext snakeviz\n",
    "%load_ext tuna\n",
    "import weave\n",
    "import typing\n",
    "from weave.tests import test_run_segment\n",
    "from weave.weave_internal import define_fn\n",
    "weave.capture_weave_server_logs()"
   ]
  },
  {
   "cell_type": "code",
   "execution_count": null,
   "id": "2bb3dcc4",
   "metadata": {},
   "outputs": [],
   "source": [
    "!rm -rf /tmp/local-artifacts\n",
    "last_segment = test_run_segment.create_experiment(1000000, 10)"
   ]
  },
  {
   "cell_type": "code",
   "execution_count": null,
   "id": "5c9d14c3",
   "metadata": {},
   "outputs": [],
   "source": [
    "experiment = last_segment.experiment()\n",
    "\n",
    "group_key_name = \"steppybin(pybinsequal (list (2, 500) , 2) )\"\n",
    "\n",
    "grouped = experiment.groupby(lambda row:\n",
    "     weave.ops.dict_(**{group_key_name: \n",
    "         weave.ops.number_bin(\n",
    "             in_=row['step'],\n",
    "             bin_fn=weave.ops.numbers_bins_equal(\n",
    "               weave.ops.list_.make_list(\n",
    "                   **{\"0\": 2, \"1\": 500}),\n",
    "               2))}))\n",
    "\n",
    "def map_fn(row):\n",
    "    return row.key().merge(\n",
    "        weave.ops.dict_(\n",
    "            **{\n",
    "                \"100\": 100,\n",
    "#                 \"metric0 min\": row.pick('metric0').min(),\n",
    "#                 \"metric0 max\": row.pick('metric0').max(),\n",
    "                \"metric0 avg\": row.pick(\"metric0\").avg(),\n",
    "                \"circle\": \"circle\",\n",
    "            }\n",
    "        )\n",
    "    )\n",
    "mapped = grouped.map(map_fn)\n",
    "    \n",
    "    \n",
    "# mapped = grouped.map(lambda row:\n",
    "#                     row.key().merge(\n",
    "#                         weave.ops.dict_(\n",
    "#                             **{\n",
    "#                                 \"100\": 100,\n",
    "#                                 #\"step\": row.pick(\"step\"),\n",
    "#                                 \"metric0\": row.pick(\"metric0\").avg(),\n",
    "#                                 #\"string_col\": row.pick(\"string_col\"),\n",
    "#                                 \"circle\": \"circle\",\n",
    "#                             }\n",
    "#                         )\n",
    "#                     ))\n",
    "\n",
    "#unnested = weave.ops.list_.unnest(mapped)\n",
    "unnested = mapped.unnest()\n",
    "\n",
    "listed = weave.ops.list_.make_list(**{\"0\": unnested})"
   ]
  },
  {
   "cell_type": "code",
   "execution_count": null,
   "id": "8d6b197d",
   "metadata": {
    "scrolled": false
   },
   "outputs": [],
   "source": [
    "#weave.use(listed)"
   ]
  },
  {
   "cell_type": "code",
   "execution_count": null,
   "id": "6515d097",
   "metadata": {
    "scrolled": false
   },
   "outputs": [],
   "source": [
    "import cProfile\n",
    "cProfile.run(\"weave.use(listed)\", 'profile_stats')"
   ]
  },
  {
   "cell_type": "code",
   "execution_count": null,
   "id": "2fde63d6",
   "metadata": {
    "scrolled": false
   },
   "outputs": [],
   "source": [
    "# from pstats import SortKey\n",
    "# import pstats\n",
    "# p = pstats.Stats('profile_stats')\n",
    "# p.strip_dirs().sort_stats(SortKey.CUMULATIVE).print_stats()\n",
    "#p.strip_dirs().sort_stats(SortKey.TIME).print_stats()\n",
    "#p.strip_dirs().sort_stats(SortKey.CUMULATIVE).print_callers('__iter__')"
   ]
  }
 ],
 "metadata": {
  "kernelspec": {
   "display_name": "Python 3 (ipykernel)",
   "language": "python",
   "name": "python3"
  },
  "language_info": {
   "codemirror_mode": {
    "name": "ipython",
    "version": 3
   },
   "file_extension": ".py",
   "mimetype": "text/x-python",
   "name": "python",
   "nbconvert_exporter": "python",
   "pygments_lexer": "ipython3",
   "version": "3.9.7"
  }
 },
 "nbformat": 4,
 "nbformat_minor": 5
}
