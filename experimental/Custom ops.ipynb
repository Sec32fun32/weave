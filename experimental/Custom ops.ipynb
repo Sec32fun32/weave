{
 "cells": [
  {
   "cell_type": "code",
   "execution_count": 1,
   "id": "f6c524b9",
   "metadata": {},
   "outputs": [],
   "source": [
    "import weave\n",
    "import math\n",
    "weave.use_frontend_devmode()"
   ]
  },
  {
   "cell_type": "code",
   "execution_count": null,
   "id": "a257651b",
   "metadata": {},
   "outputs": [],
   "source": [
    "# Create our own useful op.\n",
    "\n",
    "import math\n",
    "\n",
    "@weave.op()\n",
    "def my_func(x: float) -> float:\n",
    "    return math.sin(x / 0.2)"
   ]
  },
  {
   "cell_type": "code",
   "execution_count": null,
   "id": "89b6c0db",
   "metadata": {},
   "outputs": [],
   "source": [
    "# Now show it.\n",
    "# Weave tries to guess the best way to show your data. Its first guess is not very good yet, so let's teach it!\n",
    "# Click the gear icon to configure the Panel\n",
    "# Try \"List of: Number\". You can page left to right using the controls that the bottom.\n",
    "# Switch to \"Plot\"\n",
    "# Pick \"row\" as the x value (todo this should be called \"i\" or \"item\" instead of row)\n",
    "# Pick \"row * row\" as the y value.\n",
    "# Cool, we made a curve!\n",
    "\n",
    "\n",
    "x = [i / 1000.0 for i in range(0, 1000)]\n",
    "\n",
    "plot = weave.panels.Plot(x)\n",
    "plot.set_x(lambda row: row)\n",
    "plot.set_y(lambda row: my_func(row))\n",
    "weave.show(plot)"
   ]
  },
  {
   "cell_type": "code",
   "execution_count": 7,
   "id": "3d97c0fd",
   "metadata": {},
   "outputs": [
    {
     "data": {
      "text/html": [
       "\n",
       "        <iframe\n",
       "            width=\"100%\"\n",
       "            height=\"400px\"\n",
       "            src=\"http://localhost:3000/index.html?fullScreen&expNode=%7B%22nodeType%22%3A%20%22output%22%2C%20%22type%22%3A%20%7B%22type%22%3A%20%22list%22%2C%20%22objectType%22%3A%20%7B%22type%22%3A%20%22typedDict%22%2C%20%22propertyTypes%22%3A%20%7B%22id%22%3A%20%22string%22%2C%20%22x%22%3A%20%7B%22type%22%3A%20%22list%22%2C%20%22objectType%22%3A%20%22float%22%7D%2C%20%22y%22%3A%20%7B%22type%22%3A%20%22list%22%2C%20%22objectType%22%3A%20%22float%22%7D%7D%7D%7D%2C%20%22fromOp%22%3A%20%7B%22name%22%3A%20%22get%22%2C%20%22inputs%22%3A%20%7B%22uri%22%3A%20%7B%22nodeType%22%3A%20%22const%22%2C%20%22type%22%3A%20%7B%22type%22%3A%20%22const%22%2C%20%22valType%22%3A%20%22string%22%2C%20%22val%22%3A%20%22list-obj/0adef353a08fb81b250c8ac4efcfd214%22%7D%2C%20%22val%22%3A%20%22list-obj/0adef353a08fb81b250c8ac4efcfd214%22%7D%7D%7D%7D&panelId=plot&panelConfig=%7B%22table%22%3A%20%7B%22autoColumns%22%3A%20false%2C%20%22columns%22%3A%20%7B%2206HEI96KZOTRYJ%22%3A%20%7B%22panelId%22%3A%20%22%22%2C%20%22panelConfig%22%3A%20null%7D%2C%20%22XL3CQFEJRHWUF3%22%3A%20%7B%22panelId%22%3A%20%22%22%2C%20%22panelConfig%22%3A%20null%7D%2C%20%22YODMMR8OTOYSND%22%3A%20%7B%22panelId%22%3A%20%22%22%2C%20%22panelConfig%22%3A%20null%7D%2C%20%22XNWKI1HRRU3HBM%22%3A%20%7B%22panelId%22%3A%20%22%22%2C%20%22panelConfig%22%3A%20null%7D%2C%20%2258SQX2CG3H25P3%22%3A%20%7B%22panelId%22%3A%20%22%22%2C%20%22panelConfig%22%3A%20null%7D%7D%2C%20%22preFilterFunction%22%3A%20%7B%22nodeType%22%3A%20%22void%22%2C%20%22type%22%3A%20%22invalid%22%7D%2C%20%22columnNames%22%3A%20%7B%2206HEI96KZOTRYJ%22%3A%20%22%22%2C%20%22XL3CQFEJRHWUF3%22%3A%20%22%22%2C%20%22YODMMR8OTOYSND%22%3A%20%22%22%2C%20%22XNWKI1HRRU3HBM%22%3A%20%22%22%2C%20%2258SQX2CG3H25P3%22%3A%20%22%22%7D%2C%20%22columnSelectFunctions%22%3A%20%7B%2206HEI96KZOTRYJ%22%3A%20%7B%22nodeType%22%3A%20%22output%22%2C%20%22type%22%3A%20%7B%22type%22%3A%20%22list%22%2C%20%22objectType%22%3A%20%22float%22%7D%2C%20%22fromOp%22%3A%20%7B%22name%22%3A%20%22pick%22%2C%20%22inputs%22%3A%20%7B%22obj%22%3A%20%7B%22nodeType%22%3A%20%22var%22%2C%20%22type%22%3A%20%7B%22type%22%3A%20%22typedDict%22%2C%20%22propertyTypes%22%3A%20%7B%22id%22%3A%20%22string%22%2C%20%22x%22%3A%20%7B%22type%22%3A%20%22list%22%2C%20%22objectType%22%3A%20%22float%22%7D%2C%20%22y%22%3A%20%7B%22type%22%3A%20%22list%22%2C%20%22objectType%22%3A%20%22float%22%7D%7D%7D%2C%20%22varName%22%3A%20%22row%22%7D%2C%20%22key%22%3A%20%7B%22nodeType%22%3A%20%22const%22%2C%20%22type%22%3A%20%7B%22type%22%3A%20%22const%22%2C%20%22valType%22%3A%20%22string%22%2C%20%22val%22%3A%20%22x%22%7D%2C%20%22val%22%3A%20%22x%22%7D%7D%7D%7D%2C%20%22XL3CQFEJRHWUF3%22%3A%20%7B%22nodeType%22%3A%20%22output%22%2C%20%22type%22%3A%20%7B%22type%22%3A%20%22list%22%2C%20%22objectType%22%3A%20%22float%22%7D%2C%20%22fromOp%22%3A%20%7B%22name%22%3A%20%22pick%22%2C%20%22inputs%22%3A%20%7B%22obj%22%3A%20%7B%22nodeType%22%3A%20%22var%22%2C%20%22type%22%3A%20%7B%22type%22%3A%20%22typedDict%22%2C%20%22propertyTypes%22%3A%20%7B%22id%22%3A%20%22string%22%2C%20%22x%22%3A%20%7B%22type%22%3A%20%22list%22%2C%20%22objectType%22%3A%20%22float%22%7D%2C%20%22y%22%3A%20%7B%22type%22%3A%20%22list%22%2C%20%22objectType%22%3A%20%22float%22%7D%7D%7D%2C%20%22varName%22%3A%20%22row%22%7D%2C%20%22key%22%3A%20%7B%22nodeType%22%3A%20%22const%22%2C%20%22type%22%3A%20%7B%22type%22%3A%20%22const%22%2C%20%22valType%22%3A%20%22string%22%2C%20%22val%22%3A%20%22y%22%7D%2C%20%22val%22%3A%20%22y%22%7D%7D%7D%7D%2C%20%22YODMMR8OTOYSND%22%3A%20%7B%22nodeType%22%3A%20%22void%22%2C%20%22type%22%3A%20%22invalid%22%7D%2C%20%22XNWKI1HRRU3HBM%22%3A%20%7B%22nodeType%22%3A%20%22output%22%2C%20%22type%22%3A%20%22string%22%2C%20%22fromOp%22%3A%20%7B%22name%22%3A%20%22pick%22%2C%20%22inputs%22%3A%20%7B%22obj%22%3A%20%7B%22nodeType%22%3A%20%22var%22%2C%20%22type%22%3A%20%7B%22type%22%3A%20%22typedDict%22%2C%20%22propertyTypes%22%3A%20%7B%22id%22%3A%20%22string%22%2C%20%22x%22%3A%20%7B%22type%22%3A%20%22list%22%2C%20%22objectType%22%3A%20%22float%22%7D%2C%20%22y%22%3A%20%7B%22type%22%3A%20%22list%22%2C%20%22objectType%22%3A%20%22float%22%7D%7D%7D%2C%20%22varName%22%3A%20%22row%22%7D%2C%20%22key%22%3A%20%7B%22nodeType%22%3A%20%22const%22%2C%20%22type%22%3A%20%7B%22type%22%3A%20%22const%22%2C%20%22valType%22%3A%20%22string%22%2C%20%22val%22%3A%20%22id%22%7D%2C%20%22val%22%3A%20%22id%22%7D%7D%7D%7D%2C%20%2258SQX2CG3H25P3%22%3A%20%7B%22nodeType%22%3A%20%22void%22%2C%20%22type%22%3A%20%22invalid%22%7D%7D%2C%20%22order%22%3A%20%5B%2206HEI96KZOTRYJ%22%2C%20%22XL3CQFEJRHWUF3%22%2C%20%22YODMMR8OTOYSND%22%2C%20%22XNWKI1HRRU3HBM%22%2C%20%2258SQX2CG3H25P3%22%5D%2C%20%22groupBy%22%3A%20%5B%5D%2C%20%22sort%22%3A%20%5B%5D%2C%20%22pageSize%22%3A%2010%2C%20%22page%22%3A%200%7D%2C%20%22dims%22%3A%20%7B%22x%22%3A%20%2206HEI96KZOTRYJ%22%2C%20%22y%22%3A%20%22XL3CQFEJRHWUF3%22%2C%20%22color%22%3A%20%22YODMMR8OTOYSND%22%2C%20%22label%22%3A%20%22XNWKI1HRRU3HBM%22%2C%20%22tooltip%22%3A%20%2258SQX2CG3H25P3%22%7D%2C%20%22mark%22%3A%20null%7D\"\n",
       "            frameborder=\"0\"\n",
       "            allowfullscreen\n",
       "            \n",
       "        ></iframe>\n",
       "        "
      ],
      "text/plain": [
       "<IPython.lib.display.IFrame at 0x137d68730>"
      ]
     },
     "metadata": {},
     "output_type": "display_data"
    }
   ],
   "source": [
    "run_data = []\n",
    "xs = [i / 1000.0 for i in range(0, 1000)]\n",
    "for run in range(3):\n",
    "  run_data.append({\n",
    "      'id': 'id-%s' % run,\n",
    "      'x': xs,\n",
    "      'y': [math.sin(10 * x / (run+1)) for x in xs]\n",
    "  })\n",
    "plot = weave.panels.Plot(run_data)\n",
    "plot.set_x(lambda row: row['x'])\n",
    "plot.set_y(lambda row: row['y'])\n",
    "plot.set_label(lambda row: row['id'])\n",
    "weave.show(plot)"
   ]
  },
  {
   "cell_type": "code",
   "execution_count": 6,
   "id": "5f9b0741",
   "metadata": {},
   "outputs": [
    {
     "data": {
      "text/html": [
       "\n",
       "        <iframe\n",
       "            width=\"100%\"\n",
       "            height=\"400px\"\n",
       "            src=\"http://localhost:3000/index.html?fullScreen&expNode=%7B%22nodeType%22%3A%20%22output%22%2C%20%22type%22%3A%20%7B%22type%22%3A%20%22list%22%2C%20%22objectType%22%3A%20%7B%22type%22%3A%20%22typedDict%22%2C%20%22propertyTypes%22%3A%20%7B%22x%22%3A%20%22float%22%2C%20%22series%22%3A%20%22string%22%2C%20%22y%22%3A%20%22float%22%7D%7D%7D%2C%20%22fromOp%22%3A%20%7B%22name%22%3A%20%22get%22%2C%20%22inputs%22%3A%20%7B%22uri%22%3A%20%7B%22nodeType%22%3A%20%22const%22%2C%20%22type%22%3A%20%7B%22type%22%3A%20%22const%22%2C%20%22valType%22%3A%20%22string%22%2C%20%22val%22%3A%20%22list-obj/8ab522e250ddb3f6ea269a04352fa0a6%22%7D%2C%20%22val%22%3A%20%22list-obj/8ab522e250ddb3f6ea269a04352fa0a6%22%7D%7D%7D%7D&panelId=plot&panelConfig=%7B%22table%22%3A%20%7B%22autoColumns%22%3A%20false%2C%20%22columns%22%3A%20%7B%22ZSDT0SQPSKPLMG%22%3A%20%7B%22panelId%22%3A%20%22%22%2C%20%22panelConfig%22%3A%20null%7D%2C%20%22IIVYQ69SQYBZL6%22%3A%20%7B%22panelId%22%3A%20%22%22%2C%20%22panelConfig%22%3A%20null%7D%2C%20%22AG54AC7AK3TASN%22%3A%20%7B%22panelId%22%3A%20%22%22%2C%20%22panelConfig%22%3A%20null%7D%2C%20%22QHSUHOOZX56W5Z%22%3A%20%7B%22panelId%22%3A%20%22%22%2C%20%22panelConfig%22%3A%20null%7D%2C%20%22PS5X5DC3YODK8S%22%3A%20%7B%22panelId%22%3A%20%22%22%2C%20%22panelConfig%22%3A%20null%7D%7D%2C%20%22preFilterFunction%22%3A%20%7B%22nodeType%22%3A%20%22void%22%2C%20%22type%22%3A%20%22invalid%22%7D%2C%20%22columnNames%22%3A%20%7B%22ZSDT0SQPSKPLMG%22%3A%20%22%22%2C%20%22IIVYQ69SQYBZL6%22%3A%20%22%22%2C%20%22AG54AC7AK3TASN%22%3A%20%22%22%2C%20%22QHSUHOOZX56W5Z%22%3A%20%22%22%2C%20%22PS5X5DC3YODK8S%22%3A%20%22%22%7D%2C%20%22columnSelectFunctions%22%3A%20%7B%22ZSDT0SQPSKPLMG%22%3A%20%7B%22nodeType%22%3A%20%22output%22%2C%20%22type%22%3A%20%22float%22%2C%20%22fromOp%22%3A%20%7B%22name%22%3A%20%22pick%22%2C%20%22inputs%22%3A%20%7B%22obj%22%3A%20%7B%22nodeType%22%3A%20%22var%22%2C%20%22type%22%3A%20%7B%22type%22%3A%20%22typedDict%22%2C%20%22propertyTypes%22%3A%20%7B%22x%22%3A%20%22float%22%2C%20%22series%22%3A%20%22string%22%2C%20%22y%22%3A%20%22float%22%7D%7D%2C%20%22varName%22%3A%20%22row%22%7D%2C%20%22key%22%3A%20%7B%22nodeType%22%3A%20%22const%22%2C%20%22type%22%3A%20%7B%22type%22%3A%20%22const%22%2C%20%22valType%22%3A%20%22string%22%2C%20%22val%22%3A%20%22x%22%7D%2C%20%22val%22%3A%20%22x%22%7D%7D%7D%7D%2C%20%22IIVYQ69SQYBZL6%22%3A%20%7B%22nodeType%22%3A%20%22output%22%2C%20%22type%22%3A%20%22float%22%2C%20%22fromOp%22%3A%20%7B%22name%22%3A%20%22pick%22%2C%20%22inputs%22%3A%20%7B%22obj%22%3A%20%7B%22nodeType%22%3A%20%22var%22%2C%20%22type%22%3A%20%7B%22type%22%3A%20%22typedDict%22%2C%20%22propertyTypes%22%3A%20%7B%22x%22%3A%20%22float%22%2C%20%22series%22%3A%20%22string%22%2C%20%22y%22%3A%20%22float%22%7D%7D%2C%20%22varName%22%3A%20%22row%22%7D%2C%20%22key%22%3A%20%7B%22nodeType%22%3A%20%22const%22%2C%20%22type%22%3A%20%7B%22type%22%3A%20%22const%22%2C%20%22valType%22%3A%20%22string%22%2C%20%22val%22%3A%20%22y%22%7D%2C%20%22val%22%3A%20%22y%22%7D%7D%7D%7D%2C%20%22AG54AC7AK3TASN%22%3A%20%7B%22nodeType%22%3A%20%22void%22%2C%20%22type%22%3A%20%22invalid%22%7D%2C%20%22QHSUHOOZX56W5Z%22%3A%20%7B%22nodeType%22%3A%20%22output%22%2C%20%22type%22%3A%20%22string%22%2C%20%22fromOp%22%3A%20%7B%22name%22%3A%20%22pick%22%2C%20%22inputs%22%3A%20%7B%22obj%22%3A%20%7B%22nodeType%22%3A%20%22var%22%2C%20%22type%22%3A%20%7B%22type%22%3A%20%22typedDict%22%2C%20%22propertyTypes%22%3A%20%7B%22x%22%3A%20%22float%22%2C%20%22series%22%3A%20%22string%22%2C%20%22y%22%3A%20%22float%22%7D%7D%2C%20%22varName%22%3A%20%22row%22%7D%2C%20%22key%22%3A%20%7B%22nodeType%22%3A%20%22const%22%2C%20%22type%22%3A%20%7B%22type%22%3A%20%22const%22%2C%20%22valType%22%3A%20%22string%22%2C%20%22val%22%3A%20%22series%22%7D%2C%20%22val%22%3A%20%22series%22%7D%7D%7D%7D%2C%20%22PS5X5DC3YODK8S%22%3A%20%7B%22nodeType%22%3A%20%22void%22%2C%20%22type%22%3A%20%22invalid%22%7D%7D%2C%20%22order%22%3A%20%5B%22ZSDT0SQPSKPLMG%22%2C%20%22IIVYQ69SQYBZL6%22%2C%20%22AG54AC7AK3TASN%22%2C%20%22QHSUHOOZX56W5Z%22%2C%20%22PS5X5DC3YODK8S%22%5D%2C%20%22groupBy%22%3A%20%5B%5D%2C%20%22sort%22%3A%20%5B%5D%2C%20%22pageSize%22%3A%2010%2C%20%22page%22%3A%200%7D%2C%20%22dims%22%3A%20%7B%22x%22%3A%20%22ZSDT0SQPSKPLMG%22%2C%20%22y%22%3A%20%22IIVYQ69SQYBZL6%22%2C%20%22color%22%3A%20%22AG54AC7AK3TASN%22%2C%20%22label%22%3A%20%22QHSUHOOZX56W5Z%22%2C%20%22tooltip%22%3A%20%22PS5X5DC3YODK8S%22%7D%2C%20%22mark%22%3A%20%22line%22%7D\"\n",
       "            frameborder=\"0\"\n",
       "            allowfullscreen\n",
       "            \n",
       "        ></iframe>\n",
       "        "
      ],
      "text/plain": [
       "<IPython.lib.display.IFrame at 0x137e10e20>"
      ]
     },
     "metadata": {},
     "output_type": "display_data"
    }
   ],
   "source": [
    "import pandas as pd\n",
    "df = pd.DataFrame()\n",
    "df['x'] = [i / 1000.0 for i in range(0, 1000)]\n",
    "df['y1'] = df['x'].map(lambda x: math.sin(10 * x / 1))\n",
    "df['y2'] = df['x'].map(lambda x: math.sin(10 * x / 2))\n",
    "df['y3'] = df['x'].map(lambda x: math.sin(10 * x / 3))\n",
    "\n",
    "# df.melt converts to a table with three columns: x, series, y\n",
    "df = df.melt(id_vars=['x'], value_vars=['y1', 'y2', 'y3'], var_name='series', value_name='y')\n",
    "\n",
    "multiple_y = df.to_dict('records')\n",
    "plot = weave.panels.Plot(multiple_y)\n",
    "plot.set_x(lambda row: row['x'])\n",
    "plot.set_y(lambda row: row['y'])\n",
    "plot.set_label(lambda row: row['series'])\n",
    "plot.set_mark('line')\n",
    "weave.show(plot)"
   ]
  },
  {
   "cell_type": "code",
   "execution_count": 5,
   "id": "07752656",
   "metadata": {},
   "outputs": [
    {
     "data": {
      "text/html": [
       "\n",
       "        <iframe\n",
       "            width=\"100%\"\n",
       "            height=\"400px\"\n",
       "            src=\"http://localhost:3000/index.html?fullScreen&expNode=%7B%22nodeType%22%3A%20%22output%22%2C%20%22type%22%3A%20%7B%22type%22%3A%20%22list%22%2C%20%22objectType%22%3A%20%7B%22type%22%3A%20%22typedDict%22%2C%20%22propertyTypes%22%3A%20%7B%22x%22%3A%20%22float%22%2C%20%22y1%22%3A%20%22float%22%2C%20%22y2%22%3A%20%22float%22%2C%20%22y3%22%3A%20%22float%22%7D%7D%7D%2C%20%22fromOp%22%3A%20%7B%22name%22%3A%20%22get%22%2C%20%22inputs%22%3A%20%7B%22uri%22%3A%20%7B%22nodeType%22%3A%20%22const%22%2C%20%22type%22%3A%20%7B%22type%22%3A%20%22const%22%2C%20%22valType%22%3A%20%22string%22%2C%20%22val%22%3A%20%22list-obj/1ea1671683c0079a9a3109214a4b78f5%22%7D%2C%20%22val%22%3A%20%22list-obj/1ea1671683c0079a9a3109214a4b78f5%22%7D%7D%7D%7D&panelId=plot&panelConfig=%7B%22table%22%3A%20%7B%22autoColumns%22%3A%20false%2C%20%22columns%22%3A%20%7B%222N23C39I3OD6PO%22%3A%20%7B%22panelId%22%3A%20%22%22%2C%20%22panelConfig%22%3A%20null%7D%2C%20%22MXETYC2LXEZLZ1%22%3A%20%7B%22panelId%22%3A%20%22%22%2C%20%22panelConfig%22%3A%20null%7D%2C%20%22NUK1IDDOQ8MRBI%22%3A%20%7B%22panelId%22%3A%20%22%22%2C%20%22panelConfig%22%3A%20null%7D%2C%20%22LZ1QY9MQ0GA8BA%22%3A%20%7B%22panelId%22%3A%20%22%22%2C%20%22panelConfig%22%3A%20null%7D%2C%20%22QXYMA8P0R2GB3B%22%3A%20%7B%22panelId%22%3A%20%22%22%2C%20%22panelConfig%22%3A%20null%7D%7D%2C%20%22preFilterFunction%22%3A%20%7B%22nodeType%22%3A%20%22void%22%2C%20%22type%22%3A%20%22invalid%22%7D%2C%20%22columnNames%22%3A%20%7B%222N23C39I3OD6PO%22%3A%20%22%22%2C%20%22MXETYC2LXEZLZ1%22%3A%20%22%22%2C%20%22NUK1IDDOQ8MRBI%22%3A%20%22%22%2C%20%22LZ1QY9MQ0GA8BA%22%3A%20%22%22%2C%20%22QXYMA8P0R2GB3B%22%3A%20%22%22%7D%2C%20%22columnSelectFunctions%22%3A%20%7B%222N23C39I3OD6PO%22%3A%20%7B%22nodeType%22%3A%20%22output%22%2C%20%22type%22%3A%20%22float%22%2C%20%22fromOp%22%3A%20%7B%22name%22%3A%20%22pick%22%2C%20%22inputs%22%3A%20%7B%22obj%22%3A%20%7B%22nodeType%22%3A%20%22var%22%2C%20%22type%22%3A%20%7B%22type%22%3A%20%22typedDict%22%2C%20%22propertyTypes%22%3A%20%7B%22x%22%3A%20%22float%22%2C%20%22y1%22%3A%20%22float%22%2C%20%22y2%22%3A%20%22float%22%2C%20%22y3%22%3A%20%22float%22%7D%7D%2C%20%22varName%22%3A%20%22row%22%7D%2C%20%22key%22%3A%20%7B%22nodeType%22%3A%20%22const%22%2C%20%22type%22%3A%20%7B%22type%22%3A%20%22const%22%2C%20%22valType%22%3A%20%22string%22%2C%20%22val%22%3A%20%22x%22%7D%2C%20%22val%22%3A%20%22x%22%7D%7D%7D%7D%2C%20%22MXETYC2LXEZLZ1%22%3A%20%7B%22nodeType%22%3A%20%22output%22%2C%20%22type%22%3A%20%7B%22type%22%3A%20%22list%22%2C%20%22objectType%22%3A%20%22float%22%7D%2C%20%22fromOp%22%3A%20%7B%22name%22%3A%20%22list%22%2C%20%22inputs%22%3A%20%7B%22i0%22%3A%20%7B%22nodeType%22%3A%20%22output%22%2C%20%22type%22%3A%20%22float%22%2C%20%22fromOp%22%3A%20%7B%22name%22%3A%20%22pick%22%2C%20%22inputs%22%3A%20%7B%22obj%22%3A%20%7B%22nodeType%22%3A%20%22var%22%2C%20%22type%22%3A%20%7B%22type%22%3A%20%22typedDict%22%2C%20%22propertyTypes%22%3A%20%7B%22x%22%3A%20%22float%22%2C%20%22y1%22%3A%20%22float%22%2C%20%22y2%22%3A%20%22float%22%2C%20%22y3%22%3A%20%22float%22%7D%7D%2C%20%22varName%22%3A%20%22row%22%7D%2C%20%22key%22%3A%20%7B%22nodeType%22%3A%20%22const%22%2C%20%22type%22%3A%20%7B%22type%22%3A%20%22const%22%2C%20%22valType%22%3A%20%22string%22%2C%20%22val%22%3A%20%22y1%22%7D%2C%20%22val%22%3A%20%22y1%22%7D%7D%7D%7D%2C%20%22i1%22%3A%20%7B%22nodeType%22%3A%20%22output%22%2C%20%22type%22%3A%20%22float%22%2C%20%22fromOp%22%3A%20%7B%22name%22%3A%20%22pick%22%2C%20%22inputs%22%3A%20%7B%22obj%22%3A%20%7B%22nodeType%22%3A%20%22var%22%2C%20%22type%22%3A%20%7B%22type%22%3A%20%22typedDict%22%2C%20%22propertyTypes%22%3A%20%7B%22x%22%3A%20%22float%22%2C%20%22y1%22%3A%20%22float%22%2C%20%22y2%22%3A%20%22float%22%2C%20%22y3%22%3A%20%22float%22%7D%7D%2C%20%22varName%22%3A%20%22row%22%7D%2C%20%22key%22%3A%20%7B%22nodeType%22%3A%20%22const%22%2C%20%22type%22%3A%20%7B%22type%22%3A%20%22const%22%2C%20%22valType%22%3A%20%22string%22%2C%20%22val%22%3A%20%22y2%22%7D%2C%20%22val%22%3A%20%22y2%22%7D%7D%7D%7D%2C%20%22i2%22%3A%20%7B%22nodeType%22%3A%20%22output%22%2C%20%22type%22%3A%20%22float%22%2C%20%22fromOp%22%3A%20%7B%22name%22%3A%20%22pick%22%2C%20%22inputs%22%3A%20%7B%22obj%22%3A%20%7B%22nodeType%22%3A%20%22var%22%2C%20%22type%22%3A%20%7B%22type%22%3A%20%22typedDict%22%2C%20%22propertyTypes%22%3A%20%7B%22x%22%3A%20%22float%22%2C%20%22y1%22%3A%20%22float%22%2C%20%22y2%22%3A%20%22float%22%2C%20%22y3%22%3A%20%22float%22%7D%7D%2C%20%22varName%22%3A%20%22row%22%7D%2C%20%22key%22%3A%20%7B%22nodeType%22%3A%20%22const%22%2C%20%22type%22%3A%20%7B%22type%22%3A%20%22const%22%2C%20%22valType%22%3A%20%22string%22%2C%20%22val%22%3A%20%22y3%22%7D%2C%20%22val%22%3A%20%22y3%22%7D%7D%7D%7D%7D%7D%7D%2C%20%22NUK1IDDOQ8MRBI%22%3A%20%7B%22nodeType%22%3A%20%22void%22%2C%20%22type%22%3A%20%22invalid%22%7D%2C%20%22LZ1QY9MQ0GA8BA%22%3A%20%7B%22nodeType%22%3A%20%22output%22%2C%20%22type%22%3A%20%7B%22type%22%3A%20%22list%22%2C%20%22objectType%22%3A%20%22string%22%7D%2C%20%22fromOp%22%3A%20%7B%22name%22%3A%20%22list%22%2C%20%22inputs%22%3A%20%7B%22i0%22%3A%20%7B%22nodeType%22%3A%20%22const%22%2C%20%22type%22%3A%20%7B%22type%22%3A%20%22const%22%2C%20%22valType%22%3A%20%22string%22%2C%20%22val%22%3A%20%22y1%22%7D%2C%20%22val%22%3A%20%22y1%22%7D%2C%20%22i1%22%3A%20%7B%22nodeType%22%3A%20%22const%22%2C%20%22type%22%3A%20%7B%22type%22%3A%20%22const%22%2C%20%22valType%22%3A%20%22string%22%2C%20%22val%22%3A%20%22y2%22%7D%2C%20%22val%22%3A%20%22y2%22%7D%2C%20%22i2%22%3A%20%7B%22nodeType%22%3A%20%22const%22%2C%20%22type%22%3A%20%7B%22type%22%3A%20%22const%22%2C%20%22valType%22%3A%20%22string%22%2C%20%22val%22%3A%20%22y3%22%7D%2C%20%22val%22%3A%20%22y3%22%7D%7D%7D%7D%2C%20%22QXYMA8P0R2GB3B%22%3A%20%7B%22nodeType%22%3A%20%22void%22%2C%20%22type%22%3A%20%22invalid%22%7D%7D%2C%20%22order%22%3A%20%5B%222N23C39I3OD6PO%22%2C%20%22MXETYC2LXEZLZ1%22%2C%20%22NUK1IDDOQ8MRBI%22%2C%20%22LZ1QY9MQ0GA8BA%22%2C%20%22QXYMA8P0R2GB3B%22%5D%2C%20%22groupBy%22%3A%20%5B%5D%2C%20%22sort%22%3A%20%5B%5D%2C%20%22pageSize%22%3A%2010%2C%20%22page%22%3A%200%7D%2C%20%22dims%22%3A%20%7B%22x%22%3A%20%222N23C39I3OD6PO%22%2C%20%22y%22%3A%20%22MXETYC2LXEZLZ1%22%2C%20%22color%22%3A%20%22NUK1IDDOQ8MRBI%22%2C%20%22label%22%3A%20%22LZ1QY9MQ0GA8BA%22%2C%20%22tooltip%22%3A%20%22QXYMA8P0R2GB3B%22%7D%2C%20%22mark%22%3A%20%22line%22%7D\"\n",
       "            frameborder=\"0\"\n",
       "            allowfullscreen\n",
       "            \n",
       "        ></iframe>\n",
       "        "
      ],
      "text/plain": [
       "<IPython.lib.display.IFrame at 0x137e74e20>"
      ]
     },
     "metadata": {},
     "output_type": "display_data"
    }
   ],
   "source": [
    "import pandas as pd\n",
    "df = pd.DataFrame()\n",
    "df['x'] = [i / 1000.0 for i in range(0, 1000)]\n",
    "df['y1'] = df['x'].map(lambda x: math.sin(10 * x / 1))\n",
    "df['y2'] = df['x'].map(lambda x: math.sin(10 * x / 2))\n",
    "df['y3'] = df['x'].map(lambda x: math.sin(10 * x / 3))\n",
    "multiple_y = df.to_dict('records')\n",
    "\n",
    "plot = weave.panels.Plot(multiple_y)\n",
    "plot.set_x(lambda row: row['x'])\n",
    "plot.set_y(lambda row: [row['y1'], row['y2'], row['y3']])\n",
    "plot.set_label(lambda row: ['y1', 'y2', 'y3'])\n",
    "plot.set_mark('line')\n",
    "weave.show(plot)"
   ]
  }
 ],
 "metadata": {
  "kernelspec": {
   "display_name": "Python 3 (ipykernel)",
   "language": "python",
   "name": "python3"
  },
  "language_info": {
   "codemirror_mode": {
    "name": "ipython",
    "version": 3
   },
   "file_extension": ".py",
   "mimetype": "text/x-python",
   "name": "python",
   "nbconvert_exporter": "python",
   "pygments_lexer": "ipython3",
   "version": "3.9.7"
  }
 },
 "nbformat": 4,
 "nbformat_minor": 5
}
