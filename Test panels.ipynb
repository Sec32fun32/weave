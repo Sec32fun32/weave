{
 "cells": [
  {
   "cell_type": "code",
   "execution_count": 1,
   "id": "2352b8c7",
   "metadata": {},
   "outputs": [],
   "source": [
    "import weave\n",
    "weave.use_frontend_devmode()\n",
    "from rich import print"
   ]
  },
  {
   "cell_type": "code",
   "execution_count": 3,
   "id": "ecd3ff99",
   "metadata": {},
   "outputs": [],
   "source": [
    "metrics = weave.save([\"a\", \"b\", 'c'])\n",
    "data = weave.save([\n",
    "    {\"a\": [0, 1], \"b\": [2, 3], 'c': [-1, 2]},\n",
    "    {\"a\": [4, 5], \"b\": [6, 7], 'c': [2, 9]}])\n",
    "\n",
    "panel = weave.panels.Each(\n",
    "    metrics,\n",
    "    render=lambda metric_name: weave.panels.Plot(\n",
    "        data,\n",
    "        x=lambda row: row[metric_name][0],\n",
    "        y=lambda row: row[metric_name][1],\n",
    "    ),\n",
    ")"
   ]
  },
  {
   "cell_type": "code",
   "execution_count": 4,
   "id": "a431cdab",
   "metadata": {},
   "outputs": [
    {
     "data": {
      "text/html": [
       "\n",
       "        <iframe\n",
       "            width=\"100%\"\n",
       "            height=\"400px\"\n",
       "            src=\"http://localhost:3000/__frontend/weave_jupyter?fullScreen&expNode=%7B%22nodeType%22%3A%20%22output%22%2C%20%22type%22%3A%20%22unknown%22%2C%20%22fromOp%22%3A%20%7B%22name%22%3A%20%22get%22%2C%20%22inputs%22%3A%20%7B%22uri%22%3A%20%7B%22nodeType%22%3A%20%22const%22%2C%20%22type%22%3A%20%22string%22%2C%20%22val%22%3A%20%22local-artifact%3A///tmp/local-artifacts/Each/e524185a772226796e02a49d5bcef42c%22%7D%7D%7D%7D\"\n",
       "            frameborder=\"0\"\n",
       "            allowfullscreen\n",
       "            \n",
       "        ></iframe>\n",
       "        "
      ],
      "text/plain": [
       "<IPython.lib.display.IFrame at 0x16c5313a0>"
      ]
     },
     "metadata": {},
     "output_type": "display_data"
    }
   ],
   "source": [
    "weave.show(panel)"
   ]
  },
  {
   "cell_type": "code",
   "execution_count": null,
   "id": "c085b353",
   "metadata": {},
   "outputs": [],
   "source": [
    "#weave.type_of(panel)"
   ]
  },
  {
   "cell_type": "code",
   "execution_count": null,
   "id": "67452c58",
   "metadata": {},
   "outputs": [],
   "source": [
    "# from weave import storage\n",
    "# ref = storage.save(panel)"
   ]
  },
  {
   "cell_type": "code",
   "execution_count": null,
   "id": "075b4c9e",
   "metadata": {
    "scrolled": false
   },
   "outputs": [],
   "source": [
    "#!python -m json.tool {ref.artifact._read_dirname}/_obj.object.json"
   ]
  },
  {
   "cell_type": "code",
   "execution_count": null,
   "id": "f478de82",
   "metadata": {},
   "outputs": [],
   "source": [
    "# data = weave.save([1, 2, 3, 4])\n",
    "# plot = weave.panels.Plot(data,\n",
    "#                         x=lambda row: row,\n",
    "#                         y=lambda row: row*row)"
   ]
  },
  {
   "cell_type": "code",
   "execution_count": null,
   "id": "c29a3e63",
   "metadata": {
    "scrolled": false
   },
   "outputs": [],
   "source": [
    "#weave.show(plot)"
   ]
  }
 ],
 "metadata": {
  "kernelspec": {
   "display_name": "Python 3 (ipykernel)",
   "language": "python",
   "name": "python3"
  },
  "language_info": {
   "codemirror_mode": {
    "name": "ipython",
    "version": 3
   },
   "file_extension": ".py",
   "mimetype": "text/x-python",
   "name": "python",
   "nbconvert_exporter": "python",
   "pygments_lexer": "ipython3",
   "version": "3.9.7"
  }
 },
 "nbformat": 4,
 "nbformat_minor": 5
}
