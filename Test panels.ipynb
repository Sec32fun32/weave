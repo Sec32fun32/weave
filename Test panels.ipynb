{
 "cells": [
  {
   "cell_type": "code",
   "execution_count": null,
   "id": "2352b8c7",
   "metadata": {},
   "outputs": [],
   "source": [
    "import weave\n",
    "weave.use_frontend_devmode()\n",
    "from rich import print"
   ]
  },
  {
   "cell_type": "code",
   "execution_count": null,
   "id": "ecd3ff99",
   "metadata": {},
   "outputs": [],
   "source": [
    "metrics = weave.save([\"a\", \"b\", 'c'])\n",
    "data = weave.save([\n",
    "    {\"a\": [0, 1], \"b\": [2, 3], 'c': [-1, 2]},\n",
    "    {\"a\": [4, 5], \"b\": [6, 7], 'c': [2, 9]}])\n",
    "\n",
    "panel = weave.panels.Each(\n",
    "    metrics,\n",
    "    render=lambda metric_name: weave.panels.Plot(\n",
    "        data,\n",
    "        x=lambda row: row[metric_name][0],\n",
    "        y=lambda row: row[metric_name][1],\n",
    "    ),\n",
    ")"
   ]
  },
  {
   "cell_type": "code",
   "execution_count": null,
   "id": "a431cdab",
   "metadata": {},
   "outputs": [],
   "source": [
    "weave.show(panel)"
   ]
  },
  {
   "cell_type": "code",
   "execution_count": null,
   "id": "c085b353",
   "metadata": {},
   "outputs": [],
   "source": [
    "#weave.type_of(panel)"
   ]
  },
  {
   "cell_type": "code",
   "execution_count": null,
   "id": "67452c58",
   "metadata": {},
   "outputs": [],
   "source": [
    "# from weave import storage\n",
    "# ref = storage.save(panel)"
   ]
  },
  {
   "cell_type": "code",
   "execution_count": null,
   "id": "075b4c9e",
   "metadata": {},
   "outputs": [],
   "source": [
    "#!python -m json.tool {ref.artifact._read_dirname}/_obj.object.json"
   ]
  },
  {
   "cell_type": "code",
   "execution_count": null,
   "id": "f478de82",
   "metadata": {},
   "outputs": [],
   "source": [
    "# data = weave.save([1, 2, 3, 4])\n",
    "# plot = weave.panels.Plot(data,\n",
    "#                         x=lambda row: row,\n",
    "#                         y=lambda row: row*row)"
   ]
  },
  {
   "cell_type": "code",
   "execution_count": null,
   "id": "c29a3e63",
   "metadata": {},
   "outputs": [],
   "source": [
    "#weave.show(plot)"
   ]
  }
 ],
 "metadata": {
  "kernelspec": {
   "display_name": "Python 3 (ipykernel)",
   "language": "python",
   "name": "python3"
  }
 },
 "nbformat": 4,
 "nbformat_minor": 5
}
